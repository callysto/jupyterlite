{
  "metadata": {
    "kernelspec": {
      "name": "python",
      "display_name": "Python (Pyodide)",
      "language": "python"
    },
    "language_info": {
      "codemirror_mode": {
        "name": "python",
        "version": 3
      },
      "file_extension": ".py",
      "mimetype": "text/x-python",
      "name": "python",
      "nbconvert_exporter": "python",
      "pygments_lexer": "ipython3",
      "version": "3.8"
    }
  },
  "nbformat_minor": 5,
  "nbformat": 4,
  "cells": [
    {
      "id": "a954153d",
      "cell_type": "markdown",
      "source": "![Callysto.ca Banner](https://github.com/callysto/curriculum-notebooks/blob/master/callysto-notebook-banner-top.jpg?raw=true)\n\n",
      "metadata": {}
    },
    {
      "id": "f10f5b13",
      "cell_type": "markdown",
      "source": "## Phidget_3 Slider\n\nIn this notebook, we use a simple slider widget to display the humidity, updating live as the values change.\n\nYou will also have the chance to create your own widget to display temperaure.\n\nIt is important to run this notebook in the Google Chrome web browser, on a desktop or laptop computer. It also will work with Chromium, Opera and Edge. Unfortunately, other browsers (FireFox, Safari) will not work as they cannot access the USB port that connects to the Phidget device. That may change in the future, but at the time of writing, this is currently only possible in Chrome/Chromium/Opera/Edge.",
      "metadata": {}
    },
    {
      "id": "ab1a57f3",
      "cell_type": "markdown",
      "source": "## Setting up the Phidget device\n\nWe will be using the Phidget Starter Kit, as shown in this figure:\n<img src=\"images/KIT4003.jpg\" alt=\"Image of the starter kit\"  width = 500 />\n\nVerify these points:\n- Get a hold of a Phidgets Starter Kit. It should already be assembled. If not, assemble it now.\n    - You will have received instructions with the kit on how to assemble it.\n- The Starter Kit has a temperature/humidity sensor attached. If it does not, find the sensor and attach it.\n    - The humidity sensor is a small black box attached with a thin cable. It is marked with the initials \"HUM.\"\n- Connect the Starter Kit to your computer with a USB cable. \n    - The Kit come with a USB cable, it is attached to the Hub device inside the Starter Kit.\n- If you have an older version of the Phidgets, you may need to update its firmware. See the following for details:\n    - https://www.phidgets.com/education/educators/advanced-troubleshooting/firmware-upgrade/\n- As mentioned earlier, make sure you are running this notebook in the Google Chrome browser. ",
      "metadata": {}
    },
    {
      "id": "78948ba1",
      "cell_type": "markdown",
      "source": "## Creating a widget\n\nThe **ipywidgets** module contain several interactive \"objects\" like sliders, buttons, and more, that we can use to interact with the Jupyter notebook. They are \"live\" in the sense that the get updated automatically when their values are changed by some other process, like our Phidgets code in JavaScript. \n\nSo we create here a slider, using floating point values, to display the humidity. \n\nThe slider is stored in a variable we call **f** and we can show it with the command **display(f)**.\n\nOf course, this is the data structure we say above in the JavaScript code, so that code talks to this displayed slider. \n\n",
      "metadata": {}
    },
    {
      "id": "4e878c9c-e38b-4355-85b2-0ca8f85d5c01",
      "cell_type": "code",
      "source": "%pip install ipywidgets",
      "metadata": {
        "trusted": true
      },
      "outputs": [],
      "execution_count": 2
    },
    {
      "id": "e71775a6",
      "cell_type": "code",
      "source": "from ipywidgets import FloatSlider, link\n\nf = FloatSlider(\n    value=50.0,\n    min=0.0,\n    max=80.0,\n    description='Humidity '\n)\n\ndisplay(f)",
      "metadata": {
        "trusted": true
      },
      "outputs": [
        {
          "output_type": "display_data",
          "data": {
            "text/plain": "FloatSlider(value=50.0, description='Humidity ', max=80.0)",
            "application/vnd.jupyter.widget-view+json": {
              "version_major": 2,
              "version_minor": 0,
              "model_id": "caa92bf56a5542f7bf8f30a1fbe2d0a5"
            }
          },
          "metadata": {}
        }
      ],
      "execution_count": 3
    },
    {
      "id": "a98b0940",
      "cell_type": "markdown",
      "source": "## What you should see\n\nJust above, you should see a slider titled **% Humidity** and a read-out  it showing the value of the humidity. The read-out number will be fixed at 50. Once we connect the Phidget, it should be changing as you watch it .\n\nDepending on where you live, and the humidity at that location, the number can vary wildly. If you want to narrow the range of possible values, feel free to modify the `min` and `max` values in the code above. Return to this after the next steps for a better idea of where to set that range.\n\nOnce connected, try breathing on the humidity sensor in your Phidget box, to see if you can make the numbers change.",
      "metadata": {}
    },
    {
      "id": "b2a833b9",
      "cell_type": "markdown",
      "source": "## Your turn\n\nNow you can try to create a temperature gauge.\n\nUse the example above, and create a FloatSlider and assign it to a new variable called **g**. This is the variable that the JavaScript refers to, in order to record the temperature values. Hint: it's normal, expected even, to copy and paste your code from earlier if you're reusing it.",
      "metadata": {}
    },
    {
      "id": "e80fed18",
      "cell_type": "code",
      "source": "## Put your code here. It should start with something like\n## g = FloatSlider(\n\n\n",
      "metadata": {},
      "outputs": [],
      "execution_count": 2
    },
    {
      "id": "0aad94cc",
      "cell_type": "markdown",
      "source": "## Setup the Phidget software\n\nAs in the earlier notebooks, the main steps are thus:\n\n1. Import some Python libraries\n2. Create the Phidget Widget as a software object to connect to the devices\n3. Display the widget and the slider\n4. Connect by pressing a button on screen\n5. Link the Phidget data to the slider, for live updates\n6. Create sliders to monitor both temperature and humidity\n\n",
      "metadata": {}
    },
    {
      "id": "9546d255",
      "cell_type": "markdown",
      "source": "## Step 1.\n\nLet's import a few Python libraries that we need. \n\nThe **anywidget** library is still in development, so we do a pip install if it is not already on the hub.  ",
      "metadata": {}
    },
    {
      "id": "e1732320",
      "cell_type": "code",
      "source": "%pip install anywidget   ",
      "metadata": {
        "trusted": true
      },
      "outputs": [],
      "execution_count": 4
    },
    {
      "id": "e967914a-ada3-422d-8be2-e60ab619cadb",
      "cell_type": "code",
      "source": "import anywidget",
      "metadata": {
        "trusted": true
      },
      "outputs": [],
      "execution_count": 5
    },
    {
      "id": "a06ef9ae",
      "cell_type": "markdown",
      "source": "## NOTE:\n\nIf the **install** or **import** above gives an error message, try running them aghain. If that doesn't work, try closing the notebook, shut down the kernel, then reopen the notebook. Run the cell again. After that, the library will be properly installed. ",
      "metadata": {}
    },
    {
      "id": "06b3a262",
      "cell_type": "code",
      "source": "import pathlib\nimport traitlets",
      "metadata": {
        "trusted": true
      },
      "outputs": [],
      "execution_count": 6
    },
    {
      "id": "99d428ab",
      "cell_type": "markdown",
      "source": "## Step 2.\n\nWe create the PhidgetFour class (software object) as an example of the **anywidget** models. The JS code for this tool is in the file **ph4auto.js** while the style file is in **ph4xx.css**. If you like, you can open this files in your browser to see what the code looks like.\n\nThe PhidgetFour object contains four Python variables (named temperature, humidity, moisture and luminance) which will contain the data from the sensors. ",
      "metadata": {}
    },
    {
      "id": "c3324f98",
      "cell_type": "code",
      "source": "class PhidgetsFour(anywidget.AnyWidget):\n    _esm = pathlib.Path(\"ph4auto.js\")\n    _css = pathlib.Path(\"ph4xx.css\")\n    # These 4 variables are used by the widget. Do not delete. \n    temperature = traitlets.Float(0).tag(sync=True)\n    humidity = traitlets.Float(0).tag(sync=True)\n    moisture = traitlets.Float(0).tag(sync=True)\n    luminance = traitlets.Float(0).tag(sync=True)\n\npf = PhidgetsFour()",
      "metadata": {
        "trusted": true
      },
      "outputs": [],
      "execution_count": 7
    },
    {
      "id": "a1ff0472",
      "cell_type": "markdown",
      "source": "## Step 3.\n\nWe now open and display the Phidget widget along with the slider.\n\nWhen you run the following cell, you should see a button displayed and some text, followed by the slider. ",
      "metadata": {}
    },
    {
      "id": "22fed6a5",
      "cell_type": "code",
      "source": "display(pf,f)",
      "metadata": {
        "trusted": true
      },
      "outputs": [
        {
          "output_type": "display_data",
          "data": {
            "text/plain": "PhidgetsFour()",
            "application/vnd.jupyter.widget-view+json": {
              "version_major": 2,
              "version_minor": 0,
              "model_id": "c46a08e442c24949bc1607d1969a6760"
            }
          },
          "metadata": {}
        },
        {
          "output_type": "display_data",
          "data": {
            "text/plain": "FloatSlider(value=50.0, description='Humidity ', max=80.0)",
            "application/vnd.jupyter.widget-view+json": {
              "version_major": 2,
              "version_minor": 0,
              "model_id": "caa92bf56a5542f7bf8f30a1fbe2d0a5"
            }
          },
          "metadata": {}
        }
      ],
      "execution_count": 8
    },
    {
      "id": "ffc16fe4",
      "cell_type": "markdown",
      "source": "## Step 4. \nClicking on the \"Connect\" button above will open a window that asks you to select the Phidget Hub. Select the hub and click \"Connect.\" The window looks like this:\n<img src=\"images/Pconnect.png\" alt=\"Hey\"  width = 300 />\n\nIf you don't get this window, perhaps you are using the wrong browser. (Use Chrome, Chromium, or Opera).\n\nIf you get the window but don't see the Phidget device, check to be sure the Phidget VINT hub is connected to your computer with a USB cable.",
      "metadata": {}
    },
    {
      "id": "6a64c2f5",
      "cell_type": "markdown",
      "source": "### Check:\nIf all is well, the status text will report that the USB port is connected and the device channels are open. You should also see the value for temperature and humidity\n\nIf you connected a moisture probe and the light detector from the Phidgets plant kit, you will see these values displayed as well. \n\nIf you don't see any values, check again that the Phidget VINT device is connected to your computer with a USB cable. Also check that you have a Phidget temperature/humidity sensor connected to your VINT with the appropriate cable. ",
      "metadata": {}
    },
    {
      "id": "069c1921",
      "cell_type": "markdown",
      "source": "## Step 5.\n\nNow we link the slider to the Phidgets. Run the following cell and you will see the slider update as the humidity changes.\n",
      "metadata": {}
    },
    {
      "id": "9bf68333",
      "cell_type": "code",
      "source": "l=link((f,'value'),(pf,'humidity'))",
      "metadata": {
        "trusted": true
      },
      "outputs": [],
      "execution_count": 9
    },
    {
      "id": "6513a481",
      "cell_type": "markdown",
      "source": "If you like, you can watch the slider all by itself. ",
      "metadata": {}
    },
    {
      "id": "670394ee",
      "cell_type": "code",
      "source": "display(f)",
      "metadata": {
        "trusted": true
      },
      "outputs": [
        {
          "output_type": "display_data",
          "data": {
            "text/plain": "FloatSlider(value=43.92, description='Humidity ', max=80.0)",
            "application/vnd.jupyter.widget-view+json": {
              "version_major": 2,
              "version_minor": 0,
              "model_id": "caa92bf56a5542f7bf8f30a1fbe2d0a5"
            }
          },
          "metadata": {}
        }
      ],
      "execution_count": 10
    },
    {
      "id": "9dbd06f3",
      "cell_type": "markdown",
      "source": "## Step 6. Putting it all together\n\nWe can put the two sliders together in one box, so we see how the humidity and temperature values change together. As before, feel free to adjust the ranges of the `min` and `max` to see the slider move in real-time.",
      "metadata": {}
    },
    {
      "id": "3a749836",
      "cell_type": "code",
      "source": "from ipywidgets import FloatSlider, HBox\n\nhum = FloatSlider(\n    value=50.0,\n    min=30.0,\n    max=80.0,\n    step=0.1,\n    description='Humidity ',\n    disabled=False,\n    continuous_update=False,\n    orientation='vertical',\n    readout=True,\n    readout_format='.2f',\n)\ntemp = FloatSlider(\n    value=20.0,\n    min=10.0,\n    max=30.0,\n    step=0.1,\n    description='Temperature',\n    disabled=False,\n    continuous_update=False,\n    orientation='vertical',\n    readout=True,\n    readout_format='.2f',\n)\n\nl1=link((hum,'value'),(pf,'humidity'))\nl2=link((temp,'value'),(pf,'temperature'))\n\ndisplay(HBox([hum, temp]))",
      "metadata": {
        "trusted": true
      },
      "outputs": [
        {
          "output_type": "display_data",
          "data": {
            "text/plain": "HBox(children=(FloatSlider(value=50.0, continuous_update=False, description='Humidity ', max=80.0, min=30.0, o…",
            "application/vnd.jupyter.widget-view+json": {
              "version_major": 2,
              "version_minor": 0,
              "model_id": "9a0e59eae9aa4e9c9b0386b13aff8f99"
            }
          },
          "metadata": {}
        }
      ],
      "execution_count": 11
    },
    {
      "id": "7609b5eb",
      "cell_type": "markdown",
      "source": "## Closing down the sensors\n\nIt is **really important** to close the sensors when you are done. Otherwise they will keep busy forever, always trying to update the sliders with the latest values. Also, no other notebook can use the Phidgets while this one is active. \n\nTo close the Phidget, go back to the Connect button above, and click where it says \"Click to disconnect.\"\n\nYou can also simply close this notebook. ",
      "metadata": {}
    },
    {
      "id": "4b4d0c05",
      "cell_type": "markdown",
      "source": "## In case of errors\n\nDo you see sliders just above this cell, but nothing is happening? Go back and look for the \"Connect\" button in one of the cells. Click on it to get the Phidget hardware to connect to the software.\n\nStill having problems? What kind of errors can happen? What should we do about them?\n\n**Symptom 1**. When you click the Connect button, status text says \"USB not connected\"\n- Problem is likely that your browser does not support WebUSB.\n    - Solution is to switch to the latest versions of Chrome, Chromium, Opera or Edge.\n- Another problem could be that the Phidget VINT device is not connected via a USB cable. You should see a window like this <img src=\"images/Pconnect.png\" alt=\"Hey\"  width = 300 /> Select the VINT device once it appears.\n- Another notebook or piece of software is already connected to the Phidget device.\n    - Only one notebook at a time can use the Phidget. So close down any other notebook using Phidgets, or exit any other software using the device. \n- You might have an older version of a Phidget that needs a firmware update.\n    - see here for the solution: https://www.phidgets.com/education/educators/advanced-troubleshooting/firmware-upgrade/\n  \n    \n**Symptom 2**. When you click the Connect button, status text is \"USB connected, channel not open.\"\n- Check to see that you have a Phidget temperature/humidity device connected to your Phidget hub or VINT device",
      "metadata": {}
    },
    {
      "id": "96ee6ba5",
      "cell_type": "markdown",
      "source": "## Conclusion\n\nWe have shown how to display the temperature and humidity values from the Phidget device using a live widget from the ipywidgets library. ",
      "metadata": {}
    },
    {
      "id": "ba7ee230",
      "cell_type": "markdown",
      "source": "[![Callysto.ca License](https://github.com/callysto/curriculum-notebooks/blob/master/callysto-notebook-banner-bottom.jpg?raw=true)](https://github.com/callysto/curriculum-notebooks/blob/master/LICENSE.md)",
      "metadata": {}
    }
  ]
}