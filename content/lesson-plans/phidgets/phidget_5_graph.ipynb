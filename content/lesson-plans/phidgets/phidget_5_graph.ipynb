{
  "metadata": {
    "kernelspec": {
      "name": "python",
      "display_name": "Python (Pyodide)",
      "language": "python"
    },
    "language_info": {
      "codemirror_mode": {
        "name": "python",
        "version": 3
      },
      "file_extension": ".py",
      "mimetype": "text/x-python",
      "name": "python",
      "nbconvert_exporter": "python",
      "pygments_lexer": "ipython3",
      "version": "3.8"
    }
  },
  "nbformat_minor": 5,
  "nbformat": 4,
  "cells": [
    {
      "id": "a954153d",
      "cell_type": "markdown",
      "source": "![Callysto.ca Banner](https://github.com/callysto/curriculum-notebooks/blob/master/callysto-notebook-banner-top.jpg?raw=true)\n\n",
      "metadata": {}
    },
    {
      "id": "f10f5b13",
      "cell_type": "markdown",
      "source": "## Phidget_5 Graphs and gauges.\n\nUsing what we have learned so far, let's add some graphs to the display. This way we can see a record over time of the temperature and humidity readings. \n\nWe use Plotly to get some nice looking gauges, and add some graphs to record the data coming from the Phidget devices. \n\nIt is important to run this notebook in the Google Chrome web browser, on a desktop or laptop computer. It also will work with Chromium, Opera and Edge. Unfortunately, other browsers (FireFox, Safari) will not work as they cannot access the USB port that connects to the Phidget device. That may change in the future, but at the time of writing, this is currently only possible in Chrome/Chromium/Opera/Edge.",
      "metadata": {}
    },
    {
      "id": "a6e7a5df",
      "cell_type": "markdown",
      "source": "## Setting up the Phidget hardware\n\nWe will be using the Phidget Starter Kit, as shown in this figure:\n<img src=\"images/KIT4003.jpg\" alt=\"Image of the starter kit\"  width = 500 />\n\nVerify these points:\n- Get a hold of a Phidgets Starter Kit. It should already be assembled. If not, assemble it now.\n    - You will have received instructions with the kit on how to assemble it.\n- The Starter Kit has a temperature/humidity sensor attached. If it does not, find the sensor and attach it.\n    - The humidity sensor is a small black box attached with a thin cable. It is marked with the initials \"HUM.\"\n- Connect the Starter Kit to your computer with a USB cable. \n    - The Kit come with a USB cable, it is attached to the Hub device inside the Starter Kit.\n- If you have an older version of the Phidgets, you may need to update its firmware. See the following for details:\n    - https://www.phidgets.com/education/educators/advanced-troubleshooting/firmware-upgrade/\n- As mentioned earlier, make sure you are running this notebook in the Google Chrome browser. ",
      "metadata": {}
    },
    {
      "id": "6e7dc6c8",
      "cell_type": "markdown",
      "source": "## Libraries\n\nWe include a few libraries, for plotting and doing numerical work.",
      "metadata": {}
    },
    {
      "id": "7c1a7b5e-4ad8-4b68-a7b5-cd222c8461d4",
      "cell_type": "code",
      "source": "%pip install plotly",
      "metadata": {
        "trusted": true
      },
      "outputs": [],
      "execution_count": null
    },
    {
      "id": "eae1825b-84b0-4cfe-9d32-3fc610d6b2d4",
      "cell_type": "code",
      "source": "%pip install ipywidgets>=7.0.0",
      "metadata": {
        "trusted": true
      },
      "outputs": [],
      "execution_count": null
    },
    {
      "id": "32f5c166-459d-4a96-aca8-baf82532394b",
      "cell_type": "code",
      "source": "import piplite\nawait piplite.install(['plotly','nbformat','ipywidgets','anywidget'])",
      "metadata": {
        "trusted": true
      },
      "outputs": [],
      "execution_count": null
    },
    {
      "id": "2ffc826b",
      "cell_type": "code",
      "source": "from plotly.subplots import make_subplots\nimport plotly.graph_objects as go\nimport numpy as np",
      "metadata": {
        "trusted": true
      },
      "outputs": [],
      "execution_count": null
    },
    {
      "id": "4bde58ed",
      "cell_type": "markdown",
      "source": "## Data storage\n\nThe data has to go somewhere, so we create a few buffers to store the temperature and humidity readings.",
      "metadata": {}
    },
    {
      "id": "0a8222a0",
      "cell_type": "code",
      "source": "buffer_len = 100\n\nh_buffer = np.zeros(buffer_len)\nt_buffer = np.zeros(buffer_len)",
      "metadata": {
        "trusted": true
      },
      "outputs": [],
      "execution_count": null
    },
    {
      "id": "566812cf",
      "cell_type": "markdown",
      "source": "## Gauges and charts\n\nWe create the two gauges for temperature and humidity, and the two charts to display the data over time. The gauges are called `t_indicator` and `h_indicator`, and the charts are called `t_chart` and `h_chart`.\n\nWe use the features of Plotly to put these four items into a single figure, using the `subplot()` function. We also add titles and some default ranges for the y-axes in the charts, to make this all work with the callback functions above. \n\nWe then turn the figure into a live widget, using the `FigureWidget()` function.\n\nOnce these gauges and charts are all set up, we will connect them to the Phidget sensors.",
      "metadata": {}
    },
    {
      "id": "390878fc",
      "cell_type": "code",
      "source": "x = np.arange(buffer_len)\n\nt_indicator = go.Indicator(\n    mode = \"gauge+number\",\n    value = 20,\n    domain = {'x': [0, 1], 'y': [0, 1]},\n    title = {'text': \"Temperature\"},\n    gauge = {'axis': {'range': [5, 35]}}\n)\n\nh_indicator = go.Indicator(\n    mode = \"gauge+number\",\n    value = 40,\n    domain = {'x': [0, 1], 'y': [0, 1]},\n    title = {'text': \"Humidity\"},\n    gauge = {'axis': {'range': [0, 100]}}\n)\n\n\nt_chart = go.Scatter(x=x, y=t_buffer, mode='lines')\nh_chart = go.Scatter(x=x, y=h_buffer, mode='lines')\n\n\nfig = make_subplots(\n    rows=2,\n    cols=2,\n    specs=[[{'type' : 'domain'}, {'type' : 'domain'}],\n           [{'type' : 'xy'}, {'type' : 'xy'}]])\nfig.append_trace(t_indicator, row=1, col=1)\nfig.append_trace(h_indicator, row=1, col=2)\nfig.append_trace(t_chart, row=2, col=1)\nfig.append_trace(h_chart, row=2, col=2)\n\nfig.update_traces(name='Temperature', showlegend = True, row=2, col=1)\nfig.update_traces(name='Humidity', showlegend = True, row=2, col=2)\n\nfig.update_yaxes(title_text=\"Degrees C\", range=[10, 30], row=2, col=1)\nfig.update_yaxes(title_text=\"Percentage\", range=[50, 70], row=2, col=2)\n\nplots = go.FigureWidget(fig)\n\nplots",
      "metadata": {
        "trusted": true
      },
      "outputs": [],
      "execution_count": null
    },
    {
      "id": "d02ab9b4",
      "cell_type": "markdown",
      "source": "## Utility functions\n\nWe introduce a few utility functions, which are used to set the ranges on the vertical axes of our graphs. We don't know what temperature or humidity to expect, so we set the Y range to about ±2 degrees of the current temperature value, and ±10 percentage points for the humidity. \n\nThis will make it easier for us to see small changes in the reading, reflected in the graphs.",
      "metadata": {}
    },
    {
      "id": "6d8fc4ee",
      "cell_type": "code",
      "source": "## Utility function to bracket a value by plus/minus 2, 5 or 10\n\ndef bracket2(value):\n    return (2*np.round(value/2)-2, 2*np.round(value/2)+2)\n\ndef bracket5(value):\n    return (5*np.round(value/5)-5, 5*np.round(value/5)+5)\n\ndef bracket10(value):\n    return (10*np.round(value/10)-10, 10*np.round(value/10)+10)",
      "metadata": {
        "trusted": true
      },
      "outputs": [],
      "execution_count": null
    },
    {
      "id": "34139898",
      "cell_type": "markdown",
      "source": "## Update data functions\n\nHere we define the updtate functions. These functions get called whenever the Phidgets report new values for temperature and humidity. They will link the Phidget devices to the plots on screen.\n\nWe have two buffers, or arrays, to store the temperature and humidity readings over a period of time. We chose 100 points, for simplicity, but you could change this. \n\nThe update functions do three things:\n- Update the value in the temperature or humidity gauge\n- Store the new value at the end of buffer, and display the 100 values in the temperature or humidity graph\n- Update the range of the y-axis for the graph, so it brackets the actual reading value.\n\nAs mentioned above, we do this bracketing so the graphs look nice, and we can see small changes in tmeperature or humidity.\n\nFeel free to experiment with better ways to display the charts. ",
      "metadata": {}
    },
    {
      "id": "7e94cc1e",
      "cell_type": "raw",
      "source": "def callback_temp(value):\n    f.data[0]['value'] = value      \n    t_buffer[0:-1] = t_buffer[1:]\n    t_buffer[-1] = value\n    f.data[2]['y'] = t_buffer\n    f.layout['yaxis']['range'] = bracket2(value)\n\ndef callback_hum(value):\n    f.data[1]['value'] = value\n    h_buffer[0:-1] = h_buffer[1:]\n    h_buffer[-1] = value\n    f.data[3]['y'] = h_buffer\n    f.layout['yaxis2']['range'] = bracket10(value)\n ",
      "metadata": {}
    },
    {
      "id": "e882a65b",
      "cell_type": "code",
      "source": "# define update functions to connect Phidget widgets to the gauges\n\ndef updateTemperature(change):\n    plots.data[0]['value'] = change.new      \n    t_buffer[0:-1] = t_buffer[1:]\n    t_buffer[-1] = change.new\n    plots.data[2]['y'] = t_buffer\n    plots.layout['yaxis']['range'] = bracket2(change.new)\n\ndef updateHumidity(change):\n    plots.data[1]['value'] = change.new\n    h_buffer[0:-1] = h_buffer[1:]\n    h_buffer[-1] = change.new\n    plots.data[3]['y'] = h_buffer\n    plots.layout['yaxis2']['range'] = bracket10(change.new)",
      "metadata": {
        "trusted": true
      },
      "outputs": [],
      "execution_count": null
    },
    {
      "id": "0aad94cc",
      "cell_type": "markdown",
      "source": "## Setup the Phidget software\n\nAs in the earlier notebooks, the main steps are thus:\n\n1. Import some Python libraries\n2. Create the Phidget Widget as a software object to connect to the devices\n3. Display the widget and the gauges\n4. Connect by pressing a button on screen\n5. Link the Phidget data to the gauges, for live updates. View the gauges.\n6. Close the sensor when you are done",
      "metadata": {}
    },
    {
      "id": "9cc0a568",
      "cell_type": "markdown",
      "source": "## Step 1.\n\nLet's import a few Python libraries that we need. \n\nThe **anywidget** library is still in development, so we do a pip install if it is not already on the hub. ",
      "metadata": {}
    },
    {
      "id": "ad93dc24-e663-49ba-aaae-3881f690c605",
      "cell_type": "code",
      "source": "import anywidget\nimport pathlib\nimport traitlets",
      "metadata": {
        "trusted": true
      },
      "outputs": [],
      "execution_count": null
    },
    {
      "id": "39f06155",
      "cell_type": "markdown",
      "source": "## NOTE:\n\nIf the **install** or **import** above gives an error message, try running them again. If that doesn't work, try closing the notebook, shut down the kernel, then reopen the notebook. Run the cell again. After that, the library will be properly installed.  ",
      "metadata": {}
    },
    {
      "id": "3c1b0abc",
      "cell_type": "markdown",
      "source": "## Step 2.\n\nWe create the PhidgetFour class (software object) as an example of the **anywidget** models. The JS code for this tool is in the file **ph4auto.js** while the style file is in **ph4xx.css**. If you like, you can open this files in your browser to see what the code looks like.\n\nThe PhidgetFour object contains four Python variables (named temperature, humidity, moisture and luminance) which will contain the data from the sensors. ",
      "metadata": {}
    },
    {
      "id": "882ff4fc",
      "cell_type": "code",
      "source": "class PhidgetsFour(anywidget.AnyWidget):\n    _esm = pathlib.Path(\"ph4auto.js\")\n    _css = pathlib.Path(\"ph4xx.css\")\n    # These 4 variables are used by the widget. Do not delete. \n    temperature = traitlets.Float(0).tag(sync=True)\n    humidity = traitlets.Float(0).tag(sync=True)\n    moisture = traitlets.Float(0).tag(sync=True)\n    luminance = traitlets.Float(0).tag(sync=True)\n\npf = PhidgetsFour()",
      "metadata": {
        "trusted": true
      },
      "outputs": [],
      "execution_count": null
    },
    {
      "id": "5c57a974",
      "cell_type": "markdown",
      "source": "## Step 3.\n\nWe now open and display the Phidget widget along with the gauges and plots.\n\nWhen you run the following cell, you should see a button displayed and some text, followed by the gauges and plots. ",
      "metadata": {}
    },
    {
      "id": "34043762",
      "cell_type": "code",
      "source": "display(pf,plots)",
      "metadata": {
        "trusted": true
      },
      "outputs": [],
      "execution_count": null
    },
    {
      "id": "aca3d2b7",
      "cell_type": "markdown",
      "source": "## Step 4. \nClicking on the \"Connect\" button above will open a window that asks you to select the Phidget Hub. Select the hub and click \"Connect.\" The window looks like this:\n<img src=\"images/Pconnect.png\" alt=\"Hey\"  width = 300 />\n\nIf you don't get this window, perhaps you are using the wrong browser. (Use Chrome, Chromium, or Opera).\n\nIf you get the window but don't see the Phidget device, check to be sure the Phidget VINT hub is connected to your computer with a USB cable.",
      "metadata": {}
    },
    {
      "id": "6cadcd32",
      "cell_type": "markdown",
      "source": "### Check:\nIf all is well, the status text will report that the USB port is connected and the device channels are open. You should also see the value for temperature and humidity\n\nIf you connected a moisture probe and the light detector from the Phidgets plant kit, you will see these values displayed as well. \n\nIf you don't see any values, check again that the Phidget VINT device is connected to your computer with a USB cable. Also check that you have a Phidget temperature/humidity sensor connected to your VINT with the appropriate cable. ",
      "metadata": {}
    },
    {
      "id": "5bb9c98d",
      "cell_type": "markdown",
      "source": "## Step 5.\n\nNow we link the gauges and plots to the Phidgets. Run the following cell and you will see the gauges update as the tempature and humidity changes.",
      "metadata": {}
    },
    {
      "id": "53dbe118",
      "cell_type": "code",
      "source": "pf.observe(updateTemperature, names=[\"temperature\"])\npf.observe(updateHumidity, names=[\"humidity\"])",
      "metadata": {
        "trusted": true
      },
      "outputs": [],
      "execution_count": null
    },
    {
      "id": "dba3545e",
      "cell_type": "markdown",
      "source": "## PAUSE HERE\n\nThe gauges should be running now. Everything is live.  Scroll up and check it out the gauges, to see the temperature and humitity values. The plots should be recording data as well.\n\nTry breathing on the sensor, so you can see changes in the readings. \n\nWe can even display a copy of the plots right here, also live. ",
      "metadata": {}
    },
    {
      "id": "da966103",
      "cell_type": "code",
      "source": "display(plots)",
      "metadata": {
        "trusted": true
      },
      "outputs": [],
      "execution_count": null
    },
    {
      "id": "d0f45bcb",
      "cell_type": "markdown",
      "source": "## Step 6. Closing down the sensors\n\nIt is **really important** to close the sensors when you are done. Otherwise they will keep busy forever, always trying to update the gauges with the latest values. Also, no other notebook can use the Phidgets while this one is active. \n\nTo close the Phidget, go back to the Connect button above, and click where it says \"Click to disconnect.\"\n\nYou can also simply close this notebook. ",
      "metadata": {}
    },
    {
      "id": "c63654ea",
      "cell_type": "markdown",
      "source": "## In case of errors\n\nDo you see gauges just above this cell, but nothing is happening? Go back and look for the \"Connect\" button in one of the cells. Click on it to get the Phidget hardware to connect to the software.\n\nStill having problems? What kind of errors can happen? What should we do about them?\n\n**Symptom 1**. When you click the Connect button, status text says \"USB not connected\"\n- Problem is likely that your browser does not support WebUSB.\n    - Solution is to switch to the latest versions of Chrome, Chromium, Opera or Edge.\n- Another problem could be that the Phidget VINT device is not connected via a USB cable. You should see a window like this <img src=\"images/Pconnect.png\" alt=\"Hey\"  width = 300 /> Select the VINT device once it appears.\n- Another notebook or piece of software is already connected to the Phidget device.\n    - Only one notebook at a time can use the Phidget. So close down any other notebook using Phidgets, or exit any other software using the device. \n- You might have an older version of a Phidget that needs a firmware update.\n    - see here for the solution: https://www.phidgets.com/education/educators/advanced-troubleshooting/firmware-upgrade/\n  \n    \n**Symptom 2**. When you click the Connect button, status text is \"USB connected, channel not open.\"\n- Check to see that you have a Phidget temperature/humidity device connected to your Phidget hub or VINT device\n",
      "metadata": {}
    },
    {
      "id": "26773ba1",
      "cell_type": "markdown",
      "source": "## Going further\n\nSome ideas to try on your own:\n\n- Is there a better way to bracket the values when we set the y-axis limits? Can we make the display nicer?\n- Can we add some \"memory\" to the y-axis ranges, so they don't jump around too much when the temperature or humidity reading crosses some critical points? For instance, when the temperature crosses an odd integer (e.g. value = 27), the range will jump around from (24,28) t0 (26,30), which is a rather ugly display.\n- Can we update the charts only once a second? That way it is easier to see the slow changes in value.\n- Can we record the x-axis as a time value, so we know at what time certain readings occur?\n- Can we save the data into a file, on some regular basis? This should include data and time stamps, so we have an accurate historical record of the reading.\n",
      "metadata": {}
    },
    {
      "id": "301513e8",
      "cell_type": "markdown",
      "source": "## Conclusion\n\nWe have shown how to display the temperature and humidity values from the Phidget device using a live gauges from the Plots library. We also plot the data as it comes in. ",
      "metadata": {}
    },
    {
      "id": "ba7ee230",
      "cell_type": "markdown",
      "source": "[![Callysto.ca License](https://github.com/callysto/curriculum-notebooks/blob/master/callysto-notebook-banner-bottom.jpg?raw=true)](https://github.com/callysto/curriculum-notebooks/blob/master/LICENSE.md)",
      "metadata": {}
    }
  ]
}