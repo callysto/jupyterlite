{
  "metadata": {
    "kernelspec": {
      "name": "python",
      "display_name": "Python (Pyodide)",
      "language": "python"
    },
    "language_info": {
      "codemirror_mode": {
        "name": "python",
        "version": 3
      },
      "file_extension": ".py",
      "mimetype": "text/x-python",
      "name": "python",
      "nbconvert_exporter": "python",
      "pygments_lexer": "ipython3",
      "version": "3.8"
    }
  },
  "nbformat_minor": 5,
  "nbformat": 4,
  "cells": [
    {
      "id": "bcfef756",
      "cell_type": "markdown",
      "source": "![Callysto.ca Banner](https://github.com/callysto/curriculum-notebooks/blob/master/callysto-notebook-banner-top.jpg?raw=true)\n\n",
      "metadata": {}
    },
    {
      "id": "3514789c",
      "cell_type": "markdown",
      "source": "## Phidget_1 Humidity sensor\n\nThis short notebook introduces how we access a Phidget device from a Jupyter notebook.\n\nIt is important to run this notebook in the Google Chrome or Opera web browser, on a desktop or laptop computer. Unfortunately, other browsers (FireFox, Safari, Edge) will not work as they cannot access the USB port that connects to the Phidget device.\n\n\n## Setting up the Phidget device\n\nWe will be using the Phidget Starter Kit, as shown in this figure:\n<img src=\"./images/KIT4003.jpg\" alt=\"Image of the starter kit\"  width = 500 />\n\nVerify these points:\n- Get a hold of a Phidgets Starter Kit. It should already be assembled. If not, assemble it now.\n    - You will have received instructions with the kit on how to assemble it.\n- The Starter Kit has a humidity sensor attached. If it does not, find the sensor and attach it.\n    - The humidity sensor is a small black box attached with a thin cable. It is marked with the initials \"HUM.\"\n- Connect the Starter Kit to your computer with a USB cable. \n    - The Kit come with a USB cable, it is attached to the Hub device inside the Starter Kit.\n- If you have an older version of the Phidgets, you may need to update its firmware. See the following for details:\n    - https://www.phidgets.com/education/educators/advanced-troubleshooting/firmware-upgrade/\n- As mentioned earlier, make sure you are running this notebook in the Google Chrome browser. \n\n### Notes on local and remote computer\n\nNotice we are using two computers here. There is the laptop (or desktop) computer sitting in front of you, which is the **local** computer. The Callysto Hub, that you're running this notebook on, is actually a piece of software running on a cloud-based network computer located at the Cybera offices in Alberta (usually), and we call this the **remote** computer. \n\nWe want to program in Python on the Callysto Hub, which will be running on the remote computer. The Phidget device is connected to the local computer (the one in front of you) using the USB port. So we need a way to communicate with the device using the local computer. \n\nWe can do this using the Chrome (or Opera) browser and adding some code in the JavaScript language. JavaScript runs on the local computer, in the browser, and so it is able to access the Phidget device. This means we need to include some JavaScript in our notebook, as it has capabilities that Python does not. \n\n### A bit about JavaScript\n\nJavaScript (JS) is just another programming language. It has its own syntax, and there are books and videos that will teach you about JavaScript. We don't want to teach it here, but will introduce some basic features so you can read the code in this Jupyter notebook. \n\nJS looks a lot like Python. Here are some key differences in JS:\n\n- In JS, statements should end with a semicolon, as in: **y = 2+3;**\n- In JS, variables need to be declared, as in: **var x = 0;**\n- In JS, blocks of code are surrounded by braces, **{ }** like this:\n```\nif (do==true) {\n    do_this;\n    and_this;\n} else {\n    do_that;\n}\n```\n- In JS, there is a way to try a piece of code, and if it fails, catch the error. This will be useful as when connecting the Phidget devices. If there is a problem with the hardware or connection, we can handle the error instead of just crashing the program. The syntax looks like this:\n```\ntry {do_this;} catch {handle_error;}\n```\n- finally, there are many options to import code modules in JS. We will use the ESM format:\n```\nimport {someFunction} from \"https://someESMrepo.com/someFile\";\n```\n",
      "metadata": {}
    },
    {
      "id": "82d0ee5f",
      "cell_type": "markdown",
      "source": "## Overview of the code.\n\nIt's a bit tricky to use the Phidget device, as we have to \"tell\" the computer explicity that we want to use the Phidget. This means writing code that tells the computer that first, we want to use the USB port and cable to connect to the device; second, then we want to use a specific device in the starter kit; and finally we want to read data from that device. \n\nWe will do this in a step-by-step manner, so we can understand how the connection process works. At the end, it is always good practice to clean things up by closing all the connections. \n\nThe main steps are thus:\n\n1. Import a Python library called \"anywidget\" that will hold the JS code.\n2. In JS, import the Phidget code from the Phidget company's online repo:\n```\n    import {USBConnection, HumiditySensor} from \"https://esm.sh/phidget22@3.17\";\n```\n3. Open the USB connection and request access from this web page.\n```\n    connection = new USBConnection();\n    connection.connect();\n    connection.requestWebUSBDeviceAccess();\n```\n4. Open the Humidity device.\n```\n    channel = new HumiditySensor();\n    channel.open();\n```\n5. Setup the device to save the Humidity data when the measured value changes.\n```\n    channel.onHumidityChange = function(humidity) {\n       textBox = humidity;\n    };\n\n```\n6. When we are done, close the device and USB connection\n```\n    channel.close();\n    connection.close();\n    connection.delete();\n```\n\nThe details in the code below get complicated because we need to use the try/catch method to watch out for errors. We also use the \"await\" keyword to tell the computer to wait for a bit as it attempts to connect the Phidget. We add some logic to keep track of whether the device is connected or not, and to do the appropriate thing. \n\n## The user interface\n\nFinally, we need a user interface. In the JS code, we will create a button and two text boxes. The button is to connect and disconnect the Phidget. The first text box will report the status of the connection. The second text box reports the data value read from the humidity sensor. \n\nThe JS code connects the user interface to the functions that control the Phidgets. ",
      "metadata": {
        "slideshow": {
          "slide_type": "slide"
        }
      }
    },
    {
      "id": "b7f73850",
      "cell_type": "markdown",
      "source": "## Step 1.\n\nImport the **anywidget** Python library. This code library is still in development, so we do a pip install if it if not already in the Jupyter hub. ",
      "metadata": {}
    },
    {
      "id": "1be0d8a8-9192-43b4-a632-1c5f824013d6",
      "cell_type": "code",
      "source": "%pip install anywidget",
      "metadata": {
        "trusted": true
      },
      "outputs": [],
      "execution_count": 1
    },
    {
      "id": "08c3353c-5254-4684-959c-432370a12557",
      "cell_type": "code",
      "source": "import anywidget",
      "metadata": {
        "trusted": true
      },
      "outputs": [],
      "execution_count": 2
    },
    {
      "id": "b955971b",
      "cell_type": "markdown",
      "source": "## NOTE:\n\nIf the **install** or **import** above gives an error message, try running them aghain. If that doesn't work, try closing the notebook, shut down the kernel, then reopen the notebook. Run the cell again. After that, the library will be properly installed.  ",
      "metadata": {}
    },
    {
      "id": "58d63d14",
      "cell_type": "markdown",
      "source": "## Steps 2 through 5.\n\nWe put all the JS code into an **anywidget** class that we name \"PhidgetHum.\"\n\nThe first section labelled **\\_esm** contains the code to control the Phidget, as well as creating the user interface.\n\nThe second section labelled **\\_css** is a collection of style choices for our button. \n\n",
      "metadata": {}
    },
    {
      "id": "cad39b68",
      "cell_type": "code",
      "source": "class PhidgetHum(anywidget.AnyWidget):\n  _esm = \"\"\"\n\n// Step 2. Importing the functions we need for Phidgets\n  import {USBConnection, HumiditySensor} from \"https://esm.sh/phidget22@3.17\";\n\n  export function render({ model, el }) {\n    \n    var connection = 0, channel = 0, connOpen = false, chOpen = false, isOpen = false;\n\n// Steps 3 and 4. Opening the USBconnection and humidity device\n    async function openUSB() {\n        if (connection) {\n            try {await channel.close();} catch {}\n            try {await connection.close();} catch {}\n            try {await connection.delete();} catch {}\n        }\n        try {connection = new USBConnection();} \n            catch{console.log(\"This browser does not support WebUSB\");}\n        channel = new HumiditySensor();\n        channel.onAttach = (ch) => {\n            ch.setDataInterval(1000);\n        }\n\n// Step 5. Reading and saving the humidity data\n        channel.onHumidityChange = function(humidity) {\n            textHumid.innerHTML = '  Humidity is ' + humidity;\n       \t};\n    \ttry {\n    \t\tawait connection.connect();\n            connection.requestWebUSBDeviceAccess();\n            connOpen = true;\n    \t} catch(err) {\n            connOpen = false;\n    \t}\n        if (connOpen) {\n            chOpen = false;\n            try {\n                await channel.open(2000);\n                chOpen = true;\n            } catch(err) {\n                chOpen = false;                \n            }\n        }\n        \n         // now get the UI to reflect the status\n        if (connOpen && chOpen) {\n            isOpen = true;\n            textStatus.innerHTML = 'USB connected, humidity channel open.  ';\n            button.innerHTML = `Click to disconnect`;\n        }\n        if (connOpen && !chOpen) {\n            isOpen = false;\n            textStatus.innerHTML = 'USB connected, channel not open.  ';\n            button.innerHTML = `Click to connect`;\n        }\n        if (!connOpen) {\n            isOpen = false;\n            textStatus.innerHTML = 'USB did not connect.  ';\n            button.innerHTML = `Click to connect`;        \n        }\n    };\n\n// Step 6. Closing the Phidget.\n    async function closeUSB() {\n        try {await channel.close();} catch {}\n        try {await connection.close();} catch {}\n        try {await connection.delete();} catch {}\n        isOpen = false; \n        connOpen = false;\n        chOpen = false;\n        textStatus.innerHTML = 'Disconnected.  ';\n        textHumid.innerHTML = '  Humidity is null.';\n        button.innerHTML = `Click to connect`;\n    };\n    \n// The user interface, with a button and two text boxes\n    let button = document.createElement(\"button\");\n    button.classList.add(\"ph-button\");\n    button.innerHTML = `Click to open USB`;\n    button.addEventListener(\"click\", async () => {\n        if (isOpen) {closeUSB();} else {openUSB();}\n    });\n    let textStatus = document.createElement(\"label\");\n    textStatus.innerHTML = 'Status message here.  ';\n    let textHumid = document.createElement(\"label\");\n    textHumid.innerHTML = 'Humidity is null.';\n    \n// Now display the user interface\n \n    el.appendChild(button);\n    el.appendChild(textStatus);\n    el.appendChild(textHumid);\n    \n// Step 6, again. Clean up when the notebook is closed\n    return async () => {\n        try {await channel.close();} catch {}\n        try {await connection.close();} catch {}\n        try {await connection.delete();} catch {}\n    };\n  }\n  \"\"\"\n  _css = \"\"\"\n        .ph-button {color: white; \n            background-color:rgb(96, 107, 174); \n            border-radius: 8px; \n            font-size: 24px; \n            display: block;\n            padding: 15px 32px;}\n        .ph-button:hover { background-color:rgb(120, 128, 187); }\n  \"\"\"\n\nph = PhidgetHum()\n\nph",
      "metadata": {
        "trusted": true
      },
      "outputs": [
        {
          "execution_count": 3,
          "output_type": "execute_result",
          "data": {
            "text/plain": "PhidgetHum()",
            "application/vnd.jupyter.widget-view+json": {
              "version_major": 2,
              "version_minor": 0,
              "model_id": "3c9aa1b2e98b4d0783b3e6f47703fce6"
            }
          },
          "metadata": {}
        }
      ],
      "execution_count": 3
    },
    {
      "id": "3a9c72a2",
      "cell_type": "markdown",
      "source": "Clicking on the \"Connect\" button above will open a window that asks you to select the Phidget Hub. Select the hub and click \"Connect.\" The window looks like this:\n<img src=\"images/Pconnect.png\" alt=\"Hey\"  width = 300 />\n\nIf you don't get this window, perhaps you are using the wrong browser. (Use Chrome, Chromium, or Opera).\n\nIf you get the window but don't see the Phidget device, check to be sure the Phidget VINT hub is connected to your computer with a USB cable. ",
      "metadata": {}
    },
    {
      "id": "784009ce",
      "cell_type": "markdown",
      "source": "### Check:\nIf all is well, the status text will report that the USB port is connected and the humidity channel is open. You should also see the value for humidity, which is reported as a percentance of relative humidity. \n\nIf you don't see this, check again that the Phidget VINT device is connected to your computer with a USB cable. Also check that you have a Phidget humidity sensor connected to your VINT with the appropriate cable. ",
      "metadata": {}
    },
    {
      "id": "91efcb97",
      "cell_type": "markdown",
      "source": "## Step 6. Closing. \n\nOnce we are all done, we should close the connection to the Phidget. Just click on the button (which should say \"Close to disconnect\") and the Phidget will be released.\n\nClosing the notebook will also automatically release the Phidget.\n\nOnce the Phidget is released, it can be used by other notebooks or other software on your computer. \n\n",
      "metadata": {}
    },
    {
      "id": "9620d4af",
      "cell_type": "markdown",
      "source": "### Confirm\n\nYou can confirm the Phidget is open or closed by looking at the status text beside the \"Connect/Disconnect\" button. ",
      "metadata": {}
    },
    {
      "id": "9382ee3a",
      "cell_type": "markdown",
      "source": "## In case of errors\n\nWhat kind of errors can happen? What should they do about them?\n\nSymptom 1. When you click the connect button, status text says \"USB not connected\"\n- Problem is likely that your browser does not support WebUSB.\n    - Solution is to switch to Chrome, Chromium, Opera or Edge.\n- Another problem could be that the Phidget VINT device is not connected via a USB cable. You should see a window like this <img src=\"images/Pconnect.png\" alt=\"Hey\"  width = 300 /> Select the VINT device once it appears.\n- Another notebook or piece of software is already connected to the Phidget device.\n    - Only one notebook at a time can use the Phidget. So close down the other notebook, or exit any other software using the device. \n- You might have an older version of a Phidget that needs a firmware update.\n    - see here for the solution: https://www.phidgets.com/education/educators/advanced-troubleshooting/firmware-upgrade/\n  \n    \nSymptom 2. When you click the connect button, status text is \"USB connected, channel not open.\"\n- Check to see that you have a Phidget humidity device connected to your Phidget hub or VINT device\n",
      "metadata": {}
    },
    {
      "id": "4871334f",
      "cell_type": "markdown",
      "source": "[![Callysto.ca License](https://github.com/callysto/curriculum-notebooks/blob/master/callysto-notebook-banner-bottom.jpg?raw=true)](https://github.com/callysto/curriculum-notebooks/blob/master/LICENSE.md)",
      "metadata": {}
    }
  ]
}