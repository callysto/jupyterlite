{
  "metadata": {
    "kernelspec": {
      "name": "python",
      "display_name": "Python (Pyodide)",
      "language": "python"
    },
    "language_info": {
      "codemirror_mode": {
        "name": "python",
        "version": 3
      },
      "file_extension": ".py",
      "mimetype": "text/x-python",
      "name": "python",
      "nbconvert_exporter": "python",
      "pygments_lexer": "ipython3",
      "version": "3.8"
    }
  },
  "nbformat_minor": 5,
  "nbformat": 4,
  "cells": [
    {
      "id": "bcfef756",
      "cell_type": "markdown",
      "source": "![Callysto.ca Banner](https://github.com/callysto/curriculum-notebooks/blob/master/callysto-notebook-banner-top.jpg?raw=true)\n\n",
      "metadata": {}
    },
    {
      "id": "b212dbee",
      "cell_type": "markdown",
      "source": "## Phidget_6 Buttons and LEDs\n\nThis short notebook introduces how we access a Phidgets device from a Jupyter notebook.\n\nWe will monitor the two pushbuttons on the Phidget starter kit, and use them to control the LEDs on that box. \n\nIt is important to run this notebook in the Google Chrome web browser, on a desktop or laptop computer. Opera and Microsoft Edge should work as well. Unfortunately, other browsers (FireFox, Safari) do not work currently, as they cannot access the USB port that connects to the Phidget device.\n\n\nReference code: https://www.phidgets.com/education/learn/getting-started-kit-tutorial/blink-led/\nBe sure to look at the JavaScript code.",
      "metadata": {}
    },
    {
      "id": "514ac52a",
      "cell_type": "markdown",
      "source": "## Setting up the Phidget device\n\nWe will be using the Phidget Starter Kit, as shown in this figure:\n<img src=\"images/KIT4003.jpg\" alt=\"Image of the starter kit\"  width = 500 />\n\nVerify these points:\n- Get a hold of a Phidgets Starter Kit. It should already be assembled. If not, assemble it now.\n    - You will have received instructions with the kit on how to assemble it.\n- The Starter Kit has a two buttons and two switches connect. If it does not, find them and attach.\n    - We assume the red button is attached to port 0, and the red LED attached to port 1.\n    - We assume the green button is attached to port 5, and the green LED attached to port 4.\n    - if note, either change yoor wires or chage the \"setPortHub\" values in the code below. \n- Connect the Starter Kit to your computer with a USB cable. \n    - The Kit come with a USB cable, it is attached to the Hub device inside the Starter Kit.\n- If you have an older version of the Phidgets, you may need to update its firmware. See the following for details:\n    - https://www.phidgets.com/education/educators/advanced-troubleshooting/firmware-upgrade/\n- As mentioned above, make sure you are running this notebook in the Google Chrome browser. ",
      "metadata": {}
    },
    {
      "id": "3514789c",
      "cell_type": "markdown",
      "source": "## Setup the Phidget device\n\nAs in the earlier notebooks, the main steps are thus:\n\n1. Load in some Python libraries\n2. Create a widget using **anywidget** object, with details in Javascript \n    - Load in some external JS libraries\n    - Define and open the USB connection\n    - Open the digital inputs (buttons) and outputs (LEDS). There are four in total\n    - Request a connection to the Phidgets device. Include code to close the devices as well.\n    - Define the user interface with buttons and text. \n    \n3. Display the widget\n4. Make the connection to the USB devices.\n5. Read values from the buttons, push values to the LEDs \n10. When we are done, close the device",
      "metadata": {}
    },
    {
      "id": "a61e9e84",
      "cell_type": "markdown",
      "source": "## Step 1.\n\nLet's import a few Python libraries that we need. \n\nThe **anywidget** library is still in development, so we do a pip install if it is not already on the hub.  ",
      "metadata": {}
    },
    {
      "id": "1d3ede7d",
      "cell_type": "code",
      "source": "%pip install anywidget",
      "metadata": {
        "trusted": true
      },
      "outputs": [],
      "execution_count": 1
    },
    {
      "id": "991b9fdd-6d78-4e83-bbb6-1c22b7e105eb",
      "cell_type": "code",
      "source": "import anywidget",
      "metadata": {
        "trusted": true
      },
      "outputs": [],
      "execution_count": 2
    },
    {
      "id": "1b77ad53",
      "cell_type": "markdown",
      "source": "## NOTE:\n\nIf the **install** or **import** above gives an error message, try running them aghain. If that doesn't work, try closing the notebook, shut down the kernel, then reopen the notebook. Run the cell again. After that, the library will be properly installed.  ",
      "metadata": {}
    },
    {
      "id": "7068d8ce",
      "cell_type": "markdown",
      "source": "## Step 2.\n\nWe create the PhidgetButtons class (software object) as an example of the **anywidget** models. The JS code for this tool is shown. Have a read, and feel free to experiment with it. \n",
      "metadata": {}
    },
    {
      "id": "79034b5e",
      "cell_type": "code",
      "source": "class PhidgetButtons(anywidget.AnyWidget):\n  _esm = \"\"\"\n\n// Importing the functions we need for Phidgets\n  import {USBConnection, DigitalInput, DigitalOutput} from \"https://esm.sh/phidget22@3.17\";\n\n  export function render({ model, el }) {\n    \n    var connection = 0, inA = 0, inB = 0, outA = 0, outB = 0, connOpen = false;\n\n// Opening the USBconnection\n    async function openUSB() {\n        if (connection) {\n            try {await connection.close();} catch {}\n            try {await connection.delete();} catch {}\n        }\n        try {connection = new USBConnection();} \n            catch{console.log(\"This browser does not support WebUSB\");}\n\n     \ttry {\n                await connection.connect();\n                connection.requestWebUSBDeviceAccess();\n                connOpen = true;\n        } catch(err) {\n                connOpen = false;\n        }\n\n// Opening the digital inputs (for switched) and outputs (for LEDs)\n        inA = new DigitalInput();\n        inA.setHubPort(0);        \n        inA.setIsHubPortDevice(true);\n        inA.onStateChange = function(state) {\n            if (state) {textA.innerHTML = 'Button A is PUSHED.  .';}\n            else {textA.innerHTML = 'Button A is not pushed.  .';}\n         }\n\n        inB = new DigitalInput();\n        inB.setHubPort(5);        \n        inB.setIsHubPortDevice(true); \n        inB.onStateChange = function(state) {\n            if (state) {textB.innerHTML = 'Button B is PUSHED.';}\n            else {textB.innerHTML = 'Button B is not pushed.';}\n         }\n\n        outA = new DigitalOutput();\n        outA.setHubPort(1);        \n        outA.setIsHubPortDevice(true); \n\n        outB = new DigitalOutput();\n        outB.setHubPort(4);        \n        outB.setIsHubPortDevice(true); \n\n// Here is the code to connect the devices\n     \ttry {\n                await inA.open(1000);\n                await inB.open(1000);\n                await outA.open(1000);\n                await outB.open(1000);\n                connOpen = true;\n        } catch(err) {\n                connOpen = false;\n        }\n       \n         // now get the UI to reflect the status\n        if (connOpen) {\n            textStatus.innerHTML = 'USB connected, channels open.  .';\n            button.innerHTML = `Click to disconnect`;\n        }\n        else {\n            textStatus.innerHTML = 'USB did not connect.  .';\n            button.innerHTML = `Click to connect`;        \n        }\n    };\n\n    async function closeUSB() {\n        try {await connection.close();} catch {}\n        try {await connection.delete();} catch {}\n        connOpen = false;\n        textStatus.innerHTML = 'Disconnected.  .';\n        button.innerHTML = `Click to connect`;\n    };\n    \n// The user interface, with buttons and text \n    let button = document.createElement(\"button\");\n    button.classList.add(\"ph-button\");\n    button.innerHTML = `Click to open USB`;\n    button.addEventListener(\"click\", async () => {\n        if (connOpen) {closeUSB();} else {openUSB();}\n    });\n    let buttonA = document.createElement(\"button\");\n    buttonA.classList.add(\"ph-button\");\n    buttonA.innerHTML = `Click for LED A`;\n    buttonA.addEventListener(\"mousedown\", () => {\n        outA.setState(true);\n    });\n    buttonA.addEventListener(\"mouseup\", () => {\n        outA.setState(false);\n    });\n    let buttonB = document.createElement(\"button\");\n    buttonB.classList.add(\"ph-button\");\n    buttonB.innerHTML = `Click for LED B`;\n    buttonB.addEventListener(\"mousedown\", () => {\n        outB.setState(true);\n    });\n    buttonB.addEventListener(\"mouseup\", () => {\n        outB.setState(false);\n    });\n    let textStatus = document.createElement(\"label\");\n    textStatus.innerHTML = 'Status message here.  .';\n    let textA = document.createElement(\"label\");\n    textA.innerHTML = 'Button A is not pushed.  .';\n    let textB = document.createElement(\"label\");\n    textB.innerHTML = 'Button B is not pushed.';\n    \n// Now display the user interface\n \n    el.appendChild(button);\n    el.appendChild(buttonA);\n    el.appendChild(buttonB);\n    el.appendChild(textStatus);\n    el.appendChild(textA);\n    el.appendChild(textB);\n    \n// Clean up when the notebook is closed\n    return async () => {\n        try {await channel.close();} catch {}\n        try {await connection.close();} catch {}\n        try {await connection.delete();} catch {}\n    };\n  }\n  \"\"\"\n  _css = \"\"\"\n        .ph-button {color: white; \n            background-color:rgb(96, 107, 174); \n            border-radius: 8px; \n            font-size: 24px; \n            display: block;\n            padding: 15px 32px;}\n        .ph-button:hover { background-color:rgb(120, 128, 187); }\n  \"\"\"\n\npb = PhidgetButtons()\n",
      "metadata": {
        "trusted": true
      },
      "outputs": [],
      "execution_count": 3
    },
    {
      "id": "bf80a7b8",
      "cell_type": "markdown",
      "source": "## Step 3.\n\nWe now open and display the Phidget widget with all its buttons and text. Run the following cell.",
      "metadata": {}
    },
    {
      "id": "4cdf9d1c",
      "cell_type": "code",
      "source": "display(pb)",
      "metadata": {
        "trusted": true
      },
      "outputs": [
        {
          "output_type": "display_data",
          "data": {
            "text/plain": "PhidgetButtons()",
            "application/vnd.jupyter.widget-view+json": {
              "version_major": 2,
              "version_minor": 0,
              "model_id": "4b775d13ff4d463d9f424b7080686732"
            }
          },
          "metadata": {}
        }
      ],
      "execution_count": 4
    },
    {
      "id": "cb21c64c",
      "cell_type": "markdown",
      "source": "## Step 4. \nClicking on the \"Connect\" button above will open a window that asks you to select the Phidget Hub. Select the hub and click \"Connect.\" The window looks like this:\n<img src=\"images/Pconnect.png\" alt=\"Hey\"  width = 300 />\n\nIf you don't get this window, perhaps you are using the wrong browser. (Use Chrome, Chromium, or Opera).\n\nIf you get the window but don't see the Phidget device, check to be sure the Phidget VINT hub is connected to your computer with a USB cable.",
      "metadata": {}
    },
    {
      "id": "072c4607",
      "cell_type": "markdown",
      "source": "### Check:\nIf all is well, the status text will report that the USB port is connected and the device channels are open. You should also see buttons for the LED and text boxes for the state of the push buttons on the Phidget hardware. \n\n\n\nIf you don't see any values, check again that the Phidget VINT device is connected to your computer with a USB cable. Also check that you have the LEDs and pushbottom cables connected to the correct ports, as per the setup instruction. \n\n- We assume the red button (inA) is attached to port 0, and the red LED (outA) attached to port 1.\n- We assume the green button (inB) is attached to port 5, and the green LED (outB) attached to port 4.\n\nIf these are different on your device, you will need to change these numbers in the JS code above to match the ports on the VINT USB hub. \n",
      "metadata": {}
    },
    {
      "id": "6592c60e",
      "cell_type": "markdown",
      "source": "## Step 5.\n\nNow try it out.\n\nClick on the buttons on the screen to light the LEDs.\n\nPush the pushbuttons on the Phidget hardware and observe the text on the screen reporting that the buttons are pushed. ",
      "metadata": {}
    },
    {
      "id": "164fb67a",
      "cell_type": "markdown",
      "source": "## Step 6. Closing down the sensors\n\nIt is **really important** to close the Phidget device when you are done. Otherwise they will keep busy forever, always trying to update the text with the latest values. Also, no other notebook can use the Phidgets while this one is active. \n\nTo close the Phidget, go back to the Connect button above, and click where it says \"Click to disconnect.\"\n\nYou can also simply close this notebook. ",
      "metadata": {}
    },
    {
      "id": "5cd5e7f4",
      "cell_type": "markdown",
      "source": "## In case of errors\n\nDo you see buttons appear on the screen, but nothing is happening? Go back and look for the \"Connect\" button just above Step 4. Click on it to get the Phidget hardware to connect to the software.\n\nStill having problems? What kind of errors can happen? What should we do about them?\n\n**Symptom 1**. When you click the Connect button, status text says \"USB not connected\"\n- Problem is likely that your browser does not support WebUSB.\n    - Solution is to switch to the latest versions of Chrome, Chromium, Opera or Edge.\n- Another problem could be that the Phidget VINT device is not connected via a USB cable. You should see a window like this <img src=\"images/Pconnect.png\" alt=\"Hey\"  width = 300 /> Select the VINT device once it appears.\n- Another notebook or piece of software is already connected to the Phidget device.\n    - Only one notebook at a time can use the Phidget. So close down any other notebook using Phidgets, or exit any other software using the device. \n- You might have an older version of a Phidget that needs a firmware update.\n    - see here for the solution: https://www.phidgets.com/education/educators/advanced-troubleshooting/firmware-upgrade/\n  \n    \n**Symptom 2**. When you click the Connect button, status text is \"USB connected, channel not open.\"\n- Check to see that you have a Phidget temperature/humidity device connected to your Phidget hub or VINT device\n",
      "metadata": {}
    },
    {
      "id": "4438ea8e",
      "cell_type": "markdown",
      "source": "## And that's it. \n\nThe Phidget device will continue to monitor the two push buttons, display the result on the screen, and light up the appropriate LEDs. .\n\n\nGood job!",
      "metadata": {}
    },
    {
      "id": "4871334f",
      "cell_type": "markdown",
      "source": "[![Callysto.ca License](https://github.com/callysto/curriculum-notebooks/blob/master/callysto-notebook-banner-bottom.jpg?raw=true)](https://github.com/callysto/curriculum-notebooks/blob/master/LICENSE.md)",
      "metadata": {}
    }
  ]
}