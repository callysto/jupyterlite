{
  "metadata": {
    "kernelspec": {
      "name": "python",
      "display_name": "Python (Pyodide)",
      "language": "python"
    },
    "language_info": {
      "codemirror_mode": {
        "name": "python",
        "version": 3
      },
      "file_extension": ".py",
      "mimetype": "text/x-python",
      "name": "python",
      "nbconvert_exporter": "python",
      "pygments_lexer": "ipython3",
      "version": "3.8"
    }
  },
  "nbformat_minor": 5,
  "nbformat": 4,
  "cells": [
    {
      "id": "bcfef756",
      "cell_type": "markdown",
      "source": "![Callysto.ca Banner](https://github.com/callysto/curriculum-notebooks/blob/master/callysto-notebook-banner-top.jpg?raw=true)\n\n",
      "metadata": {}
    },
    {
      "id": "70fd8b2b",
      "cell_type": "markdown",
      "source": "## Phidget_7 Game\n\nThis is a really open ended exercise for the students.\n\nIt is important to run this notebook in the Google Chrome web browser, on a desktop or laptop computer. Opera and Microsoft Edge should work as well. Unfortunately, other browsers (FireFox, Safari) do not work currently, as they cannot access the USB port that connects to the Phidget device.\n\nReference code: https://www.phidgets.com/education/learn/getting-started-kit-tutorial/blink-led/\nBe sure to look at the JavaScript code.",
      "metadata": {}
    },
    {
      "id": "b212dbee",
      "cell_type": "markdown",
      "source": "The idea is to create a game using the push buttons and lights on the Phidgets Starter Kit. Some ideas include:\n- A speed test, where a light goes on at random and the code measures the time it takes the player to react by pushing the button.\n- A two-button speed test. The green or red light comes on at random, and the player must react by hitting the corresponding button. With the speed measured, as above\n- A pattern game. The lights flash in a random pattern (e.g. Red, Red, Green, Red, Green) and the player must repeat the pattern by pushing the button. \n- Or perhaps a \"prompt\" appears on the screen, and the player must push the corresponding button. Say, a picture randomly of an example of \"food\" or \"office supplies\" and the player must push \"Green\" for food, and \"Red\" for office supplies.\n\nOr think of your own game. \n\nA good place to start is the code in the notebook Phidget_6_buttons, which shows how to connect to the buttons and turn on and off the light. \n\nThe basic code is repeated here. Can you modify it to make a game?\n ",
      "metadata": {}
    },
    {
      "id": "514ac52a",
      "cell_type": "markdown",
      "source": "## Setting up the Phidget device\n\nWe will be using the Phidget Starter Kit, as shown in this figure:\n<img src=\"images/KIT4003.jpg\" alt=\"Image of the starter kit\"  width = 500 />\n\nVerify these points:\n- Get a hold of a Phidgets Starter Kit. It should already be assembled. If not, assemble it now.\n    - You will have received instructions with the kit on how to assemble it.\n- The Starter Kit has a two buttons and two switches connect. If it does not, find them and attach.\n    - We assume the red button is attached to port 0, and the red LED attached to port 1.\n    - We assume the green button is attached to port 5, and the green LED attached to port 4.\n    - if note, either change yoor wires or chage the \"setPortHub\" values in the code belwo. \n- Connect the Starter Kit to your computer with a USB cable. \n    - The Kit come with a USB cable, it is attached to the Hub device inside the Starter Kit.\n- If you have an older version of the Phidgets, you may need to update its firmware. See the following for details:\n    - https://www.phidgets.com/education/educators/advanced-troubleshooting/firmware-upgrade/\n- As mentioned above, make sure you are running this notebook in the Google Chrome browser. ",
      "metadata": {}
    },
    {
      "id": "3514789c",
      "cell_type": "markdown",
      "source": "## Setup the Phidget device\n\nAs in the earlier notebooks, the main steps are thus:\n\n1. Load in some Python libraries\n2. Create the PhidgetsButtons class, using Javascript \n3. Display the PhidgetButtons widget\n4. Open the USB connection\n5. Control the Phidgets hardware from code\n6. Link the Phidgets to checkboxes\n7. Make a simple game \n8. When we are done, close the device",
      "metadata": {}
    },
    {
      "id": "a61e9e84",
      "cell_type": "markdown",
      "source": "## Step 1.\n\nLet's import a few Python libraries that we need. \n\nThe **anywidget** library is still in development, so we do a pip install if it is not already on the hub.  ",
      "metadata": {}
    },
    {
      "id": "39f6b124",
      "cell_type": "code",
      "source": "%pip install anywidget",
      "metadata": {
        "trusted": true
      },
      "outputs": [],
      "execution_count": 1
    },
    {
      "id": "3a9f4208-b3c2-4ef0-9606-6d645269b330",
      "cell_type": "code",
      "source": "import anywidget",
      "metadata": {
        "trusted": true
      },
      "outputs": [],
      "execution_count": 2
    },
    {
      "id": "69a0f9a2",
      "cell_type": "markdown",
      "source": "## NOTE:\n\nIf the **install** or **import** above gives an error message, try running them aghain. If that doesn't work, try closing the notebook, shut down the kernel, then reopen the notebook. Run the cell again. After that, the library will be properly installed.  ",
      "metadata": {}
    },
    {
      "id": "1d3ede7d",
      "cell_type": "code",
      "source": "import traitlets\nimport threading\nimport ipywidgets as widgets\nfrom time import sleep, perf_counter",
      "metadata": {
        "trusted": true
      },
      "outputs": [],
      "execution_count": 3
    },
    {
      "id": "bf80a7b8",
      "cell_type": "markdown",
      "source": "## Step 2.\n\nWe create the PhidgetButtons2 class (software object) as an example of the **anywidget** models. It is based on the previous notebook, phidget_6_buttons.ipynb. However, we remove some of the buttons in the user interface, so it is better suited for games. \n\nThe JS code for this tool is shown. Have a read, and feel free to experiment with it. ",
      "metadata": {}
    },
    {
      "id": "4cdf9d1c",
      "cell_type": "code",
      "source": "class PhidgetButtons2(anywidget.AnyWidget):\n    _esm = \"\"\"\n\n// Importing the functions we need for Phidgets\n  import {USBConnection, DigitalInput, DigitalOutput} from \"https://esm.sh/phidget22@3.17\";\n\n  export function render({ model, el }) {\n    \n    var connection = 0, inA = 0, inB = 0, outA = 0, outB = 0, connOpen = false;\n\n// Opening the USBconnection\n    async function openUSB() {\n        if (connection) {\n            try {await connection.close();} catch {}\n            try {await connection.delete();} catch {}\n        }\n        try {connection = new USBConnection();} \n            catch{console.log(\"This browser does not support WebUSB\");}\n\n     \ttry {\n                await connection.connect();\n                connection.requestWebUSBDeviceAccess();\n                connOpen = true;\n        } catch(err) {\n                connOpen = false;\n        }\n\n// Opening the digital inputs (for switched) and outputs (for LEDs)\n        inA = new DigitalInput();\n        inA.setHubPort(0);        \n        inA.setIsHubPortDevice(true);\n        inA.onStateChange = function(state) {\n            model.set('inAstate', state);\n            model.save_changes();\n         }\n\n        inB = new DigitalInput();\n        inB.setHubPort(5);        \n        inB.setIsHubPortDevice(true); \n        inB.onStateChange = function(state) {\n            model.set('inBstate', state);\n            model.save_changes();\n         }\n\n        outA = new DigitalOutput();\n        outA.setHubPort(1);        \n        outA.setIsHubPortDevice(true); \n\n        outB = new DigitalOutput();\n        outB.setHubPort(4);        \n        outB.setIsHubPortDevice(true);\n         \n        function outAchanged() {\n            var state = model.get('outAstate');\n            outA.setState(state);\n            model.set('outAstate', state);\n            model.save_changes();\n        }\n         \n        function outBchanged() {\n            var state = model.get('outBstate');\n            outB.setState(state);\n            model.set('outBstate', state);\n            model.save_changes();\n        }\n         \n        model.on(\"change:outAstate\", outAchanged);\n        model.on(\"change:outBstate\", outBchanged);\n\n\n// Here is the code to connect the devices\n     \ttry {\n                await inA.open(1000);\n                await inB.open(1000);\n                await outA.open(1000);\n                await outB.open(1000);\n                connOpen = true;\n        } catch(err) {\n                connOpen = false;\n        }\n       \n         // now get the UI to reflect the status\n        if (connOpen) {\n            textStatus.innerHTML = 'USB connected, channels open.  .';\n            button.innerHTML = `Click to disconnect`;\n        }\n        else {\n            textStatus.innerHTML = 'USB did not connect.  .';\n            button.innerHTML = `Click to connect`;        \n        }\n    };\n\n    async function closeUSB() {\n        try {await connection.close();} catch {}\n        try {await connection.delete();} catch {}\n        connOpen = false;\n        textStatus.innerHTML = 'Disconnected.  .';\n        button.innerHTML = `Click to connect`;\n    };\n    \n// The user interface, with one buttons and text \n    let button = document.createElement(\"button\");\n    button.classList.add(\"ph-button\");\n    button.innerHTML = `Click to open USB`;\n    button.addEventListener(\"click\", async () => {\n        if (connOpen) {closeUSB();} else {openUSB();}\n    });\n    let textStatus = document.createElement(\"label\");\n    textStatus.innerHTML = 'Status message here.  .';\n    \n// Now display the user interface\n \n    el.appendChild(button);\n    el.appendChild(textStatus);\n    \n// Clean up when the notebook is closed\n    return async () => {\n        try {await channel.close();} catch {}\n        try {await connection.close();} catch {}\n        try {await connection.delete();} catch {}\n    };\n  }\n    \"\"\"\n    _css = \"\"\"\n        .ph-button {color: white; \n            background-color:rgb(96, 107, 174); \n            border-radius: 8px; \n            font-size: 24px; \n            display: block;\n            padding: 15px 32px;}\n        .ph-button:hover { background-color:rgb(120, 128, 187); }\n    \"\"\"\n    inAstate = traitlets.Bool(False).tag(sync=True)\n    inBstate = traitlets.Bool(False).tag(sync=True)\n    outAstate = traitlets.Bool(False).tag(sync=True)\n    outBstate = traitlets.Bool(False).tag(sync=True)\n\npb = PhidgetButtons2()",
      "metadata": {
        "trusted": true
      },
      "outputs": [],
      "execution_count": 4
    },
    {
      "id": "597ac176",
      "cell_type": "markdown",
      "source": "## Step 3.\n\nWe now open and display the Phidget widget with its button and text. Run the following cell.",
      "metadata": {}
    },
    {
      "id": "e098cdf5",
      "cell_type": "code",
      "source": "display(pb)",
      "metadata": {
        "trusted": true
      },
      "outputs": [
        {
          "output_type": "display_data",
          "data": {
            "text/plain": "PhidgetButtons2()",
            "application/vnd.jupyter.widget-view+json": {
              "version_major": 2,
              "version_minor": 0,
              "model_id": "4539eaf14f914d0a9904a9700b30a6f7"
            }
          },
          "metadata": {}
        }
      ],
      "execution_count": 5
    },
    {
      "id": "a970ba57",
      "cell_type": "markdown",
      "source": "## Step 4. \nClicking on the \"Connect\" button above will open a window that asks you to select the Phidget Hub. Select the hub and click \"Connect.\" The window looks like this:\n<img src=\"images/Pconnect.png\" alt=\"Hey\"  width = 300 />\n\nIf you don't get this window, perhaps you are using the wrong browser. (Use Chrome, Chromium, or Opera).\n\nIf you get the window but don't see the Phidget device, check to be sure the Phidget VINT hub is connected to your computer with a USB cable.",
      "metadata": {}
    },
    {
      "id": "7618c31b",
      "cell_type": "markdown",
      "source": "### Check:\nIf all is well, the status text will report that the USB port is connected and the device channels are open. \n\nIf you don't see this status, check again that the Phidget VINT device is connected to your computer with a USB cable. Also check that you have the LEDs and pushbottom cables connected to the correct ports, as per the setup instruction. \n\n- We assume the red button (inA) is attached to port 0, and the red LED (outA) attached to port 1.\n- We assume the green button (inB) is attached to port 5, and the green LED (outB) attached to port 4.\n\nIf these are different on your device, you will need to change these numbers in the JS code above to match the ports on the VINT USB hub. \n\nYou won't see any buttons about the LEDs or buttons. Instead, we use Python code to control these hardware devices. ",
      "metadata": {}
    },
    {
      "id": "6e6aa2b5",
      "cell_type": "markdown",
      "source": "## Step 5.\n\nWe control the hardware directly with code. Try running the following cells and observe the action.s",
      "metadata": {}
    },
    {
      "id": "4194dbcb",
      "cell_type": "code",
      "source": "# This will turn on the Red LED\npb.outAstate = True",
      "metadata": {
        "trusted": true
      },
      "outputs": [],
      "execution_count": 6
    },
    {
      "id": "73bcaa01",
      "cell_type": "code",
      "source": "# This will turn off the Red LED\npb.outAstate = False",
      "metadata": {
        "trusted": true
      },
      "outputs": [],
      "execution_count": 7
    },
    {
      "id": "c7a3b4f8",
      "cell_type": "code",
      "source": "# This will turn on the Green LED\npb.outBstate = True",
      "metadata": {
        "trusted": true
      },
      "outputs": [],
      "execution_count": 8
    },
    {
      "id": "2c5e8c22",
      "cell_type": "code",
      "source": "# This will turn off the Green LED\npb.outBstate = False",
      "metadata": {
        "trusted": true
      },
      "outputs": [],
      "execution_count": 9
    },
    {
      "id": "165105ce",
      "cell_type": "code",
      "source": "## This will show the state of the Red button. It usually is false\npb.inAstate",
      "metadata": {
        "trusted": true
      },
      "outputs": [
        {
          "execution_count": 10,
          "output_type": "execute_result",
          "data": {
            "text/plain": "False"
          },
          "metadata": {}
        }
      ],
      "execution_count": 10
    },
    {
      "id": "9f5bc458",
      "cell_type": "code",
      "source": "## Try holding down the Red button, and then run this cell. It will read True\npb.inAstate",
      "metadata": {
        "trusted": true
      },
      "outputs": [
        {
          "execution_count": 11,
          "output_type": "execute_result",
          "data": {
            "text/plain": "False"
          },
          "metadata": {}
        }
      ],
      "execution_count": 11
    },
    {
      "id": "bc436c7c",
      "cell_type": "markdown",
      "source": "## Step 6. Linking the phidgets to widgets\n\nWe can add some check boxes to monitor the hardware. ",
      "metadata": {}
    },
    {
      "id": "3e005ede",
      "cell_type": "code",
      "source": "checkinA = widgets.Checkbox(\n    value=False,\n    description='Button A',\n    disabled=False\n)\ncheckinB = widgets.Checkbox(\n    value=False,\n    description='Button B',\n    disabled=False\n)\ncheckoutA = widgets.Checkbox(\n    value=False,\n    description='LED A',\n    disabled=False\n)\ncheckoutB = widgets.Checkbox(\n    value=False,\n    description='LED B',\n    disabled=False\n)\n\nlinkoutA=widgets.link((checkoutA,'value'),(pb,'outAstate'))\nlinkoutB=widgets.link((checkoutB,'value'),(pb,'outBstate'))\nlinkinA=widgets.link((checkinA,'value'),(pb,'inAstate'))\nlinkinB=widgets.link((checkinB,'value'),(pb,'inBstate'))",
      "metadata": {
        "trusted": true
      },
      "outputs": [],
      "execution_count": 12
    },
    {
      "id": "85ffbe4e",
      "cell_type": "code",
      "source": "display(checkinA,checkinB,checkoutA,checkoutB)",
      "metadata": {
        "trusted": true
      },
      "outputs": [
        {
          "output_type": "display_data",
          "data": {
            "text/plain": "Checkbox(value=False, description='Button A')",
            "application/vnd.jupyter.widget-view+json": {
              "version_major": 2,
              "version_minor": 0,
              "model_id": "354e3a4bc85c48d0a62ab7da3c689717"
            }
          },
          "metadata": {}
        },
        {
          "output_type": "display_data",
          "data": {
            "text/plain": "Checkbox(value=False, description='Button B')",
            "application/vnd.jupyter.widget-view+json": {
              "version_major": 2,
              "version_minor": 0,
              "model_id": "46755f893f8545468d1c94c1d0fe7768"
            }
          },
          "metadata": {}
        },
        {
          "output_type": "display_data",
          "data": {
            "text/plain": "Checkbox(value=False, description='LED A')",
            "application/vnd.jupyter.widget-view+json": {
              "version_major": 2,
              "version_minor": 0,
              "model_id": "28607f1aabcc440d9bfda7f068bdbfc5"
            }
          },
          "metadata": {}
        },
        {
          "output_type": "display_data",
          "data": {
            "text/plain": "Checkbox(value=False, description='LED B')",
            "application/vnd.jupyter.widget-view+json": {
              "version_major": 2,
              "version_minor": 0,
              "model_id": "6fffb2268195451883d9fd31a207fa0d"
            }
          },
          "metadata": {}
        }
      ],
      "execution_count": 13
    },
    {
      "id": "6e28f4e6",
      "cell_type": "markdown",
      "source": "### Check.\n\nPush the buttons on the Phidget hardware, and the above checkboxs will active.\n\nClick on the checkboxes for the LEDs, and the physical LED on the Phidget hardware will light up.",
      "metadata": {
        "jp-MarkdownHeadingCollapsed": true
      }
    },
    {
      "id": "eb932723",
      "cell_type": "markdown",
      "source": "## Step 7. Let's try a game.\n\nLet's create game to test  how quickly you can push the button, when the light comes on.\n\nHere is the basic idea for the code:\n- **game_is_running** keeps track the game state, **pb.outAstate = False** turns the LED off\n- variables **t_start** and **t_end** will record when the LED goes on, and when the player pushes the button\n- the difference **t_end - t_start** tells how long it took. \n- game starts by waiting until the player pushes and released the button, waits 2 seconds, then turns the LED on\n- when the player pushes the button, the end time t_end is saved \n- the game then ends, and displays the player's time.\n- the game just keeps repeating\n\nHere is the Python code.",
      "metadata": {}
    },
    {
      "id": "948e6236-22f8-479c-bb9e-4ef263e88359",
      "cell_type": "code",
      "source": "game_is_running = False  ## game does not start until button is pushed and released\npb.outAstate = False\nt_start = 0\nt_end = 0\n\n\ndef button_game(change):\n    global game_is_running, t_start, t_end\n    if (not game_is_running): \n        pb.outAstate = False\n        text.value = \"Push the red button to start.\"\n        if (not change.new): ## wait until we get a message that the button is released\n            text.value += \"2\"\n            game_is_running = True\n            text.value = \"Push when the light comes on.\"\n            sleep(2)\n            t_start = perf_counter()\n            pb.outAstate = True\n            text.value = \"GO!!\"       \n    else:\n        if (change.new): ## wait until the button is pushed\n            t_end = perf_counter()\n            pb.outAstate = False\n            game_is_running = False\n            text.value = \"Time is \" + f'{(t_end-t_start):.3f} sec.' + \" Get ready...\"\n            sleep(3)\n\npb.observe(button_game, names=[\"inAstate\"])\n\ntext = widgets.Text(\n    value='Push the red button to start',\n    description='Speed:',\n    disabled=False   \n)\n\ntext",
      "metadata": {
        "trusted": true
      },
      "outputs": [
        {
          "execution_count": 17,
          "output_type": "execute_result",
          "data": {
            "text/plain": "Text(value='Push the red button to start', description='Speed:')",
            "application/vnd.jupyter.widget-view+json": {
              "version_major": 2,
              "version_minor": 0,
              "model_id": "9d58fe62f2574d86b43c83051f67acd7"
            }
          },
          "metadata": {}
        }
      ],
      "execution_count": 17
    },
    {
      "id": "c4e64719",
      "cell_type": "markdown",
      "source": "### Check\n\nHow did it go? Did you get a time? Try it several times. \n\nWhat's your best time?",
      "metadata": {}
    },
    {
      "id": "cbb331d0",
      "cell_type": "markdown",
      "source": "## Now try your own\n\nCan you build on this example game? Put in a random delay? Have the two LEDs light up at random? Have a pattern of lights that must be matched on the buttons? Get creative!\n\nYou may find it useful to run the following piece of code, to detach the button_game from the Phidget button device. ",
      "metadata": {}
    },
    {
      "id": "93e2d35e-d8a8-4216-9c2a-7964de61b71b",
      "cell_type": "code",
      "source": "#### Uncomment and run the following line, to free up the Phidget button for new code.\n\n#pb.unobserve(handler=button_game, names='inAstate', type='change')",
      "metadata": {
        "trusted": true
      },
      "outputs": [],
      "execution_count": 15
    },
    {
      "id": "19953aa6",
      "cell_type": "markdown",
      "source": "## Step 8. Closing up\n\nWhen you are all done, you should close up the Phidget hardware . Click the button to disconnect, or just close this notebook.",
      "metadata": {}
    },
    {
      "id": "4438ea8e",
      "cell_type": "markdown",
      "source": "## And that's it. \n\nThat was a simple game. Can you build on this idea?\n\n\nGood luck!",
      "metadata": {}
    },
    {
      "id": "4871334f",
      "cell_type": "markdown",
      "source": "[![Callysto.ca License](https://github.com/callysto/curriculum-notebooks/blob/master/callysto-notebook-banner-bottom.jpg?raw=true)](https://github.com/callysto/curriculum-notebooks/blob/master/LICENSE.md)",
      "metadata": {}
    }
  ]
}