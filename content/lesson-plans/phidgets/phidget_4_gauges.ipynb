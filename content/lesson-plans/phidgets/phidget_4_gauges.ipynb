{
  "metadata": {
    "kernelspec": {
      "name": "python",
      "display_name": "Python (Pyodide)",
      "language": "python"
    },
    "language_info": {
      "codemirror_mode": {
        "name": "python",
        "version": 3
      },
      "file_extension": ".py",
      "mimetype": "text/x-python",
      "name": "python",
      "nbconvert_exporter": "python",
      "pygments_lexer": "ipython3",
      "version": "3.8"
    }
  },
  "nbformat_minor": 5,
  "nbformat": 4,
  "cells": [
    {
      "id": "a954153d",
      "cell_type": "markdown",
      "source": "![Callysto.ca Banner](https://github.com/callysto/curriculum-notebooks/blob/master/callysto-notebook-banner-top.jpg?raw=true)\n\n",
      "metadata": {}
    },
    {
      "id": "46f3a83c",
      "cell_type": "markdown",
      "source": "## Phidgets_4 Gauges.\n\nLet's use the previous work and connect the Phidget temperature and humidity sensors to a live gauge in Plotly.\n\nWe use Plotly to get some nice looking gauges, and make them live by attaching them to the Phidget data. \n\nIt is important to run this notebook in the Google Chrome web browser, on a desktop or laptop computer. It also will work with Chromium, Opera and Edge. Unfortunately, other browsers (FireFox, Safari) will not work as they cannot access the USB port that connects to the Phidget device. That may change in the future, but at the time of writing, this is currently only possible in Chrome/Chromium/Opera/Edge.",
      "metadata": {}
    },
    {
      "id": "832a0010",
      "cell_type": "markdown",
      "source": "## Setting up the Phidget hardware\n\nWe will be using the Phidget Starter Kit, as shown in this figure:\n<img src=\"images/KIT4003.jpg\" alt=\"Image of the starter kit\"  width = 500 />\n\nVerify these points:\n- Get a hold of a Phidgets Starter Kit. It should already be assembled. If not, assemble it now.\n    - You will have received instructions with the kit on how to assemble it.\n- The Starter Kit has a temperature/humidity sensor attached. If it does not, find the sensor and attach it.\n    - The humidity sensor is a small black box attached with a thin cable. It is marked with the initials \"HUM.\"\n- Connect the Starter Kit to your computer with a USB cable. \n    - The Kit come with a USB cable, it is attached to the Hub device inside the Starter Kit.\n- If you have an older version of the Phidgets, you may need to update its firmware. See the following for details:\n    - https://www.phidgets.com/education/educators/advanced-troubleshooting/firmware-upgrade/\n- As mentioned earlier, make sure you are running this notebook in the Google Chrome browser. ",
      "metadata": {}
    },
    {
      "id": "aef7a947",
      "cell_type": "markdown",
      "source": "## Set up gauges\n\nWe first set up the two gauges, for temperature and humidity",
      "metadata": {}
    },
    {
      "id": "4bb70239-dfef-4787-95d9-9d07d9df8d81",
      "cell_type": "code",
      "source": "%pip install plotly",
      "metadata": {
        "trusted": true
      },
      "outputs": [],
      "execution_count": 1
    },
    {
      "id": "80beb55b-cabc-476d-9445-48f80e7fca56",
      "cell_type": "code",
      "source": "%pip install ipywidgets>=7.0.0",
      "metadata": {
        "trusted": true
      },
      "outputs": [],
      "execution_count": 5
    },
    {
      "id": "390878fc",
      "cell_type": "code",
      "source": "from plotly.subplots import make_subplots\nimport plotly.graph_objects as go\n\nind_hum = go.Indicator(\n    mode = \"gauge+number\",\n    value = 40,\n    domain = {'x': [0, 1], 'y': [0, 1]},\n    title = {'text': \"Humidity\"},\n    gauge = {'axis': {'range': [0, 100]}}\n)\n\nind_temp = go.Indicator(\n    mode = \"gauge+number\",\n    value = 20,\n    domain = {'x': [0, 1], 'y': [0, 1]},\n    title = {'text': \"Temperature\"},\n    gauge = {'axis': {'range': [5, 35]}}\n)\n\n\nfig = make_subplots(\n    rows=1,\n    cols=2,\n    specs=[[{'type' : 'domain'}, {'type' : 'domain'}]])\nfig.append_trace(ind_temp, row=1, col=1)\nfig.append_trace(ind_hum, row=1, col=2)\n\ngauges = go.FigureWidget(fig)\n\ngauges",
      "metadata": {
        "trusted": true
      },
      "outputs": [
        {
          "execution_count": 6,
          "output_type": "execute_result",
          "data": {
            "application/vnd.jupyter.widget-view+json": {
              "version_major": 2,
              "version_minor": 0,
              "model_id": "a22269d371eb49119f4a76fb7ee508d7"
            },
            "text/plain": "FigureWidget({\n    'data': [{'domain': {'x': [0.0, 0.45], 'y': [0, 1]},\n              'gauge': {'axis': {'range': [5, 35]}},\n              'mode': 'gauge+number',\n              'title': {'text': 'Temperature'},\n              'type': 'indicator',\n              'uid': 'cdd8ca2d-152e-4b74-9de3-9081f2d90cad',\n              'value': 20},\n             {'domain': {'x': [0.55, 1.0], 'y': [0, 1]},\n              'gauge': {'axis': {'range': [0, 100]}},\n              'mode': 'gauge+number',\n              'title': {'text': 'Humidity'},\n              'type': 'indicator',\n              'uid': 'aab2ea99-26fb-459f-b26f-353830ac3c41',\n              'value': 40}],\n    'layout': {'template': '...'}\n})"
          },
          "metadata": {}
        }
      ],
      "execution_count": 6
    },
    {
      "id": "0aad94cc",
      "cell_type": "markdown",
      "source": "## Setup the Phidget software\n\nAs in the earlier notebooks, the main steps are thus:\n\n1. Import some Python libraries\n2. Create the Phidget Widget as a software object to connect to the devices\n3. Display the widget and the gauges\n4. Connect by pressing a button on screen\n5. Link the Phidget data to the gauges, for live updates. View the gauges.\n6. Close the sensor when you are done\n",
      "metadata": {}
    },
    {
      "id": "d26f3773",
      "cell_type": "markdown",
      "source": "## Step 1.\n\nLet's import a few Python libraries that we need. \n\nThe **anywidget** library is still in development, so we do a pip install if it is not already on the hub.  ",
      "metadata": {}
    },
    {
      "id": "9322cd5f",
      "cell_type": "code",
      "source": "%pip install anywidget",
      "metadata": {
        "trusted": true
      },
      "outputs": [],
      "execution_count": 7
    },
    {
      "id": "318e8d6b-58ec-455c-98aa-4ac3061d4155",
      "cell_type": "code",
      "source": "import anywidget",
      "metadata": {
        "trusted": true
      },
      "outputs": [],
      "execution_count": 8
    },
    {
      "id": "a6a08c40",
      "cell_type": "markdown",
      "source": "## NOTE:\n\nIf the **install** or **import** above gives an error message, try running them aghain. If that doesn't work, try closing the notebook, shut down the kernel, then reopen the notebook. Run the cell again. After that, the library will be properly installed. ",
      "metadata": {}
    },
    {
      "id": "fef61e70",
      "cell_type": "code",
      "source": "import pathlib\nimport traitlets",
      "metadata": {
        "trusted": true
      },
      "outputs": [],
      "execution_count": 9
    },
    {
      "id": "f3d2fb76",
      "cell_type": "markdown",
      "source": "## Step 2.\n\nWe create the PhidgetFour class (software object) as an example of the **anywidget** models. The JS code for this tool is in the file **ph4auto.js** while the style file is in **ph4xx.css**. If you like, you can open this files in your browser to see what the code looks like.\n\nThe PhidgetFour object contains four Python variables (named temperature, humidity, moisture and luminance) which will contain the data from the sensors. ",
      "metadata": {}
    },
    {
      "id": "f0e32bea",
      "cell_type": "code",
      "source": "class PhidgetsFour(anywidget.AnyWidget):\n    _esm = pathlib.Path(\"ph4auto.js\")\n    _css = pathlib.Path(\"ph4xx.css\")\n    # These 4 variables are used by the widget. Do not delete. \n    temperature = traitlets.Float(0).tag(sync=True)\n    humidity = traitlets.Float(0).tag(sync=True)\n    moisture = traitlets.Float(0).tag(sync=True)\n    luminance = traitlets.Float(0).tag(sync=True)\n\npf = PhidgetsFour()",
      "metadata": {
        "trusted": true
      },
      "outputs": [],
      "execution_count": 10
    },
    {
      "id": "8a2d644d",
      "cell_type": "markdown",
      "source": "## Step 3.\n\nWe now open and display the Phidget widget along with the gauges.\n\nWhen you run the following cell, you should see a button displayed and some text, followed by the gauges. ",
      "metadata": {}
    },
    {
      "id": "9e4cb799",
      "cell_type": "code",
      "source": "display(pf,gauges)",
      "metadata": {
        "trusted": true
      },
      "outputs": [
        {
          "output_type": "display_data",
          "data": {
            "text/plain": "PhidgetsFour()",
            "application/vnd.jupyter.widget-view+json": {
              "version_major": 2,
              "version_minor": 0,
              "model_id": "cd5b54f5a9e64144936eded8b603fd3f"
            }
          },
          "metadata": {}
        },
        {
          "output_type": "display_data",
          "data": {
            "application/vnd.jupyter.widget-view+json": {
              "version_major": 2,
              "version_minor": 0,
              "model_id": "a22269d371eb49119f4a76fb7ee508d7"
            },
            "text/plain": "FigureWidget({\n    'data': [{'domain': {'x': [0.0, 0.45], 'y': [0, 1]},\n              'gauge': {'axis': {'range': [5, 35]}},\n              'mode': 'gauge+number',\n              'title': {'text': 'Temperature'},\n              'type': 'indicator',\n              'uid': 'cdd8ca2d-152e-4b74-9de3-9081f2d90cad',\n              'value': 20},\n             {'domain': {'x': [0.55, 1.0], 'y': [0, 1]},\n              'gauge': {'axis': {'range': [0, 100]}},\n              'mode': 'gauge+number',\n              'title': {'text': 'Humidity'},\n              'type': 'indicator',\n              'uid': 'aab2ea99-26fb-459f-b26f-353830ac3c41',\n              'value': 40}],\n    'layout': {'template': '...'}\n})"
          },
          "metadata": {}
        }
      ],
      "execution_count": 11
    },
    {
      "id": "b1fafc82",
      "cell_type": "markdown",
      "source": "## Step 4. \nClicking on the \"Connect\" button above will open a window that asks you to select the Phidget Hub. Select the hub and click \"Connect.\" The window looks like this:\n<img src=\"images/Pconnect.png\" alt=\"Hey\"  width = 300 />\n\nIf you don't get this window, perhaps you are using the wrong browser. (Use Chrome, Chromium, or Opera).\n\nIf you get the window but don't see the Phidget device, check to be sure the Phidget VINT hub is connected to your computer with a USB cable.",
      "metadata": {}
    },
    {
      "id": "cd23b5c8",
      "cell_type": "markdown",
      "source": "### Check:\nIf all is well, the status text will report that the USB port is connected and the device channels are open. You should also see the value for temperature and humidity\n\nIf you connected a moisture probe and the light detector from the Phidgets plant kit, you will see these values displayed as well. \n\nIf you don't see any values, check again that the Phidget VINT device is connected to your computer with a USB cable. Also check that you have a Phidget temperature/humidity sensor connected to your VINT with the appropriate cable. ",
      "metadata": {}
    },
    {
      "id": "8dd323b8",
      "cell_type": "markdown",
      "source": "## Step 5.\n\nNow we link the gauges to the Phidgets. Run the following cell and you will see the gauges update as the humidity changes.\n",
      "metadata": {}
    },
    {
      "id": "4f5f0484",
      "cell_type": "code",
      "source": "# connect the Phidget widget to the gauges in the user interface\ndef updateTemperature(change):\n    gauges.data[0]['value'] = change.new\ndef updateHumidity(change):\n    gauges.data[1]['value'] = change.new\npf.observe(updateTemperature, names=[\"temperature\"])\npf.observe(updateHumidity, names=[\"humidity\"])",
      "metadata": {
        "trusted": true
      },
      "outputs": [],
      "execution_count": 12
    },
    {
      "id": "43381210",
      "cell_type": "markdown",
      "source": "## PAUSE HERE\n\nThe gauges should be running now. Everything is live.  Scroll up and check it out the gauges, to see the temperature and humitity values. Try breathing on the sensor, so you can see changes in the readings. \n\nWe can even display a copy of the gauges right here, also live. ",
      "metadata": {}
    },
    {
      "id": "5787a07d",
      "cell_type": "code",
      "source": "gauges",
      "metadata": {
        "trusted": true
      },
      "outputs": [
        {
          "execution_count": 13,
          "output_type": "execute_result",
          "data": {
            "application/vnd.jupyter.widget-view+json": {
              "version_major": 2,
              "version_minor": 0,
              "model_id": "a22269d371eb49119f4a76fb7ee508d7"
            },
            "text/plain": "FigureWidget({\n    'data': [{'domain': {'x': [0.0, 0.45], 'y': [0, 1]},\n              'gauge': {'axis': {'range': [5, 35]}},\n              'mode': 'gauge+number',\n              'title': {'text': 'Temperature'},\n              'type': 'indicator',\n              'uid': 'cdd8ca2d-152e-4b74-9de3-9081f2d90cad',\n              'value': 23.38},\n             {'domain': {'x': [0.55, 1.0], 'y': [0, 1]},\n              'gauge': {'axis': {'range': [0, 100]}},\n              'mode': 'gauge+number',\n              'title': {'text': 'Humidity'},\n              'type': 'indicator',\n              'uid': 'aab2ea99-26fb-459f-b26f-353830ac3c41',\n              'value': 44.1}],\n    'layout': {'template': '...'}\n})"
          },
          "metadata": {}
        }
      ],
      "execution_count": 13
    },
    {
      "id": "7c743b26",
      "cell_type": "markdown",
      "source": "## Step 6. Closing down the sensors\n\nIt is **really important** to close the sensors when you are done. Otherwise they will keep busy forever, always trying to update the gauges with the latest values. Also, no other notebook can use the Phidgets while this one is active. \n\nTo close the Phidget, go back to the Connect button above, and click where it says \"Click to disconnect.\"\n\nYou can also simply close this notebook. ",
      "metadata": {}
    },
    {
      "id": "ed587083",
      "cell_type": "markdown",
      "source": "## In case of errors\n\nDo you see gauges just above this cell, but nothing is happening? Go back and look for the \"Connect\" button in one of the cells. Click on it to get the Phidget hardware to connect to the software.\n\nStill having problems? What kind of errors can happen? What should we do about them?\n\n**Symptom 1**. When you click the Connect button, status text says \"USB not connected\"\n- Problem is likely that your browser does not support WebUSB.\n    - Solution is to switch to the latest versions of Chrome, Chromium, Opera or Edge.\n- Another problem could be that the Phidget VINT device is not connected via a USB cable. You should see a window like this <img src=\"images/Pconnect.png\" alt=\"Hey\"  width = 300 /> Select the VINT device once it appears.\n- Another notebook or piece of software is already connected to the Phidget device.\n    - Only one notebook at a time can use the Phidget. So close down any other notebook using Phidgets, or exit any other software using the device. \n- You might have an older version of a Phidget that needs a firmware update.\n    - see here for the solution: https://www.phidgets.com/education/educators/advanced-troubleshooting/firmware-upgrade/\n  \n    \n**Symptom 2**. When you click the Connect button, status text is \"USB connected, channel not open.\"\n- Check to see that you have a Phidget temperature/humidity device connected to your Phidget hub or VINT device\n",
      "metadata": {}
    },
    {
      "id": "2e261121",
      "cell_type": "markdown",
      "source": "## Conclusion\n\nWe have shown how to display the temperature and humidity values from the Phidget device using a live guages from the Plotly software library. ",
      "metadata": {}
    },
    {
      "id": "ba7ee230",
      "cell_type": "markdown",
      "source": "[![Callysto.ca License](https://github.com/callysto/curriculum-notebooks/blob/master/callysto-notebook-banner-bottom.jpg?raw=true)](https://github.com/callysto/curriculum-notebooks/blob/master/LICENSE.md)",
      "metadata": {}
    }
  ]
}