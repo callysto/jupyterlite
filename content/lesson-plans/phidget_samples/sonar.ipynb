{
  "metadata": {
    "kernelspec": {
      "name": "python",
      "display_name": "Python (Pyodide)",
      "language": "python"
    },
    "language_info": {
      "codemirror_mode": {
        "name": "python",
        "version": 3
      },
      "file_extension": ".py",
      "mimetype": "text/x-python",
      "name": "python",
      "nbconvert_exporter": "python",
      "pygments_lexer": "ipython3",
      "version": "3.8"
    }
  },
  "nbformat_minor": 5,
  "nbformat": 4,
  "cells": [
    {
      "id": "c76b10ff-909e-4109-af17-0f72eca681b7",
      "cell_type": "markdown",
      "source": "![Callysto.ca Banner](https://github.com/callysto/curriculum-notebooks/blob/master/callysto-notebook-banner-top.jpg?raw=true)\n",
      "metadata": {}
    },
    {
      "id": "998c6720-7418-462e-a40b-04806e1c44dd",
      "cell_type": "markdown",
      "source": "## sonar.ipynb: Sonar Distance Sensor\n\n#### January 2024\n\nThis short notebook is a minimal demonstration of how to access a Phidget device from a Jupyter notebook and connect it to Python code.\n\nIt is important to run this notebook in a suitable  web browser: Google Chrome, Chromium or MS Edge. Unfortunately, other browsers do not currently support the WebUSB protocol for accessing USB devices from a web page. \n\n## Setting up the Phidget device\n\nYou will need a Phidget VINT hub (HUB0001) and a Phidget Sonar Distance Sensor (DST1200) connected together as shown here:\n<p style=\"text-align:center;\">\n<img src=\"images/SonarSensor.png\" alt=\"Image of the sonar distance sensor and VINT Hub\"  width = 500 />\n</p>\n<p style=\"text-align:center;\">\nPhidget VINT Hub and Sonar Distance Sensor connected together. (Photo Credits: Phidgets Inc.)\n</p>\n\nUse a USB cable to connect the VINT Hub to your computer. \n\nIf you have an older version of the Phidgets, you may need to update its firmware. See the following for details:\n\n- https://www.phidgets.com/education/educators/advanced-troubleshooting/firmware-upgrade/\n\n### Notes on local and remote computer\n\nNote we are using two computers here. There is the laptop (or desktop) computer sitting in front of you, which is the **local** computer. The Callysto Hub, that you're running this notebook on, is a piece of software running on a cloud-based network computer located at the Cybera offices in Alberta (usually), and we call this the **remote** computer. \n\nWe run Python code on the Callysto Hub, while the Phidget device is accessed from the local computer using Javascript. JavaScript is just another programming language, but with a syntax and structure somewhat different than Python. You will see Javascript in the code below as part of the widget class.\n\nFor more information on how to write Javascript for accessing the Phidget Sonar Distance Sensor device, please refer to the Phidgets webpages:\n\n- https://www.phidgets.com/?prodid=973#Tab_API\n\nRun the following cells and follow the instructions at the end.",
      "metadata": {}
    },
    {
      "id": "075dc10a-ff45-4f5b-90f6-d8feb13b4e55",
      "cell_type": "code",
      "source": "import piplite\nawait piplite.install(['ipywidgets','anywidget'])\nimport anywidget\nimport traitlets\nfrom ipywidgets import FloatSlider",
      "metadata": {},
      "outputs": [],
      "execution_count": 1
    },
    {
      "id": "45d0e115-8607-4376-a9f1-59122c25caac",
      "cell_type": "code",
      "source": "## Create the sonar widget class, which communicates with the Phidget devices.\n\nclass sonar_widget(anywidget.AnyWidget):\n    _esm = \"\"\"\n\nimport {USBConnection, DistanceSensor} from \"https://esm.sh/phidget22@3.17\";\n\nexport function render({ model, el }) {\n    var conn = 0; // the USB connection\n    var chan = 0; // the channel for the device\n    var isOpen = false;\n    var connOpen = false;\n    var chanOpen = false;\n\n    async function openUSB() {\n        if (conn) {\n            try {await chan.close();} catch {}\n            try {await conn.close();} catch {}\n            try {await conn.delete();} catch {}\n        }\n        conn = new USBConnection();\n        chan = new DistanceSensor();\n    \tchan.onDistanceChange = function(value) {\n            textValue.innerHTML = 'Distance is ' + value + ' mm' ;\n            model.set('value', value);\n            model.save_changes();\n    \t};\n        chan.onAttach = async () => {\n            textStatus.innerHTML = 'Attached. ';\n            await chan.setDataInterval(250);\n        }\n\n        try {\n    \t\tawait conn.connect();\n            conn.requestWebUSBDeviceAccess();\n            connOpen = true;\n    \t} catch(err) {connOpen = false;}\n        if (connOpen) {\n            chanOpen = false;\n            try {\n                await chan.open(2000);\n                chanOpen = true;\n            } catch(err) {chanOpen = false;}\n        }\n        \n        // now let the UI reflect the status of the connections\n        if (connOpen && chanOpen) {\n            isOpen = true;\n            textStatus.innerHTML = 'USB connected, channel open. ';\n            button.innerHTML = `Click to disconnect`;\n        }\n        if (connOpen && !chanOpen) {\n            isOpen = false;\n            textStatus.innerHTML = 'USB connected, channel not open. ';\n            button.innerHTML = `Click to connect`;\n        }\n        if (!connOpen) {\n            isOpen = false;\n            textStatus.innerHTML = 'USB did not connect. ';\n            button.innerHTML = `Click to connect`;        \n        }\n    };\n    async function closeUSB() {\n        try {await chan.close();} catch {}\n        try {await conn.close();} catch {}\n        try {await conn.delete();} catch {}\n        isOpen = false; \n        connOpen = false;\n        chanOpen = false;\n        textStatus.innerHTML = 'Disconnected. ';\n        textValue.innerHTML = 'Distance is null. ';\n        button.innerHTML = `Click to connect`;\n    };\n    \n    // here we define the user interface, a button and two text boxes\n    let button = document.createElement(\"button\");\n    button.classList.add(\"ph-button\");\n    button.innerHTML = `Click to open USB`;\n    button.addEventListener(\"click\", async () => {\n        if (isOpen) {closeUSB();} else {openUSB();}\n    });\n    let textStatus = document.createElement(\"label\");\n    textStatus.innerHTML = 'Status message here. ';\n    let textValue = document.createElement(\"label\");\n    textValue.innerHTML = 'Sound dB is null. ';\n    \n    // Post the UI into the Jupyter notebook cell\n\n    el.appendChild(button);\n    el.appendChild(textStatus);\n    el.appendChild(textValue);\n    \n    // we include a return function to close the Phidget when the notebook is closed\n    return closeUSB();\n}\n    \"\"\"\n    _css = \"\"\"\n    .ph-button {color: white; \n        background-color:rgb(96, 107, 174); \n        border-radius: 8px; \n        font-size: 24px; \n        display: block;\n        padding: 15px 32px;}\n    .ph-button:hover { background-color:rgb(120, 128, 187); }  \n    \"\"\"\n    value = traitlets.Float(0).tag(sync=True)\n\n",
      "metadata": {},
      "outputs": [],
      "execution_count": 2
    },
    {
      "id": "839e387e-3ee5-465a-939e-89ac66b6b49f",
      "cell_type": "markdown",
      "source": "## Side note\n\nAt this point, you could use the widget with the one-line command \n> sonar_widget()\n\nHowever, let's get creative and use Python code to read the device values and display on a ipywidget. ",
      "metadata": {}
    },
    {
      "id": "2651a244-48c2-4890-ae21-fb28c2a5a902",
      "cell_type": "code",
      "source": "## Create the sonar widget and link it to a slider, representing the distance.\n\nphidget = sonar_widget()\ngauge = FloatSlider(min=0,max=2000,step=10,orientation='horizontal',description = 'Dist. (mm)')\ndef updateGauge(change):\n    gauge.value = change.new\n\nphidget.observe(updateGauge, names=['value'])",
      "metadata": {},
      "outputs": [],
      "execution_count": 3
    },
    {
      "id": "9a93dcb1-7213-4ce7-99c4-646825a7b339",
      "cell_type": "code",
      "source": "## Display the sonar widget and the slider. \n\ndisplay(phidget,gauge)",
      "metadata": {},
      "outputs": [
        {
          "data": {
            "application/vnd.jupyter.widget-view+json": {
              "model_id": "5b52996171f94a4e9b70a5b2d51b3964",
              "version_major": 2,
              "version_minor": 0
            },
            "text/plain": [
              "sonar_widget()"
            ]
          },
          "metadata": {},
          "output_type": "display_data"
        },
        {
          "data": {
            "application/vnd.jupyter.widget-view+json": {
              "model_id": "2da606db5c9a42e8ac20d369b2fd95e6",
              "version_major": 2,
              "version_minor": 0
            },
            "text/plain": [
              "FloatSlider(value=0.0, description='Dist. (mm)', max=2000.0, step=10.0)"
            ]
          },
          "metadata": {},
          "output_type": "display_data"
        }
      ],
      "execution_count": 4
    },
    {
      "id": "847859d0-5fc8-4039-bf07-58fac7b4fa90",
      "cell_type": "markdown",
      "source": "## Instructions\n\nUse the mouse to click on the \"Click to connect\" button above. \n\nIf the phidget does not connect right way, try clicking again. Also, verify that you have the phidget hub connected to your computer's USB port, and the phidget device is plugged into the hub. Once connected, you will see the device data values updates every second or so. \n\nWhen you are done, click on the button now labeled \"Click to disconnect.\"",
      "metadata": {}
    },
    {
      "id": "159aedd9-7a69-4684-8e81-f85869fb3050",
      "cell_type": "markdown",
      "source": "[![Callysto.ca License](https://github.com/callysto/curriculum-notebooks/blob/master/callysto-notebook-banner-bottom.jpg?raw=true)](https://github.com/callysto/curriculum-notebooks/blob/master/LICENSE.md)",
      "metadata": {}
    }
  ]
}