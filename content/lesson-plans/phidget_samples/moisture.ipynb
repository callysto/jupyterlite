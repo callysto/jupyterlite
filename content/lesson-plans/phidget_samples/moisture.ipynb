{
  "metadata": {
    "kernelspec": {
      "name": "python",
      "display_name": "Python (Pyodide)",
      "language": "python"
    },
    "language_info": {
      "codemirror_mode": {
        "name": "python",
        "version": 3
      },
      "file_extension": ".py",
      "mimetype": "text/x-python",
      "name": "python",
      "nbconvert_exporter": "python",
      "pygments_lexer": "ipython3",
      "version": "3.8"
    }
  },
  "nbformat_minor": 5,
  "nbformat": 4,
  "cells": [
    {
      "id": "cef1ffa6-b4ba-4984-9e87-73276bd16f19",
      "cell_type": "markdown",
      "source": "![Callysto.ca Banner](https://github.com/callysto/curriculum-notebooks/blob/master/callysto-notebook-banner-top.jpg?raw=true)\n",
      "metadata": {}
    },
    {
      "id": "1bac978f-173b-4660-8c58-0a249e514ded",
      "cell_type": "markdown",
      "source": "## moisture.ipynb: Moisture Level Sensor\n\n#### January 2024\n\nThis short notebook is a minimal demonstration of how to access a Phidget device from a Jupyter notebook and connect it to Python code.\n\nIt is important to run this notebook in a suitable  web browser: Google Chrome, Chromium or MS Edge. Unfortunately, other browsers do not currently support the WebUSB protocol for access to USB devices from a web page. \n\n## Setting up the Phidget device\n\nYou will need a Phidget VINT hub (HUB0001) and a Phidget Moisture Sensor (HUM1100) connected together as shown here:\n<p style=\"text-align:center;\">\n<img src=\"images/MoistureSensor.png\" alt=\"Image of the moisture sensor and VINT Hub\"  width = 400 />\n</p>\n<p style=\"text-align:center;\">\nPhidget VINT Hub and Moisture Sensor connected together. (Photo Credits: Phidgets Inc.)\n</p>\n\nUse a USB cable to connect the VINT Hub to your computer. \n\nIf you have an older version of the Phidgets, you may need to update its firmware. See the following for details:\n\n- https://www.phidgets.com/education/educators/advanced-troubleshooting/firmware-upgrade/\n\n### Notes on local and remote computer\n\nNote we are using two computers here. There is the laptop (or desktop) computer sitting in front of you, which is the **local** computer. The Callysto Hub, that you're running this notebook on, is a piece of software running on a cloud-based network computer located at the Cybera offices in Alberta (usually), and we call this the **remote** computer. \n\nWe run Python code on the Callysto Hub, while the Phidget device is accessed from the local computer using Javascript. JavaScript is just another programming language, but with a syntax and structure somewhat different than Python. You will see Javascript in the code below as part of the widget class.\n\nFor more information on how to write Javascript for accessing the Phidget Moisture Sensor device, please refer to the Phidgets webpages:\n\n- https://www.phidgets.com/?prodid=1287#Tab_API\n\nRun the following cells and follow the instructions at the end. ",
      "metadata": {}
    },
    {
      "id": "075dc10a-ff45-4f5b-90f6-d8feb13b4e55",
      "cell_type": "code",
      "source": "import piplite\nawait piplite.install(['ipywidgets','anywidget'])\nimport anywidget\nimport traitlets\nfrom ipywidgets import FloatSlider",
      "metadata": {
        "trusted": true
      },
      "outputs": [],
      "execution_count": null
    },
    {
      "id": "45d0e115-8607-4376-a9f1-59122c25caac",
      "cell_type": "code",
      "source": "## Create the moisture widget class, which communicates with the Phidget devices.\n\nclass moisture_widget(anywidget.AnyWidget):\n    _esm = \"\"\"\n\nimport {USBConnection, VoltageRatioInput} from \"https://esm.sh/phidget22@3.17\";\n\nexport function render({ model, el }) {\n    var conn = 0; // the USB connection\n    var chan = 0; // the channel for the device\n    var isOpen = false;\n    var connOpen = false;\n    var chanOpen = false;\n\n    async function openUSB() {\n        if (conn) {\n            try {await chan.close();} catch {}\n            try {await conn.close();} catch {}\n            try {await conn.delete();} catch {}\n        }\n        conn = new USBConnection();\n        chan = new VoltageRatioInput();\n        chan.onVoltageRatioChange = function(value) {\n            textValue.innerHTML = 'Moisture is ' + value;\n            model.set('value', value);\n            model.save_changes();\n       \t};\n        chan.onAttach = async () => {\n            textStatus.innerHTML = 'Attached. ';\n            await chan.setDataInterval(250);\n        }\n\n        try {\n    \t\tawait conn.connect();\n            conn.requestWebUSBDeviceAccess();\n            connOpen = true;\n    \t} catch(err) {connOpen = false;}\n        if (connOpen) {\n            chanOpen = false;\n            try {\n                await chan.open(2000);\n                chanOpen = true;\n            } catch(err) {chanOpen = false;}\n        }\n        \n        // now let the UI reflect the status of the connections\n        if (connOpen && chanOpen) {\n            isOpen = true;\n            textStatus.innerHTML = 'USB connected, channel open. ';\n            button.innerHTML = `Click to disconnect`;\n        }\n        if (connOpen && !chanOpen) {\n            isOpen = false;\n            textStatus.innerHTML = 'USB connected, channel not open. ';\n            button.innerHTML = `Click to connect`;\n        }\n        if (!connOpen) {\n            isOpen = false;\n            textStatus.innerHTML = 'USB did not connect. ';\n            button.innerHTML = `Click to connect`;        \n        }\n    };\n    async function closeUSB() {\n        try {await chan.close();} catch {}\n        try {await conn.close();} catch {}\n        try {await conn.delete();} catch {}\n        isOpen = false; \n        connOpen = false;\n        chanOpen = false;\n        textStatus.innerHTML = 'Disconnected. ';\n        textValue.innerHTML = 'Moisture is null. ';\n        button.innerHTML = `Click to connect`;\n    };\n    \n    // here we define the user interface, a button and two text boxes\n    let button = document.createElement(\"button\");\n    button.classList.add(\"ph-button\");\n    button.innerHTML = `Click to open USB`;\n    button.addEventListener(\"click\", async () => {\n        if (isOpen) {closeUSB();} else {openUSB();}\n    });\n    let textStatus = document.createElement(\"label\");\n    textStatus.innerHTML = 'Status message here. ';\n    let textValue = document.createElement(\"label\");\n    textValue.innerHTML = 'Moisture is null. ';\n    \n    // Post the UI into the Jupyter notebook cell\n    el.appendChild(button);\n    el.appendChild(textStatus);\n    el.appendChild(textValue);\n    \n    // we include a return function to close the Phidget when the notebook is closed\n    return closeUSB();\n  }\n    \"\"\"\n    _css = \"\"\"\n    .ph-button {color: white; \n        background-color:rgb(96, 107, 174); \n        border-radius: 8px; \n        font-size: 24px; \n        display: block;\n        padding: 15px 32px;}\n    .ph-button:hover { background-color:rgb(120, 128, 187); }  \n    \"\"\"\n    value = traitlets.Float(0).tag(sync=True)",
      "metadata": {
        "trusted": true
      },
      "outputs": [],
      "execution_count": null
    },
    {
      "id": "5bf02f93-735e-4a37-83f8-eb26ebfe74b6",
      "cell_type": "markdown",
      "source": "## Side note\n\nAt this point, you could use the widget with the one-line command \n> moisture_widget()\n\nHowever, let's get creative and use Python code to read the device values and display on a ipywidget. ",
      "metadata": {}
    },
    {
      "id": "2651a244-48c2-4890-ae21-fb28c2a5a902",
      "cell_type": "code",
      "source": "## Create the moisture widget and link it to a slider, representing the humidity level.\n\nphidget = moisture_widget()\ngauge = FloatSlider(min=0,max=1,step=.01,orientation='horizontal',description = 'Moisture')\ndef updateGauge(change):\n    gauge.value = change.new\n\nphidget.observe(updateGauge, names=['value'])",
      "metadata": {
        "trusted": true
      },
      "outputs": [],
      "execution_count": null
    },
    {
      "id": "ebaa7ad5-07fc-4660-b2cd-b1b90a608b96",
      "cell_type": "code",
      "source": "## Display the moisture widget and the slider. \n\ndisplay(phidget,gauge)",
      "metadata": {
        "trusted": true
      },
      "outputs": [],
      "execution_count": null
    },
    {
      "id": "a6bcd162-d2f6-43d9-88dc-98b3b1a91cbe",
      "cell_type": "markdown",
      "source": "## Instructions\n\nUse the mouse to click on the \"Click to connect\" button above. \n\nIf the phidget does not connect right way, try clicking again. Also, verify that you have the phidget hub connected to your computer's USB port, and the phidget device is plugged into the hub. Once connected, you will see the device data values updates every second or so. \n\nWhen you are done, click on the button now labeled \"Click to disconnect.\"",
      "metadata": {}
    },
    {
      "id": "88bdc600-c9a9-45bc-8bb5-b20ee040d0cb",
      "cell_type": "markdown",
      "source": "[![Callysto.ca License](https://github.com/callysto/curriculum-notebooks/blob/master/callysto-notebook-banner-bottom.jpg?raw=true)](https://github.com/callysto/curriculum-notebooks/blob/master/LICENSE.md)",
      "metadata": {}
    }
  ]
}