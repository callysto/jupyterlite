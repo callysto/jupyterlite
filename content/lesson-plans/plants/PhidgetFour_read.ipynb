{
  "metadata": {
    "kernelspec": {
      "name": "python",
      "display_name": "Python (Pyodide)",
      "language": "python"
    },
    "language_info": {
      "codemirror_mode": {
        "name": "python",
        "version": 3
      },
      "file_extension": ".py",
      "mimetype": "text/x-python",
      "name": "python",
      "nbconvert_exporter": "python",
      "pygments_lexer": "ipython3",
      "version": "3.8"
    }
  },
  "nbformat_minor": 5,
  "nbformat": 4,
  "cells": [
    {
      "id": "c687b9ff",
      "cell_type": "markdown",
      "source": "![Callysto.ca Banner](https://github.com/callysto/curriculum-notebooks/blob/master/callysto-notebook-banner-top.jpg?raw=true)\n \n<a href=\"https://hub.callysto.ca/jupyter/hub/user-redirect/git-pull?repo=https%3A%2F%2Fgithub.com%2Fcallysto%2Flesson-plans&branch=anywidgets&urlpath=notebooks/lesson-plans/notebooks/plants/PhidgetFour_read.ipynb&depth=1\" target=\"_parent\"><img src=\"https://raw.githubusercontent.com/callysto/curriculum-notebooks/master/open-in-callysto-button.svg?sanitize=true\" width=\"123\" height=\"24\" alt=\"Open in Callysto\"></a>",
      "metadata": {}
    },
    {
      "id": "3cb2d7d9-058a-4452-bf26-0d8decf647a7",
      "cell_type": "markdown",
      "source": "## Phidgets Plant Kit- Your Talking Plant \n\n\n\n#### Does your plant appear sad, or do you think it requires some tender loving care? By connecting the [Phidgets plant kit](https://store.logicsacademy.com/products/phidgets-education-plant-kit) to your plant and running the codes below, your plant will start communicating with you.",
      "metadata": {}
    },
    {
      "id": "054e9a32-c124-48ad-9b77-7246bd5805cd",
      "cell_type": "markdown",
      "source": "<img src=\"images/plant2.jpg\" alt=\"A plant with sensor\" width=\"400\"/>\n<div align=\"center\">\n\nA basement window with our plant.",
      "metadata": {}
    },
    {
      "id": "ce35fb00-8ddc-487b-9117-ca5d402e68f7",
      "cell_type": "markdown",
      "source": "##### There are important requirements you must meet in order to complete this setup:\n    \n- you need the Phidget VINT device, with three sensors attached\n    - the temperature/humidity sensor (device type HUM1001_01)\n    - the light sensor (device type LUX1000_0)\n    - the moisture sensor (device type HUM1100)\n- you will need a computer (Mac, Windows, Raspberry Pi) with a USB connection and internet access\n- you will need the Chrome or Chromium Web browser (Safari, Firefox, and Edge will not work)\n\nFollow these steps:\n\nAssemble your Phidgets plant kit, see the following [link](https://www.phidgets.com/education/learn/projects/plant-kit/assemble/)\n1. Install the libraries\n2. Set up the visual Gauges\n1. Set up the phidgets widget\n1. Display the gauges and widget, and connect the phidget device\n1. Test it out.\n",
      "metadata": {}
    },
    {
      "id": "ca693d5a-b7f6-4386-be11-32256ee594a6",
      "cell_type": "markdown",
      "source": "***\n## 1. Install libraries and widgets\n\nThe pip install for anywidgets only needs to be done once on your hub. \n\nHere we use the \"try\" command in Python to install it when it is necessary. \n\nClick on `▶Run` for both cells below. ",
      "metadata": {}
    },
    {
      "id": "9894a6f4",
      "cell_type": "code",
      "source": "import piplite\nawait piplite.install(['plotly','nbformat','anywidget'])\n\nimport pathlib\nimport traitlets\nimport anywidget",
      "metadata": {
        "trusted": true
      },
      "outputs": [],
      "execution_count": null
    },
    {
      "id": "970ea42a-678a-403b-a042-68f80f841090",
      "cell_type": "code",
      "source": "import plotly.graph_objects as go\nfrom plotly.subplots import make_subplots\nimport ipywidgets as widgets",
      "metadata": {
        "trusted": true
      },
      "outputs": [],
      "execution_count": null
    },
    {
      "id": "74eda24c",
      "cell_type": "markdown",
      "source": "***\n## 2. Set Up Visual Gauges \n\nThe codes below creates four gauges that are connected to the phidgets. \n\nClick on `▶Run`.",
      "metadata": {}
    },
    {
      "id": "ab8c1b94-c390-4dcd-bc88-a8aeb66ebec9",
      "cell_type": "code",
      "source": "# the four sensor gauges\ng_temp = go.Indicator(\n    mode = \"gauge+number\",\n    value = 20,\n    domain = {'x': [0, 1], 'y': [0, 1]},\n    title = {'text': \"Temperature\"},\n    gauge = {'axis': {'range': [10, 40]}}\n)\n\ng_hum = go.Indicator(\n    mode = \"gauge+number\",\n    value = 40,\n    domain = {'x': [0, 1], 'y': [0, 1]},\n    title = {'text': \"Humidity\"},\n    gauge = {'axis': {'range': [0, 100]}}\n)\n\ng_moist = go.Indicator(\n    mode = \"gauge+number\",\n    value = 0.5,\n    domain = {'x': [0, 1], 'y': [0, 1]},\n    title = {'text': \"Moisture\"},\n    gauge = {'axis': {'range': [0, 1.0]}}\n)\n\ng_light = go.Indicator(\n    mode = \"gauge+number\",\n    value = 40,\n    domain = {'x': [0, 1], 'y': [0, 1]},\n    title = {'text': \"Light Level\"},\n    gauge = {'axis': {'range': [0, 1000]}}\n)\n\nfig = make_subplots(\n    rows=2,\n    cols=2,\n    specs=[[{'type' : 'domain'}, {'type' : 'domain'}],[{'type' : 'domain'}, {'type' : 'domain'}]],\n    vertical_spacing = 0.35\n)\nfig.append_trace(g_temp, row=1, col=1)\nfig.append_trace(g_hum, row=1, col=2)\nfig.append_trace(g_moist, row=2, col=1)\nfig.append_trace(g_light, row=2, col=2)\n\ngauges = go.FigureWidget(fig)\ngauges",
      "metadata": {
        "trusted": true
      },
      "outputs": [],
      "execution_count": null
    },
    {
      "id": "c8ca4c0a-47f2-4d82-99fe-e48ac6540f8f",
      "cell_type": "markdown",
      "source": "This next code connects the gauges to changes in the sensors. \n\nClick on `▶Run`.",
      "metadata": {}
    },
    {
      "id": "2d233943-5cda-4ef2-9f1b-2b16333b9625",
      "cell_type": "code",
      "source": "def updateTemperature(change):\n    gauges.data[0]['value'] = change.new\n    \ndef updateHumidity(change):\n    gauges.data[1]['value'] = change.new\n    \ndef updateMoisture(change):\n    gauges.data[2]['value'] = change.new\n    \ndef updateLuminance(change):\n    gauges.data[3]['value'] = change.new\n",
      "metadata": {
        "trusted": true
      },
      "outputs": [],
      "execution_count": null
    },
    {
      "id": "ce480b42",
      "cell_type": "markdown",
      "source": "***\n## 3. The Phidget Widget\n\nThe next cell will create the phidget widget.\n\nWe will display it along with the gauges.\n\nClick on `▶Run`",
      "metadata": {}
    },
    {
      "id": "d2b341f3-9f5c-4349-9230-f51d9f75824b",
      "cell_type": "code",
      "source": "class PhidgetFour_read(anywidget.AnyWidget):\n    _esm = pathlib.Path(\"ph4read.js\")\n    _css = pathlib.Path(\"ph4xx.css\")\n    # These 5 variables are used by the widget class. Do not delete. \n    hubPort = traitlets.Int(0).tag(sync=True)   \n    temperature = traitlets.Float(0).tag(sync=True)\n    humidity = traitlets.Float(0).tag(sync=True)\n    moisture = traitlets.Float(0).tag(sync=True)\n    luminance = traitlets.Float(0).tag(sync=True)\n\npf = PhidgetFour_read()\n\npf.observe(updateTemperature, names=[\"temperature\"])\npf.observe(updateHumidity, names=[\"humidity\"])\npf.observe(updateMoisture, names=[\"moisture\"])\npf.observe(updateLuminance, names=[\"luminance\"])",
      "metadata": {
        "trusted": true
      },
      "outputs": [],
      "execution_count": null
    },
    {
      "id": "aee27c9a-fdb9-4636-b8fd-ab0ac8c95ec4",
      "cell_type": "code",
      "source": "display(pf,gauges)",
      "metadata": {
        "trusted": true
      },
      "outputs": [],
      "execution_count": null
    },
    {
      "id": "9b88172e-bb57-4939-85d5-bdc0f4f70369",
      "cell_type": "markdown",
      "source": "***\n## 4. Test it out\n\nClick on the \"Open USB\" button to connect the phidget sensors. Click on the \"Read Data\" button to read the data and update the gauges. \n\nEach time you click the read data, you get an updated value. \n\nYou can also access the Phidgets in code:",
      "metadata": {}
    },
    {
      "id": "a3ff92dd-c457-4cdc-9d4a-dfc3ad4a1b37",
      "cell_type": "markdown",
      "source": "You can send messages to \"pf\" to open, close or read data from the phidgets, like this. ",
      "metadata": {}
    },
    {
      "id": "db4cd494",
      "cell_type": "code",
      "source": "pf.send(\"read\")  ## This reads the data and updates the gauges",
      "metadata": {
        "trusted": true
      },
      "outputs": [],
      "execution_count": null
    },
    {
      "id": "52d7913c",
      "cell_type": "markdown",
      "source": "You can also print out the current values of the phidget, like this:",
      "metadata": {}
    },
    {
      "id": "96e2ea04",
      "cell_type": "code",
      "source": "print(pf.temperature, pf.humidity, pf.moisture, pf.luminance)",
      "metadata": {
        "trusted": true
      },
      "outputs": [],
      "execution_count": null
    },
    {
      "id": "73532842-15c0-4ce0-81ad-420e1927a47e",
      "cell_type": "markdown",
      "source": "#### Troubleshooting and/or not working?\nIf your are unable to read the data from the sensors, you can try the following:\n1. Click disconnect and reconnect botton in this notebook\n2. Check that the senors are connected to the VINT HUB Phidgets\n",
      "metadata": {}
    },
    {
      "id": "6a648f05",
      "cell_type": "markdown",
      "source": "***\n## 5. Finishing up: Closing down the sensors.\nOnce you are done with the Phidgets, you should close them down. This makes the devices available to other software or other users of the computer.\n\nTo disconnect, click on the Phidget widget button above that says \"Disconnect.\"\n\nOr, simply close this notebook. The Phidgets will then automatically disconnet.\n\n### Conclusion\nWe have demonstrated the process of running a utility that retrieves Phidget sensor data and publishes it on the web. This operation involves a combination of Javascript and Python to interact with both the front-end and back-end components within the Jupyter notebook environment.\n\nIf you plan to collect data over an extended period, it's essential to have the Jupyter \"Hub\" software installed on your local computer. Please note that if you run this software on the [Callysto Hub](https://hub.callysto.ca) , it may automatically disconnect after approximately a day of continuous data collection.\n\n### Next Notebook\nYou may now go to the [next notebook](./PhidgetFour_auto.ipynb) to do the see your plant automatically reading data.\n\n***\n\nFor additional support or inquiries related to this notebook, feel free to reach out to M. Lamoureux or Mary Grant, who serve as Callysto ambassadors. They can provide further details and assistance.",
      "metadata": {}
    },
    {
      "id": "1a149b0f",
      "cell_type": "markdown",
      "source": "[![Callysto.ca License](https://github.com/callysto/curriculum-notebooks/blob/master/callysto-notebook-banner-bottom.jpg?raw=true)](https://github.com/callysto/curriculum-notebooks/blob/master/LICENSE.md)",
      "metadata": {}
    }
  ]
}