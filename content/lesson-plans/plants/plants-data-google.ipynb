{
  "metadata": {
    "kernelspec": {
      "name": "python",
      "display_name": "Python (Pyodide)",
      "language": "python"
    },
    "language_info": {
      "codemirror_mode": {
        "name": "python",
        "version": 3
      },
      "file_extension": ".py",
      "mimetype": "text/x-python",
      "name": "python",
      "nbconvert_exporter": "python",
      "pygments_lexer": "ipython3",
      "version": "3.8"
    }
  },
  "nbformat_minor": 5,
  "nbformat": 4,
  "cells": [
    {
      "id": "a954153d",
      "cell_type": "markdown",
      "source": "![Callysto.ca Banner](https://github.com/callysto/curriculum-notebooks/blob/master/callysto-notebook-banner-top.jpg?raw=true)\n \n<a href=\"https://hub.callysto.ca/jupyter/hub/user-redirect/git-pull?repo=https%3A%2F%2Fgithub.com%2Fcallysto%2Flesson-plans&branch=anywidgets&urlpath=notebooks/lesson-plans/notebooks/plants/PhidgetFour_auto.ipynb&depth=1\" target=\"_parent\"><img src=\"https://raw.githubusercontent.com/callysto/curriculum-notebooks/master/open-in-callysto-button.svg?sanitize=true\" width=\"123\" height=\"24\" alt=\"Open in Callysto\"></a>",
      "metadata": {}
    },
    {
      "id": "f6c36172",
      "cell_type": "markdown",
      "source": "# Collecting Data from Plants with Phidgets\n\nThis is a utility notebook to collect data from [\"Phidgets\"](https://www.phidgets.com/education/learn/projects/plant-kit/) sensors around a plant and store in an online spreadsheet (Google Sheets).\n\nWe have tried to make this notebook as friendly as possible for beginner programmers. However, it does require some attention to detail, so follow the instructions carefully. \n\n*The notebook runs both Python code and Javascript (JS) code. It would be nice to do everything in Python, but it seems Javascript is necessary to communicate with the Phidgets in a Jupyter notebook. Fortunately, the Javascript code here is easy enough to read and you will not need to change it.*",
      "metadata": {}
    },
    {
      "id": "46f3a83c",
      "cell_type": "markdown",
      "source": "<h2 style=\"color: red\">IMPORTANT</h2>\nIt is a good idea to disconnect the Phidgets at the end of this notebook when you are done. See the notes at the end on how to do this, so the Phidgets can be used by other notebooks you use later.",
      "metadata": {}
    },
    {
      "id": "24d58734-7a7b-4ce8-bbc1-3950bfa4ea55",
      "cell_type": "markdown",
      "source": "## Overview\n\nThe purpose of this notebook is to collect data from certain hardware sensors called \"Phidgets\" which are set up to monitor the environment of a plant. The data can be viewed directly and it is also saved in an online spreadsheet for later data analysis.\n\n<img src=\"images/plant2.jpg\" alt=\"A plant with sensor\" width=\"400\"/>\n<div align=\"center\">\n\nA basement window with our plant.",
      "metadata": {}
    },
    {
      "id": "93caa6f1",
      "cell_type": "markdown",
      "source": "##### There are important requirements you must meet in order to complete this setup:\n    \n- you need the Phidget VINT device, with three sensors attached\n    - the temperature/humidity sensor (device type HUM1001_01)\n    - the light sensor (device type LUX1000_0)\n    - the moisture sensor (device type HUM1100)\n- you will need a computer (Mac, Windows, Raspberry Pi) with a USB connection and internet access\n- you will need the Chrome or Chromium Web browser (Safari, Firefox, and Edge will not work)\n\nFollow these steps:\n\nAssemble your Phidgets plant kit, see the following [link](https://www.phidgets.com/education/learn/projects/plant-kit/assemble/)\n\n1. Setting up the gauges \n1. Setting up an online spreadsheet\n1. Connect the plant sensors to your computer\n1. Setup code to post and display data\n1. Start the timer, to continuously post data",
      "metadata": {}
    },
    {
      "id": "4e399c57",
      "cell_type": "markdown",
      "source": "***\n## Step 1. Setting up the gauges\n\nRun the cells in this notebook, **one cell at a time**. This will give you the chance to respond to any errors, and to chose a unique name for your online storage. \n\n**Do not select \"Run All.\"**\n\nWe first set up some gauges to display values for temperature, humidity, soil moisture and light levels. We also add a text box to display the data as it is read in, and another to show the results of posting to the spreadsheet.  ",
      "metadata": {}
    },
    {
      "id": "88ef7bee",
      "cell_type": "markdown",
      "source": "We first load in all the libraries we need. Click on `▶Run`",
      "metadata": {}
    },
    {
      "id": "5f374f6e-7d9e-4277-b193-1b7197cc873a",
      "cell_type": "code",
      "source": "## add some stuff to load in libraries for JupyterLite",
      "metadata": {
        "trusted": true
      },
      "outputs": [],
      "execution_count": 2
    },
    {
      "id": "1466c40d-4430-4cd5-b05b-cb680340c5d0",
      "cell_type": "code",
      "source": "%pip install plotly",
      "metadata": {
        "trusted": true
      },
      "outputs": [],
      "execution_count": 1
    },
    {
      "id": "d61a4c13-84a1-4b1f-8bdb-658ed53d9d7a",
      "cell_type": "code",
      "source": "%pip install ipywidgets",
      "metadata": {
        "trusted": true
      },
      "outputs": [],
      "execution_count": 2
    },
    {
      "id": "978dd7ad-8d49-489d-9d2d-90bbb1a42aa2",
      "cell_type": "code",
      "source": "%pip install anywidget",
      "metadata": {
        "trusted": true
      },
      "outputs": [],
      "execution_count": 3
    },
    {
      "id": "2ee3f661",
      "cell_type": "code",
      "source": "import json, pytz, os.path, random, re, requests, threading\nimport plotly.graph_objects as go\nfrom plotly.subplots import make_subplots\nimport ipywidgets as widgets\nfrom time import sleep\nfrom datetime import datetime\nfrom IPython.display import display, Javascript, IFrame, Markdown ",
      "metadata": {
        "trusted": true
      },
      "outputs": [],
      "execution_count": 4
    },
    {
      "id": "7dca1b25",
      "cell_type": "code",
      "source": "# Special libraries for the anywidgets (modified for JupyterLite)\nimport pathlib\nimport traitlets\nimport anywidget\n",
      "metadata": {
        "trusted": true
      },
      "outputs": [],
      "execution_count": 5
    },
    {
      "id": "d2a71624",
      "cell_type": "markdown",
      "source": "Now we set up the gauges and text boxes. This is not live data quite yet but we will be soon. \n\nClick on `▶Run`",
      "metadata": {}
    },
    {
      "id": "b0bfc961",
      "cell_type": "code",
      "source": "# the four sensor gauges\ng_temp = go.Indicator(\n    mode = \"gauge+number\",\n    value = 20,\n    domain = {'x': [0, 1], 'y': [0, 1]},\n    title = {'text': \"Temperature\"},\n    gauge = {'axis': {'range': [10, 40]}}\n)\n\ng_hum = go.Indicator(\n    mode = \"gauge+number\",\n    value = 40,\n    domain = {'x': [0, 1], 'y': [0, 1]},\n    title = {'text': \"Humidity\"},\n    gauge = {'axis': {'range': [0, 100]}}\n)\n\ng_moist = go.Indicator(\n    mode = \"gauge+number\",\n    value = 0.5,\n    domain = {'x': [0, 1], 'y': [0, 1]},\n    title = {'text': \"Moisture\"},\n    gauge = {'axis': {'range': [0, 1.0]}}\n)\n\ng_light = go.Indicator(\n    mode = \"gauge+number\",\n    value = 40,\n    domain = {'x': [0, 1], 'y': [0, 1]},\n    title = {'text': \"Light Level\"},\n    gauge = {'axis': {'range': [0, 10000]}}\n)\n\nfig = make_subplots(\n    rows=2,\n    cols=2,\n    specs=[[{'type' : 'domain'}, {'type' : 'domain'}],[{'type' : 'domain'}, {'type' : 'domain'}]],\n    vertical_spacing = 0.35\n)\nfig.append_trace(g_temp, row=1, col=1)\nfig.append_trace(g_hum, row=1, col=2)\nfig.append_trace(g_moist, row=2, col=1)\nfig.append_trace(g_light, row=2, col=2)\n\ngauges = go.FigureWidget(fig)\n\n# a text widget to monitor the latest data\ndata_monitor = widgets.Text(\n    description='Posted data:',\n    value=\"No posted data yet\",\n    layout={'width':'500px'},\n    disabled = False\n)\n# a text widget to monitor results of posting to the cloud\npost_monitor = widgets.Text(\n    description='Post result:',\n    value=\"No post yet\",\n    layout={'width':'500px'},\n    disabled = False\n)\n\n# the watering button\ndata_button = widgets.Button(\n    description='Update gauges',\n    tooltip='Update data to gauges',\n    disabled=False,\n    button_style='success',\n)\n\n# the auto-watering Start/Stop button\npost_button = widgets.Button(\n    description='Post to spreadsheet',\n    tooltip='Post the latest data to the spreadsheet',\n    disabled=False,\n    button_style='success',\n)\n    \ndashboard = widgets.VBox([gauges,widgets.HBox([data_button,data_monitor]),\n                              widgets.HBox([post_button,post_monitor])])\n\ndisplay(dashboard)",
      "metadata": {
        "trusted": true
      },
      "outputs": [
        {
          "output_type": "display_data",
          "data": {
            "text/plain": "VBox(children=(FigureWidget({\n    'data': [{'domain': {'x': [0.0, 0.45], 'y': [0.675, 1.0]},\n              'ga…",
            "application/vnd.jupyter.widget-view+json": {
              "version_major": 2,
              "version_minor": 0,
              "model_id": "08e337309f094bf898f6a6828d689f54"
            }
          },
          "metadata": {}
        }
      ],
      "execution_count": 6
    },
    {
      "id": "427a9722",
      "cell_type": "markdown",
      "source": "***\n## Step 2: Setting up the online spreadsheet.\n\nThe next step involves creating an online spreadsheet using a web resource called Google Sheets. It's important to note that Google Sheets is a publicly accessible online spreadsheet tool, so please **avoid storing any confidential or sensitive data in it**.\n\nIn the following code cell, you'll find a random spreadsheet number which you should use throughout the Plant notebooks. If you've used this notebook before, the code may suggest using the same name/number as your previous sheet, but you can always enter a new name/number in the text box provide but again remember that this is publicly accessible online.\n\nClick on `▶Run`",
      "metadata": {}
    },
    {
      "id": "fbfd97af",
      "cell_type": "code",
      "source": "file_name = './ss_name.txt'  # the file where we store the spreadsheet name\n\ndef get_ss_name():\n    if (os.path.isfile(file_name)):\n        with open(file_name,'r') as file:\n            result=json.load(file)\n        if result['name'] != 'default':\n            return result\n    json_name = {\"name\" : \"Plant_\" + \"\".join(random.choices('0123456789', k=6))}\n    with open(file_name,'w') as file:\n        json.dump(json_name,file)\n        return json_name\n    \ndef set_ss_name(name):\n    with open(file_name,'w') as file:\n        json.dump({\"name\" : name},file)\n    \ndef f(SS_Name):\n    if len(SS_Name) == 0:\n        return \"Enter a name here for your spreadsheet.\"\n    if re.search(r'[^A-Za-z0-9_\\-]',SS_Name):\n        return \"ERROR: Use only letters and numbers, no spaces.\"\n    else:\n        set_ss_name(SS_Name)\n        return \"Spreadsheet name is \" + SS_Name\n\nprint(\"Choose a name for your spreadsheet here:\")\nwidgets.interact(f, SS_Name=get_ss_name()['name']);",
      "metadata": {
        "trusted": true
      },
      "outputs": [
        {
          "name": "stdout",
          "text": "Choose a name for your spreadsheet here:\n",
          "output_type": "stream"
        },
        {
          "output_type": "display_data",
          "data": {
            "text/plain": "interactive(children=(Text(value='Kits_Feb_2024', description='SS_Name'), Output()), _dom_classes=('widget-int…",
            "application/vnd.jupyter.widget-view+json": {
              "version_major": 2,
              "version_minor": 0,
              "model_id": "2fd69330e1854c799e063e2a0412a7b4"
            }
          },
          "metadata": {}
        }
      ],
      "execution_count": 7
    },
    {
      "id": "63885ac2",
      "cell_type": "markdown",
      "source": "### 2a. Initializing the spreadsheet\n\nOnce you have selected a name above, we store some test data to ensure that it works. \n\nThe following code runs a google script that takes some data and posts it online. The http link that is printed out will take you to your spreadsheet that holds the data. We also save the link in a file for later use. \n\nClick on `▶Run`",
      "metadata": {}
    },
    {
      "id": "e81555b5",
      "cell_type": "code",
      "source": "sheet_url = 'https://script.google.com/macros/s/AKfycbyuMjh718bkYDYCetSGb0gxDqWxxoK_JiwEKcNkUAKdOOfLHj6uWTlsnbkM_01I-RPIlw/exec'\nsheet_name = get_ss_name()['name']\n\ndata = {'Date':'2023-09-01', \n                'Time':'09:00:00', \n                'Temperature':21, \n                'Humidity':50, \n                'Moisture':.5, \n                'Luminance':100 }\n\n\nr = requests.post(sheet_url, params={'sheet':sheet_name, 'data':json.dumps(data)})\n\nviewing_url = r.text[13:]\nfile_link = './ss_link.txt'  # the file where we store the spreadsheet link\njson_link = {\"link\" : viewing_url }\nwith open(file_link,'w') as file:\n    json.dump(json_link,file)\n\nprint(r.text)",
      "metadata": {
        "trusted": true
      },
      "outputs": [
        {
          "name": "stderr",
          "text": "/lib/python3.11/site-packages/urllib3/connectionpool.py:1101: InsecureRequestWarning:\n\nUnverified HTTPS request is being made to host 'script.google.com'. Adding certificate verification is strongly advised. See: https://urllib3.readthedocs.io/en/latest/advanced-usage.html#tls-warnings\n\n",
          "output_type": "stream"
        },
        {
          "name": "stdout",
          "text": "Data logged: https://docs.google.com/spreadsheets/d/12s1bTFF0o4-i3iSsbm4-_9J358a3fPoS9lx5szZZjjE/edit#gid=411333022\n",
          "output_type": "stream"
        }
      ],
      "execution_count": 8
    },
    {
      "id": "7ee349c3",
      "cell_type": "markdown",
      "source": "### 2b. Viewing the spreadsheet\n\nYour spreadsheet is saved online as a Google spreadsheet. It has a rather long web address, which you can display here by running the following cell. Clicking the link that appears (htpps://docs.google.com...) will open a new tab with the spreadsheet displayed. \n\nClick on `▶Run`",
      "metadata": {}
    },
    {
      "id": "5f0346b5",
      "cell_type": "code",
      "source": "Markdown(f\"Open your spreadsheet in a separate browser tab by clicking on this link: \\n \\n \\\n<a href='{viewing_url}' target='_blank'>{viewing_url}</a>\")",
      "metadata": {
        "trusted": true
      },
      "outputs": [
        {
          "execution_count": 9,
          "output_type": "execute_result",
          "data": {
            "text/plain": "<IPython.core.display.Markdown object>",
            "text/markdown": "Open your spreadsheet in a separate browser tab by clicking on this link: \n \n <a href='https://docs.google.com/spreadsheets/d/12s1bTFF0o4-i3iSsbm4-_9J358a3fPoS9lx5szZZjjE/edit#gid=411333022' target='_blank'>https://docs.google.com/spreadsheets/d/12s1bTFF0o4-i3iSsbm4-_9J358a3fPoS9lx5szZZjjE/edit#gid=411333022</a>"
          },
          "metadata": {}
        }
      ],
      "execution_count": 9
    },
    {
      "id": "0aad94cc",
      "cell_type": "markdown",
      "source": "***\n## Step 3: Connecting the sensor devices\n\nAt this point, you should connect the Phidgets hardware to your computer. This includes 4 separate devices:\n- the Phidget VINT device, attached to the computer's USB port\n- the combined temperature/humidity sensor, attached to the VINT\n- the soil moisture sensor, attached to the VINT\n- the light sensor, attached to the VINT\n\nWhen you first attach the VINT device to the USB port, your computer may ask you (pop up) whether you wish to connect to this USB device. Please answer **\"yes\"** to this security request. \n\nWe now go set up the software to communicate with the Phidget devices.",
      "metadata": {}
    },
    {
      "id": "62b68595",
      "cell_type": "markdown",
      "source": "### 3a. Creating the Phidget widget\n\nWe create a widget to control the phidgets. This widget is called \"PhidgetFour_read\" and is designed to deal with the four phidget sensors (temperature, humidity, moisture and light level) that come with the Phidget plant kit.\n\nOnce created, the Phidget widget is then connected to the gauges and the buttons in the user interface.\n\nHowever, you will not see the Phidget widget on the screen until step 3b.\nClick on `▶Run`",
      "metadata": {}
    },
    {
      "id": "15b50028-df84-46ea-b25c-9001ee9dd5f4",
      "cell_type": "code",
      "source": "## define the class\nclass PhidgetFour_read(anywidget.AnyWidget):\n    _esm = pathlib.Path(\"ph4read.js\")\n    _css = pathlib.Path(\"ph4xx.css\")\n    # These 5 variables are used by the widget class. Do not delete. \n    hubPort = traitlets.Int(0).tag(sync=True)   \n    temperature = traitlets.Float(0).tag(sync=True)\n    humidity = traitlets.Float(0).tag(sync=True)\n    moisture = traitlets.Float(0).tag(sync=True)\n    luminance = traitlets.Float(0).tag(sync=True)\n\n## create the PhidgetFour widget and name it pf\npf = PhidgetFour_read()\n\n# connect the Phidget widget to the gauges in the user interface\ndef updateTemperature(change):\n    gauges.data[0]['value'] = change.new\ndef updateHumidity(change):\n    gauges.data[1]['value'] = change.new\ndef updateMoisture(change):\n    gauges.data[2]['value'] = change.new\ndef updateLuminance(change):\n    gauges.data[3]['value'] = change.new\npf.observe(updateTemperature, names=[\"temperature\"])\npf.observe(updateHumidity, names=[\"humidity\"])\npf.observe(updateMoisture, names=[\"moisture\"])\npf.observe(updateLuminance, names=[\"luminance\"])\n\n## Now we connect the data button in the user interface to the Phidget widget named pf\ndef update_gauges(button):\n    pf.send(\"read\")\ndata_button.on_click(update_gauges)",
      "metadata": {
        "trusted": true
      },
      "outputs": [],
      "execution_count": 10
    },
    {
      "id": "8a2d644d",
      "cell_type": "markdown",
      "source": "### 3b. Opening the USB connection\n\nSteps connecting your USB device to your Phidget VINT device to your computer. \n1. The VINT must be plugged into your computer's USB port. \n1. Click on `▶Run` in the following cell\n1. You will see two buttons. Click on the first one, to connect the Phidget devices\n1. Follow the prompts to select the VINT device (a list appears that you should click on). This will pair the device with your computer. ",
      "metadata": {}
    },
    {
      "id": "61039e90-109f-4dfe-bb7d-67db82995b9a",
      "cell_type": "code",
      "source": "pf",
      "metadata": {
        "trusted": true
      },
      "outputs": [
        {
          "execution_count": 11,
          "output_type": "execute_result",
          "data": {
            "text/plain": "PhidgetFour_read()",
            "application/vnd.jupyter.widget-view+json": {
              "version_major": 2,
              "version_minor": 0,
              "model_id": "28a4406c40fb46c08705380b70d4aa7b"
            }
          },
          "metadata": {}
        }
      ],
      "execution_count": 11
    },
    {
      "id": "f659c61a-ceb7-402f-80eb-017965a89f86",
      "cell_type": "markdown",
      "source": "This should open a window that asks you to select the Phidget Hub. Do so, and click \"OK.\" The window looks like this:\n\n<img src=\"images/Pconnect.png\" width=300>\n<div align=\"left\">",
      "metadata": {}
    },
    {
      "id": "b1fafc82",
      "cell_type": "markdown",
      "source": "### 3c. Confirm the USB connection \n\nThe second button above will read the data. \nThe status line will tell you if the USB and devices are connected.\n\nClick on the second button to read the data. \n\n\n#### Troubleshooting and/or not working?\nIf your are unable to read the data from the sensors, you can try the following:\n\n1. Click disconnect and reconnect botton in this notebook\n2.Check that the senors are connected to the VINT HUB Phidgets",
      "metadata": {}
    },
    {
      "id": "1c3b0db3",
      "cell_type": "markdown",
      "source": "## Step 4: Setup code to display and post the data\n\nThe following code grabs data from the gauges and posts it onto the online spreadsheet. In the text boxes, it will also display what data was collected and the result of the online post. Results codes like 200 or 202 are good. \n\nTIME ZONE CHANGE: If you like, you can change the time zone 'Canada/Pacific' below to your time zone. For instance, for Alberta, change it to 'Canada/Mountain'\n\nThe code is connected to a button on the display, so it posts whenever you click the button.\n\n\nClick on `▶Run`",
      "metadata": {}
    },
    {
      "id": "e245c5ca",
      "cell_type": "code",
      "source": "# set the time zone\ntz = pytz.timezone('Canada/Pacific')\n\n# here we update the data results to gauges (g) then post to the spreadsheet. \ndef post_stuff(button):\n    data = {'Date':datetime.now(tz).strftime(\"%Y-%m-%d\"),\n                'Time':datetime.now(tz).strftime(\"%H:%M:%S\"), \n                'Temperature':f'{gauges.data[0][\"value\"]:.2f}', \n                'Humidity':f'{gauges.data[1][\"value\"]:.2f}', \n                'Moisture':f'{gauges.data[2][\"value\"]:.2f}', \n                'Luminance':f'{gauges.data[3][\"value\"]:.2f}'}\n    data_monitor.value = str(list(data.values()))\n    r = requests.post(sheet_url, params={'sheet':sheet_name, 'data':json.dumps(data)})\n    post_monitor.value = datetime.now(tz).strftime(\"%Y-%m-%d,%H:%M:%S\") + \", Status: \" + str(r.status_code)\n    \npost_button.on_click(post_stuff)",
      "metadata": {
        "trusted": true
      },
      "outputs": [],
      "execution_count": 12
    },
    {
      "id": "ce687ebf",
      "cell_type": "markdown",
      "source": "The dashboard is now ready to run. The buttons will now work, to update the gauges and to post data. \n\nClick on `▶Run` in the following cell.",
      "metadata": {}
    },
    {
      "id": "a7bbbae1",
      "cell_type": "code",
      "source": "display(dashboard)",
      "metadata": {
        "trusted": true
      },
      "outputs": [
        {
          "output_type": "display_data",
          "data": {
            "text/plain": "VBox(children=(FigureWidget({\n    'data': [{'domain': {'x': [0.0, 0.45], 'y': [0.675, 1.0]},\n              'ga…",
            "application/vnd.jupyter.widget-view+json": {
              "version_major": 2,
              "version_minor": 0,
              "model_id": "08e337309f094bf898f6a6828d689f54"
            }
          },
          "metadata": {}
        }
      ],
      "execution_count": 13
    },
    {
      "id": "737f841f",
      "cell_type": "markdown",
      "source": "### YAY. We are all done\n\nThe data will be updated each time you click the \"Update gauges\" button. To post this new data, click the \"Post to spreadsheet\" button. \n\nYou can  see the results in the text boxes, and check the online spreadsheet. The following cell shows the current spreadsheet, which will update when you click the \"Post to spreadsheet\" button.\n\nClick on `▶Run`",
      "metadata": {}
    },
    {
      "id": "30211ffe",
      "cell_type": "code",
      "source": "Markdown(f\"Open your spreadsheet in a separate browser tab by clicking on this link: \\n \\n \\\n<a href='{viewing_url}' target='_blank'>{viewing_url}</a>\")",
      "metadata": {
        "trusted": true
      },
      "outputs": [
        {
          "execution_count": 14,
          "output_type": "execute_result",
          "data": {
            "text/plain": "<IPython.core.display.Markdown object>",
            "text/markdown": "Open your spreadsheet in a separate browser tab by clicking on this link: \n \n <a href='https://docs.google.com/spreadsheets/d/12s1bTFF0o4-i3iSsbm4-_9J358a3fPoS9lx5szZZjjE/edit#gid=411333022' target='_blank'>https://docs.google.com/spreadsheets/d/12s1bTFF0o4-i3iSsbm4-_9J358a3fPoS9lx5szZZjjE/edit#gid=411333022</a>"
          },
          "metadata": {}
        }
      ],
      "execution_count": 14
    },
    {
      "id": "f936e378",
      "cell_type": "markdown",
      "source": "***\n## Step 5. Going further with automation\n\nWe have the users to manually update the gauges, as this is to make sure the data is up to date Jupyter Hubs. \n\nBut you can automate this and we have the gauges update automatically using a timer in Python but **not always reliable**. \n\nTo have the data continuously updated, we need change the following code  line **\"test_code = False\" to \"test_code = True\"**\n\nIf you are experiencing issues, you may need to restart the kernel and change the test code back to False.\n\nClick on `▶Run`",
      "metadata": {}
    },
    {
      "id": "b8264814",
      "cell_type": "code",
      "source": "test_code = True\n\ndef post_loop(g):\n    total = 100*24*4 ## post for 100 days (4 per hour gives 100*24*4 total)\n    for i in range(total):\n        if stop_thread:\n            break\n        update_gauges(0)\n        sleep(2)\n        post_stuff(0)\n        sleep(15*60-3)  ## Sleep for 15 minutes before next post\n        \nif test_code:\n    stop_thread = False\n    thread = threading.Thread(target=post_loop,args=(gauges,))  \n    thread.start()",
      "metadata": {
        "trusted": true
      },
      "outputs": [
        {
          "ename": "<class 'RuntimeError'>",
          "evalue": "can't start new thread",
          "traceback": [
            "\u001b[0;31m---------------------------------------------------------------------------\u001b[0m",
            "\u001b[0;31mRuntimeError\u001b[0m                              Traceback (most recent call last)",
            "Cell \u001b[0;32mIn[17], line 16\u001b[0m\n\u001b[1;32m     14\u001b[0m stop_thread \u001b[38;5;241m=\u001b[39m \u001b[38;5;28;01mFalse\u001b[39;00m\n\u001b[1;32m     15\u001b[0m thread \u001b[38;5;241m=\u001b[39m threading\u001b[38;5;241m.\u001b[39mThread(target\u001b[38;5;241m=\u001b[39mpost_loop,args\u001b[38;5;241m=\u001b[39m(gauges,))  \n\u001b[0;32m---> 16\u001b[0m \u001b[43mthread\u001b[49m\u001b[38;5;241;43m.\u001b[39;49m\u001b[43mstart\u001b[49m\u001b[43m(\u001b[49m\u001b[43m)\u001b[49m\n",
            "File \u001b[0;32m/lib/python311.zip/threading.py:957\u001b[0m, in \u001b[0;36mThread.start\u001b[0;34m(self)\u001b[0m\n\u001b[1;32m    955\u001b[0m     _limbo[\u001b[38;5;28mself\u001b[39m] \u001b[38;5;241m=\u001b[39m \u001b[38;5;28mself\u001b[39m\n\u001b[1;32m    956\u001b[0m \u001b[38;5;28;01mtry\u001b[39;00m:\n\u001b[0;32m--> 957\u001b[0m     \u001b[43m_start_new_thread\u001b[49m\u001b[43m(\u001b[49m\u001b[38;5;28;43mself\u001b[39;49m\u001b[38;5;241;43m.\u001b[39;49m\u001b[43m_bootstrap\u001b[49m\u001b[43m,\u001b[49m\u001b[43m \u001b[49m\u001b[43m(\u001b[49m\u001b[43m)\u001b[49m\u001b[43m)\u001b[49m\n\u001b[1;32m    958\u001b[0m \u001b[38;5;28;01mexcept\u001b[39;00m \u001b[38;5;167;01mException\u001b[39;00m:\n\u001b[1;32m    959\u001b[0m     \u001b[38;5;28;01mwith\u001b[39;00m _active_limbo_lock:\n",
            "\u001b[0;31mRuntimeError\u001b[0m: can't start new thread"
          ],
          "output_type": "error"
        }
      ],
      "execution_count": 17
    },
    {
      "id": "7c743b26",
      "cell_type": "markdown",
      "source": "***\n## Step 6. Finishing up: Closing down the sensors.\n\nOnce you are done with the Phidgets, you should close them down. This makes the devices available to other software or other users of the computer.\n\nTo disconnect, click on the Phidget widget button above that says \"Disconnect.\"\n\nOr, simply close this notebook. The Phidgets will then automatically disconnect. ",
      "metadata": {}
    },
    {
      "id": "2e261121",
      "cell_type": "markdown",
      "source": "## Conclusion\n\nWe have demonstrated the process of running a utility that retrieves Phidget sensor data and publishes it on the web. This operation involves a combination of Javascript and Python to interact with both the front-end and back-end components within the Jupyter notebook environment.\n\nIf you plan to collect data over an extended period, it's essential to have the Jupyter \"Hub\" software installed on your local computer. Please note that if you run this software on the [Callysto hub](https://hub.callysto.ca), it may automatically disconnect after approximately a day of continuous data collection.\n\n### Next Notebook\nYou may now go to the [next notebook](./plants-watering-anywidget.ipynb) to set up watering for your plant.\n\n***\nFor additional support or inquiries related to this notebook, feel free to reach out to M. Lamoureux or Mary Grant, who serve as Callysto ambassadors. They can provide further details and assistance.",
      "metadata": {}
    },
    {
      "id": "ba7ee230",
      "cell_type": "markdown",
      "source": "[![Callysto.ca License](https://github.com/callysto/curriculum-notebooks/blob/master/callysto-notebook-banner-bottom.jpg?raw=true)](https://github.com/callysto/curriculum-notebooks/blob/master/LICENSE.md)",
      "metadata": {}
    }
  ]
}