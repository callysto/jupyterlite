{
  "metadata": {
    "kernelspec": {
      "name": "python",
      "display_name": "Python (Pyodide)",
      "language": "python"
    },
    "language_info": {
      "codemirror_mode": {
        "name": "python",
        "version": 3
      },
      "file_extension": ".py",
      "mimetype": "text/x-python",
      "name": "python",
      "nbconvert_exporter": "python",
      "pygments_lexer": "ipython3",
      "version": "3.8"
    }
  },
  "nbformat_minor": 5,
  "nbformat": 4,
  "cells": [
    {
      "id": "c687b9ff",
      "cell_type": "markdown",
      "source": "![Callysto.ca Banner](https://github.com/callysto/curriculum-notebooks/blob/master/callysto-notebook-banner-top.jpg?raw=true)\n \n<a href=\"https://hub.callysto.ca/jupyter/hub/user-redirect/git-pull?repo=https%3A%2F%2Fgithub.com%2Fcallysto%2Flesson-plans&branch=anywidgets&urlpath=notebooks/lesson-plans/notebooks/plants/PhidgetFour_auto.ipynb&depth=1\" target=\"_parent\"><img src=\"https://raw.githubusercontent.com/callysto/curriculum-notebooks/master/open-in-callysto-button.svg?sanitize=true\" width=\"123\" height=\"24\" alt=\"Open in Callysto\"></a>",
      "metadata": {}
    },
    {
      "id": "ce35fb00-8ddc-487b-9117-ca5d402e68f7",
      "cell_type": "markdown",
      "source": "## Phidgets Plant Kit - Your Talking Plant Automated  \n\n\n#### Your plant can talk to you automatically! By connecting the [Phidgets plant kit](https://store.logicsacademy.com/products/phidgets-education-plant-kit) to your plant and running the codes below, your plant will start reading data automatically.\n\n#### Setup\n\n##### There are important requirements you must meet in order to complete this setup:\n    \n- you need the Phidget VINT device, with three sensors attached\n    - the temperature/humidity sensor (device type HUM1001_01)\n    - the light sensor (device type LUX1000_0)\n    - the moisture sensor (device type HUM1100)\n- you will need a computer (Mac, Windows, Raspberry Pi) with a USB connection and internet access\n- you will need the Chrome or Chromium Web browser (Safari, Firefox, and Edge will not work)\n\nFollow these steps:\n\nAssemble your Phidgets plant kit, see the following [link](https://www.phidgets.com/education/learn/projects/plant-kit/assemble/)\n1. Install libraries and widgets\n    1. Install all components and code to run on your computer\n1. Phidget Widget\n    1. Create an install button for your plant kit\n1. Sensor readings \n1. Programmatic control\n    1. Activates the sensors to automatically read values\n1.Live sensor readings with gauges\n",
      "metadata": {}
    },
    {
      "id": "ca693d5a-b7f6-4386-be11-32256ee594a6",
      "cell_type": "markdown",
      "source": "***\n## 1. Importing modules and Pip install\n\nThe pip install for anywidgets only needs to be done once on your hub. \n\nHere we use the \"try\" command in Python to install it when it is necessary. ",
      "metadata": {}
    },
    {
      "id": "a0389407-e87e-4cf5-a78b-9a953c52ebc8",
      "cell_type": "code",
      "source": "import piplite\nawait piplite.install(['plotly','nbformat','anywidget'])\n\nimport pathlib\nimport traitlets\nimport anywidget",
      "metadata": {
        "trusted": true
      },
      "outputs": [],
      "execution_count": null
    },
    {
      "id": "d2b341f3-9f5c-4349-9230-f51d9f75824b",
      "cell_type": "code",
      "source": "class PhidgetsFour(anywidget.AnyWidget):\n    _esm = pathlib.Path(\"ph4auto.js\")\n    _css = pathlib.Path(\"ph4xx.css\")\n    # These 4 variables are used by the widget. Do not delete. \n    temperature = traitlets.Float(0).tag(sync=True)\n    humidity = traitlets.Float(0).tag(sync=True)\n    moisture = traitlets.Float(0).tag(sync=True)\n    luminance = traitlets.Float(0).tag(sync=True)\n\npf = PhidgetsFour()\n",
      "metadata": {
        "trusted": true
      },
      "outputs": [],
      "execution_count": null
    },
    {
      "id": "a6d021d5",
      "cell_type": "markdown",
      "source": "***\n## 2. The phidget widget\n\nThe next cell will display the phidget widget.\n\nClick on the connect button to connect the device. The sensor data will update once a second.  ",
      "metadata": {
        "tags": []
      }
    },
    {
      "id": "aee27c9a-fdb9-4636-b8fd-ab0ac8c95ec4",
      "cell_type": "code",
      "source": "pf",
      "metadata": {
        "trusted": true
      },
      "outputs": [],
      "execution_count": null
    },
    {
      "id": "a653780d",
      "cell_type": "markdown",
      "source": "***\n## 3. Programmatic control\n\nYou can send messages to \"pf\" to open or close the phidget devices, like this. ",
      "metadata": {}
    },
    {
      "id": "612ef2ff",
      "cell_type": "code",
      "source": "pf.send(\"open\")",
      "metadata": {
        "trusted": true
      },
      "outputs": [],
      "execution_count": null
    },
    {
      "id": "d89f39b3",
      "cell_type": "markdown",
      "source": "***\n## 4. Live sensor readings with gauges\n\nHere is how to link the phidget widget above to other widgets, such as gauges. ",
      "metadata": {}
    },
    {
      "id": "970ea42a-678a-403b-a042-68f80f841090",
      "cell_type": "code",
      "source": "import plotly.graph_objects as go\nfrom plotly.subplots import make_subplots\nimport ipywidgets as widgets",
      "metadata": {
        "trusted": true
      },
      "outputs": [],
      "execution_count": null
    },
    {
      "id": "ab8c1b94-c390-4dcd-bc88-a8aeb66ebec9",
      "cell_type": "code",
      "source": "# the four sensor gauges\ng_temp = go.Indicator(\n    mode = \"gauge+number\",\n    value = 20,\n    domain = {'x': [0, 1], 'y': [0, 1]},\n    title = {'text': \"Temperature\"},\n    gauge = {'axis': {'range': [10, 40]}}\n)\n\ng_hum = go.Indicator(\n    mode = \"gauge+number\",\n    value = 40,\n    domain = {'x': [0, 1], 'y': [0, 1]},\n    title = {'text': \"Humidity\"},\n    gauge = {'axis': {'range': [0, 100]}}\n)\n\ng_moist = go.Indicator(\n    mode = \"gauge+number\",\n    value = 0.5,\n    domain = {'x': [0, 1], 'y': [0, 1]},\n    title = {'text': \"Moisture\"},\n    gauge = {'axis': {'range': [0, 1.0]}}\n)\n\ng_light = go.Indicator(\n    mode = \"gauge+number\",\n    value = 40,\n    domain = {'x': [0, 1], 'y': [0, 1]},\n    title = {'text': \"Light Level\"},\n    gauge = {'axis': {'range': [0, 1000]}}\n)\n\nfig = make_subplots(\n    rows=2,\n    cols=2,\n    specs=[[{'type' : 'domain'}, {'type' : 'domain'}],[{'type' : 'domain'}, {'type' : 'domain'}]],\n    vertical_spacing = 0.35\n)\nfig.append_trace(g_temp, row=1, col=1)\nfig.append_trace(g_hum, row=1, col=2)\nfig.append_trace(g_moist, row=2, col=1)\nfig.append_trace(g_light, row=2, col=2)\n\ngauges = go.FigureWidget(fig)",
      "metadata": {
        "trusted": true
      },
      "outputs": [],
      "execution_count": null
    },
    {
      "id": "2d233943-5cda-4ef2-9f1b-2b16333b9625",
      "cell_type": "code",
      "source": "def updateTemperature(change):\n    gauges.data[0]['value'] = change.new\n    \ndef updateHumidity(change):\n    gauges.data[1]['value'] = change.new\n    \ndef updateMoisture(change):\n    gauges.data[2]['value'] = change.new\n    \ndef updateLuminance(change):\n    gauges.data[3]['value'] = change.new\n",
      "metadata": {
        "trusted": true
      },
      "outputs": [],
      "execution_count": null
    },
    {
      "id": "c441abe3-2653-4ea4-94cb-8aa407b83251",
      "cell_type": "code",
      "source": "pf.observe(updateTemperature, names=[\"temperature\"])\npf.observe(updateHumidity, names=[\"humidity\"])\npf.observe(updateMoisture, names=[\"moisture\"])\npf.observe(updateLuminance, names=[\"luminance\"])",
      "metadata": {
        "trusted": true
      },
      "outputs": [],
      "execution_count": null
    },
    {
      "id": "62149e58-e4ef-4086-8509-346741b68cd5",
      "cell_type": "code",
      "source": "gauges",
      "metadata": {
        "trusted": true
      },
      "outputs": [],
      "execution_count": null
    },
    {
      "id": "26afe2b8-e7ef-4a63-80b1-80b9274c788b",
      "cell_type": "markdown",
      "source": "#### Troubleshooting and/or not working?\nIf your are unable to read the data from the sensors, you can try the following:\n1. Click disconnect and reconnect botton in this notebook\n2. Check that the senors are connected to the VINT HUB Phidgets\n\n",
      "metadata": {}
    },
    {
      "id": "ac784e63",
      "cell_type": "markdown",
      "source": "***\n## 5. Finishing up: Closing down the sensors.\nOnce you are done with the Phidgets, you should close them down. This makes the devices available to other software or other users of the computer.\n\nTo disconnect, click on the Phidget widget button above that says \"Disconnect.\"\n\nOr, simply close this notebook. The Phidgets will then automatically disconnet.\n\n### Conclusion\nWe have demonstrated the process of running a utility that retrieves Phidget sensor data and publishes it on the web. This operation involves a combination of Javascript and Python to interact with both the front-end and back-end components within the Jupyter notebook environment.\n\nIf you plan to collect data over an extended period, it's essential to have the Jupyter \"Hub\" software installed on your local computer. Please note that if you run this software on the [Callysto Hub](https://hub.callysto.ca) , it may automatically disconnect after approximately a day of continuous data collection.\n\n### Next Notebook\nYou may now go to the [next notebook](./plants-data-google-anywidget.ipynb) to collect data from your plant\n\n***\n\nFor additional support or inquiries related to this notebook, feel free to reach out to M. Lamoureux or Mary Grant, who serve as Callysto ambassadors. They can provide further details and assistance.",
      "metadata": {}
    },
    {
      "id": "1a149b0f",
      "cell_type": "markdown",
      "source": "[![Callysto.ca License](https://github.com/callysto/curriculum-notebooks/blob/master/callysto-notebook-banner-bottom.jpg?raw=true)](https://github.com/callysto/curriculum-notebooks/blob/master/LICENSE.md)",
      "metadata": {}
    }
  ]
}