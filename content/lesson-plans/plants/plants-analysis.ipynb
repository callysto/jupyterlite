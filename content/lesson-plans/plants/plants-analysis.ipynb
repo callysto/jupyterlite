{
  "metadata": {
    "kernelspec": {
      "name": "python",
      "display_name": "Python (Pyodide)",
      "language": "python"
    },
    "language_info": {
      "codemirror_mode": {
        "name": "python",
        "version": 3
      },
      "file_extension": ".py",
      "mimetype": "text/x-python",
      "name": "python",
      "nbconvert_exporter": "python",
      "pygments_lexer": "ipython3",
      "version": "3.8"
    }
  },
  "nbformat_minor": 5,
  "nbformat": 4,
  "cells": [
    {
      "id": "63c13319",
      "cell_type": "markdown",
      "source": "![Callysto.ca Banner](https://github.com/callysto/curriculum-notebooks/blob/master/callysto-notebook-banner-top.jpg?raw=true)",
      "metadata": {}
    },
    {
      "id": "604d4040",
      "cell_type": "markdown",
      "source": "## Analysis of a Plant's Environment\n\nIn this short notebook, we look at some data collected from a house plant growing in one of our homes.\n\n<img src=\"images/plant2.jpg\" alt=\"A plant with sensor\" width=\"400\"/>\n<div align=\"center\">\n\nA basement window with our plant.\n</div>\n\nWe have a number of data sensors around the plant, made by [Phidgets Inc.]( https://www.phidgets.com/). These sensors keep track of the temperature, humidity, soil moisture, and light levels. Values from the sensors have been recorded several times a day and stored in an online spreadsheet. \n\nYou can see the spreadsheet here: https://ethercalc.net/callysto_plant_01\n\nThe sensors measure data in different units:\n- Temperature, in degrees Celsius. e.g. $20^o C$ is room temperature.\n- Humidity, as a percentage. e.g. 30% to 60% humidity is a typical room. \n- Moisture, as a ratio. e.g. 0.0 is bone dry, 1.0 is soaking wet.\n- Luminance, in lux. e.g. 1,000 lux is the light outdoors on a dark, cloudy day.\n\nIn this notebook we download the data and save it in a Pandas Dataframe. From there we can plot the data, and perform some numerical calculations that give us an idea about the state of the plant's environment.",
      "metadata": {}
    },
    {
      "id": "fd015023",
      "cell_type": "markdown",
      "source": "## Step 1 - Libraries\n\nLet's import some Python libraries for Pandas, Plotly, and tools for dealing with dates and times. ",
      "metadata": {}
    },
    {
      "id": "39a9dd24-5629-4867-a2f1-868e21f41640",
      "cell_type": "code",
      "source": "import piplite\nawait piplite.install(['plotly','nbformat','statsmodels'])\nimport pyodide\nimport plotly.express as px\nimport pandas as pd\nfrom datetime import datetime\nprint('libraries imported')",
      "metadata": {
        "trusted": true
      },
      "outputs": [],
      "execution_count": null
    },
    {
      "id": "38e47926",
      "cell_type": "markdown",
      "source": "## Step 2 - Getting some data\n\nLet's get some plant data that we have stored as a file with this notebook. \n\nThe following code reads in the data file and shows it as a data frame. We will call it **df** to represent the initial data set. Later, we will store a subset of the data in a new dataframe called **df_m** (for the modified data frame). ",
      "metadata": {}
    },
    {
      "id": "e7b14ec1",
      "cell_type": "code",
      "source": "df = pd.read_csv('./data/Plant_00.csv')\ndf",
      "metadata": {
        "trusted": true
      },
      "outputs": [],
      "execution_count": null
    },
    {
      "id": "ac998eb4",
      "cell_type": "markdown",
      "source": "You should see about 5000 rows with 6 columns of data in it.",
      "metadata": {}
    },
    {
      "id": "b6409cdf",
      "cell_type": "markdown",
      "source": "## Step 3 - Adding datetime\n\nLet's fix the time format, and add a \"datetime\" stamp by combining date and time into a single column. This will help us when plotting the data.\n\n",
      "metadata": {}
    },
    {
      "id": "7961cf14",
      "cell_type": "code",
      "source": "df['Time'] = df['Time'].apply(lambda x: datetime.strptime(x,\"%H:%M:%S\").strftime(\"%H:%M:%S\"))\ndf[\"DateTime\"] = df[\"Date\"] + ' ' + df[\"Time\"]\ndf",
      "metadata": {
        "trusted": true
      },
      "outputs": [],
      "execution_count": null
    },
    {
      "id": "9253fffa",
      "cell_type": "markdown",
      "source": "## Step 4 - First plots\n\nUsing Plotly, let's do some initial plots of the four different measurements: Temperature, Humidity, Moisture and Luminance. ",
      "metadata": {}
    },
    {
      "id": "121897fc",
      "cell_type": "code",
      "source": "px.scatter(df, x=\"DateTime\", y=\"Temperature\", title=\"Temperature versus Time\").show()\npx.scatter(df, x=\"DateTime\", y=\"Humidity\", title=\"Humidity versus Time\").show()\npx.scatter(df, x=\"DateTime\", y=\"Moisture\", title=\"Moisture versus Time\").show()\npx.scatter(df, x=\"DateTime\", y=\"Luminance\", title=\"Luminance versus Time\").show()",
      "metadata": {
        "trusted": true
      },
      "outputs": [],
      "execution_count": null
    },
    {
      "id": "473b2634",
      "cell_type": "markdown",
      "source": "## Step 5 - First observations\n\nLet's check to see what the range of dates are present in the database.",
      "metadata": {}
    },
    {
      "id": "1727ac0f",
      "cell_type": "code",
      "source": "print(f\"Start and end dates are {df['Date'].min()} and {df['Date'].max()}\")",
      "metadata": {
        "trusted": true
      },
      "outputs": [],
      "execution_count": null
    },
    {
      "id": "c329bac3",
      "cell_type": "markdown",
      "source": "We see there is a lot of missing data in the above plots, especially early on. \n\nLet's ignore this data, and pick a two week period starting when the data is stable. In the following, we pick the data of May 16 to May 30. You will need to change this when examining your own plant data. \n\nWe call this modified data frame **df_m**. This way, if you want to change the date range, the initial data in **df** is still saved for you. ",
      "metadata": {}
    },
    {
      "id": "5349935a",
      "cell_type": "code",
      "source": "start_date = '2023-05-16'\nend_date = '2023-05-30'\n# Select DataFrame rows between two dates\nmask = (df['Date'] >= start_date) & (df['Date'] <= end_date)\ndf_m = df[mask]\ndf_m",
      "metadata": {
        "trusted": true
      },
      "outputs": [],
      "execution_count": null
    },
    {
      "id": "e3971e62",
      "cell_type": "markdown",
      "source": "## Now the plots are better\n\nWe plot with the modified data in **df_m**.\n",
      "metadata": {}
    },
    {
      "id": "6726435d",
      "cell_type": "code",
      "source": "px.scatter(df_m, x=\"DateTime\", y=\"Temperature\", title=\"Temperature versus Time\").show()\npx.scatter(df_m, x=\"DateTime\", y=\"Humidity\", title=\"Humidity versus Time\").show()\npx.scatter(df_m, x=\"DateTime\", y=\"Moisture\", title=\"Moisture versus Time\").show()\npx.scatter(df_m, x=\"DateTime\", y=\"Luminance\", title=\"Luminance versus Time\").show()",
      "metadata": {
        "trusted": true
      },
      "outputs": [],
      "execution_count": null
    },
    {
      "id": "aa58c863",
      "cell_type": "markdown",
      "source": "## Step 6: Analyzing the data\n\nBefore doing any statistical analysis, what can we discover just by looking at the raw data?\n\n1. What is the typical range of: \n    - Temperature? \n    - Humidity?\n    - Moisture? \n    - Luminance?\n2. Are the any jumps in the data? \n    - We might expect a jump in moisture when the plant gets watered. \n    - Can you find the day and time the plant was watered?\n    - Are there other places where you see a jump in data? Why do you think it jumps?\n3. One day, when the moisture jumped, the humidity also briefly jumped. Why?\n    - Was it a rainy day?  Rain moistened the plant and also raised the humidity in the air?\n    - Was someone taking a shower and the air in the room got humid?\n    - Did someone spill water on the humidity sensor while trying to water the plant?\n    - What do you think happened?\n3. Is there any correlation with time of day and the various data? \n    - Temperature? \n    - Humidity?\n    - Moisture? \n    - Luminance?\n4. It looks like temperature goes up when humidity goes down, and vice versa. Can you state this more precisely?\n5. Does temperature go up with luminance? Or not?\n6. What conclusions might you draw from this data? Some good questions include:\n    - Is this an indoor plant? \n    - Can you say anything about the house it is in? \n    - Does the house have air conditioning for summer? \n    - Does the house have heating for winter? \n    - Are there indoor lights, or is the plant only seeing sunlight?\n    - What other conclusions can you draw from the data?\n",
      "metadata": {}
    },
    {
      "id": "f8a3c76b",
      "cell_type": "markdown",
      "source": "## Step 6a: Analyzing the data - temperature and humidity\n\nWe can graph humidity versus temperature to see if there are any obvious correlations. \n\nThe Plotly graphing package allows us to indicate the date via a color of the marker on the graph. By doing so, we can see how the data clusters by day. ",
      "metadata": {}
    },
    {
      "id": "0e41afee",
      "cell_type": "code",
      "source": "px.scatter(df_m, x=\"Temperature\", y=\"Humidity\", color=\"Date\", title=\"Humidity versus Temperature\")",
      "metadata": {
        "trusted": true
      },
      "outputs": [],
      "execution_count": null
    },
    {
      "id": "619f9d45",
      "cell_type": "markdown",
      "source": "## Observations\n\nThe colors of the dots in the above graph show how the data clusters by day. Clicking on the legend on the right, you can select specific dates to examine more closely. Are there some dates where the data cluster tightly? Others more loosely? What might that mean?",
      "metadata": {}
    },
    {
      "id": "e46bd47b",
      "cell_type": "markdown",
      "source": "## Step 6b: Analyzing the data - light and time of day\n\nWe can expect sunlight in the daytime, and darkness at night. Let's plot the luminance data as a function of time of day.\n\nAgain, we can color the dots by \"Date\" to get an indication of how the data clusters based on the actual day. We also add the \"category order\" in order to sort the times in proper order along the x-axis.",
      "metadata": {}
    },
    {
      "id": "740fa44d",
      "cell_type": "code",
      "source": "fig5 = px.scatter(df_m, x=\"Time\", y=\"Luminance\", color=\"Date\",\n                 title=\"Luminance versus Time of Day\")\nfig5.update_layout(xaxis_categoryorder = 'category ascending')\nfig5.show()",
      "metadata": {
        "trusted": true
      },
      "outputs": [],
      "execution_count": null
    },
    {
      "id": "549d66e3",
      "cell_type": "markdown",
      "source": "## Observations\n\nWe see the luminance peaks around 14:00 hours, which is 2:00 in the afternoon. That makes sense, as mid-afternoon is the brightest time of the day. \n\nWe also see a small peak at 11:00 am, which dips downwards to about 1:00 pm, then goes up again. Why could this be?\n- Is the sun briefly darker each day?\n- Is there some dude walking in front of our plant each day at the same time?\n- Is the sun moving behind a tree or building which casts a shadow on our plant each morning?\n    \nWhat do you think?\n\nThere are little blips of light around 9:00pm or 10:00pm on several days. What is going on here?\n- Is the sun briefly appearing in the middle of the night?\n- Is the moon shining on our plant?\n- Is some dude walking by with a flashlight?\n- Is someone working late in the evening, and turning on room lights where the plant is?\n\nWhat do you think?\n\nMay 16 and May 17 are a bit unusual. \n- Describe the features of the data that make these two days stand out as different from the others.\n- Can you suggest reasons **why** these two days are unusual? What might have happened on those days?\n\nNotice there is a difference between **noticing** something unusual in the data, and **knowing** what actually happened to make that data be unusual.",
      "metadata": {}
    },
    {
      "id": "5f51eb29",
      "cell_type": "markdown",
      "source": "## Step 6c: Statistical analysis\n\nFrom the observations above, can we come up with numerical statements that make these observations quantifiable. \n\nFor instance, we saw that temperature and humidity seemed to cluster together on certain days. Is there a trend line we can see?\n\nWe use Plotly, with the \"trendline\" parameter to attach a linear trend to each cluster of daily data. We see the result below. ",
      "metadata": {}
    },
    {
      "id": "4906e08b",
      "cell_type": "code",
      "source": "px.scatter(df_m, x=\"Temperature\", y=\"Humidity\", color=\"Date\", trendline=\"ols\", template=\"simple_white\", title=\"Humidity vs Temperature\")",
      "metadata": {
        "trusted": true
      },
      "outputs": [],
      "execution_count": null
    },
    {
      "id": "abc5c3e7",
      "cell_type": "markdown",
      "source": "## Observation\n\nMost of the trendlines in the previous graph appear to slope downwards. What does this mean?\n- as temperature goes up, the humidity tends to goes up? Or,\n- As temperature goes up, the humidity tends to go down?\n\nWhich do you think it is?\n\nWhile most dates have downward sloping trend line, May 24 stands out as a noticably increasing trend line. Using the legend on the right of the chart, pick out May 24. \n- Can you see why the trend line is up?\n- Did anything unusual happen on that day?\n- Try looking at your earlier plots of moisture as a function of time, at the beginning of this notebook. What happened that day?",
      "metadata": {}
    },
    {
      "id": "56361ac4",
      "cell_type": "markdown",
      "source": "## Advanced work -- for a deeper dive in the analysis\n\nThe trend lines above attempt to show a linear relationship between humidity and temperature. That is, it tries to fit the data with an equation of the form\n\n$$y = mx + b.$$\n\nRoll your mouse over one of the trend lines in the plot above. An information box should pop up. Take a look at all the information there.\n- Can you see the equation for the line? \n- Why values do you see for $m$? for $b$? \n- What does it mean if $m$ is negative? \n- What does it mean if $m$ is positive?\n\nThere is also a value for $R^2$, called the R-squared statistical measure. It tells us how much the second variable is dependent on the first. A value near 1.0 says the second variable is strongly dependent on the first. A value near 0.0 says it is hardly dependent at all. Values mid-way between 0.0 and 1.0 say the second variable is only somewhat dependent on the first. \n\nMouse over the various trend lines and look at the $R^2$ values.\n- Can you find an $R^2$ that is close to zero?\n- Can you find an $R^2$ that is close to one?\n- What is the biggest one you can find?\n- Do you notice anything about the plots with small $R^2$ values?\n- Do you notice anything about the plots with large $R^2$ values?\n",
      "metadata": {}
    },
    {
      "id": "ba596325",
      "cell_type": "markdown",
      "source": "## Step 6d: Analyzing the data - Moisture and temperature\n\nWe might expect moisture to depend on temperature, as higher temperatures could cause the soil to dry out. Let's see if the data shows this. \n\nAgain, we use Plotly to draw the scatter plots and add some trend lines. ",
      "metadata": {}
    },
    {
      "id": "8f6247c7",
      "cell_type": "code",
      "source": "px.scatter(df_m, x=\"Temperature\", y=\"Moisture\", color=\"Date\", trendline=\"ols\", template=\"simple_white\", title=\"Moisture vs Temperature\")",
      "metadata": {
        "trusted": true
      },
      "outputs": [],
      "execution_count": null
    },
    {
      "id": "2627fef7",
      "cell_type": "markdown",
      "source": "## Observations\n\nMost of the trend lines seem to be slightly downwards. What does this mean?\n- As the temperature rises, the moisture of the soil also rises?\n- As the temperature rises, the moisture of the soil drops?\n- There is no strong connection between moisture and temperature, it's just random?\n\nWhat do you think?\n\nOne line stands out, though. May 24 has a sharply increasing trend line. Do you recall what happened on May 24?\n- There was an earthquake in Vancouver that day that messed up our sensors?\n- There was a flood in Vancouver that day that drenched our plant?\n- Some dude came along and watered the plant, just as the day was getting hotter?\n\nWhat do you think?\n\nShould we draw conclusions about the relationship between humidity and temperature based on the one unusual day, or on the dozen or so other days?",
      "metadata": {}
    },
    {
      "id": "1ef1cda9",
      "cell_type": "markdown",
      "source": "## Step 7: Going further\n\nCan you explore other relationships in the data?\n\nFor instance, is there a connection between temperature and time of day? How would you explore this with code? Can you use the code above as a model?\n\nCan you see if there is a trend in average temperatures as we go from early May to late May? How do we compute average values using Pandas?\n\nCan you explore other ranges of dates in the dataset, beyond just May 16 to 30?\n\nIf you had your own plant to monitor, what questions would you want answered about your plant?",
      "metadata": {}
    },
    {
      "id": "efeceed2",
      "cell_type": "markdown",
      "source": "## Step 8 - Using your own data from the web\n\nMany students and teachers have been saving their own plant data on the internet. \n\nWe can access data in this notebook by downloading it from one of two places: Google Sheets, or EtherCalc. \n\nYou may adjust the following code to download your data. If the data is on Google Sheets, set\n```\ngoogle_sheet = True\n```\notherwise set to **False** and it will use EtherCalc instead.\n\nYou shoudl also set the name of your spreadsheet where the data lives. In the code below, change 'Plant_03' to the name of your spreadsheet.  \n```\nsheet_name = 'Plant_03'\n```\n\nFor a first demo, you might like to just leave the code as it is. This way you examine the data at our spreadsheet called 'Plant_03' on Google Sheets.",
      "metadata": {}
    },
    {
      "id": "db544c34",
      "cell_type": "code",
      "source": "google_sheet = True\nsheet_name = 'Plant_03'\n\nif google_sheet:\n    sheet_id = \"12s1bTFF0o4-i3iSsbm4-_9J358a3fPoS9lx5szZZjjE\"\n    url = f\"https://docs.google.com/spreadsheets/d/{sheet_id}/gviz/tq?tqx=out:csv&sheet={sheet_name}\"\nelse:\n    url = f\"https://ethercalc.nomagic.uk/_/{sheet_name}/csv\"\n    \nprint(f\"Data read from {url}\")\n\n## df = pd.read_csv(url)  <-- this old code doesn't work in Jupyterlite. So we do the following:\n\ndf = pd.read_csv(pyodide.http.open_url(url))\n    ",
      "metadata": {
        "trusted": true
      },
      "outputs": [],
      "execution_count": null
    },
    {
      "id": "25e10248",
      "cell_type": "markdown",
      "source": "## Clean up date/time\n\nAs in earlier demo, we add a new column to the data from to cover date and time, for convenience.",
      "metadata": {}
    },
    {
      "id": "30fd7670",
      "cell_type": "code",
      "source": "df['Time'] = df['Time'].apply(lambda x: datetime.strptime(x,\"%H:%M:%S\").strftime(\"%H:%M:%S\"))\ndf[\"DateTime\"] = df[\"Date\"] + ' ' + df[\"Time\"]\ndf",
      "metadata": {
        "trusted": true
      },
      "outputs": [],
      "execution_count": null
    },
    {
      "id": "0ce5206a",
      "cell_type": "markdown",
      "source": "## First plots\n\nHere are the initial plots: Temperature, Humidity, Moisture, and Luminance. ",
      "metadata": {}
    },
    {
      "id": "ca7fc94c",
      "cell_type": "code",
      "source": "px.scatter(df, x=\"DateTime\", y=\"Temperature\", title=\"Temperature versus Time\").show()\npx.scatter(df, x=\"DateTime\", y=\"Humidity\", title=\"Humidity versus Time\").show()\npx.scatter(df, x=\"DateTime\", y=\"Moisture\", title=\"Moisture versus Time\").show()\npx.scatter(df, x=\"DateTime\", y=\"Luminance\", title=\"Luminance versus Time\").show()",
      "metadata": {
        "trusted": true
      },
      "outputs": [],
      "execution_count": null
    },
    {
      "id": "8d079e5d",
      "cell_type": "markdown",
      "source": "## Set the date range\n\nWe notice the interesting data goes from September 5th to 10th. (Your data will have a different range.)\n\nThe follow code restricts the range to those dates, so we get more interesting data. \n\n**Note: You can change the dates to whatever you like, you will also need to rerun the above codes**",
      "metadata": {}
    },
    {
      "id": "90e1c390",
      "cell_type": "code",
      "source": "start_date = '2023-09-05'\nend_date = '2023-09-10'\n# Select DataFrame rows between two dates\nmask = (df['Date'] >= start_date) & (df['Date'] <= end_date)\ndf_m = df[mask]\ndf_m",
      "metadata": {
        "trusted": true
      },
      "outputs": [],
      "execution_count": null
    },
    {
      "id": "12115822",
      "cell_type": "markdown",
      "source": "## More plots\n\nThe plots now just show this date range, with the interesting data.",
      "metadata": {}
    },
    {
      "id": "dc05af18",
      "cell_type": "code",
      "source": "px.scatter(df_m, x=\"DateTime\", y=\"Temperature\", title=\"Temperature versus Time\").show()\npx.scatter(df_m, x=\"DateTime\", y=\"Humidity\", title=\"Humidity versus Time\").show()\npx.scatter(df_m, x=\"DateTime\", y=\"Moisture\", title=\"Moisture versus Time\").show()\npx.scatter(df_m, x=\"DateTime\", y=\"Luminance\", title=\"Luminance versus Time\").show()",
      "metadata": {
        "trusted": true
      },
      "outputs": [],
      "execution_count": null
    },
    {
      "id": "7613c938",
      "cell_type": "markdown",
      "source": "## Next step\n\nNow continue your analysis, by repeating the code from the earlier part of this notebook.\n\nOr, if you like, just return to step 6. The dataframe called \"df\" now holds the data from the downloaded spreadsheet, so the code above will work on this new data. ",
      "metadata": {}
    },
    {
      "id": "fea521e9",
      "cell_type": "markdown",
      "source": "## Conclusions\n\nWe conducted data collection from the real plant, capturing environmental parameters like temperature, humidity, soil moisture, and light levels.\n\nWith the help of Pandas and Plotly, we delved into exploring relationships between different datasets. Our analysis aimed to identify correlations, such as those between temperature and humidity or the time of day and light levels.\n\nUnusual data points often indicated interesting or unique plant events, like watering occurrences or late-night activities.\n\nTo provide a more quantitative perspective, we calculated trendlines to suggest mathematical relationships between these variables.\n\nAdditionally, we have the capability to access external plant data from the web, enabling us to compare and analyze our own plant-related information with broader datasets.\n\nYou may now go to the next notebook,  which allows you to water your plant via the computer. The notebook is here: \n[plants-phidgets-watering.ipynb](plants-phidgets-watering.ipynb)\n",
      "metadata": {}
    },
    {
      "id": "477acba7",
      "cell_type": "markdown",
      "source": "[![Callysto.ca License](https://github.com/callysto/curriculum-notebooks/blob/master/callysto-notebook-banner-bottom.jpg?raw=true)](https://github.com/callysto/curriculum-notebooks/blob/master/LICENSE.md)",
      "metadata": {}
    }
  ]
}