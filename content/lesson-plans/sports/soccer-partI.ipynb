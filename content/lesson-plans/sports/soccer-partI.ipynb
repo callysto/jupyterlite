{
 "cells": [
  {
   "cell_type": "markdown",
   "metadata": {},
   "source": [
    "![Callysto.ca Banner](https://github.com/callysto/curriculum-notebooks/blob/master/callysto-notebook-banner-top.jpg?raw=true)"
   ]
  },
  {
   "cell_type": "markdown",
   "metadata": {
    "slideshow": {
     "slide_type": "slide"
    }
   },
   "source": [
    "# Soccer Analytics"
   ]
  },
  {
   "cell_type": "markdown",
   "metadata": {},
   "source": [
    "Welcome to a Jupyter notebook on soccer analytics. This notebook is a free resource and is part of the Callysto project, which brings data science skills to grades 5 to 12 classrooms. \n",
    "\n",
    "In this notebook, we’ll start by making meaning from data visualizations of professional soccer data. \n",
    "\n",
    "Visualizations are coded using Python, a computer programming language. Python contains words from English and is used by data scientists. Programming languages are how people communicate with computers."
   ]
  },
  {
   "cell_type": "markdown",
   "metadata": {},
   "source": [
    "“Run” the cells to see the graphs.\n",
    "Click “Cell” and select “Run All.” This will import the data and run all the code to create the data visualizations (scroll back to the top after you’ve run the cells).   \n",
    "\n",
    "![instructions](https://github.com/callysto/data-viz-of-the-week/blob/main/images/instructions.png?raw=true)"
   ]
  },
  {
   "cell_type": "code",
   "execution_count": 1,
   "metadata": {
    "slideshow": {
     "slide_type": "skip"
    }
   },
   "outputs": [],
   "source": [
    "# import Python libraries\n",
    "import piplite\n",
    "await piplite.install(['plotly', 'nbformat', 'pandas'])\n",
    "\n",
    "import pandas as pd\n",
    "import plotly.express as px"
   ]
  },
  {
   "cell_type": "markdown",
   "metadata": {
    "slideshow": {
     "slide_type": "slide"
    }
   },
   "source": [
    "## Example: anonymized professional soccer event data\n",
    "Data source: https://github.com/metrica-sports/sample-data"
   ]
  },
  {
   "cell_type": "markdown",
   "metadata": {},
   "source": [
    "The data source for this dataset is Metrica Sports. It is professional soccer data that has been anonymized. This means that we don’t actually know the names of the players or teams. Anonymized data can also reduce bias during analysis; it can help keep the focus on the data -- and not on a favourite team or player. Professional sports data can also be valuable because it helps teams gain a competitive advantage.\n",
    "\n",
    "We can use Python code to link to the dataset, which is stored on the Internet, and create a table. The dataset is large with 1 745 rows and 14 columns. That’s over 24 000 data points!\n",
    "\n",
    "Let’s take a look at the columns: Data is displayed for the teams, the types of events -- in this case plays, the period (or half), start and end times, the player making the play, and the player’s location on the field with x and y coordinates. "
   ]
  },
  {
   "cell_type": "code",
   "execution_count": 2,
   "metadata": {
    "scrolled": false,
    "slideshow": {
     "slide_type": "-"
    }
   },
   "outputs": [
    {
     "data": {
      "text/html": [
       "<div>\n",
       "<style scoped>\n",
       "    .dataframe tbody tr th:only-of-type {\n",
       "        vertical-align: middle;\n",
       "    }\n",
       "\n",
       "    .dataframe tbody tr th {\n",
       "        vertical-align: top;\n",
       "    }\n",
       "\n",
       "    .dataframe thead th {\n",
       "        text-align: right;\n",
       "    }\n",
       "</style>\n",
       "<table border=\"1\" class=\"dataframe\">\n",
       "  <thead>\n",
       "    <tr style=\"text-align: right;\">\n",
       "      <th></th>\n",
       "      <th>Team</th>\n",
       "      <th>Type</th>\n",
       "      <th>Subtype</th>\n",
       "      <th>Period</th>\n",
       "      <th>Start Frame</th>\n",
       "      <th>Start Time [s]</th>\n",
       "      <th>End Frame</th>\n",
       "      <th>End Time [s]</th>\n",
       "      <th>From</th>\n",
       "      <th>To</th>\n",
       "      <th>Start X</th>\n",
       "      <th>Start Y</th>\n",
       "      <th>End X</th>\n",
       "      <th>End Y</th>\n",
       "    </tr>\n",
       "  </thead>\n",
       "  <tbody>\n",
       "    <tr>\n",
       "      <th>0</th>\n",
       "      <td>Away</td>\n",
       "      <td>SET PIECE</td>\n",
       "      <td>KICK OFF</td>\n",
       "      <td>1</td>\n",
       "      <td>1</td>\n",
       "      <td>0.04</td>\n",
       "      <td>0</td>\n",
       "      <td>0.00</td>\n",
       "      <td>Player19</td>\n",
       "      <td>NaN</td>\n",
       "      <td>NaN</td>\n",
       "      <td>NaN</td>\n",
       "      <td>NaN</td>\n",
       "      <td>NaN</td>\n",
       "    </tr>\n",
       "    <tr>\n",
       "      <th>1</th>\n",
       "      <td>Away</td>\n",
       "      <td>PASS</td>\n",
       "      <td>NaN</td>\n",
       "      <td>1</td>\n",
       "      <td>1</td>\n",
       "      <td>0.04</td>\n",
       "      <td>3</td>\n",
       "      <td>0.12</td>\n",
       "      <td>Player19</td>\n",
       "      <td>Player21</td>\n",
       "      <td>0.45</td>\n",
       "      <td>0.39</td>\n",
       "      <td>0.55</td>\n",
       "      <td>0.43</td>\n",
       "    </tr>\n",
       "    <tr>\n",
       "      <th>2</th>\n",
       "      <td>Away</td>\n",
       "      <td>PASS</td>\n",
       "      <td>NaN</td>\n",
       "      <td>1</td>\n",
       "      <td>3</td>\n",
       "      <td>0.12</td>\n",
       "      <td>17</td>\n",
       "      <td>0.68</td>\n",
       "      <td>Player21</td>\n",
       "      <td>Player15</td>\n",
       "      <td>0.55</td>\n",
       "      <td>0.43</td>\n",
       "      <td>0.58</td>\n",
       "      <td>0.21</td>\n",
       "    </tr>\n",
       "    <tr>\n",
       "      <th>3</th>\n",
       "      <td>Away</td>\n",
       "      <td>PASS</td>\n",
       "      <td>NaN</td>\n",
       "      <td>1</td>\n",
       "      <td>45</td>\n",
       "      <td>1.80</td>\n",
       "      <td>61</td>\n",
       "      <td>2.44</td>\n",
       "      <td>Player15</td>\n",
       "      <td>Player19</td>\n",
       "      <td>0.55</td>\n",
       "      <td>0.19</td>\n",
       "      <td>0.45</td>\n",
       "      <td>0.31</td>\n",
       "    </tr>\n",
       "    <tr>\n",
       "      <th>4</th>\n",
       "      <td>Away</td>\n",
       "      <td>PASS</td>\n",
       "      <td>NaN</td>\n",
       "      <td>1</td>\n",
       "      <td>77</td>\n",
       "      <td>3.08</td>\n",
       "      <td>96</td>\n",
       "      <td>3.84</td>\n",
       "      <td>Player19</td>\n",
       "      <td>Player21</td>\n",
       "      <td>0.45</td>\n",
       "      <td>0.32</td>\n",
       "      <td>0.49</td>\n",
       "      <td>0.47</td>\n",
       "    </tr>\n",
       "    <tr>\n",
       "      <th>...</th>\n",
       "      <td>...</td>\n",
       "      <td>...</td>\n",
       "      <td>...</td>\n",
       "      <td>...</td>\n",
       "      <td>...</td>\n",
       "      <td>...</td>\n",
       "      <td>...</td>\n",
       "      <td>...</td>\n",
       "      <td>...</td>\n",
       "      <td>...</td>\n",
       "      <td>...</td>\n",
       "      <td>...</td>\n",
       "      <td>...</td>\n",
       "      <td>...</td>\n",
       "    </tr>\n",
       "    <tr>\n",
       "      <th>1740</th>\n",
       "      <td>Home</td>\n",
       "      <td>PASS</td>\n",
       "      <td>NaN</td>\n",
       "      <td>2</td>\n",
       "      <td>143361</td>\n",
       "      <td>5734.44</td>\n",
       "      <td>143483</td>\n",
       "      <td>5739.32</td>\n",
       "      <td>Player12</td>\n",
       "      <td>Player13</td>\n",
       "      <td>0.60</td>\n",
       "      <td>0.33</td>\n",
       "      <td>0.19</td>\n",
       "      <td>0.95</td>\n",
       "    </tr>\n",
       "    <tr>\n",
       "      <th>1741</th>\n",
       "      <td>Home</td>\n",
       "      <td>PASS</td>\n",
       "      <td>NaN</td>\n",
       "      <td>2</td>\n",
       "      <td>143578</td>\n",
       "      <td>5743.12</td>\n",
       "      <td>143593</td>\n",
       "      <td>5743.72</td>\n",
       "      <td>Player13</td>\n",
       "      <td>Player4</td>\n",
       "      <td>0.09</td>\n",
       "      <td>0.88</td>\n",
       "      <td>0.14</td>\n",
       "      <td>0.69</td>\n",
       "    </tr>\n",
       "    <tr>\n",
       "      <th>1742</th>\n",
       "      <td>Home</td>\n",
       "      <td>BALL LOST</td>\n",
       "      <td>INTERCEPTION</td>\n",
       "      <td>2</td>\n",
       "      <td>143598</td>\n",
       "      <td>5743.92</td>\n",
       "      <td>143618</td>\n",
       "      <td>5744.72</td>\n",
       "      <td>Player4</td>\n",
       "      <td>NaN</td>\n",
       "      <td>0.13</td>\n",
       "      <td>0.69</td>\n",
       "      <td>0.07</td>\n",
       "      <td>0.61</td>\n",
       "    </tr>\n",
       "    <tr>\n",
       "      <th>1743</th>\n",
       "      <td>Away</td>\n",
       "      <td>RECOVERY</td>\n",
       "      <td>BLOCKED</td>\n",
       "      <td>2</td>\n",
       "      <td>143617</td>\n",
       "      <td>5744.68</td>\n",
       "      <td>143617</td>\n",
       "      <td>5744.68</td>\n",
       "      <td>Player16</td>\n",
       "      <td>NaN</td>\n",
       "      <td>0.05</td>\n",
       "      <td>0.62</td>\n",
       "      <td>NaN</td>\n",
       "      <td>NaN</td>\n",
       "    </tr>\n",
       "    <tr>\n",
       "      <th>1744</th>\n",
       "      <td>Away</td>\n",
       "      <td>BALL OUT</td>\n",
       "      <td>NaN</td>\n",
       "      <td>2</td>\n",
       "      <td>143622</td>\n",
       "      <td>5744.88</td>\n",
       "      <td>143630</td>\n",
       "      <td>5745.20</td>\n",
       "      <td>Player16</td>\n",
       "      <td>NaN</td>\n",
       "      <td>0.05</td>\n",
       "      <td>0.63</td>\n",
       "      <td>0.03</td>\n",
       "      <td>1.01</td>\n",
       "    </tr>\n",
       "  </tbody>\n",
       "</table>\n",
       "<p>1745 rows × 14 columns</p>\n",
       "</div>"
      ],
      "text/plain": [
       "      Team       Type       Subtype  Period  Start Frame  Start Time [s]  \\\n",
       "0     Away  SET PIECE      KICK OFF       1            1            0.04   \n",
       "1     Away       PASS           NaN       1            1            0.04   \n",
       "2     Away       PASS           NaN       1            3            0.12   \n",
       "3     Away       PASS           NaN       1           45            1.80   \n",
       "4     Away       PASS           NaN       1           77            3.08   \n",
       "...    ...        ...           ...     ...          ...             ...   \n",
       "1740  Home       PASS           NaN       2       143361         5734.44   \n",
       "1741  Home       PASS           NaN       2       143578         5743.12   \n",
       "1742  Home  BALL LOST  INTERCEPTION       2       143598         5743.92   \n",
       "1743  Away   RECOVERY       BLOCKED       2       143617         5744.68   \n",
       "1744  Away   BALL OUT           NaN       2       143622         5744.88   \n",
       "\n",
       "      End Frame  End Time [s]      From        To  Start X  Start Y  End X  \\\n",
       "0             0          0.00  Player19       NaN      NaN      NaN    NaN   \n",
       "1             3          0.12  Player19  Player21     0.45     0.39   0.55   \n",
       "2            17          0.68  Player21  Player15     0.55     0.43   0.58   \n",
       "3            61          2.44  Player15  Player19     0.55     0.19   0.45   \n",
       "4            96          3.84  Player19  Player21     0.45     0.32   0.49   \n",
       "...         ...           ...       ...       ...      ...      ...    ...   \n",
       "1740     143483       5739.32  Player12  Player13     0.60     0.33   0.19   \n",
       "1741     143593       5743.72  Player13   Player4     0.09     0.88   0.14   \n",
       "1742     143618       5744.72   Player4       NaN     0.13     0.69   0.07   \n",
       "1743     143617       5744.68  Player16       NaN     0.05     0.62    NaN   \n",
       "1744     143630       5745.20  Player16       NaN     0.05     0.63   0.03   \n",
       "\n",
       "      End Y  \n",
       "0       NaN  \n",
       "1      0.43  \n",
       "2      0.21  \n",
       "3      0.31  \n",
       "4      0.47  \n",
       "...     ...  \n",
       "1740   0.95  \n",
       "1741   0.69  \n",
       "1742   0.61  \n",
       "1743    NaN  \n",
       "1744   1.01  \n",
       "\n",
       "[1745 rows x 14 columns]"
      ]
     },
     "execution_count": 2,
     "metadata": {},
     "output_type": "execute_result"
    }
   ],
   "source": [
    "import pyodide\n",
    "df_soccer = pd.read_csv(pyodide.http.open_url(\"https://raw.githubusercontent.com/metrica-sports/sample-data/master/data/Sample_Game_1/Sample_Game_1_RawEventsData.csv\"));\n",
    "df_soccer"
   ]
  },
  {
   "cell_type": "markdown",
   "metadata": {},
   "source": [
    "Now, let’s plot all the events in a visualization to get an idea of how much data is in this dataset. The dots represent 1 745 events. The events are plotted by where they occurred on the field; coordinates between 0 and 1 have been used to define locations of play. The nets are located along the x-axis at 0 and 1 and along the y-axis at about 0.5. The dimensions of this actual field are 105x68 metres. \n",
    "\n",
    "Notice that this plot is interactive. We can hover over the data to see more information about a data point, for instance. We can select different <a href = \"https://github.com/metrica-sports/sample-data/blob/master/documentation/events-definitions.pdf\">types of events</a> in the plot’s legend; however, the teams are not indicated. \n",
    "\n",
    "We note a \"Start X\" and \"Start Y\" axis - these denote the Cartesian coordinates on the soccer field. Can you figure out what type of play occurs at (0.6, 0.4)? What play happens at (0.92, 0.47)?"
   ]
  },
  {
   "cell_type": "code",
   "execution_count": null,
   "metadata": {
    "scrolled": false,
    "slideshow": {
     "slide_type": "slide"
    }
   },
   "outputs": [],
   "source": [
    "px.scatter(df_soccer, x='Start X', y='Start Y', color='Type', hover_data=['Subtype'], title='All events during the game by on-field location')"
   ]
  },
  {
   "cell_type": "markdown",
   "metadata": {},
   "source": [
    "This visualization gives us an overview of the types of plays that happened during the game, but we will need to better organize and narrow down the data to draw more meaningful conclusions.\n",
    "\n",
    "We can count the types of play for both teams and arrange them in descending order to see which types occur more and less frequently. Passes occur the most with 799 while cards occur the least with 4 -- that's a range of 795!"
   ]
  },
  {
   "cell_type": "code",
   "execution_count": null,
   "metadata": {
    "scrolled": true,
    "slideshow": {
     "slide_type": "slide"
    }
   },
   "outputs": [],
   "source": [
    "Count = df_soccer.groupby(\"Type\").size().reset_index(name=\"Count\")\n",
    "Count.sort_values('Count', ascending=False)"
   ]
  },
  {
   "cell_type": "markdown",
   "metadata": {},
   "source": [
    "This bar graph visualizes the counts for each type of play for the entire game. "
   ]
  },
  {
   "cell_type": "code",
   "execution_count": null,
   "metadata": {
    "scrolled": false,
    "slideshow": {
     "slide_type": "slide"
    }
   },
   "outputs": [],
   "source": [
    "plays_df = px.bar(Count, x='Type', y='Count', color=\"Type\", title='Total counts for types of plays')\n",
    "plays_df.update_layout(xaxis={'categoryorder':'total descending'})"
   ]
  },
  {
   "cell_type": "markdown",
   "metadata": {},
   "source": [
    "Notice that the types of play are along the x-axis while the counts are along the y-axis. In the game of soccer, we should see a lot more passes than cards.\n",
    "\n",
    "Recovery with 278 counts, Ball lost with 257 counts, and Challenge with 233 counts are close in frequency. These three types of play apply to attack and defense. Recovery of the ball puts a team in an attacking phase. Ball lost places a team in a defensive phase. Challenge is the action to gain possession of the ball, shifting one team from defense to attack and the other team from attack to defense. \n",
    "\n",
    "Let's visualize this interplay in a time sequence to better understand how these types of play happen between the two teams."
   ]
  },
  {
   "cell_type": "code",
   "execution_count": null,
   "metadata": {
    "scrolled": false,
    "slideshow": {
     "slide_type": "slide"
    }
   },
   "outputs": [],
   "source": [
    "px.scatter(df_soccer, x='Start Time [s]', y='Type', hover_data=['Subtype'], color='Team', title=\"Timeline of types of play for Away and Home\")"
   ]
  },
  {
   "cell_type": "markdown",
   "metadata": {},
   "source": [
    "Notice that the x-axis of this visualization represents the total time of the soccer game from 0 to 5 400 seconds, which is calculated by a 90-minute game X 60 seconds a minute. The y-axis indicates types of play. You can click on Away or Home in the legend to show the data points for only one team. \n",
    " \n",
    "Can you figure when the goals were scored? Hover over the Shot data points for Home and Away to find the subtype TARGET-GOAL. The final score is Home 3 and Away 0.\n",
    "\n",
    "Select the zoom tool in the visualization's menu to zoom in on the Recovery and Ball lost data points. Both ball recovery and ball lost generally shift from one team to the other in a AB pattern. In the case of Recovery, this pattern can be interrupted when the ball is brought back in from a dead play. For Ball lost, the pattern can be disrupted by interference from the referee. Try finding other patterns of play. You can zoom out by resetting the axes by selecting the house icon.\n",
    "\n",
    "Let's take a look at a time sequence of types of play for only one player instead of teams."
   ]
  },
  {
   "cell_type": "code",
   "execution_count": null,
   "metadata": {
    "scrolled": false,
    "slideshow": {
     "slide_type": "slide"
    }
   },
   "outputs": [],
   "source": [
    "px.scatter(df_soccer.loc[lambda df: (df['Team'] == 'Home') & (df['From'] == 'Player10'), :], x='Start Time [s]', y='Type', color='Type', title='Timeline of events by type for player 10 on Home team')"
   ]
  },
  {
   "cell_type": "markdown",
   "metadata": {},
   "source": [
    "Notice that player 10 from the home team takes 4 shots on net during the game. How does this player gain possession of the ball to take these shots? \n",
    "\n",
    "For the first shot that takes place at 237 seconds, the event that occurs beforehand is passing from a team member. For the second shot that takes place at 2 512 seconds, player 10 recovers the ball beforehand but not through a challenge. The shot on net at 3 600 seconds also follows a pass from a team member. Interestingly, the ball is lost before the shot on net at 4 756 seconds -- it's unclear how the player gained possession of the ball.\n",
    "\n",
    "After interpreting visualizations from event data of a game, let's create some visualizations with group phase statistics from UEFA Champions League. Click here to work on the [next notebook](soccer-partII.ipynb)."
   ]
  },
  {
   "cell_type": "markdown",
   "metadata": {},
   "source": [
    "[![Callysto.ca License](https://github.com/callysto/curriculum-notebooks/blob/master/callysto-notebook-banner-bottom.jpg?raw=true)](https://github.com/callysto/curriculum-notebooks/blob/master/LICENSE.md)"
   ]
  }
 ],
 "metadata": {
  "kernelspec": {
   "display_name": "Python 3",
   "language": "python",
   "name": "python3"
  },
  "language_info": {
   "codemirror_mode": {
    "name": "ipython",
    "version": 3
   },
   "file_extension": ".py",
   "mimetype": "text/x-python",
   "name": "python",
   "nbconvert_exporter": "python",
   "pygments_lexer": "ipython3",
   "version": "3.10.8"
  },
  "rise": {
   "footer": "<IMG src='./images/callysto_logo.png' height='50'>",
   "scroll": true,
   "transition": "none"
  }
 },
 "nbformat": 4,
 "nbformat_minor": 4
}
