{
 "cells": [
  {
   "cell_type": "markdown",
   "metadata": {},
   "source": [
    "![Callysto.ca Banner](https://github.com/callysto/curriculum-notebooks/blob/master/callysto-notebook-banner-top.jpg?raw=true)"
   ]
  },
  {
   "cell_type": "markdown",
   "metadata": {},
   "source": [
    "# The Calendar Problem"
   ]
  },
  {
   "cell_type": "markdown",
   "metadata": {},
   "source": [
    "![alt text](https://github.com/richardhoshino/callysto/blob/master/files/calendarpic.jpg?raw=true)"
   ]
  },
  {
   "cell_type": "code",
   "execution_count": null,
   "metadata": {},
   "outputs": [],
   "source": [
    "from IPython.display import YouTubeVideo\n",
    "YouTubeVideo('pdMUk16675U')"
   ]
  },
  {
   "cell_type": "markdown",
   "metadata": {},
   "source": [
    "## Determine what day of the week YOUR BIRTHDAY will fall on this year.\n",
    "\n",
    "#### For example, January 1, 2019 was Tuesday, and January 1, 2020 will be Wednesday."
   ]
  },
  {
   "cell_type": "markdown",
   "metadata": {},
   "source": [
    "#### Before you look at the code below, ask yourself what information you need to solve this challenging problem.  \n",
    "\n",
    "#### See if you can develop an \"algorithm\" where you input the month and day (e.g. 6 and 15 if your birthday is June 15), and your algorithm correctly outputs whether your birthday will fall on a Monday, Tuesday, Wednesday, Thursday, Friday, Saturday, or Sunday."
   ]
  },
  {
   "cell_type": "code",
   "execution_count": null,
   "metadata": {},
   "outputs": [],
   "source": [
    "def calculate_day(month,day): \n",
    "    \n",
    "    if month==1: shift=0\n",
    "    elif month==2: shift=3\n",
    "    elif month==3: shift=3\n",
    "    elif month==4: shift=6\n",
    "    elif month==5: shift=1\n",
    "    elif month==6: shift=4\n",
    "    elif month==7: shift=6\n",
    "    elif month==8: shift=2\n",
    "    elif month==9: shift=5\n",
    "    elif month==10: shift=0\n",
    "    elif month==11: shift=3\n",
    "    elif month==12: shift=5\n",
    "    else: return \"ERROR\" \n",
    "        \n",
    "    mytotal = day + shift\n",
    "        \n",
    "    remainder = mytotal % 7\n",
    "    \n",
    "    if remainder==0: return \"Monday\"\n",
    "    elif remainder==1: return \"Tuesday\"\n",
    "    elif remainder==2: return \"Wednesday\"\n",
    "    elif remainder==3: return \"Thursday\"\n",
    "    elif remainder==4: return \"Friday\"\n",
    "    elif remainder==5: return \"Saturday\"\n",
    "    elif remainder==6: return \"Sunday\"\n",
    "    else: return \"ERROR\""
   ]
  },
  {
   "cell_type": "code",
   "execution_count": null,
   "metadata": {},
   "outputs": [],
   "source": [
    "calculate_day(6,15)"
   ]
  },
  {
   "cell_type": "markdown",
   "metadata": {},
   "source": [
    "### Double-check your answer using this handy widget.  After you hit the \"Run\" button, you'll be able to use the sliders to change the month and day to your birthday.\n",
    "\n",
    "#### Note: this widget is for the year 2019.  For the year 2020, add one day (e.g. Jan 1, 2019 is a Tuesday, and so Jan 1, 2020 is a Wednesday)"
   ]
  },
  {
   "cell_type": "code",
   "execution_count": null,
   "metadata": {},
   "outputs": [],
   "source": [
    "%pip install -q pyodide_http ipywidgets\n",
    "import pyodide_http\n",
    "pyodide_http.patch_all()\n",
    "\n",
    "from ipywidgets import interact, interactive, fixed, interact_manual\n",
    "import ipywidgets as widgets\n",
    "\n",
    "interact(calculate_day, month=widgets.IntSlider(min=1, max=12, step=1, value=6), day=widgets.IntSlider(min=1, max=31, step=1, value=15))"
   ]
  },
  {
   "cell_type": "markdown",
   "metadata": {},
   "source": [
    "![alt text](https://github.com/callysto/callysto-sample-notebooks/blob/master/notebooks/images/Callysto_Notebook-Banners_Bottom_06.06.18.jpg?raw=true)"
   ]
  }
 ],
 "metadata": {
  "kernelspec": {
   "display_name": "Python 3",
   "language": "python",
   "name": "python3"
  },
  "language_info": {
   "codemirror_mode": {
    "name": "ipython",
    "version": 3
   },
   "file_extension": ".py",
   "mimetype": "text/x-python",
   "name": "python",
   "nbconvert_exporter": "python",
   "pygments_lexer": "ipython3",
   "version": "3.6.8"
  }
 },
 "nbformat": 4,
 "nbformat_minor": 2
}
