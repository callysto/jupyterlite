{
 "cells": [
  {
   "cell_type": "markdown",
   "id": "a833c648",
   "metadata": {},
   "source": [
    "![Callysto.ca Banner](https://github.com/callysto/curriculum-notebooks/blob/master/callysto-notebook-banner-top.jpg?raw=true)"
   ]
  },
  {
   "attachments": {},
   "cell_type": "markdown",
   "id": "36711e2c",
   "metadata": {},
   "source": [
    "# Exploring Indigenous Populations in the Americans (Canada and United States)\n",
    "\n",
    "## Prior to European Contact \n",
    "\n",
    "In this short notebook, we show how to scrape some data from a Wikipedia webpage and then visualize the data in a nice graphic.\n",
    "\n",
    "We are looking at population data for Indigenous peoples before contact with Europeans. \n",
    "\n",
    "Our data source is the Wikipedia page [Population history of the Indigenous peoples of the Americas](https://en.wikipedia.org/wiki/Population_history_of_Indigenous_peoples_of_the_Americas). Note that population estimates vary widely, often reflecting biases of various authors. "
   ]
  },
  {
   "attachments": {},
   "cell_type": "markdown",
   "id": "ffa6337d",
   "metadata": {},
   "source": [
    "### Step 1: Libraries\n",
    "\n",
    "FIrst, we import some useful Python libraries: [pandas](https://pandas.pydata.org/) for data analysis and [Plotly Express](https://plotly.com/python/plotly-express/) for creating visualizations."
   ]
  },
  {
   "cell_type": "code",
   "execution_count": 1,
   "id": "f1f38eda",
   "metadata": {},
   "outputs": [
    {
     "name": "stdout",
     "output_type": "stream",
     "text": [
      "Libraries imported\n"
     ]
    }
   ],
   "source": [
    "%pip install -q pyodide_http nbformat plotly\n",
    "import pyodide_http\n",
    "pyodide_http.patch_all()\n",
    "\n",
    "import pandas as pd\n",
    "import plotly.express as px\n",
    "print('Libraries imported')"
   ]
  },
  {
   "attachments": {},
   "cell_type": "markdown",
   "id": "ba078237-3bf3-4b6b-8db9-ff427db377f2",
   "metadata": {},
   "source": [
    "### Step 2: Getting Data\n",
    "\n",
    "We then read a Wikipedia webpage, and store the results in a dataframe called `df`. We've saved the data to a CSV file that we can import if things have changed on the Wikipedia page.\n",
    "\n",
    "This dataframe will include Indigenous population estimations based on historian archiving from scholars."
   ]
  },
  {
   "cell_type": "code",
   "execution_count": 3,
   "id": "12e5f427-fea3-4056-acb8-a8ed327eb6bd",
   "metadata": {},
   "outputs": [
    {
     "data": {
      "text/html": [
       "<div>\n",
       "<style scoped>\n",
       "    .dataframe tbody tr th:only-of-type {\n",
       "        vertical-align: middle;\n",
       "    }\n",
       "\n",
       "    .dataframe tbody tr th {\n",
       "        vertical-align: top;\n",
       "    }\n",
       "\n",
       "    .dataframe thead th {\n",
       "        text-align: right;\n",
       "    }\n",
       "</style>\n",
       "<table border=\"1\" class=\"dataframe\">\n",
       "  <thead>\n",
       "    <tr style=\"text-align: right;\">\n",
       "      <th></th>\n",
       "      <th>Author</th>\n",
       "      <th>Date</th>\n",
       "      <th>USA and Canada</th>\n",
       "      <th>Mexico</th>\n",
       "      <th>Mesoamerica</th>\n",
       "      <th>Caribbean</th>\n",
       "      <th>Andes</th>\n",
       "      <th>Patagonia and Amazonia</th>\n",
       "      <th>Total</th>\n",
       "    </tr>\n",
       "  </thead>\n",
       "  <tbody>\n",
       "    <tr>\n",
       "      <th>0</th>\n",
       "      <td>Sapper[39]</td>\n",
       "      <td>1924</td>\n",
       "      <td>2–3</td>\n",
       "      <td>12–15</td>\n",
       "      <td>5–6</td>\n",
       "      <td>3–4</td>\n",
       "      <td>12–15</td>\n",
       "      <td>3–5</td>\n",
       "      <td>37–48.5</td>\n",
       "    </tr>\n",
       "    <tr>\n",
       "      <th>1</th>\n",
       "      <td>Kroeber[40]</td>\n",
       "      <td>1939</td>\n",
       "      <td>0.9</td>\n",
       "      <td>3.2</td>\n",
       "      <td>0.1</td>\n",
       "      <td>0.2</td>\n",
       "      <td>3</td>\n",
       "      <td>1</td>\n",
       "      <td>8.4</td>\n",
       "    </tr>\n",
       "    <tr>\n",
       "      <th>2</th>\n",
       "      <td>Steward[41]</td>\n",
       "      <td>1949</td>\n",
       "      <td>1</td>\n",
       "      <td>4.5</td>\n",
       "      <td>0.74</td>\n",
       "      <td>0.22</td>\n",
       "      <td>6.13</td>\n",
       "      <td>2.9</td>\n",
       "      <td>15.49</td>\n",
       "    </tr>\n",
       "    <tr>\n",
       "      <th>3</th>\n",
       "      <td>Rosenblat[42]</td>\n",
       "      <td>1954</td>\n",
       "      <td>1</td>\n",
       "      <td>4.5</td>\n",
       "      <td>0.8</td>\n",
       "      <td>0.3</td>\n",
       "      <td>4.75</td>\n",
       "      <td>2.03</td>\n",
       "      <td>13.38</td>\n",
       "    </tr>\n",
       "    <tr>\n",
       "      <th>4</th>\n",
       "      <td>Dobyns[43]</td>\n",
       "      <td>1966</td>\n",
       "      <td>9.8–12.25</td>\n",
       "      <td>30–37.5</td>\n",
       "      <td>10.8–13.5</td>\n",
       "      <td>0.44–0.55</td>\n",
       "      <td>30–37.5</td>\n",
       "      <td>9–11.25</td>\n",
       "      <td>90.04–112.55</td>\n",
       "    </tr>\n",
       "    <tr>\n",
       "      <th>5</th>\n",
       "      <td>Ubelaker[44]</td>\n",
       "      <td>1988</td>\n",
       "      <td>1.213–2.639</td>\n",
       "      <td>–</td>\n",
       "      <td>–</td>\n",
       "      <td>–</td>\n",
       "      <td>–</td>\n",
       "      <td>–</td>\n",
       "      <td>–</td>\n",
       "    </tr>\n",
       "    <tr>\n",
       "      <th>6</th>\n",
       "      <td>Denevan[45]</td>\n",
       "      <td>1992</td>\n",
       "      <td>3.79</td>\n",
       "      <td>17.174</td>\n",
       "      <td>5.625</td>\n",
       "      <td>3</td>\n",
       "      <td>15.696</td>\n",
       "      <td>8.619</td>\n",
       "      <td>53.904</td>\n",
       "    </tr>\n",
       "    <tr>\n",
       "      <th>7</th>\n",
       "      <td>Snow[46]</td>\n",
       "      <td>2001</td>\n",
       "      <td>3.44</td>\n",
       "      <td>–</td>\n",
       "      <td>–</td>\n",
       "      <td>–</td>\n",
       "      <td>–</td>\n",
       "      <td>–</td>\n",
       "      <td>–</td>\n",
       "    </tr>\n",
       "    <tr>\n",
       "      <th>8</th>\n",
       "      <td>Alchon[47]</td>\n",
       "      <td>2003</td>\n",
       "      <td>3.5</td>\n",
       "      <td>16–18</td>\n",
       "      <td>5–6</td>\n",
       "      <td>2–3</td>\n",
       "      <td>13–15</td>\n",
       "      <td>7–8</td>\n",
       "      <td>46.5–53.5</td>\n",
       "    </tr>\n",
       "    <tr>\n",
       "      <th>9</th>\n",
       "      <td>Thornton[48]</td>\n",
       "      <td>2005</td>\n",
       "      <td>7</td>\n",
       "      <td>–</td>\n",
       "      <td>–</td>\n",
       "      <td>–</td>\n",
       "      <td>–</td>\n",
       "      <td>–</td>\n",
       "      <td>–</td>\n",
       "    </tr>\n",
       "    <tr>\n",
       "      <th>10</th>\n",
       "      <td>Peros[49]</td>\n",
       "      <td>2009</td>\n",
       "      <td>2.5</td>\n",
       "      <td>–</td>\n",
       "      <td>–</td>\n",
       "      <td>–</td>\n",
       "      <td>–</td>\n",
       "      <td>–</td>\n",
       "      <td>–</td>\n",
       "    </tr>\n",
       "  </tbody>\n",
       "</table>\n",
       "</div>"
      ],
      "text/plain": [
       "           Author  Date USA and Canada   Mexico Mesoamerica  Caribbean  \\\n",
       "0      Sapper[39]  1924            2–3    12–15         5–6        3–4   \n",
       "1     Kroeber[40]  1939            0.9      3.2         0.1        0.2   \n",
       "2     Steward[41]  1949              1      4.5        0.74       0.22   \n",
       "3   Rosenblat[42]  1954              1      4.5         0.8        0.3   \n",
       "4      Dobyns[43]  1966      9.8–12.25  30–37.5   10.8–13.5  0.44–0.55   \n",
       "5    Ubelaker[44]  1988    1.213–2.639        –           –          –   \n",
       "6     Denevan[45]  1992           3.79   17.174       5.625          3   \n",
       "7        Snow[46]  2001           3.44        –           –          –   \n",
       "8      Alchon[47]  2003            3.5    16–18         5–6        2–3   \n",
       "9    Thornton[48]  2005              7        –           –          –   \n",
       "10      Peros[49]  2009            2.5        –           –          –   \n",
       "\n",
       "      Andes Patagonia and Amazonia         Total  \n",
       "0     12–15                    3–5       37–48.5  \n",
       "1         3                      1           8.4  \n",
       "2      6.13                    2.9         15.49  \n",
       "3      4.75                   2.03         13.38  \n",
       "4   30–37.5                9–11.25  90.04–112.55  \n",
       "5         –                      –             –  \n",
       "6    15.696                  8.619        53.904  \n",
       "7         –                      –             –  \n",
       "8     13–15                    7–8     46.5–53.5  \n",
       "9         –                      –             –  \n",
       "10        –                      –             –  "
      ]
     },
     "execution_count": 3,
     "metadata": {},
     "output_type": "execute_result"
    }
   ],
   "source": [
    "try:\n",
    "    df = pd.read_html('https://en.wikipedia.org/wiki/Population_history_of_Indigenous_peoples_of_the_Americas')[0]\n",
    "    if df.columns[0] != 'Author':\n",
    "        print('reading data from CSV file')\n",
    "        df = pd.read_csv('data/indigenous-populations-precontact.csv')\n",
    "except:\n",
    "    print(\"error, will use local csv file.\")\n",
    "    df = pd.read_csv('data/indigenous-populations-precontact.csv')\n",
    "df"
   ]
  },
  {
   "attachments": {},
   "cell_type": "markdown",
   "id": "79a0b0c1-e3d6-4d98-bae9-8d744945fa3a",
   "metadata": {},
   "source": [
    "### Step 3: Cleaning Data\n",
    "\n",
    "The columns contain text references to ranges of numbers, but computers usually don't like that. Instead, we're going to replace the text with the number that represents the average of the value.\n",
    "\n",
    "As we'll be focusing on the USA and Canada, we'll primarily replace values in that column."
   ]
  },
  {
   "cell_type": "code",
   "execution_count": null,
   "id": "909ebd4a-5e9e-4ef7-994d-002a6a6ec292",
   "metadata": {},
   "outputs": [],
   "source": [
    "df.replace(['2 million-3 million'],'2500000',inplace=True)\n",
    "df.replace(['0.9 million'],'900000',inplace=True)\n",
    "df.replace(['1 million'],'1000000',inplace=True)\n",
    "df.replace(['9.8-12.25 million'],'11000000',inplace=True)\n",
    "df.replace(['1.213-2.639 million'],'2000000',inplace=True)\n",
    "df.replace(['3.79 million'],'3790000',inplace=True)\n",
    "df.replace(['3.44 million'],'3440000',inplace=True)\n",
    "df.replace(['3.5 million'],'3500000',inplace=True)\n",
    "df.replace(['7 million'],'7000000',inplace=True)\n",
    "df['USA and Canada'] = pd.to_numeric(df['USA and Canada'], errors='coerce')\n",
    "df"
   ]
  },
  {
   "attachments": {},
   "cell_type": "markdown",
   "id": "5954c9a5-0286-4f7f-bef1-e3984bd0193c",
   "metadata": {},
   "source": [
    "Wikipedia is an excellent source of information, but one of the drawbacks of being so well sourced is that the editors of Wikipedia often add tags to pieces of information to show where the data came from. In our dataframe, this shows up in the Author column as \\[#\\], with various numbers depending on the source.\n",
    "\n",
    "We can remove those with the code below, that simply removes the last three characters from a string."
   ]
  },
  {
   "cell_type": "code",
   "execution_count": null,
   "id": "b4705d50-76e5-422c-8014-3d89841a8d53",
   "metadata": {},
   "outputs": [],
   "source": [
    "df['Author'] = df['Author'].str[:-4]\n",
    "df"
   ]
  },
  {
   "attachments": {},
   "cell_type": "markdown",
   "id": "6cece176",
   "metadata": {},
   "source": [
    "It will make things easier if we combine the `Author` and `Date` columns. We'll do this in the next code cell."
   ]
  },
  {
   "cell_type": "code",
   "execution_count": null,
   "id": "bd9d4f24",
   "metadata": {},
   "outputs": [],
   "source": [
    "df['Author (Year)'] = df['Author'] + ' (' + df['Date'].astype(str) + ')'\n",
    "df"
   ]
  },
  {
   "attachments": {},
   "cell_type": "markdown",
   "id": "9c7d41d1",
   "metadata": {},
   "source": [
    "### Step 4: Plotting Data\n",
    "\n",
    "Let's use Plotly Express to create a bar chart. We will plot the number of indigenous people in the USA/Canada prior to European contact.\n",
    "\n",
    "In the following code: `x=\"Author (Year)\"` pulls the author-year information and plots it on the x-axis of the bar graph. `y=\"USA and Canada\"` gives value of the estimated population and plots it on the y-axis of the bar graph."
   ]
  },
  {
   "cell_type": "code",
   "execution_count": null,
   "id": "22153fcf",
   "metadata": {},
   "outputs": [],
   "source": [
    "\n",
    "px.bar(df, x='Author (Year)', y='USA and Canada', title='Precontact Indigenous Populations Estimates by Author')\n"
   ]
  },
  {
   "attachments": {},
   "cell_type": "markdown",
   "id": "c27e86d8",
   "metadata": {},
   "source": [
    "## Further Work\n",
    "\n",
    "- What else can you do with this data? Perhaps clean up the data in other columns to make other plots.\n",
    "\n",
    "- What other sources of data can you use? Is there data for particular regions, such as B.C. or the Pacific West Coast, that might have more accurate data? Look into the work of anthropologist [Robert Boyd](https://en.wikipedia.org/wiki/Robert_Boyd_(anthropologist))."
   ]
  },
  {
   "attachments": {},
   "cell_type": "markdown",
   "id": "3d510c51",
   "metadata": {},
   "source": [
    "## Conclusions\n",
    "\n",
    "This notebook showed how to scrape data from Wikipedia into a pandas dataframe and produce informative charts. The data needed to be cleaned in order to be understood and plotted using Plotly Express."
   ]
  },
  {
   "cell_type": "markdown",
   "id": "8348b85a",
   "metadata": {},
   "source": [
    "[![Callysto.ca License](https://github.com/callysto/curriculum-notebooks/blob/master/callysto-notebook-banner-bottom.jpg?raw=true)](https://github.com/callysto/curriculum-notebooks/blob/master/LICENSE.md)"
   ]
  }
 ],
 "metadata": {
  "kernelspec": {
   "display_name": "Python 3 (ipykernel)",
   "language": "python",
   "name": "python3"
  },
  "language_info": {
   "codemirror_mode": {
    "name": "ipython",
    "version": 3
   },
   "file_extension": ".py",
   "mimetype": "text/x-python",
   "name": "python",
   "nbconvert_exporter": "python",
   "pygments_lexer": "ipython3",
   "version": "3.10.8"
  }
 },
 "nbformat": 4,
 "nbformat_minor": 5
}
