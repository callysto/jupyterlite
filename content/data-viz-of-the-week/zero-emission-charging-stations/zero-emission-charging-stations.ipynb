{
 "cells": [
  {
   "attachments": {},
   "cell_type": "markdown",
   "metadata": {},
   "source": [
    "![Callysto.ca Banner](https://github.com/callysto/curriculum-notebooks/blob/master/callysto-notebook-banner-top.jpg?raw=true)\n",
    "\n",
    "<a href=\"https://hub.callysto.ca/jupyter/hub/user-redirect/git-pull?repo=https%3A%2F%2Fgithub.com%2Fcallysto%2Fdata-viz-of-the-week&branch=main&subPath=zero-emission-charging-stations/zero-emission-charging-stations.ipynb&depth=1\" target=\"_parent\"><img src=\"https://raw.githubusercontent.com/callysto/curriculum-notebooks/master/open-in-callysto-button.svg?sanitize=true\" width=\"123\" height=\"24\" alt=\"Open in Callysto\"/></a>"
   ]
  },
  {
   "attachments": {},
   "cell_type": "markdown",
   "metadata": {},
   "source": [
    "# Callysto’s Weekly Data Visualization\n",
    "\n",
    "## Zero-emission Charging Stations in North America\n",
    "\n",
    "### Recommended Grade levels: 8-12\n",
    "<br>"
   ]
  },
  {
   "attachments": {},
   "cell_type": "markdown",
   "metadata": {},
   "source": [
    "### Instructions\n",
    "#### “Run” the cells to see the graphs\n",
    "Click “Cell” and select “Run All”.<br> This will import the data and run all the code, so you can see this week's data visualization. Scroll to the top after you’ve run the cells.<br> \n",
    "\n",
    "![instructions](https://github.com/callysto/data-viz-of-the-week/blob/main/images/instructions.png?raw=true)\n",
    "\n",
    "**You don’t need to do any coding to view the visualizations**.\n",
    "The plots generated in this notebook are interactive. You can hover over and click on elements to see more information. \n",
    "\n",
    "Email contact@callysto.ca if you experience issues."
   ]
  },
  {
   "attachments": {},
   "cell_type": "markdown",
   "metadata": {},
   "source": [
    "### About this Notebook\n",
    "\n",
    "Callysto's Weekly Data Visualization is a learning resource that aims to develop data literacy skills. We provide Grades 5-12 teachers and students with a data visualization, like a graph, to interpret. This companion resource walks learners through how the data visualization is created and interpreted by a data scientist. \n",
    "\n",
    "The steps of the data analysis process are listed below and applied to each weekly topic.\n",
    "\n",
    "1. Question - What are we trying to answer? \n",
    "2. Gather - Find the data source(s) you will need. \n",
    "3. Organize - Arrange the data, so that you can easily explore it. \n",
    "4. Explore - Examine the data to look for evidence to answer the question. This includes creating visualizations. \n",
    "5. Interpret - Describe what's happening in the data visualization. \n",
    "6. Communicate - Explain how the evidence answers the question. "
   ]
  },
  {
   "attachments": {},
   "cell_type": "markdown",
   "metadata": {},
   "source": [
    "# Question\n",
    "\n",
    "Have you ever wondered about how far cars with newer fuel types have to travel to charge?\n",
    "\n",
    "Zero-emission vehicles are becoming increasingly popular and as the world becomes more environmentally conscious, the government is providing more funding to support these vehicles.\n",
    "\n",
    "With a data source containing information on zero-emission vehicles, we can explore questions related to charging stations across North America.\n",
    "\n",
    "### Goal\n",
    "\n",
    "Our goal is to use zero-emission vehicle charging stations data to get a better understanding the layout of these stations across North America. \n",
    "\n",
    "We will use longitude and latitude points of these stations and plot them on a geographical map using plotly (a popular python library used for creating plots). We can also see the distance someone would have to travel from a specific address to reach one of these charging stations. \n",
    "\n",
    "We will also use a bar chart to compare the distance needed to travel for each fuel type.\n",
    "\n",
    "The fuel types we will explore are:\n",
    "- Biodiesel\n",
    "- CNG\n",
    "- Electric\n",
    "- Ethanol\n",
    "- Hydrogen\n",
    "- LNG\n",
    "- Propane\n",
    "- Renewable Diesel\n",
    "\n",
    "With these visualizations, we will get a better understanding on where different charging stations are located."
   ]
  },
  {
   "attachments": {},
   "cell_type": "markdown",
   "metadata": {},
   "source": [
    "# Gather\n",
    "\n",
    "### Code:\n",
    "The code below will import the Python programming libraries we need to gather and organize the data to answer our question."
   ]
  },
  {
   "cell_type": "code",
   "execution_count": null,
   "metadata": {},
   "outputs": [],
   "source": [
    "#import libraries\n",
    "%pip install -q pyodide_http plotly nbformat requests geopy folium\n",
    "import pyodide_http\n",
    "pyodide_http.patch_all()\n",
    "import pandas as pd\n",
    "import plotly.express as px\n",
    "import requests\n",
    "import geopy.distance as dist\n",
    "import folium"
   ]
  },
  {
   "attachments": {},
   "cell_type": "markdown",
   "metadata": {},
   "source": [
    "### Data:\n",
    "\n",
    "The data source we will be using is provided by Transport Canada and is located on the government of Canada website: https://tc.canada.ca/en/road-transportation/innovative-technologies/zero-emission-vehicles/zero-emission-vehicle-charging-stations#/find/nearest?country=CA\n",
    "\n",
    "We downloaded the data from the website as Comma Seperated Values (csv) and load it directly to Jupyter Notebook."
   ]
  },
  {
   "cell_type": "code",
   "execution_count": null,
   "metadata": {},
   "outputs": [],
   "source": [
    "#import data from csv\n",
    "df = pd.read_csv('https://raw.githubusercontent.com/callysto/data-files/main/data-viz-of-the-week/zero-emission-charging-stations/zero-emission-charging-stations.csv',dtype='unicode')\n",
    "\n",
    "#keep only the columns we are interested in\n",
    "df = df[['Fuel Type Code','Station Name','Street Address','City','State','ZIP','Latitude','Longitude']]\n",
    "df"
   ]
  },
  {
   "attachments": {},
   "cell_type": "markdown",
   "metadata": {},
   "source": [
    "# Organize\n",
    "\n",
    "The following code snippets will help arrange and clean the data so that we can do analysis on it. This is a quality control step for our data and involves examining the data to detect anything odd with the data (e.g. structure, missing values), fixing the oddities, and checking if the fixes worked. \n",
    "\n",
    "The first thing we do is get the full name of the fuel type rather than having just the abbreviation. This step will help make the map we will generate easier to read as it may be difficult to understand what the abbreviation stands for. For example, it's not implied that 'LPG' means 'Propane'\n"
   ]
  },
  {
   "cell_type": "code",
   "execution_count": null,
   "metadata": {},
   "outputs": [],
   "source": [
    "type_dict = {'BD':'Biodiesel','CNG':'CNG','ELEC':'Electric','E85':'Ethanol','HY':'Hydrogen','LNG':'LNG','LPG':'Propane','RD':'Renewable Diesel'}\n",
    "df['Fuel Type'] = df['Fuel Type Code'].map(lambda x: type_dict[x])\n",
    "df['Latitude'] = df['Latitude'].map(lambda x: float(x))\n",
    "df['Longitude'] = df['Longitude'].map(lambda x: float(x))\n",
    "df"
   ]
  },
  {
   "attachments": {},
   "cell_type": "markdown",
   "metadata": {},
   "source": [
    "By provided a starting address, we can use the [geopy](https://github.com/geopy/geopy) library to get the longitude and latitude of the address as well as use a distance calculation to find the closest stations to are starting location. You can change the starting location to any address if you are curious to what's closest to it. Currently the starting address is the [Cybera](https://www.cybera.ca) office in Calgary."
   ]
  },
  {
   "cell_type": "code",
   "execution_count": null,
   "metadata": {},
   "outputs": [],
   "source": [
    "start = \"3512 33 St NW Calgary, AB\" #you can change this line of code to any address you would like\n",
    "url = \"https://nominatim.openstreetmap.org/search?q=\" + start + \"&format=json&accept-language=en\"\n",
    "\n",
    "success = False\n",
    "while not success:\n",
    "    try:\n",
    "        result = requests.get(url=url)\n",
    "        result_json = result.json()\n",
    "        address = float(result_json[0]['lat']),float(result_json[0]['lon']),start\n",
    "        success = True\n",
    "    except:\n",
    "        print(\"Trying again to get information\")\n",
    "\n",
    "df['Distance from start'] = df[['Latitude','Longitude']].apply(lambda x: dist.geodesic(address[:2],x).km,axis=1)\n",
    "\n",
    "closest = df.groupby('Fuel Type')['Distance from start'].min().reset_index(drop=False)\n",
    "closest.rename(columns={'Distance from start':'Distance (km)'},inplace=True)\n",
    "index = {'Biodiesel':100000,'CNG':100000,'Electric':100000,'Ethanol':100000,'Hydrogen':100000,'LNG':100000,'Propane':100000,'Renewable Diesel':100000}\n",
    "for i,v in closest.values:\n",
    "    original_index = df.loc[(df['Fuel Type'] == i) & (df['Distance from start'] == v)].index[0]\n",
    "    index[i] = original_index\n",
    "temp_df = pd.DataFrame.from_dict(index,orient='index').reset_index()\n",
    "temp_df.rename(columns={'index':'Fuel Type',0:'original_index'},inplace=True)\n",
    "closest = closest.merge(temp_df)\n",
    "closest"
   ]
  },
  {
   "attachments": {},
   "cell_type": "markdown",
   "metadata": {},
   "source": [
    "Another thing we want to do, which will be used for later visualizations, is to create a list of addresses of the nearest fuel type to the starting location we specified previously. This list will contain longitude and latitude information as well as the address of the station with its fuel type."
   ]
  },
  {
   "cell_type": "code",
   "execution_count": null,
   "metadata": {},
   "outputs": [],
   "source": [
    "addresses = []\n",
    "addresses.append(address)\n",
    "for i in closest['original_index']:\n",
    "    tup = df.iloc[i]['Latitude'],df.iloc[i]['Longitude'],df.iloc[i]['Station Name'] + ' - ' + df.iloc[i]['Street Address'] + ', '+ df.iloc[i]['City'] + ', ' + df.iloc[i]['State'] + ' - ' + df.iloc[i]['Fuel Type']\n",
    "    addresses.append(tup)\n",
    "addresses"
   ]
  },
  {
   "attachments": {},
   "cell_type": "markdown",
   "metadata": {},
   "source": [
    "Finally, we will also create some dictionaries that will be used to make the map a little more prettier and add some life to it."
   ]
  },
  {
   "cell_type": "code",
   "execution_count": null,
   "metadata": {},
   "outputs": [],
   "source": [
    "colors = {start:'black','Biodiesel':'orange','CNG':'blue','Electric':'green','Ethanol':'red','Hydrogen':'darkgreen','LNG':'cadetblue','Propane':'darkpurple','Renewable Diesel':'beige'}\n",
    "icons = {start:'home','Biodiesel':'gas-pump','CNG':'gas-pump','Electric':'gas-pump','Ethanol':'gas-pump','Hydrogen':'gas-pump','LNG':'gas-pump','Propane':'gas-pump','Renewable Diesel':'gas-pump'}"
   ]
  },
  {
   "attachments": {},
   "cell_type": "markdown",
   "metadata": {},
   "source": [
    "# Explore (1)\n",
    "\n",
    "The code below will be used to help us look for evidence to answer our question on where charging stations are located. This can involve looking at data in table format, applying math and statistics, and creating different types of visualizations to represent our data.\n",
    "\n",
    "We can plot these the stations in North America using there longitude and latitude values in a scatter_mapbox plot, which is just a geographical map. This may give us an easy way to characterize these pitches."
   ]
  },
  {
   "cell_type": "code",
   "execution_count": null,
   "metadata": {},
   "outputs": [],
   "source": [
    "fig = px.scatter_mapbox(df,lat='Latitude',lon='Longitude',color='Fuel Type',labels='Fuel Type Code',zoom=2,height=600,hover_data={'Station Name','Street Address'})\n",
    "fig.update_layout(mapbox_style='open-street-map')\n",
    "fig.show()"
   ]
  },
  {
   "attachments": {},
   "cell_type": "markdown",
   "metadata": {},
   "source": [
    "# Interpret\n",
    "\n",
    "From this visualization, we can gather a lot of valuable information. We gain a better understanding of where each fuel type is located in North America and where you can find more stations supporting that type. For example we see that Biodiesel is more readily found in North-East USA, near Minnisota and Kansas City. We are also able to gather that the most readily available fuel types are Propare and Electric. Renewable Diesel only seems to be found around Los Angeles and is the \"rarest\" type of charging station."
   ]
  },
  {
   "attachments": {},
   "cell_type": "markdown",
   "metadata": {},
   "source": [
    "# Explore (2)\n",
    "\n",
    "Another thing we wanted to explore is how far is the closest charging station, by fuel type, from our starting location\n",
    "\n",
    "Let's try plotting another map to see the distance we would have to travel. This time we will use a folium map, which is better in this scenario as it allows us to differentiate the points a little more."
   ]
  },
  {
   "cell_type": "code",
   "execution_count": null,
   "metadata": {},
   "outputs": [],
   "source": [
    "m = folium.Map()\n",
    "sw = min(addresses)\n",
    "ne = max(addresses)\n",
    "m.fit_bounds([sw,ne])\n",
    "for x in addresses:\n",
    "    location = x[2]\n",
    "    folium.Marker(x[:2],popup=folium.Popup(location,min_width=150,max_width=150),icon=folium.Icon(color=colors[location.split('- ')[-1]],icon=icons[location.split('- ')[-1]],prefix='fa')).add_to(m)\n",
    "m"
   ]
  },
  {
   "attachments": {},
   "cell_type": "markdown",
   "metadata": {},
   "source": [
    "# Interpret\n",
    "\n",
    "With this visualization, we are able to see how far each fueling station is from our starting location. Depending on where you put your starting location as, the distance away from from each fuel type will be different. For example, if you decided to have your starting location in Southern California, you would have to travel much less to find a Renewable Diesel charging station, compared to a starting location in Northern Canada."
   ]
  },
  {
   "attachments": {},
   "cell_type": "markdown",
   "metadata": {},
   "source": [
    "# Explore (3)\n",
    "\n",
    "Finally, let's look at the actually distance you would have to travel to reach on of these stations. We can create a bar graph to compare the distance traveled for each fuel type. This will just give another to see the relative distance someone would have to travel to reach on of these stations. We can also see how many stations of each time are within a 100km radius of the starting point to get a better understanding of how accommodated each fuel type is. The distance between two points is only for the shortest path between them, it doesn't account for any actual routes you would take to reach these stations."
   ]
  },
  {
   "cell_type": "code",
   "execution_count": null,
   "metadata": {},
   "outputs": [],
   "source": [
    "closest.sort_values('Distance (km)',inplace=True)\n",
    "sorted_colors = sorted(colors.items(),key=lambda x:x[1])\n",
    "colors_df = pd.DataFrame(sorted_colors,columns=['Fuel Type','color'])\n",
    "\n",
    "closest = closest.merge(colors_df)\n",
    "\n",
    "fig = px.bar(closest,x='Fuel Type',y='Distance (km)',color='color',title='Distance to closest fueling station based on fuel type')\n",
    "fig.update_layout(showlegend=False)\n",
    "fig.show()"
   ]
  },
  {
   "cell_type": "code",
   "execution_count": null,
   "metadata": {},
   "outputs": [],
   "source": [
    "sorted_df = df.sort_values('Distance from start')\n",
    "types = ['Biodiesel','CNG','Ethanol','Electric','Hydrogen','LNG','Propane','Renewable Diesel']\n",
    "\n",
    "def add_missing_types(w):\n",
    "    for t in types:\n",
    "        if t not in list(w['Fuel Type']):\n",
    "            w.loc[len(w)] = (t,0)\n",
    "    return w \n",
    "\n",
    "within_100km = sorted_df.loc[sorted_df['Distance from start'] <= 100]\n",
    "within_100km = within_100km.groupby('Fuel Type')['Distance from start'].count().reset_index(name='Number of Stations')\n",
    "within_100km = add_missing_types(within_100km)\n",
    "within_100km.sort_values('Number of Stations',ascending=False,inplace=True)\n",
    "within_100km = within_100km.merge(colors_df)\n",
    "\n",
    "fig = px.bar(within_100km,x='Fuel Type',y='Number of Stations',color='color',title='Number of Stations within 100 km of Starting Location by Fuel Type')\n",
    "fig.update_layout(showlegend=False)\n",
    "fig.show()"
   ]
  },
  {
   "attachments": {},
   "cell_type": "markdown",
   "metadata": {},
   "source": [
    "# Communicate\n",
    "\n",
    "Below are some writing prompts to help you reflect on the new information that is presented from the data. When we look at the evidence, think about what you perceive about the information. Is this perception based on what the evidence shows? If others were to view it, what perceptions might they have?\n",
    "\n",
    "- I used to think ____________________but now I know____________________. \n",
    "- I wish I knew more about ____________________. \n",
    "- This visualization reminds me of ____________________. \n",
    "- I really like ____________________."
   ]
  },
  {
   "attachments": {},
   "cell_type": "markdown",
   "metadata": {},
   "source": [
    "## Add your comments here\n",
    "\n",
    "✏️"
   ]
  },
  {
   "attachments": {},
   "cell_type": "markdown",
   "metadata": {},
   "source": [
    "## Saving your work\n",
    "\n",
    "You can download this notebook, with your comments, by using the **File** menu item in the toolbar above. You might like to downloads this in .html format so that the graphics remain active and can be viewed in your web browser."
   ]
  },
  {
   "attachments": {},
   "cell_type": "markdown",
   "metadata": {},
   "source": [
    "[![Callysto.ca License](https://github.com/callysto/curriculum-notebooks/blob/master/callysto-notebook-banner-bottom.jpg?raw=true)](https://github.com/callysto/curriculum-notebooks/blob/master/LICENSE.md)\n"
   ]
  }
 ],
 "metadata": {
  "kernelspec": {
   "display_name": "Python 3",
   "language": "python",
   "name": "python3"
  },
  "language_info": {
   "codemirror_mode": {
    "name": "ipython",
    "version": 3
   },
   "file_extension": ".py",
   "mimetype": "text/x-python",
   "name": "python",
   "nbconvert_exporter": "python",
   "pygments_lexer": "ipython3",
   "version": "3.10.1"
  },
  "orig_nbformat": 4
 },
 "nbformat": 4,
 "nbformat_minor": 2
}
