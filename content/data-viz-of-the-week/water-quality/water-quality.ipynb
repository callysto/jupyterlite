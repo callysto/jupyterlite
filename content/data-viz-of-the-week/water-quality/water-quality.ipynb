{
 "cells": [
  {
   "attachments": {},
   "cell_type": "markdown",
   "metadata": {},
   "source": [
    "![Callysto.ca Banner](https://github.com/callysto/curriculum-notebooks/blob/master/callysto-notebook-banner-top.jpg?raw=true)\n",
    "\n",
    "\n",
    "\n",
    "<a href=\"https://hub.callysto.ca/jupyter/hub/user-redirect/git-pull?repo=https%3A%2F%2Fgithub.com%2Fcallysto%2Fdata-viz-of-the-week&branch=main&subPath=water-quality/water-quality.ipynb&depth=1\" target=\"_parent\"><img src=\"https://raw.githubusercontent.com/callysto/curriculum-notebooks/master/open-in-callysto-button.svg?sanitize=true\" width=\"123\" height=\"24\" alt=\"Open in Callysto\"/></a>"
   ]
  },
  {
   "attachments": {},
   "cell_type": "markdown",
   "metadata": {},
   "source": [
    "# Callysto’s Weekly Data Visualization\n",
    "\n",
    "## National Long-term Water Quality Statistics\n",
    "\n",
    "### Recommended Grade levels: 9-12\n",
    "<br>"
   ]
  },
  {
   "cell_type": "markdown",
   "metadata": {},
   "source": [
    "### Instructions\n",
    "#### “Run” the cells to see the graphs\n",
    "Click “Cell” and select “Run All”.<br> This will import the data and run all the code, so you can see this week's data visualization. Scroll to the top after you’ve run the cells.<br> \n",
    "\n",
    "![instructions](https://github.com/callysto/data-viz-of-the-week/blob/main/images/instructions.png?raw=true)\n",
    "\n",
    "**You don’t need to do any coding to view the visualizations**.\n",
    "The plots generated in this notebook are interactive. You can hover over and click on elements to see more information. \n",
    "\n",
    "Email contact@callysto.ca if you experience issues."
   ]
  },
  {
   "cell_type": "markdown",
   "metadata": {},
   "source": [
    "### About this Notebook\n",
    "\n",
    "Callysto's Weekly Data Visualization is a learning resource that aims to develop data literacy skills. We provide Grades 5-12 teachers and students with a data visualization, like a graph, to interpret. This companion resource walks learners through how the data visualization is created and interpreted by a data scientist. \n",
    "\n",
    "The steps of the data analysis process are listed below and applied to each weekly topic.\n",
    "\n",
    "1. Question - What are we trying to answer? \n",
    "2. Gather - Find the data source(s) you will need. \n",
    "3. Organize - Arrange the data, so that you can easily explore it. \n",
    "4. Explore - Examine the data to look for evidence to answer the question. This includes creating visualizations. \n",
    "5. Interpret - Describe what's happening in the data visualization. \n",
    "6. Communicate - Explain how the evidence answers the question. "
   ]
  },
  {
   "cell_type": "markdown",
   "metadata": {},
   "source": [
    "# Question\n",
    "\n",
    "Water is doubtlessly an essential natural resource for human survival. On that account, [Dietitians of Canada](https://www.dietitians.ca) recommends Canadians to consume on average 2.2 litres of water daily. Based on a recent report by [Statistics Canada](https://www150.statcan.gc.ca/t1/tbl1/en/tv.action?pid=3810004001), total water intake from all aquatic sources in 2017 was 3,767 million cubic metres. Hence, it is clear that any changes to water quality will significantly impact human health as well as economic and environmental conditions in Canada. \n",
    "\n",
    "Now that we know how crucial water is in our daily lives, we may wish to look deeper into the water quality in Canada. The water quality in Canada earns an \"A\" grade and ranks in 4th place compared to the 17 peer OECD countries. But how can we be sure of that?\n",
    "\n",
    "Statistics Canada has consistantly been monitoring various parameters that could influence Canada's aquatic ecosystems. How can we utilize this observational data to investigate the water quality in Canada?\n",
    "\n",
    "<p align=\"center\">\n",
    "  <img src=\"https://cdn.pixabay.com/photo/2017/05/27/06/17/water-2347799_960_720.jpg\" width=\"600\" />\n",
    "</p>\n",
    "\n",
    "### Goal\n",
    "Our goal is to look at different chemical or physical parameters that reveal to us the quality of water reserves across Canada. We will investigate the spread of harmful parameters in water reserves across all Canadian provinces. Do Canadian water reserves demonstrate a consistant decrease in harmful parameters? If they don't, what interesting trends can be seen in our visualizations?"
   ]
  },
  {
   "cell_type": "markdown",
   "metadata": {},
   "source": [
    "# Gather\n",
    "\n",
    "### Code:\n",
    "The code below will import the Python programming libraries we need to gather and organize the data to answer our question."
   ]
  },
  {
   "cell_type": "code",
   "execution_count": null,
   "metadata": {},
   "outputs": [],
   "source": [
    "# import libraries\n",
    "%pip install -r requirements.txt\n",
    "import pyodide_http\n",
    "pyodide_http.patch_all()\n",
    "import pandas as pd\n",
    "import numpy as np\n",
    "import plotly.express as px\n",
    "import plotly.graph_objects as go\n",
    "from scipy import stats\n",
    "import IPython.display\n",
    "from IPython.display import display, clear_output\n",
    "import ipywidgets as widgets\n",
    "from ipywidgets import interact, interact_manual"
   ]
  },
  {
   "attachments": {},
   "cell_type": "markdown",
   "metadata": {},
   "source": [
    "### Data:\n",
    "\n",
    "In this notebook, we will use long-term monitoring data from [Statistics Canada](https://data.ec.gc.ca/data/substances/monitor/national-long-term-water-quality-monitoring-data/). To measure the long-term water quality, Statistics Canada collected data on **145 distinct parameters** from **21 observation sites**.\n",
    "\n",
    "Out of the 145 distinct water quality parameters, we will investigate **five parameters** in depth. Our parameters of interest are pH, dissolved oxygen, water temperature, dissolved sulphate and dissolved phosphorus. To understand each parameter more in-depth, refer to the table below. \n",
    "\n",
    "| **Parameter** | **Description** |\n",
    "| :- |:------------- | \n",
    "| pH | A measure of the hydrogen ion activity in a solution. It indicates how acidic or basic water is. |\n",
    "|  Water Temperature | Different kinds of aquatic organisms choose to live in varying water temperature. A change in water temperature will lead to changes in types of aquatic life present in water and triggers consecutive chain reactions. |\n",
    "| Dissolved Oxygen | All aquatic organisms need dissolved oxygen for respiration. Low dissolved oxygen levels can  lead to increased mortality of fish eggs and devastates aquatic ecosystem that are present before. |\n",
    "| Dissolved Sulphate | Sulphate is the oxidized form of sulphur, which is essential for many biological processes in plants and animals. However, high concentrations of sulphate are detrimental for the survival of aquatic organisms.  |\n",
    "| Dissolved Phosphorus | Plants and animals need phosphorus to grow. However, high concentrations of phosphorus will enhance vegetation and algae growth, thus breaking the aquatic ecosystem. |\n",
    "\n",
    "Description from the table was retrieved from [British Columbia government website](https://www2.gov.bc.ca/gov/content/environment/air-land-water/water/water-quality/water-quality-monitoring/canada-bc-water-quality-monitoring-program/water-quality-parameters). "
   ]
  },
  {
   "cell_type": "markdown",
   "metadata": {},
   "source": [
    "### Import the data"
   ]
  },
  {
   "cell_type": "markdown",
   "metadata": {},
   "source": [
    "Since our entire dataset will be quite large, let's first look into data from a single location.  "
   ]
  },
  {
   "cell_type": "code",
   "execution_count": null,
   "metadata": {
    "scrolled": true
   },
   "outputs": [],
   "source": [
    "# import data\n",
    "df = pd.read_csv(\"https://raw.githubusercontent.com/callysto/data-files/main/data-viz-of-the-week/water-quality/data/okanagan.csv\", encoding=\"latin-1\")\n",
    "print(df.shape)\n",
    "df.head()"
   ]
  },
  {
   "cell_type": "markdown",
   "metadata": {},
   "source": [
    "### Comment on the data\n",
    "Notice that the data has **92418 rows** and **11 columns**. If we compile data from all 21 locations, the resulting dataframe will be massive! Therefore, before proceeding further, we will select specific columns and rows that are of our interest. "
   ]
  },
  {
   "cell_type": "markdown",
   "metadata": {},
   "source": [
    "# Organize\n",
    "Now, we wish to gather data from all locations. Remember that we are only using five parameters, which we need to filter out in the process of data cleaning. Run the following cells to display long-term water quality monitoring data across all provinces in Canada. \n",
    "\n",
    "This data may take some time to load, so please wait paitiently."
   ]
  },
  {
   "cell_type": "code",
   "execution_count": null,
   "metadata": {},
   "outputs": [],
   "source": [
    "# Make a list of all locations\n",
    "df = pd.DataFrame(columns = [\"SITE_NO\", \"LOCATION\", \"YEAR\", \"VARIABLE\", \"VALUE_VALEUR\", \"UNIT_UNITE\"])\n",
    "observation_locations = [\"arctic\", \"assiniboine\", \"churchill\", \"columbia\", \"fraser\",\n",
    "                         \"keewatin\", \"mackenzie\", \"missouri\", \"south_saskatchewan\",\n",
    "                         \"north_saskatchewan\", \"okanagan\", \"pacific_coastal\",\n",
    "                         \"athabasca\", \"lower_saskatchewan\", \"winnipeg\", \"yukon\",\n",
    "                         \"gaspe\", \"maritime\", \"newfoundland\", \"st_john\", \"st_lawrence\"]\n",
    "\n",
    "# Create dictionaries to replace certain entries\n",
    "prov = {\"Newfoundland and Labrador\": \"NL\", \"Prince Edward Island\":\"PE\",\n",
    "       \"Nova Scotia\":\"NS\", \"New Brunswick\":\"NB\", \"Quebec\":\"QC\", \"Ontario\":\"ON\",\n",
    "       \"Manitoba\":\"MB\", \"Alberta\":\"AB\", \"Saskatchewan\":\"SK\", \"British Columbia\":\"BC\",\n",
    "        \"Northwest Territories\":\"NT\", \"Nunavut\":\"NU\", \"Yukon\":\"YT\"}\n",
    "prov_reverse = {y: x for x, y in prov.items()}\n",
    "\n",
    "units = {\"PH UNITS\":\"PH\",\n",
    "       \"MG/L\":\"mg/L\",\n",
    "       \"DEG C\":\"°C\"}\n",
    "\n",
    "parameter_rename = {\"Phosphorus Total Dissolved\":\"Dissolved Phosphorus\",\n",
    "                   \"Temperature Water\":\"Water Temperature\",\n",
    "                   \"PH\":\"pH\",\n",
    "                   \"Oxygen Dissolved\":\"Dissolved Oxygen\",\n",
    "                   \"Sulphate Dissolved\":\"Dissolved Sulphate\"}\n",
    "\n",
    "# Gather all observed data\n",
    "def data_wrangling(lists):\n",
    "    for alist in lists:\n",
    "        mydf = pd.read_csv(\"https://raw.githubusercontent.com/callysto/data-files/main/data-viz-of-the-week/water-quality/data/\" + alist + \".csv\", encoding='latin-1')\n",
    "        mydf[\"LOCATION\"] = str(alist)\n",
    "        mydf[\"DATE_TIME_HEURE\"] = pd.to_datetime(mydf[\"DATE_TIME_HEURE\"])\n",
    "        mydf[\"YEAR\"] = pd.DatetimeIndex(mydf[\"DATE_TIME_HEURE\"]).year\n",
    "        mydf = mydf[[\"SITE_NO\", \"YEAR\", \"LOCATION\", \"VARIABLE\", \"VALUE_VALEUR\", \"UNIT_UNITE\", \"VMV_CODE\"]]\n",
    "        mydf1 = mydf.groupby([\"YEAR\", \"LOCATION\", \"SITE_NO\", \"VARIABLE\", \"UNIT_UNITE\", \"VMV_CODE\"])[\"VALUE_VALEUR\"].mean()\n",
    "        mydf1 = mydf1.to_frame().reset_index()\n",
    "        global df\n",
    "        df = pd.concat([df, mydf1])\n",
    "    return df\n",
    "\n",
    "# Add longitude and latitude for each location\n",
    "sites = pd.read_csv(\"https://raw.githubusercontent.com/callysto/data-files/main/data-viz-of-the-week/water-quality/data/site_lists.csv\", encoding='latin-1')\n",
    "pre_df = data_wrangling(observation_locations)\n",
    "pre_df = pre_df.drop(pre_df[pre_df[\"VMV_CODE\"] == 2061.0].index)\n",
    "df = pd.merge(pre_df, sites, on=\"SITE_NO\", how=\"inner\")\n",
    "\n",
    "# Select parameters\n",
    "parameters = [\"PH\", \"OXYGEN DISSOLVED\", \"TEMPERATURE WATER\", \"PHOSPHORUS TOTAL DISSOLVED\", \"SULPHATE DISSOLVED\"]\n",
    "df = df[df.VARIABLE.isin(parameters)]\n",
    "\n",
    "# Eliminate out of range values\n",
    "PH_out_of_range = df[(df['VARIABLE']=='PH') & (~df[\"VALUE_VALEUR\"].between(1,14))].index.values.tolist()\n",
    "temp_water_out_of_range = df[(df['VARIABLE']=='TEMPERATURE WATER') & (df[\"VALUE_VALEUR\"]<0)].index.values.tolist()\n",
    "oxygen_out_of_range = df[(df['VARIABLE']=='OXYGEN DISSOLVED') & (df[\"VALUE_VALEUR\"]>20)].index.values.tolist()\n",
    "all_out_of_range = PH_out_of_range + temp_water_out_of_range + oxygen_out_of_range\n",
    "df.drop(all_out_of_range, inplace=True)\n",
    "\n",
    "# Rename columns and further data cleaning \n",
    "df = df.rename(columns={\"VALUE_VALEUR\":\"VALUE\", \"PROV_TERR\":\"PROVINCE\", \"UNIT_UNITE\":\"UNIT\"})\n",
    "df[\"PROVINCE\"] = df[\"PROVINCE\"].replace(prov_reverse)\n",
    "df[\"UNIT\"] = df[\"UNIT\"].replace(units)\n",
    "df = df[[\"PROVINCE\", \"LOCATION\", \"YEAR\", \"SITE_NAME\", \"SITE_TYPE\", \"LONGITUDE\", \"LATITUDE\", \"VARIABLE\", \"VALUE\", \"UNIT\"]].reset_index(drop=True)\n",
    "df[\"VARIABLE\"] = df[\"VARIABLE\"].apply(lambda x: x.title() if (x!=\"PH\") else x)\n",
    "df[\"VARIABLE\"] = df[\"VARIABLE\"].replace(parameter_rename, regex=True)\n",
    "df = df.loc[df[\"YEAR\"] < 2020]\n",
    "\n",
    "# Assign specific colors for each province \n",
    "colors=['#1f77b4',  # muted blue\n",
    "        '#ff7f0e',  # safety orange\n",
    "        '#2ca02c',  # cooked asparagus green\n",
    "        '#d62728',  # brick red\n",
    "        '#9467bd',  # muted purple\n",
    "        '#8c564b',  # chestnut brown\n",
    "        '#e377c2',  # raspberry yogurt pink\n",
    "        '#17becf',  # blue-teal\n",
    "        '#210240',  # dark purple\n",
    "        '#21DC49',  # bright green\n",
    "        '#3F5063',  # dark navy\n",
    "        '#6C7075',  # dark grey\n",
    "        '#F4BC1A']  # mustard\n",
    "    \n",
    "color_dict = dict(zip(df[\"PROVINCE\"].unique(), colors))\n",
    "df[\"COLOR\"] = df[\"PROVINCE\"].map(color_dict)\n",
    "\n",
    "df.head()"
   ]
  },
  {
   "cell_type": "markdown",
   "metadata": {},
   "source": [
    "### Comment on the data\n",
    "The filtered dataframe consists of **14975 rows** and **10 columns**. This number is significantly smaller than what would have occurred if all 145 parameter data from 21 observation locations had been compiled. \n",
    "\n",
    "We can also look into the **provincial average** of the parameter concentrations (values). The dataframe below will display a summarized form of the previous dataframe, with the provincial average values for each year, for the five selected parameters. "
   ]
  },
  {
   "cell_type": "code",
   "execution_count": null,
   "metadata": {},
   "outputs": [],
   "source": [
    "# Provincial summary of yearly average parameter concentrations\n",
    "df_summary = df.groupby([\"PROVINCE\", \"VARIABLE\", \"YEAR\", \"UNIT\"])[\"VALUE\"].mean().to_frame()\n",
    "df_summary = df_summary.reset_index()\n",
    "print(df_summary.shape)\n",
    "df_summary.head()"
   ]
  },
  {
   "cell_type": "markdown",
   "metadata": {},
   "source": [
    "The summarized dataframe consists of **1024 rows** and **5 columns**. We will use the summarized dataframe to create a line graph and the original dataframe to create a series of data-plotted maps. From now, we will refer to the summarized dataframe as `df_summary`, and the original dataframe as `df`."
   ]
  },
  {
   "cell_type": "markdown",
   "metadata": {},
   "source": [
    "# Explore\n",
    "\n",
    "### Line Graph \n",
    "We will start by creating a **line graph**. To make this graph, we will use `df_summary`, which contains provincial average data of parameter concentrations from 2000 to 2019. Notice that some of the data is missing; when you see discontinued lines in the plot, it means that the particular data is missing.  "
   ]
  },
  {
   "cell_type": "code",
   "execution_count": null,
   "metadata": {},
   "outputs": [],
   "source": [
    "line_fig = go.Figure()\n",
    "variables = df_summary[\"VARIABLE\"].unique()\n",
    "firstvis = lambda x, y: True if ((x==\"Alberta\") & (y==\"Dissolved Oxygen\")) else \"legendonly\" if (y==\"Dissolved Oxygen\") else False\n",
    "\n",
    "markers = [\"circle\",\"square\",\"diamond\",\"cross\",\"x\",\"triangle-up\",\n",
    "           \"triangle-down\",\"triangle-left\",\"triangle-right\",\"star\",\"hourglass\",\n",
    "           \"hexagram\", \"bowtie\"]\n",
    "\n",
    "for variable in variables:\n",
    "    col_num = 0\n",
    "    df1 = df_summary[df_summary[\"VARIABLE\"] == variable]\n",
    "    all_provs = df1[\"PROVINCE\"].unique()\n",
    "    for ind, province in enumerate(all_provs):\n",
    "        customdata = np.stack((df1[df1[\"PROVINCE\"] == province][\"PROVINCE\"], \n",
    "                       df1[df1[\"PROVINCE\"] == province][\"VALUE\"], \n",
    "                       df1[df1[\"PROVINCE\"] == province][\"UNIT\"],\n",
    "                       df1[df1[\"PROVINCE\"] == province][\"YEAR\"]), axis=1)\n",
    "        hovertemplate=\"<br>\".join([\"<b>Province:  %{customdata[0]}</b>\", \"Value: %{customdata[1]}\" + \" %{customdata[2]}<extra></extra>\"])\n",
    "        line_fig.add_trace(go.Scatter(x=df1[df1[\"PROVINCE\"] == province][\"YEAR\"],\n",
    "                                      y=df1[df1[\"PROVINCE\"] == province][\"VALUE\"],                                      \n",
    "                                      mode = \"lines+markers\", uid=variable+ \"(\" + province + \")\",\n",
    "                                      customdata = customdata,\n",
    "                                      line=dict(color=colors[col_num]), \n",
    "                                      marker_symbol=markers[ind], marker_size=10,\n",
    "                                      hovertemplate = hovertemplate,\n",
    "                                      hoverinfo = \"x\",\n",
    "                                      name= province, visible= firstvis(province, variable)))\n",
    "        col_num += 1\n",
    "    \n",
    "    \n",
    "mybuttons = []\n",
    "prov_var_dict = [[] for _ in range(len(variables))]\n",
    "\n",
    "for ind_variable, variable in enumerate(variables):\n",
    "    df1 = df_summary[df_summary[\"VARIABLE\"] == variable]\n",
    "    all_provs = df1[\"PROVINCE\"].unique()\n",
    "    for province in all_provs:\n",
    "        prov_var_dict[ind_variable].append(province)\n",
    "        \n",
    "currnum = 0\n",
    "for ind, variable in enumerate(prov_var_dict):\n",
    "    traces = [False] * len(line_fig.data)\n",
    "    num_provs = len(variable)\n",
    "    oldnum = currnum\n",
    "    traces[0:oldnum] = [False for i in traces[0:oldnum]]\n",
    "    currnum += num_provs\n",
    "    traces[oldnum:currnum] = [\"legendonly\" for i in traces[oldnum:currnum]]\n",
    "    traces[oldnum] = [True]\n",
    "    mybuttons.append(dict(label=variables[ind],\n",
    "                          method=\"update\",\n",
    "                          args=[{\"visible\":traces}]))\n",
    "\n",
    "line_fig.update_layout(showlegend=True,\n",
    "                      updatemenus=[dict(active=0,\n",
    "                                        buttons=mybuttons,\n",
    "                                        direction=\"down\", pad={\"r\": 10, \"t\": 10},\n",
    "                                        showactive=True, x=0.15, xanchor=\"left\", y=1.15, yanchor=\"top\")],\n",
    "                      annotations=[dict(text=\"Parameter: \",x=0, y=1.09, yref=\"paper\", xref=\"paper\", align=\"left\", showarrow=False)],\n",
    "                      xaxis_title=\"Year\", yaxis_title=\"Physical-Chemical Parameters Value\",\n",
    "                       xaxis_range=[1999, 2020],\n",
    "                      title_text=\"Water Quality Across Provinces 2000-2019\", title_x=0.5, width=800, height=500,\n",
    "                      hovermode=\"x unified\")\n",
    "line_fig.show()"
   ]
  },
  {
   "attachments": {},
   "cell_type": "markdown",
   "metadata": {},
   "source": [
    "### Data Cleaning\n",
    "\n",
    "Looking at the line graphs above, there a few different parameters where we can see some strange values. For example, in a few of the available categories from the dropdown list, the measurements for Alberta seem to have some anomalous (or unexpected) deviations from the general pattern. Alberta isn't the only region whose data contains these oddities, they're often a reality of collecting data from natural phenomena; some values will buck the normal trend.\n",
    "\n",
    "Thankfully, because this is so common in data science (and science in general), tackling this issue is a routine part of the exploration process. Identifying abnormal data, or what we might call **outliers**, is a simple task, but choosing what to do with data identified as an outlier is much trickier. It's almost always bad practice to remove data without a good reason, and in science it could even discredit your research. To justify our decisions here, we've found data from the [Canadian Council of Ministers of the Environment](https://ccme.ca/en/resources) that list reference ranges for all the parameters, though there's no levels given for water temperature (links open to PDFs):\n",
    "- [pH](https://ccme.ca/en/res/ph-marine-en-canadian-water-quality-guidelines-for-the-protection-of-aquatic-life.pdf)\n",
    "- [Dissolved Phosphorus](https://ccme.ca/en/res/phosphorus-en-canadian-water-quality-guidelines-for-the-protection-of-aquatic-life.pdf)\n",
    "- [Dissolved Sulphate](https://www2.gov.bc.ca/assets/gov/environment/air-land-water/water/waterquality/water-quality-guidelines/approved-wqgs/sulphate/bc_moe_wqg_sulphate.pdf)\n",
    "- [Water Temperature](https://ccme.ca/en/res/temperature-marine-en-canadian-water-quality-guidelines-for-the-protection-of-aquatic-life.pdf)\n",
    "- [Dissolved Oxygen](https://ccme.ca/en/res/dissolved-oxygen-freshwater-en-canadian-water-quality-guidelines-for-the-protection-of-aquatic-life.pdf)\n",
    "\n",
    "Below we have box plots that show the range of all the values for each parameter and location, to get an idea of the distributions. If you're not familiar with [box plots](https://en.wikipedia.org/wiki/Box_plot), they're a common visualization used to show *where* in a range the values are most grouped, by allowing you to see useful measures from the data. Statistical information, such as the median, interquartile range (IQR), and outliers (determined by default as 1.5 x IQR above or below the edges of the box) are easy to find by hovering over the plots.\n",
    "\n",
    "Overlaid in grey is the reference range for each parameter from the above sources. **CLICK on the left of the graph to unscroll the output for all the graphs.**"
   ]
  },
  {
   "cell_type": "code",
   "execution_count": null,
   "metadata": {},
   "outputs": [],
   "source": [
    "fig2 = px.box(df[df['VARIABLE']=='pH'], x='VALUE', title='pH', color='PROVINCE', height=600)\n",
    "fig2.add_shape(type='rect', opacity=0.2, fillcolor='grey',\n",
    "              yref='paper',\n",
    "              x0=7.0, x1=8.7,\n",
    "              y0=0.0, y1=1.0)\n",
    "fig2.show()\n",
    "fig3 = px.box(df[df['VARIABLE']=='Dissolved Phosphorus'], x='VALUE', title='Dissolved Phosphorus', color='PROVINCE', height=600)\n",
    "fig3.add_shape(type='rect', opacity=0.2, fillcolor='grey',\n",
    "              yref='paper',\n",
    "              x0=0.0, x1=0.1,\n",
    "              y0=0.0, y1=1.0)\n",
    "fig3.show()\n",
    "fig4 = px.box(df[df['VARIABLE']=='Dissolved Sulphate'], x='VALUE', title='Dissolved Sulphate', color='PROVINCE', height=600)\n",
    "fig4.add_shape(type='rect', opacity=0.2, fillcolor='grey',\n",
    "              yref='paper',\n",
    "              x0=0.0, x1=250,\n",
    "              y0=0.0, y1=1.0)\n",
    "fig4.show()\n",
    "fig5 = px.box(df[df['VARIABLE']=='Water Temperature'], x='VALUE', title='Water Temperature', color='PROVINCE', height=600)\n",
    "\n",
    "fig5.show()\n",
    "fig6 = px.box(df[df['VARIABLE']=='Dissolved Oxygen'], x='VALUE', title='Dissolved Oxygen', color='PROVINCE', height=600)\n",
    "fig6.add_shape(type='rect', opacity=0.2, fillcolor='grey',\n",
    "              yref='paper',\n",
    "              x0=5.5, x1=12.77,\n",
    "              y0=0.0, y1=1.0)\n",
    "fig6.show()"
   ]
  },
  {
   "cell_type": "markdown",
   "metadata": {},
   "source": [
    "#### A note on cleaning\n",
    "When doing data cleaning, there's no 'one size fits all' approach on how to handle outliers. Though there are many techniques and approaches that do exist, often the best method is determined by convention in each field. Even before that, it's usually good practice to discard data points that are physically impossible, such as measuring a person's height at 20m, or an air temperature of 350°C.\n",
    "\n",
    "If we were professional scientists in the field of environmental science, a better approach would be to look at the current research in the field and see what other scientists have done to handle outliers. For our purposes here though, we can use the reference ranges given to us to determine which values to keep. This will impact some regions and parameters more than others, but it's a quick way to clean our data.\n",
    "\n",
    "Below we'll remove outlier values from the original data, recombine it, and plot it again."
   ]
  },
  {
   "cell_type": "code",
   "execution_count": null,
   "metadata": {},
   "outputs": [],
   "source": [
    "# Remove rows with values out of range for each parameter\n",
    "ph_drop = df.index[((df['VARIABLE']=='pH') & (df['VALUE'] > 8.7)) | \n",
    "                   ((df['VARIABLE']=='pH') & (df['VALUE'] < 7.0))].to_list()\n",
    "phos_drop = df.index[(df['VARIABLE']=='Dissolved Phosphorus') & (df['VALUE'] > 0.1)].to_list()\n",
    "sulph_drop = df.index[(df['VARIABLE']=='Dissolved Sulphate') & (df['VALUE'] > 250)].to_list()\n",
    "oxy_drop = df.index[((df['VARIABLE']=='Dissolved Oxygen') & (df['VALUE'] < 5.5)) |\n",
    "                    ((df['VARIABLE']=='Dissolved Oxygen') & (df['VALUE'] > 12.7))].to_list()\n",
    "drops = ph_drop + phos_drop + sulph_drop + oxy_drop\n",
    "\n",
    "df_cleaned = df.drop(drops, axis=0)\n",
    "\n",
    "# Re-summarize data\n",
    "df_cleaned_summary = df_cleaned.groupby([\"PROVINCE\", \"VARIABLE\", \"YEAR\", \"UNIT\"])[\"VALUE\"].mean().to_frame()\n",
    "df_cleaned_summary = df_cleaned_summary.reset_index()\n",
    "\n",
    "\n",
    "# Plot it again\n",
    "line_fig2 = go.Figure()\n",
    "variables = df_cleaned_summary[\"VARIABLE\"].unique()\n",
    "firstvis = lambda x, y: True if ((x==\"Alberta\") & (y==\"Dissolved Oxygen\")) else \"legendonly\" if (y==\"Dissolved Oxygen\") else False\n",
    "\n",
    "markers = [\"circle\",\"square\",\"diamond\",\"cross\",\"x\",\"triangle-up\",\n",
    "           \"triangle-down\",\"triangle-left\",\"triangle-right\",\"star\",\"hourglass\",\n",
    "           \"hexagram\", \"bowtie\"]\n",
    "\n",
    "for variable in variables:\n",
    "    col_num = 0\n",
    "    df1 = df_cleaned_summary[df_cleaned_summary[\"VARIABLE\"] == variable]\n",
    "    all_provs = df1[\"PROVINCE\"].unique()\n",
    "    for ind, province in enumerate(all_provs):\n",
    "        customdata = np.stack((df1[df1[\"PROVINCE\"] == province][\"PROVINCE\"], \n",
    "                       df1[df1[\"PROVINCE\"] == province][\"VALUE\"], \n",
    "                       df1[df1[\"PROVINCE\"] == province][\"UNIT\"],\n",
    "                       df1[df1[\"PROVINCE\"] == province][\"YEAR\"]), axis=1)\n",
    "        hovertemplate=\"<br>\".join([\"<b>Province:  %{customdata[0]}</b>\", \"Value: %{customdata[1]}\" + \" %{customdata[2]}<extra></extra>\"])\n",
    "        line_fig2.add_trace(go.Scatter(x=df1[df1[\"PROVINCE\"] == province][\"YEAR\"],\n",
    "                                      y=df1[df1[\"PROVINCE\"] == province][\"VALUE\"],                                      \n",
    "                                      mode = \"lines+markers\", uid=variable+ \"(\" + province + \")\",\n",
    "                                      customdata = customdata,\n",
    "                                      line=dict(color=colors[col_num]), \n",
    "                                      marker_symbol=markers[ind], marker_size=10,\n",
    "                                      hovertemplate = hovertemplate,\n",
    "                                      hoverinfo = \"x\",\n",
    "                                      name= province, visible= firstvis(province, variable)))\n",
    "        col_num += 1\n",
    "    \n",
    "    \n",
    "mybuttons = []\n",
    "prov_var_dict = [[] for _ in range(len(variables))]\n",
    "\n",
    "for ind_variable, variable in enumerate(variables):\n",
    "    df1 = df_cleaned_summary[df_cleaned_summary[\"VARIABLE\"] == variable]\n",
    "    all_provs = df1[\"PROVINCE\"].unique()\n",
    "    for province in all_provs:\n",
    "        prov_var_dict[ind_variable].append(province)\n",
    "        \n",
    "currnum = 0\n",
    "for ind, variable in enumerate(prov_var_dict):\n",
    "    traces = [False] * len(line_fig2.data)\n",
    "    num_provs = len(variable)\n",
    "    oldnum = currnum\n",
    "    traces[0:oldnum] = [False for i in traces[0:oldnum]]\n",
    "    currnum += num_provs\n",
    "    traces[oldnum:currnum] = [\"legendonly\" for i in traces[oldnum:currnum]]\n",
    "    traces[oldnum] = [True]\n",
    "    mybuttons.append(dict(label=variables[ind],\n",
    "                          method=\"update\",\n",
    "                          args=[{\"visible\":traces}]))\n",
    "\n",
    "line_fig2.update_layout(showlegend=True,\n",
    "                      updatemenus=[dict(active=0,\n",
    "                                        buttons=mybuttons,\n",
    "                                        direction=\"down\", pad={\"r\": 10, \"t\": 10},\n",
    "                                        showactive=True, x=0.15, xanchor=\"left\", y=1.15, yanchor=\"top\")],\n",
    "                      annotations=[dict(text=\"Parameter: \",x=0, y=1.09, yref=\"paper\", xref=\"paper\", align=\"left\", showarrow=False)],\n",
    "                      xaxis_title=\"Year\", yaxis_title=\"Physical-Chemical Parameters Value\",\n",
    "                       xaxis_range=[1999, 2020],\n",
    "                      title_text=\"Water Quality Across Provinces 2000-2019\", title_x=0.5, width=800, height=500,\n",
    "                      hovermode=\"x unified\")\n",
    "line_fig2.show()"
   ]
  },
  {
   "cell_type": "markdown",
   "metadata": {},
   "source": [
    "The steps we took in cleaning didn't remove **all** the variation in the data, and we wouldn't want it to, but it does help to know that the displayed data only contains values within the range of normal."
   ]
  },
  {
   "attachments": {},
   "cell_type": "markdown",
   "metadata": {},
   "source": [
    "### Data-plotted map\n",
    "We will now learn to create a **map** with some data plotting. In this graph, the size of the bubbles will represent the parameter concentration or values. For the ease of comparison, we categorized all parameter values into 3 groups: **< First quartile, > Second quartile**, and **> Third quartile**. We will start by creating some functions that allow us to categorize the parameter values. Image [credit and source](https://online.stat.psu.edu/stat500/sites/stat500/files/inline-images/500%20l1%2025th%20and%2075th%20percentile.png).  \n",
    "\n",
    "<p align=\"center\">\n",
    "  <img src=\"https://online.stat.psu.edu/stat500/sites/stat500/files/inline-images/500%20l1%2025th%20and%2075th%20percentile.png\" width=\"600\" />\n",
    "</p>\n",
    "\n",
    "**Percentile** is a statistical term that divides the entire spectrum of values (population) according to the distribution of values of a particular variable. Each water quality monitoring parameter will have a different set of percentile values. \n",
    "\n",
    "- Data points that are in the `< First Quartile` category are the **lower 25%** (percentile) of the value spectrum.\n",
    "- Data points that are in the `> Second Quartile` category are the **25%~75%** (percentile) of the value spectrum.\n",
    "- Data points that are in the `> Third Quartile` category are the **upper 25%** (percentile) of the value spectrum. "
   ]
  },
  {
   "cell_type": "code",
   "execution_count": null,
   "metadata": {},
   "outputs": [],
   "source": [
    "# Define a function to assign category to parameter values\n",
    "def create_scale(all_values, value):\n",
    "    small = np.percentile(value, 25)\n",
    "    large = np.percentile(value, 75)\n",
    "    if (all_values <= small): return \"< First Percentile\"\n",
    "    elif (all_values > small) & (all_values <= large): return \"> First Percentile\"\n",
    "    elif (all_values >= large): return \"> Third Percentile\"\n",
    "\n",
    "# Apply the scale to associated values \n",
    "def apply_scale(all_values):\n",
    "    num_small = 5\n",
    "    num_medium = 10\n",
    "    num_large = 20\n",
    "    if (all_values == \"< First Percentile\"): return num_small\n",
    "    elif (all_values == \"> First Percentile\"): return num_medium\n",
    "    elif (all_values == \"> Third Percentile\"): return num_large"
   ]
  },
  {
   "cell_type": "markdown",
   "metadata": {},
   "source": [
    "Now we create a **map** to view the parameter concentrations or values in specific locations based on the longitude and latitude. We will define a **function**, `create_map_plot`, which can be used on any of the aforementioned parameters."
   ]
  },
  {
   "cell_type": "code",
   "execution_count": null,
   "metadata": {},
   "outputs": [],
   "source": [
    "def create_map_plot(any_df, variable):\n",
    "    df1 = any_df[any_df[\"VARIABLE\"] == variable].copy().sort_values('YEAR')\n",
    "\n",
    "    quantile_value = df1.VALUE.astype(float)\n",
    "    df1[\"Category\"] = df1[\"VALUE\"].apply(lambda x: create_scale(x, quantile_value))\n",
    "    df1[\"Scaled\"] = df1[\"Category\"].apply(lambda x: apply_scale(x))\n",
    "    \n",
    "    customdata = [df1[\"PROVINCE\"], df1[\"LOCATION\"], df1[\"VARIABLE\"], df1[\"VALUE\"], df1[\"UNIT\"],\n",
    "                  df1[\"LONGITUDE\"], df1[\"LATITUDE\"], df1[\"Category\"]]\n",
    "    \n",
    "    hovertemplate=\"<br>\".join([\n",
    "        \"<b>Province:  %{customdata[0]}</b>\",\n",
    "        \"Longitude: %{customdata[5]}\",\n",
    "        \"Latitude: %{customdata[6]}\",\n",
    "        \"Location: %{customdata[1]}\",\n",
    "        \"Value: %{customdata[3]}\",\n",
    "        \"Unit: %{customdata[4]}\",\n",
    "        \"Category: %{customdata[7]}<extra></extra>\"])\n",
    "\n",
    "    fig = px.scatter_mapbox(df1,\n",
    "                            lat=\"LATITUDE\",\n",
    "                            lon=\"LONGITUDE\",\n",
    "                            color=\"PROVINCE\",\n",
    "                            color_discrete_sequence = colors,\n",
    "                            animation_frame=\"YEAR\",\n",
    "                            size=df1[\"Scaled\"],\n",
    "                            hover_name=\"VALUE\",\n",
    "                            custom_data = customdata,\n",
    "                            opacity=0.6).update_layout(mapbox={\"style\": \"carto-positron\", \"zoom\": 2, \n",
    "                                                               \"center\":{'lon':-98, 'lat': 61}}, \n",
    "                                                       margin={\"t\":0,\"b\":0,\"l\":0,\"r\":0})\n",
    "    \n",
    "    fig.update_traces(hovertemplate=hovertemplate)\n",
    "    \n",
    "    for frame in fig.frames:\n",
    "        for data in frame.data:\n",
    "            data.hovertemplate = hovertemplate\n",
    "    \n",
    "    return fig"
   ]
  },
  {
   "cell_type": "markdown",
   "metadata": {},
   "source": [
    "With the defined function, `create_map_plot`, we can now apply it to the `pH` parameter. The size of the bubbles are indicative of their basicity; the larger the bubbles are, the more basic the water is. "
   ]
  },
  {
   "cell_type": "code",
   "execution_count": null,
   "metadata": {},
   "outputs": [],
   "source": [
    "pH_mapped = create_map_plot(df, \"pH\")\n",
    "pH_mapped"
   ]
  },
  {
   "cell_type": "markdown",
   "metadata": {},
   "source": [
    "We can now also plot the parameter `Dissolved Oxygen` using the function above. The size of the bubbles are representative of the total dissolved oxygen concentration in the water. The larger the bubbles are, the higher oxygen concentration there is. \n",
    "\n",
    "This function will work on any of the five selected parameters. "
   ]
  },
  {
   "cell_type": "code",
   "execution_count": null,
   "metadata": {},
   "outputs": [],
   "source": [
    "oxygen_dissolved_mapped = create_map_plot(df, \"Dissolved Oxygen\")\n",
    "oxygen_dissolved_mapped"
   ]
  },
  {
   "cell_type": "markdown",
   "metadata": {},
   "source": [
    "As a last step, we will plot the parameter `Water Temperature`. Do you see any consistencies from the three maps created?"
   ]
  },
  {
   "cell_type": "code",
   "execution_count": null,
   "metadata": {
    "scrolled": true
   },
   "outputs": [],
   "source": [
    "temp_water_mapped = create_map_plot(df, \"Water Temperature\")\n",
    "temp_water_mapped"
   ]
  },
  {
   "cell_type": "markdown",
   "metadata": {},
   "source": [
    "### Data-plotted map with *ipywidgets*\n",
    "With the help of **ipywidget**, we can also create a dropdown menu that allows us to switch back and forth between parameters on a map diagram. Unlike the previous diagrams, where we used **Plotly Express**, we will be using **Plotly Graph Objects**.\n",
    "\n",
    "Let's start by assigning each value into the correct percentile category. "
   ]
  },
  {
   "cell_type": "code",
   "execution_count": null,
   "metadata": {},
   "outputs": [],
   "source": [
    "# Assign percentile category on all data\n",
    "def add_category(df):\n",
    "    df[\"Category\"] = \"NA\"\n",
    "    df[\"Scale\"] = np.NaN\n",
    "    for variable in df[\"VARIABLE\"].unique():\n",
    "        mydf = df[df[\"VARIABLE\"] == variable]\n",
    "        quantile_variable = mydf.VALUE.astype(float)\n",
    "        for index, row in df.iterrows():\n",
    "            if row.VARIABLE == variable:\n",
    "                myval = row.VALUE\n",
    "                category = create_scale(myval, quantile_variable)\n",
    "                df.at[index, \"Category\"] = category\n",
    "                scaled_value = apply_scale(category)\n",
    "                df.at[index, \"Scale\"] = scaled_value\n",
    "    return df"
   ]
  },
  {
   "cell_type": "code",
   "execution_count": null,
   "metadata": {},
   "outputs": [],
   "source": [
    "# Create a scatterplot \n",
    "def create_map_with_widget(df):\n",
    "    add_category(df)\n",
    "    years = df[\"YEAR\"].unique().tolist()\n",
    "\n",
    "    hovertemplated=\"<br>\".join([\n",
    "        \"<b>Province:  %{customdata[0]}</b>\",\n",
    "        \"Longitude: %{customdata[2]}\",\n",
    "        \"Latitude: %{customdata[1]}\",\n",
    "        \"Location: %{customdata[3]}\",\n",
    "        \"Variable: %{customdata[4]}\",\n",
    "        \"Value: %{customdata[5]}\",\n",
    "        \"Unit: %{customdata[6]}\",\n",
    "        \"Category: %{customdata[7]}\"])\n",
    "\n",
    "    frames = [{\"name\":\"frame_{}\".format(year),\n",
    "               \"data\":[{\"type\":\"scattermapbox\",\n",
    "                        \"lat\":df.loc[df[\"YEAR\"] == year][\"LATITUDE\"],\n",
    "                        \"lon\":df.loc[df[\"YEAR\"] == year][\"LONGITUDE\"],\n",
    "                        \"marker\":go.scattermapbox.Marker(\n",
    "                            size=df.loc[df[\"YEAR\"] == year][\"Scale\"],\n",
    "                            color=df.loc[df[\"YEAR\"] == year][\"COLOR\"]),\n",
    "                        \"customdata\":np.stack((df.loc[df[\"YEAR\"] == year][\"PROVINCE\"],\n",
    "                                   df.loc[df[\"YEAR\"] == year][\"LATITUDE\"],\n",
    "                                   df.loc[df[\"YEAR\"] == year][\"LONGITUDE\"],\n",
    "                                   df.loc[df[\"YEAR\"] == year][\"LOCATION\"],\n",
    "                                   df.loc[df[\"YEAR\"] == year][\"VARIABLE\"],\n",
    "                                   df.loc[df[\"YEAR\"] == year][\"VALUE\"],\n",
    "                                   df.loc[df[\"YEAR\"] == year][\"UNIT\"],\n",
    "                                   df.loc[df[\"YEAR\"] == year][\"Category\"]), axis=1),\n",
    "                        \"hovertemplate\": hovertemplated + \"<extra></extra>\"}]} for year in years]\n",
    "\n",
    "    sliders = [{\"transition\":{\"duration\":0}, \"x\":0.08, \"len\":0.9,\n",
    "                \"currentvalue\":{\"font\":{\"size\":12},\"prefix\":\"Year: \", \"visible\":True, \"xanchor\":\"left\"},\n",
    "                \"steps\":[{\"label\":year, \"method\":\"animate\",\n",
    "                          \"args\":[[\"frame_{}\".format(year)],\n",
    "                                  {'mode':'immediate', 'frame':{'duration':100, 'redraw': True}, \n",
    "                                   'transition':{'duration':50}}]} for year in years]}]\n",
    "\n",
    "    play_button = [{'type':'buttons','showactive':True,'x':0.045, 'y':-0.1,\n",
    "                    'buttons':[{'label':'►','method':'animate',\n",
    "                                'args':[None,{'frame':{'duration':100, 'redraw':True},\n",
    "                                              'transition':{'duration':65},\n",
    "                                              'fromcurrent':True,'mode':'immediate'}]}]}]\n",
    "\n",
    "    layout = go.Layout(sliders=sliders, updatemenus=play_button,\n",
    "                       mapbox = {'style': \"carto-positron\", 'center': {'lon':-98, 'lat': 58},'zoom': 2.5})\n",
    "\n",
    "    myfig = go.Figure(data=frames[0][\"data\"], layout=layout, frames=frames)\n",
    "    myfig.update_layout(width=800, height=500, margin=dict(l=20, r=20, t=0, b=20))\n",
    "    myfig.show()\n",
    "\n",
    "# Link the ipywidget with parameters and created scatterplot\n",
    "variables = widgets.Dropdown(options=sorted(df.VARIABLE.unique()), \n",
    "                             value=df[\"VARIABLE\"].unique().tolist()[0], description=\"Variable: \")\n",
    "\n",
    "def created_map_with_widget(change):\n",
    "    IPython.display.clear_output(wait=True)\n",
    "    df1 = df.loc[df[\"VARIABLE\"] == variables.value].copy().sort_values('YEAR')\n",
    "    display(variables)\n",
    "    create_map_with_widget(df1)\n",
    "\n",
    "\n",
    "variables.observe(created_map_with_widget, names=\"value\")\n",
    "created_map_with_widget(\"\")"
   ]
  },
  {
   "attachments": {},
   "cell_type": "markdown",
   "metadata": {},
   "source": [
    "# Interpret\n",
    "What conclusions can we draw from the visualizations above? Did we see any noticeable changes over the years? Which province has the ideal water conditions? \n",
    "\n",
    "#### Line Graph\n",
    "- Overall, parameter concentrations and values seem to stay the same. Although they fluctuate yearly, there isn't a huge change in the trend. One interesting point to note is that **Quebec** showed a distinguishably high concentration of dissolved phosphorus compared to other provinces. \n",
    "\n",
    "#### Data-Plotted Map Graph\n",
    "- Overall, we notice the same trend as seen in the line graph, but this type of graph allows you to look into specific locations by latitude and longitude. We also notice that far more observations are done on **British Columbia** compared to other provinces. Do you think this could influence the outcome of the visualization?\n",
    "\n",
    "As seen in the graphs, each graph has pros and cons. What do you think is the best type of graph to show Canadian water quality? If you could change the graph, how would you display the data?"
   ]
  },
  {
   "cell_type": "markdown",
   "metadata": {},
   "source": [
    "# Communicate\n",
    "Below are some writing prompts to help you reflect on the new information that is presented from the data. When we look at the evidence, think about what you perceive about the information. Is this perception based on what the evidence shows? If others were to view it, what perceptions might they have?\n",
    "\n",
    "- I used to think __ but now I think ________.\n",
    "- I wish I knew more about __.\n",
    "- This visualization reminds me of __.\n",
    "- I really like __."
   ]
  },
  {
   "cell_type": "markdown",
   "metadata": {},
   "source": [
    "[![Callysto.ca License](https://github.com/callysto/curriculum-notebooks/blob/master/callysto-notebook-banner-bottom.jpg?raw=true)](https://github.com/callysto/curriculum-notebooks/blob/master/LICENSE.md)"
   ]
  }
 ],
 "metadata": {
  "kernelspec": {
   "display_name": "Python 3 (ipykernel)",
   "language": "python",
   "name": "python3"
  },
  "language_info": {
   "codemirror_mode": {
    "name": "ipython",
    "version": 3
   },
   "file_extension": ".py",
   "mimetype": "text/x-python",
   "name": "python",
   "nbconvert_exporter": "python",
   "pygments_lexer": "ipython3",
   "version": "3.9.13"
  },
  "vscode": {
   "interpreter": {
    "hash": "31f2aee4e71d21fbe5cf8b01ff0e069b9275f58929596ceb00d14d90e3e16cd6"
   }
  }
 },
 "nbformat": 4,
 "nbformat_minor": 4
}
