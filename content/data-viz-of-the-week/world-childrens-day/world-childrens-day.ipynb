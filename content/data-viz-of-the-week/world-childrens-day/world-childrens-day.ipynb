{
 "cells": [
  {
   "cell_type": "markdown",
   "metadata": {},
   "source": [
    "![Callysto.ca Banner](https://github.com/callysto/curriculum-notebooks/blob/master/callysto-notebook-banner-top.jpg?raw=true)\n",
    "\n",
    "<a href=\"https://hub.callysto.ca/jupyter/hub/user-redirect/git-pull?repo=https%3A%2F%2Fgithub.com%2Fcallysto%2Fdata-viz-of-the-week&branch=main&subPath=world-childrens-day/world-childrens-day.ipynb&depth=1\" target=\"_parent\"><img src=\"https://raw.githubusercontent.com/callysto/curriculum-notebooks/master/open-in-callysto-button.svg?sanitize=true\" width=\"123\" height=\"24\" alt=\"Open in Callysto\"/></a>"
   ]
  },
  {
   "cell_type": "markdown",
   "metadata": {},
   "source": [
    "# Callysto's Weekly Data Visualization\n"
   ]
  },
  {
   "cell_type": "markdown",
   "metadata": {},
   "source": [
    "## World Children's Day"
   ]
  },
  {
   "cell_type": "markdown",
   "metadata": {},
   "source": [
    "### Recommended Grade levels: 5-12"
   ]
  },
  {
   "cell_type": "markdown",
   "metadata": {},
   "source": [
    "### Instructions\n",
    "\n",
    "Click \"Cell\" and select \"Run All\".\n",
    "\n",
    "This will import the data and run all the code, so you can see this week's data visualization. Scroll back to the top after you’ve run the cells.\n",
    "\n",
    "![instructions](https://github.com/callysto/data-viz-of-the-week/blob/main/images/instructions.png?raw=true)\n",
    "\n",
    "**You don't need to do any coding to view the visualizations**.\n",
    "\n",
    "The plots generated in this notebook are interactive. You can hover over and click on elements to see more information. \n",
    "\n",
    "Email contact@callysto.ca if you experience issues."
   ]
  },
  {
   "cell_type": "markdown",
   "metadata": {},
   "source": [
    "### About this Notebook\n",
    "\n",
    "Callysto's Weekly Data Visualization is a learning resource that aims to develop data literacy skills. We provide Grades 5-12 teachers and students with a data visualization, like a graph, to interpret. This companion resource walks learners through how the data visualization is created and interpreted by a data scientist. \n",
    "\n",
    "The steps of the data analysis process are listed below and applied to each weekly topic.\n",
    "\n",
    "1. Question - What are we trying to answer?\n",
    "2. Gather - Find the data source(s) you will need. \n",
    "3. Organize - Arrange the data, so that you can easily explore it. \n",
    "4. Explore - Examine the data to look for evidence to answer the question. This includes creating visualizations. \n",
    "5. Interpret - Describe what's happening in the data visualization. \n",
    "6. Communicate - Explain how the evidence answers the question. "
   ]
  },
  {
   "attachments": {},
   "cell_type": "markdown",
   "metadata": {},
   "source": [
    "## Question\n",
    "\n",
    "<center><img src=\"images/world-childrens-day.jpg\" width=334 height=240><br>\n",
    "<i style=\"font-size:9px;\">Photo from <a href=\"https://stock.adobe.com/ca/images/world-childrenas-day-text-with-happy-little-children-arm-in-arm-watercolor-illustration-generative-ai/593202474\">Adobe Stock</a> by <a href=\"https://stock.adobe.com/ca/contributor/202718039/cartoon-it?load_type=author&prev_url=detail\">Cartoon-IT</a></i></center>\n",
    "\n",
    "[**World Children's Day**](https://www.un.org/en/observances/world-childrens-day) is an annual observance dedicated to promoting and celebrating the rights and well-being of children worldwide. Recognized on November 20th each year, this day marks the anniversary of the adoption of the [Convention on the Rights of the Child](https://www.unicef.org/child-rights-convention) by the United Nations in 1989. \n"
   ]
  },
  {
   "cell_type": "markdown",
   "metadata": {},
   "source": [
    "### Goal\n",
    "\n",
    "Our goal in this notebook is to uncover trends in the global population, focusing on the percentage of individuals aged 14 and under, and the number of children worldwide who are out of primary school. Specifically, we want to see if these trends are scaling up or down, and find out whether educational efforts are being made to help children attend primary school."
   ]
  },
  {
   "cell_type": "markdown",
   "metadata": {},
   "source": [
    "### Background\n",
    "\n",
    "The well-being and education of younger generations play a pivotal role in shaping the future of our global community.  Children represent our future leaders, innovators, and caretakers, and their success contributes to the ongoing cycle of progress.\n",
    "\n",
    "This background sets the stage for our exploration, emphasizing the significance of understanding and addressing trends in the global population, particularly those related to the percentage of individuals aged 14 and under, and the educational status of children worldwide."
   ]
  },
  {
   "cell_type": "markdown",
   "metadata": {},
   "source": [
    "## Gather\n",
    "\n",
    "Our data is collected through [the World Bank](https://data.worldbank.org/). `Population ages 0-14 (% of total population)` is sourced by the *United Nations Population Division*, and can be found [here](https://data.worldbank.org/indicator/SP.POP.0014.TO.ZS). `Children out of school, primary` is sourced by the *UNESCO Institute for Statistics*, and can be found [here](https://data.worldbank.org/indicator/SE.PRM.UNER)."
   ]
  },
  {
   "cell_type": "markdown",
   "metadata": {},
   "source": [
    "### Code: "
   ]
  },
  {
   "cell_type": "markdown",
   "metadata": {},
   "source": [
    "Run the code cells below to import the libraries we need for this project. Libraries are pre-made code that make it easier to analyze our data."
   ]
  },
  {
   "cell_type": "code",
   "execution_count": null,
   "metadata": {},
   "outputs": [],
   "source": [
    "%pip install -q pyodide_http plotly nbformat geopandas ipywidgets pycountry-convert folium\n",
    "import pyodide_http\n",
    "pyodide_http.patch_all()\n",
    "import pandas as pd\n",
    "import plotly.express as px\n",
    "import plotly.graph_objects as go\n",
    "import pycountry_convert as pc\n",
    "import ipywidgets\n",
    "from ipywidgets import interact\n",
    "import geopandas as gpd\n",
    "import folium \n",
    "\n",
    "print(\"Libaries imported.\")"
   ]
  },
  {
   "cell_type": "markdown",
   "metadata": {},
   "source": [
    "### Data\n",
    "\n",
    "In this notebook we will be working with 2 datasets. \n",
    "\n",
    "Our first dataset called `percentage_pop` focuses on *population ages 0-14 (% of total population)*. This metric serves as a key indicator of the demographic distribution and highlights the prominence of the younger age group on a global scale. The [WorldBank](https://data.worldbank.org/indicator/SP.POP.0014.TO.ZS) dataset defines the following definition:\n",
    "\n",
    "<div style=\"background-color: #1E90FF; color: #FFFFFF; border: 1px solid #000080; border-left: 5px solid #000080; padding: 10px;\">\n",
    "    <strong>Development Relevance: </strong>\n",
    "    <p style=\"margin-top: 10px;\">\n",
    "        Patterns of development in a country are partly determined by the age composition of its population. Different age groups have different impacts on both the environment and on infrastructure needs. Therefore the age structure of a population is useful for analyzing resource use and formulating future policy and planning goals with regards infrastructure and development. This indicator is used for calculating age dependency ratio (percent of working-age population). The age dependency ratio is the ratio of the sum of the population aged 0-14 and the population aged 65 and above to the population aged 15-64. In many developing countries, the once rapidly growing population group of the under-15 population is shrinking. As a result, high fertility rates, together with declining mortality rates, are now reflected in the larger share of the 65 and older population.\n",
    "    </p>\n",
    "</div>"
   ]
  },
  {
   "cell_type": "markdown",
   "metadata": {},
   "source": [
    "The second dataset called `primary_school` focuses on children out of elementary/primary school, shedding light on the number of students that have access to primary education. The [WorldBank](https://data.worldbank.org/indicator/SE.PRM.UNER) dataset defines the following definition:\n",
    "\n",
    "<div style=\"background-color: #1E90FF; color: #FFFFFF; border: 1px solid #000080; border-left: 5px solid #000080; padding: 10px;\">\n",
    "    <strong>Development Relevance: </strong>\n",
    "    <p style=\"margin-top: 10px;\">\n",
    "        Large numbers of children out of school create pressure to enroll children and provide classrooms, teachers, and educational materials, a task made difficult in many countries by limited education budgets. However, getting children into school is a high priority for countries and crucial for achieving universal primary education.\n",
    "    </p>\n",
    "</div>"
   ]
  },
  {
   "cell_type": "markdown",
   "metadata": {},
   "source": [
    "### Import the data"
   ]
  },
  {
   "cell_type": "code",
   "execution_count": null,
   "metadata": {},
   "outputs": [],
   "source": [
    "percentage_pop = pd.read_csv(\"https://raw.githubusercontent.com/callysto/data-files/main/data-viz-of-the-week/world-children's-day/percentageofpopchildren.csv\", skiprows=4)\n",
    "primary_school = pd.read_csv(\"https://raw.githubusercontent.com/callysto/data-files/main/data-viz-of-the-week/world-children's-day/outofprimaryschool.csv\", skiprows=4)\n",
    "del percentage_pop['Unnamed: 67']\n",
    "del primary_school['Unnamed: 67']\n",
    "print(\"Datasets imported.\")"
   ]
  },
  {
   "cell_type": "markdown",
   "metadata": {},
   "source": [
    "### Comment on the data\n",
    "\n",
    "Now that we've imported our data, let's take a deeper look into rows and columns in our dataset. Note, our dataset is now in a **dataframe** format. Essentially, think of a dataframe as a *spreadsheet* where we have *columns* representing different categories or attributes of the data, and *rows* representing individual records or observations. Just like a spreadsheet organizes information into rows and columns, a dataframe provides a structured format for storing and analyzing data in Python."
   ]
  },
  {
   "cell_type": "code",
   "execution_count": null,
   "metadata": {},
   "outputs": [],
   "source": [
    "display(percentage_pop)"
   ]
  },
  {
   "cell_type": "markdown",
   "metadata": {},
   "source": [
    "Our dataset `percentage_pop` consists of several columns. Let's go over the ones that are most applicable to analysis. \n",
    "\n",
    "- **Country Name**: Identifies the name of the country.\n",
    "\n",
    "- **Country Code**: Represents a unique code 3-letter code. \n",
    "\n",
    "- **1960-2022**: The subsequent columns (from **1960** to **2022**) track the percentage of the population aged 0-14 for their corresponding country."
   ]
  },
  {
   "cell_type": "code",
   "execution_count": null,
   "metadata": {},
   "outputs": [],
   "source": [
    "display(primary_school)"
   ]
  },
  {
   "cell_type": "markdown",
   "metadata": {},
   "source": [
    "\n",
    "Similarly, for `primary_school` we have the following columns:\n",
    "\n",
    "- **Country Name**: Identifies the name of the country.\n",
    "\n",
    "- **Country Code**: Represents a unique code 3-letter code. Specifically known as [ISO 3166-1 alpha-3](https://en.wikipedia.org/wiki/ISO_3166-1_alpha-3) code.\n",
    "\n",
    "- **1960-2022**: The subsequent columns (from **1960** to **2022**) track the number of students out of primary school for their corresponding country."
   ]
  },
  {
   "cell_type": "markdown",
   "metadata": {},
   "source": [
    "# Organize\n",
    "\n",
    "Now that we have a better sense of the different columns and rows in our dataframe, let's *organize* or *transform* our data for useful analysis. In coding terms, this is known as **data-cleaning**. \n",
    "\n",
    "Data cleaning involves the process of identifying and removing errors, inconsistencies, or missing values in a dataset to ensure that the data is accurate. \n",
    "\n",
    "We'll begin by finding how many entries in our dataframe are **None** or **NaN**. \n",
    "\n",
    "In a dataframe, \"None\" or \"NaN\" (Not a Number) typically represents missing or undefined values. It indicates that the data for a particular cell or entry is not available or is undefined. "
   ]
  },
  {
   "cell_type": "code",
   "execution_count": null,
   "metadata": {},
   "outputs": [],
   "source": [
    "total_none = percentage_pop.isnull().sum().sum()\n",
    "print(f\"Total number of missing values: {total_none}\")"
   ]
  },
  {
   "cell_type": "markdown",
   "metadata": {},
   "source": [
    "Now that we know every row has a useful sum of data in our dataframe, we are going to define **continents** for our countries. We will be using the library `pycountry_convert` to perform this conversion. This conversion will also be done using a **function**. \n",
    "\n",
    "A function is a self-contained, reusable set of instructions that performs a specific task or operation. Think of it as a predefined set of code that can be re-purposed and re-used multiple times. "
   ]
  },
  {
   "cell_type": "code",
   "execution_count": null,
   "metadata": {},
   "outputs": [],
   "source": [
    "def country_code_to_continent(country_code):\n",
    "    mapping = pc.map_country_alpha3_to_country_name()\n",
    "    try:\n",
    "        country_name = mapping[country_code]\n",
    "        country_alpha2 = pc.country_name_to_country_alpha2(country_name)\n",
    "        country_continent_code = pc.country_alpha2_to_continent_code(country_alpha2)\n",
    "        country_continent_name = pc.convert_continent_code_to_continent_name(country_continent_code)\n",
    "        return country_continent_name\n",
    "    except:\n",
    "        return None\n",
    "\n",
    "print('Test instance of our function, converting \"CAN\" (Canada):',country_code_to_continent('CAN'))"
   ]
  },
  {
   "cell_type": "markdown",
   "metadata": {},
   "source": [
    "Testing our function, we get the correct output of *North America* for CAN (Canada). Now that we've tested the functionality of our function, we can apply it to each country in our dataframe in the two code blocks below. "
   ]
  },
  {
   "cell_type": "code",
   "execution_count": null,
   "metadata": {},
   "outputs": [],
   "source": [
    "country_codes = list(percentage_pop['Country Code'])\n",
    "print(\"List of country codes in our dataframe: \",country_codes)"
   ]
  },
  {
   "cell_type": "code",
   "execution_count": null,
   "metadata": {},
   "outputs": [],
   "source": [
    "# Convert country codes to continent names using our function country_code_to_continent\n",
    "for country in country_codes:\n",
    "    try:\n",
    "        percentage_pop.loc[percentage_pop['Country Code'] == country, 'Continent'] = country_code_to_continent(country)\n",
    "    except:\n",
    "        pass\n",
    "percentage_pop"
   ]
  },
  {
   "cell_type": "markdown",
   "metadata": {},
   "source": [
    "Looking at our new dataframe output above, we see that we've added a new column called `Continent` which contains the corresponding continent for each country. However, we notice that some our column values are **None**. \n",
    "\n",
    "In our case, our function defined these rows as None because these entries are *not countries*. Instead, these are averages of particular areas around the world, or subsets of averages for combinations of countries. As a result, we can safely ignore these values and remove them as they will not be important for future analysis in our notebook."
   ]
  },
  {
   "cell_type": "code",
   "execution_count": null,
   "metadata": {},
   "outputs": [],
   "source": [
    "pd.set_option('display.max_rows', None)\n",
    "countries_without_label = percentage_pop[percentage_pop['Continent'].isna()].reset_index(drop=True)\n",
    "temp = list(countries_without_label['Country Name'])\n",
    "print(\"Rows that we can remove:  \")\n",
    "display(temp)\n",
    "pd.reset_option('display.max_rows')"
   ]
  },
  {
   "cell_type": "markdown",
   "metadata": {},
   "source": [
    "Before removing these rows, there is **one** particular row of data that is useful despite not being a country. This is the row containing **world** data. This row contains data about the averages of all countries in this dataframe. As a result, we can use this row as a comparison metric. "
   ]
  },
  {
   "cell_type": "code",
   "execution_count": null,
   "metadata": {},
   "outputs": [],
   "source": [
    "world_df = percentage_pop[percentage_pop['Country Name'] == 'World']\n",
    "world_df"
   ]
  },
  {
   "cell_type": "markdown",
   "metadata": {},
   "source": [
    "Now that we've set aside the rows that we want to remove, we can do them safely below. "
   ]
  },
  {
   "cell_type": "code",
   "execution_count": null,
   "metadata": {},
   "outputs": [],
   "source": [
    "percentage_pop = percentage_pop.dropna(subset=['Continent'])\n",
    "percentage_pop"
   ]
  },
  {
   "cell_type": "markdown",
   "metadata": {},
   "source": [
    "# Explore and Interpret\n",
    "\n",
    "Now that our dataframe has been properly cleaned, we can perform some rudimentary analysis. We can start by looking at the countries that consistency have higher percentages of population that are 14-years or younger. Similarly, we can look at the flip-side, and view countries that have lower percentages of population that are 14-years or younger. "
   ]
  },
  {
   "cell_type": "code",
   "execution_count": null,
   "metadata": {},
   "outputs": [],
   "source": [
    "cols_to_check = percentage_pop.columns[4:-1]\n",
    "hashmap_countries_max = {}\n",
    "print(\"Countries that have the highest percentage of children under 14-years old per year: \\n\")\n",
    "for column in cols_to_check:\n",
    "    max_val = percentage_pop[column].max()\n",
    "    results = percentage_pop.loc[percentage_pop[column] == max_val]\n",
    "    \n",
    "    country_name = results['Country Name'].values[0]\n",
    "    hashmap_countries_max[country_name] = 1+hashmap_countries_max.get(country_name, 0)\n",
    "    \n",
    "    print(f\"{country_name} - {column}: {max_val}%\")"
   ]
  },
  {
   "cell_type": "code",
   "execution_count": null,
   "metadata": {},
   "outputs": [],
   "source": [
    "cols_to_check = percentage_pop.columns[4:-1]\n",
    "hashmap_countries_min = {}\n",
    "print(\"Countries that have the lowest percentage of children under 14-years old per year: \\n\")\n",
    "\n",
    "for column in cols_to_check:\n",
    "    min_val = percentage_pop[column].min()\n",
    "    results = percentage_pop.loc[percentage_pop[column] == min_val]\n",
    "    \n",
    "    country_name = results['Country Name'].values[0]\n",
    "    hashmap_countries_min[country_name] = 1+hashmap_countries_min.get(country_name, 0)\n",
    "    \n",
    "    print(f\"{country_name} - {column}: {min_val}%\")"
   ]
  },
  {
   "cell_type": "markdown",
   "metadata": {},
   "source": [
    "Looking at the output for both highest and lowest percentages, we see there are visible trends between both outputs. The first trend is that both the *highest* and *lowest* percentage outputs are starting to trend *downwards*. Secondly, the data reveals a pattern where *one country* tends to *persist* in the output for *consecutive year*s before being replaced by another.  As a result, there is little variety in the different countries that have the highest and lowest percentages. "
   ]
  },
  {
   "cell_type": "markdown",
   "metadata": {},
   "source": [
    "To gain a clearer understanding of the distribution of countries in our two outputs, we can identify each unique occurrence of a country and add to its occurrence count when it is seen more than once. "
   ]
  },
  {
   "cell_type": "code",
   "execution_count": null,
   "metadata": {},
   "outputs": [],
   "source": [
    "hashmap_countries_max = {k: v for k, v in sorted(hashmap_countries_max.items(), key=lambda item: item[1])}\n",
    "\n",
    "print(f\"Total number of unique countries for highest percentage: {len(hashmap_countries_max)}\")\n",
    "for country in hashmap_countries_max:\n",
    "    print(f\"{country}, Total count: {hashmap_countries_max[country]}\")\n",
    "\n",
    "print('\\n')\n",
    "hashmap_countries_min = {k: v for k, v in sorted(hashmap_countries_min.items(), key=lambda item: item[1])}\n",
    "\n",
    "print(f\"Total number of unique countries for lowest percentage: {len(hashmap_countries_min)}\")\n",
    "for country in hashmap_countries_min:\n",
    "    print(f\"{country}, Total count: {hashmap_countries_min[country]}\")"
   ]
  },
  {
   "cell_type": "markdown",
   "metadata": {},
   "source": [
    "Looking at the output above, we get a better insight into the distribution of unique countries in the dataframes for the highest and lowest percentages. \n",
    "\n",
    "For the highest percentage, *eight* different countries are identified, with varying counts for each. Notably, countries like *Uganda* and *Kenya* appear more frequently. On the other hand, the lowest percentage dataset involves only *four* distinct countries, including *Monaco* with the highest count. \n",
    "\n",
    "Now that we've done some rudimentary analysis on our dataframes, we can start **visualizing** the trends in our data. We can start by using our `world_df` dataframe which contains the average population percentage of children whom are 14-years and under. "
   ]
  },
  {
   "cell_type": "code",
   "execution_count": null,
   "metadata": {},
   "outputs": [],
   "source": [
    "years = []\n",
    "percentages = []\n",
    "\n",
    "for column in cols_to_check:\n",
    "    years.append(int(column))\n",
    "    percentages.append(world_df[column].values[0])\n",
    "\n",
    "px.line(x=years, y=percentages, labels={'x': 'Year', 'y': 'Percentage'}, title='World Population Percentage Under 14 from 1960-2022').show()"
   ]
  },
  {
   "cell_type": "markdown",
   "metadata": {},
   "source": [
    "Looking at our output, we see that since 1960 the average population percentage of children whom are 14-years and under has been rapidly decreasing. The smallest percentage shown in the figure above is in the year *2022*, at *25.27%* rounded. What does a declining percentage of younger children in our global population suggest about future of different countries?\n",
    "\n",
    "We can also narrow our focus by finding averages based on *continent*. "
   ]
  },
  {
   "cell_type": "code",
   "execution_count": null,
   "metadata": {},
   "outputs": [],
   "source": [
    "individual_continents = percentage_pop[['Continent'] + list(cols_to_check)]\n",
    "\n",
    "continents_avg = individual_continents.groupby('Continent').mean().reset_index()\n",
    "continents_avg"
   ]
  },
  {
   "cell_type": "markdown",
   "metadata": {},
   "source": [
    "By using our new `continents_avg` dataframe which contains the average percentage for each country in their respective continent, we can visualize the differences below."
   ]
  },
  {
   "cell_type": "code",
   "execution_count": null,
   "metadata": {},
   "outputs": [],
   "source": [
    "continental_melted = pd.melt(continents_avg, id_vars=['Continent'], value_vars=cols_to_check, var_name='Year', value_name='Percentage')\n",
    "\n",
    "px.line(continental_melted, x='Year', y='Percentage', color='Continent',labels={'x': 'Year', 'y': 'Percentage'}, title='Average Continental Population Percentage Under 14 from 1960-2022').show()"
   ]
  },
  {
   "cell_type": "markdown",
   "metadata": {},
   "source": [
    " **Africa** stands out with the *highest* population percentage under 14, illustrating the continent's *youthful* demographic profile. In contrast, **Europe** exhibits the *lowest* percentage, indicative of an *aging* population. Notably, **North America**, while initially starting with a relatively *high* percentage, has experienced a *rapid decline*, aligning with the overall downward trend observed across all continents. \n",
    "\n",
    " We can also visualize individual countries grouped by their respective continents to get a better idea of which countries exhibit rapid decline, alongside the slighty few countries that show growth."
   ]
  },
  {
   "cell_type": "code",
   "execution_count": null,
   "metadata": {},
   "outputs": [],
   "source": [
    "columns_to_plot = percentage_pop.columns[4:-1]\n",
    "\n",
    "continents = ['North America', 'Asia', 'Europe', 'Oceania', 'Africa', 'South America']\n",
    "\n",
    "continent_dropdown = ipywidgets.Dropdown(options=continents, description='Continent')\n",
    "def update_plot(continent):\n",
    "    continent_filtered = percentage_pop[percentage_pop['Continent'] == continent]\n",
    "\n",
    "    per_year_df = pd.melt(continent_filtered, id_vars=['Country Name'], value_vars=columns_to_plot, var_name='Year', value_name='Percentage')\n",
    "\n",
    "    world_avg_df = pd.melt(world_df, id_vars='Country Name', value_vars=columns_to_plot, var_name='Year', value_name='Percentage')\n",
    "    # Set the country name for the world average\n",
    "    world_avg_df['Country Name'] = 'World'  \n",
    "\n",
    "    final_df = pd.concat([per_year_df, world_avg_df], ignore_index=True)\n",
    "\n",
    "    continental_fig = px.line(final_df, x='Year', y='Percentage', color='Country Name', line_group='Country Name', hover_name='Country Name')\n",
    "    continental_fig.update_layout(title=f'Countries in {continent} with Population Percentage Under 14', xaxis_title='Year', yaxis_title='Percentage', legend_title='Country', height=800).show()\n",
    "\n",
    "interact(update_plot, continent=continent_dropdown)"
   ]
  },
  {
   "cell_type": "markdown",
   "metadata": {},
   "source": [
    "We can also shift our visualizations by shifting to a spatial perspective through the use of a [*Folium*](https://pypi.org/project/folium/) map.  Utilizing a [*geojson*](https://en.wikipedia.org/wiki/GeoJSON) file, we can represent the variations in the percentage of the population under 14 across different regions. "
   ]
  },
  {
   "cell_type": "code",
   "execution_count": null,
   "metadata": {},
   "outputs": [],
   "source": [
    "countries_geojson = gpd.read_file('https://raw.githubusercontent.com/callysto/data-files/main/SocialStudies/UnitedNations/countries.geojson')\n",
    "countries_geojson"
   ]
  },
  {
   "cell_type": "markdown",
   "metadata": {},
   "source": [
    "Before we visualize our Folium map, it's important to ensure that the data we have is *compatible*. Essentially, we need to *map* the countries found in the geojson file with our `percentage_pop` dataframe so that later we can match the corresponding countries with their correct `geometries`. The `geometry` column in this case contains information about a specific country's latitude, longitude, and borders so they can be accurately displayed on an map. "
   ]
  },
  {
   "cell_type": "code",
   "execution_count": null,
   "metadata": {},
   "outputs": [],
   "source": [
    "merged_df = pd.merge(countries_geojson, percentage_pop, left_on='ISO_A3', right_on='Country Code', how='left')\n",
    "merged_df"
   ]
  },
  {
   "cell_type": "markdown",
   "metadata": {},
   "source": [
    "Let's display our newly merged dataframe `merged_df`. Using the drop-down menu at the top, you can select a particular *year* to visualize. Do certain years contain drastic differences than others?\n",
    "\n",
    "**Note**: The map below takes slightly longer to load in than other code cells. Let this cell run until the map is fully loaded/rendered properly. "
   ]
  },
  {
   "cell_type": "code",
   "execution_count": null,
   "metadata": {},
   "outputs": [],
   "source": [
    "percentage_country_map = ipywidgets.Output(layout={'border': '1px solid black'})\n",
    "\n",
    "column_names = merged_df.columns[7:-1].tolist()\n",
    "dropdown_options = ipywidgets.Dropdown(\n",
    "    options=column_names,\n",
    "    value=column_names[0],\n",
    "    description='Column:',\n",
    "    disabled=False\n",
    ")\n",
    "\n",
    "def update_choropleth(change):\n",
    "    percentage_country_map.clear_output()\n",
    "    with percentage_country_map:\n",
    "        m = folium.Map()\n",
    "        folium.Choropleth(\n",
    "            geo_data=countries_geojson,\n",
    "            data=merged_df,\n",
    "            columns=['ADMIN', dropdown_options.value],  \n",
    "            key_on='feature.properties.ADMIN',  \n",
    "            fill_color='YlGn',\n",
    "            fill_opacity=0.7,\n",
    "            line_opacity=0.2,\n",
    "            legend_name=f'{dropdown_options.value}',\n",
    "        ).add_to(m)\n",
    "        display(m)\n",
    "\n",
    "dropdown_options.observe(update_choropleth, names='value')\n",
    "display(dropdown_options)\n",
    "update_choropleth({'new': column_names[0]})\n",
    "\n",
    "percentage_country_map"
   ]
  },
  {
   "cell_type": "markdown",
   "metadata": {},
   "source": [
    "Moving on from our `percentage_pop` dataframe, we can shift our focus to our `primary_school` dataframe, which contains data centered around the number of children that are not in primary/elementary school. \n",
    "\n",
    "Similarly to our `percentage_pop` dataframe, we also need to perform data-cleaning to ensure the data is accurate and ready for further exploration."
   ]
  },
  {
   "cell_type": "code",
   "execution_count": null,
   "metadata": {},
   "outputs": [],
   "source": [
    "total_none = primary_school.isnull().sum().sum()\n",
    "print(f\"Total number of missing values: {total_none}\")"
   ]
  },
  {
   "cell_type": "markdown",
   "metadata": {},
   "source": [
    "Compared to our `percentage_pop` dataframe, our `primary_school` dataframe contains many **NaN** values. This means many of the data entries are not suitable for analysis. As a result, let's remove any rows that missing *more than half* of their entries. "
   ]
  },
  {
   "cell_type": "code",
   "execution_count": null,
   "metadata": {},
   "outputs": [],
   "source": [
    "cols_to_check = primary_school.columns[4:-1]\n",
    "cols_to_check"
   ]
  },
  {
   "cell_type": "code",
   "execution_count": null,
   "metadata": {},
   "outputs": [],
   "source": [
    "none_counts = primary_school[cols_to_check].count(axis=1)\n",
    "\n",
    "# Eliminate any rows with more than half of the year columns missing\n",
    "filtered_primary_school = primary_school[none_counts >= len(cols_to_check) / 2]\n",
    "filtered_primary_school = filtered_primary_school.reset_index(drop=True)\n",
    "display(filtered_primary_school)"
   ]
  },
  {
   "cell_type": "markdown",
   "metadata": {},
   "source": [
    "Now that our dataframe has been cleaned properly, we can begin visualizing the different number of children out of primary school based on country. Similarly to before, you can select a country to visualize using the tab titled *Country* below."
   ]
  },
  {
   "cell_type": "code",
   "execution_count": null,
   "metadata": {},
   "outputs": [],
   "source": [
    "country_dropdown = ipywidgets.Dropdown(options=filtered_primary_school['Country Name'].unique(), description='Country')\n",
    "\n",
    "def update_plot(country):\n",
    "    country_data = filtered_primary_school[filtered_primary_school['Country Name'] == country]\n",
    "    melted_country_data = pd.melt(country_data, id_vars=['Country Name'], value_vars=cols_to_check, var_name='Year', value_name='Population')\n",
    "    px.line(melted_country_data, x='Year', y='Population',labels={'x': 'Year', 'y': 'Population'},title=f'Progression of Number of Children out of Primary School from 1960-2022 in {country}').show()\n",
    "    \n",
    "interact(update_plot, country=country_dropdown)"
   ]
  },
  {
   "cell_type": "markdown",
   "metadata": {},
   "source": [
    "In our final visualization, we can also compare the progression of each country in terms of improving their means of providing access to primary education for children. \n",
    "\n",
    "We can achieve this by taking each country's most *recent year* that does not have a NaN value and compare it with their average for the *past 20 years*."
   ]
  },
  {
   "cell_type": "code",
   "execution_count": null,
   "metadata": {},
   "outputs": [],
   "source": [
    "years_to_check = filtered_primary_school.columns[-23:]\n",
    "\n",
    "country_names = []\n",
    "recent_years = []\n",
    "recent_values = []\n",
    "average_values = []\n",
    "\n",
    "for index, row in filtered_primary_school.iterrows():\n",
    "    value_2022 = row.get('2022', None)\n",
    "    \n",
    "    if pd.isna(value_2022):\n",
    "        for year in range(2021, 1999, -1):\n",
    "            value_2022 = row.get(str(year), None)\n",
    "            if not pd.isna(value_2022):\n",
    "                break\n",
    "\n",
    "    elif value_2022 is not None:\n",
    "        year = 2022\n",
    "\n",
    "    values_2002_to_2021 = row[years_to_check]\n",
    "\n",
    "    average_2002_to_2021 = values_2002_to_2021.mean()\n",
    "\n",
    "    country_names.append(row['Country Name'])\n",
    "    recent_years.append(year)\n",
    "    recent_values.append(value_2022)\n",
    "    average_values.append(average_2002_to_2021)\n",
    "\n",
    "comparison_fig = go.Figure()\n",
    "\n",
    "comparison_fig.add_trace(go.Bar(x=country_names, y=recent_values,text=recent_years, hovertemplate='Year: %{text}<br>Number of Children out of Primary School: %{y}',name='Most Recent Year', marker_color='blue'))\n",
    "comparison_fig.add_trace(go.Bar(x=country_names, y=average_values, name='20 Years Average', marker_color='orange'))\n",
    "\n",
    "comparison_fig.update_layout(title=\"Comparison of Number of Children out of Primary School for Most Recent Year and 20 Years Averages from 1960-2022\",xaxis_title='Country', yaxis_title='Number of Children out of Primary School',barmode='group', height=800).show()"
   ]
  },
  {
   "cell_type": "markdown",
   "metadata": {},
   "source": [
    "Looking at the output, we see that many of the results are divided. Many countries, such as *Portugal* and *Morocco*, have taken strides to lower the number of children out of primary school. Since Portugal is difficult to visualize on the current scale of the figure, zoom in by *dragging your mouse* to a sub-section of only Portugal. However, there are still many countries that display difficulties to keep the number of children out of primary school low. "
   ]
  },
  {
   "cell_type": "markdown",
   "metadata": {},
   "source": [
    "# Communicate\n",
    "\n",
    "Below are some writing prompts to help you reflect on the new information that is presented from the data. When we look at the evidence, think about what you perceive about the information. Is this perception based on what the evidence shows? If others were to view it, what perceptions might they have?\n",
    "\n",
    "- I used to think ____________________but now I know____________________. \n",
    "- I wish I knew more about ____________________. \n",
    "- This visualization reminds me of ____________________. \n",
    "- I really like ____________________."
   ]
  },
  {
   "cell_type": "markdown",
   "metadata": {},
   "source": [
    "[![Callysto.ca License](https://github.com/callysto/curriculum-notebooks/blob/master/callysto-notebook-banner-bottom.jpg?raw=true)](https://github.com/callysto/curriculum-notebooks/blob/master/LICENSE.md)"
   ]
  }
 ],
 "metadata": {
  "kernelspec": {
   "display_name": "Python 3",
   "language": "python",
   "name": "python3"
  },
  "language_info": {
   "codemirror_mode": {
    "name": "ipython",
    "version": 3
   },
   "file_extension": ".py",
   "mimetype": "text/x-python",
   "name": "python",
   "nbconvert_exporter": "python",
   "pygments_lexer": "ipython3",
   "version": "3.10.8"
  }
 },
 "nbformat": 4,
 "nbformat_minor": 2
}
