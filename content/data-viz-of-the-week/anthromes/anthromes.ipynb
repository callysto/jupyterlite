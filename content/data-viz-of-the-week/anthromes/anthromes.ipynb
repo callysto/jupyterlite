{
 "cells": [
  {
   "attachments": {},
   "cell_type": "markdown",
   "metadata": {},
   "source": [
    "![Callysto.ca Banner](https://github.com/callysto/curriculum-notebooks/blob/master/callysto-notebook-banner-top.jpg?raw=true)\n",
    "\n",
    "<a href=\"https://hub.callysto.ca/jupyter/hub/user-redirect/git-pull?repo=https%3A%2F%2Fgithub.com%2Fcallysto%2Fdata-viz-of-the-week&branch=main&subPath=anthromes/anthromes.ipynb&depth=1\" target=\"_parent\"><img src=\"https://raw.githubusercontent.com/callysto/curriculum-notebooks/master/open-in-callysto-button.svg?sanitize=true\" width=\"123\" height=\"24\" alt=\"Open in Callysto\"/></a>\n"
   ]
  },
  {
   "cell_type": "markdown",
   "metadata": {},
   "source": [
    "# Callysto’s Weekly Data Visualization\n",
    "\n",
    "## Anthromes\n",
    "\n",
    "### Recommended grade levels: 7-12"
   ]
  },
  {
   "cell_type": "markdown",
   "metadata": {},
   "source": [
    "### Instructions: “Run” the cells to see the graphs\n",
    "Click “Cell” and select “Run All”. <br>This will import the data and run all the code, so you can see this week's data visualizations (scroll to the top after you’ve run the cells). <br>**You don’t need to do any coding**.\n",
    "\n",
    "![instructions](https://github.com/callysto/data-viz-of-the-week/blob/main/images/instructions.png?raw=true)"
   ]
  },
  {
   "cell_type": "markdown",
   "metadata": {},
   "source": [
    "### About the notebook\n",
    "\n",
    "Callysto's Weekly Data Visualization is a learning resource that aims to develop data literacy skills. We provide grades 5-12 teachers and students with a data visualization, like a graph, to interpret. This companion resource walks learners through how the data visualization is created and interpreted by a data scientist. \n",
    "\n",
    "The steps of the data analysis process are listed below and applied to each weekly topic.\n",
    "\n",
    "1. Question - What are we trying to answer? \n",
    "2. Gather - Find the data source(s) you will need. \n",
    "3. Organize - Arrange the data so that you can easily explore it. \n",
    "4. Explore - Examine the data to look for evidence to answer our question. This includes creating visualizations. \n",
    "5. Interpret - Explain how the evidence answers our question. \n",
    "6. Communicate - Reflect on the interpretation. "
   ]
  },
  {
   "cell_type": "markdown",
   "metadata": {},
   "source": [
    "## 1. Question\n",
    "\n",
    "Have you ever wondered how human civilizations have used the Earth's land?\n",
    "\n",
    "For instance, how has farming and industrialization changed land-use patterns. Can we see this in a dataset of land use?\n",
    "\n",
    "\n",
    "### Goal\n",
    "Our goal is to show the gradual then sudden change in land-use patterns from prehistory to modern day.\n",
    "\n",
    "We will use a \"stacked line graph\" showing the landmasses of different land-use categories varying from urbanized to wild lands.\n"
   ]
  },
  {
   "cell_type": "markdown",
   "metadata": {},
   "source": [
    "## 2. Gather\n",
    "The code below will import the Python programming libraries we need to gather and organize the data to answer our question."
   ]
  },
  {
   "cell_type": "code",
   "execution_count": null,
   "metadata": {},
   "outputs": [],
   "source": [
    "%pip install -r requirements.txt\n",
    "import pyodide_http\n",
    "pyodide_http.patch_all()\n",
    "\n",
    "import pandas as pd #the pandas library is used to organize our data into tables known as \"pandas dataframes\"\n",
    "import os #used to create OS agnostic file paths\n",
    "from plotly.subplots import make_subplots #used to create our interactive plots\n",
    "import plotly.graph_objects as go #used to create our interactive plots"
   ]
  },
  {
   "cell_type": "markdown",
   "metadata": {},
   "source": [
    "### About our data\n",
    "\n",
    "Models of historic land use can provide evidence for future scenarios of land-use change. Our dataset is from the Netherlands Environmental Assessment Agency's [History Database of the Global Environment](https://themasites.pbl.nl/tridion/en/themasites/hyde/). The [particular dataset](https://dataportaal.pbl.nl/downloads/HYDE/HYDE3.2/) we are using is one on anthromes since 10000 BC. Anthromes, or [Anthropogenic Biomes](https://en.wikipedia.org/wiki/Anthropogenic_biome), are a classification system for the Earth's surface on the basis of how human-altered the land is.  \n",
    "\n",
    "The dataset breaks down into 6 main categories. These are described below.\n",
    "\n",
    "| Name              | Description                                                                  |\n",
    "|-------------------|------------------------------------------------------------------------------|\n",
    "| Dense Settlements | Urban and other nonagricultural dense settlements                            |\n",
    "| Villages          | Densely populated agricultural settlements                                   |\n",
    "| Croplands         | Lands used mainly for annual crops                                           |\n",
    "| Rangelands        | Lands used for pasture and livestock grazing                                 |\n",
    "| Seminatural       | Inhabited lands with minor use for permanent agriculture and settlements     |\n",
    "| Wild              | Lands without human populations or substantial land use                      |\n",
    "\n",
    "It further uses many different time intervals for its measurements. These are described in the table below.\n",
    "\n",
    "| Interval  | Date Range    |\n",
    "|-----------|---------------|\n",
    "| Millennia | 10000-1000 BCE|\n",
    "| Century   |    0-1600     |\n",
    "| Decade    |    1700-2000  |\n",
    "| Year      |    2001-2017  |\n",
    "\n",
    "Much of the modern data is obtained by recorded  measurements, but the earlier data points were created using historical and archeological methods. [This paper](https://www.mdpi.com/2073-445X/9/5/129) describes the dataset in greater detail."
   ]
  },
  {
   "cell_type": "markdown",
   "metadata": {},
   "source": [
    "### Importing our data\n",
    "This next block of code will read the data file and save it in a dataframe named `df`."
   ]
  },
  {
   "cell_type": "code",
   "execution_count": null,
   "metadata": {},
   "outputs": [],
   "source": [
    "path = os.path.join(\"data\", \"anthromes_summary.txt\") #create an OS agnostic file path\n",
    "df = pd.read_csv(path, delim_whitespace=True) # create df\n",
    "df = df.set_index(\"Class_id\") # set index of df"
   ]
  },
  {
   "cell_type": "code",
   "execution_count": null,
   "metadata": {},
   "outputs": [],
   "source": [
    "df.head() # display df"
   ]
  },
  {
   "cell_type": "markdown",
   "metadata": {},
   "source": [
    "### Comment on the data\n",
    "\n",
    "The dataframe above has the categories we want encoded in the index and broken down into granular sub categories and has no separation between data points separated by a millennia or a year."
   ]
  },
  {
   "cell_type": "markdown",
   "metadata": {},
   "source": [
    "## 3. Organize\n",
    "\n",
    "The code below will reorganize our code and break it into meaningful subparts so we can create our plots. "
   ]
  },
  {
   "cell_type": "code",
   "execution_count": null,
   "metadata": {},
   "outputs": [],
   "source": [
    "# The lines below sum subcategories into the 6 main catagories we described earlier\n",
    "\n",
    "df.loc[\"Dense Settlements\"] = df.loc[[11, 12]].sum()\n",
    "df.loc[\"Villages\"] = df.loc[[21, 22, 23, 24]].sum()\n",
    "df.loc[\"Croplands\"] = df.loc[[31, 32, 33, 34]].sum()\n",
    "df.loc[\"Rangeland\"] = df.loc[[41, 42, 43]].sum()\n",
    "df.loc[\"Seminatural\"] = df.loc[[51, 52, 53, 54]].sum()\n",
    "df.loc[\"Wild\"] = df.loc[[61, 62, 63]].sum()"
   ]
  },
  {
   "cell_type": "code",
   "execution_count": null,
   "metadata": {},
   "outputs": [],
   "source": [
    "df = df[-6:] # remove all the original granular data\n",
    "df #display the new df"
   ]
  },
  {
   "cell_type": "markdown",
   "metadata": {},
   "source": [
    "Next, we'll break the df down into 4 sub dataframes based on the time interval between data points."
   ]
  },
  {
   "cell_type": "code",
   "execution_count": null,
   "metadata": {},
   "outputs": [],
   "source": [
    "#these commands create our 4 new dataframes based on time interval\n",
    "df_millennia = df.iloc[:, :11]\n",
    "df_centuries = df.iloc[:, 10:28]\n",
    "df_decades = df.iloc[:, 27:58]\n",
    "df_years = df.iloc[:, 57:]"
   ]
  },
  {
   "cell_type": "markdown",
   "metadata": {},
   "source": [
    "## 4. Explore\n",
    "\n",
    "To explore our dataset, we'll create 4 plots, one for each of the dataframes we created above. If we tried to create one plot with a linear time scale, the more frequent data points would be squished together and it would be hard to see many details."
   ]
  },
  {
   "cell_type": "code",
   "execution_count": null,
   "metadata": {},
   "outputs": [],
   "source": [
    "#this function adds traces to a plotly fig object\n",
    "\n",
    "def add_traces(fig, df, row, col, traces, showlegend=False):\n",
    "    colors = ['grey', 'teal', 'yellow', 'brown', 'blue', 'green']\n",
    "    i = 0;\n",
    "    x = df.columns\n",
    "    for trace in traces:\n",
    "        fig.add_trace(go.Scatter(\n",
    "        x=x,\n",
    "        y=df.loc[trace].array,\n",
    "        legendgroup=\"group\" + str(i),\n",
    "        name = trace,\n",
    "        mode='lines+markers',\n",
    "        stackgroup='one',\n",
    "        showlegend=showlegend,\n",
    "        line_color=colors[i]),\n",
    "                      row=row, \n",
    "                      col=col)\n",
    "        i = i + 1\n",
    "    return fig"
   ]
  },
  {
   "cell_type": "code",
   "execution_count": null,
   "metadata": {},
   "outputs": [],
   "source": [
    "anthromes = [\"Dense Settlements\", \"Villages\", \"Croplands\", \"Rangeland\", \"Seminatural\", \"Wild\"]\n",
    "#create fig with subplots\n",
    "fig = make_subplots(rows=2, cols=2,\n",
    "                   subplot_titles=['Millennia', 'Centuries', 'Decades', 'Years'],\n",
    "                   x_title=\"Year (negative dates are BCE)\",\n",
    "                   y_title=\"km squared\")\n",
    "\n",
    "#use the add_traces function to create the four plots\n",
    "fig = add_traces(fig, df_millennia, 1, 1, anthromes, True)\n",
    "fig = add_traces(fig, df_centuries, 1, 2, anthromes)\n",
    "fig = add_traces(fig, df_decades, 2, 1, anthromes)\n",
    "fig = add_traces(fig, df_years, 2, 2, anthromes)\n",
    "\n",
    "#add title\n",
    "fig.update_layout(title_text='Changes in Anthromes Across Time')\n",
    "#show plot\n",
    "fig.show()"
   ]
  },
  {
   "cell_type": "markdown",
   "metadata": {},
   "source": [
    "## 5. Interpret\n",
    "Below, we will discuss the plot we created and how to examine it.\n",
    "\n",
    "First, when looking at these plots we must ensure we are aware of the varying interval between points. The top left plot(where data points are seperated by 1000 year intervals), 10000 BCE to 0, is incredibly stable with very little land devoted to settlements or agriculture. Between 0 and 1700 we see more change than in the previous 10000 years. The plot with the most dynamic elements is the one between 1700 and 2000. Here, we see incredible shifting away from seminatural lands to agricultural lands and the emergence of more villages around the turn of the last century. Finally, between 2000 and 2017 we note little change.\n",
    "\n",
    "To help us see this change more clearly, the creators of this data created world maps showing land use. Look at the change between 10000 BCE and 2017.\n",
    "\n",
    "![10000BCE](data/anthromes12k_010000_10000BC.png)\n",
    "![2017](data/anthromes12k_022017_02017AD.png)"
   ]
  },
  {
   "cell_type": "markdown",
   "metadata": {},
   "source": [
    "## 6. Communicate\n",
    "### Reflect on the interpretation\n",
    "What can data reveal about changes in land use over time?\n",
    "\n",
    "**Continuity and change**\n",
    "- What has stayed the same and what has changed across time?\n",
    "\n",
    "**Cause and effect**\n",
    "- What human activities and natural phenomena affect change in land use?\n",
    "- How can human activities contribute to solutions to land-use change?\n",
    "\n",
    "**Ethics**\n",
    "- How can personal and societal choices impact change?\n",
    "- How might land-use change impact society or the economy?"
   ]
  },
  {
   "cell_type": "markdown",
   "metadata": {},
   "source": [
    "[![Callysto.ca License](https://github.com/callysto/curriculum-notebooks/blob/master/callysto-notebook-banner-bottom.jpg?raw=true)](https://github.com/callysto/curriculum-notebooks/blob/master/LICENSE.md)"
   ]
  }
 ],
 "metadata": {
  "kernelspec": {
   "display_name": "Python 3",
   "language": "python",
   "name": "python3"
  },
  "language_info": {
   "codemirror_mode": {
    "name": "ipython",
    "version": 3
   },
   "file_extension": ".py",
   "mimetype": "text/x-python",
   "name": "python",
   "nbconvert_exporter": "python",
   "pygments_lexer": "ipython3",
   "version": "3.8.5"
  }
 },
 "nbformat": 4,
 "nbformat_minor": 4
}
