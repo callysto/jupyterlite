{
 "cells": [
  {
   "attachments": {},
   "cell_type": "markdown",
   "metadata": {},
   "source": [
    "![Callysto.ca Banner](https://github.com/callysto/curriculum-notebooks/blob/master/callysto-notebook-banner-top.jpg?raw=true)\n",
    "\n",
    "<a href=\"https://hub.callysto.ca/jupyter/hub/user-redirect/git-pull?repo=https%3A%2F%2Fgithub.com%2Fcallysto%2Fdata-viz-of-the-week&branch=main&subPath=oil-gas-prices/oil-gas-prices.ipynb&depth=1\" target=\"_parent\"><img src=\"https://raw.githubusercontent.com/callysto/curriculum-notebooks/master/open-in-callysto-button.svg?sanitize=true\" width=\"123\" height=\"24\" alt=\"Open in Callysto\"/></a>"
   ]
  },
  {
   "cell_type": "markdown",
   "metadata": {},
   "source": [
    "# Callysto’s Weekly Data Visualization\n",
    "\n",
    "## Oil Gas Prices \n",
    "\n",
    "### Recommended Grade levels: 6-12\n",
    "<br>"
   ]
  },
  {
   "cell_type": "markdown",
   "metadata": {},
   "source": [
    "### Instructions\n",
    "#### “Run” the cells to see the graphs\n",
    "Click “Cell” and select “Run All”.<br> This will import the data and run all the code, so you can see this week's data visualization. Scroll to the top after you’ve run the cells.<br> \n",
    "\n",
    "![instructions](https://github.com/callysto/data-viz-of-the-week/blob/main/images/instructions.png?raw=true)\n",
    "\n",
    "**You don’t need to do any coding to view the visualizations**.\n",
    "The plots generated in this notebook are interactive. You can hover over and click on elements to see more information. \n",
    "\n",
    "Email contact@callysto.ca if you experience issues."
   ]
  },
  {
   "cell_type": "markdown",
   "metadata": {},
   "source": [
    "### About this Notebook\n",
    "\n",
    "Callysto's Weekly Data Visualization is a learning resource that aims to develop data literacy skills. We provide Grades 5-12 teachers and students with a data visualization, like a graph, to interpret. This companion resource walks learners through how the data visualization is created and interpreted by a data scientist. \n",
    "\n",
    "The steps of the data analysis process are listed below and applied to each weekly topic.\n",
    "\n",
    "1. Question - What are we trying to answer? \n",
    "2. Gather - Find the data source(s) you will need. \n",
    "3. Organize - Arrange the data, so that you can easily explore it. \n",
    "4. Explore - Examine the data to look for evidence to answer the question. This includes creating visualizations. \n",
    "5. Interpret - Describe what's happening in the data visualization. \n",
    "6. Communicate - Explain how the evidence answers the question. "
   ]
  },
  {
   "cell_type": "markdown",
   "metadata": {},
   "source": [
    "# Question\n",
    "\n",
    "**Is the fuel costs in Canada reaching *record* highs?**\n",
    "\n",
    "On March 3rd, 2022, [CTV](https://atlantic.ctvnews.ca/gas-prices-reach-record-highs-across-canada-1.5805183) reported that gas prices have reached record highs across the country. Is this claim true? If so, how dramatic is the increase in fuel costs over the last few years?\n",
    "\n",
    "\n",
    "### Goal\n",
    "Our goal is to show that fuel gas costs have reached record highs, based on all provinces and three different types of gases (regular, premium, diesel). \n",
    "\n",
    "We will use line and bar graphs to visually represent the data in an informative way. "
   ]
  },
  {
   "cell_type": "markdown",
   "metadata": {},
   "source": [
    "# Gather\n",
    "\n",
    "### Code:\n",
    "The code below will import the Python programming libraries we need to gather and organize the data to answer our question."
   ]
  },
  {
   "cell_type": "code",
   "execution_count": null,
   "metadata": {},
   "outputs": [],
   "source": [
    "## import libraries\n",
    "%pip install -q pyodide_http plotly nbformat\n",
    "import pyodide_http\n",
    "pyodide_http.patch_all()\n",
    "import pandas as pd\n",
    "import plotly.graph_objects as go\n",
    "import random\n",
    "import plotly.subplots as sp\n",
    "import datetime as dt\n",
    "import os"
   ]
  },
  {
   "cell_type": "markdown",
   "metadata": {},
   "source": [
    "### Data:\n",
    "\n",
    "There are several online sources for fuel costs, including [Statistics Canada](https://www.statcan.gc.ca/en/start). The dataset is found here: https://www150.statcan.gc.ca/t1/tbl1/en/tv.action?pid=1810000101. \n",
    "\n",
    "From Statistics Canada website, we can find fuel costs across 12 provinces in Canada from 1979 to 2022. The data can be downloaded as a CSV (comma separated values) files. To download the data, click **Download options** and choose **CSV (Download selected data (for database loading)**. \n",
    "\n",
    "For your convenience, we have already downloaded the following files to accompany this notebook: \n",
    "- regular_gas_df.csv \n",
    "\n",
    "Pre-downloaded data has fuel costs recorded from 1990 to 2022 March. Some of the data was missing between 1979 and 1990 and thus excluded from analysis.\n"
   ]
  },
  {
   "cell_type": "markdown",
   "metadata": {},
   "source": [
    "To see how the price of fuel has changed relative to other products, we compared change in fuel prices to changes in **Big Mac** prices in Canada. Big Mac price record is found [here](https://github.com/TheEconomist/big-mac-data), and we will be using Big Mac price data from 2011 to 2022. \n",
    "\n",
    "For your convenience, we have already downloaded the following files to accompany this notebook: \n",
    "- big_mac_index.csv \n",
    "\n",
    "Big Mac price has been adjusted based on the GDP value of each year."
   ]
  },
  {
   "cell_type": "markdown",
   "metadata": {},
   "source": [
    "### Import the data"
   ]
  },
  {
   "cell_type": "code",
   "execution_count": null,
   "metadata": {},
   "outputs": [],
   "source": [
    "## import data\n",
    "gas_path = os.path.join('data', 'regular_gas_df.csv')\n",
    "#read the csv file in and save it as a pandas dataframe\n",
    "df = pd.read_csv(gas_path)\n",
    "df"
   ]
  },
  {
   "cell_type": "markdown",
   "metadata": {},
   "source": [
    "### Comment on the data\n",
    "The dataframe above has the categories we want encoded in the index and broken down into granular sub categories and has no separation between data points separated by a millennia or a year.\n"
   ]
  },
  {
   "cell_type": "markdown",
   "metadata": {},
   "source": [
    "# Organize\n",
    "\n",
    "The code below will arrange the data cleanly so that we can do analysis on it. This is a quality control step for our data and involves examining the data to detect anything odd with the data (e.g. structure, missing values), fixing the oddities, and checking if the fixes worked. \n",
    "\n",
    "First, we want to pick out few variables that would help us answer our question. We are interested in observing fuel costs change over the years, so we choose `REF_DATE`, `GEO`, and `VALUE` as our variables of interests. This process is called as **feature selection**, and it will make the data look much cleaner than it is now. \n",
    "\n",
    "After choosing the variables of interests, we proceed to clean the data by each **province**. In this dataset, we are provided with monthly average of fuel costs across 12 provinces. "
   ]
  },
  {
   "cell_type": "code",
   "execution_count": null,
   "metadata": {
    "scrolled": true
   },
   "outputs": [],
   "source": [
    "# data cleaning\n",
    "def provinceAverage(df):\n",
    "    df = df[[\"REF_DATE\", \"GEO\", \"VALUE\"]]\n",
    "    df = df.set_index([\"REF_DATE\"])\n",
    "    df = df.pivot(columns = \"GEO\")\n",
    "    df.columns = df.columns.droplevel()\n",
    "    del df[\"Ottawa-Gatineau, Ontario part, Ontario/Quebec\"]\n",
    "    \n",
    "    province = [\"Alberta\", \"British Columbia\", \"Ontario\", \"Quebec\", \"Saskatchewan\"]\n",
    "    \n",
    "    # Calculate provincial means of gas/oril prices\n",
    "    for p in province:\n",
    "        prov = df.columns[df.columns.str.contains(str(p))][[0,-1]]\n",
    "        prov_no = pd.DataFrame(prov).shape[0]\n",
    "        prov_cols = df.columns[df.columns.str.contains(str(p))]\n",
    "        df[str(p)] = df.loc[:,prov_cols].sum(axis=1) / prov_no\n",
    "    \n",
    "    if \"Canada\" in df:\n",
    "        del df[\"Canada\"]\n",
    "        del df[\"Thunder Bay, Ontario\"]\n",
    "        \n",
    "    if \"Thunder Bay, Ontario\" in df:\n",
    "        del df[\"Thunder Bay, Ontario\"]\n",
    "    \n",
    "    # Reorganize data; delete duplicate cities\n",
    "    df = df.drop([\"Calgary, Alberta\", \"Edmonton, Alberta\", \"Montréal, Quebec\", \"Québec, Quebec\",\n",
    "           \"Regina, Saskatchewan\", \"Vancouver, British Columbia\", \"Victoria, British Columbia\",\n",
    "           \"Toronto, Ontario\", \"Saskatoon, Saskatchewan\"], axis=1)\n",
    "    \n",
    "    # Rename remaining cities as provincial representatives \n",
    "    df = df.rename(columns = {\"Charlottetown and Summerside, Prince Edward Island\":\"Prince Edward Island\", \n",
    "                              \"Halifax, Nova Scotia\":\"Nova Scotia\", \n",
    "                              \"Saint John, New Brunswick\":\"New Brunswick\", \n",
    "                              \"St. John's, Newfoundland and Labrador\":\"Newfoundland and Labrador\", \n",
    "                              \"Whitehorse, Yukon\":\"Yukon\", \n",
    "                              \"Winnipeg, Manitoba\":\"Manitoba\", \n",
    "                              \"Yellowknife, Northwest Territories\":\"Northwest Territories\"})\n",
    "    \n",
    "    df = df.reset_index(level=0)\n",
    "    df = df.melt(id_vars = [\"REF_DATE\"],\n",
    "                      var_name = \"GEO\",\n",
    "                      value_name = \"Value\")\n",
    "    \n",
    "    return df\n",
    "\n",
    "provAvg = provinceAverage(df)\n",
    "provAvg"
   ]
  },
  {
   "cell_type": "markdown",
   "metadata": {},
   "source": [
    "Second, we take the **yearly average** across all provinces. This provides us with a clearer depiction of how fuel costs rise each year. "
   ]
  },
  {
   "cell_type": "code",
   "execution_count": null,
   "metadata": {},
   "outputs": [],
   "source": [
    "def yearlyAverage(df):\n",
    "    df[\"Year\"] = pd.to_datetime(df[\"REF_DATE\"]).dt.year\n",
    "    df = df.drop(columns=[\"REF_DATE\"])\n",
    "    yearlyAvg = df.groupby([\"Year\",\"GEO\"]).mean()\n",
    "    price_yearly = yearlyAvg.sort_values(by=[\"Year\"])\n",
    "    price_yearly.rename(columns = {\"Value\":\"Price\"}, inplace=True)\n",
    "    price_yearly = price_yearly.reset_index()\n",
    "    return price_yearly\n",
    "\n",
    "yearlyAvg = yearlyAverage(provAvg)\n",
    "yearlyAvg"
   ]
  },
  {
   "cell_type": "markdown",
   "metadata": {},
   "source": [
    "### Comment on the data\n",
    "We notice now there are 396 rows with 3 columns. We have organized data to capture yearly average across Canada by province. "
   ]
  },
  {
   "cell_type": "markdown",
   "metadata": {},
   "source": [
    "# Explore\n",
    "\n",
    "The code below will be used to help us look for evidence to answer our question. This can involve looking at data in table format, applying math and statistics, and creating different types of visualizations to represent our data."
   ]
  },
  {
   "cell_type": "markdown",
   "metadata": {},
   "source": [
    "We will start by displaying change in regular gas prices by province. Click on the **legend** to select a province. "
   ]
  },
  {
   "cell_type": "code",
   "execution_count": null,
   "metadata": {},
   "outputs": [],
   "source": [
    "prov = yearlyAvg[\"GEO\"].unique()\n",
    "fig = go.Figure()\n",
    "\n",
    "markers = [\"circle\",\"square\",\"diamond\",\"cross\",\"x\",\"triangle-up\",\"triangle-down\",\"triangle-left\",\"triangle-right\",\"star\",\"hexagram\",\"hourglass\"]\n",
    "dash_styles = [\"solid\",\"dash\",\"dot\"]\n",
    "\n",
    "for i, province in enumerate(prov):\n",
    "    fig.add_trace(go.Scatter(x=yearlyAvg[yearlyAvg[\"GEO\"].str.contains(str(province))][\"Year\"],\n",
    "                            y=yearlyAvg[yearlyAvg[\"GEO\"].str.contains(str(province))][\"Price\"],\n",
    "                            name=str(province), mode=\"lines+markers\", line={\"dash\":dash_styles[i%3]}, \n",
    "                            marker_symbol=markers[i], marker_size=10))\n",
    "\n",
    "fig.for_each_trace(lambda trace: trace.update(visible=True) if trace.name==\"Alberta\" else (trace.update(visible=\"legendonly\")))\n",
    "\n",
    "fig.update_layout(xaxis_title=\"Year\", yaxis_title=\"Cents per Litre (CAD)\",\n",
    "                    title_text=\"Gas Prices Across Canada, by Province\", title_x=0.5, title_y = 0.9,\n",
    "                    hovermode=\"x unified\", showlegend=True)\n",
    "fig.update_yaxes(range=(yearlyAvg[\"Price\"].min()-10, yearlyAvg[\"Price\"].max()))\n",
    "\n",
    "#fig.write_html(\"./visualizations/fig1-regularGasByProvince.html\")\n",
    "fig.show()"
   ]
  },
  {
   "cell_type": "code",
   "execution_count": null,
   "metadata": {},
   "outputs": [],
   "source": [
    "def highestPrice(df):\n",
    "    prov = df[\"GEO\"].unique()\n",
    "    \n",
    "    for province in prov:\n",
    "        maxPrice = df[df[\"GEO\"].str.contains(str(province))][\"Price\"].max()\n",
    "        maxYear = df[df[\"GEO\"].str.contains(str(province))].loc[df[\"Price\"]==maxPrice, [\"Year\"]].iloc[0][\"Year\"]\n",
    "        print(str(province), \"has the highest fuel cost of\", int(maxPrice), \"cents per litre at year\", maxYear.astype(str) + \".\")\n",
    "    \n",
    "highestPrice(yearlyAvg)"
   ]
  },
  {
   "cell_type": "markdown",
   "metadata": {},
   "source": [
    "We observe that for all provinces, annual average fuel prices to date in 2022 are their **highest average price** since 1990."
   ]
  },
  {
   "cell_type": "markdown",
   "metadata": {},
   "source": [
    "# Interpret"
   ]
  },
  {
   "cell_type": "markdown",
   "metadata": {},
   "source": [
    "We want to confirm that fuel costs are reaching record highs in 2022. Indeed, from the graph and the code above, we conclude that regular fuel costs reached its peak in 2022 in all provinces. What about two other types of gases, *premium* and *diesel*? \n",
    "\n",
    "Now we want to look at all three types of gases, and see if fuel costs have reached the highest in all provinces for all gas types. "
   ]
  },
  {
   "cell_type": "code",
   "execution_count": null,
   "metadata": {},
   "outputs": [],
   "source": [
    "# Get the national average for regular gas across all provinces.\n",
    "def nationalAverage(df, name):\n",
    "    df = df.groupby([\"Year\"]).mean([\"Price\"])\n",
    "    df.columns = [name]\n",
    "    return df\n",
    "\n",
    "regularGasAverage = nationalAverage(yearlyAvg, \"Regular\")\n",
    "regularGasAverage.head()"
   ]
  },
  {
   "cell_type": "code",
   "execution_count": null,
   "metadata": {},
   "outputs": [],
   "source": [
    "# Get the national average for premium and diesel gases across all provinces.\n",
    "def nationalAverageByGas(df,name):\n",
    "    provincialAverage=provinceAverage(df)\n",
    "    yearlyprovincialAverage=yearlyAverage(provincialAverage)\n",
    "    nationalYearlyAverage=nationalAverage(yearlyprovincialAverage, name)\n",
    "    return nationalYearlyAverage\n",
    "\n",
    "regular_df = nationalAverageByGas(df, \"Regular\")\n",
    "premium_df = nationalAverageByGas(pd.read_csv(\"data/premium_gas_df.csv\"), \"Premium\")\n",
    "diesel_df = nationalAverageByGas(pd.read_csv(\"data/diesel_gas_df.csv\"), \"Diesel\")\n",
    "\n",
    "# Combine all three types of gases into a single dataframe. \n",
    "allThreeGas = pd.concat([regular_df, premium_df, diesel_df], axis=1)\n",
    "allThreeGas = allThreeGas.reset_index()\n",
    "allThreeGas.head()"
   ]
  },
  {
   "cell_type": "code",
   "execution_count": null,
   "metadata": {},
   "outputs": [],
   "source": [
    "# Organize the dataframe to make it easier to be plotted. \n",
    "allThreeGas = allThreeGas.melt(id_vars = [\"Year\"],\n",
    "                               var_name = \"Type\",\n",
    "                               value_name = \"Price\")\n",
    "allThreeGas"
   ]
  },
  {
   "cell_type": "code",
   "execution_count": null,
   "metadata": {},
   "outputs": [],
   "source": [
    "fig1 = go.Figure()\n",
    "fig1.add_trace(go.Bar(x=allThreeGas[\"Year\"],\n",
    "                    y=allThreeGas[allThreeGas[\"Type\"].str.contains(\"Regular\")][\"Price\"],\n",
    "                    name=\"Regular\", visible=True))\n",
    "\n",
    "fig1.add_trace(go.Bar(x=allThreeGas[\"Year\"],\n",
    "                    y=allThreeGas[allThreeGas[\"Type\"].str.contains(\"Premium\")][\"Price\"],\n",
    "                    name=\"Premium\", visible=False))\n",
    "fig1.add_trace(go.Bar(x=allThreeGas[\"Year\"],\n",
    "                    y=allThreeGas[allThreeGas[\"Type\"].str.contains(\"Diesel\")][\"Price\"],\n",
    "                    name=\"Diesel\", visible=False))\n",
    "fig1.update_layout(\n",
    "    updatemenus=[\n",
    "        dict(\n",
    "            active=0,\n",
    "            buttons=list([\n",
    "                dict(\n",
    "                    args=[{\"visible\":[True, False, False]},\n",
    "                          {\"title\": \"Yearly Average Regular Gas Price\"}],\n",
    "                    label=\"Regular\",\n",
    "                    method=\"update\"\n",
    "                ),\n",
    "                dict(\n",
    "                    args=[{\"visible\":[False, True, False]},\n",
    "                          {\"title\": \"Yearly Average Premium Gas Price\"}],\n",
    "                    label=\"Premium\",\n",
    "                    method=\"update\"\n",
    "                ),\n",
    "                dict(\n",
    "                    args=[{\"visible\":[False, False, True]},\n",
    "                          {\"title\": \"Yearly Average Diesel Gas Price\"}],\n",
    "                    label=\"Diesel\",\n",
    "                    method=\"update\"\n",
    "                ),\n",
    "                dict(\n",
    "                    args=[{\"visible\":[True, True, True]},\n",
    "                          {\"title\": \"Yearly Change In Gas Price by Type\"}],\n",
    "                    label=\"View All\",\n",
    "                    method=\"update\"\n",
    "                )\n",
    "            ]),\n",
    "            direction=\"down\",\n",
    "            pad={\"r\": 10, \"t\": 10},\n",
    "            showactive=True,\n",
    "            x=0.11,\n",
    "            xanchor=\"left\",\n",
    "            y=1.15,\n",
    "            yanchor=\"top\"\n",
    "        ),\n",
    "    ], \n",
    "    showlegend=True,legend=dict(yanchor=\"top\", y=1, xanchor=\"left\", x=0.01, bgcolor='rgba(0,0,0,0)'),\n",
    "    annotations=[dict(text=\"Gas type:\",x=0, y=1.09, yref=\"paper\", xref=\"paper\", align=\"left\", showarrow=False)],\n",
    "    xaxis_title=\"Year\", yaxis_title=\"Cents per Litre (CAD)\",\n",
    "    title_text=\"National Average In Gas Price by Type\", title_x=0.5,\n",
    "    hovermode=\"x unified\",barmode=\"group\")\n",
    "fig1.update_yaxes(range=(allThreeGas[\"Price\"].min()-10, 180))\n",
    "#fig1.write_html(\"./visualizations/fig2-allGasTypes.html\")\n",
    "fig1.show()"
   ]
  },
  {
   "cell_type": "markdown",
   "metadata": {},
   "source": [
    "Notice that average annual fuel costs are the highest in 2022 for all three types of gases (regular gas, premium gas, and diesel gas)."
   ]
  },
  {
   "cell_type": "markdown",
   "metadata": {},
   "source": [
    "## Compare with Big Mac Index"
   ]
  },
  {
   "cell_type": "code",
   "execution_count": null,
   "metadata": {},
   "outputs": [],
   "source": [
    "# Download Big Mac data and undergo feature selection\n",
    "bigmac_df = pd.read_csv(\"data/big_mac_index.csv\")\n",
    "bigmac_df = bigmac_df[bigmac_df[\"iso_a3\"].str.contains(\"CAN\")]\n",
    "bigmac_dates = bigmac_df.date.str.split(pat='-',expand=True)\n",
    "bigmac_dates.columns = [\"Year\", \"Month\", \"Day\"]\n",
    "bigmac_df = bigmac_df[[\"date\", \"local_price\"]]\n",
    "bigmac = pd.concat([bigmac_dates, bigmac_df], axis=1)\n",
    "bigmac = bigmac[[\"Year\", \"local_price\"]]\n",
    "bigmac = bigmac.groupby([\"Year\"]).mean()\n",
    "bigmac = bigmac.reset_index()\n",
    "\n",
    "# Combine Big Mac data and regular gas price data from 2011 to 2022\n",
    "regular_df = regular_df.reset_index()\n",
    "regular_df = regular_df.astype({\"Year\":int})\n",
    "gas_shortened = regular_df.loc[regular_df.Year > 2010]\n",
    "gas_shortened = gas_shortened[[\"Regular\"]]\n",
    "gas_shortened = gas_shortened.reset_index()\n",
    "bigmacC = pd.concat([bigmac, gas_shortened], axis=1)\n",
    "bigmacC = bigmacC.set_index(\"Year\")\n",
    "bigmacC = bigmacC.drop([\"index\"],axis=1)\n",
    "bigmacC.columns = [\"BigMac\", \"Gas\"]\n",
    "\n",
    "# Calculate how many litres of regular fuel you can buy with that year's Big Mac price\n",
    "bigmacC[\"Gas(1L)\"] = bigmacC[\"Gas\"] / 100\n",
    "bigmacC[\"numLiters\"] = bigmacC[\"BigMac\"] / bigmacC[\"Gas(1L)\"]\n",
    "bigmacC = bigmacC.reset_index()\n",
    "bigmacC = bigmacC[[\"Year\", \"BigMac\", \"Gas(1L)\", \"numLiters\"]]\n",
    "bigmacC.numLiters = bigmacC.numLiters.astype(int)\n",
    "bigmacC"
   ]
  },
  {
   "cell_type": "code",
   "execution_count": null,
   "metadata": {},
   "outputs": [],
   "source": [
    "fig2 = sp.make_subplots(\n",
    "    rows=2, cols=1,\n",
    "    specs=[[{\"secondary_y\": True}],\n",
    "          [{\"secondary_y\": False}]],\n",
    "    subplot_titles=(\"Big Mac vs. Regular Gas Price in Canada\",\"Number of Litres of Gas that One Big Mac Can Buy\"),\n",
    "    vertical_spacing = 0.15)\n",
    "\n",
    "fig2.add_trace(go.Scatter(x=bigmacC[\"Year\"], y=bigmacC[\"BigMac\"], name=\"Big Mac Price\", showlegend=True, legendgroup=\"group1\"),\n",
    "                 row=1, col=1, secondary_y=False)\n",
    "fig2.add_trace(go.Scatter(x=bigmacC[\"Year\"], y=bigmacC[\"Gas(1L)\"], name=\"Gasoline Price\", showlegend=True, legendgroup=\"group2\", marker_symbol='square'),\n",
    "                 row=1, col=1, secondary_y=True)\n",
    "fig2.add_trace(go.Bar(x=bigmacC[\"Year\"], y=bigmacC[\"numLiters\"], name=\"# of Litres\", legendgroup=\"group3\", showlegend=False),\n",
    "                 row=2, col=1, secondary_y=False)\n",
    "\n",
    "fig2.update_xaxes(title_text=\"Year\", row=1, col=1)\n",
    "fig2.update_xaxes(title_text=\"Year\", row=2, col=1)\n",
    "fig2.update_yaxes(title_text=\"Big Mac Price (CAD)\", row=1, col=1, secondary_y=False)\n",
    "fig2.update_yaxes(title_text=\"Gasoline Price per Litre (CAD)\", row=1, col=1, secondary_y=True)\n",
    "fig2.update_yaxes(title_text=\"Litres\", row=2, col=1)\n",
    "\n",
    "fig2.add_hline(y=3, line_width=1.5, line_dash=\"dot\", line_color=\"gray\",row=2, col=1)\n",
    "\n",
    "fig2.update_annotations(font_size=15)\n",
    "\n",
    "\n",
    "fig2.update_layout(hovermode=\"x unified\", font=dict(size=10),\n",
    "                  legend=dict(yanchor=\"top\", y=1, xanchor=\"left\", x=0.01, bgcolor='rgba(0,0,0,0)'),\n",
    "                  showlegend= True, title_x = 0.5, height=700\n",
    "                  )\n",
    "#fig2.write_html(\"./visualizations/fig3-compareWithBigMac.html\")\n",
    "fig2.show()"
   ]
  },
  {
   "cell_type": "markdown",
   "metadata": {},
   "source": [
    "Notice that between the year 2011 to 2014, regular fuel price remained somewhat steady as Big Mac price increased dramatically. Big Mac price showed continual increase, whereas regular gas price showed more fluctuations. \n",
    "\n",
    "In 2022, we can buy **4L of regular fuel** with **one Big Mac**. However, in 2020, we could have bought up to 6L with one Big Mac. We can conclude that regular fuel price rapidly increased over the last two years. "
   ]
  },
  {
   "cell_type": "markdown",
   "metadata": {},
   "source": [
    "# Communicate\n",
    "\n",
    "Below are some writing prompts to help you reflect on the new information that is presented from the data. When we look at the evidence, think about what you perceive about the information. Is this perception based on what the evidence shows? If others were to view it, what perceptions might they have?\n",
    "\n",
    "- I used to think ____________________but now I know____________________. \n",
    "- I wish I knew more about ____________________. \n",
    "- This visualization reminds me of ____________________. \n",
    "- I really like ____________________.\n"
   ]
  },
  {
   "cell_type": "markdown",
   "metadata": {},
   "source": [
    "[![Callysto.ca License](https://github.com/callysto/curriculum-notebooks/blob/master/callysto-notebook-banner-bottom.jpg?raw=true)](https://github.com/callysto/curriculum-notebooks/blob/master/LICENSE.md)"
   ]
  }
 ],
 "metadata": {
  "kernelspec": {
   "display_name": "Python 3.10.1 64-bit",
   "language": "python",
   "name": "python3"
  },
  "language_info": {
   "codemirror_mode": {
    "name": "ipython",
    "version": 3
   },
   "file_extension": ".py",
   "mimetype": "text/x-python",
   "name": "python",
   "nbconvert_exporter": "python",
   "pygments_lexer": "ipython3",
   "version": "3.10.1"
  },
  "vscode": {
   "interpreter": {
    "hash": "d1ca6d17674200220921376aaeb3d36cffe15ecab2470a9a5e7a456cdbf61425"
   }
  }
 },
 "nbformat": 4,
 "nbformat_minor": 4
}
