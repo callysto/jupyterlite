{
 "cells": [
  {
   "cell_type": "markdown",
   "metadata": {},
   "source": [
    "![Callysto.ca Banner](https://github.com/callysto/curriculum-notebooks/blob/master/callysto-notebook-banner-top.jpg?raw=true)"
   ]
  },
  {
   "cell_type": "markdown",
   "metadata": {},
   "source": [
    "### Callysto's Weekly Data Visualization\n",
    "\n",
    "## Age of Empires II: finding the most expensive structure\n",
    "\n",
    "### Recommended Grade Level: 7-12\n",
    "\n",
    "### Instructions\n",
    "\n",
    "#### Step 1 (your only step): “Run” the cells to see the graphs\n",
    "Click “Cell” and select “Run All.” This will import the data and run all the code to create the data visualizations (scroll back to the top after you’ve run the cells). **You don’t need to do any coding**.\n",
    "\n",
    "The plots generated in this notebook are interactive. You can hover over and click on elements to see more information.   \n",
    "\n",
    "![instructions](https://github.com/callysto/data-viz-of-the-week/blob/main/images/instructions.png?raw=true)\n",
    "\n",
    "After a code cell runs, a number appears in the top left corner. If the code cell experiences a technical error some red text will appear below the cell. Email contact@callysto.ca if you experience issues."
   ]
  },
  {
   "cell_type": "markdown",
   "metadata": {},
   "source": [
    "### About This Notebook\n",
    "\n",
    "Callysto's Weekly Data Visualization is a learning resource that helps Grades 5-12 teachers and students grow and develop data literacy skills. We do this by providing a data visualization, like a graph, and asking teachers and students to interpret it. This companion resource walks learners through how the data visualization is created and interpreted using the data science process. The steps of this process are listed below and applied to each weekly topic.\n",
    "\n",
    "1. Question - What are we trying to answer?\n",
    "2. Gather - Find the data source(s) you will need.\n",
    "3. Organize - Arrange the data so that you can easily explore it.\n",
    "4. Explore - Examine the data to look for evidence to answer our question. This includes creating visualizations.\n",
    "5. Interpret - Explain how the evidence answers our question.\n",
    "6. Communicate - Reflect on the interpretation.\n",
    "\n",
    "### Acknowledgment\n",
    "The dataset we used in this week’s visualization is obtained via a REST API (application program interface) - an architectural style for an application program interface (API) that uses HTTP requests to access and use data. \n",
    "\n",
    "The API can be found here: https://age-of-empires-2-api.herokuapp.com/docs/#/"
   ]
  },
  {
   "cell_type": "markdown",
   "metadata": {},
   "source": [
    "##  What is an API?\n",
    "\n",
    "An API (application programming interface) is a collection of programming code whose task is to facilitate data transmission between one software product and another. This transmission is bound to terms determined by the code.\n",
    "\n",
    "<center><img src=\"./images/apiworks.png\" alt=\"Drawing\" style=\"width: 1000px;\"/></center>\n",
    "\n",
    "<em>\"What exactly IS an API?\". Source: https://medium.com/@perrysetgo/what-exactly-is-an-api-69f36968a41f</em>\n"
   ]
  },
  {
   "cell_type": "markdown",
   "metadata": {},
   "source": [
    "## What is a REST API?\n",
    "\n",
    "* A REST API (also referred to as a RESTful web service or RESTful API)  is an architectural style for an API that uses HTTP requests to access and use data (think url).\n",
    "\n",
    "* Based on representational state transfer (REST). This style and approach to communications often used in web services development.\n",
    "\n",
    "* REST uses less bandwidth $\\Rightarrow$ more suitable for efficient internet usage. \n",
    "\n",
    "* REST APIs can also be built with programming languages such as JavaScript or Python (though we won't explore how to do this in this notebook)."
   ]
  },
  {
   "cell_type": "markdown",
   "metadata": {},
   "source": [
    "## 1. Question\n",
    "**How different are the costs associated with each of the different structures in Age of Empires II?**\n",
    "\n",
    "<div>\n",
    "    <br><br>\n",
    "<img src=\"https://cdn.vox-cdn.com/thumbor/txRSFUwQEUYbN7QSWkylE9XBKNs=/0x0:1920x1080/1200x675/filters:focal(807x387:1113x693)/cdn.vox-cdn.com/uploads/chorus_image/image/65821972/age1.0.png\" width=\"500\"/>\n",
    "    <br><br>\n",
    "</div>\n",
    "\n",
    "About Age of Empires II \n",
    "\n",
    "* Age of Empires II: The Age of Kings is a real-time strategy video game \n",
    "\n",
    "* Second game in the Age of Empires series\n",
    "\n",
    "* Set in the Middle Ages and contains thirteen playable civilizations\n",
    "\n",
    "* Goal: gather resources (build towns, create armies, and defeat their enemies)\n",
    "\n",
    "* Players conquer rival towns and empires \n",
    "\n",
    "* Advance one of 13 civilizations through four \"Ages\": the Dark Age, the Feudal Age, the Castle Age, and the Imperial Age\n",
    "\n",
    "* Advancing to a new Age unlocks new units, structures, and technologies"
   ]
  },
  {
   "cell_type": "markdown",
   "metadata": {},
   "source": [
    "## 2. Gather\n",
    "\n",
    "First we will import the Python libraries we need."
   ]
  },
  {
   "cell_type": "code",
   "execution_count": null,
   "metadata": {},
   "outputs": [],
   "source": [
    "import requests\n",
    "from requests.exceptions import HTTPError\n",
    "import json\n",
    "import pandas as pd\n",
    "import plotly.express as px"
   ]
  },
  {
   "cell_type": "markdown",
   "metadata": {},
   "source": [
    "We will need to define a function to help us perform a query - this is a request to access information from an API. In our case, from https://age-of-empires-2-api.herokuapp.com/docs/#/.\n"
   ]
  },
  {
   "cell_type": "code",
   "execution_count": null,
   "metadata": {},
   "outputs": [],
   "source": [
    "def query_entry_pt(url):\n",
    "    \"\"\"This function takes as input a URL entry point and returns the complete JSON response in a REST API\n",
    "    \n",
    "    Input:\n",
    "        - url(string): complete url (or entry point) pointing at server \n",
    "        \n",
    "    Output:\n",
    "        - jsonResponse(json object): JSON response associated wtih query\n",
    "    \n",
    "    \"\"\"\n",
    "    try:\n",
    "        # Using GET command \n",
    "        response = requests.get(url)\n",
    "        # Raise issues if response is different from 200\n",
    "        response.raise_for_status()\n",
    "        # access JSOn content\n",
    "        jsonResponse = response.json()\n",
    "        print(\"Success!\",response)\n",
    "        return jsonResponse\n",
    "\n",
    "    except HTTPError as http_err:\n",
    "        print(f'HTTP error occurred: {http_err}')\n",
    "    except Exception as err:\n",
    "        print(f'Other error occurred: {err}')"
   ]
  },
  {
   "cell_type": "markdown",
   "metadata": {},
   "source": [
    "We can then use the function along with Python libraries to get information on structure. "
   ]
  },
  {
   "cell_type": "code",
   "execution_count": null,
   "metadata": {},
   "outputs": [],
   "source": [
    "# Age of Empires entry points\n",
    "entry_point = 'https://age-of-empires-2-api.herokuapp.com/api/v1/'\n",
    "\n",
    "print(\"Structures\")\n",
    "# Perform query\n",
    "aoe_stru = entry_point + 'structures'\n",
    "jsonResponse_stru=query_entry_pt(aoe_stru)"
   ]
  },
  {
   "cell_type": "markdown",
   "metadata": {},
   "source": [
    "Code [200] indicates our request was successful. \n",
    "\n",
    "Let's take a look at a few entries:"
   ]
  },
  {
   "cell_type": "code",
   "execution_count": null,
   "metadata": {},
   "outputs": [],
   "source": [
    "jsonResponse_stru['structures'][0]"
   ]
  },
  {
   "cell_type": "markdown",
   "metadata": {},
   "source": [
    "## 3. Organize\n",
    "\n",
    "The information we obtained is in JSON format - we will format this so it looks more like a table. We will use the pandas library to format it into a data structure called \"dataframe\" - this is a table with columns and rows that allows us to manipulate the data as needed"
   ]
  },
  {
   "cell_type": "code",
   "execution_count": null,
   "metadata": {},
   "outputs": [],
   "source": [
    "# Normalize \n",
    "flattened_stru = pd.json_normalize(jsonResponse_stru,record_path='structures')\n",
    "display(flattened_stru.head())"
   ]
  },
  {
   "cell_type": "markdown",
   "metadata": {},
   "source": [
    "## 4. Explore\n",
    "\n",
    "Let's take a look at a few of the values in this dataframe."
   ]
  },
  {
   "cell_type": "code",
   "execution_count": null,
   "metadata": {},
   "outputs": [],
   "source": [
    "flattened_stru['age'].unique()"
   ]
  },
  {
   "cell_type": "markdown",
   "metadata": {},
   "source": [
    "Like in the game, the dataset contains information on the 4 main ages: \n",
    "\n",
    "1. Dark\n",
    "\n",
    "2. Feudal\n",
    "\n",
    "3. Castle\n",
    "\n",
    "4. Imperial\n",
    "\n",
    "Let's take a look at the average build time for each age."
   ]
  },
  {
   "cell_type": "code",
   "execution_count": null,
   "metadata": {},
   "outputs": [],
   "source": [
    "average_build_dark = flattened_stru[flattened_stru['age']=='Dark']['build_time'].mean()\n",
    "average_build_feudal = flattened_stru[flattened_stru['age']=='Feudal']['build_time'].mean()\n",
    "average_build_castle = flattened_stru[flattened_stru['age']=='Castle']['build_time'].mean()\n",
    "average_build_imperial = flattened_stru[flattened_stru['age']=='Imperial']['build_time'].mean()\n",
    "\n",
    "print(\"The average build time for the Dark age is\",average_build_dark)\n",
    "print(\"The average build time for the Feudal age is\",average_build_feudal)\n",
    "print(\"The average build time for the Castle age is\",average_build_castle)\n",
    "print(\"The average build time for the Imperial age is\",average_build_imperial)"
   ]
  },
  {
   "cell_type": "markdown",
   "metadata": {},
   "source": [
    "#### Exercise:\n",
    "\n",
    "Change `build_time` in the code above and rerun the cell to explore the average cost for any of the following categories:\n",
    "\n",
    "`cost.Wood`    \n",
    "`cost.Stone`\t\n",
    "`cost.Gold`\n",
    "\n",
    "For example:\n",
    "\n",
    "`flattened_stru[flattened_stru['age']=='Dark']['build_time'].mean()` \n",
    "\n",
    "turns into \n",
    "\n",
    "`flattened_stru[flattened_stru['age']=='Dark']['cost.Wood'].mean()`"
   ]
  },
  {
   "cell_type": "code",
   "execution_count": null,
   "metadata": {},
   "outputs": [],
   "source": [
    "# ages: 'Dark', 'Feudal', 'Castle', 'Imperial'\n",
    "subset_dat = flattened_stru[flattened_stru['age']=='Imperial']\n",
    "fig = px.bar(data_frame=subset_dat,y='build_time',x='name',\n",
    "            title='Build time per age',hover_name='age',\n",
    "       labels={\"name\":\"Name of structure\",\"build_time\":\"Total build time\"}).update_xaxes(categoryorder='total descending')\n",
    "fig.show()"
   ]
  },
  {
   "cell_type": "markdown",
   "metadata": {},
   "source": [
    "From the information above we see that the average build time for the first three ages is less than 60 time units, but the average build time for the Imperial age is over 250 time units!\n",
    "\n",
    "Let's explore why this is happening."
   ]
  },
  {
   "cell_type": "code",
   "execution_count": null,
   "metadata": {},
   "outputs": [],
   "source": [
    "fig2 = px.box(data_frame=flattened_stru,y='build_time',x='age',points='all',hover_name='name',\n",
    "            title='Build time per age (all structures)',labels={\"age\":\"Age\",\"build_time\":\"Build time\"},\n",
    "      color='age')\n",
    "fig2.show()"
   ]
  },
  {
   "cell_type": "markdown",
   "metadata": {},
   "source": [
    "Visualizing the build time reveals that the Wonder - a structure found in the Imperial age - takes 3500 build units. This \"skews\" the data, making it appear as though the average build time for the imperial age is much higher. Let's remove that datapoint. "
   ]
  },
  {
   "cell_type": "code",
   "execution_count": null,
   "metadata": {
    "scrolled": false
   },
   "outputs": [],
   "source": [
    "no_wonder = flattened_stru[flattened_stru['name']!='Wonder']\n",
    "print(\"Average build time average for Imperial age\",no_wonder[no_wonder['age']==\"Imperial\"]['build_time'].mean())\n",
    "fig3 = px.box(data_frame=no_wonder,y='build_time',x='age',points='all',hover_name='name',\n",
    "            title='Build time per age (without Wonder)',labels={\"age\":\"Age\",\"build_time\":\"Build time\"},\n",
    "      color='age')\n",
    "fig3.show()"
   ]
  },
  {
   "cell_type": "markdown",
   "metadata": {},
   "source": [
    "#### Exercise:\n",
    "\n",
    "Change `build_time` in the code above and rerun the cell to explore the average cost for any of the following categories:\n",
    "\n",
    "`cost.Wood`    \n",
    "`cost.Stone`\t\n",
    "`cost.Gold`\n",
    "\n",
    "For example:\n",
    "\n",
    "In the line of code generating the bar chart, look at the `y='build_time'` parameter\n",
    "\n",
    "`fig = px.bar(data_frame=subset_dat,y='build_time',x='name',\n",
    "           title='Build time per age',hover_name='age',\n",
    "      labels={\"name\":\"Name of structure\",\"build_time\":\"Total build time\"}).update_xaxes(categoryorder='total descending')`\n",
    "      \n",
    "Change that to `y='cost.Wood'` and rerun the cell. \n",
    "\n",
    "#### Bonus: modify the title, as well as x and y labels to reflect the new cost.\n"
   ]
  },
  {
   "cell_type": "markdown",
   "metadata": {},
   "source": [
    "## 5. Interpret"
   ]
  },
  {
   "cell_type": "markdown",
   "metadata": {},
   "source": [
    "Without the Wonder, we see that the average build time has dropped from 256 to 54 build time units. Data points like the Wonder are known as \"outliers\". \n",
    "\n",
    "The structure that takes the highest number of build time units across the Dark and Feudal ages is the Town Centre. When the player advances to the Castle age, a Castle is introduced. This structure is then removed in the Imperial Age and substituted by the Wonder, a structure taking 3500 build time units to construct. \n",
    "\n",
    "The Town Centre can be built across all ages. \n",
    "\n",
    "Depending on the player's strategy, some might decide to build the structures that take the shortest amount of time to build with the goal of building as many structures as possible. Others might decide to place their efforts on the most time consuming only. The downside to the first is of course building that take a short amount of time might not be as useful or as sophisticated as those taking more resources. The downside to the second is that the player might be limited by how many build time units they have available if they are, for instance, defending themselves against an enemy. "
   ]
  },
  {
   "cell_type": "markdown",
   "metadata": {},
   "source": [
    "## 6. Communicate\n",
    "\n",
    "When we look at the evidence, think about what you perceive about the information. Is this perception based on what the evidence shows? If others were to view it, what perceptions might they have? These writing prompts can help you reflect.\n",
    "\n",
    "* I used to think __ but now I know __.\n",
    "* I wish I knew more about __.\n",
    "* This visualization reminds me of __.\n",
    "* I really like __."
   ]
  },
  {
   "cell_type": "markdown",
   "metadata": {},
   "source": [
    "[![Callysto.ca License](https://github.com/callysto/curriculum-notebooks/blob/master/callysto-notebook-banner-bottom.jpg?raw=true)](https://github.com/callysto/curriculum-notebooks/blob/master/LICENSE.md)"
   ]
  }
 ],
 "metadata": {
  "kernelspec": {
   "display_name": "Python 3",
   "language": "python",
   "name": "python3"
  },
  "language_info": {
   "codemirror_mode": {
    "name": "ipython",
    "version": 3
   },
   "file_extension": ".py",
   "mimetype": "text/x-python",
   "name": "python",
   "nbconvert_exporter": "python",
   "pygments_lexer": "ipython3",
   "version": "3.8.8"
  }
 },
 "nbformat": 4,
 "nbformat_minor": 4
}
