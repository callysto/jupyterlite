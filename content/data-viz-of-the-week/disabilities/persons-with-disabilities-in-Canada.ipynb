{
 "cells": [
  {
   "attachments": {},
   "cell_type": "markdown",
   "metadata": {},
   "source": [
    "![Callysto.ca Banner](https://github.com/callysto/curriculum-notebooks/blob/master/callysto-notebook-banner-top.jpg?raw=true)\n",
    "\n",
    "<a href=\"https://hub.callysto.ca/jupyter/hub/user-redirect/git-pull?repo=https%3A%2F%2Fgithub.com%2Fcallysto%2Fdata-viz-of-the-week&branch=main&subPath=disabilities/persons-with-disabilities-in-Canada.ipynb&depth=1\" target=\"_parent\"><img src=\"https://raw.githubusercontent.com/callysto/curriculum-notebooks/master/open-in-callysto-button.svg?sanitize=true\" width=\"123\" height=\"24\" alt=\"Open in Callysto\"/></a>"
   ]
  },
  {
   "cell_type": "markdown",
   "metadata": {},
   "source": [
    "# Callysto’s Weekly Data Visualization\n",
    "\n",
    "## Disability Prevalence in Canada\n",
    "### Recommended Grade levels: 5-9\n",
    "<br>"
   ]
  },
  {
   "cell_type": "markdown",
   "metadata": {},
   "source": [
    "### Instructions\n",
    "\n",
    "Click \"Cell\" and select \"Run All\".\n",
    "\n",
    "This will import the data and run all the code, so you can see this week's data visualization. Scroll back to the top after you’ve run the cells.\n",
    "\n",
    "![instructions](https://github.com/callysto/data-viz-of-the-week/blob/main/images/instructions.png?raw=true)\n",
    "\n",
    "**You don't need to do any coding to view the visualizations**.\n",
    "\n",
    "The plots generated in this notebook are interactive. You can hover over and click on elements to see more information. \n",
    "\n",
    "Email contact@callysto.ca if you experience issues."
   ]
  },
  {
   "cell_type": "markdown",
   "metadata": {},
   "source": [
    "### About this Notebook\n",
    "\n",
    "Callysto's Weekly Data Visualization is a learning resource that aims to develop data literacy skills. We provide Grades 5-12 teachers and students with a data visualization, like a graph, to interpret. This companion resource walks learners through how the data visualization is created and interpreted by a data scientist. \n",
    "\n",
    "The steps of the data analysis process are listed below and applied to each weekly topic.\n",
    "\n",
    "1. Question - What are we trying to answer?\n",
    "2. Gather - Find the data source(s) you will need. \n",
    "3. Organize - Arrange the data, so that you can easily explore it. \n",
    "4. Explore - Examine the data to look for evidence to answer the question. This includes creating visualizations. \n",
    "5. Interpret - Describe what's happening in the data visualization. \n",
    "6. Communicate - Explain how the evidence answers the question. "
   ]
  },
  {
   "cell_type": "markdown",
   "metadata": {},
   "source": [
    "# Question\n",
    "\n",
    "In this notebook we are exploring two questions: \n",
    "\n",
    "- What is the number of Canadians with disabilities in the population compared to individuals without disabilities?\n",
    "- What is the prevalence of employment in the population of Canadians who experience disability?"
   ]
  },
  {
   "cell_type": "markdown",
   "metadata": {},
   "source": [
    "### Goal\n",
    "\n",
    "The goal of this notebook is to show a visualization of the proportion of individuals with disabilities compared to the size of the general population, alongside looking at the level of employment in the population of those with disabilities. We will also be able to show visualizations about what types of disabilities often occur in the population."
   ]
  },
  {
   "cell_type": "markdown",
   "metadata": {},
   "source": [
    "### Background\n",
    "\n",
    "According to [this](https://www150.statcan.gc.ca/n1/pub/11-627-m/11-627-m2022062-eng.htm) Statistics Canada publication, in 2017, 6.2 million Canadians aged 15 and older had a disability. These disabilities can \n",
    "[vary in nature and severity](https://www23.statcan.gc.ca/imdb/p3Instr.pl?Function=assembleInstr&a=1&&lang=en&Item_Id=348023#qb353069), and they can affect people of all age groups. Understanding the number of individuals with disabilities in Canada is important for developing inclusive policies such as for hiring, support services, and programs. In this notebook, we will explore and visualize the demographics of individuals with disabilities in Canada and their employment status."
   ]
  },
  {
   "cell_type": "markdown",
   "metadata": {},
   "source": [
    "# Gather"
   ]
  },
  {
   "cell_type": "markdown",
   "metadata": {},
   "source": [
    "### Code: "
   ]
  },
  {
   "cell_type": "markdown",
   "metadata": {},
   "source": [
    "Run the code cells below to import the libraries we need for this project. Libraries are pre-made code that make it easier to analyze our data."
   ]
  },
  {
   "cell_type": "code",
   "execution_count": null,
   "metadata": {},
   "outputs": [],
   "source": [
    "%pip install -r requirements.txt\n",
    "import pyodide_http\n",
    "pyodide_http.patch_all()\n",
    "import pandas as pd\n",
    "import plotly.express as px\n",
    "import re\n",
    "import plotly.graph_objects as go\n",
    "print(\"Libraries imported.\")"
   ]
  },
  {
   "cell_type": "markdown",
   "metadata": {},
   "source": [
    "As a brief explanation of the libraries imported: "
   ]
  },
  {
   "cell_type": "markdown",
   "metadata": {},
   "source": [
    "| Library               | Description                                                                                            |\n",
    "|-----------------------|--------------------------------------------------------------------------------------------------------|\n",
    "| Pandas| Lets you work with structured data easily, perform data analysis, and prepare data for visualization.|\n",
    "| Plotly Express / Plotly Graph Objects| Simplifies creating interactive visualizations |\n",
    "| re (Regular Expressions) | Helps with pattern matching and manipulation of text. |"
   ]
  },
  {
   "cell_type": "markdown",
   "metadata": {},
   "source": [
    "Without importing these libraries we would have to use much more code to analyze our data and generate visualizations. We import the libraries with abbreviations, or aliases, so that we have less typing to do in each line of our code below."
   ]
  },
  {
   "cell_type": "markdown",
   "metadata": {},
   "source": [
    "### Data\n",
    "Data was collected through [Statistics Canada](https://www23.statcan.gc.ca/imdb/p2SV.pl?Function=getSurvey&Id=321555), links to specific data being:\n",
    "- [Labour force status for persons with disabilities aged 25 to 64 years, by disability type (grouped)](https://www150.statcan.gc.ca/t1/tbl1/en/tv.action?pid=1310073001)\n",
    "- [Persons with and without disabilities aged 15 years and over, census metropolitan areas](https://www150.statcan.gc.ca/t1/tbl1/en/tv.action?pid=1310075001)\n",
    "- [A demographic, employment and income profile of Canadians with disabilities aged 15 years and over, 2017](https://www150.statcan.gc.ca/n1/pub/89-654-x/89-654-x2018002-eng.htm)\n",
    "\n",
    "Note: Data was collected in 2017, after identifying participants in the 2016 census."
   ]
  },
  {
   "cell_type": "markdown",
   "metadata": {},
   "source": [
    "### Import the data"
   ]
  },
  {
   "cell_type": "markdown",
   "metadata": {},
   "source": [
    "Upon importing the datasets, we'll visualize and convert them into *dataframes*. Think of a dataframe as a digital representation of a spreadsheet, where data is organized in rows and columns. Each row corresponds to a specific entry, while each column contains various types of information related to those entries. This will provide us with a better understanding of the specific rows and columns present in each dataset. \n",
    "\n",
    "The datasets imported are in respective order to the links specified above from Statistics Canada and are derived from the 2017 Canadian Survey on Disability (CSD) from Statistics Canada which collected data on experiences of persons with disabilities.\n",
    "\n",
    "The first dataset (by_type) includes data on disability type for Canadians aged 25 and older, the second dataset (by_pop) includes data on geographic distribution of disabilities for Canadians aged 15 and older, and the third dataset (employment) includes employment status data for Canadians aged 25 and older."
   ]
  },
  {
   "cell_type": "code",
   "execution_count": null,
   "metadata": {},
   "outputs": [],
   "source": [
    "by_type = pd.read_csv('https://raw.githubusercontent.com/callysto/data-files/main/data-viz-of-the-week/disabilities/by_type.csv')\n",
    "by_pop = pd.read_csv('https://raw.githubusercontent.com/callysto/data-files/main/data-viz-of-the-week/disabilities/by_pop.csv')\n",
    "employment = pd.read_csv(\"https://raw.githubusercontent.com/callysto/data-files/main/data-viz-of-the-week/disabilities/employment.csv\")\n",
    "\n",
    "display(by_type.sample(5), by_pop.sample(5), employment.sample(5))"
   ]
  },
  {
   "cell_type": "markdown",
   "metadata": {},
   "source": [
    "By visualizing a random sample of 5 rows from each dataframe, we gain a clearer understanding of their contents. A summary of the columns for each dataframe can be found below:\n",
    "\n",
    "**by_pop:**\n",
    "- `Geography`: Represents the geographic location (city or region).\n",
    "- `Disability`: Specifies whether total population of a city/region is gathered with/without individuals with disabilities.\n",
    "- `Number`: The total number of people with/without a disability type within a city/region.\n",
    "- `Percent`: Represents the percentage of people with/without a disability within the total population of given city/region. \n",
    "\n",
    "**by_type:**\n",
    "- `Disability type (grouped)`: Describes the category or group of disabilities.\n",
    "- `Number`: The total number of people falling under each disability category.\n",
    "\n",
    "**employment:**\n",
    "- `Age Group`: Represents different age groups of the population.\n",
    "- `Disabilities`: Indicates the presence (1) or absence (0) of any disability.\n",
    "- `Milder`: Indicates the presence (1) or absence (0) of milder disabilities. \n",
    "- `Severe`: Indicates the presence (1) or absence (0) of severe disabilities.\n",
    "- `Gender`: Specifies the gender (Men or Women) associated with the data in the row.\n",
    "- `Employment Percent`: Represents the percentage of people employed in the given age group and gender."
   ]
  },
  {
   "cell_type": "markdown",
   "metadata": {},
   "source": [
    "Taking a deeper look at our dataframes, we have several issues to address. First, certain columns contain random integers (numbers) when they are not appropriate. An example is the `Disability` column in the *by_pop* dataframe. \n",
    "\n",
    "Next, in the `Number` columns in several dataframes, the commas are a large issue, specifically because they mean our \"numbers\" in this column are not actually numbers. These values are actually strings (words/letters). Furthermore, while it isn't visualized in the output above, certain values in the `Number` column also contain random letters within them. We need to remove these values so that all the column values are strictly integers.\n",
    "\n",
    "Lastly, the `Percent` column also contains the similar issues of being an actual float (decimal number) value. This can be solved by removing any non-numeric characters."
   ]
  },
  {
   "cell_type": "markdown",
   "metadata": {},
   "source": [
    "# Organize"
   ]
  },
  {
   "cell_type": "markdown",
   "metadata": {},
   "source": [
    "First, let's take the `Geography` column in the *by_pop* dataframe and separate it into two new columns: `City` and `Province`. This means that instead of having the location data combined in one column (e.g., \"St. John's, Newfoundland and Labrador\"), we will split it into two separate pieces, one representing the city name (\"St. John's\") and the other representing the province or region name (\"Newfoundland and Labrador\").\n",
    "\n",
    "By doing this separation, we will make the data more organized and easier to analyze. It will allow us to look at population statistics for specific cities or provinces independently."
   ]
  },
  {
   "cell_type": "code",
   "execution_count": null,
   "metadata": {},
   "outputs": [],
   "source": [
    "by_pop[[\"City\", \"Province\"]] = by_pop['Geography'].str.split(\",\", n=1, expand=True)\n",
    "by_pop['City'] = by_pop['City'].str.strip()\n",
    "by_pop['Province'] = by_pop['Province'].str.strip()\n",
    "by_pop"
   ]
  },
  {
   "cell_type": "markdown",
   "metadata": {},
   "source": [
    "In order to further organize our data for analysis we will need to do some additional data cleaning to improve the quality of our dataset:\n",
    "* Certain columns contain random integers (numbers) when they are not appropriate and we need to ensure that these are removed. An example is the `Disability` column in the by_pop dataframe. \n",
    "* In the `Number` columns we need to ensure that all entries are numeric and don’t contain commas or letters.\n",
    "* For the `Percent` column we want to ensure that all entries are float (decimal number) values and don’t contain any non-numeric characters.\n",
    "\n",
    "To do this data cleaning, we're going to define 3 functions that will help us clean our data frames:\n",
    "\n",
    "1. **remove_integers**: The remove_integers function takes a string as input and returns a new string with all the digits (integers) removed, leaving only non-numeric characters.\n",
    "\n",
    "2. **remove_commas_and_letters**: The remove_commas_and_letters function takes a string representing a numerical value, possibly with commas or non-digit characters, and returns the cleaned and converted integer value by removing commas and any non-digit characters.\n",
    "\n",
    "3. **remove_and_convert_percent**: The clean_and_convert_percent function deals specifically with percentage strings. It takes a string representing a percentage and returns the cleaned and converted float value by removing non-numeric characters (except the decimal point) and converting the cleaned string to a float."
   ]
  },
  {
   "cell_type": "code",
   "execution_count": null,
   "metadata": {},
   "outputs": [],
   "source": [
    "def remove_integers(string):\n",
    "    return ''.join(i for i in string if not i.isdigit())\n",
    "\n",
    "def remove_commas_and_letters(value):\n",
    "    value = value.replace(',', '')  # Remove commas\n",
    "    value = re.sub('[^0-9]', '', value)  # Remove non-digit characters using regex\n",
    "    return int(value)\n",
    "\n",
    "def clean_and_convert_percent(percent_str):\n",
    "    # Remove any non-numeric characters, except for '.'\n",
    "    cleaned_str = ''.join(char for char in percent_str if char.isdigit() or char == '.')\n",
    "    return float(cleaned_str)"
   ]
  },
  {
   "cell_type": "markdown",
   "metadata": {},
   "source": [
    "Now, we're going to apply these functions onto their appropriate columns. Note: we're only applying the *clean_and_convert_percent* function to *by_pop*, because we're not going to be utilizing the `Percent` columns in  visualizations for the other dataframes."
   ]
  },
  {
   "cell_type": "code",
   "execution_count": null,
   "metadata": {},
   "outputs": [],
   "source": [
    "# r'\\d+' checks to match any digits in the string\n",
    "by_pop['Province'] = by_pop['Province'].str.replace(r'\\d+', '', regex=True).str.strip()"
   ]
  },
  {
   "cell_type": "code",
   "execution_count": null,
   "metadata": {},
   "outputs": [],
   "source": [
    "by_pop['Disability'] = by_pop[\"Disability\"].apply(remove_integers)\n",
    "by_pop['Number'] = by_pop[\"Number\"].apply(remove_commas_and_letters)\n",
    "by_pop['Percent'] = by_pop['Percent'].apply(clean_and_convert_percent)\n",
    "\n",
    "by_type[\"Disability type (grouped)\"] = by_type[\"Disability type (grouped)\"].apply(remove_integers)\n",
    "by_type['Number'] = by_type[\"Number\"].apply(remove_commas_and_letters)"
   ]
  },
  {
   "cell_type": "markdown",
   "metadata": {},
   "source": [
    "Let's take a look at our dataframes after being cleaned."
   ]
  },
  {
   "cell_type": "code",
   "execution_count": null,
   "metadata": {},
   "outputs": [],
   "source": [
    "display(by_pop, by_type, employment)"
   ]
  },
  {
   "cell_type": "markdown",
   "metadata": {},
   "source": [
    "Perfect, it seems that all the main issues present in the dataframes from before are fixed now. Let's begin exploring the cleaned data and making observations now. "
   ]
  },
  {
   "cell_type": "markdown",
   "metadata": {},
   "source": [
    "# Explore and Interpret"
   ]
  },
  {
   "cell_type": "markdown",
   "metadata": {},
   "source": [
    "Before we get started in exploring visualizations, it's essential to approach the topic of disabilities with sensitivity and avoid generalizations, as each person's experiences and condition are unique. Each individual with lived disability experience is an expert on their own life, and assumptions should not be made about a specific person's life.\n",
    "\n",
    "With this in mind, let's get a better understanding of the distribution of labour force status for persons with disabilities in Canada, specifically looking at the distribution of *types* of disabilities. One key thing to note is that the values in our dataframe are not mutually exclusive. This essentially means one person can have multiple disabilities in our dataframe, hence the reason why the `total population with disabilities` is less than summing all of the disabilities together. "
   ]
  },
  {
   "cell_type": "code",
   "execution_count": null,
   "metadata": {},
   "outputs": [],
   "source": [
    "by_type_fig = px.histogram(by_type, x=\"Disability type (grouped)\", y=\"Number\", color=\"Number\", title=\"Labour Force Status of Disabled Persons by Disability Type\")\n",
    "\n",
    "by_type_fig.update_layout(yaxis_title=\"Total Individuals Affected\", xaxis_title=\"Disability Type\")\n",
    "by_type_fig.update_traces(showlegend=False)\n",
    "\n",
    "by_type_fig.show()"
   ]
  },
  {
   "cell_type": "markdown",
   "metadata": {},
   "source": [
    "Looking at the figure above, the main disabilities that are present for disabled workers (aged 25-64yrs) are physical/pain-related. Following physical disabilities, mental health-related disabilities and sensory disabilities (5-senses related) rank near the middle. Lastly, cognitive disabilities and unknown disabilities near the bottom of the rankings. "
   ]
  },
  {
   "cell_type": "markdown",
   "metadata": {},
   "source": [
    "### Reflection Questions:\n",
    "\n",
    "1. Can you think of any benefits or pitfalls in categorizing disabilities by type?\n",
    "   \n",
    "2. Are you surprised by any of the results in the data visualization and why?"
   ]
  },
  {
   "cell_type": "markdown",
   "metadata": {},
   "source": [
    "## Geographic Distribution"
   ]
  },
  {
   "cell_type": "markdown",
   "metadata": {},
   "source": [
    "Now that we've gotten a better sense of the relative numbers of the different *types* of disabilities within Canada we can begin to explore a different topic, location.\n",
    "\n",
    "From viewing our dataframe earlier after cleaning, we see that **by_pop** displays the total number of people within a particular city and province who are disabled/not disabled. We can utilize this column `Number` by finding which cities have a larger percentage of disabled individuals versus cities that have a lesser percentage of disabled individuals."
   ]
  },
  {
   "cell_type": "code",
   "execution_count": null,
   "metadata": {},
   "outputs": [],
   "source": [
    "filtered_df_with= by_pop.loc[(by_pop['Percent'] != 100) & (by_pop['Disability'] == 'Persons with disabilities')]\n",
    "filtered_df_without= by_pop.loc[(by_pop['Percent'] != 100) & (by_pop['Disability'] == 'Persons without disabilities')]\n",
    "\n",
    "maximum_with = filtered_df_with[filtered_df_with.Percent == filtered_df_with.Percent.max()].reset_index(drop=True)\n",
    "maximum_without = filtered_df_without[filtered_df_without.Percent == filtered_df_without.Percent.max()].reset_index(drop=True)\n",
    "minimum_without = filtered_df_without[filtered_df_without.Percent == filtered_df_without.Percent.min()].reset_index(drop=True)\n",
    "minimum_with = filtered_df_with[filtered_df_with.Percent == filtered_df_with.Percent.min()].reset_index(drop=True)\n",
    "\n",
    "print(\"Highest Percent of Population with Disabilities: \")\n",
    "display(maximum_with)\n",
    "\n",
    "print(\"Lowest Percent of Population with Disabilities: \")\n",
    "display(minimum_with)"
   ]
  },
  {
   "cell_type": "markdown",
   "metadata": {},
   "source": [
    "It appears that that *Belleville, Ontario* has the highest percentage of individuals who are disabled, at a staggering 43.5% and *Trois-Rivières, Quebec* has the lowest percentage of individuals who are disabled at 12.0%. "
   ]
  },
  {
   "cell_type": "markdown",
   "metadata": {},
   "source": [
    "We can also look at all provinces and cities on a larger scale by visualizing our data in a treemap. A treemap is particularly useful in this scenario as we have display hierarchial data in a tree-like structure. As a result, we can visualize the origins of the provinces certain cities come from. \n",
    "\n",
    "Note: Data with smaller numbers can be harder to visualize, as a result, information regarding the city can be emphasized by *hovering* and/or *clicking over* a particular city."
   ]
  },
  {
   "cell_type": "code",
   "execution_count": null,
   "metadata": {},
   "outputs": [],
   "source": [
    "filtered_by_pop = by_pop[~by_pop['Disability'].str.contains('Total population, with and without disabilities')]\n",
    "provinces = px.treemap(filtered_by_pop, path=[px.Constant(\"Canada\"), 'Province', 'City', 'Disability'], values='Number')\n",
    "provinces.update_traces(root_color=\"lightgrey\")\n",
    "provinces.update_layout(margin = dict(t=50, l=35, r=35, b=35))\n",
    "provinces.show()"
   ]
  },
  {
   "cell_type": "markdown",
   "metadata": {},
   "source": [
    "Upon examination, it appears Toronto has the largest overall population in Canada of persons without/with disabilities which makes sense since Toronto is Canada’s largest population centre. Looking to our local level in Alberta, the major cities of Calgary and Edmonton have similar overall numbers for persons with disabilities at 210,000 and 241,000 persons, respectively, however the ratio of persons without to with disabilities is reportedly higher in Calgary (4.27:1) compared with Edmonton (3.35:1)."
   ]
  },
  {
   "cell_type": "markdown",
   "metadata": {},
   "source": [
    "### Reflection Questions:\n",
    "\n",
    "1. What factors might contribute to the varying ratios of persons without or with disabilities across different geographic regions in Canada? Can you think of any geographic, economic, or social influences that might contribute to these differences? \n",
    "\n",
    "2. Are you surprised by any of the results in the data visualization and why?"
   ]
  },
  {
   "cell_type": "markdown",
   "metadata": {},
   "source": [
    "## Employment Status\n",
    "\n",
    "We can explore further by examining the employment dataset which contains additional variables such as employment status, age group and gender. An important thing to consider in this particular visualization is that for disabled persons we start by ignoring any differences between mild and severe disabilities and grouping them together prior to calculating the mean employment percentage."
   ]
  },
  {
   "cell_type": "code",
   "execution_count": null,
   "metadata": {},
   "outputs": [],
   "source": [
    "# Group the DataFrame by Age Group and Disabilities and calculate the mean of Employment Percent\n",
    "grouped_df = employment.groupby(['Age Group', 'Disabilities', 'Gender'])['Employment Percent'].mean().reset_index()\n",
    "\n",
    "with_disabilities = grouped_df.loc[grouped_df['Disabilities'] == 1]\n",
    "without_disabilities = grouped_df.loc[grouped_df['Disabilities'] == 0]\n",
    "\n",
    "with_disabilities_fig = px.bar(with_disabilities, x='Age Group', y='Employment Percent', color='Gender', barmode='group', title='Mean Employment Percent by Age Group and Gender of Disabled People').show()\n",
    "without_disabilities_fig = px.bar(without_disabilities, x='Age Group', y='Employment Percent', color='Gender', barmode='group', title='Mean Employment Percent by Age Group and Gender of Non-Disabled People').show()"
   ]
  },
  {
   "cell_type": "markdown",
   "metadata": {},
   "source": [
    "The profiles of mean employment percentage across age groups and gender are similar in both visualizations, however, for non-disabled persons the mean employment percentage is higher in all cases including a 22.2% difference for males in the 35 - 44 years age group.\n",
    "\n",
    "Although the 2017 Canadian Survey on Disability (CSD) does not examine the reasons for these employment differences, students may explore this topic further by examining primary research literature in this area. For example, a [2011 paper by Kay et al.](https://www.ncbi.nlm.nih.gov/pmc/articles/PMC3217147/) examined reasons for employers not hiring people with disabilities, which included:\n",
    "1. Cost of providing reasonable accommodations;\n",
    "2. Handling the needs of a worker; and\n",
    "3. Inability to address discipline.\n",
    "\n",
    "Ideally, students should also consider the perspectives of both employers and disabled workers on this topic to better understand the labour force in Canada. By taking into account multiple perspectives, we can continue to foster education, awareness, and an inclusive culture to create a diverse and equitable workforce."
   ]
  },
  {
   "cell_type": "markdown",
   "metadata": {},
   "source": [
    "Next, we can visualize mean employment percentage based on the severity of disability (Milder or Severe) grouping. In this particular visualization we aggregate mean employment percentage for all age groups to look at the impact of severity of disability."
   ]
  },
  {
   "cell_type": "code",
   "execution_count": null,
   "metadata": {},
   "outputs": [],
   "source": [
    "# Calculate the mean employment percentage for each group\n",
    "no_disabilities_mean = employment.loc[employment['Disabilities'] == 0, 'Employment Percent'].mean()\n",
    "milder_disabilities_mean = employment.loc[employment['Milder'] == 1, 'Employment Percent'].mean()\n",
    "severe_disabilities_mean = employment.loc[employment['Severe'] == 1, 'Employment Percent'].mean()\n",
    "\n",
    "data = {\n",
    "    'Disabilities': ['No Disabilities', 'Milder Disabilities', 'Severe Disabilities'],\n",
    "    'Mean Employment Percent': [no_disabilities_mean, milder_disabilities_mean, severe_disabilities_mean]\n",
    "}\n",
    "df = pd.DataFrame(data)\n",
    "\n",
    "mean_fig_total = go.Figure(data=go.Bar(\n",
    "    x=df['Disabilities'],\n",
    "    y=df['Mean Employment Percent'],\n",
    "    marker=dict(color=['rgb(31,119,180)', 'rgb(255,127,14)', 'rgb(44,160,44)'])\n",
    "))\n",
    "\n",
    "mean_fig_total.update_layout(\n",
    "    xaxis=dict(title='Disabilities'),\n",
    "    yaxis=dict(title='Mean Employment Percent'),\n",
    "    title='Mean Employment Percent by Disabilities'\n",
    ").show()"
   ]
  },
  {
   "cell_type": "markdown",
   "metadata": {},
   "source": [
    "Individuals without disabilities have the highest mean employment percentage (78.1%) followed by those with milder disabilities (73.6%) and severe disabilities (44.2%). These results highlight the significant challenges faced by persons with severe disabilities to gain employment in Canada. These individuals often encounter substantial barriers to entry due to the severity of their impairments, which can result in limited access to suitable jobs. \n",
    "\n",
    "Overall, this notebook highlights the number of persons with disabilities in Canada, their distribution and the employment challenges they face.  "
   ]
  },
  {
   "cell_type": "markdown",
   "metadata": {},
   "source": [
    "### Reflection Questions\n",
    "\n",
    "1. Are you surprised by the differences in mean employment percentage between persons without and with disabilities across age groups or by disability severity?\n",
    "\n",
    "2. Now that you have gone through this notebook, what actions or next steps are you interested in taking with this information?"
   ]
  },
  {
   "cell_type": "markdown",
   "metadata": {},
   "source": [
    "# Communicate\n",
    "\n",
    "Below are some writing prompts to help you reflect on the new information that is presented from the data. When we look at the evidence, think about what you perceive about the information. Is this perception based on what the evidence shows? If others were to view it, what perceptions might they have?\n",
    "\n",
    "- I used to think ____________________but now I know____________________. \n",
    "- I wish I knew more about ____________________. \n",
    "- This visualization reminds me of ____________________. \n",
    "- I really like ____________________."
   ]
  },
  {
   "cell_type": "markdown",
   "metadata": {},
   "source": [
    "[![Callysto.ca License](https://github.com/callysto/curriculum-notebooks/blob/master/callysto-notebook-banner-bottom.jpg?raw=true)](https://github.com/callysto/curriculum-notebooks/blob/master/LICENSE.md)"
   ]
  }
 ],
 "metadata": {
  "kernelspec": {
   "display_name": "Python 3 (ipykernel)",
   "language": "python",
   "name": "python3"
  },
  "language_info": {
   "codemirror_mode": {
    "name": "ipython",
    "version": 3
   },
   "file_extension": ".py",
   "mimetype": "text/x-python",
   "name": "python",
   "nbconvert_exporter": "python",
   "pygments_lexer": "ipython3",
   "version": "3.11.3"
  }
 },
 "nbformat": 4,
 "nbformat_minor": 4
}
