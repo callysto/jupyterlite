{
 "cells": [
  {
   "attachments": {},
   "cell_type": "markdown",
   "metadata": {
    "id": "AGLgaiReEn66"
   },
   "source": [
    "![Callysto.ca Banner](https://github.com/callysto/curriculum-notebooks/blob/master/callysto-notebook-banner-top.jpg?raw=true)\n",
    "\n",
    "<a href=\"https://hub.callysto.ca/jupyter/hub/user-redirect/git-pull?repo=https%3A%2F%2Fgithub.com%2Fcallysto%2Fdata-viz-of-the-week&branch=main&subPath=line-graph-holiday-lights/line-graph-holiday-lights.ipynb&depth=1\" target=\"_parent\"><img src=\"https://raw.githubusercontent.com/callysto/curriculum-notebooks/master/open-in-callysto-button.svg?sanitize=true\" width=\"123\" height=\"24\" alt=\"Open in Callysto\"/></a>"
   ]
  },
  {
   "cell_type": "markdown",
   "metadata": {
    "id": "zbIVdtf7En7A"
   },
   "source": [
    "# Callysto’s Weekly Data Visualization\n",
    "\n",
    "## Weekly Title\n",
    "\n",
    "### Recommended grade level: 6-12"
   ]
  },
  {
   "cell_type": "markdown",
   "metadata": {
    "id": "eFcAjahJEn7B"
   },
   "source": [
    "### Instructions:\n",
    "\n",
    "#### Step 1 (your only step): “Run” the cells to see the graphs\n",
    "\n",
    "Click “Cell” and select “Run All.” This will import the data and run all the code so you can see this week's data visualization (scroll to the top after you’ve run the cells). **You don’t need to do any coding**."
   ]
  },
  {
   "cell_type": "markdown",
   "metadata": {
    "id": "vBXLa7dkEn7B"
   },
   "source": [
    "### About The Notebook:\n",
    "\n",
    "Callysto's Weekly Data Visualization is a learning resource that helps Grades 5-12 teachers and students grow and develop data literacy skills. We do this by providing a data visualization, like a graph, and asking teachers and students to interpret it. This companion resource walks learners through how the data visualization is created and interpreted using the data science process. The steps of this process are listed below and applied to each weekly topic.\n",
    "\n",
    "1. Question - What are we trying to answer? \n",
    "2. Gather - Find the data source(s) you will need. \n",
    "3. Organize - Arrange the data so that you can easily explore it. \n",
    "4. Explore - Examine the data to look for evidence to answer our question. This includes creating visualizations. \n",
    "5. Interpret - Explain how the evidence answers our question. \n",
    "6. Communicate - Reflect on the interpretation. "
   ]
  },
  {
   "cell_type": "markdown",
   "metadata": {
    "id": "gOwOQQ0TEn7B"
   },
   "source": [
    "## 1. Question\n",
    " \n",
    "**How common is the use of decorative LED lights during the holidays?**\n",
    " \n",
    "Light Emitting Diode (LED) lights are recognized as being [more energy efficient](https://www.nrcan.gc.ca/energy/products/reference/15476) than incandescent bulbs because they emit less heat. This can make LEDs preferrable for household lighting. However, how common do you think it is for households to use LED holiday lights?"
   ]
  },
  {
   "cell_type": "markdown",
   "metadata": {
    "id": "ZELQf1t8En7C"
   },
   "source": [
    "## 2. Gather\n",
    "\n",
    "The code below will import the Python programming libraries we need to gather and organize the data to answer our question."
   ]
  },
  {
   "cell_type": "code",
   "execution_count": null,
   "metadata": {
    "id": "X4fRsd0HEn7C"
   },
   "outputs": [],
   "source": [
    "%pip install -q pyodide_http plotly nbformat\n",
    "import pyodide_http\n",
    "pyodide_http.patch_all()\n",
    "import os\n",
    "import pandas as pd\n",
    "import plotly.express as px"
   ]
  },
  {
   "cell_type": "markdown",
   "metadata": {
    "id": "Y9R4VLbKEn7C"
   },
   "source": [
    "This code will read in a comma separated values (csv) file containing Statistics Canada (Stats Can) [data](https://www150.statcan.gc.ca/t1/tbl1/en/tv.action?pid=3810004801) about the use of holiday LEDs. This data was found as part of the [Christmas...by the numbers](https://www.statcan.gc.ca/eng/dai/smr08/2017/smr08_222_2017) data collection by Stats Can."
   ]
  },
  {
   "cell_type": "code",
   "execution_count": null,
   "metadata": {
    "id": "WKcxykuOEn7D"
   },
   "outputs": [],
   "source": [
    "light_path = os.path.join('datasets', 'light_data.csv')\n",
    "#read the csv file in and save it as a pandas dataframe\n",
    "df = pd.read_csv(light_path)"
   ]
  },
  {
   "cell_type": "markdown",
   "metadata": {
    "id": "mzdSJ2MTEn7D"
   },
   "source": [
    "This final code cell in the \"gather\" section will let us take a final look at our data."
   ]
  },
  {
   "cell_type": "code",
   "execution_count": null,
   "metadata": {
    "id": "WaA2bso5En7D"
   },
   "outputs": [],
   "source": [
    "#display the column names and first few rows of data\n",
    "print(df.columns)\n",
    "display(df.head())"
   ]
  },
  {
   "cell_type": "markdown",
   "metadata": {
    "id": "YcsMb5ZFEn7D"
   },
   "source": [
    "## 3. Organize\n",
    " \n",
    "The code below will cleanly arrange the data so that we can analyze it. This is a quality control step for our data and involves examining the data to detect anything odd (e.g. structure, missing values) – from there, we fix the oddities and then check if our fixes worked.\n",
    " \n",
    "Our first issue with this notebook is that it has more columns than we need. Our next code cell below selects the three columns, `REF_DATE` (the year), `GEO` (the geographic area) and `VALUE` (percentage of households in the year and geographic location that use holiday LED lights)."
   ]
  },
  {
   "cell_type": "code",
   "execution_count": null,
   "metadata": {
    "id": "2v7LJzknEn7E"
   },
   "outputs": [],
   "source": [
    "#remove all but the specified columns:\n",
    "df = df[['REF_DATE', 'GEO', 'VALUE']]\n",
    "# print the dataset:\n",
    "df"
   ]
  },
  {
   "cell_type": "markdown",
   "metadata": {
    "id": "V4WOfFEHEn7E"
   },
   "source": [
    "Our next and final step will be renaming our columns so they are more descriptive."
   ]
  },
  {
   "cell_type": "code",
   "execution_count": null,
   "metadata": {
    "id": "3EBPiyyNEn7E"
   },
   "outputs": [],
   "source": [
    "#rename the columns:\n",
    "df.columns=['year', 'area', '% households using holiday LEDs']\n",
    "# print the first few rows of the dataset:\n",
    "df.head()"
   ]
  },
  {
   "cell_type": "markdown",
   "metadata": {
    "id": "X8TT13DNEn7E"
   },
   "source": [
    "## 4. Explore\n",
    "\n",
    "The code below will help us look for evidence to answer our question. This can involve looking at data in table format, applying math and statistics, and creating different types of visualizations to represent our data.\n",
    "First we will reshape our dataframe into a more readable form. We will reshape our current dataframe called `df` to create a new one called `df_small`. `df_small` will have one row for each province and one column for each year. `df_small` is a more readable table. We need `df` to help us create our plots."
   ]
  },
  {
   "cell_type": "code",
   "execution_count": null,
   "metadata": {
    "id": "9ElXf7sdEn7F"
   },
   "outputs": [],
   "source": [
    "df_small = df.pivot(index='area', columns='year', values='% households using holiday LEDs').reset_index()\n",
    "df_small.columns.name = \"\"\n",
    "df_small"
   ]
  },
  {
   "cell_type": "markdown",
   "metadata": {
    "id": "MaDX3obQEn7F"
   },
   "source": [
    "Next we will plot our 4 data points for each province in a line graph in order to get a sense of the dataset as a whole."
   ]
  },
  {
   "cell_type": "code",
   "execution_count": null,
   "metadata": {
    "id": "ehAewYhpEn7F"
   },
   "outputs": [],
   "source": [
    "fig = px.line(df[df['area'] != 'Canada'].rename(columns={'area': 'Province'}), \n",
    "              y='% households using holiday LEDs', \n",
    "              x='year', color='Province', \n",
    "              title='Use of LED lights during the holidays')\n",
    "fig.update_traces(mode='lines+markers')\n",
    "fig.show()"
   ]
  },
  {
   "cell_type": "markdown",
   "metadata": {},
   "source": [
    "Click on a province name on the above plot's legend to remove it from the graph. Additionally, you can hover over a datapoint to see more information. "
   ]
  },
  {
   "cell_type": "markdown",
   "metadata": {
    "id": "araZFWq2En7F"
   },
   "source": [
    "## 5. Interpret\n",
    "\n",
    "Below we will discuss the results of the data exploration. Here are some questions to think about, to help you interpret what you see.\n",
    "\n",
    "- Where did the data come from? \n",
    "- How was the data gathered? \n",
    "- Describe what’s happening in the data visualization (graph). What do you notice (e.g. big or small values, or trends)? \n",
    "- How does the information we see answer our question?\n",
    "\n",
    "Looking at the table and plot generated in step 4, we see that between 2011 and 2017 the use of holiday LED lights tended to increase, but not in every province. We also see that most provinces had a drop between 2015 and 2017.\n",
    "\n",
    "Over this time period the province with the greatest uptake in LED lights was Alberta. Alberta went from 29% to 42% use. That's a positive difference of 13%. The province with the lowest uptake was Nova Scotia. Nova Scotia went from 45% to 37%. That's a negative difference of 8%."
   ]
  },
  {
   "cell_type": "markdown",
   "metadata": {
    "id": "vAys2LXkEn7F"
   },
   "source": [
    "## 6. Communicate\n",
    "\n",
    "Below we will reflect on the new information that is presented from the data. When we look at the evidence, think about what you perceive about the information. Is this perception based on what the evidence shows? If others were to view it, what perceptions might they have? These writing prompts can help you reflect.\n",
    "\n",
    "- I used to think ____________________ but now I know ____________________. \n",
    "- I wish I knew more about ____________________. \n",
    "- This visualization reminds me of ____________________. \n",
    "- I really like ____________________.\n",
    "- Why do you think Alberta had such an increase in the use of LED lights?\n",
    "- Why do you think the use of LED lights in Nova Scotia decreased so much?"
   ]
  },
  {
   "cell_type": "markdown",
   "metadata": {
    "id": "Main9ZcgEn7G"
   },
   "source": [
    "[![Callysto.ca License](https://github.com/callysto/curriculum-notebooks/blob/master/callysto-notebook-banner-bottom.jpg?raw=true)](https://github.com/callysto/curriculum-notebooks/blob/master/LICENSE.md)"
   ]
  }
 ],
 "metadata": {
  "colab": {
   "name": "line-graph-holiday-lights.ipynb",
   "provenance": []
  },
  "kernelspec": {
   "display_name": "Python 3",
   "language": "python",
   "name": "python3"
  },
  "language_info": {
   "codemirror_mode": {
    "name": "ipython",
    "version": 3
   },
   "file_extension": ".py",
   "mimetype": "text/x-python",
   "name": "python",
   "nbconvert_exporter": "python",
   "pygments_lexer": "ipython3",
   "version": "3.9.13"
  }
 },
 "nbformat": 4,
 "nbformat_minor": 1
}
