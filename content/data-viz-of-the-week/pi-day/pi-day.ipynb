{
 "cells": [
  {
   "attachments": {},
   "cell_type": "markdown",
   "metadata": {},
   "source": [
    "![Callysto.ca Banner](https://github.com/callysto/curriculum-notebooks/blob/master/callysto-notebook-banner-top.jpg?raw=true)\n",
    "\n",
    "<a href=\"https://hub.callysto.ca/jupyter/hub/user-redirect/git-pull?repo=https%3A%2F%2Fgithub.com%2Fcallysto%2Fcurriculum-notebooks&branch=master&subPath=Mathematics/PiDay/pi-day.ipynb&depth=1\" target=\"_parent\"><img src=\"https://raw.githubusercontent.com/callysto/curriculum-notebooks/master/open-in-callysto-button.svg?sanitize=true\" width=\"123\" height=\"24\" alt=\"Open in Callysto\"/></a>"
   ]
  },
  {
   "attachments": {},
   "cell_type": "markdown",
   "metadata": {},
   "source": [
    "<center><img src=\"https://github.com/callysto/curriculum-notebooks/raw/master/Mathematics/PiDay/images/pi.png\" width=\"200\"/>\n",
    "\n",
    "<font size=\"20\" color=\"Purple\">π Happy Pi Day! π</font></center>"
   ]
  },
  {
   "attachments": {},
   "cell_type": "markdown",
   "metadata": {},
   "source": [
    "## Some Pi Facts\n",
    "\n",
    "Pi is represented mathematically as the symbol $\\pi$ and is **the circumference  divided by the diameter  of a circle**.  \n",
    "\n",
    "<img src=\"https://github.com/callysto/curriculum-notebooks/raw/master/Mathematics/PiDay/images/pi_calculation.png\" width=\"400\"/>  <center>[Source](https://www.mathsisfun.com/numbers/pi.html)</center>\n",
    "\n",
    "\n",
    "The symbol for Pi ($\\pi$)  was introduced by **[William Jones](https://www.historytoday.com/archive/william-jones-and-his-circle-man-who-invented-pi)** in 1706. Before being ascribed a modern name, Pi was known as \"quantitas in quam cum multiflicetur diameter, proveniet circumferencia\" — Latin for “the quantity which, when the diameter is multiplied by it, yields the circumference.”\n",
    "\n",
    "Pi is an irrational number - **its digits never end or repeat in any known way**. \n",
    "\n",
    "\n",
    "It's believed that human civilizations were aware of Pi [as early as 2550 BC](https://www.pcworld.com/article/191389/a-brief-history-of-pi.html)."
   ]
  },
  {
   "attachments": {},
   "cell_type": "markdown",
   "metadata": {},
   "source": [
    "## Why Do We Celebrate [Pi Day](https://www.exploratorium.edu/pi/pi-day-history)?\n",
    "\n",
    "<img src=\"https://github.com/callysto/curriculum-notebooks/raw/master/Mathematics/PiDay/images/PiDay.jpeg\"/>  <center>[Source](https://www.exploratorium.edu/pi/pi-day-history)</center>\n",
    "\n",
    "March 14 is Community Pi (π) Day, the annual celebration of a never-ending number—which also happens to be Albert Einstein’s birthday. How did Pi inspire a national holiday and an international celebration thousands of years after its discovery? It all started at San Francisco’s Exploratorium with former staff physicist, tinkerer, and media specialist Larry Shaw in 1988."
   ]
  },
  {
   "attachments": {},
   "cell_type": "markdown",
   "metadata": {},
   "source": [
    "## Interactive Pi Fun!\n",
    "\n",
    "Select the code cell below, then click the `▶Run` button in the toolbar to run this interactive Pi memory test."
   ]
  },
  {
   "cell_type": "code",
   "execution_count": null,
   "metadata": {},
   "outputs": [],
   "source": [
    "%pip install -q pyodide_http plotly nbformat ipywidgets\n",
    "import pyodide_http\n",
    "pyodide_http.patch_all()\n",
    "import ipywidgets as widgets\n",
    "import IPython\n",
    "from IPython.display import display, Markdown, Latex, Math, HTML, clear_output, Javascript\n",
    "\n",
    "%run -i scripts/pi-digits.py"
   ]
  },
  {
   "attachments": {},
   "cell_type": "markdown",
   "metadata": {},
   "source": [
    "According to the [Guiness World Records](http://www.guinnessworldrecords.com/world-records/most-pi-places-memorised), \n",
    "the most decimal places of Pi memorised is `70,000`! 😍😍😍\n",
    ">This was achieved by Rajveer Meena at VIT University, in Vellore, India, on 21 March 2015. Rajveer wore a blindfold throughout the entire recall, which took nearly 10 hours.\n",
    "\n",
    "<img src=\"https://github.com/callysto/curriculum-notebooks/raw/master/Mathematics/PiDay/images/rajveer.png\" width=\"500\"/>  <center>[Source](http://www.guinnessworldrecords.com/world-records/most-pi-places-memorised)</center>\n"
   ]
  },
  {
   "attachments": {},
   "cell_type": "markdown",
   "metadata": {},
   "source": [
    "#### [The Pilish Language](http://www.cadaeic.net/pilish.htm)\n",
    "\n",
    "<img style=\"float: right;\" src=\"https://github.com/callysto/curriculum-notebooks/raw/master/Mathematics/PiDay/images/not_a_wake.png\" width=\"150\"/>\n",
    "\n",
    "Pilish is a language in which the number of letters of each successive word represent the digits of Pi (3.14159265358979...) \n",
    "\n",
    "One of the earliest example is the following sentence, believed to have been composed by the English physicist Sir James Jeans:\n",
    "\n",
    ">**How I need a drink, alcoholic in nature, after the heavy lectures involving quantum mechanics!**\n",
    "\n",
    "The most recent example is the [book by Mike Keith \"Not A Wake\"](https://www.amazon.ca/dp/B0077QIOE4) (Vinculum Press, 2010):\n",
    "\n",
    "> **Now I fall, a tired suburbian in liquid under the trees,   \n",
    "> Drifting alongside forests simmering red in the twilight over Europe.**\n",
    "\n",
    "`▶Run` the following code cell to display an interactive Pilish writing checker."
   ]
  },
  {
   "cell_type": "code",
   "execution_count": null,
   "metadata": {},
   "outputs": [],
   "source": [
    "import re\n",
    "\n",
    "%run -i scripts/Pilish.py"
   ]
  },
  {
   "attachments": {},
   "cell_type": "markdown",
   "metadata": {},
   "source": [
    "#### Calculating Pi with Darts\n",
    "\n",
    "`▶Run` the following code cell to display a video about this."
   ]
  },
  {
   "cell_type": "code",
   "execution_count": null,
   "metadata": {},
   "outputs": [],
   "source": [
    "from IPython.display import IFrame\n",
    "video_id = 'M34TO71SKGk'\n",
    "video_url = f'https://www.youtube.com/embed/{video_id}'\n",
    "IFrame(video_url, width=560, height=315)"
   ]
  },
  {
   "attachments": {},
   "cell_type": "markdown",
   "metadata": {},
   "source": [
    "**Throwing Darts at a Target (Dart Board) Explainer**:  \n",
    "\n",
    "- The square that surrounds the dart board has sides of 1 unit in length and the circle (dart board) inside of the square has a diameter of 1 unit.  \n",
    "\n",
    "- The number of darts that land in the circle divided by the number of darts in the entire square should be proportional to the area of the circle divided by the area of the square:\n",
    "\n",
    "$$\\frac{n \\mspace{3mu} circle}{n \\mspace{3mu} square}\\propto\\frac{A \\mspace{3mu} circle}{A \\mspace{3mu} square}$$\n",
    "\n",
    "- The area of the square is 1 (length = 1), and area of the circle is $\\pi\\times r^{2}$, where $r$ (radius) is 0.5:\n",
    "\n",
    "$$\\frac{n \\mspace{3mu} circle}{n \\mspace{3mu} square}\\propto\\pi\\times r^{2}=\\pi\\times 0.5^{2}=\\frac{\\pi}{4}$$\n",
    "\n",
    "- So we can get Pi by multiplying both parts by 4:\n",
    "\n",
    "$$\\pi\\approx\\frac{n \\mspace{3mu} circle}{n \\mspace{3mu} square}\\times4$$\n",
    "\n",
    "**Try it yourself!**\n",
    "\n",
    "`▶Run` the code cell to plot random darts and calculate an approximation of π. You can change the value of `number_of_darts` to see what effect that has."
   ]
  },
  {
   "cell_type": "code",
   "execution_count": null,
   "metadata": {},
   "outputs": [],
   "source": [
    "number_of_darts = 1000\n",
    "\n",
    "import matplotlib.pyplot as plt\n",
    "%matplotlib inline\n",
    "import random\n",
    "\n",
    "%run -i scripts/dart.py"
   ]
  },
  {
   "attachments": {},
   "cell_type": "markdown",
   "metadata": {},
   "source": [
    "The next cell creates a visualization of the estimated value of pi as a function of the number of darts thrown."
   ]
  },
  {
   "cell_type": "code",
   "execution_count": null,
   "metadata": {},
   "outputs": [],
   "source": [
    "def pi_estimate(number_of_darts):\n",
    "    x_inside=[]\n",
    "    y_inside=[]\n",
    "    x_outside=[]\n",
    "    y_outside=[]\n",
    "    for i in range(number_of_darts):\n",
    "        x=random.random()\n",
    "        y=random.random()\n",
    "        if (x-circle_centerx)**2+(y-circle_centery)**2<circle_radius**2:\n",
    "            x_inside.append(x)\n",
    "            y_inside.append(y)\n",
    "        else:\n",
    "            x_outside.append(x)\n",
    "            y_outside.append(y)\n",
    "    return len(x_inside)*4/number_of_darts\n",
    "\n",
    "pi_estimates = []\n",
    "darts_thrown = []\n",
    "min_darts = 100\n",
    "max_darts = 10000\n",
    "step_size = 10\n",
    "\n",
    "for i in range(min_darts, max_darts, step_size):\n",
    "    darts_thrown.append(i)\n",
    "    estimate = pi_estimate(i)\n",
    "    pi_estimates.append(estimate)\n",
    "\n",
    "import matplotlib.pyplot as plt\n",
    "import numpy as np\n",
    "   \n",
    "print(len(x_inside)*4/number_of_darts)\n",
    "\n",
    "fig, ax = plt.subplots()\n",
    "ax.plot(darts_thrown, pi_estimates, color=\"red\")\n",
    "ax.hlines(y=np.pi, xmin=1, xmax=max_darts)\n",
    "ax.set_ylabel(r\"Estimated value of $\\pi$\")\n",
    "ax.set_ylim([3.0, 3.3])\n",
    "ax.set_xlabel(\"Number of darts thrown\")\n",
    "ax.grid(True)"
   ]
  },
  {
   "attachments": {},
   "cell_type": "markdown",
   "metadata": {},
   "source": [
    "We can also create an interactive visualization where the slider adjusts the number of darts thrown."
   ]
  },
  {
   "cell_type": "code",
   "execution_count": null,
   "metadata": {},
   "outputs": [],
   "source": [
    "import ipywidgets as widgets\n",
    "import plotly.graph_objects as go\n",
    "import random\n",
    "import math\n",
    "\n",
    "darts = widgets.IntSlider(value=1000, min=100, max=10000, step=100, description='Darts')\n",
    "fig1 = go.FigureWidget()\n",
    "fig1.add_scatter(mode='markers')\n",
    "fig1.add_shape(type=\"circle\",\n",
    "               xref=\"x\", yref=\"y\",\n",
    "               x0=0, y0=0, x1=1, y1=1,\n",
    "               line_color='Red',\n",
    "               fillcolor='Red',\n",
    "               opacity=0.4)\n",
    "fig1.update_layout(yaxis_range=[0,1],\n",
    "                  xaxis_range=[0,1],\n",
    "                   height=600,\n",
    "                   width=600,\n",
    "                  title=f'Visualization of pi')\n",
    "fig1.update_yaxes(scaleanchor='x', scaleratio=1)\n",
    "\n",
    "def response(change):\n",
    "    x = []\n",
    "    y = []\n",
    "    d = []\n",
    "    with fig1.batch_update():\n",
    "        x = [random.random() for num in range(darts.value)]\n",
    "        y = [random.random() for num in range(darts.value)]\n",
    "        \n",
    "        # the problem code. Trying to calculate Euclidean distance from center (0.5, 0.5) to sets of x-y coords\n",
    "        for b in zip(x,y):\n",
    "            d.append(math.dist([0.5,0.5], list(b)))\n",
    "        count = 0\n",
    "        for j in d:\n",
    "            if j <= 0.5:\n",
    "                count += 1\n",
    "        fig1.update_layout(title=f'Estimation of pi (darts inside circle (x4) / all darts): {count*4/darts.value}')\n",
    "        fig1.data[0].x = x\n",
    "        fig1.data[0].y = y\n",
    "        \n",
    "darts.observe(response, names=\"value\")\n",
    "response('')\n",
    "\n",
    "widgets.VBox([fig1, darts])\n",
    "# fig1.write_html('pi-viz.html')"
   ]
  },
  {
   "attachments": {},
   "cell_type": "markdown",
   "metadata": {},
   "source": [
    "#### [Calculating Pi ](http://www.mathscareers.org.uk/article/calculating-pi/)\n",
    "\n",
    "There are exact formulas for calculating Pi. But, using these formulas requires you to do something an **infinite** number of times.\n",
    "\n",
    "One of the most well known ways to calculate Pi is to use the **Gregory-Leibniz Series**:\n",
    "\n",
    "$$\\pi=\\frac{4}{1}-\\frac{4}{3}+\\frac{4}{5}-\\frac{4}{7}+\\frac{4}{9}-...$$\n",
    "\n",
    "The problem with this series is that you need to add up a lot of terms in order to get an accurate approximation of Pi. (More than 300 terms need to be added in order to produce a value of Pi that is accurate to two decimal places!)\n",
    "\n",
    "Another series which converges more quickly is the **Nilakantha Series** which was developed around 1500 AD (This means that you need to work out fewer terms for your answer to become closer to Pi): \n",
    "\n",
    "$$\\pi=3+\\frac{4}{2\\times3\\times4}-\\frac{4}{4\\times5\\times6}+\\frac{4}{6\\times7\\times8}-\\frac{4}{8\\times9\\times10}+...$$\n",
    "\n",
    "We can compare these two ways of calculating Pi by plotting each series.\n",
    "\n",
    "`▶Run` the code cell to generate the plots."
   ]
  },
  {
   "cell_type": "code",
   "execution_count": null,
   "metadata": {},
   "outputs": [],
   "source": [
    "%run -i scripts/calculate-pi.py"
   ]
  },
  {
   "attachments": {},
   "cell_type": "markdown",
   "metadata": {},
   "source": [
    "We can see that the Gregory-Leibniz Series shows more variablility than the Nilakantha Series, particularly for smaller numbers of elements. However they do start to converge as the number of elements increases."
   ]
  },
  {
   "attachments": {},
   "cell_type": "markdown",
   "metadata": {},
   "source": [
    "We can also check the *frequency* of digits in Pi. Frequency is defined as the *count* of categorized data, but not the data value itself. Do you think certain digits will appear more often, or will there be an equal distribution of digits?"
   ]
  },
  {
   "cell_type": "code",
   "execution_count": null,
   "metadata": {},
   "outputs": [],
   "source": [
    "from mpmath import mp\n",
    "import pandas as pd\n",
    "from plotly.subplots import make_subplots\n",
    "import plotly.graph_objects as go\n",
    "\n",
    "temp = []\n",
    "mp.dps = 10000\n",
    "pi_digits = str(mp.pi)\n",
    "for digit in pi_digits:\n",
    "    temp.append(digit)\n",
    "df = pd.DataFrame(temp, columns=['digit'])\n",
    "df = df.drop(df[df.digit == '.'].index).reset_index(drop=True)\n",
    "\n",
    "vals = ['ten', 'hundred', 'thousand', 'ten-thousand']\n",
    "storage = {}\n",
    "\n",
    "for i in vals:\n",
    "    storage[i] = pd.DataFrame()\n",
    "\n",
    "checker = 10\n",
    "for x in vals:\n",
    "    storage[x] = df['digit'].head(checker).value_counts().reset_index()\n",
    "    storage[x].rename(columns = {'index':'digit', 'digit':'count'}, inplace = True)\n",
    "    checker = checker * 10\n",
    "\n",
    "row = 1\n",
    "col = 1\n",
    "first_iter = False\n",
    "fig = make_subplots(rows=2, cols=2)\n",
    "\n",
    "for index, i in enumerate(vals):\n",
    "    if index == 0:\n",
    "        first_iter = True\n",
    "        fig.append_trace(go.Bar(\n",
    "                x=storage[i]['digit'],\n",
    "                y=storage[i]['count'],\n",
    "                name=f'First {i} digits of Pi',\n",
    "            ), row=row, col=col)\n",
    "    elif index == 1:\n",
    "        first_iter = False\n",
    "        row += 1\n",
    "    elif index == 2:\n",
    "        row -= 1\n",
    "        col += 1\n",
    "    elif index == 3:\n",
    "        row += 1\n",
    "    \n",
    "    if first_iter == False:\n",
    "        fig.append_trace(go.Bar(\n",
    "                x=storage[i]['digit'],\n",
    "                y=storage[i]['count'],\n",
    "                name=f'First {i} digits of Pi',\n",
    "            ), row=row, col=col)\n",
    "\n",
    "fig.update_layout(title_text=\"Digits of Pi\").update_yaxes(title_text=\"Frequency\")\n",
    "fig.update_layout(legend=dict(yanchor=\"top\", y=1.4, xanchor=\"left\", x=0.7))\n",
    "fig.show()"
   ]
  },
  {
   "cell_type": "markdown",
   "metadata": {},
   "source": [
    "As an extension to the concept of frequency, *mode* is the value that has the highest frequency in a given set of data. It's crucial to recognize that the mode can vary depending on the specific context of the data under consideration. \n",
    "\n",
    "For example, for the first ten digits of Pi, the mode is shared between 3, 1, and 5 because these values are tied for having the highest frequency. However, the mode changes to 9 when looking at the first hundred digits of Pi.\n",
    "\n",
    "**Can you find the mode for the first thousand and first ten-thousand digits of Pi?**"
   ]
  },
  {
   "attachments": {},
   "cell_type": "markdown",
   "metadata": {},
   "source": [
    "#### [History of Calculating Pi ](https://www.piday.org/pi-facts/)\n",
    "\n",
    "- In around 250 BC, [Archimedes](http://www.ams.org/publicoutreach/math-history/hap-6-pi.pdf) presented what is thought to be the first rigourous calculation of Pi, using fractions, where $3.1408 < π < 3.14285$.\n",
    "\n",
    "- In 1600, [Ludolph van Ceulen](http://www.mathscareers.org.uk/article/celebrating-pi-day-ludolph-van-ceulen/) produced a **35 digit** approximation of Pi and took 25 years of calculations which were done by hand. Ludolph’s achievement was so great that when he died, his upper and lower bounds for Pi were inscribed on his tombstone. \n",
    "\n",
    "- By 1665, Isaac Newton calculated Pi to **16 decimal places**. \n",
    "\n",
    "- It was in the early 1700s that Thomas Lagney calculated **127 decimal places** of Pi reaching a new record. \n",
    "\n",
    "- In the second half of the twentieth century, the number of digits of Pi increased from about 2000 to **500,000**. \n",
    "\n",
    "- In 2017 a Swiss scientist [Peter Trueb](https://pi2e.ch) computed more than **22 trillion digits** of Pi, which stood as the record until...\n",
    "\n",
    "- In 2019 [Emma Haruka Iwao](https://blog.google/products/google-cloud/most-calculated-digits-pi/) computed Pi to 31,415,926,535,897 digits in 121 days using cloud computing infrastructure.\n",
    "\n",
    "- Then in 2022 [Google Cloud](https://cloud.google.com/blog/products/compute/calculating-100-trillion-digits-of-pi-on-google-cloud) calculated 100 trillion digits of pi.\n",
    "\n",
    "#### More Pi History\n",
    "- [A Brief History of Pi](https://www.pcworld.com/article/191389/a-brief-history-of-pi.html)"
   ]
  },
  {
   "attachments": {},
   "cell_type": "markdown",
   "metadata": {},
   "source": [
    "[![Callysto.ca License](https://github.com/callysto/curriculum-notebooks/blob/master/callysto-notebook-banner-bottom.jpg?raw=true)](https://github.com/callysto/curriculum-notebooks/blob/master/LICENSE.md)"
   ]
  }
 ],
 "metadata": {
  "kernelspec": {
   "display_name": "Python 3 (ipykernel)",
   "language": "python",
   "name": "python3"
  },
  "language_info": {
   "codemirror_mode": {
    "name": "ipython",
    "version": 3
   },
   "file_extension": ".py",
   "mimetype": "text/x-python",
   "name": "python",
   "nbconvert_exporter": "python",
   "pygments_lexer": "ipython3",
   "version": "3.11.3"
  }
 },
 "nbformat": 4,
 "nbformat_minor": 4
}
