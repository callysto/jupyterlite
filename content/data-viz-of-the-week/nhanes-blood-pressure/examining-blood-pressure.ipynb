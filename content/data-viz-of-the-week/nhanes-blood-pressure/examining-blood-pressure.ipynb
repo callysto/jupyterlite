{
 "cells": [
  {
   "attachments": {},
   "cell_type": "markdown",
   "metadata": {},
   "source": [
    "![Callysto.ca Banner](https://github.com/callysto/curriculum-notebooks/blob/master/callysto-notebook-banner-top.jpg?raw=true)\n",
    "\n",
    "<a href=\"https://hub.callysto.ca/jupyter/hub/user-redirect/git-pull?repo=https%3A%2F%2Fgithub.com%2Fcallysto%2Fdata-viz-of-the-week&branch=main&subPath=nhanes-blood-pressure/examining-blood-pressure.ipynb&depth=1\" target=\"_parent\"><img src=\"https://raw.githubusercontent.com/callysto/curriculum-notebooks/master/open-in-callysto-button.svg?sanitize=true\" width=\"123\" height=\"24\" alt=\"Open in Callysto\"/></a>"
   ]
  },
  {
   "cell_type": "markdown",
   "metadata": {},
   "source": [
    "# Callysto’s Weekly Data Visualization\n",
    "\n",
    "## Health Data\n",
    "\n",
    "### Recommended Grade levels: 8-12\n",
    "<br>"
   ]
  },
  {
   "cell_type": "markdown",
   "metadata": {},
   "source": [
    "### Instructions\n",
    "#### “Run” the cells to see the graphs\n",
    "Click “Cell” and select “Run All”.<br> This will import the data and run all the code, so you can see this week's data visualization. Scroll to the top after you’ve run the cells.<br> \n",
    "\n",
    "![instructions](https://github.com/callysto/data-viz-of-the-week/blob/main/images/instructions.png?raw=true)\n",
    "\n",
    "**You don’t need to do any coding to view the visualizations**.\n",
    "The plots generated in this notebook are interactive. You can hover over and click on elements to see more information. \n",
    "\n",
    "Email contact@callysto.ca if you experience issues."
   ]
  },
  {
   "cell_type": "markdown",
   "metadata": {},
   "source": [
    "### About this Notebook\n",
    "\n",
    "Callysto's Weekly Data Visualization is a learning resource that aims to develop data literacy skills. We provide Grades 5-12 teachers and students with a data visualization, like a graph, to interpret. This companion resource walks learners through how the data visualization is created and interpreted by a data scientist. \n",
    "\n",
    "The steps of the data analysis process are listed below and applied to each weekly topic.\n",
    "\n",
    "1. Question - What are we trying to answer? \n",
    "2. Gather - Find the data source(s) you will need. \n",
    "3. Organize - Arrange the data, so that you can easily explore it. \n",
    "4. Explore - Examine the data to look for evidence to answer the question. This includes creating visualizations. \n",
    "5. Interpret - Describe what's happening in the data visualization. \n",
    "6. Communicate - Explain how the evidence answers the question. "
   ]
  },
  {
   "cell_type": "markdown",
   "metadata": {},
   "source": [
    "# Question\n",
    "\n",
    "How do the health measurements in the supplied dataset compare to those in the classroom? This notebook is interactive in that a classroom element can be added by allowing students to collect their own measurements and compare.\n",
    "\n",
    "### Goal\n",
    "Our goal is to investigate an accessible type of data (body measurements) and compare it against at least one other set of the same measurements. \n",
    "\n",
    "- How are the datasets similar? \n",
    "- How are they different? \n",
    "- What could be a cause of the differences?\n",
    "- Is there anything in the data that's surprising or sticks out?\n",
    "\n",
    "The data that we're looking at in particular is taken from several thousand American children and adults. For each person we have height mesurements, systolic and diastolic blood pressure measurements, as well as [resting heart rate](https://www.heartandstroke.ca/heart-disease/what-is-heart-disease/how-a-healthy-heart-works). All measurements were recorded three times.\n",
    "\n",
    "### Blood Pressure\n",
    "\n",
    "Blood pressure is an [important indicator of cardiovascular health](https://www.heartandstroke.ca/heart-disease/risk-and-prevention/condition-risk-factors/high-blood-pressure). The measurement typically consists of two numbers: systolic blood pressure, and diastolic blood pressure. Blood pressure is usually recorded as:\n",
    "\n",
    "$$\n",
    "\\frac{120}{80} mmHg\n",
    "$$\n",
    "\n",
    "where the units are **millimetres of mercury (mmHg)**.\n",
    "\n",
    "The first number, systolic, is the pressure exerted by the heart on the arteries as it contracts and forces blood out of the left ventricle. This number can change quickly and frequently, often as a response to both negative stressors on the body (emotion, illness) or as a natural response to healthy states (exercise, sleep). The **typical healthy systolic blood pressure in adults is ~120 mmHg**, though it's not uncommon to have lower blood pressures in active adults and children. Higher (resting) values of systolic blood pressure are generally a negative sign.\n",
    "\n",
    "Diastolic blood pressure is the second value reported and is more stable than systolic blood pressure. It represents the pressure in the arteries when the heart is between beats. A **typical healthy diastolic blood pressure is ~80 mmHg**, though similar to systolic, it's not unusual to have lower values. As this measurement is more stable, seeing higher values of diastolic blood pressure is more concerning than higher values of systolic.\n",
    "\n",
    "When *either* resting blood pressure value is above a certain number (>135 for systolic, >85 for diastolic), it indicates the presence of a condition called **hypertension**. Hypertension, or just simply high blood pressure, [can put you at risk of several nasty health problems](https://www.heartandstroke.ca/-/media/pdf-files/canada/health-information-catalogue/en-managing-your-blood-pressure.ashx) such as heart attack and stroke. The routine measurement of blood pressure is important to detect hypertension. It's also critical to not make a diagnosis on a single measurement as that value can be abnormally high (or low) on that particular day and may not truly be of concern.\n",
    "\n",
    "### Heart Rate\n",
    "\n",
    "Probably one of the simplest measurements of body function to collect is heart rate. There are [multiple locations on the body that can be used to measure heart rate](https://www.healthline.com/health/how-to-check-heart-rate), but the easiest is the radial artery in the wrist:\n",
    "\n",
    "![Radial HR measurement](img/VHFC0134_How_do_I_measure_my_heart_rate_image1.jpeg)\n",
    "<p>\n",
    "<font size=\"1\"> \n",
    "    https://s32917.pcdn.co/wp-content/uploads/2020/02/VHFC0134_How_do_I_measure_my_heart_rate_image1.jpeg\n",
    "</font>\n",
    "</p>\n",
    "\n",
    "\n",
    "\n",
    "By counting the number of beats that occur in a 15-second time period, and multiplying that number by 4, you can measure your heart rate in **beats per minute (bpm)**.\n",
    "\n",
    "A typical (resting) heart rate in adults is between 60-72 bpm (up to 100 bpm in children), though extremely fit individuals can have a much lower heart rate. Heart rate can be elevated by the same stressors as blood pressure (exercise, emotional state) and can drop considerably during sleep.\n",
    "\n",
    "Though blood pressure requires equipment to properly measure, both heart rate and height can be measured in the classroom. As you learn about visualizing this data, think about collecting your own and see how it compares."
   ]
  },
  {
   "cell_type": "markdown",
   "metadata": {},
   "source": [
    "# Gather\n",
    "\n",
    "### Code:\n",
    "The code below will import the Python programming libraries we need to gather and organize the data to answer our question."
   ]
  },
  {
   "cell_type": "code",
   "execution_count": null,
   "metadata": {},
   "outputs": [],
   "source": [
    "## Import libraries\n",
    "%pip install -q pyodide_http plotly nbformat\n",
    "import pyodide_http\n",
    "pyodide_http.patch_all()\n",
    "import pandas as pd\n",
    "import plotly.express as px\n",
    "import plotly.graph_objs as go"
   ]
  },
  {
   "cell_type": "markdown",
   "metadata": {},
   "source": [
    "### Data:\n",
    "\n",
    "We're going to collect the data from three different sources. The links below are to the files themselves, but to save time they've already been downloaded and are accessed in the next step\n",
    "\n",
    "- [National Health and Nutrition Examination Survey (NHANES) Body Measurement](https://wwwn.cdc.gov/nchs/nhanes/search/datapage.aspx?Component=Examination&Cycle=2017-2020)\n",
    "- [National Health and Nutrition Examination Survey (NHANES) Blood Pressure](https://wwwn.cdc.gov/nchs/nhanes/search/datapage.aspx?Component=Examination&Cycle=2017-2020)\n",
    "- [National Health and Nutrition Examination Survey (NHANES) Demographics](https://wwwn.cdc.gov/nchs/nhanes/search/datapage.aspx?Component=Demographics&Cycle=2017-2020)"
   ]
  },
  {
   "cell_type": "markdown",
   "metadata": {},
   "source": [
    "### Import the data"
   ]
  },
  {
   "cell_type": "code",
   "execution_count": null,
   "metadata": {},
   "outputs": [],
   "source": [
    "# Import data\n",
    "nhanesDataHt = pd.read_sas('https://raw.githubusercontent.com/callysto/data-files/main/data-viz-of-the-week/nhanes-blood-pressure/data/P_BMX.XPT')[['SEQN','BMXHT']]\n",
    "nhanesDataBp = pd.read_sas('https://raw.githubusercontent.com/callysto/data-files/main/data-viz-of-the-week/nhanes-blood-pressure/data/P_BPXO.XPT')[['SEQN', \n",
    "                                                                                                                                           'BPXOSY1', \n",
    "                                                                                                                                           'BPXOSY2', \n",
    "                                                                                                                                           'BPXOSY3', \n",
    "                                                                                                                                           'BPXODI1', \n",
    "                                                                                                                                           'BPXODI2', \n",
    "                                                                                                                                           'BPXODI3', \n",
    "                                                                                                                                           'BPXOPLS1', \n",
    "                                                                                                                                           'BPXOPLS2', \n",
    "                                                                                                                                           'BPXOPLS3']]\n",
    "nhanesDataDem = pd.read_sas('https://raw.githubusercontent.com/callysto/data-files/main/data-viz-of-the-week/nhanes-blood-pressure/data/P_DEMO.XPT')[['SEQN', 'RIAGENDR']]"
   ]
  },
  {
   "cell_type": "markdown",
   "metadata": {},
   "source": [
    "### Comment on the data\n",
    "We have three datasets from the NHANES, one containing data about height, another containing data about blood pressure and heart rate. We also have a third dataset that has information about the sexes of our participants, so we can use that as well to show differences between males and females. \n",
    "\n",
    "The datasets contain far more data than we actually need, so we only selected the columns that we need and discarded the rest. However, the names of the columns aren't very descriptive, so in the next step we can make it easier to handle."
   ]
  },
  {
   "cell_type": "markdown",
   "metadata": {},
   "source": [
    "# Organize\n",
    "\n",
    "Now we will rename our columns, as the coding given to them by the researchers who collected the data isn't very helpful. Thankfully, the researchers also published a 'data dictionary' that helps us convert the codes into something more helpful."
   ]
  },
  {
   "cell_type": "code",
   "execution_count": null,
   "metadata": {},
   "outputs": [],
   "source": [
    "# Data cleaning\n",
    "anthNames = {\n",
    "    'SEQN': 'ID', \n",
    "    'BMXHT': 'Height (cm)'\n",
    "}\n",
    "bpNames = { \n",
    "    'SEQN' : 'ID',\n",
    "    'BPXOSY1' : 'Systolic BP (1st reading)',\n",
    "    'BPXOSY2' : 'Systolic BP (2nd reading)',\n",
    "    'BPXOSY3' : 'Systolic BP (3rd reading)',\n",
    "    'BPXODI1' : 'Diastolic BP (1st reading)',\n",
    "    'BPXODI2' : 'Diastolic BP (2nd reading)',\n",
    "    'BPXODI3' : 'Diastolic BP (3rd reading)',\n",
    "    'BPXOPLS1' : 'Heart rate (1st reading)',\n",
    "    'BPXOPLS2' : 'Heart rate (2nd reading)',\n",
    "    'BPXOPLS3' : 'Heart rate (3rd reading)'\n",
    "}\n",
    "demNames = {\n",
    "    'SEQN': 'ID',\n",
    "    'RIAGENDR': 'Sex'\n",
    "}\n",
    "nhanesDataHt.rename(anthNames, axis=1, inplace=True)\n",
    "nhanesDataBp.rename(bpNames, axis=1, inplace=True)\n",
    "nhanesDataDem.rename(demNames, axis=1, inplace=True)"
   ]
  },
  {
   "cell_type": "code",
   "execution_count": null,
   "metadata": {},
   "outputs": [],
   "source": [
    "# Display the data\n",
    "print('Height data')\n",
    "display(nhanesDataHt)\n",
    "print('Blood pressure and heart rate data')\n",
    "display(nhanesDataBp)\n",
    "print('Demographic data')\n",
    "display(nhanesDataDem)"
   ]
  },
  {
   "cell_type": "markdown",
   "metadata": {},
   "source": [
    "Hey wait a second, what does a sex of '1.0' mean? Or '2.0'? \n",
    "\n",
    "Another quirk of working with data is that computers much prefer numbers to words. Therefore, features that would normally have a text (or 'categorical') response are initially recorded as numbers. We're not computers though, so we can switch the values to something that makes a little more sense to us."
   ]
  },
  {
   "cell_type": "code",
   "execution_count": null,
   "metadata": {},
   "outputs": [],
   "source": [
    "# Replace sex coding\n",
    "nhanesDataDem.replace({1.0: 'Male', 2.0: 'Female'}, inplace=True)\n",
    "display(nhanesDataDem)"
   ]
  },
  {
   "cell_type": "markdown",
   "metadata": {},
   "source": [
    "### Comment on the data\n",
    "\n",
    "We have our datasets prepared and with column names that are descriptive of the data they contain. There's one final step that we need to do though: add the information about sex to the other two datasets. This will allow us to look at the differences between males and females.\n",
    "\n",
    "Joining datasets is extremely common in data science as it's a necessary step anytime you want to compare and contrast two separate datasets."
   ]
  },
  {
   "cell_type": "code",
   "execution_count": null,
   "metadata": {},
   "outputs": [],
   "source": [
    "# Combine datasets\n",
    "nhanesDataHt_comb = pd.merge(nhanesDataHt, \n",
    "                        nhanesDataDem, \n",
    "                        how='inner', \n",
    "                        on='ID')\n",
    "nhanesDataBp_comb = pd.merge(nhanesDataBp, \n",
    "                        nhanesDataDem, \n",
    "                        how='inner', \n",
    "                        on='ID')\n",
    "display(nhanesDataHt_comb)\n",
    "display(nhanesDataBp_comb)"
   ]
  },
  {
   "cell_type": "markdown",
   "metadata": {},
   "source": [
    "Now it should be more clear what exactly the data represents. We can also see that for the first dataset of heights, we have 14,300 observations, whereas the second dataset of blood pressures and heart rates is a little less at 11,656. \n",
    "\n",
    "In the height dataset above, some of the data have values of \"NaN\" which indicates missing data. This is not uncommon in data science; data can be missing for a variety of reasons, such as equipment malfunction, errors in entry, or it simply never existed to begin with. Using \"NaN\" is more helpful than leaving the value blank or replacing it with a value of zero as that can cause confusion or throw off any calculations.\n",
    "\n",
    "For our purposes here, missing values are not a big problem, as our plotting functions will just ignore them. However, in more advanced statistics, handling missing data becomes a very important task.\n",
    "\n",
    "As you may have also noticed, for the blood pressure and heart rate measurements, we have multiple recordings. It might make for an interesting visualization to compare the individual measurements to their average. In order to do that, we have to create a new column in our dataset that represents the mean of the three measurements for both blood pressure and heart rate."
   ]
  },
  {
   "cell_type": "code",
   "execution_count": null,
   "metadata": {},
   "outputs": [],
   "source": [
    "# Create mean columns\n",
    "nhanesDataBp_comb['Average Systolic BP'] = round(nhanesDataBp_comb[['Systolic BP (1st reading)', 'Systolic BP (2nd reading)', 'Systolic BP (3rd reading)']].mean(axis=1),1)\n",
    "nhanesDataBp_comb['Average Diastolic BP'] = round(nhanesDataBp_comb[['Diastolic BP (1st reading)', 'Diastolic BP (2nd reading)', 'Diastolic BP (3rd reading)']].mean(axis=1),1)\n",
    "nhanesDataBp_comb['Average Heart Rate'] = round(nhanesDataBp_comb[['Heart rate (1st reading)', 'Heart rate (2nd reading)', 'Heart rate (3rd reading)']].mean(axis=1),1)\n",
    "display(nhanesDataBp_comb)"
   ]
  },
  {
   "cell_type": "markdown",
   "metadata": {},
   "source": [
    "# Explore\n",
    "\n",
    "We'll start by plotting our data, which is always a good first step when you're analyzing data as it can reveal patterns or anomalies.\n",
    "\n",
    "Another important aspect of science is using your background knowledge to put your data in context. The health data we're looking at in this notebook is commonly collected and studied by health professionals. We can use that information to give more meaning to our data by comparing it to the population averages and to specified cutoffs for healthy values."
   ]
  },
  {
   "cell_type": "code",
   "execution_count": null,
   "metadata": {},
   "outputs": [],
   "source": [
    "# Height data\n",
    "fig = go.Figure()\n",
    "fig.add_trace(go.Histogram(x=nhanesDataHt_comb['Height (cm)'], \n",
    "                           name='Both', \n",
    "                           nbinsx=100, \n",
    "                           opacity=0.6))\n",
    "fig.add_trace(go.Histogram(x=nhanesDataHt_comb[nhanesDataHt_comb['Sex']=='Male']['Height (cm)'], \n",
    "                           name='Male', \n",
    "                           nbinsx=100, \n",
    "                           opacity=0.6))\n",
    "fig.add_trace(go.Histogram(x=nhanesDataHt_comb[nhanesDataHt_comb['Sex']=='Female']['Height (cm)'], \n",
    "                           name='Female', \n",
    "                           nbinsx=100, \n",
    "                           opacity=0.6))\n",
    "fig.add_vline(175.3, annotation_text='Male (adult) average', annotation_position='right top')\n",
    "fig.add_vline(161.5, annotation_text='Female (adult) average', annotation_position='left top')\n",
    "fig.update_layout(barmode='overlay',\n",
    "                 title='Histogram of NHANES heights',\n",
    "                 legend=dict(title='Sex'),\n",
    "                 height=800)\n",
    "fig.update_xaxes(title_text='Height (cm)')\n",
    "fig.update_yaxes(title_text='Count')\n",
    "fig.show()"
   ]
  },
  {
   "cell_type": "code",
   "execution_count": null,
   "metadata": {},
   "outputs": [],
   "source": [
    "# Blood pressure data\n",
    "fig = px.histogram(nhanesDataBp_comb,\n",
    "                   x=['Systolic BP (1st reading)', 'Systolic BP (2nd reading)', 'Systolic BP (3rd reading)', 'Average Systolic BP'],\n",
    "                   title='Histogram of Systolic BP readings',\n",
    "                   barmode='overlay',\n",
    "                   nbins=100,\n",
    "                   height=800\n",
    "                   )\n",
    "fig.add_vline(120, annotation_text='Healthy  ', annotation_position='top left')\n",
    "fig.add_vline(135, annotation_text='High      ', annotation_position='top left')\n",
    "fig.add_vline(135, annotation_text='  Hypertension', annotation_position='top right')\n",
    "\n",
    "fig.show()"
   ]
  },
  {
   "cell_type": "code",
   "execution_count": null,
   "metadata": {},
   "outputs": [],
   "source": [
    "# Blood pressure data\n",
    "fig = px.histogram(nhanesDataBp_comb,\n",
    "                   x=['Diastolic BP (1st reading)', 'Diastolic BP (2nd reading)', 'Diastolic BP (3rd reading)', 'Average Diastolic BP'],\n",
    "                   title='Histogram of Diastolic BP readings',\n",
    "                   barmode='overlay',\n",
    "                   nbins=100,\n",
    "                   height=800\n",
    "                   )\n",
    "fig.add_vline(80, annotation_text='Healthy  ', annotation_position='top left')\n",
    "fig.add_vline(80, annotation_text='High', annotation_position='top right')\n",
    "fig.add_vline(85, annotation_text='  Hypertension', annotation_position='top right')\n",
    "\n",
    "fig.show()"
   ]
  },
  {
   "cell_type": "code",
   "execution_count": null,
   "metadata": {},
   "outputs": [],
   "source": [
    "# Heart rate data\n",
    "fig = px.histogram(nhanesDataBp_comb,\n",
    "                   x=['Heart rate (1st reading)', 'Heart rate (2nd reading)', 'Heart rate (3rd reading)', 'Average Heart Rate'],\n",
    "                   title='Histogram of heart rate readings',\n",
    "                   barmode='overlay',\n",
    "                   nbins=100,\n",
    "                   height=800\n",
    "                   )\n",
    "fig.add_vrect(x0=60, x1=100,\n",
    "              annotation_text=\"Typical resting HR range (adolescents)\", \n",
    "              annotation_position=\"top right\",\n",
    "              fillcolor=\"grey\", \n",
    "              opacity=0.2, \n",
    "              line_width=0)\n",
    "\n",
    "fig.show()"
   ]
  },
  {
   "cell_type": "markdown",
   "metadata": {},
   "source": [
    "# Interpret\n",
    "\n",
    "As we can see in the plots above, there's a generally \"normal\" distribution to the blood pressure and heart rate data. The vast majority of subjects tend to have measurements that cluster around the mean, with counts dropping off quickly as you get farther away from the center in either direction. There are significant outliers in both directions, but that's an inevitability in any biological dataset. [Normal distributions are common when describing natural measurements](https://wiki.kidzsearch.com/wiki/Normal_distribution).\n",
    "\n",
    "However, height doesn't follow the same pattern. Why might that be?\n",
    "\n",
    "#### Height\n",
    "- How do your measured values compare to the data? Why would there be any difference? \n",
    "- Why is neither the male nor female average height located at the highest point of the histogram?\n",
    "\n",
    "#### Blood Pressure\n",
    "- Is there a noticeable difference between subsequent measurements of blood pressure (you can turn them on and off by clicking on the legend)? \n",
    "- Why might that exist (or not exist)?\n",
    "- Given the shape of the histogram, would you say most participants in this dataset have a healthy blood pressure? How many do not?\n",
    "\n",
    "#### Heart Rate\n",
    "- How does your measured heart rate compare to the data? Can you think of any reason why they might not fall in the center of the plot?\n",
    "- Perform a quick exercise for 30 seconds or so, like jumping jacks or pushups. How does that change your heart rate? Is it still in the normal range?\n",
    "- Why would subsequent measurements of heart rate differ? You can investigate this by showing and hiding the different variables by clicking on the legend"
   ]
  },
  {
   "cell_type": "markdown",
   "metadata": {},
   "source": [
    "## Try it yourself!\n",
    "\n",
    "Enter your heart rate in the code cell below and re-run the cell to see how your resting and elevated heart rates compare to the data:"
   ]
  },
  {
   "cell_type": "code",
   "execution_count": null,
   "metadata": {},
   "outputs": [],
   "source": [
    "# Enter heart rate below as a number (i.e., 70 or 70.0):\n",
    "\n",
    "userRestHR = 70\n",
    "userElevHR = 90\n",
    "\n",
    "# Code for plotting\n",
    "fig = px.histogram(nhanesDataBp_comb,\n",
    "                   x=['Heart rate (1st reading)', 'Heart rate (2nd reading)', 'Heart rate (3rd reading)', 'Average Heart Rate'],\n",
    "                   title='Histogram of heart rate readings',\n",
    "                   barmode='overlay',\n",
    "                   nbins=100,\n",
    "                   height=800\n",
    "                   )\n",
    "fig.add_vrect(x0=60, x1=100,\n",
    "              annotation_text=\"Typical resting HR range (adolescents)\", \n",
    "              annotation_position=\"top right\",\n",
    "              fillcolor=\"grey\", \n",
    "              opacity=0.2, \n",
    "              line_width=0)\n",
    "fig.add_vline(userRestHR, annotation_text='User Rest HR', \n",
    "              annotation_position='left',\n",
    "              line_dash='dash',\n",
    "              line_width=3)\n",
    "fig.add_vline(userElevHR, annotation_text='User Elevated HR', \n",
    "              annotation_position='right',\n",
    "              line_dash='dashdot',\n",
    "              line_width=3)\n",
    "\n",
    "fig.show()"
   ]
  },
  {
   "cell_type": "markdown",
   "metadata": {},
   "source": [
    "And we can do the same with your height:"
   ]
  },
  {
   "cell_type": "code",
   "execution_count": null,
   "metadata": {},
   "outputs": [],
   "source": [
    "# Enter height below as a number (i.e., 170 or 170.0):\n",
    "\n",
    "userHt = 170\n",
    "\n",
    "# Code for plotting\n",
    "fig = go.Figure()\n",
    "fig.add_trace(go.Histogram(x=nhanesDataHt_comb['Height (cm)'], \n",
    "                           name='Both', \n",
    "                           nbinsx=100, \n",
    "                           opacity=0.6))\n",
    "fig.add_trace(go.Histogram(x=nhanesDataHt_comb[nhanesDataHt_comb['Sex']=='Male']['Height (cm)'], \n",
    "                           name='Male', \n",
    "                           nbinsx=100, \n",
    "                           opacity=0.6))\n",
    "fig.add_trace(go.Histogram(x=nhanesDataHt_comb[nhanesDataHt_comb['Sex']=='Female']['Height (cm)'], \n",
    "                           name='Female', \n",
    "                           nbinsx=100, \n",
    "                           opacity=0.6))\n",
    "fig.add_vline(175.3, annotation_text='Male (adult) average', annotation_position='right top')\n",
    "fig.add_vline(161.5, annotation_text='Female (adult) average', annotation_position='left top')\n",
    "fig.add_vline(userHt, annotation_text='User height', line_dash='dash', annotation_position='left')\n",
    "fig.update_layout(barmode='overlay',\n",
    "                 title='Histogram of NHANES heights',\n",
    "                 legend=dict(title='Sex'),\n",
    "                 height=800)\n",
    "fig.update_xaxes(title_text='Height (cm)')\n",
    "fig.update_yaxes(title_text='Count')\n",
    "fig.show()"
   ]
  },
  {
   "cell_type": "markdown",
   "metadata": {},
   "source": [
    "# Communicate\n",
    "Below are some writing prompts to help you reflect on the new information that is presented from the data. When we look at the evidence, think about what you perceive about the information. Is this perception based on what the evidence shows? If others were to view it, what perceptions might they have?\n",
    "\n",
    "- I used to think __but now I know__.\n",
    "- I wish I knew more about __.\n",
    "- This visualization reminds me of __.\n",
    "- I really like __.\n"
   ]
  },
  {
   "cell_type": "markdown",
   "metadata": {},
   "source": [
    "[![Callysto.ca License](https://github.com/callysto/curriculum-notebooks/blob/master/callysto-notebook-banner-bottom.jpg?raw=true)](https://github.com/callysto/curriculum-notebooks/blob/master/LICENSE.md)"
   ]
  }
 ],
 "metadata": {
  "kernelspec": {
   "display_name": "Python 3 (ipykernel)",
   "language": "python",
   "name": "python3"
  },
  "language_info": {
   "codemirror_mode": {
    "name": "ipython",
    "version": 3
   },
   "file_extension": ".py",
   "mimetype": "text/x-python",
   "name": "python",
   "nbconvert_exporter": "python",
   "pygments_lexer": "ipython3",
   "version": "3.9.12"
  },
  "vscode": {
   "interpreter": {
    "hash": "31f2aee4e71d21fbe5cf8b01ff0e069b9275f58929596ceb00d14d90e3e16cd6"
   }
  }
 },
 "nbformat": 4,
 "nbformat_minor": 4
}
