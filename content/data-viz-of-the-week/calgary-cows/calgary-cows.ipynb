{
 "cells": [
  {
   "cell_type": "markdown",
   "metadata": {},
   "source": [
    "![Callysto.ca Banner](https://github.com/callysto/curriculum-notebooks/blob/master/callysto-notebook-banner-top.jpg?raw=true)"
   ]
  },
  {
   "cell_type": "markdown",
   "metadata": {},
   "source": [
    "# Callysto’s Weekly Data Visualization\n",
    "\n",
    "## Calgary Cows"
   ]
  },
  {
   "cell_type": "markdown",
   "metadata": {},
   "source": [
    "### Instructions\n",
    "\n",
    "Click \"Cell\" and select \"Run All\".\n",
    "\n",
    "This will import the data and run all the code, so you can see this week's data visualization. Scroll back to the top after you’ve run the cells.\n",
    "\n",
    "![instructions](https://github.com/callysto/data-viz-of-the-week/blob/main/images/instructions.png?raw=true)\n",
    "\n",
    "**You don't need to do any coding to view the visualizations**.\n",
    "\n",
    "The plots generated in this notebook are interactive. You can hover over and click on elements to see more information. \n",
    "\n",
    "Email contact@callysto.ca if you experience issues."
   ]
  },
  {
   "cell_type": "markdown",
   "metadata": {},
   "source": [
    "### About this Notebook\n",
    "\n",
    "Callysto's Weekly Data Visualization is a learning resource that aims to develop data literacy skills. We provide Grades 5-12 teachers and students with a data visualization, like a graph, to interpret. This companion resource walks learners through how the data visualization is created and interpreted by a data scientist. \n",
    "\n",
    "The steps of the data analysis process are listed below and applied to each weekly topic.\n",
    "\n",
    "1. Question - What are we trying to answer?\n",
    "2. Gather - Find the data source(s) you will need. \n",
    "3. Organize - Arrange the data, so that you can easily explore it. \n",
    "4. Explore - Examine the data to look for evidence to answer the question. This includes creating visualizations. \n",
    "5. Interpret - Describe what's happening in the data visualization. \n",
    "6. Communicate - Explain how the evidence answers the question. "
   ]
  },
  {
   "cell_type": "markdown",
   "metadata": {},
   "source": [
    "# Introduction\n",
    "The Calgary Stampede is a yearly event in Calgary that blends cowboy culture with an enjoyable carnival atmosphere. Alongside concerts and shows, the Stampede showcases an array of engaging events featuring livestock. In honor of the Calgary Stampede, Callysto built a data visualization centered around a public art installation highlighting cows in Calgary\n",
    "\n",
    "The [Udderly Art](https://web.archive.org/web/20010805180042/http:/udderlyart.com/about.html) project was undertaken by philanthropists and artists in the year 2000. Organizations purchased the cows and worked with a local artist to decorate it and afterwards the cows were placed throughtout Calgary before being auctioned off. There are a still number of these cows throughout Calgary. Our goal in this data visualization was to visualize where the cows are located.\n",
    "\n",
    "The design of each cow is specifically linked to it's location. For example, Miss Cowgary International, has many flags on it and it's location is at the front of the Flagworks Store."
   ]
  },
  {
   "cell_type": "markdown",
   "metadata": {},
   "source": [
    "# Gather"
   ]
  },
  {
   "cell_type": "markdown",
   "metadata": {},
   "source": [
    "### Code:"
   ]
  },
  {
   "cell_type": "markdown",
   "metadata": {},
   "source": [
    "Run the code cells below to import the libraries we need for this project. Libraries are pre-made code that make it easier to analyze our data."
   ]
  },
  {
   "cell_type": "code",
   "execution_count": null,
   "metadata": {},
   "outputs": [],
   "source": [
    "%pip install -r requirements.txt\n",
    "import pyodide_http\n",
    "pyodide_http.patch_all()\n",
    "\n",
    "import folium\n",
    "import pandas as pd\n",
    "import ColabTurtlePlus.Turtle as cTurtle\n",
    "from IPython.display import Image\n",
    "print(\"All libraries imported\")"
   ]
  },
  {
   "cell_type": "markdown",
   "metadata": {},
   "source": [
    "### Data\n",
    "\n",
    "We used data from the archived website for the Udderly Art project. We only used cows denoted on the website as \"Mavericks\". The website defines Mavericks as the first twenty cows that had unique branding."
   ]
  },
  {
   "cell_type": "code",
   "execution_count": null,
   "metadata": {},
   "outputs": [],
   "source": [
    "df = pd.read_csv('https://raw.githubusercontent.com/callysto/data-files/main/data-viz-of-the-week/calgary-cows/calgary_cows.csv')\n",
    "df"
   ]
  },
  {
   "cell_type": "markdown",
   "metadata": {},
   "source": [
    "It appears we have 4 columns, `latitude`, `longitude`, `cow_name`, and `url`. `Latitude` and `longitude` both refer to the cow's coordinates, `cow_name` refers to the name of the cow, and `url` refers to the respective link to the cow.\n",
    "\n",
    "Let's take a deeper look at what a painted cow looks like and look at any further analysis that can be done using the dataset."
   ]
  },
  {
   "cell_type": "code",
   "execution_count": null,
   "metadata": {},
   "outputs": [],
   "source": [
    "url = \"https://web.archive.org/web/20010905112412im_/http://udderlyart.com/7.jpg\"\n",
    "print(\"Image of Ze Cow\")\n",
    "Image(url=url)"
   ]
  },
  {
   "cell_type": "markdown",
   "metadata": {},
   "source": [
    "Looking at the image, it appears that \"Ze Cow\" is an imaginative and creative piece of art that combines the elements of both a zebra and a cow! Similar to the image of [Gruffalo](https://en.wikipedia.org/wiki/The_Gruffalo). \n",
    "\n",
    "Now that we have a better grasp of the items in the dataset let's use a *Folium* map to utilize the `longitude` and `latitude` coordinates present in the dataset, alongside adding a URL to the respective cow on the map. "
   ]
  },
  {
   "cell_type": "markdown",
   "metadata": {},
   "source": [
    "# Explore"
   ]
  },
  {
   "cell_type": "markdown",
   "metadata": {},
   "source": [
    "### Create a Map\n",
    "\n",
    "Run the code below to generate a map of where the cows are located around Calgary. You can zoom in on the map to see it in more detail. Is there a painted cow located near you?"
   ]
  },
  {
   "cell_type": "code",
   "execution_count": null,
   "metadata": {},
   "outputs": [],
   "source": [
    "# Create a map centered around Calgary\n",
    "calgary_map = folium.Map(location=[51.0447, -114.0719], zoom_start=13)\n",
    "\n",
    "for index, row in df.iterrows():\n",
    "    lat, lon = row['latitude'], row['longitude']\n",
    "    cow_name = row['cow_name']\n",
    "    url = row['url']\n",
    "    popup_content = f'<a href=\"{url}\" target=\"_blank\">{cow_name}</a>'\n",
    "    marker = folium.Marker([lat, lon], popup=popup_content, tooltip=cow_name)\n",
    "    marker.add_to(calgary_map)\n",
    "\n",
    "calgary_map"
   ]
  },
  {
   "cell_type": "markdown",
   "metadata": {},
   "source": [
    "# Interpret"
   ]
  },
  {
   "cell_type": "markdown",
   "metadata": {},
   "source": [
    "It appears that many of the *Maverick* painted cows in Calgary are based in downtown, with a sole cow near Chinook. This concentration of painted cows in downtown Calgary can be attributed to several reasons:\n",
    "\n",
    "- *High Traffic*: Downtown areas typically experience high traffic due to the concentration of businesses, shopping centers, restaurants, and entertainment venues. By positioning painted cows in downtown Calgary, they would be exposed to a larger audience and have a higher chance of being noticed and appreciated.\n",
    "\n",
    "- *Economic Impact*: Downtown areas are often considered economic hubs with numerous businesses, organizations, and events. By showcasing painted cows in downtown Calgary, businesses can tap into the economic vibrancy of the area, enabling a potential positive impact on their own branding.\n",
    "\n",
    "Thus, placing a majority of the Maverick painted cows in downtown Calgary allows for optimal outreach and integration into the fabric of the city."
   ]
  },
  {
   "cell_type": "markdown",
   "metadata": {},
   "source": [
    "### Examine the Map\n",
    "\n",
    "- When looking at the map where does it seem like most of the cows are located?\n",
    "- What are some potential challenges you might encounter when plotting multiple painted cow locations, and how would you address them?\n",
    "- How can the data collected from the locations of painted cows on a map contribute to the development of tourism strategies and support local economic growth initiatives?"
   ]
  },
  {
   "cell_type": "markdown",
   "metadata": {},
   "source": [
    "### Create a Cow\n",
    "\n",
    "In this section, create your own \"painted\" cow using the `ColabTurtlePlus` drawing library!\n",
    "\n",
    "A list of commands to create your own cow are listed below."
   ]
  },
  {
   "cell_type": "markdown",
   "metadata": {},
   "source": [
    "Assuming that your turtle is now named `t`, here are the possible commands you can use:\n",
    "\n",
    "Command | Description | Example\n",
    "--- | --- | ---\n",
    "`t.speed(integer)` | Speed of your turtle, where 13 is the fastest and 1 is the slowest. | `t.speed(13)`\n",
    "`t.right(degrees)` | Turn turtle right a certain number of degrees | `t.right(90)`\n",
    "`t.left(degrees)` | Turn turtle left a certain number of degrees | `t.left(45)`\n",
    "`t.forward(units)` | Move your turtle forward a certain number of pixels | `t.forward(100)`\n",
    "`t.backward(units)` | Move your turtle backward a certain number of pixels | `t.backward(20)`\n",
    "`t.circle(r, degrees)` | Have your turtle draw a piece of a circle of radius `r`, through some number of degrees | `t.circle(40, 360)`\n",
    "`t.penup()` | Now your turtle can move without drawing lines | `t.penup()`\n",
    "`t.pendown()` | Make your turtle draw lines again | `t.pendown()`\n",
    "`t.pencolor('color')` | Color of your turtle’s line using a color name | `t.pencolor('blue')`\n",
    "`t.pencolor('hexadecimal')` | Color of your turtle’s line using hexadecimal color values. Color values can be found [here](https://htmlcolorcodes.com/)| `t.pencolor('#FF5733')`\n",
    "`t.setposition(x, y)` | Move the turtle to a specific position. (0,0) is the top left and (400, 400) is the bottom right | `t.setposition(100, 250)`\n",
    "`t.home()` | Move the turtle back to the center of the screen | `t.home()`\n",
    "`t.setheading(degrees)` | Set the turtle’s heading to a specific number of degrees | `t.setheading(90)`\n",
    "`t.hideturtle()` | Hide your turtle for visual clarity | `t.hideturtle()`\n",
    "`t.showturtle()` | Show your turtle | `t.showturtle()`\n",
    "`t.color('color')` | Set the color of your turtle | `t.color(\"black\")`\n",
    "`t.begin_fill()` | Begin to fill | `t.begin_fill()`\n",
    "`t.end_fill()` | End fill | `t.begin_fill()`\n",
    "`t.fillcolor('color')` | Sets the fillcolor based on the lines drawn by the turtle  | `\n",
    "`t.write('text', 'font')` | Write text onto the screen. *Font* is optional and consists of 3 values. The first value is the font name, second value is the font size, and third value is the font style, which is one of \"normal\", \"bold\", \"italic\", and \"underline\"  | `t.write(\"Hello\", font=(\"Arial\", 20, \"normal\"))`"
   ]
  },
  {
   "cell_type": "markdown",
   "metadata": {},
   "source": [
    "To get started, here is some demo code creating the base body for a cow."
   ]
  },
  {
   "cell_type": "code",
   "execution_count": null,
   "metadata": {},
   "outputs": [],
   "source": [
    "cTurtle.clearscreen()\n",
    "cTurtle.setup(400, 400)\n",
    "cTurtle.showborder()\n",
    "t = cTurtle.Turtle()\n",
    "t.shape('turtle')\n",
    "t.pensize(2)\n",
    "t.speed(13)\n",
    "\n",
    "t.speed(10)\n",
    "t.forward(100)\n",
    "t.circle(40, 180)\n",
    "t.forward(100)\n",
    "t.penup()\n",
    "t.forward(50)\n",
    "t.left(90)\n",
    "t.forward(10)\n",
    "t.pendown()\n",
    "t.circle(30, 360)\n",
    "t.penup()\n",
    "t.home()\n",
    "t.pendown()\n",
    "t.left(180)\n",
    "t.circle(-40, 95)\n",
    "t.penup()\n",
    "t.home()\n",
    "t.pendown()\n",
    "\n",
    "for i in range(2):\n",
    "    t.setheading(270)\n",
    "    t.forward(15)\n",
    "    t.circle(5, 180)\n",
    "    t.forward(15)\n",
    "    \n",
    "t.penup()\n",
    "t.home()\n",
    "t.right(180)\n",
    "t.backward(75)\n",
    "t.pendown()\n",
    "\n",
    "for i in range(2):\n",
    "    t.setheading(270)\n",
    "    t.forward(15)\n",
    "    t.circle(5, 180)\n",
    "    t.forward(15)"
   ]
  },
  {
   "cell_type": "markdown",
   "metadata": {},
   "source": [
    "In the cell below, create your own rendition of a \"painted\" cow"
   ]
  },
  {
   "cell_type": "code",
   "execution_count": null,
   "metadata": {},
   "outputs": [],
   "source": [
    "# To begin, uncomment or remove the # in the line below\n",
    "\n",
    "# cTurtle.clearscreen()\n",
    "# cTurtle.setup(400, 400)\n",
    "# cTurtle.showborder()\n",
    "# t = cTurtle.Turtle()\n",
    "# t.shape('turtle')\n",
    "# t.pensize(2)\n",
    "# t.speed(13)"
   ]
  },
  {
   "cell_type": "markdown",
   "metadata": {},
   "source": [
    "### Create a mixed animal\n",
    "\n",
    "If you want to make your own mixed animal art similar to \"Ze Cow\" check out [SwitchZoo](https://switchzoo.com/newzoo/zoo.htm)"
   ]
  },
  {
   "cell_type": "markdown",
   "metadata": {},
   "source": [
    "# Communicate\n",
    "\n",
    "Below are some writing prompts to help you reflect on the new information that is presented from the data. When we look at the evidence, think about what you perceive about the information. Is this perception based on what the evidence shows? If others were to view it, what perceptions might they have?\n",
    "\n",
    "- I used to think ____________________but now I know____________________. \n",
    "- I wish I knew more about ____________________. \n",
    "- This visualization reminds me of ____________________. \n",
    "- I really like ____________________.\n"
   ]
  },
  {
   "cell_type": "markdown",
   "metadata": {},
   "source": [
    "[![Callysto.ca License](https://github.com/callysto/curriculum-notebooks/blob/master/callysto-notebook-banner-bottom.jpg?raw=true)](https://github.com/callysto/curriculum-notebooks/blob/master/LICENSE.md)"
   ]
  }
 ],
 "metadata": {
  "kernelspec": {
   "display_name": "Python 3 (ipykernel)",
   "language": "python",
   "name": "python3"
  },
  "language_info": {
   "codemirror_mode": {
    "name": "ipython",
    "version": 3
   },
   "file_extension": ".py",
   "mimetype": "text/x-python",
   "name": "python",
   "nbconvert_exporter": "python",
   "pygments_lexer": "ipython3",
   "version": "3.10.8"
  }
 },
 "nbformat": 4,
 "nbformat_minor": 4
}
