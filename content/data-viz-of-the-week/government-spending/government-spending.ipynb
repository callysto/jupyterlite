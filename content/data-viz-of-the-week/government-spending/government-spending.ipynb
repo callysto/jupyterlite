{
 "cells": [
  {
   "cell_type": "markdown",
   "metadata": {},
   "source": [
    "![Callysto.ca Banner](https://github.com/callysto/curriculum-notebooks/blob/master/callysto-notebook-banner-top.jpg?raw=true)"
   ]
  },
  {
   "cell_type": "markdown",
   "metadata": {},
   "source": [
    "\n",
    "\n",
    "<a href=\"https://hub.callysto.ca/jupyter/hub/user-redirect/git-pull?repo=https%3A%2F%2Fgithub.com%2Fcallysto%2Fdata-viz-of-the-week&branch=main&subPath=government-spending/government-spending.ipynb&depth=1\" target=\"_parent\"><img src=\"https://raw.githubusercontent.com/callysto/curriculum-notebooks/master/open-in-callysto-button.svg?sanitize=true\" width=\"123\" height=\"24\" alt=\"Open in Callysto\"></a>"
   ]
  },
  {
   "attachments": {},
   "cell_type": "markdown",
   "metadata": {},
   "source": [
    "# Callysto’s Weekly Data Visualization\n",
    "\n",
    "## Government Spending\n",
    "\n",
    "### Recommended Grade levels: 6-9\n",
    "<br>"
   ]
  },
  {
   "cell_type": "markdown",
   "metadata": {},
   "source": [
    "### Instructions\n",
    "\n",
    "Click \"Cell\" and select \"Run All\".\n",
    "\n",
    "This will import the data and run all the code, so you can see this week's data visualization. Scroll back to the top after you’ve run the cells.\n",
    "\n",
    "![instructions](https://github.com/callysto/data-viz-of-the-week/blob/main/images/instructions.png?raw=true)\n",
    "\n",
    "**You don't need to do any coding to view the visualizations**.\n",
    "\n",
    "The plots generated in this notebook are interactive. You can hover over and click on elements to see more information. \n",
    "\n",
    "Email contact@callysto.ca if you experience issues."
   ]
  },
  {
   "cell_type": "markdown",
   "metadata": {},
   "source": [
    "### About this Notebook\n",
    "\n",
    "Callysto's Weekly Data Visualization is a learning resource that aims to develop data literacy skills. We provide Grades 5-12 teachers and students with a data visualization, like a graph, to interpret. This companion resource walks learners through how the data visualization is created and interpreted by a data scientist. \n",
    "\n",
    "The steps of the data analysis process are listed below and applied to each weekly topic.\n",
    "\n",
    "1. Question - What are we trying to answer?\n",
    "2. Gather - Find the data source(s) you will need. \n",
    "3. Organize - Arrange the data, so that you can easily explore it. \n",
    "4. Explore - Examine the data to look for evidence to answer the question. This includes creating visualizations. \n",
    "5. Interpret - Describe what's happening in the data visualization. \n",
    "6. Communicate - Explain how the evidence answers the question. "
   ]
  },
  {
   "cell_type": "markdown",
   "metadata": {},
   "source": [
    "## Question\n",
    "\n",
    "Which sectors receive funding from the Canadian government, and what is the allocation of the government's budget to specific categories? "
   ]
  },
  {
   "cell_type": "markdown",
   "metadata": {},
   "source": [
    "### Goal\n",
    "\n",
    "Our mission is to look at how the different sectors in the Canadian government and identify which spend and most/least of the allocated budget set. We also want to look at the distribution of expenses and find any trends with how the budget is allocated amongst important categories such as health, defense, etc."
   ]
  },
  {
   "cell_type": "markdown",
   "metadata": {},
   "source": [
    "### Background\n",
    "\n",
    "Analyzing the Canadian government's budget, expenses, and future spending habits is important as it promotes transparency and accountability, enabling citizens to assess government priorities and decisions. We can also identify areas for optimization, specifically looking at areas of high spending."
   ]
  },
  {
   "cell_type": "markdown",
   "metadata": {},
   "source": [
    "## Gather"
   ]
  },
  {
   "cell_type": "markdown",
   "metadata": {},
   "source": [
    "All of our data sources used in this notebook comes from [Statistics Canada](https://www.statcan.gc.ca/en/start) and the government of Canada's [open government](https://search.open.canada.ca/opendata/) portal. "
   ]
  },
  {
   "cell_type": "markdown",
   "metadata": {},
   "source": [
    "### Code: \n",
    "\n",
    "Run the code cells below to import the libraries we need for this project. Libraries are pre-made code that make it easier to analyze our data."
   ]
  },
  {
   "cell_type": "code",
   "execution_count": null,
   "metadata": {},
   "outputs": [],
   "source": [
    "%pip install -r requirements.txt\n",
    "import pyodide_http\n",
    "pyodide_http.patch_all()\n",
    "import pandas as pd\n",
    "import plotly.express as px\n",
    "import folium\n",
    "import geopandas as gpd\n",
    "import plotly.graph_objects as go\n",
    "from plotly.subplots import make_subplots\n",
    "import warnings\n",
    "import ipywidgets\n",
    "from IPython.display import display\n",
    "warnings.filterwarnings(\"ignore\")\n",
    "\n",
    "print(\"Libraries imported.\")"
   ]
  },
  {
   "cell_type": "markdown",
   "metadata": {},
   "source": [
    "### Data\n",
    "\n",
    "To begin, we'll obtain our datasets necessary for this notebook by using the cell below. In certain notebooks, the column names will be altered to enhance clarity on what the column means."
   ]
  },
  {
   "cell_type": "markdown",
   "metadata": {},
   "source": [
    "### Import the data"
   ]
  },
  {
   "cell_type": "code",
   "execution_count": null,
   "metadata": {},
   "outputs": [],
   "source": [
    "# Renaming columns\n",
    "expenses_cols = ['Year','Social protection','Health','Education','General public services','Economic affairs','Other functions']\n",
    "share_of_expenses_cols = ['Province','Health','Education','General public services','Social protection','Economic affairs','Other functions']\n",
    "\n",
    "fte = pd.read_csv(\"https://raw.githubusercontent.com/callysto/data-files/main/data-viz-of-the-week/government-spending/FTE.csv\")\n",
    "expenditures = pd.read_csv(\"https://raw.githubusercontent.com/callysto/data-files/main/data-viz-of-the-week/government-spending/expenditures.csv\")\n",
    "overall_expenses = pd.read_csv(\"https://raw.githubusercontent.com/callysto/data-files/main/data-viz-of-the-week/government-spending/overall_expenses.csv\", header=1, names=expenses_cols)\n",
    "share_of_expenses = pd.read_csv(\"https://raw.githubusercontent.com/callysto/data-files/main/data-viz-of-the-week/government-spending/share_of_expenses.csv\", header=1, names=share_of_expenses_cols)\n",
    "federal_provincial = pd.read_csv(\"https://raw.githubusercontent.com/callysto/data-files/main/data-viz-of-the-week/government-spending/federal_provincial.csv\")\n",
    "print(\"Datasets imported.\")"
   ]
  },
  {
   "cell_type": "markdown",
   "metadata": {},
   "source": [
    "### Comment on the data"
   ]
  },
  {
   "cell_type": "markdown",
   "metadata": {},
   "source": [
    "Now that we've obtained our data, we can take a look at what each dataset represents and try to analyze better meaning from it. Throughout this notebook, when a new dataset is being used, the first cell will print the contents of the dataset. This will help establish when a new dataset is being analyzed and the contents of visualizations. \n",
    "\n",
    "To begin, let's analyze our `fte` dataset."
   ]
  },
  {
   "cell_type": "code",
   "execution_count": null,
   "metadata": {},
   "outputs": [],
   "source": [
    "fte"
   ]
  },
  {
   "cell_type": "markdown",
   "metadata": {},
   "source": [
    "Moving forward, we will be calling our datasets, *dataframes*. A dataframe is like a digital spreadsheet or table which contains rows and columns of data. Each row in a dataframe represents a different piece of information or a record, while each column represents a specific attribute or characteristic of that information.\n",
    "\n",
    "In the dataframe above, we see that the columns `Organization` and `Program` identify the government organization and the different programs they have. The columns `2017-18 Actual FTEs`-`2021-22 Actual FTEs` identify the organization's FTE's. The definition of an FTE (Full Time Equivalents), from the [government of Canada](https://open.canada.ca/data/en/dataset/e2e60f18-95fe-487b-9edd-d1f7bcdd9f9f) is:\n",
    "\n",
    "\"a measure of the extent to which an employee represents a full person-year charge against the departmental budget for future spending years.\"\n",
    "\n",
    "In simplified terms, it's like asking, \"if one person worked full-time for a year, how much of our budget would they use?\". The final columns are `2023-24 Planned FTEs`-`2025-26 Planned FTEs`, which indicate how many FTEs are planned for this particular organization's future. "
   ]
  },
  {
   "cell_type": "markdown",
   "metadata": {},
   "source": [
    "# Explore"
   ]
  },
  {
   "cell_type": "markdown",
   "metadata": {},
   "source": [
    "To begin, let's see how many different organizations are supported under the Government of Canada. "
   ]
  },
  {
   "cell_type": "code",
   "execution_count": null,
   "metadata": {},
   "outputs": [],
   "source": [
    "# Find unique organizations\n",
    "unique_organizations = set(fte['Organization'])\n",
    "\n",
    "# Print unique organization\n",
    "for org in unique_organizations:\n",
    "    print(org)"
   ]
  },
  {
   "cell_type": "markdown",
   "metadata": {},
   "source": [
    "Looking at the output above, there appears to be many different organizations supported by the government of Canada, reflecting the country's commitment to a wide array of sectors and initiatives. Using this list, let's create a visualization that can utilize these organizations. Read the commented lines in the code cell below (the lines that start with #)."
   ]
  },
  {
   "cell_type": "code",
   "execution_count": null,
   "metadata": {},
   "outputs": [],
   "source": [
    "# Change this to the organization you'd like to look at \n",
    "# Example: \"Atlantic Canada Opportunities Agency\" can be changed to \"Canadian Grain Commission\"\n",
    "organization_to_find = \"Atlantic Canada Opportunities Agency\"\n",
    "\n",
    "searched_df = fte[fte['Organization'] == organization_to_find]\n",
    "\n",
    "columns_to_melt = [col for col in searched_df.columns if col != 'Program']\n",
    "melted_df = pd.melt(searched_df, id_vars=['Organization'], value_vars=columns_to_melt, var_name='Year', value_name='Value')\n",
    "org_df = melted_df.groupby(['Year', 'Organization'])['Value'].sum().reset_index()\n",
    "\n",
    "searched_df = fte[fte['Organization'] == organization_to_find]\n",
    "df_prog = searched_df.groupby('Program').sum().reset_index()\n",
    "columns_to_melt_prog = [col for col in df_prog.columns if col != 'Program']\n",
    "program_df = pd.melt(df_prog, id_vars=['Program'], value_vars=columns_to_melt_prog, var_name='Year', value_name='Value')\n",
    "# Removes unwanted Organization column after melting\n",
    "program_df = program_df[program_df.Year != \"Organization\"]\n",
    "\n",
    "fte_fig = make_subplots(rows=1, cols=2, subplot_titles=(\"Total FTEs\", \"Program FTEs\"))\n",
    "\n",
    "for org in org_df['Organization'].unique():\n",
    "    org_data = org_df[org_df['Organization'] == org]\n",
    "    fte_fig.add_trace(go.Scatter(x=org_data['Year'], y=org_data['Value'], mode='lines',\n",
    "                             name=f'{org}'), \n",
    "                             row=1, col=1)\n",
    "\n",
    "for program in program_df['Program'].unique():\n",
    "    prog_data = program_df[program_df['Program'] == program]\n",
    "    fte_fig.add_trace(go.Scatter(x=prog_data['Year'], y=prog_data['Value'], mode='lines',\n",
    "                             name=f'{program}'), row=1, col=2,\n",
    "                             )\n",
    "   \n",
    "    \n",
    "fte_fig.update_layout(title=f'Progression of FTEs for: {organization_to_find}',\n",
    "                  xaxis_title='Year', yaxis_title='FTEs',\n",
    "                  xaxis2_title='Year', yaxis2_title='FTEs')\n",
    "\n",
    "fte_fig.show()"
   ]
  },
  {
   "cell_type": "markdown",
   "metadata": {},
   "source": [
    "After viewing the different Full-Time Equivalents (FTEs) of various Canadian organizations, have you gained a different sense of perspective? How might this newfound perspective influence your views on government support for various sectors?"
   ]
  },
  {
   "cell_type": "markdown",
   "metadata": {},
   "source": [
    "Now that we've done some exploratory analysis on FTE data, let's move onto something more tangible, such as *budgeting*."
   ]
  },
  {
   "cell_type": "code",
   "execution_count": null,
   "metadata": {},
   "outputs": [],
   "source": [
    "expenditures"
   ]
  },
  {
   "cell_type": "markdown",
   "metadata": {},
   "source": [
    "# Organize\n",
    "\n",
    "Compared to our `fte` dataframe, we will be adding new columns to our current dataframe `expenditures`. Specifically, we'll be finding which organizations overspend/underspend their allocated budget. "
   ]
  },
  {
   "cell_type": "code",
   "execution_count": null,
   "metadata": {},
   "outputs": [],
   "source": [
    "expenditures = expenditures.set_index('Organization')\n",
    "\n",
    "# List of years\n",
    "years = ['2017-18', '2018-19', '2019-20', '2020-21', '2021-22']\n",
    "\n",
    "for year in years:\n",
    "    year_col = year + ' - '\n",
    "    budget_col = year_col + 'Total budgetary authority available for use'\n",
    "    expenditure_col = year_col + 'Expenditures'\n",
    "    \n",
    "    expenditures[f'{year} Delta'] = expenditures[budget_col] - expenditures[expenditure_col]\n",
    "\n",
    "expenditures = expenditures.reset_index()\n",
    "display(expenditures)"
   ]
  },
  {
   "cell_type": "markdown",
   "metadata": {},
   "source": [
    "Perfect! Now we can utilize the new columns `2017-18 Delta`-`2021-22 Delta`. First, let's find the highest delta (i.e difference) in each year based on overspending and underspending budgets. "
   ]
  },
  {
   "cell_type": "code",
   "execution_count": null,
   "metadata": {},
   "outputs": [],
   "source": [
    "cols_to_check = expenditures.columns[12:]\n",
    "max_indices = expenditures[cols_to_check].idxmax()\n",
    "\n",
    "for col in max_indices.index:\n",
    "    max_index = max_indices[col]\n",
    "    max_value = expenditures.at[max_index, col]\n",
    "    organization = expenditures.at[max_index, 'Organization']\n",
    "    program = expenditures.at[max_index, 'Vote 2021-22 / Statutory - Description']  \n",
    "    \n",
    "    print(f\"Highest {col}:\")\n",
    "    print(f\"Organization: {organization}\")\n",
    "    print(f\"Description: {program}\")\n",
    "    print(f\"Under-Budget by: ${max_value}\\n\")\n",
    "\n",
    "cols_to_check = expenditures.columns[12:]\n",
    "min_indices = expenditures[cols_to_check].idxmin()\n",
    "print('-----------------------------\\n')\n",
    "\n",
    "for col in min_indices.index:\n",
    "    min_index = min_indices[col]\n",
    "    min_value = expenditures.at[min_index, col]\n",
    "    organization = expenditures.at[min_index, 'Organization']\n",
    "    program = expenditures.at[min_index, 'Vote 2021-22 / Statutory - Description']  \n",
    "    \n",
    "    print(f\"Lowest {col}:\")\n",
    "    print(f\"Organization: {organization}\")\n",
    "    print(f\"Description: {program}\")\n",
    "    print(f\"Over-Budget by: ${abs(min_value)}\\n\")\n"
   ]
  },
  {
   "cell_type": "markdown",
   "metadata": {},
   "source": [
    "Looking at the output above, the results are surprising. \n",
    "\n",
    " In every year in the under-budget deltas, particular organizations under-spent their budget by at least a billion dollars. Consistent under-spending by certain organizations, with under-budget deltas exceeding a billion dollars each year, can be viewed positively as a sign of fiscal responsibility and resource efficiency, but it also raises concerns about potential missed opportunities, impact on services, and the need for transparent accountability in budget management. On the flip-side, many organizations on the over-budget \n",
    "\n",
    " On the flip-side, in the over-budget deltas, many organizations diligently did not overspend on their allocated budget! The only major organization over-spending their budget was found in the `2019-20 Delta`, being the Correctional Service Canada organization. "
   ]
  },
  {
   "cell_type": "markdown",
   "metadata": {},
   "source": [
    "For clarity purposes, we can also visualize all the different highest deltas, whether it being overspending or underspending. "
   ]
  },
  {
   "cell_type": "code",
   "execution_count": null,
   "metadata": {},
   "outputs": [],
   "source": [
    "budget_analysis = make_subplots(rows=2, cols=1, subplot_titles=(\"Under-Budget\", \"Over-Budget\"))\n",
    "\n",
    "for col in max_indices.index:\n",
    "    max_index = max_indices[col]\n",
    "    max_value = expenditures.at[max_index, col]\n",
    "    organization = expenditures.at[max_index, 'Organization']\n",
    "    program = expenditures.at[max_index, 'Vote 2021-22 / Statutory - Description']\n",
    "    \n",
    "    budget_analysis.add_trace(go.Bar(\n",
    "        x=[organization],\n",
    "        y=[max_value],\n",
    "        marker=dict(color='green'),\n",
    "        name=f\"Under-Budget Fig - {col}\",\n",
    "    ), row=1, col=1)\n",
    "\n",
    "for col in min_indices.index:\n",
    "    min_index = min_indices[col]\n",
    "    min_value = expenditures.at[min_index, col]\n",
    "    organization = expenditures.at[min_index, 'Organization']\n",
    "    program = expenditures.at[min_index, 'Vote 2021-22 / Statutory - Description']\n",
    "    \n",
    "    budget_analysis.add_trace(go.Bar(\n",
    "        x=[organization],\n",
    "        y=[min_value],\n",
    "        marker=dict(color='red'),\n",
    "        name=f\"Over-Budget Fig - {col}\",\n",
    "    ), row=2, col=1)\n",
    "\n",
    "budget_analysis.update_layout(\n",
    "    title_text=\"Budget Analysis of Canadian organizations, 2017-2022\",\n",
    "    barmode='group',\n",
    ")\n",
    "\n",
    "budget_analysis.show()\n"
   ]
  },
  {
   "cell_type": "markdown",
   "metadata": {},
   "source": [
    "Looking the visualization, two organizations do not have any budgets. Those are *Veterans Affairs Canada* and *Atlantic Canada Opportunities Agency*. This is because for the former they were only over-budget by one dollar, and the latter did not go over budget. What other conclusions can you interpret from the visualization? "
   ]
  },
  {
   "cell_type": "markdown",
   "metadata": {},
   "source": [
    "We can also look at the distribution percentage of government expenses on particular categories in the dataframe `overall_expenses`."
   ]
  },
  {
   "cell_type": "code",
   "execution_count": null,
   "metadata": {},
   "outputs": [],
   "source": [
    "overall_expenses"
   ]
  },
  {
   "cell_type": "markdown",
   "metadata": {},
   "source": [
    "We can first create a visualization representing the general progression of government expenses."
   ]
  },
  {
   "cell_type": "code",
   "execution_count": null,
   "metadata": {},
   "outputs": [],
   "source": [
    "columns = overall_expenses.columns[1:7]\n",
    "\n",
    "stacked_categories = px.bar(overall_expenses, x='Year', y=columns, title=\"Stacked Bar Graph of Government Expenses, 2008-2021\",\n",
    "             labels={'variable': f\"Category\", 'index': \"Year\", 'value': 'Percentage of Budget'})\n",
    "\n",
    "stacked_categories.update_layout(barmode='stack').show()"
   ]
  },
  {
   "cell_type": "markdown",
   "metadata": {},
   "source": [
    "Looking at the visualization, we can generally interpret which categories are prioritized by the government. *Social protection* and *health* appears to be of the highest priority without major changes throughout the years. This is also similar with other categories, appearing to change minimally. However, these minimal changes may be drastic when interpreted in the larger scale of money. "
   ]
  },
  {
   "cell_type": "markdown",
   "metadata": {},
   "source": [
    "Let's try to identify the changes throughout the years with more detail. We can calculate this by taking each year's current percent and subtracting it with the previous year. These will be documented in different columns."
   ]
  },
  {
   "cell_type": "code",
   "execution_count": null,
   "metadata": {},
   "outputs": [],
   "source": [
    "for col in columns:\n",
    "    overall_expenses[col + '_change'] = overall_expenses[col] - overall_expenses[col].shift(1)\n",
    "\n",
    "# Replace the first row values with 0\n",
    "overall_expenses.fillna(0, inplace=True)\n",
    "display(overall_expenses)"
   ]
  },
  {
   "cell_type": "markdown",
   "metadata": {},
   "source": [
    "Now let's visualize these percent changes in the visualization below."
   ]
  },
  {
   "cell_type": "code",
   "execution_count": null,
   "metadata": {},
   "outputs": [],
   "source": [
    "percentage_fig = go.Figure()\n",
    "\n",
    "for col in columns:\n",
    "    color = 'red' if overall_expenses[col + '_change'].iloc[1:].mean() < 0 else 'green'\n",
    "    percentage_fig.add_trace(go.Scatter(\n",
    "        x=overall_expenses['Year'],\n",
    "        y=overall_expenses[col],\n",
    "        mode='lines+markers',\n",
    "        line=dict(dash='dot'),\n",
    "        name=col,\n",
    "        marker=dict(color=color),\n",
    "        text=[f'{col}: {y:.2f}%<br>Change: {change:.2f}%' for y, change in zip(overall_expenses[col], overall_expenses[col + '_change'])],\n",
    "        hoverinfo='text',\n",
    "    ))\n",
    "\n",
    "percentage_fig.update_layout(\n",
    "    title=\"Progression of Expenses 2008-2021\",\n",
    "    xaxis=dict(title=\"Year\"),\n",
    "    yaxis=dict(title=\"Percentage Change\"),\n",
    ").show()"
   ]
  },
  {
   "cell_type": "markdown",
   "metadata": {},
   "source": [
    "It appears that half of the categories have *decreased* in overall percentage while the other half of categories *increased* in percentage throughout the years of 2008 to 2021. An interesting thing to note is the largest positive increase was in the year 2019-2020 with a 7% increase in social protection. A potential reasoning to why social protection increased so much in this year was that this was that this was the beginning of Covid-19. Unemployment soared during this time and the government may have had to assist more due to increasing poverty rates. However, many would assume *health* would have been prioritized if this was the case, but surprisingly it's allocation in budget decreased. \n",
    "\n",
    "Overall, upon closer examination of the specific percentage changes, it becomes apparent that the government has opted for relatively modest adjustments to the budget. This approach is generally positive, as it promotes stability and flexibility to address changing priorities and challenges."
   ]
  },
  {
   "cell_type": "markdown",
   "metadata": {},
   "source": [
    "We can also look at the percentages of budget based on province using the `share_of_expenses` dataframe."
   ]
  },
  {
   "cell_type": "code",
   "execution_count": null,
   "metadata": {},
   "outputs": [],
   "source": [
    "share_of_expenses"
   ]
  },
  {
   "cell_type": "markdown",
   "metadata": {},
   "source": [
    "## Extended Organization"
   ]
  },
  {
   "cell_type": "markdown",
   "metadata": {},
   "source": [
    "As an extension to organizing data, *data-cleaning* is an essential step in the data preparation process. Generally, it involves identifying, correcting, and handling errors, inconsistencies, and inaccuracies within a dataset. In our particular case, we will be changing the names of our columns to better suit analysis in later code cells.  \n",
    "\n",
    "We will also be reading in a *geojson* file, which contains information about the geometric latitude/longitude of the borders of provinces in Canada. "
   ]
  },
  {
   "cell_type": "code",
   "execution_count": null,
   "metadata": {},
   "outputs": [],
   "source": [
    "prov_data = gpd.read_file('https://raw.githubusercontent.com/callysto/data-files/main/Science/ClimateAcrossProvinces/geopandas.geojson')\n",
    "\n",
    "prov_data.prov_name_fr.replace(\n",
    "    {\n",
    "        'Alberta': 'Alberta',\n",
    "        'Manitoba': 'Manitoba',\n",
    "        'Yukon': 'Yukon',\n",
    "        'Terre-Neuve-et-Labrador': 'Newfoundland and Labrador',\n",
    "        'Nouvelle-Écosse': 'Nova Scotia',\n",
    "        'Territoires du Nord-Ouest': 'Northwest Territories',\n",
    "        'Île-du-Prince-Édouard': 'Prince Edward Island',\n",
    "        'Nunavut': 'Nunavut',\n",
    "        'Québec': 'Quebec',\n",
    "        'Ontario': 'Ontario',\n",
    "        'Colombie-Britannique': 'British Columbia'\n",
    "    },\n",
    "    inplace=True\n",
    ")\n",
    "\n",
    "prov_data.rename(columns={'prov_name_fr': \"Province\"}, inplace=True)  \n",
    "prov_data"
   ]
  },
  {
   "cell_type": "markdown",
   "metadata": {},
   "source": [
    "Now that we've properly cleaned our dataframe, we will merge our two dataframes. Don't worry about the particular details on why this is being done; it's primarily for coding purposes to prepare for a future visualization."
   ]
  },
  {
   "cell_type": "code",
   "execution_count": null,
   "metadata": {},
   "outputs": [],
   "source": [
    "prov_data['prov_name_en'] = prov_data['prov_name_en'].apply(lambda x: ''.join(map(str, x)))\n",
    "\n",
    "merged_data = share_of_expenses.merge(prov_data, left_on='Province', right_on='Province', how='left')\n",
    "merged_data"
   ]
  },
  {
   "cell_type": "markdown",
   "metadata": {},
   "source": [
    "Now that we've obtained a merged dataframe, we can visualize the different provincial spending habits via a folium map! By using the top tab called *Column*, you can select a specific column to visualize. Provinces that are deeper in green represent a higher allocation of government budget, while lighter colours represent the opposite. "
   ]
  },
  {
   "cell_type": "code",
   "execution_count": null,
   "metadata": {},
   "outputs": [],
   "source": [
    "spendingbyprov = ipywidgets.Output(layout={'border': '1px solid black'})\n",
    "\n",
    "column_names = merged_data.columns[1:7].tolist()\n",
    "dropdown_options = ipywidgets.Dropdown(\n",
    "    options=column_names,\n",
    "    value=column_names[0],\n",
    "    description='Column:',\n",
    "    disabled=False\n",
    ")\n",
    "\n",
    "def update_choropleth(change):\n",
    "    spendingbyprov.clear_output()\n",
    "    with spendingbyprov:\n",
    "        m = folium.Map(location=[50, -65], zoom_start=3)\n",
    "        folium.Choropleth(\n",
    "            geo_data=prov_data,\n",
    "            data=merged_data,\n",
    "            columns=['prov_name_en', dropdown_options.value],  \n",
    "            key_on='feature.properties.prov_name_en',  \n",
    "            fill_color='YlGn',\n",
    "            fill_opacity=0.7,\n",
    "            line_opacity=0.2,\n",
    "            legend_name=f'Spending on {dropdown_options.value} by Province',\n",
    "        ).add_to(m)\n",
    "        display(m)\n",
    "\n",
    "dropdown_options.observe(update_choropleth, names='value')\n",
    "display(dropdown_options)\n",
    "update_choropleth({'new': column_names[0]})\n",
    "\n",
    "spendingbyprov"
   ]
  },
  {
   "cell_type": "markdown",
   "metadata": {},
   "source": [
    "In the final section of our notebook, we'll be visualizing differences in allocated dollars of federal and provincial governments. We'll also be performing another form of *data-cleaning* in our dataframe called `federal_provincial` by converting all our dollar amounts into valid numbers for analysis later."
   ]
  },
  {
   "cell_type": "code",
   "execution_count": null,
   "metadata": {},
   "outputs": [],
   "source": [
    "federal_provincial = federal_provincial.drop(federal_provincial.index[20:], axis=0).reset_index(drop=True)\n",
    "federal_provincial['Canadian Classification of Functions of Government (CCOFOG) '] = federal_provincial['Canadian Classification of Functions of Government (CCOFOG) '].str.strip()\n",
    "\n",
    "columns_to_convert = federal_provincial.columns[1:15]\n",
    "for col in columns_to_convert:\n",
    "    federal_provincial[col] = federal_provincial[col].str.replace(',', '', regex=True).astype(float)\n",
    "federal_provincial"
   ]
  },
  {
   "cell_type": "markdown",
   "metadata": {},
   "source": [
    "Now that we have valid numeric values, let's create a visualization of each different classifications based on federal and provincial budgets. \n",
    "\n",
    "*Note*: Since many of the classifications have long names, we'll be using an abbreviation system. The abbreviated names will also be printed below the visualization."
   ]
  },
  {
   "cell_type": "code",
   "execution_count": null,
   "metadata": {},
   "outputs": [],
   "source": [
    "classification_name_mapping = {\n",
    "    'General public services': 'GPS',\n",
    "    'Public order and safety': 'POS',\n",
    "    'Economic affairs': 'EA',\n",
    "    'Environmental protection': 'EP',\n",
    "    'Housing and community amenities': 'HCA',\n",
    "    'Recreation, culture and religion': 'RCR',\n",
    "    'Social protection': 'SP'\n",
    "}\n",
    "\n",
    "federal_provincial['Canadian Classification of Functions of Government (CCOFOG) '] = federal_provincial['Canadian Classification of Functions of Government (CCOFOG) '].map(classification_name_mapping).fillna(federal_provincial['Canadian Classification of Functions of Government (CCOFOG) '])\n",
    "classifications = federal_provincial['Canadian Classification of Functions of Government (CCOFOG) '].unique()\n",
    "num_columns = len(classifications)\n",
    "\n",
    "all_classifications_fig = make_subplots(rows=1, cols=num_columns, subplot_titles=classifications)\n",
    "\n",
    "col_num = 1\n",
    "\n",
    "for classification in classifications:\n",
    "    temp_df = federal_provincial[federal_provincial['Canadian Classification of Functions of Government (CCOFOG) '] == classification]\n",
    "    temp_df = temp_df.melt(id_vars=['Canadian Classification of Functions of Government (CCOFOG) ', 'Public sector components'], var_name='Year', value_name='Value')\n",
    "\n",
    "    traces = []\n",
    "    for component in temp_df['Public sector components'].unique():\n",
    "        trace = go.Scatter(\n",
    "            x=temp_df[temp_df['Public sector components'] == component]['Year'],\n",
    "            y=temp_df[temp_df['Public sector components'] == component]['Value'],\n",
    "            mode='lines+markers',\n",
    "            name=component\n",
    "        )\n",
    "        traces.append(trace)\n",
    "\n",
    "    for trace in traces:\n",
    "        all_classifications_fig.add_trace(trace, row=1, col=col_num)\n",
    "\n",
    "    all_classifications_fig.update_xaxes(title_text='Year', row=1, col=col_num)\n",
    "\n",
    "    all_classifications_fig.update_yaxes(title_text='', row=1, col=col_num)\n",
    "\n",
    "    col_num += 1\n",
    "\n",
    "all_classifications_fig.update_layout(\n",
    "    title='Spending Over the Years by Classification',\n",
    "    showlegend=False  \n",
    ").show()\n",
    "\n",
    "print(\"Classification Name Mapping:\")\n",
    "for full_name, short_name in classification_name_mapping.items():\n",
    "    print(f\"{full_name} => {short_name}\")"
   ]
  },
  {
   "cell_type": "markdown",
   "metadata": {},
   "source": [
    "Looking at our final visualization, we can definitively say that federal government budgets are *much* larger than their respective provincial counterparts. The only classification that has a similar federal and provincial budget is *Health*. Interestingly, the classification *Defence* has no budget allocated in the provincial sector. Can you interpret ideas on why this could be?"
   ]
  },
  {
   "cell_type": "markdown",
   "metadata": {},
   "source": [
    "# Interpret"
   ]
  },
  {
   "cell_type": "markdown",
   "metadata": {},
   "source": [
    "### Reflect on What You See"
   ]
  },
  {
   "cell_type": "markdown",
   "metadata": {},
   "source": [
    "Think about the following questions.\n",
    "\n",
    "1. How have shifts in government spending patterns impacted your perception of public service accessibility and quality in your area?\n",
    "2. What strategies or policies do you believe should be implemented to ensure fair and equitable distribution of government resources across various sectors and regions?\n",
    "3. What insights can be gained from historical instances of government budget adjustments, and how can they inform proactive measures to address future challenges related to government resource allocation and spending decisions?\n",
    "\n",
    "# Communicate\n",
    "\n",
    "Below are some writing prompts to help you reflect on the new information that is presented from the data. When we look at the evidence, think about what you perceive about the information. Is this perception based on what the evidence shows? If others were to view it, what perceptions might they have?\n",
    "\n",
    "- I used to think ____________________ but now I know ____________________. \n",
    "- I wish I knew more about ____________________. \n",
    "- This visualization reminds me of ____________________. \n",
    "- I really like ____________________."
   ]
  },
  {
   "cell_type": "markdown",
   "metadata": {},
   "source": [
    "[![Callysto.ca License](https://github.com/callysto/curriculum-notebooks/blob/master/callysto-notebook-banner-bottom.jpg?raw=true)](https://github.com/callysto/curriculum-notebooks/blob/master/LICENSE.md)"
   ]
  }
 ],
 "metadata": {
  "kernelspec": {
   "display_name": "Python 3",
   "language": "python",
   "name": "python3"
  },
  "language_info": {
   "codemirror_mode": {
    "name": "ipython",
    "version": 3
   },
   "file_extension": ".py",
   "mimetype": "text/x-python",
   "name": "python",
   "nbconvert_exporter": "python",
   "pygments_lexer": "ipython3",
   "version": "3.11.3"
  },
  "orig_nbformat": 4
 },
 "nbformat": 4,
 "nbformat_minor": 2
}
