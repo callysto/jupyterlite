{
 "cells": [
  {
   "cell_type": "markdown",
   "metadata": {},
   "source": [
    "![Callysto.ca Banner](https://github.com/callysto/curriculum-notebooks/blob/master/callysto-notebook-banner-top.jpg?raw=true)"
   ]
  },
  {
   "cell_type": "markdown",
   "metadata": {},
   "source": [
    "# Callysto’s Weekly Data Visualization\n",
    "\n",
    "## Twitch and Game Popularity\n",
    "\n",
    "### Recommended Grade levels: 7-12\n",
    "\n",
    "![Twitch website](images/Twitch_header.png)\n",
    "<br>"
   ]
  },
  {
   "cell_type": "markdown",
   "metadata": {},
   "source": [
    "### Instructions\n",
    "#### “Run” the cells to see the graphs\n",
    "Click “Cell” and select “Run All”.<br> This will import the data and run all the code, so you can see this week's data visualization. Scroll to the top after you’ve run the cells.<br> \n",
    "\n",
    "![instructions](https://github.com/callysto/data-viz-of-the-week/blob/main/images/instructions.png?raw=true)\n",
    "\n",
    "**You don’t need to do any coding to view the visualizations**.\n",
    "The plots generated in this notebook are interactive. You can hover over and click on elements to see more information. \n",
    "\n",
    "Email contact@callysto.ca if you experience issues."
   ]
  },
  {
   "cell_type": "markdown",
   "metadata": {},
   "source": [
    "### About this Notebook\n",
    "\n",
    "Callysto's Weekly Data Visualization is a learning resource that aims to develop data literacy skills. We provide Grades 5-12 teachers and students with a data visualization, like a graph, to interpret. This companion resource walks learners through how the data visualization is created and interpreted by a data scientist. \n",
    "\n",
    "The steps of the data analysis process are listed below and applied to each weekly topic.\n",
    "\n",
    "1. Question - What are we trying to answer? \n",
    "2. Gather - Find the data source(s) you will need. \n",
    "3. Organize - Arrange the data, so that you can easily explore it. \n",
    "4. Explore - Examine the data to look for evidence to answer the question. This includes creating visualizations. \n",
    "5. Interpret - Describe what's happening in the data visualization. \n",
    "6. Communicate - Explain how the evidence answers the question. "
   ]
  },
  {
   "cell_type": "markdown",
   "metadata": {},
   "source": [
    "# Question\n",
    "\n",
    "**Twitch** is an online streaming service that lets viewers anywhere in the world watch their favourite gamers play video games, live. It is extremely popular, with viewers spending hundreds of hours to watch someone else play a game.\n",
    "\n",
    "Here is a screen shot from the Twitch website, showing a game in play as well as other channels to look at.\n",
    "\n",
    "![Image](images/Twitch.png)\n",
    "\n",
    "Why  is Twitch so  popular? I do not know! \n",
    "\n",
    "Have you ever wondered which games on Twitch are most popular, and just how much watching is going on?\n",
    "\n",
    "### Goal\n",
    "Our goal is to show an overview of what games are most popular, based on counts of number of hours watched, and number of viewers watching.\n",
    "\n",
    "We will use pie charts and bar graphs to visually represent this data in an informative way.  "
   ]
  },
  {
   "cell_type": "markdown",
   "metadata": {},
   "source": [
    "# Gather\n",
    "\n",
    "### Code:\n",
    "The code below will import the Python programming libraries we need to gather and organize the data to answer our question."
   ]
  },
  {
   "cell_type": "code",
   "execution_count": null,
   "metadata": {},
   "outputs": [],
   "source": [
    "## import libraries\n",
    "%pip install -r requirements.txt\n",
    "import pyodide_http\n",
    "pyodide_http.patch_all()\n",
    "import pandas as pd\n",
    "import plotly.express as px"
   ]
  },
  {
   "cell_type": "markdown",
   "metadata": {},
   "source": [
    "### Data:\n",
    "\n",
    "There are many sources for information about Twitch and its usage statistics. We used a site called Twitch Analytics hosted by SullyGnome.com The website is here: https://sullygnome.com/\n",
    "\n",
    "This web page has several options for downloading information. They asked us not to \"scrape\" data from the site, so we had a choice of downloading their files in csv format (Comma Separated Values), or copying and pasting directly from the web page into our own spreadsheets and saving as csv. Here are our four files for this project: \n",
    "- watch-time-30.csv  The list amount of time (hours) watched, per game, in the last 30 days\n",
    "- watch-time-365.csv Ditto, but in the last 365 days\n",
    "- peak-viewers-30.csv The list of peak number of viewers, per game, in the last 30 days\n",
    "- peak-viewers-365.csv Ditto, but in the last 365 days\n",
    "\n",
    "We did discover that copying and pasting gave us better data. We suspect the CSV files directly downloaded from the website are flawed. (We sent a message to the author of the sullygnom.com webpage.) Our data was downloaded on February 28, 2021. \n",
    "\n",
    "We then upload the .csv file on our Jupyter hub, where we can access it with our code. These files are all available when you access this code on the Callysto hub."
   ]
  },
  {
   "cell_type": "markdown",
   "metadata": {},
   "source": [
    "### Import the data"
   ]
  },
  {
   "cell_type": "code",
   "execution_count": null,
   "metadata": {},
   "outputs": [],
   "source": [
    "## import data, from csv into a data frame (df)\n",
    "time30_df = pd.read_csv('data/watch-time-30.csv'); \n",
    "time365_df = pd.read_csv('data/watch-time-365.csv'); \n",
    "viewers30_df = pd.read_csv('data/peak-viewers-30.csv'); \n",
    "viewers365_df = pd.read_csv('data/peak-viewers-365.csv'); "
   ]
  },
  {
   "cell_type": "markdown",
   "metadata": {},
   "source": [
    "### Comment on the data\n",
    "\n",
    "We can check the size of each data frame by using the \"shape\" command. This will tell us how many rows and columns are in each data frame."
   ]
  },
  {
   "cell_type": "code",
   "execution_count": null,
   "metadata": {},
   "outputs": [],
   "source": [
    "time30_df.shape, time365_df.shape, viewers30_df.shape, viewers365_df.shape"
   ]
  },
  {
   "cell_type": "markdown",
   "metadata": {},
   "source": [
    "From this \"shape\" inquiry, we see each data frame has 49 or 50 rows and 14 columns. \n",
    "\n",
    "We can display the first few rows of each data frame using the \"head\" command, as in the following code:"
   ]
  },
  {
   "cell_type": "code",
   "execution_count": null,
   "metadata": {},
   "outputs": [],
   "source": [
    "time30_df.head()"
   ]
  },
  {
   "cell_type": "code",
   "execution_count": null,
   "metadata": {},
   "outputs": [],
   "source": [
    "time365_df.head()"
   ]
  },
  {
   "cell_type": "code",
   "execution_count": null,
   "metadata": {},
   "outputs": [],
   "source": [
    "viewers30_df.head()"
   ]
  },
  {
   "cell_type": "code",
   "execution_count": null,
   "metadata": {},
   "outputs": [],
   "source": [
    "viewers365_df.head()"
   ]
  },
  {
   "cell_type": "markdown",
   "metadata": {},
   "source": [
    "# Organize\n",
    "\n",
    "The code below will arrange the data cleanly so that we can do analysis on it. This is a quality control step for our data and involves examining the data to detect anything odd with the data (e.g. structure, missing values), fixing the oddities, and checking if the fixes worked. \n",
    "\n",
    "One thing we notice is that **Just Chatting** shows up as the top item in each data frame. However, this is not really a game but rather a channel that viewers go to in order to chat, not play games. Since it is not a game, we will remove it from the data frame. Similarly, **Special Events** shows up in the \"viewers30\" and \"viewers365\" data frames, so we will remove that one as well.\n"
   ]
  },
  {
   "cell_type": "code",
   "execution_count": null,
   "metadata": {},
   "outputs": [],
   "source": [
    "# data cleaning\n",
    "time30_df = time30_df.drop(index=0);  ## drop row 0, which is Just Chatting\n",
    "time365_df = time365_df.drop(index=0);\n",
    "viewers30_df = viewers30_df.drop(index=[0,1]); ## drop rows 0 and 1, Just Chatting and Special Events\n",
    "viewers365_df = viewers365_df.drop(index=[0,1]);"
   ]
  },
  {
   "cell_type": "markdown",
   "metadata": {},
   "source": [
    "We also need to convert the columns 'Watch time' and 'Peak viewers' to numbers, rather than text. \n",
    "We do this in Python by replacing the text 'hours' with a blank, replacing the commas with blank, \n",
    "and then convert the text to an integer. We do this for all four data frames, and for the two columns."
   ]
  },
  {
   "cell_type": "code",
   "execution_count": null,
   "metadata": {},
   "outputs": [],
   "source": [
    "# convert strings to numbers\n",
    "time30_df['Watch time'] = time30_df['Watch time'].str.replace(',', '').str.replace('hours','').astype(int)\n",
    "time365_df['Watch time'] = time365_df['Watch time'].str.replace(',', '').str.replace('hours','').astype(int)\n",
    "viewers30_df['Watch time'] = viewers30_df['Watch time'].str.replace(',', '').str.replace('hours','').astype(int)\n",
    "viewers365_df['Watch time'] = viewers365_df['Watch time'].str.replace(',', '').str.replace('hours','').astype(int)\n",
    "\n",
    "time30_df['Peak viewers'] = time30_df['Peak viewers'].str.replace(',', '').str.replace('hours','').astype(int)\n",
    "time365_df['Peak viewers'] = time365_df['Peak viewers'].str.replace(',', '').str.replace('hours','').astype(int)\n",
    "viewers30_df['Peak viewers'] = viewers30_df['Peak viewers'].str.replace(',', '').str.replace('hours','').astype(int)\n",
    "viewers365_df['Peak viewers'] = viewers365_df['Peak viewers'].str.replace(',', '').str.replace('hours','').astype(int)"
   ]
  },
  {
   "cell_type": "markdown",
   "metadata": {},
   "source": [
    "### Comment on the data\n",
    "\n",
    "We can look at the data head again, to ensure that we have removed those channels, Just Chatting and Special Events.\n",
    "\n",
    "We also verify that the two columns \"Watch time\" and \"Peak viewers\" show up as plain numbers, not text."
   ]
  },
  {
   "cell_type": "code",
   "execution_count": null,
   "metadata": {},
   "outputs": [],
   "source": [
    "time30_df.head()"
   ]
  },
  {
   "cell_type": "code",
   "execution_count": null,
   "metadata": {},
   "outputs": [],
   "source": [
    "viewers30_df.head()"
   ]
  },
  {
   "cell_type": "markdown",
   "metadata": {},
   "source": [
    "# Explore\n",
    "\n",
    "The code below will be used to help us look for evidence to answer our question. This can involve looking at data in table format, applying math and statistics, and creating different types of visualizations to represent our data.\n",
    "\n",
    "We will start by displaying the 30 day data in a pie chart."
   ]
  },
  {
   "cell_type": "code",
   "execution_count": null,
   "metadata": {},
   "outputs": [],
   "source": [
    "# data exploration\n",
    "fig = px.pie(time30_df,names='Game',values='Watch time',title='Hours watched, by Game Title')\n",
    "fig.update_traces(textposition='inside', textinfo='percent+label')\n",
    "fig.update_layout(uniformtext_minsize=12, height=600, width=1200)\n",
    "fig.show()"
   ]
  },
  {
   "cell_type": "code",
   "execution_count": null,
   "metadata": {},
   "outputs": [],
   "source": [
    "fig = px.pie(time30_df,names='Game',values='Peak viewers',title='Peak viewers, by Game Title')\n",
    "fig.update_traces(textposition='inside', textinfo='percent+label')\n",
    "fig.update_layout(uniformtext_minsize=12, height=600, width=1200)\n",
    "fig.show()"
   ]
  },
  {
   "cell_type": "markdown",
   "metadata": {},
   "source": [
    "# Interpret\n",
    "\n",
    "The pie charts are overwhelming as they contain information about 50 games each. Let's display again, using only the top ten items in each chart. \n",
    "\n",
    "Notice the code to plot this is very similar to the above, except we indicate the row range by introducing the index list [0:10]. We also sort the values for \"Watch time\" or \"Peak viewers\" so that they are decreasing from highest to lowest."
   ]
  },
  {
   "cell_type": "code",
   "execution_count": null,
   "metadata": {},
   "outputs": [],
   "source": [
    "time30_df = time30_df.sort_values('Watch time', ascending = False) #sort the values first from high to low\n",
    "fig = px.pie(time30_df[0:10],names='Game',values='Watch time',title='Hours watched, by Game Title')\n",
    "fig.show()"
   ]
  },
  {
   "cell_type": "code",
   "execution_count": null,
   "metadata": {},
   "outputs": [],
   "source": [
    "time30_df = time30_df.sort_values('Peak viewers', ascending = False) #sort the values first from high to low\n",
    "fig = px.pie(time30_df[0:10],names='Game',values='Peak viewers',title='Peak viewers, by Game Title')\n",
    "fig.show()"
   ]
  },
  {
   "cell_type": "markdown",
   "metadata": {},
   "source": [
    "## Interpreting the charts\n",
    "\n",
    "We notice that the order of games depends on what you measure: hours watched, or peak number of viewers.\n",
    "\n",
    "However, there is some consistency. For instance, in both charts, the top five games include these four: \n",
    "> League of Legends, Minecraft, Fortnite, and Grand Theft Auto. "
   ]
  },
  {
   "cell_type": "markdown",
   "metadata": {},
   "source": [
    "## Alternate visualizations\n",
    "\n",
    "Perhaps you might find a bar chart to be more revealing. Not much code is needed for this; we just change the pie chart code above into a bar chart, being sure to plot the \"Watch time\" column here. "
   ]
  },
  {
   "cell_type": "code",
   "execution_count": null,
   "metadata": {},
   "outputs": [],
   "source": [
    "time30_df = time30_df.sort_values('Watch time', ascending = False) #sort the values first from high to low\n",
    "fig = px.bar(time30_df[0:10],x='Game',y='Watch time',title='Hours watched, by Game Title', color='Watch time')\n",
    "fig.show()"
   ]
  },
  {
   "cell_type": "markdown",
   "metadata": {},
   "source": [
    "We can also do a plot of the \"Peak Viewers\", in bar chart form."
   ]
  },
  {
   "cell_type": "code",
   "execution_count": null,
   "metadata": {},
   "outputs": [],
   "source": [
    "time30_df = time30_df.sort_values('Peak viewers', ascending = False) #sort the values first from high to low\n",
    "fig = px.bar(time30_df[0:10],x='Game',y='Peak viewers',title='Peak viewers, by Game Title', color='Peak viewers')\n",
    "fig.show()"
   ]
  },
  {
   "cell_type": "markdown",
   "metadata": {},
   "source": [
    "## Sanity Check\n",
    "\n",
    "In our first attempt in making this notebook, we thought there is something weird about the numbers. In the first instance, we found that League of Nations had about 10 billion hours of viewing, and 700 thousand viewers at its peak. \n",
    "\n",
    "10 billion divide by 700 thousand is about 14,000, which is the number of hours each viewer spends watching the game, over 30 days. \n",
    "\n",
    "Per day, this is about 475 hours. Yet there are ony 24 hours in the day. How can this be?\n",
    "\n",
    "After some investigation, we determined that the csv files downloaded directly from the sullygnome.com website were flawed. So we used a cut-and-paste message to get better data, which were used in this current version of our Python notebook.\n",
    "\n"
   ]
  },
  {
   "cell_type": "code",
   "execution_count": null,
   "metadata": {},
   "outputs": [],
   "source": [
    "## Here are the numbers\n",
    "10000000000/700000, 10000000000/700000/30\n"
   ]
  },
  {
   "cell_type": "markdown",
   "metadata": {},
   "source": [
    "## Sanity Check, Number Two\n",
    "\n",
    "With this new, corrected data, we found that League of Nations had about 165 million hours of viewing, and 700 thousand viewers at its peak. \n",
    "\n",
    "165 million divided by 700 thousand is about 236, which is the number of hours each viewer spends watching the game, over 30 days. \n",
    "\n",
    "Per day, this is about 7.8 hours. That does fit into a 24 hour day, but it is like a full work day. So it seems a lot of people are viewing these games for a long time each day. \n",
    "\n",
    "You might ask yourself why the number of hours is so high. Some possibilities:\n",
    "- people turn on their computer onto Twitch and have the games playing in the background during the work day\n",
    "- people create bots, or self-running programs that pretend to watch the game, to bring up the numbers\n",
    "- game players like to \"game\" the numbers to increase the payments they get for having many viewers. What are some other ways they can game the system?\n",
    "\n",
    "\n",
    "Here are the numbers, for numbers of hours per viewer, over 30 days, and per day:\n"
   ]
  },
  {
   "cell_type": "code",
   "execution_count": null,
   "metadata": {},
   "outputs": [],
   "source": [
    "165000000/700000, 165000000/700000/30"
   ]
  },
  {
   "cell_type": "markdown",
   "metadata": {},
   "source": [
    "## Communicate\n",
    "\n",
    "Below are some writing prompts to help you reflect on the new information that is presented from the data. When we look at the evidence, think about what you perceive about the information. Is this perception based on what the evidence shows? If others were to view it, what perceptions might they have?\n",
    "\n",
    "- I used to think ____________________but now I know____________________. \n",
    "- I wish I knew more about ____________________. \n",
    "- This visualization reminds me of ____________________. \n",
    "- I really like ____________________."
   ]
  },
  {
   "cell_type": "markdown",
   "metadata": {},
   "source": [
    "## Add your comments here\n",
    "\n",
    "✏️"
   ]
  },
  {
   "cell_type": "markdown",
   "metadata": {},
   "source": [
    "## Saving your work\n",
    "\n",
    "You can download this notebook, with your comments, by using the **File** menu item in the toolbar above. You might like to download this in .html format so that the graphics remain active and can be viewed in your web browser."
   ]
  },
  {
   "cell_type": "markdown",
   "metadata": {},
   "source": [
    "[![Callysto.ca License](https://github.com/callysto/curriculum-notebooks/blob/master/callysto-notebook-banner-bottom.jpg?raw=true)](https://github.com/callysto/curriculum-notebooks/blob/master/LICENSE.md)"
   ]
  }
 ],
 "metadata": {
  "kernelspec": {
   "display_name": "Python 3",
   "language": "python",
   "name": "python3"
  },
  "language_info": {
   "codemirror_mode": {
    "name": "ipython",
    "version": 3
   },
   "file_extension": ".py",
   "mimetype": "text/x-python",
   "name": "python",
   "nbconvert_exporter": "python",
   "pygments_lexer": "ipython3",
   "version": "3.10.8"
  }
 },
 "nbformat": 4,
 "nbformat_minor": 4
}
