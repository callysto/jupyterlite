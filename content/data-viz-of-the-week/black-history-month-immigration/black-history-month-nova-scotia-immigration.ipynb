{
 "cells": [
  {
   "cell_type": "markdown",
   "id": "69a32d8a",
   "metadata": {},
   "source": [
    "![Callysto.ca Banner](https://github.com/callysto/curriculum-notebooks/blob/master/callysto-notebook-banner-top.jpg?raw=true)\n",
    "\n",
    "<a href=\"https://hub.callysto.ca/jupyter/hub/user-redirect/git-pull?repo=https%3A%2F%2Fgithub.com%2Fcallysto%2Fdata-viz-of-the-week&branch=main&subPath=black-history-month-immigration/black-history-month-nova-scotia-immigration.ipynb&depth=1\" target=\"_parent\"><img src=\"https://raw.githubusercontent.com/callysto/curriculum-notebooks/master/open-in-callysto-button.svg?sanitize=true\" width=\"123\" height=\"24\" alt=\"Open in Callysto\"/></a>"
   ]
  },
  {
   "cell_type": "markdown",
   "id": "be1d63af",
   "metadata": {},
   "source": [
    "# African immigration to Nova Scotia in the 18th Century\n",
    "\n",
    "During the American Revolution, many people of African descent fled to the British side, and were relocated as free people of colour to communities in Canada, such as Nova Scotia. The British navy kept track of the names of the “Black Loyalists” who sailed from New York to Nova Scotia between April and November 1783 in a ledger known as the \"Book of Negroes\". Source: [Wikipedia](https://en.wikipedia.org/wiki/Book_of_Negroes), [Nova Scotia Archives](https://archives.novascotia.ca/africanns/book-of-negroes/).\n",
    "\n",
    "In this visualization, we studied a digital dataset version of this document to gain insights into their settlement in the region. The dataset can be found on Nova Scotia's Open Data Portal [here](https://data.novascotia.ca/Arts-Culture-and-History/-Book-of-Negroes-1783/xxcy-v3fh)."
   ]
  },
  {
   "cell_type": "code",
   "execution_count": null,
   "id": "6ff7cf22",
   "metadata": {},
   "outputs": [],
   "source": [
    "# Import the libraries we will be using\n",
    "import pandas as pd\n",
    "import plotly.express as px"
   ]
  },
  {
   "cell_type": "code",
   "execution_count": null,
   "id": "a9373992",
   "metadata": {},
   "outputs": [],
   "source": [
    "# Import the dataset\n",
    "df = pd.read_csv(\"data/Book-of-Negroes-1783-Open-Canada.csv\")"
   ]
  },
  {
   "cell_type": "code",
   "execution_count": null,
   "id": "fe028e43",
   "metadata": {},
   "outputs": [],
   "source": [
    "# Inspect the dataset\n",
    "df.info()"
   ]
  },
  {
   "cell_type": "markdown",
   "id": "866f191a",
   "metadata": {},
   "source": [
    "The `ARvessel` and `ARbound` columns refer to the ship name and destination port community name, respectively. Note, there are 3009 entries or rows in the dataset, but the `ARbound` column only has 3000 that are not null values."
   ]
  },
  {
   "cell_type": "code",
   "execution_count": null,
   "id": "0d4526bc",
   "metadata": {
    "scrolled": true
   },
   "outputs": [],
   "source": [
    "# Check if there are any missing values in the `ARbound` column\n",
    "df['ARbound'].isna().value_counts()"
   ]
  },
  {
   "cell_type": "markdown",
   "id": "0036d62a",
   "metadata": {},
   "source": [
    "There are 9 missing or NA values in the `ARbound` column. "
   ]
  },
  {
   "cell_type": "code",
   "execution_count": null,
   "id": "97ccb453",
   "metadata": {},
   "outputs": [],
   "source": [
    "# Replace any NA values with 'Not Specified'\n",
    "df['ARbound'] = df['ARbound'].fillna('Not Specified')\n",
    "df['ARbound'].isna().value_counts()"
   ]
  },
  {
   "cell_type": "markdown",
   "id": "35337e8d",
   "metadata": {},
   "source": [
    "We've replaced the 9 NA values with 'Not Specified' as the destination port community name in the `ARbound` column."
   ]
  },
  {
   "cell_type": "code",
   "execution_count": null,
   "id": "4741dd6c",
   "metadata": {},
   "outputs": [],
   "source": [
    "df['ARbound'].value_counts()"
   ]
  },
  {
   "cell_type": "markdown",
   "id": "90e9db64",
   "metadata": {},
   "source": [
    "## Comparing the Destination Locations"
   ]
  },
  {
   "cell_type": "code",
   "execution_count": null,
   "id": "fd5799ed",
   "metadata": {
    "scrolled": false
   },
   "outputs": [],
   "source": [
    "# Plot a histogram (bar) chart based on the destination community ('ARbound')\n",
    "fig = px.histogram(df, x='ARbound', color='ARvessel', \n",
    "                   labels=dict(ARbound=\"Destination Community\", ARvessel=\"Ship Name\"))\n",
    "fig.update_xaxes(categoryorder= \"total descending\")\n",
    "\n",
    "# Show the plot\n",
    "fig.show()"
   ]
  },
  {
   "cell_type": "markdown",
   "id": "43b75d06",
   "metadata": {},
   "source": [
    "## Questions to Explore\n",
    "\n",
    "Which Nova Scotia destination communities received the the highest number of immigrants of African descent? \n",
    "\n",
    "Are all of these destination communities found in Nova Scotia?\n",
    "\n",
    "Some of these destination community names may have changed names. Can you identify what their modern-day names are?\n",
    "\n",
    "Try to modify the code to plot a histogram of the ship name `ARvessel` with the destination community `ARbound` as the color."
   ]
  },
  {
   "cell_type": "markdown",
   "id": "99a3a572",
   "metadata": {},
   "source": [
    "[![Callysto.ca License](https://github.com/callysto/curriculum-notebooks/blob/master/callysto-notebook-banner-bottom.jpg?raw=true)](https://github.com/callysto/curriculum-notebooks/blob/master/LICENSE.md)"
   ]
  }
 ],
 "metadata": {
  "kernelspec": {
   "display_name": "Python 3 (ipykernel)",
   "language": "python",
   "name": "python3"
  },
  "language_info": {
   "codemirror_mode": {
    "name": "ipython",
    "version": 3
   },
   "file_extension": ".py",
   "mimetype": "text/x-python",
   "name": "python",
   "nbconvert_exporter": "python",
   "pygments_lexer": "ipython3",
   "version": "3.9.7"
  }
 },
 "nbformat": 4,
 "nbformat_minor": 5
}
