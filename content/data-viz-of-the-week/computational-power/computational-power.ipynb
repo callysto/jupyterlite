{
 "cells": [
  {
   "attachments": {},
   "cell_type": "markdown",
   "metadata": {},
   "source": [
    "![Callysto.ca Banner](https://github.com/callysto/curriculum-notebooks/blob/master/callysto-notebook-banner-top.jpg?raw=true)\n",
    "\n",
    "<a href=\"https://hub.callysto.ca/jupyter/hub/user-redirect/git-pull?repo=https%3A%2F%2Fgithub.com%2Fcallysto%2Fdata-viz-of-the-week&branch=main&subPath=computational-power/computational-power.ipynb&depth=1\" target=\"_parent\"><img src=\"https://raw.githubusercontent.com/callysto/curriculum-notebooks/master/open-in-callysto-button.svg?sanitize=true\" width=\"123\" height=\"24\" alt=\"Open in Callysto\"/></a>"
   ]
  },
  {
   "cell_type": "markdown",
   "metadata": {},
   "source": [
    "# Computational Power\n",
    "\n",
    "Since the first digital computers were invented in the 1940s, they've become an increasingly ubiquitous aspect of our lives. There are many reasons for this, but one of the biggest is the incredible increase in computational abilitiy that's happened over the past several decades. \n",
    "\n",
    "We'll look at data from [Wikipedia](https://en.wikipedia.org/wiki/FLOPS) to see how the cost of computational power has dramatically decreased over time. The code below scrapes the website and extracts the data from the table on computational power.\n",
    "\n",
    "This data is stored in a folder called `data`."
   ]
  },
  {
   "cell_type": "code",
   "execution_count": null,
   "metadata": {},
   "outputs": [],
   "source": [
    "# Import libraries\n",
    "%pip install -q pyodide_http plotly nbformat\n",
    "import pyodide_http\n",
    "pyodide_http.patch_all()\n",
    "\n",
    "import pandas as pd\n",
    "import requests, warnings\n",
    "import plotly.express as px\n",
    "\n",
    "df = pd.read_csv('data/computational_power.csv')\n",
    "df"
   ]
  },
  {
   "cell_type": "markdown",
   "metadata": {},
   "source": [
    "The value that we're comparing these computers across is **floating point operations per second** (FLOPS), a common measure when looking at computing power. FLOPS refer to the ability of a computer to do math with floating-point (or decimal) numbers; a task difficult for humans to do, but trivial and common for computers. For reference, below are a few examples of how the average human stacks up, so we may compare with computers.\n",
    "\n",
    "- Human (mental multiplication): 0.5 FLOPS\n",
    "- Human (pen and paper multiplication): 1 FLOPS\n",
    "- Limit of human computational ability (theoretical): 50 FLOPS\n",
    "- Limit of human perception (measured): 220 FLOPS\n",
    "\n",
    "(from [Wikipedia](https://en.wikipedia.org/wiki/Computer_performance_by_orders_of_magnitude))\n",
    "\n",
    "\n",
    "As computers have become more and more powerful, nowadays it's typical to refer to huge FLOPS numbers by assigning them an SI prefix, like **giga**FLOPS (GFLOPS, or $10^9$ FLOPS). Though the GFLOPS threshold was only crossed for the first time in the 1980s, comparing the computing power to the cost allows us to evaluate older computers alongside modern devices, as below."
   ]
  },
  {
   "cell_type": "markdown",
   "metadata": {},
   "source": [
    "<center><img src='img/craiyon_154829_pen_and_paper_math.png' width=400 /></center>\n",
    "<center>Image created using <a href='https://www.craiyon.com/'>Craiyon</a></center>"
   ]
  },
  {
   "cell_type": "code",
   "execution_count": null,
   "metadata": {},
   "outputs": [],
   "source": [
    "fig = px.scatter(df, x='Date', y='Approximate USD per GFLOPS',\n",
    "                   log_y=True, range_y=[1e-2, 1e16], height=600, width=1200,\n",
    "                   hover_name='Platform providing the lowest cost per GFLOPS',\n",
    "                   hover_data=['Comments'], labels={'Approximate USD per GFLOPS':'Approximate USD per GFLOPS (2021)'},\n",
    "                   title='Cost of computational power over time')\n",
    "\n",
    "annotations = []\n",
    "# ENIAC\n",
    "annotations.append(dict(text='ENIAC', showarrow=True,\n",
    "                        xref='x', yref='y', axref='x', ayref='y',\n",
    "                        x='1947-01-01', y=15.2,\n",
    "                        ax='1951-01-02', ay=15))\n",
    "# Stretch\n",
    "annotations.append(dict(text='IBM 7030 Stretch', showarrow=True,\n",
    "                        xref='x', yref='y', axref='x', ayref='y',\n",
    "                        x='1963-01-01', y=9.8,\n",
    "                        ax='1967-01-02', ay=11))\n",
    "# PS4\n",
    "annotations.append(dict(text='Playstation 4', showarrow=True,\n",
    "                        xref='x', yref='y', axref='x', ayref='y',\n",
    "                        x='2014-01-01', y=0.1,\n",
    "                        ax='2015-01-02', ay=1))\n",
    "# 4090\n",
    "annotations.append(dict(text='RTX 4090', showarrow=True,\n",
    "                        xref='x', yref='y', axref='x', ayref='y',\n",
    "                        x='2023-01-01', y=-1,\n",
    "                        ax='2024-01-02', ay=0.4))\n",
    "fig.update_layout(annotations=annotations)"
   ]
  },
  {
   "cell_type": "markdown",
   "metadata": {},
   "source": [
    "# Conclusion\n",
    "There's been significant improvements in computing power in the last several decades. The first general purpose digital computer, [ENIAC](https://en.wikipedia.org/wiki/ENIAC), had a cost per GFLOPS of over *$1.8 quadrillion*. That's a number approximately 20x higher than the estimated total amount of money in the world [source](https://www.gobankingrates.com/money/economy/how-much-money-is-in-the-world/). Compare that to the devices commercially available today, such as NVIDIA's RTX 4090 that can be purchased at most electronics stores (in early 2023), where the cost per GFLOPS is in the *cents* range.\n",
    "\n",
    "What does the future look like for advances in computing power?"
   ]
  },
  {
   "cell_type": "markdown",
   "metadata": {},
   "source": [
    "## Further Reading\n",
    "- [History of Computing Hardware](https://en.wikipedia.org/wiki/History_of_computing_hardware)\n",
    "- [Moore's Law](https://en.wikipedia.org/wiki/Moore%27s_law)"
   ]
  },
  {
   "cell_type": "markdown",
   "metadata": {},
   "source": [
    "[![Callysto.ca License](https://github.com/callysto/curriculum-notebooks/blob/master/callysto-notebook-banner-bottom.jpg?raw=true)](https://github.com/callysto/curriculum-notebooks/blob/master/LICENSE.md)"
   ]
  }
 ],
 "metadata": {
  "kernelspec": {
   "display_name": "Python 3 (ipykernel)",
   "language": "python",
   "name": "python3"
  },
  "language_info": {
   "codemirror_mode": {
    "name": "ipython",
    "version": 3
   },
   "file_extension": ".py",
   "mimetype": "text/x-python",
   "name": "python",
   "nbconvert_exporter": "python",
   "pygments_lexer": "ipython3",
   "version": "3.10.8"
  }
 },
 "nbformat": 4,
 "nbformat_minor": 4
}
