{
 "cells": [
  {
   "attachments": {},
   "cell_type": "markdown",
   "metadata": {},
   "source": [
    "![Callysto.ca Banner](https://github.com/callysto/curriculum-notebooks/blob/master/callysto-notebook-banner-top.jpg?raw=true)\n",
    "\n",
    "<a href=\"https://hub.callysto.ca/jupyter/hub/user-redirect/git-pull?repo=https%3A%2F%2Fgithub.com%2Fcallysto%2Fdata-viz-of-the-week&branch=main&subPath=world-teachers-day/world-teachers-day.ipynb&depth=1\" target=\"_parent\"><img src=\"https://raw.githubusercontent.com/callysto/curriculum-notebooks/master/open-in-callysto-button.svg?sanitize=true\" width=\"123\" height=\"24\" alt=\"Open in Callysto\"/></a>"
   ]
  },
  {
   "cell_type": "markdown",
   "metadata": {},
   "source": [
    "# Callysto’s Weekly Data Visualization\n",
    "\n",
    "## World Teachers' Day\n",
    "\n",
    "### Recommended Grade levels: 1-6\n",
    "<br>"
   ]
  },
  {
   "cell_type": "markdown",
   "metadata": {},
   "source": [
    "### Instructions\n",
    "#### “Run” the cells to see the graphs\n",
    "Click “Cell” and select “Run All”.<br> This will import the data and run all the code, so you can see this week's data visualization. Scroll to the top after you’ve run the cells.<br> \n",
    "\n",
    "![instructions](https://github.com/callysto/data-viz-of-the-week/blob/main/images/instructions.png?raw=true)\n",
    "\n",
    "**You don’t need to do any coding to view the visualizations**.\n",
    "The plots generated in this notebook are interactive. You can hover over and click on elements to see more information. \n",
    "\n",
    "Email contact@callysto.ca if you experience issues."
   ]
  },
  {
   "cell_type": "markdown",
   "metadata": {},
   "source": [
    "### About this Notebook\n",
    "\n",
    "Callysto's Weekly Data Visualization is a learning resource that aims to develop data literacy skills. We provide Grades 5-12 teachers and students with a data visualization, like a graph, to interpret. This companion resource walks learners through how the data visualization is created and interpreted by a data scientist. \n",
    "\n",
    "The steps of the data analysis process are listed below and applied to each weekly topic.\n",
    "\n",
    "1. Question - What are we trying to answer? \n",
    "2. Gather - Find the data source(s) you will need. \n",
    "3. Organize - Arrange the data, so that you can easily explore it. \n",
    "4. Explore - Examine the data to look for evidence to answer the question. This includes creating visualizations. \n",
    "5. Interpret - Describe what's happening in the data visualization. \n",
    "6. Communicate - Explain how the evidence answers the question. "
   ]
  },
  {
   "cell_type": "markdown",
   "metadata": {},
   "source": [
    "# Question\n",
    "\n",
    "<center><img src=\"img/love_to_learn.jpg\" width=500 height=300><br>\n",
    "<i style=\"font-size:9px;\">Photo from <a href=\"https://unsplash.com/photos/WE_Kv_ZB1l0\">Unsplash</a> by <a href=\"https://unsplash.com/@timmossholder\">Tim Mossholder</a></i></center>\n",
    "\n",
    "**World Teachers' Day** is a day of celebration for all teachers around the globe, returning annaully on **October 5th**. It celebrates the positive impacts teachers have made in transforming education and reflects on the support they provided to their students. More than 100 countries celebrate World Teachers' Day with slight differences on the date. For example, India celerbates World Teachers' Day on September 5th, a month earlier than Canada. \n",
    "\n",
    "Since 1996, [Uncesco](https://www.unesco.org/en/days/teachers) designs a campaign for teachers with specialzied themes for every year. \n",
    "\n",
    "This year, the theme is centered around **\"The teachers we need for the education we want: The global imperative to reverse the teacher shortage\"**, which is aimed to stop an international trend of declining number of teachers. \n",
    "\n",
    "### Goal\n",
    "In this notebook, our objective is to examine changes in the number of teachers in Canada over the past decade by gathering and analyzing pertinent data.  \n",
    "\n",
    "Following that, we will present students' survey responses regarding their experiences and sentiments related to their current or previous teachers. These survey findings will be visualized, possibly accompanied by selected quotes or testimonials, to highlight the extent of student appreciation."
   ]
  },
  {
   "cell_type": "markdown",
   "metadata": {},
   "source": [
    "# Gather\n",
    "\n",
    "### Code:\n",
    "The code below will import the Python programming libraries we need to gather and organize the data to answer our question."
   ]
  },
  {
   "cell_type": "code",
   "execution_count": null,
   "metadata": {},
   "outputs": [],
   "source": [
    "# import basic data wrangling libraries\n",
    "%pip install -q pyodide_http plotly nbformat nltk pyspellchecker openpyxl\n",
    "import pyodide_http\n",
    "pyodide_http.patch_all()\n",
    "import pandas as pd\n",
    "import numpy as np\n",
    "\n",
    "# import NLP data wrangling libraries\n",
    "import nltk\n",
    "nltk.download('averaged_perceptron_tagger')\n",
    "from spellchecker import SpellChecker\n",
    "\n",
    "# import visualization libraries\n",
    "from wordcloud import WordCloud\n",
    "from wordcloud import STOPWORDS\n",
    "import matplotlib.pyplot as plt\n",
    "import plotly.express as px\n",
    "import plotly.io as io\n",
    "import plotly.graph_objects as go\n",
    "print('libraries imported.')"
   ]
  },
  {
   "cell_type": "markdown",
   "metadata": {},
   "source": [
    "### Data:\n",
    "We have two datasets that we will be focusing on this notebook. \n",
    "\n",
    "- ##### Statistics Canada\n",
    "Dataset on the number of educators across Canadian provices is collected from [Statistics Canada website](https://www150.statcan.gc.ca/t1/tbl1/en/tv.action?pid=3710001001&pickMembers%5B0%5D=2.1&pickMembers%5B1%5D=3.1&pickMembers%5B2%5D=4.1&cubeTimeFrame.startYear=2002+%2F+2003&cubeTimeFrame.endYear=2016+%2F+2017&referencePeriods=20020101%2C20160101) (2003-2017). This dataset includes information on the number of full-time and part-time educators across Canadian provinces, with detailed information on their genders and age groups. In our exploration we divided them into three categories: *all-gender*, *females*, and *males*. \n",
    "\n",
    "- ##### Callysto Survey on World Teachers' Day\n",
    "The Callysto Team distributed a brief survey to students, offering a Google Form link for them to respond to questions about their favorite teachers. We emphasized the importance of maintaining anonymity when referring to a particular teacher and encouraged them to highlight the specific characteristics that made these teachers their favorites. "
   ]
  },
  {
   "cell_type": "markdown",
   "metadata": {},
   "source": [
    "### Import the data"
   ]
  },
  {
   "cell_type": "markdown",
   "metadata": {},
   "source": [
    "##### Statistics Canada"
   ]
  },
  {
   "cell_type": "code",
   "execution_count": null,
   "metadata": {},
   "outputs": [],
   "source": [
    "male = pd.read_csv(\"https://raw.githubusercontent.com/callysto/data-files/main/data-viz-of-the-week/world-teachers-day/data/male_teacher_count.csv\")\n",
    "female = pd.read_csv(\"https://raw.githubusercontent.com/callysto/data-files/main/data-viz-of-the-week/world-teachers-day/data/female_teacher_count.csv\")\n",
    "all_genders = pd.read_csv(\"https://raw.githubusercontent.com/callysto/data-files/main/data-viz-of-the-week/world-teachers-day/data/teacher_count.csv\")\n",
    "\n",
    "print(\"This dataset is derived from Statistics Canada, on the number of full-time & part-time all-gender educators.\")\n",
    "display(male.head())\n",
    "print(\"This dataset is derived from Statistics Canada, on the number of full-time & part-time female educators.\")\n",
    "display(female.head())\n",
    "print(\"This dataset is derived from Statistics Canada, on the number of full-time & part-time male educators.\")\n",
    "display(all_genders.head())"
   ]
  },
  {
   "cell_type": "markdown",
   "metadata": {},
   "source": [
    "##### Callysto Student Survey\n",
    "This dataset includes responses to three short answer questions: \n",
    "\n",
    "-What makes your teacher your *favourite?*\n",
    "\n",
    "-What impact did they have on you?\n",
    "\n",
    "-What makes them unique?\n",
    "\n",
    "-What would you describe your favourite teacher as?\": which the students could choose multipledropdown-list responses as their answers"
   ]
  },
  {
   "cell_type": "code",
   "execution_count": null,
   "metadata": {},
   "outputs": [],
   "source": [
    "student_df = pd.read_excel(\"https://raw.githubusercontent.com/callysto/data-files/main/data-viz-of-the-week/world-teachers-day/data/Favourite_Teacher_Student_Feedback_(Responses).xlsx\")\n",
    "student_df.head()"
   ]
  },
  {
   "cell_type": "markdown",
   "metadata": {},
   "source": [
    "### Comment on the data\n",
    "##### Statistics Canada"
   ]
  },
  {
   "cell_type": "code",
   "execution_count": null,
   "metadata": {},
   "outputs": [],
   "source": [
    "print(f\"Dataframe size for number of male educators in Canadian provinces: {male.shape[0]} rows and {male.shape[1]} columns.\")\n",
    "print(f\"Dataframe size for number of female educators in Canadian provinces: {female.shape[0]} rows and {female.shape[1]} columns.\")\n",
    "print(f\"Dataframe size for number of all educators in Canadian provinces: {all_genders.shape[0]} rows and {all_genders.shape[1]} columns.\")"
   ]
  },
  {
   "cell_type": "markdown",
   "metadata": {},
   "source": [
    "#### Callysto Student Survey"
   ]
  },
  {
   "cell_type": "code",
   "execution_count": null,
   "metadata": {},
   "outputs": [],
   "source": [
    "print(f\"The Callysto Student Survey data consists of {student_df.shape[0]} student responses, answering {student_df.shape[1]-1} questions each.\")"
   ]
  },
  {
   "cell_type": "markdown",
   "metadata": {},
   "source": [
    "# Organize\n",
    "\n",
    "The code below will arrange the data cleanly so that we can do analysis on it. This is a quality control step for our data and involves examining the data to detect anything odd with the data (e.g. structure, missing values), fixing the oddities, and checking if the fixes worked. "
   ]
  },
  {
   "cell_type": "markdown",
   "metadata": {},
   "source": [
    "#### Statistics Canada"
   ]
  },
  {
   "cell_type": "code",
   "execution_count": null,
   "metadata": {},
   "outputs": [],
   "source": [
    "def organize_df(df):\n",
    "    df[\"Year\"] = df[\"REF_DATE\"].str.split(\"/\").str[-1]\n",
    "    df[\"Year\"] = pd.DatetimeIndex(df[\"Year\"]).year\n",
    "    df = df[df[\"GEO\"] != \"Canada\"]\n",
    "    return df\n",
    "\n",
    "all_df = pd.concat([organize_df(all_genders), organize_df(female), organize_df(male)])\n",
    "all_df.rename(columns={\"VALUE\": \"Count\"}, inplace=True)\n",
    "all_df.head()"
   ]
  },
  {
   "cell_type": "markdown",
   "metadata": {},
   "source": [
    "#### Callysto Student Survey"
   ]
  },
  {
   "cell_type": "code",
   "execution_count": null,
   "metadata": {},
   "outputs": [],
   "source": [
    "columns = [\"Timestamp\", \"Favourite\", \"Impact\", \"Unique\", \"Characteristics\"]\n",
    "student_df.columns = columns\n",
    "\n",
    "def spell_check(df, col):\n",
    "    spell_checker = SpellChecker()\n",
    "    \n",
    "    for ind, row in df.iterrows():\n",
    "        df[col] = df[col].astype(str)\n",
    "        try:\n",
    "            all_list = row[col].split(\" \")\n",
    "            final_list = []\n",
    "        \n",
    "            for word in all_list:\n",
    "                word = spell_checker.correction(word)\n",
    "                final_list.append(word)\n",
    "                df.loc[ind, col] = \" \".join(final_list)\n",
    "        except:\n",
    "            continue\n",
    "    return df\n",
    "    \n",
    "col_list = student_df.columns[1:-1]\n",
    "\n",
    "for column in col_list:\n",
    "    spell_check(student_df, column)\n",
    "    \n",
    "student_df.head()"
   ]
  },
  {
   "cell_type": "markdown",
   "metadata": {},
   "source": [
    "Using the `spellchecker` library, we replaced potential spelling mistakes with proper words."
   ]
  },
  {
   "cell_type": "markdown",
   "metadata": {},
   "source": [
    "# Explore\n",
    "\n",
    "The code below will be used to help us look for evidence to answer our question. This can involve looking at data in table format, applying math and statistics, and creating different types of visualizations to represent our data."
   ]
  },
  {
   "cell_type": "markdown",
   "metadata": {},
   "source": [
    "### Insight into the number of educators across Canadian provinces"
   ]
  },
  {
   "cell_type": "code",
   "execution_count": null,
   "metadata": {},
   "outputs": [],
   "source": [
    "colors=['#1f77b4',  # muted blue\n",
    "        '#ff7f0e',  # safety orange\n",
    "        '#2ca02c',  # cooked asparagus green\n",
    "        '#d62728',  # brick red\n",
    "        '#9467bd',  # muted purple\n",
    "        '#8c564b',  # chestnut brown\n",
    "        '#e377c2',  # raspberry yogurt pink\n",
    "        '#17becf',  # blue-teal\n",
    "        '#210240',  # dark purple\n",
    "        '#21DC49',  # bright green\n",
    "        '#3F5063',  # dark navy\n",
    "        '#6C7075',  # dark grey\n",
    "        '#F4BC1A']  # mustard\n",
    "\n",
    "# Set unique colors for each Canadian provinces.\n",
    "color_dict = dict(zip(all_df[\"GEO\"].unique(), colors))\n",
    "all_df[\"Color\"] = all_df[\"GEO\"].map(color_dict)"
   ]
  },
  {
   "cell_type": "code",
   "execution_count": null,
   "metadata": {},
   "outputs": [],
   "source": [
    "all_df_filtered = all_df[all_df[\"Sex\"] == \"Both sexes\"]\n",
    "teacher_fig = px.line(all_df_filtered, x=\"Year\", y=\"Count\", markers=True, color=\"GEO\", height=500)\n",
    "teacher_fig.update_layout(title={\"text\":\"Historical Number of Full Time & Part Time Education in Canada\", \"x\":0.5})\n",
    "teacher_fig.show()"
   ]
  },
  {
   "cell_type": "markdown",
   "metadata": {},
   "source": [
    "The graph above is a little bit difficult to comprehend, and is hard to draw a conclusion on whether the number of total educators are declining. Instead, we will look into the [student enrollment data (Statistics Canada)](https://www150.statcan.gc.ca/n1/daily-quotidien/221122/dq221122e-eng.htm) from 2003 to 2017. This data is manually compiled with provincial data retrieved from Statistics Canada. \n",
    "\n",
    "Notice that for the comparison below, we are only focusing on **all genders (combining male and females)** to ease our understanding."
   ]
  },
  {
   "cell_type": "code",
   "execution_count": null,
   "metadata": {},
   "outputs": [],
   "source": [
    "student_enrol_df = pd.read_csv(\"https://raw.githubusercontent.com/callysto/data-files/main/data-viz-of-the-week/world-teachers-day/data/all_enrollment.csv\")\n",
    "count_df = all_df[[\"GEO\", \"Count\", \"Year\", \"Sex\"]]\n",
    "count_df = count_df[count_df[\"Sex\"] == \"Both sexes\"]\n",
    "enrol_df = student_enrol_df[[\"GEO\", \"VALUE\", \"Year\"]].rename(columns={\"VALUE\": \"Enrollment\"})\n",
    "comb_df = count_df.merge(enrol_df, on=[\"GEO\", \"Year\"])\n",
    "comb_df.drop_duplicates(inplace=True)\n",
    "comb_df[\"Ratio\"] = comb_df[\"Count\"] / comb_df[\"Enrollment\"]\n",
    "comb_df.head()"
   ]
  },
  {
   "cell_type": "code",
   "execution_count": null,
   "metadata": {},
   "outputs": [],
   "source": [
    "enrollment_fig = px.line(comb_df, x=\"Year\", y=\"Ratio\", markers=True, color=\"GEO\")\n",
    "enrollment_fig.update_layout(title={\"text\":\"Teacher-Student Enrollment Ratio\", \"x\":0.5},\n",
    "                            height=500)\n",
    "enrollment_fig.show()"
   ]
  },
  {
   "cell_type": "markdown",
   "metadata": {},
   "source": [
    "Overall, we notice that the teacher-student enrollment varies from province to province. From the graph, we can conclude that **British Columbia** experienced the greatest reduction in teacher-student enrollment ratio while **Newfoundland and Labrador** showed the greatest increase. "
   ]
  },
  {
   "cell_type": "markdown",
   "metadata": {},
   "source": [
    "### Callysto Student Survey Analysis\n",
    "#### Bar Graph"
   ]
  },
  {
   "cell_type": "code",
   "execution_count": null,
   "metadata": {},
   "outputs": [],
   "source": [
    "def count_values(df, col):\n",
    "    all_lists = df[col].values\n",
    "    count = {}\n",
    "    for ind, item in enumerate(all_lists):\n",
    "        item_words = item.split(\", \")\n",
    "        for ind_item in item_words:\n",
    "            if ind_item in list(count.keys()):\n",
    "                count[ind_item] += 1\n",
    "            else:\n",
    "                count[ind_item] = 1\n",
    "    return count\n",
    "\n",
    "count_dict = count_values(student_df, \"Characteristics\")\n",
    "count_df = pd.DataFrame.from_dict(count_dict, orient=\"index\").reset_index()\n",
    "count_df.columns = [\"Characteristic\", \"Count\"]\n",
    "count_df = count_df.sort_values(by=\"Count\")\n",
    "count_df.head()"
   ]
  },
  {
   "cell_type": "code",
   "execution_count": null,
   "metadata": {},
   "outputs": [],
   "source": [
    "student_bar = px.bar(count_df, x=\"Count\", y=\"Characteristic\", \n",
    "                     title=\"What makes your teacher a 'Favourite Teacher'?\", text_auto='.2s')\n",
    "student_bar.update_layout(width=800, height=800, title=dict(x=0.5))\n",
    "student_bar.show()"
   ]
  },
  {
   "cell_type": "markdown",
   "metadata": {},
   "source": [
    "#### WordCloud\n",
    "Worldcloud images are generated based on student answers to the following questions:\n",
    "- What makes your favourite teacher *favourite*?\n",
    "- What *impact* did they have on you?\n",
    "- What makes them *unique*?\n",
    "\n",
    "To generate a meaningful wordcloud image, we extracted all **adjectives** from student comments and created our images based on that."
   ]
  },
  {
   "cell_type": "code",
   "execution_count": null,
   "metadata": {},
   "outputs": [],
   "source": [
    "def create_wordcloud(df, col):\n",
    "    print(f\"Displaying word cloud for {col}.\")\n",
    "    all_text =  \" \".join(text for text in df[col] if nltk.pos_tag([text])[0][1] == \"JJ\")\n",
    "    stopwords = list(STOPWORDS) + [\"teacher\", \"teachers\", \"students\", \"make\", \"class\"]\n",
    "    word_cloud = WordCloud(stopwords=stopwords, background_color=\"white\").generate(all_text)\n",
    "\n",
    "    plt.figure(figsize=(7,7))\n",
    "    plt.imshow(word_cloud, interpolation=\"bilinear\")\n",
    "    plt.axis(\"off\")\n",
    "    plt.show()\n",
    "    \n",
    "for column in col_list:\n",
    "    create_wordcloud(student_df, column)"
   ]
  },
  {
   "cell_type": "markdown",
   "metadata": {},
   "source": [
    "# Communicate\n",
    "Below are some writing prompts to help you reflect on the new information that is presented from the data. When we look at the evidence, think about what you perceive about the information. Is this perception based on what the evidence shows? If others were to view it, what perceptions might they have?\n",
    "\n",
    "- I used to think ____________________ but now I think ____________________. \n",
    "- I wish I knew more about ____________________. \n",
    "- This visualization reminds me of ____________________. \n",
    "- I really like ____________________."
   ]
  },
  {
   "cell_type": "markdown",
   "metadata": {},
   "source": [
    "[![Callysto.ca License](https://github.com/callysto/curriculum-notebooks/blob/master/callysto-notebook-banner-bottom.jpg?raw=true)](https://github.com/callysto/curriculum-notebooks/blob/master/LICENSE.md)"
   ]
  }
 ],
 "metadata": {
  "kernelspec": {
   "display_name": "Python 3 (ipykernel)",
   "language": "python",
   "name": "python3"
  },
  "language_info": {
   "codemirror_mode": {
    "name": "ipython",
    "version": 3
   },
   "file_extension": ".py",
   "mimetype": "text/x-python",
   "name": "python",
   "nbconvert_exporter": "python",
   "pygments_lexer": "ipython3",
   "version": "3.9.12"
  }
 },
 "nbformat": 4,
 "nbformat_minor": 4
}
