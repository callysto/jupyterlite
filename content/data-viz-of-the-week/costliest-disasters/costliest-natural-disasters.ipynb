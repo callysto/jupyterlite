{
 "cells": [
  {
   "cell_type": "markdown",
   "id": "b2538929-5e56-4a7d-a8fb-cd4ff4a68110",
   "metadata": {},
   "source": [
    "![Callysto.ca Banner](https://github.com/callysto/curriculum-notebooks/blob/master/callysto-notebook-banner-top.jpg?raw=true)\n",
    "\n",
    "<a href=\"https://hub.callysto.ca/jupyter/hub/user-redirect/git-pull?repo=https%3A%2F%2Fgithub.com%2Fcallysto%2Fdata-viz-of-the-week&branch=main&subPath=costliest-disasters/costliest-natural-disasters.ipynb&depth=1\" target=\"_parent\"><img src=\"https://raw.githubusercontent.com/callysto/curriculum-notebooks/master/open-in-callysto-button.svg?sanitize=true\" width=\"123\" height=\"24\" alt=\"Open in Callysto\"></a>"
   ]
  },
  {
   "cell_type": "markdown",
   "id": "8194957c-d1ad-4d8c-9ab6-646b9f531322",
   "metadata": {},
   "source": [
    "# Callysto's Weekly Data Visualization "
   ]
  },
  {
   "cell_type": "markdown",
   "id": "fbc78e75-02d5-440f-898a-4a168607b59d",
   "metadata": {},
   "source": [
    "## Costliest Natural Disasters"
   ]
  },
  {
   "cell_type": "markdown",
   "id": "4b17e799",
   "metadata": {},
   "source": [
    "### Recommended Grade levels: 5-9"
   ]
  },
  {
   "attachments": {},
   "cell_type": "markdown",
   "id": "4253dd5d-23da-4e6c-b84a-98a61cb7b6a9",
   "metadata": {},
   "source": [
    "### Instructions\n",
    "\n",
    "Click \"Cell\" and select \"Run All\".\n",
    "\n",
    "This will import the data and run all the code, so you can see this week's data visualization. Scroll back to the top after you’ve run the cells.\n",
    "\n",
    "![instructions](https://github.com/callysto/data-viz-of-the-week/blob/main/images/instructions.png?raw=true)\n",
    "\n",
    "**You don't need to do any coding to view the visualizations**.\n",
    "\n",
    "The plots generated in this notebook are interactive. You can hover over and click on elements to see more information. \n",
    "\n",
    "Email contact@callysto.ca if you experience issues."
   ]
  },
  {
   "cell_type": "markdown",
   "id": "b4f78591-b95d-4903-b98d-d8eb46eda70b",
   "metadata": {},
   "source": [
    "### About this Notebook\n",
    "\n",
    "Callysto's Weekly Data Visualization is a learning resource that aims to develop data literacy skills. We provide Grades 5-12 teachers and students with a data visualization, like a graph, to interpret. This companion resource walks learners through how the data visualization is created and interpreted by a data scientist. \n",
    "\n",
    "The steps of the data analysis process are listed below and applied to each weekly topic.\n",
    "\n",
    "1. Question - What are we trying to answer?\n",
    "2. Gather - Find the data source(s) you will need. \n",
    "3. Organize - Arrange the data, so that you can easily explore it. \n",
    "4. Explore - Examine the data to look for evidence to answer the question. This includes creating visualizations. \n",
    "5. Interpret - Describe what's happening in the data visualization. \n",
    "6. Communicate - Explain how the evidence answers the question. "
   ]
  },
  {
   "cell_type": "markdown",
   "id": "da4ed2dc-88be-484c-8ac0-44030ca837ac",
   "metadata": {},
   "source": [
    "## Question\n",
    "\n",
    "What were the most expensive natural disasters in Canada? "
   ]
  },
  {
   "cell_type": "markdown",
   "id": "05cf0283-e935-49e6-bb1d-5a15ca0e0969",
   "metadata": {},
   "source": [
    "### Goal\n",
    "\n",
    "Our goal is to show which natural disasters led to the greatest financial costs and use visualizations to discover any patterns to their impact.\n",
    "\n",
    "The dataset is taken from [Public Safety Canada](https://www.publicsafety.gc.ca/cnt/rsrcs/cndn-dsstr-dtbs/index-en.aspx), and contains information on Canadian natural disaster events from the years 1900 to 2019."
   ]
  },
  {
   "cell_type": "markdown",
   "id": "9ba03961-49dc-44cf-a785-222baf79886d",
   "metadata": {},
   "source": [
    "### Background\n",
    "\n",
    "Weather events and natural diasters have the potential to cause huge amounts of damage to property. Have you ever wondered what the most expensive natural disasters and weather events are in Canada? We are going to explore the costliest natural disasters in the 2010 decade in this notebook. \n"
   ]
  },
  {
   "attachments": {},
   "cell_type": "markdown",
   "id": "a9034a69-3d04-47da-9c29-fa8a22b83d86",
   "metadata": {
    "tags": []
   },
   "source": [
    "## Gather"
   ]
  },
  {
   "cell_type": "markdown",
   "id": "d52d87ee-5cb7-479e-aa87-b02fb95790f6",
   "metadata": {},
   "source": [
    "### Code: "
   ]
  },
  {
   "attachments": {},
   "cell_type": "markdown",
   "id": "03c65e82-b869-4099-966b-b8d4d8a683d5",
   "metadata": {},
   "source": [
    "Run the code cells below to import the libraries we need for this project. Libraries are pre-made code that make it easier to analyze our data."
   ]
  },
  {
   "cell_type": "code",
   "execution_count": null,
   "id": "e02b0b07-dbb7-4110-98fe-e721b1474f31",
   "metadata": {},
   "outputs": [],
   "source": [
    "%pip install -r requirements.txt\n",
    "import pyodide_http\n",
    "pyodide_http.patch_all()\n",
    "import pandas as pd\n",
    "import plotly.express as px\n",
    "print('Libraries imported')"
   ]
  },
  {
   "attachments": {},
   "cell_type": "markdown",
   "id": "16dc0f21-6097-4068-baea-aee743a9648c",
   "metadata": {},
   "source": [
    "[pandas](https://pandas.pydata.org/) is a library that helps us with data analysis, and [Plotly Express](https://plotly.com/python/plotly-express/) is a library that helps us to make visualizations. Without importing these libraries we would have to use much more code to analyze our data and generate visualizations. We import the libraries with abbreviations, or aliases, so that we have less typing to do in each line of our code below."
   ]
  },
  {
   "cell_type": "markdown",
   "id": "4f504ed6-7278-426a-9069-28806385a997",
   "metadata": {},
   "source": [
    "### Data\n",
    "We are using data from [Public Safety Canada](https://www.publicsafety.gc.ca/cnt/rsrcs/cndn-dsstr-dtbs/index-en.aspx) on natural disasters. Run the code below to populate the data into a dataframe.\n",
    "\n",
    "#### Import the Data"
   ]
  },
  {
   "cell_type": "code",
   "execution_count": null,
   "id": "aedd7bc9-cf75-4888-b91a-4a30c0b7fb66",
   "metadata": {},
   "outputs": [],
   "source": [
    "data = pd.read_csv('data/CDD.txt', sep='\\t')\n",
    "data"
   ]
  },
  {
   "attachments": {},
   "cell_type": "markdown",
   "id": "c151125c-b071-4858-bffe-bcbfd00bf2bc",
   "metadata": {},
   "source": [
    "### Comment on the data\n",
    "\n",
    "The dataframe above is a file structure that allows Python to display data in an easily readable format, similar to a spreadsheet. \n",
    "\n",
    "As we can see from the numbers below the dataframe itself, this dataset has 867 rows and 23 columns. Each row represents a disaster, and each column describes an aspect of that disaster."
   ]
  },
  {
   "attachments": {},
   "cell_type": "markdown",
   "id": "f9915b09-a349-4baa-8562-29eef2b30e08",
   "metadata": {},
   "source": [
    "Next up, let's take a look at the names of the columns in our dataset. Run the code cell below to generate a list of all the columns."
   ]
  },
  {
   "cell_type": "code",
   "execution_count": null,
   "id": "bd007aba-670a-47f5-ad78-a7ec8d8f91be",
   "metadata": {},
   "outputs": [],
   "source": [
    "for i in data.columns:\n",
    "    print(i)"
   ]
  },
  {
   "attachments": {},
   "cell_type": "markdown",
   "id": "912f1a2f",
   "metadata": {},
   "source": [
    "Let's have a look at the `EVENT TYPE` column."
   ]
  },
  {
   "cell_type": "code",
   "execution_count": null,
   "id": "3d05f854",
   "metadata": {},
   "outputs": [],
   "source": [
    "data['EVENT TYPE'].unique()"
   ]
  },
  {
   "attachments": {},
   "cell_type": "markdown",
   "id": "69dea161",
   "metadata": {},
   "source": [
    "We can filter the dataset so it only contains event types that we recognize."
   ]
  },
  {
   "cell_type": "code",
   "execution_count": null,
   "id": "524ee609",
   "metadata": {},
   "outputs": [],
   "source": [
    "event_types = ['Flood','Winter Storm','Heat Event','Storm - Unspecified / Other',\n",
    "               'Hurricane / Typhoon / Tropical Storm','Storm Surge','Drought','Avalanche','Cold Event','Geomagnetic Storm']\n",
    "data = data[data['EVENT TYPE'].isin(event_types)]\n",
    "data['EVENT TYPE'].unique()"
   ]
  },
  {
   "attachments": {},
   "cell_type": "markdown",
   "id": "fb3a0719-6904-4d5b-9f1b-0af9ff5fe4b9",
   "metadata": {},
   "source": [
    "To answer our question, a few columns that are going to be most useful in analyzing the data are `ESTIMATED TOTAL COST` and `NORMALIZED TOTAL COST`. These columns will help us to understand the total costs of specific disaster events. \n",
    "\n",
    "The difference between `ESTIMATED TOTAL COST` and `NORMALIZED TOTAL COST` comes down to **inflation**. Inflation is when the cost associated with an item goes up over time; for example because of inflation the cost of a specific product like shoes will increase over time. Because of this increase, we need to standardize costs to a specific year. This is called **normalization**, and this data has been normalized to 2016 as that is the last year that had data to which we could normalize.\n",
    "\n",
    "This data set has a lot of different values in it and we could create a number of different visualizations with the data. To illustrate this we have created the visualization below. The code below will create a bar graph that lists each event type and totals the `NORMALIZED TOTAL COST` for each event.\n",
    "\n",
    "We'll first drop any rows that have `nan` or a number as the `EVENT TYPE`."
   ]
  },
  {
   "cell_type": "code",
   "execution_count": null,
   "id": "e5d682e8-67ff-4852-94d5-3fde54c8e4aa",
   "metadata": {},
   "outputs": [],
   "source": [
    "px.bar(data, x='EVENT TYPE', y='NORMALIZED TOTAL COST', title='Total Costs of Natural Disasters', height=800)"
   ]
  },
  {
   "attachments": {},
   "cell_type": "markdown",
   "id": "dfbed21f",
   "metadata": {},
   "source": [
    "This bar graph shows which type of disasters cost the most according to a metric of `NORMALIZED TOTAL COST`. Run the code cell below to generate a bar graph that compares events types to the total insurance costs. "
   ]
  },
  {
   "cell_type": "code",
   "execution_count": null,
   "id": "41caf155",
   "metadata": {},
   "outputs": [],
   "source": [
    "px.bar(data[data['EVENT TYPE'].isin(event_types)], x='EVENT TYPE', y='INSURANCE PAYMENTS', title='Insurance Payments for Natural Disasters', height=800)"
   ]
  },
  {
   "attachments": {},
   "cell_type": "markdown",
   "id": "3f34e8e3",
   "metadata": {},
   "source": [
    "From the second bar graph we can see which `EVENT TYPE` category had the highest insurance costs. Do you notice any similarities or differences between the two bar graphs? "
   ]
  },
  {
   "attachments": {},
   "cell_type": "markdown",
   "id": "7a6800e7",
   "metadata": {},
   "source": [
    "## Organize"
   ]
  },
  {
   "attachments": {},
   "cell_type": "markdown",
   "id": "5bb6fb0b-7210-4269-89b5-452e227cb638",
   "metadata": {},
   "source": [
    "An important part of the data science process is cleaning up and organizing your data so it can be useful for finding observations. Part of cleaning involves \n",
    "- identifying missing data\n",
    "- removing missing data\n",
    "- ensuring the data is all in the same format\n",
    "- identifying and dealing with outliers. \n",
    "\n",
    "Many of our fields have data in them, in data science we call that non-null. If you were to forget to write your name on your paper the name field would be null because there is no data in it. Once you write your name on your work suddenlty that value is non-null, because the value has data in it. Look at the information below when we run the `data.info` code  which fields have a higher number of non-null cells, as that number varies quite a bit by column. A few of the fields have very few non-null cells, meaning most of the data is not available. \n",
    "\n",
    "In Python, missing data is identified as `NaN` ('Not a Number'), so we want to see how much of our dataframe contains missing data. We do this by asking for the fields where the data is 'non-null'. Non-null essentially means those fields have actual data in them, or that they are *not* missing values.\n",
    "\n",
    "Let's look at what the column names are and how many non-null data each contain. This function returns all of the column names, along with the number of non-null values inside each column."
   ]
  },
  {
   "cell_type": "code",
   "execution_count": null,
   "id": "100f1ff9-a4be-4bd5-8482-934292f8b02b",
   "metadata": {},
   "outputs": [],
   "source": [
    "data.describe().loc['count']"
   ]
  },
  {
   "attachments": {},
   "cell_type": "markdown",
   "id": "7f9ec11f",
   "metadata": {},
   "source": [
    "The code cell above just described the columns that were numbers. There are a couple of columns that shoud be dates, we can check what data type they are."
   ]
  },
  {
   "cell_type": "code",
   "execution_count": null,
   "id": "f9b1a8ea",
   "metadata": {},
   "outputs": [],
   "source": [
    "print(type(data['EVENT START DATE'].iloc[0]))\n",
    "print(type(data['EVENT END DATE'].iloc[3]))"
   ]
  },
  {
   "attachments": {},
   "cell_type": "markdown",
   "id": "ec6d1ef5",
   "metadata": {},
   "source": [
    "Let's convert the `DATE` columns to date values."
   ]
  },
  {
   "cell_type": "code",
   "execution_count": null,
   "id": "977ea0e1",
   "metadata": {},
   "outputs": [],
   "source": [
    "data.loc[:, 'EVENT START DATE'] = pd.to_datetime(data['EVENT START DATE'], format='%m/%d/%Y %I:%M:%S %p')\n",
    "data.loc[:, 'EVENT END DATE'] = pd.to_datetime(data['EVENT END DATE'], format='%m/%d/%Y %I:%M:%S %p')\n",
    "\n",
    "print(type(data['EVENT START DATE'].iloc[0]))\n",
    "print(type(data['EVENT END DATE'].iloc[3]))"
   ]
  },
  {
   "attachments": {},
   "cell_type": "markdown",
   "id": "9308c03b-6a77-4d2f-92ab-30926d25823d",
   "metadata": {},
   "source": [
    "## Explore"
   ]
  },
  {
   "attachments": {},
   "cell_type": "markdown",
   "id": "17226807-16de-413b-bd87-fd88054024bc",
   "metadata": {},
   "source": [
    "The columns that are going to be useful to answer our question are the ones with information about costs. Because we are going to be trying to answer a question about costs we need to ensure we loook at data that references cost. Costs rise over time, so the column `NORMALIZED TOTAL COST` takes into account [inflation](https://en.wikipedia.org/wiki/Inflation).\n",
    "\n",
    "The Canadian Disasters Database, where this data is taken from, defines a disaster as:\n",
    "\n",
    ">A disaster is an interruption in time and space of normal processes causing death, injury or homelessness, economic or property loss, and/or significant environmental damage. The interruption is beyond the coping capacity of the community and/or is beyond the assumed risk factors of human activity. Assumed risk is inherent in most human activity such as transportation and handling of dangerous goods. The interruption precludes war.\n",
    "\n",
    "They also provide definitions for some of their fields:\n",
    "\n",
    "**EVACUATED**\n",
    "If the exact or estimated number of people evacuated from the area during a disaster is known, it is placed in this field. Otherwise, the field contains a zero.\n",
    "\n",
    "**DOLDAM**\n",
    "If the exact or estimated value of the damage in millions of dollars is known, it is placed in this field. Otherwise, the field contains a zero. Note that the values shown are estimates given in the dollar value at the time of the disaster, and inflation is not taken into account.\n",
    "\n",
    "**INJURED**\n",
    "If the exact or estimated number of injuries is known, it is placed in this field. Otherwise, the field contains a zero.\n",
    "\n",
    "**COMENG / COMFRA**\n",
    "These two fields allow for comments in English and French, respectively. Where possible, they include a brief outline of the disaster and a qualitative description of the resulting damage.\n",
    "\n",
    "**PLACE NAME / LAT / LONG**\n",
    "A location of the disaster is included to assign latitude and longitudinal coordinates to the disaster. For some records, this indicates a central or approximate location, as the disasters may cover large regions.\n",
    "\n",
    "Knowing this, let's create some visualizations with dates on the x-axis. For example, the column `INJURED / INFECTED` shows the number of people injured or infected in each disaster."
   ]
  },
  {
   "cell_type": "code",
   "execution_count": null,
   "id": "91b4a6ad",
   "metadata": {},
   "outputs": [],
   "source": [
    "px.scatter(data, x='EVENT START DATE', y='INJURED / INFECTED', title='Number of Injured/Infected Individuals for Each Event', color='EVENT TYPE')"
   ]
  },
  {
   "attachments": {},
   "cell_type": "markdown",
   "id": "f6c2bdc1-bf30-451e-86cd-7b2721ba3d47",
   "metadata": {},
   "source": [
    "As the financial cost is the main question we're trying to answer, let's visualize the `NORMALIZED TOTAL COST` column."
   ]
  },
  {
   "cell_type": "code",
   "execution_count": null,
   "id": "6a69527d-2a94-43e3-a5d5-05919001b8a1",
   "metadata": {},
   "outputs": [],
   "source": [
    "px.scatter(data, x='EVENT START DATE', y='NORMALIZED TOTAL COST', title='Normalized Total Costs of Natural Disasters', color='EVENT TYPE', height=800)"
   ]
  },
  {
   "attachments": {},
   "cell_type": "markdown",
   "id": "c0a6d82a-c1bc-450f-ac89-44c5d9b791b3",
   "metadata": {},
   "source": [
    "We can see that there are a few disasters that were very costly. We can look at just the ones that had a normalized total cost greater than $ 50,000,000 and print out the comments column to read more about them"
   ]
  },
  {
   "cell_type": "code",
   "execution_count": null,
   "id": "d9131578",
   "metadata": {},
   "outputs": [],
   "source": [
    "for row in data[data['NORMALIZED TOTAL COST'] > 50000000].iterrows():\n",
    "    print('$', row[1]['NORMALIZED TOTAL COST'], row[1]['EVENT TYPE'])\n",
    "    print(row[1]['COMMENTS'])\n",
    "    print('------------------------')"
   ]
  },
  {
   "attachments": {},
   "cell_type": "markdown",
   "id": "1e73e77b-6fc2-41c1-a516-d7f1c10e4eba",
   "metadata": {},
   "source": [
    "In the next visualization we'll compare the total insurance payments to the normalized total cost for that particular event."
   ]
  },
  {
   "cell_type": "code",
   "execution_count": null,
   "id": "5f279ada-95a5-4042-bd70-c37299d6dc46",
   "metadata": {},
   "outputs": [],
   "source": [
    "title = 'Insurance Payments Compared to Costs of Disasters'\n",
    "px.scatter(data, x='NORMALIZED TOTAL COST', y='INSURANCE PAYMENTS', color='EVENT TYPE', hover_data=['PLACE','EVENT START DATE'], title=title)"
   ]
  },
  {
   "attachments": {},
   "cell_type": "markdown",
   "id": "0a246d1f-2fac-44a9-8f2c-a1d3dc6d2666",
   "metadata": {},
   "source": [
    "## Interpret\n",
    "\n",
    "In the scatter plot you can see the total cost of disaster events on the x-axis and the amount of insurance payments for those disaster events on the y-axis. The normalized total cost on the x axis is shown in millions of dollars while the insurance payments on the y axis are shown in billions of dollars.\n",
    "\n",
    "The color of the dots represents the different types of disaster events; for example tornados are a different color than winter storms. You can click on the labels in the legend to hide or show event categories.\n",
    "\n",
    "The majority of the events are in the same range of cost as most of the events are at or under half a billion dollars in insurance payments and the normalized total cost of most of the events was under fifty million dollars. Which events are outside of that range?"
   ]
  },
  {
   "attachments": {},
   "cell_type": "markdown",
   "id": "1956e4ae-0908-4086-aa0f-cfa41ea67040",
   "metadata": {},
   "source": [
    "## Reflect on what you see\n",
    "\n",
    "After making your visualization the next step is to use the data and your visualization to answer the question. Look at and interact with the visualization above. When you hover your mouse over the plots, you’ll notice more information appears. You can also use the legend to make plots appear and disappear.\n",
    "\n",
    "#### Think about the following questions.\n",
    "\n",
    "* What do you notice about these graphs?\n",
    "* What do you wonder about the data?\n",
    "* What kind of inferences can you make based on this data?\n",
    "* Is there another way to visualize this data that would change your inerpretation of the information? \n",
    "\n",
    "\n",
    "#### Use the fill-in-the-blank prompts to summarize your thoughts.\n",
    "* \"I used to think _______\"\n",
    "* \"Now I think _______\"\n",
    "* \"I wish I knew more about _______\"\n",
    "* \"These data visualizations remind me of _______\"\n",
    "* \"I really like _______\""
   ]
  },
  {
   "attachments": {},
   "cell_type": "markdown",
   "id": "9c0b332b-0680-408d-be81-fb893f4b70fe",
   "metadata": {},
   "source": [
    "## Communicate"
   ]
  },
  {
   "cell_type": "markdown",
   "id": "d22e3477-4fad-4c2e-a70a-92113f39397c",
   "metadata": {},
   "source": [
    "If you have not yet done this use the plot to answer our question on which natural disaster was the most expensive. \n",
    "Once we understand the costs of natural disasters how can we use that information?\n",
    "\n",
    "How can you communicate that information? What kind of product could you create to share that information with your school community and wider community?\n",
    "\n",
    "Consider tagging Callysto on [Twitter](https://twitter.com/callysto_canada), [YouTube](https://www.youtube.com/Callysto), [TikTok](https://www.tiktok.com/@callysto_canada), [Facebook](https://www.facebook.com/callystocanada/), or [Linkedin](https://www.linkedin.com/company/callysto-canada/) if you decide to share your reflections or projects on social media."
   ]
  },
  {
   "attachments": {},
   "cell_type": "markdown",
   "id": "a17fec2b-f8b3-4af4-ac5e-dd958bf91ff4",
   "metadata": {},
   "source": [
    "## Further Resources"
   ]
  },
  {
   "cell_type": "markdown",
   "id": "51af182e-9b98-4123-ab60-3fa0008ce493",
   "metadata": {},
   "source": [
    "For more information on the costliest weather events between 2012 and 2016 check out this article from the [Weather Network](https://www.theweathernetwork.com/ca/news/article/the-top-five-costliest-canadian-natural-disasters-of-the-2010s) "
   ]
  },
  {
   "attachments": {},
   "cell_type": "markdown",
   "id": "f490d3ce-a112-4fee-91d5-673380fea38a",
   "metadata": {},
   "source": [
    "You may find the following video about the 2013 Calgary floods interesting. Run the cell below to display the Youtube video. "
   ]
  },
  {
   "cell_type": "code",
   "execution_count": null,
   "id": "19a1e58c-dd5e-47fc-a30a-13acc7e5d8b9",
   "metadata": {
    "tags": []
   },
   "outputs": [],
   "source": [
    "from IPython.display import YouTubeVideo\n",
    "YouTubeVideo('jgw06p4jeh8')"
   ]
  },
  {
   "cell_type": "markdown",
   "id": "bc57689f-ecd3-4613-ab7b-010ecceb7169",
   "metadata": {},
   "source": [
    "[![Callysto.ca License](https://github.com/callysto/curriculum-notebooks/blob/master/callysto-notebook-banner-bottom.jpg?raw=true)](https://github.com/callysto/curriculum-notebooks/blob/master/LICENSE.md)"
   ]
  }
 ],
 "metadata": {
  "kernelspec": {
   "display_name": "Python 3",
   "language": "python",
   "name": "python3"
  },
  "language_info": {
   "codemirror_mode": {
    "name": "ipython",
    "version": 3
   },
   "file_extension": ".py",
   "mimetype": "text/x-python",
   "name": "python",
   "nbconvert_exporter": "python",
   "pygments_lexer": "ipython3",
   "version": "3.10.8"
  },
  "vscode": {
   "interpreter": {
    "hash": "31f2aee4e71d21fbe5cf8b01ff0e069b9275f58929596ceb00d14d90e3e16cd6"
   }
  }
 },
 "nbformat": 4,
 "nbformat_minor": 5
}
