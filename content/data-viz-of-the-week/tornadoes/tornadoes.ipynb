{
 "cells": [
  {
   "attachments": {},
   "cell_type": "markdown",
   "metadata": {},
   "source": [
    "![Callysto.ca Banner](https://github.com/callysto/curriculum-notebooks/blob/master/callysto-notebook-banner-top.jpg?raw=true)\n",
    "\n",
    "<a href=\"https://hub.callysto.ca/jupyter/hub/user-redirect/git-pull?repo=https%3A%2F%2Fgithub.com%2Fcallysto%2Fdata-viz-of-the-week&branch=main&subPath=tornadoes/tornadoes.ipynb&depth=1\" target=\"_parent\"><img src=\"https://raw.githubusercontent.com/callysto/curriculum-notebooks/master/open-in-callysto-button.svg?sanitize=true\" width=\"123\" height=\"24\" alt=\"Open in Callysto\"/></a>"
   ]
  },
  {
   "attachments": {},
   "cell_type": "markdown",
   "metadata": {},
   "source": [
    "# Callysto's Weekly Data Visualization\n"
   ]
  },
  {
   "attachments": {},
   "cell_type": "markdown",
   "metadata": {},
   "source": [
    "## Tornados\n"
   ]
  },
  {
   "attachments": {},
   "cell_type": "markdown",
   "metadata": {},
   "source": [
    "## Recommended Grade Levels 5-6\n"
   ]
  },
  {
   "attachments": {},
   "cell_type": "markdown",
   "metadata": {},
   "source": [
    "## Instructions\n",
    "\n",
    "Click \"Cell\" and select \"Run All\".\n",
    "\n",
    "This will import the data and run all the code, so you can see this week's data visualization. Scroll back to the top after you’ve run the cells.\n",
    "\n",
    "instructions\n",
    "\n",
    "You don't need to do any coding to view the visualizations.\n",
    "\n",
    "The plots generated in this notebook are interactive. You can hover over and click on elements to see more information.\n",
    "\n",
    "Email contact@callysto.ca if you experience issues.\n",
    "\n",
    "## About this Notebook\n",
    "\n",
    "Callysto's Weekly Data Visualization is a learning resource that aims to develop data literacy skills. We provide Grades 5-12 teachers and students with a data visualization, like a graph, to interpret. This companion resource walks learners through how the data visualization is created and interpreted by a data scientist.\n",
    "\n",
    "The steps of the data analysis process are listed below and applied to each weekly topic.\n",
    "\n",
    "1. Question - What are we trying to answer?\n",
    "2. Gather - Find the data source(s) you will need.\n",
    "3. Organize - Arrange the data, so that you can easily explore it.\n",
    "4. Explore - Examine the data to look for evidence to answer the question. This includes creating visualizations.\n",
    "5. Interpret - Describe what's happening in the data visualization.\n",
    "6. Communicate - Explain how the evidence answers the question.\n",
    "\n",
    "\n",
    "## Question \n",
    "\n",
    "Where in Canada have the most Tornados occured?\n",
    "\n",
    "\n"
   ]
  },
  {
   "attachments": {},
   "cell_type": "markdown",
   "metadata": {},
   "source": [
    "## Background\n",
    "\n",
    "Tornados are an extreme weather event that occurs in Canada. The [Northern Tornados Project](https://uwo.ca/ntp/about.html) is a project founded at Western Unviersity in 2017. The project aims to better understand the occurrence of tornados in Canada to provide more understanding on tornados and to increase the ability to predict tornados so that the damage to property and danger to humans can be reduced. The Northern Tornados Project has published data they have on the occurrence of Tornados in Canada.\n",
    "\n",
    "For more interesting information on how tornados are measured you can [read this article.](https://www.nssl.noaa.gov/education/svrwx101/tornadoes/detection/)\n",
    "\n",
    "## Gather\n",
    "\n",
    "### Code \n",
    "\n",
    "Run the code cells below to import the libraries we need for this project. Libraries are pre-made code that make it easier to analyze our data. \n",
    "\n",
    "`Pandas` is a library that helps us with data analysis, and `plotly express` is a library that helps us to make visualizations. \n",
    "\n",
    "Without importing these libraries we would have to use much more code to analyze our data and generate visualizations. We import the libraries with abbreviations, or aliases, so that we have less typing to do in each line of our code below.\n"
   ]
  },
  {
   "attachments": {},
   "cell_type": "markdown",
   "metadata": {},
   "source": [
    "### Code"
   ]
  },
  {
   "cell_type": "code",
   "execution_count": null,
   "metadata": {},
   "outputs": [],
   "source": [
    "%pip install -r requirements.txt\n",
    "import pyodide_http\n",
    "pyodide_http.patch_all()\n",
    "import pandas as pd\n",
    "import plotly.express as px"
   ]
  },
  {
   "attachments": {},
   "cell_type": "markdown",
   "metadata": {},
   "source": [
    "\n",
    "### Data\n",
    "\n",
    "#### Import the Data\n",
    "\n",
    "We are using data from the [Northern Tornados Project](www.uwo.ca/ntp). Run the cell below to import the data. "
   ]
  },
  {
   "cell_type": "code",
   "execution_count": null,
   "metadata": {},
   "outputs": [],
   "source": [
    "dataset = pd.read_csv('https://raw.githubusercontent.com/callysto/data-files/main/data-viz-of-the-week/tornadoes/tornadoes.csv',dtype='unicode')\n",
    "dataset.sort_values('_date',inplace=True)\n",
    "dataset"
   ]
  },
  {
   "attachments": {},
   "cell_type": "markdown",
   "metadata": {},
   "source": [
    "## Explore\n",
    "\n",
    "The first visualization we made is a line graph on the total number of *tornados* per year. This can also be interpreted as the frequency of tornados per year. Run the code below to generate this visualization. "
   ]
  },
  {
   "cell_type": "code",
   "execution_count": null,
   "metadata": {},
   "outputs": [],
   "source": [
    "per_year = dataset.groupby('Year')['event_name'].count().reset_index(name='Number of Tornados')\n",
    "px.line(per_year,x='Year',y='Number of Tornados',title='Frequency of Tornados in North America per Year')"
   ]
  },
  {
   "cell_type": "markdown",
   "metadata": {},
   "source": [
    "Frequency is defined as the *count* of *categorized data*, but it is not the data value itself. Looking at the visualization, we can see that the number of tornados changes from year to year. For instance:\n",
    "\n",
    " - In 2017, there were 70 tornados.\n",
    " - In 2018, there were 103 tornados.\n",
    " - In 2019, there were 222 tornados.\n",
    " - In 2020, there were 349 tornados.\n",
    " - In 2021, there were 310 tornados.\n",
    " - In 2022, there were 300 tornados.\n",
    " - In 2023 (based on the date the data has been obtained), there have been 3 tornados."
   ]
  },
  {
   "cell_type": "markdown",
   "metadata": {},
   "source": [
    "As an extension to frequency, **mode** is the value that appears most frequently in a set of data. In our tornado data, we can identify the mode as the year with the highest number of tornados. This would be 2020 as 349 is the highest frequency of tornados based on the years in the visualization."
   ]
  },
  {
   "attachments": {},
   "cell_type": "markdown",
   "metadata": {},
   "source": [
    "The next step in our data visualization process was to create a bar graph of the number of tornados per year. Note that the colors also represent number of tornados per month. If you only want to see the tornados that happened during certain months you can turn off the data for certain months that you don't want to see by clicking on the months you don't want to see in the legend. This works like a toggle switch, and you can turn on the months to see them again by clicking on them again. \n",
    "\n",
    "The visualization organizes the number of tornados by year and creates a stacked bar graph based on the number of tornados seen in each month of that year. We can also double-click on a specific month to compare and contrast how each month compares throughout the years."
   ]
  },
  {
   "cell_type": "code",
   "execution_count": null,
   "metadata": {},
   "outputs": [],
   "source": [
    "year_month = dataset.groupby(['Year','month'])['event_name'].count().reset_index(name='Number of Tornados')\n",
    "year_month.sort_values('Year',inplace=True)\n",
    "px.bar(year_month,x='Year',y='Number of Tornados',color='month',title='Frequency of Tornados per Month in each Year')"
   ]
  },
  {
   "attachments": {},
   "cell_type": "markdown",
   "metadata": {},
   "source": [
    "We can apply our understanding of *frequency* again to this visualization, but this time based on a different variable. We can isolate our data based on certain months. Looking at the month of July (the month with the overall highest number of tornados), the frequency of tornados is:\n",
    "\n",
    "- 20 Tornados in July 2017\n",
    "- 28 Tornados in July 2018\n",
    "- 111 Tornados in July 2019\n",
    "- 121 Tornados in July 2020\n",
    "- 73 Tornados in July 2021\n",
    "- 119 Tornados in July 2022\n",
    "\n",
    "**Can you choose a different month, perhaps June or August, and find the frequency of tornados in each year for the month you choose?**\n",
    "\n",
    "For July, the year with the highest frequency of tornados or mode is 2020 (121 tornados). However, when separating the data by *September*, the frequency of tornados changes drastically. \n",
    "\n",
    "- 2 Tornados in September 2017\n",
    "- 32 Tornados in September 2018\n",
    "- 22 Tornados in September 2019\n",
    "- 10 Tornados in September 2020\n",
    "- 32 Tornados in September 2021\n",
    "- 15 Tornados in September 2022\n",
    "\n",
    "This is an example of how the context of information can really change what we think the information means. In the previous month of July, the year 2021 was only ranked 3rd highest frequency despite having 73 total tornados. In September, the years 2018 and 2021 are both ranked the highest frequency of tornados despite having a lower number of tornados compared to July 2021.  This shows us that just looking at the number of tornados isn't enough – we need to know how many tornados usually happen in each month relative to the total number of tornados to understand if many tornados occurred or not.\n",
    "\n",
    "**Note**: In September we actually have *2* modes as there is a tie for the highest frequency of tornados in September 2018 and 2021."
   ]
  },
  {
   "attachments": {},
   "cell_type": "markdown",
   "metadata": {},
   "source": [
    "We created a map of all the tornados in this data set; each dot represents a tornado. If you don't want to see the tornados for a specific year you can turn that year off by clicking it in the legend. Remember you can turn it back on to see that year again by clicking on the year in the legend a second time. If you are only interested in seeing one specific year, you can double-click the year you are interested in."
   ]
  },
  {
   "cell_type": "code",
   "execution_count": null,
   "metadata": {},
   "outputs": [],
   "source": [
    "dataset['Year'] = dataset['Year'].astype(str)\n",
    "dataset['Y'] = dataset['Y'].astype(float)\n",
    "dataset['X'] = dataset['X'].astype(float)\n",
    "fig = px.scatter_mapbox(dataset,lat='Y',lon='X',color='Year',zoom=2,height=600)\n",
    "fig.update_layout(mapbox_style='open-street-map')\n",
    "fig.show()"
   ]
  },
  {
   "attachments": {},
   "cell_type": "markdown",
   "metadata": {},
   "source": [
    "The next step we used in our data analysis process was to create a map showing the different tornados by type. This visualization works just like the other ones, and you can turn information on and off by clicking it in the legend (or double-clicking to look at one specific tornado type).\n"
   ]
  },
  {
   "cell_type": "code",
   "execution_count": null,
   "metadata": {},
   "outputs": [],
   "source": [
    "dataset = dataset[dataset['event_type'].notna()]\n",
    "\n",
    "fig = px.scatter_mapbox(dataset,lat='Y',lon='X',color='event_type',zoom=2,height=600)\n",
    "fig.update_layout(mapbox_style='open-street-map')\n",
    "fig.show()"
   ]
  },
  {
   "attachments": {},
   "cell_type": "markdown",
   "metadata": {},
   "source": [
    "The final visualization we created is a graph of the number of tornados in each province. The graphic is stacked by type, each type of tornado is represented by a different color. \n",
    "\n",
    "The Northern Tornados Project defines each type of Tornado like this.\n",
    "\n",
    "- Tornado (Over Land) includes tornados that occur over land at any point during their lifetime.\n",
    "\n",
    "- Tornado (Over Water) includes tornados that occur entirely over water during their lifetime.\n",
    " \n",
    "- Downburst includes microbursts, defined as downbursts with a maximum diameter of 4 km or less.\n",
    "\n",
    "- Non-Tornadic Vortex includes VFCAs (vortex-funnel clouds aloft), sub-tornadic vortices, gustnadoes, and dust devils.\n",
    "\n",
    "- Unclassified Wind Damage is assigned if there is not enough evidence to classify the cause of wind damage as either a tornado or a downburst, and additional evidence is not expected\n",
    "\n",
    "- Unclassified Visual Vortex is assigned if there is not enough evidence to classify a reported vortex as either a tornado or a non-tornadic vortex, and additional evidence is not expected"
   ]
  },
  {
   "cell_type": "code",
   "execution_count": null,
   "metadata": {},
   "outputs": [],
   "source": [
    "by_province = dataset.groupby(['Province','event_type'])['Year'].count().reset_index(name='Number of Tornados')\n",
    "by_province.sort_values('Number of Tornados',ascending=False,inplace=True)\n",
    "px.bar(by_province,x='Province',y='Number of Tornados',color='event_type',title='Number of Tornados in each province')"
   ]
  },
  {
   "attachments": {},
   "cell_type": "markdown",
   "metadata": {},
   "source": [
    "## Interpret\n",
    "\n",
    "Ontario has the highest number of tornaodes which may make sense because of the large land mass in that probvince. It looks like Quebec has the next highest frequency of tornados but Alberta, Saskatchewan and Manitobia \n",
    "\n",
    "\n",
    "## Reflect on What You See\n",
    "\n",
    "After making your visualization the next step is to use the data and your visualization to answer the question. Look at and interact with the visualization above. When you hover your mouse over the plots, you’ll notice more information appears. You can also use the legend to make plots appear and disappear.\n",
    "\n",
    "Think about the following questions.\n",
    "\n",
    "What do you notice about these graphs?\n",
    "What do you wonder about the data?\n",
    "What kind of inferences can you make based on this data?\n",
    "Is there another way to visualize this data that would change your inerpretation of the information?\n",
    "\n",
    "Did some years seem to have more tornados than other years?\n",
    "Did some times of year have more tornados than other times of year?\n",
    "Were some parts of the country more likely to have tornaods than others?\n",
    "\n",
    "Use the fill-in-the-blank prompts to summarize your thoughts.\n",
    "\"I used to think _______\"\n",
    "\"Now I think _______\"\n",
    "\"I wish I knew more about _______\"\n",
    "\"These data visualizations remind me of _______\"\n",
    "\"I really like _______\"\n",
    "\n",
    "## Communicate \n",
    "\n",
    "If you have not yet done this use the plot to answer our question on which natural disaster was the most expensive. Once we understand the costs of natural disasters how can we use that information?\n",
    "\n",
    "How can you communicate that information? What kind of product could you create to share that information with your school community and wider community?"
   ]
  },
  {
   "attachments": {},
   "cell_type": "markdown",
   "metadata": {},
   "source": [
    "[![Callysto.ca License](https://github.com/callysto/curriculum-notebooks/blob/master/callysto-notebook-banner-bottom.jpg?raw=true)](https://github.com/callysto/curriculum-notebooks/blob/master/LICENSE.md)"
   ]
  }
 ],
 "metadata": {
  "kernelspec": {
   "display_name": "Python 3",
   "language": "python",
   "name": "python3"
  },
  "language_info": {
   "codemirror_mode": {
    "name": "ipython",
    "version": 3
   },
   "file_extension": ".py",
   "mimetype": "text/x-python",
   "name": "python",
   "nbconvert_exporter": "python",
   "pygments_lexer": "ipython3",
   "version": "3.11.3"
  },
  "orig_nbformat": 4
 },
 "nbformat": 4,
 "nbformat_minor": 2
}
