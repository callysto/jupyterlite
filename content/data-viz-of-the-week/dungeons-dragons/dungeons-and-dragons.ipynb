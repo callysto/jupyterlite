{
 "cells": [
  {
   "attachments": {},
   "cell_type": "markdown",
   "metadata": {},
   "source": [
    "![Callysto.ca Banner](https://github.com/callysto/curriculum-notebooks/blob/master/callysto-notebook-banner-top.jpg?raw=true)\n",
    "\n",
    "<a href=\"https://hub.callysto.ca/jupyter/hub/user-redirect/git-pull?repo=https%3A%2F%2Fgithub.com%2Fcallysto%2Fdata-viz-of-the-week&branch=main&subPath=dungeons-dragons/dungeons-and-dragons.ipynb&depth=1\" target=\"_parent\"><img src=\"https://raw.githubusercontent.com/callysto/curriculum-notebooks/master/open-in-callysto-button.svg?sanitize=true\" width=\"123\" height=\"24\" alt=\"Open in Callysto\"/></a>"
   ]
  },
  {
   "cell_type": "markdown",
   "metadata": {},
   "source": [
    "# Callysto’s Weekly Data Visualization\n",
    "\n",
    "## Dungeons and Dragons\n",
    "\n",
    "### Recommended Grade levels: 9-12\n",
    "<br>\n",
    "\n",
    "<center> <img src='https://github.com/callysto/data-files/raw/main/data-viz-of-the-week/dungeons-dragons/img/DND_Art7.png' width=400></center>"
   ]
  },
  {
   "cell_type": "markdown",
   "metadata": {},
   "source": [
    "### Instructions\n",
    "#### “Run” the cells to see the graphs\n",
    "Click “Cell” and select “Run All”.<br> This will import the data and run all the code, so you can see this week's data visualization. Scroll to the top after you’ve run the cells.<br> \n",
    "\n",
    "![instructions](https://github.com/callysto/data-viz-of-the-week/blob/main/images/instructions.png?raw=true)\n",
    "\n",
    "**You don’t need to do any coding to view the visualizations**.\n",
    "The plots generated in this notebook are interactive. You can hover over and click on elements to see more information. \n",
    "\n",
    "Email contact@callysto.ca if you experience issues."
   ]
  },
  {
   "cell_type": "markdown",
   "metadata": {},
   "source": [
    "### About this Notebook\n",
    "\n",
    "Callysto's Weekly Data Visualization is a learning resource that aims to develop data literacy skills. We provide Grades 5-12 teachers and students with a data visualization, like a graph, to interpret. This companion resource walks learners through how the data visualization is created and interpreted by a data scientist. \n",
    "\n",
    "The steps of the data analysis process are listed below and applied to each weekly topic.\n",
    "\n",
    "1. Question - What are we trying to answer? \n",
    "2. Gather - Find the data source(s) you will need. \n",
    "3. Organize - Arrange the data, so that you can easily explore it. \n",
    "4. Explore - Examine the data to look for evidence to answer the question. This includes creating visualizations. \n",
    "5. Interpret - Describe what's happening in the data visualization. \n",
    "6. Communicate - Explain how the evidence answers the question.\n",
    "\n",
    "### Acknowledgement\n",
    "\n",
    "This notebook is unofficial Fan Content permitted under the Fan Content Policy. Not approved/endorsed by Wizards. Portions of the materials used are property of Wizards of the Coast. ©Wizards of the Coast LLC.\n",
    "\n",
    "For more information about the game, check out their website, or some of the resources linked at the end of the notebook."
   ]
  },
  {
   "cell_type": "markdown",
   "metadata": {},
   "source": [
    "# Question\n",
    "\n",
    "What are the most popular types of Dungeons and Dragons characters to play?\n",
    "\n",
    "### Background\n",
    "\n",
    "Dungeons and Dragons (D&D) is an incredibly popular table-top roleplaying game (TTRPG), first published in 1974 after being developed by Gary Gygax and Dave Arneson. Over the years, it has seen its popularity and sales grow exponentially, as newer editions are released and the game finds wider adoption. As of writing, the current version is 5th Edition, which was released in late 2014, though a newer edition is set for release in 2024.\n",
    "\n",
    "The gameplay consists of one player, the Dungeon Master (or DM), describing the setting and interpreting the rules, as other players act out their characters within that world. Often D&D is played without any board, but sometimes groups will use maps and miniature figurines to keep track of the chaos. In either case, every player will have their character sheet and a set of dice.\n",
    "\n",
    "The game presents an opportunity for players to act out the gameplay, taking on the persona of their character and interacting with the world according to their character's abilities. For a lot of D&D players, creating their character is the most important and most creative aspect of the game, so we can explore what's common (and what isn't) when it comes to character creation.\n",
    "\n",
    "**If you're new to D&D**, skip to the resources at the end of the notebook, as it's a very easy game to learn and Wizards of the Coast has made the game rules free to access!\n",
    "\n",
    "\n",
    "### Goal\n",
    "Can we determine some of the most popular choices in character building in D&D, and develop a character ourselves?"
   ]
  },
  {
   "cell_type": "markdown",
   "metadata": {},
   "source": [
    "# Gather\n",
    "\n",
    "### Code:\n",
    "The code below will import the Python programming libraries we need to gather and organize the data to answer our question."
   ]
  },
  {
   "cell_type": "code",
   "execution_count": null,
   "metadata": {},
   "outputs": [],
   "source": [
    "## import libraries\n",
    "%pip install -q pyodide_http plotly nbformat\n",
    "import pyodide_http\n",
    "pyodide_http.patch_all()\n",
    "import pandas as pd\n",
    "import plotly.express as px\n",
    "import random"
   ]
  },
  {
   "cell_type": "markdown",
   "metadata": {},
   "source": [
    "### Data:\n",
    "\n",
    "For this notebook, the data came from a user who had developed an app to print character sheets. As part of the printing process, the user was able to collect data on the characters, and pulled it together into one large dataset that they've shared on their [GitHub profile here](https://github.com/oganm/dnddata)."
   ]
  },
  {
   "cell_type": "markdown",
   "metadata": {},
   "source": [
    "### Import the data"
   ]
  },
  {
   "cell_type": "code",
   "execution_count": null,
   "metadata": {},
   "outputs": [],
   "source": [
    "## import data\n",
    "df = pd.read_csv('https://raw.githubusercontent.com/callysto/data-files/main/data-viz-of-the-week/dungeons-dragons/data/dnd_chars_data.csv')\n",
    "display(df)"
   ]
  },
  {
   "cell_type": "markdown",
   "metadata": {},
   "source": [
    "### Comment on the data\n",
    "As we can see from the numbers below the dataframe, we have 10,894 characters in this dataset, where each character has 36 attributes for us to consider. We probably won't need all of these, so at the next step we can remove unneeded columns."
   ]
  },
  {
   "cell_type": "markdown",
   "metadata": {},
   "source": [
    "<center> <img src='https://github.com/callysto/data-files/raw/main/data-viz-of-the-week/dungeons-dragons/img/DND_Art2.png' width=400></center>"
   ]
  },
  {
   "cell_type": "markdown",
   "metadata": {},
   "source": [
    "# Organize\n",
    "\n",
    "The code below will arrange the data cleanly so that we can analyze it. This is a quality control step for our data and involves examining the data to detect anything odd with the data (e.g. structure, missing values), fixing the oddities, and checking if the fixes worked.\n",
    "\n",
    "The first few columns and the final column contain information that might be important for the creator of the app that collected the data, but they don't hold any meaning for us, so we can get rid of them. Similarly, there are several columns throughout the dataset that contain information on alignment, but the data is spotty, so it might be best to remove it."
   ]
  },
  {
   "cell_type": "code",
   "execution_count": null,
   "metadata": {},
   "outputs": [],
   "source": [
    "# See what the column names are\n",
    "df.columns"
   ]
  },
  {
   "cell_type": "code",
   "execution_count": null,
   "metadata": {},
   "outputs": [],
   "source": [
    "df_cleaned = df.drop(['Unnamed: 0',\n",
    "                      'ip',\n",
    "                      'finger',\n",
    "                      'hash',\n",
    "                      'name',\n",
    "                      'alias',\n",
    "                      'alignment',\n",
    "                      'processedAlignment',\n",
    "                      'good',\n",
    "                      'lawful'],\n",
    "                    axis=1)\n",
    "df_cleaned"
   ]
  },
  {
   "cell_type": "markdown",
   "metadata": {},
   "source": [
    "One of the most important aspects of a D&D character is its class, as that has the greatest effect on how the character interacts with the world. There is information in the dataset about class, but because in D&D 5E you have the ability to *multiclass* (or have more than one class), storing this information in a single column can be kind of muddy.\n",
    "\n",
    "Let's see what classes (or multiclass combinations) exist in this data, starting with the most classes;"
   ]
  },
  {
   "cell_type": "code",
   "execution_count": null,
   "metadata": {},
   "outputs": [],
   "source": [
    "sortedClasses = sorted(df_cleaned['justClass'].unique(),key=len)\n",
    "sortedClasses[::-1]"
   ]
  },
  {
   "cell_type": "markdown",
   "metadata": {},
   "source": [
    "Wow, there are really creative characters in here! It's not uncommon to multiclass so that you can take advantage of many attributes, but it's very unusual to have more than 2 or 3 multiclasses. Imagine keeping track of all those abilities and attributes!\n",
    "\n",
    "But as we see below, it's really not very common, and most of the top 20 most common classes are single classes:"
   ]
  },
  {
   "cell_type": "code",
   "execution_count": null,
   "metadata": {},
   "outputs": [],
   "source": [
    "classCounts = df_cleaned['justClass'].value_counts().head(20) # find 20 most common values for 'justClass' and their frequency\n",
    "classCounts"
   ]
  },
  {
   "cell_type": "markdown",
   "metadata": {},
   "source": [
    "All the same, we'll remove any entries that have absolutely unique classes, as they're not really representative of how most people play the game:"
   ]
  },
  {
   "cell_type": "code",
   "execution_count": null,
   "metadata": {},
   "outputs": [],
   "source": [
    "repeatedClass = set(classCounts[classCounts > 1].index.values) # find values for 'justClass' that appear more than once\n",
    "repeatedClass"
   ]
  },
  {
   "cell_type": "code",
   "execution_count": null,
   "metadata": {},
   "outputs": [],
   "source": [
    "df_cleaned = df_cleaned[df_cleaned['justClass'].isin(repeatedClass)] # filter the data to only include the above classes\n",
    "df_cleaned"
   ]
  },
  {
   "cell_type": "markdown",
   "metadata": {},
   "source": [
    "By removing those uncommon entries, our dataset went from 10,894 characters to 10,345, so we still retain $(10345 / 10894) \\approx 95\\%$ of our data. We'll be removing more in the next steps, but it's important to consider the effect that data cleaning has on our data.\n",
    "\n",
    "While we're here, we'll also do something similar with `race`, as there are likely many custom (or *homebrew*) races in this dataset as well. For this part of cleaning, we'll include any race that makes an appearance more than 50 times in the dataset, as the subraces pollute this attribute quite a bit:"
   ]
  },
  {
   "cell_type": "code",
   "execution_count": null,
   "metadata": {},
   "outputs": [],
   "source": [
    "raceCounts = df_cleaned['race'].value_counts().head(45)\n",
    "repeatedRace = set(raceCounts[raceCounts > 50].index.values)\n",
    "df_cleaned = df_cleaned[df_cleaned['race'].isin(repeatedRace)].reset_index(drop=True)"
   ]
  },
  {
   "cell_type": "markdown",
   "metadata": {},
   "source": [
    "<center> <img src='https://github.com/callysto/data-files/raw/main/data-viz-of-the-week/dungeons-dragons/img/DND_Art1.png' width=400></center>"
   ]
  },
  {
   "cell_type": "markdown",
   "metadata": {},
   "source": [
    "# Explore\n",
    "\n",
    "The code below will be used to help us look for evidence to answer our question, to see which races and classes are the most common in D&D. This can involve looking at data in table format, applying math and statistics, and creating different types of visualizations to represent our data.\n",
    "\n",
    "The first thing we should look at is which classes and races are the most popular. This is easy to do with a bar chart:"
   ]
  },
  {
   "cell_type": "code",
   "execution_count": null,
   "metadata": {},
   "outputs": [],
   "source": [
    "px.histogram(df_cleaned, x='justClass', \n",
    "             category_orders=dict(justClass=classCounts.index),\n",
    "             title='Most Popular D&D Classes',\n",
    "             labels={'justClass':'Class'})"
   ]
  },
  {
   "cell_type": "code",
   "execution_count": null,
   "metadata": {},
   "outputs": [],
   "source": [
    "px.histogram(df_cleaned, x='race', \n",
    "             category_orders=dict(race=raceCounts.index),\n",
    "             title='Most Popular D&D Races',\n",
    "             labels={'race':'Race'})"
   ]
  },
  {
   "cell_type": "markdown",
   "metadata": {},
   "source": [
    "### Interpret\n",
    "Let's take a second to look at the visualizations and see what we can learn from them.\n",
    "\n",
    "1. What are the most common classes? Is there a reason there's a clear dropoff after the top 12 answers? (hint: check the basic rules or Player's Handbook)\n",
    "1. What is the moost common race? Why do you think that might be?"
   ]
  },
  {
   "cell_type": "markdown",
   "metadata": {},
   "source": [
    "## Bringing it Together\n",
    "\n",
    "Some combinations of race and class are more common than others. Using the heatmap below, we can see if the trends we saw above with the bar charts hold when we start combining the data. Hover over the squares for more specific data on each combination:"
   ]
  },
  {
   "cell_type": "code",
   "execution_count": null,
   "metadata": {},
   "outputs": [],
   "source": [
    "px.density_heatmap(df_cleaned, x='race', y='justClass',\n",
    "                   height=600, width=1000,\n",
    "                   title='Heatmap of common D&D race and class combinations',\n",
    "                   labels={'justClass':'Class', 'race':'Race'})"
   ]
  },
  {
   "cell_type": "markdown",
   "metadata": {},
   "source": [
    "### Interpret\n",
    "\n",
    "1. What can you learn from this that the previous two visualizations didn't show?\n",
    "1. Is there a build that's obviously the most common?"
   ]
  },
  {
   "cell_type": "markdown",
   "metadata": {},
   "source": [
    "## Ability scores\n",
    "\n",
    "Though choosing your character's race (or *species* in more recent versions of the game) and class are important from a roleplaying perspective, even more important is how they affect your character main stats: ability scores.\n",
    "\n",
    "In D&D 5E there are 6 ability scores:\n",
    "- Strength (STR)\n",
    "- Dexterity (DEX)\n",
    "- Constitution (CON)\n",
    "- Intelligence (INT)\n",
    "- Wisdom (WIS)\n",
    "- Charisma (CHA)\n",
    "\n",
    "Both racial traits and class traits can affect these scores, and mixing and matching the two in the character building process has to consider the resulting ability scores. Below we can look at the distribution of each ability score for race and class combinations.\n",
    "\n",
    "However, because the tool we got this data from allows players to input their own values, there are some values that would not be considered within the rules of the game. [According to the Player's Handbook](https://www.dndbeyond.com/sources/basic-rules/using-ability-scores#AbilityScoresandModifiers), even with ability modifiers, an ability score should not exceed 30.\n",
    "\n",
    "<center> <img src='https://github.com/callysto/data-files/raw/main/data-viz-of-the-week/dungeons-dragons/img/DND_PHCover.png' width=400> </center>\n",
    "\n",
    "Below we'll remove the offending characters:"
   ]
  },
  {
   "cell_type": "code",
   "execution_count": null,
   "metadata": {},
   "outputs": [],
   "source": [
    "# Identify index of rows meeting each criteria; force to 'set' datatype to remove duplicates, and drop those rows\n",
    "toDrop = set(df_cleaned.index[df_cleaned['Str'] > 30].tolist() \n",
    "+ df_cleaned.index[df_cleaned['Dex'] > 30].tolist() \n",
    "+ df_cleaned.index[df_cleaned['Con'] > 30].tolist()\n",
    "+ df_cleaned.index[df_cleaned['Int'] > 30].tolist()\n",
    "+ df_cleaned.index[df_cleaned['Wis'] > 30].tolist()\n",
    "+ df_cleaned.index[df_cleaned['Cha'] > 30].tolist())\n",
    "df_cleaned = df_cleaned.drop(toDrop)"
   ]
  },
  {
   "cell_type": "markdown",
   "metadata": {},
   "source": [
    "And then we can plot the data to look at what the typical ranges are for each of the ability scores for each race / class combination! With this many races and classes, the data can be kind of messy, but feel free to click on the classes in the legend to enable or disable them in the plot.\n",
    "\n",
    "### Box plots\n",
    "\n",
    "Box plots are an excellent way to visualize the distribution of numbers within a category. In the plot below, you'll see for each race and class a shape that tells you how the numbers are distributed. \n",
    "\n",
    "The box itself represents several statistical parameters: the bottom of the box is the 1st quartile (counting 25% of the way up from the lowest value to the highest), the upper edge of the box is the 3rd quartile (counting 75% of the way up), and the line in the box is the 2nd quartile, or *median* (counting 50% of the way up).\n",
    "\n",
    "Projecting outside of the box in either direction are lines, often called *whiskers*. These denote the maximum and minimum values within the dataset, once outliers have been excluded. Sometimes data within a dataset is so much higher or lower than the other values, that it's called an *outlier*, and in box plots these are usually represented as dots outside of the whiskers."
   ]
  },
  {
   "cell_type": "code",
   "execution_count": null,
   "metadata": {},
   "outputs": [],
   "source": [
    "# Change the below value to one of: 'Str', 'Dex', 'Con', 'Int', 'Wis', 'Cha'\n",
    "abScore = 'Str'\n",
    "\n",
    "fig = px.box(df_cleaned, x='race', y=abScore, color='justClass',\n",
    "             height=800, title=f'Distribution of {abScore.upper()} ability score by race and class',\n",
    "            labels={abScore:abScore.upper(), 'race':'Race','justClass':'Class'})\n",
    "fig.update_layout({'plot_bgcolor': 'gainsboro'})\n",
    "fig.show()"
   ]
  },
  {
   "cell_type": "markdown",
   "metadata": {},
   "source": [
    "### Interpret\n",
    "\n",
    "1. Do certain races tend to higher or lower scores in specific abilities? What about classes?\n",
    "1. How do different classes compare across the same race?\n",
    "1. Compare the different spellcasting classes (Bard, Druid, Cleric, Warlock, Sorcerer, Wizard). Is there a clearer pattern to the races used for these classes? (hint: consider the [ability used for spellcasting](https://nwn2.fandom.com/wiki/Spellcasting_class#Spellcasting_ability) for each of these classes)"
   ]
  },
  {
   "cell_type": "markdown",
   "metadata": {},
   "source": [
    "## Build your own character!\n",
    "\n",
    "Now that we've explored some common themes in character creation, use the tool below to randomly generate a character! Each time you run this cell, it will randomly generate a new character."
   ]
  },
  {
   "cell_type": "code",
   "execution_count": null,
   "metadata": {},
   "outputs": [],
   "source": [
    "stdArray = [15, 14, 12, 12, 10, 8]\n",
    "random.shuffle(stdArray)\n",
    "\n",
    "print(f\"Your character:\\n\\nA {random.choice(df_cleaned['race'].unique())} {random.choice(df_cleaned['justClass'].unique())}, with the following base ability scores: \\nSTR: {stdArray[0]}\\nDEX: {stdArray[1]}\\nCON: {stdArray[2]}\\nINT: {stdArray[3]}\\nWIS: {stdArray[4]}\\nCHA: {stdArray[5]}\")"
   ]
  },
  {
   "cell_type": "markdown",
   "metadata": {},
   "source": [
    "For more tips on how to build a character, check out the resources below:\n",
    "\n",
    "<center><img src='https://github.com/callysto/data-files/raw/main/data-viz-of-the-week/dungeons-dragons/img/DND_Art9.png' width=400></center>"
   ]
  },
  {
   "cell_type": "markdown",
   "metadata": {},
   "source": [
    "# Further Resources\n",
    "\n",
    "1. [D&D Website](https://dnd.wizards.com/)\n",
    "1. [Basic Rules](https://dnd.wizards.com/what-is-dnd/basic-rules)  (free to download!)\n",
    "1. [D&D Resources for Educators](https://dnd.wizards.com/resources/educators)\n",
    "1. [Fantasy Name Generator](https://www.fantasynamegenerators.com/)"
   ]
  },
  {
   "cell_type": "markdown",
   "metadata": {},
   "source": [
    "[![Callysto.ca License](https://github.com/callysto/curriculum-notebooks/blob/master/callysto-notebook-banner-bottom.jpg?raw=true)](https://github.com/callysto/curriculum-notebooks/blob/master/LICENSE.md)"
   ]
  }
 ],
 "metadata": {
  "kernelspec": {
   "display_name": "Python 3 (ipykernel)",
   "language": "python",
   "name": "python3"
  },
  "language_info": {
   "codemirror_mode": {
    "name": "ipython",
    "version": 3
   },
   "file_extension": ".py",
   "mimetype": "text/x-python",
   "name": "python",
   "nbconvert_exporter": "python",
   "pygments_lexer": "ipython3",
   "version": "3.9.13"
  }
 },
 "nbformat": 4,
 "nbformat_minor": 4
}
