{
 "cells": [
  {
   "attachments": {},
   "cell_type": "markdown",
   "metadata": {},
   "source": [
    "![Callysto.ca Banner](https://github.com/callysto/curriculum-notebooks/blob/master/callysto-notebook-banner-top.jpg?raw=true)\n",
    "\n",
    "<a href=\"https://hub.callysto.ca/jupyter/hub/user-redirect/git-pull?repo=https%3A%2F%2Fgithub.com%2Fcallysto%2Fdata-viz-of-the-week&branch=main&subPath=ice-coverage-best-fit/sea-ice.ipynb&depth=1\" target=\"_parent\"><img src=\"https://raw.githubusercontent.com/callysto/curriculum-notebooks/master/open-in-callysto-button.svg?sanitize=true\" width=\"123\" height=\"24\" alt=\"Open in Callysto\"/></a>"
   ]
  },
  {
   "cell_type": "markdown",
   "metadata": {},
   "source": [
    "# Callysto’s Weekly Data Visualization\n",
    "## Sea Ice Levels\n",
    "### Recommended grade levels: 8-12"
   ]
  },
  {
   "cell_type": "markdown",
   "metadata": {},
   "source": [
    "### Instructions\n",
    "#### “Run” the cells to see the graphs\n",
    "Click “Cell” and select “Run All”. <br>This will import the data and run all the code, so you can see this week's data visualizations (scroll to the top after you’ve run the cells). <br>**You don’t need to do any coding**.\n",
    "\n",
    "![instructions](https://github.com/callysto/data-viz-of-the-week/blob/main/images/instructions.png?raw=true)"
   ]
  },
  {
   "cell_type": "markdown",
   "metadata": {},
   "source": [
    "Callysto's Weekly Data Visualization is a learning resource that aims to develop data literacy skills. We provide grades 5-12 teachers and students with a data visualization, like a graph, to interpret. This companion resource walks learners through how the data visualization is created and interpreted by a data scientist. \n",
    "\n",
    "The steps of the data analysis process are listed below and applied to each weekly topic.\n",
    "\n",
    "1. Question - What are we trying to answer? \n",
    "2. Gather - Find the data source(s) you will need. \n",
    "3. Organize - Arrange the data so that you can easily explore it. \n",
    "4. Explore - Examine the data to look for evidence to answer our question. This includes creating visualizations. \n",
    "5. Interpret - Explain how the evidence answers our question. \n",
    "6. Communicate - Reflect on the interpretation. "
   ]
  },
  {
   "cell_type": "markdown",
   "metadata": {},
   "source": [
    "## 1. Question\n",
    "One worrying marker of global temperature increase is the changing amount of sea ice. This ice covering is important to many forms of marine life. How have Arctic sea ice levels been changing over time?\n",
    "\n",
    "### Goal\n",
    "Create a scatterplot using [NASA data](https://climate.nasa.gov/vital-signs/global-temperature/) and fit a line through the data to show how sea ice levels are trending."
   ]
  },
  {
   "cell_type": "markdown",
   "metadata": {},
   "source": [
    "## 2. Gather\n",
    "\n",
    "The code below will import the Python programming libraries we need to gather and organize the data to answer our question."
   ]
  },
  {
   "cell_type": "code",
   "execution_count": null,
   "metadata": {},
   "outputs": [],
   "source": [
    "%pip install -q pyodide_http plotly nbformat statsmodels\n",
    "import pyodide_http\n",
    "pyodide_http.patch_all()\n",
    "import pandas as pd # for storing data\n",
    "import plotly.express as px # for creating a plot"
   ]
  },
  {
   "cell_type": "markdown",
   "metadata": {},
   "source": [
    "The code below collects the needed dataset from NASA and displays it as a table."
   ]
  },
  {
   "cell_type": "code",
   "execution_count": null,
   "metadata": {},
   "outputs": [],
   "source": [
    "# URL of original NASA dataset\n",
    "# https://climate.nasa.gov/system/internal_resources/details/original/1270_minimum_extents_and_area_north_SBA_reg_20171001_2_.txt\n",
    "# URL to where a copy of the original NASA dataset is stored\n",
    "url = 'https://raw.githubusercontent.com/callysto/data-files/main/data-viz-of-the-week/ice-coverage-best-fit/arctic-sea-ice-1270_minimum_extents_and_area_north_SBA_reg_20171001_2_.csv'\n",
    "# read in the CSV\n",
    "arctic_ice_df = pd.read_csv(url, skiprows=[0],header=None, names=['Year', 'MN', 'DY', 'Ice Extent', 'Year1', 'MN1', 'DY1', 'Ice Area'])\n",
    "# display the table\n",
    "arctic_ice_df.head(10)"
   ]
  },
  {
   "cell_type": "markdown",
   "metadata": {},
   "source": [
    "## 3. Organize\n",
    "The code below will rename the `Ice Area` column to make it more descriptive. "
   ]
  },
  {
   "cell_type": "code",
   "execution_count": null,
   "metadata": {},
   "outputs": [],
   "source": [
    "# rename the Ice Area column\n",
    "arctic_ice_df = arctic_ice_df.rename(columns={'Ice Area': 'Ice Area (square km)'})\n",
    "# display the table\n",
    "arctic_ice_df.head(10)"
   ]
  },
  {
   "cell_type": "markdown",
   "metadata": {},
   "source": [
    "## 4. Explore\n",
    "Now, we will create our plot. Each dot will represent a year’s data and the line is the straight line that best shows the relationship between year and sea ice level."
   ]
  },
  {
   "cell_type": "code",
   "execution_count": null,
   "metadata": {},
   "outputs": [],
   "source": [
    "fig = px.scatter(arctic_ice_df, x='Year', y='Ice Area (square km)', trendline=\"ols\", \n",
    "                 title='Arctic Sea Ice Area')\n",
    "fig.show()"
   ]
  },
  {
   "cell_type": "markdown",
   "metadata": {},
   "source": [
    "## 5. Interpret\n",
    "\n",
    "There is one blue dot (a datapoint) on for each year between 1979 and 2017 and are shown in order of increasing year along the x-axis. The height of the dot is how much sea-ice area was measured that year and the y-axis is measured in M, for mega or million, km squared. The blue line is a line of best fit. That is to say, a straight line that goes through the datapoints that best shows the relationship of the x and y axes. If you hover your mouse over the line of best fit, you will see it has a negative slope around $-83712$. The line of best fit is:\n",
    "\n",
    "$$y = -83712.2\\frac{km^2}{year}\\cdot x + 1.72679\\cdot 10^8 km^2$$\n",
    "\n",
    "\n",
    "**Make meaning from the data visualization**\n",
    "- What do you notice about the line graph?\n",
    "- What do you wonder about the data?\n",
    "- Does the line of best fit having negative slope mean sea ice is decreasing or increasing?\n",
    "- How has the area of sea ice measured changed in the average year?"
   ]
  },
  {
   "cell_type": "markdown",
   "metadata": {},
   "source": [
    "## 6. Communicate\n",
    "Below we will reflect on the new information that is presented from the data. When we look at the evidence, think about what you perceive about the information. Is this perception based on what the evidence shows? If others were to view it, what perceptions might they have? These writing prompts can help you reflect.\n",
    "\n",
    "**Cause and effect**\n",
    "- What human activities affect the change of the Arctic sea ice area?\n",
    "- How can people contribute to solutions for the change in Arctic sea ice area?\n",
    "\n",
    "**Ethics**\n",
    "- How can personal and societal choices impact change?\n",
    "- How might the change in the Arctic sea ice area impact society or the economy?"
   ]
  },
  {
   "cell_type": "markdown",
   "metadata": {},
   "source": [
    "[![Callysto.ca License](https://github.com/callysto/curriculum-notebooks/blob/master/callysto-notebook-banner-bottom.jpg?raw=true)](https://github.com/callysto/curriculum-notebooks/blob/master/LICENSE.md)"
   ]
  }
 ],
 "metadata": {
  "kernelspec": {
   "display_name": "Python 3",
   "language": "python",
   "name": "python3"
  },
  "language_info": {
   "codemirror_mode": {
    "name": "ipython",
    "version": 3
   },
   "file_extension": ".py",
   "mimetype": "text/x-python",
   "name": "python",
   "nbconvert_exporter": "python",
   "pygments_lexer": "ipython3",
   "version": "3.6.6"
  }
 },
 "nbformat": 4,
 "nbformat_minor": 4
}
