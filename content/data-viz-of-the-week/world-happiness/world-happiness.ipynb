{
 "cells": [
  {
   "attachments": {},
   "cell_type": "markdown",
   "metadata": {},
   "source": [
    "![Callysto.ca Banner](https://github.com/callysto/curriculum-notebooks/blob/master/callysto-notebook-banner-top.jpg?raw=true)\n",
    "\n",
    "<a href=\"https://colab.research.google.com/github/callysto/jupyterlite/blob/main/content/data-viz-of-the-week/world-happiness/world-happiness.ipynb\" target=\"_parent\"><img src=\"https://colab.research.google.com/assets/colab-badge.svg?sanitize=true\" width=\"123\" height=\"24\" alt=\"Open in Callysto\"/></a>"
   ]
  },
  {
   "attachments": {},
   "cell_type": "markdown",
   "metadata": {},
   "source": [
    "# World Happiness and Income"
   ]
  },
  {
   "attachments": {},
   "cell_type": "markdown",
   "metadata": {},
   "source": [
    "# Question\n",
    "\n",
    "Is the happiness score of citizens in a country directly correlated to income in that country, or are there other factors that also influence the happiness scores?\n"
   ]
  },
  {
   "attachments": {},
   "cell_type": "markdown",
   "metadata": {},
   "source": [
    "# Gather\n",
    "\n",
    "We will use data from the World Happiness Report. \n",
    "\n",
    "Run the code in the following cell to import the code libraries needed for this project. Code libraries are sets of code that make it easier to accompilsh a specific purpose, for instance plotly express is a code library used for making visualizations. The first two lines of code import code libraries into this notebook and the lines of code below that in the same cell will import the data we are using from a website. \n"
   ]
  },
  {
   "cell_type": "code",
   "execution_count": null,
   "metadata": {},
   "outputs": [],
   "source": [
    "%pip install plotly nbformat pandas\n",
    "\n",
    "import pandas as pd\n",
    "import plotly.express as px\n",
    "\n",
    "url = 'https://happiness-report.s3.amazonaws.com/2023/DataForFigure2.1WHR2023.xls'\n",
    "data = pd.read_excel(url)\n",
    "data"
   ]
  },
  {
   "attachments": {},
   "cell_type": "markdown",
   "metadata": {},
   "source": [
    "## Happiness Score by Country\n",
    "\n",
    "Run the following code to generate a bar graph of the ladder (happiness) score for each country."
   ]
  },
  {
   "cell_type": "code",
   "execution_count": null,
   "metadata": {},
   "outputs": [],
   "source": [
    "#px.bar(data, x='Country name', y='Ladder score', title='World Happiness Report 2023', height=800)\n",
    "px.bar(data.sort_values('Ladder score'), x='Ladder score', y='Country name', title='World Happiness Report 2023', height=2100, orientation='h')"
   ]
  },
  {
   "attachments": {},
   "cell_type": "markdown",
   "metadata": {},
   "source": [
    "There are also `whisker` values representing the value ranges, let's see if those are significant for our purposes."
   ]
  },
  {
   "cell_type": "code",
   "execution_count": null,
   "metadata": {},
   "outputs": [],
   "source": [
    "data['error y'] = data['upperwhisker'] - data['Ladder score']\n",
    "data['error y minus'] = data['Ladder score'] - data['lowerwhisker']\n",
    "px.scatter(data, x='Country name', y='Ladder score', error_y='error y', error_y_minus='error y minus')"
   ]
  },
  {
   "attachments": {},
   "cell_type": "markdown",
   "metadata": {},
   "source": [
    "Those whiskers don't seem large enough to worry about.\n",
    "\n",
    "We can also color-code the bars by continent using contient names from [Gapminder](https://gapminder.org/)."
   ]
  },
  {
   "cell_type": "code",
   "execution_count": null,
   "metadata": {},
   "outputs": [],
   "source": [
    "geonames = pd.read_csv('https://raw.githubusercontent.com/open-numbers/ddf--gapminder--geo_entity_domain/master/ddf--entities--geo--country.csv')\n",
    "geonames = geonames.rename(columns={'name':'Country name', 'world_4region':'Continent'}) # we could instead use the 'world_6region' column\n",
    "geonames = geonames[['Country name', 'Continent']]\n",
    "data['Continent'] = data['Country name'].map(geonames.set_index('Country name')['Continent']).fillna('unknown').replace('', 'unknown')\n",
    "px.bar(data, x='Country name', y='Ladder score', title='World Happiness Report 2023 by Continent', height=800, color='Continent')"
   ]
  },
  {
   "attachments": {},
   "cell_type": "markdown",
   "metadata": {},
   "source": [
    "Instead of using 'unknown' for the countries that were named differently in the Gapminder data set, we can manually set their contients. First we will print the ones that have an `unknown` continent."
   ]
  },
  {
   "cell_type": "code",
   "execution_count": null,
   "metadata": {},
   "outputs": [],
   "source": [
    "data[data['Continent'] == 'unknown']['Country name']"
   ]
  },
  {
   "attachments": {},
   "cell_type": "markdown",
   "metadata": {},
   "source": [
    "Then we can set each of their contienents and recreate the visualization."
   ]
  },
  {
   "cell_type": "code",
   "execution_count": null,
   "metadata": {},
   "outputs": [],
   "source": [
    "contient_corrections = {'Czechia':'europe', \n",
    "                        'Taiwan Province of China':'asia', \n",
    "                        'Slovakia':'europe', \n",
    "                        'Kyrgyzstan':'asia', \n",
    "                        'Hong Kong S.A.R. of China':'asia', \n",
    "                        'Congo (Brazzaville)':'africa', \n",
    "                        'North Macedonia':'europe', \n",
    "                        'Laos':'asia', \n",
    "                        'Ivory Coast':'africa',\n",
    "                        'State of Palestine':'asia',\n",
    "                        'Turkiye':'asia',\n",
    "                        'Congo (Kinshasa)':'africa'}\n",
    "\n",
    "for country, continent in contient_corrections.items():\n",
    "    data.loc[data['Country name'] == country, 'Continent'] = continent\n",
    "\n",
    "px.bar(data, x='Country name', y='Ladder score', title='World Happiness Report 2023 by Continent', height=800, color='Continent')"
   ]
  },
  {
   "attachments": {},
   "cell_type": "markdown",
   "metadata": {},
   "source": [
    "What do you notice about the happiness scores of specific countries or from the visualization of world happiness by continent? \n"
   ]
  },
  {
   "attachments": {},
   "cell_type": "markdown",
   "metadata": {},
   "source": [
    "# Mapping the Data\n",
    "\n",
    "Run the code below to make a map of the countries colored by their happiness scores. "
   ]
  },
  {
   "cell_type": "code",
   "execution_count": null,
   "metadata": {},
   "outputs": [],
   "source": [
    "px.choropleth(data, locations='Country name', locationmode='country names', color='Ladder score', title='World Happiness Report 2023', height=800)"
   ]
  },
  {
   "attachments": {},
   "cell_type": "markdown",
   "metadata": {},
   "source": [
    "What observations can you make about world happiness based on the map above?\n",
    "\n",
    "The code below will generate a scatter plot with the data. The country will be on the x-axis with the happiness score on the y-axis. The size of each dot represents the amount of social support and the colour represents the life expectancy. \n"
   ]
  },
  {
   "cell_type": "code",
   "execution_count": null,
   "metadata": {},
   "outputs": [],
   "source": [
    "px.scatter(data, x='Country name', y='Ladder score', size='Social support', color='Healthy life expectancy', title='World Happiness Report 2023', height=800)"
   ]
  },
  {
   "attachments": {},
   "cell_type": "markdown",
   "metadata": {},
   "source": [
    "We can also generate individual scatter plots for each of the factors, with trendlines, to see how they correlate to the happiness score. In the visualizations below the happiness score is on the y-axis, and the x-axis values are:\n",
    "\n",
    "* Gross Domestic Product ($)\n",
    "* Life Expectancy (years)\n",
    "* Social Support (\"If you were in trouble, do you have relatives or friends you can count on to help you whenever you need them, or not?\")\n",
    "* Freedom (\"Are you satisfied or dissatisfied with your freedom to choose what you do with your life?”)\n",
    "* Generosity (Residual of regressing national average of \"Have you donated money to a charity in the past month?\" on GDP per capita.)\n",
    "* Corruption (Average of \"Is corruption widespread throughout the government or not” and “Is corruption widespread within businesses or not?\")"
   ]
  },
  {
   "cell_type": "code",
   "execution_count": null,
   "metadata": {},
   "outputs": [],
   "source": [
    "factors = ['Logged GDP per capita','Social support','Healthy life expectancy','Freedom to make life choices','Generosity','Perceptions of corruption']\n",
    "\n",
    "import plotly.graph_objects as go\n",
    "from plotly.subplots import make_subplots\n",
    "fig = make_subplots(rows=3, cols=2, subplot_titles=factors)\n",
    "for i, factor in enumerate(factors):\n",
    "    new_plot = px.scatter(data, x=factor, y='Ladder score', hover_data=['Country name'], trendline='ols')\n",
    "    for t in new_plot.data: # add the scatterplot and the trendline\n",
    "        fig.add_trace(t, row=i//2+1, col=i%2+1)\n",
    "fig.update_layout(title='World Happiness Report 2023', showlegend=False, height=1000).update_yaxes(title_text='Happiness Score')\n",
    "fig.show()"
   ]
  },
  {
   "attachments": {},
   "cell_type": "markdown",
   "metadata": {},
   "source": [
    "# Reflection Questions\n",
    "\n",
    "What factors contribute to a higher score of happiness? \n",
    "\n",
    "What factors contribute to a lower score of happiness?\n",
    "\n",
    "Are there factors that were not explored in this data visualization that could contribute to happiness score in a country?\n",
    "\n",
    "How do you think factors that influence quality of life affect the happiness score in a country? \n",
    "\n",
    "What advice would you give to a country leader who wanted to increase the happiness score in a country? "
   ]
  },
  {
   "attachments": {},
   "cell_type": "markdown",
   "metadata": {},
   "source": [
    "[![Callysto.ca License](https://github.com/callysto/curriculum-notebooks/blob/master/callysto-notebook-banner-bottom.jpg?raw=true)](https://github.com/callysto/curriculum-notebooks/blob/master/LICENSE.md)"
   ]
  }
 ],
 "metadata": {
  "kernelspec": {
   "display_name": "base",
   "language": "python",
   "name": "python3"
  },
  "language_info": {
   "codemirror_mode": {
    "name": "ipython",
    "version": 3
   },
   "file_extension": ".py",
   "mimetype": "text/x-python",
   "name": "python",
   "nbconvert_exporter": "python",
   "pygments_lexer": "ipython3",
   "version": "3.10.1"
  },
  "orig_nbformat": 4,
  "vscode": {
   "interpreter": {
    "hash": "6cad06f6513fbe8c529013bf7137591565062e8dd112e1d0c3e544762347f124"
   }
  }
 },
 "nbformat": 4,
 "nbformat_minor": 2
}
