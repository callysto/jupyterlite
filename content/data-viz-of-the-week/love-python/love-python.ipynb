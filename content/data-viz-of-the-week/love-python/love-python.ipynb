{
 "cells": [
  {
   "attachments": {},
   "cell_type": "markdown",
   "metadata": {},
   "source": [
    "![Callysto.ca Banner](https://github.com/callysto/curriculum-notebooks/blob/master/callysto-notebook-banner-top.jpg?raw=true)\n",
    "\n",
    "<a href=\"https://hub.callysto.ca/jupyter/hub/user-redirect/git-pull?repo=https%3A%2F%2Fgithub.com%2Fcallysto%2Fdata-viz-of-the-week&branch=main&subPath=love-python/love-python.ipynb&depth=1\" target=\"_parent\"><img src=\"https://raw.githubusercontent.com/callysto/curriculum-notebooks/master/open-in-callysto-button.svg?sanitize=true\" width=\"123\" height=\"24\" alt=\"Open in Callysto\"/></a>"
   ]
  },
  {
   "attachments": {},
   "cell_type": "markdown",
   "metadata": {},
   "source": [
    "# Love Python Code\n",
    "\n",
    "In honour of Valentine's Day, here is Python code to generate a stacked subplot visualization to express our love for programming in Python."
   ]
  },
  {
   "cell_type": "code",
   "execution_count": null,
   "metadata": {},
   "outputs": [],
   "source": [
    "%pip install -r requirements.txt\n",
    "import pyodide_http\n",
    "pyodide_http.patch_all()\n",
    "from plotly.subplots import make_subplots\n",
    "import plotly.graph_objects as go\n",
    "import numpy as np\n",
    "\n",
    "fig = make_subplots(rows=4, cols=1)\n",
    "\n",
    "x1 = np.linspace(1, 50, 100)\n",
    "y1 = 2/x1\n",
    "fig.append_trace(go.Scatter(x=x1, y=y1), row=1, col=1)\n",
    "theta = np.linspace(0, 2*np.pi, 1000)\n",
    "x2 = np.cos(theta)\n",
    "y2 = np.sin(theta)\n",
    "fig.append_trace(go.Scatter(x=x2, y=y2), row=2, col=1)\n",
    "x3 = np.linspace(-10, 10, 100)\n",
    "y3 = np.abs(x3)\n",
    "fig.append_trace(go.Scatter(x=x3, y=y3), row=3, col=1)\n",
    "y4 = np.linspace(-3, 3, 100)\n",
    "x4 = -2*np.abs(np.sin(y4))\n",
    "fig.append_trace(go.Scatter(x=x4, y=y4), row=4, col=1)\n",
    "\n",
    "fig.update_layout(height=1000, width=300, showlegend=False, title_text='At Callysto we').update_xaxes(visible=False).update_yaxes(visible=False)\n",
    "fig.add_annotation(text='programming in Python', xref='paper', yref='paper', x=-0.4, y=-0.07, showarrow=False, font={'size':18})\n",
    "fig.show()"
   ]
  },
  {
   "attachments": {},
   "cell_type": "markdown",
   "metadata": {},
   "source": [
    "[![Callysto.ca License](https://github.com/callysto/curriculum-notebooks/blob/master/callysto-notebook-banner-bottom.jpg?raw=true)](https://github.com/callysto/curriculum-notebooks/blob/master/LICENSE.md)"
   ]
  }
 ],
 "metadata": {
  "kernelspec": {
   "display_name": "Python 3",
   "language": "python",
   "name": "python3"
  },
  "language_info": {
   "codemirror_mode": {
    "name": "ipython",
    "version": 3
   },
   "file_extension": ".py",
   "mimetype": "text/x-python",
   "name": "python",
   "nbconvert_exporter": "python",
   "pygments_lexer": "ipython3",
   "version": "3.10.1"
  },
  "orig_nbformat": 4
 },
 "nbformat": 4,
 "nbformat_minor": 2
}
