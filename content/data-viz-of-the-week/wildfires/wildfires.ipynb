{
 "cells": [
  {
   "attachments": {},
   "cell_type": "markdown",
   "metadata": {},
   "source": [
    "![Callysto.ca Banner](https://github.com/callysto/curriculum-notebooks/blob/master/callysto-notebook-banner-top.jpg?raw=true)\n",
    "\n",
    "<a href=\"https://hub.callysto.ca/jupyter/hub/user-redirect/git-pull?repo=https%3A%2F%2Fgithub.com%2Fcallysto%2Fdata-viz-of-the-week&branch=main&subPath=wildfires/wildfires.ipynb&depth=1\" target=\"_parent\"><img src=\"https://raw.githubusercontent.com/callysto/curriculum-notebooks/master/open-in-callysto-button.svg?sanitize=true\" width=\"123\" height=\"24\" alt=\"Open in Callysto\"/></a>"
   ]
  },
  {
   "attachments": {},
   "cell_type": "markdown",
   "metadata": {},
   "source": [
    "# Callysto’s Weekly Data Visualization\n",
    "\n",
    "## Wildfires\n",
    "\n",
    "### Recommended Grade levels: 5-9\n",
    "<br>"
   ]
  },
  {
   "attachments": {},
   "cell_type": "markdown",
   "metadata": {},
   "source": [
    "### Instructions\n",
    "\n",
    "Click \"Cell\" and select \"Run All\".\n",
    "\n",
    "This will import the data and run all the code, so you can see this week's data visualization. Scroll back to the top after you’ve run the cells.\n",
    "\n",
    "![instructions](https://github.com/callysto/data-viz-of-the-week/blob/main/images/instructions.png?raw=true)\n",
    "\n",
    "**You don't need to do any coding to view the visualizations**.\n",
    "\n",
    "The plots generated in this notebook are interactive. You can hover over and click on elements to see more information. \n",
    "\n",
    "Email contact@callysto.ca if you experience issues."
   ]
  },
  {
   "attachments": {},
   "cell_type": "markdown",
   "metadata": {},
   "source": [
    "### About this Notebook\n",
    "\n",
    "Callysto's Weekly Data Visualization is a learning resource that aims to develop data literacy skills. We provide Grades 5-12 teachers and students with a data visualization, like a graph, to interpret. This companion resource walks learners through how the data visualization is created and interpreted by a data scientist. \n",
    "\n",
    "The steps of the data analysis process are listed below and applied to each weekly topic.\n",
    "\n",
    "1. Question - What are we trying to answer?\n",
    "2. Gather - Find the data source(s) you will need. \n",
    "3. Organize - Arrange the data, so that you can easily explore it. \n",
    "4. Explore - Examine the data to look for evidence to answer the question. This includes creating visualizations. \n",
    "5. Interpret - Describe what's happening in the data visualization. \n",
    "6. Communicate - Explain how the evidence answers the question. "
   ]
  },
  {
   "attachments": {},
   "cell_type": "markdown",
   "metadata": {},
   "source": [
    "# Question\n",
    "\n",
    "Recently in Canada, wildfires have become a *hot* topic. They are a significant natural disaster that poses a threatening risk to ecosystems, human lives, and the environment. Canada, known for its vast forests and diverse ecosystems, has experienced its fair share of devastating wildfires in recent years. These fires not only have a profound impact on Canada but also affect nearby countries and have broader implications for the climate. \n",
    "\n",
    "Wildfires in Canada have a significant impact on the environment, particularly in heavily forested regions with a lack of rain. The primary damage done by fires is the loss of trees, which are being essential carbon sinks that help in absorbing greenhouse gases and mitigating climate change. The loss of these forests due to wildfires can release a substantial amount of carbon dioxide back in the atmosphere, contributing to global warming. \n",
    "\n",
    "The consequences of Canadian wildfires beyond its borders, impacting nearby countries such as the United States has also reached global news. Due to the raging wildfires in northwest Quebec, New York City recorded some its worst air quality to date, being equivalent to smoking 25-30 cigarettes. This smoke continues to travel in the United States, damaging nearby cities with poor air quality."
   ]
  },
  {
   "attachments": {},
   "cell_type": "markdown",
   "metadata": {},
   "source": [
    "### Goal\n",
    "\n",
    "Our goal is look at the different causes of wildfires in Canada and discover trends, such as where historically wildfires stem from and the main factors that cause wildfires. From this gathered information, individuals can garner a more educated perspective on the main causes of wildfires in Canada. \n",
    "\n",
    "The datasets used in this notebook are taken from [National Forestry Database](http://nfdp.ccfm.org/en/data/fires.php#tab322), and contains information on Canadian wildfires events from 1990-2021."
   ]
  },
  {
   "attachments": {},
   "cell_type": "markdown",
   "metadata": {},
   "source": [
    "# Gather"
   ]
  },
  {
   "attachments": {},
   "cell_type": "markdown",
   "metadata": {},
   "source": [
    "### Code: "
   ]
  },
  {
   "attachments": {},
   "cell_type": "markdown",
   "metadata": {},
   "source": [
    "Run the code cells below to import the libraries we need for this project. Libraries are pre-made code that make it easier to analyze our data."
   ]
  },
  {
   "cell_type": "code",
   "execution_count": 2,
   "metadata": {},
   "outputs": [
    {
     "ename": "SyntaxError",
     "evalue": "invalid syntax (<timeit-src>, line 2)",
     "output_type": "error",
     "traceback": [
      "Traceback \u001b[1;36m(most recent call last)\u001b[0m:\n",
      "\u001b[0m  File \u001b[0;32m~\\AppData\\Roaming\\Python\\Python310\\site-packages\\IPython\\core\\interactiveshell.py:3433\u001b[0m in \u001b[0;35mrun_code\u001b[0m\n    exec(code_obj, self.user_global_ns, self.user_ns)\u001b[0m\n",
      "\u001b[0m  Cell \u001b[0;32mIn [2], line 2\u001b[0m\n    timeit.timeit('!pip install -r requirements.txt')\u001b[0m\n",
      "\u001b[0m  File \u001b[0;32mc:\\Users\\calga\\AppData\\Local\\Programs\\Python\\Python310\\lib\\timeit.py:234\u001b[0m in \u001b[0;35mtimeit\u001b[0m\n    return Timer(stmt, setup, timer, globals).timeit(number)\u001b[0m\n",
      "\u001b[1;36m  File \u001b[1;32mc:\\Users\\calga\\AppData\\Local\\Programs\\Python\\Python310\\lib\\timeit.py:123\u001b[1;36m in \u001b[1;35m__init__\u001b[1;36m\n\u001b[1;33m    compile(stmtprefix + stmt, dummy_src_name, \"exec\")\u001b[1;36m\n",
      "\u001b[1;36m  File \u001b[1;32m<timeit-src>:2\u001b[1;36m\u001b[0m\n\u001b[1;33m    !pip install -r requirements.txt\u001b[0m\n\u001b[1;37m    ^\u001b[0m\n\u001b[1;31mSyntaxError\u001b[0m\u001b[1;31m:\u001b[0m invalid syntax\n"
     ]
    }
   ],
   "source": [
    "%pip install -r requirements.txt\n",
    "import pyodide_http\n",
    "pyodide_http.patch_all()\n",
    "\n",
    "import pandas as pd\n",
    "\n",
    "import plotly_express as px\n",
    "from plotly.subplots import make_subplots\n",
    "import matplotlib.pyplot as plt\n",
    "import matplotlib.colors\n",
    "print(\"Libaries imported\")"
   ]
  },
  {
   "attachments": {},
   "cell_type": "markdown",
   "metadata": {},
   "source": [
    "### Data\n",
    "\n",
    "In this notebook, we will use 4 different datasets from [National Forestry Database](http://nfdp.ccfm.org/en/data/fires.php#tab322). To measure the main causes of wildfires, we'll be utilizing `areabygroup` and `numfiresbygroup` which measure the number of hectares of land that are damaged by wildfires and the number of fires started due to specific *causes* respectively. \n",
    "\n",
    "The datasets `areabyclass` and `numfiresbymonth` will also be used later in this notebook, and these datasets delve more into the sizes of fires and their impact on the environment and the number of fires recorded each month respectively. "
   ]
  },
  {
   "attachments": {},
   "cell_type": "markdown",
   "metadata": {},
   "source": [
    "### Import the data"
   ]
  },
  {
   "cell_type": "code",
   "execution_count": null,
   "metadata": {},
   "outputs": [],
   "source": [
    "# Import data\n",
    "areabygroup = pd.read_excel('https://raw.githubusercontent.com/callysto/data-files/main/data-viz-of-the-week/wildfires/areaburnedbygroup.xlsx', skiprows=1)\n",
    "numfiresbygroup = pd.read_excel('https://raw.githubusercontent.com/callysto/data-files/main/data-viz-of-the-week/wildfires/numfiresbygroup.xlsx')"
   ]
  },
  {
   "cell_type": "code",
   "execution_count": null,
   "metadata": {},
   "outputs": [],
   "source": [
    "display(areabygroup.head())\n",
    "display(numfiresbygroup.head())"
   ]
  },
  {
   "attachments": {},
   "cell_type": "markdown",
   "metadata": {},
   "source": [
    "### Comment on the data\n",
    "Notice that in our datasets we have some repetitious columns. The first column is `Jurisdiction`, and it refers to the province in which the wildfire occurred. The column `Data Qualifier` is not important for our sake and can be ignored. Then there are columns `1990`-`2021` referring to either the quantity of area burned in hectares or the number of wildfires that occurred in that year. "
   ]
  },
  {
   "attachments": {},
   "cell_type": "markdown",
   "metadata": {},
   "source": [
    "# Organize\n",
    "Let's organize our data by organizing it into relevant information. In regard to our `areabygroup` and `numfiresbygroup` dataset, let's sum the different causes in the `Cause` column together to identify common causes of wildfires. \n",
    "\n",
    "Note: We'll be constantly organizing our data to make it useful to the visualization at hand."
   ]
  },
  {
   "cell_type": "code",
   "execution_count": null,
   "metadata": {},
   "outputs": [],
   "source": [
    "areabygroup_causes = areabygroup.groupby(['Cause']).sum().reset_index()\n",
    "numfiresbygroup_causes = numfiresbygroup.groupby(['Cause']).sum().reset_index()"
   ]
  },
  {
   "cell_type": "code",
   "execution_count": null,
   "metadata": {},
   "outputs": [],
   "source": [
    "years = list(range(1990, 2022))\n",
    "\n",
    "# red to blue colour scheme\n",
    "color_scheme = plt.get_cmap('RdYlBu', len(years))\n",
    "\n",
    "color_map = {}\n",
    "\n",
    "for i, year in enumerate(years):\n",
    "    color = color_scheme(i / (len(years) - 1))\n",
    "    hex_color = matplotlib.colors.to_hex(color)\n",
    "    color_map[year] = hex_color\n",
    "\n",
    "print(color_map)"
   ]
  },
  {
   "attachments": {},
   "cell_type": "markdown",
   "metadata": {},
   "source": [
    "# Explore"
   ]
  },
  {
   "attachments": {},
   "cell_type": "markdown",
   "metadata": {},
   "source": [
    "### Visualizations on Causations of Wildfires"
   ]
  },
  {
   "attachments": {},
   "cell_type": "markdown",
   "metadata": {},
   "source": [
    "With our new datasets `areabygroup_causes` and `numfiresbygroup_causes`, let's visualize the trends from 1990-2021 and notice if there are any apparent differences between the figures."
   ]
  },
  {
   "attachments": {},
   "cell_type": "markdown",
   "metadata": {},
   "source": [
    "Clarifications on the `Cause` of wildfires can be found below."
   ]
  },
  {
   "attachments": {},
   "cell_type": "markdown",
   "metadata": {},
   "source": [
    "| **Cause** | **Description** |\n",
    "| :- |:------------- | \n",
    "| Human Activity | Wildfires caused by human activity refer to fires ignited as a result of human actions. These can include accidental causes like discarded cigarettes, unattended campfires, sparks from equipment or machinery, power line failures, or intentional acts of arson. Human-caused wildfires can occur in both urban and rural areas and can have various impacts depending on the location, climate, and fuel availability. |\n",
    "| Lightning | Lightning-caused wildfires originate from natural electrical discharges during dry thunderstorms. Lightning strikes can ignite fires when they come into contact with dry vegetation, especially in regions with dry and windy conditions. These wildfires are a natural occurrence and can be prevalent in remote or forested areas where lightning strikes are more likely to occur. |\n",
    "| Prescribed Burn | A prescribed burn, also known as a controlled burn or prescribed fire, is a planned fire intentionally set by fire management authorities. These burns are carefully controlled and conducted under specific conditions to reduce the risk of uncontrolled wildfires. Prescribed burns are often used for ecological purposes, such as promoting forest health, reducing fuel loads, managing vegetation, or restoring natural fire regimes. |\n",
    "| Reburn | Reburn refers to a situation where a previously burned area reignites due to residual heat or smoldering embers from a previous wildfire. Even after a fire has been extinguished, heat can remain trapped within logs, root systems, or organic material. Under certain conditions, such as dry and windy weather, these residual heat sources can reignite, leading to a new fire within the previously burned area. Reburns can be challenging to detect and control, as they can occur unexpectedly and often in areas where firefighting resources have been recently deployed.  |\n",
    "| Unspecified | Causes where the source of wildfire is unknown or unspecified. Mainly due to a lack of evidence. |"
   ]
  },
  {
   "cell_type": "code",
   "execution_count": null,
   "metadata": {},
   "outputs": [],
   "source": [
    "cause_figs = make_subplots(rows=1, cols=1, subplot_titles=['Area Burned from Wildfires by Cause'])\n",
    "\n",
    "for i in range(1990,2022):\n",
    "\n",
    "    cause_figs.add_bar(x=areabygroup_causes['Cause'], y=areabygroup_causes[i], name=i, marker=dict(color=color_map[i]), row=1, col=1)\n",
    "\n",
    "cause_figs.update_layout(xaxis_title_text='Cause', yaxis_title_text='Hecatares Burned').show()\n"
   ]
  },
  {
   "attachments": {},
   "cell_type": "markdown",
   "metadata": {},
   "source": [
    "### Trim the Data\n",
    "\n",
    "We notice that the `Cause` of `Presecibed burn` and `Reburn` are very small. So let's ignore them!\n",
    "\n",
    "We also notice `Unspecified` is also small, except in the last year 2021. This is probably because there has not been enough time for the researchers in the Forestry Department to decide on the cause of those recent fires. So let's ignore these as well.\n",
    "\n",
    "Use a mask to keep only the two remaining causes, `Human activity` and `Lightning.`"
   ]
  },
  {
   "cell_type": "code",
   "execution_count": null,
   "metadata": {},
   "outputs": [],
   "source": [
    "mask = areabygroup_causes['Cause'].isin(['Human activity', 'Lightning'])\n",
    "areabygroup_trimmed = areabygroup_causes[mask]\n",
    "\n",
    "masked_fig = make_subplots(rows=1, cols=1, subplot_titles=['Area Burned from Wildfires by Cause'])\n",
    "\n",
    "for i in range(1990,2022):\n",
    "\n",
    "    masked_fig.add_bar(x=areabygroup_trimmed['Cause'], y=areabygroup_trimmed[i], name=i, marker=dict(color=color_map[i]), row=1, col=1)\n",
    "\n",
    "masked_fig.update_layout(xaxis_title_text='Cause', yaxis_title_text='Hecatares Burned').show()"
   ]
  },
  {
   "attachments": {},
   "cell_type": "markdown",
   "metadata": {},
   "source": [
    "### Trim more Data\n",
    "\n",
    "Let's do a similar trim on the number of fires dataset."
   ]
  },
  {
   "cell_type": "code",
   "execution_count": null,
   "metadata": {},
   "outputs": [],
   "source": [
    "mask = numfiresbygroup_causes['Cause'].isin(['Human activity', 'Lightning'])\n",
    "numfiresbygroup_trimmed = numfiresbygroup_causes[mask]\n",
    "\n",
    "masked_fig_num = make_subplots(rows=1, cols=1, subplot_titles=['Number of Wildfires by Cause'])\n",
    "\n",
    "for i in range(1990,2022):\n",
    "\n",
    "    masked_fig_num.add_bar(x=numfiresbygroup_trimmed['Cause'], y=numfiresbygroup_trimmed[i], name=i, marker=dict(color=color_map[i]), row=1, col=1)\n",
    "\n",
    "masked_fig_num.update_layout(xaxis_title_text='Cause', yaxis_title_text='Count').show()\n"
   ]
  },
  {
   "attachments": {},
   "cell_type": "markdown",
   "metadata": {},
   "source": [
    "# Intrepret"
   ]
  },
  {
   "attachments": {},
   "cell_type": "markdown",
   "metadata": {},
   "source": [
    "In terms of general trends found in the visualizations, starting with the figure *Area Burned from Wildfires by Cause*, `Lightning` appears to be the main factor in terms of area burned by wildfires. In comparison with the *Number of Figures by Cause* figure, `Human Activity` and `Lightning` are clear front-runners in terms of number of fires started. Something that also stands out is despite the frequency of fires started by `Human Activity`, there seems to be a drastic fall-off in terms of area burned. Furthermore, due to the sheer scale of `Human Activity` and `Lightning`, columns like `Prescribed burn` and `Reburn` become hard to see.\n",
    "\n",
    "Some particular reasons why lightning may generate more hectares burned compared to human activity could be:\n",
    "1. Location: The locations of where wildfires begin can influence their behavior and the extent of the burned area. Human-caused fires often occur in more populated areas, where vegetation may be managed or more fragmented, leading to smaller, localized fires. In contrast, lightning-caused fires can occur in remote and inaccessible areas with abundant and continuous fuel, allowing the fire to spread over larger areas.\n",
    "   \n",
    "2. Natural Factors: Lightning-caused fires are often associated with thunderstorms, which can occur in regions with favorable atmospheric conditions for fire spread, such as dry and windy conditions. Lightning strikes during these conditions can ignite wildfires that are more likely to spread rapidly and cover extensive areas.\n",
    "   \n",
    "3. Human Intervention: Like mentioned earlier, many human activity related fires begin in populated areas. As a result, oftentimes there is prompt response and intervention in order to mitigate the spread of the fire. Well-established firefighting infrastructure and strategies, such as firebreaks, water sources, and aerial resources, also significantly mitigate the impact of human-caused fires."
   ]
  },
  {
   "attachments": {},
   "cell_type": "markdown",
   "metadata": {},
   "source": [
    "### Separating Provinces: Exploring Wildfire Trends by Cause"
   ]
  },
  {
   "attachments": {},
   "cell_type": "markdown",
   "metadata": {},
   "source": [
    "Next, let's visualize which causes are most frequent in particular provinces and identify any reasons why this could be."
   ]
  },
  {
   "cell_type": "code",
   "execution_count": null,
   "metadata": {},
   "outputs": [],
   "source": [
    "areabygroup['Sum']= areabygroup.iloc[:,4:35].sum(axis=1)\n",
    "numfiresbygroup['Sum']= numfiresbygroup.iloc[:,4:35].sum(axis=1)\n",
    "# Calculate the sum of area burned and number of fires by cause\n",
    "province_area = px.sunburst(areabygroup, path=['Jurisdiction', 'Cause'], values='Sum')\n",
    "province_area.update_layout(title='Area Burned of each Province by Cause').show()\n",
    "province_num = px.sunburst(numfiresbygroup, path=['Jurisdiction', 'Cause'], values='Sum')\n",
    "province_num.update_layout(title='Number of Fires of each Province by Cause').show()"
   ]
  },
  {
   "attachments": {},
   "cell_type": "markdown",
   "metadata": {},
   "source": [
    "Similarly to our plots before, we notice the `Human Activity` and `Lightning` as the main causes of wildfires, with lightning causing more overall area burned and human activity being more prevalent in starting fires compared to burning area. \n",
    "\n",
    "Provinces such as *Alberta*, *British Columbia*, and *Ontario* stand out as having a high number of fires started compared to other provinces such as *Prince Edward Island*. One of the main reasons for this is due to population density. Alberta, B.C, and Ontario are among the most populous provinces in Canada, with larger urban centers and a higher concentration of human activity. Increased human presence, along with more infrastructure, such as roads, power lines, and recreational areas, can lead to a higher likelihood of human-caused fires.\n",
    "\n",
    "An interesting observation seen in the `Lightning` cause is that despite *Northwest Territories* and *Saskatchewan* having an average number of fires started, they have the 1st and 2nd highest number of land burnt respectively. A particular reason for this could be due to the land characteristics of these provinces. Saskatchewan and the Northwest Territories have extensive areas of grasslands, boreal forests, and tundra, which are highly flammable during dry periods. These regions have a significant amount of fuel available to burn, leading to larger fire sizes when ignited. In contrast, B.C and Alberta have a more diverse landscape, including mountainous terrain and a mix of forest types, which can sometimes act as natural barriers and limit the spread of wildfires. Another significant factor is the climate and weather patterns in Saskatchewan and the Northwest Territories. Often, these provinces have drier and hotter climates compared to other provinces. The combination of low rainfall, high temperatures, and prolonged periods of drought increases the potential for fires to ignite and spread more rapidly. "
   ]
  },
  {
   "attachments": {},
   "cell_type": "markdown",
   "metadata": {},
   "source": [
    "Sometimes, due to the scale of certain values in figures, it can be hard to visualize comparisons. In the figure below, you can find the main causes of landmass burnt in different provinces in differing years by changing the value of `year_to_check` to the year you are interested in observing. \n",
    "\n",
    "Note: The dataset obtained only has years from 1990-2021, and the *2021* data cannot identify the causes of wildfires."
   ]
  },
  {
   "cell_type": "code",
   "execution_count": null,
   "metadata": {},
   "outputs": [],
   "source": [
    "provincal_fires = areabygroup.groupby(['Jurisdiction', 'Cause']).sum().reset_index()\n",
    "\n",
    "# Change this value to change the year (Note: This data goes from 1990-2021)\n",
    "# For example, changing 2020 to 2019 will show Area Burned based on Causes in 2019\n",
    "year_to_check = 2020\n",
    "\n",
    "if year_to_check < 1900 or year_to_check > 2021:\n",
    "    print(\"Please input a valid date from 1990-2021\")\n",
    "else:\n",
    "    provincal_fires_fig = px.bar(provincal_fires, x='Jurisdiction', y=year_to_check, color='Cause', title=f'Area Burned from Wildfires based on Province in {year_to_check}').update_layout(yaxis_title=\"Area Burned (hectares)\").show()"
   ]
  },
  {
   "attachments": {},
   "cell_type": "markdown",
   "metadata": {},
   "source": [
    "### Provincial Trends: Separating Differences by Months"
   ]
  },
  {
   "attachments": {},
   "cell_type": "markdown",
   "metadata": {},
   "source": [
    "Looking at the figures above, one quite obvious trend seen is that as the size of fires increase, the more damaging they become in terms of area burnt due to the wildfire. The largest point seen in *figure 3*, was found in the Northwest Territories with a value of 2,447,000 million hectares of land burnt. That's approximately equivalent 5 million football fields, which is an absurd number to visualize. On the opposite side, surprisingly certain wildfires were recorded having no land burnt despite being considered a \"wildfire\". A particular reason why this could have happened is due to an immediate response to a fire starting, and thus forced being recorded into the certain fire databases despite a lack of land burnt. "
   ]
  },
  {
   "attachments": {},
   "cell_type": "markdown",
   "metadata": {},
   "source": [
    "In our final visualization, let's look at the trends of which months fires are most likely to start in alongside months that fires are most likely not to start in.\n",
    "\n",
    "We start by loading in the appropriate data."
   ]
  },
  {
   "cell_type": "code",
   "execution_count": null,
   "metadata": {},
   "outputs": [],
   "source": [
    "numfiresbymonth = pd.read_excel('https://raw.githubusercontent.com/callysto/data-files/main/data-viz-of-the-week/wildfires/numfiresbymonth.xlsx', skiprows=1)\n",
    "display(numfiresbymonth.head())"
   ]
  },
  {
   "attachments": {},
   "cell_type": "markdown",
   "metadata": {},
   "source": [
    "Let's plot the wildfires by month, for a few of the jurisdictions."
   ]
  },
  {
   "cell_type": "code",
   "execution_count": null,
   "metadata": {},
   "outputs": [],
   "source": [
    "# Change the values in jurisdictions in order to visualize different provinces\n",
    "# For example, changing the value 'Alberta' to 'Ontario' will visualize the trends in Ontario instead of Alberta\n",
    "\n",
    "jurisdictions = ['Alberta', 'British Columbia', 'Saskatchewan', 'Northwest Territories']\n",
    "\n",
    "for i, jurisdiction in enumerate(jurisdictions):\n",
    "\n",
    "    jurisdiction_data = numfiresbymonth[numfiresbymonth['Jurisdiction'] == jurisdiction]\n",
    "    \n",
    "    if \"Unspecified\" in jurisdiction_data['Month'].values:\n",
    "        jurisdiction_data_filtered = jurisdiction_data[jurisdiction_data['Month'] != \"Unspecified\"]\n",
    "    else:\n",
    "        jurisdiction_data_filtered = jurisdiction_data\n",
    "\n",
    "    px.bar(jurisdiction_data_filtered,x='Month', y=list(range(1990, 2022)), barmode=\"group\", \n",
    "               color='variable', labels={\"value\": \"Hectares\", \"variable\": \"Year\"},\n",
    "               title=jurisdiction).show()\n",
    "        \n"
   ]
  },
  {
   "attachments": {},
   "cell_type": "markdown",
   "metadata": {},
   "source": [
    "Starting with general trends found in many provinces, it appears that most wildfires start during the months of **April-September**, peaking in July or August. This makes sense as during the spring and summer months, many provinces experience higher temperatures, lower humidity levels, and reduced precipitation. These weather conditions create a drier environment, which increases the risk of wildfires. Dry vegetation, such as grasses, shrubs, and trees, becomes more flammable and susceptible to ignition from various sources. During fall and winter, cooler temperatures and higher humidity levels help maintain higher moisture content in vegetation, making it less prone to ignition and slower to burn. Furthermore, as noted before, *lightning* is the primary causes of wildfires in Canada. As such, in certain provinces, thunderstorms are more prevalent during the summer months, leading to an increased number of lightning strikes that can ignite fires.\n",
    "\n",
    "Certain provinces that are similar in composition such as *Alberta,* and *Saskatchewan,* and *Northwest Territories* shared similarities in trends of wildfires, which makes sense. Provinces that are closer to each other are expected to share similarities in terms of environmental composition, and thus, would be likely to share wildfire patterns.\n",
    "\n",
    "In terms of minor differences in provinces found in this visualization, certain maritime provinces such as *P.E.I* and *New Brunswick* will show different behaviour. Try modifying the code above to create plots for these other provinces. You may find that the maritime provinces appear to have an extremely low level of wildfires started. This can be attributed to the maritime provinces having a cooler and more humid climate compared to other regions in Canada. The proximity to the Atlantic Ocean also influences the weather patterns, resulting in milder summers with higher precipitation levels."
   ]
  },
  {
   "attachments": {},
   "cell_type": "markdown",
   "metadata": {},
   "source": [
    "# Communicate\n",
    "\n",
    "Below are some writing prompts to help you reflect on the new information that is presented from the data. When we look at the evidence, think about what you perceive about the information. Is this perception based on what the evidence shows? If others were to view it, what perceptions might they have?\n",
    "\n",
    "- I used to think ____________________but now I know____________________. \n",
    "- I wish I knew more about ____________________. \n",
    "- This visualization reminds me of ____________________. \n",
    "- I really like ____________________.\n"
   ]
  },
  {
   "attachments": {},
   "cell_type": "markdown",
   "metadata": {},
   "source": [
    "[![Callysto.ca License](https://github.com/callysto/curriculum-notebooks/blob/master/callysto-notebook-banner-bottom.jpg?raw=true)](https://github.com/callysto/curriculum-notebooks/blob/master/LICENSE.md)"
   ]
  }
 ],
 "metadata": {
  "kernelspec": {
   "display_name": "Python 3",
   "language": "python",
   "name": "python3"
  },
  "language_info": {
   "codemirror_mode": {
    "name": "ipython",
    "version": 3
   },
   "file_extension": ".py",
   "mimetype": "text/x-python",
   "name": "python",
   "nbconvert_exporter": "python",
   "pygments_lexer": "ipython3",
   "version": "3.10.8"
  },
  "orig_nbformat": 4
 },
 "nbformat": 4,
 "nbformat_minor": 2
}
