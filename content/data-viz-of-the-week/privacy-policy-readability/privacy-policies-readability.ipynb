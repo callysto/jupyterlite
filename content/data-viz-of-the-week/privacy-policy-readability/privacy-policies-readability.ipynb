{
 "cells": [
  {
   "cell_type": "markdown",
   "id": "a58a914c",
   "metadata": {},
   "source": [
    "![Callysto.ca Banner](https://github.com/callysto/curriculum-notebooks/blob/master/callysto-notebook-banner-top.jpg?raw=true)\n",
    "\n",
    "<a href=\"https://hub.callysto.ca/jupyter/hub/user-redirect/git-pull?repo=https%3A%2F%2Fgithub.com%2Fcallysto%2Fdata-viz-of-the-week&branch=main&subPath=privacy-policy-readability&depth=1\" target=\"_parent\"><img src=\"https://raw.githubusercontent.com/callysto/curriculum-notebooks/master/open-in-callysto-button.svg?sanitize=true\" width=\"123\" height=\"24\" alt=\"Open in Callysto\"></a>"
   ]
  },
  {
   "cell_type": "markdown",
   "id": "e90a64a5",
   "metadata": {},
   "source": [
    "# Readability of Privacy Policies"
   ]
  },
  {
   "cell_type": "markdown",
   "id": "fe687947",
   "metadata": {},
   "source": [
    "### Instructions\n",
    "#### “Run” the cells to see the graphs\n",
    "Click “Cell” and select “Run All”.<br> This will import the data and run all the code, so you can see this week's data visualization. Scroll to the top after you’ve run the cells.<br> \n",
    "\n",
    "![instructions](https://github.com/callysto/data-viz-of-the-week/blob/main/images/instructions.png?raw=true)\n",
    "\n",
    "**You don’t need to do any coding to view the visualizations**.\n",
    "The plots generated in this notebook are interactive. You can hover over and click on elements to see more information. \n",
    "\n",
    "Email contact@callysto.ca if you experience issues."
   ]
  },
  {
   "cell_type": "markdown",
   "id": "1ed059a7",
   "metadata": {},
   "source": [
    "### About this Notebook\n",
    "\n",
    "Callysto's Weekly Data Visualization is a learning resource that aims to develop data literacy skills. We provide Grades 5-12 teachers and students with a data visualization, like a graph, to interpret. This companion resource walks learners through how the data visualization is created and interpreted by a data scientist. \n",
    "\n",
    "The steps of the data analysis process are listed below and applied to each weekly topic.\n",
    "\n",
    "1. Question - What are we trying to answer? \n",
    "2. Gather - Find the data source(s) you will need. \n",
    "3. Organize - Arrange the data, so that you can easily explore it. \n",
    "4. Explore - Examine the data to look for evidence to answer the question. This includes creating visualizations. \n",
    "5. Interpret - Describe what's happening in the data visualization. \n",
    "6. Communicate - Explain how the evidence answers the question. "
   ]
  },
  {
   "cell_type": "markdown",
   "id": "4c96aa0a",
   "metadata": {},
   "source": [
    "# Question\n",
    "\n",
    "So, you've checked off the \"I read and agree to the terms and conditions\" on a new service you've just signed up to without actually reading the terms. After all, they always seem very long to read and filled with jargon that does not make sense. \n",
    "\n",
    "But just how difficult is it to read these terms of services? In this data visualization, we analyze the readability of various data policies to answer this question. \n",
    "\n",
    "### Goal\n",
    "Our goal is to investigate the readability of **privacy policies** of some of the most popular social media websites to see just how difficult they are to read."
   ]
  },
  {
   "cell_type": "markdown",
   "id": "5f01c28c",
   "metadata": {},
   "source": [
    "# Gather\n",
    "\n",
    "### Code:\n",
    "The code below will import the Python programming libraries we need to gather and organize the data to answer our question."
   ]
  },
  {
   "cell_type": "code",
   "execution_count": null,
   "id": "d23fc217",
   "metadata": {},
   "outputs": [],
   "source": [
    "%pip install -r requirements.txt\n",
    "import pyodide_http\n",
    "pyodide_http.patch_all()\n",
    "from bs4 import BeautifulSoup\n",
    "import requests\n",
    "import re \n",
    "import markdown\n",
    "import textstat\n",
    "\n",
    "import pandas as pd\n",
    "import numpy as np\n",
    "\n",
    "import plotly.express as px\n",
    "from plotly.subplots import make_subplots\n",
    "import plotly.graph_objects as go"
   ]
  },
  {
   "cell_type": "markdown",
   "id": "ea746f59",
   "metadata": {},
   "source": [
    "### Data:\n",
    "\n",
    "We will use the Princeton-Leuven Longitudinal Privacy Policy Dataset which contains over 1 million policies that span more than 20 years. The dataset can be found on the following [repository](https://github.com/citp/privacy-policy-historical).\n",
    "\n",
    "### Import the data\n",
    "\n",
    "The code below reads the privacy policies from the following social media websites: TikTok, Twitter (X), Facebook, Instagram, YouTube, and Pinterest."
   ]
  },
  {
   "cell_type": "code",
   "execution_count": null,
   "id": "8fc5e670",
   "metadata": {},
   "outputs": [],
   "source": [
    "policies = ['https://github.com/citp/privacy-policy-historical/blob/master/t/ti/tik/tiktok.com.md',\n",
    "            'https://github.com/citp/privacy-policy-historical/blob/master/t/tw/twi/twitter.com.br.md',\n",
    "            'https://github.com/citp/privacy-policy-historical/blob/master/f/fa/fac/facebook.com.md',\n",
    "            'https://github.com/citp/privacy-policy-historical/blob/master/i/in/ins/instagram.com.md',\n",
    "            'https://github.com/citp/privacy-policy-historical/blob/master/y/yo/you/youtube.com.md',\n",
    "            'https://github.com/citp/privacy-policy-historical/blob/master/p/pi/pin/pinterest.com.md']\n",
    "\n",
    "def create_df(alist: list):\n",
    "    result_dict = {}\n",
    "    title_list = ['Tiktok', 'Twitter', 'Facebook', 'Instagram', 'Youtube','Pinterest']\n",
    "    for i, url in enumerate(policies): \n",
    "        response = requests.get(url)\n",
    "        content = response.text\n",
    "        start_index = content.find('<article')\n",
    "        end_index = content.find('</article>')\n",
    "        body_content = content[start_index:end_index]\n",
    "        html = markdown.markdown(body_content)\n",
    "        soup = BeautifulSoup(html, 'html.parser')\n",
    "        texts = soup.get_text()\n",
    "        result_dict[title_list[i]] = texts\n",
    "    df = pd.DataFrame(result_dict.items(), columns=[\"Social_Media\", \"Texts\"])\n",
    "    df[\"Texts\"] = df[\"Texts\"].apply(lambda x: x.replace('\\\\n', ''))\n",
    "    return df\n",
    "\n",
    "policy_df = create_df(policies)\n",
    "policy_df"
   ]
  },
  {
   "cell_type": "markdown",
   "id": "0740db9a",
   "metadata": {},
   "source": [
    "# Organize\n",
    "\n",
    "The code below will calculate the readability score, grade score, as well as the reading time of each of the privacy policies that we are investigating and add them to our dataframe.\n",
    "\n",
    "The **grade score** shows the number of years of education required to understand the text. For example, a score of 5 means that a fifth grader will generally understand the text. Calculating the grade score takes into consideration the total words in the text, the total sentences in the text, and the total syllables in the test. This means that the score could exceed the number of education years that are offered in educational systems. The equation for grade score is the following:\n",
    "\n",
    "$$ 0.39(\\frac{total\\:words}{total\\:sentences}) + 11.8(\\frac{total\\:syllables}{total\\:words}) - 15.59 $$\n",
    "\n",
    "\n",
    "The **readabilty score** shows another measure of grade level that uses a lookup table of the most commonly used 3000 English words to determine the grade level. You can refer to the following table to see the grade level that the score calculated refers to.\n",
    "\n",
    "| score     | understood by |\n",
    "| ----------- | ----------- |\n",
    "| 4.9 or lower     | average 4th-grade student or lower      |\n",
    "| 5.0–5.9  | average 5th or 6th-grade student       |\n",
    "| 6.0–6.9  | average 7th or 8th-grade student       |\n",
    "| 7.0–7.9  | average 9th or 10th-grade student      |\n",
    "| 8.0–8.9 | average 11th or 12th-grade student      |\n",
    "| 9.0–9.9 | average 13th to 15th-grade (college) student     |\n",
    "\n",
    "\n",
    "The **reading time** gives the time it will take to read the text. It assumes a reading pace of 14.69ms per character.\n",
    "\n",
    "For more information on the score values, you can refer to the [textstat library documentation](https://pypi.org/project/textstat/)"
   ]
  },
  {
   "cell_type": "code",
   "execution_count": null,
   "id": "2c2aa184",
   "metadata": {},
   "outputs": [],
   "source": [
    "readability_score = lambda x: textstat.dale_chall_readability_score(x)\n",
    "grade_score = lambda x: textstat.flesch_kincaid_grade(x)\n",
    "reading_time = lambda x: textstat.reading_time(x, ms_per_char=14.69)\n",
    "policy_df[\"Readability_score\"] = policy_df[\"Texts\"].apply(readability_score)\n",
    "policy_df[\"Grade_level\"] = policy_df[\"Texts\"].apply(grade_score)\n",
    "policy_df[\"Reading_time (s)\"] = policy_df[\"Texts\"].apply(reading_time)\n",
    "policy_df"
   ]
  },
  {
   "cell_type": "markdown",
   "id": "0b70c9b5",
   "metadata": {},
   "source": [
    "# Explore\n",
    "\n",
    "The code below will create a bar graph showing the different measures of readability for the *privacy policies* of each social media website."
   ]
  },
  {
   "cell_type": "code",
   "execution_count": null,
   "id": "d15d7146",
   "metadata": {},
   "outputs": [],
   "source": [
    "readability_trace = go.Bar(x=policy_df[\"Social_Media\"], y=policy_df[\"Readability_score\"], width=0.7,\n",
    "                           name=\"Readability Score\", marker=dict(color=\"#1EBC8C\"), visible=True)\n",
    "grade_trace = go.Bar(x=policy_df[\"Social_Media\"], y=policy_df[\"Grade_level\"], \n",
    "                     name=\"Grade Level\", width=0.7, marker=dict(color=\"#4D8AF1\"), visible=False)\n",
    "time_trace = go.Bar(x=policy_df[\"Social_Media\"], y=policy_df[\"Reading_time (s)\"], \n",
    "                    name=\"Reading Time\", width=0.7, marker=dict(color=\"#F14D78\"), visible=False)\n",
    "traces = [readability_trace, grade_trace, time_trace]\n",
    "\n",
    "fig = go.Figure(data=traces)\n",
    "\n",
    "fig.update_layout(\n",
    "    updatemenus=[\n",
    "        dict(buttons=list([\n",
    "            dict(label=\"Readability Score\",\n",
    "                 method=\"update\",\n",
    "                 args=[{\"visible\": [True, False, False]}, \n",
    "                       {\"title\":{\"text\":\"Dale Chall Readabilty Score\", \"x\":0.5, \"y\":0.9},\n",
    "                        \"yaxis\":{\"title\":\"Reading Score\"}}]),\n",
    "            dict(label=\"Grade Level\",\n",
    "                 method=\"update\",\n",
    "                 args=[{\"visible\": [False, True, False]}, \n",
    "                       {\"title\":{\"text\":\"Flesch Kincaid Reading Grade\", \"x\":0.5, \"y\":0.9},\n",
    "                        \"yaxis\":{\"title\":\"Grade Level\"}}]),\n",
    "            dict(label=\"Reading Time\",\n",
    "                 method=\"update\",\n",
    "                 args=[{\"visible\": [False, False, True]}, \n",
    "                       {\"title\":{\"text\":\"Reading Time (seconds)\", \"x\":0.5, \"y\":0.9},\n",
    "                        \"yaxis\":{\"title\":\"Reading Time (s)\"}}]),\n",
    "        ]),\n",
    "             direction=\"down\",\n",
    "             pad={\"r\": 10, \"t\": 10},\n",
    "             showactive=True,\n",
    "             x=0,\n",
    "             xanchor=\"left\",\n",
    "             y=1.15,\n",
    "             yanchor=\"top\"\n",
    "            )\n",
    "    ]  \n",
    ")\n",
    "\n",
    "fig.update_layout(\n",
    "    title={'text': \"Dale Chall Readabilty Score\",\n",
    "           'x':0.5,\n",
    "           'xanchor': 'center',\n",
    "           'yanchor': 'top'},\n",
    "    yaxis_title=\"Reading Score\",\n",
    "    xaxis_title=\"Social Networking Service Platform\",\n",
    "    height=500, width=700)\n",
    "\n",
    "fig.show()"
   ]
  },
  {
   "cell_type": "markdown",
   "id": "c779fe33",
   "metadata": {},
   "source": [
    "From the graph, we can see the readability scores for the privacy policies of these social media websites are quite high, with the lowest value going to Pinterest at 6.58 and the highest value going to TikTok at 7.82.\n",
    "\n",
    "We can see from the graph below that TikTok's privacy policy takes the least time to read but still ranks as one of the highest for grade level as well as readability score. Meanwhile, Twitter has the longest reading time yet its reading score and grade level is comparable to TikTok.\n",
    "\n",
    "We can look at the relationship between reading score, grade level, and reading time more in depth by investigating the correlations between these three variables in the code below."
   ]
  },
  {
   "cell_type": "code",
   "execution_count": null,
   "id": "0fd87882",
   "metadata": {},
   "outputs": [],
   "source": [
    "def create_correlation_graph(df):\n",
    "    variables = [\"Readability_score\", \"Grade_level\", \"Reading_time (s)\"]\n",
    "    colors=[\"cadetblue\", \"darksalmon\", \"limegreen\"]\n",
    "    \n",
    "    fig = make_subplots(rows=3, cols=3, horizontal_spacing = 0.1)\n",
    "    \n",
    "    def create_empty_dataframe():\n",
    "        return pd.DataFrame()\n",
    "\n",
    "    start_no = 0\n",
    "    global col_no\n",
    "    col_no = 1\n",
    "    row_no = 1\n",
    "    while row_no < 4:\n",
    "        col_no = 1\n",
    "        for variable in variables:\n",
    "            slope,y_int=np.polyfit(df[variables[start_no]], df[variable], 1)\n",
    "            df_slope = create_empty_dataframe()\n",
    "            df_slope[\"Best_fit\"] = slope * df[variables[start_no]] + y_int\n",
    "            \n",
    "            fig.add_trace(go.Scatter(x=df[variables[start_no]], y=df[variable], mode='markers',\n",
    "                                     marker={\"color\":colors[start_no]}, \n",
    "                                     hovertemplate=\"%{x}\" + \",\" + \" %{y}\" + \"<extra></extra>\"), \n",
    "                          row=row_no, col=col_no)\n",
    "            fig.add_trace(go.Scatter(x=df[variables[start_no]], y=df_slope[\"Best_fit\"], mode=\"lines\",\n",
    "                                    marker={\"color\":colors[start_no]}, name=\"Line of Best Fit\", hoverlabel = dict(namelength = 20)), \n",
    "                          row=row_no, col=col_no)\n",
    "            fig.update_xaxes(title_text=variables[start_no], row=row_no, col=col_no)\n",
    "            fig.update_yaxes(title_text=variable, row=row_no, col=col_no)\n",
    "            if col_no != 3:\n",
    "                col_no += 1\n",
    "        row_no += 1\n",
    "        start_no += 1\n",
    "    fig.update_layout(height=800, width=800, showlegend=False, title={\"text\":\"Correlation Comparison\", \"x\":0.5})\n",
    "    fig.show()\n",
    "\n",
    "create_correlation_graph(policy_df)"
   ]
  },
  {
   "cell_type": "markdown",
   "id": "a8121f7c",
   "metadata": {},
   "source": [
    "# Interpret\n",
    "Based on what we see from the graphs above, it seems that the most popular social media sites have quite a high reading score ranging from 6.58 to 7.82. This equates to needing a grade level between an 8th grader to a 10th grader to be able to understand the text. \n",
    "\n",
    "The grade level values are also quite high, ranging from 10.8 to 14.6. This means that a minimum of 10.8 years of education are needing to understand these privacy policies while some require as much as over 14 years of education to be understood. \n",
    "\n",
    "The correlation graphs above show a positive relationship between readability score and grade level meaning that when a text scores high in one of these measures, the other measure will also be scored high. That is a good sign that both scores are measuring the same concept. \n",
    "\n",
    "Another interesting thing the correlations show is that reading time doesn't seem to have a strong correlation with readability score or grade level. This means that the time it takes to read a privacy policy does not necessarily affect the readability score and that even short privacy policies can be written in a way that makes them hard to understand. "
   ]
  },
  {
   "cell_type": "markdown",
   "id": "5eda2f5f",
   "metadata": {},
   "source": [
    "# Taking a Further Look: Web Scraping\n",
    "\n",
    "Want to analyze readability of text you find online? You can use the following code to scrape a webpage you want to analyze. The example below is a web scraping of Google's privacy policy"
   ]
  },
  {
   "cell_type": "code",
   "execution_count": null,
   "id": "f73d8f21",
   "metadata": {},
   "outputs": [],
   "source": [
    "def webscrape_private_policy(url):\n",
    "    search_url = url\n",
    "    r = requests.get(search_url)\n",
    "    soup = BeautifulSoup(r.text)\n",
    "    mydivs = soup.find_all(\"div\", {\"class\": \"nrAB0c\"})\n",
    "    contents_list = []\n",
    "    for item in mydivs:\n",
    "        contents_list.append(item.find(\"p\"))\n",
    "        contents_list.append(item.find(\"ul\"))\n",
    "    cleaned_contents_list = []\n",
    "    for content in contents_list:\n",
    "        content = str(content)\n",
    "        if content != \"None\":\n",
    "            content = re.sub('<.*?>', '', content)\n",
    "            cleaned_contents_list.append(content)\n",
    "        if content == \"None\":\n",
    "            continue\n",
    "    cleaned_text = ''.join([content for content in cleaned_contents_list])\n",
    "    return cleaned_text\n",
    "\n",
    "url = \"https://policies.google.com/privacy?hl=en-US\"\n",
    "scraped_texts = webscrape_private_policy(url)\n",
    "scraped_texts"
   ]
  },
  {
   "cell_type": "markdown",
   "id": "281be7f3",
   "metadata": {},
   "source": [
    "Now let's look at the readability measures of the webpage content that you scraped"
   ]
  },
  {
   "cell_type": "code",
   "execution_count": null,
   "id": "0cd82652",
   "metadata": {},
   "outputs": [],
   "source": [
    "d = {'measure': ['readability score', 'grade level', 'reading time'], \n",
    "     'value': [textstat.dale_chall_readability_score(scraped_texts), textstat.flesch_kincaid_grade(scraped_texts), textstat.reading_time(scraped_texts, ms_per_char=14.69)]}\n",
    "df_scraped = pd.DataFrame(data=d)\n",
    "df_scraped"
   ]
  },
  {
   "cell_type": "markdown",
   "id": "a99481a5",
   "metadata": {},
   "source": [
    "# Communicate\n",
    "Below are some writing prompts to help you reflect on the new information that is presented from the data. When we look at the evidence, think about what you perceive about the information. Is this perception based on what the evidence shows? If others were to view it, what perceptions might they have?\n",
    "\n",
    "I used to think ____________________ but now I know____________________.  \n",
    "I wish I knew more about ____________________.  \n",
    "This visualization reminds me of ____________________.  \n",
    "I really like ____________________.  "
   ]
  },
  {
   "cell_type": "markdown",
   "id": "9be90190",
   "metadata": {},
   "source": [
    "[![Callysto.ca License](https://github.com/callysto/curriculum-notebooks/blob/master/callysto-notebook-banner-bottom.jpg?raw=true)](https://github.com/callysto/curriculum-notebooks/blob/master/LICENSE.md)"
   ]
  }
 ],
 "metadata": {
  "kernelspec": {
   "display_name": "Python 3 (ipykernel)",
   "language": "python",
   "name": "python3"
  },
  "language_info": {
   "codemirror_mode": {
    "name": "ipython",
    "version": 3
   },
   "file_extension": ".py",
   "mimetype": "text/x-python",
   "name": "python",
   "nbconvert_exporter": "python",
   "pygments_lexer": "ipython3",
   "version": "3.10.8"
  },
  "vscode": {
   "interpreter": {
    "hash": "31f2aee4e71d21fbe5cf8b01ff0e069b9275f58929596ceb00d14d90e3e16cd6"
   }
  }
 },
 "nbformat": 4,
 "nbformat_minor": 5
}
