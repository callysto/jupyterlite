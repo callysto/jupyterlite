{
 "cells": [
  {
   "attachments": {},
   "cell_type": "markdown",
   "metadata": {},
   "source": [
    "![Callysto.ca Banner](https://github.com/callysto/curriculum-notebooks/blob/master/callysto-notebook-banner-top.jpg?raw=true)\n",
    "\n",
    "<a href=\"https://hub.callysto.ca/jupyter/hub/user-redirect/git-pull?repo=https%3A%2F%2Fgithub.com%2Fcallysto%2Fdata-viz-of-the-week&branch=main&subPath=solar-energy/solar-energy.ipynb&depth=1\" target=\"_parent\"><img src=\"https://raw.githubusercontent.com/callysto/curriculum-notebooks/master/open-in-callysto-button.svg?sanitize=true\" width=\"123\" height=\"24\" alt=\"Open in Callysto\"/></a>"
   ]
  },
  {
   "cell_type": "markdown",
   "metadata": {},
   "source": [
    "# Callysto’s Weekly Data Visualization\n",
    "\n",
    "## Solar Energy\n",
    "\n",
    "### Recommended Grade levels: 5-7\n",
    "<br>"
   ]
  },
  {
   "cell_type": "markdown",
   "metadata": {},
   "source": [
    "### Instructions\n",
    "\n",
    "Click \"Cell\" and select \"Run All\".\n",
    "\n",
    "This will import the data and run all the code, so you can see this week's data visualization. Scroll back to the top after you’ve run the cells.\n",
    "\n",
    "![instructions](https://github.com/callysto/data-viz-of-the-week/blob/main/images/instructions.png?raw=true)\n",
    "\n",
    "**You don't need to do any coding to view the visualizations**.\n",
    "\n",
    "The plots generated in this notebook are interactive. You can hover over and click on elements to see more information. \n",
    "\n",
    "Email contact@callysto.ca if you experience issues."
   ]
  },
  {
   "cell_type": "markdown",
   "metadata": {},
   "source": [
    "### About this Notebook\n",
    "\n",
    "Callysto's Weekly Data Visualization is a learning resource that aims to develop data literacy skills. We provide Grades 5-12 teachers and students with a data visualization, like a graph, to interpret. This companion resource walks learners through how the data visualization is created and interpreted by a data scientist. \n",
    "\n",
    "The steps of the data analysis process are listed below and applied to each weekly topic.\n",
    "\n",
    "1. Question - What are we trying to answer?\n",
    "2. Gather - Find the data source(s) you will need. \n",
    "3. Organize - Arrange the data, so that you can easily explore it. \n",
    "4. Explore - Examine the data to look for evidence to answer the question. This includes creating visualizations. \n",
    "5. Interpret - Describe what's happening in the data visualization. \n",
    "6. Communicate - Explain how the evidence answers the question. "
   ]
  },
  {
   "cell_type": "markdown",
   "metadata": {},
   "source": [
    "# Question"
   ]
  },
  {
   "cell_type": "markdown",
   "metadata": {},
   "source": [
    "Is solar energy, a renewable energy source, a viable energy source today? What benefits does it offer compared to other common sources of energy used today? \n",
    "\n",
    "Solar energy in simple terms is the energy we get from the sun's light and heat. The capturing of energy is made possible using specialized tools, such as solar panels. One of the standout benefits of solar energy is that its considered a renewable energy source. As long as the sun continues to shine, we can keep producing energy, ensuring a constant and sustainable power supply. \n",
    "\n",
    "Solar energy is also exceptionally eco-friendly. Unlike traditional energy generation, solar technologies operate without emitting any harmful pollutants into the air. This contrasts with many other energy sources, such as fossil fuels, which are finite and can release pollutants into the environment. This means that using solar energy helps keep our air clean and reduces our carbon footprint, contributing to a healthier planet.\n",
    "\n",
    "Due to these significant advantages, many cities, including Calgary, are increasingly embracing solar energy as a key component of their energy mix. Now, let's delve into Calgary's specific solar energy initiatives to understand just how beneficial this renewable source is compared to traditional energy sources."
   ]
  },
  {
   "cell_type": "markdown",
   "metadata": {},
   "source": [
    "### Goal"
   ]
  },
  {
   "cell_type": "markdown",
   "metadata": {},
   "source": [
    "Our goal is to look at the production of energy by different solar energy stations around Calgary and discover trends, such as identifying certain months that output more energy than others. Based on this information, we can make informed decisions about optimizing energy production and distribution, enabling more efficient utilization of solar resources to meet the energy demands of Calgary's residents.\n",
    "\n",
    "The dataset used in this notebook is taken from [Calgary's Open Data Portal](https://data.calgary.ca/Environment/Solar-Energy-Production/ytdn-2qsp), specifically their *solar energy production* section."
   ]
  },
  {
   "cell_type": "markdown",
   "metadata": {},
   "source": [
    "# Gather"
   ]
  },
  {
   "cell_type": "markdown",
   "metadata": {},
   "source": [
    "### Code:"
   ]
  },
  {
   "cell_type": "markdown",
   "metadata": {},
   "source": [
    "Run the code cells below to import the libraries we need for this project. Libraries are pre-made code that make it easier to analyze our data."
   ]
  },
  {
   "cell_type": "code",
   "execution_count": null,
   "metadata": {},
   "outputs": [],
   "source": [
    "%pip install -r requirements.txt\n",
    "import pyodide_http\n",
    "pyodide_http.patch_all()\n",
    "import pandas as pd\n",
    "import plotly.express as px\n",
    "from plotly.subplots import make_subplots\n",
    "import plotly.graph_objects as go\n",
    "import folium\n",
    "print(\"Libaries imported\")"
   ]
  },
  {
   "cell_type": "markdown",
   "metadata": {},
   "source": [
    "### Data"
   ]
  },
  {
   "cell_type": "markdown",
   "metadata": {},
   "source": [
    "This notebook utilizes solar energy production data provided by the city of *Calgary*. Specifically, it contains the hourly output at each of Calgary's solar photovoltaic projects. For additional information regarding each site, see [this link]([calgary.ca/solar](https://data.calgary.ca/dataset/City-of-Calgary-Solar-Photovoltaic-Sites/vrdj-ycb5))."
   ]
  },
  {
   "cell_type": "markdown",
   "metadata": {},
   "source": [
    "### Import the data"
   ]
  },
  {
   "cell_type": "code",
   "execution_count": null,
   "metadata": {},
   "outputs": [],
   "source": [
    "solar_data = pd.read_csv(\"https://raw.githubusercontent.com/callysto/data-files/main/data-viz-of-the-week/solar-energy/solar_energy.csv\")\n",
    "solar_data"
   ]
  },
  {
   "cell_type": "markdown",
   "metadata": {},
   "source": [
    "### Comment on the Data"
   ]
  },
  {
   "cell_type": "markdown",
   "metadata": {},
   "source": [
    "Looking at our dataset, it appears in a *spreadsheet-like* format. That is, there are rows and columns that define the type of information that is contained in each cell. In Python (the coding language we are using), instead of referring to this structure as a spreadsheet, we call it a *dataframe*. \n",
    "\n",
    "To make understanding the columns in our dataframe easier, we'll be organizing the data in our next section."
   ]
  },
  {
   "cell_type": "markdown",
   "metadata": {},
   "source": [
    "# Organize"
   ]
  },
  {
   "cell_type": "markdown",
   "metadata": {},
   "source": [
    "Earlier we talked about organizing our data. In coding terms, this is known as data-cleaning. Data cleaning is a crucial process in preparing and making sense of the data presented which involves identifying and correcting errors, inconsistencies, and inaccuracies in a dataset to ensure that the data is reliable for analysis. \n",
    "\n",
    "\n",
    "Beginning our data-cleaning process, let's remove information which is irrelevant to our analysis. We notice that certain columns contain irrelevant information or are undermined by repetitious information. These columns are `public_url`, `uid`, and `id`. Let's remove these columns."
   ]
  },
  {
   "cell_type": "code",
   "execution_count": null,
   "metadata": {},
   "outputs": [],
   "source": [
    "solar_data.drop(columns=['public_url', 'uid', 'id'], inplace=True)\n",
    "solar_data"
   ]
  },
  {
   "cell_type": "markdown",
   "metadata": {},
   "source": [
    "Perfect! We now have a dataframe which is more concise and easier to visualize. Next, let's identify if there are any *null* values in our dataframe. Null values are essentially placeholders that represent missing or undefined data. It's similar to having a blank space in a spreadsheet where you expected to find information. By recognizing where null values exists, we can decide how to handle them, whether it's by filling in missing information or removing incomplete entries. "
   ]
  },
  {
   "cell_type": "code",
   "execution_count": null,
   "metadata": {},
   "outputs": [],
   "source": [
    "null_count = solar_data.isnull().sum()\n",
    "print(null_count)"
   ]
  },
  {
   "cell_type": "markdown",
   "metadata": {},
   "source": [
    "Luckily, it appears that our dataframe doesn't contain any null values. We can finish our data-cleaning here, and move onto interacting with the data within our dataframe. "
   ]
  },
  {
   "cell_type": "markdown",
   "metadata": {},
   "source": [
    "# Explore"
   ]
  },
  {
   "cell_type": "markdown",
   "metadata": {},
   "source": [
    "Examining the columns in our dataframe, we can observe that both the name and address columns serve to identify the individual solar energy stations across Calgary and their respective locations. To gain insight into the number of unique energy stations and their varied locations, let's proceed with analysis."
   ]
  },
  {
   "cell_type": "code",
   "execution_count": null,
   "metadata": {},
   "outputs": [],
   "source": [
    "# Find names and addresses\n",
    "names = solar_data['name'].unique()\n",
    "addresses = solar_data['address'].unique()\n",
    "installationDate = solar_data['installationDate'].unique()\n",
    "\n",
    "# Print names and addresses\n",
    "for i in range(len(names)):\n",
    "    print(names[i], '(' + addresses[i] + ')' + ' - ' +  'Installed on: ' + installationDate[i])"
   ]
  },
  {
   "cell_type": "markdown",
   "metadata": {},
   "source": [
    "Looking at the output, we see that there is a good variety of different solar stations in our dataframe. Specifically, we have 3 stations located in the NW, 3 stations located in the NE, 3 stations located in the SW, and 2 stations located in the SE. This variety in location is advantageous for several reasons.\n",
    "\n",
    "Firstly, it promotes a more diversified and resilient energy infrastructure across Calgary. By having solar stations spread across different regions of the city, we reduce the risk of localized energy shortages or disruptions.\n",
    "\n",
    "Secondly, it contributes to a more equitable distribution of clean energy resources, ensuring that residents from various areas have access to sustainable power sources.\n",
    "\n",
    "Lastly, this geographical diversity allows us to study the impact of different environmental factors, such as sunlight exposure and weather patterns, on energy production, helping us optimize the efficiency of these stations and make informed decisions about future solar energy projects in Calgary."
   ]
  },
  {
   "cell_type": "markdown",
   "metadata": {},
   "source": [
    "Now that we know the number of different solar stations that are located in our dataframe, let's find how many different data-entries we have of each solar station. "
   ]
  },
  {
   "cell_type": "code",
   "execution_count": null,
   "metadata": {},
   "outputs": [],
   "source": [
    "counts_of_names = solar_data.name.value_counts()\n",
    "counts_of_names"
   ]
  },
  {
   "cell_type": "markdown",
   "metadata": {},
   "source": [
    "It appears that *Southland Leisure Centre* has the highest number of data entries, with 34,168 records, with *Whitehorn Multi-Service Centre* following closely with 30,312 records. *Telus Spark* has the fewest entries, with just 317 records. Surprisingly, this doesn't seem to be tied with the installation date of the solar station, as it was built back in 2017 at a similar time to other solar stations like *Manchester Building M*."
   ]
  },
  {
   "cell_type": "markdown",
   "metadata": {},
   "source": [
    "Moving on to data preparation for our data visualizations, we've noticed that the `kWh` column is updated every hour according to the `date` column. To make assessing energy production more practical, we'll aggregate the data to obtain the total kWh production per day for each solar station. This daily summary will provide a more comprehensive view of energy generation trends, making it easier to identify patterns and variations later in the notebook."
   ]
  },
  {
   "cell_type": "code",
   "execution_count": null,
   "metadata": {},
   "outputs": [],
   "source": [
    "solar_data['date'] = pd.to_datetime(solar_data['date'])\n",
    "solar_data['day'] = solar_data['date'].dt.date\n",
    "\n",
    "agg_funcs = {\n",
    "    'kWh': 'sum',\n",
    "    'installationDate': 'first'\n",
    "}\n",
    "\n",
    "summed_data = solar_data.groupby(['name', 'day']).agg(agg_funcs).reset_index()\n",
    "summed_data.rename(columns={'day': 'date'}, inplace=True)\n",
    "summed_data"
   ]
  },
  {
   "cell_type": "markdown",
   "metadata": {},
   "source": [
    "Now that we've aggregated our data to a suitable format for visualization, let's compare different energy stations and visualize any similarities or notable differences in their kWh production per day. We can compare different stations by using *variables* in the code cell below. Think of a variable as a container that holds information. The variables's (**station1** and **station2**) information can be changed to any solar station in the dataframe. The list of stations can be found in our code cells above."
   ]
  },
  {
   "cell_type": "code",
   "execution_count": null,
   "metadata": {},
   "outputs": [],
   "source": [
    "# The information in station1 and station2 can be changed by altering the information to the right of the variable\n",
    "# For example, you can input CFD Firehall #7 instead of Southland Leisure Centre\n",
    "\n",
    "station1 = 'Southland Leisure Centre'\n",
    "station2 = 'Whitehorn Multi-Service Centre'\n",
    "\n",
    "# List of allowed station names\n",
    "allowed_stations = [\n",
    "    'Southland Leisure Centre',\n",
    "    'Whitehorn Multi-Service Centre',\n",
    "    'City of Calgary North Corporate Warehouse',\n",
    "    'Richmond - Knob Hill Community Hall',\n",
    "    'Glenmore Water Treatment Plant',\n",
    "    'Calgary Fire Hall Headquarters',\n",
    "    'Bearspaw Water Treatment Plant',\n",
    "    'CFD Firehall #7',\n",
    "    'Manchester Building M',\n",
    "    'Hillhurst Sunnyside Community Association',\n",
    "    'Telus Spark'\n",
    "]\n",
    "\n",
    "if station1 in allowed_stations and station2 in allowed_stations:\n",
    "    station_fig1 = make_subplots(rows=1, cols=2, subplot_titles=(f'kWH produced {station1} per Day', f'kWh produced by {station2} per Day'))\n",
    "    station_fig1.add_trace(\n",
    "        go.Scatter(\n",
    "            x=summed_data[summed_data['name'] == station1]['date'],\n",
    "            y=summed_data[summed_data['name'] == station1]['kWh'],\n",
    "            name=f'kWh/day produced by {station1}'\n",
    "        ),\n",
    "        row=1, col=1\n",
    "    )\n",
    "\n",
    "    station_fig1.add_trace(\n",
    "        go.Scatter(\n",
    "            x=summed_data[summed_data['name'] == station2]['date'],\n",
    "            y=summed_data[summed_data['name'] == station2]['kWh'],\n",
    "            name=f'kWh/day produced by {station2}'\n",
    "        ),\n",
    "        row=1, col=2   \n",
    "    )\n",
    "\n",
    "    station_fig1.update_xaxes(title_text='Date')\n",
    "    station_fig1.update_yaxes(title_text='kWh/day')\n",
    "    station_fig1.update_layout(showlegend=False)\n",
    "    station_fig1.show()\n",
    "else:\n",
    "    print(\"Invalid station names. Please use station names from the allowed list.\")\n",
    "    print(counts_of_names.index)"
   ]
  },
  {
   "cell_type": "markdown",
   "metadata": {},
   "source": [
    "Looking at the visualization, an immediate seasonal pattern emerges. Months such as `May`, `June`, `July`, and `August` all highlight the peak of kWh production regardless of which station is visualized. This can be attributed to a combination of factors. During these summer months, the Earth's tilt positions the sun more directly overhead, allowing solar panels to receive a higher intensity of sunlight. This is further enhanced by longer daylight hours, typical of the summer season, providing more time for panels to capture energy. Clearer skies and reduced cloud cover in summer also contribute to consistent and intense sunlight. \n",
    "\n",
    "On the flip-side, months such as `November`, `December`, `January`, and `February` exhibit very low kWh production. This dip in production during the winter months is primarily attributable to a range of factors that operate in contrast to those favoring high production in the summer. \n",
    "\n",
    "Firstly, during the winter season, the Earth's tilt places the sun at a lower angle in the sky, resulting in less direct sunlight reaching solar panels. The reduced angle spreads the same amount of solar energy over a larger surface area, which leads to diminished energy capture efficiency. Additionally, winter months are characterized by shorter daylight hours, which limit the window of opportunity for solar panels to generate electricity.\n",
    "\n",
    "Secondly, winter weather conditions often introduce challenges for solar energy generation. In Calgary, snowfall is extremely prevalent and coupled with increased cloud cover, the amount of sunlight reaching solar panels is immensely reduced. "
   ]
  },
  {
   "cell_type": "markdown",
   "metadata": {},
   "source": [
    "Now that we've identified the seasonal factors that affect solar energy, let's find the total kWh production across all our solar panels to:\n",
    "\n",
    "1. identify any trends based on years \n",
    "2. see if the total output of energy is significant"
   ]
  },
  {
   "cell_type": "code",
   "execution_count": null,
   "metadata": {},
   "outputs": [],
   "source": [
    "solar_data['date'] = pd.to_datetime(solar_data['date'])\n",
    "solar_data['year'] = solar_data['date'].dt.year\n",
    "\n",
    "# Find total kWh produced for each year\n",
    "sum_kWh_per_year = solar_data.groupby('year')['kWh'].sum().reset_index()\n",
    "\n",
    "year_fig = px.line(sum_kWh_per_year, x='year', y='kWh', title='Sum kWh Production per Year',\n",
    "                   labels={'year': 'Year', 'kWh': 'Sum kWh Production'})\n",
    "\n",
    "year_fig.update_traces(line=dict(color='red', width=3)).show() "
   ]
  },
  {
   "cell_type": "markdown",
   "metadata": {},
   "source": [
    "Looking at the figure, it appears that sum kWh production across different years seems to have plateaued across 2018-2020. We can also assume the dip in 2023 is due to the solar dataframe only containing information up to September 2023. \n",
    "\n",
    "Looking at the total kWh production, the years 2018, 2019, and 2020 has produced 1.7-1.76 million kWh of energy annually. This is a staggering number considering that the average household in Alberta uses [7,200 kWh of energy](https://energyrates.ca/residential-electricity-natural-gas/) per year. An estimate of 235-245 homes can be completely fueled on a yearly basis on energy that is constant and renewable, which is pretty crazy to think about!"
   ]
  },
  {
   "cell_type": "markdown",
   "metadata": {},
   "source": [
    "We can create a similar visualization but include months alongside years to get a more detailed perspective on the cyclical solar energy pattern in Calgary. "
   ]
  },
  {
   "cell_type": "code",
   "execution_count": null,
   "metadata": {},
   "outputs": [],
   "source": [
    "solar_data['date'] = pd.to_datetime(solar_data['date'])\n",
    "\n",
    "solar_data['year'] = solar_data['date'].dt.year\n",
    "solar_data['month'] = solar_data['date'].dt.month\n",
    "\n",
    "# Find total kWh produced for each year and month\n",
    "sum_kWh_per_month = solar_data.groupby(['year', 'month'])['kWh'].sum().reset_index()\n",
    "sum_kWh_per_month['year_month'] = sum_kWh_per_month.apply(lambda x: f\"{int(x['year'])}-{int(x['month']):02d}\", axis=1)\n",
    "\n",
    "month_fig = px.line(sum_kWh_per_month, x='year_month', y='kWh', title='Total kWh Production per Month',\n",
    "                    labels={'year_month': 'Year-Month', 'kWh': 'Sum of kWh Production'})\n",
    "\n",
    "month_fig.update_traces(line=dict(color='green', width=3)).show()"
   ]
  },
  {
   "cell_type": "markdown",
   "metadata": {},
   "source": [
    "A similar seasonal pattern emerges for each year in our visualization. In particular, July 2018 had the highest total kWh production at a staggering 283,675 kWh produced in a single month. This high is similarly matched in other years such as July 2019 (254,242 kWh), August 2020 (272,659 kWh), and June 2021 (231,633 kWh)."
   ]
  },
  {
   "cell_type": "markdown",
   "metadata": {},
   "source": [
    "We can also utilize another column in our dataframe, `installationDate`, to see if there is a correlation between energy production and the date that particular station has built. Specifically, we want to see if older solar panels produce less or more energy compared to younger solar panels. "
   ]
  },
  {
   "cell_type": "code",
   "execution_count": null,
   "metadata": {},
   "outputs": [],
   "source": [
    "summed_data['installationDate'] = pd.to_datetime(summed_data['installationDate'])\n",
    "\n",
    "mean_avg_kWh = summed_data.groupby(['name', 'installationDate'])['kWh'].agg(['mean']).reset_index()\n",
    "\n",
    "installation_fig = px.scatter(mean_avg_kWh, x='installationDate', y='mean', title='Installation Date vs Average kWh/day',\n",
    "             text='mean', hover_data=['installationDate'], color='name', labels={'mean': 'Avg kWh/day'})\n",
    "\n",
    "installation_fig.update_traces(texttemplate='%{text:.2f}')\n",
    "installation_fig.update_layout(xaxis_title='Solar Panel Station',yaxis_title='Average kWh/day').show()"
   ]
  },
  {
   "cell_type": "markdown",
   "metadata": {},
   "source": [
    "Looking at the visualization output, there doesn't appear to be any significant correlation of older machines producing less or more energy compared to younger machines. This is evidenced by various energy stations (ex. Bearspaw Water Treatment Plant vs Manchester Building M) having similar installation dates but having drastically different energy outputs (1572.78 kWh/day vs 100.54 kwh/day). "
   ]
  },
  {
   "cell_type": "markdown",
   "metadata": {},
   "source": [
    "In the final visualization in our notebook, we can represent each station's output in a different format, such as a map. This involves converting the addresses of our solar stations into latitude and longitude coordinates and then displaying them on a *Folium* map."
   ]
  },
  {
   "cell_type": "code",
   "execution_count": null,
   "metadata": {},
   "outputs": [],
   "source": [
    "lat_long = [(51.016540, -114.036710),\n",
    "            (51.085020, -113.982750),\n",
    "            (50.961580, -114.107720),\n",
    "            (51.057310, -114.092520),\n",
    "            (51.002600, -114.099730),\n",
    "            (51.072990, -114.005940),\n",
    "            (51.029960, -114.116740),\n",
    "            (51.076270, -114.071260),\n",
    "            (51.028870, -114.046510),\n",
    "            (51.054010, -114.024590),\n",
    "            (51.104070, -114.253010)\n",
    "]\n",
    "\n",
    "combined_df = pd.DataFrame({'name': names, 'address': addresses, 'lat_long': lat_long})\n",
    "average_kWh_per_name = summed_data.groupby('name')['kWh'].mean().reset_index()\n",
    "\n",
    "combined_df = combined_df.merge(average_kWh_per_name, on='name', how='left')\n",
    "combined_df = combined_df.rename(columns={'kWh': 'average_kWh'})\n",
    "combined_df"
   ]
  },
  {
   "cell_type": "markdown",
   "metadata": {},
   "source": [
    "Utilizing a map perspective offers valuable insights by visually presenting the geographical distribution of solar stations across Calgary, allowing us to easily observe their locations and energy production in a spatial context."
   ]
  },
  {
   "cell_type": "code",
   "execution_count": null,
   "metadata": {},
   "outputs": [],
   "source": [
    "all_locations_map = folium.Map(location=[51.05, -114.0719])\n",
    "\n",
    "for index, row in combined_df.iterrows():\n",
    "    lat, lon = row['lat_long']\n",
    "    address = row['address']\n",
    "    avg_kWh = row['average_kWh']\n",
    "    \n",
    "    folium.CircleMarker(\n",
    "        location=[lat, lon],\n",
    "        radius=avg_kWh/100 + 1,  # Size based on average kWh\n",
    "        color='blue', \n",
    "        fill=True,\n",
    "        fill_color='blue',\n",
    "        fill_opacity=0.7,\n",
    "        popup=f\"Name: {row['name']}<br>Address: {address}<br>Average kWh/day: {avg_kWh}\"  \n",
    "    ).add_to(all_locations_map)\n",
    "\n",
    "all_locations_map"
   ]
  },
  {
   "cell_type": "markdown",
   "metadata": {},
   "source": [
    "# Interpret"
   ]
  },
  {
   "cell_type": "markdown",
   "metadata": {},
   "source": [
    "In this notebook, we embarked on a comprehensive exploration of solar energy production in Calgary. Our primary goal was to gain insights into energy trends among various solar stations, and we've achieved this through a series of data preparation and visualization steps.\n",
    "\n",
    "**Data Cleaning and Aggregation**: We began by organizing and cleaning our data, ensuring it was accurate, complete, and ready for analysis. We then aggregated the data to provide a daily summary of kWh production for each solar station, making it more practical for assessing energy production trends.\n",
    "\n",
    "**Visualization for Comparison**: To compare different energy stations effectively, we employed visualizations. We utilized variables to select specific solar station names for comparison. These visualizations allowed us to discern seasonal patterns, similarities, and differences in daily kWh production, providing valuable insights into energy station performance.\n",
    "\n",
    "**Geospatial Visualization**: In the final step, we used latitude and longitude coordinates derived from station addresses to create a Folium map. This map provided a geographical perspective, showcasing the locations of solar stations across Calgary. It allowed us to visualize the distribution of these stations and their energy output in a spatial context."
   ]
  },
  {
   "cell_type": "markdown",
   "metadata": {},
   "source": [
    "## Reflect on what you see\n",
    "\n",
    "After making your visualization the next step is to use the data and your visualization to answer the question. Look at and interact with the visualization above. When you hover your mouse over the plots, you’ll notice more information appears. You can also use the legend to make plots appear and disappear.\n",
    "\n",
    "#### Think about the following questions.\n",
    "\n",
    "* What do you notice about these graphs?\n",
    "* What do you wonder about the data?\n",
    "* What kind of inferences can you make based on this data?\n",
    "* Is there another way to visualize this data that would change your inerpretation of the information? \n",
    "\n",
    "\n",
    "#### Use the fill-in-the-blank prompts to summarize your thoughts.\n",
    "* \"I used to think _______\"\n",
    "* \"Now I think _______\"\n",
    "* \"I wish I knew more about _______\"\n",
    "* \"These data visualizations remind me of _______\"\n",
    "* \"I really like _______\""
   ]
  },
  {
   "cell_type": "markdown",
   "metadata": {},
   "source": [
    "# Communicate"
   ]
  },
  {
   "cell_type": "markdown",
   "metadata": {},
   "source": [
    "If you have not yet done this, use the plot to answer our question on which timezones have the largest differences between sunrise and sunset times. Vice-versa, which areas have the smallest differences?\n",
    "\n",
    "How can you communicate that information? What kind of product could you create to share that information with your school community and wider community?\n",
    "\n",
    "Consider tagging Callysto on [Twitter](https://twitter.com/callysto_canada), [YouTube](https://www.youtube.com/Callysto), [TikTok](https://www.tiktok.com/@callysto_canada), [Facebook](https://www.facebook.com/callystocanada/), or [Linkedin](https://www.linkedin.com/company/callysto-canada/) if you decide to share your reflections or projects on social media."
   ]
  },
  {
   "cell_type": "markdown",
   "metadata": {},
   "source": [
    "[![Callysto.ca License](https://github.com/callysto/curriculum-notebooks/blob/master/callysto-notebook-banner-bottom.jpg?raw=true)](https://github.com/callysto/curriculum-notebooks/blob/master/LICENSE.md)"
   ]
  }
 ],
 "metadata": {
  "kernelspec": {
   "display_name": "Python 3",
   "language": "python",
   "name": "python3"
  },
  "language_info": {
   "codemirror_mode": {
    "name": "ipython",
    "version": 3
   },
   "file_extension": ".py",
   "mimetype": "text/x-python",
   "name": "python",
   "nbconvert_exporter": "python",
   "pygments_lexer": "ipython3",
   "version": "3.10.1"
  },
  "orig_nbformat": 4
 },
 "nbformat": 4,
 "nbformat_minor": 2
}
