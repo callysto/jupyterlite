{
 "cells": [
  {
   "attachments": {},
   "cell_type": "markdown",
   "metadata": {},
   "source": [
    "![Callysto.ca Banner](https://github.com/callysto/curriculum-notebooks/blob/master/callysto-notebook-banner-top.jpg?raw=true)\n",
    "\n",
    "<a href=\"https://hub.callysto.ca/jupyter/hub/user-redirect/git-pull?repo=https%3A%2F%2Fgithub.com%2Fcallysto%2Fdata-viz-of-the-week&branch=main&subPath=world-carbon-emissions/world-carbon-emissions.ipynb&depth=1\" target=\"_parent\"><img src=\"https://raw.githubusercontent.com/callysto/curriculum-notebooks/master/open-in-callysto-button.svg?sanitize=true\" width=\"123\" height=\"24\" alt=\"Open in Callysto\"/></a>"
   ]
  },
  {
   "cell_type": "markdown",
   "metadata": {},
   "source": [
    "# Callysto’s Weekly Data Visualization\n",
    "## Climate Change Evidence - CO2 Emissions\n",
    "### Recommended grade levels: 7-12¶"
   ]
  },
  {
   "cell_type": "markdown",
   "metadata": {},
   "source": [
    "### Instructions\n",
    "#### “Run” the cells to see the graphs\n",
    "Click “Cell” and select “Run All”. <br>This will import the data and run all the code, so you can see this week's data visualizations (scroll to the top after you’ve run the cells). <br>**You don’t need to do any coding**.\n",
    "\n",
    "![instructions](https://github.com/callysto/data-viz-of-the-week/blob/pie-chart-religion/images/instructions.png?raw=true)"
   ]
  },
  {
   "cell_type": "markdown",
   "metadata": {},
   "source": [
    "### About The Notebook\n",
    "\n",
    "Callysto's Weekly Data Visualization is a learning resource that aims to develop data literacy skills. We provide grades 5-12 teachers and students with a data visualization, like a graph, to interpret. This companion resource walks learners through how the data visualization is created and interpreted by a data scientist. \n",
    "\n",
    "The steps of the data analysis process are listed below and applied to each weekly topic.\n",
    "\n",
    "1. Question - What are we trying to answer? \n",
    "2. Gather - Find the data source(s) you will need. \n",
    "3. Organize - Arrange the data so that you can easily explore it. \n",
    "4. Explore - Examine the data to look for evidence to answer our question. This includes creating visualizations. \n",
    "5. Interpret - Explain how the evidence answers our question. \n",
    "6. Communicate - Reflect on the interpretation. "
   ]
  },
  {
   "cell_type": "markdown",
   "metadata": {},
   "source": [
    "## 1. Question\n",
    "C02 is a [greenhouse gas](https://en.wikipedia.org/wiki/Greenhouse_gas#:~:text=The%20primary%20greenhouse%20gases%20in,and%20ozone%20(O3).). It is found throughout the atmosphere and has dramatically increased in atmospheric concentration since industrialization. Have you ever wondered how Canada's CO2 emissions compare to other countries?\n",
    "\n",
    "### Goal\n",
    "We want to see how Canada's per capita CO2 emissions compare with those of our partner [G7](https://en.wikipedia.org/wiki/Group_of_Seven) nations. To do this we will create a figure with a line of per capita CO2 emissions using [World Bank](https://data.worldbank.org/) data. We will also create other plots that may be of interest."
   ]
  },
  {
   "cell_type": "markdown",
   "metadata": {},
   "source": [
    "## 2. Gather\n",
    "The code below will import the Python programming libraries we need to gather and organize the data to answer our question."
   ]
  },
  {
   "cell_type": "code",
   "execution_count": null,
   "metadata": {},
   "outputs": [],
   "source": [
    "%pip install -q pyodide_http plotly nbformat\n",
    "import pyodide_http\n",
    "pyodide_http.patch_all()\n",
    "import wbdata # API to grab world bank data\n",
    "import pandas as pd # library to work with data\n",
    "import plotly.express as px #library to plot the data"
   ]
  },
  {
   "cell_type": "markdown",
   "metadata": {},
   "source": [
    "The code below will grab our data from \"data.worldbank\"."
   ]
  },
  {
   "cell_type": "code",
   "execution_count": null,
   "metadata": {},
   "outputs": [],
   "source": [
    "#indicators maps WB codes to meaningful names\n",
    "indicators = {'EN.ATM.CO2E.KT': 'Total CO2 Emissions(kt)',\n",
    "              'EN.ATM.CO2E.KD.GD': 'kg CO2 Per 10 Dollars USD GDP', 'EN.ATM.CO2E.PC': \"CO2 Tons Per Capita\"}\n",
    "\n",
    "#country codes for the 7 G7 nations\n",
    "g7 = ['CAN', 'GBR', 'USA', 'FRA', 'ITA', 'DEU', 'JPN']\n",
    "\n",
    "#create our dataframe using wbdata\n",
    "df = wbdata.get_dataframe(indicators, country=g7, convert_date=True)\n",
    "\n",
    "#Show the data\n",
    "df"
   ]
  },
  {
   "cell_type": "markdown",
   "metadata": {},
   "source": [
    "## 3. Organize\n",
    "To organize the data we will make each weight unit grams. Using grams instead of kilograms is helpful in this case since our plots x-axis will use si-prefixes such as k for kilo."
   ]
  },
  {
   "cell_type": "code",
   "execution_count": null,
   "metadata": {},
   "outputs": [],
   "source": [
    "#create new index and have country and date be columns of the dataframe\n",
    "df.reset_index(level=['country', 'date'], inplace=True)\n",
    "\n",
    "# convert metric tons to g\n",
    "df[\"CO2 Tons Per Capita\"] = df.apply(lambda x: x[\"CO2 Tons Per Capita\"]*1000000, axis=1)\n",
    "\n",
    "#convert metric kt to g\n",
    "df[\"Total CO2 Emissions(kt)\"] = df.apply(lambda x: x[\"Total CO2 Emissions(kt)\"]*1000000000 , axis=1)\n",
    "\n",
    "#convert kg to g\n",
    "df[\"kg CO2 Per 10 Dollars USD GDP\"] = df.apply(lambda x: x[\"kg CO2 Per 10 Dollars USD GDP\"]*1000, axis=1)\n",
    "\n",
    "#rename columns\n",
    "df = df.rename(columns={\"CO2 Tons Per Capita\": \"CO2 g Per Capita\", \n",
    "                        \"Total CO2 Emissions(kt)\":\"Total CO2 Emissions(g)\",\n",
    "                        \"kg CO2 Per 10 Dollars USD GDP\":\"g CO2 Per 10 Dollars USD GDP\", \n",
    "                        \"date\": \"Date\", 'country': 'Country'})\n",
    "\n",
    "#show the dataframe\n",
    "df"
   ]
  },
  {
   "cell_type": "markdown",
   "metadata": {},
   "source": [
    "## 4. Explore\n",
    "\n",
    "We will examine CO2 emissions by creating a few line graphs showing CO2 emissions in G7 countries."
   ]
  },
  {
   "cell_type": "code",
   "execution_count": null,
   "metadata": {},
   "outputs": [],
   "source": [
    "# Create Figures\n",
    "fig1 = px.line(df, x=\"Date\", y=\"Total CO2 Emissions(g)\", color='Country',\n",
    "              title=\"G7 Nations Total CO2 Emissions\")\n",
    "fig2 = px.line(df, x=\"Date\", y=\"g CO2 Per 10 Dollars USD GDP\", color='Country', \n",
    "               title=\"G7 Nations CO2 Emissions In Grams Per $10 USD GDP\")\n",
    "fig3 = px.line(df, x=\"Date\", y=\"CO2 g Per Capita\", color='Country', \n",
    "               title='G7 Nations CO2 Emissions Per Capita')\n",
    "#Show figures\n",
    "fig1.show()\n",
    "fig2.show()\n",
    "fig3.show()"
   ]
  },
  {
   "cell_type": "markdown",
   "metadata": {},
   "source": [
    "## 5. Interpret\n",
    "\n",
    "Below, we will discuss the plot we created and how to examine it. \n",
    "\n",
    "Starting with the top most plot, we see that the USA produces more CO2 emissions relative to other G7 nations. However, the next two plots tell a slightly different story. If we look at CO2 emissions by GDP, Canada actually produced the most CO2 out of G7 nations in 2016. When looking at carbon emissions per capita (third plot), we see that Canada is just below the US, and the gap seems to be lessening.\n",
    "\n",
    "To look more closely at these plots, hover your mouse over data points or click on legend items to remove or add lines to the plot\n",
    "\n",
    "**Make meaning from the data visualization**\n",
    "- What do you notice about the line graph?\n",
    "- What do you wonder about the data?\n",
    "- Are all the plots clear to you? If not, why?\n",
    "- Which plot do you think is the most fair in explaining national CO2 emissions? Why?"
   ]
  },
  {
   "cell_type": "markdown",
   "metadata": {},
   "source": [
    "## 6. Communicate\n",
    "\n",
    "Below, we will reflect on the new information that is presented from the data. When we look at the evidence, think about what you perceive about the information. Is this perception based on what the evidence shows? If others were to view it, what perceptions might they have? These writing prompts can help you reflect.\n",
    "\n",
    "Cause and effect\n",
    "- What human activities affect CO2 emissions?\n",
    "- How can people contribute to solutions for changing CO2 emissions?\n",
    "\n",
    "Ethics\n",
    "- How can personal and societal choices impact change?\n",
    "- How might CO2 emissions impact society or the economy?"
   ]
  },
  {
   "cell_type": "markdown",
   "metadata": {},
   "source": [
    "[![Callysto.ca License](https://github.com/callysto/curriculum-notebooks/blob/master/callysto-notebook-banner-bottom.jpg?raw=true)](https://github.com/callysto/curriculum-notebooks/blob/master/LICENSE.md)"
   ]
  }
 ],
 "metadata": {
  "kernelspec": {
   "display_name": "Python 3",
   "language": "python",
   "name": "python3"
  },
  "language_info": {
   "codemirror_mode": {
    "name": "ipython",
    "version": 3
   },
   "file_extension": ".py",
   "mimetype": "text/x-python",
   "name": "python",
   "nbconvert_exporter": "python",
   "pygments_lexer": "ipython3",
   "version": "3.8.5"
  }
 },
 "nbformat": 4,
 "nbformat_minor": 4
}
