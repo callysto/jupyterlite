{
 "cells": [
  {
   "attachments": {},
   "cell_type": "markdown",
   "metadata": {},
   "source": [
    "![Callysto.ca Banner](https://github.com/callysto/curriculum-notebooks/blob/master/callysto-notebook-banner-top.jpg?raw=true)\n",
    "\n",
    "<a href=\"https://hub.callysto.ca/jupyter/hub/user-redirect/git-pull?repo=https%3A%2F%2Fgithub.com%2Fcallysto%2Fdata-viz-of-the-week&branch=main&subPath=dog-rating-inflation/weratedogs-bestfit.ipynb&depth=1\" target=\"_parent\"><img src=\"https://raw.githubusercontent.com/callysto/curriculum-notebooks/master/open-in-callysto-button.svg?sanitize=true\" width=\"123\" height=\"24\" alt=\"Open in Callysto\"/></a>"
   ]
  },
  {
   "cell_type": "markdown",
   "metadata": {},
   "source": [
    "### Callysto's Weekly Data Visualization\n",
    "\n",
    "## WeRateDogs Inflationary Scoring\n",
    "\n",
    "### Recommended Grade Level: 9-12\n",
    "\n",
    "### Instructions\n",
    "\n",
    "#### Step 1 (your only step): “Run” the cells to see the graphs\n",
    "Click “Cell” and select “Run All.” This will import the data and run all the code to create the data visualizations (scroll back to the top after you’ve run the cells). **You don’t need to do any coding**.\n",
    "\n",
    "The plots generated in this notebook are interactive. You can hover over and click on elements to see more information.   \n",
    "\n",
    "![instructions](https://github.com/callysto/data-viz-of-the-week/blob/main/images/instructions.png?raw=true)\n",
    "\n",
    "After a code cell runs, a number appears in the top left corner. If the code cell experiences a technical error some red text will appear below the cell. Email contact@callysto.ca if you experience issues."
   ]
  },
  {
   "cell_type": "markdown",
   "metadata": {},
   "source": [
    "### About This Notebook\n",
    "\n",
    "Callysto's Weekly Data Visualization is a learning resource that helps Grades 5-12 teachers and students grow and develop data literacy skills. We do this by providing a data visualization, like a graph, and asking teachers and students to interpret it. This companion resource walks learners through how the data visualization is created and interpreted using the data science process. The steps of this process are listed below and applied to each weekly topic.\n",
    "\n",
    "1. Question - What are we trying to answer?\n",
    "2. Gather - Find the data source(s) you will need.\n",
    "3. Organize - Arrange the data so that you can easily explore it.\n",
    "4. Explore - Examine the data to look for evidence to answer our question. This includes creating visualizations.\n",
    "5. Interpret - Explain how the evidence answers our question.\n",
    "6. Communicate - Reflect on the interpretation.\n",
    "\n",
    "### Acknowledgment\n",
    "The dataset we used in this week’s visualization is from [Greg Baker](https://www.sfu.ca/computing/people/faculty/gregbaker.html), a Computing Science instructor at Simon Fraser University in British Columbia. This visualization is inspired by [this](http://dhmontgomery.com/2017/03/dogrates/) data science exploration."
   ]
  },
  {
   "cell_type": "markdown",
   "metadata": {},
   "source": [
    "## 1. Question\n",
    "**Do the WeRateDogs scores inflate (or increase) over time? **\n",
    "\n",
    "<div>\n",
    "    <br><br>\n",
    "<img src=\"./images/brent.png\" width=\"500\"/>\n",
    "    <br><br>\n",
    "</div>\n",
    "\n",
    "[WeRateDogs](https://twitter.com/dog_rates) is a [popular](https://en.wikipedia.org/wiki/WeRateDogs) twitter account that offers humorous dog ratings and has spawned many memes. The Twitter exchange above was a popular meme a few years ago, and the account is even [credited](https://www.npr.org/sections/alltechconsidered/2017/04/23/524514526/dogs-are-doggos-an-internet-language-built-around-love-for-the-puppers) with creating or formalizing the \"pupper\" and \"doggo\" lingo used to describe dogs over the internet. Much like 4chan users are credited with creating a \"LOLCAT\" pigeon language in the early 2000s.\n",
    "\n",
    "Outside of exploring the history of internet memes, the account can demonstrate the concept of grade inflation. Usually when grade inflation is discussed, it is in the context of high schools or universities giving out more B and A grades leading to a diminishing value or meaning of those grades. Here we will see how scores given out by the WeRateDogs account may or may not be suffering from grade inflation. Hence, our question for this notebook is:\n",
    "* Do the WeRateDogs scores inflate (or increase) over time?"
   ]
  },
  {
   "cell_type": "markdown",
   "metadata": {},
   "source": [
    "## 2. Gather\n",
    "\n",
    "First we will import the Python libraries we need."
   ]
  },
  {
   "cell_type": "code",
   "execution_count": null,
   "metadata": {},
   "outputs": [],
   "source": [
    "#import libraries\n",
    "%pip install -q pyodide_http plotly nbformat statsmodels\n",
    "import pyodide_http\n",
    "pyodide_http.patch_all()\n",
    "import numpy as np\n",
    "import pandas as pd\n",
    "import re\n",
    "import plotly.express as px\n",
    "import os"
   ]
  },
  {
   "cell_type": "markdown",
   "metadata": {},
   "source": [
    "Then we read in our dataset of collected WeRateDogs tweets from a csv file into a pandas dataframe."
   ]
  },
  {
   "cell_type": "code",
   "execution_count": null,
   "metadata": {},
   "outputs": [],
   "source": [
    "#read in the dataset\n",
    "path = os.path.join('datasets', 'dog_rates_tweets.csv')\n",
    "data = pd.read_csv(path, dtype ={'text':str},parse_dates = ['created_at']).set_index(keys='id')"
   ]
  },
  {
   "cell_type": "markdown",
   "metadata": {},
   "source": [
    "For the last part of the 'gather' step is to inspect what we pulled in to make sure everything looks okay and start to understand what our dataset looks like."
   ]
  },
  {
   "cell_type": "code",
   "execution_count": null,
   "metadata": {},
   "outputs": [],
   "source": [
    "print('There are', data.shape[0], 'tweets in the dataset.\\nThe first few rows look like this:')\n",
    "#view the unmutated data\n",
    "data.head()"
   ]
  },
  {
   "cell_type": "markdown",
   "metadata": {},
   "source": [
    "## 3. Organize\n",
    "\n",
    "This step will take some work, since our data does not have a score column. Instead the scores, if they are present, are nested in the text. First, we will need to extract scores from the tweets in an automated fashion – manually checking eight thousand tweets would take too long and be prone to errors.\n",
    "\n",
    "To extract the tweets, we create a helper function to find any '*x*/10' scores in a tweet, where *x* is a digit."
   ]
  },
  {
   "cell_type": "code",
   "execution_count": null,
   "metadata": {},
   "outputs": [],
   "source": [
    "def text_to_rating(text):\n",
    "    # a helper function to find any 'x/10'\n",
    "    # the function only returns the first such score found in a tweet\n",
    "    match = re.search(r'(\\d+(\\.\\d+)?)/10',str(text))\n",
    "    if match:\n",
    "        numerator, denominator = match[0].split('/')\n",
    "        return float(numerator)/float(denominator)\n",
    "    else:\n",
    "        return None"
   ]
  },
  {
   "cell_type": "markdown",
   "metadata": {},
   "source": [
    "Next, we apply the above function to the `text` column to create a new column consisting of scores. We will also remove the original text from the dataset and remove any tweets that don't contain a score."
   ]
  },
  {
   "cell_type": "code",
   "execution_count": null,
   "metadata": {},
   "outputs": [],
   "source": [
    "#find the ratings\n",
    "data['rating'] = data['text'].map(text_to_rating)\n",
    "#drop the actual content of the tweets\n",
    "data = data.drop(['text'], axis =1)\n",
    "#drop entries with no scores found\n",
    "data = data[np.isfinite(data['rating'])]\n",
    "#rename create_at for easy of plotting later\n",
    "data.rename(columns={'created_at':'date created'}, inplace=True)"
   ]
  },
  {
   "cell_type": "markdown",
   "metadata": {},
   "source": [
    "Here we print the data sorted by highest to lowest score to get a picture of the range of scores."
   ]
  },
  {
   "cell_type": "code",
   "execution_count": null,
   "metadata": {},
   "outputs": [],
   "source": [
    "#sort the data\n",
    "data = data.sort_values(by='rating', ascending=False)\n",
    "#display the data\n",
    "data"
   ]
  },
  {
   "cell_type": "markdown",
   "metadata": {},
   "source": [
    "Looking at the output above, we see that the data has a large range of values.The top few seem particularly large for a rating system out of ten.\n",
    "\n",
    "Very large data points are usually referred to as outliers, depending on the use, the data, and the question. Outliers sometimes need to be removed, but other times are important for gaining an accurate picture of the data. We will look at the tweets to see if they are valid scores or something else, and remove some of the largest values.\n",
    "\n",
    "\n",
    "Sometimes the the large scores were dates:\n",
    "![holiday score](./images/1776.png)\n",
    "\n",
    "Sometimes they were scores scrapped from conversations about scoring:\n",
    "![](./images/meta.png)\n",
    "\n",
    "Sometimes they were honorary:\n",
    "![](./images/honourary.png)\n",
    "\n",
    "This dataset did not contain any genuine scores above 14/10. However, the web scraping used to collect the data did not find every single tweet. It's possibly missing valid 15/10 scores for especially good dogs.\n",
    "\n",
    "The low scores, except for the 0/10, seemed to be genuine ratings. Many low scores, however, were rating animals other than dogs. For our purposes we will consider those to be true ratings.  However depending on how the question is interpreted it could be fair to remove them.\n",
    "\n",
    "Many low scores were like this one given to a goat:\n",
    "![](./images/goat.png)\n",
    "\n",
    "Since this data exploration isn't a serious one we can freely decide on the criteria for dropping data points. However data should never be removed without careful thought when doing actual research. Changing key points of data can significantly change the results. \n",
    "\n",
    "Our last step in organizing the data is removing the outliers."
   ]
  },
  {
   "cell_type": "code",
   "execution_count": null,
   "metadata": {},
   "outputs": [],
   "source": [
    "# remove largest scores points\n",
    "data_cleaned = data.iloc[13:-3].copy()\n",
    "# print the data\n",
    "data_cleaned"
   ]
  },
  {
   "cell_type": "markdown",
   "metadata": {},
   "source": [
    "## 4. Explore\n",
    "\n",
    "In exploring the data we will create some plots. First, we create a helper function to make a scatterplot with a line of 'best fit' running through the points."
   ]
  },
  {
   "cell_type": "code",
   "execution_count": null,
   "metadata": {},
   "outputs": [],
   "source": [
    "def create_plot(data):\n",
    "    \"\"\"\n",
    "    A simple function that will take in a dataframe formatted like ours \n",
    "    and produce a scatterplot with best fit line\n",
    "    input:\n",
    "        a pandas dataframe with 'rating' and 'date created columns\n",
    "    return:\n",
    "        a plotly express scatterplot with best fit line(untitled)\n",
    "    \"\"\"\n",
    "    fig = px.scatter(data, x='date created', y='rating', trendline='ols')\n",
    "    #highlight the best fit line in red to make it more visible\n",
    "    fig.data[1].update(line_color='red')\n",
    "    #show the tweets in the legend\n",
    "    fig['data'][0]['showlegend']=True\n",
    "    fig['data'][0]['name']='Tweet'\n",
    "    # show the best fit line in the legend\n",
    "    fig['data'][1]['showlegend']=True\n",
    "    fig['data'][1]['name']='Best Fit Line (OLS)'\n",
    "    fig['data'][1]['visible']='legendonly'\n",
    "    fig.update_layout(showlegend=True)\n",
    "    #show the plot\n",
    "    return fig"
   ]
  },
  {
   "cell_type": "markdown",
   "metadata": {},
   "source": [
    "### 4(a) Explore - Data With Outliers \n",
    "\n",
    "First, we'll create and show the plot from the dataset of scores without filtering out the outliers."
   ]
  },
  {
   "cell_type": "code",
   "execution_count": null,
   "metadata": {},
   "outputs": [],
   "source": [
    "# create a plot without the outliers removed\n",
    "fig = create_plot(data)\n",
    "# add an appropriate title to the plot\n",
    "fig.update_layout(title='Plot With Outliers Present')\n",
    "# show the plot\n",
    "fig.show()"
   ]
  },
  {
   "cell_type": "markdown",
   "metadata": {},
   "source": [
    "**Click on the `Best Fit Line (OLS)` entry in the legend located on the right hand side of the plot to show the best fit line.**\n",
    "\n",
    "After looking at the data with and without the best fit line, do you think the *WeRateDogs scores suffer from inflation*?\n",
    "\n",
    "When the outliers are not removed the visual is hard to make out any detail. As well, the line that best fits the data has a slope of $2.8 \\times 10^{-9}$\n",
    "\n",
    "### 4(b) Explore - Data Without Outliers\n",
    "\n",
    "Next, we'll generate a plot with the outliers removed. We expect to see a much clearer visualization of the data. \n",
    "\n",
    "Note that the goal of removing outliers is **not** to make a clearer plot. The goal of removing outliers is to create a more accurate dataset to answer our question. We shouldn't try to create an aesthetically pleasing plot at the expense of accuracy."
   ]
  },
  {
   "cell_type": "code",
   "execution_count": null,
   "metadata": {},
   "outputs": [],
   "source": [
    "# create a plot with the outliers removed\n",
    "fig = create_plot(data_cleaned)\n",
    "# add an appropriate title to the plot\n",
    "fig.update_layout(title = 'WeRateDogs Scores Versus Time')\n",
    "# show the plot\n",
    "fig.show()"
   ]
  },
  {
   "cell_type": "markdown",
   "metadata": {},
   "source": [
    "**Click on the `Best Fit Line (OLS)` entry in the legend located on the right to show the best fit line**\n",
    "\n",
    "After looking at the data with and without the best fit line do you think the *WeRateDogs scores suffer from inflation*?\n",
    "\n",
    "Once the outliers are removed the visual clearly shows separate scores, and the slope is now $3.4\\times 10^{-9}$"
   ]
  },
  {
   "cell_type": "markdown",
   "metadata": {},
   "source": [
    "## 5. Interpret\n",
    "\n",
    "The positive slope on the red line reveals that scores have been increasing as time has gone on.\n",
    "\n",
    "This is the line through the data points that minimizes the square of the *y-value distance* between the line and the data points. This method is called *Ordinary Least Squares* and is a common method for approximating a straight line through a dataset to reveal a relationship. In this case the relationship shows that more recent scores are higher on average.\n",
    "\n",
    "From this we can conclude that inflation has been occuring in the WeRateDogs scores.\n",
    "\n",
    "However, removing the outliers did change the slope. Do you think they were fairly removed? Why or why not?\n",
    "\n",
    "Do you think the low scores in tweets that contained images of animals other than dogs should have been removed?\n",
    "\n",
    "Also this data is missing tweets from mid 2018. Do you think they would change the best fit line?\n"
   ]
  },
  {
   "cell_type": "markdown",
   "metadata": {},
   "source": [
    "## 6. Communicate\n",
    "\n",
    "When we look at the evidence, think about what you perceive about the information. Is this perception based on what the evidence shows? If others were to view it, what perceptions might they have? These writing prompts can help you reflect.\n",
    "\n",
    "* I used to think __ but now I know __.\n",
    "* I wish I knew more about __.\n",
    "* This visualization reminds me of __.\n",
    "* I really like __.\n"
   ]
  },
  {
   "cell_type": "markdown",
   "metadata": {},
   "source": [
    "[![Callysto.ca License](https://github.com/callysto/curriculum-notebooks/blob/master/callysto-notebook-banner-bottom.jpg?raw=true)](https://github.com/callysto/curriculum-notebooks/blob/master/LICENSE.md)"
   ]
  }
 ],
 "metadata": {
  "kernelspec": {
   "display_name": "Python 3",
   "language": "python",
   "name": "python3"
  },
  "language_info": {
   "codemirror_mode": {
    "name": "ipython",
    "version": 3
   },
   "file_extension": ".py",
   "mimetype": "text/x-python",
   "name": "python",
   "nbconvert_exporter": "python",
   "pygments_lexer": "ipython3",
   "version": "3.8.5"
  }
 },
 "nbformat": 4,
 "nbformat_minor": 4
}
