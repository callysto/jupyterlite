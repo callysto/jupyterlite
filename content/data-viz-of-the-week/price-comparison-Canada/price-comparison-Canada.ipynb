{
 "cells": [
  {
   "attachments": {},
   "cell_type": "markdown",
   "id": "c6460a64",
   "metadata": {},
   "source": [
    "![Callysto.ca Banner](https://github.com/callysto/curriculum-notebooks/blob/master/callysto-notebook-banner-top.jpg?raw=true)\n",
    "\n",
    "<a href=\"https://hub.callysto.ca/jupyter/hub/user-redirect/git-pull?repo=https%3A%2F%2Fgithub.com%2Fcallysto%2Fdata-viz-of-the-week&branch=main&subPath=price-comparison-Canada/price-comparison-Canada.ipynb&depth=1\" target=\"_parent\"><img src=\"https://raw.githubusercontent.com/callysto/curriculum-notebooks/master/open-in-callysto-button.svg?sanitize=true\" width=\"123\" height=\"24\" alt=\"Open in Callysto\"/></a>"
   ]
  },
  {
   "cell_type": "markdown",
   "id": "f7f403f2",
   "metadata": {},
   "source": [
    "# Callysto’s Weekly Data Visualization\n",
    "\n",
    "## Price Comparison Across Canada \n",
    "\n",
    "### Recommended Grade levels: 6-12\n",
    "<br>"
   ]
  },
  {
   "cell_type": "markdown",
   "id": "dd886982",
   "metadata": {},
   "source": [
    "### Instructions\n",
    "#### “Run” the cells to see the graphs\n",
    "Click “Cell” and select “Run All”.<br> This will import the data and run all the code, so you can see this week's data visualization. Scroll to the top after you’ve run the cells.<br> \n",
    "\n",
    "![instructions](https://github.com/callysto/data-viz-of-the-week/blob/main/images/instructions.png?raw=true)\n",
    "\n",
    "**You don’t need to do any coding to view the visualizations**.\n",
    "The plots generated in this notebook are interactive. You can hover over and click on elements to see more information. \n",
    "\n",
    "Email contact@callysto.ca if you experience issues."
   ]
  },
  {
   "cell_type": "markdown",
   "id": "44190ff7",
   "metadata": {},
   "source": [
    "### About this Notebook\n",
    "\n",
    "Callysto's Weekly Data Visualization is a learning resource that aims to develop data literacy skills. We provide Grades 5-12 teachers and students with a data visualization, like a graph, to interpret. This companion resource walks learners through how the data visualization is created and interpreted by a data scientist. \n",
    "\n",
    "The steps of the data analysis process are listed below and applied to each weekly topic.\n",
    "\n",
    "1. Question - What are we trying to answer? \n",
    "2. Gather - Find the data source(s) you will need. \n",
    "3. Organize - Arrange the data, so that you can easily explore it. \n",
    "4. Explore - Examine the data to look for evidence to answer the question. This includes creating visualizations. \n",
    "5. Interpret - Describe what's happening in the data visualization. \n",
    "6. Communicate - Explain how the evidence answers the question. "
   ]
  },
  {
   "cell_type": "markdown",
   "id": "1be5d717",
   "metadata": {},
   "source": [
    "# Questions\n",
    "\n",
    "**Have the prices of different products increased significantly in recent months?**\n",
    "**How do the recent prices compare with the ones at the beginning of COVID-19 health crisis?**\n",
    "**How do the price changes compare in different provinces in Canada?**\n",
    "\n",
    "As of May 2022, prices in Canadian grocery stores are soaring, and the trend only looks set to continue. The surge in prices is attributed to a number of factors including the myriad effects of COVID-19, serious supply chain constraints, ongoing climate change, among others. Does the available data back this statement? If yes, has all the provinces in Canada been affected the same way?\n",
    "\n",
    "\n",
    "### Goal\n",
    "Our goal is to investigate the change in prices of different products across Canada during the past recent years. We will use interactive choropleth maps and line graphs to visualize and analyze the price changes."
   ]
  },
  {
   "cell_type": "markdown",
   "id": "9cd0e6c0",
   "metadata": {},
   "source": [
    "# Gather\n",
    "\n",
    "### Code:\n",
    "The code below will import the Python programming libraries we need to gather and organize the data to answer our questions."
   ]
  },
  {
   "cell_type": "code",
   "execution_count": null,
   "id": "af08f949",
   "metadata": {},
   "outputs": [],
   "source": [
    "%pip install -q pyodide_http plotly nbformat geopandas pyproj\n",
    "import pyodide_http\n",
    "pyodide_http.patch_all()\n",
    "import pandas as pd\n",
    "import geopandas as gpd\n",
    "import plotly.express as px\n",
    "import plotly.graph_objects as go\n",
    "import numpy as np\n",
    "import pyproj\n",
    "from io import BytesIO\n",
    "from zipfile import ZipFile\n",
    "from urllib.request import urlopen\n",
    "from IPython.display import Markdown as md"
   ]
  },
  {
   "cell_type": "markdown",
   "id": "a7dd25a3",
   "metadata": {},
   "source": [
    "### Data:\n",
    "\n",
    "The following two datasets are available from [Statistics Canada](https://www.statcan.gc.ca/en/start):\n",
    "\n",
    "[Dateset1](https://open.canada.ca/data/en/dataset/8015bcc6-401d-4927-a447-bb35d5dfcc91): data for Canada and provinces starting January 2017\n",
    "\n",
    "[Dateset2](https://open.canada.ca/data/en/dataset/8e35c016-87a6-4dd5-b089-e6dfc9bc0e76): historical data only for Canada starting January 1995\n",
    "\n",
    "The prices reported in these two datasets are retail prices including tax. Both datasets are available in CSV (comma separated values) format to download. We will use the first dataset in this notebook as we want to look at the recent changes in prices. Different ways to read the data will be presented as detailed below:\n",
    "\n",
    "- Method-1: Read data directly from the web address. This is the default method as the dataset is continuously updated. The url and/or the csv file name may need to be updated.\n",
    "\n",
    "- Method-2: If for any reason Method-1 does not work, we read the csv file locally (in folder *Data*). You can either use the file that is already saved in that folder or download the latest version of the csv file from the web address and over-write this file."
   ]
  },
  {
   "cell_type": "markdown",
   "id": "47e4b669",
   "metadata": {},
   "source": [
    "### Import the data"
   ]
  },
  {
   "cell_type": "code",
   "execution_count": null,
   "id": "495b3d11",
   "metadata": {},
   "outputs": [],
   "source": [
    "method1 = True\n",
    "try: # try method-1\n",
    "    print(\"Try to read the most up-to-date published data on the web ...\")\n",
    "    # url of the zip file that includes the data file\n",
    "    url = urlopen(\"https://www150.statcan.gc.ca/n1/tbl/csv/18100245-eng.zip\")\n",
    "    # download Zipfile and create pandas DataFrame from the csv file inside it\n",
    "    zipfile = ZipFile(BytesIO(url.read()))\n",
    "    product_data = pd.read_csv(zipfile.open('18100245.csv'))\n",
    "except: # if failed, read the file from the github repo\n",
    "    method1 = False\n",
    "    print(\"Failed to read the most recent published data on the web. Read the csv file on github ...\")\n",
    "    # create pandas DataFrame from the local csv file\n",
    "    product_data = pd.read_csv('https://raw.githubusercontent.com/callysto/data-files/main/data-viz-of-the-week/price-comparison-Canada/data/18100245.csv')\n",
    "    \n",
    "if method1: print(\"The most up-to-date data is successfully loaded.\")"
   ]
  },
  {
   "cell_type": "markdown",
   "id": "59ccb8dd",
   "metadata": {},
   "source": [
    "### Comment on the data\n",
    "Let's look at the dataset structue, number of samples and some sample data."
   ]
  },
  {
   "cell_type": "code",
   "execution_count": null,
   "id": "06b2bec8",
   "metadata": {},
   "outputs": [],
   "source": [
    "# look at the dimensions of the dataset\n",
    "n_samples, n_attributes = product_data.shape[0], product_data.shape[1]\n",
    "md(\"There are $%i$ data samples each having $%i$ attributes shown in columns.\"%(n_samples, n_attributes))"
   ]
  },
  {
   "cell_type": "code",
   "execution_count": null,
   "id": "a979a3c0",
   "metadata": {},
   "outputs": [],
   "source": [
    "# look at some data samples\n",
    "product_data.head(5)"
   ]
  },
  {
   "cell_type": "markdown",
   "id": "eb75e31a",
   "metadata": {},
   "source": [
    "Let's look at the unique dates, regions and products for which we have data in this dataset:"
   ]
  },
  {
   "cell_type": "code",
   "execution_count": null,
   "id": "7f0f02f7",
   "metadata": {},
   "outputs": [],
   "source": [
    "n_dates, n_regions, n_products = product_data['REF_DATE'].nunique(), product_data['GEO'].nunique(), product_data['Products'].nunique()\n",
    "md(\"There are $%i$ unique dates, $%i$ unique regions and $%i$ unique products in the dataset.\"%(n_dates, n_regions, n_products))"
   ]
  },
  {
   "cell_type": "code",
   "execution_count": null,
   "id": "3ed8668b",
   "metadata": {},
   "outputs": [],
   "source": [
    "# unique dates\n",
    "product_data['REF_DATE'].unique()"
   ]
  },
  {
   "cell_type": "code",
   "execution_count": null,
   "id": "f1886780",
   "metadata": {},
   "outputs": [],
   "source": [
    "md(\"The data is available from $%s$ to $%s$\"%(product_data['REF_DATE'].unique()[0], product_data['REF_DATE'].unique()[-1]))"
   ]
  },
  {
   "cell_type": "code",
   "execution_count": null,
   "id": "69c3f2de",
   "metadata": {},
   "outputs": [],
   "source": [
    "# unique regions\n",
    "product_data['GEO'].unique()"
   ]
  },
  {
   "cell_type": "markdown",
   "id": "df917db9",
   "metadata": {},
   "source": [
    "The prices are reported in the 10 provinces. The average prices in *Canada* are also reported. Unfortunately, the prices for the three territories (*Northwest Territories*, *Nunavut* and *Yukon*) are missing in this dataset."
   ]
  },
  {
   "cell_type": "code",
   "execution_count": null,
   "id": "146a35df",
   "metadata": {},
   "outputs": [],
   "source": [
    "# unique products\n",
    "product_data['Products'].unique()"
   ]
  },
  {
   "cell_type": "markdown",
   "id": "1ae59c9b",
   "metadata": {},
   "source": [
    "Finally, we see that a significant portion of the products in this dataset refers to food items.\n",
    "\n",
    "In the next section, we will look more closely at the dataset and prepare it for our analysis."
   ]
  },
  {
   "cell_type": "markdown",
   "id": "32071e24",
   "metadata": {},
   "source": [
    "# Organize\n",
    "\n",
    "The codes below will arrange the data cleanly so that we can do analysis on it. This is a quality control step for our data and involves examining the data to detect anything odd with the data (e.g. structure, missing values), fixing the oddities, and checking if the fixes worked. Also, based on the information from the *Gather* section, we will manipulate the dataset in a few steps to make it ready for the relevant analysis that answers our questions."
   ]
  },
  {
   "cell_type": "markdown",
   "id": "88167a21",
   "metadata": {},
   "source": [
    "### Identify irrelevant information\n",
    "\n",
    "By looking at the column names (attributes), the potential relevant attributes of the datset to our investigation are: `REF_DATE`, `GEO`, `Products`, `UOM` and `VALUE`. As such, there are lots of information in the dataset that can be removed. Among the mentioned $5$ attributes, we can further check if the same unit of measure (the `UOM` column) is used for all data samples:"
   ]
  },
  {
   "cell_type": "code",
   "execution_count": null,
   "id": "3df55676",
   "metadata": {},
   "outputs": [],
   "source": [
    "# unique unit of measures\n",
    "product_data['UOM'].unique()"
   ]
  },
  {
   "cell_type": "markdown",
   "id": "44167a77",
   "metadata": {},
   "source": [
    "Only $1$ unit of measure (*Canadian dollars*) is used for reporting the prices and thus, the `UOM` column can also be removed from the dataset."
   ]
  },
  {
   "cell_type": "markdown",
   "id": "a79a7cd6",
   "metadata": {},
   "source": [
    "### Check for potential missing values\n"
   ]
  },
  {
   "cell_type": "code",
   "execution_count": null,
   "id": "5fe4752b",
   "metadata": {},
   "outputs": [],
   "source": [
    "n_combinations = n_dates * n_regions * n_products\n",
    "md(\"We next check for any missing data. Comapring the number of different possible combinations of unique dates, unique regions and unique products ($%i * %i * %i = %i$) with the total sample size ($%i$), we find out that there is one product (`Milk, 4 litres`) for which the prices are not reported in one region (`Newfoundland and Labrador`). Since there other similar products in the dataset (`Milk, 1 litre` and `Milk, 2 litres`), we can simply remove this product from our dataset.\"%(n_dates, n_regions, n_products, n_combinations, n_samples))"
   ]
  },
  {
   "cell_type": "markdown",
   "id": "6d8e1ef8",
   "metadata": {},
   "source": [
    "### Modify data\n",
    "\n",
    "In order to simplify the data visulization process, here we drop unwanted columns/rows and rename some columns:"
   ]
  },
  {
   "cell_type": "code",
   "execution_count": null,
   "id": "ac26d913",
   "metadata": {},
   "outputs": [],
   "source": [
    "# modify original data\n",
    "product_data.drop(columns=['DGUID', 'UOM', 'UOM_ID', 'SCALAR_FACTOR', 'SCALAR_ID', 'STATUS', 'SYMBOL', \n",
    "                           'TERMINATED', 'DECIMALS', 'VECTOR', 'COORDINATE'], inplace=True)\n",
    "product_data.rename(columns={'REF_DATE':'Date', 'VALUE':'Price', 'GEO':'Region', 'Products':'Product'}, inplace=True)\n",
    "product_data.drop(product_data[product_data['Product'] == 'Milk, 4 litres'].index, inplace=True)\n",
    "product_data.reset_index(inplace=True)\n",
    "product_data.drop(columns='index', inplace=True)\n",
    "# create new dataframe without the Canada prices for the choropleth map\n",
    "product_data_prov1 = product_data.loc[product_data['Region'] != 'Canada']\n",
    "product_data_prov1.reset_index(inplace=True)\n",
    "product_data_prov = product_data_prov1.drop(columns='index')\n",
    "product_data.head()"
   ]
  },
  {
   "cell_type": "markdown",
   "id": "1a48962e",
   "metadata": {},
   "source": [
    "We removed some columns and rows that were not needed for our data analysis. We also renamed some data attributes to access the data more easily without the need to check the attributes' names. Finally, to create choropleth maps for which only the province data is relevant, we needed to create a copy of the original dataset with the data pertaining to Canada removed."
   ]
  },
  {
   "cell_type": "markdown",
   "id": "4b397054",
   "metadata": {},
   "source": [
    "# Explore\n",
    "\n",
    "The code cells below will be used to visualize the data in different forms to help us answer our questions.\n",
    "\n",
    "### Price changes over time for each province\n",
    "\n",
    "First we look at the change in price of different products over the recent years in each province. You can select a specific product from the dropdown menu. The products are ordered alphabetically. The easiest way to navigate through the menu items is to drag the scroll bar. To show the prices for each province, click on its legend."
   ]
  },
  {
   "cell_type": "code",
   "execution_count": null,
   "id": "19189b9b",
   "metadata": {},
   "outputs": [],
   "source": [
    "default_region = 'Alberta'\n",
    "regions = product_data['Region'].unique()\n",
    "products = np.sort(product_data['Product'].unique())\n",
    "default_product = products[0]\n",
    "markers = [\"circle\",\"square\",\"diamond\",\"cross\",\"x\",\"triangle-up\",\"triangle-down\",\"triangle-left\",\"triangle-right\",\"star\",\"hourglass\"]\n",
    "\n",
    "# plot for all combinations of products and regions\n",
    "fig = go.Figure()\n",
    "for product in products:\n",
    "    for iregion, region in enumerate(regions):\n",
    "        if region == 'Canada':\n",
    "            color = px.colors.sequential.gray[0]\n",
    "        else:\n",
    "            color = px.colors.sequential.Viridis[iregion - 1]\n",
    "        product_data_trimmed = product_data[(product_data[\"Region\"] == region) & \n",
    "                                            (product_data['Product'] == product)]\n",
    "        \n",
    "        fig.add_trace(go.Scatter(x=product_data_trimmed[\"Date\"], y=product_data_trimmed[\"Price\"], \n",
    "                                 mode=\"lines+markers\", name=region, uid=product + ' (' + region + ')',\n",
    "                                 line=dict(color=color), marker_symbol=markers[iregion], marker_size=10))\n",
    "\n",
    "# set the default view: only show the graph for the default product and default region\n",
    "fig.for_each_trace(\n",
    "    lambda trace: trace.update(visible='legendonly') if (default_product in trace.uid) \n",
    "    else (trace.update(visible=False)))\n",
    "\n",
    "fig.for_each_trace(\n",
    "    lambda trace: trace.update(visible=True) if ((default_product in trace.uid) & (default_region in trace.uid)) else ())\n",
    "#\n",
    "\n",
    "# create buttons for all products\n",
    "product_buttons = []\n",
    "n_traces = len(products) * len(regions)\n",
    "for id_prod, product in enumerate(products):\n",
    "    vis = [False] * n_traces\n",
    "    vis_update = list(regions == default_region)\n",
    "    vis_update = ['legendonly' if i == False else i for i in vis_update]\n",
    "    vis[(id_prod * len(regions)):((id_prod + 1) * len(regions))] = vis_update\n",
    "    product_buttons.append(dict(label=product, method='update',\n",
    "                                args=[{\"visible\":vis}, {\"title\": \"Price of \" + product}]))\n",
    "\n",
    "fig.update_layout(xaxis_title=\"Date\", yaxis_title=\"Price (CAD)\",\n",
    "                  title_text=\"Price of \" + default_product, hovermode=\"x unified\", \n",
    "                  yaxis={\"tickformat\":\"0.2f\"}, legend=dict(bgcolor='rgba(0,0,0,0)'),\n",
    "                  updatemenus=[dict(active=0, buttons=product_buttons, x=0.25, y=1)])\n",
    "#fig.write_html(\"visualizations/fig1-PricesOverTime.html\")\n",
    "fig.show()"
   ]
  },
  {
   "cell_type": "markdown",
   "id": "73cae24e",
   "metadata": {},
   "source": [
    "After playing around with the above plot, you may agree that looking at variations of absolute prices is not the best way to investigate the data. For instance, taking a quick look at the price variations of `Apple juice, 2 litres`, one might think that on August 2021, there was a huge decrease in the price; however, by taking a closer look at the y-axis values, we see that there was only approximately 20% decrease in the price. Moreover, it is hard to comment on which product was more affected at a certain time. For instance, the price change for `Oranges` was much more dramatic with respect to `Apple juice, 2 litres` and almost doubled since January 2017; but this is not clear by quickly looking at the above graphs. \n",
    "\n",
    "A better way to investigate the data is to plot the price of each product normalized by its respective reference value. Here, we take the Canadian average price on January 2017 as the reference value. The code below creates a modified plot."
   ]
  },
  {
   "cell_type": "code",
   "execution_count": null,
   "id": "812abab2",
   "metadata": {},
   "outputs": [],
   "source": [
    "regions = product_data['Region'].unique()\n",
    "products = np.sort(product_data['Product'].unique())\n",
    "default_prod = products[0]\n",
    "default_reg = 'Alberta'\n",
    "ref_reg = 'Canada'\n",
    "ref_date = '2017-01'\n",
    "markers = [\"circle\",\"square\",\"diamond\",\"cross\",\"x\",\"triangle-up\",\"triangle-down\",\"triangle-left\",\"triangle-right\",\"star\",\"hourglass\"]\n",
    "\n",
    "# plot for all combinations of products and regions\n",
    "ref_prices = {}\n",
    "fig = go.Figure()\n",
    "for product in products:\n",
    "    ref_price = product_data.loc[(product_data['Date'] == ref_date) &\n",
    "                                 (product_data[\"Region\"] == ref_reg) &\n",
    "                                 (product_data['Product'] == product), 'Price'].iloc[0]\n",
    "    ref_prices.update({product:ref_price})\n",
    "    for iregion, region in enumerate(regions):\n",
    "        if region == 'Canada':\n",
    "            color = px.colors.sequential.gray[0]\n",
    "        else:\n",
    "            color = px.colors.sequential.Viridis[iregion - 1]\n",
    "        product_data_trimmed = product_data[(product_data[\"Region\"] == region) &\n",
    "                                            (product_data['Product'] == product)]\n",
    "\n",
    "        fig.add_trace(go.Scatter(x=product_data_trimmed[\"Date\"], y=product_data_trimmed[\"Price\"].div(ref_price),\n",
    "                                 mode=\"lines+markers\", name=region, uid=product + ' (' + region + ')',\n",
    "                                 line=dict(color=color), marker_symbol=markers[iregion], marker_size=10))\n",
    "\n",
    "# set the default view: only show the graph for the default product and default region\n",
    "fig.for_each_trace(\n",
    "    lambda trace: trace.update(visible='legendonly') if (default_prod in trace.uid)\n",
    "    else (trace.update(visible=False)))\n",
    "\n",
    "fig.for_each_trace(\n",
    "    lambda trace: trace.update(visible=True) if ((default_prod in trace.uid) & (default_reg in trace.uid)) else ())\n",
    "\n",
    "# create buttons for all products\n",
    "product_buttons = []\n",
    "n_traces = len(products) * len(regions)\n",
    "for id_prod, product in enumerate(products):\n",
    "    vis = [False] * n_traces\n",
    "    vis_update = list(regions == default_reg)\n",
    "    vis_update = ['legendonly' if i == False else i for i in vis_update]\n",
    "    vis[(id_prod * len(regions)):((id_prod + 1) * len(regions))] = vis_update\n",
    "\n",
    "    product_buttons.append(dict(label=product, method='update',\n",
    "                                args=[{\"visible\":vis}, {\"title\": \"Normalized Price of \" + product +\n",
    "                                                        \"<br>(\" + ref_reg + \" Average on \" + ref_date + \"=\" +\n",
    "                                                        str(ref_prices[product]) + \" CAD)\"}]))\n",
    "\n",
    "fig.update_layout(xaxis_title=\"Date\", yaxis_title=\"Normalized Price\",\n",
    "                  title_text=\"Normalized Price of \" + default_prod +\n",
    "                  \"<br>(\" + ref_reg + \" Average on \" + ref_date + \"=\" + str(ref_prices[default_prod]) + \" CAD)\",\n",
    "                  hovermode=\"x unified\", height=600,\n",
    "                  yaxis={\"tickformat\":\"0.2f\"}, legend=dict(x=1.0, y=1, bgcolor='rgba(0,0,0,0)'),\n",
    "                  updatemenus=[dict(active=0, buttons=product_buttons, x=1, y=1.15)])\n",
    "fig.update_yaxes(range=[0.0, 2.4])\n",
    "#fig.write_html(\"visualizations/fig2-NormalizedPricesOverTime.html\")\n",
    "fig.show()"
   ]
  },
  {
   "cell_type": "markdown",
   "id": "c77871e9",
   "metadata": {},
   "source": [
    "Looking at the revised plot, we quickly see that `Apple juice, 2 litres` actually has not had much change in price during the recent years. The `Oranges` on the other hand has had approximately an 80% increase in price.\n",
    "\n",
    "Another useful way to visualize the data is to plot the price changes of different products for a specific region. This helps us quickly see which products are more affected in a specific region. The prices of different products are normalized to their value on January 2017 in that region. You can select a specific region from the dropdown menu. To show the prices for each product, click on its legend."
   ]
  },
  {
   "cell_type": "code",
   "execution_count": null,
   "id": "0422d79a",
   "metadata": {},
   "outputs": [],
   "source": [
    "regions = product_data['Region'].unique()\n",
    "products = np.sort(product_data['Product'].unique())\n",
    "default_prod = products[0]\n",
    "default_reg = regions[0]\n",
    "ref_reg = 'Canada'\n",
    "ref_date = '2017-01'\n",
    "\n",
    "# plot for all combinations of products and regions\n",
    "fig = go.Figure()\n",
    "n_traces = len(products) * len(regions)\n",
    "for id_prod, product in enumerate(products):\n",
    "    for id_reg, region in enumerate(regions):\n",
    "        product_data_trimmed = product_data[(product_data[\"Region\"] == region) & \n",
    "                                            (product_data['Product'] == product)]\n",
    "        \n",
    "        ref_price = product_data.loc[(product_data['Date'] == ref_date) & \n",
    "                                     (product_data[\"Region\"] == region) & \n",
    "                                     (product_data['Product'] == product), 'Price'].iloc[0]\n",
    "            \n",
    "        fig.add_trace(go.Scatter(x=product_data_trimmed[\"Date\"], y=product_data_trimmed[\"Price\"].div(ref_price), \n",
    "                                 mode=\"lines\", name=product, uid=product + ' (' + region + ')'))\n",
    "\n",
    "# set the default view: only show the graph for the default product and default region\n",
    "fig.for_each_trace(\n",
    "    lambda trace: trace.update(visible='legendonly') if (default_reg in trace.uid) \n",
    "    else (trace.update(visible=False)))\n",
    "\n",
    "fig.for_each_trace(\n",
    "    lambda trace: trace.update(visible=True) if ((default_prod in trace.uid) & (default_reg in trace.uid)) else ())\n",
    "    \n",
    "fig.update_layout(xaxis_title=\"Date\", yaxis_title=\"Normalized Price\",\n",
    "                  title_text=\"Normalized Prices in \" + default_reg, \n",
    "                  yaxis={\"tickformat\":\"0.2f\"})\n",
    "\n",
    "fig.update_yaxes(range=[0.0, 2.4])\n",
    "\n",
    "# create buttons for all regions\n",
    "region_buttons = []\n",
    "n_traces = len(products) * len(regions)\n",
    "for id_reg, region in enumerate(regions):\n",
    "    vis = [False] * n_traces\n",
    "    vis_update = list(products == default_prod)\n",
    "    vis_update = ['legendonly' if i == False else i for i in vis_update]\n",
    "    vis[id_reg:n_traces:len(regions)] = vis_update\n",
    "        \n",
    "    region_buttons.append(dict(label=region, method='update', \n",
    "                               args=[{\"visible\":vis}, {\"title\": \"Normalized Prices in \" + region}]))\n",
    "    \n",
    "fig.update_layout(updatemenus=[dict(active=0, buttons=region_buttons, x=1.25, y=1.2)], \n",
    "                  annotations=[dict(text=\"Region:\",x=0.88, y=1.18, yref=\"paper\", xref=\"paper\", align=\"left\", \n",
    "                                    showarrow=False)])\n",
    "#fig.write_html(\"visualizations/fig3-NormalizedPricesOverTime-Regions.html\")\n",
    "fig.show()"
   ]
  },
  {
   "cell_type": "markdown",
   "id": "50e4f85b",
   "metadata": {},
   "source": [
    "### Price distribution across provinces at different times\n",
    "\n",
    "Another useful type of plot to visualize this dataset is the choropleth map which shows the data on a regional map. This is a great way to quickly get an idea of variation of prices across different geographical regions.\n",
    "\n",
    "The following code cell plots the most recent prices of different products across Canada. You can select a specific product from the dropdown menu."
   ]
  },
  {
   "cell_type": "code",
   "execution_count": null,
   "id": "77592195",
   "metadata": {},
   "outputs": [],
   "source": [
    "# read the shape file\n",
    "provinces = gpd.read_file('shape-files/gpr_000a11a_e.shp')\n",
    "provinces.drop(columns=['PRUID', 'PRNAME', 'PRFNAME', 'PREABBR', 'PRFABBR'], inplace=True)\n",
    "provinces.rename(columns={'PRENAME':'Region'}, inplace=True)\n",
    "provinces.to_crs(pyproj.CRS.from_epsg(4326), inplace=True)\n",
    "\n",
    "# prepare variables to plot\n",
    "products = np.sort(product_data_prov['Product'].unique())\n",
    "dates = product_data_prov['Date'].unique()\n",
    "default_prod = products[0]\n",
    "date_f = dates[-1]\n",
    "\n",
    "product_data_prov_piv = product_data_prov[product_data_prov['Date'] == date_f].pivot(index='Region', columns='Product', values='Price')\n",
    "df_merged = provinces.merge(product_data_prov_piv, left_on=['Region'], right_on=['Region'])\n",
    "df_merged.set_index('Region', inplace=True)\n",
    "\n",
    "# plot\n",
    "fig = px.choropleth(df_merged, geojson=df_merged.geometry, locations=df_merged.index, color=default_prod, color_continuous_scale=\"Viridis\")\n",
    "\n",
    "fig.update_geos(fitbounds=\"locations\", visible=False)\n",
    "fig.update_layout(title_text=\"Price of \" + default_prod + ' on ' + date_f)\n",
    "fig.update(layout = dict(title=dict(x=0.1, y=0.9)))\n",
    "fig.update_layout(margin={\"r\":0,\"t\":30,\"l\":10,\"b\":10})\n",
    "fig.update_coloraxes(colorbar={'title':'Price (CAD)'})\n",
    "\n",
    "# create buttons for all products\n",
    "product_buttons = []\n",
    "for id_prod, product in enumerate(products):        \n",
    "    product_buttons.append(dict(label=product, method='update', args=[{\"z\":[df_merged[product]]}, {\"title\": \"Price of \" + product}]))\n",
    "\n",
    "fig.update_layout(updatemenus=[dict(active=0, buttons=product_buttons, x=1, y=1)], \n",
    "                  annotations=[dict(text=\"Product:\", x=0.6, y=0.97, yref=\"paper\", xref=\"paper\", align=\"left\", showarrow=False)])  \n",
    "#fig.write_html(\"visualizations/fig4-PricesMap.html\")\n",
    "fig.show()"
   ]
  },
  {
   "cell_type": "markdown",
   "id": "14ea9182",
   "metadata": {},
   "source": [
    "# Interpret\n",
    "\n",
    "First of all, we can clearly see a fixed pattern of increase and decrease in prices during a year for seasonal products such as apples, cabbage, pears, cucumber, romaine lettuce and tomatoes.\n",
    "\n",
    "Moreover, as of May 2022, looking at the trends in price variations in different provinces, we see that the majority of the products indeed have experienced increases in their prices during the recent months, with only some of them, such as beef, coffee and canned goods, reaching the same high prices experienced at the beginning months of the COVID-19 pandemic. \n",
    "\n",
    "Products like canned tomatoes, canned tuna, cucumber and sweet potato only experienced the price increase at the beginning of the pandemic. Besides, the frozen products such as frozen corn, frozen french fried potatoes, frozen mixed vegetables, etc. did not experience any price increase in recent months or during the pandemic.\n",
    "\n",
    "The trends are more or less the same for most of the provinces, although some provinces are more affected than the others.\n",
    "\n",
    "Finally, the interactive choropleth map helps in quickly compare the prices of different products across Canada."
   ]
  },
  {
   "cell_type": "markdown",
   "id": "2ce15fa2",
   "metadata": {},
   "source": [
    "# Communicate\n",
    "\n",
    "Below are some writing prompts to help you reflect on the new information that is presented from the data. When we look at the evidence, think about what you perceive about the information. Is this perception based on what the evidence shows? If others were to view it, what perceptions might they have?\n",
    "\n",
    "- I used to think ____________________but now I know____________________. \n",
    "- I wish I knew more about ____________________. \n",
    "- This visualization reminds me of ____________________. \n",
    "- I really like ____________________."
   ]
  },
  {
   "cell_type": "markdown",
   "id": "a70b7971",
   "metadata": {},
   "source": [
    "[![Callysto.ca License](https://github.com/callysto/curriculum-notebooks/blob/master/callysto-notebook-banner-bottom.jpg?raw=true)](https://github.com/callysto/curriculum-notebooks/blob/master/LICENSE.md)"
   ]
  }
 ],
 "metadata": {
  "kernelspec": {
   "display_name": "Python 3.10.4 64-bit",
   "language": "python",
   "name": "python3"
  },
  "language_info": {
   "codemirror_mode": {
    "name": "ipython",
    "version": 3
   },
   "file_extension": ".py",
   "mimetype": "text/x-python",
   "name": "python",
   "nbconvert_exporter": "python",
   "pygments_lexer": "ipython3",
   "version": "3.10.4"
  },
  "vscode": {
   "interpreter": {
    "hash": "aee8b7b246df8f9039afb4144a1f6fd8d2ca17a180786b69acc140d282b71a49"
   }
  }
 },
 "nbformat": 4,
 "nbformat_minor": 5
}
