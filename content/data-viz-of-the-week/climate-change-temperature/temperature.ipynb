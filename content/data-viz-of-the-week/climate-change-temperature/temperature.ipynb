{
 "cells": [
  {
   "attachments": {},
   "cell_type": "markdown",
   "metadata": {},
   "source": [
    "![Callysto.ca Banner](https://github.com/callysto/curriculum-notebooks/blob/master/callysto-notebook-banner-top.jpg?raw=true)\n",
    "<a href=\"https://hub.callysto.ca/jupyter/hub/user-redirect/git-pull?repo=https%3A%2F%2Fgithub.com%2Fcallysto%2Fdata-viz-of-the-week&branch=main&subPath=climate-change-temperature/temperature.ipynb&depth=1\" target=\"_parent\"><img src=\"https://raw.githubusercontent.com/callysto/curriculum-notebooks/master/open-in-callysto-button.svg?sanitize=true\" width=\"123\" height=\"24\" alt=\"Open in Callysto\"/></a>"
   ]
  },
  {
   "cell_type": "markdown",
   "metadata": {},
   "source": [
    "# Callysto’s Weekly Data Visualization\n",
    "\n",
    "## Climate Change Evidence - Temperatures\n",
    "\n",
    "### Recommended grade level: 7-12"
   ]
  },
  {
   "cell_type": "markdown",
   "metadata": {},
   "source": [
    "### Instructions:\n",
    "#### “Run” the cells to see the graphs\n",
    "Click “Cell” and select “Run All”.<br> This will import the data and run all the code, so you can see this week's data visualization (scroll to the top after you’ve run the cells).<br> **You don’t need to do any coding**.\n",
    "\n",
    "![instructions](https://github.com/callysto/data-viz-of-the-week/blob/main/images/instructions.png?raw=true)"
   ]
  },
  {
   "cell_type": "markdown",
   "metadata": {},
   "source": [
    "### About The Notebook\n",
    "\n",
    "Callysto's Weekly Data Visualization is a learning resource that aims to develop data literacy skills. We provide grades 5-12 teachers and students with a data visualization, like a graph, to interpret. This companion resource walks learners through how the data visualization is created and interpreted by a data scientist. \n",
    "\n",
    "The steps of the data analysis process are listed below and applied to each weekly topic.\n",
    "\n",
    "1. Question - What are we trying to answer? \n",
    "2. Gather - Find the data source(s) you will need. \n",
    "3. Organize - Arrange the data so that you can easily explore it. \n",
    "4. Explore - Examine the data to look for evidence to answer our question. This includes creating visualizations. \n",
    "5. Interpret - Explain how the evidence answers our question. \n",
    "6. Communicate - Reflect on the interpretation. "
   ]
  },
  {
   "cell_type": "markdown",
   "metadata": {},
   "source": [
    "## 1. Question\n",
    "\n",
    "Have you ever wondered whether you can see evidence of climate change? \n",
    "\n",
    "For instance, since the 1714 invention of the mercury thermometer (by Mr. Farenheit), people have been accurately recording temperature and weather data around the world. \n",
    "\n",
    "Can we use this data to see any trends in the recorded temperatures in various cities?"
   ]
  },
  {
   "cell_type": "markdown",
   "metadata": {},
   "source": [
    "### Goal\n",
    "\n",
    "Our goal is to show the temperature changes over approximately a century using climate data we can access online.\n",
    "\n",
    "We will fit a \"trend line\", also known as a regression line, to quantify change, if any.\n",
    "\n",
    "There are lots of places to find temperature data. We aim to automate the procedure, so we can easily access data for several cities.\n",
    "\n",
    "Our focus will be on Canadian cities."
   ]
  },
  {
   "cell_type": "markdown",
   "metadata": {},
   "source": [
    "## 2. Gather\n",
    "\n",
    "### Code:\n",
    "\n",
    "The code below will import the Python programming libraries we need to gather and organize the data to answer our question."
   ]
  },
  {
   "cell_type": "code",
   "execution_count": null,
   "metadata": {},
   "outputs": [],
   "source": [
    "%pip install -r requirements.txt\n",
    "import pyodide_http\n",
    "pyodide_http.patch_all()\n",
    "\n",
    "import numpy as np\n",
    "import pandas as pd\n",
    "import plotly.express as px\n",
    "import plotly.graph_objects as go\n",
    "import plotly.io as pio"
   ]
  },
  {
   "cell_type": "markdown",
   "metadata": {},
   "source": [
    "### Data:\n",
    "\n",
    "There are several online sources for weather data, including the Environment Canada site:  https://climate.weather.gc.ca/historical_data/search_historic_data_e.html\n",
    "\n",
    "We find it more convenient to access the data from **weatherstats.ca**, which is based on Environment and Climate Change Canada https://edmonton.weatherstats.ca/\n",
    "\n",
    "This is a student-friendly web page. Here, we find the temperature data for several years and can simply cut-and-paste the data into a spreadsheet. It includes data for all the Canadian provincial and territorial capitals, plus Montreal, Toronto, and Vancouver.\n",
    "\n",
    "The data can be downloaded as a spreadsheet or CSV (comma separated values) file, here:\n",
    "\n",
    "https://edmonton.weatherstats.ca/download.html\n",
    "\n",
    "We can select the **Climate Daily** item and set the number of rows to 80,000, in order to get several decades worth of data.\n",
    "\n",
    "For your convenience, we have already downloaded the following files to accompany this notebook:\n",
    "- weatherstats_edmonton_daily.csv\n",
    "- weatherstats_fredericton_daily.csv\n",
    "- weatherstats_toronto_daily.csv\n",
    "- weatherstats_vancouver_daily.csv\n",
    "- weatherstats_yellowknife_daily.csv\n",
    "\n",
    "### Importing the data\n",
    "\n",
    "This next line of code will read the data file and save it in a dataframe named **df**."
   ]
  },
  {
   "cell_type": "code",
   "execution_count": null,
   "metadata": {},
   "outputs": [],
   "source": [
    "## import data\n",
    "df = pd.read_csv('https://github.com/callysto/data-files/raw/main/data-viz-of-the-week/climate-change-temperature/data/weatherstats_edmonton_daily.csv',low_memory=False)\n",
    "df"
   ]
  },
  {
   "cell_type": "markdown",
   "metadata": {},
   "source": [
    "### Comment on the data\n",
    "We see in the above printout that there are over 50,000 rows of data going back to the year 1880, containing information about dates, temperatures, humidex, windchill and more. \n",
    "\n",
    "It is useful to quickly plot some of the data (1000 rows) just to see what the temperature data looks like. The following line of code plots about three years of temperature data. "
   ]
  },
  {
   "cell_type": "code",
   "execution_count": null,
   "metadata": {},
   "outputs": [],
   "source": [
    "px.scatter(df[0:1000],x=\"date\",y=\"avg_temperature\",title=\"Edmonton daily temperature\")"
   ]
  },
  {
   "cell_type": "markdown",
   "metadata": {},
   "source": [
    "### Comments on the plot\n",
    "\n",
    "Notice we see the seasonal variation in the temperature in Edmonton. In the summer months (July), the temperaure goes into the low 20 degrees (Celsius), while in the winter (January) the temperature drops to -20 degrees. "
   ]
  },
  {
   "cell_type": "markdown",
   "metadata": {},
   "source": [
    "## 3. Organize\n",
    "\n",
    "The code below will arrange the data cleanly, so we can analyze it. This is a quality control step for our data and involves examining the data to detect anything odd with the data (e.g., structure and missing values), fixing the oddities, and checking if the fixes worked. "
   ]
  },
  {
   "cell_type": "markdown",
   "metadata": {},
   "source": [
    "First, we add a **relative day** column to indicate how many days have elapsed over the history of the data collection. This will be useful when doing the mathematics for data analysis, since numbers are more useful than text strings indicating a day/month/year. "
   ]
  },
  {
   "cell_type": "code",
   "execution_count": null,
   "metadata": {},
   "outputs": [],
   "source": [
    "df['rel_day']= (pd.to_datetime(df['date'])-pd.to_datetime(df['date'][0])).dt.days"
   ]
  },
  {
   "cell_type": "markdown",
   "metadata": {},
   "source": [
    "Second, we need to remove the rows that have no data in them. For instance, on some days a **NaN** (Not a Number) is recorded because no data was available. For instance, you will find missing data on dates during World War I and World War II, as well as at the earliest dates in the data file.\n",
    "\n",
    "The following line identifies those rows with **NaN** and removes them."
   ]
  },
  {
   "cell_type": "code",
   "execution_count": null,
   "metadata": {},
   "outputs": [],
   "source": [
    "df = df[df['avg_temperature'].isnull() == False]\n",
    "df"
   ]
  },
  {
   "cell_type": "markdown",
   "metadata": {},
   "source": [
    "### Comment on the data\n",
    "\n",
    "We notice now there are only 51,151 rows in the dataframe, when we started with 51,338. So some rows have indeed been removed. "
   ]
  },
  {
   "cell_type": "markdown",
   "metadata": {},
   "source": [
    "## 4. Explore\n",
    "\n",
    "The code below will be used to help us look for evidence to answer our question. This can involve looking at data in table format, applying math and statistics, and creating different types of visualizations to represent our data.\n",
    "\n",
    "In this example, we compute a **best fit** trend line to the data. This line will be in the form\n",
    "$$ y = mx + b$$\n",
    "where $m$ is the slope of the line and $b$ is the y-intercept for the data. The information is returned to us in the form of the two variables m and b."
   ]
  },
  {
   "cell_type": "code",
   "execution_count": null,
   "metadata": {},
   "outputs": [],
   "source": [
    "# data exploration\n",
    "m,b = np.polyfit(df['rel_day'],df['avg_temperature'],1)\n",
    "m,b"
   ]
  },
  {
   "cell_type": "markdown",
   "metadata": {},
   "source": [
    "## 5. Interpret\n",
    "\n",
    "Below we will discuss the results of the data exploration. \n",
    "\n",
    "- Describe what’s happening in the data visualization (graph). What do you notice (e.g. big or small values, or trends)? \n",
    "- How does our key evidence help answer our question?"
   ]
  },
  {
   "cell_type": "markdown",
   "metadata": {},
   "source": [
    "### What does m and b tell us?\n",
    "\n",
    "After all this work, we discovered **m** = 0.000050277 and **b** = 4.485. What does this mean?\n",
    "\n",
    "First, **b** is just a temperature (**b** = 4.485 degrees), telling us the temperature on the trend line at the final day in the record. More interesting is **m**, the slope of the trend line. It is positive, which tells us the temperature is tending to increase. The exact value tells us how much the temperature is increasing **per day**, on average. \n",
    "\n",
    "It is more useful to change this to a number indicating how much the temperature is increasing, per century. We just multiply **m** by the number of days in a year (365.25) and by the number of years in a century (100). "
   ]
  },
  {
   "cell_type": "code",
   "execution_count": null,
   "metadata": {},
   "outputs": [],
   "source": [
    "m*365.25*100"
   ]
  },
  {
   "cell_type": "markdown",
   "metadata": {},
   "source": [
    "### In other words,\n",
    "\n",
    "The temperature is rising by 1.836 degrees Celsius, per century. Based on the Edmonton data. "
   ]
  },
  {
   "cell_type": "markdown",
   "metadata": {},
   "source": [
    "## 5 a) Recap\n",
    "\n",
    "Let's redo the calculation, in one code block.\n"
   ]
  },
  {
   "cell_type": "code",
   "execution_count": null,
   "metadata": {},
   "outputs": [],
   "source": [
    "## 5 lines of code to do it all\n",
    "df = pd.read_csv('https://github.com/callysto/data-files/raw/main/data-viz-of-the-week/climate-change-temperature/data/weatherstats_edmonton_daily.csv',low_memory=False)\n",
    "df['rel_day']= (pd.to_datetime(df['date'])-pd.to_datetime(df['date'][0])).dt.days\n",
    "df = df[df['avg_temperature'].isnull() == False]\n",
    "m,b = np.polyfit(df['rel_day'],df['avg_temperature'],1)\n",
    "print(m*365.25*100,'degrees Celsius rise per century, in Edmonton')"
   ]
  },
  {
   "cell_type": "markdown",
   "metadata": {},
   "source": [
    "## 5 b) Many cities\n",
    "\n",
    "Now that we know how to do the analysis for one city, let's do it for the five cities where we have data. We can do this by writing a loop in Python. \n",
    "\n",
    "We also compare the rise of the max and min temperatures, as well as the average temperature, since we have that data available. It will be a good check for consistency. \n",
    "\n",
    "To be comparable, we use the same length of time for each city. We also want to have the data start and end at the same month of the year, for a robust result. This avoids the problem of starting the data in a cold month, and ending in a hot month, which could skew the results. \n",
    "\n",
    "We will use 75 years of data, or 75x365.25 days to be exact."
   ]
  },
  {
   "cell_type": "code",
   "execution_count": null,
   "metadata": {},
   "outputs": [],
   "source": [
    "for city in ['edmonton','toronto','vancouver','fredericton','yellowknife']:\n",
    "    df = pd.read_csv('https://github.com/callysto/data-files/raw/main/data-viz-of-the-week/climate-change-temperature/data/weatherstats_' + city + '_daily.csv',low_memory=False)\n",
    "    df['rel_day']= (pd.to_datetime(df['date'])-pd.to_datetime(df['date'][0])).dt.days\n",
    "    df = df[0:int(75*365.25)+1]  ## restrict to 75 years\n",
    "    print(city, ' with ', int(df.shape[0]/365.25), ' years of data')\n",
    "    for temp in ['max_temperature','min_temperature','avg_temperature','avg_hourly_temperature']:\n",
    "        df = df[df[temp].isnull() == False]\n",
    "        m,b = np.polyfit(df['rel_day'],df[temp],1)\n",
    "        print(f'    Temperature increase per century {m*365.25*100:.2f} degrees C ({temp})')\n",
    " "
   ]
  },
  {
   "cell_type": "markdown",
   "metadata": {},
   "source": [
    "## Comment on the results above\n",
    "\n",
    "Notice all the cities are showing an increasing trend in temperature. Yellowknife is most extreme (3.5 degrees per century), while Fredericton is least (about 1.0 degrees per century).\n",
    "\n",
    "Climate scientists worry when the temperature increase exceeds 2 degrees. "
   ]
  },
  {
   "cell_type": "markdown",
   "metadata": {},
   "source": [
    "## 5 c) Visualization\n",
    "\n",
    "Let's plot the data and see how it looks compared to the trend line."
   ]
  },
  {
   "cell_type": "code",
   "execution_count": null,
   "metadata": {},
   "outputs": [],
   "source": [
    "x_range = np.linspace(df['rel_day'].max(), df['rel_day'].min(), df.shape[0])\n",
    "y_range = m*x_range + b\n",
    "\n",
    "fig = px.scatter(df, x='date', y=temp, opacity=0.05)\n",
    "fig.add_traces(go.Scatter(x=df['date'], y=y_range, name='Trend Line'))\n",
    "fig.update_layout(title_text=city.capitalize()+f' daily temperature, increasing at {m*365.25*100:.2f} deg/century')\n",
    "fig.show()"
   ]
  },
  {
   "cell_type": "markdown",
   "metadata": {},
   "source": [
    "### Comment on the plot\n",
    "We see the increasing trend over the 75 years of data (1955-2020), although the slope of the line is small.\n",
    "\n",
    "Let's look at the data over five years only."
   ]
  },
  {
   "cell_type": "code",
   "execution_count": null,
   "metadata": {},
   "outputs": [],
   "source": [
    "df = df[0:int(5*365.25)]\n",
    "\n",
    "x_range = np.linspace(df['rel_day'].max(), df['rel_day'].min(), df.shape[0])\n",
    "y_range = m*x_range + b\n",
    "\n",
    "fig = px.scatter(df, x='date', y=temp, opacity=0.25, title=city+f' trend, {m*365.25*100:.2f} deg/century')\n",
    "fig.add_traces(go.Scatter(x=df['date'], y=y_range, name='Trend Line'))\n",
    "fig.update_layout(title_text=city.capitalize()+f' daily temperature, increasing at {m*365.25*100:.2f} deg/century')\n",
    "fig.show()"
   ]
  },
  {
   "cell_type": "markdown",
   "metadata": {},
   "source": [
    "### Comment on the plot\n",
    "\n",
    "We clearly see the seasonal (up/down) variations in the temperature over five years. The trend line does go through the middle of the data. However, it is hard to see much of an increase in the trend, over such a short period."
   ]
  },
  {
   "cell_type": "markdown",
   "metadata": {},
   "source": [
    "## 5 d) A better visualization\n",
    "\n",
    "With the seasonal variations, the temperatures goes up and down a lot. It can be hard to see that a trend line is meaningful.\n",
    "\n",
    "Let's try another analysis and visualization. Instead of plotting daily temperature, let's plot the average **yearly** temperatures. We can find a trend line for these averages, and plot this. \n",
    "\n",
    "The dataframe code allows us to loop through each year of data and compute the average, or mean, temperature for that year. The code is as follows:"
   ]
  },
  {
   "cell_type": "code",
   "execution_count": null,
   "metadata": {},
   "outputs": [],
   "source": [
    "# first we load in the data for one city\n",
    "city = 'yellowknife'\n",
    "temp = 'avg_temperature'\n",
    "\n",
    "df = pd.read_csv('https://github.com/callysto/data-files/raw/main/data-viz-of-the-week/climate-change-temperature/data/weatherstats_' + city + '_daily.csv',low_memory=False)\n",
    "df = df[df[temp].isnull() == False]\n",
    "\n",
    "# Next we compute the mean (average) yearly temperature, for years 1946 to 2020\n",
    "x=[]\n",
    "y=[]\n",
    "for year in range(1946,2021):\n",
    "    x = x + [year]\n",
    "    y = y + [df[df['date'].str.slice(0,4)==str(year)][temp].mean()]\n",
    "\n",
    "# Finally we find the \"trend line\" and then plot the result\n",
    "\n",
    "\n",
    "fig = px.scatter( x=x, y=y, opacity=1)\n",
    "fig.update_xaxes(title_text='Year')\n",
    "fig.update_yaxes(title_text='Annual Average Temp (Degs Celsius)')\n",
    "fig.update_layout(title_text=city.capitalize()+f' daily temperatures')\n",
    "\n",
    "try:\n",
    "    m,b= np.polyfit(x,y,1)\n",
    "    fig.add_traces(go.Scatter(x=x, y=m*np.array(x)+b, name='Trend Line'))\n",
    "    fig.update_layout(title_text=city.capitalize()+f' annual temperature, increasing at {(m*100):.2f} deg/century')\n",
    "except:\n",
    "    print(\"Python could not calculate best fit line.\")\n",
    "\n",
    "\n",
    "fig.show()"
   ]
  },
  {
   "cell_type": "markdown",
   "metadata": {},
   "source": [
    "## Comments on the graph above\n",
    "\n",
    "- Notice the range of temperatures (on the y axis) is much smaller than in earlier graphs. Here, it ranges for -7 to -1 degrees Celsius.\n",
    "\n",
    "- Notice we clearly see an increasing trend in the data points, which the trendline follows quite well. \n",
    "\n",
    "- Notice how the average annual temperatures at 1950 is around -6 degrees, while in the period 2010-2020, it is about -3.5 degrees. So we do see the increase in average temperature. \n"
   ]
  },
  {
   "cell_type": "markdown",
   "metadata": {},
   "source": [
    "## Customization, part one\n",
    "\n",
    "Let's repear the above three plots, letting the code select any one of the cities, (Edmonton, Toronto, etc) and any one of the temperature readings (daily max temp, daily min temp,  daily average, etc); \n",
    "\n",
    "The code below lets you select which city to plot and what type of temperature measure. Easy to adjust this code."
   ]
  },
  {
   "cell_type": "code",
   "execution_count": null,
   "metadata": {},
   "outputs": [],
   "source": [
    "city_list = ['edmonton','toronto','vancouver','fredericton','yellowknife']\n",
    "temp_list = ['max_temperature','min_temperature','avg_temperature','avg_hourly_temperature']\n",
    "\n",
    "city = city_list[0] ## your choice here (0,1,2,3 or 4)\n",
    "temp = temp_list[2] ## your choice here (0,1,2, or 3)\n",
    "\n",
    "df = pd.read_csv('https://github.com/callysto/data-files/raw/main/data-viz-of-the-week/climate-change-temperature/data/weatherstats_' + city + '_daily.csv',low_memory=False)\n",
    "df['rel_day']= (pd.to_datetime(df['date'])-pd.to_datetime(df['date'][0])).dt.days\n",
    "df = df[0:int(75*365.25)+1]  ## restrict to 75 years\n",
    "print(city, ' with ', int(df.shape[0]/365.25), ' years of data')\n",
    "df = df[df[temp].isnull() == False]\n",
    "\n",
    "fig = px.scatter(df, x='date', y=temp, opacity=0.05)\n",
    "fig.update_xaxes(title_text='Year')\n",
    "fig.update_yaxes(title_text=temp + ' (Degs Celsius)')\n",
    "fig.update_layout(title_text=city.capitalize()+f' daily temperatures')\n",
    "\n",
    "try:\n",
    "    m,b = np.polyfit(df['rel_day'],df[temp],1)\n",
    "    x_range = np.linspace(df['rel_day'].max(), df['rel_day'].min(), df.shape[0])\n",
    "    y_range = m*x_range + b\n",
    "    fig.add_traces(go.Scatter(x=df['date'], y=y_range, name='Trend Line'))\n",
    "    fig.update_layout(title_text=city.capitalize()+f' daily temperatures, increasing at {m*365.25*100:.2f} deg/century')\n",
    "except:\n",
    "    print(\"Python could not calculate best fit line.\")\n",
    "\n",
    "fig.show()"
   ]
  },
  {
   "cell_type": "markdown",
   "metadata": {},
   "source": [
    "## Customization, part two\n",
    "\n",
    "Let's do as above, but with five years of data.\n",
    "\n",
    "You can choose which city to plot and what type of temperature measure. Easy to adjust this code."
   ]
  },
  {
   "cell_type": "code",
   "execution_count": null,
   "metadata": {},
   "outputs": [],
   "source": [
    "city_list = ['edmonton','toronto','vancouver','fredericton','yellowknife']\n",
    "temp_list = ['max_temperature','min_temperature','avg_temperature','avg_hourly_temperature']\n",
    "\n",
    "city = city_list[0] ## your choice here (0,1,2,3 or 4)\n",
    "temp = temp_list[2] ## your choice here (0,1,2 or 3)\n",
    "\n",
    "df = pd.read_csv('https://github.com/callysto/data-files/raw/main/data-viz-of-the-week/climate-change-temperature/data/weatherstats_' + city + '_daily.csv',low_memory=False)\n",
    "df['rel_day']= (pd.to_datetime(df['date'])-pd.to_datetime(df['date'][0])).dt.days\n",
    "df = df[0:int(75*365.25)+1]  ## restrict to 75 years\n",
    "print(city, ' with ', int(df.shape[0]/365.25), ' years of data')\n",
    "df = df[df[temp].isnull() == False]\n",
    "m,b = np.polyfit(df['rel_day'],df[temp],1)\n",
    "\n",
    "## Restrict to 5 years of data\n",
    "df = df[0:int(5*365.25)]\n",
    "\n",
    "x_range = np.linspace(df['rel_day'].max(), df['rel_day'].min(), df.shape[0])\n",
    "y_range = m*x_range + b\n",
    "\n",
    "fig = px.scatter(df, x='date', y=temp, opacity=0.25)\n",
    "fig.add_traces(go.Scatter(x=df['date'], y=y_range, name='Trend Line'))\n",
    "fig.update_layout(title_text=city.capitalize()+f' daily temperatures, increasing at {m*365.25*100:.2f} deg/century')\n",
    "fig.update_xaxes(title_text='Year')\n",
    "fig.update_yaxes(title_text=temp + ' (Degs Celsius)')\n",
    "fig.show()"
   ]
  },
  {
   "cell_type": "markdown",
   "metadata": {},
   "source": [
    "## Customization, part three\n",
    "\n",
    "Let's do the average yearly temperatures, for our choice of city and temperature readings. "
   ]
  },
  {
   "cell_type": "code",
   "execution_count": null,
   "metadata": {},
   "outputs": [],
   "source": [
    "city_list = ['edmonton','toronto','vancouver','fredericton','yellowknife']\n",
    "temp_list = ['max_temperature','min_temperature','avg_temperature','avg_hourly_temperature']\n",
    "\n",
    "city = city_list[0] ## your choice here (0,1,2,3 or 4)\n",
    "temp = temp_list[2] ## your choice here (0,1, or 2.  Number 3 might not work for all cities...)\n",
    "\n",
    "df = pd.read_csv('https://github.com/callysto/data-files/raw/main/data-viz-of-the-week/climate-change-temperature/data/weatherstats_' + city + '_daily.csv',low_memory=False)\n",
    "df = df[df[temp].isnull() == False]\n",
    "\n",
    "# Here we compute the mean (average) yearly temperature, for years 1946 to 2020\n",
    "x=[]\n",
    "y=[]\n",
    "for year in range(1946,2021):\n",
    "    x = x + [year]\n",
    "    y = y + [df[df['date'].str.slice(0,4)==str(year)][temp].mean()]\n",
    "\n",
    "\n",
    "fig = px.scatter( x=x, y=y, opacity=1)\n",
    "fig.update_xaxes(title_text='Year')\n",
    "fig.update_yaxes(title_text='Annual Average Temp (Degs Celsius)')\n",
    "fig.update_layout(title_text=city.capitalize()+f' annual temperature')\n",
    "    \n",
    "try:   \n",
    "    # here we find the \"trend line\" and then plot the result\n",
    "    m,b= np.polyfit(x,y,1)\n",
    "    fig.add_traces(go.Scatter(x=x, y=m*np.array(x)+b, name='Trend Line'))\n",
    "    fig.update_layout(title_text=city.capitalize()+f' annual temperature, increasing at {(m*100):.2f} deg/century')\n",
    "except:\n",
    "    print(\"Python could not calculate line of best fit.\")\n",
    "\n",
    "\n",
    "fig.show()"
   ]
  },
  {
   "cell_type": "markdown",
   "metadata": {},
   "source": [
    "## 6. Communicate\n",
    "\n",
    "\n",
    "### Reflect on the interpretation\n",
    "\n",
    "#### Cause and effect\n",
    "\n",
    "What natural phenomena and human activities affect temperature increase?\n",
    "\n",
    "How can temperature increase affect human activities and health?\n",
    "\n",
    "#### Interrelationships\n",
    "\n",
    "What connections exist between cities?\n",
    "\n",
    "#### Ethics\n",
    "\n",
    "How can personal and societal choices impact change?\n",
    "\n",
    "How might temperature increase impact society or the economy?"
   ]
  },
  {
   "cell_type": "markdown",
   "metadata": {},
   "source": [
    "[![Callysto.ca License](https://github.com/callysto/curriculum-notebooks/blob/master/callysto-notebook-banner-bottom.jpg?raw=true)](https://github.com/callysto/curriculum-notebooks/blob/master/LICENSE.md)"
   ]
  }
 ],
 "metadata": {
  "kernelspec": {
   "display_name": "Python 3 (ipykernel)",
   "language": "python",
   "name": "python3"
  },
  "language_info": {
   "codemirror_mode": {
    "name": "ipython",
    "version": 3
   },
   "file_extension": ".py",
   "mimetype": "text/x-python",
   "name": "python",
   "nbconvert_exporter": "python",
   "pygments_lexer": "ipython3",
   "version": "3.9.12"
  }
 },
 "nbformat": 4,
 "nbformat_minor": 4
}
