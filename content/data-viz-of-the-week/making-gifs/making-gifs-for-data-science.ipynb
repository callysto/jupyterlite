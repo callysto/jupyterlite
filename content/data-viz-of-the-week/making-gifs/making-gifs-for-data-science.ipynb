{
 "cells": [
  {
   "cell_type": "markdown",
   "metadata": {},
   "source": [
    "![Callysto.ca Banner](https://github.com/callysto/curriculum-notebooks/blob/master/callysto-notebook-banner-top.jpg?raw=true)"
   ]
  },
  {
   "cell_type": "markdown",
   "metadata": {},
   "source": [
    "# Callysto’s Weekly Data Visualization\n",
    "\n",
    "## Making GIFS for Data Science\n",
    "\n",
    "### Recommended Grade levels: 6-12\n",
    "\n",
    "One of the challenges in Data Science is communicating the results in an interesting and dynamic way.\n",
    "\n",
    "This notebook explores how to create an animated GIF with data:\n",
    "\n",
    "<div align=\"center\">\n",
    "<td><img src=\"images/interest_nice.gif\" width=400></td>\n",
    "</div>\n",
    "<br>"
   ]
  },
  {
   "cell_type": "markdown",
   "metadata": {},
   "source": [
    "### Instructions\n",
    "#### “Run” the cells to see the graphs\n",
    "Click “Cell” and select “Run All”.<br> This will import the data and run all the code, so you can see this week's data visualization. Scroll to the top after you’ve run the cells.<br> \n",
    "\n",
    "![instructions](https://github.com/callysto/data-viz-of-the-week/blob/main/images/instructions.png?raw=true)\n",
    "\n",
    "**You don’t need to do any coding to view the visualizations**.\n",
    "The animated GIFs generated in this notebook are live. You can view them and download them to use wherever you like. The code is here for you to modify and make your own GIFs. \n",
    "\n",
    "Email contact@callysto.ca if you experience issues."
   ]
  },
  {
   "cell_type": "markdown",
   "metadata": {},
   "source": [
    "### About this Notebook\n",
    "\n",
    "Callysto's Weekly Data Visualization is a learning resource that aims to develop data literacy skills. We provide Grades 5-12 teachers and students with a data visualization, like a graph, to interpret. This companion resource walks learners through how the data visualization is created and interpreted by a data scientist. \n",
    "\n",
    "The steps of the data analysis process are listed below and applied to each weekly topic.\n",
    "\n",
    "1. Question - What are we trying to answer? \n",
    "2. Gather - Find the data source(s) you will need. \n",
    "3. Organize - Arrange the data, so that you can easily explore it. \n",
    "4. Explore - Examine the data to look for evidence to answer the question. This includes creating visualizations. \n",
    "5. Interpret - Describe what's happening in the data visualization. \n",
    "6. Communicate - Explain how the evidence answers the question. "
   ]
  },
  {
   "cell_type": "markdown",
   "metadata": {},
   "source": [
    "# Question\n",
    "\n",
    "How can we animate data from a data science project to get a visually appealing, live graphic?\n",
    "\n",
    "### Goal\n",
    "\n",
    "We will show how to create some GIFs that animate the plot of some data. \n",
    "We could use whatever data we like. For this example we will use interest rates, as this is a hot topic in the news recently.\n"
   ]
  },
  {
   "cell_type": "markdown",
   "metadata": {},
   "source": [
    "# Background\n",
    "\n",
    "## What is a GIF?\n",
    "\n",
    "A GIF (Graphics Interchange Format) is a file containing a list of images that get displayed in sequence to create a simple animation. For instance, here we have a bunch of ellipses on a box, that we can assemble into a single GIF:\n",
    "\n",
    "<div align=\"center\">\n",
    "    <b> The set of images in the GIF. </b>    \n",
    "<td><img src=\"images/boxes.gif\" width=150></td>\n",
    "</div>\n",
    "\n",
    "<div align=\"center\">\n",
    "    <b> The assembled GIF, as it appears live. </b>    \n",
    "<td><img src=\"images/box.gif\" width=100></td>\n",
    "</div>\n",
    "\n",
    "Our code simply plots the data and organizes it into a list of images for the GIF."
   ]
  },
  {
   "cell_type": "markdown",
   "metadata": {},
   "source": [
    "# Gather\n",
    "\n",
    "### Code:\n",
    "The code below will import the Python programming libraries we need to gather and organize the data to answer our question."
   ]
  },
  {
   "cell_type": "code",
   "execution_count": null,
   "metadata": {},
   "outputs": [],
   "source": [
    "## import libraries\n",
    "%pip install -r requirements.txt\n",
    "import pyodide_http\n",
    "pyodide_http.patch_all()\n",
    "import pandas as pd\n",
    "import matplotlib.pyplot as plt\n",
    "import io\n",
    "from PIL import Image, ImageDraw"
   ]
  },
  {
   "cell_type": "markdown",
   "metadata": {},
   "source": [
    "### Data:\n",
    "\n",
    "We went online to grab data about interest rates in Canada. There are many sources, such as this one:\n",
    "\n",
    "https://wowa.ca/bank-of-canada-interest-rate\n",
    "\n",
    "We downloaded a csv file from this website and saved it here for the notebook. \n"
   ]
  },
  {
   "cell_type": "markdown",
   "metadata": {},
   "source": [
    "### Import the data"
   ]
  },
  {
   "cell_type": "code",
   "execution_count": null,
   "metadata": {},
   "outputs": [],
   "source": [
    "## import data\n",
    "df = pd.read_csv('data/BankofCanadaRateHistory.csv') "
   ]
  },
  {
   "cell_type": "markdown",
   "metadata": {},
   "source": [
    "### Comment on the data\n",
    "\n",
    "Let's take a quick look at the data, and plot the key variables."
   ]
  },
  {
   "cell_type": "code",
   "execution_count": null,
   "metadata": {},
   "outputs": [],
   "source": [
    "df"
   ]
  },
  {
   "attachments": {},
   "cell_type": "markdown",
   "metadata": {},
   "source": [
    "We see 358 rows of data, with two columns for the Date and the Interest Rate. Let's plot it. "
   ]
  },
  {
   "cell_type": "code",
   "execution_count": null,
   "metadata": {},
   "outputs": [],
   "source": [
    "df.plot(x = \"Date\", y=\"Bank of Canada Target Overnight Rate\");"
   ]
  },
  {
   "cell_type": "markdown",
   "metadata": {},
   "source": [
    "The plot is messy. Let's fix this up."
   ]
  },
  {
   "cell_type": "markdown",
   "metadata": {},
   "source": [
    "# Organize\n",
    "\n",
    "The code below will arrange the data cleanly so that we can do analysis on it. This is a quality control step for our data and involves examining the data to detect anything odd with the data (e.g. structure, missing values), fixing the oddities, and checking if the fixes worked. \n",
    "\n",
    "We will rename one column to the shorter title \"Rate\" and change the \"Date\" into the more useful date-time format. Also, we will focus on just the last 50 data points for our GIF. "
   ]
  },
  {
   "cell_type": "code",
   "execution_count": null,
   "metadata": {},
   "outputs": [],
   "source": [
    "# data cleaning, to create the clean dataframe dfc\n",
    "dfc = df.rename(columns={'Bank of Canada Target Overnight Rate': 'Rate'})\n",
    "dfc['Date'] = pd.to_datetime(dfc['Date'], format='%d %b %Y' )\n",
    "dfc = dfc.iloc[-50:]\n",
    "dfc.reset_index(drop=True,inplace=True)\n",
    "f'Shape is now {dfc.shape}', dfc.head()"
   ]
  },
  {
   "cell_type": "markdown",
   "metadata": {},
   "source": [
    "### Comment on the data\n",
    "\n",
    "We see now the \"Date\" is in a standard format for plotting, \"Rate\" is a shorter column title, and we just have 50 rows of data. "
   ]
  },
  {
   "cell_type": "markdown",
   "metadata": {},
   "source": [
    "# Explore\n",
    "\n",
    "The code below will be used to help us find a way to create an interesting GIF. \n",
    "\n",
    "The first step is to create a function that will plot a portion of the information in the data frame. The figure is saved, and ready to be added to a GIF"
   ]
  },
  {
   "cell_type": "code",
   "execution_count": null,
   "metadata": {},
   "outputs": [],
   "source": [
    "# data exploration - plotting a piece of the graph\n",
    "\n",
    "def frame_plot(df, i):\n",
    "    df = df.copy()\n",
    "    df.loc[i:len(df)-2,'Rate'] = None\n",
    "    ax = df.plot(x = \"Date\", y=\"Rate\",\n",
    "        title=\"Bank of Canada Overnight Interest Rate\", legend=False, style=\"o--\")\n",
    "    ax.set_xlabel(\"Year\")\n",
    "    ax.set_ylabel(\"Rate (%)\")\n",
    "    plt.close()\n",
    "    buf = io.BytesIO()\n",
    "    buf.seek(0)\n",
    "    ax.figure.savefig(buf)\n",
    "    return Image.open(buf)\n"
   ]
  },
  {
   "cell_type": "markdown",
   "metadata": {},
   "source": [
    "### Viewing the plot\n",
    "\n",
    "Let's test this code to see what the single frame looks like. \n",
    "\n",
    "This is also a good place to make adjustments in the \"frame_plot\" code above, to get the figure to look exactly how you like it. "
   ]
  },
  {
   "cell_type": "code",
   "execution_count": null,
   "metadata": {},
   "outputs": [],
   "source": [
    "plt.style.use(\"default\")\n",
    "frame_plot(dfc,3)"
   ]
  },
  {
   "cell_type": "markdown",
   "metadata": {},
   "source": [
    "### Creating the GIF file\n",
    "\n",
    "We make a list of frames from the above plots, and save in the GIF format."
   ]
  },
  {
   "cell_type": "code",
   "execution_count": null,
   "metadata": {},
   "outputs": [],
   "source": [
    "frames = []\n",
    "for i in range(1, len(dfc)):\n",
    "    frames.append(frame_plot(dfc, i))\n",
    "\n",
    "frames.append(frames[-1])\n",
    "frames.append(frames[-1])\n",
    "frames.append(frames[-1])\n",
    "    \n",
    "frame_one = frames[0]\n",
    "frame_one.save(\"interest.gif\", format=\"GIF\", append_images=frames[1:],\n",
    "                   save_all=True, duration=200, loop=0)"
   ]
  },
  {
   "cell_type": "markdown",
   "metadata": {},
   "source": [
    "### Displaying the GIF\n",
    "\n",
    "To display the GIF, we enter a line in Markdown like this:\n",
    "\n",
    "```\n",
    "<img src=\"interest.gif\">\n",
    "```\n",
    "The result looks like this:\n",
    "<div align=\"center\">\n",
    "<td><img src=\"interest.gif\"></td>\n",
    "</div>\n",
    "\n",
    "\n",
    "You can adjust the size as well.\n",
    "```\n",
    "<img src=\"interest.gif\" width=400>\n",
    "```\n",
    "<div align=\"center\">\n",
    "<td><img src=\"interest.gif\" width=400></td>\n",
    "</div>\n",
    "\n",
    "We can also look on the Jupyter Hub directory and see the new file \"interest.gif\" This is a file for download to use for yourself or send to your friends. "
   ]
  },
  {
   "cell_type": "markdown",
   "metadata": {},
   "source": [
    "### Making it nice\n",
    "\n",
    "Use a different plotting style to make a nicer GIF. Here is an example with the \"ggplot\" style.\n",
    "\n",
    "Can you use this to make a nicer GIF yourself? Can you try other plotting styles?"
   ]
  },
  {
   "cell_type": "code",
   "execution_count": null,
   "metadata": {},
   "outputs": [],
   "source": [
    "plt.style.use(\"ggplot\")\n",
    "frame_plot(dfc,3)"
   ]
  },
  {
   "cell_type": "markdown",
   "metadata": {},
   "source": [
    "### Displaying the nicer GIF\n",
    "\n",
    "Use Markdown to load in the file and display. \n",
    "\n",
    "<div align=\"center\">\n",
    "<td><img src=\"images/interest_nice.gif\" width=400></td>\n",
    "</div>\n"
   ]
  },
  {
   "attachments": {},
   "cell_type": "markdown",
   "metadata": {},
   "source": [
    "# Interpret\n",
    "\n",
    "What do you notice about the graphs in the GIF? For instance:\n",
    "- The rate spikes up in 2022, and people are concerned. On what other dates did rates spike?\n",
    "- Can you read up on why rates are spiking now? Why did they spike 15 years go?\n",
    "- There seems to be a data gap in the period 2010-2015. Why? Is this a problem with our code, or a problem with our data source?\n",
    "- Why didn't our very first graph in the notebook show this data gap?\n",
    "- Does the animation help to see how the rise in interest rates look dramatic?\n"
   ]
  },
  {
   "cell_type": "markdown",
   "metadata": {},
   "source": [
    "# Communicate\n",
    "\n",
    "We have the GIFs now. How can we use them? \n",
    "- Can you grab the GIF file and put it into another document?\n",
    "- Can you email this GIF to a friend?\n",
    "- Can you create another GIF with different data that is interesting to you?\n",
    "- Can you uncover information about the data that is more obvious in a GIF?"
   ]
  },
  {
   "cell_type": "markdown",
   "metadata": {},
   "source": [
    "# Just for fun\n",
    "\n",
    "This method works for creating all kinds of GIFs. For instance, here is a Callysto icon turned into a GIF.\n",
    "\n",
    "<div align=\"center\">\n",
    "<td><img src=\"images/logo.gif\" width=200></td>\n",
    "</div>\n",
    "\n",
    "The code to create it is here. "
   ]
  },
  {
   "cell_type": "code",
   "execution_count": null,
   "metadata": {},
   "outputs": [],
   "source": [
    "# get the Callysto icon as an image\n",
    "cal_im = Image.open(\"images/Callysto.png\")\n",
    "\n",
    "# a function to place an image on a white background at a specific location\n",
    "def place_image(im, x, y):\n",
    "    image = Image.new(\"RGB\", (400, 400), \"white\")\n",
    "    im_resized = im.resize((200,200))\n",
    "    image.paste(im_resized, (100+x, 100+y))\n",
    "    return image\n",
    "\n",
    "# create the frames and save\n",
    "frames = []\n",
    "x,y = 0,0\n",
    "for number in range(10):\n",
    "    frames.append(place_image(cal_im,x,y))\n",
    "    x += 5\n",
    "    y += 5\n",
    "for number in range(10):\n",
    "    frames.append(place_image(cal_im,x,y))\n",
    "    x -= 5\n",
    "    y -= 5\n",
    "        \n",
    "frame_one = frames[0]\n",
    "frame_one.save(\"logo.gif\", format=\"GIF\", append_images=frames[1:],\n",
    "                   save_all=True, duration=100, loop=0)"
   ]
  },
  {
   "cell_type": "markdown",
   "metadata": {},
   "source": [
    "And we display it like this:\n",
    "\n",
    "```\n",
    "<img src=\"logo.gif\" width=200>\n",
    "```\n",
    "<div align=\"center\">\n",
    "<td><img src=\"logo.gif\" width=200></td>\n",
    "</div>\n"
   ]
  },
  {
   "cell_type": "markdown",
   "metadata": {},
   "source": [
    "[![Callysto.ca License](https://github.com/callysto/curriculum-notebooks/blob/master/callysto-notebook-banner-bottom.jpg?raw=true)](https://github.com/callysto/curriculum-notebooks/blob/master/LICENSE.md)"
   ]
  }
 ],
 "metadata": {
  "kernelspec": {
   "display_name": "Python 3 (ipykernel)",
   "language": "python",
   "name": "python3"
  },
  "language_info": {
   "codemirror_mode": {
    "name": "ipython",
    "version": 3
   },
   "file_extension": ".py",
   "mimetype": "text/x-python",
   "name": "python",
   "nbconvert_exporter": "python",
   "pygments_lexer": "ipython3",
   "version": "3.9.13"
  }
 },
 "nbformat": 4,
 "nbformat_minor": 4
}
