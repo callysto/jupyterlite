{
 "cells": [
  {
   "cell_type": "markdown",
   "metadata": {},
   "source": [
    "![Callysto.ca Banner](https://github.com/callysto/curriculum-notebooks/blob/master/callysto-notebook-banner-top.jpg?raw=true)\n",
    "\n",
    "<a href=\"https://hub.callysto.ca/jupyter/hub/user-redirect/git-pull?repo=https%3A%2F%2Fgithub.com%2Fcallysto%2Fdata-viz-of-the-week&branch=main&urlpath=notebooks/data-viz-of-the-week/remembrance-day-piechart-bargraph/remembrance-day.ipynb&depth=1\" target=\"_parent\"><img src=\"https://raw.githubusercontent.com/callysto/curriculum-notebooks/master/open-in-callysto-button.svg?sanitize=true\" width=\"123\" height=\"24\" alt=\"Open in Callysto\"></a>"
   ]
  },
  {
   "cell_type": "markdown",
   "metadata": {},
   "source": [
    "# Callysto's Weekly Data Visualization \n",
    "\n",
    "## The Cost of the First World War\n",
    "\n",
    "\n",
    "### Recommended grade level: 6-12\n",
    "Callysto's Weekly Data Visualization is a learning resource that helps Grades 5-12 teachers and students grow and develop data literacy skills. We do this by providing a data visualization, like a graph, and asking teachers and students to interpret it. This companion resource walks learners through how the data visualization is created and interpreted using the data science process. The steps of this process are listed below and applied to each weekly topic.\n",
    "\n",
    "1. **Question** - What are we trying to answer?\n",
    "2. **Gather** - Find the data source(s) you will need.\n",
    "3. **Organize** - Arrange the data so that you can easily explore it.\n",
    "4. **Explore** - Examine the data to look for evidence to answer our question. This includes creating visualizations. \n",
    "5. **Interpret** - Explain how the evidence answers our question.\n",
    "6. **Communicate** - Reflect on the interpretation.\n",
    "\n"
   ]
  },
  {
   "cell_type": "markdown",
   "metadata": {},
   "source": [
    "### 1. Question\n",
    "\n",
    "World War I (WWI) was a major turning point in Canadian history and had an immense cost in human life. \n",
    "\n",
    "There are many questions we can ask about this war. These include:\n",
    "- How many, and what type of casualties (injuries or deaths) did Canada sustain?\n",
    "- How many Canadians enlisted and how many of those served?\n"
   ]
  },
  {
   "cell_type": "markdown",
   "metadata": {},
   "source": [
    "### 2. Gather\n",
    "\n",
    "The code below will import the Python programming libraries, a software function that helps us  gather and organize the data to answer our questions. The data was sourced from the [Canadian War Museum](https://www.warmuseum.ca/firstworldwar/history/after-the-war/legacy/the-cost-of-canadas-war) on November 4, 2020."
   ]
  },
  {
   "cell_type": "code",
   "execution_count": null,
   "metadata": {},
   "outputs": [],
   "source": [
    "# Import libraries\n",
    "%pip install -r requirements.txt\n",
    "import pyodide_http\n",
    "pyodide_http.patch_all()\n",
    "import plotly.express as px # the plotly library will be used to make our visualizations\n",
    "\n",
    "# Copy data from The Canadian War Museum\n",
    "enlisted = 619636\n",
    "served = 424000\n",
    "wounded = 172000\n",
    "died = 59544"
   ]
  },
  {
   "cell_type": "markdown",
   "metadata": {},
   "source": [
    "### 3. Organize \n",
    "Since the data from the [Canadian War Museum](https://www.warmuseum.ca/firstworldwar/history/after-the-war/legacy/the-cost-of-canadas-war) is already organized we don't need to take any steps to clean or organize it. \n",
    "\n",
    "### 4. Explore\n",
    "\n",
    "The code below will be used to create a pie chart to answer the question, “*how many, and what type of casualties did Canada sustain during WWI?*”"
   ]
  },
  {
   "cell_type": "code",
   "execution_count": null,
   "metadata": {},
   "outputs": [],
   "source": [
    "# Code to create a pie chart showing percentages of soldiers wounded, killed or not wounded in WWI\n",
    "labels = ['died', 'wounded', 'not wounded']\n",
    "values = [died, wounded, served-(died+wounded)]\n",
    "fig = px.pie(names=labels, values=values, title='Canadian Soldiers Who Served Overseas in World War I')\n",
    "fig.update_traces(text=values,\n",
    "    marker=dict(colors=['#002432', '#DB3844', '#9da7fc'],line={'color':'#000000','width':2}))\n",
    "fig.show()"
   ]
  },
  {
   "cell_type": "markdown",
   "metadata": {},
   "source": [
    "Pie charts display different types of categories that contribute to the whole. Looking at Canadian soldiers who served overseas, the pie chart breaks that down into three categories:\n",
    "- Soldiers who died\n",
    "- Soldiers who were injured\n",
    "- Soldiers who didn't sustain injuries\n",
    "\n",
    "Next, we’ll use the code below to create a bar chart to answer the question, \"*how many Canadians enlisted and served?*\"."
   ]
  },
  {
   "cell_type": "code",
   "execution_count": null,
   "metadata": {},
   "outputs": [],
   "source": [
    "# code to create a bar chart of enlisted and served WWI soldiers using the data gathered above\n",
    "px.bar(x=['enlisted','served'], y=[enlisted, served], title='Canadian Soldiers in World War I',\n",
    "       color=['enlisted', 'served'], \n",
    "       labels=dict(x='Category', y='Number of Soldiers', color='categories:'))"
   ]
  },
  {
   "cell_type": "markdown",
   "metadata": {},
   "source": [
    "Bar Charts are used to compare quantities of different categories. This bar chart shows the quantity of Canadians who enlisted and and served overseas in WWI. Unlike pie charts, however, the categories can have overlap, so in this case, every Canadian who served also enlisted."
   ]
  },
  {
   "cell_type": "markdown",
   "metadata": {},
   "source": [
    "### Interpret\n",
    "#### Answering our questions\n",
    "\n",
    "Before we answer our specific questions, think about the questions below. They’ll help you think critically about the data in the bar graph and pie chart.\n",
    "\n",
    "- Where did the data come from? \n",
    "- How was the data gathered?\n",
    "- What trends do you notice about the pie chart?\n",
    "- What trends do you notice about the bar graph?\n",
    "\n",
    "\n",
    "##### How many, and what type of casualties (injuries or deaths) did Canada sustain?\n",
    "\n",
    "The pie chart shows:\n",
    "- 192,456 soldiers were not casualties;\n",
    "- 59,544 soldiers died; and\n",
    "- 172,000 soldiers were wounded.\n",
    "\n",
    "The pie chart also shows the ratios. The segments for casualties, those that were wounded or died, is larger than the segment for the soldiers who sustained no injuries. It shows that approximately 55% of soldiers were casualties and only 45% sustained no injuries.\n",
    "\n",
    "##### How many Canadians enlisted and how many of those served?\n",
    "\n",
    "The bar chart shows: \n",
    "- 424,000 Canadian soldiers served overseas in WWI; and\n",
    "- 619,636 Canadian soldiers enlisted in WWI.\n",
    "\n",
    "The difference in height between the two bars or the difference in the two numbers is how many soldiers enlisted but did not serve overseas. This number is $195,636 = 619,636 -424,000$.\n"
   ]
  },
  {
   "cell_type": "markdown",
   "metadata": {},
   "source": [
    "### 6. Communicate\n",
    "\n",
    "Below are some writing prompts to help you reflect on the new information that is presented from the data. When we look at the evidence, think about what you perceive about the information. Is this perception based on what the evidence shows? If others were to view it, what perceptions might they have?\n",
    "\n",
    "- \"I used to think ____________________but now I know____________________.\"\n",
    "- \"I wish I knew more about ____________________.\"\n",
    "- \"These data visualizations reminds me of ____________________.\"\n",
    "- \"I really like ____________________.\"\n"
   ]
  },
  {
   "cell_type": "markdown",
   "metadata": {},
   "source": [
    "[![Callysto.ca License](https://github.com/callysto/curriculum-notebooks/blob/master/callysto-notebook-banner-bottom.jpg?raw=true)](https://github.com/callysto/curriculum-notebooks/blob/master/LICENSE.md)"
   ]
  }
 ],
 "metadata": {
  "kernelspec": {
   "display_name": "Python 3 (ipykernel)",
   "language": "python",
   "name": "python3"
  },
  "language_info": {
   "codemirror_mode": {
    "name": "ipython",
    "version": 3
   },
   "file_extension": ".py",
   "mimetype": "text/x-python",
   "name": "python",
   "nbconvert_exporter": "python",
   "pygments_lexer": "ipython3",
   "version": "3.9.12"
  }
 },
 "nbformat": 4,
 "nbformat_minor": 4
}
