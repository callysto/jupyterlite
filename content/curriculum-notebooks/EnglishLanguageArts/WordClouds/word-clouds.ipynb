{
 "cells": [
  {
   "cell_type": "markdown",
   "metadata": {},
   "source": [
    "![Callysto.ca Banner](https://github.com/callysto/curriculum-notebooks/blob/master/callysto-notebook-banner-top.jpg?raw=true)\n",
    "\n",
    "<a href=\"https://hub.callysto.ca/jupyter/hub/user-redirect/git-pull?repo=https%3A%2F%2Fgithub.com%2Fcallysto%2Fcurriculum-notebooks&branch=master&subPath=EnglishLanguageArts/WordClouds/word-clouds.ipynb&depth=1\" target=\"_parent\"><img src=\"https://raw.githubusercontent.com/callysto/curriculum-notebooks/master/open-in-callysto-button.svg?sanitize=true\" width=\"123\" height=\"24\" alt=\"Open in Callysto\"/></a>"
   ]
  },
  {
   "cell_type": "markdown",
   "metadata": {},
   "source": [
    "# Word Clouds\n",
    "\n",
    "We can use Python code to visualize word frequencies in text by generating [word clouds](https://en.wikipedia.org/wiki/Tag_cloud). We can even create these in custom shapes using [image masks](https://en.wikipedia.org/wiki/Mask_(computing)#Image_masks).\n",
    "\n",
    "## Creating Word Clouds\n",
    "\n",
    "Find some online text from a site such as [Project Gutenberg](http://www.gutenberg.org) and a silhouette image from a site such as [Public Domain Vectors](https://publicdomainvectors.org/en/search/silhouette). Paste the links into the code below, then click the `►Run` button above."
   ]
  },
  {
   "cell_type": "code",
   "execution_count": null,
   "metadata": {},
   "outputs": [],
   "source": [
    "%pip install -q pyodide_http plotly nbformat requests shutil wordcloud\n",
    "import pyodide_http\n",
    "pyodide_http.patch_all()\n",
    "text_url = 'http://www.gutenberg.org/files/1661/1661-0.txt'\n",
    "image_url = 'https://publicdomainvectors.org/photos/sherlock-holmes.png'\n",
    "\n",
    "\n",
    "#import required libraries\n",
    "import requests\n",
    "import shutil\n",
    "try:\n",
    "    from wordcloud import WordCloud, STOPWORDS\n",
    "except:\n",
    "    !pip install wordcloud\n",
    "    from wordcloud import WordCloud, STOPWORDS\n",
    "from PIL import Image as pil_image\n",
    "import numpy as np\n",
    "from IPython.display import Image\n",
    "# download the text\n",
    "text = requests.get(text_url).text\n",
    "# download the image file\n",
    "r = requests.get(image_url, stream=True)\n",
    "with open('image.png', 'wb') as out_file:\n",
    "    shutil.copyfileobj(r.raw, out_file)\n",
    "# if there is a transparent background, replace it with white\n",
    "image = pil_image.open('image.png').convert('RGBA')\n",
    "white_background = pil_image.new('RGBA', image.size, (255,255,255))\n",
    "composite = pil_image.alpha_composite(white_background, image)\n",
    "image.close()\n",
    "composite.save('image.png', 'PNG')\n",
    "image = pil_image.open('image.png')\n",
    "print('Ready to generate word cloud image.')"
   ]
  },
  {
   "cell_type": "markdown",
   "metadata": {},
   "source": [
    "Now that everything is ready for us to generate a word cloud image, `►Run` the following code cell.\n",
    "\n",
    "Each time you run the cell it will generate a new image, try changing some of the [options](http://amueller.github.io/word_cloud/generated/wordcloud.WordCloud.html) in the code then re-running it to see what happens."
   ]
  },
  {
   "cell_type": "code",
   "execution_count": null,
   "metadata": {},
   "outputs": [],
   "source": [
    "# filter out common words\n",
    "stopwords = set(STOPWORDS)\n",
    "stopwords.add('said')\n",
    "# set up some options\n",
    "max_font_size = 50\n",
    "background_color = 'white'\n",
    "border_size = 0\n",
    "border_color = 'yellow'\n",
    "colormap = 'rainbow' #'spring','summer','autumn','winter','cool','hot','viridis','inferno','magma','cividis','Spectral','Greys'\n",
    "scale = 1.5\n",
    "# create the wordcloud\n",
    "custom_mask = np.array(image)\n",
    "wc = WordCloud(stopwords=stopwords, mask=custom_mask, max_font_size=max_font_size, background_color=background_color, contour_width=border_size, contour_color=border_color, colormap=colormap, scale=scale)\n",
    "wc.generate(text)\n",
    "# save the wordcloud as an image and display it\n",
    "wc.to_file('wordcloud.png')\n",
    "Image(filename='wordcloud.png')"
   ]
  },
  {
   "cell_type": "markdown",
   "metadata": {},
   "source": [
    "To download the resulting image, you can right-click and copy or save the image.\n",
    "\n",
    "`►Run` the following code cell to list all of the possible [colormaps](https://matplotlib.org/tutorials/colors/colormaps.html) you can choose. To try one of these, modify the variable `colormap = 'rainbow'` to be `colormap = 'cool'` or `colormap = 'viridis'` and re-run the above code cell."
   ]
  },
  {
   "cell_type": "code",
   "execution_count": null,
   "metadata": {},
   "outputs": [],
   "source": [
    "import matplotlib\n",
    "matplotlib.pyplot.colormaps()"
   ]
  },
  {
   "cell_type": "markdown",
   "metadata": {},
   "source": [
    "[![Callysto.ca License](https://github.com/callysto/curriculum-notebooks/blob/master/callysto-notebook-banner-bottom.jpg?raw=true)](https://github.com/callysto/curriculum-notebooks/blob/master/LICENSE.md)"
   ]
  }
 ],
 "metadata": {
  "kernelspec": {
   "display_name": "Python 3",
   "language": "python",
   "name": "python3"
  },
  "language_info": {
   "codemirror_mode": {
    "name": "ipython",
    "version": 3
   },
   "file_extension": ".py",
   "mimetype": "text/x-python",
   "name": "python",
   "nbconvert_exporter": "python",
   "pygments_lexer": "ipython3",
   "version": "3.7.6"
  }
 },
 "nbformat": 4,
 "nbformat_minor": 4
}
