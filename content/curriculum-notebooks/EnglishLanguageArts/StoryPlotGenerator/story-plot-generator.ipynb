{
 "cells": [
  {
   "cell_type": "markdown",
   "metadata": {},
   "source": [
    "![Callysto.ca Banner](https://github.com/callysto/curriculum-notebooks/blob/master/callysto-notebook-banner-top.jpg?raw=true)\n",
    "\n",
    "<a href=\"https://hub.callysto.ca/jupyter/hub/user-redirect/git-pull?repo=https%3A%2F%2Fgithub.com%2Fcallysto%2Fcurriculum-notebooks&branch=master&subPath=EnglishLanguageArts/StoryPlotGenerator/story-plot-generator.ipynb&depth=1\" target=\"_parent\"><img src=\"https://raw.githubusercontent.com/callysto/curriculum-notebooks/master/open-in-callysto-button.svg?sanitize=true\" width=\"123\" height=\"24\" alt=\"Open in Callysto\"/></a>"
   ]
  },
  {
   "cell_type": "markdown",
   "metadata": {},
   "source": [
    "# Story Plot Generator\n",
    "\n",
    "Click on the cell below then click the `▶Run` button above to generate a story plot idea.\n",
    "\n",
    "You can also edit the lists to add or remove items. Make sure each item is in `'`quotes`'` and has a comma after it.\n",
    "\n",
    "Every time you `▶Run` the cell it will generate a new story plot idea for you."
   ]
  },
  {
   "cell_type": "code",
   "execution_count": null,
   "metadata": {},
   "outputs": [],
   "source": [
    "%pip install -r requirements.txt\n",
    "import pyodide_http\n",
    "pyodide_http.patch_all()\n",
    "\n",
    "genre = [\n",
    "    'science fiction',\n",
    "    'fantasy',\n",
    "    'mystery',\n",
    "    'drama',\n",
    "    'comedy',\n",
    "    'action',]\n",
    "\n",
    "protagonist = [\n",
    "    'teacher',\n",
    "    'painter',\n",
    "    'zookeeper',\n",
    "    'inventor',\n",
    "    'doctor',\n",
    "    'author',\n",
    "    'truck driver',\n",
    "    'cashier',]\n",
    "\n",
    "adjective = [\n",
    "    'happy',\n",
    "    'tall',\n",
    "    'funny',\n",
    "    'young',\n",
    "    'clumsy',\n",
    "    'friendly',\n",
    "    'honest',\n",
    "    'frightened',]\n",
    "\n",
    "location = [\n",
    "    'in the desert',\n",
    "    'on the moon',\n",
    "    'in a forest',\n",
    "    'in an office building',\n",
    "    'under water',\n",
    "    'on an island',\n",
    "    'at an elementary school',\n",
    "    'in a church',\n",
    "    'at the beach',\n",
    "    'on an airplane',]\n",
    "\n",
    "activity = [\n",
    "    'teaching kindergarten',\n",
    "    'saving the world',\n",
    "    'competing in a reality TV show',\n",
    "    'playing in a rock band',\n",
    "    'discovering buried treasure',\n",
    "    'developing super powers',\n",
    "    'rescuing lost puppies',\n",
    "    'becoming the mayor',]\n",
    "\n",
    "from random import choice\n",
    "print('A',choice(genre),'story about a',choice(adjective),choice(protagonist),choice(location),choice(activity)+'.')"
   ]
  },
  {
   "cell_type": "markdown",
   "metadata": {},
   "source": [
    "[![Callysto.ca License](https://github.com/callysto/curriculum-notebooks/blob/master/callysto-notebook-banner-bottom.jpg?raw=true)](https://github.com/callysto/curriculum-notebooks/blob/master/LICENSE.md)"
   ]
  }
 ],
 "metadata": {
  "kernelspec": {
   "display_name": "Python 3",
   "language": "python",
   "name": "python3"
  },
  "language_info": {
   "codemirror_mode": {
    "name": "ipython",
    "version": 3
   },
   "file_extension": ".py",
   "mimetype": "text/x-python",
   "name": "python",
   "nbconvert_exporter": "python",
   "pygments_lexer": "ipython3",
   "version": "3.7.6"
  }
 },
 "nbformat": 4,
 "nbformat_minor": 4
}
