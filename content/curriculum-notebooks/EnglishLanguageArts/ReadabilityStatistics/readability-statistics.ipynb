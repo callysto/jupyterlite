{
 "cells": [
  {
   "cell_type": "markdown",
   "metadata": {},
   "source": [
    "![Callysto.ca Banner](https://github.com/callysto/curriculum-notebooks/blob/master/callysto-notebook-banner-top.jpg?raw=true)\n",
    "\n",
    "<a href=\"https://colab.research.google.com/github/callysto/jupyterlite/blob/main/content/curriculum-notebooks/EnglishLanguageArts/ReadabilityStatistics/readability-statistics.ipynb\" target=\"_parent\"><img src=\"https://colab.research.google.com/assets/colab-badge.svg?sanitize=true\" width=\"123\" height=\"24\" alt=\"Open in Callysto\"/></a>"
   ]
  },
  {
   "cell_type": "markdown",
   "metadata": {},
   "source": [
    "# Readability Statistics\n",
    "\n",
    "This notebook analyses the top ten ebooks from [Project Gutenberg](http://www.gutenberg.org/browse/scores/top) for length and readability. We are using a Python code library called [textstat](https://github.com/shivam5992/textstat) to determine readability, which will estimate the grade level readability of the text.\n",
    "\n",
    "To start, `►Run` the following code cell to import the libraries and define a function for getting ebooks from Project Gutenberg."
   ]
  },
  {
   "cell_type": "code",
   "execution_count": null,
   "metadata": {},
   "outputs": [],
   "source": [
    "%pip install plotly textstat nbformat requests bs4 setuptools pandas\n",
    "\n",
    "import textstat\n",
    "import requests\n",
    "from bs4 import BeautifulSoup\n",
    "import pandas as pd\n",
    "import plotly.express as px\n",
    "\n",
    "def get_readability(gutenberg_number):\n",
    "    gutenberg_url = 'https://www.gutenberg.org/ebooks/'+str(gutenberg_number)+'.txt.utf-8'\n",
    "    r = requests.get(gutenberg_url)\n",
    "    r.encoding = 'utf-8' # specify the type of text encoding in the file\n",
    "    try:\n",
    "        raw_text = r.text.split('***')[2] # get the part after the header\n",
    "    except:\n",
    "        raw_text = r.text # failsafe if there isn't a header with ***\n",
    "    text = raw_text.replace(\"’\",\"'\").replace(\"“\",'\"').replace(\"”\",'\"') # replace any 'smart quotes'\n",
    "    text = text.replace('\\r', ' ').replace('\\n', ' ') # replace \"new line\" characters with spaces\n",
    "    sentences = textstat.sentence_count(text)\n",
    "    readability = textstat.text_standard(text, float_output=True)\n",
    "    return text, sentences, readability\n",
    "\n",
    "print('Code libraries imported and get_readability function defined.')"
   ]
  },
  {
   "cell_type": "markdown",
   "metadata": {},
   "source": [
    "### Testing\n",
    "\n",
    "Next, `►Run` the following code cell to download and measure the readability of War and Peace by Leo Tolstoy from http://www.gutenberg.org/ebooks/2600.\n",
    "\n",
    "You can also run this with any other ebook number from Project Gutenberg."
   ]
  },
  {
   "cell_type": "code",
   "execution_count": null,
   "metadata": {},
   "outputs": [],
   "source": [
    "gutenberg_number = 2600\n",
    "\n",
    "text, sentences, readability = get_readability(gutenberg_number)\n",
    "print('The readability of \"War and Peace\" is', readability)\n",
    "print('It contains',sentences,'sentences and',\n",
    "      len(text),'characters (letters, numbers, punctuation, etc.)')"
   ]
  },
  {
   "cell_type": "markdown",
   "metadata": {},
   "source": [
    "## Visualizing eBooks\n",
    "\n",
    "### Readability Versus Number of Sentences\n",
    "`►Run` the next code cell to download and visualize statistics about the ten ebooks most frequently downloaded yesterday."
   ]
  },
  {
   "cell_type": "code",
   "execution_count": null,
   "metadata": {},
   "outputs": [],
   "source": [
    "r = requests.get('http://www.gutenberg.org/browse/scores/top') # get the page of most downloaded books\n",
    "soup = BeautifulSoup(r.text, 'html.parser') # read the html\n",
    "# find the list of the top ten ebooks\n",
    "links = soup.find_all('a')\n",
    "ebooks = []\n",
    "for link in links:\n",
    "    if len(ebooks) < 10:\n",
    "        try: # look for 'ebooks/' and a number\n",
    "            if 'ebooks/' in link.attrs['href'] and link.attrs['href'][8].isnumeric():\n",
    "                ebooks.append(link.text)\n",
    "        except:\n",
    "            pass\n",
    "# create a dataframe\n",
    "df = pd.DataFrame(columns=['Title','Number of Sentences',\n",
    "                           'Number of Characters','Readability','Text'])\n",
    "# loop through the list items\n",
    "for li in ebooks:\n",
    "    try:\n",
    "        title = li.split(' by')[0] # get the book title\n",
    "        author = li.split(' by')[1].split(' (')[0] # get the book author\n",
    "    except:\n",
    "        title = li.split(' (')[0]\n",
    "        author = 'Anonymous'\n",
    "    gutenberg_number = li.split('(')[-1:][0][:-1] # get the ebook number\n",
    "    print(gutenberg_number, title)\n",
    "    text, sentences, readability = get_readability(gutenberg_number)\n",
    "    df = df.append({'Title':title,'Author':author,\n",
    "                    'Number of Sentences':sentences,'Number of Characters':len(text),\n",
    "                    'Readability':readability,'Text':text},ignore_index=True)\n",
    "print('Hover over the points to see more information.')\n",
    "fig = px.scatter(df,x='Number of Characters',y='Readability',\n",
    "                 hover_data=['Author'],text='Title',title='eBook Readability versus Length')\n",
    "fig.update_traces(textposition='bottom right', textfont_size=10)\n",
    "fig.show()"
   ]
  },
  {
   "cell_type": "markdown",
   "metadata": {},
   "source": [
    "### Characters and Sentences\n",
    "\n",
    "We can also look at the relationship between the number of *sentences* and the number of *characters*."
   ]
  },
  {
   "cell_type": "code",
   "execution_count": null,
   "metadata": {},
   "outputs": [],
   "source": [
    "px.scatter(df,x='Number of Characters',y='Number of Sentences',\n",
    "           hover_data=['Title'],title='Number of Sentences versus Length')"
   ]
  },
  {
   "cell_type": "markdown",
   "metadata": {},
   "source": [
    "## Your Own List of eBooks\n",
    "\n",
    "If you'd like to create similar visualizations using your own list of ebooks from the Project Gutenberg site, you can modify and use the following code cell."
   ]
  },
  {
   "cell_type": "code",
   "execution_count": null,
   "metadata": {},
   "outputs": [],
   "source": [
    "books = {\n",
    "    'Little Women':514,\n",
    "    'Tom Sawyer':74,\n",
    "    'Treasure Island':120,\n",
    "            }\n",
    "\n",
    "textposition = 'bottom center'\n",
    "textfont_size = 10\n",
    "df2 = pd.DataFrame(columns=['Title','Number of Sentences','Number of Characters','Readability','Text'])\n",
    "for book in books.items():\n",
    "    title = book[0]\n",
    "    gutenberg_number = book[1]\n",
    "    print(gutenberg_number, title)\n",
    "    text, sentences, readability = get_readability(gutenberg_number)\n",
    "    df2 = df2.append({'Title':title,'Number of Sentences':sentences,'Number of Characters':len(text),'Readability':readability,'Text':text},ignore_index=True)\n",
    "fig1 = px.scatter(df2,x='Number of Characters',y='Readability',hover_data=['Title'],text='Title',title='Readability versus Length')\n",
    "fig1.update_traces(textposition=textposition,textfont_size=textfont_size)\n",
    "fig1.show()\n",
    "fig2 = px.scatter(df2,x='Number of Characters',y='Number of Sentences',hover_data=['Title'],text='Title',title='Number of Sentences versus Length')\n",
    "fig2.update_traces(textposition=textposition,textfont_size=textfont_size)\n",
    "fig2.show()"
   ]
  },
  {
   "cell_type": "markdown",
   "metadata": {},
   "source": [
    "[![Callysto.ca License](https://github.com/callysto/curriculum-notebooks/blob/master/callysto-notebook-banner-bottom.jpg?raw=true)](https://github.com/callysto/curriculum-notebooks/blob/master/LICENSE.md)"
   ]
  }
 ],
 "metadata": {
  "kernelspec": {
   "display_name": "Python 3",
   "language": "python",
   "name": "python3"
  },
  "language_info": {
   "codemirror_mode": {
    "name": "ipython",
    "version": 3
   },
   "file_extension": ".py",
   "mimetype": "text/x-python",
   "name": "python",
   "nbconvert_exporter": "python",
   "pygments_lexer": "ipython3",
   "version": "3.7.6"
  }
 },
 "nbformat": 4,
 "nbformat_minor": 4
}
