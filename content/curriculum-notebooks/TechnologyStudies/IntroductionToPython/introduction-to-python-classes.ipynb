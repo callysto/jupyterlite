{
 "cells": [
  {
   "cell_type": "markdown",
   "metadata": {},
   "source": [
    "![Callysto.ca Banner](https://github.com/callysto/curriculum-notebooks/blob/master/callysto-notebook-banner-top.jpg?raw=true)\n",
    "\n",
    "<a href=\"https://hub.callysto.ca/jupyter/hub/user-redirect/git-pull?repo=https%3A%2F%2Fgithub.com%2Fcallysto%2Fcurriculum-notebooks&branch=master&subPath=TechnologyStudies/IntroductionToPython/introduction-to-python-classes.ipynb&depth=1\" target=\"_parent\"><img src=\"https://raw.githubusercontent.com/callysto/curriculum-notebooks/master/open-in-callysto-button.svg?sanitize=true\" width=\"123\" height=\"24\" alt=\"Open in Callysto\"/></a>"
   ]
  },
  {
   "cell_type": "markdown",
   "metadata": {},
   "source": [
    "# Introduction to Python Classes\n",
    "\n",
    "In this lesson, we are going to introduce a powerful programming language technique called Object-Oriented Programming, or OOP for short, using Python Classes. First, we will introduce Python classes, and then, we will provide the motivation for OOP and how Python Classes fit into OOP.\n",
    "\n",
    "#### Table of Contents:\n",
    "[Python Classes](#Python_Classes) <br />\n",
    "[Getters and Setters](#Getters_and_Setters) <br />\n",
    "[Practice Project](#Practice_Project) <br />\n",
    "[Class Inheritance](#Class_Inheritance) <br />\n",
    "[Introduction to Object Oriented Programming](#Intro_to_OOP) <br />\n",
    "[Conclusion](#Conclusion) <br />\n",
    "\n",
    "To run a cell, select the cell you wish to run, then either:\n",
    "1. Find the run button at the top of the page, and click it or,\n",
    "2. Hit shift+enter."
   ]
  },
  {
   "cell_type": "markdown",
   "metadata": {},
   "source": [
    "<a id='Python_Classes'></a>\n",
    "## Python Classes\n",
    "\n",
    "A **Python Class** is a structure that can group together relevant variables and functions. The variables and functions in this structure are designed to be used only in the context of that class.\n",
    "\n",
    "To give more accurate terminology, the functions defined inside a class are called **methods** and the variables are called **attributes**. \n",
    "\n",
    "Sound familiar? We have already seen Python structures with methods, such as lists, dictionaries and strings. (See introduction to data structures in Python). If we wanted to access these methods, we used the dot operator. This is also true for Python classes. To use the actual functions, or methods, inside a Python class, we use the dot operator. \n",
    "\n",
    "As a matter of fact, classes make up the Python standard library, such as the string class, but are also a central programming technique used in Python, as well as C and C++.\n",
    "\n",
    "Now, we cannot actually do anything with our class just by defining it and adding attributes and methods. If we want to do some work, we have to define an **instance** of our class. To see what we mean, suppose we define a class called Person. This class has attributes that we would associate with a person, such as height, age, weight, gender, etc. The methods in the person class would be actions a person would do, such as Work(), DoHomework(), Eat(), etc.\n",
    "\n",
    "We cannot say, Person.Work(), as Person is a definition and not an instance. We would have to declare an instance of that class. Say Person Sally. Now, Sally is an instance of the Person class, and Sally can have **unique values**. If we were to create another instance of Person, such as Person Frank, the values of Frank and Sally's attributes would be different.\n",
    "\n",
    "Notice that we declared Sally and Frank just as normal variables of type Person. Python classes allow you to create your own data types, with specified attributes and methods. This allows for a larger range of problem solving abilities, as well as more robust data handling and organization."
   ]
  },
  {
   "cell_type": "markdown",
   "metadata": {},
   "source": [
    "### Remark:\n",
    "\n",
    "There are many languages that support classes such as C, C++ and Java. A major difference between Python classes and classes in C++ and Java is in the way data inside a class is handled and accessed.\n",
    "\n",
    "In C++ and Java, we are allowed to create what are know as private and public variables. Private variables are variables which cannot be accessed from outside the class. In order to access them, we need to create methods inside the class, which allows a user to modify the variables. These methods are explored later on in this notebook. We use private variables when there is sensitive data inside a class. We do not want a user to directly access the data, as it would threaten the integrity of the program or privacy of another user. \n",
    "\n",
    "In contrast, a public attribute is a attribute that can be accessed from outside the class. In general, all attributes in a Python class or instance are public -- but it can be a good practice to treat them like they're not."
   ]
  },
  {
   "cell_type": "code",
   "execution_count": null,
   "metadata": {},
   "outputs": [],
   "source": [
    "## An example ##\n",
    "\n",
    "## The syntax for declaring a class is class Class_Name ##\n",
    "class Employee:\n",
    "    # This first function here is called the initializer, or, if we are in C++, #\n",
    "    # the default constructor. It is reqiured in every class you make #\n",
    "    # This function will be called everytime a new instance is created #\n",
    "    def __init__(self, Name, Salary, Age):\n",
    "        self.Employee_Name = Name\n",
    "        self.Employee_Salary = Salary\n",
    "        self.Employee_Age = Age\n",
    "        \n",
    "    # Functions in a Python class are defined as normal. Self is always a required parameter #\n",
    "    # However, when we call these methods, we do not need to pass self explicitly #\n",
    "    # These functions allow the user to print variables inside a given instance of a class #\n",
    "    def Display_Name(self):\n",
    "        print(\"Employee Name:\", self.Employee_Name)\n",
    "    \n",
    "    def Display_Salary(self):\n",
    "        print(\"Employee Salary:\", self.Employee_Salary)\n",
    "        \n",
    "    def Display_Employee_Age(self):\n",
    "        print(\"Employee Age:\", self.Employee_Age)"
   ]
  },
  {
   "cell_type": "code",
   "execution_count": null,
   "metadata": {},
   "outputs": [],
   "source": [
    "# Creating a new instance #\n",
    "# To create a new instance of a class, simply declare it as a normal variable #\n",
    "# and pass your desired information to the initializer, note that self is not passed #\n",
    "\n",
    "Emp1 = Employee(\"Frank\", 20000, 25)\n",
    "Emp2 = Employee(\"Sarah\", 40000, 34)"
   ]
  },
  {
   "cell_type": "code",
   "execution_count": null,
   "metadata": {},
   "outputs": [],
   "source": [
    "# Accessing class methods #\n",
    "# We can access the methods in the class employee using the dot operator #\n",
    "# Because these are two different instances, they will print two different values #\n",
    "Emp1.Display_Name()\n",
    "Emp2.Display_Name()"
   ]
  },
  {
   "cell_type": "code",
   "execution_count": null,
   "metadata": {},
   "outputs": [],
   "source": [
    "# Accessing Data inside the class #\n",
    "# In Python, it is possible to have access to the actual values inside the class using the dot operator #\n",
    "# This is not the case in other languages such as Java and C++ #\n",
    "\n",
    "print(Emp1.Employee_Name)\n",
    "print(Emp2.Employee_Name)"
   ]
  },
  {
   "cell_type": "markdown",
   "metadata": {},
   "source": [
    "<a id='Getters_and_Setters'></a>\n",
    "### Getters and Setters:\n",
    "\n",
    "In many cases, we will want to access or change the variables inside a class. This is where functions called **Getters** and **Setters** come into play. A getter is a class method which returns the value of a variable inside a class. A setter is a class method which allows a variable to be updated.\n",
    "\n",
    "We will illustrate with an example."
   ]
  },
  {
   "cell_type": "code",
   "execution_count": null,
   "metadata": {},
   "outputs": [],
   "source": [
    "## Example with Getters and Setters ##\n",
    "\n",
    "class Better_Employee:\n",
    "    \n",
    "\n",
    "    def __init__(self, Name, Salary, Age):\n",
    "        self.Employee_Name = Name\n",
    "        self.Employee_Salary = Salary\n",
    "        self.Employee_Age = Age\n",
    "        \n",
    "    # These are the get functions, functions which allow values that are hidden in a class to be used outside of it #    \n",
    "    def Get_Name(self):\n",
    "        return self.Employee_Name\n",
    "    \n",
    "    def Get_Salary(self):\n",
    "        return self.Employee_Salary\n",
    "    \n",
    "    def Get_Age(self):\n",
    "        return self.Employee_Age\n",
    "    \n",
    "    # These are the set functions, functions which allow the user to update values inside an instance #\n",
    "    def Set_Name(self, new_name):\n",
    "        self.Employee_Name = new_name\n",
    "    \n",
    "    def Set_Salary(self, new_salary):\n",
    "        self.Employee_Salary = new_salary\n",
    "    \n",
    "    def Set_Age(self, new_age):\n",
    "        self.Employee_Age = new_age\n",
    "\n",
    "    def Display_Name(self):\n",
    "        print(\"Employee Name:\",self.Get_Name())\n",
    "    \n",
    "    def Display_Salary(self):\n",
    "        print(\"Employee Salary:\",self.Get_Salary())\n",
    "        \n",
    "    def Display_Age(self):\n",
    "        print(\"Employee Age:\",self.Get_Age())\n",
    "        \n"
   ]
  },
  {
   "cell_type": "code",
   "execution_count": null,
   "metadata": {},
   "outputs": [],
   "source": [
    "# Now we create new instances #\n",
    "\n",
    "Emp1 = Better_Employee(\"Frank\", 20000, 25)\n",
    "Emp2 = Better_Employee(\"Sarah\", 40000, 34)\n",
    "\n",
    "Emp1.Display_Name()\n",
    "Emp1.Display_Salary()\n",
    "Emp1.Display_Age()\n",
    "\n",
    "print(Emp1.Employee_Name)\n",
    "\n",
    "Emp2.Display_Name()\n",
    "Emp2.Display_Salary()\n",
    "Emp2.Display_Age()"
   ]
  },
  {
   "cell_type": "code",
   "execution_count": null,
   "metadata": {},
   "outputs": [],
   "source": [
    "# Suppose that everyone turns one year older and because of existing they get a 40000 dollar raise. #\n",
    "# Now, the current age and salary information in each class is outdated. Thus, we need to update #\n",
    "# the information in the class using setters #\n",
    "\n",
    "# These will update the age and salaries #\n",
    "Emp1.Set_Age(26)\n",
    "Emp1.Set_Salary(60000)\n",
    "\n",
    "Emp2.Set_Age(35)\n",
    "Emp2.Set_Salary(80000)\n",
    "\n",
    "Emp1.Display_Salary()\n",
    "Emp1.Display_Age()\n",
    "\n",
    "Emp2.Display_Salary()\n",
    "Emp2.Display_Age()"
   ]
  },
  {
   "cell_type": "code",
   "execution_count": null,
   "metadata": {},
   "outputs": [],
   "source": [
    "# Now suppose we want to use the values in the class elsewhere, such as another file. #\n",
    "# We can access those values by using the get functions. Note that these are not the original #\n",
    "# variables, just the values associated with them are returned. The original variables are #\n",
    "# unaccessable. #\n",
    "\n",
    "Salary_To_Be_Used_Elsewhere = Emp2.Get_Salary()\n",
    "Age_To_Be_Used_Elsewhere = Emp1.Get_Age()\n",
    "\n",
    "print(Salary_To_Be_Used_Elsewhere) # Now we have access to values we extracted from the instance\n",
    "print(Age_To_Be_Used_Elsewhere)"
   ]
  },
  {
   "cell_type": "markdown",
   "metadata": {},
   "source": [
    "<a id='Practice_Project'></a>\n",
    "### Practice Project\n",
    "\n",
    "Make a Bank Account class with the following attributes:\n",
    "\n",
    "> Name of owner <br />\n",
    "> ID (Integer of your choice, greater than 0) <br />\n",
    "> Total balance <br />\n",
    "> Savings account balance <br />\n",
    "> Checking account balance <br />\n",
    "\n",
    "And create the following methods:\n",
    "\n",
    "> Deposit money into savings <br />\n",
    "> Deposit money into checking account <br />\n",
    "> Withdraw money from savings or checking <br />\n",
    "> Get Total Balance <br />\n",
    "> Get Owner Name <br />\n",
    "> Set ID <br />"
   ]
  },
  {
   "cell_type": "code",
   "execution_count": null,
   "metadata": {},
   "outputs": [],
   "source": [
    "## Code Goes Here ##"
   ]
  },
  {
   "cell_type": "markdown",
   "metadata": {},
   "source": [
    "### Extra Resources:\n",
    "\n",
    "[Very detailed introduction to classes](https://docs.python.org/3/tutorial/classes.html) <br />\n",
    "[Another introduction to classes](https://www.learnpython.org/en/Classes_and_Objects)<br />\n",
    "[First part in a series on classes](https://www.geeksforgeeks.org/object-oriented-programming-in-python-set-1-class-and-its-members/)<br />\n",
    "[Second Part](https://www.geeksforgeeks.org/object-oriented-programming-in-python-set-2-data-hiding-and-object-printing/)"
   ]
  },
  {
   "cell_type": "markdown",
   "metadata": {},
   "source": [
    "<a id='Class_Inheritance'></a>\n",
    "## Class Inheritance\n",
    "\n",
    "Suppose we create a class called Car, and a class called Truck, each with its own attributes and methods."
   ]
  },
  {
   "cell_type": "code",
   "execution_count": null,
   "metadata": {},
   "outputs": [],
   "source": [
    "# Car Class #\n",
    "\n",
    "class Car:\n",
    "    \n",
    "    # Attributes: #\n",
    "    Car_Name = \" \"\n",
    "    Model_Year = 0\n",
    "    Cost = 0\n",
    "    Max_Speed = 0\n",
    "    Horse_Power = 0\n",
    "    Torque = 0\n",
    "    isStandard = False\n",
    "    Has_AC = False\n",
    "    Other = \" \"\n",
    "    # Has Methods: #\n",
    "    def __init__(self, Name, Year, Other_Stuff):\n",
    "        self.Car_Name = Name\n",
    "        self.Model_Year = Year\n",
    "        self.Other = Other_Stuff\n",
    "        # ... #\n",
    "    def Get_Model_Year(self):\n",
    "        return self.Model_Year\n",
    "    #etc#"
   ]
  },
  {
   "cell_type": "code",
   "execution_count": null,
   "metadata": {},
   "outputs": [],
   "source": [
    "# Truck Class #\n",
    "\n",
    "class Truck:\n",
    "    \n",
    "    # Attributes: #\n",
    "    Truck_Name = \" \"\n",
    "    Model_Year = 0\n",
    "    Cost = 0\n",
    "    Max_Speed = 0\n",
    "    Horse_Power = 0\n",
    "    Torque = 0\n",
    "    Towing_Capacity = 0\n",
    "    isStandard = False\n",
    "    Has_AC = False\n",
    "    Other = \" \"\n",
    "    # etc #\n",
    "    \n",
    "    # Has Methods: #\n",
    "    def __init__(self, Name, Year, Other_Stuff):\n",
    "        self.Truck_Name = Name\n",
    "        self.Model_Year = Year\n",
    "        self.Other = Other_Stuff\n",
    "        # ... #\n",
    "    def Get_Model_Year(self):\n",
    "        return self.Model_Year\n",
    "    #etc#\n",
    "\n",
    "my_car = Car(\"Herbie\", 1969, \"A movie star that's also a car!\")\n",
    "print(my_car.Get_Model_Year())\n",
    "\n",
    "my_truck = Truck(\"Optimius Prime\", 1986, \"The animated one was DEFINITELY better.\")\n",
    "print(my_truck.Get_Model_Year())"
   ]
  },
  {
   "cell_type": "markdown",
   "metadata": {},
   "source": [
    "For the most part, these classes are identical, save for a few unique attributes. This is redundant! We have just done more work creating the same thing with a different name.\n",
    "\n",
    "So what can we do? Well, we can create what's know as a **generic class**, a class that can describe both a car and a truck, as well as other vehicles. Call this class vehicle, with all the attributes a vehicle possesses.\n",
    "\n",
    "Then, when we go to create a class of something more specific, we can **inherit** attributes and methods from the vehicle class.\n",
    "This method is called **Class Inheritance**. Class inheritance allows us to make classes with the same implementation as another class. This removes redundant work and allows for more general classes.\n",
    "\n",
    "The class which we inherit from is called a **base class**. Classes which inherit from the base class are called **derived classes**. Base classes and derived classes can be called **parent classes** and **child classes** respectively."
   ]
  },
  {
   "cell_type": "code",
   "execution_count": null,
   "metadata": {},
   "outputs": [],
   "source": [
    "# Vehicle Class, carries all attributes associated with any vehicle #\n",
    "\n",
    "class Vehicle:\n",
    "    # Attributes #\n",
    "    Vehicle_Name = \" \"\n",
    "    Model_Year = 0\n",
    "    Cost = 0\n",
    "    Max_Speed = 0\n",
    "    Other = \" \"\n",
    "    # etc #\n",
    "    \n",
    "    # Has Methods #\n",
    "    \n",
    "    def __init__(self, Name, Year, Other_Stuff):\n",
    "        self.Vehicle_Name = Name\n",
    "        self.Model_Year = Year\n",
    "        self.Other = Other_Stuff\n",
    "        # ... #\n",
    "        \n",
    "    def Display_info(self):\n",
    "        print(\"'%s' was built in %d. Other information: '%s'\" %\n",
    "              (self.Vehicle_Name, self.Model_Year, self.Other))\n",
    "    # etc #\n",
    "\n",
    "# Now, we can derive a more specific car class, without having to redefine most of our attributes ##\n",
    "\n",
    "# To inherit, we add an extra parameter to the class declaration #\n",
    "\n",
    "class Car(Vehicle):\n",
    "    # Now we have access to the attributes and methods in the Vehicle class #\n",
    "    # In the class constructor, all attributes unique to the Vehicle Class will #\n",
    "    # be initiated in the vehicle class, and all unique attributes in the Car class #\n",
    "    # will be initiated in the car class #\n",
    "    \n",
    "    def __init__(self, Name, Year, Can_Talk, Other_Stuff):\n",
    "        super().__init__(Name, Year, Other_Stuff) # The super() function passes things on to the parent class\n",
    "        self.Can_Talk = Can_Talk\n",
    "\n",
    "    def Display_info(self):             \n",
    "        super().Display_info() # Again, super passes things up to the parent class\n",
    "        if self.Can_Talk:\n",
    "            print(\"It can talk!\")\n",
    "        else:\n",
    "            print(\"It can't talk.\")\n",
    "\n",
    "class Truck(Vehicle):\n",
    "    \n",
    "    def __init__(self, Name, Year, Carries_Cargo, Other_Stuff):\n",
    "        super().__init__(Name, Year, Other_Stuff)\n",
    "        self.Carries_Cargo = Carries_Cargo\n",
    "\n",
    "    def Display_info(self):             \n",
    "        super().Display_info() # Again, super passes things up to the parent class\n",
    "        if self.Carries_Cargo:\n",
    "            print(\"It can carry cargo!\")\n",
    "        else:\n",
    "            print(\"Don't ask it to carry cargo.\")\n",
    "\n",
    "my_car = Car(\"Herbie\", 1969, False, \"A movie star that's also a car!\")\n",
    "my_car.Display_info()\n",
    "print()\n",
    "\n",
    "another_car = Car(\"Kitt\", 1986, True, \"From the TV Smash hit 'Knight Rider'\")\n",
    "another_car.Display_info()\n",
    "print()\n",
    "\n",
    "my_truck = Truck(\"Optimius Prime\", 1986, False, \"The animated one was DEFINITELY better.\")\n",
    "my_truck.Display_info()"
   ]
  },
  {
   "cell_type": "markdown",
   "metadata": {},
   "source": [
    "### Extra Resources:\n",
    "\n",
    "[Introduction to class inheritance](https://www.digitalocean.com/community/tutorials/understanding-class-inheritance-in-python-3) <br />\n",
    "[Another introduction](https://www.programiz.com/python-programming/inheritance)<br />\n",
    "[Introduction to Python Classes and Inheritance](http://www.jesshamrick.com/2011/05/18/an-introduction-to-classes-and-inheritance-in-python/)<br />\n",
    "[Third Part in the series](https://www.geeksforgeeks.org/oop-in-python-set-3-inheritance-examples-of-object-issubclass-and-super) <br />"
   ]
  },
  {
   "cell_type": "markdown",
   "metadata": {},
   "source": [
    "<a id='Intro_to_OOP'></a>\n",
    "## A word on Object Oriented Programming and Data\n",
    "\n",
    "So what exactly is Object Oriented Programming (Or OOP for short)? OOP is a programming method in which the primary building blocks used to create the program are objects, and the objects interact with each other through methods. Inside these objects are variables and functions that are related to each other in some way. \n",
    "\n",
    "OOP allows for better code organization, as we can group related functions and variables in one spot under one name.\n",
    "\n",
    "OOP also allows for what is called **data abstraction**. Data abstraction is a way of separating the way we have written the object, and the way a user interacts with said object.\n",
    "\n",
    "OOP allows for whats known as **data encapsulation**. Data encapsulation allows us to hide sensitive information from the user. If the user wants to change that information, they must go through the objects methods to do so, instead of modifying the value directly. Doing this will ensure that our data does not get unwanted values which cause the object to break in some way. A more extreme version of data encapsulation is **data hiding**. Data hiding occurs when the user can neither see nor access certain information through the objects methods. You would do something like this if the information is very sensitive or important for the program to function.\n",
    "\n",
    "For example, when we are working with strings, we have access to string functions and methods. However, as a user of these methods and functions, we don't really need to know how these methods or functions work to use them. This is an example of data abstraction. \n",
    "\n",
    "If you wanted to access the constants in a string class, such as the ascii string, which is defined to be \"abcdefghi...xyz\", we would have to explicitly state that we want to use it. We would have to say: string.ascii_lowercase. This is an example of data encapsulation. If we want to use a piece of information, we have to use the object to obtain it.\n",
    "\n"
   ]
  },
  {
   "cell_type": "markdown",
   "metadata": {},
   "source": [
    "### Extra Resources:\n",
    "\n",
    "[Introduction to OOP and Inheritance](https://realpython.com/python3-object-oriented-programming/) <br />\n",
    "[Another Introduction](https://www.tutorialspoint.com/python/python_classes_objects.htm) <br />\n",
    "[Wikipedia entry on OOP](https://en.wikipedia.org/wiki/Object-oriented_programming) <br />\n",
    "[Disadvantages of OOP](https://www.quora.com/What-are-the-disadvantages-of-object-oriented-programming-languages)"
   ]
  },
  {
   "cell_type": "markdown",
   "metadata": {},
   "source": [
    "<a id='Conclusion'></a>\n",
    "## Conclusion\n",
    "\n",
    "We have seen in this notebook how to construct and use classes in Python, as well as class inheritance. We expect that reader has a basic understanding of the following concepts:\n",
    "\n",
    "> 1. Basic classes and class syntax. <br />\n",
    "> 2. Accessing class attributes and class methods using the dot operator. <br / >\n",
    "> 3. Using getters and setters to modify attributes. <br />\n",
    "> 4. Class inheritance and the motivation for inheritance. <br />\n",
    "> 5. Syntax for creating an inherited class <br/ >\n",
    "> 6. Data abstraction and data hiding. <br />"
   ]
  },
  {
   "cell_type": "markdown",
   "metadata": {},
   "source": [
    "[![Callysto.ca License](https://github.com/callysto/curriculum-notebooks/blob/master/callysto-notebook-banner-bottom.jpg?raw=true)](https://github.com/callysto/curriculum-notebooks/blob/master/LICENSE.md)"
   ]
  }
 ],
 "metadata": {
  "kernelspec": {
   "display_name": "Python 3",
   "language": "python",
   "name": "python3"
  },
  "language_info": {
   "codemirror_mode": {
    "name": "ipython",
    "version": 3
   },
   "file_extension": ".py",
   "mimetype": "text/x-python",
   "name": "python",
   "nbconvert_exporter": "python",
   "pygments_lexer": "ipython3",
   "version": "3.7.6"
  }
 },
 "nbformat": 4,
 "nbformat_minor": 2
}
