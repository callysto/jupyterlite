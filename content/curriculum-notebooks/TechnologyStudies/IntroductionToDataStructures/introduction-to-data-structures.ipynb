{
 "cells": [
  {
   "cell_type": "markdown",
   "metadata": {},
   "source": [
    "![Callysto.ca Banner](https://github.com/callysto/curriculum-notebooks/blob/master/callysto-notebook-banner-top.jpg?raw=true)\n",
    "\n",
    "<a href=\"https://hub.callysto.ca/jupyter/hub/user-redirect/git-pull?repo=https%3A%2F%2Fgithub.com%2Fcallysto%2Fcurriculum-notebooks&branch=master&subPath=TechnologyStudies/IntroductionToDataStructures/introduction-to-data-structures.ipynb&depth=1\" target=\"_parent\"><img src=\"https://raw.githubusercontent.com/callysto/curriculum-notebooks/master/open-in-callysto-button.svg?sanitize=true\" width=\"123\" height=\"24\" alt=\"Open in Callysto\"/></a>"
   ]
  },
  {
   "cell_type": "markdown",
   "metadata": {},
   "source": [
    "# Introduction to Lists and Dictionaries in Python\n",
    "\n",
    "\n",
    "Hello! Today, we will be introducing powerful tools we can use when coding in Python: lists, dictionaries, and tuples. We will show you how to perform basic operations on these types, as well as explore their functions and methods. \n",
    "\n",
    "To run all the cells, find the Cell tab at the top of the page, and then select Run All. To run individual cells, click the cell you want to run, and then find the Run button at the top of the page."
   ]
  },
  {
   "cell_type": "markdown",
   "metadata": {},
   "source": [
    "### Chapter Goals:\n",
    "\n",
    "[Introduction to Lists](#Lists) <br />\n",
    "[List Basics](#List_Basics) <br />\n",
    "[List Slices](#List_Slicing) <br />\n",
    "[List Functions](#List_Functions) <br />\n",
    "[List Methods](#List_Methods) <br />\n",
    "[String Splitting](#String_Splitting) <br />\n",
    "[Introduction to Dictionaries](#Dictionaries) <br />\n",
    "[Dictionary Functions](#Dictionary_Functions) <br />\n",
    "[Dictionary Methods](#Dictionary_Methods) <br />\n",
    "[Introduction to Python Tuples](#Python_Tuples) <br />\n",
    "[Tuple Methods](#Tuple_Methods) <br />\n",
    "[Dictionaries with Tuples](#Dictionaries_with_Tuples) <br />\n",
    "[Tuple Unpacking](#Tuple_Unpacking)"
   ]
  },
  {
   "cell_type": "markdown",
   "metadata": {},
   "source": [
    "<a id='Lists'></a>\n",
    "## Lists\n",
    "\n",
    "A **list** is a data type in Python. More specifically, a list is what is known as a **linear data structure**. That is, all elements in the list are orginized in a linear order. \n",
    "\n",
    "Much like a string, you can access individual elements, add elements, remove elements, copy a list, etc. However, the crucial difference between a string and a list is that lists can hold multiple data types at once, whereas strings can only hold characters. Items inside a list are called **elements** and each element has an **index** starting from 0 to the length of the list. \n",
    "\n",
    "<a id='List_Basics'></a>\n",
    "### List Basics:\n",
    "\n",
    "To declare a list in Python, we simply enclose our items in square brackets. For example, if we type:\n",
    "\n",
    "[1,2,3,4,5,6,7,8,9,10]\n",
    "\n",
    "we will have created a list of elements numbered 1 to 10. Here is a list with multiple data types:\n",
    "\n",
    "[True, False, \"Hello\", 1, 2, 3, 4, 5, 'a','b','c']\n",
    "\n",
    "Like strings, we can pass lists to the print function as a whole list, or we can specify what elements to print by providing index locations."
   ]
  },
  {
   "cell_type": "code",
   "execution_count": null,
   "metadata": {},
   "outputs": [],
   "source": [
    "# Declaring and Printing Lists\n",
    "\n",
    "# List Declarations\n",
    "list1 = [\"physics\", \"chemistry\", 1997, 2000]\n",
    "list2 = [1, 2, 3, 4, 5, 6, 7]\n",
    "list3 = [1 ,2 ,3 ,4 ,5 ,6 ,7 ,8 ,9 ,10]\n",
    "\n",
    "print(list1[0]) # This print function prints the first element in list1\n",
    "print(list2[1:5]) # This will print elements starting at index 1, that is the second element, up to index 5\n",
    "print(list3) # This will print the entire list"
   ]
  },
  {
   "cell_type": "markdown",
   "metadata": {},
   "source": [
    "### Creating new lists from old lists:\n",
    "\n",
    "Like strings, we can create new lists by using the + operator and the * operator."
   ]
  },
  {
   "cell_type": "code",
   "execution_count": null,
   "metadata": {},
   "outputs": [],
   "source": [
    "# Example\n",
    "\n",
    "list1 = [1, 2, 3]\n",
    "list2 = [4, 5, 6]\n",
    "\n",
    "list3 = list1 + list2 # This will create a new list consisting of list1 and list2\n",
    "print(list3)\n",
    "\n",
    "list4 = [\"Hello World! \"] * 5 # This will create a new list, consitsing of Hello World! repeated 5 times\n",
    "print(list4)\n"
   ]
  },
  {
   "cell_type": "markdown",
   "metadata": {},
   "source": [
    "We can also easily check for an element in a list by using the \"in\" keyword, just like we did when we were checking for characters in a string."
   ]
  },
  {
   "cell_type": "code",
   "execution_count": null,
   "metadata": {},
   "outputs": [],
   "source": [
    "# Checking if a given element is in a list\n",
    "\n",
    "list1 = [1, 2, 3]\n",
    "\n",
    "# We would like to check that 3 is in this list, to do this, we say:\n",
    "\n",
    "print(3 in list1) # This will be true\n",
    "print(4 in list1) # This will be false"
   ]
  },
  {
   "cell_type": "markdown",
   "metadata": {},
   "source": [
    "#### For Loops:\n",
    "\n",
    "On many occasions, we would like to traverse through a list or a string and perform an operation on each element. For loops allow us to manipulate each element in a list in a compact way, without us having to type out every individual index. "
   ]
  },
  {
   "cell_type": "code",
   "execution_count": null,
   "metadata": {},
   "outputs": [],
   "source": [
    "# Example\n",
    "list1 = [1, 2, 3, 4, 5, 6]\n",
    "\n",
    "# We can say this\n",
    "print(list1)\n",
    "\n",
    "# Or we can use a for loop\n",
    "\n",
    "# The loop starts at index 0 and goes to the end of the list,\n",
    "# changing the value of x is taken care of by the for loop\n",
    "for x in list1:\n",
    "    print(x)\n",
    "    \n",
    "# Notice how the outputs differ. If we want to print in a line instead of vertical column inside the for loop,\n",
    "# we have to specify what the print function puts after each x\n",
    "for x in list1:\n",
    "    print(x, end = \" \")"
   ]
  },
  {
   "cell_type": "markdown",
   "metadata": {},
   "source": [
    "<a id='List_Slicing'></a>\n",
    "### Introduction to List Slicing:\n",
    "\n",
    "**List slicing** is a method we can use to get subsets of elements from a list without using a for loop. Slicing can be applied to lists, strings, dictionaries or any other user defined data structure. This makes list slicing a very versatile tool that we can use. "
   ]
  },
  {
   "cell_type": "code",
   "execution_count": null,
   "metadata": {},
   "outputs": [],
   "source": [
    "# Example\n",
    "# We want to get the first 5 numbers from this list without using a for loop\n",
    "list1 = [1, 2, 3, 4, 5, 6, 7, 8]\n",
    "list2 = [1, 2, 3, 4, 5, 6, 7]\n",
    "\n",
    "# How do we do this? Well, we can use the syntax we used above:\n",
    "print(list2[1:5])\n",
    "\n",
    "# That print function is actually an example of a list slice\n",
    "# The colon tells python that we want to preform a list slice\n",
    "# The 1 is the start index, and is included, the 5 is the end index and is not included\n",
    "\n",
    "# So we can now say:\n",
    "print(list1[0:5])"
   ]
  },
  {
   "cell_type": "code",
   "execution_count": null,
   "metadata": {},
   "outputs": [],
   "source": [
    "# Another Example\n",
    "# We can reverse a list quite easily with list slicing, without using a for loop:\n",
    "\n",
    "# Here, we used the fact that if there is no start and end position given, the slice starts at index 0,\n",
    "# and goes to the last index by default. This is nice, because we don't need to worry about the length.\n",
    "# The -1 tells Python to traverse the list backwards\n",
    "\n",
    "list1 = list1[::-1]\n",
    "\n",
    "print(list1)\n"
   ]
  },
  {
   "cell_type": "markdown",
   "metadata": {},
   "source": [
    "#### Practice:\n",
    "\n",
    "Make three lists of length five, with names L1, L2, and L3. Compose L1 out of numbers, L2 out of strings, and L3 out of any types you choose, and do the following:\n",
    "\n",
    "> Print the element at index 1 in L1 <br />\n",
    "> Print the elements at indices 1 to 3 in L2 <br />\n",
    "> Multiply L2 by 4 <br />\n",
    "> Reverse L1 using list slicing <br />\n",
    "> Create a new List, L4, by appending L2 and L3 <br />\n",
    "> Check if 4 is in L2 <br />\n",
    "> Check if \"Hello\" is in L2 <br />\n",
    "> Print L4 on one line <br />\n",
    "> Print L4 on seperate lines <br />\n"
   ]
  },
  {
   "cell_type": "code",
   "execution_count": null,
   "metadata": {},
   "outputs": [],
   "source": [
    "# Code Goes Here"
   ]
  },
  {
   "cell_type": "markdown",
   "metadata": {},
   "source": [
    "<a id='List_Functions'></a>\n",
    "\n",
    "### List Functions:\n",
    "\n",
    "Python lists have a wide variety of useful methods and functions: "
   ]
  },
  {
   "cell_type": "code",
   "execution_count": null,
   "metadata": {},
   "outputs": [],
   "source": [
    "# Length Function: This function returns the length of a list\n",
    "list1 = [1, 2, 4, 11, 3, 6, 13, 5, 0, -1]\n",
    "list2 = [1, 4, 4]\n",
    "list3 =  [\"Hi\", \"Hey\", \"Howdy\"]\n",
    "\n",
    "print(len(list1))"
   ]
  },
  {
   "cell_type": "code",
   "execution_count": null,
   "metadata": {},
   "outputs": [],
   "source": [
    "# Max Function: This function returns the maximum value in a list\n",
    "print(max(list1))"
   ]
  },
  {
   "cell_type": "code",
   "execution_count": null,
   "metadata": {},
   "outputs": [],
   "source": [
    "# Min Function: This function returns the minumum value in a list\n",
    "print(min(list1))"
   ]
  },
  {
   "cell_type": "code",
   "execution_count": null,
   "metadata": {},
   "outputs": [],
   "source": [
    "# Sorted Function: This function sorts the list in ascending order (or alphebetical order)\n",
    "print(sorted(list1))"
   ]
  },
  {
   "cell_type": "markdown",
   "metadata": {},
   "source": [
    "<a id='List_Methods'></a>\n",
    "### List Methods:"
   ]
  },
  {
   "cell_type": "code",
   "execution_count": null,
   "metadata": {},
   "outputs": [],
   "source": [
    "# Append Method: This is the method we use to add items to a list, and since it is a method, we use the . operator\n",
    "list2.append(7)\n",
    "print(list2)"
   ]
  },
  {
   "cell_type": "code",
   "execution_count": null,
   "metadata": {},
   "outputs": [],
   "source": [
    "# Count Method: This method will return the number of times an item shows up in a list\n",
    "print(list2.count(4))"
   ]
  },
  {
   "cell_type": "code",
   "execution_count": null,
   "metadata": {},
   "outputs": [],
   "source": [
    "# Extend Method: This method acts like the + operator, it appends the contents of one list to the other,\n",
    "# then returns nothing\n",
    "list2.extend(list3)\n",
    "print(list2)"
   ]
  },
  {
   "cell_type": "code",
   "execution_count": null,
   "metadata": {},
   "outputs": [],
   "source": [
    "# Index Method: This method returns the first occurence of the specified element\n",
    "print(list2.index(4))"
   ]
  },
  {
   "cell_type": "code",
   "execution_count": null,
   "metadata": {},
   "outputs": [],
   "source": [
    "# Insert Method: This method will insert an object at the specified index\n",
    "list2.insert(0,5)\n",
    "print(list2)"
   ]
  },
  {
   "cell_type": "code",
   "execution_count": null,
   "metadata": {},
   "outputs": [],
   "source": [
    "# Remove Method: This method will remove a specified object from a list\n",
    "list2.remove(4)\n",
    "print(list2)"
   ]
  },
  {
   "cell_type": "code",
   "execution_count": null,
   "metadata": {},
   "outputs": [],
   "source": [
    "# Reverse Method: Reverses the elements in a given list\n",
    "list1.reverse()\n",
    "print(list1)"
   ]
  },
  {
   "cell_type": "code",
   "execution_count": null,
   "metadata": {},
   "outputs": [],
   "source": [
    "# Sort Method: This method will sort the elements in a given list\n",
    "list1.sort()\n",
    "print(list1)"
   ]
  },
  {
   "cell_type": "markdown",
   "metadata": {},
   "source": [
    "### Practice:\n",
    "\n",
    "Create three lists, each as long as you wish, with names L5, L6, L7. Compose L5 out of numbers, L6 out of strings, and L7 out of any types you choose, and do the following:\n",
    "\n",
    "> Find the lengths of all three and print the lengths <br />\n",
    "> Find the largest and smallest number in L5 and print them <br />\n",
    "> Alphabetize L6, and print the result <br />\n",
    "> Sort L5 from largest to smallest and print the result <br />\n"
   ]
  },
  {
   "cell_type": "code",
   "execution_count": null,
   "metadata": {},
   "outputs": [],
   "source": [
    "# Code Goes Here"
   ]
  },
  {
   "cell_type": "markdown",
   "metadata": {},
   "source": [
    "<a id='String_Splitting'></a>\n",
    "## String Splitting:\n",
    "\n",
    "Suppose we want to create a list from a string. We can use a string method called split. Split takes a string, and returns a list of all the words in a string.\n",
    "\n",
    "The function is defined by: str.split(sep = \" \", maxsplit = -1)\n",
    "\n",
    "Where: sep is the character you want your words to be separated by. By default, it is a whitespace. Maxsplit is the number of splits to do. By default, the function will split every word in the string apart."
   ]
  },
  {
   "cell_type": "code",
   "execution_count": null,
   "metadata": {},
   "outputs": [],
   "source": [
    "# Example #\n",
    "string1 = \"Hello World\"\n",
    "new_list = string1.split() # Default split function\n",
    "print(new_list)"
   ]
  },
  {
   "cell_type": "code",
   "execution_count": null,
   "metadata": {},
   "outputs": [],
   "source": [
    "# More Complicated Example\n",
    "string2 = \"This is a string example...wow!!!\"\n",
    "print(string2.split())\n",
    "print(string2.split(\"i\", 1)) # This will find the i in the string, and split once, i will be the seperator\n",
    "print(string2.split(\"w\")) # This will use w as a seperator, and split the string multiple times\n",
    "print(string2.split(\" \", 2)) # This will split the string twice, and use whitespace as a seperator"
   ]
  },
  {
   "cell_type": "code",
   "execution_count": null,
   "metadata": {},
   "outputs": [],
   "source": [
    "# Application\n",
    "# We can determine how many words a string has by counting the number of whitespaces\n",
    "# To do this, we use split on a given string, and then use the list function len()\n",
    "\n",
    "words = string2.split()\n",
    "print(len(words))"
   ]
  },
  {
   "cell_type": "code",
   "execution_count": null,
   "metadata": {},
   "outputs": [],
   "source": [
    "# Another Application\n",
    "# Suppose we want to sort a list of numbers in ascending order but the input is grabbed from input()\n",
    "# We cannot apply the sorted method, because sorted requires integers or strings. So we need to convert our\n",
    "# input to integers. However, we cannot say L = int(input()).split(). However, we can use a for loop!\n",
    "\n",
    "input_string = \"8 3 5 1 9 2\" # Pretend input from input()\n",
    "numbers = [int(x) for x in input_string.split()] # This is a compact way of writing a for loop when doing operations on a list\n",
    "print(sorted(numbers))"
   ]
  },
  {
   "cell_type": "markdown",
   "metadata": {},
   "source": [
    "### Extra Resources:\n",
    "\n",
    "[Introduction to lists with methods and functions](https://www.w3schools.com/python/python_lists.asp)<br />\n",
    "[A more in-depth look at lists with applications](https://www.geeksforgeeks.org/python-list/)"
   ]
  },
  {
   "cell_type": "markdown",
   "metadata": {},
   "source": [
    "<a id='Dictionaries'></a>\n",
    "## Dictionaries\n",
    "\n",
    "We now turn to **dictionaries**. A Python **dictionary**, like a list, is a very powerful tool in Python, which we can apply in many situations and algorithms.\n",
    "\n",
    "Dictionaries are composed of **indices**, which are called **keys**, and a collection of values, where each valued is associated with one key. We call this relationship a **Key-Value Pair**. A couple of things to note:\n",
    "\n",
    "> 1. Keys must be an unchanging data type such as strings or numbers (later, we will see that Tuples also work)\n",
    "> 2. The values can be of any type\n",
    "> 3. Keys must be unique in a dictionary, however, values do not need to be unique\n",
    "> 4. When naming dictionaries, do not use \"dict\", that is reserved for the function dict()"
   ]
  },
  {
   "cell_type": "code",
   "execution_count": null,
   "metadata": {},
   "outputs": [],
   "source": [
    "# Examples of Dictionaries\n",
    "# A dictionary is declared using the following syntax\n",
    "# Each Key-Value Pair is seperated by a comma\n",
    "d1 = {\"Name\": \"Zara\", \"Age\": 7, \"Class\": \"First\"}\n",
    "d2 = {\"one\": \"uno\", \"two\": \"dos\", \"three\": \"tres\"}\n",
    "d3 = {} # Empty Dictionary"
   ]
  },
  {
   "cell_type": "code",
   "execution_count": null,
   "metadata": {},
   "outputs": [],
   "source": [
    "# Accessing Values\n",
    "# We can use square brackets to access elements like lists\n",
    "# The difference is that we need to specify a key to access a value\n",
    "\n",
    "print(d1[\"Name\"]) # Prints the value associated with Name\n",
    "print(d1[\"Age\"]) # Prints the value associated with Age"
   ]
  },
  {
   "cell_type": "code",
   "execution_count": null,
   "metadata": {},
   "outputs": [],
   "source": [
    "# Updating Dictionaries\n",
    "# To update individual values for a key-value pair, we do the following:\n",
    "\n",
    "d1[\"Age\"] = 8 # This updates the value for the key \"Age\"\n",
    "print(d1)"
   ]
  },
  {
   "cell_type": "code",
   "execution_count": null,
   "metadata": {},
   "outputs": [],
   "source": [
    "# Adding a new entry\n",
    "\n",
    "d1[\"School\"] = \"St. Peter's\" # This will append a key-value pair to the current dictionary\n",
    "print(d1)"
   ]
  },
  {
   "cell_type": "code",
   "execution_count": null,
   "metadata": {},
   "outputs": [],
   "source": [
    "# Changing Key Names\n",
    "# To change a key name, we have to do two things:\n",
    "# 1. Swap the newkey for the old key: dictionary[oldkey] = dictionary[newkey]\n",
    "# 2. Delete the old key: del dictionary[oldkey]\n",
    "\n",
    "d1[\"Category\"] = d1[\"Class\"] # updates \"Class\" to \"Category\"\n",
    "del d1[\"Class\"]\n",
    "print(d1)"
   ]
  },
  {
   "cell_type": "code",
   "execution_count": null,
   "metadata": {},
   "outputs": [],
   "source": [
    "# Deleting individual elements\n",
    "# We can remove individual key-value pairs from dictionaries\n",
    "# Suppose we wish to delete the pair with key Name:\n",
    "\n",
    "del d1[\"Name\"] # This deletes the key-value pair Name: Zara\n",
    "print(d1)"
   ]
  },
  {
   "cell_type": "code",
   "execution_count": null,
   "metadata": {},
   "outputs": [],
   "source": [
    "# Removing all Key-Value Pairs\n",
    "# To remove all Key-Value pairs without deleting the dictionary itself we use the dictionary method clear():\n",
    "\n",
    "d1.clear()\n",
    "print(d1)"
   ]
  },
  {
   "cell_type": "code",
   "execution_count": null,
   "metadata": {},
   "outputs": [],
   "source": [
    "# Deleting an entire dictionary\n",
    "\n",
    "del d1 # Removes the dictionary from memory"
   ]
  },
  {
   "cell_type": "markdown",
   "metadata": {},
   "source": [
    "### Practice\n",
    "\n",
    "Make a dictionary D1 with four key-value pairs, then output the following:\n",
    "\n",
    "> Find the values at the first and second key-value pairs and print them <br />\n",
    "> Update the value at the first key-value pair <br />\n",
    "> Add two new key-value pairs and print D1 <br />\n",
    "> Delete the last key-value pair <br />\n",
    "> Clear D1 and print <br />"
   ]
  },
  {
   "cell_type": "code",
   "execution_count": null,
   "metadata": {},
   "outputs": [],
   "source": [
    "# Code Goes Here"
   ]
  },
  {
   "cell_type": "markdown",
   "metadata": {},
   "source": [
    "<a id='Dictionary_Functions'></a>\n",
    "### Dictionary Functions:\n",
    "\n",
    "Like lists, dictionaries have a variety of functions that we can use:"
   ]
  },
  {
   "cell_type": "code",
   "execution_count": null,
   "metadata": {},
   "outputs": [],
   "source": [
    "# Finding the length of a dictonary\n",
    "\n",
    "dict1 = {\"Name\": \"Zara\", \"Age\": 7, \"Class\": \"First\"}\n",
    "print(len(dict1))"
   ]
  },
  {
   "cell_type": "code",
   "execution_count": null,
   "metadata": {},
   "outputs": [],
   "source": [
    "# Printing a string representation of a dictionary\n",
    "\n",
    "print(str(dict1))"
   ]
  },
  {
   "cell_type": "code",
   "execution_count": null,
   "metadata": {},
   "outputs": [],
   "source": [
    "# This function determines the type of object you give it, works with dictionaries\n",
    "\n",
    "print(type(dict1))"
   ]
  },
  {
   "cell_type": "markdown",
   "metadata": {},
   "source": [
    "<a id='Dictionary_Methods'></a>\n",
    "### Dictionary Methods:\n",
    "\n",
    "Dictionaries also have many methods that we can use:"
   ]
  },
  {
   "cell_type": "code",
   "execution_count": null,
   "metadata": {},
   "outputs": [],
   "source": [
    "# Clear Method: Removes all elements in a dictionary, returns None\n",
    "\n",
    "dict1.clear()\n",
    "print(dict1)"
   ]
  },
  {
   "cell_type": "code",
   "execution_count": null,
   "metadata": {},
   "outputs": [],
   "source": [
    "# From Keys Method: This method will create a new dictionary from a list of keys, and a set of values\n",
    "\n",
    "list1 = [\"Age\", \"Height\", \"Weight\"]\n",
    "dict2 = dict.fromkeys(list1, 10)\n",
    "print(dict2)"
   ]
  },
  {
   "cell_type": "code",
   "execution_count": null,
   "metadata": {},
   "outputs": [],
   "source": [
    "# Items Method: Method will return a list of the key-value pairs in a dictionary\n",
    "\n",
    "dict1 = {\"Name\": \"Zara\", \"Age\": 7, \"Class\": \"First\"}\n",
    "key_value_list = dict1.items()\n",
    "print(key_value_list)"
   ]
  },
  {
   "cell_type": "code",
   "execution_count": null,
   "metadata": {},
   "outputs": [],
   "source": [
    "# Keys Method: Produces a list of a given dictionaries keys\n",
    "\n",
    "key_list = dict1.keys()\n",
    "print(key_list)"
   ]
  },
  {
   "cell_type": "code",
   "execution_count": null,
   "metadata": {},
   "outputs": [],
   "source": [
    "# Values Method: Produces a list of the values in a given dictionary\n",
    "\n",
    "value_list = dict1.values()\n",
    "print(value_list)"
   ]
  },
  {
   "cell_type": "code",
   "execution_count": null,
   "metadata": {},
   "outputs": [],
   "source": [
    "# Set Default Method: This will create a default value for a given key\n",
    "\n",
    "dict1.setdefault(\"Age\", 2) # already in dict1\n",
    "dict1.setdefault(\"Gender\", None) # new to dict1\n",
    "\n",
    "print(dict1)"
   ]
  },
  {
   "cell_type": "code",
   "execution_count": null,
   "metadata": {},
   "outputs": [],
   "source": [
    "# Update Method: This takes the key-value pairs from one dictionary and adds them to another\n",
    "\n",
    "dict2 = {\"Gender\": \"female\"}\n",
    "dict1.update(dict2)\n",
    "print(dict1)"
   ]
  },
  {
   "cell_type": "code",
   "execution_count": null,
   "metadata": {},
   "outputs": [],
   "source": [
    "# Dict and Zip Functions\n",
    "# Suppose we want to accept a dictionary as user input, one way we can do this is to have the user enter values\n",
    "# for two lists. One list is a keys list, the other is a values list.\n",
    "\n",
    "keys = [\"a\", \"b\", \"c\"]\n",
    "values = [1, 2, 3]\n",
    "\n",
    "# We can then apply the function zip, which takes two lists and creates key-value pairs out of them\n",
    "# and pass the result to the dict function, which turns these pairs into dictionary pairs\n",
    "\n",
    "new_dict = dict(zip(keys,values))\n",
    "print(new_dict)"
   ]
  },
  {
   "cell_type": "markdown",
   "metadata": {},
   "source": [
    "### Practice:\n",
    "\n",
    "Create a new dictionary D2, composed of five key-value pairs, and output the following: \n",
    "\n",
    "> Print D2 <br />\n",
    "> Print all values in D2 <br />\n",
    "> Print all keys in D2 <br />\n",
    "> Add a key-value pair using any method you wish, and print D2 <br />\n"
   ]
  },
  {
   "cell_type": "code",
   "execution_count": null,
   "metadata": {},
   "outputs": [],
   "source": [
    "# Code Goes Here"
   ]
  },
  {
   "cell_type": "markdown",
   "metadata": {},
   "source": [
    "### Extra Resources:\n",
    "\n",
    "[Tutorial on Dictionaries](https://www.tutorialspoint.com/python/python_dictionary.htm) <br />\n",
    "[Introduction to Dictionaries with applications](https://www.geeksforgeeks.org/python-dictionary/) <br />\n"
   ]
  },
  {
   "cell_type": "markdown",
   "metadata": {},
   "source": [
    "<a id='Python_Tuples'></a>\n",
    "## Introduction to Python Tuples:\n",
    "\n",
    "A **Tuple** is another data type in Python. Tuples are similar to lists, as they can hold a sequence of values. However Tuples differ from lists in the following ways: \n",
    "\n",
    "> 1. Tuples are defined using round brackets (), and not square brackets. <br />\n",
    "> 2. Elements inside a tuple cannot be changed <br />\n",
    "> 3. Elements inside a tuple cannot be removed <br />\n",
    "> 4. Tuples can be used as elements inside a dictionary <br />\n",
    "\n",
    "Operations such as concatenation and slicing can still be performed."
   ]
  },
  {
   "cell_type": "code",
   "execution_count": null,
   "metadata": {},
   "outputs": [],
   "source": [
    "# Basic Tuple Syntax and Operations\n",
    "# Declare an empty tuple\n",
    "\n",
    "tuple1 = ()\n",
    "\n",
    "# Initialize a tuple\n",
    "\n",
    "tuple2 = (1,2,3,4,5,6)\n",
    "\n",
    "# Tuple with one element, requires a comma\n",
    "\n",
    "tuple3 = (1,)"
   ]
  },
  {
   "cell_type": "code",
   "execution_count": null,
   "metadata": {},
   "outputs": [],
   "source": [
    "# Printing tuples\n",
    "\n",
    "print(tuple2)"
   ]
  },
  {
   "cell_type": "code",
   "execution_count": null,
   "metadata": {},
   "outputs": [],
   "source": [
    "# Concatanating tuples\n",
    "\n",
    "tuple4 = tuple3 + tuple2\n",
    "print(tuple4)"
   ]
  },
  {
   "cell_type": "code",
   "execution_count": null,
   "metadata": {},
   "outputs": [],
   "source": [
    "# Getting elements from a tuple\n",
    "\n",
    "print(tuple4[4])"
   ]
  },
  {
   "cell_type": "markdown",
   "metadata": {},
   "source": [
    "<a id='Tuple_Methods'></a>\n",
    "### Tuple Methods:\n",
    "\n",
    "Because Python tuples cannot be changed once declared, there are only two methods it can call."
   ]
  },
  {
   "cell_type": "code",
   "execution_count": null,
   "metadata": {},
   "outputs": [],
   "source": [
    "# Count Method: Returns the number of occurences of a given element\n",
    "\n",
    "print(tuple4.count(1))"
   ]
  },
  {
   "cell_type": "code",
   "execution_count": null,
   "metadata": {},
   "outputs": [],
   "source": [
    "# Index Method: Finds the first occurence of a given element, and returns its position\n",
    "\n",
    "print(tuple4.index(3))"
   ]
  },
  {
   "cell_type": "markdown",
   "metadata": {},
   "source": [
    "<a id='Dictionaries_with_Tuples'></a>\n",
    "### Dictionaries with Tuples:\n",
    "\n",
    "As we have seen above, tuples cannot be changed. Therefore, we can use tuples as keys in a dictionary. "
   ]
  },
  {
   "cell_type": "code",
   "execution_count": null,
   "metadata": {},
   "outputs": [],
   "source": [
    "# Example of a dictionary with tuples #\n",
    "\n",
    "dict_with_tuples = {('a', 'b'): 1, (1, 2, 3, 4): 2, (\"Hello\", 6, 7, 8): 3}\n",
    "\n",
    "key_list = dict_with_tuples.keys()\n",
    "print(key_list)\n",
    "\n",
    "value_list = dict_with_tuples.values()\n",
    "print(value_list)"
   ]
  },
  {
   "cell_type": "markdown",
   "metadata": {},
   "source": [
    "<a id='Tuple_Unpacking'></a>\n",
    "### Tuple Unpacking:\n",
    "\n",
    "**Tuple Unpacking** is a way of assigning individual elements inside a tuple to their own unique variables. We will illustrate with an example:"
   ]
  },
  {
   "cell_type": "code",
   "execution_count": null,
   "metadata": {},
   "outputs": [],
   "source": [
    "# Tuple unpacking\n",
    "person = (\"James\", 23, 1995)\n",
    "\n",
    "# We can take all three elements, and assign them to unique variables like this:\n",
    "\n",
    "(name, age, birth_year) = person\n",
    "\n",
    "print(name, '\\n')\n",
    "print(age, '\\n')\n",
    "print(birth_year, '\\n')"
   ]
  },
  {
   "cell_type": "markdown",
   "metadata": {},
   "source": [
    "### Practice: \n",
    "\n",
    "> 1. Create two tuples of length four called T1 and T2, with whatever types you want, and combine them to create a third tuple T3. <br />\n",
    "> 2. Print all three tuples <br />\n",
    "> 3. Create a dictionary with the tuples you created. Then create a key list and a value list. <br />\n",
    "> 4. Unpack tuples T1 and T2 using the method we saw above, and print the results. <br />"
   ]
  },
  {
   "cell_type": "code",
   "execution_count": null,
   "metadata": {},
   "outputs": [],
   "source": [
    "# Code Goes Here"
   ]
  },
  {
   "cell_type": "markdown",
   "metadata": {},
   "source": [
    "### Extra Resources:\n",
    "\n",
    "[Basic Introduction with some neat applications](http://openbookproject.net/thinkcs/python/english3e/tuples.html) <br />\n",
    "[Another introduction with tuple functions](https://www.geeksforgeeks.org/tuples-in-python/)"
   ]
  },
  {
   "cell_type": "markdown",
   "metadata": {},
   "source": [
    "## Conclusion\n",
    "\n",
    "To end this notebook, we will recap what we have seen:\n",
    "\n",
    "> 1. Basic list operations, methods and functions\n",
    "> 2. Basic dictionary operations, methods and functions\n",
    "> 3. A brief introduction to tuples\n",
    "\n",
    "Now that we have these tools at our disposal, we are now able to create more powerful and robust programs. Our expectation is that you are comfortable with the basics of lists, dictionaries, and to some extent, tuples."
   ]
  },
  {
   "cell_type": "markdown",
   "metadata": {},
   "source": [
    "[![Callysto.ca License](https://github.com/callysto/curriculum-notebooks/blob/master/callysto-notebook-banner-bottom.jpg?raw=true)](https://github.com/callysto/curriculum-notebooks/blob/master/LICENSE.md)"
   ]
  }
 ],
 "metadata": {
  "kernelspec": {
   "display_name": "Python 3",
   "language": "python",
   "name": "python3"
  },
  "language_info": {
   "codemirror_mode": {
    "name": "ipython",
    "version": 3
   },
   "file_extension": ".py",
   "mimetype": "text/x-python",
   "name": "python",
   "nbconvert_exporter": "python",
   "pygments_lexer": "ipython3",
   "version": "3.7.6"
  }
 },
 "nbformat": 4,
 "nbformat_minor": 2
}
