{
 "cells": [
  {
   "cell_type": "markdown",
   "metadata": {},
   "source": [
    "![Callysto.ca Banner](https://github.com/callysto/curriculum-notebooks/blob/master/callysto-notebook-banner-top.jpg?raw=true)\n",
    "\n",
    "<a href=\"https://hub.callysto.ca/jupyter/hub/user-redirect/git-pull?repo=https%3A%2F%2Fgithub.com%2Fcallysto%2Fcurriculum-notebooks&branch=master&subPath=TechnologyStudies/ComputerScienceSocrata/4-filtering-datasets.ipynb&depth=1\" target=\"_parent\"><img src=\"https://raw.githubusercontent.com/callysto/curriculum-notebooks/master/open-in-callysto-button.svg?sanitize=true\" width=\"123\" height=\"24\" alt=\"Open in Callysto\"/></a>"
   ]
  },
  {
   "cell_type": "markdown",
   "metadata": {},
   "source": [
    "# 4. Filtering Datasets\n",
    "\n",
    "We have experimented with visualizing open source data in a browser. However, lets broaden our perspective and consider how designing queries is an important part of designing any data-drive applications, including many of those that run on phones and tablets. For example, consider a mobile app that plots schools within walking distance to the user on a map. We want to plot only a small subset of all schools in Calgary. How should this application filter the data?\n",
    "\n",
    "There are two general approaches, named after the location where the data actually gets filtered: the server (i.e. where the data is stored) or the client (where the data is used). These may be on same device, or they may be separated. They are also very likely running on different technologies. Filtering on either side has its pros and cons:"
   ]
  },
  {
   "cell_type": "markdown",
   "metadata": {},
   "source": [
    "### Server-side filtering\n",
    "\n",
    "You have already seen this type of filter through the use of tht WHERE clause in SODA. This approach reduces the amount of data that you receive from wherever that data is stored. The data is likely being sent across a network (in the case of cloud-based data) or from a different application (in the case of a more traditional database system). If the speed of the data transmission is limited (e.g. slow internet) or if the data transmission is costly (e.g. the user's data plan is limited), then you may very well wish to use a server-side filter.\n",
    "\n",
    "For example, below is our familiar SODA query for obtaining all schools within Calgary. I've created a WHERE clause that finds all schools within a 'square' around the 'current' location, which we will assume to be William Aberhart High School (51.07866950960592°, -114.11533747920511°). To keep things simple, I will make my square 2 $\\times$ 0.01 degree latitude by 2 $\\times$ 0.01 degree longitude.\n",
    "\n",
    "if you are curious, according to [this calculator](http://www.csgnetwork.com/degreelenllavcalc.html), 0.01 degree latitude equals about 1.112 km, and one minute longitude at Calgary's latitude equals about 0.702 kilometres, so this would be a box about 2.2 by 1.4 km"
   ]
  },
  {
   "cell_type": "code",
   "execution_count": null,
   "metadata": {},
   "outputs": [],
   "source": [
    "%pip install -q pyodide_http plotly nbformat requests\n",
    "\n",
    "import requests as rq\n",
    "import pandas as pd\n",
    "import io as io\n",
    "\n",
    "domain = \"https://data.calgary.ca/resource/\"\n",
    "uuid_school_locations = \"fd9t-tdn2\"\n",
    "\n",
    "def run_query(domain, uuid, query):\n",
    "    session = rq.Session()\n",
    "    results = session.get(domain + uuid +\".csv?$query=\" + query)\n",
    "    dataframe =  pd.read_csv(io.StringIO(results.content.decode('utf-8')))\n",
    "    return dataframe\n",
    "\n",
    "latitude = 51.07866950960592\n",
    "longitude = -114.11533747920511\n",
    "\n",
    "query_template = \"\"\"\n",
    "SELECT\n",
    "    *\n",
    "WHERE\n",
    "    latitude BETWEEN '{0}' AND '{1}' AND\n",
    "    longitude BETWEEN '{2}' AND '{3}'\n",
    "\"\"\"\n",
    "#    longitude BETWEEN '-114.10533747920511' AND '-114.12533747920511'\n",
    "\n",
    "query = query_template.format(latitude - 0.01, latitude + 0.01, longitude + 0.01, longitude - 0.01)\n",
    "\n",
    "local_schools = run_query(domain, uuid_school_locations, query)\n",
    "local_schools"
   ]
  },
  {
   "cell_type": "markdown",
   "metadata": {},
   "source": [
    "##### Note\n",
    "- We can easily re-create the query by changing the latitude and the longitude, and creating a newly formatted query using the `query_template`.\n",
    "- But then we would have to resubmit the query, and this may take quite some time."
   ]
  },
  {
   "cell_type": "markdown",
   "metadata": {},
   "source": [
    "### Client-side filtering\n",
    "\n",
    "The opposite approach is to obtain an entire dataset and to then programatically filter using your native language. The pandas library provides various tools that allow you to easily select specific records in a dataframe. In this case, we will use the [panda dataframe's **loc** function](https://pandas.pydata.org/pandas-docs/stable/reference/api/pandas.DataFrame.loc.html) on  the *entire* dataset. The output should be equivalent to the server-side filter's output"
   ]
  },
  {
   "cell_type": "code",
   "execution_count": null,
   "metadata": {},
   "outputs": [],
   "source": [
    "query = \"\"\"\n",
    "SELECT\n",
    "    *\n",
    "\"\"\"\n",
    "\n",
    "all_schools = run_query(domain, uuid_school_locations, query)\n",
    "\n",
    "local_schools = all_schools.loc[(all_schools ['latitude'] > latitude - 0.01) \n",
    "                                & (all_schools ['latitude'] < latitude + 0.01)\n",
    "                                & (all_schools ['longitude'] > longitude - 0.01)\n",
    "                                & (all_schools ['longitude'] < longitude + 0.01)]\n",
    "local_schools"
   ]
  },
  {
   "cell_type": "markdown",
   "metadata": {},
   "source": [
    "### Visualization\n",
    "So, with all that work done, let's do the visualization."
   ]
  },
  {
   "cell_type": "code",
   "execution_count": null,
   "metadata": {},
   "outputs": [],
   "source": [
    "import plotly.express as px\n",
    "\n",
    "figure1 = px.scatter_mapbox(local_schools, lat=\"latitude\", lon=\"longitude\",\n",
    "                            color_discrete_sequence=[\"blue\"],\n",
    "                            zoom=13, height=600,\n",
    "                            size='latitude',\n",
    "                            size_max = 15,\n",
    "                            hover_name=\"name\",\n",
    "                            hover_data=[\"type\", \"grades\", \"address_ab\"],)\n",
    "\n",
    "figure1.update_layout(mapbox_style=\"open-street-map\")\n",
    "figure1.update_layout(margin={\"r\":0,\"t\":0,\"l\":0,\"b\":0})"
   ]
  },
  {
   "cell_type": "markdown",
   "metadata": {},
   "source": [
    "But if we then changed our current location to be Sir Winston Churchill High School (51.10011269545306°, -114.1399900255147°), we can very quickly change our results without having to re-query the City of Calgary server! It may still take some time to re-plot the data, but latency is not a concern."
   ]
  },
  {
   "cell_type": "code",
   "execution_count": null,
   "metadata": {},
   "outputs": [],
   "source": [
    "local_schools2 = all_schools.loc[(all_schools ['latitude'] > 51.09011269545306) \n",
    "                                & (all_schools ['latitude'] < 51.11011269545306)\n",
    "                                & (all_schools ['longitude'] < -114.1299900255147)\n",
    "                                & (all_schools ['longitude'] > -114.1499900255147)]\n",
    "local_schools2"
   ]
  },
  {
   "cell_type": "code",
   "execution_count": null,
   "metadata": {},
   "outputs": [],
   "source": [
    "figure1 = px.scatter_mapbox(local_schools2, lat=\"latitude\", lon=\"longitude\",\n",
    "                            color_discrete_sequence=[\"blue\"],\n",
    "                            zoom=13, height=600,\n",
    "                            size='latitude',\n",
    "                            size_max = 15,\n",
    "                            hover_name=\"name\",\n",
    "                            hover_data=[\"type\", \"grades\", \"address_ab\"],)\n",
    "\n",
    "figure1.update_layout(mapbox_style=\"open-street-map\")\n",
    "figure1.update_layout(margin={\"r\":0,\"t\":0,\"l\":0,\"b\":0})"
   ]
  },
  {
   "cell_type": "markdown",
   "metadata": {},
   "source": [
    "#### Note\n",
    "There are many many functions within the [pandas dataframe class](https://pandas.pydata.org/pandas-docs/stable/reference/frame.html) that allow you to filter, combine, and transform data. Learning these would take time, and is outside of our scope here. This course is about learning how to query for data."
   ]
  },
  {
   "cell_type": "markdown",
   "metadata": {},
   "source": [
    "\n",
    "# Which approach is best?\n",
    "\n",
    "That depends, of course!\n",
    "\n",
    "If your application will show multiple views of the data set within a short time, it makes sense to download it once in its entirety. Re-querying for the data for each view would obviously be inefficient.\n",
    "\n",
    "However, loading the data in its entirety will cost more bandwidth, and may take time up front. Also, your data will at some point go stale; hence the 'within a short time' qualifier.\n",
    "\n",
    "So why not just query for little chunks of data only when needed? Well, you probably have already noticed that executing a query takes some time. The query has to pass from your local device to a remote server, the server has to retrieve the data and format it, and the the server has to pass it back across a network. The lag in time between query and response is known as *latency*. Latency may make your application appear to freeze. This may be frustrating to your user. Never mind what your user may experience if they lose their network connection completely. \n",
    "\n",
    "The time gaps in between the various steps may be fractions of seconds, but that is an eternity compared to how fast your local device can process locally stored data. Thus, loading your data up front *may* be a good design decision.\n",
    "\n",
    "In the above example, the client-side approach would probably be best. The dataset is relatively small, so data usage is reasonable, unless the data plan really is restrictive. Also, the data is highly static, as not many schools will get added in the next month, and none will change location. Thus, it would be good design to download the dataset, and perhaps even store it locally in a csv file. You can then move all around the city, and the map can be updated very quickly and without extra data transmission. Of course, your app will still want to update the dataset once in a while, and may need to load the Edmonton data if we change cities!\n",
    "\n",
    "An alternate example could be an app that checks if any of your friends are within walking distance. Perhaps this app has a few million users, and their locations are being stored on a server somewhere in Silicon Valley. You would not want to download the entire dataset, as 99.99% of it would be useless to you. Furthermore, the data is highly dynamic, and if you don't update continuously, you will have a useless app. In this example, the server-side approach would undoubtedly be best."
   ]
  },
  {
   "cell_type": "markdown",
   "metadata": {},
   "source": [
    "### Final Thoughts\n",
    "\n",
    "- Hopefully you appreciate the point that you can 'massage' your data both locally and remotely. and that you choose which way you go based on performance.\n",
    "- The technology you work with will also have an impact on which approach you take. Other open data APIs do not have the ability to perform server-side filtering (and aggregation), and you may be forced to go client-side.\n",
    "- To be quite honest, there will also be times where it is just easier to do your filtering (and aggregation) on the client side, instead of breaking your brain in writing the perfect SQL statement!\n",
    "- Whereas the previous lessons dealt with 'big data' (aggregating finding patterns in large sets), this lesson dealt with 'specific data' (querying for specific information)."
   ]
  },
  {
   "cell_type": "markdown",
   "metadata": {},
   "source": [
    "[![Callysto.ca License](https://github.com/callysto/curriculum-notebooks/blob/master/callysto-notebook-banner-bottom.jpg?raw=true)](https://github.com/callysto/curriculum-notebooks/blob/master/LICENSE.md)"
   ]
  }
 ],
 "metadata": {
  "kernelspec": {
   "display_name": "Python 3",
   "language": "python",
   "name": "python3"
  },
  "language_info": {
   "codemirror_mode": {
    "name": "ipython",
    "version": 3
   },
   "file_extension": ".py",
   "mimetype": "text/x-python",
   "name": "python",
   "nbconvert_exporter": "python",
   "pygments_lexer": "ipython3",
   "version": "3.7.6"
  }
 },
 "nbformat": 4,
 "nbformat_minor": 2
}
