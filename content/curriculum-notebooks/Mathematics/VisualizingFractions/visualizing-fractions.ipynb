{
 "cells": [
  {
   "cell_type": "markdown",
   "metadata": {},
   "source": [
    "![Callysto.ca Banner](https://github.com/callysto/curriculum-notebooks/blob/master/callysto-notebook-banner-top.jpg?raw=true)\n",
    "\n",
    "<a href=\"https://hub.callysto.ca/jupyter/hub/user-redirect/git-pull?repo=https%3A%2F%2Fgithub.com%2Fcallysto%2Fcurriculum-notebooks&branch=master&subPath=Mathematics/VisualizingFractions/visualizing-fractions.ipynb&depth=1\" target=\"_parent\"><img src=\"https://raw.githubusercontent.com/callysto/curriculum-notebooks/master/open-in-callysto-button.svg?sanitize=true\" width=\"123\" height=\"24\" alt=\"Open in Callysto\"/></a>"
   ]
  },
  {
   "cell_type": "markdown",
   "metadata": {},
   "source": [
    "# Visualizing Fractions\n",
    "\n",
    "We can visualize and compare fractions with bar or pie charts using the [Plotly Python Graphing Library](https://plotly.com/python).\n",
    "\n",
    "\n",
    "## Fraction Bars\n",
    "\n",
    "[Fraction Bars](https://en.wikipedia.org/wiki/Fraction_Bars) are visual representations of fractions that help with comparisons and other operations.\n",
    "\n",
    "To create fraction bar visualizations for a given denominator with different numerators, change the denominator in the following code cell, for example `denominator = 12` and click the `▶Run` button.\n",
    "\n",
    "You can save a picture of the fraction bars by clicking on the camera icon 📷 that appears above the chart when you move your mouse cursor over it."
   ]
  },
  {
   "cell_type": "code",
   "execution_count": null,
   "metadata": {},
   "outputs": [],
   "source": [
    "%pip install -q pyodide_http plotly nbformat\n",
    "import pyodide_http\n",
    "pyodide_http.patch_all()\n",
    "denominator = 5\n",
    "\n",
    "import plotly.express as px\n",
    "y = [n+1 for n in range(denominator)]\n",
    "x = [str(n+1)+'/'+str(denominator) for n in range(denominator)]\n",
    "d = str(denominator)\n",
    "px.bar(x=x,y=y,labels={'x':'Fractions out of '+d},title='Fraction Bars: 1/'+d+' to '+d+'/'+d).update_layout(bargap=0).update_yaxes(visible=False)"
   ]
  },
  {
   "cell_type": "markdown",
   "metadata": {},
   "source": [
    "## Comparing Fractions\n",
    "\n",
    "We can compare two fractions using fraction bars. Try changing the numerators and denominators in the following code cell, then `▶Run`ning the code."
   ]
  },
  {
   "cell_type": "code",
   "execution_count": null,
   "metadata": {},
   "outputs": [],
   "source": [
    "numerator1 = 4\n",
    "denominator1 = 7\n",
    "\n",
    "numerator2 = 5\n",
    "denominator2 = 9\n",
    "\n",
    "import plotly.graph_objects as px\n",
    "x = [str(numerator1)+'/'+str(denominator1), str(numerator2)+'/'+str(denominator2)]\n",
    "plot = px.Figure(data=[px.Bar(x=x,y=[numerator1*denominator2,numerator2*denominator1],marker_color='green'),\n",
    "    px.Bar(x=x,y=[denominator1*denominator2-numerator1*denominator2,denominator1*denominator2-numerator2*denominator1],marker_color='grey')]\n",
    "    ).update_layout(barmode='stack',bargap=0,showlegend=False,title='Comparing %d/%d and %d/%d'%(numerator1,denominator1,numerator2,denominator2)\n",
    "    ).update_yaxes(visible=False).show()"
   ]
  },
  {
   "cell_type": "markdown",
   "metadata": {},
   "source": [
    "## Fraction Pies\n",
    "\n",
    "The next code cell allows us to visualize fractions using pie charts. It will create a fraction pie for each possible numerator with the given denominator.\n",
    "\n",
    "You can save a copy of each fraction by clicking on the camera icon 📷 above it."
   ]
  },
  {
   "cell_type": "code",
   "execution_count": null,
   "metadata": {
    "scrolled": false
   },
   "outputs": [],
   "source": [
    "denominator = 5\n",
    "\n",
    "print('Displaying fraction pies for 1/%d to %d/%d'%(denominator,denominator,denominator))\n",
    "import plotly.graph_objects as go\n",
    "for x in range(denominator):\n",
    "    if x+1 < denominator/2:\n",
    "        r = 0\n",
    "    else:\n",
    "        r = 180\n",
    "    fig = go.Figure(data=[go.Pie(values=[x+1,denominator-(x+1)],title=str(x+1)+'/'+str(denominator),\n",
    "                                 marker_colors=['green','grey'],pull=[0.2, 0],rotation=r,showlegend=False)]).show()"
   ]
  },
  {
   "cell_type": "markdown",
   "metadata": {},
   "source": [
    "## Conclusion\n",
    "\n",
    "This notebook allows us to generate visualizations of fractions in bar or pie charts.\n",
    "\n",
    "For similar virtual manipulatives check out [Math Playground](https://www.mathplayground.com/Fraction_bars.html), [Visual Fractions](https://visualfractions.com), or [Math Learning Center](https://www.mathlearningcenter.org/apps/fractions)."
   ]
  },
  {
   "cell_type": "markdown",
   "metadata": {},
   "source": [
    "[![Callysto.ca License](https://github.com/callysto/curriculum-notebooks/blob/master/callysto-notebook-banner-bottom.jpg?raw=true)](https://github.com/callysto/curriculum-notebooks/blob/master/LICENSE.md)"
   ]
  }
 ],
 "metadata": {
  "kernelspec": {
   "display_name": "Python 3",
   "language": "python",
   "name": "python3"
  },
  "language_info": {
   "codemirror_mode": {
    "name": "ipython",
    "version": 3
   },
   "file_extension": ".py",
   "mimetype": "text/x-python",
   "name": "python",
   "nbconvert_exporter": "python",
   "pygments_lexer": "ipython3",
   "version": "3.8.3"
  }
 },
 "nbformat": 4,
 "nbformat_minor": 4
}
