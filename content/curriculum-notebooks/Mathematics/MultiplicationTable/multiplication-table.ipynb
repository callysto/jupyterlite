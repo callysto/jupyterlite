{
 "cells": [
  {
   "cell_type": "markdown",
   "metadata": {},
   "source": [
    "![Callysto.ca Banner](https://github.com/callysto/curriculum-notebooks/blob/master/callysto-notebook-banner-top.jpg?raw=true)\n",
    "\n",
    "<a href=\"https://hub.callysto.ca/jupyter/hub/user-redirect/git-pull?repo=https%3A%2F%2Fgithub.com%2Fcallysto%2Fcurriculum-notebooks&branch=master&subPath=Mathematics/MultiplicationTable/multiplication-table.ipynb&depth=1\" target=\"_parent\"><img src=\"https://raw.githubusercontent.com/callysto/curriculum-notebooks/master/open-in-callysto-button.svg?sanitize=true\" width=\"123\" height=\"24\" alt=\"Open in Callysto\"/></a>"
   ]
  },
  {
   "cell_type": "markdown",
   "metadata": {},
   "source": [
    "# Multiplication Table\n",
    "\n",
    "Even though computers can calculate for us, it is still valuable to be able to multiply numbers in your head. You are likely familiar with a [multiplication table](https://en.wikipedia.org/wiki/Multiplication_table), let's use some Python code to generate one for us.\n",
    "\n",
    "`▶Run` the next code cell to generate a multiplication table. Change the value of `up_to = 9` if you'd like a larger or smaller table (e.g. `up_to = 13`)."
   ]
  },
  {
   "cell_type": "code",
   "execution_count": null,
   "metadata": {},
   "outputs": [],
   "source": [
    "%pip install -q pyodide_http plotly nbformat\n",
    "import pyodide_http\n",
    "pyodide_http.patch_all()\n",
    "\n",
    "up_to = 9\n",
    "\n",
    "import pandas as pd\n",
    "table = pd.DataFrame()\n",
    "for y in range(up_to+1):\n",
    "    numbers = []\n",
    "    for x in range(up_to+1):\n",
    "        numbers.append(x * y)\n",
    "    table[y] = numbers\n",
    "table"
   ]
  },
  {
   "cell_type": "markdown",
   "metadata": {},
   "source": [
    "You'll notice that since Python starts numbering at zero, those values are included in the table. To get rid of them, `▶Run` the next code cell."
   ]
  },
  {
   "cell_type": "code",
   "execution_count": null,
   "metadata": {},
   "outputs": [],
   "source": [
    "table.drop(labels=0, axis=0).drop(labels=0, axis=1)"
   ]
  },
  {
   "cell_type": "markdown",
   "metadata": {},
   "source": [
    "## Multiplication Practice\n",
    "\n",
    "We can also use Python code to give us random practice questions to answer.\n",
    "\n",
    "Change the values in the first three lines, if you'd like, then `▶Run` the cell to see some practice multiplication questions."
   ]
  },
  {
   "cell_type": "code",
   "execution_count": null,
   "metadata": {},
   "outputs": [],
   "source": [
    "up_to = 9\n",
    "number_of_questions = 15\n",
    "seconds_per_question = 4\n",
    "\n",
    "import time\n",
    "from random import randint\n",
    "from IPython.display import clear_output\n",
    "solutions = []\n",
    "for q in range(number_of_questions):\n",
    "    a = randint(0, up_to)\n",
    "    b = randint(0, up_to)\n",
    "    question = str(q+1)+'. '+str(a)+' × '+str(b)+' = '\n",
    "    print(question)\n",
    "    time.sleep(seconds_per_question)\n",
    "    clear_output()\n",
    "    solution = question + str(a*b)\n",
    "    print(solution)\n",
    "    solutions.append(solution)\n",
    "    time.sleep(2)\n",
    "clear_output()\n",
    "solutions"
   ]
  },
  {
   "cell_type": "markdown",
   "metadata": {},
   "source": [
    "## Conclusion\n",
    "\n",
    "We can use code to calculate for us, but we can also use it to help us practice calculations."
   ]
  },
  {
   "cell_type": "markdown",
   "metadata": {},
   "source": [
    "[![Callysto.ca License](https://github.com/callysto/curriculum-notebooks/blob/master/callysto-notebook-banner-bottom.jpg?raw=true)](https://github.com/callysto/curriculum-notebooks/blob/master/LICENSE.md)"
   ]
  }
 ],
 "metadata": {
  "kernelspec": {
   "display_name": "Python 3",
   "language": "python",
   "name": "python3"
  },
  "language_info": {
   "codemirror_mode": {
    "name": "ipython",
    "version": 3
   },
   "file_extension": ".py",
   "mimetype": "text/x-python",
   "name": "python",
   "nbconvert_exporter": "python",
   "pygments_lexer": "ipython3",
   "version": "3.8.3"
  }
 },
 "nbformat": 4,
 "nbformat_minor": 4
}
