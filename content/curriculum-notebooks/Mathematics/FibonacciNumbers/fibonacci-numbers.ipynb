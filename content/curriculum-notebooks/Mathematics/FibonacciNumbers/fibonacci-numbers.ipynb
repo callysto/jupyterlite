{
 "cells": [
  {
   "cell_type": "markdown",
   "metadata": {},
   "source": [
    "![Callysto.ca Banner](https://github.com/callysto/curriculum-notebooks/blob/master/callysto-notebook-banner-top.jpg?raw=true)\n",
    "\n",
    "<a href=\"https://hub.callysto.ca/jupyter/hub/user-redirect/git-pull?repo=https%3A%2F%2Fgithub.com%2Fcallysto%2Fcurriculum-notebooks&branch=master&subPath=Mathematics/FibonacciNumbers/fibonacci-numbers.ipynb&depth=1\" target=\"_parent\"><img src=\"https://raw.githubusercontent.com/callysto/curriculum-notebooks/master/open-in-callysto-button.svg?sanitize=true\" width=\"123\" height=\"24\" alt=\"Open in Callysto\"/></a>"
   ]
  },
  {
   "cell_type": "markdown",
   "metadata": {},
   "source": [
    "# The Fibonacci Numbers"
   ]
  },
  {
   "cell_type": "markdown",
   "metadata": {},
   "source": [
    "The **Fibonacci** sequence is the set of numbers that starts out like this:\n",
    "\n",
    "$$0,1,1,2,3,5,8,13,\\ldots.$$\n",
    "\n",
    "It's easy to recognize the pattern here. Each number is the sum of the previous two numbers in the sequence. Except, of course, the first two number, 0 and 1, which we put in there to get things started. \n",
    "\n",
    "This sequence, or pattern of numbers, goes on forever."
   ]
  },
  {
   "cell_type": "markdown",
   "metadata": {},
   "source": [
    "These numbers are most commonly known as the **Fibonacci numbers**, after the Italian mathematician **L. Fibonacci** (c. 1200 C.E.). However, these numbers were actually first described hundreds of years before, by Indian mathematicians. The first such mathematician for whom we have written records was **Virahanka** (c. 700 C.E.).\n",
    "\n",
    "It is difficult to overcome the usage of a name adopted hundreds of years ago, and so in what follows we will refer to the Virahanka-Fibonacci numbers as the \"Fibonacci numbers.\""
   ]
  },
  {
   "cell_type": "markdown",
   "metadata": {},
   "source": [
    "**Exercise 1:** Check out the following article about the \"so-called Fibonacci\" numbers in ancient India: https://www.sciencedirect.com/science/article/pii/0315086085900217"
   ]
  },
  {
   "cell_type": "markdown",
   "metadata": {},
   "source": [
    "For an excellent exposition about the motivation, poetry, and linguistics of these early mathematicians, and to learn about some fascinating properties of these numbers, check out the following video:"
   ]
  },
  {
   "cell_type": "code",
   "execution_count": null,
   "metadata": {},
   "outputs": [],
   "source": [
    "%pip install -q pyodide_http plotly nbformat ipywidgets\n",
    "import pyodide_http\n",
    "pyodide_http.patch_all()\n",
    "from IPython.display import HTML\n",
    "video_html = \"\"\"\n",
    "<iframe width=\"560\" height=\"315\" src=\"https://www.youtube.com/embed/LP253wHIoO8?start=2633\" frameborder=\"0\" allowfullscreen></iframe>\n",
    "\"\"\"\n",
    "display(HTML(video_html))"
   ]
  },
  {
   "cell_type": "markdown",
   "metadata": {},
   "source": [
    "It's convenient to label these numbers, so we write $F_0 = 0$, $F_1 = 1$ $F_2 = 2$ and so on. The list of numbers is thus  defined **recursively**  by the formula\n",
    "$$ \\qquad$$\n",
    "$$ F_n = F_{n-1} + F_{n-2}.$$\n"
   ]
  },
  {
   "cell_type": "markdown",
   "metadata": {},
   "source": [
    "We can check the few numbers in the Fibonacci sequence are obtained by that formula, by computing:"
   ]
  },
  {
   "cell_type": "markdown",
   "metadata": {},
   "source": [
    "$$\\begin{eqnarray*}\n",
    "F_{2} &=&F_{1}+F_{0}=1+0=1 \\\\\n",
    "F_{3} &=&F_{2}+F_{1}=1+1=2 \\\\\n",
    "F_{4} &=&F_{3}+F_{2}=2+1=3 \\\\\n",
    "F_{5} &=&F_{4}+F_{3}=3+2=5 \\\\\n",
    "F_{6} &=&F_{5}+F_{4}=5+3=8 \\\\\n",
    "F_{7} &=&F_{6}+F_{5}=8+5=13 \\\\\n",
    "&&\\vdots\n",
    "\\end{eqnarray*}\n",
    "$$"
   ]
  },
  {
   "cell_type": "markdown",
   "metadata": {},
   "source": [
    "Here is a list of the first 40 Fibonacci numbers:"
   ]
  },
  {
   "cell_type": "markdown",
   "metadata": {},
   "source": [
    "$$\n",
    "\\begin{array}{rrrrrrrrrrrrrrr}\n",
    "0 &  & 1 &  & 1 &  & 2 &  & 3 &  & 5 &  & 8 &  & 13 \\\\ \n",
    "&  &  &  &  &  &  &  &  &  &  &  &  &  &  \\\\ \n",
    "21 &  & 34 &  & 55 &  & 89 &  & 144 &  & 233 &  & 377 &  & 610 \\\\ \n",
    "&  &  &  &  &  &  &  &  &  &  &  &  &  &  \\\\ \n",
    "987 &  & 1597 &  & 2584 &  & 4181 &  & 6765 &  & 10946 &  & 17711 &  & 28657\n",
    "\\\\ \n",
    "&  &  &  &  &  &  &  &  &  &  &  &  &  &  \\\\ \n",
    "46368 &  & 75025 &  & 121393 &  & 196418 &  & 317811 &  & 614229 &  & 832040\n",
    "&  & 1346269 \\\\ \n",
    "&  &  &  &  &  &  &  &  &  &  &  &  &  &  \\\\ \n",
    "2178309 &  & 3524578 &  & 5702887 &  & 9227465 &  & 14930352 &  & 24157817 & \n",
    "& 39088169 &  & 63245986%\n",
    "\\end{array}$$\n"
   ]
  },
  {
   "cell_type": "markdown",
   "metadata": {},
   "source": [
    "**Exercise 2:** Write a code that computes the first N Fibonacci numbers, saves them into an array, and displays them on the screen."
   ]
  },
  {
   "cell_type": "markdown",
   "metadata": {},
   "source": [
    "**WAIT** -- before you read the next cell, try to do Exercise 2!"
   ]
  },
  {
   "cell_type": "code",
   "execution_count": null,
   "metadata": {},
   "outputs": [],
   "source": [
    "N = 20   # Set the size of the list we will compute\n",
    "\n",
    "F=[0,1]  # The first two numbers in the list\n",
    "for i in range(2, N):\n",
    "    F.append(F[i-1]+F[i-2])  # append the next item on the list\n",
    "\n",
    "print('First',N,'Fibonacci numbers:',F)"
   ]
  },
  {
   "cell_type": "markdown",
   "metadata": {},
   "source": [
    "**For fun,** we can make a little widget to control how many numbers to print out. "
   ]
  },
  {
   "cell_type": "code",
   "execution_count": null,
   "metadata": {},
   "outputs": [],
   "source": [
    "from ipywidgets import interact\n",
    "\n",
    "def printFib(N=10):\n",
    "    F=[0,1]  # The first two numbers in the list\n",
    "    for i in range(2, N):\n",
    "        F.append(F[i-1]+F[i-2])  # append the next item on the list\n",
    "    print(F)\n",
    "    \n",
    "interact(printFib, N=(10,100,10));"
   ]
  },
  {
   "cell_type": "markdown",
   "metadata": {},
   "source": [
    "By moving the slider above, print out the first 100 Fibonacci numbers\n",
    "\n",
    "As we can see, this sequence grows pretty fast. The Fibonacci numbers seem\n",
    "to have one more digit after about every five terms in the sequence."
   ]
  },
  {
   "cell_type": "markdown",
   "metadata": {},
   "source": [
    "## How fast does it grow?\n",
    "\n",
    "One of the ways to study the growth of a sequence is to look at ratios between consecutive terms. We  look at ratios of pairs of numbers in the Fibonacci sequence. \n",
    "\n",
    "The first few values are\n",
    "\\begin{eqnarray}\n",
    "F_2/F_1 &=& 1 \\\\\n",
    "F_3/F_2 &=& 2/1 = 2 \\\\\n",
    "F_4/F_3 &=& 3/2 = 1.5 \\\\ \n",
    "F_5/F_4 &=& 5/3 = 1.666... \\\\ \n",
    "F_6/F_5  &=& 8/5 = 1.6 \\\\ \n",
    "F_7/F_6  &=& 13/8 = 1.625 \n",
    "\\end{eqnarray}\n",
    "\n",
    "So the ratios are levelling out somewhere around 1.6. We observe that $1.6^5 \\approx 10$, which is why after every five terms in the Fibonacci sequence, we get another digit. This tells us we have roughly  **exponential growth,** where $F_n$ grows about as quickly as the exponential function $(1.6)^n$.\n",
    "\n",
    "We can check this computation in Python. We use $ ** $ to take a power, as in the following cell. "
   ]
  },
  {
   "cell_type": "code",
   "execution_count": null,
   "metadata": {},
   "outputs": [],
   "source": [
    "(1.6)**5"
   ]
  },
  {
   "cell_type": "markdown",
   "metadata": {},
   "source": [
    "## The Golden Ratio\n",
    "\n",
    "We can print out a bunch of these ratios, and plot them, just to see that they do. The easiest way to do this is with a bit of Python code. Perhaps you can try this yourself.\n",
    "\n",
    "**Exercise 3** Write some code that computes the first N ratios $F_{n+1}/F_n$, save them it into an array, and displays them on the screen."
   ]
  },
  {
   "cell_type": "markdown",
   "metadata": {},
   "source": [
    "**WAIT!** Don't read any further until you try the exercises."
   ]
  },
  {
   "cell_type": "code",
   "execution_count": null,
   "metadata": {
    "scrolled": true
   },
   "outputs": [],
   "source": [
    "from matplotlib.pyplot import * \n",
    "\n",
    "N = 20\n",
    "F = [0,1]\n",
    "R = []\n",
    "for i in range(2, N):\n",
    "    F.append(F[i-1]+F[i-2])  # append the next item on the list\n",
    "    R.append(F[i]/F[i-1])\n",
    "\n",
    "\n",
    "figure(figsize=(10,6));\n",
    "plot(R,'o')\n",
    "title('The first '+str(N-2)+' Ratios $F_{n+1}/F_n$')\n",
    "xlabel('$n$')\n",
    "ylabel('$Ratio$');\n",
    "\n",
    "print('The first', N-2, 'ratios are:',R)\n"
   ]
  },
  {
   "cell_type": "markdown",
   "metadata": {},
   "source": [
    "We see the numbers are levelling out at the value 1.6108034...  This number may be familiar to you. It is called the **Golden Ratio.** \n",
    "\n",
    "We can compute the exact value by observing the ratios satisfy a nice algebraic equation:\n",
    "$$\n",
    "\\frac{F_{n+2}}{F_{n+1}}=\\frac{F_{n+1}+F_{n}}{F_{n+1}}=1+\\frac{F_{n}}{F_{n+1}}=1+\\frac{1}{\\frac{F_{n+1}}{F_{n}}},\n",
    "$$\n",
    "or more simply \n",
    "$$\\frac{F_{n+2}}{F_{n+1}}=1+\\frac{1}{\\frac{F_{n+1}}{F_{n}}}.$$\n",
    "\n",
    "As $n$ gets larger and larger, the ratios $F_{n+2}/F_{n+1}$ and $F_{n+1}/F_{n}$ tend toward a final value, say $x$. This value must then solve the equation\n",
    "$$x=1+\\frac{1}{x}.$$\n",
    "\n",
    "We rewrite this as a quadratic equation\n",
    "$$x^2=x+1$$ \n",
    "which we solve from the quadratic formula\n",
    "$$ x= \\frac{1 \\pm \\sqrt{1+4}}{2} = \\frac{1 \\pm \\sqrt{5}}{2}.$$\n",
    "It is the positive solution $x= \\frac{1 + \\sqrt{5}}{2} = 1.6108034...$ which is called the Golden Ratio.\n",
    "\n"
   ]
  },
  {
   "cell_type": "markdown",
   "metadata": {},
   "source": [
    "The **Golden ratio** comes up in art, geometry, and  Greek mythology as a perfect ratio that is pleasing to the eye (and to the gods). \n",
    "\n",
    "For instance, the rectangle shown below is said to have the dimensions of the Golden ratio, because the big rectangle has the same shape as the smaller rectangle inside. Mathematically, we have the ratios of lengths\n",
    "$$ \\frac{a+b}{a} = \\frac{a}{b}.$$\n",
    "\n",
    "![Golden ratio rectangle](images/Golden2.png)\n",
    "\n",
    "Writing $x = \\frac{a}{b}$, the above equation simplifies to\n",
    "$$ 1 + \\frac{1}{x} = x,$$\n",
    "which is the same quadratic equation we saw for the limit of ratios of Fibonacci numbers."
   ]
  },
  {
   "cell_type": "markdown",
   "metadata": {},
   "source": [
    "For more information about the Golden ratio see\n",
    "https://en.wikipedia.org/wiki/Golden_ratio"
   ]
  },
  {
   "cell_type": "markdown",
   "metadata": {},
   "source": [
    "## A Formula for the Fibonacci Sequence $F_n$"
   ]
  },
  {
   "cell_type": "markdown",
   "metadata": {},
   "source": [
    "Let's give the Golden ratio a special name. In honour of the ancient Greeks who used it so much, we call it `phi:'\n",
    "$$ \\varphi = \\frac{1 + \\sqrt{5}}{2}. $$\n",
    "We'll call the other quadratic root 'psi:'\n",
    "$$ \\psi = \\frac{1 - \\sqrt{5}}{2}. $$\n",
    "This number $\\psi$ is called the **conjugate** of $\\varphi$ because it looks the same, except for the negative sign in front of the $\\sqrt{5}$.\n",
    "\n",
    "Here's something **amazing.** It turns out that we have a remarkable formula for the Fibonnaci numbers, in terms of these two Greek numbers. The formula says\n",
    "$$F_n = \\frac{\\varphi^n - \\psi^n}{\\sqrt{5}}.$$\n"
   ]
  },
  {
   "cell_type": "markdown",
   "metadata": {},
   "source": [
    "#### Wow!\n",
    "\n",
    "Seems amazing. And it is handy because now we can compute, say, the thousandth term in the sequence, $F_{1000}$ directly, without having to compute all the other terms that come before. \n",
    "\n",
    "But, whenever someone gives you a formula, you should check it!\n",
    "\n",
    "**Exercise 4:** Write a piece of code to show that the formula above, with $\\varphi,\\psi$ does produce, say, the first 20 Fibonnaci numbers.\n",
    "\n",
    "**WAIT!** Don't go on until you try writing a program yourself, to compute the Fibonacci numbers using only powers of $\\varphi, \\psi$."
   ]
  },
  {
   "cell_type": "code",
   "execution_count": null,
   "metadata": {},
   "outputs": [],
   "source": [
    "## SOLUTION (don't peak!)\n",
    "\n",
    "from numpy import *  ## We need this to define square roots\n",
    "phi = (1 + sqrt(5))/2\n",
    "psi = (1 - sqrt(5))/2\n",
    "for n in range(20):\n",
    "    print( (phi**n - psi**n)/sqrt(5) ) \n"
   ]
  },
  {
   "cell_type": "markdown",
   "metadata": {},
   "source": [
    "Looking at that computer output, it does seem to give Fibonacci numbers, with a bit of numerical error.\n",
    "\n",
    "## Checking the Math\n",
    "\n",
    "Doing math, though, we like exact answers and we want to know why. So WHY does this formula $(\\phi^n - \\psi^n)/\\sqrt{5}$ give Fibonacci numbers?\n",
    "\n",
    "Well, we can check, step by step.\n",
    "\n",
    "For $n=0$, the formula gives \n",
    "$$\\frac{\\varphi^0 - \\psi^0}{\\sqrt{5}} = \\frac{1-1}{\\sqrt{5}} = 0,$$ which is $F[0]$, the first Fibonacci number. \n",
    "\n",
    "For $n=1$, the formula gives \n",
    "$$\\frac{\\varphi^1 - \\psi^1}{\\sqrt{5}} =\n",
    "\\frac{\\frac{1 + \\sqrt{5}}{2} - \\frac{1 -\\sqrt{5}}{2} }{\\sqrt{5}} = \\frac{\\sqrt{5}}{\\sqrt{5}} = 1,$$ which is $F[1]$, the next Fibonacci number. \n",
    "\n",
    "For $n=2$, it looks harder because we get the squares $\\varphi^2, \\psi^2$ in the formula. But then remember that both $\\varphi$ and $\\psi$ solve the quadratic $x^2 = x+1$, so we know $\\varphi^2 = \\phi +1$ and $\\psi^2 = \\psi +1$. So we can write\n",
    "$$\\frac{\\phi^2 - \\psi^2}{\\sqrt{5}} = \\frac{\\phi + 1 - \\psi -1}{\\sqrt{5}} = \\frac{\\phi - \\psi }{\\sqrt{5}} = 1,$$\n",
    "since we already calculated this in the $n=1$ step. So this really is $F[2]=1$.\n",
    "\n",
    "For $n=3,4,5,\\ldots$ again it might seem like it will be hard because of the higher powers. But multiplying the formulas $\\varphi^2 = \\varphi +1$ and $\\psi^2 = \\psi +1$ by powers of $\\phi$ and $\\psi$, we get\n",
    "\n",
    "$$\\begin{eqnarray*}\n",
    "\\varphi^2 &=& \\varphi +1,\\quad \\varphi^3 = \\varphi^2+\\varphi\n",
    ",\\quad \\varphi^4=\\varphi^3+\\varphi^2,\\qquad \\dots \\qquad %\n",
    "\\varphi^{n+2}=\\varphi^{n+1}+{\\varphi}^n,\\quad \\text{and} \\\\\n",
    "\\psi^2 &=&\\psi +1,\\quad \\psi^3=\\psi^2+\\psi ,\\quad \\psi^4=\\psi^3+\\psi^2,\\qquad \n",
    "\\dots \\qquad \\psi^{n+2}=\\psi^{n+1}+\\psi^n.\n",
    "\\end{eqnarray*}$$\n",
    "\n",
    "So, assuming we know the generating formula already for $n$ and $n+1$ we can write the next term as\n",
    "$$\\frac{\\varphi^{n+2} - \\psi^{n+2}}{\\sqrt{5}} = \\frac{\\varphi^{n+1} +\\varphi^n - \\psi^{n+1} - \\psi^n}{\\sqrt{5}}\n",
    "= \\frac{\\varphi^{n+1} - \\psi^{n+1}}{\\sqrt{5}} + \\frac{\\varphi^{n} - \\psi^{n}}{\\sqrt{5}} = F[n+1] + F[n] = F[n+2].$$\n",
    "\n",
    "So we do get $\\frac{\\varphi^{n+2} - \\psi^{n+2}}{\\sqrt{5}} = F[n+2]$, and the formula holds for all numbers n. \n",
    "\n",
    "This method of verifying the formula for all n, based on previous values of n, is an example of **mathematical induction.**"
   ]
  },
  {
   "cell_type": "markdown",
   "metadata": {},
   "source": [
    "## Why did this work?\n",
    "\n",
    "Well, from the Golden ratio, we have the formula $\\varphi^2 = \\varphi + 1$, which then gives the formula $\\varphi^{n+2} = \\varphi^{n+1} + \\varphi^n$.  This looks a lot like the Fibonacci formula $$F[n+2] = F[n+1] + F[n].$$ Same powers of $\\psi$.\n",
    "\n",
    "If we take ANY linear combination of powers of $\\varphi, \\psi$, such as\n",
    "$$f(n) = 3\\varphi^n + 4\\psi^n,$$\n",
    "we will get a sequence that behaves like the Fibonacci sequence, with $f(n+2) = f(n+1) + f(n).$ To get the 'right' Fibonacci sequence, we just have to replace the 3 and 4 with the right coefficients."
   ]
  },
  {
   "cell_type": "markdown",
   "metadata": {},
   "source": [
    "## From sequences to functions\n",
    "\n",
    "Wouldn't it be fun to extend Fibonacci numbers to a function, defined for all numbers $x$?\n",
    "\n",
    "The problems is the function \n",
    "$$F[x] = \\frac{\\varphi^x - \\psi^x}{\\sqrt{5}}$$\n",
    "is not defined for values of $x$ other than integers. \n",
    "\n",
    "The issue is the term $\\psi^{x}=\\left( \\frac{1-\\sqrt{5}}{2}\\right) ^{x}$, which is the power of a negative number.\n",
    "We don't really know how to define that. For instance, what is the square root of a negative number?\n",
    "\n",
    "To\n",
    "overcome this technical difficulty, we write\n",
    "\n",
    "$$\\psi ^{x}=\\left( -\\left( -\\psi \\right) \\right) ^{x}=\\left( -\\left( \\frac{%\n",
    "\\sqrt{5}-1}{2}\\right) \\right) ^{x}=\\left( -1\\right) ^{x}\\left( \\frac{\\sqrt{5}%\n",
    "-1}{2}\\right) ^{x}. $$\n",
    "\n",
    "Now the factor $\\left( \\frac{\\sqrt{5}-1}{2} \\right) ^{x}$ make sense since \n",
    "the number inside the brackets is positive. We have localized the problem into the powers of $-1$ for the term $\\left(\n",
    "-1\\right) ^{x}$. We would like to replace this term  by a\n",
    "continuous function $m(x)$ such that it takes the values $\\pm1$ on the integers. That is,\n",
    "\n",
    "$$m(n) =1\\quad \\text{if }n\\text{ is even }\\quad\\text{and}\\quad m(n) =-1\\quad \\text{if }n\\text{ is odd.} $$\n",
    "\n",
    "The cosine function works. That is\n",
    "\n",
    "$$m\\left( x\\right) =\\cos \\left( \\pi x\\right) \\qquad \\text{does the job.} $$\n",
    "That is:\n",
    "$$\\cos \\left( n\\pi \\right) =1\\quad \\text{if }n\\text{ is even}\\quad\\text{ and}\\quad %\n",
    "\\cos \\left( n\\pi \\right) =-1\\quad \\text{if }n\\text{ is odd.}$$\n",
    "\n",
    "Why this is a **good** choice would lead us to complex numbers and more!"
   ]
  },
  {
   "cell_type": "markdown",
   "metadata": {},
   "source": [
    "Hence, we obtain the following closed formula for our function $F[x]:$\n",
    "\n",
    "$$\\begin{eqnarray*}\n",
    "F[x]  &=&\\frac{{\\varphi }^{x}-\\left( -1\\right) ^{x}\\left( -\\psi\n",
    "\\right) ^{x}}{{\\varphi -\\psi }}=\\frac{1}{\\sqrt{5}}\\left( {\\varphi }%\n",
    "^{x}-\\left( -1\\right) ^{x}\\left( -\\psi \\right) ^{x}\\right)  \\\\\n",
    "&=&\\frac{1}{\\sqrt{5}}\\left( \\left( \\frac{1+\\sqrt{5}}{2}\\right) ^{x}-\\cos\n",
    "\\left( \\pi x\\right) \\left( \\frac{\\sqrt{5}-1}{2}\\right) ^{x}\\right) .\n",
    "\\end{eqnarray*}$$\n",
    "\n",
    "Let's plot this function, and the Fibonacci sequence.\n"
   ]
  },
  {
   "cell_type": "markdown",
   "metadata": {},
   "source": [
    "## A plot of the continuous Fibonacci function"
   ]
  },
  {
   "cell_type": "code",
   "execution_count": null,
   "metadata": {},
   "outputs": [],
   "source": [
    "from numpy import *\n",
    "from matplotlib.pyplot import *\n",
    "\n",
    "phi=(1+5**(1/2))/2\n",
    "psi=(5**(1/2)-1)/2\n",
    "\n",
    "x = arange(0,10)\n",
    "y = (pow(phi,x) - cos(pi*x)*pow(psi,x))/sqrt(5)\n",
    "xx = linspace(0,10)\n",
    "yy = (pow(phi,xx) - cos(pi*xx)*pow(psi,xx))/sqrt(5)\n",
    "\n",
    "figure(figsize=(10,6));\n",
    "plot(x,y,'o',xx,yy);\n",
    "title('The continuous Fibonacci function')\n",
    "xlabel('$x$')\n",
    "ylabel('$Fib(x)$');"
   ]
  },
  {
   "cell_type": "markdown",
   "metadata": {},
   "source": [
    "## A plot with negative values\n",
    "\n",
    "Well, with this general definition, we can even include negative numbers for $x$ in the function.\n",
    "\n",
    "Let's plot this too. "
   ]
  },
  {
   "cell_type": "code",
   "execution_count": null,
   "metadata": {},
   "outputs": [],
   "source": [
    "from numpy import *\n",
    "from matplotlib.pyplot import *\n",
    "\n",
    "phi=(1+5**(1/2))/2\n",
    "psi=(5**(1/2)-1)/2\n",
    "\n",
    "x = arange(-10,10)\n",
    "y = (pow(phi,x) - cos(pi*x)*pow(psi,x))/sqrt(5)\n",
    "xx = linspace(-10,10,200)\n",
    "yy = (pow(phi,xx) - cos(pi*xx)*pow(psi,xx))/sqrt(5)\n",
    "\n",
    "\n",
    "figure(figsize=(10,6));\n",
    "plot(x,y,'o',xx,yy);\n",
    "title('The Fibonacci function, extended to negative values')\n",
    "xlabel('$x$')\n",
    "ylabel('$Fib(x)$');\n"
   ]
  },
  {
   "cell_type": "markdown",
   "metadata": {},
   "source": [
    "So we see we can even get negative Fibonacci numbers!"
   ]
  },
  {
   "cell_type": "markdown",
   "metadata": {},
   "source": [
    "## The Golden Ratio and Continued Fractions"
   ]
  },
  {
   "cell_type": "markdown",
   "metadata": {},
   "source": [
    "We have found that the Golden ratio ${\\varphi =}\\frac{{1+}\\sqrt{5}}{2}$\n",
    "satisfies the identity\n",
    "\n",
    "$$\n",
    "{\\varphi =1+}\\frac{1}{{\\varphi }}.\n",
    "$$\n",
    "\n",
    "Substituting for ${\\varphi }$ on the denominator in the right, we obtain\n",
    "\n",
    "$$\n",
    "{\\varphi =1+}\\frac{1}{{1+}\\frac{1}{{\\varphi }}}.\n",
    "$$\n",
    "\n",
    "Substituting again for ${\\varphi }$ on the denominator in the right, we\n",
    "obtain\n",
    "\n",
    "$$\n",
    "{\\varphi =1+}\\frac{1}{{1+}\\dfrac{1}{{1+}\\frac{1}{{\\varphi }}}}.\n",
    "$$\n",
    "\n",
    "Repeating this again,\n",
    "\n",
    "$$\n",
    "{\\varphi =1+}\\frac{1}{{1+}\\dfrac{1}{{1+}\\dfrac{1}{{1+}\\frac{1}{{\\varphi }}}}}%\n",
    ".$$\n",
    "\n",
    "And again,\n",
    "\n",
    "$$\n",
    "{\\varphi =1+}\\frac{1}{{1+}\\dfrac{1}{{1+}\\dfrac{1}{{1+}\\dfrac{1}{{1+}\\frac{1}{%\n",
    "{\\varphi }}}}}}.\n",
    "$$\n",
    "\n",
    "And again,\n",
    "\n",
    "$$\n",
    "{\\varphi =1+}\\frac{1}{{1+}\\dfrac{1}{{1+}\\dfrac{1}{{1+}\\dfrac{1}{{1+}\\dfrac{1%\n",
    "}{{1+}\\frac{1}{{\\varphi }}}}}}}.\n",
    "$$\n",
    "\n",
    "We see that this process can be $\\textit{continued indefinitely}$. This results\n",
    "in an $\\textit{infinite expansion of a fraction}$. These type of expressions are known as \n",
    "$\\textbf{continued fractions}$:\n",
    "\n",
    "$$\n",
    "{\\varphi =1+}\\frac{1}{{1+}\\dfrac{1}{{1+}\\dfrac{1}{{1+}\\dfrac{1}{{1+}\\dfrac{1%\n",
    "}{{1+}\\dfrac{1}{{1+}\\dfrac{1}{1+\\dfrac{1}{{\\vdots }}}}}}}}}.\n",
    "$$\n",
    "\n",
    "We can approximate continued fractions with the finite fractions obtained by\n",
    "stopping the development at some point. In our case, we obtain the\n",
    "approximates\n",
    "\n",
    "$$\n",
    "1,~1+1,~1+\\frac{1}{1+1},~1+\\frac{1}{1+\\dfrac{1}{1+1}},~1+\\frac{1}{1+\\dfrac{1%\n",
    "}{1+\\dfrac{1}{1+1}}},~1+\\frac{1}{1+\\dfrac{1}{1+\\dfrac{1}{1+\\dfrac{1}{1+1}}}}%\n",
    ",\\dots \n",
    "$$\n",
    "\n",
    "Explicitly, these approximates are\n",
    "\n",
    "$$\n",
    "1,~2,~\\frac{3}{2},~\\frac{5}{3},~\\frac{8}{5},~\\frac{13}{8},\\dots \n",
    "$$\n",
    "\n",
    "This looks like it is just the sequence of ratios $F_{n+1}/F_n$ we saw above!  How can we prove this is the case for all $n$?\n",
    "\n",
    "We know that the sequence $R_{n} = F_{n+1}/F_n$ satisfies the recursive relation. \n",
    "\n",
    "$$\n",
    "R_{n}=\\frac{F_{n+1}}{F_{n}}=1+\\frac{F_{n-1}}{F_{n}}=1+\\frac{1}{R_{n-1}}%\n",
    ",\\qquad \\text{with}\\qquad R_{1}=1.\n",
    "$$\n",
    "\n",
    "Then, we can generate all the terms in the sequence $R_{n}$ by staring with $%\n",
    "R_{1}=1$, and then using the relation $R_{n+1}=1+\\frac{1}{R_{n}}:$\n",
    "\n",
    "$$\n",
    "\\begin{eqnarray*}\n",
    "R_{1} &=&1 \\\\\n",
    "R_{2} &=&1+\\frac{1}{R_{1}}=1+\\frac{1}{1}=2 \\\\\n",
    "R_{3} &=&1+\\frac{1}{R_{2}}=1+\\frac{1}{1+R_{1}}=1+\\frac{1}{1+1} \\\\\n",
    "R_{4} &=&1+\\frac{1}{R_{3}}=1+\\frac{1}{1+\\frac{1}{1+1}} \\\\\n",
    "R_{5} &=&1+\\frac{1}{R_{4}}=1+\\frac{1}{1+\\frac{1}{1+\\frac{1}{1+1}}} \\\\\n",
    "&&\\vdots \n",
    "\\end{eqnarray*}\n",
    "$$\n",
    "\n",
    "This confirms that both the sequence of rations $R_{n}$ and the sequence of\n",
    "approximations to the continuous fraction of ${\\varphi }$ are the same\n",
    "sequence. $\\square $\n",
    "\n",
    "In general, continued fractions are expressions of the form\n",
    "\n",
    "$$\n",
    "a_{0}+\\frac{1}{a_{1}+\\dfrac{1}{a_{2}+\\dfrac{1}{a_{3}+\\dots }}}\n",
    "$$\n",
    "\n",
    "where $a_{0}$ is an integer and $a_{1},a_{2},a_{3},\\dots $ are positive\n",
    "integers. These type of fractions are abbreviated by the notation\n",
    "\n",
    "$$\n",
    "\\left[ a_{0};a_{1},a_{2},a_{3},\\dots \\right] =a_{0}+\\frac{1}{a_{1}+\\dfrac{1}{%\n",
    "a_{2}+\\dfrac{1}{a_{3}+\\dots }}}.\n",
    "$$\n",
    "\n",
    "For example\n",
    "\n",
    "$$\n",
    "\\begin{eqnarray*}\n",
    "\\left[ 1;1,1,2\\right]  &=&1+\\frac{1}{1+\\dfrac{1}{1+\\dfrac{1}{1+1}}}=\\frac{8}{%\n",
    "5} \\\\\n",
    "&& \\\\\n",
    "\\left[ 1;1,1,1,1,\\dots \\right]  &=&{1+}\\frac{1}{{1+}\\dfrac{1}{{1+}\\dfrac{1}{%\n",
    "{1+}\\dfrac{1}{{1+}\\dfrac{1}{{1+}\\dfrac{1}{{1+}\\dfrac{1}{1+\\dfrac{1}{{\\vdots }%\n",
    "}}}}}}}}={\\varphi }\n",
    "\\end{eqnarray*}\n",
    "$$\n",
    "\n",
    "For more information of continued fractions, see\n",
    "https://en.wikipedia.org/wiki/Continued_fraction \n",
    "\n"
   ]
  },
  {
   "cell_type": "markdown",
   "metadata": {},
   "source": [
    "## Conclusion\n",
    "\n",
    "### What have we learned?\n",
    "\n",
    "- a **sequence** is an ordered list of numbers, which may go on forever.\n",
    "- the **Fibonacci sequence** 0,1,1,2,3,5,8,13,... is a famous list of numbers, well-studied since antiquity.\n",
    "- each number in this sequence is the sum of the two coming before it in the sequence.\n",
    "- the sequence grows fast, increasing by a **factor** of about **10** for every **five** terms.\n",
    "- the **ratio** of pairs of Fibonacci numbers converges to the **Golden ratio,** known since the ancient Greeks as the number\n",
    "$$\\varphi = \\frac{1 + \\sqrt{5}}{2} \\approx 1.6108.$$\n",
    "- the Fibonacci numbers can be computed directly as the difference of powers of $\\varphi$ and its **conjugate,** $\\psi = \\frac{1 - \\sqrt{5}}{2}.$ This is sometimes faster than computing the whole list of Fibonnaci numbers.\n",
    "- this formula with powers of $\\varphi, \\psi$ is verified using **induction.**\n",
    "- The Fibonacci numbers can be **extended** to a **continuous function** $Fib(x)$, defined for all real numbers $x$ (including negatives). It **oscillates** (wiggles) on the negative x-axis.\n",
    "- The **Golden Ratio** can also be expressed a **continued fraction,** which is an infinite expansion of fractions with sub-fraction terms. Many interesting numbers come from interesting continued fraction forms."
   ]
  },
  {
   "cell_type": "markdown",
   "metadata": {},
   "source": [
    "[![Callysto.ca License](https://github.com/callysto/curriculum-notebooks/blob/master/callysto-notebook-banner-bottom.jpg?raw=true)](https://github.com/callysto/curriculum-notebooks/blob/master/LICENSE.md)"
   ]
  }
 ],
 "metadata": {
  "kernelspec": {
   "display_name": "Python 3",
   "language": "python",
   "name": "python3"
  },
  "language_info": {
   "codemirror_mode": {
    "name": "ipython",
    "version": 3
   },
   "file_extension": ".py",
   "mimetype": "text/x-python",
   "name": "python",
   "nbconvert_exporter": "python",
   "pygments_lexer": "ipython3",
   "version": "3.7.6"
  }
 },
 "nbformat": 4,
 "nbformat_minor": 1
}
