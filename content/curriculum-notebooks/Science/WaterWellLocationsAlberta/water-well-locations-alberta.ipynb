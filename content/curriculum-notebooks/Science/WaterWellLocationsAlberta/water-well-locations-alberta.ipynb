{
 "cells": [
  {
   "cell_type": "markdown",
   "metadata": {},
   "source": [
    "![Callysto.ca Banner](https://github.com/callysto/curriculum-notebooks/blob/master/callysto-notebook-banner-top.jpg?raw=true)\n",
    "\n",
    "<a href=\"https://colab.research.google.com/github/callysto/jupyterlite/blob/main/content/curriculum-notebooks/Science/WaterWellLocationsAlberta/water-well-locations-alberta.ipynb\" target=\"_parent\"><img src=\"https://colab.research.google.com/assets/colab-badge.svg?sanitize=true\" width=\"123\" height=\"24\" alt=\"Open in Callysto\"/></a>"
   ]
  },
  {
   "cell_type": "markdown",
   "metadata": {},
   "source": [
    "# Water Well Locations in Alberta\n",
    "\n",
    "The Alberta Goverment maintains a [database of water well locations in the province](https://www.alberta.ca/alberta-water-well-information-database-overview.aspx), containing \"approximately 500,000 records with nearly 3,000 new records added annually.\"\n",
    "\n",
    "This is a large dataset, and since it is in [Microsoft Access](https://github.com/mkleehammer/pyodbc) format it's not all that easy to import into a Jupyter notebook.\n",
    "\n",
    "We have downloaded the dataset and exported the water well locations to a CSV file. `▶Run` the next cell to import the dataset."
   ]
  },
  {
   "cell_type": "code",
   "execution_count": null,
   "metadata": {},
   "outputs": [],
   "source": [
    "%pip install plotly nbformat geopy folium\n",
    "\n",
    "import pandas as pd\n",
    "df = pd.read_csv('https://drive.google.com/u/0/uc?id=1ptQoyoGhAv81R4A7VzupiYBhbBSD5uEy&export=download', low_memory=False)\n",
    "print('The dataset contains',df.shape[0],'records.')"
   ]
  },
  {
   "cell_type": "markdown",
   "metadata": {},
   "source": [
    "## Map by Place Name\n",
    "\n",
    "Let's generate a map to display the locations of these water wells.\n",
    "\n",
    "It would be unmanageable to add that many markers to a map, but we can add markers for wells that are within half a degree of latitude or longitude of a location.\n",
    "\n",
    "You should be able to change the `location` to any town or city in Alberta, then `▶Run` the cell to generate a map."
   ]
  },
  {
   "cell_type": "code",
   "execution_count": null,
   "metadata": {},
   "outputs": [],
   "source": [
    "location = 'Edmonton, AB'\n",
    "\n",
    "# try to get the coordinates of that location\n",
    "from geopy.geocoders import Nominatim\n",
    "geolocator = Nominatim(user_agent='Callysto Water Wells')\n",
    "try:\n",
    "    coordinates = geolocator.geocode(location)\n",
    "    latitude = coordinates.latitude\n",
    "    longitude = coordinates.longitude\n",
    "    print('Generating map of water wells near', location)\n",
    "except:\n",
    "    print('Location lookup unsuccessful, generating map of water wells near Lethbridge, AB')\n",
    "    latitude = 49.7\n",
    "    longitude = -112.8\n",
    "\n",
    "# generate the map\n",
    "import folium\n",
    "from folium.plugins import MarkerCluster\n",
    "m = folium.Map(location=[latitude,longitude],zoom_start=6)\n",
    "mc = MarkerCluster()\n",
    "latitudes = df['Latitude'].between(latitude-0.25, latitude+0.25)\n",
    "longitudes = df['Longitude'].between(longitude-0.25, longitude+0.25)\n",
    "map_data = df[(latitudes) & (longitudes)]\n",
    "for row in map_data.itertuples():\n",
    "    mc.add_child(folium.Marker(location=[row.Latitude,row.Longitude], popup=row.Well_ID))\n",
    "m.add_child(mc)\n",
    "m"
   ]
  },
  {
   "cell_type": "markdown",
   "metadata": {},
   "source": [
    "## Map by Coordinates\n",
    "\n",
    "If we would prefer to map the well locations near a particular set of coordinates (latitude and longitude), we can visit [OpenStreetMap](https://www.openstreetmap.org) and right-click on a location then click `Show address` to display the coordinates.\n",
    "\n",
    "Or we can generate a map of Alberta with a grid and some markers using the next code cell to help us find coordinates."
   ]
  },
  {
   "cell_type": "code",
   "execution_count": null,
   "metadata": {},
   "outputs": [],
   "source": [
    "print('Click a marker on the map to see its coordinates')\n",
    "m = folium.Map(location=[53.5,-114],zoom_start=5)\n",
    "for lat in range(49, 60):\n",
    "    for lon in range(-120, -110):\n",
    "        A = (lat, lon)\n",
    "        B = (lat, lon+1)\n",
    "        C = (lat+1, lon+1)\n",
    "        D = (lat+1, lon)\n",
    "        box = [A, B, C, D, A]\n",
    "        center = [lat+0.5, lon+0.5]\n",
    "        folium.Marker(location=center, popup=center).add_to(m)\n",
    "        folium.PolyLine(box).add_to(m)\n",
    "m"
   ]
  },
  {
   "cell_type": "markdown",
   "metadata": {},
   "source": [
    "Once we have latitude and longitude values, we can input them into the following code cell to see water wells near that location."
   ]
  },
  {
   "cell_type": "code",
   "execution_count": null,
   "metadata": {
    "scrolled": true
   },
   "outputs": [],
   "source": [
    "latitude = 56.5\n",
    "longitude = -111.5\n",
    "\n",
    "m = folium.Map(location=[latitude,longitude],zoom_start=6)\n",
    "mc = MarkerCluster()\n",
    "latitudes = df['Latitude'].between(latitude-0.25, latitude+0.25)\n",
    "longitudes = df['Longitude'].between(longitude-0.25, longitude+0.25)\n",
    "map_data = df[(latitudes) & (longitudes)]\n",
    "for row in map_data.itertuples():\n",
    "    mc.add_child(folium.Marker(location=[row.Latitude,row.Longitude], popup=row.Well_ID))\n",
    "m.add_child(mc)\n",
    "m"
   ]
  },
  {
   "cell_type": "markdown",
   "metadata": {},
   "source": [
    "## Counting Wells\n",
    "\n",
    "We can also count how many water wells are in the dataset near a particular location."
   ]
  },
  {
   "cell_type": "code",
   "execution_count": null,
   "metadata": {},
   "outputs": [],
   "source": [
    "location = 'Edmonton, AB'\n",
    "degrees_away = 0.5\n",
    "\n",
    "coordinates = geolocator.geocode(location)\n",
    "latitude = coordinates.latitude   # or put in a number here\n",
    "longitude = coordinates.longitude # or put in a number here\n",
    "da = degrees_away/2\n",
    "latitudes = df['Latitude'].between(latitude-da, latitude+da)\n",
    "longitudes = df['Longitude'].between(longitude-da, longitude+da)\n",
    "map_data = df[(latitudes) & (longitudes)]\n",
    "print('There are', map_data.shape[0], 'water wells within', degrees_away, 'degrees of', location)"
   ]
  },
  {
   "cell_type": "markdown",
   "metadata": {},
   "source": [
    "## Mapping All Well Locations\n",
    "\n",
    "If you want to generate a map of all water well locations in Alberta, copy the following code into the next code cell. This will take quite a while to run, and the resulting map may cause your web browser to freeze.\n",
    "\n",
    "```python\n",
    "m = folium.Map(location=[53.5,-114],zoom_start=5)\n",
    "mc = MarkerCluster()\n",
    "for row in df.itertuples():\n",
    "    mc.add_child(folium.Marker(location=[row.Latitude,row.Longitude], popup=row.Well_ID))\n",
    "m.add_child(mc)\n",
    "m\n",
    "```"
   ]
  },
  {
   "cell_type": "code",
   "execution_count": null,
   "metadata": {},
   "outputs": [],
   "source": []
  },
  {
   "cell_type": "markdown",
   "metadata": {},
   "source": [
    "## Conclusion\n",
    "\n",
    "From this dataset of water wells we are able to generate maps of well locations across Alberta.\n",
    "\n",
    "*Government of Alberta, Alberta Water Well Information Database. Retrieved 2020-12-19, from http://groundwater.alberta.ca/WaterWells/d. Contains Information licensed under the Open Government License – Alberta.*"
   ]
  },
  {
   "cell_type": "markdown",
   "metadata": {},
   "source": [
    "[![Callysto.ca License](https://github.com/callysto/curriculum-notebooks/blob/master/callysto-notebook-banner-bottom.jpg?raw=true)](https://github.com/callysto/curriculum-notebooks/blob/master/LICENSE.md)"
   ]
  }
 ],
 "metadata": {
  "kernelspec": {
   "display_name": "Python 3",
   "language": "python",
   "name": "python3"
  },
  "language_info": {
   "codemirror_mode": {
    "name": "ipython",
    "version": 3
   },
   "file_extension": ".py",
   "mimetype": "text/x-python",
   "name": "python",
   "nbconvert_exporter": "python",
   "pygments_lexer": "ipython3",
   "version": "3.7.3"
  }
 },
 "nbformat": 4,
 "nbformat_minor": 4
}
