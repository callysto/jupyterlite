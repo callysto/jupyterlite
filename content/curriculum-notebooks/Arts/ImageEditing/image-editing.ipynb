{
 "cells": [
  {
   "cell_type": "markdown",
   "metadata": {},
   "source": [
    "![Callysto.ca Banner](https://github.com/callysto/curriculum-notebooks/blob/master/callysto-notebook-banner-top.jpg?raw=true)\n",
    "\n",
    "<a href=\"https://hub.callysto.ca/jupyter/hub/user-redirect/git-pull?repo=https%3A%2F%2Fgithub.com%2Fcallysto%2Fcurriculum-notebooks&branch=master&subPath=Arts/ImageEditing/image-editing.ipynb&depth=1\" target=\"_parent\"><img src=\"https://raw.githubusercontent.com/callysto/curriculum-notebooks/master/open-in-callysto-button.svg?sanitize=true\" width=\"123\" height=\"24\" alt=\"Open in Callysto\"/></a>"
   ]
  },
  {
   "cell_type": "markdown",
   "metadata": {},
   "source": [
    "# Image Editing\n",
    "\n",
    "We can edit images using Python code and the [Pillow](https://python-pillow.org) library.\n",
    "\n",
    "To start, let's open an image from a URL. For this we'll need the [Requests](https://requests.readthedocs.io/en/master) library for downloading and the [shutil](https://docs.python.org/3/library/shutil.html) module for saving the file. Then we can open and display the image."
   ]
  },
  {
   "cell_type": "code",
   "execution_count": null,
   "metadata": {},
   "outputs": [],
   "source": [
    "image_url = 'https://publicdomainvectors.org/photos/Alberta-Icon.png'\n",
    "\n",
    "from PIL import Image, ImageFilter, ImageChops # the Pillow library\n",
    "import requests                                # for downloading images\n",
    "import shutil                                  # for saving downloaded images\n",
    "from IPython.display import Image as IMG       # since Pillow doesn't display animated GIFs\n",
    "import plotly.express as px                    # for plotting histograms\n",
    "\n",
    "source = requests.get(image_url, stream=True).raw\n",
    "destination = open('image.png', 'wb')\n",
    "shutil.copyfileobj(source, destination)\n",
    "image = Image.open('image.png')\n",
    "image"
   ]
  },
  {
   "cell_type": "markdown",
   "metadata": {},
   "source": [
    "## Image Attributes\n",
    "\n",
    "To display image attributes, there are methods such as `format`, `mode`, `info`, and `size`."
   ]
  },
  {
   "cell_type": "code",
   "execution_count": null,
   "metadata": {},
   "outputs": [],
   "source": [
    "image.format"
   ]
  },
  {
   "cell_type": "code",
   "execution_count": null,
   "metadata": {},
   "outputs": [],
   "source": [
    "image.mode"
   ]
  },
  {
   "cell_type": "code",
   "execution_count": null,
   "metadata": {},
   "outputs": [],
   "source": [
    "image.info"
   ]
  },
  {
   "cell_type": "code",
   "execution_count": null,
   "metadata": {},
   "outputs": [],
   "source": [
    "image.size"
   ]
  },
  {
   "cell_type": "markdown",
   "metadata": {},
   "source": [
    "## Cropping an Image\n",
    "\n",
    "To crop an image, we specify the starting `x` and `y` pixel coordinates at the top left and the ending `x` and `y` coordinates at the bottom right. Notice that we need a double set of `()`."
   ]
  },
  {
   "cell_type": "code",
   "execution_count": null,
   "metadata": {},
   "outputs": [],
   "source": [
    "image.crop((20,30,480,110))"
   ]
  },
  {
   "cell_type": "markdown",
   "metadata": {},
   "source": [
    "## Transposing an Image\n",
    "\n",
    "We can use the following `transpose` methods:\n",
    "```\n",
    "Image.FLIP_LEFT_RIGHT\n",
    "Image.FLIP_TOP_BOTTOM\n",
    "Image.ROTATE_90\n",
    "Image.ROTATE_180\n",
    "Image.ROTATE_270\n",
    "Image.TRANSPOSE\n",
    "Image.TRANSVERSE\n",
    "```"
   ]
  },
  {
   "cell_type": "code",
   "execution_count": null,
   "metadata": {},
   "outputs": [],
   "source": [
    "image.transpose(Image.FLIP_LEFT_RIGHT)"
   ]
  },
  {
   "cell_type": "markdown",
   "metadata": {},
   "source": [
    "We can also [rotate](https://pillow.readthedocs.io/en/stable/reference/Image.html#PIL.Image.Image.rotate) an image any number of degrees."
   ]
  },
  {
   "cell_type": "code",
   "execution_count": null,
   "metadata": {},
   "outputs": [],
   "source": [
    "image.rotate(angle=25)"
   ]
  },
  {
   "cell_type": "markdown",
   "metadata": {},
   "source": [
    "## Converting to Grayscale\n",
    "\n",
    "We can convert an image to grayscale using `convert('L')` where `L` means luma (brightness)."
   ]
  },
  {
   "cell_type": "code",
   "execution_count": null,
   "metadata": {},
   "outputs": [],
   "source": [
    "image.convert('L')"
   ]
  },
  {
   "cell_type": "markdown",
   "metadata": {},
   "source": [
    "## Image Filters\n",
    "\n",
    "There are some image filters we can use:\n",
    "\n",
    "```\n",
    "BLUR\n",
    "CONTOUR\n",
    "DETAIL\n",
    "EDGE_ENHANCE\n",
    "EDGE_ENHANCE_MORE\n",
    "EMBOSS\n",
    "FIND_EDGES\n",
    "SHARPEN\n",
    "SMOOTH\n",
    "SMOOTH_MORE\n",
    "```"
   ]
  },
  {
   "cell_type": "code",
   "execution_count": null,
   "metadata": {},
   "outputs": [],
   "source": [
    "image.filter(ImageFilter.EMBOSS)"
   ]
  },
  {
   "cell_type": "markdown",
   "metadata": {},
   "source": [
    "We can try converting to grayscale first and then applying the filter."
   ]
  },
  {
   "cell_type": "code",
   "execution_count": null,
   "metadata": {},
   "outputs": [],
   "source": [
    "image.convert('L').filter(ImageFilter.EMBOSS)"
   ]
  },
  {
   "cell_type": "markdown",
   "metadata": {},
   "source": [
    "## Outlining an Image\n",
    "\n",
    "### Outlining with Grayscale\n",
    "\n",
    "Edge detection using `FIND_EDGES` sometimes works best if we convert to grayscale first with `.convert('L')`"
   ]
  },
  {
   "cell_type": "code",
   "execution_count": null,
   "metadata": {},
   "outputs": [],
   "source": [
    "image.convert('L').filter(ImageFilter.FIND_EDGES)"
   ]
  },
  {
   "cell_type": "markdown",
   "metadata": {},
   "source": [
    "### Outlining with Split\n",
    "\n",
    "You may find it works better to `FIND_EDGES` on the color image and then `split` by color band. The follow code will display each of the color band results. In our case there are four bands, since the image mode is `RGBA`.\n",
    "\n",
    "In the previous examples we just used the `.` to string together multiple operations, this time we are going to create variable (`edges` and `bands`) to store our intermediate steps."
   ]
  },
  {
   "cell_type": "code",
   "execution_count": null,
   "metadata": {},
   "outputs": [],
   "source": [
    "edges = image.filter(ImageFilter.FIND_EDGES)\n",
    "bands = edges.split()\n",
    "for band in bands:\n",
    "    display(band)"
   ]
  },
  {
   "cell_type": "markdown",
   "metadata": {},
   "source": [
    "## Inverting Colors\n",
    "\n",
    "We can use `ImageChops.invert()` to invert the colors of an image.\n",
    "\n",
    "This doesn't work with images that have an [alpha matte](https://en.wikipedia.org/wiki/Alpha_compositing) layer, so we'll need to `convert` our example image from `RGBA` to `RGB`."
   ]
  },
  {
   "cell_type": "code",
   "execution_count": null,
   "metadata": {},
   "outputs": [],
   "source": [
    "image_rgb = image.convert('RGB')\n",
    "ImageChops.invert(image_rgb)"
   ]
  },
  {
   "cell_type": "markdown",
   "metadata": {},
   "source": [
    "Inverting an edge-detected greyscale image might be a good way to generate a coloring page."
   ]
  },
  {
   "cell_type": "code",
   "execution_count": null,
   "metadata": {
    "scrolled": true
   },
   "outputs": [],
   "source": [
    "edges = image.convert('L').filter(ImageFilter.FIND_EDGES)\n",
    "ImageChops.invert(edges)"
   ]
  },
  {
   "cell_type": "markdown",
   "metadata": {},
   "source": [
    "## Creating Animated GIFs\n",
    "\n",
    "We can create animated GIFs using some of these transformations."
   ]
  },
  {
   "cell_type": "code",
   "execution_count": null,
   "metadata": {},
   "outputs": [],
   "source": [
    "# Rotating\n",
    "frames = []\n",
    "for angle in range(36):\n",
    "    frames.append(image.rotate(angle*10))\n",
    "frames[0].save('rotating.gif',format='GIF',append_images=frames[1:],save_all=True,loop=0)\n",
    "IMG(filename='rotating.gif')"
   ]
  },
  {
   "cell_type": "code",
   "execution_count": null,
   "metadata": {},
   "outputs": [],
   "source": [
    "# Flipping\n",
    "frames = [\n",
    "    image,\n",
    "    image.transpose(Image.FLIP_LEFT_RIGHT),\n",
    "    image.transpose(Image.FLIP_TOP_BOTTOM),\n",
    "    image.transpose(Image.FLIP_TOP_BOTTOM).transpose(Image.FLIP_LEFT_RIGHT),\n",
    "    image.transpose(Image.TRANSPOSE),\n",
    "    image.transpose(Image.TRANSVERSE),\n",
    "]\n",
    "frames[0].save('flipping.gif',format='GIF',append_images=frames[1:],duration=400,save_all=True,loop=0)\n",
    "IMG(filename='flipping.gif')"
   ]
  },
  {
   "cell_type": "code",
   "execution_count": null,
   "metadata": {},
   "outputs": [],
   "source": [
    "# Flashing inverted colors\n",
    "frames = [image, ImageChops.invert(image.convert('RGB'))]\n",
    "frames[0].save('flashing.gif',format='GIF',append_images=frames[1:],duration=200,save_all=True,loop=0)\n",
    "IMG(filename='flashing.gif')"
   ]
  },
  {
   "cell_type": "code",
   "execution_count": null,
   "metadata": {},
   "outputs": [],
   "source": [
    "# Cycling through filters\n",
    "frames = [image,\n",
    "          image.filter(ImageFilter.BLUR),\n",
    "          image.filter(ImageFilter.CONTOUR),\n",
    "          image.filter(ImageFilter.DETAIL),\n",
    "          image.filter(ImageFilter.EDGE_ENHANCE),\n",
    "          image.filter(ImageFilter.EDGE_ENHANCE_MORE),\n",
    "          image.filter(ImageFilter.EMBOSS),\n",
    "          image.filter(ImageFilter.FIND_EDGES),\n",
    "          image.filter(ImageFilter.SHARPEN),\n",
    "          image.filter(ImageFilter.SMOOTH),\n",
    "          image.filter(ImageFilter.SMOOTH_MORE),\n",
    "]\n",
    "frames[0].save('flashing.gif',format='GIF',append_images=frames[1:],save_all=True,duration=200,loop=0)\n",
    "IMG(filename='flashing.gif')"
   ]
  },
  {
   "cell_type": "markdown",
   "metadata": {},
   "source": [
    "## Histograms\n",
    "\n",
    "We can plot an [image histogram](https://en.wikipedia.org/wiki/Image_histogram) using the [Plotly Express](https://plotly.com/python/plotly-express) library.\n",
    "\n",
    "For our simple example image this won't be very interesting though, so we'll look at some other histograms next."
   ]
  },
  {
   "cell_type": "code",
   "execution_count": null,
   "metadata": {},
   "outputs": [],
   "source": [
    "px.histogram(image.histogram())"
   ]
  },
  {
   "cell_type": "markdown",
   "metadata": {},
   "source": [
    "For something more interesting, let's try plotting a histogram of a famous painting, [The Last Supper](https://en.wikipedia.org/wiki/The_Last_Supper_(Leonardo))."
   ]
  },
  {
   "cell_type": "code",
   "execution_count": null,
   "metadata": {},
   "outputs": [],
   "source": [
    "painting_url = 'https://upload.wikimedia.org/wikipedia/commons/thumb/4/48/The_Last_Supper_-_Leonardo_Da_Vinci_-_High_Resolution_32x16.jpg/1024px-The_Last_Supper_-_Leonardo_Da_Vinci_-_High_Resolution_32x16.jpg'\n",
    "shutil.copyfileobj(requests.get(painting_url, stream=True).raw, open('painting.png', 'wb'))\n",
    "painting = Image.open('painting.png')\n",
    "painting"
   ]
  },
  {
   "cell_type": "code",
   "execution_count": null,
   "metadata": {},
   "outputs": [],
   "source": [
    "px.histogram(painting.histogram(), title='Histogram of The Last Supper')"
   ]
  },
  {
   "cell_type": "markdown",
   "metadata": {},
   "source": [
    "We can also look at the histogram for each channel of the image."
   ]
  },
  {
   "cell_type": "code",
   "execution_count": null,
   "metadata": {},
   "outputs": [],
   "source": [
    "for channel in painting.split():\n",
    "    px.histogram(channel.histogram()).show()"
   ]
  },
  {
   "cell_type": "markdown",
   "metadata": {},
   "source": [
    "If we want to add titles to the histograms and hide the legend we can run this code."
   ]
  },
  {
   "cell_type": "code",
   "execution_count": null,
   "metadata": {},
   "outputs": [],
   "source": [
    "for i in range(len(painting.split())):\n",
    "    px.histogram(painting.split()[i].histogram(),\n",
    "                 title='The Last Supper '+painting.mode[i]).update_layout(showlegend=False).show()"
   ]
  },
  {
   "cell_type": "markdown",
   "metadata": {},
   "source": [
    "Here is a code cell you can use to download any image from a URL and display the histogram for each channel. Note, you can scroll the output or click the left-hand side of the image to expand the ouput. "
   ]
  },
  {
   "cell_type": "code",
   "execution_count": null,
   "metadata": {
    "scrolled": true
   },
   "outputs": [],
   "source": [
    "img_url = 'https://pixnio.com/free-images/2017/05/31/2017-05-31-10-48-16-900x600.jpg'\n",
    "\n",
    "shutil.copyfileobj(requests.get(img_url,stream=True).raw, open('img.png','wb'))\n",
    "img = Image.open('img.png')\n",
    "display(img)\n",
    "for i in range(len(img.split())):\n",
    "    px.histogram(img.split()[i].histogram(),title=painting.mode[i]+' Channel').update_layout(showlegend=False).show()"
   ]
  },
  {
   "cell_type": "markdown",
   "metadata": {},
   "source": [
    "## Removing Image Files\n",
    "\n",
    "If you'd like to remove (`!rm`) the image files created by this notebook, delete the `#` signs and run the following code cell."
   ]
  },
  {
   "cell_type": "code",
   "execution_count": null,
   "metadata": {},
   "outputs": [],
   "source": [
    "#!rm *.png\n",
    "#!rm *.gif\n",
    "print('Files in this directory:')\n",
    "!ls"
   ]
  },
  {
   "cell_type": "markdown",
   "metadata": {},
   "source": [
    "# Conclusion\n",
    "\n",
    "There are other methods for working with images in Python and Jupyter, such as [matplotlib](https://matplotlib.org/3.2.1/tutorials/introductory/images.html), but hopefully this served as a good introduction to some useful parts of the [Pillow](https://python-pillow.org) library."
   ]
  },
  {
   "cell_type": "markdown",
   "metadata": {},
   "source": [
    "[![Callysto.ca License](https://github.com/callysto/curriculum-notebooks/blob/master/callysto-notebook-banner-bottom.jpg?raw=true)](https://github.com/callysto/curriculum-notebooks/blob/master/LICENSE.md)"
   ]
  }
 ],
 "metadata": {
  "kernelspec": {
   "display_name": "Python 3",
   "language": "python",
   "name": "python3"
  },
  "language_info": {
   "codemirror_mode": {
    "name": "ipython",
    "version": 3
   },
   "file_extension": ".py",
   "mimetype": "text/x-python",
   "name": "python",
   "nbconvert_exporter": "python",
   "pygments_lexer": "ipython3",
   "version": "3.6.6"
  }
 },
 "nbformat": 4,
 "nbformat_minor": 4
}
