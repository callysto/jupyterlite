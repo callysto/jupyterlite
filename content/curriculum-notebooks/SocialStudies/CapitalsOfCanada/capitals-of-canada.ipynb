{
 "cells": [
  {
   "cell_type": "markdown",
   "metadata": {},
   "source": [
    "![Callysto.ca Banner](https://github.com/callysto/curriculum-notebooks/blob/master/callysto-notebook-banner-top.jpg?raw=true)\n",
    "\n",
    "<a href=\"https://hub.callysto.ca/jupyter/hub/user-redirect/git-pull?repo=https%3A%2F%2Fgithub.com%2Fcallysto%2Fcurriculum-notebooks&branch=master&subPath=SocialStudies/CapitalsOfCanada/capitals-of-canada.ipynb&depth=1\" target=\"_parent\"><img src=\"https://raw.githubusercontent.com/callysto/curriculum-notebooks/master/open-in-callysto-button.svg?sanitize=true\" width=\"123\" height=\"24\" alt=\"Open in Callysto\"/></a>"
   ]
  },
  {
   "cell_type": "markdown",
   "metadata": {},
   "source": [
    "# Capital Cities in Canada\n",
    "\n",
    "There are ten provincial capitals, three territorial capitals, and the national capital.\n",
    "\n",
    "|Area|Capital City|Latitude|Longitude|\n",
    "|-|-|-|-|\n",
    "|[Canada](https://en.wikipedia.org/wiki/Canada)|[Ottawa](https://en.wikipedia.org/wiki/Ottawa)|45.424721|-75.695000|\n",
    "|[British Columbia](https://en.wikipedia.org/wiki/British_Columbia)|[Victoria](https://en.wikipedia.org/wiki/Victoria)|48.427502|-123.367264|\n",
    "|[Alberta](https://en.wikipedia.org/wiki/Alberta)|[Edmonton](https://en.wikipedia.org/wiki/Edmonton)|53.544449|-113.490913|\n",
    "|[Saskatchewan](https://en.wikipedia.org/wiki/Saskatchewan)|[Regina](https://en.wikipedia.org/wiki/Regina)|50.445210|-104.618896|\n",
    "|[Manitoba](https://en.wikipedia.org/wiki/Manitoba)|[Winnipeg](https://en.wikipedia.org/wiki/Winnipeg)|49.895138|-97.138374|\n",
    "|[Ontario](https://en.wikipedia.org/wiki/Ontario)|[Toronto](https://en.wikipedia.org/wiki/Toronto)|43.653225|-79.383186|\n",
    "|[Quebec](https://en.wikipedia.org/wiki/Quebec)|[Quebec City](https://en.wikipedia.org/wiki/Quebec_City)|46.829853|-71.254028|\n",
    "|[New Brunswick](https://en.wikipedia.org/wiki/New_Brunswick)|[Fredericton](https://en.wikipedia.org/wiki/Fredericton)|45.964993|-66.646332|\n",
    "|[Prince Edward Island](https://en.wikipedia.org/wiki/Prince_Edward_Island)|[Charlottetown](https://en.wikipedia.org/wiki/Charlottetown)|46.238888|-63.129166|\n",
    "|[Nova Scotia](https://en.wikipedia.org/wiki/Nova_Scotia)|[Halifax](https://en.wikipedia.org/wiki/Halifax)|44.651070|-63.582687|\n",
    "|[Newfoundland and Labrador](https://en.wikipedia.org/wiki/Newfoundland_and_Labrador)|[St. John's](https://en.wikipedia.org/wiki/St._John%27s,_Newfoundland_and_Labrador)|47.560539|-52.712830|\n",
    "|[Yukon](https://en.wikipedia.org/wiki/Yukon)|[Whitehorse](https://en.wikipedia.org/wiki/Whitehorse)|60.721188|-135.056839|\n",
    "|[Northwest Territories](https://en.wikipedia.org/wiki/Northwest_Territories)|[Yellowknife](https://en.wikipedia.org/wiki/Yellowknife)|62.453972|-114.371788|\n",
    "|[Nunavut](https://en.wikipedia.org/wiki/Nunavut)|[Iqaluit](https://en.wikipedia.org/wiki/Iqaluit)|63.748611|-68.519722|\n",
    "\n",
    "We are going to use some Python code to create interactive maps with location markers on those cities.\n",
    "\n",
    "Click the `►►` button above to run all of the code cells. You can then click on the location markers to display cities names, and zoom in on the maps."
   ]
  },
  {
   "cell_type": "code",
   "execution_count": null,
   "metadata": {},
   "outputs": [],
   "source": [
    "%pip install -r requirements.txt\n",
    "import pyodide_http\n",
    "pyodide_http.patch_all()\n",
    "\n",
    "import folium\n",
    "capitals_map = folium.Map(location=[64,-96],zoom_start=3)\n",
    "capitals_map.add_child(folium.Marker(location=[45.424721,-75.695],popup=\"Ottawa\"))\n",
    "capitals_map.add_child(folium.Marker(location=[48.427502,-123.367264],popup=\"Victoria\"))\n",
    "capitals_map.add_child(folium.Marker(location=[53.544449,-113.490913],popup=\"Edmonton\"))\n",
    "capitals_map.add_child(folium.Marker(location=[50.44521,-104.618896],popup=\"Regina\"))\n",
    "capitals_map.add_child(folium.Marker(location=[49.895138,-97.138374],popup=\"Winnipeg\"))\n",
    "capitals_map.add_child(folium.Marker(location=[43.653225,-79.383186],popup=\"Toronto\"))\n",
    "capitals_map.add_child(folium.Marker(location=[46.829853,-71.254028],popup=\"Quebec City\"))\n",
    "capitals_map.add_child(folium.Marker(location=[45.964993,-66.646332],popup=\"Fredericton\"))\n",
    "capitals_map.add_child(folium.Marker(location=[46.238888,-63.129166],popup=\"Charlottetown\"))\n",
    "capitals_map.add_child(folium.Marker(location=[44.65107,-63.582687],popup=\"Halifax\"))\n",
    "capitals_map.add_child(folium.Marker(location=[47.560539,-52.71283],popup=\"St. John's\"))\n",
    "capitals_map.add_child(folium.Marker(location=[60.721188,-135.056839],popup=\"Whitehorse\"))\n",
    "capitals_map.add_child(folium.Marker(location=[62.453972,-114.371788],popup=\"Yellowknife\"))\n",
    "capitals_map.add_child(folium.Marker(location=[63.748611,-68.519722],popup=\"Iqaluit\"))\n",
    "capitals_map"
   ]
  },
  {
   "cell_type": "markdown",
   "metadata": {},
   "source": [
    "### Map Style\n",
    "\n",
    "Map tile layers allow you to change the look or style of the map. Here are some different map styles."
   ]
  },
  {
   "cell_type": "code",
   "execution_count": null,
   "metadata": {},
   "outputs": [],
   "source": [
    "folium.TileLayer('stamenterrain').add_to(capitals_map)\n",
    "capitals_map"
   ]
  },
  {
   "cell_type": "code",
   "execution_count": null,
   "metadata": {},
   "outputs": [],
   "source": [
    "folium.TileLayer('stamenwatercolor').add_to(capitals_map)\n",
    "capitals_map"
   ]
  },
  {
   "cell_type": "code",
   "execution_count": null,
   "metadata": {},
   "outputs": [],
   "source": [
    "folium.TileLayer('stamentoner').add_to(capitals_map)\n",
    "capitals_map"
   ]
  },
  {
   "cell_type": "markdown",
   "metadata": {},
   "source": [
    "## Questions\n",
    "\n",
    "1. Which capital city is the furthest west?\n",
    "2. Which provincial capital is the furthest north?\n",
    "3. Which territorial capital is the furthest south?\n",
    "4. Which two capital cities are the closest to each other?\n",
    "5. How many capital cities are near an ocean?\n",
    "6. How many capital cities are near a large lake?\n",
    "7. Are there any capital cities that are not near the ocean, a lake, or a river? Why do you think that is?"
   ]
  },
  {
   "cell_type": "markdown",
   "metadata": {},
   "source": [
    "[![Callysto.ca License](https://github.com/callysto/curriculum-notebooks/blob/master/callysto-notebook-banner-bottom.jpg?raw=true)](https://github.com/callysto/curriculum-notebooks/blob/master/LICENSE.md)"
   ]
  }
 ],
 "metadata": {
  "kernelspec": {
   "display_name": "Python 3",
   "language": "python",
   "name": "python3"
  },
  "language_info": {
   "codemirror_mode": {
    "name": "ipython",
    "version": 3
   },
   "file_extension": ".py",
   "mimetype": "text/x-python",
   "name": "python",
   "nbconvert_exporter": "python",
   "pygments_lexer": "ipython3",
   "version": "3.6.6"
  }
 },
 "nbformat": 4,
 "nbformat_minor": 4
}
