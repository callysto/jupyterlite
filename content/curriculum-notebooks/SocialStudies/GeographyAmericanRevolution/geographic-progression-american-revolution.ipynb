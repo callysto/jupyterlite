{
 "cells": [
  {
   "cell_type": "markdown",
   "metadata": {},
   "source": [
    "![Callysto.ca Banner](https://github.com/callysto/curriculum-notebooks/blob/master/callysto-notebook-banner-top.jpg?raw=true)\n",
    "\n",
    "<a href=\"https://hub.callysto.ca/jupyter/hub/user-redirect/git-pull?repo=https%3A%2F%2Fgithub.com%2Fcallysto%2Fcurriculum-notebooks&branch=master&subPath=SocialStudies/GeographyAmericanRevolution/geographic-progression-american-revolution.ipynb&depth=1\" target=\"_parent\"><img src=\"https://raw.githubusercontent.com/callysto/curriculum-notebooks/master/open-in-callysto-button.svg?sanitize=true\" width=\"123\" height=\"24\" alt=\"Open in Callysto\"/></a>"
   ]
  },
  {
   "cell_type": "markdown",
   "metadata": {},
   "source": [
    "# Geographic Progression of The American Revolution\n",
    "\n",
    "\n",
    "The American Revolution (1775-83) is also known as the American Revolutionary War and the U.S. War of Independence. \n",
    "\n",
    "On July 4, 1776, America's Thirteen Colonies declared that they were no longer part of Britain. The British disagreed. A war between Britain and the Thirteen Colonies began as a result of this disagreement. This war was known as the American Revolution or the War of Independence. (From \"Our Land and People\", Patricia Shields-Ramsay, Douglas Ramsay)\n",
    "\n",
    "\n",
    "> ![map of colonies](images/13_colonies.jpg)\n",
    ">\n",
    "> The location of the original thirteen English Colonies on the east coast of what is now known as the United States of America. \n",
    "\n",
    "In order to understand the origins and progression of the American Revolutionary War, we will look at the locations of various battles during each stage of the war. From this data, we can begin to understand where the battles were taking place, where they moved to, and try and understand the events surrounding them. To begin, we first need to download [an open data set from Wikipedia](https://en.wikipedia.org/wiki/List_of_American_Revolutionary_War_battles) that contains the locations and other information about the battles.\n",
    "\n",
    "Select the code cell below, then click the `▶Run` button in the toolbar to download and display the data."
   ]
  },
  {
   "cell_type": "code",
   "execution_count": null,
   "metadata": {},
   "outputs": [],
   "source": [
    "%pip install -r requirements.txt\n",
    "import pyodide_http\n",
    "pyodide_http.patch_all()\n",
    "url = 'https://en.wikipedia.org/wiki/List_of_American_Revolutionary_War_battles'\n",
    "import pandas as pd\n",
    "revolution_data = pd.read_html(url)[17] # get the 18th table from the page\n",
    "revolution_data"
   ]
  },
  {
   "cell_type": "markdown",
   "metadata": {},
   "source": [
    "From the table above we see that there is a lot of information to digest. There are 253 rows and four columns. The columns are the name of the battle, the date of the battle, where it took place, and the consequences of that battle.\n",
    "\n",
    "Next we are going to look up latitude and longitude values for each of the listed locations."
   ]
  },
  {
   "cell_type": "code",
   "execution_count": null,
   "metadata": {},
   "outputs": [],
   "source": [
    "# import and set up libraries\n",
    "from geopy.geocoders import Nominatim\n",
    "from geopy.extra.rate_limiter import RateLimiter\n",
    "locator = Nominatim(user_agent='Callysto Geocoder')\n",
    "geocode = RateLimiter(locator.geocode, min_delay_seconds=1)\n",
    "location_data_dictionary = {} # an empty dictionary that we will add to\n",
    "# loop through the unique locations in the previous dataframe and geocode their location\n",
    "for place in revolution_data['Colony/State'].unique():\n",
    "    #location = locator.geocode(place) # without rate limiting\n",
    "    location = geocode(place)\n",
    "    print(location)\n",
    "    location_data_dictionary.update({place:location})\n",
    "# clear the screen of the progress we were printing\n",
    "from IPython import display\n",
    "display.clear_output()\n",
    "# create the dataframe\n",
    "location_data = pd.DataFrame(data=location_data_dictionary).transpose()\n",
    "location_data.rename(columns={0:'Location', 1:'Coordinates'}, inplace=True)\n",
    "location_data"
   ]
  },
  {
   "cell_type": "markdown",
   "metadata": {},
   "source": [
    "## Geographic View of The American Revolution\n",
    "\n",
    "Now that we have some location data about the Revolutionary War battles, let's put it on a map."
   ]
  },
  {
   "cell_type": "code",
   "execution_count": null,
   "metadata": {},
   "outputs": [],
   "source": [
    "# join our two dataframes together\n",
    "map_data = revolution_data.join(location_data, on='Colony/State')\n",
    "# split the Coordinates column into Latitude and Longitude\n",
    "map_data[['Latitude','Longitude']] = pd.DataFrame(map_data['Coordinates'].tolist(), index=map_data.index)\n",
    "# create the map\n",
    "import folium\n",
    "battle_map = folium.Map(location=[50, -50], zoom_start=2)\n",
    "for i, row in map_data.iterrows():\n",
    "    location=[row['Latitude'], row['Longitude']]\n",
    "    battle_map.add_child(folium.Marker(location, tooltip=row['Battle'], popup=row['Date']))\n",
    "battle_map"
   ]
  },
  {
   "cell_type": "markdown",
   "metadata": {},
   "source": [
    "It is interesting to note that that not all of the battles took place in the United States.\n",
    "\n",
    "We can list the battles that took place in Canada."
   ]
  },
  {
   "cell_type": "code",
   "execution_count": null,
   "metadata": {},
   "outputs": [],
   "source": [
    "map_data[map_data['Location'].str.contains('Canada')]"
   ]
  },
  {
   "cell_type": "markdown",
   "metadata": {},
   "source": [
    "We are also interested in looking at the battles by year, so we will create a `year` column from the last four characters of the `Date` column."
   ]
  },
  {
   "cell_type": "code",
   "execution_count": null,
   "metadata": {},
   "outputs": [],
   "source": [
    "map_data['Year'] = map_data['Date'].str[-4:]\n",
    "map_data"
   ]
  },
  {
   "cell_type": "markdown",
   "metadata": {},
   "source": [
    "We can now animate those battles by the year that they took place. The year can be controlled by adjusting the slider on the bottom of the map below, or by simply pressing the play button. Look at the map below and observe the progress of battles that took place.\n",
    "\n",
    "If you hover your mouse over the battle location, you can see the name of the battle. You can also zoom in and out with the buttons at the top right."
   ]
  },
  {
   "cell_type": "code",
   "execution_count": null,
   "metadata": {},
   "outputs": [],
   "source": [
    "import plotly.express as px\n",
    "fig = px.scatter_geo(map_data, lat='Latitude', lon='Longitude', animation_frame='Year', hover_name='Battle')\n",
    "fig.show()"
   ]
  },
  {
   "cell_type": "markdown",
   "metadata": {},
   "source": [
    "Using this interactive map, you can observe the progression of the American Revolution in North America in terms of the battles fought each year. Pay particular attention to the battles taking place in Quebec, the Maritime provinces, and along the Saint Lawrence River. \n",
    "\n",
    "\n",
    "### Questions\n",
    "1. Use the slider and hover over the battles on the map above, which battles were fought in what is now Canada?\n",
    "2. Why did some battles of the American Revolution take place in Quebec? \n",
    "3. Choose one of those battles and study it further. How might that battle have shaped Canada as we know it today?\n",
    "\n"
   ]
  },
  {
   "cell_type": "markdown",
   "metadata": {},
   "source": [
    "## The Progression of the War\n",
    "While the map above makes it easy to see where and when various battles were fought during the American Revolution, sometimes it's to look at different visualizations. The following bar chart displays how many battles took place each year."
   ]
  },
  {
   "cell_type": "code",
   "execution_count": null,
   "metadata": {},
   "outputs": [],
   "source": [
    "by_year = map_data.groupby('Year').count()['Battle']\n",
    "px.bar(by_year, title='Battles per Year').update_layout(yaxis_title='Number of Battles').update_layout(showlegend=False)"
   ]
  },
  {
   "cell_type": "markdown",
   "metadata": {},
   "source": [
    "We can see that the year 1777 had the most battles out of the entire war. This is because 1776-1777 was the beginning of the British counter offensive, and British forces made considerable progress against the Americans. \n",
    "\n",
    "### Questions\n",
    "1. 1778 has about half as many battles as 1777, the year of the British counter offensive. What is the reason for this?\n",
    "2. 1780 has the second most battles in a year. What events lead to this year having as many battles as it did?"
   ]
  },
  {
   "cell_type": "markdown",
   "metadata": {},
   "source": [
    "## American Revolution Battle Locations\n",
    "\n",
    "We can also chart the number of battles by location."
   ]
  },
  {
   "cell_type": "code",
   "execution_count": null,
   "metadata": {},
   "outputs": [],
   "source": [
    "by_location = map_data.groupby('Colony/State').count()['Battle'].sort_values()\n",
    "px.bar(by_location, title='Battles by Location', orientation='h', height=1100).update_layout(xaxis_title='Number of Battles', showlegend=False)"
   ]
  },
  {
   "cell_type": "markdown",
   "metadata": {},
   "source": [
    "## Summary\n",
    "\n",
    "Using data from Wikipedia we were able to visualize the locations and progress of the American Revolution, and discover how many battles took place each year."
   ]
  },
  {
   "cell_type": "markdown",
   "metadata": {},
   "source": [
    "[![Callysto.ca License](https://github.com/callysto/curriculum-notebooks/blob/master/callysto-notebook-banner-bottom.jpg?raw=true)](https://github.com/callysto/curriculum-notebooks/blob/master/LICENSE.md)"
   ]
  }
 ],
 "metadata": {
  "kernelspec": {
   "display_name": "Python 3",
   "language": "python",
   "name": "python3"
  },
  "language_info": {
   "codemirror_mode": {
    "name": "ipython",
    "version": 3
   },
   "file_extension": ".py",
   "mimetype": "text/x-python",
   "name": "python",
   "nbconvert_exporter": "python",
   "pygments_lexer": "ipython3",
   "version": "3.8.3"
  }
 },
 "nbformat": 4,
 "nbformat_minor": 2
}
