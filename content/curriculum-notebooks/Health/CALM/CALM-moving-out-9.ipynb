{
 "cells": [
  {
   "cell_type": "markdown",
   "metadata": {},
   "source": [
    "![Callysto.ca Banner](https://github.com/callysto/curriculum-notebooks/blob/master/callysto-notebook-banner-top.jpg?raw=true)\n",
    "\n",
    "<a href=\"https://hub.callysto.ca/jupyter/hub/user-redirect/git-pull?repo=https%3A%2F%2Fgithub.com%2Fcallysto%2Fcurriculum-notebooks&branch=master&subPath=Health/CALM/CALM-moving-out-9.ipynb&depth=1\" target=\"_parent\"><img src=\"https://raw.githubusercontent.com/callysto/curriculum-notebooks/master/open-in-callysto-button.svg?sanitize=true\" width=\"123\" height=\"24\" alt=\"Open in Callysto\"/></a>"
   ]
  },
  {
   "cell_type": "markdown",
   "metadata": {},
   "source": [
    "# CALM - Moving Out Project\n",
    "## Part 9 - Summary\n",
    "\n",
    "🎒In this final notebook you will write some reflections and then collect all of your answers to submit to your teacher.\n",
    "\n",
    "Make sure you have completed all of the activities, and run all of the cells even if they resulted in zero expenses. If you get any errors, read the error messages to determine what you may have missed."
   ]
  },
  {
   "cell_type": "code",
   "execution_count": null,
   "metadata": {},
   "outputs": [],
   "source": [
    "#🎒Run this cell to calculate your total monthly expenses\n",
    "import pandas as pd\n",
    "import qgrid\n",
    "%store -r\n",
    "totalCostsValues = [transportationCost, \n",
    "                    monthlyFoodCost, \n",
    "                    monthlyHouseholdCost, \n",
    "                    monthlyClothingCost, \n",
    "                    monthlyGiftsCost, \n",
    "                    monthlyHealthCost, \n",
    "                    monthlyEntertainmentCost, \n",
    "                    monthlyEducationCost]\n",
    "dfTotalCosts = pd.DataFrame({'Item': ['Transportation',\n",
    "                                      'Food',\n",
    "                                      'Household Items',\n",
    "                                      'Clothing',\n",
    "                                      'Gifts',\n",
    "                                      'Health',\n",
    "                                      'Entertainment',\n",
    "                                      'Education'],\n",
    "                            'Cost Per Month': totalCostsValues})\n",
    "\n",
    "totalCostsPerMonth = pd.to_numeric(dfTotalCosts['Cost Per Month']).sum()\n",
    "%store totalCostsPerMonth >>moving_out_11.txt\n",
    "print('Your total expenses per month will be about $' + str('{:.2f}'.format(totalCostsPerMonth)) + '.')\n",
    "print('This is about ' + str('{:.1f}'.format(totalCostsPerMonth / netIncome * 100)) + '% of your net income.')\n",
    "dfTotalCosts"
   ]
  },
  {
   "cell_type": "markdown",
   "metadata": {},
   "source": [
    "🎒Next, `Run` the following cell to display your one-time moving out expenses."
   ]
  },
  {
   "cell_type": "code",
   "execution_count": null,
   "metadata": {},
   "outputs": [],
   "source": [
    "oneTimeExpenses = movingExpenses + fneCost\n",
    "print(oneTimeExpenses)"
   ]
  },
  {
   "cell_type": "markdown",
   "metadata": {},
   "source": [
    "🎒Answer the two questions in the next cell, then `Run` it to store your responses."
   ]
  },
  {
   "cell_type": "code",
   "execution_count": null,
   "metadata": {},
   "outputs": [],
   "source": [
    "%%writefile moving_out_11.txt\n",
    "✏️ \n",
    "1. Can you afford this lifestyle?\n",
    "\n",
    "2. If not, what do you think you can change to have a balanced budget?\n",
    "2. If yes, what do you plan to do with any extra money you might have?\n",
    "\n"
   ]
  },
  {
   "cell_type": "markdown",
   "metadata": {},
   "source": [
    "## Reflections\n",
    "🎒Explain in detail five things you have learned from this project. What was the most surprising or eye-opening learning you had completing this project? Be specific.\n",
    "\n",
    "After you have recorded your responses in the next cell, `Run` it to store your answers."
   ]
  },
  {
   "cell_type": "code",
   "execution_count": null,
   "metadata": {},
   "outputs": [],
   "source": [
    "%%writefile moving_out_12.txt\n",
    "✏️\n",
    "\n",
    "My one-time moving expenses will be about\n",
    "\n",
    "\n",
    "My total expense per month will be about\n",
    "\n",
    "\n",
    "\n",
    "Five things I learned from this project are\n",
    "\n",
    "1. \n",
    "\n",
    "2. \n",
    "\n",
    "3. \n",
    "\n",
    "4. \n",
    "\n",
    "5. \n",
    "\n",
    "\n",
    "The most surprising or eye-opening part of this project was "
   ]
  },
  {
   "cell_type": "code",
   "execution_count": null,
   "metadata": {},
   "outputs": [],
   "source": [
    "#✏️ Type your name between the '', e.g. 'Monty Python'\n",
    "name = ''\n",
    "\n",
    "#🎒Run this cell to finish up and check all of your answers\n",
    "\n",
    "answerFilename = name.replace(' ', '_')+'_moving_out.txt'\n",
    "answerFile = open(answerFilename, 'a')\n",
    "\n",
    "for filenumber in range(1, 13):\n",
    "    filename = 'moving_out_'+str(filenumber)+'.txt'\n",
    "    try:\n",
    "        file = open(filename, 'r')\n",
    "        answerFile.write(file.read())\n",
    "        file.close()\n",
    "    except:\n",
    "        print('Unable to open ' + filename)\n",
    "answerFile.close()\n",
    "\n",
    "print(name)\n",
    "completeAnswerFile = open(answerFilename, 'r')\n",
    "print(completeAnswerFile.read())"
   ]
  },
  {
   "cell_type": "markdown",
   "metadata": {},
   "source": [
    "🎒You have now completed this moving out assignment. Submit the file `Name_moving_out.txt` to your teacher, or copy and past your answers from the output of the previous cell.\n",
    "\n",
    "If you are interested in learning more about Jupyter notebooks and Python programming, check out [callysto.ca](https://callysto.ca)."
   ]
  },
  {
   "cell_type": "markdown",
   "metadata": {},
   "source": [
    "[![Callysto.ca License](https://github.com/callysto/curriculum-notebooks/blob/master/callysto-notebook-banner-bottom.jpg?raw=true)](https://github.com/callysto/curriculum-notebooks/blob/master/LICENSE.md)"
   ]
  }
 ],
 "metadata": {
  "kernelspec": {
   "display_name": "Python 3",
   "language": "python",
   "name": "python3"
  },
  "language_info": {
   "codemirror_mode": {
    "name": "ipython",
    "version": 3
   },
   "file_extension": ".py",
   "mimetype": "text/x-python",
   "name": "python",
   "nbconvert_exporter": "python",
   "pygments_lexer": "ipython3",
   "version": "3.7.6"
  }
 },
 "nbformat": 4,
 "nbformat_minor": 2
}
