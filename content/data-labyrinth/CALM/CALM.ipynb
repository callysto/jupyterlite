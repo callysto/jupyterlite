{
 "cells": [
  {
   "cell_type": "markdown",
   "metadata": {},
   "source": [
    "![Callysto.ca Banner](https://github.com/callysto/curriculum-notebooks/blob/master/callysto-notebook-banner-top.jpg?raw=true)\n",
    "\n",
    "<a href=\"https://hub.callysto.ca/jupyter/hub/user-redirect/git-pull?repo=https%3A%2F%2Fgithub.com%2Fcallysto%2Fdata-labyrinth&branch=main&subPath=CALM/CALM.ipynb&depth=1\" target=\"_parent\"><img src=\"https://raw.githubusercontent.com/callysto/curriculum-notebooks/master/open-in-callysto-button.svg?sanitize=true\" width=\"123\" height=\"24\" alt=\"Open in Callysto\"/></a>"
   ]
  },
  {
   "cell_type": "markdown",
   "metadata": {},
   "source": [
    "# CALM Labyrinth\n",
    "\n",
    "Welcome to the [Callysto](https://callysto.ca) CALM Labyrinth. This uses a Jupyter notebook and [CALM](https://www.alberta.ca/education-guide-career-and-life-management-calm)-related data to navigate through data science challenges."
   ]
  },
  {
   "cell_type": "code",
   "execution_count": null,
   "metadata": {},
   "outputs": [],
   "source": [
    "key = ''\n",
    "\n",
    "import piplite, pyodide, pyodide_http\n",
    "await piplite.install(['nbformat','plotly','requests','statsmodels','pillow'])\n",
    "pyodide_http.patch_all()\n",
    "import requests\n",
    "import pandas as pd\n",
    "import plotly.express as px\n",
    "from IPython import get_ipython\n",
    "def check(query):\n",
    "    try:\n",
    "        r = requests.get('https://script.google.com/macros/s/AKfycbyNwWgQZCm7MR0HmNAat5nqnbWxc8YviiwZfiVXW4NNQLdPRjVHgLP3DSVKUmyvY3OE/exec?room=CALM&query='+str(query))\n",
    "        response = r.json()\n",
    "        get_ipython().run_cell_magic('markdown', '', response['markdown'])\n",
    "        get_ipython().payload_manager.write_payload({'source':'set_next_input', 'text':response['code'], 'replace':False})\n",
    "    except:\n",
    "        print('Make sure you have entered the key correctly.')\n",
    "        get_ipython().payload_manager.write_payload({'source':'set_next_input', 'text':\"check('')\", 'replace':False})\n",
    "check(key)"
   ]
  }
 ],
 "metadata": {
  "language_info": {
   "name": "python"
  }
 },
 "nbformat": 4,
 "nbformat_minor": 2
}
