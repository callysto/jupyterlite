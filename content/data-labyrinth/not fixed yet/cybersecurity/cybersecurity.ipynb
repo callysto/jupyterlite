{
 "cells": [
  {
   "cell_type": "markdown",
   "metadata": {},
   "source": [
    "![Callysto.ca Banner](https://github.com/callysto/curriculum-notebooks/blob/master/callysto-notebook-banner-top.jpg?raw=true)\n",
    "\n",
    "<a href=\"https://hub.callysto.ca/jupyter/hub/user-redirect/git-pull?repo=https%3A%2F%2Fgithub.com%2Fcallysto%2Fdata-labyrinth&branch=main&subPath=cybersecurity/cybersecurity.ipynb&depth=1\" target=\"_parent\"><img src=\"https://raw.githubusercontent.com/callysto/curriculum-notebooks/master/open-in-callysto-button.svg?sanitize=true\" width=\"123\" height=\"24\" alt=\"Open in Callysto\"/></a>\n",
    "\n",
    "<a target=\"_parent\" href=\"https://2i2c.callysto.ca/hub/user-redirect/git-pull?repo=https%3A%2F%2Fgithub.com%2Fcallysto%2Fdata-labyrinth&branch=main&subPath=cybersecurity/cybersecurity.ipynb&depth=1\"><img src=\"https://2i2c.org/media/logo.svg\" width=\"30\" height=\"30\" alt=\"Open in 2i2c Hub\"/></a>"
   ]
  },
  {
   "cell_type": "markdown",
   "metadata": {},
   "source": [
    "# Cybersecurity Data Labyrinth\n",
    "\n",
    "Welcome to the [Callysto](https://callysto.ca) Cybersecurity Data Labyrinth. This uses a Jupyter notebook with data and scenarios from [Splunk](https://www.splunk.com) to navigate through data science challenges.\n",
    "\n",
    "You will receive a key word to initiate this labyrinth. Type your key between the `''` in the code cell below (e.g. `key = 'abc'`) and then click the `▶Run` button to get started."
   ]
  },
  {
   "cell_type": "code",
   "execution_count": null,
   "metadata": {},
   "outputs": [],
   "source": [
    "key = ''\n",
    "\n",
    "import pandas as pd\n",
    "import plotly.express as px\n",
    "from IPython import get_ipython\n",
    "from IPython.display import Audio\n",
    "import requests, gzip, io, json\n",
    "def check(query):\n",
    "    try:\n",
    "        r = requests.get('https://script.google.com/macros/s/AKfycbyNwWgQZCm7MR0HmNAat5nqnbWxc8YviiwZfiVXW4NNQLdPRjVHgLP3DSVKUmyvY3OE/exec?room=Cybersecurity&query='+str(query))\n",
    "        response = r.json()\n",
    "        get_ipython().run_cell_magic('markdown', '', response['markdown'])\n",
    "        get_ipython().set_next_input(response['code'])\n",
    "    except:\n",
    "        print('Make sure you have entered your answer correctly.')\n",
    "        get_ipython().set_next_input(\"check('')\")\n",
    "display(Audio('./data/wesoc_intro.mp3'))\n",
    "check(key)"
   ]
  }
 ],
 "metadata": {
  "kernelspec": {
   "display_name": "Python 3",
   "language": "python",
   "name": "python3"
  },
  "language_info": {
   "codemirror_mode": {
    "name": "ipython",
    "version": 3
   },
   "file_extension": ".py",
   "mimetype": "text/x-python",
   "name": "python",
   "nbconvert_exporter": "python",
   "pygments_lexer": "ipython3",
   "version": "3.10.1"
  },
  "orig_nbformat": 4
 },
 "nbformat": 4,
 "nbformat_minor": 2
}
