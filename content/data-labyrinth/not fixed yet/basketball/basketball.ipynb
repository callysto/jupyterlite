{
 "cells": [
  {
   "cell_type": "markdown",
   "metadata": {},
   "source": [
    "![Data Dunkers Banner](https://github.com/PS43Foundation/data-dunkers/blob/main/docs/top-banner.jpg?raw=true)\n",
    "\n",
    "<a href=\"https://hub.callysto.ca/jupyter/hub/user-redirect/git-pull?repo=https%3A%2F%2Fgithub.com%2Fcallysto%2Fdata-labyrinth&branch=main&subPath=basketball/basketball.ipynb&depth=1\" target=\"_parent\"><img src=\"https://raw.githubusercontent.com/callysto/curriculum-notebooks/master/open-in-callysto-button.svg?sanitize=true\" width=\"123\" height=\"24\" alt=\"Open in Callysto\"/></a>\n",
    "\n",
    "<a target=\"_parent\" href=\"https://2i2c.callysto.ca/hub/user-redirect/git-pull?repo=https%3A%2F%2Fgithub.com%2Fcallysto%2Fdata-labyrinth&branch=main&subPath=basketball/basketball.ipynb&depth=1\"><img src=\"https://2i2c.org/media/logo.svg\" width=\"30\" height=\"30\" alt=\"Open in 2i2c Hub\"/></a>"
   ]
  },
  {
   "cell_type": "markdown",
   "metadata": {},
   "source": [
    "# Basketball Labyrinth\n",
    "\n",
    "Welcome to the [Data Dunkers](https://ps43foundation.github.io/data-dunkers) Basketball Labyrinth. This uses a Jupyter notebook and [NBA API](https://github.com/swar/nba_api) data to navigate through data science challenges.\n",
    "\n",
    "You will receive a key word to initiate this labyrinth. Type your key between the `''` in the code cell below (e.g. `key = 'abc'`) and then click the `▶Run` button to get started."
   ]
  },
  {
   "cell_type": "code",
   "execution_count": null,
   "metadata": {},
   "outputs": [],
   "source": [
    "key = ''\n",
    "\n",
    "import requests\n",
    "from IPython import get_ipython\n",
    "import pandas as pd\n",
    "import plotly.express as px\n",
    "n = 0\n",
    "def check(query):\n",
    "    try:\n",
    "        global n\n",
    "        r = requests.get(f'https://script.google.com/macros/s/AKfycbwHXTIqC41OSUmvnW9qVawU1fPhamC6FiruDmC4j9ltdJR82HfN84z4wyJvEizEgxF1/exec?room=Basketball&query={str(query)}&n={str(n)}')\n",
    "        response = r.json()\n",
    "        n = response['n']\n",
    "        get_ipython().run_cell_magic('markdown', '', response['markdown'])\n",
    "        get_ipython().set_next_input(response['code'])\n",
    "    except:\n",
    "        print('Make sure you have entered the key correctly.')\n",
    "        get_ipython().set_next_input(\"key = ''\\ncheck(key)\")\n",
    "\n",
    "check(key)"
   ]
  }
 ],
 "metadata": {
  "kernelspec": {
   "display_name": "Python 3",
   "language": "python",
   "name": "python3"
  },
  "language_info": {
   "codemirror_mode": {
    "name": "ipython",
    "version": 3
   },
   "file_extension": ".py",
   "mimetype": "text/x-python",
   "name": "python",
   "nbconvert_exporter": "python",
   "pygments_lexer": "ipython3",
   "version": "3.10.1"
  },
  "orig_nbformat": 4
 },
 "nbformat": 4,
 "nbformat_minor": 2
}
