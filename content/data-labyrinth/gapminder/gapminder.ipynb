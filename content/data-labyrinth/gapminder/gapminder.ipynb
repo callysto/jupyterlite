{
 "cells": [
  {
   "cell_type": "markdown",
   "metadata": {},
   "source": [
    "![Callysto.ca Banner](https://github.com/callysto/curriculum-notebooks/blob/master/callysto-notebook-banner-top.jpg?raw=true)"
   ]
  },
  {
   "cell_type": "markdown",
   "metadata": {},
   "source": [
    "# Gapminder\n",
    "\n",
    "Welcome to the [Callysto](https://callysto.ca) Gapminder Data Labyrinth. This uses a Jupyter notebook to navigate through data science challenges.\n",
    "\n",
    "[Gapminder](https://www.gapminder.org/) is an independent foundation with no political, religious, or economic affiliations. As a result, it is an incredible resource to obtain data relatively free of bias. In this labyrinth, we'll delve into various datasets from Gapminder to uncover intriguing information about countries and the world that might be unfamiliar to us.\n",
    "\n",
    "You will receive a key word to initiate this labyrinth. Type your key between the `''` in the code cell below (e.g. `key = 'abc'`) and then click the `▶Run` button to get started."
   ]
  },
  {
   "cell_type": "code",
   "execution_count": null,
   "metadata": {},
   "outputs": [],
   "source": [
    "key = ''\n",
    "\n",
    "import piplite, pyodide, pyodide_http\n",
    "await piplite.install(['nbformat','plotly','requests','statsmodels','pillow'])\n",
    "pyodide_http.patch_all()\n",
    "import requests\n",
    "import pandas as pd\n",
    "import plotly.express as px\n",
    "def check(query):\n",
    "    try:\n",
    "        r = requests.get('https://script.google.com/macros/s/AKfycbzlKK-NaCbHgvsjZT7cyycEiRWEW1sjfmIERlKORKy7eoAMMvRyXFUOpP-lvgLpLCQA/exec?room=Gapminder&query='+str(query))\n",
    "        response = r.json()\n",
    "        get_ipython().run_cell_magic('markdown', '', response['markdown'])\n",
    "        get_ipython().payload_manager.write_payload({'source':'set_next_input', 'text':response['code'], 'replace':False})\n",
    "    except:\n",
    "        print('Make sure you have entered the key correctly.')\n",
    "        get_ipython().payload_manager.write_payload({'source':'set_next_input', 'text':\"check('')\", 'replace':False})\n",
    "check(key)"
   ]
  }
 ],
 "metadata": {
  "kernelspec": {
   "display_name": "Python 3",
   "language": "python",
   "name": "python3"
  },
  "language_info": {
   "codemirror_mode": {
    "name": "ipython",
    "version": 3
   },
   "file_extension": ".py",
   "mimetype": "text/x-python",
   "name": "python",
   "nbconvert_exporter": "python",
   "pygments_lexer": "ipython3",
   "version": "3.10.4"
  },
  "orig_nbformat": 4
 },
 "nbformat": 4,
 "nbformat_minor": 2
}
