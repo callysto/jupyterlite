{
 "cells": [
  {
   "cell_type": "markdown",
   "metadata": {},
   "source": [
    "![Data Dunkers Banner](https://github.com/PS43Foundation/data-dunkers/blob/main/docs/top-banner.jpg?raw=true)"
   ]
  },
  {
   "cell_type": "markdown",
   "metadata": {},
   "source": [
    "# Basketball Labyrinth\n",
    "\n",
    "Welcome to the [Data Dunkers](https://ps43foundation.github.io/data-dunkers) Basketball Labyrinth. This uses a Jupyter notebook and [NBA API](https://github.com/swar/nba_api) data to navigate through data science challenges.\n",
    "\n",
    "You will receive a key word to initiate this labyrinth. Type your key between the `''` in the code cell below (e.g. `key = 'abc'`) and then click the `▶Run` button to get started."
   ]
  },
  {
   "cell_type": "code",
   "execution_count": null,
   "metadata": {},
   "outputs": [],
   "source": [
    "key = ''\n",
    "\n",
    "import piplite, pyodide, pyodide_http\n",
    "await piplite.install(['nbformat','plotly','requests','statsmodels','pillow'])\n",
    "pyodide_http.patch_all()\n",
    "import requests\n",
    "import pandas as pd\n",
    "import plotly.express as px\n",
    "n = 0\n",
    "def check(query):\n",
    "    try:\n",
    "        global n\n",
    "        r = requests.get(f'https://script.google.com/macros/s/AKfycbwHXTIqC41OSUmvnW9qVawU1fPhamC6FiruDmC4j9ltdJR82HfN84z4wyJvEizEgxF1/exec?room=Basketball&query={str(query)}&n={str(n)}')\n",
    "        response = r.json()\n",
    "        n = response['n']\n",
    "        get_ipython().run_cell_magic('markdown', '', response['markdown'])\n",
    "        get_ipython().payload_manager.write_payload({'source':'set_next_input', 'text':response['code'], 'replace':False})\n",
    "    except:\n",
    "        print('Make sure you have entered the key correctly.')\n",
    "        get_ipython().payload_manager.write_payload({'source':'set_next_input', 'text':\"check('')\", 'replace':False})\n",
    "\n",
    "check(key)"
   ]
  }
 ],
 "metadata": {
  "kernelspec": {
   "display_name": "Python 3",
   "language": "python",
   "name": "python3"
  },
  "language_info": {
   "codemirror_mode": {
    "name": "ipython",
    "version": 3
   },
   "file_extension": ".py",
   "mimetype": "text/x-python",
   "name": "python",
   "nbconvert_exporter": "python",
   "pygments_lexer": "ipython3",
   "version": "3.10.1"
  },
  "orig_nbformat": 4
 },
 "nbformat": 4,
 "nbformat_minor": 2
}
