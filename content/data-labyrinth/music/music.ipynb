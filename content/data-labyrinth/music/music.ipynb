{
 "cells": [
  {
   "cell_type": "markdown",
   "metadata": {},
   "source": [
    "![Callysto.ca Banner](https://github.com/callysto/curriculum-notebooks/blob/master/callysto-notebook-banner-top.jpg?raw=true)\n",
    "\n",
    "<a href=\"https://hub.callysto.ca/jupyter/hub/user-redirect/git-pull?repo=https%3A%2F%2Fgithub.com%2Fcallysto%2Fdata-labyrinth&branch=main&subPath=music/music.ipynb&depth=1\" target=\"_parent\"><img src=\"https://raw.githubusercontent.com/callysto/curriculum-notebooks/master/open-in-callysto-button.svg?sanitize=true\" width=\"123\" height=\"24\" alt=\"Open in Callysto\"/></a>"
   ]
  },
  {
   "cell_type": "markdown",
   "metadata": {},
   "source": [
    "# Music Labyrinth\n",
    "\n",
    "Welcome to the [Callysto](https://callysto.ca) Music Labyrinth. This uses a Jupyter notebook and [Spotify](https://open.spotify.com) data to navigate through data science challenges.\n",
    "\n",
    "## Objective\n",
    "\n",
    "You have been hired as the DJ for an upcoming dance, and will be playing music from Spotify. In addition to selecting music for the dance, your goal is to analyze music data to understand user preferences, identify popular genres, and assess the impact of playlists.\n",
    "\n",
    "You will receive a key word to initiate this labyrinth. Type your key between the `''` in the code cell below (e.g. `key = 'abc'`) and then click the `▶Run` button to get started."
   ]
  },
  {
   "cell_type": "code",
   "execution_count": null,
   "metadata": {},
   "outputs": [],
   "source": [
    "key = ''\n",
    "\n",
    "import requests\n",
    "from IPython import get_ipython\n",
    "def check(query):\n",
    "    try:\n",
    "        r = requests.get('https://script.google.com/macros/s/AKfycbyNwWgQZCm7MR0HmNAat5nqnbWxc8YviiwZfiVXW4NNQLdPRjVHgLP3DSVKUmyvY3OE/exec?room=Music&query='+str(query))\n",
    "        response = r.json()\n",
    "        get_ipython().run_cell_magic('markdown', '', response['markdown'])\n",
    "        get_ipython().set_next_input(response['code'])\n",
    "    except:\n",
    "        print('Make sure you have entered the key correctly.')\n",
    "        get_ipython().set_next_input(\"key = ''\\ncheck(key)\")\n",
    "import pandas as pd\n",
    "import plotly.express as px\n",
    "check(key)"
   ]
  }
 ],
 "metadata": {
  "kernelspec": {
   "display_name": "Python 3",
   "language": "python",
   "name": "python3"
  },
  "language_info": {
   "codemirror_mode": {
    "name": "ipython",
    "version": 3
   },
   "file_extension": ".py",
   "mimetype": "text/x-python",
   "name": "python",
   "nbconvert_exporter": "python",
   "pygments_lexer": "ipython3",
   "version": "3.10.1"
  },
  "orig_nbformat": 4
 },
 "nbformat": 4,
 "nbformat_minor": 2
}
