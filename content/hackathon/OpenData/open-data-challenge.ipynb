{
 "cells": [
  {
   "cell_type": "markdown",
   "metadata": {},
   "source": [
    "![Callysto.ca Banner](https://github.com/callysto/curriculum-notebooks/blob/master/callysto-notebook-banner-top.jpg?raw=true)"
   ]
  },
  {
   "attachments": {},
   "cell_type": "markdown",
   "metadata": {},
   "source": [
    "# Open Data Challenge\n",
    "\n",
    "Submitted by: \n",
    "\n",
    "From school: \n",
    "\n",
    "## Introduction\n",
    "\n",
    "In this notebook we will...\n",
    "\n",
    "\n",
    "### Suggested Goals and Questions\n",
    "\n",
    "1. Choose one of the data sets from the chart below.\n",
    "1. Describe why you chose that data set.\n",
    "1. Create some visualizations for that data set.\n",
    "1. What interesting things did you find in the data?\n",
    "1. What do you think the data could be used for?\n",
    "1. Remember to complete your reflections at the bottom of this notebook.\n",
    "\n",
    "\n",
    "|Decription|Link|\n",
    "|-|-|\n",
    "|E-Scooter Locations|https://data.edmonton.ca/api/views/vq44-ni9f/rows.csv?accessType=DOWNLOAD|\n",
    "|Bike Racks and Bike Repair Stands|https://data.edmonton.ca/api/views/7xi6-yfya/rows.csv?accessType=DOWNLOAD|\n",
    "|Bike Counters|https://data.edmonton.ca/api/views/tq23-qn4m/rows.csv?accessType=DOWNLOAD|\n",
    "|Photo Traffic Enforcement Locations|https://data.edmonton.ca/api/views/akzz-54k3/rows.csv?accessType=DOWNLOAD|\n",
    "|Public Charging Stations for Electric Vehicles|https://data.edmonton.ca/api/views/xzhy-xe8z/rows.csv?accessType=DOWNLOAD|\n",
    "|Soccer Fields|https://data.edmonton.ca/api/views/6avx-8i8e/rows.csv?accessType=DOWNLOAD|\n",
    "|Public Art Locations|https://data.edmonton.ca/api/views/m6c2-uhxn/rows.csv?accessType=DOWNLOAD|\n",
    "|Public Washroom Locations|https://data.edmonton.ca/api/views/fw8s-c5qn/rows.csv?accessType=DOWNLOAD|\n",
    "|Edible Fruit Tree Locations|https://data.edmonton.ca/api/views/eecg-fc54/rows.csv?accessType=DOWNLOAD|\n",
    "|Fire Hydrant Locations|https://data.edmonton.ca/api/views/x4n2-2ke2/rows.csv?accessType=DOWNLOAD|\n",
    "|Spray Park Locations|https://data.edmonton.ca/api/views/jyra-si4k/rows.csv?accessType=DOWNLOAD|\n",
    "|Open City Wi-Fi Locations|https://data.edmonton.ca/api/views/vbxz-36ag/rows.csv?accessType=DOWNLOAD|"
   ]
  },
  {
   "cell_type": "code",
   "execution_count": null,
   "metadata": {},
   "outputs": [],
   "source": [
    "link = 'https://data.edmonton.ca/api/views/7xi6-yfya/rows.csv?accessType=DOWNLOAD'\n",
    "\n",
    "%pip install -q pyodide_http plotly folium nbformat\n",
    "import pyodide_http\n",
    "pyodide_http.patch_all()\n",
    "import pandas as pd\n",
    "import plotly.express as px\n",
    "import folium\n",
    "from folium.plugins import FastMarkerCluster\n",
    "data = pd.read_csv(link)\n",
    "data"
   ]
  },
  {
   "cell_type": "markdown",
   "metadata": {},
   "source": []
  },
  {
   "cell_type": "code",
   "execution_count": null,
   "metadata": {},
   "outputs": [],
   "source": []
  },
  {
   "cell_type": "markdown",
   "metadata": {},
   "source": [
    "## Hackathon Reflections\n",
    "\n",
    "Write about some or all of the following questions:\n",
    "- What is something you learned through this process?\n",
    "- How well did your group work together? Why do you think that is?\n",
    "- What were some of the hardest parts?\n",
    "- What are you proud of? What would you like to show others?\n",
    "- Are you curious about anything else related to this? Did anything surprise you?\n",
    "- How can you apply your learning to future activities?"
   ]
  },
  {
   "cell_type": "markdown",
   "metadata": {},
   "source": [
    "[![Callysto.ca License](https://github.com/callysto/curriculum-notebooks/blob/master/callysto-notebook-banner-bottom.jpg?raw=true)](https://github.com/callysto/curriculum-notebooks/blob/master/LICENSE.md)"
   ]
  }
 ],
 "metadata": {
  "kernelspec": {
   "display_name": "Python 3.10.1 64-bit",
   "language": "python",
   "name": "python3"
  },
  "language_info": {
   "codemirror_mode": {
    "name": "ipython",
    "version": 3
   },
   "file_extension": ".py",
   "mimetype": "text/x-python",
   "name": "python",
   "nbconvert_exporter": "python",
   "pygments_lexer": "ipython3",
   "version": "3.10.1"
  },
  "nbTranslate": {
   "displayLangs": [
    "*"
   ],
   "hotkey": "alt-t",
   "langInMainMenu": true,
   "sourceLang": "en",
   "targetLang": "fr",
   "useGoogleTranslate": true
  },
  "vscode": {
   "interpreter": {
    "hash": "d1ca6d17674200220921376aaeb3d36cffe15ecab2470a9a5e7a456cdbf61425"
   }
  }
 },
 "nbformat": 4,
 "nbformat_minor": 2
}
