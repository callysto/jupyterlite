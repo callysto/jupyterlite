{
 "cells": [
  {
   "cell_type": "markdown",
   "metadata": {},
   "source": [
    "![Callysto.ca Banner](https://github.com/callysto/curriculum-notebooks/blob/master/callysto-notebook-banner-top.jpg?raw=true)"
   ]
  },
  {
   "attachments": {},
   "cell_type": "markdown",
   "metadata": {},
   "source": [
    "# Open Data Introduction\n",
    "\n",
    "Many governments an organizations publish [Open Data](https://en.wikipedia.org/wiki/Open_data) that is free to use. For example, the [Edmonton Open Data Portal](https://data.edmonton.ca) includes many interesting data sets such as:\n",
    "\n",
    "|Decription|Link|\n",
    "|-|-|\n",
    "|E-Scooter Locations|https://data.edmonton.ca/api/views/vq44-ni9f/rows.csv?accessType=DOWNLOAD|\n",
    "|Bike Racks and Bike Repair Stands|https://data.edmonton.ca/api/views/7xi6-yfya/rows.csv?accessType=DOWNLOAD|\n",
    "|Bike Counters|https://data.edmonton.ca/api/views/tq23-qn4m/rows.csv?accessType=DOWNLOAD|\n",
    "|Photo Traffic Enforcement Locations|https://data.edmonton.ca/api/views/akzz-54k3/rows.csv?accessType=DOWNLOAD|\n",
    "|Public Charging Stations for Electric Vehicles|https://data.edmonton.ca/api/views/xzhy-xe8z/rows.csv?accessType=DOWNLOAD|\n",
    "|Soccer Fields|https://data.edmonton.ca/api/views/6avx-8i8e/rows.csv?accessType=DOWNLOAD|\n",
    "|Public Art Locations|https://data.edmonton.ca/api/views/m6c2-uhxn/rows.csv?accessType=DOWNLOAD|\n",
    "|Public Washroom Locations|https://data.edmonton.ca/api/views/fw8s-c5qn/rows.csv?accessType=DOWNLOAD|\n",
    "|Edible Fruit Tree Locations|https://data.edmonton.ca/api/views/eecg-fc54/rows.csv?accessType=DOWNLOAD|\n",
    "|Fire Hydrant Locations|https://data.edmonton.ca/api/views/x4n2-2ke2/rows.csv?accessType=DOWNLOAD|\n",
    "|Spray Park Locations|https://data.edmonton.ca/api/views/jyra-si4k/rows.csv?accessType=DOWNLOAD|\n",
    "|Open City Wi-Fi Locations|https://data.edmonton.ca/api/views/vbxz-36ag/rows.csv?accessType=DOWNLOAD|"
   ]
  },
  {
   "attachments": {},
   "cell_type": "markdown",
   "metadata": {},
   "source": [
    "### Import Code Libraries and Data\n",
    "\n",
    "Run the cell below to import the required Python libraries and a dataset."
   ]
  },
  {
   "cell_type": "code",
   "execution_count": null,
   "metadata": {
    "scrolled": true
   },
   "outputs": [],
   "source": [
    "link = 'https://data.edmonton.ca/api/views/7xi6-yfya/rows.csv?accessType=DOWNLOAD'\n",
    "\n",
    "%pip install -q pyodide_http plotly folium\n",
    "import pyodide_http\n",
    "pyodide_http.patch_all()\n",
    "import pandas as pd\n",
    "import plotly.express as px\n",
    "import folium\n",
    "from folium.plugins import FastMarkerCluster\n",
    "data = pd.read_csv(link)\n",
    "data"
   ]
  },
  {
   "attachments": {},
   "cell_type": "markdown",
   "metadata": {},
   "source": [
    "## Exploring Data\n",
    "\n",
    "Let's seen what columns we have."
   ]
  },
  {
   "cell_type": "code",
   "execution_count": null,
   "metadata": {},
   "outputs": [],
   "source": [
    "data.columns"
   ]
  },
  {
   "attachments": {},
   "cell_type": "markdown",
   "metadata": {},
   "source": [
    "We can also take a look at the unique values in one column."
   ]
  },
  {
   "cell_type": "code",
   "execution_count": null,
   "metadata": {},
   "outputs": [],
   "source": [
    "column = 'Type of Location'\n",
    "\n",
    "data[column].unique()"
   ]
  },
  {
   "attachments": {},
   "cell_type": "markdown",
   "metadata": {},
   "source": [
    "## Visualizing Data\n",
    "\n",
    "Numerical data can be visualized with scatter plots (`px.scatter`) or bar charts (`px.bar`), we can create [histograms](https://en.wikipedia.org/wiki/Histogram) to count (and maybe group) data with (`px.histogram`), and we can map the data with `folium.Map`."
   ]
  },
  {
   "cell_type": "code",
   "execution_count": null,
   "metadata": {},
   "outputs": [],
   "source": [
    "px.scatter(data, x='Bike Capacity', y='Number of Photos', color='Type of Location', title='Number of Photos vs. Bike Capacity')"
   ]
  },
  {
   "cell_type": "code",
   "execution_count": null,
   "metadata": {},
   "outputs": [],
   "source": [
    "px.histogram(data, x='Bike Capacity', title='Bike Capacity Frequencies')"
   ]
  },
  {
   "cell_type": "code",
   "execution_count": null,
   "metadata": {},
   "outputs": [],
   "source": [
    "m = folium.Map(location=[data['Latitude'].median(), data['Longitude'].median()], zoom_start=10, tiles='stamen terrain')\n",
    "for row in data.iterrows():\n",
    "    popup = row[1]['Bike Rack Location Description']\n",
    "    icon = folium.Icon(color='green', icon='info-sign')\n",
    "    folium.Marker(location=[row[1]['Latitude'], row[1]['Longitude']], popup=popup, icon=icon).add_to(m)\n",
    "#\n",
    "display(m)"
   ]
  },
  {
   "attachments": {},
   "cell_type": "markdown",
   "metadata": {},
   "source": [
    "There are also other map styles that we can try in place of `stamen terrain`:\n",
    "\n",
    "* `openstreetmap`\n",
    "* `stamen terrain`\n",
    "* `stamen toner`\n",
    "* `stamen watercolor`\n",
    "* `cartodb positron`\n",
    "* `cartodb dark_matter`\n",
    "* `mapbox bright` (Limited zoom levels)\n",
    "* `mapbox control room` (Limited zoom levels)\n",
    "\n",
    "If there are a lot of rows in the data set, we can create a map quicker (and use less RAM) with `FastMarkerCluster`."
   ]
  },
  {
   "cell_type": "code",
   "execution_count": null,
   "metadata": {},
   "outputs": [],
   "source": [
    "m = folium.Map(location=[data['Latitude'].median(), data['Longitude'].median()], zoom_start=10, tiles='stamen terrain')\n",
    "FastMarkerCluster(data=list(zip(data['Latitude'], data['Longitude']))).add_to(m)\n",
    "display(m)"
   ]
  },
  {
   "attachments": {},
   "cell_type": "markdown",
   "metadata": {},
   "source": [
    "Check out the [next notebook](open-data-challenge.ipynb) to continue your own analysis."
   ]
  },
  {
   "cell_type": "markdown",
   "metadata": {},
   "source": [
    "[![Callysto.ca License](https://github.com/callysto/curriculum-notebooks/blob/master/callysto-notebook-banner-bottom.jpg?raw=true)](https://github.com/callysto/curriculum-notebooks/blob/master/LICENSE.md)"
   ]
  }
 ],
 "metadata": {
  "kernelspec": {
   "display_name": "Python 3.8.10 64-bit",
   "language": "python",
   "name": "python3"
  },
  "language_info": {
   "codemirror_mode": {
    "name": "ipython",
    "version": 3
   },
   "file_extension": ".py",
   "mimetype": "text/x-python",
   "name": "python",
   "nbconvert_exporter": "python",
   "pygments_lexer": "ipython3",
   "version": "3.10.4"
  },
  "latex_envs": {
   "LaTeX_envs_menu_present": true,
   "autoclose": false,
   "autocomplete": true,
   "bibliofile": "biblio.bib",
   "cite_by": "apalike",
   "current_citInitial": 1,
   "eqLabelWithNumbers": true,
   "eqNumInitial": 1,
   "hotkeys": {
    "equation": "Ctrl-E",
    "itemize": "Ctrl-I"
   },
   "labels_anchors": false,
   "latex_user_defs": false,
   "report_style_numbering": false,
   "user_envs_cfg": false
  },
  "nbTranslate": {
   "displayLangs": [
    "*"
   ],
   "hotkey": "alt-t",
   "langInMainMenu": true,
   "sourceLang": "en",
   "targetLang": "fr",
   "useGoogleTranslate": true
  },
  "vscode": {
   "interpreter": {
    "hash": "916dbcbb3f70747c44a77c7bcd40155683ae19c65e1c03b4aa3499c5328201f1"
   }
  }
 },
 "nbformat": 4,
 "nbformat_minor": 2
}
