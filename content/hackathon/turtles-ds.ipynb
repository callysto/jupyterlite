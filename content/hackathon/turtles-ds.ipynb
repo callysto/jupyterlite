{
 "cells": [
  {
   "cell_type": "markdown",
   "metadata": {},
   "source": [
    "![Callysto.ca Banner](https://github.com/callysto/curriculum-notebooks/blob/master/callysto-notebook-banner-top.jpg?raw=true)\n",
    "\n",
    "<a href=\"https://hub.callysto.ca/jupyter/hub/user-redirect/git-pull?repo=https%3A%2F%2Fgithub.com%2Fcallysto%2Fhackathon&branch=master&subPath=HackathonNotebooks/CollabTurtlePlus/colab-turtles-hackathon.ipynb&depth=1\" target=\"_parent\"><img src=\"https://raw.githubusercontent.com/callysto/curriculum-notebooks/master/open-in-callysto-button.svg?sanitize=true\" width=\"123\" height=\"24\" alt=\"Open in Callysto\"></a>"
   ]
  },
  {
   "cell_type": "markdown",
   "metadata": {},
   "source": [
    "# Turtle and Data Science Hackathon Notebook\n",
    "\n",
    "[Turtle graphics](https://en.wikipedia.org/wiki/Turtle_graphics) have been used for learning about programming and computational thinking. We will use them as a fun way to learn about [Python](https://www.python.org) programming and [Jupyter notebooks](https://jupyter.org)."
   ]
  },
  {
   "cell_type": "markdown",
   "metadata": {},
   "source": [
    "## Turtle Commands\n",
    "\n",
    "The code you need to run will import the [ColabTurtlePlus](https://pypi.org/project/ColabTurtlePlus/) library, then create a new turtle drawing canvas.\n",
    "\n",
    "Click on the code cell below, then click the `▶Run` button to run the Python code. "
   ]
  },
  {
   "cell_type": "code",
   "execution_count": null,
   "metadata": {},
   "outputs": [],
   "source": [
    "import piplite\n",
    "await piplite.install('ColabTurtlePlus')\n",
    "import ColabTurtlePlus.Turtle as cTurtle\n",
    "\n",
    "cTurtle.clearscreen()\n",
    "cTurtle.setup(400, 400)\n",
    "cTurtle.showborder()\n",
    "t = cTurtle.Turtle()\n",
    "t.shape('turtle')\n",
    "t.pensize(2)\n",
    "t.speed(13)"
   ]
  },
  {
   "cell_type": "markdown",
   "metadata": {},
   "source": [
    "Assuming that your turtle is now named `t`, here are the possible commands you can use:\n",
    "\n",
    "Command | Description | Example\n",
    "--- | --- | ---\n",
    "`t.speed(integer)` | Speed of your turtle, where 13 is the fastest and 1 is the slowest. | `t.speed(13)`\n",
    "`t.right(degrees)` | Turn turtle right a certain number of degrees | `t.right(90)`\n",
    "`t.left(degrees)` | Turn turtle left a certain number of degrees | `t.left(45)`\n",
    "`t.forward(units)` | Move your turtle forward a certain number of pixels | `t.forward(100)`\n",
    "`t.backward(units)` | Move your turtle backward a certain number of pixels | `t.backward(20)`\n",
    "`t.circle(r, degrees)` | Have your turtle draw a piece of a circle of radius `r`, through some number of degrees | `t.circle(40, 360)`\n",
    "`t.penup()` | Now your turtle can move without drawing lines | `t.penup()`\n",
    "`t.pendown()` | Make your turtle draw lines again | `t.pendown()`\n",
    "`t.pencolor('color')` | Color of your turtle’s line using a color name | `t.pencolor('blue')`\n",
    "`t.pencolor('hexadecimal')` | Color of your turtle’s line using hexadecimal color values. Color values can be found [here](https://htmlcolorcodes.com/)| `t.pencolor('#FF5733')`\n",
    "`t.setposition(x, y)` | Move the turtle to a specific position. (0,0) is the top left and (400, 400) is the bottom right | `t.setposition(100, 250)`\n",
    "`t.home()` | Move the turtle back to the center of the screen | `t.home()`\n",
    "`t.setheading(degrees)` | Set the turtle’s heading to a specific number of degrees | `t.setheading(90)`\n",
    "`t.hideturtle()` | Hide your turtle for visual clarity | `t.hideturtle()`\n",
    "`t.showturtle()` | Show your turtle | `t.showturtle()`\n",
    "`t.color('color')` | Set the color of your turtle | `t.color(\"black\")`\n",
    "`t.begin_fill()` | Begin to fill | `t.begin_fill()`\n",
    "`t.end_fill()` | End fill | `t.begin_fill()`\n",
    "`t.fillcolor('color')` | Sets the fillcolor based on the lines drawn by the turtle  | `\n",
    "`t.write('text', 'font')` | Write text onto the screen. *Font* is optional and consists of 3 values. The first value is the font name, second value is the font size, and third value is the font style, which is one of \"normal\", \"bold\", \"italic\", and \"underline\"  | `t.write(\"Hello\", font=(\"Arial\", 20, \"normal\"))`"
   ]
  },
  {
   "cell_type": "markdown",
   "metadata": {},
   "source": [
    "These challenges do not need to be completed in a particular order. Notify a supervisor when you have accomplished one, so they can award you points."
   ]
  },
  {
   "cell_type": "markdown",
   "metadata": {},
   "source": [
    "## Beginner Challenges\n",
    "\n",
    "These challenges are worth 2 points each.\n",
    "\n",
    "1. draw a red rectangle"
   ]
  },
  {
   "cell_type": "code",
   "execution_count": null,
   "metadata": {},
   "outputs": [],
   "source": [
    "import piplite\n",
    "await piplite.install('ColabTurtlePlus')\n",
    "import ColabTurtlePlus.Turtle as cTurtle\n",
    "cTurtle.clearscreen()\n",
    "cTurtle.setup(400, 400)\n",
    "cTurtle.showborder()\n",
    "t = cTurtle.Turtle()\n",
    "t.shape('turtle')\n",
    "t.pensize(2)\n",
    "t.speed(13)"
   ]
  },
  {
   "cell_type": "markdown",
   "metadata": {},
   "source": [
    "2. draw a green triangle"
   ]
  },
  {
   "cell_type": "code",
   "execution_count": null,
   "metadata": {},
   "outputs": [],
   "source": [
    "cTurtle.clearscreen()\n",
    "cTurtle.setup(400, 400)\n",
    "cTurtle.showborder()\n",
    "t = cTurtle.Turtle()\n",
    "t.shape('turtle')\n",
    "t.pensize(2)\n",
    "t.speed(13)"
   ]
  },
  {
   "cell_type": "markdown",
   "metadata": {},
   "source": [
    "3. draw a blue circle"
   ]
  },
  {
   "cell_type": "code",
   "execution_count": null,
   "metadata": {},
   "outputs": [],
   "source": [
    "cTurtle.clearscreen()\n",
    "cTurtle.setup(400, 400)\n",
    "cTurtle.showborder()\n",
    "t = cTurtle.Turtle()\n",
    "t.shape('turtle')\n",
    "t.pensize(2)\n",
    "t.speed(13)"
   ]
  },
  {
   "cell_type": "markdown",
   "metadata": {},
   "source": [
    "4. draw a purple pentagon"
   ]
  },
  {
   "cell_type": "code",
   "execution_count": null,
   "metadata": {},
   "outputs": [],
   "source": [
    "cTurtle.clearscreen()\n",
    "cTurtle.setup(400, 400)\n",
    "cTurtle.showborder()\n",
    "t = cTurtle.Turtle()\n",
    "t.shape('turtle')\n",
    "t.pensize(2)\n",
    "t.speed(13)"
   ]
  },
  {
   "cell_type": "markdown",
   "metadata": {},
   "source": [
    "5. draw a yellow star"
   ]
  },
  {
   "cell_type": "code",
   "execution_count": null,
   "metadata": {},
   "outputs": [],
   "source": [
    "cTurtle.clearscreen()\n",
    "cTurtle.setup(400, 400)\n",
    "cTurtle.showborder()\n",
    "t = cTurtle.Turtle()\n",
    "t.shape('turtle')\n",
    "t.pensize(2)\n",
    "t.speed(13)"
   ]
  },
  {
   "cell_type": "markdown",
   "metadata": {},
   "source": [
    "6. draw a cyan arrow"
   ]
  },
  {
   "cell_type": "code",
   "execution_count": null,
   "metadata": {},
   "outputs": [],
   "source": [
    "cTurtle.clearscreen()\n",
    "cTurtle.setup(400, 400)\n",
    "cTurtle.showborder()\n",
    "t = cTurtle.Turtle()\n",
    "t.shape('turtle')\n",
    "t.pensize(2)\n",
    "t.speed(13)"
   ]
  },
  {
   "cell_type": "markdown",
   "metadata": {},
   "source": [
    "7. draw an orange parallelogram"
   ]
  },
  {
   "cell_type": "code",
   "execution_count": null,
   "metadata": {},
   "outputs": [],
   "source": [
    "cTurtle.clearscreen()\n",
    "cTurtle.setup(400, 400)\n",
    "cTurtle.showborder()\n",
    "t = cTurtle.Turtle()\n",
    "t.shape('turtle')\n",
    "t.pensize(2)\n",
    "t.speed(13)"
   ]
  },
  {
   "cell_type": "markdown",
   "metadata": {},
   "source": [
    "8. draw a magenta hexagon"
   ]
  },
  {
   "cell_type": "code",
   "execution_count": null,
   "metadata": {},
   "outputs": [],
   "source": [
    "cTurtle.clearscreen()\n",
    "cTurtle.setup(400, 400)\n",
    "cTurtle.showborder()\n",
    "t = cTurtle.Turtle()\n",
    "t.shape('turtle')\n",
    "t.pensize(2)\n",
    "t.speed(13)"
   ]
  },
  {
   "cell_type": "markdown",
   "metadata": {},
   "source": [
    "9. draw a face"
   ]
  },
  {
   "cell_type": "code",
   "execution_count": null,
   "metadata": {},
   "outputs": [],
   "source": [
    "cTurtle.clearscreen()\n",
    "cTurtle.setup(400, 400)\n",
    "cTurtle.showborder()\n",
    "t = cTurtle.Turtle()\n",
    "t.shape('turtle')\n",
    "t.pensize(2)\n",
    "t.speed(13)"
   ]
  },
  {
   "cell_type": "markdown",
   "metadata": {},
   "source": [
    "10. draw the symbol π"
   ]
  },
  {
   "cell_type": "code",
   "execution_count": null,
   "metadata": {},
   "outputs": [],
   "source": [
    "cTurtle.clearscreen()\n",
    "cTurtle.setup(400, 400)\n",
    "cTurtle.showborder()\n",
    "t = cTurtle.Turtle()\n",
    "t.shape('turtle')\n",
    "t.pensize(2)\n",
    "t.speed(13)"
   ]
  },
  {
   "cell_type": "markdown",
   "metadata": {},
   "source": [
    "## Intermediate Challenges\n",
    "\n",
    "These challenges are worth 5 points each."
   ]
  },
  {
   "cell_type": "markdown",
   "metadata": {},
   "source": [
    "1. draw a pink heart"
   ]
  },
  {
   "cell_type": "code",
   "execution_count": null,
   "metadata": {},
   "outputs": [],
   "source": [
    "cTurtle.clearscreen()\n",
    "cTurtle.setup(400, 400)\n",
    "cTurtle.showborder()\n",
    "t = cTurtle.Turtle()\n",
    "t.shape('turtle')\n",
    "t.pensize(2)\n",
    "t.speed(13)"
   ]
  },
  {
   "cell_type": "markdown",
   "metadata": {},
   "source": [
    "2. draw a Venn diagram"
   ]
  },
  {
   "cell_type": "code",
   "execution_count": null,
   "metadata": {},
   "outputs": [],
   "source": [
    "cTurtle.clearscreen()\n",
    "cTurtle.setup(400, 400)\n",
    "cTurtle.showborder()\n",
    "t = cTurtle.Turtle()\n",
    "t.shape('turtle')\n",
    "t.pensize(2)\n",
    "t.speed(13)"
   ]
  },
  {
   "cell_type": "markdown",
   "metadata": {},
   "source": [
    "1. draw a right-angle triangle with the colour #5124E3"
   ]
  },
  {
   "cell_type": "code",
   "execution_count": null,
   "metadata": {},
   "outputs": [],
   "source": [
    "cTurtle.clearscreen()\n",
    "cTurtle.setup(400, 400)\n",
    "cTurtle.showborder()\n",
    "t = cTurtle.Turtle()\n",
    "t.shape('turtle')\n",
    "t.pensize(2)\n",
    "t.speed(13)"
   ]
  },
  {
   "cell_type": "markdown",
   "metadata": {},
   "source": [
    "4. draw an equilateral triangle with a perimeter of 90 pixels"
   ]
  },
  {
   "cell_type": "code",
   "execution_count": null,
   "metadata": {},
   "outputs": [],
   "source": [
    "cTurtle.clearscreen()\n",
    "cTurtle.setup(400, 400)\n",
    "cTurtle.showborder()\n",
    "t = cTurtle.Turtle()\n",
    "t.shape('turtle')\n",
    "t.pensize(2)\n",
    "t.speed(13)"
   ]
  },
  {
   "cell_type": "markdown",
   "metadata": {},
   "source": [
    "5. draw a semi-circle with two different colours"
   ]
  },
  {
   "cell_type": "code",
   "execution_count": null,
   "metadata": {},
   "outputs": [],
   "source": [
    "cTurtle.clearscreen()\n",
    "cTurtle.setup(400, 400)\n",
    "cTurtle.showborder()\n",
    "t = cTurtle.Turtle()\n",
    "t.shape('turtle')\n",
    "t.pensize(2)\n",
    "t.speed(13)"
   ]
  },
  {
   "cell_type": "markdown",
   "metadata": {},
   "source": [
    "6. draw a silver crescent"
   ]
  },
  {
   "cell_type": "code",
   "execution_count": null,
   "metadata": {},
   "outputs": [],
   "source": [
    "cTurtle.clearscreen()\n",
    "cTurtle.setup(400, 400)\n",
    "cTurtle.showborder()\n",
    "t = cTurtle.Turtle()\n",
    "t.shape('turtle')\n",
    "t.pensize(2)\n",
    "t.speed(13)"
   ]
  },
  {
   "cell_type": "markdown",
   "metadata": {},
   "source": [
    "7. draw Pac-Man: [click here](https://en.wikipedia.org/wiki/Pac-Man)"
   ]
  },
  {
   "cell_type": "code",
   "execution_count": null,
   "metadata": {},
   "outputs": [],
   "source": [
    "cTurtle.clearscreen()\n",
    "cTurtle.setup(400, 400)\n",
    "cTurtle.showborder()\n",
    "t = cTurtle.Turtle()\n",
    "t.shape('turtle')\n",
    "t.pensize(2)\n",
    "t.speed(13)"
   ]
  },
  {
   "cell_type": "markdown",
   "metadata": {},
   "source": [
    "8. draw a house like this:\n",
    "\n",
    "![turtle house](https://raw.githubusercontent.com/callysto/hackathon/master/HackathonNotebooks/Turtles/images/turtle-house.png)"
   ]
  },
  {
   "cell_type": "code",
   "execution_count": null,
   "metadata": {},
   "outputs": [],
   "source": [
    "cTurtle.clearscreen()\n",
    "cTurtle.setup(400, 400)\n",
    "cTurtle.showborder()\n",
    "t = cTurtle.Turtle()\n",
    "t.shape('turtle')\n",
    "t.pensize(2)\n",
    "t.speed(13)"
   ]
  },
  {
   "cell_type": "markdown",
   "metadata": {},
   "source": [
    "9. draw a house with a door, a window, and a chimney with 2 items filled in with colour"
   ]
  },
  {
   "cell_type": "code",
   "execution_count": null,
   "metadata": {},
   "outputs": [],
   "source": [
    "cTurtle.clearscreen()\n",
    "cTurtle.setup(400, 400)\n",
    "cTurtle.showborder()\n",
    "t = cTurtle.Turtle()\n",
    "t.shape('turtle')\n",
    "t.pensize(2)\n",
    "t.speed(13)"
   ]
  },
  {
   "cell_type": "markdown",
   "metadata": {},
   "source": [
    "10. draw a simple black flower like this:\n",
    "\n",
    "![simple black flower](https://raw.githubusercontent.com/callysto/hackathon/master/HackathonNotebooks/Turtles/images/turtle-simple-black-flower.png)"
   ]
  },
  {
   "cell_type": "code",
   "execution_count": null,
   "metadata": {},
   "outputs": [],
   "source": [
    "cTurtle.clearscreen()\n",
    "cTurtle.setup(400, 400)\n",
    "cTurtle.showborder()\n",
    "t = cTurtle.Turtle()\n",
    "t.shape('turtle')\n",
    "t.pensize(2)\n",
    "t.speed(13)"
   ]
  },
  {
   "cell_type": "markdown",
   "metadata": {},
   "source": [
    "11.  draw a black flower with filled in petals"
   ]
  },
  {
   "cell_type": "code",
   "execution_count": null,
   "metadata": {},
   "outputs": [],
   "source": [
    "cTurtle.clearscreen()\n",
    "cTurtle.setup(400, 400)\n",
    "cTurtle.showborder()\n",
    "t = cTurtle.Turtle()\n",
    "t.shape('turtle')\n",
    "t.pensize(2)\n",
    "t.speed(13)"
   ]
  },
  {
   "cell_type": "markdown",
   "metadata": {},
   "source": [
    "12.  make a drawing using a [loop](https://www.w3schools.com/python/python_for_loops.asp)\n",
    "\n",
    "---\n",
    "*Code Help: Example of how to use a loop in Python*\n",
    "\n",
    "lines that are indented are part of the loop\n",
    "\n",
    "```python\n",
    "for i in range(4):\n",
    "    t.forward(100)\n",
    "    t.left(90)\n",
    "```\n",
    "---"
   ]
  },
  {
   "cell_type": "code",
   "execution_count": null,
   "metadata": {},
   "outputs": [],
   "source": [
    "cTurtle.clearscreen()\n",
    "cTurtle.setup(400, 400)\n",
    "cTurtle.showborder()\n",
    "t = cTurtle.Turtle()\n",
    "t.shape('turtle')\n",
    "t.pensize(2)\n",
    "t.speed(13)"
   ]
  },
  {
   "cell_type": "markdown",
   "metadata": {},
   "source": [
    "13.  make a drawing using [nested loops](https://www.w3schools.com/python/gloss_python_for_nested.asp) code"
   ]
  },
  {
   "cell_type": "code",
   "execution_count": null,
   "metadata": {},
   "outputs": [],
   "source": [
    "cTurtle.clearscreen()\n",
    "cTurtle.setup(400, 400)\n",
    "cTurtle.showborder()\n",
    "t = cTurtle.Turtle()\n",
    "t.shape('turtle')\n",
    "t.pensize(2)\n",
    "t.speed(13)"
   ]
  },
  {
   "cell_type": "markdown",
   "metadata": {},
   "source": [
    "14.  make a drawing using [functions](https://www.w3schools.com/python/python_functions.asp) code\n",
    "\n",
    "---\n",
    "*Code Help: Example of how to use a function in Python*\n",
    "```python\n",
    "# define a function to draw a square, use the above code\n",
    "def square():\n",
    "    for i in range(4):\n",
    "        t.forward(100)\n",
    "        t.left(90)\n",
    "\n",
    "# call the function to draw a square, no need to indent\n",
    "square()\n",
    "t.right(45)\n",
    "square()\n",
    "t.right(45)\n",
    "```\n",
    "---"
   ]
  },
  {
   "cell_type": "code",
   "execution_count": null,
   "metadata": {},
   "outputs": [],
   "source": [
    "cTurtle.clearscreen()\n",
    "cTurtle.setup(400, 400)\n",
    "cTurtle.showborder()\n",
    "t = cTurtle.Turtle()\n",
    "t.shape('turtle')\n",
    "t.pensize(2)\n",
    "t.speed(13)"
   ]
  },
  {
   "cell_type": "markdown",
   "metadata": {},
   "source": [
    "15. draw a solid yellow emoji with a filled in smile"
   ]
  },
  {
   "cell_type": "code",
   "execution_count": null,
   "metadata": {},
   "outputs": [],
   "source": [
    "cTurtle.clearscreen()\n",
    "cTurtle.setup(400, 400)\n",
    "cTurtle.showborder()\n",
    "t = cTurtle.Turtle()\n",
    "t.shape('turtle')\n",
    "t.pensize(2)\n",
    "t.speed(13)"
   ]
  },
  {
   "cell_type": "markdown",
   "metadata": {},
   "source": [
    "16. write your name using any [font-type](https://en.wikipedia.org/wiki/List_of_typefaces), size 30, and in *italics*"
   ]
  },
  {
   "cell_type": "code",
   "execution_count": null,
   "metadata": {},
   "outputs": [],
   "source": [
    "cTurtle.clearscreen()\n",
    "cTurtle.setup(400, 400)\n",
    "cTurtle.showborder()\n",
    "t = cTurtle.Turtle()\n",
    "t.shape('turtle')\n",
    "t.pensize(2)\n",
    "t.speed(13)"
   ]
  },
  {
   "cell_type": "markdown",
   "metadata": {},
   "source": [
    "17. complete this [Callysto survey](https://docs.google.com/forms/d/e/1FAIpQLSd0Ih8x_dHS1FDfw4WYwcZAirwagfkbqoB9_WO1XoV5WqAi3Q/viewform) and show the \"form submitted\" page to a supervisor"
   ]
  },
  {
   "cell_type": "markdown",
   "metadata": {},
   "source": [
    "## Advanced Challenges\n",
    "\n",
    "These challenges are worth 15 points each."
   ]
  },
  {
   "cell_type": "markdown",
   "metadata": {},
   "source": [
    "1. draw a pointy coloured flower like this:\n",
    "\n",
    "![pointy coloured flower](https://raw.githubusercontent.com/callysto/hackathon/master/HackathonNotebooks/Turtles/images/turtle-pointy-flower.png)"
   ]
  },
  {
   "cell_type": "code",
   "execution_count": null,
   "metadata": {},
   "outputs": [],
   "source": [
    "cTurtle.clearscreen()\n",
    "cTurtle.setup(400, 400)\n",
    "cTurtle.showborder()\n",
    "t = cTurtle.Turtle()\n",
    "t.shape('turtle')\n",
    "t.pensize(2)\n",
    "t.speed(13)"
   ]
  },
  {
   "cell_type": "markdown",
   "metadata": {},
   "source": [
    "2. draw a **full** maple leaf using the code below as a starting point"
   ]
  },
  {
   "cell_type": "code",
   "execution_count": null,
   "metadata": {},
   "outputs": [],
   "source": [
    "cTurtle.clearscreen()\n",
    "cTurtle.setup(400, 400)\n",
    "cTurtle.showborder()\n",
    "t = cTurtle.Turtle()\n",
    "t.shape('turtle')\n",
    "t.pensize(2)\n",
    "t.speed(13)\n",
    "\n",
    "def half_leaf():\n",
    "    t.penup()\n",
    "    t.setposition(0,0)\n",
    "    t.pendown()\n",
    "    \n",
    "    \n",
    "    t.left(90)\n",
    "    t.forward(50)\n",
    "\n",
    "    t.right(100)\n",
    "    t.forward(50)\n",
    "\n",
    "    t.left(130)\n",
    "    t.forward(20)\n",
    "\n",
    "    t.right(90)\n",
    "    t.forward(50)\n",
    "\n",
    "    t.left(100)\n",
    "    t.forward(15)\n",
    "\n",
    "    t.right(80)\n",
    "    t.forward(30)\n",
    "\n",
    "    t.left(130)\n",
    "    t.forward(30)\n",
    "\n",
    "    t.right(90)\n",
    "    t.forward(15)\n",
    "\n",
    "    t.left(120)\n",
    "    t.forward(40)\n",
    "\n",
    "    t.right(120)\n",
    "    t.forward(50)\n",
    "\n",
    "    t.left(120)\n",
    "    t.forward(15)\n",
    "\n",
    "    t.right(90)\n",
    "    t.forward(30)\n",
    "\n",
    "colour_list = ['red', 'orange', 'yellow', 'green', 'blue', 'violet']\n",
    "\n",
    "for colour in colour_list:\n",
    "    t.pencolor(colour)\n",
    "    half_leaf()\n",
    "    t.right(60)\n",
    "    \n",
    "t.penup()"
   ]
  },
  {
   "cell_type": "markdown",
   "metadata": {},
   "source": [
    "3. draw a landscape scene with multiple colours and 3 fillable items"
   ]
  },
  {
   "cell_type": "code",
   "execution_count": null,
   "metadata": {},
   "outputs": [],
   "source": [
    "cTurtle.clearscreen()\n",
    "cTurtle.setup(400, 400)\n",
    "cTurtle.showborder()\n",
    "t = cTurtle.Turtle()\n",
    "t.shape('turtle')\n",
    "t.pensize(2)\n",
    "t.speed(13)"
   ]
  },
  {
   "cell_type": "markdown",
   "metadata": {},
   "source": [
    "4. write all your initials with a turtle, *without* t.write()"
   ]
  },
  {
   "cell_type": "code",
   "execution_count": null,
   "metadata": {},
   "outputs": [],
   "source": [
    "cTurtle.clearscreen()\n",
    "cTurtle.setup(400, 400)\n",
    "cTurtle.showborder()\n",
    "t = cTurtle.Turtle()\n",
    "t.shape('turtle')\n",
    "t.pensize(2)\n",
    "t.speed(13)"
   ]
  },
  {
   "cell_type": "markdown",
   "metadata": {},
   "source": [
    "5. draw a one-octave piano keyboard filled in with at least two colours"
   ]
  },
  {
   "cell_type": "code",
   "execution_count": null,
   "metadata": {},
   "outputs": [],
   "source": [
    "cTurtle.clearscreen()\n",
    "cTurtle.setup(400, 400)\n",
    "cTurtle.showborder()\n",
    "t = cTurtle.Turtle()\n",
    "t.shape('turtle')\n",
    "t.pensize(2)\n",
    "t.speed(13)"
   ]
  },
  {
   "cell_type": "markdown",
   "metadata": {},
   "source": [
    "6. use a [dataframe](https://github.com/callysto/TMTeachingTurtles/blob/master/TMDataTurtles/turtles-and-data-student.ipynb) to create a turtle drawing"
   ]
  },
  {
   "cell_type": "code",
   "execution_count": null,
   "metadata": {},
   "outputs": [],
   "source": [
    "cTurtle.clearscreen()\n",
    "cTurtle.setup(400, 400)\n",
    "cTurtle.showborder()\n",
    "t = cTurtle.Turtle()\n",
    "t.shape('turtle')\n",
    "t.pensize(2)\n",
    "t.speed(13)"
   ]
  },
  {
   "cell_type": "markdown",
   "metadata": {},
   "source": [
    "7. create a function that accepts an integer parameter and draws a shape with that many sides"
   ]
  },
  {
   "cell_type": "code",
   "execution_count": null,
   "metadata": {},
   "outputs": [],
   "source": [
    "cTurtle.clearscreen()\n",
    "cTurtle.setup(400, 400)\n",
    "cTurtle.showborder()\n",
    "t = cTurtle.Turtle()\n",
    "t.shape('turtle')\n",
    "t.pensize(2)\n",
    "t.speed(13)"
   ]
  },
  {
   "cell_type": "markdown",
   "metadata": {},
   "source": [
    "8. draw your assigned animal (make sure it is filled in with appropriate colours)"
   ]
  },
  {
   "cell_type": "code",
   "execution_count": null,
   "metadata": {},
   "outputs": [],
   "source": [
    "cTurtle.clearscreen()\n",
    "cTurtle.setup(400, 400)\n",
    "cTurtle.showborder()\n",
    "t = cTurtle.Turtle()\n",
    "t.shape('turtle')\n",
    "t.pensize(2)\n",
    "t.speed(13)"
   ]
  },
  {
   "cell_type": "markdown",
   "metadata": {},
   "source": [
    "9. create a 15-second promo video introducing Python turtles to people your age"
   ]
  },
  {
   "cell_type": "markdown",
   "metadata": {},
   "source": [
    "10. write a descriptive paragraph or two about your experiences today to share with your grownups or friends"
   ]
  },
  {
   "cell_type": "markdown",
   "metadata": {},
   "source": [
    "<div style=\"border: 1px solid black; padding: 10px;\">\n",
    "Write your paragraph here (double-click this cell):\n",
    "\n",
    "\n",
    "\n",
    "\n",
    "\n",
    "\n",
    "\n",
    "\n",
    "</div>"
   ]
  },
  {
   "cell_type": "markdown",
   "metadata": {},
   "source": [
    "---\n",
    "\n",
    "## Advanced Data Science Challenges"
   ]
  },
  {
   "cell_type": "markdown",
   "metadata": {},
   "source": [
    "These challenges are also worth 15 points each. Follow the exercises to learn how to solve the challenges. \n",
    "\n",
    "Click on the code cell below, then click the `▶Run` button to run the Python code that imports the `pandas` library and made-up data from a pet adoption facility."
   ]
  },
  {
   "cell_type": "code",
   "execution_count": null,
   "metadata": {},
   "outputs": [],
   "source": [
    "import piplite\n",
    "await piplite.install(['nbformat','plotly'])\n",
    "import pandas as pd\n",
    "import pyodide\n",
    "pets = pd.read_csv(pyodide.http.open_url()'https://raw.githubusercontent.com/callysto/hackathon/master/PrepMaterials/pets.csv'))\n",
    "pets"
   ]
  },
  {
   "cell_type": "markdown",
   "metadata": {},
   "source": [
    "## Exercise 1:  Basic operations with dataframes\n",
    "\n",
    "The `.shape` command shows the number of rows and columns. Click the `▶Run` button"
   ]
  },
  {
   "cell_type": "code",
   "execution_count": null,
   "metadata": {},
   "outputs": [],
   "source": [
    "pets.shape"
   ]
  },
  {
   "cell_type": "markdown",
   "metadata": {},
   "source": [
    "The `.columns` command shows the number of rows and columns. Click the `▶Run` button"
   ]
  },
  {
   "cell_type": "code",
   "execution_count": null,
   "metadata": {},
   "outputs": [],
   "source": [
    "pets.columns"
   ]
  },
  {
   "cell_type": "markdown",
   "metadata": {},
   "source": [
    "We can select and display just one column using square brackets. Click the `▶Run` button"
   ]
  },
  {
   "cell_type": "code",
   "execution_count": null,
   "metadata": {},
   "outputs": [],
   "source": [
    "pets[['Species']]"
   ]
  },
  {
   "cell_type": "markdown",
   "metadata": {},
   "source": [
    "You can select multiple columns by separating the column names with commas. Click the `▶Run` button"
   ]
  },
  {
   "cell_type": "code",
   "execution_count": null,
   "metadata": {},
   "outputs": [],
   "source": [
    "pets[['Species','Gender']]"
   ]
  },
  {
   "cell_type": "markdown",
   "metadata": {},
   "source": [
    "By default, `.head()` displays the first 5 rows. Click the `▶Run` button\n",
    "\n",
    "You can also try\n",
    "\n",
    "`.head(10)`\n",
    "`.tail(2)`\n",
    "`.tail(17)`"
   ]
  },
  {
   "cell_type": "code",
   "execution_count": null,
   "metadata": {},
   "outputs": [],
   "source": [
    "pets.head()"
   ]
  },
  {
   "cell_type": "markdown",
   "metadata": {},
   "source": [
    "---\n",
    "### Data Science Challenge Basic Operations ###\n",
    "After running ALL of the codes above, complete this challenge.\n",
    "\n",
    "1. In the cell below, uncomment the code (remove the `#` sign)\n",
    "2. Change \"column1\", \"column2\", and \"column3\" to \"Species\", \"Fixed\", and \"Time to Adoption (weeks)\" to get these 3 columns\n",
    "3. Click the `▶Run` button\n",
    "4. Show a teacher or Callysto team member your dataframe to get points for this challenge\n",
    "\n",
    "---"
   ]
  },
  {
   "cell_type": "code",
   "execution_count": null,
   "metadata": {},
   "outputs": [],
   "source": [
    "#pets[[\"column1\",\"column2\",\"column3\"]]"
   ]
  },
  {
   "cell_type": "markdown",
   "metadata": {},
   "source": [
    "## Exercise 2:  Select or filter data from columns by condition\n",
    "\n",
    "You can filter the data, for example to show only dogs, using `pets[\"Column\"] == \"something\"`.\n",
    "\n",
    "Note that the `==` sign means \"check if it is equal to\" rather than asigning a value to a variable. Click the `▶Run` button"
   ]
  },
  {
   "cell_type": "code",
   "execution_count": null,
   "metadata": {},
   "outputs": [],
   "source": [
    "pets[pets[\"Species\"] == \"dog\"]"
   ]
  },
  {
   "cell_type": "markdown",
   "metadata": {},
   "source": [
    "Not equal to using `!=` Click the `▶Run` button"
   ]
  },
  {
   "cell_type": "code",
   "execution_count": null,
   "metadata": {},
   "outputs": [],
   "source": [
    "pets[pets[\"Species\"] != \"dog\"]"
   ]
  },
  {
   "cell_type": "markdown",
   "metadata": {},
   "source": [
    "To determine how many items a list has, use the `len()` function. We will use the `print()` function to display the length of the list. Click the `▶Run` button"
   ]
  },
  {
   "cell_type": "code",
   "execution_count": null,
   "metadata": {},
   "outputs": [],
   "source": [
    "thislist = [\"Species\", \"Gender\", \"Legs\"]\n",
    "print(len(thislist))"
   ]
  },
  {
   "cell_type": "markdown",
   "metadata": {},
   "source": [
    "Two conditions with \"and\" using the `&` symbol. Click the `▶Run` button"
   ]
  },
  {
   "cell_type": "code",
   "execution_count": null,
   "metadata": {},
   "outputs": [],
   "source": [
    "pets[ (pets[\"Gender\"]==\"female\") & (pets[\"Age (years)\"]>3) ]"
   ]
  },
  {
   "cell_type": "markdown",
   "metadata": {},
   "source": [
    "Two conditions with \"or\" using the `|` symbol. Click the `▶Run` button"
   ]
  },
  {
   "cell_type": "code",
   "execution_count": null,
   "metadata": {},
   "outputs": [],
   "source": [
    "# this shows fixed pets OR pets with legs greater than 4\n",
    "pets[ (pets[\"Fixed\"]==True) | (pets[\"Legs\"]>4) ]"
   ]
  },
  {
   "cell_type": "markdown",
   "metadata": {},
   "source": [
    "---\n",
    "### Data Science Challenge Conditions ###\n",
    "After running ALL of the codes above, complete this challenge.\n",
    "\n",
    "1. In the cell below, uncomment the code (remove the `#` sign)\n",
    "2. Change the cell below to get a subset of the data where \"Fixed\" is equal to True **and** \"Time to Adoption (weeks)\" is less than 5\n",
    "3. Click the `▶Run` button\n",
    "4. Show a teacher or Callysto team member your dataframe to get points for this challenge\n",
    "\n",
    "---"
   ]
  },
  {
   "cell_type": "code",
   "execution_count": null,
   "metadata": {},
   "outputs": [],
   "source": [
    "#pets[ (pets[\"\"]== 0) | (pets[\"\"] ==0) ]"
   ]
  },
  {
   "cell_type": "markdown",
   "metadata": {},
   "source": [
    "## Exercise 3: Sorting Data\n",
    "\n",
    "You can sort the DataFrame, for example by the \"age\" column. By default, the data is sorted in ascending order (smallest to largest). Click the `▶Run` button"
   ]
  },
  {
   "cell_type": "code",
   "execution_count": null,
   "metadata": {},
   "outputs": [],
   "source": [
    "pets.sort_values(\"Age (years)\")"
   ]
  },
  {
   "cell_type": "markdown",
   "metadata": {},
   "source": [
    "You can can sort in descending order. Click the `▶Run` button"
   ]
  },
  {
   "cell_type": "code",
   "execution_count": null,
   "metadata": {},
   "outputs": [],
   "source": [
    "pets.sort_values(\"Age (years)\", ascending=False)"
   ]
  },
  {
   "cell_type": "markdown",
   "metadata": {},
   "source": [
    "You can sort by two columns, first by age and then by time to adoption. Click the `▶Run` button"
   ]
  },
  {
   "cell_type": "code",
   "execution_count": null,
   "metadata": {},
   "outputs": [],
   "source": [
    "pets.sort_values([\"Age (years)\",\"Time to Adoption (weeks)\"])"
   ]
  },
  {
   "cell_type": "markdown",
   "metadata": {},
   "source": [
    "---\n",
    "### Data Science Challenge: Sorting ###\n",
    "\n",
    "After running ALL of the codes cells above, complete this challenge.\n",
    "\n",
    "1. In the cell below, uncomment the code (remove the `#` sign)\n",
    "2. Sort the pets oldest and youngest animals in the dataset\n",
    "3. Click the `▶Run` button\n",
    "4. Show a teacher or Callysto team member your dataframe to get 15 points for this challenge\n",
    "\n",
    "---"
   ]
  },
  {
   "cell_type": "code",
   "execution_count": null,
   "metadata": {},
   "outputs": [],
   "source": [
    "#pets.sort_values(\"\", ascending=true or false)"
   ]
  },
  {
   "cell_type": "markdown",
   "metadata": {},
   "source": [
    "## Exercise 4:  Visualizations\n",
    "\n",
    "A data visulaization is a way to look at data.\n",
    "\n",
    "[![what is a Viz](https://img.youtube.com/vi/_qrkhE4ADj0/0.jpg)](https://www.youtube.com/watch?v=_qrkhE4ADj0)"
   ]
  },
  {
   "cell_type": "markdown",
   "metadata": {},
   "source": [
    "---\n",
    "### Data Science Challenge Visualizations ###\n",
    "\n",
    "* Use this [**link**](https://github.com/callysto/data-science-and-artificial-intelligence/blob/main/04-visualizations.ipynb) to view the different types of visualizations and code examples to create your **own** visualizations from the pets data.\n",
    "\n",
    "* Show a teacher or Callysto team member when you have completed a visualization to get points for this challenge.\n",
    "\n",
    "---"
   ]
  },
  {
   "cell_type": "markdown",
   "metadata": {},
   "source": [
    "*Bar Graph*"
   ]
  },
  {
   "cell_type": "code",
   "execution_count": null,
   "metadata": {},
   "outputs": [],
   "source": [
    "#put your code here for your bar graph "
   ]
  },
  {
   "cell_type": "markdown",
   "metadata": {},
   "source": [
    "*Line Graph*"
   ]
  },
  {
   "cell_type": "code",
   "execution_count": null,
   "metadata": {},
   "outputs": [],
   "source": [
    "# put your code here for your line graph"
   ]
  },
  {
   "cell_type": "markdown",
   "metadata": {},
   "source": [
    "*Scatter Plot*"
   ]
  },
  {
   "cell_type": "code",
   "execution_count": null,
   "metadata": {},
   "outputs": [],
   "source": [
    "# put your code here for your scatter plot"
   ]
  },
  {
   "cell_type": "markdown",
   "metadata": {},
   "source": [
    "*Pie Chart*"
   ]
  },
  {
   "cell_type": "code",
   "execution_count": null,
   "metadata": {},
   "outputs": [],
   "source": [
    "# put your code here for your pie chart "
   ]
  },
  {
   "cell_type": "markdown",
   "metadata": {},
   "source": [
    "## Submit\n",
    "\n",
    "Use this [form](https://docs.google.com/forms/u/1/d/e/1FAIpQLSfo01MMOFe3Rgc1r3GoY9tTt8hpVvpgUrjGDok890SgUxpjhQ/viewform?usp=send_form) to submit your:\n",
    "\n",
    "- Team name\n",
    "- Team member name(s)\n",
    "- Answers to the reflection questions:\n",
    "  - What are two things you have learned during this hackathon?\n",
    "  - Which visualization or artwork do you consider your best, and why?\n",
    "  - What was the most challenging obstacle you encountered and successfully overcame during the hackathon?\n",
    "\n",
    "Note: If you do not submit answers to the reflection questions, your team will not be considered for any prizes."
   ]
  },
  {
   "cell_type": "markdown",
   "metadata": {},
   "source": [
    "[![Callysto.ca License](https://github.com/callysto/curriculum-notebooks/blob/master/callysto-notebook-banner-bottom.jpg?raw=true)](https://github.com/callysto/curriculum-notebooks/blob/master/LICENSE.md)"
   ]
  }
 ],
 "metadata": {
  "kernelspec": {
   "display_name": "Python 3",
   "language": "python",
   "name": "python3"
  },
  "language_info": {
   "codemirror_mode": {
    "name": "ipython",
    "version": 3
   },
   "file_extension": ".py",
   "mimetype": "text/x-python",
   "name": "python",
   "nbconvert_exporter": "python",
   "pygments_lexer": "ipython3",
   "version": "3.10.12"
  },
  "orig_nbformat": 4
 },
 "nbformat": 4,
 "nbformat_minor": 2
}
