{
 "cells": [
  {
   "cell_type": "markdown",
   "metadata": {},
   "source": [
    "![Callysto.ca Banner](https://github.com/callysto/curriculum-notebooks/blob/master/callysto-notebook-banner-top.jpg?raw=true)"
   ]
  },
  {
   "cell_type": "markdown",
   "metadata": {},
   "source": [
    "# Turtle and Data Science Hackathon Notebook\n",
    "\n",
    "[Turtle graphics](https://en.wikipedia.org/wiki/Turtle_graphics) have been used for learning about programming and computational thinking. We will use them as a fun way to learn about [Python](https://www.python.org) programming and [Jupyter notebooks](https://jupyter.org)."
   ]
  },
  {
   "cell_type": "markdown",
   "metadata": {},
   "source": [
    "## Turtle Commands\n",
    "\n",
    "The code you need to run will import the [ColabTurtlePlus](https://pypi.org/project/ColabTurtlePlus/) library, then create a new turtle drawing canvas.\n",
    "\n",
    "Click on the code cell below, then click the `▶Run` button to run the Python code. "
   ]
  },
  {
   "cell_type": "code",
   "execution_count": null,
   "metadata": {},
   "outputs": [],
   "source": [
    "import piplite\n",
    "await piplite.install('ColabTurtlePlus')\n",
    "from ColabTurtlePlus.Turtle import Turtle, clearscreen, showborder\n",
    "clearscreen()\n",
    "showborder()\n",
    "t = Turtle()\n",
    "t.shape('turtle')\n",
    "t.pensize(2)\n",
    "t.speed(13)\n",
    "t.forward(50)"
   ]
  },
  {
   "cell_type": "markdown",
   "metadata": {},
   "source": [
    "Assuming that your turtle is now named `t`, here are the possible commands you can use:\n",
    "\n",
    "Command | Description | Example\n",
    "--- | --- | ---\n",
    "`t.speed(integer)` | Speed of your turtle, where 13 is the fastest and 1 is the slowest. | `t.speed(13)`\n",
    "`t.right(degrees)` | Turn turtle right a certain number of degrees | `t.right(90)`\n",
    "`t.left(degrees)` | Turn turtle left a certain number of degrees | `t.left(45)`\n",
    "`t.forward(units)` | Move your turtle forward a certain number of pixels | `t.forward(100)`\n",
    "`t.backward(units)` | Move your turtle backward a certain number of pixels | `t.backward(20)`\n",
    "`t.circle(r, degrees)` | Have your turtle draw a piece of a circle of radius `r`, through some number of degrees | `t.circle(40, 360)`\n",
    "`t.penup()` | Now your turtle can move without drawing lines | `t.penup()`\n",
    "`t.pendown()` | Make your turtle draw lines again | `t.pendown()`\n",
    "`t.pencolor('color')` | Color of your turtle’s line using a color name | `t.pencolor('blue')`\n",
    "`t.pencolor('hexadecimal')` | Color of your turtle’s line using hexadecimal color values. Color values can be found [here](https://htmlcolorcodes.com/)| `t.pencolor('#FF5733')`\n",
    "`t.setposition(x, y)` | Move the turtle to a specific position. (0,0) is the top left and (400, 400) is the bottom right | `t.setposition(100, 250)`\n",
    "`t.home()` | Move the turtle back to the center of the screen | `t.home()`\n",
    "`t.setheading(degrees)` | Set the turtle’s heading to a specific number of degrees | `t.setheading(90)`\n",
    "`t.hideturtle()` | Hide your turtle for visual clarity | `t.hideturtle()`\n",
    "`t.showturtle()` | Show your turtle | `t.showturtle()`\n",
    "`t.color('color')` | Set the color of your turtle | `t.color(\"black\")`\n",
    "`t.begin_fill()` | Begin to fill | `t.begin_fill()`\n",
    "`t.end_fill()` | End fill | `t.begin_fill()`\n",
    "`t.fillcolor('color')` | Sets the fillcolor based on the lines drawn by the turtle  | `\n",
    "`t.write('text', 'font')` | Write text onto the screen. *Font* is optional and consists of 3 values. The first value is the font name, second value is the font size, and third value is the font style, which is one of \"normal\", \"bold\", \"italic\", and \"underline\"  | `t.write(\"Hello\", font=(\"Arial\", 20, \"normal\"))`"
   ]
  },
  {
   "cell_type": "markdown",
   "metadata": {},
   "source": [
    "These challenges do not need to be completed in a particular order. Notify a supervisor when you have accomplished one, so they can award you points."
   ]
  },
  {
   "cell_type": "markdown",
   "metadata": {},
   "source": [
    "## Beginner Challenges\n",
    "\n",
    "These challenges are worth 2 points each.\n",
    "\n",
    "1. draw a red rectangle"
   ]
  },
  {
   "cell_type": "code",
   "execution_count": null,
   "metadata": {},
   "outputs": [],
   "source": [
    "import piplite\n",
    "await piplite.install('ColabTurtlePlus')\n",
    "from ColabTurtlePlus.Turtle import Turtle, clearscreen, showborder\n",
    "clearscreen()\n",
    "showborder()\n",
    "t = Turtle()\n",
    "t.shape('turtle')\n",
    "t.pensize(2)\n",
    "t.speed(13)\n",
    "t.pencolor('red')\n",
    "t.forward(50)"
   ]
  },
  {
   "cell_type": "markdown",
   "metadata": {},
   "source": [
    "2. draw a green triangle"
   ]
  },
  {
   "cell_type": "code",
   "execution_count": null,
   "metadata": {},
   "outputs": [],
   "source": [
    "clearscreen()\n",
    "showborder()\n",
    "t = Turtle()\n",
    "t.shape('turtle')\n",
    "t.pensize(2)\n",
    "t.speed(13)"
   ]
  },
  {
   "cell_type": "markdown",
   "metadata": {},
   "source": [
    "3. draw a blue circle"
   ]
  },
  {
   "cell_type": "code",
   "execution_count": null,
   "metadata": {},
   "outputs": [],
   "source": [
    "clearscreen()\n",
    "showborder()\n",
    "t = Turtle()\n",
    "t.shape('turtle')\n",
    "t.pensize(2)\n",
    "t.speed(13)"
   ]
  },
  {
   "cell_type": "markdown",
   "metadata": {},
   "source": [
    "4. draw a purple pentagon"
   ]
  },
  {
   "cell_type": "code",
   "execution_count": null,
   "metadata": {},
   "outputs": [],
   "source": [
    "clearscreen()\n",
    "showborder()\n",
    "t = Turtle()\n",
    "t.shape('turtle')\n",
    "t.pensize(2)\n",
    "t.speed(13)"
   ]
  },
  {
   "cell_type": "markdown",
   "metadata": {},
   "source": [
    "5. draw a yellow star"
   ]
  },
  {
   "cell_type": "code",
   "execution_count": null,
   "metadata": {},
   "outputs": [],
   "source": [
    "clearscreen()\n",
    "showborder()\n",
    "t = Turtle()\n",
    "t.shape('turtle')\n",
    "t.pensize(2)\n",
    "t.speed(13)"
   ]
  },
  {
   "cell_type": "markdown",
   "metadata": {},
   "source": [
    "6. draw a cyan arrow"
   ]
  },
  {
   "cell_type": "code",
   "execution_count": null,
   "metadata": {},
   "outputs": [],
   "source": [
    "clearscreen()\n",
    "showborder()\n",
    "t = Turtle()\n",
    "t.shape('turtle')\n",
    "t.pensize(2)\n",
    "t.speed(13)"
   ]
  },
  {
   "cell_type": "markdown",
   "metadata": {},
   "source": [
    "7. draw an orange parallelogram"
   ]
  },
  {
   "cell_type": "code",
   "execution_count": null,
   "metadata": {},
   "outputs": [],
   "source": [
    "clearscreen()\n",
    "showborder()\n",
    "t = Turtle()\n",
    "t.shape('turtle')\n",
    "t.pensize(2)\n",
    "t.speed(13)"
   ]
  },
  {
   "cell_type": "markdown",
   "metadata": {},
   "source": [
    "8. draw a magenta hexagon"
   ]
  },
  {
   "cell_type": "code",
   "execution_count": null,
   "metadata": {},
   "outputs": [],
   "source": [
    "clearscreen()\n",
    "showborder()\n",
    "t = Turtle()\n",
    "t.shape('turtle')\n",
    "t.pensize(2)\n",
    "t.speed(13)"
   ]
  },
  {
   "cell_type": "markdown",
   "metadata": {},
   "source": [
    "9. draw a face"
   ]
  },
  {
   "cell_type": "code",
   "execution_count": null,
   "metadata": {},
   "outputs": [],
   "source": [
    "clearscreen()\n",
    "showborder()\n",
    "t = Turtle()\n",
    "t.shape('turtle')\n",
    "t.pensize(2)\n",
    "t.speed(13)"
   ]
  },
  {
   "cell_type": "markdown",
   "metadata": {},
   "source": [
    "10. draw the symbol π"
   ]
  },
  {
   "cell_type": "code",
   "execution_count": null,
   "metadata": {},
   "outputs": [],
   "source": [
    "clearscreen()\n",
    "showborder()\n",
    "t = Turtle()\n",
    "t.shape('turtle')\n",
    "t.pensize(2)\n",
    "t.speed(13)"
   ]
  },
  {
   "cell_type": "markdown",
   "metadata": {},
   "source": [
    "## Intermediate Challenges\n",
    "\n",
    "These challenges are worth 5 points each."
   ]
  },
  {
   "cell_type": "markdown",
   "metadata": {},
   "source": [
    "1. draw a pink heart"
   ]
  },
  {
   "cell_type": "code",
   "execution_count": null,
   "metadata": {},
   "outputs": [],
   "source": [
    "clearscreen()\n",
    "showborder()\n",
    "t = Turtle()\n",
    "t.shape('turtle')\n",
    "t.pensize(2)\n",
    "t.speed(13)"
   ]
  },
  {
   "cell_type": "markdown",
   "metadata": {},
   "source": [
    "2. draw a Venn diagram"
   ]
  },
  {
   "cell_type": "code",
   "execution_count": null,
   "metadata": {},
   "outputs": [],
   "source": [
    "clearscreen()\n",
    "showborder()\n",
    "t = Turtle()\n",
    "t.shape('turtle')\n",
    "t.pensize(2)\n",
    "t.speed(13)"
   ]
  },
  {
   "cell_type": "markdown",
   "metadata": {},
   "source": [
    "1. draw a right-angle triangle with the colour #5124E3"
   ]
  },
  {
   "cell_type": "code",
   "execution_count": null,
   "metadata": {},
   "outputs": [],
   "source": [
    "clearscreen()\n",
    "showborder()\n",
    "t = Turtle()\n",
    "t.shape('turtle')\n",
    "t.pensize(2)\n",
    "t.speed(13)"
   ]
  },
  {
   "cell_type": "markdown",
   "metadata": {},
   "source": [
    "4. draw an equilateral triangle with a perimeter of 90 pixels"
   ]
  },
  {
   "cell_type": "code",
   "execution_count": null,
   "metadata": {},
   "outputs": [],
   "source": [
    "clearscreen()\n",
    "showborder()\n",
    "t = Turtle()\n",
    "t.shape('turtle')\n",
    "t.pensize(2)\n",
    "t.speed(13)"
   ]
  },
  {
   "cell_type": "markdown",
   "metadata": {},
   "source": [
    "5. draw a semi-circle with two different colours"
   ]
  },
  {
   "cell_type": "code",
   "execution_count": null,
   "metadata": {},
   "outputs": [],
   "source": [
    "clearscreen()\n",
    "showborder()\n",
    "t = Turtle()\n",
    "t.shape('turtle')\n",
    "t.pensize(2)\n",
    "t.speed(13)"
   ]
  },
  {
   "cell_type": "markdown",
   "metadata": {},
   "source": [
    "6. draw a silver crescent"
   ]
  },
  {
   "cell_type": "code",
   "execution_count": null,
   "metadata": {},
   "outputs": [],
   "source": [
    "clearscreen()\n",
    "showborder()\n",
    "t = Turtle()\n",
    "t.shape('turtle')\n",
    "t.pensize(2)\n",
    "t.speed(13)"
   ]
  },
  {
   "cell_type": "markdown",
   "metadata": {},
   "source": [
    "7. draw Pac-Man: [click here](https://en.wikipedia.org/wiki/Pac-Man)"
   ]
  },
  {
   "cell_type": "code",
   "execution_count": null,
   "metadata": {},
   "outputs": [],
   "source": [
    "clearscreen()\n",
    "showborder()\n",
    "t = Turtle()\n",
    "t.shape('turtle')\n",
    "t.pensize(2)\n",
    "t.speed(13)"
   ]
  },
  {
   "cell_type": "markdown",
   "metadata": {},
   "source": [
    "8. draw a house like this:\n",
    "\n",
    "![turtle house](https://raw.githubusercontent.com/callysto/hackathon/master/HackathonNotebooks/Turtles/images/turtle-house.png)"
   ]
  },
  {
   "cell_type": "code",
   "execution_count": null,
   "metadata": {},
   "outputs": [],
   "source": [
    "clearscreen()\n",
    "showborder()\n",
    "t = Turtle()\n",
    "t.shape('turtle')\n",
    "t.pensize(2)\n",
    "t.speed(13)"
   ]
  },
  {
   "cell_type": "markdown",
   "metadata": {},
   "source": [
    "9. draw a house with a door, a window, and a chimney with 2 items filled in with colour"
   ]
  },
  {
   "cell_type": "code",
   "execution_count": null,
   "metadata": {},
   "outputs": [],
   "source": [
    "clearscreen()\n",
    "showborder()\n",
    "t = Turtle()\n",
    "t.shape('turtle')\n",
    "t.pensize(2)\n",
    "t.speed(13)"
   ]
  },
  {
   "cell_type": "markdown",
   "metadata": {},
   "source": [
    "10. draw a simple black flower like this:\n",
    "\n",
    "![simple black flower](https://raw.githubusercontent.com/callysto/hackathon/master/HackathonNotebooks/Turtles/images/turtle-simple-black-flower.png)"
   ]
  },
  {
   "cell_type": "code",
   "execution_count": null,
   "metadata": {},
   "outputs": [],
   "source": [
    "clearscreen()\n",
    "showborder()\n",
    "t = Turtle()\n",
    "t.shape('turtle')\n",
    "t.pensize(2)\n",
    "t.speed(13)"
   ]
  },
  {
   "cell_type": "markdown",
   "metadata": {},
   "source": [
    "11.  draw a black flower with filled in petals"
   ]
  },
  {
   "cell_type": "code",
   "execution_count": null,
   "metadata": {},
   "outputs": [],
   "source": [
    "clearscreen()\n",
    "showborder()\n",
    "t = Turtle()\n",
    "t.shape('turtle')\n",
    "t.pensize(2)\n",
    "t.speed(13)"
   ]
  },
  {
   "cell_type": "markdown",
   "metadata": {},
   "source": [
    "12.  make a drawing using a [loop](https://www.w3schools.com/python/python_for_loops.asp)\n",
    "\n",
    "---\n",
    "*Code Help: Example of how to use a loop in Python*\n",
    "\n",
    "lines that are indented are part of the loop\n",
    "\n",
    "```python\n",
    "for i in range(4):\n",
    "    t.forward(100)\n",
    "    t.left(90)\n",
    "```\n",
    "---"
   ]
  },
  {
   "cell_type": "code",
   "execution_count": null,
   "metadata": {},
   "outputs": [],
   "source": [
    "clearscreen()\n",
    "showborder()\n",
    "t = Turtle()\n",
    "t.shape('turtle')\n",
    "t.pensize(2)\n",
    "t.speed(13)"
   ]
  },
  {
   "cell_type": "markdown",
   "metadata": {},
   "source": [
    "13.  make a drawing using [nested loops](https://www.w3schools.com/python/gloss_python_for_nested.asp) code"
   ]
  },
  {
   "cell_type": "code",
   "execution_count": null,
   "metadata": {},
   "outputs": [],
   "source": [
    "clearscreen()\n",
    "showborder()\n",
    "t = Turtle()\n",
    "t.shape('turtle')\n",
    "t.pensize(2)\n",
    "t.speed(13)"
   ]
  },
  {
   "cell_type": "markdown",
   "metadata": {},
   "source": [
    "14.  make a drawing using [functions](https://www.w3schools.com/python/python_functions.asp) code\n",
    "\n",
    "---\n",
    "*Code Help: Example of how to use a function in Python*\n",
    "```python\n",
    "# define a function to draw a square, use the above code\n",
    "def square():\n",
    "    for i in range(4):\n",
    "        t.forward(100)\n",
    "        t.left(90)\n",
    "\n",
    "# call the function to draw a square, no need to indent\n",
    "square()\n",
    "t.right(45)\n",
    "square()\n",
    "t.right(45)\n",
    "```\n",
    "---"
   ]
  },
  {
   "cell_type": "code",
   "execution_count": null,
   "metadata": {},
   "outputs": [],
   "source": [
    "clearscreen()\n",
    "showborder()\n",
    "t = Turtle()\n",
    "t.shape('turtle')\n",
    "t.pensize(2)\n",
    "t.speed(13)"
   ]
  },
  {
   "cell_type": "markdown",
   "metadata": {},
   "source": [
    "15. draw a solid yellow emoji with a filled in smile"
   ]
  },
  {
   "cell_type": "code",
   "execution_count": null,
   "metadata": {},
   "outputs": [],
   "source": [
    "clearscreen()\n",
    "showborder()\n",
    "t = Turtle()\n",
    "t.shape('turtle')\n",
    "t.pensize(2)\n",
    "t.speed(13)"
   ]
  },
  {
   "cell_type": "markdown",
   "metadata": {},
   "source": [
    "16. write your name using any [font-type](https://en.wikipedia.org/wiki/List_of_typefaces), size 30, and in *italics*"
   ]
  },
  {
   "cell_type": "code",
   "execution_count": null,
   "metadata": {},
   "outputs": [],
   "source": [
    "clearscreen()\n",
    "showborder()\n",
    "t = Turtle()\n",
    "t.shape('turtle')\n",
    "t.pensize(2)\n",
    "t.speed(13)"
   ]
  },
  {
   "cell_type": "markdown",
   "metadata": {},
   "source": [
    "17. complete this [Callysto survey](https://docs.google.com/forms/d/e/1FAIpQLSd0Ih8x_dHS1FDfw4WYwcZAirwagfkbqoB9_WO1XoV5WqAi3Q/viewform) and show the \"form submitted\" page to a supervisor"
   ]
  },
  {
   "cell_type": "markdown",
   "metadata": {},
   "source": [
    "## Advanced Challenges\n",
    "\n",
    "These challenges are worth 15 points each."
   ]
  },
  {
   "cell_type": "markdown",
   "metadata": {},
   "source": [
    "1. draw a pointy coloured flower like this:\n",
    "\n",
    "![pointy coloured flower](https://raw.githubusercontent.com/callysto/hackathon/master/HackathonNotebooks/Turtles/images/turtle-pointy-flower.png)"
   ]
  },
  {
   "cell_type": "code",
   "execution_count": null,
   "metadata": {},
   "outputs": [],
   "source": [
    "clearscreen()\n",
    "showborder()\n",
    "t = Turtle()\n",
    "t.shape('turtle')\n",
    "t.pensize(2)\n",
    "t.speed(13)"
   ]
  },
  {
   "cell_type": "markdown",
   "metadata": {},
   "source": [
    "2. draw a **full** maple leaf using the code below as a starting point"
   ]
  },
  {
   "cell_type": "code",
   "execution_count": null,
   "metadata": {},
   "outputs": [],
   "source": [
    "clearscreen()\n",
    "showborder()\n",
    "t = Turtle()\n",
    "t.shape('turtle')\n",
    "t.pensize(2)\n",
    "t.speed(13)\n",
    "\n",
    "def half_leaf():\n",
    "    t.penup()\n",
    "    t.setposition(0,0)\n",
    "    t.pendown()\n",
    "    \n",
    "    \n",
    "    t.left(90)\n",
    "    t.forward(50)\n",
    "\n",
    "    t.right(100)\n",
    "    t.forward(50)\n",
    "\n",
    "    t.left(130)\n",
    "    t.forward(20)\n",
    "\n",
    "    t.right(90)\n",
    "    t.forward(50)\n",
    "\n",
    "    t.left(100)\n",
    "    t.forward(15)\n",
    "\n",
    "    t.right(80)\n",
    "    t.forward(30)\n",
    "\n",
    "    t.left(130)\n",
    "    t.forward(30)\n",
    "\n",
    "    t.right(90)\n",
    "    t.forward(15)\n",
    "\n",
    "    t.left(120)\n",
    "    t.forward(40)\n",
    "\n",
    "    t.right(120)\n",
    "    t.forward(50)\n",
    "\n",
    "    t.left(120)\n",
    "    t.forward(15)\n",
    "\n",
    "    t.right(90)\n",
    "    t.forward(30)\n",
    "\n",
    "colour_list = ['red', 'orange', 'yellow', 'green', 'blue', 'violet']\n",
    "\n",
    "for colour in colour_list:\n",
    "    t.pencolor(colour)\n",
    "    half_leaf()\n",
    "    t.right(60)\n",
    "    \n",
    "t.penup()"
   ]
  },
  {
   "cell_type": "markdown",
   "metadata": {},
   "source": [
    "3. draw a landscape scene with multiple colours and 3 fillable items"
   ]
  },
  {
   "cell_type": "code",
   "execution_count": null,
   "metadata": {},
   "outputs": [],
   "source": [
    "clearscreen()\n",
    "showborder()\n",
    "t = Turtle()\n",
    "t.shape('turtle')\n",
    "t.pensize(2)\n",
    "t.speed(13)"
   ]
  },
  {
   "cell_type": "markdown",
   "metadata": {},
   "source": [
    "4. write all your initials with a turtle, *without* t.write()"
   ]
  },
  {
   "cell_type": "code",
   "execution_count": null,
   "metadata": {},
   "outputs": [],
   "source": [
    "clearscreen()\n",
    "showborder()\n",
    "t = Turtle()\n",
    "t.shape('turtle')\n",
    "t.pensize(2)\n",
    "t.speed(13)"
   ]
  },
  {
   "cell_type": "markdown",
   "metadata": {},
   "source": [
    "5. draw a one-octave piano keyboard filled in with at least two colours"
   ]
  },
  {
   "cell_type": "code",
   "execution_count": null,
   "metadata": {},
   "outputs": [],
   "source": [
    "clearscreen()\n",
    "showborder()\n",
    "t = Turtle()\n",
    "t.shape('turtle')\n",
    "t.pensize(2)\n",
    "t.speed(13)"
   ]
  },
  {
   "cell_type": "markdown",
   "metadata": {},
   "source": [
    "6. use a [dataframe](https://github.com/callysto/TMTeachingTurtles/blob/master/TMDataTurtles/turtles-and-data-student.ipynb) to create a turtle drawing"
   ]
  },
  {
   "cell_type": "code",
   "execution_count": null,
   "metadata": {},
   "outputs": [],
   "source": [
    "clearscreen()\n",
    "showborder()\n",
    "t = Turtle()\n",
    "t.shape('turtle')\n",
    "t.pensize(2)\n",
    "t.speed(13)"
   ]
  },
  {
   "cell_type": "markdown",
   "metadata": {},
   "source": [
    "7. create a function that accepts an integer parameter and draws a shape with that many sides"
   ]
  },
  {
   "cell_type": "code",
   "execution_count": null,
   "metadata": {},
   "outputs": [],
   "source": [
    "clearscreen()\n",
    "showborder()\n",
    "t = Turtle()\n",
    "t.shape('turtle')\n",
    "t.pensize(2)\n",
    "t.speed(13)"
   ]
  },
  {
   "cell_type": "markdown",
   "metadata": {},
   "source": [
    "8. draw your assigned animal (make sure it is filled in with appropriate colours)"
   ]
  },
  {
   "cell_type": "code",
   "execution_count": null,
   "metadata": {},
   "outputs": [],
   "source": [
    "clearscreen()\n",
    "showborder()\n",
    "t = Turtle()\n",
    "t.shape('turtle')\n",
    "t.pensize(2)\n",
    "t.speed(13)"
   ]
  },
  {
   "cell_type": "markdown",
   "metadata": {},
   "source": [
    "9. create a 15-second promo video introducing Python turtles to people your age"
   ]
  },
  {
   "cell_type": "markdown",
   "metadata": {},
   "source": [
    "10. write a descriptive paragraph or two about your experiences today to share with your grownups or friends"
   ]
  },
  {
   "cell_type": "markdown",
   "metadata": {},
   "source": [
    "<div style=\"border: 1px solid black; padding: 10px;\">\n",
    "Write your paragraph here (double-click this cell):\n",
    "\n",
    "\n",
    "\n",
    "\n",
    "\n",
    "\n",
    "\n",
    "\n",
    "</div>"
   ]
  },
  {
   "cell_type": "markdown",
   "metadata": {},
   "source": [
    "---\n",
    "\n",
    "## Data Science Challenges\n",
    "\n",
    "As our world becomes increasingly data-driven, the ability to analyze, visualize, and draw insights from large and complex datasets is becoming an essential skill. Data science can provide you with the tools to make better decisions and solve complex problems.\n",
    "\n",
    "Click on the cell below, then click the Run button above to import and display a dataframe about *hypothetical* pets for adoption from our friends at [Bootstrap](https://www.bootstrapworld.org/materials/data-science)."
   ]
  },
  {
   "cell_type": "code",
   "execution_count": null,
   "metadata": {},
   "outputs": [],
   "source": [
    "import pandas as pd\n",
    "import pyodide\n",
    "pets = pd.read_csv(pyodide.http.open_url('https://raw.githubusercontent.com/callysto/hackathon/master/PrepMaterials/pets.csv'))\n",
    "pets"
   ]
  },
  {
   "cell_type": "markdown",
   "metadata": {},
   "source": [
    "To create visualizations, we will use [Plotly Express](https://plotly.com/python/plotly-express). Click on the cell below then click Run to display a `bar` graph."
   ]
  },
  {
   "cell_type": "code",
   "execution_count": null,
   "metadata": {},
   "outputs": [],
   "source": [
    "import piplite\n",
    "await piplite.install(['nbformat','plotly','statsmodels'])\n",
    "import plotly.express as px\n",
    "\n",
    "px.bar(pets, x='Name', y='Age (years)', title='Pets Ages')"
   ]
  },
  {
   "cell_type": "markdown",
   "metadata": {},
   "source": [
    "## Beginner Challenges\n",
    "\n",
    "Each of these challenges is worth 2 points, and uses the `pets` dataframe."
   ]
  },
  {
   "cell_type": "markdown",
   "metadata": {},
   "source": [
    "1. Make a bar graph with `Name` on the x-axis and `Legs` on the y-axis."
   ]
  },
  {
   "cell_type": "code",
   "execution_count": null,
   "metadata": {},
   "outputs": [],
   "source": []
  },
  {
   "cell_type": "markdown",
   "metadata": {},
   "source": [
    "2. Make a bar graph using the following code.\n",
    "```\n",
    "x='Species', y='Age (years)', color='Gender'\n",
    "```"
   ]
  },
  {
   "cell_type": "code",
   "execution_count": null,
   "metadata": {},
   "outputs": [],
   "source": []
  },
  {
   "cell_type": "markdown",
   "metadata": {},
   "source": [
    "2. Make a bar graph using the following code.\n",
    "```\n",
    "x='Species', y='Age (years)', color='Gender'\n",
    "```"
   ]
  },
  {
   "cell_type": "code",
   "execution_count": null,
   "metadata": {},
   "outputs": [],
   "source": []
  },
  {
   "cell_type": "markdown",
   "metadata": {},
   "source": [
    "3. Recreate the previous bar graph, but add the following code.\n",
    "```\n",
    ", barmode='group'\n",
    "```"
   ]
  },
  {
   "cell_type": "code",
   "execution_count": null,
   "metadata": {},
   "outputs": [],
   "source": []
  },
  {
   "cell_type": "markdown",
   "metadata": {},
   "source": [
    "4. Make a line graph by changing `bar` to `line` from the example below.\n",
    "```\n",
    "px.bar(pets, x='Name', y='Age (years)', title='Pets Ages')\n",
    "```"
   ]
  },
  {
   "cell_type": "code",
   "execution_count": null,
   "metadata": {},
   "outputs": [],
   "source": []
  },
  {
   "cell_type": "markdown",
   "metadata": {},
   "source": [
    "5. Make a scatter plot with the code below.\n",
    "```\n",
    "px.scatter(pets, x='Name', y='Age (years)')\n",
    "```"
   ]
  },
  {
   "cell_type": "code",
   "execution_count": null,
   "metadata": {},
   "outputs": [],
   "source": []
  },
  {
   "cell_type": "markdown",
   "metadata": {},
   "source": [
    "6. Recreate the previous scatter plot, but add a title."
   ]
  },
  {
   "cell_type": "code",
   "execution_count": null,
   "metadata": {},
   "outputs": [],
   "source": []
  },
  {
   "cell_type": "markdown",
   "metadata": {},
   "source": [
    "7. Recreate the previous scatter plot and color the points by `Gender`."
   ]
  },
  {
   "cell_type": "code",
   "execution_count": null,
   "metadata": {},
   "outputs": [],
   "source": []
  },
  {
   "cell_type": "markdown",
   "metadata": {},
   "source": [
    "8. Make a scatter plot comparing `Age (years)` with `Weight (lbs)`."
   ]
  },
  {
   "cell_type": "code",
   "execution_count": null,
   "metadata": {},
   "outputs": [],
   "source": []
  },
  {
   "cell_type": "markdown",
   "metadata": {},
   "source": [
    "9. Recreate the previous scatter plot, but add.\n",
    "```\n",
    ", size='Time to Adoption (weeks)'\n",
    "```"
   ]
  },
  {
   "cell_type": "code",
   "execution_count": null,
   "metadata": {},
   "outputs": [],
   "source": []
  },
  {
   "cell_type": "markdown",
   "metadata": {},
   "source": [
    "10. Make a [histogram](https://plotly.com/python/histograms) (like a bar graph showing calculated statistics) using the following code.\n",
    "```\n",
    "px.histogram(pets, x='Species', y='Weight (lbs)', title='Total Weight by Species')\n",
    "```"
   ]
  },
  {
   "cell_type": "code",
   "execution_count": null,
   "metadata": {},
   "outputs": [],
   "source": []
  },
  {
   "cell_type": "markdown",
   "metadata": {},
   "source": [
    "11. Recreate the histogram, adding the following parameter to calculate average instead of totals.\n",
    "```\n",
    ", histfunc='avg'\n",
    "```"
   ]
  },
  {
   "cell_type": "code",
   "execution_count": null,
   "metadata": {},
   "outputs": [],
   "source": []
  },
  {
   "cell_type": "markdown",
   "metadata": {},
   "source": [
    "12. Sort the `pets` dataframe by `Age (years)` using the following code.\n",
    "```\n",
    "pets.sort_values('Age (years)')\n",
    "```"
   ]
  },
  {
   "cell_type": "code",
   "execution_count": null,
   "metadata": {},
   "outputs": [],
   "source": []
  },
  {
   "cell_type": "markdown",
   "metadata": {},
   "source": [
    "13. Sort the `pets` dataframe by age in descending order by adding the following.\n",
    "```\n",
    ", ascending=False\n",
    "```"
   ]
  },
  {
   "cell_type": "code",
   "execution_count": null,
   "metadata": {},
   "outputs": [],
   "source": []
  },
  {
   "cell_type": "markdown",
   "metadata": {},
   "source": [
    "14. Make a bar graph of the sorted dataframe by replacing `pets`from one of the bar graph examples with `pets.sort_values('Age (years)')`."
   ]
  },
  {
   "cell_type": "code",
   "execution_count": null,
   "metadata": {},
   "outputs": [],
   "source": []
  },
  {
   "cell_type": "markdown",
   "metadata": {},
   "source": [
    "15. Display just one column of the dataframe using the following.\n",
    "```\n",
    "pets['Species']\n",
    "```"
   ]
  },
  {
   "cell_type": "code",
   "execution_count": null,
   "metadata": {},
   "outputs": [],
   "source": []
  },
  {
   "cell_type": "markdown",
   "metadata": {},
   "source": [
    "17. Display just the dogs using the following.\n",
    "```\n",
    "pets[pets['Species']=='dog']\n",
    "```"
   ]
  },
  {
   "cell_type": "code",
   "execution_count": null,
   "metadata": {},
   "outputs": [],
   "source": []
  },
  {
   "cell_type": "markdown",
   "metadata": {},
   "source": [
    "18. Display all the animals that are not dogs by changing the `==` to `!=` from the code above."
   ]
  },
  {
   "cell_type": "code",
   "execution_count": null,
   "metadata": {},
   "outputs": [],
   "source": []
  },
  {
   "cell_type": "markdown",
   "metadata": {},
   "source": [
    "19. Filter the `pets` dataframe to show just cats and dogs, using the following.\n",
    "```\n",
    "pets[pets['Species'].isin(['cat', 'dog'])]\n",
    "```"
   ]
  },
  {
   "cell_type": "code",
   "execution_count": null,
   "metadata": {},
   "outputs": [],
   "source": []
  },
  {
   "cell_type": "markdown",
   "metadata": {},
   "source": [
    "20. Create a pie chart of the grouped data using the following.\n",
    "```\n",
    "species_counts = pets.groupby('Species').size()\n",
    "px.pie(values=species_counts, names=species_counts.index)\n",
    "```"
   ]
  },
  {
   "cell_type": "code",
   "execution_count": null,
   "metadata": {},
   "outputs": [],
   "source": []
  },
  {
   "cell_type": "markdown",
   "metadata": {},
   "source": [
    "21. Recreate the previous pie chart and add a title."
   ]
  },
  {
   "cell_type": "code",
   "execution_count": null,
   "metadata": {},
   "outputs": [],
   "source": []
  },
  {
   "cell_type": "markdown",
   "metadata": {},
   "source": [
    "22. Find the average ([mean](https://simple.wikipedia.org/wiki/Mean)) of a column with the following.\n",
    "```\n",
    "pets['Age (years)'].mean()\n",
    "```"
   ]
  },
  {
   "cell_type": "code",
   "execution_count": null,
   "metadata": {},
   "outputs": [],
   "source": []
  },
  {
   "cell_type": "markdown",
   "metadata": {},
   "source": [
    "23. Find the [median](https://simple.wikipedia.org/wiki/Median) value of a different column."
   ]
  },
  {
   "cell_type": "code",
   "execution_count": null,
   "metadata": {},
   "outputs": [],
   "source": []
  },
  {
   "cell_type": "markdown",
   "metadata": {},
   "source": [
    "24. Create a new column in the dataframe that is kg instead of pounds using the following.\n",
    "```\n",
    "pets['Mass (kg)'] = pets['Weight (lbs)'] / 2.205\n",
    "```"
   ]
  },
  {
   "cell_type": "code",
   "execution_count": null,
   "metadata": {},
   "outputs": [],
   "source": []
  },
  {
   "cell_type": "markdown",
   "metadata": {},
   "source": [
    "25. Create a new column that is `Time to Adoption (days)` from the column `Time to Adoption (weeks)`."
   ]
  },
  {
   "cell_type": "code",
   "execution_count": null,
   "metadata": {},
   "outputs": [],
   "source": []
  },
  {
   "cell_type": "markdown",
   "metadata": {},
   "source": [
    "26. Group the data by `'Species'` and find the mean values using the following.\n",
    "```\n",
    "pets.groupby('Species').mean(numeric_only=True)\n",
    "```"
   ]
  },
  {
   "cell_type": "code",
   "execution_count": null,
   "metadata": {},
   "outputs": [],
   "source": []
  },
  {
   "cell_type": "markdown",
   "metadata": {},
   "source": [
    "27. Group the data by `'Fixed'` and print the `.max`, `.min`, and `.sum` values. You will need to something like the following.\n",
    "```\n",
    "print(pets.groupby('Species').sum(numeric_only=True))\n",
    "```"
   ]
  },
  {
   "cell_type": "code",
   "execution_count": null,
   "metadata": {},
   "outputs": [],
   "source": []
  },
  {
   "cell_type": "markdown",
   "metadata": {},
   "source": [
    "28. Make an interactive [sunburst chart](https://plotly.com/python/sunburst-charts) using the following.\n",
    "```\n",
    "px.sunburst(pets, path=['Species', 'Gender', 'Fixed'], values='Age (years)', title='Pets Ages by Species, Gender, and Fixed')\n",
    "```"
   ]
  },
  {
   "cell_type": "code",
   "execution_count": null,
   "metadata": {},
   "outputs": [],
   "source": []
  },
  {
   "cell_type": "markdown",
   "metadata": {},
   "source": [
    "29. Display the row of the heaviest pet using the following.\n",
    "```\n",
    "pets.sort_values('Mass (kg)').head(1)\n",
    "```\n",
    "You may also need `, ascending=False`"
   ]
  },
  {
   "cell_type": "code",
   "execution_count": null,
   "metadata": {},
   "outputs": [],
   "source": []
  },
  {
   "cell_type": "markdown",
   "metadata": {},
   "source": [
    "30. Display the row of the pet that took the longest to get adopted."
   ]
  },
  {
   "cell_type": "code",
   "execution_count": null,
   "metadata": {},
   "outputs": [],
   "source": []
  },
  {
   "cell_type": "markdown",
   "metadata": {},
   "source": [
    "## Intermediate Challenges\n",
    "\n",
    "Each of these challenges is worth 5 points, and uses a large data set about [Pokémon](https://en.wikipedia.org/wiki/Pok%C3%A9mon) from [PokéAPI](https://pokeapi.co)."
   ]
  },
  {
   "cell_type": "markdown",
   "metadata": {},
   "source": [
    "1. Import and display the Pokémon data using the following.\n",
    "```\n",
    "pokemon = pd.read_csv(pyodide.http.open_url('https://raw.githubusercontent.com/callysto/data-files/main/data-science-and-artificial-intelligence/pokemon.csv'))\n",
    "display(pokemon)\n",
    "```"
   ]
  },
  {
   "cell_type": "code",
   "execution_count": null,
   "metadata": {},
   "outputs": [],
   "source": []
  },
  {
   "cell_type": "markdown",
   "metadata": {},
   "source": [
    "2. Display the column labels and descriptions using the following.\n",
    "```\n",
    "pokemon_labels = pd.read_csv(pyodide.http.open_url('https://raw.githubusercontent.com/callysto/data-files/main/data-science-and-artificial-intelligence/pokemon_columns.csv'))\n",
    "pd.set_option('display.min_rows', 50)\n",
    "display(pokemon_labels)\n",
    "pd.reset_option('display.min_rows')\n",
    "```"
   ]
  },
  {
   "cell_type": "code",
   "execution_count": null,
   "metadata": {},
   "outputs": [],
   "source": []
  },
  {
   "cell_type": "markdown",
   "metadata": {},
   "source": [
    "3. Display the last five rows of the data set using `.tail()` after the dataframe."
   ]
  },
  {
   "cell_type": "code",
   "execution_count": null,
   "metadata": {},
   "outputs": [],
   "source": []
  },
  {
   "cell_type": "markdown",
   "metadata": {},
   "source": [
    "4. Make a scatter plot with height on the x-axis and weight on the y-axis."
   ]
  },
  {
   "cell_type": "code",
   "execution_count": null,
   "metadata": {},
   "outputs": [],
   "source": []
  },
  {
   "cell_type": "markdown",
   "metadata": {},
   "source": [
    "5. Sort the data by weight and make a bar graph of the 10 lightest Pokémon, with name on the x-axis."
   ]
  },
  {
   "cell_type": "code",
   "execution_count": null,
   "metadata": {},
   "outputs": [],
   "source": []
  },
  {
   "cell_type": "markdown",
   "metadata": {},
   "source": [
    "6. Make a scatter plot to see if there is a correlation between attack and defense, and add `, trendline='ols'` to the plot."
   ]
  },
  {
   "cell_type": "code",
   "execution_count": null,
   "metadata": {},
   "outputs": [],
   "source": []
  },
  {
   "cell_type": "markdown",
   "metadata": {},
   "source": [
    "7. Recreate the previous scatter plot with `, color='is_legendary'` to see if there is a difference in the slopes of the trendlines."
   ]
  },
  {
   "cell_type": "code",
   "execution_count": null,
   "metadata": {},
   "outputs": [],
   "source": []
  },
  {
   "cell_type": "markdown",
   "metadata": {},
   "source": [
    "8. Make a scatter plot with a trendline to see if there is a relationship between `speed` and `base_experience`."
   ]
  },
  {
   "cell_type": "code",
   "execution_count": null,
   "metadata": {},
   "outputs": [],
   "source": []
  },
  {
   "cell_type": "markdown",
   "metadata": {},
   "source": [
    "9. Use a visualization to see if capture rate tends to decrease with speed."
   ]
  },
  {
   "cell_type": "code",
   "execution_count": null,
   "metadata": {},
   "outputs": [],
   "source": []
  },
  {
   "cell_type": "markdown",
   "metadata": {},
   "source": [
    "10. Make a histogram of total weight by shape."
   ]
  },
  {
   "cell_type": "code",
   "execution_count": null,
   "metadata": {},
   "outputs": [],
   "source": []
  },
  {
   "cell_type": "markdown",
   "metadata": {},
   "source": [
    "11. Make a histogram of the **average** attack by generation."
   ]
  },
  {
   "cell_type": "code",
   "execution_count": null,
   "metadata": {},
   "outputs": [],
   "source": []
  },
  {
   "cell_type": "markdown",
   "metadata": {},
   "source": [
    "12. Make a histogram with `x=['type1','type2']` to find out which types are most common."
   ]
  },
  {
   "cell_type": "code",
   "execution_count": null,
   "metadata": {},
   "outputs": [],
   "source": []
  },
  {
   "cell_type": "markdown",
   "metadata": {},
   "source": [
    "13. Make a histogram with `color` on the x-axis and `base_happiness` on the y-axis (and `histfunc='avg'`) to see if certain colors are happier."
   ]
  },
  {
   "cell_type": "code",
   "execution_count": null,
   "metadata": {},
   "outputs": [],
   "source": []
  },
  {
   "cell_type": "markdown",
   "metadata": {},
   "source": [
    "14. Which habitats have the most legendary Pokémon? You'll need to make a histogram with `pokemon[pokemon['is_legendary']]` and `histfunc='count'`."
   ]
  },
  {
   "cell_type": "code",
   "execution_count": null,
   "metadata": {},
   "outputs": [],
   "source": []
  },
  {
   "cell_type": "markdown",
   "metadata": {},
   "source": [
    "15. Which are the five most common `evolves_from_species`? You'll need to use `.value_counts('evolves_from_species').head(5)`."
   ]
  },
  {
   "cell_type": "code",
   "execution_count": null,
   "metadata": {},
   "outputs": [],
   "source": []
  },
  {
   "cell_type": "markdown",
   "metadata": {},
   "source": [
    "## Advanced Challenges\n",
    "\n",
    "Each of these challenges is worth 15 points, and uses a large data set about music from [Spotify](https://spotify.com).\n",
    "\n",
    "Start by loading the data set with\n",
    "```\n",
    "music = pd.read_csv(pyodide.http.open_url('https://raw.githubusercontent.com/callysto/data-files/main/hackathon/spotify-top-100-charts.csv'))\n",
    "music.columns\n",
    "```\n",
    "and the column descriptions can be viewed with\n",
    "```\n",
    "spotify_labels = pd.read_csv(pyodide.http.open_url('https://raw.githubusercontent.com/callysto/data-files/main/hackathon/spotify-column-descriptions.csv'))\n",
    "pd.set_option('display.min_rows', 20)\n",
    "display(spotify_labels)\n",
    "pd.reset_option('display.min_rows')\n",
    "```"
   ]
  },
  {
   "cell_type": "markdown",
   "metadata": {},
   "source": [
    "1. Make a scatter plot with a trendline to show a relationship between two variables (columns) in the data set."
   ]
  },
  {
   "cell_type": "code",
   "execution_count": null,
   "metadata": {},
   "outputs": [],
   "source": []
  },
  {
   "cell_type": "markdown",
   "metadata": {},
   "source": [
    "2. Make a scatter plot with two different variables, and then describe the scatter plot using words in the following markdown cell."
   ]
  },
  {
   "cell_type": "code",
   "execution_count": null,
   "metadata": {},
   "outputs": [],
   "source": []
  },
  {
   "cell_type": "markdown",
   "metadata": {},
   "source": [
    "The scatter plot..."
   ]
  },
  {
   "cell_type": "markdown",
   "metadata": {},
   "source": [
    "3. Create a `release_year` column using the code below\n",
    "```\n",
    "music['release_year'] = music['release_date'].str.split('-').str[0].astype(int)\n",
    "```\n",
    "then make a bar graph from\n",
    "```\n",
    "music.groupby('release_year').count()\n",
    "```\n",
    "with `'track'` on the y-axis."
   ]
  },
  {
   "cell_type": "code",
   "execution_count": null,
   "metadata": {},
   "outputs": [],
   "source": []
  },
  {
   "cell_type": "markdown",
   "metadata": {},
   "source": [
    "4. Use\n",
    "```\n",
    "music.sort_values('release_year')\n",
    "```\n",
    "to find a row that has an an incorrect release date in the year 1900. Then drop that row with\n",
    "```\n",
    "music = music.drop(n)\n",
    "```\n",
    "\n",
    "where `n` is the row number. Recreate the `music.groupby('release_year').count()` bar graph."
   ]
  },
  {
   "cell_type": "code",
   "execution_count": null,
   "metadata": {},
   "outputs": [],
   "source": []
  },
  {
   "cell_type": "markdown",
   "metadata": {},
   "source": [
    "5. Create a [heat map](https://plotly.com/python/heatmaps) of the [correlation matrix](https://pandas.pydata.org/pandas-docs/stable/reference/api/pandas.DataFrame.corr.html) using the code below, then choose two variables that are strongly correlated and write about why you think that might be.\n",
    "```\n",
    "px.imshow(music.corr(numeric_only=True), height=600, title='Correlations in Spotify Data')\n",
    "```"
   ]
  },
  {
   "cell_type": "code",
   "execution_count": null,
   "metadata": {},
   "outputs": [],
   "source": []
  },
  {
   "cell_type": "markdown",
   "metadata": {},
   "source": [
    "I think these variables are strongly correlated because..."
   ]
  },
  {
   "cell_type": "markdown",
   "metadata": {},
   "source": [
    "6. Use a `for` loop to display multiple graphs, like in the code example below\n",
    "```\n",
    "for variable in ['danceability', 'energy', 'loudness']:\n",
    "    px.scatter(music, x='tempo', y=variable, trendline='ols', title=f'{variable} versus Tempo').show()\n",
    "```\n",
    "Then write about what you observe in the graphs."
   ]
  },
  {
   "cell_type": "code",
   "execution_count": null,
   "metadata": {},
   "outputs": [],
   "source": []
  },
  {
   "cell_type": "markdown",
   "metadata": {},
   "source": [
    "In the graphs..."
   ]
  },
  {
   "cell_type": "markdown",
   "metadata": {},
   "source": [
    "7. Identify some [outliers](https://en.wikipedia.org/wiki/Outlier) in the data set."
   ]
  },
  {
   "cell_type": "code",
   "execution_count": null,
   "metadata": {},
   "outputs": [],
   "source": []
  },
  {
   "cell_type": "markdown",
   "metadata": {},
   "source": [
    "Some outliers..."
   ]
  },
  {
   "cell_type": "markdown",
   "metadata": {},
   "source": [
    "8. Create a graph to see if song duration has changed over time in this data set. Remember to include a trendline."
   ]
  },
  {
   "cell_type": "code",
   "execution_count": null,
   "metadata": {},
   "outputs": [],
   "source": []
  },
  {
   "cell_type": "markdown",
   "metadata": {},
   "source": [
    "Over time the song duration has..."
   ]
  },
  {
   "cell_type": "markdown",
   "metadata": {},
   "source": [
    "9. Are there any features that are common to really long, or really short, songs?"
   ]
  },
  {
   "cell_type": "code",
   "execution_count": null,
   "metadata": {},
   "outputs": [],
   "source": []
  },
  {
   "cell_type": "markdown",
   "metadata": {},
   "source": [
    "10. How many artists have multiple tracks in the data set?"
   ]
  },
  {
   "cell_type": "code",
   "execution_count": null,
   "metadata": {},
   "outputs": [],
   "source": []
  },
  {
   "cell_type": "markdown",
   "metadata": {},
   "source": [
    "In the data set..."
   ]
  },
  {
   "cell_type": "markdown",
   "metadata": {},
   "source": [
    "11. Create a new `'release_decade'` column with\n",
    "```\n",
    "music['release_decade'] = music['release_year'] // 10 * 10\n",
    "```\n",
    "then create a graph to compare the mean (or min) energy grouped by release_decade."
   ]
  },
  {
   "cell_type": "code",
   "execution_count": null,
   "metadata": {},
   "outputs": [],
   "source": []
  },
  {
   "cell_type": "markdown",
   "metadata": {},
   "source": [
    "12. Make and describe a new visualization (graph)."
   ]
  },
  {
   "cell_type": "code",
   "execution_count": null,
   "metadata": {},
   "outputs": [],
   "source": []
  },
  {
   "cell_type": "markdown",
   "metadata": {},
   "source": [
    "The visualization..."
   ]
  },
  {
   "cell_type": "markdown",
   "metadata": {},
   "source": [
    "13. Analyse data from the [Billions Club](https://open.spotify.com/playlist/37i9dQZF1DX7iB3RCnBnN4) playlist by importing `https://raw.githubusercontent.com/callysto/data-files/main/hackathon/spotify-billions-club.csv`"
   ]
  },
  {
   "cell_type": "code",
   "execution_count": null,
   "metadata": {},
   "outputs": [],
   "source": []
  },
  {
   "cell_type": "markdown",
   "metadata": {},
   "source": [
    "The \"Billions Club\" playlist..."
   ]
  },
  {
   "cell_type": "markdown",
   "metadata": {},
   "source": [
    "The Spotify Web API allows us to get information about songs, albums, and artists. If you want to retireve more data and have a [Spotify account](https://www.spotify.com/us/signup), you can sign in to the [Developers Dashboard](https://developer.spotify.com/dashboard/login). From the Dashboard, you can click the `CREATE AN APP` button, type a name and description, and then click `CREATE`. Clicking on your new app in the Dashboard will show you the `Client ID` and `CLIENT SECRET` that you can paste into the code cell below."
   ]
  },
  {
   "cell_type": "code",
   "execution_count": null,
   "metadata": {},
   "outputs": [],
   "source": [
    "CLIENT_ID = 'PASTE_YOUR_CLIENT_ID_HERE'\n",
    "CLIENT_SECRET = 'PASTE_YOUR_CLIENT_SECRET_HERE'\n",
    "\n",
    "await piplite.install(['requests'])\n",
    "import pyodide_http\n",
    "pyodide_http.patch_all()\n",
    "import requests\n",
    "try:\n",
    "    auth_response = requests.post('https://accounts.spotify.com/api/token', {'grant_type':'client_credentials', 'client_id':CLIENT_ID, 'client_secret':CLIENT_SECRET})\n",
    "    auth_response_data = auth_response.json()\n",
    "    access_token = auth_response_data['access_token']\n",
    "    headers = {'Authorization':'Bearer {token}'.format(token=access_token)}\n",
    "    print('Spotify API setup complete')\n",
    "except:\n",
    "    print('Remember to paste your client ID and secret into the code')\n",
    "\n",
    "def find_tracks(search_string):\n",
    "    try:\n",
    "        r = requests.get('https://api.spotify.com/v1/search?q=' + search_string + '&type=track', headers=headers)\n",
    "        info = r.json()\n",
    "    except:\n",
    "        print('Error with search string:', search_string)\n",
    "        info = None\n",
    "    return info\n",
    "\n",
    "def get_track_info(track_id):\n",
    "    try:\n",
    "        r = requests.get('https://api.spotify.com/v1/tracks/' + track_id, headers=headers)\n",
    "        info = r.json()\n",
    "    except:\n",
    "        print('Error with track id:', track_id)\n",
    "        info = None\n",
    "    return info\n",
    "\n",
    "def get_track_features(track_id):\n",
    "    try:\n",
    "        r = requests.get('https://api.spotify.com/v1/audio-features/' + track_id, headers=headers)\n",
    "        info = r.json()\n",
    "    except:\n",
    "        print('Error with track id:', track_id)\n",
    "        info = None\n",
    "    return info"
   ]
  },
  {
   "cell_type": "markdown",
   "metadata": {},
   "source": [
    "14. Get a data set from playlist, either one you created or someone else's playlist. You need the playlist ID [from the playlist link](https://clients.caster.fm/knowledgebase/110/How-to-find-Spotify-playlist-ID.html)."
   ]
  },
  {
   "cell_type": "code",
   "execution_count": null,
   "metadata": {},
   "outputs": [],
   "source": [
    "playlist_id = '37i9dQZF1DX7iB3RCnBnN4'\n",
    "\n",
    "print('This may take a couple of minutes')\n",
    "tracks = []\n",
    "for x in range(50):  \n",
    "    offset = x*100  # it only returns 100 tracks at a time\n",
    "    try:\n",
    "        r = requests.get('https://api.spotify.com/v1/playlists/' + playlist_id + '/tracks?offset=' + str(offset), headers=headers)\n",
    "        for item in r.json()['items']:\n",
    "            tracks.append([item['track']['artists'][0]['name'], item['track']['name'], item['track']['id'], item['track']['album']['release_date']])\n",
    "    except:\n",
    "        print(offset)\n",
    "        break\n",
    "pl = pd.DataFrame(tracks, columns=['artist', 'track', 'id', 'release_date'])\n",
    "\n",
    "track_features = {}\n",
    "for row in pl.itertuples():\n",
    "    print(row[1], row[2]) # artist and track\n",
    "    id = row[3]\n",
    "    features = get_track_features(id)\n",
    "    track_features[id] = features\n",
    "\n",
    "from IPython.display import clear_output\n",
    "clear_output()\n",
    "\n",
    "tf = pd.DataFrame(track_features).T\n",
    "playlist = pd.merge(pl, tf, on='id')\n",
    "playlist"
   ]
  },
  {
   "cell_type": "markdown",
   "metadata": {},
   "source": [
    "15. Create an interesting visualization using the data you have just retrieved from a playlist."
   ]
  },
  {
   "cell_type": "code",
   "execution_count": null,
   "metadata": {},
   "outputs": [],
   "source": []
  },
  {
   "cell_type": "markdown",
   "metadata": {},
   "source": [
    "[![Callysto.ca License](https://github.com/callysto/curriculum-notebooks/blob/master/callysto-notebook-banner-bottom.jpg?raw=true)](https://github.com/callysto/curriculum-notebooks/blob/master/LICENSE.md)"
   ]
  }
 ],
 "metadata": {
  "kernelspec": {
   "display_name": "Python 3.8.10 64-bit",
   "language": "python",
   "name": "python3"
  },
  "language_info": {
   "codemirror_mode": {
    "name": "ipython",
    "version": 3
   },
   "file_extension": ".py",
   "mimetype": "text/x-python",
   "name": "python",
   "nbconvert_exporter": "python",
   "pygments_lexer": "ipython3",
   "version": "3.10.12"
  },
  "latex_envs": {
   "LaTeX_envs_menu_present": true,
   "autoclose": false,
   "autocomplete": true,
   "bibliofile": "biblio.bib",
   "cite_by": "apalike",
   "current_citInitial": 1,
   "eqLabelWithNumbers": true,
   "eqNumInitial": 1,
   "hotkeys": {
    "equation": "Ctrl-E",
    "itemize": "Ctrl-I"
   },
   "labels_anchors": false,
   "latex_user_defs": false,
   "report_style_numbering": false,
   "user_envs_cfg": false
  },
  "nbTranslate": {
   "displayLangs": [
    "*"
   ],
   "hotkey": "alt-t",
   "langInMainMenu": true,
   "sourceLang": "en",
   "targetLang": "fr",
   "useGoogleTranslate": true
  },
  "vscode": {
   "interpreter": {
    "hash": "916dbcbb3f70747c44a77c7bcd40155683ae19c65e1c03b4aa3499c5328201f1"
   }
  }
 },
 "nbformat": 4,
 "nbformat_minor": 2
}
