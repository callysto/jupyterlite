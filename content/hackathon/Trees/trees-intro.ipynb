{
  "cells": [
    {
      "cell_type": "markdown",
      "metadata": {
        "colab_type": "text",
        "id": "UIpzey-qyj-l"
      },
      "source": [
        "![Callysto.ca Banner](https://github.com/callysto/curriculum-notebooks/blob/master/callysto-notebook-banner-top.jpg?raw=true)"
      ]
    },
    {
      "cell_type": "markdown",
      "metadata": {
        "colab_type": "text",
        "id": "Mb6pNmQayj-m"
      },
      "source": [
        "# Trees in Strathcona County\n",
        "\n",
        "Strathcona County collects data on all trees that are on public land. We are going to explore this dataset.\n",
        "\n",
        "## Getting Ready\n",
        "\n",
        "This section sets up many things behind the scenes which are required for the rest of this notebook. Most of the code blocks in this section are ready-to-run so you won't have to do any modifications. You don't need to know everything about various tasks being accomplished by the code cell in this section to complete the challenges. However feel free to ask mentors about anything that makes you curious.\n",
        "\n",
        "### Importing Libraries\n",
        "\n",
        "`▸Run` the cell below to import the required Python libraries."
      ]
    },
    {
      "cell_type": "code",
      "execution_count": null,
      "metadata": {
        "colab": {},
        "colab_type": "code",
        "id": "1Ymtq63Zyj-n"
      },
      "outputs": [],
      "source": [
        "%pip install -q pyodide_http plotly folium nbformat\n",
        "import pyodide_http\n",
        "pyodide_http.patch_all()\n",
        "import pandas as pd\n",
        "import pandas as pd\n",
        "import plotly.express as px\n",
        "import folium\n",
        "from folium.plugins import FastMarkerCluster\n",
        "print('Setup Complete')"
      ]
    },
    {
      "attachments": {},
      "cell_type": "markdown",
      "metadata": {},
      "source": [
        "### Importing Data\n",
        "\n",
        "We'll use a data set provided by Strathcona County on [data.strathcona.ca](https://data.strathcona.ca/Environment/Trees/ig6t-pdus). It contains tree locations and types, updated four times per year.\n",
        "\n",
        "Alternatively, we can look at [Edible Fruit Trees](https://data.edmonton.ca/Environmental-Services/Edible-Fruit-Trees/h4ti-be2n) in Edmonton from `https://data.edmonton.ca/api/views/eecg-fc54/rows.csv?accessType=DOWNLOAD`."
      ]
    },
    {
      "cell_type": "code",
      "execution_count": null,
      "metadata": {
        "colab": {},
        "colab_type": "code",
        "id": "ZyIz6JcMyj-q"
      },
      "outputs": [],
      "source": [
        "trees = pd.read_csv('https://opendata.arcgis.com/api/v3/datasets/8a68e1b6c525481bbd2b524616739ee1_0/downloads/data?format=csv&spatialRefId=3776')\n",
        "#trees = pd.read_csv('https://data.edmonton.ca/api/views/eecg-fc54/rows.csv?accessType=DOWNLOAD')\n",
        "trees"
      ]
    },
    {
      "cell_type": "markdown",
      "metadata": {
        "colab_type": "text",
        "id": "1D0GNjdsyj-6"
      },
      "source": [
        "## Analysis\n",
        "\n",
        "We can now do some analysis of the dataset, such as figuring out which tree types are the most common.\n",
        "\n",
        "We'll group data by `species`, and use the `size()` method to count how many of each kind there are. The `.sort_values()` method will then sort by the `count` we created."
      ]
    },
    {
      "cell_type": "code",
      "execution_count": null,
      "metadata": {
        "colab": {},
        "colab_type": "code",
        "id": "kBb2sqWWyj--"
      },
      "outputs": [],
      "source": [
        "counts_by_name = trees.groupby('species').size().reset_index(name='count')\n",
        "counts_by_name.sort_values(by='count', ascending=False, inplace=True)\n",
        "counts_by_name"
      ]
    },
    {
      "cell_type": "markdown",
      "metadata": {
        "colab_type": "text",
        "id": "vkYHfX_5yj_A"
      },
      "source": [
        "You can now see the most common types of trees in Strathcona County. Let's visualize the data with a pie chart."
      ]
    },
    {
      "cell_type": "code",
      "execution_count": null,
      "metadata": {
        "colab": {},
        "colab_type": "code",
        "id": "QYpHZiOoyj_A"
      },
      "outputs": [],
      "source": [
        "px.pie(counts_by_name.head(5), values='count', names='species', title='Most Common Trees in Strathcona County')"
      ]
    },
    {
      "cell_type": "markdown",
      "metadata": {},
      "source": [
        "Or the top ten most common as a bar graph."
      ]
    },
    {
      "cell_type": "code",
      "execution_count": null,
      "metadata": {},
      "outputs": [],
      "source": [
        "px.bar(counts_by_name.head(10), x='Name', y='count', title='Most Common Trees in Strathcona County')"
      ]
    },
    {
      "cell_type": "markdown",
      "metadata": {},
      "source": [
        "## Mapping Data\n",
        "\n",
        "Since we have a dataframe with `latitude` and `longitude` columns, we will use the Python library called `folium` to visualize our data on a map.\n",
        "\n",
        "First we will create and display a map. To figure out where the center of the map should be, we'll find the median values from those columns."
      ]
    },
    {
      "cell_type": "code",
      "execution_count": null,
      "metadata": {
        "colab": {},
        "colab_type": "code",
        "id": "4-6SmRxFyj-0"
      },
      "outputs": [],
      "source": [
        "median_latitude = trees['latitude'].median()\n",
        "median_longitude = trees['longitude'].median()\n",
        "\n",
        "tree_map = folium.Map(location=[median_latitude, median_longitude], zoom_start=10)\n",
        "display(tree_map)"
      ]
    },
    {
      "attachments": {},
      "cell_type": "markdown",
      "metadata": {},
      "source": [
        "There are also other map styles that we can try:\n",
        "\n",
        "* `openstreetmap`\n",
        "* `stamen terrain`\n",
        "* `stamen toner`\n",
        "* `stamen watercolor`\n",
        "* `cartodb positron`\n",
        "* `cartodb dark_matter`\n",
        "* `mapbox bright` (Limited zoom levels)\n",
        "* `mapbox control room` (Limited zoom levels)"
      ]
    },
    {
      "cell_type": "markdown",
      "metadata": {
        "colab_type": "text",
        "id": "i3Nz3tB0yj-2"
      },
      "source": [
        "We can now add the tree locations into our map. \n",
        "\n",
        "In the cell below we will add markers using the `folium.FastMarkerCluster` function. Each marker will be created from the `latitude` and `longitude` coordinates and added to our map called `tree_map`.\n",
        "\n",
        "The cell may take a while to run, you'll know it's running if you see a `[*]` by the top left of the cell."
      ]
    },
    {
      "cell_type": "code",
      "execution_count": null,
      "metadata": {
        "colab": {},
        "colab_type": "code",
        "id": "3-3oJnA_yj-3"
      },
      "outputs": [],
      "source": [
        "tree_map.add_child(FastMarkerCluster(trees[['latitude','longitude']].values.tolist()))\n",
        "display(tree_map)"
      ]
    },
    {
      "cell_type": "markdown",
      "metadata": {},
      "source": [
        "We can also create a map with a different marker style and a text popup label using the code below."
      ]
    },
    {
      "cell_type": "code",
      "execution_count": null,
      "metadata": {},
      "outputs": [],
      "source": [
        "callback = ('function (row) {' \n",
        "                'var marker = L.marker(new L.LatLng(row[0], row[1]));'\n",
        "                'var icon = L.AwesomeMarkers.icon({'\n",
        "                \"icon: 'tree',\"\n",
        "                \"iconColor: 'green',\"\n",
        "                \"markerColor: 'white',\"\n",
        "                \"prefix: 'fa'});\"\n",
        "                'marker.setIcon(icon);'\n",
        "                \"var popup = L.popup({maxWidth: '300'});\"\n",
        "                \"const display_text = {text: row[2]};\"\n",
        "                \"var mytext = $(`<div id='mytext' class='display_text' style='width: 100.0%; height: 100.0%;'> ${display_text.text}</div>`)[0];\"\n",
        "                \"popup.setContent(mytext);\"\n",
        "                \"marker.bindPopup(popup);\"\n",
        "                'return marker};')\n",
        "\n",
        "median_latitude = trees['latitude'].median()\n",
        "median_longitude = trees['longitude'].median()\n",
        "\n",
        "tree_map = folium.Map(location=[median_latitude, median_longitude], zoom_start=10)\n",
        "tree_map.add_child(FastMarkerCluster(trees[['latitude','longitude','species']].values.tolist(), callback=callback))\n",
        "display(tree_map)"
      ]
    },
    {
      "cell_type": "markdown",
      "metadata": {},
      "source": [
        "You can now continue your own analysis in the [next notebook](trees-challenge.ipynb)."
      ]
    },
    {
      "cell_type": "markdown",
      "metadata": {
        "colab_type": "text",
        "id": "ad2ZyO5Vyj_M"
      },
      "source": [
        "[![Callysto.ca License](https://github.com/callysto/curriculum-notebooks/blob/master/callysto-notebook-banner-bottom.jpg?raw=true)](https://github.com/callysto/curriculum-notebooks/blob/master/LICENSE.md)"
      ]
    }
  ],
  "metadata": {
    "colab": {
      "name": "Trees-Challenge.ipynb",
      "provenance": []
    },
    "kernelspec": {
      "display_name": "Python 3.10.1 64-bit",
      "language": "python",
      "name": "python3"
    },
    "language_info": {
      "codemirror_mode": {
        "name": "ipython",
        "version": 3
      },
      "file_extension": ".py",
      "mimetype": "text/x-python",
      "name": "python",
      "nbconvert_exporter": "python",
      "pygments_lexer": "ipython3",
      "version": "3.10.4"
    },
    "vscode": {
      "interpreter": {
        "hash": "d1ca6d17674200220921376aaeb3d36cffe15ecab2470a9a5e7a456cdbf61425"
      }
    }
  },
  "nbformat": 4,
  "nbformat_minor": 0
}
