{
 "cells": [
  {
   "cell_type": "markdown",
   "metadata": {},
   "source": [
    "![Callysto.ca Banner](https://github.com/callysto/curriculum-notebooks/blob/master/callysto-notebook-banner-top.jpg?raw=true)"
   ]
  },
  {
   "cell_type": "markdown",
   "metadata": {},
   "source": [
    "# Pokémon Challenge\n",
    "\n",
    "Submitted by: \n",
    "\n",
    "From school: \n",
    "\n",
    "## Introduction\n",
    "\n",
    "In this notebook we will...\n",
    "\n",
    "\n",
    "### Suggested Goals\n",
    "  \n",
    "1. Find the 20 shortest Pokémon.\n",
    "1. Find all Pokémon that have ability to fight against `against_dragon`, how many are there? Which have the largest `attack`?\n",
    "1. Compare Pokémon by characteristics such as `capture_rate` and `hp`.\n",
    "1. See if there is a relationship between variables such as `speed` and `generation`.\n",
    "1. What are the best attacks against the ten strongest Pokémon?\n",
    "1. What is special about \"legendary\" Pokémon?\n",
    "1. Is there anything else interesting you can find and visualize for these data?\n",
    "1. Remember to complete your reflections at the bottom of this notebook."
   ]
  },
  {
   "cell_type": "code",
   "execution_count": null,
   "metadata": {},
   "outputs": [],
   "source": [
    "%pip install -q pyodide_http plotly\n",
    "import pyodide_http\n",
    "pyodide_http.patch_all()\n",
    "import pandas as pd\n",
    "import plotly.express as px\n",
    "pokemon = pd.read_csv('https://raw.githubusercontent.com/callysto/data-files/main/hackathon/pokemon.csv')\n",
    "pokemon"
   ]
  },
  {
   "cell_type": "markdown",
   "metadata": {},
   "source": [
    "Column Descriptions:\n",
    "\n",
    "- **name**: The English name of the Pokemon\n",
    "- **japanese_name**: The Original Japanese name of the Pokemon\n",
    "- **pokedex_number**: The entry number of the Pokemon in the National Pokedex\n",
    "- **percentage_male**: The percentage of the species that are male. Blank if the Pokemon is genderless.\n",
    "- **type1**: The Primary Type of the Pokemon\n",
    "- **type2**: The Secondary Type of the Pokemon\n",
    "- **classfication**: The Classification of the Pokemon as described by the Sun and Moon Pokedex\n",
    "- **height_m**: Height of the Pokemon in metres\n",
    "- **weight_kg**: The Weight of the Pokemon in kilograms\n",
    "- **capture_rate**: Capture Rate of the Pokemon\n",
    "- **base_egg_steps**: The number of steps required to hatch an egg of the Pokemon\n",
    "- **abilities**: A stringified list of abilities that the Pokemon is capable of having\n",
    "- **experience_growth**: The Experience Growth of the Pokemon\n",
    "- **base_happiness**: Base Happiness of the Pokemon\n",
    "- **against_?**: Eighteen features that denote the amount of damage taken against an attack of a particular type\n",
    "- **hp**: The Base HP of the Pokemon\n",
    "- **attack**: The Base Attack of the Pokemon\n",
    "- **defense**: The Base Defense of the Pokemon\n",
    "- **sp_attack**: The Base Special Attack of the Pokemon\n",
    "- **sp_defense**: The Base Special Defense of the Pokemon\n",
    "- **speed**: The Base Speed of the Pokemon\n",
    "- **generation**: The numbered generation which the Pokemon was first introduced\n",
    "- **is_legendary**: Denotes if the Pokemon is legendary."
   ]
  },
  {
   "cell_type": "markdown",
   "metadata": {},
   "source": []
  },
  {
   "cell_type": "code",
   "execution_count": null,
   "metadata": {},
   "outputs": [],
   "source": []
  },
  {
   "cell_type": "markdown",
   "metadata": {},
   "source": [
    "## Hackathon Reflections\n",
    "\n",
    "Write about some or all of the following questions:\n",
    "- What is something you learned through this process?\n",
    "- How well did your group work together? Why do you think that is?\n",
    "- What were some of the hardest parts?\n",
    "- What are you proud of? What would you like to show others?\n",
    "- Are you curious about anything else related to this? Did anything surprise you?\n",
    "- How can you apply your learning to future activities?"
   ]
  },
  {
   "cell_type": "markdown",
   "metadata": {},
   "source": [
    "[![Callysto.ca License](https://github.com/callysto/curriculum-notebooks/blob/master/callysto-notebook-banner-bottom.jpg?raw=true)](https://github.com/callysto/curriculum-notebooks/blob/master/LICENSE.md)"
   ]
  }
 ],
 "metadata": {
  "celltoolbar": "Raw Cell Format",
  "kernelspec": {
   "display_name": "Python 3.10.1 64-bit",
   "language": "python",
   "name": "python3"
  },
  "language_info": {
   "codemirror_mode": {
    "name": "ipython",
    "version": 3
   },
   "file_extension": ".py",
   "mimetype": "text/x-python",
   "name": "python",
   "nbconvert_exporter": "python",
   "pygments_lexer": "ipython3",
   "version": "3.10.1"
  },
  "latex_envs": {
   "LaTeX_envs_menu_present": true,
   "autoclose": false,
   "autocomplete": true,
   "bibliofile": "biblio.bib",
   "cite_by": "apalike",
   "current_citInitial": 1,
   "eqLabelWithNumbers": true,
   "eqNumInitial": 1,
   "hotkeys": {
    "equation": "Ctrl-E",
    "itemize": "Ctrl-I"
   },
   "labels_anchors": false,
   "latex_user_defs": false,
   "report_style_numbering": false,
   "user_envs_cfg": false
  },
  "nbTranslate": {
   "displayLangs": [
    "*"
   ],
   "hotkey": "alt-t",
   "langInMainMenu": true,
   "sourceLang": "en",
   "targetLang": "fr",
   "useGoogleTranslate": true
  },
  "vscode": {
   "interpreter": {
    "hash": "d1ca6d17674200220921376aaeb3d36cffe15ecab2470a9a5e7a456cdbf61425"
   }
  }
 },
 "nbformat": 4,
 "nbformat_minor": 2
}
