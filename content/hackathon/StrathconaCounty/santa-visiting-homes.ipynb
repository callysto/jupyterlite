{
 "cells": [
  {
   "cell_type": "markdown",
   "metadata": {},
   "source": [
    "![Callysto.ca Banner](https://github.com/callysto/curriculum-notebooks/blob/master/callysto-notebook-banner-top.jpg?raw=true)"
   ]
  },
  {
   "cell_type": "markdown",
   "metadata": {
    "colab_type": "text",
    "id": "6pbv_jfI4LIg"
   },
   "source": [
    "# Santa Visiting Homes in Strathcona County\n",
    "\n",
    "There are a lot of homes in Strathcona County and Santa's internal GPS is malfunctioning. We [think](https://www.sciencealert.com/turns-out-we-have-no-idea-why-the-northern-lights-wreak-havoc-on-our-satellite-technology) the GPS interference is due to strong aurora borealis (Northern Lights) activity which are a result of intense solar storms. Luckily [Strathcona County's Open Data Portal](https://data.strathcona.ca/) includes all of the location data of homes in the county.\n",
    "\n",
    "That’s where you as a data scientist come in. They’ve given you data and you need to reprogram Santa's GPS to figure out how to visit homes in the county on Christmas Eve in the most efficient manner possible."
   ]
  },
  {
   "cell_type": "markdown",
   "metadata": {
    "colab_type": "text",
    "id": "PD69O14esIVk"
   },
   "source": [
    "## Importing Code\n",
    "First we'll import some Python libraries that we'll use. These libraries are code that other people have written to help make our programming easier."
   ]
  },
  {
   "cell_type": "code",
   "execution_count": null,
   "metadata": {
    "colab": {
     "base_uri": "https://localhost:8080/",
     "height": 33
    },
    "colab_type": "code",
    "id": "z3oTV-4U4QgL",
    "outputId": "642bfa79-9ae2-4743-93be-35f759e55700"
   },
   "outputs": [],
   "source": [
    "print('Importing code libraries...')\n",
    "# We will store the data into a 'dataframe' using pandas\n",
    "import pandas as pd\n",
    "try: # if we are running in JupyterLite\n",
    "    # pyodide is a Python interpreter that runs in the browser\n",
    "    import pyodide\n",
    "    # piplite will be used for installing packages\n",
    "    import piplite\n",
    "    await piplite.install(['nbformat','plotly','haversine','folium'])\n",
    "except:\n",
    "    pass\n",
    "# Plotly will be used to visualize the data\n",
    "import plotly.express as px\n",
    "# We will visualize the coordinates in a map using the folium\n",
    "import folium\n",
    "# We want to cluster them using the FastMarkerCluster submodule from folium plugins\n",
    "from folium.plugins import FastMarkerCluster\n",
    "# The haversine library will help us calculate distances on a map\n",
    "try:\n",
    "    import haversine as hs\n",
    "except:\n",
    "    !pip install haversine\n",
    "    import haversine as hs\n",
    "\n",
    "print('Successfully imported Python libraries')"
   ]
  },
  {
   "cell_type": "markdown",
   "metadata": {
    "colab_type": "text",
    "id": "DLJZBf8e72tM"
   },
   "source": [
    "## Getting Data About Homes\n",
    "\n",
    "Next we will: \n",
    "\n",
    "1. Retrieve the data from the Strathcona County Open Data Portal.\n",
    "2. Put the data in a dataframe named `home_data`. Think of a dataframe as a powerful spreadsheet.\n",
    "3. Have a look at the first five rows using `.head()`."
   ]
  },
  {
   "cell_type": "code",
   "execution_count": null,
   "metadata": {
    "colab": {
     "base_uri": "https://localhost:8080/",
     "height": 390
    },
    "colab_type": "code",
    "id": "_PJc2JeZ4lF5",
    "outputId": "e0e091eb-a339-4756-e559-2b6b9e1e4aaa"
   },
   "outputs": [],
   "source": [
    "data_url = 'https://data.strathcona.ca/api/views/c9fr-ivqf/rows.csv?accessType=DOWNLOAD'\n",
    "try:\n",
    "    home_data = pd.read_csv(pyodide.http.open_url(data_url))\n",
    "except:\n",
    "    home_data = pd.read_csv(data_url)\n",
    "home_data"
   ]
  },
  {
   "cell_type": "markdown",
   "metadata": {
    "colab_type": "text",
    "id": "wCBVlkDOEtd5"
   },
   "source": [
    "## Visualizing Home Locations\n",
    "\n",
    "Let's use folium to plot the home locations in our dataframe on an interactive map."
   ]
  },
  {
   "cell_type": "code",
   "execution_count": null,
   "metadata": {
    "colab": {
     "base_uri": "https://localhost:8080/",
     "height": 1000
    },
    "colab_type": "code",
    "id": "aqyAUzv-Fuj5",
    "outputId": "b46b45fc-7e8e-4e3a-eb17-02740f87ab54"
   },
   "outputs": [],
   "source": [
    "m = folium.Map(location=[53.5701, -113.0741], zoom_start=10)\n",
    "m.add_child(FastMarkerCluster(home_data[['LATITUDE', 'LONGITUDE']].values.tolist()))\n",
    "display(m)"
   ]
  },
  {
   "cell_type": "markdown",
   "metadata": {
    "colab_type": "text",
    "id": "baHAk5YZPCZe"
   },
   "source": [
    "## Counting Homes\n",
    "\n",
    "That's a lot of homes for Santa to visit, and this is just in Strathcona County. To find out how many homes are in the data set we can use `.shape`."
   ]
  },
  {
   "cell_type": "code",
   "execution_count": null,
   "metadata": {
    "colab": {
     "base_uri": "https://localhost:8080/",
     "height": 33
    },
    "colab_type": "code",
    "id": "tgVrOT_IPHGy",
    "outputId": "1786bfe1-65a4-4445-c020-2e913cae3315"
   },
   "outputs": [],
   "source": [
    "home_data.shape"
   ]
  },
  {
   "cell_type": "markdown",
   "metadata": {
    "colab_type": "text",
    "id": "a8FrAtaatZ3L"
   },
   "source": [
    "## Calculating Travel Time\n",
    "\n",
    "We can approximate Santa's travel time using the equation $t = \\frac{d}{v}$ where $t$ is time, $d$ is distance, and $v$ is speed or velocity.\n",
    "\n",
    "Start by assuming that Santa can travel close to the speed of sound, or about 300 meters per second, and that he spends about 30 seconds in each home."
   ]
  },
  {
   "cell_type": "code",
   "execution_count": null,
   "metadata": {
    "colab": {
     "base_uri": "https://localhost:8080/",
     "height": 33
    },
    "colab_type": "code",
    "id": "Hi8ukXsc4632",
    "outputId": "91c44fa5-a50a-46be-d678-a23348415386"
   },
   "outputs": [],
   "source": [
    "# Function with Santa's speed and time per home to calculate time required\n",
    "# Feel free to change the values for flight_speed and time_per_home and re-run this cell\n",
    "def calculate_required_time(travel_distance, number_of_homes):\n",
    "    flight_speed = 300\n",
    "    time_per_home = 30\n",
    "    time_required = travel_distance / flight_speed + time_per_home\n",
    "    return time_required\n",
    "print('We have defined the function calculate_required_time()')"
   ]
  },
  {
   "cell_type": "code",
   "execution_count": null,
   "metadata": {
    "colab": {
     "base_uri": "https://localhost:8080/",
     "height": 66
    },
    "colab_type": "code",
    "id": "4W8syFeFPZQL",
    "outputId": "0be9d91e-80ad-4d66-d417-4244a7d69c34"
   },
   "outputs": [],
   "source": [
    "number_of_homes = home_data.shape[0]\n",
    "total_distance = 0\n",
    "previous_location = (53.5701, -113.0741) # starting from the middle of Strathcona County\n",
    "for record in home_data.iterrows():\n",
    "    current_location = (record[1]['LATITUDE'], record[1]['LONGITUDE'])\n",
    "    travel_distance = hs.haversine(previous_location, current_location, unit=hs.Unit.METERS)\n",
    "    total_distance = total_distance + travel_distance\n",
    "    previous_location = current_location\n",
    "\n",
    "print(total_distance, 'meters')\n",
    "required_time = calculate_required_time(total_distance, number_of_homes)\n",
    "print(required_time, 'seconds required.')\n",
    "print(required_time/3600, 'hours required')"
   ]
  },
  {
   "cell_type": "markdown",
   "metadata": {
    "colab_type": "text",
    "id": "eluL6RNPc_z_"
   },
   "source": [
    "That seems like a long time, a little over a week. You can of course change the values in the `calculate_required_time()` function so Santa travels faster or spends less time in each home.\n",
    "\n",
    "# Visualizing the Path\n",
    "\n",
    "A better way to decrease the travel time, though, would be to visit homes in an optimal order. We will visualize this using the Cufflinks library for Plotly. Right now we just have Santa visiting homes in the order they are listed in the data:"
   ]
  },
  {
   "cell_type": "code",
   "execution_count": null,
   "metadata": {},
   "outputs": [],
   "source": [
    "px.line(home_data, x=\"LONGITUDE\", y=\"LATITUDE\")"
   ]
  },
  {
   "cell_type": "markdown",
   "metadata": {
    "colab_type": "text",
    "id": "gUZq3yQ0dyai"
   },
   "source": [
    "Looking at just the first 50 homes, we can see that this is not an efficient path:"
   ]
  },
  {
   "cell_type": "code",
   "execution_count": null,
   "metadata": {},
   "outputs": [],
   "source": [
    "px.line(home_data.head(50), x=\"LONGITUDE\", y=\"LATITUDE\")"
   ]
  },
  {
   "cell_type": "markdown",
   "metadata": {
    "colab_type": "text",
    "id": "3633NqldbcMh"
   },
   "source": [
    "# Travelling Salesman Problem\n",
    "\n",
    "Optimizing Santa's travel path is a version of the classic [travelling salesman problem](https://simple.wikipedia.org/wiki/Travelling_salesman_problem), which is actually a very hard mathematical problem to compute.\n",
    "\n",
    "There hasn't yet been a good solution, and there is a [$1,000,000 prize](http://www.claymath.org/millennium-problems/p-vs-np-problem) available to anyone who solves it."
   ]
  },
  {
   "cell_type": "markdown",
   "metadata": {
    "colab_type": "text",
    "id": "YNeVS30feJsF"
   },
   "source": [
    "## Filtering and Sorting Data\n",
    "\n",
    "Assuming that you haven't solved the travelling salesman problem already, we'll try to optimize Santa's route by eliminating some homes. Let's see what data categories are available to us in our `home_data` dataframe:"
   ]
  },
  {
   "cell_type": "code",
   "execution_count": null,
   "metadata": {
    "colab": {
     "base_uri": "https://localhost:8080/",
     "height": 115
    },
    "colab_type": "code",
    "id": "Xjzhx4aPfPsS",
    "outputId": "3c07baab-acf4-4fbc-e481-7c0616aa1a02"
   },
   "outputs": [],
   "source": [
    "home_data.columns"
   ]
  },
  {
   "cell_type": "markdown",
   "metadata": {
    "colab_type": "text",
    "id": "mA_O27SDfhYx"
   },
   "source": [
    "There are a couple of column names that are interesting for our purposes: `'ASSESSCLAS'` and perhaps `'FIREPLACE'`. Let's look at the types of \"assessment classes\":"
   ]
  },
  {
   "cell_type": "code",
   "execution_count": null,
   "metadata": {
    "colab": {
     "base_uri": "https://localhost:8080/",
     "height": 407
    },
    "colab_type": "code",
    "id": "R8wBsF7Ue83n",
    "outputId": "34831f38-1858-4c92-85e1-8f716295e8b8"
   },
   "outputs": [],
   "source": [
    "# We are using a for loop to identify the unique values of \"assessment classes\"\n",
    "for assessment_class in home_data['ASSESSCLAS'].unique():\n",
    "    print(assessment_class)"
   ]
  },
  {
   "cell_type": "markdown",
   "metadata": {
    "colab_type": "text",
    "id": "uDHzdxw3gAOf"
   },
   "source": [
    "To get just the homes that are `'Residential'` try to run the following. Notice, we create a new dataframe called `home_data_filtered`."
   ]
  },
  {
   "cell_type": "code",
   "execution_count": null,
   "metadata": {
    "colab": {
     "base_uri": "https://localhost:8080/",
     "height": 33
    },
    "colab_type": "code",
    "id": "tTzhY2qeekkA",
    "outputId": "1b468613-2ca6-4eb7-d66e-efa9a3259e89"
   },
   "outputs": [],
   "source": [
    "condition = home_data['ASSESSCLAS']=='Residential'\n",
    "home_data_filtered = home_data[condition]\n",
    "home_data_filtered.shape"
   ]
  },
  {
   "cell_type": "markdown",
   "metadata": {
    "colab_type": "text",
    "id": "BntXWdo2eeyA"
   },
   "source": [
    "Or how about just the homes with fireplaces, try:\n",
    "\n",
    "`condition = home_data['FIREPLACE']=='Y'`"
   ]
  },
  {
   "cell_type": "code",
   "execution_count": null,
   "metadata": {
    "colab": {},
    "colab_type": "code",
    "id": "0pUlBa_4wBiP"
   },
   "outputs": [],
   "source": [
    "# enter your code below\n"
   ]
  },
  {
   "cell_type": "markdown",
   "metadata": {
    "colab_type": "text",
    "id": "Ulqj5xzzlWNb"
   },
   "source": [
    "You can also specify two conditions like this, try it yourself:\n",
    "\n",
    "---\n",
    "\n",
    "`condition1 = home_data['ASSESSCLAS'] == 'Residential'`\n",
    "\n",
    "`condition2 = home_data['YEAR_BUILT'] < 2000`\n",
    "\n",
    "`home_data_filtered = home_data[(condition1) & (condition2)]`\n",
    "\n",
    "---\n",
    "\n",
    "`&` means **and**\n",
    "\n",
    "`|` means **or**"
   ]
  },
  {
   "cell_type": "code",
   "execution_count": null,
   "metadata": {
    "colab": {},
    "colab_type": "code",
    "id": "gaXtL6X2wCUN"
   },
   "outputs": [],
   "source": [
    "# enter your code below\n"
   ]
  },
  {
   "cell_type": "markdown",
   "metadata": {
    "colab_type": "text",
    "id": "n2gv33DteVNC"
   },
   "source": [
    "Ordering the data by latitude might also help. Notice that we create a new dataframe called `home_data_sorted`. \n",
    "\n",
    "`home_data_sorted = home_data_filtered.sort_values(by=['LONGITUDE'])`"
   ]
  },
  {
   "cell_type": "code",
   "execution_count": null,
   "metadata": {},
   "outputs": [],
   "source": [
    "home_data_sorted = home_data_filtered.sort_values(by=['LONGITUDE'])\n",
    "px.line(home_data_sorted, x=\"LONGITUDE\", y=\"LATITUDE\")"
   ]
  },
  {
   "cell_type": "markdown",
   "metadata": {},
   "source": [
    "## Graphing Data\n",
    "\n",
    "Here are some graphs to help you visualize the data and make decisions about which homes to include in Santa's route. "
   ]
  },
  {
   "cell_type": "code",
   "execution_count": null,
   "metadata": {
    "scrolled": false
   },
   "outputs": [],
   "source": [
    "fireplaces = home_data['FIREPLACE'].value_counts()\n",
    "px.pie(values=fireplaces.values, names=fireplaces.index, title='Buildings with Fireplaces').show()\n",
    "px.bar(fireplaces, title='Buildings with Fireplaces').show()\n",
    "\n",
    "px.bar(home_data['ASSESSCLAS'].value_counts(), title='Building Counts by Assessment Class').show()"
   ]
  },
  {
   "cell_type": "markdown",
   "metadata": {},
   "source": [
    "### Challenge\n",
    "\n",
    "After running the two code cells above, edit this cell and explain what you see in the plotted graphs.\n",
    "\n",
    "1. Enter your explanation for the \"FIREPLACE\" graph here. Does this help you to decide which homes to include in Santa's route?\n",
    "2. Enter your explanation for the \"ASSESSCLAS\" graph here. Does this help you to decide which homes to include in Santa's route?\n",
    "3. In the code cell below, try to plot another graph based on a different category. Remember, you can list all the categories or column names using `home_data.columns`."
   ]
  },
  {
   "cell_type": "code",
   "execution_count": null,
   "metadata": {},
   "outputs": [],
   "source": [
    "# enter your code below\n"
   ]
  },
  {
   "cell_type": "markdown",
   "metadata": {},
   "source": [
    "What did you try graphing? What do you see in your graph? Does this help you to decide which homes to include in Santa's route?\n",
    "\n",
    "* Enter your explanation for the graph you created."
   ]
  },
  {
   "cell_type": "markdown",
   "metadata": {
    "colab_type": "text",
    "id": "UgEJbpz1wWah"
   },
   "source": [
    "## Calculating Total Time From a Dataframe\n",
    "\n",
    "To make things easier, let's define a function that calculates Santa's total time using data in a dataframe.\n",
    "\n",
    "After running this cell, we'll be able to see Santa's total time by calling this function with one of your dataframes like this:\n",
    "\n",
    "`calculate_time_from_dataframe(home_data_sorted)`"
   ]
  },
  {
   "cell_type": "code",
   "execution_count": null,
   "metadata": {
    "colab": {
     "base_uri": "https://localhost:8080/",
     "height": 33
    },
    "colab_type": "code",
    "id": "3E3Ng2Ekoos0",
    "outputId": "0c9a0be6-257a-4fc5-dcda-62d187a23950"
   },
   "outputs": [],
   "source": [
    "# Function with Santa's speed and \"time per home\" to calculate total time required\n",
    "def calculate_time_from_dataframe(df):\n",
    "    flight_speed = 300  # in m/s, the speed of sound = 331 + 0.6*T where T is temperature is Celsius\n",
    "    time_per_home = 30  # in seconds\n",
    "    number_of_homes = df.shape[0]\n",
    "    total_distance = 0\n",
    "    previous_location = (53.5701, -113.0741) # the middle of Strathcona County\n",
    "    for row in df.iterrows():\n",
    "        current_location = (row[1]['LATITUDE'], row[1]['LONGITUDE'])\n",
    "        travel_distance = hs.haversine(previous_location, current_location, unit=hs.Unit.METERS)\n",
    "        total_distance = total_distance + travel_distance\n",
    "        previous_location = current_location\n",
    "    time_required = total_distance / flight_speed + time_per_home\n",
    "    print(total_distance, 'meters')\n",
    "    print(time_required, 'seconds')\n",
    "    print(time_required/3600, 'hours')\n",
    "    return time_required\n",
    "print('We have defined the function calculate_time_from_dataframe()')"
   ]
  },
  {
   "cell_type": "markdown",
   "metadata": {
    "colab_type": "text",
    "id": "j1nJRb3DxGCV"
   },
   "source": [
    "# Analysis Challenge\n",
    "\n",
    "Try out different filtering and sorting ideas to see how best to minimize the time that Santa takes to visit homes in Strathcona County."
   ]
  },
  {
   "cell_type": "code",
   "execution_count": null,
   "metadata": {
    "colab": {},
    "colab_type": "code",
    "id": "PwE3d9hKxTwx"
   },
   "outputs": [],
   "source": [
    "# enter your code below\n"
   ]
  },
  {
   "cell_type": "code",
   "execution_count": null,
   "metadata": {
    "colab": {},
    "colab_type": "code",
    "id": "vnXQOkoPpClW"
   },
   "outputs": [],
   "source": [
    "# enter your code below\n"
   ]
  },
  {
   "cell_type": "markdown",
   "metadata": {
    "colab_type": "text",
    "id": "pnFcriUuqvZU"
   },
   "source": [
    "# Conclusions\n",
    "\n",
    "Edit this cell to describe how you would **minimize Santa's travel time**. Include any data filtering and sorting steps that you recommend, and why you would recommend them.\n",
    "\n"
   ]
  },
  {
   "cell_type": "markdown",
   "metadata": {
    "colab_type": "text",
    "id": "sV11UZkGrWsU"
   },
   "source": [
    "## Reflections\n",
    "\n",
    "Write about some or all of the following questions, either individually in separate markdown cells or as a group.\n",
    "- What is something you learned through this process?\n",
    "- How well did your group work together? Why do you think that is?\n",
    "- What were some of the hardest parts?\n",
    "- What are you proud of? What would you like to show others?\n",
    "- Are you curious about anything else related to this? Did anything surprise you?\n",
    "- How can you apply your learning to future activities?"
   ]
  },
  {
   "cell_type": "markdown",
   "metadata": {},
   "source": [
    "[![Callysto.ca License](https://github.com/callysto/curriculum-notebooks/blob/master/callysto-notebook-banner-bottom.jpg?raw=true)](https://github.com/callysto/curriculum-notebooks/blob/master/LICENSE.md)"
   ]
  }
 ],
 "metadata": {
  "colab": {
   "collapsed_sections": [],
   "name": "santa-visiting-homes.ipynb",
   "provenance": []
  },
  "kernelspec": {
   "display_name": "Python 3.8.10 64-bit",
   "language": "python",
   "name": "python3"
  },
  "language_info": {
   "codemirror_mode": {
    "name": "ipython",
    "version": 3
   },
   "file_extension": ".py",
   "mimetype": "text/x-python",
   "name": "python",
   "nbconvert_exporter": "python",
   "pygments_lexer": "ipython3",
   "version": "3.8.10"
  },
  "vscode": {
   "interpreter": {
    "hash": "916dbcbb3f70747c44a77c7bcd40155683ae19c65e1c03b4aa3499c5328201f1"
   }
  }
 },
 "nbformat": 4,
 "nbformat_minor": 1
}
