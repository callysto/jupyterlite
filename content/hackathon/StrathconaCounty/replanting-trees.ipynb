{
  "cells": [
    {
      "cell_type": "markdown",
      "metadata": {
        "colab_type": "text",
        "id": "UIpzey-qyj-l"
      },
      "source": [
        "![Callysto.ca Banner](https://github.com/callysto/curriculum-notebooks/blob/master/callysto-notebook-banner-top.jpg?raw=true)"
      ]
    },
    {
      "cell_type": "markdown",
      "metadata": {
        "colab_type": "text",
        "id": "Mb6pNmQayj-m"
      },
      "source": [
        "# Replanting Trees After the Zombie Apocalypse \n",
        "\n",
        "## What you need to do\n",
        "\n",
        "A zombie apocalypse hit Strathcona County, but these zombies decided to eat trees. \n",
        "\n",
        "Now the County has a problem: they need to replant trees, but don’t know where. You’ve been hired to tell them what areas of the County need trees replanted and which areas still have lots of trees.\n",
        "\n",
        "The County needs this information to promote wellness and outdoor activities. During the apocalypse no one wanted to go to parks when the zombies were munching the trees. The County also needs a recommendation for what kinds of trees would be best to plant. \n",
        "\n",
        "## Summary\n",
        "\n",
        "This data set is provided by the Strathcona County Recreation, Parks, and Culture and is available at https://data.strathcona.ca/Environment/Trees/ig6t-pdus.\n",
        "\n",
        "## Content\n",
        "\n",
        "Tree locations and types (common names). The data are loaded four times per year from the 'treeworks' dataset.\n",
        "\n",
        "## Downloading the Data\n",
        "\n",
        "We begin by downloading the data directly from the website. From the website we selected the 'API' tag and chose CSV format on the top right side. Pressing the 'Copy' button gave us [the URL](https://data.strathcona.ca/resource/ig6t-pdus.csv) we need to download the full dataset."
      ]
    },
    {
      "cell_type": "code",
      "execution_count": null,
      "metadata": {
        "colab": {},
        "colab_type": "code",
        "id": "1Ymtq63Zyj-n"
      },
      "outputs": [],
      "source": [
        "print('Importing code libraries and data...')\n",
        "# We will store the data into a 'dataframe' using pandas\n",
        "import pandas as pd\n",
        "try: # if we are running in JupyterLite\n",
        "    # pyodide is a Python interpreter that runs in the browser\n",
        "    import pyodide\n",
        "    # piplite will be used for installing packages\n",
        "    import piplite\n",
        "    await piplite.install(['nbformat','plotly','haversine','folium'])\n",
        "except:\n",
        "    pass\n",
        "# Plotly will be used to visualize the data\n",
        "import plotly.express as px\n",
        "# We will visualize the coordinates in a map using the folium\n",
        "import folium\n",
        "# We want to cluster them using the FastMarkerCluster submodule from folium plugins\n",
        "from folium.plugins import FastMarkerCluster\n",
        "\n",
        "# Download data from API \n",
        "data_url = 'https://data.strathcona.ca/resource/ig6t-pdus.csv'\n",
        "\n",
        "# Read and parse data from the CSV as a pandas dataframe\n",
        "try:\n",
        "    tree_data = pd.read_csv(pyodide.http.open_url(data_url))\n",
        "except:\n",
        "    tree_data = pd.read_csv(data_url)\n",
        "\n",
        "# Look at the data\n",
        "tree_data"
      ]
    },
    {
      "cell_type": "markdown",
      "metadata": {
        "colab_type": "text",
        "id": "tn8j4rqKyj-z"
      },
      "source": [
        "## Data Visualization\n",
        "\n",
        "Now that we have the `tree_data` dataframe, we will use the Python library called [folium](https://python-visualization.github.io/folium) to visualize our data geographically.\n",
        "\n",
        "We'll look up the [coordinates for Strathcona County](https://www.google.com/search?q=strathcona+county+latitude+and+longitude&oq=strathcona+county) and enter the North coordinate (latitude) and the West coordinate (longitude) into separate variables. These will be the initial coordinates that will help us locate our map."
      ]
    },
    {
      "cell_type": "code",
      "execution_count": null,
      "metadata": {
        "colab": {},
        "colab_type": "code",
        "id": "4-6SmRxFyj-0"
      },
      "outputs": [],
      "source": [
        "latitude = 53.5327\n",
        "longitude = -113.1553\n",
        "\n",
        "# Create a map using our initial coordinates\n",
        "map_osm=folium.Map(location=[latitude, longitude], zoom_start=10, tiles='Stamen Terrain')\n",
        "\n",
        "# Display the map \n",
        "display(map_osm)"
      ]
    },
    {
      "cell_type": "markdown",
      "metadata": {
        "colab_type": "text",
        "id": "i3Nz3tB0yj-2"
      },
      "source": [
        "## Displaying the tree locations\n",
        "\n",
        "We can now add the tree locations into our map. \n",
        "\n",
        "In the cell below we will [iterate](https://www.merriam-webster.com/dictionary/iteration) over each record in our dataframe.\n",
        "\n",
        "We will then add markers (one marker for each pair of coordinates) using the `folium.Marker` function. \n",
        "\n",
        "We will pass the `latitude` and `longitude` coordinates using the `location` parameter, and mark each tree with its `name` using the `popup` parameter. \n",
        "\n",
        "We will add this to our `marker_cluster` on our map called `map_osm`. \n",
        "\n",
        "Run the cell below to see the locations of the trees."
      ]
    },
    {
      "cell_type": "code",
      "execution_count": null,
      "metadata": {
        "colab": {},
        "colab_type": "code",
        "id": "3-3oJnA_yj-3"
      },
      "outputs": [],
      "source": [
        "# Create marker cluster and add to our map\n",
        "marker_cluster = FastMarkerCluster().add_to(map_osm)\n",
        "\n",
        "# Iterate over each record, and add tree x and y coordinates, as well as tree name\n",
        "MAX_RECORDS = len(tree_data)\n",
        "# For each record in rawData\n",
        "for each in tree_data[0:MAX_RECORDS].iterrows():\n",
        "    # Use folium.Marker function, use x and x coordinates to specify location\n",
        "    folium.Marker(location = [each[1]['latitude'],each[1]['longitude']], \n",
        "                  # Add tree name\n",
        "                  popup=folium.Popup(each[1]['name'],sticky=True),\n",
        "                  #Make color/style changes here\n",
        "                  icon=folium.Icon(color='green', icon='tree', prefix='fa'),\n",
        "                  # Make sure our trees cluster nicely!\n",
        "                  clustered_marker = True).add_to(marker_cluster)\n",
        "\n",
        "# Optional - you can save this map as an HTML file\n",
        "#map_osm.save('TreeMap.html')\n",
        "\n",
        "# Show the map\n",
        "display(map_osm)\n",
        "\n",
        "\n",
        "#m = folium.Map(location=[53.5701, -113.0741], zoom_start=10)\n",
        "#m.add_child(FastMarkerCluster(cleaned_data[['LATITUDE', 'LONGITUDE']].values.tolist()))\n",
        "#display(m)"
      ]
    },
    {
      "cell_type": "markdown",
      "metadata": {
        "colab_type": "text",
        "id": "E30uPrGWyj-5"
      },
      "source": [
        "---\n",
        "### Challenge 4\n",
        "\n",
        "Use the interactive map above for this exercise. You will see 'clusters' of trees. \n",
        "\n",
        "Clusters with over 100 trees will be coloured in red, clusters with fewer than 100 trees will be coloured in yellow, while clusters with fewer than 10 trees will be coloured in green. A single tree has a green colour and a tree shape in it. \n",
        "\n",
        "1. Click on the largest cluster (hint: it has over 900 trees). It will break into smaller clusters. \n",
        "2. How many red clusters do you see? How many yellow clusters? and green ones? (Hint: there are more than two red clusters)\n",
        "3. Pick a red cluster and click on it. Are the clusters evenly distributed? If no, where are the clusters concentrated? \n",
        "4. Identify three areas that would benefit from populating with trees. What are the names of the streets/neighbourhoods where they are located?\n",
        "\n",
        "#### Your answers and observations here:\n",
        "\n",
        "---"
      ]
    },
    {
      "cell_type": "markdown",
      "metadata": {
        "colab_type": "text",
        "id": "1D0GNjdsyj-6"
      },
      "source": [
        "## Further Visualization and Statistics\n",
        "\n",
        "A natural question to ask is what is the most common kind of tree. To find out, we'll group and plot the data.\n",
        "\n",
        "First we'll group data by `name` using the `groupby()` method. \n",
        "\n",
        "Then we'll use the `size()` method to count how many trees of each kind there are. \n",
        "\n",
        "Next we'll sort the data. \n",
        "\n",
        "Run the cell below to perform these steps and show the five most common trees in Strathcona County. "
      ]
    },
    {
      "cell_type": "code",
      "execution_count": null,
      "metadata": {
        "colab": {},
        "colab_type": "code",
        "id": "kBb2sqWWyj--"
      },
      "outputs": [],
      "source": [
        "# group trees by name, and count them\n",
        "count_by_tree_name = tree_data.groupby(\"name\").size().reset_index(name=\"count\")\n",
        "# sort the counts in descending order\n",
        "ordered_count = count_by_tree_name.sort_values(by='count', ascending=False)\n",
        "# display the results. \n",
        "ordered_count"
      ]
    },
    {
      "cell_type": "markdown",
      "metadata": {
        "colab_type": "text",
        "id": "vkYHfX_5yj_A"
      },
      "source": [
        "To see the most common trees in Strathcona County, let's visualize these data in a pie chart."
      ]
    },
    {
      "cell_type": "code",
      "execution_count": null,
      "metadata": {
        "colab": {},
        "colab_type": "code",
        "id": "QYpHZiOoyj_A"
      },
      "outputs": [],
      "source": [
        "px.pie(ordered_count.iloc[0:5], values=\"count\", names=\"name\", title=\"Five Most Common Trees\")"
      ]
    },
    {
      "cell_type": "code",
      "execution_count": null,
      "metadata": {
        "colab": {},
        "colab_type": "code",
        "id": "RIkYKL8kyj_C"
      },
      "outputs": [],
      "source": [
        "px.pie(ordered_count, values=\"count\", names=\"name\", title=\"All Trees\")"
      ]
    },
    {
      "cell_type": "markdown",
      "metadata": {
        "colab_type": "text",
        "id": "wir0RRL6yj_E"
      },
      "source": [
        "---\n",
        "### Challenge 5\n",
        "\n",
        "1. Hover over the plots.\n",
        "2. What is the percentage associated to each of the five most common trees? \n",
        "3. What is the most common, or 'dominant' type of tree? \n",
        "4. What tree species would you recommend restoring and why? \n",
        "\n",
        "#### Your answers and observations here\n",
        "\n",
        "---"
      ]
    },
    {
      "cell_type": "markdown",
      "metadata": {
        "colab_type": "text",
        "id": "2wSU_B04yj_F"
      },
      "source": [
        "# Conclusions\n",
        "\n",
        "Edit this cell to describe **where you would recommend planting trees** and the **types of trees recommended**. Include any data filtering and sorting steps that you recommend, and why you would recommend them.\n",
        "\n"
      ]
    },
    {
      "cell_type": "markdown",
      "metadata": {
        "colab_type": "text",
        "id": "NqfkDwOEyj_F"
      },
      "source": [
        "## Reflections\n",
        "\n",
        "Write about some or all of the following questions, either individually in separate markdown cells or as a group.\n",
        "- What is something you learned through this process?\n",
        "- How well did your group work together? Why do you think that is?\n",
        "- What were some of the hardest parts?\n",
        "- What are you proud of? What would you like to show others?\n",
        "- Are you curious about anything else related to this? Did anything surprise you?\n",
        "- How can you apply your learning to future activities?"
      ]
    },
    {
      "cell_type": "markdown",
      "metadata": {
        "colab_type": "text",
        "id": "ad2ZyO5Vyj_M"
      },
      "source": [
        "[![Callysto.ca License](https://github.com/callysto/curriculum-notebooks/blob/master/callysto-notebook-banner-bottom.jpg?raw=true)](https://github.com/callysto/curriculum-notebooks/blob/master/LICENSE.md)"
      ]
    }
  ],
  "metadata": {
    "colab": {
      "name": "Trees-Challenge.ipynb",
      "provenance": []
    },
    "kernelspec": {
      "display_name": "Python 3.8.10 64-bit",
      "language": "python",
      "name": "python3"
    },
    "language_info": {
      "codemirror_mode": {
        "name": "ipython",
        "version": 3
      },
      "file_extension": ".py",
      "mimetype": "text/x-python",
      "name": "python",
      "nbconvert_exporter": "python",
      "pygments_lexer": "ipython3",
      "version": "3.8.10"
    },
    "vscode": {
      "interpreter": {
        "hash": "916dbcbb3f70747c44a77c7bcd40155683ae19c65e1c03b4aa3499c5328201f1"
      }
    }
  },
  "nbformat": 4,
  "nbformat_minor": 0
}
