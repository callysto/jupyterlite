{
 "cells": [
  {
   "cell_type": "markdown",
   "metadata": {},
   "source": [
    "![Callysto.ca Banner](https://github.com/callysto/curriculum-notebooks/blob/master/callysto-notebook-banner-top.jpg?raw=true)"
   ]
  },
  {
   "cell_type": "markdown",
   "metadata": {},
   "source": [
    "# Data Structures\n",
    "\n",
    "We can think of data structures in Python as objects that hold data with special properties.\n",
    "\n",
    "Data can be numbers, strings, or even boolean (True or False) values.\n",
    "\n",
    "Two common data structures we use in Python are lists and dictionaries.\n",
    "\n",
    "We can use the special properties of these objects to manipulate them."
   ]
  },
  {
   "cell_type": "markdown",
   "metadata": {},
   "source": [
    "## Lists\n",
    " \n",
    "Lists are data structures, where the data is stored in between square brackets [ ] and separated by commas.\n",
    "\n",
    "For example, we can create a list of popular video games like this:\n",
    "    \n",
    "    my_game_list = [\"Minecraft\", \"Grand Theft Auto\", \"Super Smash Bros\", \"Fortnite\"] \n",
    "\n",
    "We can access elements in a list by \"indexing\" using square brackets [ ] and passing numbers 0,1,2,... to access its position in the list. Note, in Python, the left-most element has position 0. \n",
    "\n",
    "To access Super Smash Bros, for example, from `my_game_list` in Python we would say\n",
    "\n",
    "    my_game_list[2]\n",
    "       \n",
    "which will return\n",
    "\n",
    "    “Super Smash Bros”\n",
    "\n",
    "Run the cell below to print the lists and see some of the properties."
   ]
  },
  {
   "cell_type": "code",
   "execution_count": null,
   "metadata": {},
   "outputs": [],
   "source": [
    "# List examples\n",
    "my_number_list = [1,2,3,4]\n",
    "my_string_list = [\"a\",\"b\",\"c\",\"d\"]\n",
    "my_mixed_list = [1,\"a\",2,\"b\"]\n",
    "my_game_list = [\"Minecraft\", \"Grand Theft Auto\", \"Super Smash Bros\", \"Fortnite\"]\n",
    "\n",
    "print(my_number_list)\n",
    "print(my_string_list)\n",
    "print(my_mixed_list)\n",
    "print(my_game_list)\n",
    "print(\"\\n\")\n",
    "print(\"The first element in\", my_number_list, \" can be accessed as follows: my_number_list[0]\")\n",
    "print(\"The first element in\", my_number_list, \" is \", my_number_list[0])"
   ]
  },
  {
   "cell_type": "markdown",
   "metadata": {},
   "source": [
    "### 📗Challenge 1 (Level 1) \n",
    "\n",
    "Using the information above, find the **third** element in `my_number_list`\n",
    "\n",
    "Remember, indexing in Python starts with **0**. \n",
    "\n",
    "**[Hint]** The **second** element in a list can be accessed using the notation `my_number_list[1]`."
   ]
  },
  {
   "cell_type": "code",
   "execution_count": null,
   "metadata": {},
   "outputs": [],
   "source": [
    "# ✏️your code here\n"
   ]
  },
  {
   "cell_type": "markdown",
   "metadata": {},
   "source": [
    "## Dictionaries\n",
    "\n",
    "Dictionaries are another example of a data structure, but with different properties. \n",
    "\n",
    "In a paper dictionary, each word has its own definition (or multiple definitions). When we want to know the definition of a word, we find that word in the dictionary.\n",
    "\n",
    "Dictionaries in Python are similar, but instead of words being used to access definitions, **keys** are used to access other **data structures** (such as a string or a list).\n",
    "\n",
    "Here is what a dictionary in Python looks like:\n",
    "\n",
    "    dictionary = {Key1: data_structure_1,\n",
    "                  Key2: data_structure_2,\n",
    "                  ...\n",
    "                  KeyN: data_structure_N}\n",
    "\n",
    "You can also think of Python dictionaries as magic spell books, where the name of the spell will access one specific spell, but no other. \n",
    "\n",
    "    Spells = {\"Slow-mo\" : \"Slow down an enemy for up to 10 seconds\", \"Fire-ball\": \"create a fireball from any element around you\"}\n",
    "        \n",
    "We can access elements in a dictionary by using square brackets **[]** that include the **key**. For example, to access the slow-mo spell we would say\n",
    "\n",
    "    Spells[\"Slow-mo\"]\n",
    "                  \n",
    "which will return\n",
    "\n",
    "     \"Slow down an enemy for up to 10 seconds\"\n",
    "        \n",
    "Run the code below."
   ]
  },
  {
   "cell_type": "code",
   "execution_count": null,
   "metadata": {},
   "outputs": [],
   "source": [
    "# Constructing a dictionary\n",
    "spells = {\"Slow-mo\" : \"Slow down an enemy for up to 10 seconds\", \n",
    "          \"Fire-ball\": \"Create a fireball from any element around you\",\n",
    "          \"Combo-spells\": [\"Venomous Plants\",\"Storm\"]}\n",
    "\n",
    "print(\"Spell dictionary\")\n",
    "display(spells)\n",
    "\n",
    "print(\"Accessing slow motion spell using Python dictionaries \")\n",
    "print(spells[\"Slow-mo\"])"
   ]
  },
  {
   "cell_type": "markdown",
   "metadata": {},
   "source": [
    "### 📗Challenge 2 (Level 1)\n",
    "\n",
    "Use the `spells` dictionary in the cell below to access the `Fire-ball` spell.\n",
    "\n",
    "**[Hint]** The code to access a value in a dictionary is `my_dictionary[\"key\"]`."
   ]
  },
  {
   "cell_type": "code",
   "execution_count": null,
   "metadata": {},
   "outputs": [],
   "source": [
    "# ✏️your response here\n"
   ]
  },
  {
   "cell_type": "markdown",
   "metadata": {},
   "source": [
    "### 📗Challenge 3 (Level 2)\n",
    "\n",
    "Now that you have played with dictionaries, access the `Combo-spells` list from the spells dictionary. \n",
    "\n",
    "What is the first spell in the list?"
   ]
  },
  {
   "cell_type": "code",
   "execution_count": null,
   "metadata": {},
   "outputs": [],
   "source": [
    "# ✏️your response here\n"
   ]
  },
  {
   "cell_type": "markdown",
   "metadata": {},
   "source": [
    "## Pandas Dataframes\n",
    "\n",
    "Pandas [DataFrames](https://www.geeksforgeeks.org/python-pandas-dataframe/) are another type of data structures. \n",
    "\n",
    "DataFrames are two-dimensional, which means they have rows and columns. They can have different data types such as [strings](https://realpython.com/python-data-types/#strings), [integers](https://realpython.com/python-data-types/#integers), [floating point (decimal) numbers](https://realpython.com/python-data-types/#floating-point-numbers), or [boolean](https://realpython.com/python-data-types/#boolean-type-boolean-context-and-truthiness).\n",
    "\n",
    "|Column 1| Column 2|\n",
    "| - | - |\n",
    "|Row 1: Value 1| Row 1: Value 2|\n",
    "|Row 2: Value 1| Row 2: Value 2|\n",
    "\n",
    "Pandas dataframes can be thought of as an extension of dictionaries, where the keys hold the name of the column and the keys are usually lists with variables or objects inside them. If you are a very experienced magician, you probably have a number of different spells and categories:\n",
    "\n",
    "|Freezing Spells|Attacking Spells| Healing Spells |\n",
    "| - | - | - | \n",
    "|Slow-mo spell| Fire-ball spell|Revive spell\n",
    "|Full-freeze spell| Teleportation spell| Help a friend spell| \n",
    "\n",
    "Freezing Spells\n",
    "\n",
    "    Slow-mo spell: slows down enemy for up to 10 seconds\n",
    "    Full-freeze spell: freeze enemy for 30 seconds\n",
    "\n",
    "Attacking Spells\n",
    "\n",
    "    Fire-ball spell: create a fireball from any element around you\n",
    "    Teleportation spell: use this spell to randomly relocate an enemy\n",
    " \n",
    "Healing Spells\n",
    "\n",
    "    Revive spell: use this spell when your life points are near zero for a 100 boost\n",
    "    Help a friend spell: use this spell to give 50 points to one of your team members\n",
    "\n",
    "\n",
    "We can access spells in Pandas by combining the properties of dictionaries and lists: **keys** and **indexing**. Use the notebook to explore data structures. \n",
    "\n",
    "Each column name is a key, and the values are a list of spells that we can access via indexing. Run the cell below to get started."
   ]
  },
  {
   "cell_type": "code",
   "execution_count": null,
   "metadata": {},
   "outputs": [],
   "source": [
    "# Import the Pandas library. \"pd\" is an alias, i.e. a shorted name\n",
    "import pandas as pd"
   ]
  },
  {
   "cell_type": "markdown",
   "metadata": {},
   "source": [
    "We then call the Dataframe function from the Pandas library using the \"dot\" notation:\n",
    "\n",
    "    pd.Dataframe()\n",
    "    \n",
    "This function takes as input a dictionary. Let's use our `spells` dictionary from the previous exercise and parse it as a Pandas dataframe."
   ]
  },
  {
   "cell_type": "code",
   "execution_count": null,
   "metadata": {},
   "outputs": [],
   "source": [
    "# Create a Pandas dataframe - we will create it by using the DataFrame function within the Pandas library\n",
    "#   we can do this by using the dot notation\n",
    "\n",
    "SlowMo = {\"Slow-mo\":\"Slow down an enemy for up to 10 seconds\"}\n",
    "FullFre = {\"Full-freeze\":\"Freeze enemy for 30 seconds\"}\n",
    "FireB = {\"Fire-ball\": \"Create a fireball from any element around you\"}\n",
    "TeleP = {\"Teleportation\": \"Use this spell to randomly relocate an enemy\"}\n",
    "RevI = {\"Revive\": \"Use this spell when your life points are near zero for a 100 boost\"}\n",
    "HelpF = {\"Help a friend\": \"Use this spell to give 50 points to one of your team members\"}\n",
    "spells = {\"Freezing Spells\" : [SlowMo,FullFre], \n",
    "          \"Attacking Spells\": [FireB,TeleP],\n",
    "          \"Healing Spelsl\": [RevI,HelpF]}\n"
   ]
  },
  {
   "cell_type": "code",
   "execution_count": null,
   "metadata": {},
   "outputs": [],
   "source": [
    "my_dataframe = pd.DataFrame(spells)"
   ]
  },
  {
   "cell_type": "markdown",
   "metadata": {},
   "source": [
    "Let's look at our dataframe. "
   ]
  },
  {
   "cell_type": "code",
   "execution_count": null,
   "metadata": {},
   "outputs": [],
   "source": [
    "my_dataframe"
   ]
  },
  {
   "cell_type": "markdown",
   "metadata": {},
   "source": [
    "### 📗Challenge 4 (Level 3)\n",
    "\n",
    "Use your knowledge of dictionaries to access all \"Freezing Spells\" in `my_dataframe`.\n",
    "    \n",
    "Within Freezing Spells, access the \"Full-freeze\" spell\n",
    "\n",
    "**[Hint 1]** Use the notation below to access, in order of appearance, the column name and the index \n",
    "\n",
    "    my_dataframe[\"Spell_Category\"][]\n",
    "\n",
    "The data structure will be a list. \n",
    "\n",
    "Access the first element in that list. \n",
    "\n",
    "**[Hint 2]** Use the notation below to access, in order of appearance, the column name and the index \n",
    "\n",
    "    my_dataframe[\"Spell_Category\"][index number]\n",
    "    \n",
    "Now access the \"Full-freeze\" spell\n",
    "    \n",
    "**[Hint 3]** `my_dataframe[\"Spell_Category\"][index number][\"Spell_name\"]`"
   ]
  },
  {
   "cell_type": "code",
   "execution_count": null,
   "metadata": {},
   "outputs": [],
   "source": [
    "# ✏️your response here\n"
   ]
  },
  {
   "cell_type": "markdown",
   "metadata": {},
   "source": [
    "For more information about pandas, check out their [user guide](https://pandas.pydata.org/docs/user_guide/index.html)."
   ]
  },
  {
   "cell_type": "markdown",
   "metadata": {},
   "source": [
    "[![Callysto.ca License](https://github.com/callysto/curriculum-notebooks/blob/master/callysto-notebook-banner-bottom.jpg?raw=true)](https://github.com/callysto/curriculum-notebooks/blob/master/LICENSE.md)"
   ]
  }
 ],
 "metadata": {
  "kernelspec": {
   "display_name": "Python 3.8.10 64-bit",
   "language": "python",
   "name": "python3"
  },
  "language_info": {
   "codemirror_mode": {
    "name": "ipython",
    "version": 3
   },
   "file_extension": ".py",
   "mimetype": "text/x-python",
   "name": "python",
   "nbconvert_exporter": "python",
   "pygments_lexer": "ipython3",
   "version": "3.8.10"
  },
  "vscode": {
   "interpreter": {
    "hash": "916dbcbb3f70747c44a77c7bcd40155683ae19c65e1c03b4aa3499c5328201f1"
   }
  }
 },
 "nbformat": 4,
 "nbformat_minor": 2
}
