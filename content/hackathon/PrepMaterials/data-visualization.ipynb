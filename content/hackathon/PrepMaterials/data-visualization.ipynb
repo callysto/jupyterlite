{
 "cells": [
  {
   "cell_type": "markdown",
   "metadata": {},
   "source": [
    "![Callysto.ca Banner](https://github.com/callysto/curriculum-notebooks/blob/master/callysto-notebook-banner-top.jpg?raw=true)"
   ]
  },
  {
   "cell_type": "markdown",
   "metadata": {},
   "source": [
    "# Data Visualization\n",
    "\n",
    "This notebook will provide an introduction to data visualization in Python using [pandas](https://pandas.pydata.org) DataFrames and the [Plotly](https://plot.ly/python) library.\n",
    "\n",
    "Please go through the [Python and pandas basics](python-and-pandas-basics.ipynb) tutorial first."
   ]
  },
  {
   "cell_type": "code",
   "execution_count": null,
   "metadata": {},
   "outputs": [],
   "source": [
    "# load the \"pandas\" library under short name \"pd\"\n",
    "import pandas as pd\n",
    "\n",
    "# we have csv file of data related to hypothetical pets for adoption from https://www.bootstrapworld.org/materials/data-science/\n",
    "pets = pd.read_csv('pets.csv')\n",
    "\n",
    "# print data on the screen\n",
    "pets"
   ]
  },
  {
   "cell_type": "markdown",
   "metadata": {},
   "source": [
    "# Creating Interactive Plots\n",
    "\n",
    "Now that we have some data, we can create some visualizations from some of the columns."
   ]
  },
  {
   "cell_type": "code",
   "execution_count": null,
   "metadata": {},
   "outputs": [],
   "source": [
    "#load the Plotly Express library under the short name \"px\"\n",
    "import plotly.express as px\n",
    "\n",
    "#create a scatter plot and show it\n",
    "fig = px.scatter(pets, x=\"Age (years)\", y=\"Time to Adoption (weeks)\", title=\"Pet Adoption Times\")\n",
    "fig.show()"
   ]
  },
  {
   "cell_type": "markdown",
   "metadata": {},
   "source": [
    "We can also add other visualization options like `color` and `size`."
   ]
  },
  {
   "cell_type": "code",
   "execution_count": null,
   "metadata": {},
   "outputs": [],
   "source": [
    "fig = px.scatter(pets, x=\"Age (years)\", y=\"Time to Adoption (weeks)\", color=\"Species\", size=\"Weight (lbs)\", hover_name='Name', title=\"Pet Adoption Times\")\n",
    "fig.show()"
   ]
  },
  {
   "cell_type": "markdown",
   "metadata": {},
   "source": [
    "## Bar Chart\n",
    "\n",
    "There are some different options for [bar charts](https://plotly.com/python/bar-charts)"
   ]
  },
  {
   "cell_type": "code",
   "execution_count": null,
   "metadata": {},
   "outputs": [],
   "source": [
    "fig0 = px.bar(pets, x='Species', y='Time to Adoption (weeks)', color='Gender', barmode='group')\n",
    "fig0.show()"
   ]
  },
  {
   "cell_type": "markdown",
   "metadata": {},
   "source": [
    "## Histogram\n",
    "\n",
    "A [histogram](https://plotly.com/python/histograms) can be used to show statistics such as count, sum, or average."
   ]
  },
  {
   "cell_type": "code",
   "execution_count": null,
   "metadata": {},
   "outputs": [],
   "source": [
    "fig1 = px.histogram(pets, x=\"Species\", y=\"Weight (lbs)\", title=\"Total Weight by Species\")\n",
    "fig1.show()"
   ]
  },
  {
   "cell_type": "code",
   "execution_count": null,
   "metadata": {},
   "outputs": [],
   "source": [
    "fig2 = px.histogram(pets, x=\"Species\", y=\"Weight (lbs)\", histfunc=\"avg\", title=\"Average Weight by Species\")\n",
    "fig2.show()"
   ]
  },
  {
   "cell_type": "markdown",
   "metadata": {},
   "source": [
    "## Line Plot\n",
    "\n",
    "Let's try making a line plot of just one column from the dataset.\n",
    "\n",
    "For any Plotly visualization we can also display by just creating it on the last line rather than using `fig = ...` and `fig.show()`."
   ]
  },
  {
   "cell_type": "code",
   "execution_count": null,
   "metadata": {},
   "outputs": [],
   "source": [
    "# selecting one column of data: \"Age (years)\"\n",
    "col = pets[[\"Age (years)\"]]\n",
    "# creating the plot\n",
    "px.line(col, title=\"Pet Ages\")"
   ]
  },
  {
   "cell_type": "markdown",
   "metadata": {},
   "source": [
    "## Axis Labels\n",
    "\n",
    "We can also change the axis labels using a couple of different methods:"
   ]
  },
  {
   "cell_type": "code",
   "execution_count": null,
   "metadata": {},
   "outputs": [],
   "source": [
    "col = pets[[\"Age (years)\"]]\n",
    "#px.line(col, title=\"Pet Ages\", labels={\"index\":\"Pet Number\", \"value\":\"Age (years)\"})\n",
    "px.line(col, title=\"Pet Ages\").update_xaxes(title_text=\"Pet Number\").update_yaxes(title_text=\"Age (years)\")"
   ]
  },
  {
   "cell_type": "markdown",
   "metadata": {},
   "source": [
    "## Pie Chart"
   ]
  },
  {
   "cell_type": "code",
   "execution_count": null,
   "metadata": {},
   "outputs": [],
   "source": [
    "count_by_species = pets.groupby(\"Species\").size().reset_index(name=\"Count\")\n",
    "px.pie(count_by_species, values=\"Count\", names=\"Species\", title=\"Number of Pets by Species\")"
   ]
  },
  {
   "cell_type": "markdown",
   "metadata": {},
   "source": [
    "Additional Resources for Plotly can be found [here](https://plotly.com/python)."
   ]
  },
  {
   "cell_type": "markdown",
   "metadata": {},
   "source": [
    "[![Callysto.ca License](https://github.com/callysto/curriculum-notebooks/blob/master/callysto-notebook-banner-bottom.jpg?raw=true)](https://github.com/callysto/curriculum-notebooks/blob/master/LICENSE.md)"
   ]
  }
 ],
 "metadata": {
  "kernelspec": {
   "display_name": "Python 3.8.10 64-bit",
   "language": "python",
   "name": "python3"
  },
  "language_info": {
   "codemirror_mode": {
    "name": "ipython",
    "version": 3
   },
   "file_extension": ".py",
   "mimetype": "text/x-python",
   "name": "python",
   "nbconvert_exporter": "python",
   "pygments_lexer": "ipython3",
   "version": "3.8.10"
  },
  "nbTranslate": {
   "displayLangs": [
    "*"
   ],
   "hotkey": "alt-t",
   "langInMainMenu": true,
   "sourceLang": "en",
   "targetLang": "fr",
   "useGoogleTranslate": true
  },
  "vscode": {
   "interpreter": {
    "hash": "916dbcbb3f70747c44a77c7bcd40155683ae19c65e1c03b4aa3499c5328201f1"
   }
  }
 },
 "nbformat": 4,
 "nbformat_minor": 2
}
