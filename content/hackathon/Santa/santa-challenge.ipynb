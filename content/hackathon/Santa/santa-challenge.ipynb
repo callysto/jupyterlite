{
 "cells": [
  {
   "attachments": {},
   "cell_type": "markdown",
   "metadata": {},
   "source": [
    "![Callysto.ca Banner](https://github.com/callysto/curriculum-notebooks/blob/master/callysto-notebook-banner-top.jpg?raw=true)\n",
    "\n",
    "<a href=\"https://colab.research.google.com/github/callysto/jupyterlite/blob/main/content/hackathon/Santa/santa-challenge.ipynb\" target=\"_parent\"><img src=\"https://colab.research.google.com/assets/colab-badge.svg?sanitize=true\" width=\"123\" height=\"24\" alt=\"Open in Callysto\"/></a>"
   ]
  },
  {
   "attachments": {},
   "cell_type": "markdown",
   "metadata": {
    "colab_type": "text",
    "id": "6pbv_jfI4LIg"
   },
   "source": [
    "# Santa Visiting Homes in Strathcona County\n",
    "\n",
    "Submitted by:  \n",
    "\n",
    "From school: \n",
    "\n",
    "## Introduction\n",
    "\n",
    "In this notebook we will...\n",
    "\n",
    "### Suggested Challenges\n",
    "  \n",
    "1. Explore how columns such as \"FIREPLACE\" and \"BLDG\" can help you to decide which homes to include in Santa's route.\n",
    "1. Plot another graph based on a different category that you think might help. Remember, you can list all the categories or column names using `home_data.columns`.\n",
    "1. Try out different filtering and sorting ideas to see how best to minimize the time that Santa takes to visit homes in Strathcona County.\n",
    "1. Create visualizations of Santa's travel path.\n",
    "1. Define a function to more accurately or more efficiently calculate Santa's travel time.\n",
    "1. Explore the [travelling salesman problem](https://simple.wikipedia.org/wiki/Travelling_salesman_problem).\n",
    "1. Is there anything else interesting you can find and visualize for these data?\n",
    "1. Remember to complete your reflections at the bottom of this notebook."
   ]
  },
  {
   "cell_type": "code",
   "execution_count": null,
   "metadata": {
    "colab": {
     "base_uri": "https://localhost:8080/",
     "height": 33
    },
    "colab_type": "code",
    "id": "z3oTV-4U4QgL",
    "outputId": "642bfa79-9ae2-4743-93be-35f759e55700"
   },
   "outputs": [],
   "source": [
    "%pip install plotly haversine folium nbformat pandas\n",
    "\n",
    "import pandas as pd\n",
    "import plotly.express as px\n",
    "import haversine as hs\n",
    "import folium\n",
    "from folium.plugins import FastMarkerCluster\n",
    "\n",
    "def calculate_required_time(travel_distance, flight_speed=300, time_per_home=30):\n",
    "    print('Santa will travel at', flight_speed, 'm/s and spend', time_per_home, 'seconds per home.')\n",
    "    time_required = travel_distance / flight_speed + time_per_home\n",
    "    return time_required\n",
    "data_url = 'https://data.strathcona.ca/api/views/fdr6-tu3d/rows.csv?accessType=DOWNLOAD'\n",
    "home_data = pd.read_csv(data_url)\n",
    "home_data"
   ]
  },
  {
   "attachments": {},
   "cell_type": "markdown",
   "metadata": {},
   "source": []
  },
  {
   "cell_type": "code",
   "execution_count": null,
   "metadata": {},
   "outputs": [],
   "source": []
  },
  {
   "attachments": {},
   "cell_type": "markdown",
   "metadata": {
    "colab_type": "text",
    "id": "sV11UZkGrWsU"
   },
   "source": [
    "## Reflections\n",
    "\n",
    "Write about some or all of the following questions, either individually in separate markdown cells or as a group.\n",
    "- What is something you learned through this process?\n",
    "- How well did your group work together? Why do you think that is?\n",
    "- What were some of the hardest parts?\n",
    "- What are you proud of? What would you like to show others?\n",
    "- Are you curious about anything else related to this? Did anything surprise you?\n",
    "- How can you apply your learning to future activities?"
   ]
  },
  {
   "attachments": {},
   "cell_type": "markdown",
   "metadata": {},
   "source": [
    "[![Callysto.ca License](https://github.com/callysto/curriculum-notebooks/blob/master/callysto-notebook-banner-bottom.jpg?raw=true)](https://github.com/callysto/curriculum-notebooks/blob/master/LICENSE.md)"
   ]
  }
 ],
 "metadata": {
  "colab": {
   "collapsed_sections": [],
   "name": "santa-visiting-homes.ipynb",
   "provenance": []
  },
  "kernelspec": {
   "display_name": "Python 3.8.10 64-bit",
   "language": "python",
   "name": "python3"
  },
  "language_info": {
   "codemirror_mode": {
    "name": "ipython",
    "version": 3
   },
   "file_extension": ".py",
   "mimetype": "text/x-python",
   "name": "python",
   "nbconvert_exporter": "python",
   "pygments_lexer": "ipython3",
   "version": "3.10.6"
  },
  "vscode": {
   "interpreter": {
    "hash": "916dbcbb3f70747c44a77c7bcd40155683ae19c65e1c03b4aa3499c5328201f1"
   }
  }
 },
 "nbformat": 4,
 "nbformat_minor": 1
}
