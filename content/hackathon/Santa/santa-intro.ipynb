{
 "cells": [
  {
   "attachments": {},
   "cell_type": "markdown",
   "metadata": {},
   "source": [
    "![Callysto.ca Banner](https://github.com/callysto/curriculum-notebooks/blob/master/callysto-notebook-banner-top.jpg?raw=true)"
   ]
  },
  {
   "attachments": {},
   "cell_type": "markdown",
   "metadata": {},
   "source": [
    "# Santa Visiting Homes in Strathcona County\n",
    "\n",
    "There are a lot of homes in Strathcona County and Santa's internal GPS is malfunctioning. We [think](https://www.sciencealert.com/turns-out-we-have-no-idea-why-the-northern-lights-wreak-havoc-on-our-satellite-technology) the GPS interference is due to strong aurora borealis (Northern Lights) activity which are a result of intense solar storms. Luckily [Strathcona County's Open Data Portal](https://data.strathcona.ca/) includes all of the location data of homes in the county.\n",
    "\n",
    "That’s where you as a data scientist come in. They’ve given you data and you need to reprogram Santa's GPS to figure out how to visit homes in the county on Christmas Eve in the most efficient manner possible."
   ]
  },
  {
   "attachments": {},
   "cell_type": "markdown",
   "metadata": {},
   "source": [
    "## Getting Ready\n",
    "\n",
    "This section sets up many things behind the scenes which are required for the rest of this notebook. Most of the code blocks in this section are ready-to-run so you won't have to do any modifications. You don't need to know everything about various tasks being accomplished by the code cell in this section to complete the challenges. However feel free to ask mentors about anything that makes you curious.\n",
    "\n",
    "`▸Run` the cell below to download required Python libraries. It may take few minutes to complete the execution of the cell."
   ]
  },
  {
   "cell_type": "code",
   "execution_count": null,
   "metadata": {},
   "outputs": [],
   "source": [
    "%pip install -q pyodide_http plotly haversine folium\n",
    "import pyodide_http\n",
    "pyodide_http.patch_all()\n",
    "import pandas as pd\n",
    "import plotly.express as px\n",
    "import haversine as hs\n",
    "import folium\n",
    "from folium.plugins import FastMarkerCluster\n",
    "print('Setup Complete')"
   ]
  },
  {
   "attachments": {},
   "cell_type": "markdown",
   "metadata": {},
   "source": [
    "## Getting Data About Homes\n",
    "\n",
    "Next we will: \n",
    "\n",
    "1. Retrieve the data from the Strathcona County Open Data Portal.\n",
    "2. Put the data in a dataframe named `home_data`. Think of a dataframe as a powerful spreadsheet.\n",
    "3. Have a look at the data."
   ]
  },
  {
   "cell_type": "code",
   "execution_count": null,
   "metadata": {},
   "outputs": [],
   "source": [
    "data_url = 'https://data.strathcona.ca/api/views/fdr6-tu3d/rows.csv?accessType=DOWNLOAD'\n",
    "home_data = pd.read_csv(data_url)\n",
    "home_data"
   ]
  },
  {
   "attachments": {},
   "cell_type": "markdown",
   "metadata": {},
   "source": [
    "We can also look at just the column names."
   ]
  },
  {
   "cell_type": "code",
   "execution_count": null,
   "metadata": {},
   "outputs": [],
   "source": [
    "home_data.columns"
   ]
  },
  {
   "attachments": {},
   "cell_type": "markdown",
   "metadata": {},
   "source": [
    "### Data Cleaning\n",
    "\n",
    "You may notice that some rows have `NaN` (not a number) for their locations. We're going to remove these from our dataset."
   ]
  },
  {
   "cell_type": "code",
   "execution_count": null,
   "metadata": {},
   "outputs": [],
   "source": [
    "home_data = home_data.dropna()\n",
    "home_data"
   ]
  },
  {
   "attachments": {},
   "cell_type": "markdown",
   "metadata": {},
   "source": [
    "## Visualizing Home Locations\n",
    "\n",
    "Let's use folium to plot the home locations in our dataframe on an interactive map."
   ]
  },
  {
   "cell_type": "code",
   "execution_count": null,
   "metadata": {},
   "outputs": [],
   "source": [
    "m = folium.Map(location=[53.5701, -113.0741], zoom_start=10)\n",
    "m.add_child(FastMarkerCluster(home_data[['Latitude', 'Longitude']].values.tolist()))\n",
    "display(m)"
   ]
  },
  {
   "attachments": {},
   "cell_type": "markdown",
   "metadata": {},
   "source": [
    "## Counting Homes\n",
    "\n",
    "That's a lot of homes for Santa to visit, and this is just in Strathcona County. To find out how many homes are in the data set we can use `.shape`."
   ]
  },
  {
   "cell_type": "code",
   "execution_count": null,
   "metadata": {},
   "outputs": [],
   "source": [
    "home_data.shape"
   ]
  },
  {
   "attachments": {},
   "cell_type": "markdown",
   "metadata": {},
   "source": [
    "## Calculating Travel Time\n",
    "\n",
    "We can approximate Santa's travel time using the equation $t = \\frac{d}{v}$ where $t$ is time, $d$ is distance, and $v$ is speed or velocity.\n",
    "\n",
    "Start by assuming that Santa can travel close to the speed of sound, or about 300 meters per second, and that he spends about 30 seconds in each home. Feel free to change the default values for `flight_speed` and `time_per_home`."
   ]
  },
  {
   "cell_type": "code",
   "execution_count": null,
   "metadata": {},
   "outputs": [],
   "source": [
    "def calculate_required_time(travel_distance, flight_speed=300, time_per_home=30):\n",
    "    print('Santa will travel at', flight_speed, 'm/s and spend', time_per_home, 'seconds per home.')\n",
    "    time_required = travel_distance / flight_speed + time_per_home\n",
    "    return time_required\n",
    "\n",
    "total_distance = 0\n",
    "previous_location = (53.5701, -113.0741) # starting from the middle of Strathcona County\n",
    "for record in home_data.iterrows():\n",
    "    current_location = (record[1]['Latitude'], record[1]['Longitude'])\n",
    "    travel_distance = hs.haversine(previous_location, current_location, unit='m')\n",
    "    total_distance = total_distance + travel_distance\n",
    "    previous_location = current_location\n",
    "\n",
    "print(total_distance, 'meters')\n",
    "required_time = calculate_required_time(total_distance, 300, 30)\n",
    "print(required_time, 'seconds required, which is about', required_time/3600, 'hours.')"
   ]
  },
  {
   "attachments": {},
   "cell_type": "markdown",
   "metadata": {},
   "source": [
    "That seems like a long time, a little over a week. You can of course change the values in the calculate_required_time function so Santa travels faster or spends less time in each home.\n",
    "\n",
    "# Visualizing the Path\n",
    "\n",
    "A better way to decrease the travel time, though, would be to visit homes in an optimal order. We will visualize this using the Cufflinks library for Plotly. Right now we just have Santa visiting homes in the order they are listed in the data."
   ]
  },
  {
   "cell_type": "code",
   "execution_count": null,
   "metadata": {},
   "outputs": [],
   "source": [
    "px.line(home_data, x='Longitude', y='Latitude')"
   ]
  },
  {
   "attachments": {},
   "cell_type": "markdown",
   "metadata": {},
   "source": [
    "Looking at just the first 50 homes with `home_data.head(50)`, we can see that this is not an efficient path."
   ]
  },
  {
   "cell_type": "code",
   "execution_count": null,
   "metadata": {},
   "outputs": [],
   "source": [
    "px.line(home_data.head(50), x='Longitude', y='Latitude')"
   ]
  },
  {
   "attachments": {},
   "cell_type": "markdown",
   "metadata": {},
   "source": [
    "#### Travelling Salesman Problem\n",
    "\n",
    "Optimizing Santa's travel path is a version of the classic [travelling salesman problem](https://simple.wikipedia.org/wiki/Travelling_salesman_problem), which is actually a very hard mathematical problem to compute.\n",
    "\n",
    "There hasn't yet been a good solution, and there is a [$1,000,000 prize](http://www.claymath.org/millennium-problems/p-vs-np-problem) available to anyone who solves it.\n",
    "\n",
    "### Filtering Data\n",
    "\n",
    "Assuming that you haven't solved the travelling salesman problem already, we'll try to optimize Santa's route by eliminating some homes. Let's see what data categories are available to us in our `home_data` dataframe:"
   ]
  },
  {
   "cell_type": "code",
   "execution_count": null,
   "metadata": {},
   "outputs": [],
   "source": [
    "home_data.columns"
   ]
  },
  {
   "attachments": {},
   "cell_type": "markdown",
   "metadata": {},
   "source": [
    "There are some columns that might be interesting for our purposes, such as `'FIREPLACE'`. To get just the homes that just have a fireplace you can run the following cell to create a new dataframe called `home_data_filtered`."
   ]
  },
  {
   "cell_type": "code",
   "execution_count": null,
   "metadata": {},
   "outputs": [],
   "source": [
    "condition = home_data['FIREPL']==True\n",
    "home_data_filtered = home_data[condition]\n",
    "home_data_filtered.shape"
   ]
  },
  {
   "attachments": {},
   "cell_type": "markdown",
   "metadata": {},
   "source": [
    "You can also specify two conditions like this, try it yourself:\n",
    "\n",
    "---\n",
    "\n",
    "`condition1 = home_data['FIREPL'] == True`\n",
    "\n",
    "`condition2 = home_data['2021 Assessment'] < 1000000`\n",
    "\n",
    "`home_data_filtered = home_data[(condition1) & (condition2)]`\n",
    "\n",
    "---\n",
    "\n",
    "`&` means **and**\n",
    "\n",
    "`|` means **or**\n",
    "\n",
    "### Sorting Data\n",
    "\n",
    "Ordering the data by latitude might also help. Notice that we create a new dataframe called `home_data_sorted`. \n",
    "\n",
    "`home_data_sorted = home_data_filtered.sort_values(by=['Longitude'])`"
   ]
  },
  {
   "cell_type": "code",
   "execution_count": null,
   "metadata": {},
   "outputs": [],
   "source": [
    "home_data_sorted = home_data_filtered.sort_values(by=['Longitude'])\n",
    "px.line(home_data_sorted, x='Longitude', y='Latitude')"
   ]
  },
  {
   "attachments": {},
   "cell_type": "markdown",
   "metadata": {},
   "source": [
    "## Graphing Data\n",
    "\n",
    "Here is an example graph to help you visualize the data and make decisions about which homes to include in Santa's route."
   ]
  },
  {
   "cell_type": "code",
   "execution_count": null,
   "metadata": {},
   "outputs": [],
   "source": [
    "px.scatter(home_data, x='BLDG', y='2021 Assessment', color='FIREPL')"
   ]
  },
  {
   "attachments": {},
   "cell_type": "markdown",
   "metadata": {},
   "source": [
    "You can continue your own analysis in the [next notebook](santa-challenge.ipynb)."
   ]
  },
  {
   "attachments": {},
   "cell_type": "markdown",
   "metadata": {},
   "source": [
    "[![Callysto.ca License](https://github.com/callysto/curriculum-notebooks/blob/master/callysto-notebook-banner-bottom.jpg?raw=true)](https://github.com/callysto/curriculum-notebooks/blob/master/LICENSE.md)"
   ]
  }
 ],
 "metadata": {
  "kernelspec": {
   "display_name": "Python 3.10.6 64-bit",
   "language": "python",
   "name": "python3"
  },
  "language_info": {
   "codemirror_mode": {
    "name": "ipython",
    "version": 3
   },
   "file_extension": ".py",
   "mimetype": "text/x-python",
   "name": "python",
   "nbconvert_exporter": "python",
   "pygments_lexer": "ipython3",
   "version": "3.10.1"
  },
  "orig_nbformat": 4,
  "vscode": {
   "interpreter": {
    "hash": "916dbcbb3f70747c44a77c7bcd40155683ae19c65e1c03b4aa3499c5328201f1"
   }
  }
 },
 "nbformat": 4,
 "nbformat_minor": 2
}
