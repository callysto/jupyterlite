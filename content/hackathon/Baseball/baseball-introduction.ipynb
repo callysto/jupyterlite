{
 "cells": [
  {
   "cell_type": "markdown",
   "id": "af21ba5e-3705-486b-8f1a-ce2c2d69e35c",
   "metadata": {},
   "source": [
    "![Callysto.ca Banner](https://github.com/callysto/curriculum-notebooks/blob/master/callysto-notebook-banner-top.jpg?raw=true)"
   ]
  },
  {
   "cell_type": "markdown",
   "id": "05644c8a-37ef-457f-8b45-825b0f3ed8df",
   "metadata": {},
   "source": [
    "# Baseball"
   ]
  },
  {
   "cell_type": "markdown",
   "id": "09886545-c3f2-460a-968e-7b642bbb4f54",
   "metadata": {},
   "source": [
    "<img src=https://upload.wikimedia.org/wikipedia/commons/5/59/Baseball_diamond_marines.jpg width=800>\n",
    "<p>\n",
    "<a href='https://en.wikipedia.org/wiki/Baseball_field'>https://en.wikipedia.org/wiki/Baseball_field </a>\n",
    "</p>"
   ]
  },
  {
   "cell_type": "markdown",
   "id": "0787cec1-9230-4b58-b09f-57de9dc2c753",
   "metadata": {},
   "source": [
    "## Analyzing Pitch Data\n",
    "\n",
    "Baseball is one of the most popular sports in North America, that in the past few decades has seen its popularity rise in countries across the world. As the sport has grown, so has the technology that it uses. Major League Baseball (MLB), the largest professional league in the world, has installed high-tech cameras and other tracking tools in all 30 of its stadiums to allow teams to analyze the game using more advanced methods than ever before. High-performance computers then run complicated programs to turn the video recordings from the cameras into usable data. Teams can use this data to improve their own players' performance, as well as to learn about what their opponents are likely to do.\n",
    "\n",
    "MLB has made this data available for anyone who wants to use it, and we can go through some of it today to see if we can learn more about the game and how data can be used to gain an advantage on our opponents!\n",
    "\n",
    "Email contact@callysto.ca if you experience issues."
   ]
  },
  {
   "cell_type": "markdown",
   "id": "21484498-f9a1-4654-bb16-6f0039bd211b",
   "metadata": {},
   "source": [
    "### Import Libraries\n",
    "\n",
    "Run the cell below to import the necessary Python libraries that we'll use in this notebook."
   ]
  },
  {
   "cell_type": "code",
   "execution_count": null,
   "id": "4b0f2bc1-b98e-472b-8b02-c9a5102321e5",
   "metadata": {},
   "outputs": [],
   "source": [
    "%pip install -q pyodide_http plotly\n",
    "import pyodide_http\n",
    "pyodide_http.patch_all()\n",
    "import pandas as pd\n",
    "import plotly.express as px\n",
    "print('libraries imported')"
   ]
  },
  {
   "cell_type": "markdown",
   "id": "6a53fd3a-3351-42a5-b02a-01e1949e434e",
   "metadata": {},
   "source": [
    "## Downloading Data\n",
    "\n",
    "For today's challenge, we'll be looking at data about the pitches thrown in baseball. Each play starts with a pitch, so there's potentially a lot we can learn from this data. In the 2022 season, over **600,000 pitches were thrown**, which is a lot of data. We don't need quite that much data, so instead we'll focus on just one of the divisions within MLB: the American League East division. This division consists of the Toronto Blue Jays, the New York Yankees, the Boston Red Sox, the Baltimore Orioles, and the Tampa Bay Rays. In the 2022 season, the AL East had the most wins of any division in all of MLB, despite almost half of each team's games being against other teams in the division! To narrow the data even more, we'll just look at data for the month of June 2022.\n",
    "\n",
    "There are many sources of baseball data on the internet, such as [FanGraphs](https://www.fangraphs.com/), [Baseball-Reference](https://www.baseball-reference.com/), and many more. For this challenge, though all the sites have access to MLB's data, we've downloaded the data from a website called [Baseball Savant](https://baseballsavant.mlb.com/) and stored it in a CSV file so it's easy to access. We can load it here and look at five random observations:"
   ]
  },
  {
   "cell_type": "code",
   "execution_count": null,
   "id": "d4b7dfbc-a256-443b-ac2d-193ba07d7d9c",
   "metadata": {},
   "outputs": [],
   "source": [
    "pitch_data = pd.read_csv('data/ale_pitch_data_june.csv')\n",
    "pitch_data.sample(5) # Because this process is random, not everyone will get the same results below"
   ]
  },
  {
   "cell_type": "markdown",
   "id": "da5c349e-d8b8-4d60-a9fa-041baa14fb93",
   "metadata": {},
   "source": [
    "Each row represents a single pitch, with 92 columns of data (as we can see from the information below the dataframe above). Because there are more rows than can be displayed in the notebook, Jupyter hides many of the columns in the middle of the dataframe. To see all the columns, we can use the below code:"
   ]
  },
  {
   "cell_type": "code",
   "execution_count": null,
   "id": "76662d2b-2043-4601-9626-deb456b9265e",
   "metadata": {},
   "outputs": [],
   "source": [
    "pitch_data.info()"
   ]
  },
  {
   "cell_type": "markdown",
   "id": "2842f880-7bdc-4970-a944-055cd8022581",
   "metadata": {
    "tags": []
   },
   "source": [
    "### Looking at Data\n",
    "\n",
    "<img src=https://upload.wikimedia.org/wikipedia/commons/2/25/Baseball_pitching_motion_2004.jpg width=800>\n",
    "<p>\n",
    "<a href='https://en.wikipedia.org/wiki/Pitch_(baseball)'>https://en.wikipedia.org/wiki/Pitch_(baseball) </a>\n",
    "</p>\n",
    "\n",
    "The above function tell us:\n",
    "1. There are 18,264 pitches (rows) in the data\n",
    "1. The name of each column, in order\n",
    "1. How many rows in each column contain data (are 'non-null')\n",
    "1. The type of data each column contains\n",
    "\n",
    "Some of the column names provide a good description of the data they contain, but ideally we don't have to guess, and we can know exactly what the data represent. Thankfully, the [Baseball Savant](https://baseballsavant.mlb.com/csv-docs) website provides descriptions for each column. There's quite a few, so hold on tight:\n",
    "\n",
    "0.   **pitch_type** - The type of pitch derived from Statcast.\n",
    "1.   **game_date** - Date of the Game.\n",
    "2.   **release_speed** - Pitch velocities from 2008-16 are via Pitch F/X, and adjusted to roughly out-of-hand release point. All velocities from 2017 and beyond are Statcast, which are reported out-of-hand.\n",
    "3.   **release_pos_x** - Horizontal Release Position of the ball measured in feet from the catcher's perspective.\n",
    "4.   **release_pos_z** - Vertical Release Position of the ball measured in feet from the catcher's perspective.\n",
    "5.   **player_name** - Player's name tied to the event.\n",
    "6.   **batter** - MLB Player Id tied to the play event.\n",
    "7.   **pitcher** - MLB Player Id tied to the play event.\n",
    "8.   **events** - Event of the resulting Plate Appearance.\n",
    "9.   **description** - Description of the resulting pitch.\n",
    "10.  **spin_dir** - * Deprecated field from the old tracking system.\n",
    "11.  **spin_rate_deprecated** - * Deprecated field from the old tracking system. Replaced by release_spin\n",
    "12.  **break_angle_deprecated** - * Deprecated field from the old tracking system.\n",
    "13.  **break_length_deprecated** - * Deprecated field from the old tracking system.\n",
    "14.  **zone** - Zone location of the ball when it crosses the plate from the catcher's perspective.\n",
    "15.  **des** - Plate appearance description from game day.\n",
    "16.  **game_type** - Type of Game. E = Exhibition, S = Spring Training, R = Regular Season, F = Wild Card, D = Divisional Series, L = League Championship Series, W = World Series\n",
    "17.  **stand** - Side of the plate batter is standing.\n",
    "18.  **p_throws** - Hand pitcher throws with.\n",
    "19.  **home_team** - Abbreviation of home team.\n",
    "20.  **away_team** - Abbreviation of away team.\n",
    "21.  **type** - Short hand of pitch result. B = ball, S = strike, X = in play.\n",
    "22.  **hit_location** - Position of first fielder to touch the ball.\n",
    "23.  **bb_type** - Batted ball type, ground_ball, line_drive, fly_ball, popup.\n",
    "24.  **balls** - Pre-pitch number of balls in count.\n",
    "25.  **strikes** - Pre-pitch number of strikes in count.\n",
    "26.  **game_year** - Year game took place.\n",
    "27.  **pfx_x** - Horizontal movement in feet from the catcher's perspective.\n",
    "28.  **pfx_z** - Vertical movement in feet from the catcher's perpsective.\n",
    "29.  **plate_x** - Horizontal position of the ball when it crosses home plate from the catcher's perspective.\n",
    "30.  **plate_z** - Vertical position of the ball when it crosses home plate from the catcher's perspective.\n",
    "31.  **on_3b** - Pre-pitch MLB Player Id of Runner on 3B.\n",
    "32.  **on_2b** - Pre-pitch MLB Player Id of Runner on 2B.\n",
    "33.  **on_1b** - Pre-pitch MLB Player Id of Runner on 1B.\n",
    "34.  **outs_when_up** - Pre-pitch number of outs.\n",
    "35.  **inning** - Pre-pitch inning number.\n",
    "36.  **inning_topbot** - Pre-pitch top or bottom of inning.\n",
    "37.  **hc_x** - Hit coordinate X of batted ball.\n",
    "38.  **hc_y** - Hit coordinate Y of batted ball.\n",
    "39.  **tfs_deprecated** - * Deprecated field from old tracking system.\n",
    "40.  **tfs_zulu_deprecated** - * Deprecated field from old tracking system.\n",
    "41.  **fielder_2** - Pre-pitch MLB Player Id of Catcher.\n",
    "42.  **umpire** - * Deprecated field from old tracking system.\n",
    "43.  **sv_id** - Non-unique Id of play event per game.\n",
    "44.  **vx0** - The velocity of the pitch, in feet per second, in x-dimension, determined at y=50 feet.\n",
    "45.  **vy0** - The velocity of the pitch, in feet per second, in y-dimension, determined at y=50 feet.\n",
    "46.  **vz0** - The velocity of the pitch, in feet per second, in z-dimension, determined at y=50 feet.\n",
    "47.  **ax** - The acceleration of the pitch, in feet per second per second, in x-dimension, determined at y=50 feet.\n",
    "48.  **ay** - The acceleration of the pitch, in feet per second per second, in y-dimension, determined at y=50 feet.\n",
    "49.  **az** - The acceleration of the pitch, in feet per second per second, in z-dimension, determined at y=50 feet.\n",
    "50.  **sz_top** - Top of the batter's strike zone set by the operator when the ball is halfway to the plate.\n",
    "51.  **sz_bot** - Bottom of the batter's strike zone set by the operator when the ball is halfway to the plate.\n",
    "52.  **hit_distance_sc** - Projected hit distance of the batted ball.\n",
    "53.  **launch_speed** - Exit velocity of the batted ball as tracked by Statcast. For the limited subset of batted balls not tracked directly, estimates are included based on the process described here.\n",
    "54.  **launch_angle** - Launch angle of the batted ball as tracked by Statcast. For the limited subset of batted balls not tracked directly, estimates are included based on the process described here.\n",
    "55.  **effective_speed** - Derived speed based on the the extension of the pitcher's release.\n",
    "56.  **release_spin_rate** - Spin rate of pitch tracked by Statcast.\n",
    "57.  **release_extension** - Release extension of pitch in feet as tracked by Statcast.\n",
    "58.  **game_pk** - Unique Id for Game.\n",
    "59.  **pitcher.1** - MLB Player Id tied to the play event.\n",
    "60.  **fielder_2.1** - MLB Player Id for catcher.\n",
    "61.  **fielder_3** - MLB Player Id for 1B.\n",
    "62.  **fielder_4** - MLB Player Id for 2B.\n",
    "63.  **fielder_5** - MLB Player Id for 2B.\n",
    "64.  **fielder_6** - MLB Player Id for SS.\n",
    "65.  **fielder_7** - MLB Player Id for LF.\n",
    "66.  **fielder_8** - MLB Player Id for CF.\n",
    "67.  **fielder_9** - MLB Player Id for RF.\n",
    "68.  **release_pos_y** - Release position of pitch measured in feet from the catcher's perspective.\n",
    "69.  **estimated_ba_using_speedangle** - Estimated Batting Avg based on launch angle and exit velocity.\n",
    "70.  **estimated_woba_using_speedangle** - Estimated wOBA based on launch angle and exit velocity.\n",
    "71.  **woba_value** - wOBA value based on result of play.\n",
    "72.  **woba_denom** - wOBA denominator based on result of play.\n",
    "73.  **babip_value** - BABIP value based on result of play.\n",
    "74.  **iso_value** - ISO value based on result of play.\n",
    "75.  **launch_speed_angle** - Launch speed/angle zone based on launch angle and exit velocity: \\\n",
    "    1\\.  Weak  \n",
    "    2\\.  Topped  \n",
    "    3\\.  Under  \n",
    "    4\\.  Flare/Burner  \n",
    "    5\\.  Solid Contact  \n",
    "    6\\.  Barrel  \n",
    "76.  **at_bat_number** - Plate appearance number of the game.\n",
    "77.  **pitch_number** - Total pitch number of the plate appearance.\n",
    "78.  **pitch_name** - The name of the pitch derived from the Statcast Data.\n",
    "79.  **home_score** - Pre-pitch home score\n",
    "80.  **away_score** - Pre-pitch away score\n",
    "81.  **bat_score** - Pre-pitch bat team score\n",
    "82.  **fld_score** - Pre-pitch field team score\n",
    "83.  **post_away_score** - Post-pitch home score\n",
    "84.  **post_home_score** - Post-pitch away score\n",
    "85.  **post_bat_score** - Post-pitch bat team score\n",
    "86.  **post_fld_score** - Post-pitch field team score\n",
    "87.  **if_fielding_alignment** - Infield fielding alignment at the time of the pitch.\n",
    "88.  **of_fielding_alignment** - Outfield fielding alignment at the time of the pitch.\n",
    "89.  **spin_axis** - The Spin Axis in the 2D X-Z plane in degrees from 0 to 360, such that 180 represents a pure backspin fastball and 0 degrees represents a pure topspin (12-6) curveball\n",
    "90.  **delta_home_win_exp** - The change in Win Expectancy before the Plate Appearance and after the Plate Appearance\n",
    "91.  **delta_run_exp** - The change in Run Expectancy before the Pitch and after the Pitch\n",
    "    \n",
    "That's a lot of columns of data! We probably won't use them all, but later on feel free to use whatever you want to get creative with your analysis."
   ]
  },
  {
   "cell_type": "markdown",
   "id": "a8a3fb94-b471-45fc-a230-f2cdb9ba828e",
   "metadata": {},
   "source": [
    "### Preparing Data\n",
    "\n",
    "Sure, those numbers are great, but they'd be a lot more meaningful if we could visualize them. To start, let's look at the speed at which each of the pitchers in the dataset throws. As a first step, let's see how many pitchers are in the dataset:"
   ]
  },
  {
   "cell_type": "code",
   "execution_count": null,
   "id": "f50d5dec-7041-42c8-940d-39186ca4c046",
   "metadata": {},
   "outputs": [],
   "source": [
    "display(sorted(pitch_data['player_name'].unique().tolist()))\n",
    "print(f'\\nThere are {len(pitch_data[\"player_name\"].unique())} pitchers appearing in this dataset') # Make list of unique player names, and print the length of that list"
   ]
  },
  {
   "cell_type": "markdown",
   "id": "db76825d-d938-431c-afd5-8cd33af935f4",
   "metadata": {},
   "source": [
    "90 is a lot of pitchers, and it's tough to clearly visualize, so we'll first filter down the list to only include a smaller sample.\n",
    "\n",
    "How do we determine which pitchers to include? Well, a good next step is to plot the data:"
   ]
  },
  {
   "cell_type": "code",
   "execution_count": null,
   "id": "c6ab496f-4ba0-4a3e-aa5a-84dbef4d787d",
   "metadata": {},
   "outputs": [],
   "source": [
    "pitchers = pitch_data['player_name'].value_counts() # Counting instances of each pitcher's name in the dataset\n",
    "px.bar(pitchers, labels={'value':'Pitches', 'index':'Pitcher name'}, \n",
    "       title='Number of pitches thrown by AL East pitchers in June 2022').update_layout(showlegend=False).update_xaxes(tickfont=dict(size=8))"
   ]
  },
  {
   "cell_type": "markdown",
   "id": "f0eabeb7-a8b1-4352-b2a9-c0eb4602129e",
   "metadata": {},
   "source": [
    "There are a few \"bumps\" in the plot above where there's a drop-off in numbers that we could probably use as a cutoff point for determining how many pitchers we want to focus on. Our decision of where to cut the data is arbitrary, but perhaps using 400 pitches as a cutoff (between Corey Kluber and José Berríos) allows us to use a manageable number of pitchers without getting too overwhelming."
   ]
  },
  {
   "cell_type": "code",
   "execution_count": null,
   "id": "a2daf442-88f2-49c2-8372-bfcdc8dc84c7",
   "metadata": {},
   "outputs": [],
   "source": [
    "top_pitchers = pitchers[0:13] # 'Slice' the dataframe by taking only the rows starting at the 0th row, and up to (but not including) the 13th row, for 13 total names\n",
    "top_pitchers"
   ]
  },
  {
   "cell_type": "markdown",
   "id": "75cedfbd-49fe-4f66-93f6-164917a69da0",
   "metadata": {},
   "source": [
    "### Visualizing Data\n",
    "\n",
    "Now we can plot the pitches each pitcher throws and the velocity associated with them."
   ]
  },
  {
   "cell_type": "code",
   "execution_count": null,
   "id": "dad038bb-f85f-435c-87d5-9377f95ddcf4",
   "metadata": {},
   "outputs": [],
   "source": [
    "px.scatter(pitch_data[pitch_data['player_name'].isin(top_pitchers.index)].sort_values('player_name'), # Filter original dataset to only include pitchers who's name is in our list of 13\n",
    "           x='player_name', y='release_speed', # Choose the variables to plot\n",
    "           labels={'release_speed':'Pitch velocity (mph)', 'player_name':'Pitcher name'}, # Rename the axes labels to be a little prettier\n",
    "           title='Pitch velocity by pitcher', height=500) # Title the plot and make sure it's tall enough to be easily viewable"
   ]
  },
  {
   "cell_type": "markdown",
   "id": "a915e6bd-61c5-447d-b7de-78b043019a30",
   "metadata": {},
   "source": [
    "### Using Expert Knowledge\n",
    "\n",
    "If you're a baseball fan, you likely know that pitchers will use different types of pitches to fool the batter (and if you're not a baseball fan, the next few steps will help you learn that knowledge). Though a pitch with more speed can definitely be difficult to hit, not every pitch relies on its velocity. We can further break down the same plot by pitch type:"
   ]
  },
  {
   "cell_type": "code",
   "execution_count": null,
   "id": "888b88a8-b070-4d93-a3d0-820c8f64be72",
   "metadata": {},
   "outputs": [],
   "source": [
    "px.scatter(pitch_data[pitch_data['player_name'].isin(top_pitchers.index)].sort_values('player_name'), \n",
    "           x='player_name', y='release_speed', color='pitch_name', opacity=0.8, # Now colour the pitches by type, and make the symbols slightly more transparent\n",
    "           labels={'release_speed':'Pitch velocity (mph)', 'player_name':'Pitcher name', 'pitch_name':'Pitch type'},\n",
    "           title='Pitch velocity by pitcher and pitch', height=500)"
   ]
  },
  {
   "cell_type": "markdown",
   "id": "76224cda-e697-4f34-87e0-1ee24164656d",
   "metadata": {},
   "source": [
    "Fast pitches are certainly hard to hit, but as we see above there's clearly some kind of relationship between type of pitch and its speed. For pitches that don't rely on speed to fool the batter, they usually rely on *movement*. How a ball moves through the air, and how its movement is changed by the amount of *spin* on the ball is a fairly complicated topic, but for further learning you can check out [this YouTube video](https://www.youtube.com/watch?v=0lbQwFmwBNs) for a good explanation. We can build on this later, but for now we can consider *spin rate* to be a good measurement for pitch movement.\n",
    "\n",
    "Ignoring individual pitchers for a second, we can plot the relationship between pitch velocity and spin rate, and see how that relates to pitch type:"
   ]
  },
  {
   "cell_type": "code",
   "execution_count": null,
   "id": "0f2f4243-7ce0-4c0e-8305-84c15bc74737",
   "metadata": {},
   "outputs": [],
   "source": [
    "px.scatter(pitch_data[pitch_data['player_name'].isin(top_pitchers.index)], \n",
    "           x='release_speed', y='release_spin_rate', color='pitch_name', # Compare velocity and spin rate\n",
    "           labels={'release_speed':'Pitch velocity (mph)', 'release_spin_rate':'Spin rate (rpm)', 'pitch_name':'Pitch type'},\n",
    "           title='Pitch velocity and movement, by pitch type', height=500)"
   ]
  },
  {
   "cell_type": "markdown",
   "id": "268c993d-8d67-4ef7-9159-3d253245724a",
   "metadata": {},
   "source": [
    "Building on our knowledge that pitchers use either velocity **or** spin rate to fool the batter, let's replicate one of our earlier plots, but this time looking at spin rate:"
   ]
  },
  {
   "cell_type": "code",
   "execution_count": null,
   "id": "a839a5aa-3526-40d6-911d-74560134063e",
   "metadata": {},
   "outputs": [],
   "source": [
    "px.scatter(pitch_data[pitch_data['player_name'].isin(top_pitchers.index)].sort_values('player_name'), \n",
    "           x='player_name', y='release_spin_rate', color='pitch_name', opacity=0.8,\n",
    "           labels={'release_spin_rate':'Spin rate (rpm)', 'player_name':'Pitcher name', 'pitch_name':'Pitch type'},\n",
    "           title='Pitch spin rate by pitcher and pitch', height=500)"
   ]
  },
  {
   "cell_type": "markdown",
   "id": "fd11efc4-987e-486a-86c8-75cf22b4f541",
   "metadata": {},
   "source": [
    "When we looked at each pitcher's velocity, and coloured it by pitch type, there was a lot of overlap between different types of pitches. Knowing now that spin rate is another important factor in how effective certain pitches are, and plotting that instead of velocity, we can see that the difference between pitches is even clearer yet.\n",
    "\n",
    "### Diving into the Data\n",
    "\n",
    "In baseball jargon, pitches that rely on *speed* to fool the batter are generally known as **fastballs**, whereas those that rely on *movement* (through increased spin rate) are collectively referred to as **breaking balls**. You can find a good breakdown of the pitch types [here](https://www.rookieroad.com/baseball/pitch-types/), as well as the below image that shows the movement of the most common pitches:\n",
    "\n",
    "<img src=https://appliedvisionbaseball.com/wp-content/uploads/2019/10/nipponfoodie-31-1024x576.png width=800>\n",
    "<p>\n",
    "<a href='https://appliedvisionbaseball.com/how-to-identify-pitch-types-spin-speed-location/'>https://appliedvisionbaseball.com/how-to-identify-pitch-types-spin-speed-location/ </a>\n",
    "</p>\n",
    "\n",
    "Let's see exactly which pitch types exist in this dataset (going back to all 90 pitchers):"
   ]
  },
  {
   "cell_type": "code",
   "execution_count": null,
   "id": "42527977-9cb1-473f-9a51-bcf26d96230f",
   "metadata": {},
   "outputs": [],
   "source": [
    "pitch_types = pitch_data['pitch_name'].unique() # List unique values in 'pitch_name' variable\n",
    "pitch_types"
   ]
  },
  {
   "cell_type": "markdown",
   "id": "2aeac248-f8da-4098-b70c-a84bfbf2ad96",
   "metadata": {},
   "source": [
    "We can then create two lists: one that contains all the fastballs, and one that contains the breaking balls. We do this by using the `[#]` notation to refer to a particular entry's position in a list, starting (as always in Python) with 0:"
   ]
  },
  {
   "cell_type": "code",
   "execution_count": null,
   "id": "5a20beeb-ea23-4508-8fd7-6388ee69acd5",
   "metadata": {},
   "outputs": [],
   "source": [
    "fastballs = [pitch_types[0], pitch_types[2], pitch_types[3]]\n",
    "breaking_balls = [pitch_types[1], pitch_types[4], pitch_types[6], pitch_types[7]]\n",
    "display(fastballs)\n",
    "display(breaking_balls)"
   ]
  },
  {
   "cell_type": "markdown",
   "id": "4c3aad5c-ddfd-41a9-8078-7680f2dd6adb",
   "metadata": {},
   "source": [
    "A keen eye will notice that fastballs and breaking balls don't account for all of our pitches. There are two remaining pitches: 'Changeup', and 'nan'.\n",
    "\n",
    "A changeup is a pitch that is neither a fastball nor a breaking ball. The goal of a changeup is to *appear* as a fastball when it's leaving the pitcher's hand, but to have a significantly lower velocity, causing the batter to swing much earlier and miss the ball."
   ]
  },
  {
   "cell_type": "markdown",
   "id": "1ef76ee7-9933-4807-b191-97cc41e9245e",
   "metadata": {},
   "source": [
    "<div class=\"alert alert-block alert-success\">\n",
    "<b>Note:</b>\n",
    "On the other hand, a <b>nan</b> is not a pitch at all. Often in programming languages, you'll encounter a data type that represents non-existent data. This is different than zero; imagine considering temperature. If you have a dataset that contains temperatures, if you have a value of <b>0</b>, you would assume that you've measured a real temperature right at freezing. However, a value of <b>nan</b> indicates that a value <i>should</i> exist, but for whatever reason doesn't. Depending on the language and/or the source of the data, this could be written as <b>nan, NaN, NA, or null.</b>\n",
    "</div>"
   ]
  },
  {
   "cell_type": "markdown",
   "id": "c7416728-777c-417e-939c-0f62ab8cdd09",
   "metadata": {},
   "source": [
    "### Cleaning Data\n",
    "\n",
    "One of the most time-consuming parts of data science is 'cleaning' your data. Cleaning entails looking at your data and ensuring it represents what you think it does, and ensuring that any anomalies are identified and can be either explained or removed. Knowing that we have entries in our data where there isn't a particular data point for the pitch name in the dataset, we can look at just those rows and it can help guide us as to what we do with the data.\n",
    "\n",
    "We'll filter our original dataset to look for just those rows that have a `pitch_name` of **nan**, which the pandas library treats as 'null':"
   ]
  },
  {
   "cell_type": "code",
   "execution_count": null,
   "id": "88851334-9423-44e3-8a99-fafb4e908d6c",
   "metadata": {},
   "outputs": [],
   "source": [
    "pitch_data[pitch_data['pitch_name'].isnull()] # Return all rows where the value for 'pitch_name' is equal to nan/NaN/null"
   ]
  },
  {
   "cell_type": "markdown",
   "id": "4503f59f-ca63-4214-b809-b92825d8c54b",
   "metadata": {},
   "source": [
    "In our dataframe of 18,264 entries, 16 of them contain that null value for `pitch_name`. Though the `pitch_name` column isn't shown above, the remaining columns give us some insight into how valuable the data is, to help us decide whether to keep or remove the data.\n",
    "\n",
    "Taking a look at the `description` column, every single one of these pitches resulted in a valid play, so in this instance it may be worth keeping the data in the original dataset. Though we can't be 100% sure, what likely happened is that whatever system MLB uses to classify pitches strugggled to classify these ones, but they were still valid pitches."
   ]
  },
  {
   "cell_type": "markdown",
   "id": "0dcf092a-b947-4005-83ca-e71d90209d9d",
   "metadata": {},
   "source": [
    "### Filtering Data\n",
    "\n",
    "Now that we are satisfied with the types of pitches existing in the dataset, we can compare the two groups of pitches and compare it across pitchers:"
   ]
  },
  {
   "cell_type": "code",
   "execution_count": null,
   "id": "44268e8e-5786-402b-a237-b500cf3c13b7",
   "metadata": {},
   "outputs": [],
   "source": [
    "# Change the value here to one of `fastballs` or `breaking_balls` to switch the types of pitches shown\n",
    "grouping = breaking_balls\n",
    "\n",
    "\n",
    "px.scatter(pitch_data[(pitch_data['player_name'].isin(top_pitchers.index)) & (pitch_data['pitch_name'].isin(grouping))], # Filter first by the top 13 pitchers, then by the pitches contained in the 'grouping' variable\n",
    "           x='release_speed', y='release_spin_rate', color='pitch_name',\n",
    "           labels={'release_speed':'Pitch velocity (mph)', 'release_spin_rate':'Spin rate (rpm)', 'pitch_name':'Pitch type'},\n",
    "           title='Pitch velocity and movement, by pitch type (grouped)', height=500)"
   ]
  },
  {
   "cell_type": "markdown",
   "id": "84df9fbb-43d2-466a-9e8c-dc9767e3cabb",
   "metadata": {},
   "source": [
    "Or, if we want to look at the same relationship for all the pitches from a single pitcher, we can do so using the code below:"
   ]
  },
  {
   "cell_type": "code",
   "execution_count": null,
   "id": "4a283e76-6b47-4c17-843c-1465b00abbbf",
   "metadata": {},
   "outputs": [],
   "source": [
    "# Change the pitcher name here to look at any individual pitcher. Use the list generated at 'Preparing the Data' to ensure proper spelling and formatting\n",
    "pitcher = 'Manoah, Alek'\n",
    "\n",
    "\n",
    "px.scatter(pitch_data[pitch_data['player_name']==pitcher], # Find rows only where the 'player_name' matches the value assigned to 'pitcher'\n",
    "           x='release_speed', y='release_spin_rate', color='pitch_name',\n",
    "           labels={'release_speed':'Pitch velocity (mph)', 'release_spin_rate':'Spin rate (rpm)', 'pitch_name':'Pitch type'},\n",
    "           title=f'Pitch velocity and movement, by pitch type ({pitcher})', height=500)"
   ]
  },
  {
   "cell_type": "markdown",
   "id": "2b15e38d-0f20-4508-a2c0-490378f2d467",
   "metadata": {},
   "source": [
    "## Next Steps\n",
    "\n",
    "This has been a quick intro into baseball data, and how we can visualize relationships between variables to learn more about how they interact with each other. We've only looked at a small selection of the available data, and there are probably some questions you might have that we didn't even attempt to answer. We've walked through a few aspects you can use to help guide your analysis, but we've barely scratched the surface of what we can do.\n",
    "\n",
    "For further analysis of this data, and to learn the skills to allow you to answer any other questions you can come up with, continue on to the [next notebook](baseball-challenge.ipynb)."
   ]
  },
  {
   "cell_type": "markdown",
   "id": "08953f99-119e-4d67-9ed2-1169c276d9de",
   "metadata": {},
   "source": [
    "[![Callysto.ca License](https://github.com/callysto/curriculum-notebooks/blob/master/callysto-notebook-banner-bottom.jpg?raw=true)](https://github.com/callysto/curriculum-notebooks/blob/master/LICENSE.md)"
   ]
  }
 ],
 "metadata": {
  "kernelspec": {
   "display_name": "Python 3.10.6 64-bit",
   "language": "python",
   "name": "python3"
  },
  "language_info": {
   "codemirror_mode": {
    "name": "ipython",
    "version": 3
   },
   "file_extension": ".py",
   "mimetype": "text/x-python",
   "name": "python",
   "nbconvert_exporter": "python",
   "pygments_lexer": "ipython3",
   "version": "3.10.6"
  },
  "vscode": {
   "interpreter": {
    "hash": "916dbcbb3f70747c44a77c7bcd40155683ae19c65e1c03b4aa3499c5328201f1"
   }
  }
 },
 "nbformat": 4,
 "nbformat_minor": 5
}
