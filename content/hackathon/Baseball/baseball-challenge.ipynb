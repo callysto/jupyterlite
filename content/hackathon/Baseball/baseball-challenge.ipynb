{
 "cells": [
  {
   "cell_type": "markdown",
   "id": "82edd93d-fc37-4e97-b118-6a7ff72718f4",
   "metadata": {},
   "source": [
    "![Callysto.ca Banner](https://github.com/callysto/curriculum-notebooks/blob/master/callysto-notebook-banner-top.jpg?raw=true)"
   ]
  },
  {
   "cell_type": "markdown",
   "id": "c1f3d788-af33-48c1-a96c-8ede5bb22666",
   "metadata": {},
   "source": [
    "# Baseball Challenge\n",
    "\n",
    "Submitted by: \n",
    "\n",
    "From school: \n",
    "\n",
    "## Introduction\n",
    "\n",
    "Now that you've gone through the introduction notebook and learned how to navigate Jupyter Notebooks, Python, and some useful libraries in pandas and Plotly, we can get a bit more creative with our questions. This notebook will expand on what you've learned and allow you to modify the code as you need. Don't be afraid to refer back to the previous notebook if you have any questions or need to remember what type of data the columns hold.\n",
    "\n",
    "## Prep work"
   ]
  },
  {
   "cell_type": "code",
   "execution_count": null,
   "id": "a627991b-8f8d-4113-9fd9-db6a19c52a75",
   "metadata": {},
   "outputs": [],
   "source": [
    "%pip install -q pyodide_http plotly pybaseball nbformat\n",
    "import pyodide_http\n",
    "pyodide_http.patch_all()\n",
    "import pybaseball as pbb\n",
    "import pandas as pd\n",
    "import plotly.express as px\n",
    "pitch_data = pd.read_csv('data/ale_pitch_data_june.csv')\n",
    "pitch_data.head()"
   ]
  },
  {
   "cell_type": "markdown",
   "id": "6f9120d2-5a90-4a77-b596-eb2523664fa1",
   "metadata": {},
   "source": [
    "## Grouping\n",
    "\n",
    "Returning to our original dataset, let's do some statistics on the data we have.\n",
    "\n",
    "Below is a pandas function that will allow us to group by a column, before calculating mean pitch speed."
   ]
  },
  {
   "cell_type": "code",
   "execution_count": null,
   "id": "2678b343-a2e4-4437-b031-7f957347b571",
   "metadata": {},
   "outputs": [],
   "source": [
    "pitcher_grp_mean = pitch_data.groupby(by='player_name')['release_speed'].mean() # Returning only the `release_speed` column\n",
    "pitcher_grp_mean"
   ]
  },
  {
   "cell_type": "markdown",
   "id": "ed0f5ba5-2b26-4874-8ae7-16346ed5f3de",
   "metadata": {},
   "source": [
    "We can repeat this looking at `max` as well:"
   ]
  },
  {
   "cell_type": "code",
   "execution_count": null,
   "id": "60c9070f-5723-4735-9231-a77603cdb9e8",
   "metadata": {},
   "outputs": [],
   "source": [
    "pitcher_grp_max = pitch_data.groupby(by='player_name')['release_speed'].max()\n",
    "pitcher_grp_max"
   ]
  },
  {
   "cell_type": "markdown",
   "id": "90acaab8-f9d1-4301-9ba3-1f649467b136",
   "metadata": {},
   "source": [
    "What if we're curious how many pitchers can throw sinkers over 95 mph? We can filter the data by implementing and combining conditional statements:"
   ]
  },
  {
   "cell_type": "code",
   "execution_count": null,
   "id": "a6b29958-0ebd-4798-bae5-ee61444e4688",
   "metadata": {},
   "outputs": [],
   "source": [
    "pitcher_95 = pitch_data[(pitch_data['release_speed']>95) & (pitch_data['pitch_name']=='Sinker')]\n",
    "pitcher_95"
   ]
  },
  {
   "cell_type": "markdown",
   "id": "4e2d0a20-8473-4fb7-95f7-3846f7dda996",
   "metadata": {},
   "source": [
    "### Challenges - 1:\n",
    "\n",
    "See if you can use the methods here, and what you've learned in the previous notebook, to tackle these challenges ([hint](https://www.geeksforgeeks.org/pandas-groupby-one-column-and-get-mean-min-and-max-values/)):\n",
    "1. Which pitcher throws, on average, the fastest?\n",
    "1. Which pitcher threw the hardest pitch in the dataset?\n",
    "1. What is the highest average velocity for each pitch?  "
   ]
  },
  {
   "cell_type": "markdown",
   "id": "06dd5783-2f43-4250-87fd-04663dd644c1",
   "metadata": {},
   "source": [
    "We can also return multiple columns when grouping:"
   ]
  },
  {
   "cell_type": "code",
   "execution_count": null,
   "id": "93ba340b-d7ed-4fc8-a9fd-fda9da545d47",
   "metadata": {},
   "outputs": [],
   "source": [
    "pitch_data.groupby(by=['player_name', 'pitch_name'])[['release_speed', 'release_spin_rate']].mean()"
   ]
  },
  {
   "cell_type": "markdown",
   "id": "d20f0710-8ccc-4340-b187-abcdeba2f8fc",
   "metadata": {},
   "source": [
    "## Batting\n",
    "\n",
    "<img src=https://upload.wikimedia.org/wikipedia/commons/thumb/e/ee/Mookie_Betts_hitting_the_ball_%2836478781664%29.jpg/2560px-Mookie_Betts_hitting_the_ball_%2836478781664%29.jpg width=400>\n",
    "<p>\n",
    "<a href='https://en.wikipedia.org/wiki/Baseball'>https://en.wikipedia.org/wiki/Baseball </a>\n",
    "</p>\n",
    "\n",
    "Up until now we've only looked at data that focuses on the pitches, which is (unsurprisingly) mostly related to the pitcher. Though we can also access data explicitly on the hitters (see the end of this notebook for details on how), there's some hitter data available in what we already have. But first, we have to do some data cleaning.\n",
    "\n",
    "In our original dataset, the column `batter` contains a number that uniquely corresponds to each batter. That's helpful in keeping them apart, but not very helpful in identifying *who* each batter is. For that, we use the below code from the `pybaseball` library.\n",
    "\n",
    "First, we're going to take the entire `batter` column, pass it to the `playerid_reverse_lookup` function, and extract just the names that are returned:"
   ]
  },
  {
   "cell_type": "code",
   "execution_count": null,
   "id": "f487721b-0fd6-448f-a69a-cfd7e05ed690",
   "metadata": {},
   "outputs": [],
   "source": [
    "batter_names = pbb.playerid_reverse_lookup(pitch_data['batter'])[['name_last', 'name_first']]\n",
    "batter_names"
   ]
  },
  {
   "cell_type": "markdown",
   "id": "159f59ae-f93a-4bc7-86d7-93453ed1605e",
   "metadata": {},
   "source": [
    "For consistency, we can take these two columns, merge them into one, and format the names so they match the style of the pitcher names ('Lastname, Firstname').\n",
    "\n",
    "Let's capitalize the names in each column individually:"
   ]
  },
  {
   "cell_type": "code",
   "execution_count": null,
   "id": "7dece847-de1f-473c-a045-c3c0d864d033",
   "metadata": {},
   "outputs": [],
   "source": [
    "batter_names['name_last'] = batter_names['name_last'].str.title()\n",
    "batter_names['name_first'] = batter_names['name_first'].str.title()\n",
    "batter_names"
   ]
  },
  {
   "cell_type": "markdown",
   "id": "9c0eb934-3f86-4fed-b7fc-589555147375",
   "metadata": {},
   "source": [
    "Now we can join ('con**cat**enate') the two names with a comma (and space), and create a new, single column:"
   ]
  },
  {
   "cell_type": "code",
   "execution_count": null,
   "id": "bdba97d5-ebd5-4cc5-a98e-26b97d8edb67",
   "metadata": {},
   "outputs": [],
   "source": [
    "batter_names_comb = batter_names['name_last'].str.cat(batter_names['name_first'], sep=', ')\n",
    "batter_names_comb"
   ]
  },
  {
   "cell_type": "markdown",
   "id": "23eae2fa-472a-4c02-a0f2-06d33c625ca1",
   "metadata": {},
   "source": [
    "Because the function to retrieve player names from IDs ignores duplicates (but retains order), we need to do the same with our IDs:"
   ]
  },
  {
   "cell_type": "code",
   "execution_count": null,
   "id": "187de102-cd3d-4e5e-8a6f-d284af41eb59",
   "metadata": {},
   "outputs": [],
   "source": [
    "ids = pitch_data['batter'].drop_duplicates().to_list()\n",
    "ids[:5] # Only showing the first five entries"
   ]
  },
  {
   "cell_type": "markdown",
   "id": "adc99214-fd73-4f67-8a53-8400f6e589d4",
   "metadata": {},
   "source": [
    "Then we can combine them to create a mapping function:"
   ]
  },
  {
   "cell_type": "code",
   "execution_count": null,
   "id": "1ef1d488-7956-46da-9164-8a26855455b7",
   "metadata": {},
   "outputs": [],
   "source": [
    "mapper = {ids[i]: batter_names_comb[i] for i in range(len(ids))} # Create a dictionary with key:value pairs of IDs and player names"
   ]
  },
  {
   "cell_type": "markdown",
   "id": "3b89d57d-5256-4277-a5ac-893d55255da4",
   "metadata": {},
   "source": [
    "Finally, use this mapping dictionary to overwrite the IDs for batter with the names. The `map` function will look for values in the **key** of each dictionary entry, and replace it with its corresponding **value**:"
   ]
  },
  {
   "cell_type": "code",
   "execution_count": null,
   "id": "dc34b984-3aeb-4da9-94d4-6bb321949cd2",
   "metadata": {},
   "outputs": [],
   "source": [
    "pitch_data['batter'] = pitch_data['batter'].map(mapper)\n",
    "pitch_data"
   ]
  },
  {
   "cell_type": "markdown",
   "id": "a4facc79-ca8c-4c9a-98df-ca84b1e6b546",
   "metadata": {},
   "source": [
    "### Challenges - 2:\n",
    "\n",
    "With the addition of batter names, see if you can tackle the next set of challenges:\n",
    "\n",
    "1. Which batter has the highest average launch angle?\n",
    "1. Only one batter has hit *two* balls over 425 feet. Who is it? (hint: use `hit_distance_sc`)\n",
    "1. Plot a scatterplot with launch angle and hit distance. Approximately what launch angle (or range of angles) leads to the longest hits?  \n",
    "    1. What can you say about negative launch angles?"
   ]
  },
  {
   "cell_type": "markdown",
   "id": "92bad24f-ccc4-4ac2-bf33-14c7dc226e85",
   "metadata": {},
   "source": [
    "## Visualizing\n",
    "\n",
    "<img src=https://perceptionaction.com/wp-content/uploads/2016/03/BattingFig-basic-2.jpg width=400>\n",
    "<p>\n",
    "<a href='https://perceptionaction.com/battinghand/'>https://perceptionaction.com/battinghand/ </a>\n",
    "</p>\n",
    "\n",
    "\n",
    "One of the most unique (and polarizing) aspects of the game of baseball is the **strike zone**. [Under the current rules of baseball](https://www.mlb.com/glossary/rules/strike-zone), the pitch must cross the plate within a rectangle which has an upper boundary defined by the midpoints between a batter's shoulders and top of their pants, with a lower boundary defined by a point just below the kneecap. The width of the strike zone is the same as the width of home plate, or 17 inches.\n",
    "\n",
    "We can plot the pitches as they cross the plate below, and colour the points differently based on the handedness of the pitcher:"
   ]
  },
  {
   "cell_type": "code",
   "execution_count": null,
   "id": "88315c57-b7f2-4729-be34-32d26798e85c",
   "metadata": {},
   "outputs": [],
   "source": [
    "fig1 = px.scatter(data_frame=pitch_data,x='plate_x', y='plate_z', color='p_throws', opacity=0.4,\n",
    "                  title='Pitched ball location (all balls)',\n",
    "                  labels={'plate_x':\"Horizontal position (feet)\", \n",
    "                          \"plate_z\":\"Height (feet)\", \n",
    "                          'p_throws':'Pitcher throws'},\n",
    "                          height=800, width=800)\n",
    "fig1.add_shape(type='rect', x0=-0.708, x1=0.708, y0=pitch_data['sz_bot'].mean(), y1=pitch_data['sz_top'].mean())\n",
    "fig1.update_yaxes(scaleanchor='x', scaleratio=1)"
   ]
  },
  {
   "cell_type": "markdown",
   "id": "87b8e3be-b588-4cc2-a5c5-ab74489fbf09",
   "metadata": {},
   "source": [
    "We can use the same techniques as previously to filter our dataframes to nail down the specific information we want to look at. Use the code cell and resulting visualization below to answer the next set of questions:\n",
    "\n",
    "### Challenges - 3:\n",
    "\n",
    "1. For a left-handed pitcher and a right-handed batter, what part of the strike zone does a slider most often cross the plate in?  \n",
    "    1. The dataset has a variable `zone` that breaks down the strike zone [into numbered areas](https://baseballsavant.mlb.com/site-core/images/attack-zone.png). Can you use this to find the result *without* visualization?\n",
    "1. How many pitches over 100mph are strikes (either called or whiffs)?  \n",
    "    1. How many are in the strike zone?\n",
    "1. (Difficult) In which direction outside the strike zone are Toronto Blue Jays batters most likely to either barrel the ball or make solid contact?  \n",
    "    - Hint: the home team always bats in the bottom of the inning"
   ]
  },
  {
   "cell_type": "code",
   "execution_count": null,
   "id": "1016f5c0-adc5-44e7-a3e2-57182b44dd91",
   "metadata": {},
   "outputs": [],
   "source": [
    "# Use this variable to filter the dataframe\n",
    "df = pitch_data\n",
    "\n",
    "# Use this variable to show a colour difference in the column values\n",
    "color='type'\n",
    "\n",
    "fig1 = px.scatter(data_frame=df, x='plate_x', y='plate_z', color=color, opacity=0.3, # change the opacity (between 0 and 1) if the points overlap too much\n",
    "                  title='Pitched ball location',\n",
    "                  labels={'plate_x':\"Horizontal position (feet)\", \n",
    "                          \"plate_z\":\"Height (feet)\", \n",
    "                          'p_throws':'Pitcher throws',\n",
    "                          'stand':'Batter handedness',\n",
    "                          'type':'Result',\n",
    "                          'launch_speed':'Launch speed',\n",
    "                          'launch_speed_angle':'Launch angle code'},\n",
    "                          height=800, width=800)\n",
    "fig1.add_shape(type='rect', x0=-0.708, x1=0.708, y0=pitch_data['sz_bot'].mean(), y1=pitch_data['sz_top'].mean())\n",
    "fig1.update_yaxes(scaleanchor='x', scaleratio=1)"
   ]
  },
  {
   "cell_type": "markdown",
   "id": "dd626d66-0123-41cf-b466-ad3cb5028100",
   "metadata": {},
   "source": [
    "## Exploring\n",
    "\n",
    "For most of this notebook, we've used data that we supplied ourselves as downloadable from the Callysto GitHub page. If you want to do your own analysis of baseball data, one of the best repositories is *[pybaseball](https://github.com/jldbc/pybaseball/tree/master/docs)*. If you're not used to GitHub, the webpage linked there can be difficult to explore, so here are a few functions you might want to use:\n",
    "\n",
    "- [playerid_lookup(last, first=None, fuzzy=False)](https://github.com/jldbc/pybaseball/blob/master/docs/playerid_lookup.md): Look up player ID using the player name by passing their last name, first name (optional), or return inexact matches (by setting `fuzzy=True`)\n",
    "- [batting_stats(start_season, end_season=None, league='all', qual=1, ind=1)](https://github.com/jldbc/pybaseball/blob/master/docs/batting_stats.md): Season-level batting stats for all players, allowing you to set a minimum number of plate appearances (`qual`)\n",
    "- [pitching_stats(start_season, end_season=None, league='all', qual=1, ind=1)](https://github.com/jldbc/pybaseball/blob/master/docs/pitching_stats.md): Season-level pitching stats (same arguments as above)\n",
    "- [statcast(start_dt=[yesterday's date], end_dt=None, team=None, verbose=True, parallel=True)](https://github.com/jldbc/pybaseball/blob/master/docs/statcast.md): Lookup Statcast data for any date or range of dates. This is the function we used to initially pull the data for these notebooks\n",
    "\n",
    "\n",
    "\n",
    "\n",
    "We've already imported the library into this notebook as *pbb* (i.e. `pbb.playerid_lookup`), so feel free to make new cells and play around with the data and your newfound skills!\n",
    "\n",
    "Have fun!"
   ]
  },
  {
   "cell_type": "markdown",
   "id": "26fa3c49-5488-4a97-b3c1-bb9334065174",
   "metadata": {},
   "source": [
    "## Hackathon Reflections\n",
    "\n",
    "Write about some or all of the following questions:\n",
    "\n",
    "- What is something you learned through this process?\n",
    "- How well did your group work together? Why do you think that is?\n",
    "- What were some of the hardest parts?\n",
    "- What are you proud of? What would you like to show others?\n",
    "- Are you curious about anything else related to this? Did anything surprise you?\n",
    "- How can you apply your learning to future activities?"
   ]
  },
  {
   "cell_type": "markdown",
   "id": "01da2518-51b6-46bc-809a-31b1e3023c84",
   "metadata": {},
   "source": [
    "[![Callysto.ca License](https://github.com/callysto/curriculum-notebooks/blob/master/callysto-notebook-banner-bottom.jpg?raw=true)](https://github.com/callysto/curriculum-notebooks/blob/master/LICENSE.md)"
   ]
  }
 ],
 "metadata": {
  "kernelspec": {
   "display_name": "Python 3 (ipykernel)",
   "language": "python",
   "name": "python3"
  },
  "language_info": {
   "codemirror_mode": {
    "name": "ipython",
    "version": 3
   },
   "file_extension": ".py",
   "mimetype": "text/x-python",
   "name": "python",
   "nbconvert_exporter": "python",
   "pygments_lexer": "ipython3",
   "version": "3.10.8"
  },
  "vscode": {
   "interpreter": {
    "hash": "d1ca6d17674200220921376aaeb3d36cffe15ecab2470a9a5e7a456cdbf61425"
   }
  }
 },
 "nbformat": 4,
 "nbformat_minor": 5
}
