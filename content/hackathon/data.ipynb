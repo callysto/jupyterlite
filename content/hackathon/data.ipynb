{
 "cells": [
  {
   "cell_type": "markdown",
   "metadata": {},
   "source": [
    "![Callysto.ca Banner](https://github.com/callysto/curriculum-notebooks/blob/master/callysto-notebook-banner-top.jpg?raw=true)"
   ]
  },
  {
   "cell_type": "markdown",
   "metadata": {},
   "source": [
    "# Data Science Hackathon\n",
    "\n",
    "As our world becomes increasingly data-driven, the ability to analyze, visualize, and draw insights from large and complex datasets is becoming an essential skill. Data science can provide you with the tools to make better decisions and solve complex problems.\n",
    "\n",
    "Click on the cell below, then click the Run button above to import and display a dataframe about *hypothetical* pets for adoption from our friends at [Bootstrap](https://www.bootstrapworld.org/materials/data-science)."
   ]
  },
  {
   "cell_type": "code",
   "execution_count": null,
   "metadata": {
    "scrolled": true
   },
   "outputs": [],
   "source": [
    "import pandas as pd\n",
    "import pyodide\n",
    "pets = pd.read_csv(pyodide.http.open_url('https://raw.githubusercontent.com/callysto/hackathon/master/PrepMaterials/pets.csv'))\n",
    "pets"
   ]
  },
  {
   "cell_type": "markdown",
   "metadata": {},
   "source": [
    "To create visualizations, we will use [Plotly Express](https://plotly.com/python/plotly-express). Click on the cell below then click Run to display a `bar` graph."
   ]
  },
  {
   "cell_type": "code",
   "execution_count": null,
   "metadata": {},
   "outputs": [],
   "source": [
    "import piplite\n",
    "await piplite.install(['nbformat','plotly','statsmodels'])\n",
    "import plotly.express as px\n",
    "px.bar(pets, x='Name', y='Age (years)', title='Pets Ages')"
   ]
  },
  {
   "cell_type": "markdown",
   "metadata": {},
   "source": [
    "## Beginner Challenges\n",
    "\n",
    "Each of these challenges is worth 2 points, and uses the `pets` dataframe."
   ]
  },
  {
   "cell_type": "markdown",
   "metadata": {},
   "source": [
    "1. Make a bar graph with `Name` on the x-axis and `Legs` on the y-axis."
   ]
  },
  {
   "cell_type": "code",
   "execution_count": null,
   "metadata": {},
   "outputs": [],
   "source": []
  },
  {
   "cell_type": "markdown",
   "metadata": {},
   "source": [
    "2. Make a bar graph using the following code.\n",
    "```\n",
    "x='Species', y='Age (years)', color='Gender'\n",
    "```"
   ]
  },
  {
   "cell_type": "code",
   "execution_count": null,
   "metadata": {},
   "outputs": [],
   "source": []
  },
  {
   "cell_type": "markdown",
   "metadata": {},
   "source": [
    "3. Recreate the previous bar graph, but add the following code.\n",
    "```\n",
    ", barmode='group'\n",
    "```"
   ]
  },
  {
   "cell_type": "code",
   "execution_count": null,
   "metadata": {},
   "outputs": [],
   "source": []
  },
  {
   "cell_type": "markdown",
   "metadata": {},
   "source": [
    "4. Make a line graph by changing `bar` to `line` from the example below.\n",
    "```\n",
    "px.bar(pets, x='Name', y='Age (years)', title='Pets Ages')\n",
    "```"
   ]
  },
  {
   "cell_type": "code",
   "execution_count": null,
   "metadata": {},
   "outputs": [],
   "source": []
  },
  {
   "cell_type": "markdown",
   "metadata": {},
   "source": [
    "5. Make a scatter plot with the code below.\n",
    "```\n",
    "px.scatter(pets, x='Name', y='Age (years)')\n",
    "```"
   ]
  },
  {
   "cell_type": "code",
   "execution_count": null,
   "metadata": {},
   "outputs": [],
   "source": []
  },
  {
   "cell_type": "markdown",
   "metadata": {},
   "source": [
    "6. Recreate the previous scatter plot, but add a title."
   ]
  },
  {
   "cell_type": "code",
   "execution_count": null,
   "metadata": {},
   "outputs": [],
   "source": []
  },
  {
   "cell_type": "markdown",
   "metadata": {},
   "source": [
    "7. Recreate the previous scatter plot and color the points by `Gender`."
   ]
  },
  {
   "cell_type": "code",
   "execution_count": null,
   "metadata": {},
   "outputs": [],
   "source": []
  },
  {
   "cell_type": "markdown",
   "metadata": {},
   "source": [
    "8. Make a scatter plot comparing `Age (years)` with `Weight (lbs)`."
   ]
  },
  {
   "cell_type": "code",
   "execution_count": null,
   "metadata": {},
   "outputs": [],
   "source": []
  },
  {
   "cell_type": "markdown",
   "metadata": {},
   "source": [
    "9. Recreate the previous scatter plot, but add.\n",
    "```\n",
    ", size='Time to Adoption (weeks)'\n",
    "```"
   ]
  },
  {
   "cell_type": "code",
   "execution_count": null,
   "metadata": {},
   "outputs": [],
   "source": []
  },
  {
   "cell_type": "markdown",
   "metadata": {},
   "source": [
    "10. Make a [histogram](https://plotly.com/python/histograms) (like a bar graph showing calculated statistics) using the following code.\n",
    "```\n",
    "px.histogram(pets, x='Species', y='Weight (lbs)', title='Total Weight by Species')\n",
    "```"
   ]
  },
  {
   "cell_type": "code",
   "execution_count": null,
   "metadata": {},
   "outputs": [],
   "source": []
  },
  {
   "cell_type": "markdown",
   "metadata": {},
   "source": [
    "11. Recreate the histogram, adding the following parameter to calculate average instead of totals.\n",
    "```\n",
    ", histfunc='avg'\n",
    "```"
   ]
  },
  {
   "cell_type": "code",
   "execution_count": null,
   "metadata": {},
   "outputs": [],
   "source": []
  },
  {
   "cell_type": "markdown",
   "metadata": {},
   "source": [
    "12. Sort the `pets` dataframe by `Age (years)` using the following code.\n",
    "```\n",
    "pets.sort_values('Age (years)')\n",
    "```"
   ]
  },
  {
   "cell_type": "code",
   "execution_count": null,
   "metadata": {},
   "outputs": [],
   "source": []
  },
  {
   "cell_type": "markdown",
   "metadata": {},
   "source": [
    "13. Sort the `pets` dataframe by age in descending order by adding the following.\n",
    "```\n",
    ", ascending=False\n",
    "```"
   ]
  },
  {
   "cell_type": "code",
   "execution_count": null,
   "metadata": {},
   "outputs": [],
   "source": []
  },
  {
   "cell_type": "markdown",
   "metadata": {},
   "source": [
    "14. Make a bar graph of the sorted dataframe by replacing `pets`from one of the bar graph examples with `pets.sort_values('Age (years)')`."
   ]
  },
  {
   "cell_type": "code",
   "execution_count": null,
   "metadata": {},
   "outputs": [],
   "source": []
  },
  {
   "cell_type": "markdown",
   "metadata": {},
   "source": [
    "15. Display just one column of the dataframe using the following.\n",
    "```\n",
    "pets['Species']\n",
    "```"
   ]
  },
  {
   "cell_type": "code",
   "execution_count": null,
   "metadata": {},
   "outputs": [],
   "source": []
  },
  {
   "cell_type": "markdown",
   "metadata": {},
   "source": [
    "17. Display just the dogs using the following.\n",
    "```\n",
    "pets[pets['Species']=='dog']\n",
    "```"
   ]
  },
  {
   "cell_type": "code",
   "execution_count": null,
   "metadata": {},
   "outputs": [],
   "source": []
  },
  {
   "cell_type": "markdown",
   "metadata": {},
   "source": [
    "18. Display all the animals that are not dogs by changing the `==` to `!=` from the code above."
   ]
  },
  {
   "cell_type": "code",
   "execution_count": null,
   "metadata": {},
   "outputs": [],
   "source": []
  },
  {
   "cell_type": "markdown",
   "metadata": {},
   "source": [
    "19. Filter the `pets` dataframe to show just cats and dogs, using the following.\n",
    "```\n",
    "pets[pets['Species'].isin(['cat', 'dog'])]\n",
    "```"
   ]
  },
  {
   "cell_type": "code",
   "execution_count": null,
   "metadata": {},
   "outputs": [],
   "source": []
  },
  {
   "cell_type": "markdown",
   "metadata": {},
   "source": [
    "20. Create a pie chart of the grouped data using the following.\n",
    "```\n",
    "species_counts = pets.groupby('Species').size()\n",
    "px.pie(values=species_counts, names=species_counts.index)\n",
    "```"
   ]
  },
  {
   "cell_type": "code",
   "execution_count": null,
   "metadata": {},
   "outputs": [],
   "source": []
  },
  {
   "cell_type": "markdown",
   "metadata": {},
   "source": [
    "21. Recreate the previous pie chart and add a title."
   ]
  },
  {
   "cell_type": "code",
   "execution_count": null,
   "metadata": {},
   "outputs": [],
   "source": []
  },
  {
   "cell_type": "markdown",
   "metadata": {},
   "source": [
    "22. Find the average ([mean](https://simple.wikipedia.org/wiki/Mean)) of a column with the following.\n",
    "```\n",
    "pets['Age (years)'].mean()\n",
    "```"
   ]
  },
  {
   "cell_type": "code",
   "execution_count": null,
   "metadata": {},
   "outputs": [],
   "source": []
  },
  {
   "cell_type": "markdown",
   "metadata": {},
   "source": [
    "23. Find the [median](https://simple.wikipedia.org/wiki/Median) value of a different column."
   ]
  },
  {
   "cell_type": "code",
   "execution_count": null,
   "metadata": {},
   "outputs": [],
   "source": []
  },
  {
   "cell_type": "markdown",
   "metadata": {},
   "source": [
    "24. Create a new column in the dataframe that is kg instead of pounds using the following.\n",
    "```\n",
    "pets['Mass (kg)'] = pets['Weight (lbs)'] / 2.205\n",
    "```"
   ]
  },
  {
   "cell_type": "code",
   "execution_count": null,
   "metadata": {},
   "outputs": [],
   "source": []
  },
  {
   "cell_type": "markdown",
   "metadata": {},
   "source": [
    "25. Create a new column that is `Time to Adoption (days)` from the column `Time to Adoption (weeks)`."
   ]
  },
  {
   "cell_type": "code",
   "execution_count": null,
   "metadata": {},
   "outputs": [],
   "source": []
  },
  {
   "cell_type": "markdown",
   "metadata": {},
   "source": [
    "26. Group the data by `'Species'` and find the mean values using the following.\n",
    "```\n",
    "pets.groupby('Species').mean(numeric_only=True)\n",
    "```"
   ]
  },
  {
   "cell_type": "code",
   "execution_count": null,
   "metadata": {},
   "outputs": [],
   "source": []
  },
  {
   "cell_type": "markdown",
   "metadata": {},
   "source": [
    "27. Group the data by `'Fixed'` and print the `.max`, `.min`, and `.sum` values. You will need to something like the following.\n",
    "```\n",
    "print(pets.groupby('Species').sum(numeric_only=True))\n",
    "```"
   ]
  },
  {
   "cell_type": "code",
   "execution_count": null,
   "metadata": {},
   "outputs": [],
   "source": []
  },
  {
   "cell_type": "markdown",
   "metadata": {},
   "source": [
    "28. Make an interactive [sunburst chart](https://plotly.com/python/sunburst-charts) using the following.\n",
    "```\n",
    "px.sunburst(pets, path=['Species', 'Gender', 'Fixed'], values='Age (years)', title='Pets Ages by Species, Gender, and Fixed')\n",
    "```"
   ]
  },
  {
   "cell_type": "code",
   "execution_count": null,
   "metadata": {},
   "outputs": [],
   "source": []
  },
  {
   "cell_type": "markdown",
   "metadata": {},
   "source": [
    "29. Display the row of the heaviest pet using the following.\n",
    "```\n",
    "pets.sort_values('Mass (kg)').head(1)\n",
    "```\n",
    "You may also need `, ascending=False`"
   ]
  },
  {
   "cell_type": "code",
   "execution_count": null,
   "metadata": {},
   "outputs": [],
   "source": []
  },
  {
   "cell_type": "markdown",
   "metadata": {},
   "source": [
    "30. Display the row of the pet that took the longest to get adopted."
   ]
  },
  {
   "cell_type": "code",
   "execution_count": null,
   "metadata": {},
   "outputs": [],
   "source": []
  },
  {
   "cell_type": "markdown",
   "metadata": {},
   "source": [
    "## Intermediate Challenges\n",
    "\n",
    "Each of these challenges is worth 5 points, and uses a large data set about [Pokémon](https://en.wikipedia.org/wiki/Pok%C3%A9mon) from [PokéAPI](https://pokeapi.co)."
   ]
  },
  {
   "cell_type": "markdown",
   "metadata": {},
   "source": [
    "1. Import and display the Pokémon data using the following.\n",
    "```\n",
    "pokemon = pd.read_csv(pyodide.http.open_url('https://raw.githubusercontent.com/callysto/data-files/main/data-science-and-artificial-intelligence/pokemon.csv'))\n",
    "display(pokemon)\n",
    "```"
   ]
  },
  {
   "cell_type": "code",
   "execution_count": null,
   "metadata": {},
   "outputs": [],
   "source": []
  },
  {
   "cell_type": "markdown",
   "metadata": {},
   "source": [
    "2. Display the column labels and descriptions using the following.\n",
    "```\n",
    "pokemon_labels = pd.read_csv(pyodide.http.open_url('https://raw.githubusercontent.com/callysto/data-files/main/data-science-and-artificial-intelligence/pokemon_columns.csv'))\n",
    "pd.set_option('display.min_rows', 50)\n",
    "display(pokemon_labels)\n",
    "pd.reset_option('display.min_rows')\n",
    "```"
   ]
  },
  {
   "cell_type": "code",
   "execution_count": null,
   "metadata": {},
   "outputs": [],
   "source": []
  },
  {
   "cell_type": "markdown",
   "metadata": {},
   "source": [
    "3. Display the last five rows of the data set using `.tail()` after the dataframe."
   ]
  },
  {
   "cell_type": "code",
   "execution_count": null,
   "metadata": {},
   "outputs": [],
   "source": []
  },
  {
   "cell_type": "markdown",
   "metadata": {},
   "source": [
    "4. Make a scatter plot with height on the x-axis and weight on the y-axis."
   ]
  },
  {
   "cell_type": "code",
   "execution_count": null,
   "metadata": {},
   "outputs": [],
   "source": []
  },
  {
   "cell_type": "markdown",
   "metadata": {},
   "source": [
    "5. Sort the data by weight and make a bar graph of the 10 lightest Pokémon, with name on the x-axis."
   ]
  },
  {
   "cell_type": "code",
   "execution_count": null,
   "metadata": {},
   "outputs": [],
   "source": []
  },
  {
   "cell_type": "markdown",
   "metadata": {},
   "source": [
    "6. Make a scatter plot to see if there is a correlation between attack and defense, and add `, trendline='ols'` to the plot."
   ]
  },
  {
   "cell_type": "code",
   "execution_count": null,
   "metadata": {},
   "outputs": [],
   "source": []
  },
  {
   "cell_type": "markdown",
   "metadata": {},
   "source": [
    "7. Recreate the previous scatter plot with `, color='is_legendary'` to see if there is a difference in the slopes of the trendlines."
   ]
  },
  {
   "cell_type": "code",
   "execution_count": null,
   "metadata": {},
   "outputs": [],
   "source": []
  },
  {
   "cell_type": "markdown",
   "metadata": {},
   "source": [
    "8. Make a scatter plot with a trendline to see if there is a relationship between `speed` and `base_experience`."
   ]
  },
  {
   "cell_type": "code",
   "execution_count": null,
   "metadata": {},
   "outputs": [],
   "source": []
  },
  {
   "cell_type": "markdown",
   "metadata": {},
   "source": [
    "9. Use a visualization to see if capture rate tends to decrease with speed."
   ]
  },
  {
   "cell_type": "code",
   "execution_count": null,
   "metadata": {},
   "outputs": [],
   "source": []
  },
  {
   "cell_type": "markdown",
   "metadata": {},
   "source": [
    "10. Make a histogram of total weight by shape."
   ]
  },
  {
   "cell_type": "code",
   "execution_count": null,
   "metadata": {},
   "outputs": [],
   "source": []
  },
  {
   "cell_type": "markdown",
   "metadata": {},
   "source": [
    "11. Make a histogram of the **average** attack by generation."
   ]
  },
  {
   "cell_type": "code",
   "execution_count": null,
   "metadata": {},
   "outputs": [],
   "source": []
  },
  {
   "cell_type": "markdown",
   "metadata": {},
   "source": [
    "12. Make a histogram with `x=['type1','type2']` to find out which types are most common."
   ]
  },
  {
   "cell_type": "code",
   "execution_count": null,
   "metadata": {},
   "outputs": [],
   "source": []
  },
  {
   "cell_type": "markdown",
   "metadata": {},
   "source": [
    "13. Make a histogram with `color` on the x-axis and `base_happiness` on the y-axis (and `histfunc='avg'`) to see if certain colors are happier."
   ]
  },
  {
   "cell_type": "code",
   "execution_count": null,
   "metadata": {},
   "outputs": [],
   "source": []
  },
  {
   "cell_type": "markdown",
   "metadata": {},
   "source": [
    "14. Which habitats have the most legendary Pokémon? You'll need to make a histogram with `pokemon[pokemon['is_legendary']]` and `histfunc='count'`."
   ]
  },
  {
   "cell_type": "code",
   "execution_count": null,
   "metadata": {},
   "outputs": [],
   "source": []
  },
  {
   "cell_type": "markdown",
   "metadata": {},
   "source": [
    "15. Which are the five most common `evolves_from_species`? You'll need to use `.value_counts('evolves_from_species').head(5)`."
   ]
  },
  {
   "cell_type": "code",
   "execution_count": null,
   "metadata": {},
   "outputs": [],
   "source": []
  },
  {
   "cell_type": "markdown",
   "metadata": {},
   "source": [
    "## Advanced Challenges\n",
    "\n",
    "Each of these challenges is worth 15 points, and uses a large data set about music from [Spotify](https://spotify.com).\n",
    "\n",
    "Start by loading the data set with\n",
    "```\n",
    "music = pd.read_csv(pyodide.http.open_url('https://raw.githubusercontent.com/callysto/data-files/main/hackathon/spotify-top-100-charts.csv'))\n",
    "music.columns\n",
    "```\n",
    "and the column descriptions can be viewed with\n",
    "```\n",
    "spotify_labels = pd.read_csv(pyodide.http.open_url('https://raw.githubusercontent.com/callysto/data-files/main/hackathon/spotify-column-descriptions.csv'))\n",
    "pd.set_option('display.min_rows', 20)\n",
    "display(spotify_labels)\n",
    "pd.reset_option('display.min_rows')\n",
    "```"
   ]
  },
  {
   "cell_type": "markdown",
   "metadata": {},
   "source": [
    "1. Make a scatter plot with a trendline to show a relationship between two variables (columns) in the data set."
   ]
  },
  {
   "cell_type": "code",
   "execution_count": null,
   "metadata": {},
   "outputs": [],
   "source": []
  },
  {
   "cell_type": "markdown",
   "metadata": {},
   "source": [
    "2. Make a scatter plot with two different variables, and then describe the scatter plot using words in the following markdown cell."
   ]
  },
  {
   "cell_type": "code",
   "execution_count": null,
   "metadata": {},
   "outputs": [],
   "source": []
  },
  {
   "cell_type": "markdown",
   "metadata": {},
   "source": [
    "The scatter plot..."
   ]
  },
  {
   "cell_type": "markdown",
   "metadata": {},
   "source": [
    "3. Create a `release_year` column using the code below\n",
    "```\n",
    "music['release_year'] = music['release_date'].str.split('-').str[0].astype(int)\n",
    "```\n",
    "then make a bar graph from\n",
    "```\n",
    "music.groupby('release_year').count()\n",
    "```\n",
    "with `'track'` on the y-axis."
   ]
  },
  {
   "cell_type": "code",
   "execution_count": null,
   "metadata": {},
   "outputs": [],
   "source": []
  },
  {
   "cell_type": "markdown",
   "metadata": {},
   "source": [
    "4. Use\n",
    "```\n",
    "music.sort_values('release_year')\n",
    "```\n",
    "to find a row that has an an incorrect release date in the year 1900. Then drop that row with\n",
    "```\n",
    "music = music.drop(n)\n",
    "```\n",
    "\n",
    "where `n` is the row number. Recreate the `music.groupby('release_year').count()` bar graph."
   ]
  },
  {
   "cell_type": "code",
   "execution_count": null,
   "metadata": {},
   "outputs": [],
   "source": []
  },
  {
   "cell_type": "markdown",
   "metadata": {},
   "source": [
    "5. Create a [heat map](https://plotly.com/python/heatmaps) of the [correlation matrix](https://pandas.pydata.org/pandas-docs/stable/reference/api/pandas.DataFrame.corr.html) using the code below, then choose two variables that are strongly correlated and write about why you think that might be.\n",
    "```\n",
    "px.imshow(music.corr(numeric_only=True), height=600, title='Correlations in Spotify Data')\n",
    "```"
   ]
  },
  {
   "cell_type": "code",
   "execution_count": null,
   "metadata": {},
   "outputs": [],
   "source": []
  },
  {
   "cell_type": "markdown",
   "metadata": {},
   "source": [
    "I think these variables are strongly correlated because..."
   ]
  },
  {
   "cell_type": "markdown",
   "metadata": {},
   "source": [
    "6. Use a `for` loop to display multiple graphs, like in the code example below\n",
    "```\n",
    "for variable in ['danceability', 'energy', 'loudness']:\n",
    "    px.scatter(music, x='tempo', y=variable, trendline='ols', title=f'{variable} versus Tempo').show()\n",
    "```\n",
    "Then write about what you observe in the graphs."
   ]
  },
  {
   "cell_type": "code",
   "execution_count": null,
   "metadata": {},
   "outputs": [],
   "source": []
  },
  {
   "cell_type": "markdown",
   "metadata": {},
   "source": [
    "In the graphs..."
   ]
  },
  {
   "cell_type": "markdown",
   "metadata": {},
   "source": [
    "7. Identify some [outliers](https://en.wikipedia.org/wiki/Outlier) in the data set."
   ]
  },
  {
   "cell_type": "code",
   "execution_count": null,
   "metadata": {},
   "outputs": [],
   "source": []
  },
  {
   "cell_type": "markdown",
   "metadata": {},
   "source": [
    "Some outliers..."
   ]
  },
  {
   "cell_type": "markdown",
   "metadata": {},
   "source": [
    "8. Create a graph to see if song duration has changed over time in this data set. Remember to include a trendline."
   ]
  },
  {
   "cell_type": "code",
   "execution_count": null,
   "metadata": {},
   "outputs": [],
   "source": []
  },
  {
   "cell_type": "markdown",
   "metadata": {},
   "source": [
    "Over time the song duration has..."
   ]
  },
  {
   "cell_type": "markdown",
   "metadata": {},
   "source": [
    "9. Are there any features that are common to really long, or really short, songs?"
   ]
  },
  {
   "cell_type": "code",
   "execution_count": null,
   "metadata": {},
   "outputs": [],
   "source": []
  },
  {
   "cell_type": "markdown",
   "metadata": {},
   "source": [
    "10. How many artists have multiple tracks in the data set?"
   ]
  },
  {
   "cell_type": "code",
   "execution_count": null,
   "metadata": {},
   "outputs": [],
   "source": []
  },
  {
   "cell_type": "markdown",
   "metadata": {},
   "source": [
    "In the data set..."
   ]
  },
  {
   "cell_type": "markdown",
   "metadata": {},
   "source": [
    "11. Create a new `'release_decade'` column with\n",
    "```\n",
    "music['release_decade'] = music['release_year'] // 10 * 10\n",
    "```\n",
    "then create a graph to compare the mean (or min) energy grouped by release_decade."
   ]
  },
  {
   "cell_type": "code",
   "execution_count": null,
   "metadata": {},
   "outputs": [],
   "source": []
  },
  {
   "cell_type": "markdown",
   "metadata": {},
   "source": [
    "12. Make and describe a new visualization (graph)."
   ]
  },
  {
   "cell_type": "code",
   "execution_count": null,
   "metadata": {},
   "outputs": [],
   "source": []
  },
  {
   "cell_type": "markdown",
   "metadata": {},
   "source": [
    "The visualization..."
   ]
  },
  {
   "cell_type": "markdown",
   "metadata": {},
   "source": [
    "13. Analyse data from the [Billions Club](https://open.spotify.com/playlist/37i9dQZF1DX7iB3RCnBnN4) playlist by importing `https://raw.githubusercontent.com/callysto/data-files/main/hackathon/spotify-billions-club.csv`"
   ]
  },
  {
   "cell_type": "code",
   "execution_count": null,
   "metadata": {},
   "outputs": [],
   "source": []
  },
  {
   "cell_type": "markdown",
   "metadata": {},
   "source": [
    "The \"Billions Club\" playlist..."
   ]
  },
  {
   "cell_type": "markdown",
   "metadata": {},
   "source": [
    "The Spotify Web API allows us to get information about songs, albums, and artists. If you want to retireve more data and have a [Spotify account](https://www.spotify.com/us/signup), you can sign in to the [Developers Dashboard](https://developer.spotify.com/dashboard/login). From the Dashboard, you can click the `CREATE AN APP` button, type a name and description, and then click `CREATE`. Clicking on your new app in the Dashboard will show you the `Client ID` and `CLIENT SECRET` that you can paste into the code cell below."
   ]
  },
  {
   "cell_type": "code",
   "execution_count": null,
   "metadata": {},
   "outputs": [],
   "source": [
    "CLIENT_ID = 'PASTE_YOUR_CLIENT_ID_HERE'\n",
    "CLIENT_SECRET = 'PASTE_YOUR_CLIENT_SECRET_HERE'\n",
    "\n",
    "import requests\n",
    "try:\n",
    "    auth_response = requests.post('https://accounts.spotify.com/api/token', {'grant_type':'client_credentials', 'client_id':CLIENT_ID, 'client_secret':CLIENT_SECRET})\n",
    "    auth_response_data = auth_response.json()\n",
    "    access_token = auth_response_data['access_token']\n",
    "    headers = {'Authorization':'Bearer {token}'.format(token=access_token)}\n",
    "    print('Spotify API setup complete')\n",
    "except:\n",
    "    print('Remember to paste your client ID and secret into the code')\n",
    "\n",
    "def find_tracks(search_string):\n",
    "    try:\n",
    "        r = requests.get('https://api.spotify.com/v1/search?q=' + search_string + '&type=track', headers=headers)\n",
    "        info = r.json()\n",
    "    except:\n",
    "        print('Error with search string:', search_string)\n",
    "        info = None\n",
    "    return info\n",
    "\n",
    "def get_track_info(track_id):\n",
    "    try:\n",
    "        r = requests.get('https://api.spotify.com/v1/tracks/' + track_id, headers=headers)\n",
    "        info = r.json()\n",
    "    except:\n",
    "        print('Error with track id:', track_id)\n",
    "        info = None\n",
    "    return info\n",
    "\n",
    "def get_track_features(track_id):\n",
    "    try:\n",
    "        r = requests.get('https://api.spotify.com/v1/audio-features/' + track_id, headers=headers)\n",
    "        info = r.json()\n",
    "    except:\n",
    "        print('Error with track id:', track_id)\n",
    "        info = None\n",
    "    return info"
   ]
  },
  {
   "cell_type": "markdown",
   "metadata": {},
   "source": [
    "14. Get a data set from playlist, either one you created or someone else's playlist. You need the playlist ID [from the playlist link](https://clients.caster.fm/knowledgebase/110/How-to-find-Spotify-playlist-ID.html)."
   ]
  },
  {
   "cell_type": "code",
   "execution_count": null,
   "metadata": {},
   "outputs": [],
   "source": [
    "playlist_id = '37i9dQZF1DX7iB3RCnBnN4'\n",
    "\n",
    "print('This may take a couple of minutes')\n",
    "tracks = []\n",
    "for x in range(50):  \n",
    "    offset = x*100  # it only returns 100 tracks at a time\n",
    "    try:\n",
    "        r = requests.get('https://api.spotify.com/v1/playlists/' + playlist_id + '/tracks?offset=' + str(offset), headers=headers)\n",
    "        for item in r.json()['items']:\n",
    "            tracks.append([item['track']['artists'][0]['name'], item['track']['name'], item['track']['id'], item['track']['album']['release_date']])\n",
    "    except:\n",
    "        print(offset)\n",
    "        break\n",
    "pl = pd.DataFrame(tracks, columns=['artist', 'track', 'id', 'release_date'])\n",
    "\n",
    "track_features = {}\n",
    "for row in pl.itertuples():\n",
    "    print(row[1], row[2]) # artist and track\n",
    "    id = row[3]\n",
    "    features = get_track_features(id)\n",
    "    track_features[id] = features\n",
    "\n",
    "from IPython.display import clear_output\n",
    "clear_output()\n",
    "\n",
    "tf = pd.DataFrame(track_features).T\n",
    "playlist = pd.merge(pl, tf, on='id')\n",
    "playlist"
   ]
  },
  {
   "cell_type": "markdown",
   "metadata": {},
   "source": [
    "15. Create an interesting visualization using the data you have just retrieved from a playlist."
   ]
  },
  {
   "cell_type": "code",
   "execution_count": null,
   "metadata": {},
   "outputs": [],
   "source": []
  },
  {
   "cell_type": "markdown",
   "metadata": {},
   "source": [
    "[![Callysto.ca License](https://github.com/callysto/curriculum-notebooks/blob/master/callysto-notebook-banner-bottom.jpg?raw=true)](https://github.com/callysto/curriculum-notebooks/blob/master/LICENSE.md)"
   ]
  }
 ],
 "metadata": {
  "kernelspec": {
   "display_name": "Python 3.8.10 64-bit",
   "language": "python",
   "name": "python3"
  },
  "language_info": {
   "codemirror_mode": {
    "name": "ipython",
    "version": 3
   },
   "file_extension": ".py",
   "mimetype": "text/x-python",
   "name": "python",
   "nbconvert_exporter": "python",
   "pygments_lexer": "ipython3",
   "version": "3.10.12"
  },
  "latex_envs": {
   "LaTeX_envs_menu_present": true,
   "autoclose": false,
   "autocomplete": true,
   "bibliofile": "biblio.bib",
   "cite_by": "apalike",
   "current_citInitial": 1,
   "eqLabelWithNumbers": true,
   "eqNumInitial": 1,
   "hotkeys": {
    "equation": "Ctrl-E",
    "itemize": "Ctrl-I"
   },
   "labels_anchors": false,
   "latex_user_defs": false,
   "report_style_numbering": false,
   "user_envs_cfg": false
  },
  "nbTranslate": {
   "displayLangs": [
    "*"
   ],
   "hotkey": "alt-t",
   "langInMainMenu": true,
   "sourceLang": "en",
   "targetLang": "fr",
   "useGoogleTranslate": true
  },
  "vscode": {
   "interpreter": {
    "hash": "916dbcbb3f70747c44a77c7bcd40155683ae19c65e1c03b4aa3499c5328201f1"
   }
  }
 },
 "nbformat": 4,
 "nbformat_minor": 2
}
