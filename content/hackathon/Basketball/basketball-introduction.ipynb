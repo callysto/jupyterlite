{
 "cells": [
  {
   "attachments": {},
   "cell_type": "markdown",
   "id": "af21ba5e-3705-486b-8f1a-ce2c2d69e35c",
   "metadata": {},
   "source": [
    "![Callysto.ca Banner](https://github.com/callysto/curriculum-notebooks/blob/master/callysto-notebook-banner-top.jpg?raw=true)"
   ]
  },
  {
   "attachments": {},
   "cell_type": "markdown",
   "id": "05644c8a-37ef-457f-8b45-825b0f3ed8df",
   "metadata": {},
   "source": [
    "# Basketball\n",
    "\n",
    "<img src=https://upload.wikimedia.org/wikipedia/commons/1/10/Basketball_through_hoop.jpg width=600>\n",
    "<p>\n",
    "<a href='https://en.wikipedia.org/wiki/Basketball#/media/File:Basketball_through_hoop.jpg'>Basketball falling through hoop</a>\n",
    "\n",
    "We are going to look at NBA shot data using the [nba_api](https://github.com/swar/nba_api) code library.\n",
    "\n",
    "To start, we will get data for the LA Lakers for the last two seasons and store it in a dataframe called `shots`."
   ]
  },
  {
   "cell_type": "code",
   "execution_count": null,
   "id": "8f3e9f95",
   "metadata": {},
   "outputs": [],
   "source": [
    "%pip install -q pyodide_http plotly nba_api nbformat\n",
    "import pyodide_http\n",
    "pyodide_http.patch_all()\n",
    "\n",
    "team_name = 'Lakers'\n",
    "seasons = ['2021-22', '2022-23']\n",
    "\n",
    "from nba_api.stats.static import teams\n",
    "from nba_api.stats.endpoints import shotchartdetail\n",
    "import pandas as pd\n",
    "\n",
    "team = teams.find_teams_by_full_name(team_name)[0]\n",
    "team_id = team['id']\n",
    "shots = pd.DataFrame()\n",
    "for season in seasons:\n",
    "    season_shots = shotchartdetail.ShotChartDetail(team_id=team_id, player_id=0, season_nullable=season, season_type_all_star=['Regular Season', 'Playoffs'], context_measure_simple='FGA').get_data_frames()[0]\n",
    "    season_shots['SEASON'] = season\n",
    "    shots = pd.concat([shots, season_shots])\n",
    "shots"
   ]
  },
  {
   "attachments": {},
   "cell_type": "markdown",
   "id": "859b9ccd",
   "metadata": {},
   "source": [
    "There are quite a few interesting columns in the dataset, we can list them using `shots.columns`."
   ]
  },
  {
   "cell_type": "code",
   "execution_count": null,
   "id": "b8b50e1f",
   "metadata": {},
   "outputs": [],
   "source": [
    "shots.columns"
   ]
  },
  {
   "attachments": {},
   "cell_type": "markdown",
   "id": "aa6f4392",
   "metadata": {},
   "source": [
    "We can also see all the possible values in a particular column using `.unique()`."
   ]
  },
  {
   "cell_type": "code",
   "execution_count": null,
   "id": "cb6c5437",
   "metadata": {},
   "outputs": [],
   "source": [
    "shots['SHOT_ZONE_AREA'].unique()"
   ]
  },
  {
   "attachments": {},
   "cell_type": "markdown",
   "id": "8eeb6d0c",
   "metadata": {},
   "source": [
    "Let's create a scatterplot of the locations of the shots."
   ]
  },
  {
   "cell_type": "code",
   "execution_count": null,
   "id": "63f12f7f",
   "metadata": {},
   "outputs": [],
   "source": [
    "import plotly.express as px\n",
    "px.scatter(shots, x='LOC_X', y='LOC_Y')"
   ]
  },
  {
   "attachments": {},
   "cell_type": "markdown",
   "id": "ecc94ef2",
   "metadata": {},
   "source": [
    "That looks a little like half of a basketball court, let's resize it using `height` and `width`."
   ]
  },
  {
   "cell_type": "code",
   "execution_count": null,
   "id": "37d89c3e",
   "metadata": {},
   "outputs": [],
   "source": [
    "px.scatter(shots, x='LOC_X', y='LOC_Y', height=1000, width=800)"
   ]
  },
  {
   "attachments": {},
   "cell_type": "markdown",
   "id": "80382861",
   "metadata": {},
   "source": [
    "We can also color the points by if the shot was made or not."
   ]
  },
  {
   "cell_type": "code",
   "execution_count": null,
   "id": "04e0d5d8",
   "metadata": {},
   "outputs": [],
   "source": [
    "px.scatter(shots, x='LOC_X', y='LOC_Y', height=1000, width=800, color='SHOT_MADE_FLAG')"
   ]
  },
  {
   "attachments": {},
   "cell_type": "markdown",
   "id": "1e75e7c9",
   "metadata": {},
   "source": [
    "The computer thinks that the `SHOT_MADE_FLAG` value is a number, when it should just be true or false, what we call a boolean value. Let's change that and the remake the graph."
   ]
  },
  {
   "cell_type": "code",
   "execution_count": null,
   "id": "f86163d1",
   "metadata": {},
   "outputs": [],
   "source": [
    "shots['SHOT_MADE_FLAG'] = shots['SHOT_MADE_FLAG'].astype(bool)\n",
    "px.scatter(shots, x='LOC_X', y='LOC_Y', height=1000, width=800, color='SHOT_MADE_FLAG')"
   ]
  },
  {
   "attachments": {},
   "cell_type": "markdown",
   "id": "c8f114a7",
   "metadata": {},
   "source": [
    "We can also add a list of columns to the `hover_data`, such as `SHOT_DISTANCE` and `PLAYER_NAME`. We should also add a title."
   ]
  },
  {
   "cell_type": "code",
   "execution_count": null,
   "id": "51bccbe7",
   "metadata": {},
   "outputs": [],
   "source": [
    "px.scatter(shots, x='LOC_X', y='LOC_Y', color='SHOT_MADE_FLAG', hover_data=['SHOT_DISTANCE','PLAYER_NAME'], height=1000, width=800, title='Lakers Shot Chart 2021-2023')"
   ]
  },
  {
   "attachments": {},
   "cell_type": "markdown",
   "id": "a26b99cc",
   "metadata": {},
   "source": [
    "We may want to look at just one season using `shots[shots['SEASON']=='2022-23']`, and also color the points by player."
   ]
  },
  {
   "cell_type": "code",
   "execution_count": null,
   "id": "91db3fe3",
   "metadata": {},
   "outputs": [],
   "source": [
    "season_data = shots[shots['SEASON']=='2022-23']\n",
    "px.scatter(season_data, x='LOC_X', y='LOC_Y', color='PLAYER_NAME', hover_data=['SHOT_MADE_FLAG'], height=1000, width=800, title='Lakers Shot Chart 2022-23')"
   ]
  },
  {
   "attachments": {},
   "cell_type": "markdown",
   "id": "86c0c5dc",
   "metadata": {},
   "source": [
    "With these data we can also look for relationships between columns, like maybe the time remaining in the game and the shot distance.\n",
    "\n",
    "To do that we needed to create a new column that combined `MINUTES_REMAINING` and `SECONDS_REMAINING`. We also converted the `PERIOD` column to a string so that we can select individual periods in the legend."
   ]
  },
  {
   "cell_type": "code",
   "execution_count": null,
   "id": "34aa4cd6",
   "metadata": {},
   "outputs": [],
   "source": [
    "shots['TIME_REMAINING'] = shots['MINUTES_REMAINING'] * 60 + shots['SECONDS_REMAINING']\n",
    "shots['PERIOD'] = shots['PERIOD'].astype(str)\n",
    "px.scatter(shots, x='TIME_REMAINING', y='SHOT_DISTANCE', color='PERIOD', title='Shot Distance by Time Remaining', hover_data=['SHOT_DISTANCE','SHOT_MADE_FLAG'], height=800)"
   ]
  },
  {
   "attachments": {},
   "cell_type": "markdown",
   "id": "e34765ba",
   "metadata": {},
   "source": [
    "Another option is to use a histogram to see if there are patterns in the data."
   ]
  },
  {
   "cell_type": "code",
   "execution_count": null,
   "id": "f00b8484",
   "metadata": {},
   "outputs": [],
   "source": [
    "px.histogram(shots, x='SHOT_DISTANCE', color='SHOT_MADE_FLAG', title='Shot Distance Frequencies')"
   ]
  },
  {
   "attachments": {},
   "cell_type": "markdown",
   "id": "3fcc614f",
   "metadata": {},
   "source": [
    "With any of these visualizations, we can use a column as an `animation_frame` to show how the data change based on that column.\n",
    "\n",
    "When creating animations, it is a good idea to set the x-axis and y-axis ranges to reasonable values for your data, so that they don't change with every animation frame."
   ]
  },
  {
   "cell_type": "code",
   "execution_count": null,
   "id": "2c698078",
   "metadata": {},
   "outputs": [],
   "source": [
    "px.histogram(shots, x='SHOT_DISTANCE', color='SHOT_MADE_FLAG', animation_frame='SEASON', title='Shot Distance Frequencies by Season').update_xaxes(range=[0, 80]).update_yaxes(range=[0, 1000])"
   ]
  },
  {
   "attachments": {},
   "cell_type": "markdown",
   "id": "bf9d8a5c",
   "metadata": {},
   "source": [
    "You can continue your own analysis in the [next notebook](basketball-challenge.ipynb)."
   ]
  },
  {
   "attachments": {},
   "cell_type": "markdown",
   "id": "08953f99-119e-4d67-9ed2-1169c276d9de",
   "metadata": {},
   "source": [
    "[![Callysto.ca License](https://github.com/callysto/curriculum-notebooks/blob/master/callysto-notebook-banner-bottom.jpg?raw=true)](https://github.com/callysto/curriculum-notebooks/blob/master/LICENSE.md)"
   ]
  }
 ],
 "metadata": {
  "kernelspec": {
   "display_name": "Python 3.10.6 64-bit",
   "language": "python",
   "name": "python3"
  },
  "language_info": {
   "codemirror_mode": {
    "name": "ipython",
    "version": 3
   },
   "file_extension": ".py",
   "mimetype": "text/x-python",
   "name": "python",
   "nbconvert_exporter": "python",
   "pygments_lexer": "ipython3",
   "version": "3.11.2"
  },
  "vscode": {
   "interpreter": {
    "hash": "916dbcbb3f70747c44a77c7bcd40155683ae19c65e1c03b4aa3499c5328201f1"
   }
  }
 },
 "nbformat": 4,
 "nbformat_minor": 5
}
