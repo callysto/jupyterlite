{
 "cells": [
  {
   "cell_type": "markdown",
   "id": "82edd93d-fc37-4e97-b118-6a7ff72718f4",
   "metadata": {},
   "source": [
    "![Callysto.ca Banner](https://github.com/callysto/curriculum-notebooks/blob/master/callysto-notebook-banner-top.jpg?raw=true)"
   ]
  },
  {
   "cell_type": "markdown",
   "id": "c1f3d788-af33-48c1-a96c-8ede5bb22666",
   "metadata": {},
   "source": [
    "# Basketball Challenge\n",
    "\n",
    "Submitted by: \n",
    "\n",
    "From school: \n",
    "\n",
    "## Introduction\n",
    "\n",
    "In this notebook we will...\n",
    "\n",
    "\n",
    "### Suggested Goals\n",
    "  \n",
    "1. Is there a `SHOT_ZONE_AREA` that has a higher or lower average `SHOT_MADE_FLAG`?\n",
    "1. What is the most common `ACTION_TYPE` for each `SHOT_ZONE_AREA`?\n",
    "1. Do you see any relationship between the time remaining and the shot distance?\n",
    "1. Which player attempted, or made, the most shots from far away?\n",
    "1. What was the most common shot distance for each player?\n",
    "1. How often are shots taken from beyond half-court?\n",
    "1. Is there a correlation between `SHOT_TYPE` and `SHOT_DISTANCE`?\n",
    "1. Do different teams show different shot patterns?\n",
    "1. Is there anything else interesting you can find and visualize for these data?\n",
    "1. Remember to complete your reflections at the bottom of this notebook."
   ]
  },
  {
   "cell_type": "code",
   "execution_count": null,
   "id": "98fbf601-12a9-4408-9d12-2fd33f3001c0",
   "metadata": {},
   "outputs": [],
   "source": [
    "team_name = 'Raptors'\n",
    "seasons = ['2022-23']\n",
    "\n",
    "%pip install -q pyodide_http plotly nba_api nbformat\n",
    "import pyodide_http\n",
    "pyodide_http.patch_all()\n",
    "from nba_api.stats.static import teams\n",
    "from nba_api.stats.endpoints import shotchartdetail\n",
    "import pandas as pd\n",
    "import plotly.express as px\n",
    "\n",
    "team = teams.find_teams_by_full_name(team_name)[0]\n",
    "team_id = team['id']\n",
    "shots = pd.DataFrame()\n",
    "for season in seasons:\n",
    "    season_shots = shotchartdetail.ShotChartDetail(team_id=team_id, player_id=0, season_nullable=season, season_type_all_star=['Regular Season', 'Playoffs'], context_measure_simple='FGA').get_data_frames()[0]\n",
    "    season_shots['SEASON'] = season\n",
    "    shots = pd.concat([shots, season_shots])\n",
    "shots"
   ]
  },
  {
   "cell_type": "markdown",
   "id": "21953682",
   "metadata": {},
   "source": []
  },
  {
   "cell_type": "code",
   "execution_count": null,
   "id": "f741c721",
   "metadata": {},
   "outputs": [],
   "source": []
  },
  {
   "cell_type": "markdown",
   "id": "26fa3c49-5488-4a97-b3c1-bb9334065174",
   "metadata": {},
   "source": [
    "## Hackathon Reflections\n",
    "\n",
    "Write about some or all of the following questions:\n",
    "\n",
    "- What is something you learned through this process?\n",
    "- How well did your group work together? Why do you think that is?\n",
    "- What were some of the hardest parts?\n",
    "- What are you proud of? What would you like to show others?\n",
    "- Are you curious about anything else related to this? Did anything surprise you?\n",
    "- How can you apply your learning to future activities?"
   ]
  },
  {
   "cell_type": "markdown",
   "id": "01da2518-51b6-46bc-809a-31b1e3023c84",
   "metadata": {},
   "source": [
    "[![Callysto.ca License](https://github.com/callysto/curriculum-notebooks/blob/master/callysto-notebook-banner-bottom.jpg?raw=true)](https://github.com/callysto/curriculum-notebooks/blob/master/LICENSE.md)"
   ]
  }
 ],
 "metadata": {
  "kernelspec": {
   "display_name": "Python 3 (ipykernel)",
   "language": "python",
   "name": "python3"
  },
  "language_info": {
   "codemirror_mode": {
    "name": "ipython",
    "version": 3
   },
   "file_extension": ".py",
   "mimetype": "text/x-python",
   "name": "python",
   "nbconvert_exporter": "python",
   "pygments_lexer": "ipython3",
   "version": "3.10.8"
  },
  "vscode": {
   "interpreter": {
    "hash": "d1ca6d17674200220921376aaeb3d36cffe15ecab2470a9a5e7a456cdbf61425"
   }
  }
 },
 "nbformat": 4,
 "nbformat_minor": 5
}
