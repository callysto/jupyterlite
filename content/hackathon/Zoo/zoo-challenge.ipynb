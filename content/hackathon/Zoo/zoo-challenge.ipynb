{
 "cells": [
  {
   "cell_type": "markdown",
   "metadata": {},
   "source": [
    "![Callysto.ca Banner](https://github.com/callysto/curriculum-notebooks/blob/master/callysto-notebook-banner-top.jpg?raw=true)"
   ]
  },
  {
   "attachments": {},
   "cell_type": "markdown",
   "metadata": {},
   "source": [
    "# Zoo Challenge\n",
    "\n",
    "Submitted by: \n",
    "\n",
    "From school: \n",
    "\n",
    "## Introduction\n",
    "\n",
    "In this notebook we will...\n",
    "\n",
    "\n",
    "### Suggested Goals\n",
    "\n",
    "1. Which category of animals has the most on display? Which has the least?\n",
    "1. Is there a relationship between \"On/Off Display\" and \"Status in the Wild\"?\n",
    "1. Which continent are most of the animals from? Which continent has the fewest animals at the zoo?\n",
    "1. Print out all of the descriptions for one category of animals.\n",
    "1. Choose one animal (row) and print out all the data for that animal.\n",
    "1. (Advanced) Clean up the data to have columns such as `Life Span Minimum`, `Life Span Maximum`, and `Life Span in Captivity`.\n",
    "1. (Advanced) Clean up the data to have columns such as `Minimum Size (kg)` and `Maximum Size (kg)`.\n",
    "1. Is there anything else interesting you can find and visualize for these data?\n",
    "1. Remember to complete your reflections at the bottom of this notebook."
   ]
  },
  {
   "cell_type": "code",
   "execution_count": null,
   "metadata": {},
   "outputs": [],
   "source": [
    "%pip install -q pyodide_http plotly\n",
    "import pyodide_http\n",
    "pyodide_http.patch_all()\n",
    "import pandas as pd\n",
    "import plotly.express as px\n",
    "animals = pd.read_csv('https://data.edmonton.ca/api/views/t5jm-9scn/rows.csv?accessType=DOWNLOAD')\n",
    "animals.head(3)"
   ]
  },
  {
   "cell_type": "markdown",
   "metadata": {},
   "source": []
  },
  {
   "cell_type": "code",
   "execution_count": null,
   "metadata": {},
   "outputs": [],
   "source": []
  },
  {
   "cell_type": "markdown",
   "metadata": {},
   "source": [
    "## Hackathon Reflections\n",
    "\n",
    "Write about some or all of the following questions:\n",
    "- What is something you learned through this process?\n",
    "- How well did your group work together? Why do you think that is?\n",
    "- What were some of the hardest parts?\n",
    "- What are you proud of? What would you like to show others?\n",
    "- Are you curious about anything else related to this? Did anything surprise you?\n",
    "- How can you apply your learning to future activities?"
   ]
  },
  {
   "cell_type": "markdown",
   "metadata": {},
   "source": [
    "[![Callysto.ca License](https://github.com/callysto/curriculum-notebooks/blob/master/callysto-notebook-banner-bottom.jpg?raw=true)](https://github.com/callysto/curriculum-notebooks/blob/master/LICENSE.md)"
   ]
  }
 ],
 "metadata": {
  "kernelspec": {
   "display_name": "Python 3.10.1 64-bit",
   "language": "python",
   "name": "python3"
  },
  "language_info": {
   "codemirror_mode": {
    "name": "ipython",
    "version": 3
   },
   "file_extension": ".py",
   "mimetype": "text/x-python",
   "name": "python",
   "nbconvert_exporter": "python",
   "pygments_lexer": "ipython3",
   "version": "3.10.1"
  },
  "nbTranslate": {
   "displayLangs": [
    "*"
   ],
   "hotkey": "alt-t",
   "langInMainMenu": true,
   "sourceLang": "en",
   "targetLang": "fr",
   "useGoogleTranslate": true
  },
  "vscode": {
   "interpreter": {
    "hash": "d1ca6d17674200220921376aaeb3d36cffe15ecab2470a9a5e7a456cdbf61425"
   }
  }
 },
 "nbformat": 4,
 "nbformat_minor": 2
}
