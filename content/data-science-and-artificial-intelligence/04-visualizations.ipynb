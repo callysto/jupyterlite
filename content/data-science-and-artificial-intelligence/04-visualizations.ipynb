{
 "cells": [
  {
   "cell_type": "markdown",
   "metadata": {},
   "source": [
    "![Callysto.ca Banner](https://github.com/callysto/curriculum-notebooks/blob/master/callysto-notebook-banner-top.jpg?raw=true)"
   ]
  },
  {
   "cell_type": "markdown",
   "metadata": {},
   "source": [
    "# Visualizations\n",
    "\n",
    "In this notebook we'll visualize data using the [Plotly Express](https://plotly.com/python/plotly-express/) library, imported as `px`. These visualizations help us to see things like trends and outliers in the data.\n",
    "\n",
    "What is a visualization?\n",
    "\n",
    "[![what is a Viz](https://img.youtube.com/vi/_qrkhE4ADj0/0.jpg)](https://www.youtube.com/watch?v=_qrkhE4ADj0)\n",
    "\n",
    "Again we will use the pets data set."
   ]
  },
  {
   "cell_type": "code",
   "execution_count": null,
   "metadata": {},
   "outputs": [],
   "source": [
    "import pandas as pd\n",
    "pets = pd.read_csv('data/pets.csv')\n",
    "pets.head()"
   ]
  },
  {
   "cell_type": "markdown",
   "metadata": {},
   "source": [
    "## Bar Graphs\n",
    "\n",
    "The first type of visualization we'll create with Plotly Express is a bar graph. We'll choose columns from our `pets` data to put on the `x` and `y` axes."
   ]
  },
  {
   "cell_type": "code",
   "execution_count": null,
   "metadata": {},
   "outputs": [],
   "source": [
    "import piplite\n",
    "await piplite.install(['plotly','nbformat'])\n",
    "import plotly.express as px\n",
    "px.bar(pets, x='Name', y='Time to Adoption (weeks)', title='Pet Time to Adoption')"
   ]
  },
  {
   "cell_type": "markdown",
   "metadata": {},
   "source": [
    "---\n",
    "\n",
    "### Exercise\n",
    "\n",
    "Create a bar graph with `Name` on the x-axis and `'Age (years)'` on the y-axis.\n",
    "\n",
    "---"
   ]
  },
  {
   "cell_type": "code",
   "execution_count": null,
   "metadata": {},
   "outputs": [],
   "source": []
  },
  {
   "cell_type": "markdown",
   "metadata": {},
   "source": [
    "We can also add other options for [bar charts](https://plotly.com/python/bar-charts) like `color`, `orientation`, `height`, and `bar_mode`."
   ]
  },
  {
   "cell_type": "code",
   "execution_count": null,
   "metadata": {},
   "outputs": [],
   "source": [
    "px.bar(pets, x='Name', y='Time to Adoption (weeks)', color='Gender', title='Pet Time to Adoption')"
   ]
  },
  {
   "cell_type": "code",
   "execution_count": null,
   "metadata": {},
   "outputs": [],
   "source": [
    "px.bar(pets, x='Time to Adoption (weeks)', y='Name', color='Gender', orientation='h', height=800, title='Pet Time to Adoption')"
   ]
  },
  {
   "cell_type": "markdown",
   "metadata": {},
   "source": [
    "If we use the `.show()` method it will display a visualization even if it's not at the end of a code cell."
   ]
  },
  {
   "cell_type": "code",
   "execution_count": null,
   "metadata": {},
   "outputs": [],
   "source": [
    "px.bar(pets, x='Species', y='Time to Adoption (weeks)', color='Gender', barmode='group', title='Grouped Bars').show()\n",
    "px.bar(pets, x='Species', y='Time to Adoption (weeks)', color='Gender', barmode='stack', title='Stacked Bars').show()"
   ]
  },
  {
   "cell_type": "markdown",
   "metadata": {},
   "source": [
    "It's also possible to hide the legend."
   ]
  },
  {
   "cell_type": "code",
   "execution_count": null,
   "metadata": {},
   "outputs": [],
   "source": [
    "px.bar(pets, x='Species', y='Time to Adoption (weeks)', color='Gender', barmode='group', title='Adoption Time versus Species by Gender').update_layout(showlegend=False)"
   ]
  },
  {
   "cell_type": "markdown",
   "metadata": {},
   "source": [
    "## Line Plots\n",
    "\n",
    "Let's try making a line plot with `'Age (years)'` on the y-axis and `'Name'` on the x-axis."
   ]
  },
  {
   "cell_type": "code",
   "execution_count": null,
   "metadata": {},
   "outputs": [],
   "source": [
    "px.line(pets, x='Name', y='Age (years)', title='Pet Ages')"
   ]
  },
  {
   "cell_type": "markdown",
   "metadata": {},
   "source": [
    "If we want to change the **axis labels**, there are a couple of different methods."
   ]
  },
  {
   "cell_type": "code",
   "execution_count": null,
   "metadata": {},
   "outputs": [],
   "source": [
    "px.line(pets, x='Name', y='Age (years)', title='Pet Ages', labels={'Name':'Pet Name', 'Age (years)':'Age in years'}).show()\n",
    "px.line(pets, x='Name', y='Age (years)', title='Pet Ages').update_xaxes(title_text='Pet Name').update_yaxes(title_text='Age in years').show()"
   ]
  },
  {
   "cell_type": "markdown",
   "metadata": {},
   "source": [
    "## Scatter Plots\n",
    "\n",
    "One of the most frequently used visualization types is a [scatter plot](https://plotly.com/python/line-and-scatter/)."
   ]
  },
  {
   "cell_type": "code",
   "execution_count": null,
   "metadata": {},
   "outputs": [],
   "source": [
    "px.scatter(pets, x='Age (years)', y='Time to Adoption (weeks)', title='Time to Adoption by Age')"
   ]
  },
  {
   "cell_type": "markdown",
   "metadata": {},
   "source": [
    "There are a few more options for these, such as `size` and `hover_name`"
   ]
  },
  {
   "cell_type": "code",
   "execution_count": null,
   "metadata": {},
   "outputs": [],
   "source": [
    "\n",
    "px.scatter(pets, x='Age (years)', y='Time to Adoption (weeks)', color='Species', size='Weight (lbs)', hover_name='Name', title='Pet Adoption Times')"
   ]
  },
  {
   "cell_type": "markdown",
   "metadata": {},
   "source": [
    "---\n",
    "\n",
    "### Exercise\n",
    "\n",
    "Create a scatter plot with age on the x-axis, weight on the y-axis, and `color='Fixed'`.\n",
    "\n",
    "---"
   ]
  },
  {
   "cell_type": "code",
   "execution_count": null,
   "metadata": {},
   "outputs": [],
   "source": []
  },
  {
   "cell_type": "markdown",
   "metadata": {},
   "source": [
    "## Histograms\n",
    "\n",
    "A [histogram](https://plotly.com/python/histograms) is like a bar graph, it can be used to show statistics such as `count`, `sum`, or `average`."
   ]
  },
  {
   "cell_type": "code",
   "execution_count": null,
   "metadata": {},
   "outputs": [],
   "source": [
    "px.histogram(pets, x='Species', y='Weight (lbs)', title='Total Weight by Species').show()\n",
    "px.histogram(pets, x=\"Species\", y=\"Weight (lbs)\", histfunc=\"avg\", title=\"Average Weight by Species\").show()"
   ]
  },
  {
   "cell_type": "markdown",
   "metadata": {},
   "source": [
    "## Pie Chart\n",
    "\n",
    "Let's try a pie chart. Instead of `x` and `y` we use `names` and `values`."
   ]
  },
  {
   "cell_type": "code",
   "execution_count": null,
   "metadata": {},
   "outputs": [],
   "source": [
    "px.pie(pets, names='Species', values='Legs', title='Number of Legs by Species')"
   ]
  },
  {
   "cell_type": "markdown",
   "metadata": {},
   "source": [
    "Plotly also has functions to create many different types of visualizations, listed on the [Plotly Express page](https://plotly.com/python/plotly-express/)."
   ]
  },
  {
   "cell_type": "markdown",
   "metadata": {},
   "source": [
    "---\n",
    "\n",
    "### Exercise\n",
    "\n",
    "Create a chart of your choice with custom axis labels and an interesting title.\n",
    "\n",
    "---"
   ]
  },
  {
   "cell_type": "code",
   "execution_count": null,
   "metadata": {},
   "outputs": [],
   "source": []
  },
  {
   "cell_type": "markdown",
   "metadata": {},
   "source": [
    "To download a visualization that you have created, move your mouse near the top right of the visualization and click on the camera icon 📷 that appears there.\n",
    "\n",
    "---\n",
    "\n",
    "<span style=\"color:#663399\">Your **assignment** is to create a document and insert the three visualizations you created.</span>\n",
    "\n",
    "<span style=\"color:#FF6633\">An **optional advanced challenge** is to create a visualization of data in the file `'data/datasaurus.csv'` .</span>\n",
    "\n",
    "---\n",
    "\n",
    "Now that you can import data, compute statistics, and create visualizations, the [next notebook](05-markdown.ipynb) will introduce some ways to format text."
   ]
  },
  {
   "cell_type": "markdown",
   "metadata": {},
   "source": [
    "[![Callysto.ca License](https://github.com/callysto/curriculum-notebooks/blob/master/callysto-notebook-banner-bottom.jpg?raw=true)](https://github.com/callysto/curriculum-notebooks/blob/master/LICENSE.md)"
   ]
  }
 ],
 "metadata": {
  "kernelspec": {
   "display_name": "Python 3 (ipykernel)",
   "language": "python",
   "name": "python3"
  },
  "language_info": {
   "codemirror_mode": {
    "name": "ipython",
    "version": 3
   },
   "file_extension": ".py",
   "mimetype": "text/x-python",
   "name": "python",
   "nbconvert_exporter": "python",
   "pygments_lexer": "ipython3",
   "version": "3.9.12"
  }
 },
 "nbformat": 4,
 "nbformat_minor": 4
}
