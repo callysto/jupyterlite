{
 "cells": [
  {
   "attachments": {},
   "cell_type": "markdown",
   "metadata": {},
   "source": [
    "![Callysto.ca Banner](https://github.com/callysto/curriculum-notebooks/blob/master/callysto-notebook-banner-top.jpg?raw=true)"
   ]
  },
  {
   "attachments": {},
   "cell_type": "markdown",
   "metadata": {},
   "source": [
    "# Introduction to Data Science and Artificial Intelligence\n",
    "\n",
    "This series of notebooks is designed to introduce you to the foundational concepts and techniques used in data science and artificial intelligence.\n",
    "\n",
    "As our world becomes increasingly data-driven, the ability to analyze, visualize, and draw insights from large and complex datasets is becoming an essential skill. Data science can provide you with the tools to make better decisions and solve complex problems.\n",
    "\n",
    "In addition, the rise of artificial intelligence and machine learning is revolutionizing the world. Understanding the principles and applications of AI is important for the future.\n",
    "\n",
    "This will cover a wide range of topics, from basic data manipulation to advanced machine learning algorithms. We will use [Python](https://www.python.org/) as our programming language in [Jupyter notebooks](https://jupyter.org/) because that is how data science is usually done in the real world. Python has great [code libraries](https://www.geeksforgeeks.org/libraries-in-python/) for data science and artificial intelligence, such as [pandas](https://pandas.pydata.org/), [Plotly](https://plotly.com/python/), and [NLTK](https://www.nltk.org/).\n",
    "\n",
    "Each notebook will focus on a specific topic, and we will provide plenty of examples and exercises to help you solidify your understanding. Whether you're a complete beginner or have some prior experience, this series will provide you with a solid foundation in data science and artificial intelligence.\n",
    "\n",
    "To run code in a Jupyter notebook, click on a code cell such as the one below then click the `▶Run` button at the top of the window near the stop (`◼`) button."
   ]
  },
  {
   "cell_type": "code",
   "execution_count": null,
   "metadata": {},
   "outputs": [],
   "source": [
    "print('Hello World')"
   ]
  },
  {
   "attachments": {},
   "cell_type": "markdown",
   "metadata": {},
   "source": [
    "## Variables\n",
    "\n",
    "Using Python code, we can create and use variables."
   ]
  },
  {
   "cell_type": "code",
   "execution_count": null,
   "metadata": {},
   "outputs": [],
   "source": [
    "x = 5\n",
    "num = 7\n",
    "other_variable = 'some text'\n",
    "a_list = [2, 4, 6, 10, 255]\n",
    "another_list = ['These', 'are', 'strings']\n",
    "print(x)\n",
    "print(x + num)\n",
    "print(x + num + 10)\n",
    "print(another_list)"
   ]
  },
  {
   "attachments": {},
   "cell_type": "markdown",
   "metadata": {},
   "source": [
    "Once variables are created, they are shared across the whole notebook."
   ]
  },
  {
   "cell_type": "code",
   "execution_count": null,
   "metadata": {},
   "outputs": [],
   "source": [
    "print(a_list)"
   ]
  },
  {
   "attachments": {},
   "cell_type": "markdown",
   "metadata": {},
   "source": [
    "We can use [f-strings](https://realpython.com/python-f-strings/) to combine variables with other strings that we want to print out."
   ]
  },
  {
   "cell_type": "code",
   "execution_count": null,
   "metadata": {},
   "outputs": [],
   "source": [
    "print(f'the value of the num variable is {num}.')"
   ]
  },
  {
   "attachments": {},
   "cell_type": "markdown",
   "metadata": {},
   "source": [
    "As well, in a Jupyter notebook a variable on the last line of a code cell will be displayed when the cell is run."
   ]
  },
  {
   "cell_type": "code",
   "execution_count": null,
   "metadata": {},
   "outputs": [],
   "source": [
    "a_list"
   ]
  },
  {
   "attachments": {},
   "cell_type": "markdown",
   "metadata": {},
   "source": [
    "## Loops\n",
    "\n",
    "Python also has control structures like `for` loops and `while` loops that allow us to do things repeatedly. For example if we want to find the total number of letters in a list of strings."
   ]
  },
  {
   "cell_type": "code",
   "execution_count": null,
   "metadata": {},
   "outputs": [],
   "source": [
    "another_list = ['These', 'are', 'strings']\n",
    "\n",
    "total_letters = 0\n",
    "for word in another_list:\n",
    "    number_of_letters = len(word)\n",
    "    print(f'The word \"{word}\" has {number_of_letters} letters')\n",
    "    total_letters = total_letters + len(word)\n",
    "\n",
    "print(f'There are {total_letters} letters in total.')"
   ]
  },
  {
   "attachments": {},
   "cell_type": "markdown",
   "metadata": {},
   "source": [
    "## Conditionals\n",
    "\n",
    "Python also has conditional statements (`if` and `else`)."
   ]
  },
  {
   "cell_type": "code",
   "execution_count": null,
   "metadata": {},
   "outputs": [],
   "source": [
    "ages = [19, 8, 10, 2, 21, 50]\n",
    "\n",
    "for age in ages:\n",
    "    if age > 18:\n",
    "        print(f'The person who is {age} can vote.')\n",
    "    else:\n",
    "        print(f'The person who is {age} cannot vote.')"
   ]
  },
  {
   "attachments": {},
   "cell_type": "markdown",
   "metadata": {},
   "source": [
    "## Error Messages\n",
    "\n",
    "If there are errors in Python code, the error messages are printed in reverse order. So to find the initial error, you need to start reading at the bottom.\n",
    "\n",
    "---\n",
    "\n",
    "### Exercise\n",
    "\n",
    "Find and correct the error in the Python code below.\n",
    "\n",
    "---"
   ]
  },
  {
   "cell_type": "code",
   "execution_count": null,
   "metadata": {},
   "outputs": [],
   "source": [
    "even_numbers = []  # create an empty list\n",
    "for x in range(2, 10):\n",
    "    # % means remainder after division\n",
    "    if x % 2 == 0:\n",
    "        print(f'{x} is an even number')\n",
    "        # append it to the list\n",
    "        even_numbers.append(x)\n",
    "print(even_numbers)"
   ]
  },
  {
   "attachments": {},
   "cell_type": "markdown",
   "metadata": {},
   "source": [
    "---\n",
    "\n",
    "<span style=\"color:#663399\">Your **assignment** is to write some Python in a code cell that adds up the ages of everyone under 18 in the list `[19, 8, 10, 2, 21, 50]`. Then paste your code into a document or notebook to submit to your teacher.</span>\n",
    "\n",
    "<span style=\"color:#FF6633\">An **optional advanced challenge** is to use Python and the [% operator](https://www.geeksforgeeks.org/what-is-a-modulo-operator-in-python/) to find how many two-digit prime numbers there are.</span>\n",
    "\n",
    "---\n",
    "\n",
    "Now that you have run some Python code, the [next notebook](02-working-with-data.ipynb) will introduce you to working with data."
   ]
  },
  {
   "attachments": {},
   "cell_type": "markdown",
   "metadata": {},
   "source": [
    "[![Callysto.ca License](https://github.com/callysto/curriculum-notebooks/blob/master/callysto-notebook-banner-bottom.jpg?raw=true)](https://github.com/callysto/curriculum-notebooks/blob/master/LICENSE.md)"
   ]
  }
 ],
 "metadata": {
  "kernelspec": {
   "display_name": "Python 3",
   "language": "python",
   "name": "python3"
  },
  "language_info": {
   "codemirror_mode": {
    "name": "ipython",
    "version": 3
   },
   "file_extension": ".py",
   "mimetype": "text/x-python",
   "name": "python",
   "nbconvert_exporter": "python",
   "pygments_lexer": "ipython3",
   "version": "3.10.6"
  },
  "orig_nbformat": 4
 },
 "nbformat": 4,
 "nbformat_minor": 2
}
