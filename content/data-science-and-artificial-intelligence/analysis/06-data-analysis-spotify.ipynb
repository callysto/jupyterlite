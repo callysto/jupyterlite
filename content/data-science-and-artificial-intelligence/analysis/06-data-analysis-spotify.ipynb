{
 "cells": [
  {
   "attachments": {},
   "cell_type": "markdown",
   "metadata": {},
   "source": [
    "![Callysto.ca Banner](https://github.com/callysto/curriculum-notebooks/blob/master/callysto-notebook-banner-top.jpg?raw=true)\n",
    "\n",
    "<a href=\"https://hub.callysto.ca/jupyter/hub/user-redirect/git-pull?repo=https%3A%2F%2Fgithub.com%2Fcallysto%2Fdata-science-and-artificial-intelligence&branch=main&subPath=analysis/06-data-analysis-spotify.ipynb&depth=1\" target=\"_parent\"><img src=\"https://raw.githubusercontent.com/callysto/curriculum-notebooks/master/open-in-callysto-button.svg?sanitize=true\" width=\"123\" height=\"24\" alt=\"Open in Callysto\"/></a>"
   ]
  },
  {
   "attachments": {},
   "cell_type": "markdown",
   "metadata": {},
   "source": [
    "# Data Analysis with Spotify Data\n",
    "\n",
    "[Spotify](https://en.wikipedia.org/wiki/Spotify), an audio streaming platform, has a huge database of songs and information about them.\n",
    "\n",
    "*Optional: If you'd like to create your own data sets, you can check out the [Getting Spotify Data notebook](06b-getting-spotify-data.ipynb).*\n",
    "\n",
    "[![what is a Viz](https://img.youtube.com/vi/pGntmcy_HX8/0.jpg)](https://www.youtube.com/watch?v=pGntmcy_HX8)\n",
    "\n",
    "`Run` the cell below to import a dataset of about 40,000 songs that has been [exported from Spotify](https://developer.spotify.com/documentation/web-api)."
   ]
  },
  {
   "cell_type": "code",
   "execution_count": null,
   "metadata": {},
   "outputs": [],
   "source": [
    "import pandas as pd\n",
    "data = pd.read_csv('https://raw.githubusercontent.com/callysto/data-files/main/data-science-and-artificial-intelligence/spotify.csv')\n",
    "data"
   ]
  },
  {
   "attachments": {},
   "cell_type": "markdown",
   "metadata": {},
   "source": [
    "### Column Descriptions\n",
    "\n",
    "From https://developer.spotify.com/documentation/web-api/reference/\n",
    "\n",
    "|Value|Description|\n",
    "|-|-|\n",
    "|track|The name of the track.|\n",
    "|artist|The person or group the track is credited to.|\n",
    "|track_id|The [Spotify ID](https://developer.spotify.com/documentation/web-api/#spotify-uris-and-ids) of the track|\n",
    "|danceability|How suitable a track is for dancing. A value of 0.0 is least danceable and 1.0 is most danceable.|\n",
    "|energy|A perceptual measure of intensity and activity that ranges between 0 to 1. Typically, energetic tracks feel fast, loud, and noisy.|\n",
    "|key|The key the track is in. Integers map to pitches using standard Pitch Class notation. E.g. 0 = C, 1 = C♯/D♭, 2 = D|\n",
    "|loudness|The average loudness of a track in decibels (dB). Values typically ranges between -60 and 0 db.|\n",
    "|mode|The modality (major or minor) of a track, the type of scale from which its melodic content is derived. Major is represented by 1 and minor is 0.|\n",
    "|speechiness|Indicates the presence of spoken words in a track. Values above 0.66 describe tracks that are probably made entirely of spoken words. Values between 0.33 and 0.66 describe tracks that may contain both music and speech while below 0.33 most likely represent music and other non-speech-like tracks.|\n",
    "|acousticness|A confidence measure indicating whether the track is acoustic. Value of 1 represents highest confidence.|\n",
    "|instrumentalness|Predicts whether a track contains no vocals. The closer the value is to 1, the greater likelihood the track contains no vocal content.|\n",
    "|liveness|Detects the presence of an audience in the recording. Higher liveness values represent an increased probability that the track was performed live.|\n",
    "|valence|A measure to describe the musical positiveness conveyed by a track. Tracks with high valence sound more positive (e.g. happy, cheerful, euphoric), while tracks with low valence sound more negative (e.g. sad, depressed, angry).|\n",
    "|tempo|The overall estimated tempo (speed or pace) of a track in beats per minute (BPM).|\n",
    "|duration_ms|The duration of the track in [milliseconds](https://en.wikipedia.org/wiki/Millisecond).|\n",
    "|time_signature|An estimated overall time signature of a track. The time signature is a notational convention to specify how many beats are in each bar (or measure).|\n",
    "|chorus_hit|The approximate start time of the chorus, in seconds|\n",
    "|sections|The number of sections in the track. Sections are defined by large variations in rhythm or timbre.|\n",
    "|popularity|A value between 0 and 1, with 1 being the most popular.|\n",
    "|release_date|The date the track was released.|"
   ]
  },
  {
   "attachments": {},
   "cell_type": "markdown",
   "metadata": {},
   "source": [
    "We can create some new columns from these, such as\n",
    "\n",
    "* `duration_s`: duration in seconds\n",
    "* `release_year`: just the year that track was released\n",
    "* `link`: a link to the track on Spotify\n",
    "\n",
    "We'll also convert the `release_date` column to only display the year. Scroll to the far right of the dataframe to see the `release_date` column."
   ]
  },
  {
   "cell_type": "code",
   "execution_count": null,
   "metadata": {},
   "outputs": [],
   "source": [
    "data['duration_s'] = data['duration_ms']/1000\n",
    "data['release_year'] = data['release_date'].str[:4].astype(int)\n",
    "data['link'] = 'https://open.spotify.com/track/' + data['track_id']\n",
    "data['release_date'] = pd.to_datetime(data['release_date'], format='%Y-%m-%d')\n",
    "data"
   ]
  },
  {
   "attachments": {},
   "cell_type": "markdown",
   "metadata": {},
   "source": [
    "***\n",
    "## Visualization 1 ##\n",
    "\n",
    "Scatter plot of Song lengths over the years"
   ]
  },
  {
   "cell_type": "code",
   "execution_count": null,
   "metadata": {},
   "outputs": [],
   "source": [
    "import plotly.express as px\n",
    "px.scatter(data, x='release_date', y='duration_s', hover_data=['artist', 'track', 'link'], title=' Visualization 1 of Spotify Song Duration Over Time')"
   ]
  },
  {
   "attachments": {},
   "cell_type": "markdown",
   "metadata": {},
   "source": [
    "***\n",
    "## Visualization 2 ##\n",
    "\n",
    "\n",
    "`energy`: *A perceptual measure of intensity and activity that ranges between 0 to 1. Typically, energetic tracks feel fast, loud, and noisy*\n",
    "\n",
    "**and** \n",
    "\n",
    "`danceability`: *How suitable a track is for dancing. A value of 0.0 is least danceable and 1.0 is most danceable*\n",
    "\n",
    "\n",
    "We'll also colour the points by `loudness` and set the visualiztion `height` to `800` so it's a little larger."
   ]
  },
  {
   "cell_type": "code",
   "execution_count": null,
   "metadata": {},
   "outputs": [],
   "source": [
    "px.scatter(data, x='energy', y='danceability', color='loudness', hover_data=['artist', 'track'], title='Danceability versus Energy', height=800)"
   ]
  },
  {
   "attachments": {},
   "cell_type": "markdown",
   "metadata": {},
   "source": [
    "***\n",
    "## Visualization 3: Billions Club Playlist ##\n",
    "\n",
    "If you would instead like to use a date set containing only the songs that have been played on Spotify more than a billion times, we have data from the [Billions Club Playlist](https://open.spotify.com/playlist/37i9dQZF1DX7iB3RCnBnN4)."
   ]
  },
  {
   "cell_type": "code",
   "execution_count": null,
   "metadata": {},
   "outputs": [],
   "source": [
    "bc = pd.read_csv('https://raw.githubusercontent.com/callysto/data-files/main/data-science-and-artificial-intelligence/spotify-billions-club.csv')\n",
    "bc"
   ]
  },
  {
   "attachments": {},
   "cell_type": "markdown",
   "metadata": {},
   "source": [
    "Then you can create columns and visualizations using the `bc` dataframe instead of using the `data` one."
   ]
  },
  {
   "cell_type": "code",
   "execution_count": null,
   "metadata": {},
   "outputs": [],
   "source": [
    "bc['duration_s'] = bc['duration_ms']/1000\n",
    "bc['release_year'] = bc['release_date'].str[:4].astype(int)\n",
    "bc = bc.rename(columns={'track_href': 'link'})\n",
    "bc['release_date'] = pd.to_datetime(bc['release_date'], format='%Y-%m-%d')\n",
    "\n",
    "px.scatter(bc, x='energy', y='danceability', color='loudness', hover_data=['artist', 'track'], title='Danceability versus Energy for Billions Club Songs')"
   ]
  },
  {
   "attachments": {},
   "cell_type": "markdown",
   "metadata": {},
   "source": [
    "---\n",
    "\n",
    "<span style=\"color:#663399\">Your **assignment** is to create at least three Spotify visualizations retrieving data from different columns, and for each visualization write:</span>\n",
    "* <span style=\"color:#663399\">We created this visualization because</span>\n",
    "* <span style=\"color:#663399\">This visualization shows</span>\n",
    "* <span style=\"color:#663399\">Something interesting we learned from or noticed in this visualization is</span>\n",
    "\n",
    "_Hint: Use the above vizualizations codes or from previous notebooks to create your own visualizations, then change the coluums names based on the Spotify data set._\n",
    "\n",
    "---\n",
    "\n",
    "The [next notebook](07-primary-data.ipynb) will introduce you to recording and using your own (primary) data."
   ]
  },
  {
   "attachments": {},
   "cell_type": "markdown",
   "metadata": {},
   "source": [
    "[![Callysto.ca License](https://github.com/callysto/curriculum-notebooks/blob/master/callysto-notebook-banner-bottom.jpg?raw=true)](https://github.com/callysto/curriculum-notebooks/blob/master/LICENSE.md)"
   ]
  }
 ],
 "metadata": {
  "kernelspec": {
   "display_name": "Python 3 (ipykernel)",
   "language": "python",
   "name": "python3"
  },
  "language_info": {
   "codemirror_mode": {
    "name": "ipython",
    "version": 3
   },
   "file_extension": ".py",
   "mimetype": "text/x-python",
   "name": "python",
   "nbconvert_exporter": "python",
   "pygments_lexer": "ipython3",
   "version": "3.9.12"
  }
 },
 "nbformat": 4,
 "nbformat_minor": 4
}
