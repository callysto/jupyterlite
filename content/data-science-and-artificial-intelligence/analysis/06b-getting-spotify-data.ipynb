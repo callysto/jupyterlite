{
 "cells": [
  {
   "attachments": {},
   "cell_type": "markdown",
   "metadata": {},
   "source": [
    "![Callysto.ca Banner](https://github.com/callysto/curriculum-notebooks/blob/master/callysto-notebook-banner-top.jpg?raw=true)\n",
    "\n",
    "<a href=\"https://hub.callysto.ca/jupyter/hub/user-redirect/git-pull?repo=https%3A%2F%2Fgithub.com%2Fcallysto%2Fdata-science-and-artificial-intelligence&branch=main&subPath=analysis/06b-getting-spotify-data.ipynb&depth=1\" target=\"_parent\"><img src=\"https://raw.githubusercontent.com/callysto/curriculum-notebooks/master/open-in-callysto-button.svg?sanitize=true\" width=\"123\" height=\"24\" alt=\"Open in Callysto\"/></a>"
   ]
  },
  {
   "attachments": {},
   "cell_type": "markdown",
   "metadata": {},
   "source": [
    "# Getting Spotify Data\n",
    "\n",
    "This is an optional notebook to demonstrate how we can query the [Spotify API](https://developer.spotify.com/documentation/web-api) to get information about songs and store that as a [CSV](https://en.wikipedia.org/wiki/Comma-separated_values) file for use in the [Spotify Data Analysis notebook](06-data-analysis-spotify.ipynb).\n",
    "\n",
    "An [application programming interface](https://en.wikipedia.org/wiki/API) is a set of commands to access data from another system.\n",
    "\n",
    "[![what is an API?](https://img.youtube.com/vi/s7wmiS2mSXY/0.jpg)](https://www.youtube.com/watch?v=s7wmiS2mSXY)\n",
    "\n",
    "The [Spotify Web API](https://developer.spotify.com/documentation/web-api/) allows us to get information about songs, albums, and artists.\n",
    "\n",
    "If you want to retireve more data and have a [Spotify account](https://www.spotify.com/us/signup), you can:\n",
    "\n",
    "1. Login to the [Developers Dashboard](https://developer.spotify.com/dashboard/login).\n",
    "2. From the Dashboard, you can click the `CREATE AN APP` button, type a name and description, and then click `CREATE`.\n",
    "3. Click on your new app in the Dashboard to find the `Client ID` and `CLIENT SECRET`.\n",
    "4. Paste those strings of characters into the code cell below, replacing the `PASTE_YOUR_CLIENT_ID_HERE` and `PASTE_YOUR_CLIENT_SECRET_HERE` strings. Make sure there are still quotation marks (`'`) around them."
   ]
  },
  {
   "cell_type": "code",
   "execution_count": null,
   "metadata": {},
   "outputs": [],
   "source": [
    "CLIENT_ID = 'PASTE_YOUR_CLIENT_ID_HERE'\n",
    "CLIENT_SECRET = 'PASTE_YOUR_CLIENT_SECRET_HERE'\n",
    "\n",
    "if CLIENT_ID != 'PASTE_YOUR_CLIENT_ID_HERE': # make sure you've pasted in your client ID and client secret\n",
    "    import requests\n",
    "    import pandas as pd\n",
    "    from math import ceil\n",
    "\n",
    "    def get_track_info(track_id):\n",
    "        try:\n",
    "            r = requests.get('https://api.spotify.com/v1/tracks/' + track_id, headers=headers)\n",
    "            info = r.json()\n",
    "        except:\n",
    "            print('Error with track id:', track_id)\n",
    "            info = None\n",
    "        return info\n",
    "\n",
    "    def get_track_features(track_id):\n",
    "        try:\n",
    "            r = requests.get('https://api.spotify.com/v1/audio-features/' + track_id, headers=headers)\n",
    "            info = r.json()\n",
    "        except:\n",
    "            print('Error with track id:', track_id)\n",
    "            info = None\n",
    "        return info\n",
    "\n",
    "    try:\n",
    "        auth_response = requests.post('https://accounts.spotify.com/api/token', {'grant_type':'client_credentials', 'client_id':CLIENT_ID, 'client_secret':CLIENT_SECRET})\n",
    "        auth_response_data = auth_response.json()\n",
    "        access_token = auth_response_data['access_token']\n",
    "        headers = {'Authorization':'Bearer {token}'.format(token=access_token)}\n",
    "        print('Spotify API setup complete')\n",
    "    except:\n",
    "        print('Remember to paste your client ID and secret into the code cell')"
   ]
  },
  {
   "attachments": {},
   "cell_type": "markdown",
   "metadata": {},
   "source": [
    "Now we can get information and audio features for the songs in a playlist using the `playlist_id`.\n",
    "\n",
    "For example, the Billions Club playlist url is https://open.spotify.com/playlist/37i9dQZF1DX7iB3RCnBnN4 so the `playlist_id` is `37i9dQZF1DX7iB3RCnBnN4`"
   ]
  },
  {
   "cell_type": "code",
   "execution_count": null,
   "metadata": {},
   "outputs": [],
   "source": [
    "playlist_id = '37i9dQZF1DX7iB3RCnBnN4'\n",
    "\n",
    "if CLIENT_ID != 'PASTE_YOUR_CLIENT_ID_HERE':\n",
    "    playlist_info = requests.get('https://api.spotify.com/v1/playlists/' + playlist_id, headers=headers).json()\n",
    "    playlist_name = playlist_info['name']\n",
    "    playlist_length = playlist_info['tracks']['total']\n",
    "    print(f'Getting {playlist_length} tracks from {playlist_name}')\n",
    "    n_requests = ceil(playlist_length/100)  # it only returns 100 tracks at a time\n",
    "    tracks = []\n",
    "    for x in range(n_requests):\n",
    "        offset = x*100\n",
    "        r = requests.get('https://api.spotify.com/v1/playlists/' + playlist_id + '/tracks?offset=' + str(offset), headers=headers)\n",
    "        for item in r.json()['items']:\n",
    "            artist = item['track']['artists'][0]['name']\n",
    "            name = item['track']['name']\n",
    "            track_id = item['track']['id']\n",
    "            release_date = pd.to_datetime(item['track']['album']['release_date'], format='%Y-%m-%d')\n",
    "            popularity = item['track']['popularity']\n",
    "            tracks.append([artist, name, track_id, release_date, popularity])\n",
    "    pl = pd.DataFrame(tracks, columns=['artist', 'track', 'id','release_date', 'popularity'])\n",
    "\n",
    "    track_features = {}\n",
    "    for row in pl.itertuples():\n",
    "        print(playlist_length, row[1], row[2]) # artist and track\n",
    "        id = row[3]\n",
    "        features = get_track_features(id)\n",
    "        track_features[id] = features\n",
    "        playlist_length -= 1\n",
    "    tf = pd.DataFrame(track_features).T\n",
    "     \n",
    "    playlist = pd.merge(pl, tf, on='id') # merge the dataframes\n",
    "    playlist = playlist.drop('type', axis=1) # drop the 'type' column\n",
    "    \n",
    "    from IPython.display import display, clear_output\n",
    "    clear_output()\n",
    "    display(playlist)\n",
    "    print('Your data is stored in the dataframe called \"playlist\"')"
   ]
  },
  {
   "attachments": {},
   "cell_type": "markdown",
   "metadata": {},
   "source": [
    "Now that we have a data set stored in `playlist`, we can save it to a csv file. The `index=False` command means we won't include the index as a column in the file."
   ]
  },
  {
   "cell_type": "code",
   "execution_count": null,
   "metadata": {},
   "outputs": [],
   "source": [
    "playlist.to_csv('spotify.csv', index=False)"
   ]
  },
  {
   "attachments": {},
   "cell_type": "markdown",
   "metadata": {},
   "source": [
    "### Column Descriptions\n",
    "\n",
    "From https://developer.spotify.com/documentation/web-api/reference/\n",
    "\n",
    "|Value|Description|\n",
    "|-|-|\n",
    "|track|The name of the track.|\n",
    "|artist|The person or group the track is credited to.|\n",
    "|track_id|The [Spotify ID](https://developer.spotify.com/documentation/web-api/#spotify-uris-and-ids) of the track|\n",
    "|danceability|How suitable a track is for dancing. A value of 0.0 is least danceable and 1.0 is most danceable.|\n",
    "|energy|A perceptual measure of intensity and activity that ranges between 0 to 1. Typically, energetic tracks feel fast, loud, and noisy.|\n",
    "|key|The key the track is in. Integers map to pitches using standard Pitch Class notation. E.g. 0 = C, 1 = C♯/D♭, 2 = D|\n",
    "|loudness|The average loudness of a track in decibels (dB). Values typically ranges between -60 and 0 db.|\n",
    "|mode|The modality (major or minor) of a track, the type of scale from which its melodic content is derived. Major is represented by 1 and minor is 0.|\n",
    "|speechiness|Indicates the presence of spoken words in a track. Values above 0.66 describe tracks that are probably made entirely of spoken words. Values between 0.33 and 0.66 describe tracks that may contain both music and speech while below 0.33 most likely represent music and other non-speech-like tracks.|\n",
    "|acousticness|A confidence measure indicating whether the track is acoustic. Value of 1 represents highest confidence.|\n",
    "|instrumentalness|Predicts whether a track contains no vocals. The closer the value is to 1, the greater likelihood the track contains no vocal content.|\n",
    "|liveness|Detects the presence of an audience in the recording. Higher liveness values represent an increased probability that the track was performed live.|\n",
    "|valence|A measure to describe the musical positiveness conveyed by a track. Tracks with high valence sound more positive (e.g. happy, cheerful, euphoric), while tracks with low valence sound more negative (e.g. sad, depressed, angry).|\n",
    "|tempo|The overall estimated tempo (speed or pace) of a track in beats per minute (BPM).|\n",
    "|duration_ms|The duration of the track in [milliseconds](https://en.wikipedia.org/wiki/Millisecond).|\n",
    "|time_signature|An estimated overall time signature of a track. The time signature is a notational convention to specify how many beats are in each bar (or measure).|\n",
    "|chorus_hit|The approximate start time of the chorus, in seconds|\n",
    "|sections|The number of sections in the track. Sections are defined by large variations in rhythm or timbre.|\n",
    "|popularity|A value between 0 and 1, with 1 being the most popular.|\n",
    "|release_date|The date the track was released.|"
   ]
  },
  {
   "attachments": {},
   "cell_type": "markdown",
   "metadata": {},
   "source": [
    "You can now use these data sets in the [Spotify Data Analysis notebook](06-data-analysis-spotify.ipynb), or go on to the [next notebook](07-primary-data.ipynb) that will introduce you to recording and using your own data."
   ]
  },
  {
   "attachments": {},
   "cell_type": "markdown",
   "metadata": {},
   "source": [
    "[![Callysto.ca License](https://github.com/callysto/curriculum-notebooks/blob/master/callysto-notebook-banner-bottom.jpg?raw=true)](https://github.com/callysto/curriculum-notebooks/blob/master/LICENSE.md)"
   ]
  }
 ],
 "metadata": {
  "kernelspec": {
   "display_name": "Python 3 (ipykernel)",
   "language": "python",
   "name": "python3"
  },
  "language_info": {
   "codemirror_mode": {
    "name": "ipython",
    "version": 3
   },
   "file_extension": ".py",
   "mimetype": "text/x-python",
   "name": "python",
   "nbconvert_exporter": "python",
   "pygments_lexer": "ipython3",
   "version": "3.10.1"
  }
 },
 "nbformat": 4,
 "nbformat_minor": 4
}
