{
 "cells": [
  {
   "attachments": {},
   "cell_type": "markdown",
   "metadata": {},
   "source": [
    "![Callysto.ca Banner](https://github.com/callysto/curriculum-notebooks/blob/master/callysto-notebook-banner-top.jpg?raw=true)\n",
    "\n",
    "<a href=\"https://hub.callysto.ca/jupyter/hub/user-redirect/git-pull?repo=https%3A%2F%2Fgithub.com%2Fcallysto%2Fdata-science-and-artificial-intelligence&branch=main&subPath=analysis/06-data-analysis-pokemon.ipynb&depth=1\" target=\"_parent\"><img src=\"https://raw.githubusercontent.com/callysto/curriculum-notebooks/master/open-in-callysto-button.svg?sanitize=true\" width=\"123\" height=\"24\" alt=\"Open in Callysto\"/></a>"
   ]
  },
  {
   "attachments": {},
   "cell_type": "markdown",
   "metadata": {},
   "source": [
    "# Data Analysis with Pokémon Data\n",
    "\n",
    "![image of Stench](https://raw.githubusercontent.com/PokeAPI/sprites/master/sprites/pokemon/other/official-artwork/1.png)\n",
    "\n",
    "We can start with some Pokémon data that we got from [PokéAPI](https://pokeapi.co/).\n",
    "\n",
    "*Optional: If you are interested in how we retrieved the data, check out [Getting Pokémon Data notebook](06b-getting-pokemon-data.ipynb)*\n",
    "\n",
    "`Run` the following cell to import the data from a [CSV](https://en.wikipedia.org/wiki/Comma-separated_values) file we have stored on [GitHub](https://raw.githubusercontent.com/callysto/data-files/main/data-science-and-artificial-intelligence/)."
   ]
  },
  {
   "cell_type": "code",
   "execution_count": null,
   "metadata": {},
   "outputs": [],
   "source": [
    "import pandas as pd\n",
    "data = pd.read_csv('https://raw.githubusercontent.com/callysto/data-files/main/data-science-and-artificial-intelligence/pokemon.csv')\n",
    "data"
   ]
  },
  {
   "attachments": {},
   "cell_type": "markdown",
   "metadata": {},
   "source": [
    "### Column Descriptions\n",
    "\n",
    "From https://pokeapi.co/docs/v2 and https://pokemon.neoseeker.com\n",
    "\n",
    "Simiply copy and paste the column names into your code cells, less chance of making spelling errors.\n",
    "\n",
    "|Value|Description|\n",
    "|-|-|\n",
    "|id|Unique identifier number|\n",
    "|name|Name of the Pokémon|\n",
    "|base_experience|The base experience gained for defeating this Pokémon|\n",
    "|height|The height of this Pokémon in [decimetres](https://en.wikipedia.org/wiki/Decimetre)|\n",
    "|weight|The weight of this Pokémon in [hectograms](https://en.wikipedia.org/wiki/Kilogram#SI_multiples)|\n",
    "|speed|How quickly the Pokémon can act|\n",
    "|hp|How much health the Pokémon has before fainting (Hit Points)|\n",
    "|attack|The Pokémon's ability to deal damage|\n",
    "|defense|The Pokémon's ability to take physical damage|\n",
    "|special-attack|The damage dealt by a special move|\n",
    "|special-defense|How much damage is dealt when a Pokémon is hit by a special move|\n",
    "|forms|Variations among individual Pokémon|\n",
    "|species|The species of Pokémon|\n",
    "|is_default|Set for exactly one Pokémon used as the default for each species|\n",
    "|pokemon_order|Order for sorting (almost national order, except families are grouped together)|\n",
    "|type1|The primary type of this Pokémon|\n",
    "|type2|The secondary type of this Pokémon|\n",
    "|ability1|One of the abilities this Pokémon could potentially have|\n",
    "|ability2|One of the abilities this Pokémon could potentially have|\n",
    "|ability3|One of the abilities this Pokémon could potentially have|\n",
    "|base_happiness|The happiness when caught by a normal Pokéball (up to 255), higher number means happier Pokémon|\n",
    "|capture_rate|The base capture rate (up to 255), higher number means easier to catch|\n",
    "|color|Color of this Pokémon for Pokédex search|\n",
    "|evolves_from_species|The Pokémon species that evolves into this Pokemon_species|\n",
    "|forms_switchable|Whether or not this Pokémon has multiple forms and can switch between them|\n",
    "|generation|The generation this Pokémon species was introduced in|\n",
    "|growth_rate|The rate at which this Pokémon species gains levels|\n",
    "|habitat|The habitat this Pokémon species can be encountered in|\n",
    "|has_gender_differences|Whether or not this Pokémon has visual gender differences|\n",
    "|hatch_counter|Initial hatch counter: one must walk `255 × (hatch_counter + 1)` steps before this Pokémon's egg hatches, unless utilizing bonuses like Flame Body's|\n",
    "|is_baby|Whether or not this is a baby Pokémon|\n",
    "|is_legendary|Whether or not this is a legendary Pokémon|\n",
    "|is_mythical|Whether or not this is a mythical Pokémon|\n",
    "|species_order|The order in which species should be sorted (based on National Dex order, except families are grouped together and sorted by stage)|\n",
    "|pal_park_encounters|A list of encounters that can be had with this Pokémon species in pal park|\n",
    "|shape|The shape of this Pokémon for Pokédex search|\n",
    "|varieties|A list of the Pokémon that exist within this Pokémon species|\n",
    "|egg_group1|An egg group this Pokémon species is a member of|\n",
    "|egg_group2|An egg group this Pokémon species is a member of|\n",
    "|%_female|The chance of this Pokémon being female (if not genderless)|\n",
    "|%_male|The chance of this Pokémon being male (if not genderless)|"
   ]
  },
  {
   "attachments": {},
   "cell_type": "markdown",
   "metadata": {},
   "source": [
    "We can make some visualizations from this data set, such as speed versus weight. Again, putting the column names into code for the visualization."
   ]
  },
  {
   "cell_type": "code",
   "execution_count": null,
   "metadata": {},
   "outputs": [],
   "source": [
    "import plotly.express as px\n",
    "px.scatter(data, x='weight', y='speed', color='type1', hover_data=['name'], title='Pokemon Speed versus Weight')"
   ]
  },
  {
   "attachments": {},
   "cell_type": "markdown",
   "metadata": {},
   "source": [
    "Or a histogram of shapes."
   ]
  },
  {
   "cell_type": "code",
   "execution_count": null,
   "metadata": {},
   "outputs": [],
   "source": [
    "px.histogram(data, x='shape', color='is_legendary', title='Pokemon Shape Frequencies')"
   ]
  },
  {
   "attachments": {},
   "cell_type": "markdown",
   "metadata": {},
   "source": [
    "## Pokémon Images\n",
    "\n",
    "We can also display images of Pokémon by their `ID` number. For example let's choose the first three from our dataframe."
   ]
  },
  {
   "cell_type": "code",
   "execution_count": null,
   "metadata": {},
   "outputs": [],
   "source": [
    "from IPython.display import Image\n",
    "def display_pokemon(n):\n",
    "    image_url = 'https://raw.githubusercontent.com/PokeAPI/sprites/master/sprites/pokemon/other/official-artwork/'+str(n+1)+'.png'\n",
    "    display(Image(url=image_url, width=200, height=200))\n",
    "\n",
    "for n in range(3):\n",
    "    display_pokemon(n)\n",
    "    print(data['name'][n])"
   ]
  },
  {
   "attachments": {},
   "cell_type": "markdown",
   "metadata": {},
   "source": [
    "## Pokémon Types\n",
    "\n",
    "We also have a data set of the types of Pokémon."
   ]
  },
  {
   "cell_type": "code",
   "execution_count": null,
   "metadata": {},
   "outputs": [],
   "source": [
    "import pandas as pd\n",
    "types = pd.read_csv('https://raw.githubusercontent.com/callysto/data-files/main/data-science-and-artificial-intelligence/pokemon_types.csv')\n",
    "types"
   ]
  },
  {
   "attachments": {},
   "cell_type": "markdown",
   "metadata": {},
   "source": [
    "There are lists in columns 3 and up, but those were just read as strings so we'll need to convert them back to lists. We will also create columns that are the counts of how many items are in each list."
   ]
  },
  {
   "cell_type": "code",
   "execution_count": null,
   "metadata": {},
   "outputs": [],
   "source": [
    "for column in types.columns[3:]:\n",
    "    types[column] = types[column].apply(lambda x: eval(x))\n",
    "    types[column+'_count'] = types[column].apply(lambda x: len(x))\n",
    "types"
   ]
  },
  {
   "attachments": {},
   "cell_type": "markdown",
   "metadata": {},
   "source": [
    "Now we can create some visualizations of those counts."
   ]
  },
  {
   "cell_type": "code",
   "execution_count": null,
   "metadata": {},
   "outputs": [],
   "source": [
    "import plotly.express as px\n",
    "px.bar(types, x='name', y='moves_count', title='Number of Pokémon Moves by Type')"
   ]
  },
  {
   "attachments": {},
   "cell_type": "markdown",
   "metadata": {},
   "source": [
    "We can also make double bar graphs."
   ]
  },
  {
   "cell_type": "code",
   "execution_count": null,
   "metadata": {},
   "outputs": [],
   "source": [
    "px.bar(types, x='name', y=['double_damage_from_count','double_damage_to_count'], barmode='group', title='Pokémon Double Damage by Type')"
   ]
  },
  {
   "attachments": {},
   "cell_type": "markdown",
   "metadata": {},
   "source": [
    "---\n",
    "\n",
    "<span style=\"color:#663399\">Your **assignment** is to create at least three visualizations using Pokémon data, and for each visualization write:</span>\n",
    "* <span style=\"color:#663399\">We created this visualization because</span>\n",
    "* <span style=\"color:#663399\">This visualization shows</span>\n",
    "* <span style=\"color:#663399\">Something interesting we learned from or noticed in this visualization is</span>\n",
    "\n",
    "---\n",
    "\n",
    "The [next notebook](07-primary-data.ipynb) will introduce you to recording and using your own (primary) data."
   ]
  },
  {
   "attachments": {},
   "cell_type": "markdown",
   "metadata": {},
   "source": [
    "[![Callysto.ca License](https://github.com/callysto/curriculum-notebooks/blob/master/callysto-notebook-banner-bottom.jpg?raw=true)](https://github.com/callysto/curriculum-notebooks/blob/master/LICENSE.md)"
   ]
  }
 ],
 "metadata": {
  "kernelspec": {
   "display_name": "Python 3 (ipykernel)",
   "language": "python",
   "name": "python3"
  },
  "language_info": {
   "codemirror_mode": {
    "name": "ipython",
    "version": 3
   },
   "file_extension": ".py",
   "mimetype": "text/x-python",
   "name": "python",
   "nbconvert_exporter": "python",
   "pygments_lexer": "ipython3",
   "version": "3.9.12"
  }
 },
 "nbformat": 4,
 "nbformat_minor": 4
}
