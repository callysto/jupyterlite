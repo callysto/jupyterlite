{
 "cells": [
  {
   "attachments": {},
   "cell_type": "markdown",
   "metadata": {},
   "source": [
    "![Callysto.ca Banner](https://github.com/callysto/curriculum-notebooks/blob/master/callysto-notebook-banner-top.jpg?raw=true)"
   ]
  },
  {
   "attachments": {},
   "cell_type": "markdown",
   "metadata": {},
   "source": [
    "# Primary Data\n",
    "\n",
    "So far we have been using data collected by others (**secondary data**), but we can also use data that we collect ourselves (**primary data**). \n",
    "\n",
    "Three ways to do this:\n",
    "1. Google Sheets\n",
    "1. EtherCalc\n",
    "1. Local Folder\n",
    "1. Other Online Files"
   ]
  },
  {
   "attachments": {},
   "cell_type": "markdown",
   "metadata": {},
   "source": [
    "## 1. Google Sheets\n",
    "\n",
    "One way is read data from a Google Sheet, but you first need to make the Sheet public:\n",
    "\n",
    "1. Click the `Share` button\n",
    "1. Under `General access` click the Down arrow.\n",
    "1. Choose `Anyone with the link`.\n",
    "1. To the right of that, select `Viewer`.\n",
    "1. Click `Copy link`.\n",
    "1. Paste the link into the code cell below between the `'` marks in the first line of the code cell below.\n",
    "\n",
    "**remove the current url in `sheet_link` and replace it with your own url**"
   ]
  },
  {
   "cell_type": "code",
   "execution_count": null,
   "metadata": {},
   "outputs": [],
   "source": [
    "sheet_link = 'https://docs.google.com/spreadsheets/d/11mulzUH3_cueq-V9D5KIlo9oHE9YYZrUSeVyCin7_rM/edit#gid=176703676'\n",
    "\n",
    "import pandas as pd\n",
    "import pyodide_http\n",
    "pyodide_http.patch_all()\n",
    "try:\n",
    "    data = pd.read_csv(sheet_link.replace('/edit#gid=', '/export?format=csv&gid='))\n",
    "except:\n",
    "    data = pd.read_csv(sheet_link.replace('/edit?usp=sharing', '/export?format=csv&gid='))\n",
    "data"
   ]
  },
  {
   "attachments": {},
   "cell_type": "markdown",
   "metadata": {},
   "source": [
    "## 2. EtherCalc\n",
    "\n",
    "You can also use [EtherCalc](https://ethercalc.net/) to create a public spreadsheet that we can read data from.\n",
    "\n",
    "`Run` the following code cell to create an EtherCalc sheet and a link to it. You can change `my_callysto_data` to whatever you'd like your spreadsheet to be named."
   ]
  },
  {
   "cell_type": "code",
   "execution_count": null,
   "metadata": {},
   "outputs": [],
   "source": [
    "spreadsheet_name = 'my_callysto_data'\n",
    "\n",
    "print('Your spreadsheet is available at https://ethercalc.net/' + spreadsheet_name)"
   ]
  },
  {
   "attachments": {},
   "cell_type": "markdown",
   "metadata": {},
   "source": [
    "After you have added data to that spreadsheet, you load it into a dataframe using the following code cell."
   ]
  },
  {
   "cell_type": "code",
   "execution_count": null,
   "metadata": {},
   "outputs": [],
   "source": [
    "import pandas as pd\n",
    "import pyodide_http\n",
    "pyodide_http.patch_all()\n",
    "xlsx_url = 'https://ethercalc.net/' + spreadsheet_name + '.xlsx'\n",
    "data = pd.read_excel(xlsx_url)\n",
    "data"
   ]
  },
  {
   "attachments": {},
   "cell_type": "markdown",
   "metadata": {},
   "source": [
    "It's even possible to write to an EtherCalc sheet using Python code."
   ]
  },
  {
   "cell_type": "code",
   "execution_count": null,
   "metadata": {},
   "outputs": [],
   "source": [
    "observations = [1, 2, 4, 8, 16]\n",
    "\n",
    "import requests\n",
    "from datetime import datetime\n",
    "base_url = 'https://ethercalc.net/'\n",
    "post_url = base_url + '_/' + spreadsheet_name\n",
    "print('posting to', base_url + spreadsheet_name)\n",
    "date_and_time = datetime.now().strftime(\"%Y-%m-%d %H:%M:%S\")\n",
    "data_string = date_and_time+','\n",
    "for observation in observations:\n",
    "    data_string += str(observation)+','\n",
    "r = requests.post(post_url, data = data_string)\n",
    "print('successful:', r.json()['command'][1])"
   ]
  },
  {
   "attachments": {},
   "cell_type": "markdown",
   "metadata": {},
   "source": [
    "## 3. Local Folder\n",
    "\n",
    "If we don't want or need the data to be publicly accessible on the internet, a file can be uploaded to [the same folder as this notebook](.) and then loaded as a local file.\n",
    "\n",
    "1. Open the folder that this notebook is in by clicking on the logo at the top left of the page. If you're running in Jupyter Lab the file browser is already on the left.\n",
    "1. Click the `Upload` button at the top right (or the top left in JupyterLab).\n",
    "1. A file picker window will open, select the file from your computer and click the `Open` button.\n",
    "1. Click the blue `Upload` button that appears next to the file.\n",
    "1. Change `my_data_file.csv` in the code below to the name of your file, and change `read_csv` to `read_excel` if it is an Excel file."
   ]
  },
  {
   "cell_type": "code",
   "execution_count": null,
   "metadata": {},
   "outputs": [],
   "source": [
    "import pandas as pd\n",
    "data = pd.read_csv('my_data_file.csv')"
   ]
  },
  {
   "attachments": {},
   "cell_type": "markdown",
   "metadata": {},
   "source": [
    "## 4. Other Online Sharing Sites\n",
    "\n",
    "Another option is to save the data in a [CSV](https://en.wikipedia.org/wiki/Comma-separated_values) or [Excel file](https://en.wikipedia.org/wiki/Microsoft_Excel#File_formats) format. Then upload it to an online file sharing site such as [GitHub](https://github.com).\n",
    "\n",
    "A file can be loaded from the link. If you are using GitHub, make sure you copy the [raw link](https://docs.github.com/en/repositories/working-with-files/using-files/viewing-a-file#viewing-or-copying-the-raw-file-content).\n",
    "\n",
    "Change `read_csv` to `read_excel` if it is an Excel file."
   ]
  },
  {
   "cell_type": "code",
   "execution_count": null,
   "metadata": {},
   "outputs": [],
   "source": [
    "import pyodide_http\n",
    "pyodide_http.patch_all()\n",
    "import pandas as pd\n",
    "data = pd.read_csv('https://raw.githubusercontent.com/callysto/data-files/main/data-science-and-artificial-intelligence/pets.csv')\n",
    "data"
   ]
  },
  {
   "attachments": {},
   "cell_type": "markdown",
   "metadata": {},
   "source": [
    "---\n",
    "\n",
    "<span style=\"color:#663399\">Your **assignment** is to create a document with least one visualization of your own data, and write about what you notice.</span>\n",
    "\n",
    "---\n",
    "\n",
    "The [next notebook](08-natural-language-processing.ipynb) will introduce artificial intelligence and natural language processing."
   ]
  },
  {
   "attachments": {},
   "cell_type": "markdown",
   "metadata": {},
   "source": [
    "[![Callysto.ca License](https://github.com/callysto/curriculum-notebooks/blob/master/callysto-notebook-banner-bottom.jpg?raw=true)](https://github.com/callysto/curriculum-notebooks/blob/master/LICENSE.md)"
   ]
  }
 ],
 "metadata": {
  "kernelspec": {
   "display_name": "Python 3 (ipykernel)",
   "language": "python",
   "name": "python3"
  },
  "language_info": {
   "codemirror_mode": {
    "name": "ipython",
    "version": 3
   },
   "file_extension": ".py",
   "mimetype": "text/x-python",
   "name": "python",
   "nbconvert_exporter": "python",
   "pygments_lexer": "ipython3",
   "version": "3.9.12"
  }
 },
 "nbformat": 4,
 "nbformat_minor": 4
}
