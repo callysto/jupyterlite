{
 "cells": [
  {
   "attachments": {},
   "cell_type": "markdown",
   "metadata": {},
   "source": [
    "![Callysto.ca Banner](https://github.com/callysto/curriculum-notebooks/blob/master/callysto-notebook-banner-top.jpg?raw=true)\n",
    "\n",
    "<a href=\"https://hub.callysto.ca/jupyter/hub/user-redirect/git-pull?repo=https%3A%2F%2Fgithub.com%2Fcallysto%2Fdata-science-and-artificial-intelligence&branch=main&subPath=11-training-ai.ipynb&depth=1\" target=\"_parent\"><img src=\"https://raw.githubusercontent.com/callysto/curriculum-notebooks/master/open-in-callysto-button.svg?sanitize=true\" width=\"123\" height=\"24\" alt=\"Open in Callysto\"/></a>"
   ]
  },
  {
   "attachments": {},
   "cell_type": "markdown",
   "metadata": {},
   "source": [
    "# Training AI\n",
    "\n",
    "We are going to train an AI system to recognize if an image contains a cat or a dog. You can also watch this [video introduction to supervised machine learning](https://www.youtube.com/embed/wpYmbeyCmlQ)."
   ]
  },
  {
   "attachments": {},
   "cell_type": "markdown",
   "metadata": {},
   "source": [
    "## Training Data\n",
    "\n",
    "We will use images that are [public domain](https://en.wikipedia.org/wiki/Public_domain) or [Creative Commons](https://creativecommons.org/) because we are allowed to use them without purchasing a license.\n",
    "\n",
    "The more examples you have, the better the AI will be able to discriminate between cats and dogs.\n",
    "\n",
    "1. Create two new folders on your computer, one called `cats` and one called `dogs`.\n",
    "1. Find and download at least 10 images of cats from [Pexels](https://www.pexels.com/search/cat/) or [Pixabay](https://pixabay.com/images/search/cat/). Put them in your `cats` folder.\n",
    "1. Find and download at least 10 images of dogs from [Pexels](https://www.pexels.com/search/dog/) or [Pixabay](https://pixabay.com/images/search/dog/). Put them in your `dogs` folder.\n",
    "\n",
    "## Teaching the Machine\n",
    "\n",
    "1. Open [Teachable Machine image training](https://teachablemachine.withgoogle.com/train/image)\n",
    "1. Rename `Class 1` as `cat`, and `Class 2` as `dog` by clicking on the pencil icons.\n",
    "1. Upload your cat images to the `cat` class and your dog images to the `dog` class.\n",
    "1. Click the `Train model` button.\n",
    "1. After the training has finished, click the `Export Model` button, click the `Tensorflow Lite` tab on the right, then click the `Download my model` button. The button will change to `Converting model...` and it will take a few minutes, don't click away from that browser tab.\n",
    "1. Your model should then download automatically as `converted_tflite.zip`.\n",
    "1. Upload your `converted_tflite.zip` file to [the folder that this notebook is in](.) on Callysto Hub or wherever you are running this notebook.\n",
    "    * You can open the folder that this notebook is in by clicking on the logo at the top left of the page and then click on the `data-science-and-artificial-intelligence` folder.\n",
    "    * If you're running in Jupyter Lab the file browser is already on the left.\n",
    "\n",
    "After you have completed all of those steps, run the following cell to set up the image classifier."
   ]
  },
  {
   "cell_type": "code",
   "execution_count": null,
   "metadata": {},
   "outputs": [],
   "source": [
    "%pip install -q tflite-runtime zipfile pillow\n",
    "import tflite_runtime.interpreter as tflite\n",
    "from zipfile import ZipFile\n",
    "from PIL import Image, ImageOps\n",
    "import numpy as np\n",
    "import requests, urllib.request, os\n",
    "import pandas as pd\n",
    "from IPython.display import clear_output, display\n",
    "clear_output()\n",
    "\n",
    "try:\n",
    "    with ZipFile('converted_tflite.zip', 'r') as zip_object:\n",
    "        zip_object.extractall()\n",
    "except:\n",
    "    print('Unable to find your converted_tflite.zip file, using online version')\n",
    "    r = requests.get('https://raw.githubusercontent.com/callysto/data-files/main/data-science-and-artificial-intelligence/converted_tflite.zip')\n",
    "    with open('converted_tflite.zip', 'wb') as f:\n",
    "        f.write(r.content)\n",
    "    with ZipFile('converted_tflite.zip', 'r') as zip_object:\n",
    "        zip_object.extractall()\n",
    "interpreter = tflite.Interpreter('model_unquant.tflite')\n",
    "interpreter.allocate_tensors()\n",
    "input_details = interpreter.get_input_details()\n",
    "output_details = interpreter.get_output_details()\n",
    "input_shape = input_details[0]['shape']\n",
    "\n",
    "class_names = open('labels.txt', 'r').readlines()\n",
    "os.remove('model_unquant.tflite')\n",
    "os.remove('labels.txt')\n",
    "\n",
    "def classify_image(image_url, show_image=False):\n",
    "    filename = image_url.split('/')[-1]\n",
    "    r = requests.get(image_url, stream=True)\n",
    "    with open(filename, 'wb') as f:\n",
    "        f.write(r.content)\n",
    "    image = Image.open(filename).convert('RGB')\n",
    "    image = image.resize((input_shape[1], input_shape[2]))\n",
    "    if show_image:\n",
    "        display(image)\n",
    "    os.remove(filename)\n",
    "    input_data = (np.expand_dims(np.array(image), axis=0) / 255.0).astype(np.float32)\n",
    "    interpreter.set_tensor(input_details[0]['index'], input_data)\n",
    "    interpreter.invoke()\n",
    "    output_data = interpreter.get_tensor(output_details[0]['index'])\n",
    "    predicted_class = np.argmax(output_data)\n",
    "    predicted_class_name = class_names[predicted_class].strip()[2:]\n",
    "    confidence_level = output_data[0][predicted_class]\n",
    "    return predicted_class_name, confidence_level, image\n",
    "\n",
    "clear_output()\n",
    "print('Model imported and classify_image(image_url) function defined')"
   ]
  },
  {
   "attachments": {},
   "cell_type": "markdown",
   "metadata": {},
   "source": [
    "The function will return a classification and confidence level, and a resized version of the image.\n",
    "\n",
    "Now that we have set up the `classify_image()` function, we can load an image from a link and get its classification according to our trained AI.\n",
    "\n",
    "Change the string in the `image_url` variable to be a direct link to an online image.\n",
    "\n",
    "**Make sure you have copied the `image address` and that it is not a link to a webpage. The url should end with something like `.jpg`, `.gif`, or `.png`**"
   ]
  },
  {
   "cell_type": "code",
   "execution_count": null,
   "metadata": {},
   "outputs": [],
   "source": [
    "image_url = 'https://upload.wikimedia.org/wikipedia/commons/thumb/b/b6/Felis_catus-cat_on_snow.jpg/1024px-Felis_catus-cat_on_snow.jpg'\n",
    "\n",
    "results = classify_image(image_url)\n",
    "results"
   ]
  },
  {
   "attachments": {},
   "cell_type": "markdown",
   "metadata": {},
   "source": [
    "The first value returned is the classification, in our case `cat` or `dog`.\n",
    "\n",
    "The second is \"confidence score\" which is how sure the AI is of that classification, `1` means `100%` confident.\n",
    "\n",
    "The third value is the downloaded and resized image."
   ]
  },
  {
   "cell_type": "code",
   "execution_count": null,
   "metadata": {},
   "outputs": [],
   "source": [
    "results[2]"
   ]
  },
  {
   "attachments": {},
   "cell_type": "markdown",
   "metadata": {},
   "source": [
    "We can even use this to categorize a list of online images. We'll try it with some art rather than photos and see how it performs."
   ]
  },
  {
   "cell_type": "code",
   "execution_count": null,
   "metadata": {},
   "outputs": [],
   "source": [
    "urls = [\n",
    "    'https://www.artic.edu/iiif/2/e8e67721-bbb1-d007-82bd-c430ea73db70/full/843,/0/default.jpg',\n",
    "    'https://www.artic.edu/iiif/2/08b38ff2-2659-2c0b-dba8-221e173f4fc3/full/843,/0/default.jpg',\n",
    "    'https://www.artic.edu/iiif/2/c7a1688c-8a21-8eab-086d-3537b1506705/full/843,/0/default.jpg',\n",
    "    'https://www.artic.edu/iiif/2/86706756-2cf8-6a7c-58cc-90efaa4db124/full/843,/0/default.jpg',\n",
    "    'https://www.artic.edu/iiif/2/2a1a5c49-9249-ad65-f1ec-cacf3078619d/full/843,/0/default.jpg',\n",
    "    'https://www.artic.edu/iiif/2/4f6137e2-b96e-2815-f698-e3ad45840178/full/843,/0/default.jpg',\n",
    "]\n",
    "\n",
    "data = pd.DataFrame(urls, columns=['url'])\n",
    "labels = []\n",
    "confidences = []\n",
    "images = []\n",
    "\n",
    "for url in urls:\n",
    "    results = classify_image(url, True)\n",
    "    labels.append(results[0])\n",
    "    confidences.append(results[1])\n",
    "    images.append(results[2])\n",
    "\n",
    "data['label'] = labels\n",
    "data['confidence'] = confidences\n",
    "data['image'] = images\n",
    "data"
   ]
  },
  {
   "attachments": {},
   "cell_type": "markdown",
   "metadata": {},
   "source": [
    "To display the images and their classifications, we need to loop through the dataframe."
   ]
  },
  {
   "cell_type": "code",
   "execution_count": null,
   "metadata": {},
   "outputs": [],
   "source": [
    "for index, row in data.iterrows():\n",
    "    display(row['image'])\n",
    "    print(row['label'], row['confidence'])\n",
    "    print('-----------------------------')"
   ]
  },
  {
   "attachments": {},
   "cell_type": "markdown",
   "metadata": {},
   "source": [
    "If the model is not accurately identifying cats and dogs, go back to the start of this notebook and train it with more images.\n",
    "\n",
    "Of course we can also use this same process to train an AI model to categorize images of other things, for example identifying if something is a soup, salad, or sandwich.\n",
    "\n",
    "---\n",
    "\n",
    "<span style=\"color:#663399\">Your **assignment** is to write a paragraph what you learned about training and implementing an AI system.</span>\n",
    "\n",
    "<span style=\"color:#FF6633\">An **optional advanced challenge** is write a few paragraphs about potential applications of AI that you could train.</span>\n",
    "\n",
    "---\n",
    "\n",
    "The [next notebook](12-getting-data.ipynb) will introduce some other ways to get data."
   ]
  },
  {
   "attachments": {},
   "cell_type": "markdown",
   "metadata": {},
   "source": [
    "[![Callysto.ca License](https://github.com/callysto/curriculum-notebooks/blob/master/callysto-notebook-banner-bottom.jpg?raw=true)](https://github.com/callysto/curriculum-notebooks/blob/master/LICENSE.md)"
   ]
  }
 ],
 "metadata": {
  "kernelspec": {
   "display_name": "Python 3",
   "language": "python",
   "name": "python3"
  },
  "language_info": {
   "codemirror_mode": {
    "name": "ipython",
    "version": 3
   },
   "file_extension": ".py",
   "mimetype": "text/x-python",
   "name": "python",
   "nbconvert_exporter": "python",
   "pygments_lexer": "ipython3",
   "version": "3.10.12"
  },
  "orig_nbformat": 4
 },
 "nbformat": 4,
 "nbformat_minor": 2
}
