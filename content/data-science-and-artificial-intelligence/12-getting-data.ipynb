{
 "cells": [
  {
   "attachments": {},
   "cell_type": "markdown",
   "metadata": {},
   "source": [
    "![Callysto.ca Banner](https://github.com/callysto/curriculum-notebooks/blob/master/callysto-notebook-banner-top.jpg?raw=true)\n",
    "\n",
    "<a href=\"https://hub.callysto.ca/jupyter/hub/user-redirect/git-pull?repo=https%3A%2F%2Fgithub.com%2Fcallysto%2Fdata-science-and-artificial-intelligence&branch=main&subPath=12-getting-data.ipynb&depth=1\" target=\"_parent\"><img src=\"https://raw.githubusercontent.com/callysto/curriculum-notebooks/master/open-in-callysto-button.svg?sanitize=true\" width=\"123\" height=\"24\" alt=\"Open in Callysto\"/></a>"
   ]
  },
  {
   "attachments": {},
   "cell_type": "markdown",
   "metadata": {},
   "source": [
    "# Getting Data\n",
    "\n",
    "We will look at a few different ways to get more data from sources on the internet."
   ]
  },
  {
   "attachments": {},
   "cell_type": "markdown",
   "metadata": {},
   "source": [
    "## Weather Data\n",
    "\n",
    "A website that will give us current and forecasted weather data is [WTTR](https://wttr.in/). It will try to guess your location, or you can specify a location like https://wttr.in/calgary or https://wttr.in/vancouver,+bc or https://wttr.in/yeg (using a three-letter airport code).\n",
    "\n",
    "We can also ask for data in [JSON](https://en.wikipedia.org/wiki/JSON) format (with `?format=j1`), which is useful for programming. We'll use the [Requests](https://requests.readthedocs.io/en/latest/) library for downloading data."
   ]
  },
  {
   "cell_type": "code",
   "execution_count": null,
   "metadata": {},
   "outputs": [],
   "source": [
    "import pyodide_http\n",
    "pyodide_http.patch_all()\n",
    "import requests\n",
    "r = requests.get('https://wttr.in/?format=j1')\n",
    "r.json()['current_condition'][0]"
   ]
  },
  {
   "attachments": {},
   "cell_type": "markdown",
   "metadata": {},
   "source": [
    "Let's try getting some data to compare the weather in different locations."
   ]
  },
  {
   "cell_type": "code",
   "execution_count": null,
   "metadata": {},
   "outputs": [],
   "source": [
    "locations = ['Edmonton, AB', 'Calgary, AB', 'Victoria, BC']\n",
    "\n",
    "import pyodide_http\n",
    "pyodide_http.patch_all()\n",
    "import requests\n",
    "import pandas as pd\n",
    "\n",
    "data = pd.DataFrame(locations, columns=['location'])  # create a dataframe with locations\n",
    "def get_weather(location):\n",
    "    r = requests.get('https://wttr.in/'+location+'?format=j1')\n",
    "    return r.json()['current_condition'][0]\n",
    "data['weather'] = data['location'].apply(get_weather) # add weather column to dataframe\n",
    "data"
   ]
  },
  {
   "attachments": {},
   "cell_type": "markdown",
   "metadata": {},
   "source": [
    "So that gave us a dataframe with the weather data in a single column. Let's expand that column and also try to convert an numbers to integers."
   ]
  },
  {
   "cell_type": "code",
   "execution_count": null,
   "metadata": {},
   "outputs": [],
   "source": [
    "data = data.join(pd.DataFrame(data['weather'].tolist())).drop('weather', axis=1)\n",
    "\n",
    "for column in data.columns:\n",
    "    data[column] = pd.to_numeric(data[column], errors='ignore')\n",
    "\n",
    "data"
   ]
  },
  {
   "attachments": {},
   "cell_type": "markdown",
   "metadata": {},
   "source": [
    "Now let's try a visualization of some of those columns."
   ]
  },
  {
   "cell_type": "code",
   "execution_count": null,
   "metadata": {},
   "outputs": [],
   "source": [
    "import plotly.express as px\n",
    "px.bar(data, x='location', y=['humidity','temp_C','visibility','uvIndex'], barmode='group', title='Weather Data')"
   ]
  },
  {
   "attachments": {},
   "cell_type": "markdown",
   "metadata": {},
   "source": [
    "## Data Tables on Pages\n",
    "\n",
    "If there are data tables on webpages we can read them using `.read_html()` from the [pandas](https://pandas.pydata.org/) library.\n",
    "\n",
    "### Wikipedia\n",
    "\n",
    "For example, we can read the tables on a Wikipedia page such as [List of Alberta general elections](https://en.wikipedia.org/wiki/List_of_Alberta_general_elections)."
   ]
  },
  {
   "cell_type": "code",
   "execution_count": null,
   "metadata": {},
   "outputs": [],
   "source": [
    "import pyodide_http\n",
    "pyodide_http.patch_all()\n",
    "import pandas as pd\n",
    "tables = pd.read_html('https://en.wikipedia.org/wiki/List_of_Alberta_general_elections')\n",
    "for table in tables:\n",
    "    display(table.head(3))"
   ]
  },
  {
   "attachments": {},
   "cell_type": "markdown",
   "metadata": {},
   "source": [
    "The second data table looks the most interesting, we can access it with `tables[1]` (the first table is `table[0]`). But in case that changes we can search through the data tables to find the one that contains a `'Seats'` column."
   ]
  },
  {
   "cell_type": "code",
   "execution_count": null,
   "metadata": {},
   "outputs": [],
   "source": [
    "data = [t for t in tables if 'Seats' in t.columns][0]\n",
    "data.head()"
   ]
  },
  {
   "attachments": {},
   "cell_type": "markdown",
   "metadata": {},
   "source": [
    "If we want to create a visualization of the data, we'll need to convert the values in the columns to numbers. We'll also make sure there are only digits in those columns."
   ]
  },
  {
   "cell_type": "code",
   "execution_count": null,
   "metadata": {},
   "outputs": [],
   "source": [
    "import piplite\n",
    "await piplite.install(['plotly','nbformat'])\n",
    "import plotly.express as px\n",
    "\n",
    "data['Seats'] = data['Seats'].str.extract('(\\d+)', expand=False) # only keep the digits\n",
    "data['Seats'] = pd.to_numeric(data['Seats'])\n",
    "try:\n",
    "    data['Year'] = data['Year'].str.extract('(\\d+)', expand=False)\n",
    "except:\n",
    "    pass # if it's not a column of strings, don't do anything\n",
    "data['Year'] = pd.to_numeric(data['Year'])\n",
    "px.line(data, x='Year', y='Seats', title='Seats in Alberta Legislature')"
   ]
  },
  {
   "attachments": {},
   "cell_type": "markdown",
   "metadata": {},
   "source": [
    "### Another Webpage Example\n",
    "\n",
    "Next let's get the Alberta electrical supply and demand report dashboard from [AESO (Alberta Electric System Operator)](http://ets.aeso.ca/ets_web/ip/Market/Reports/CSDReportServlet). We'll need to use `header=0` to read the data tables properly."
   ]
  },
  {
   "cell_type": "code",
   "execution_count": null,
   "metadata": {},
   "outputs": [],
   "source": [
    "import pyodide_http\n",
    "pyodide_http.patch_all(\n",
    "import pandas as pd\n",
    "tables = pd.read_html('http://ets.aeso.ca/ets_web/ip/Market/Reports/CSDReportServlet', header=0)\n",
    "\n",
    "for table in tables:\n",
    "    display(table.head(3))"
   ]
  },
  {
   "attachments": {},
   "cell_type": "markdown",
   "metadata": {},
   "source": [
    "Let's check out `tables[5]` (the sixth data table) that shows us the totals for each type of energy generation technology."
   ]
  },
  {
   "cell_type": "code",
   "execution_count": null,
   "metadata": {},
   "outputs": [],
   "source": [
    "tables[5]"
   ]
  },
  {
   "attachments": {},
   "cell_type": "markdown",
   "metadata": {},
   "source": [
    "Because of the way it was formatted, the titles are actually on the first row. Let's fix that, convert values to numbers, and then create a bar chart."
   ]
  },
  {
   "cell_type": "code",
   "execution_count": null,
   "metadata": {},
   "outputs": [],
   "source": [
    "data = tables[5]\n",
    "data.columns = data.iloc[0] # set the column names to the first row\n",
    "data = data.drop(0) # drop the labels row\n",
    "data = data.drop(9) # drop the 'TOTAL' row\n",
    "\n",
    "for column in data.columns:\n",
    "    data[column] = pd.to_numeric(data[column], errors='ignore')\n",
    "\n",
    "px.bar(data, x='GROUP', y='MC', title='Maximum Capacity of Elecrical Generation Technologies in Alberta')"
   ]
  },
  {
   "attachments": {},
   "cell_type": "markdown",
   "metadata": {},
   "source": [
    "---\n",
    "\n",
    "<span style=\"color:#663399\">Your **assignment** is to create a data visualization from one of the other data tables in this notebook, then paste your visualization into a document.</span>\n",
    "\n",
    "<span style=\"color:#FF6633\">An **optional advanced challenge** is to create a data visualization from an online table and paste your visualization into a document.</span>\n",
    "\n",
    "---\n",
    "\n",
    "That is the end of the \"Data Science and Artificial Intelligence\" series of notebooks. If you are interested in exploring more, check out [Callysto.ca](https://www.callysto.ca/)."
   ]
  },
  {
   "attachments": {},
   "cell_type": "markdown",
   "metadata": {},
   "source": [
    "[![Callysto.ca License](https://github.com/callysto/curriculum-notebooks/blob/master/callysto-notebook-banner-bottom.jpg?raw=true)](https://github.com/callysto/curriculum-notebooks/blob/master/LICENSE.md)"
   ]
  }
 ],
 "metadata": {
  "kernelspec": {
   "display_name": "Python 3",
   "language": "python",
   "name": "python3"
  },
  "language_info": {
   "codemirror_mode": {
    "name": "ipython",
    "version": 3
   },
   "file_extension": ".py",
   "mimetype": "text/x-python",
   "name": "python",
   "nbconvert_exporter": "python",
   "pygments_lexer": "ipython3",
   "version": "3.10.1"
  },
  "orig_nbformat": 4
 },
 "nbformat": 4,
 "nbformat_minor": 2
}
