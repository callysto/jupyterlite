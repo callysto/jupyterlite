{
 "cells": [
  {
   "attachments": {},
   "cell_type": "markdown",
   "metadata": {},
   "source": [
    "![Callysto.ca Banner](https://github.com/callysto/curriculum-notebooks/blob/master/callysto-notebook-banner-top.jpg?raw=true)\n",
    "\n",
    "<a href=\"https://hub.callysto.ca/jupyter/hub/user-redirect/git-pull?repo=https%3A%2F%2Fgithub.com%2Fcallysto%2Fdata-science-and-artificial-intelligence&branch=main&subPath=10-ai-issues-and-ethics.ipynb&depth=1\" target=\"_parent\"><img src=\"https://raw.githubusercontent.com/callysto/curriculum-notebooks/master/open-in-callysto-button.svg?sanitize=true\" width=\"123\" height=\"24\" alt=\"Open in Callysto\"/></a>"
   ]
  },
  {
   "attachments": {},
   "cell_type": "markdown",
   "metadata": {},
   "source": [
    "# AI Issues and Ethics\n",
    "\n",
    "While there is a lot of excitement around AI tools, there are many issues to consider. We'll start with some videos from [Ethically Aligned AI](https://www.ethicallyalignedai.com)\n",
    "and [Canadian Civil Liberties Association](https://ccla.org) that introduce some of these issues. Run the following cell to display the videos."
   ]
  },
  {
   "cell_type": "code",
   "execution_count": null,
   "metadata": {},
   "outputs": [],
   "source": [
    "from IPython.display import YouTubeVideo\n",
    "video_list = ['QlVIRCPwHLc', '6FrtLhOKhrw', 'E5Hf0LcHe9k', 'O-Hxc6NDAsM']\n",
    "for video in video_list:\n",
    "    display(YouTubeVideo(video, width=800, height=450))"
   ]
  },
  {
   "attachments": {},
   "cell_type": "markdown",
   "metadata": {},
   "source": [
    "Here is a list of topics to think about and discuss.\n",
    "\n",
    "* Is bias in the training data a problem? Could this lead to increased polarization?\n",
    "* Might AI help make rich people richer and poor people poorer?\n",
    "* Will AI cause people to lose their jobs?\n",
    "* Could relying on AI lead to us no longer being able to do some things?\n",
    "* If we enjoy doing things, should we use AI or machines to do those things? Should we try to prevent AI or machines from doing those things?\n",
    "* Will our world be better if some professions, like doctors or drivers, use AI to help them do their jobs?\n",
    "* Is it plagiarism or cheating to use generative AI tools in school? Should we block AI tools in schools?\n",
    "* If everyone uses AI tools to write or create art, will there be any new or creative ideas?\n",
    "* Training and implementing AI uses a lot of electricity. Is it worth the environmental impact?"
   ]
  },
  {
   "attachments": {},
   "cell_type": "markdown",
   "metadata": {},
   "source": [
    "---\n",
    "\n",
    "<span style=\"color:#663399\">Your **assignment** is to write a paragraph about one ethical issue related to artificial intelligence. Include why you think it is an important issue and what we might do about it.</span>\n",
    "\n",
    "<span style=\"color:#FF6633\">An **optional advanced challenge** is to click through the judging on [Moral Machine](https://www.moralmachine.net/), compare your results to others, and think about why you suggested those choices.</span>\n",
    "\n",
    "---\n",
    "\n",
    "The [next notebook](11-training-ai.ipynb) will take you through the process of training an AI."
   ]
  },
  {
   "attachments": {},
   "cell_type": "markdown",
   "metadata": {},
   "source": [
    "[![Callysto.ca License](https://github.com/callysto/curriculum-notebooks/blob/master/callysto-notebook-banner-bottom.jpg?raw=true)](https://github.com/callysto/curriculum-notebooks/blob/master/LICENSE.md)"
   ]
  }
 ],
 "metadata": {
  "kernelspec": {
   "display_name": "Python 3",
   "language": "python",
   "name": "python3"
  },
  "language_info": {
   "codemirror_mode": {
    "name": "ipython",
    "version": 3
   },
   "file_extension": ".py",
   "mimetype": "text/x-python",
   "name": "python",
   "nbconvert_exporter": "python",
   "pygments_lexer": "ipython3",
   "version": "3.10.6"
  },
  "orig_nbformat": 4
 },
 "nbformat": 4,
 "nbformat_minor": 2
}
