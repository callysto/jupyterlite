{
 "cells": [
  {
   "cell_type": "markdown",
   "metadata": {},
   "source": [
    "![Callysto.ca Banner](https://github.com/callysto/curriculum-notebooks/blob/master/callysto-notebook-banner-top.jpg?raw=true)\n",
    "\n",
    "<a href=\"https://hub.callysto.ca/jupyter/hub/user-redirect/git-pull?repo=https%3A%2F%2Fgithub.com%2Fcallysto%2Fdata-science-and-artificial-intelligence&branch=main&subPath=09-generative-ai.ipynb&depth=1\" target=\"_parent\"><img src=\"https://raw.githubusercontent.com/callysto/curriculum-notebooks/master/open-in-callysto-button.svg?sanitize=true\" width=\"123\" height=\"24\" alt=\"Open in Callysto\"/></a>"
   ]
  },
  {
   "cell_type": "markdown",
   "metadata": {},
   "source": [
    "# Generative AI\n",
    "\n",
    "We have already looked at discriminative artificial intelligence that allows us detect and classify things, whether they are words, faces, or street signs. Next we will look at generative AI.\n",
    "\n",
    "Generative artificial intelligence includes tools that can create things like pictures, stories, essays, or music. It generates content based on things in training data sets that are mostly likely to appear near other things. For example, the phrase that starts `Fortnite is my favourite` would most likely be followed by the word `game`.\n",
    "\n",
    "[![Gen AI](https://img.youtube.com/vi/cPni3HqtaOM/0.jpg)](https://www.youtube.com/watch?v=cPni3HqtaOM)\n",
    "\n",
    "These tools are continually improving, and we'll take a look at some of them that we can use without signing up or logging in. If you find a link or tool here that is no longer working, please email `contact@callysto.ca` to let us know."
   ]
  },
  {
   "cell_type": "markdown",
   "metadata": {},
   "source": [
    "---\n",
    "## Text Generation\n",
    "\n",
    "There are also many chat-based or text generation AI tools. \n",
    "\n",
    "The most famous is [ChatGPT](https://chat-gpt.org), but there are others such as; \n",
    "- [Perplexity](https://www.perplexity.ai)\n",
    "- [InferKit](https://app.inferkit.com/demo) \n",
    "- [AI Writer](https://tools.picsart.com/text/ai-writer/editor/?id=0) that are free to use with no sign-up required\n",
    "\n"
   ]
  },
  {
   "cell_type": "markdown",
   "metadata": {},
   "source": [
    "---\n",
    "## Code Generation\n",
    "\n",
    "There are a few generative AI tools that a specifically designed for generating code. \n",
    "\n",
    "- [GitHub Copilot](https://github.com/features/copilot) GitHub Copilot is a code-generation tool that is described as an \"AI pair programmer\" to help you write code. It is free for students and teachers, but it requires to [sign up and verify your status](https://techcommunity.microsoft.com/t5/educator-developer-blog/step-by-step-setting-up-github-student-and-github-copilot-as-an/ba-p/3736279) and [isntall a VS Code extension](https://docs.github.com/en/copilot/quickstart#installing-the-github-copilot-extension-for-visual-studio-code).\n",
    "\n",
    "- [Codeium](https://codeium.com/) A free code acceleration toolkit built on cutting edge AI technology. Currently, Codeium provides code completion tool in over 20+ languages.\n",
    "\n",
    "- CodeGeeX  hosts a free [code generation site](https://codegeex.cn/playground) that allows use to generate code from comments or descriptions, as well as [GitHub repository of their code](https://github.com/THUDM/CodeGeeX). \n",
    "\n",
    "1. Open [CodeGeeX Playground](https://codegeex.cn/playground).\n",
    "1. Set the language to `Python` and paste in the following two lines of code:\n",
    "    ```\n",
    "    # Calculate the sum of all the multiples of 5 that are less than 100\n",
    "    sum = 0\n",
    "    ```\n",
    "1. Click the `Generate` button repeatedly until you see a line that includes `Gode generation finished`.\n",
    "1. Paste the code output into the cell below and run the cell."
   ]
  },
  {
   "cell_type": "code",
   "execution_count": null,
   "metadata": {},
   "outputs": [],
   "source": []
  },
  {
   "cell_type": "markdown",
   "metadata": {},
   "source": [
    "Hopefully CodeGeeX generated something like\n",
    "```\n",
    "sum = 0\n",
    "for i in range(1, 100):\n",
    "    if i % 5 == 0:\n",
    "        sum += i\n",
    "print(sum)\n",
    "```\n",
    "and the output of the code should be `950`."
   ]
  },
  {
   "cell_type": "markdown",
   "metadata": {},
   "source": [
    "## Image Generation\n",
    "\n",
    "Generating images from text descriptions (or from existing images) is another interesting application of AI.\n",
    "\n",
    "- [Stable Diffusion Playground](https://stablediffusionweb.com/#demo) \n",
    "\n",
    "- [Craiyon](https://www.craiyon.com) allow you input a prompt and see what is generated. \n",
    "\n",
    "- [Hugging Face](https://huggingface.co) such as [GLIGen](https://huggingface.co/spaces/gligen/demo) which allows you to draw where you want things to appear and [InstructPix2Pix](https://huggingface.co/spaces/timbrooks/instruct-pix2pix) which allows you to edit and photos using prompts."
   ]
  },
  {
   "cell_type": "markdown",
   "metadata": {},
   "source": [
    "## Music Generation\n",
    "\n",
    "There aren't as many tools for generating music, try these;\n",
    "\n",
    "- [Riffusion](https://www.riffusion.com) \n",
    "\n",
    "- [SoundDraw](https://soundraw.io/)"
   ]
  },
  {
   "cell_type": "markdown",
   "metadata": {},
   "source": [
    "---\n",
    "\n",
    "<span style=\"color:#663399\">Your **assignment** is to use generative AI tools to create a story or essay (non-fiction or fiction) about potential issues with AI. Be sure to include at least one generated image.</span>\n",
    "\n",
    "---\n",
    "\n",
    "The [next notebook](10-ai-issues-and-ethics.ipynb) will look at some issues and ethical considerations with AI."
   ]
  },
  {
   "cell_type": "markdown",
   "metadata": {},
   "source": [
    "[![Callysto.ca License](https://github.com/callysto/curriculum-notebooks/blob/master/callysto-notebook-banner-bottom.jpg?raw=true)](https://github.com/callysto/curriculum-notebooks/blob/master/LICENSE.md)"
   ]
  }
 ],
 "metadata": {
  "kernelspec": {
   "display_name": "Python 3 (ipykernel)",
   "language": "python",
   "name": "python3"
  },
  "language_info": {
   "codemirror_mode": {
    "name": "ipython",
    "version": 3
   },
   "file_extension": ".py",
   "mimetype": "text/x-python",
   "name": "python",
   "nbconvert_exporter": "python",
   "pygments_lexer": "ipython3",
   "version": "3.9.12"
  }
 },
 "nbformat": 4,
 "nbformat_minor": 4
}
