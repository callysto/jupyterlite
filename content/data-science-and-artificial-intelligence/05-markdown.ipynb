{
 "cells": [
  {
   "attachments": {},
   "cell_type": "markdown",
   "metadata": {},
   "source": [
    "![Callysto.ca Banner](https://github.com/callysto/curriculum-notebooks/blob/master/callysto-notebook-banner-top.jpg?raw=true)"
   ]
  },
  {
   "attachments": {},
   "cell_type": "markdown",
   "metadata": {},
   "source": [
    "# Markdown\n",
    "\n",
    "This notebook will provide the basics of [text formatting](https://www.markdownguide.org/cheat-sheet) with [markdown](https://www.youtube.com/watch?v=SWBms4dO_3g).\n",
    "\n",
    "To create a new markdown cell:\n",
    "\n",
    "* at the top left, click on the plus sign (`+`) next to the save (`💾`) button\n",
    "* then to the right of that there is a dropdown that says `Code`, change that to `Markdown`\n",
    "\n",
    "*If you ever find that a code cell won't run or a markdown cell doesn't look right, check that the cell type is correct (code or markdown).*"
   ]
  },
  {
   "attachments": {},
   "cell_type": "markdown",
   "metadata": {},
   "source": [
    "## Creating Titles\n",
    "\n",
    "To create titles, start a line with a pound sign `#` and then a space. After the space, add your title. If you add extra pound signs, you will create different title levels. \n",
    "\n",
    "Double-click on the cell below to see what the markdown code looks like."
   ]
  },
  {
   "attachments": {},
   "cell_type": "markdown",
   "metadata": {},
   "source": [
    "# I am a level one title\n",
    "## I am a level two title\n",
    "### I am a level three title\n",
    "#### I am a level four title\n",
    "##### I am a level five title\n",
    "###### I am a level six title \n",
    "####### I would be a level seven title if such a thing existed\n",
    "\n",
    "If # isn't the first character, that line doesn't get rendered as a title. "
   ]
  },
  {
   "attachments": {},
   "cell_type": "markdown",
   "metadata": {},
   "source": [
    "## Bold, Italics, and Strikethrough\n",
    "\n",
    "*writing in italics* \n",
    "  \n",
    "**this text is bold**\n",
    "\n",
    "~~this is strikethrough~~\n",
    "\n",
    "`monospace formatting`"
   ]
  },
  {
   "attachments": {},
   "cell_type": "markdown",
   "metadata": {},
   "source": [
    "## Creating Lists\n",
    "\n",
    "To create an ordered list, start a new line with a number and a period for numbering (e.g. `1. `)\n",
    "\n",
    "For a bulleted list use `- ` or `* `.\n",
    "\n",
    "1. This is the first item of a list\n",
    "1. This is the second\n",
    "50. Notice how the numbers we use don't matter once it's rendered\n",
    "    1. By pressing the `Tab` key we can add sub items\n",
    "    45. The numbers don't matter here either\n",
    "        - We can add many sub-lists\n",
    "            - But at some point it starts to get redundant\n",
    "        - We can also go back a few levels of nesting by lining the text up with the line above\n",
    "2346. By going back to the original line, we leave our nested lists\n",
    "23236235672456. The numbers really don't matter.\n",
    "* In fact, you can give up on numbers at any time.\n",
    "1. Or start counting again\n",
    "\n",
    "\n",
    "- We also don't need to have numbers if we don't want to!\n",
    "    * We have plenty of options"
   ]
  },
  {
   "attachments": {},
   "cell_type": "markdown",
   "metadata": {},
   "source": [
    "---\n",
    "\n",
    "## Exercise\n",
    "\n",
    "Create a new cell below this one, then add a title and an ordered list of your five favourite fruits.\n",
    "\n",
    "---"
   ]
  },
  {
   "attachments": {},
   "cell_type": "markdown",
   "metadata": {},
   "source": [
    "## Links\n",
    "\n",
    "You can add hyperlinks to webpages or files. The syntax is:\n",
    "```markdown\n",
    "[text you want to display](link to a file or web page)\n",
    "```\n",
    "\n",
    "Double-click on the cell below to see what the markdown looks like."
   ]
  },
  {
   "attachments": {},
   "cell_type": "markdown",
   "metadata": {},
   "source": [
    "This was created by [Callysto](https://callysto.ca) to demonstrate markdown."
   ]
  },
  {
   "attachments": {},
   "cell_type": "markdown",
   "metadata": {},
   "source": [
    "## Images\n",
    "Images can be embedded in a markdown cell just like a hyperlink. To display the image, add an exclamation point to the command as demonstrated below. \n",
    "\n",
    "```markdown\n",
    "![type a description here, this is what will show if the image doesn't display](link in parenthesis)\n",
    "```\n",
    "\n",
    "When you have found an image on a website that you want to embed, right-click it and choose \"**copy image address**\" (not \"link address\").\n",
    "\n",
    "It can either be a link to an image, or one you have saved in the same place as this notebook. Double-click on the cell below to see the markdown."
   ]
  },
  {
   "attachments": {},
   "cell_type": "markdown",
   "metadata": {},
   "source": [
    "![zoomming in and nodding](https://media.giphy.com/media/gVoBC0SuaHStq/giphy.gif)"
   ]
  },
  {
   "attachments": {},
   "cell_type": "markdown",
   "metadata": {},
   "source": [
    "---\n",
    "\n",
    "## Exercise\n",
    "\n",
    "1. In a new cell below, embed an image of a pet.\n",
    "2. In the same cell, add a hyperlink below the image that links to the original image.\n",
    "\n",
    "---"
   ]
  },
  {
   "attachments": {},
   "cell_type": "markdown",
   "metadata": {},
   "source": [
    "---\n",
    "\n",
    "<span style=\"color:#663399\">Your **assignment** is to paste the markdown you created in these exercises into a new document to hand in.</span>\n",
    "\n",
    "<span style=\"color:#FF6633\">An **optional advanced challenge** is to compare [Wikitext](https://en.wikipedia.org/wiki/Wiki#Editing) to markdown.</span>\n",
    "\n",
    "---\n",
    "\n",
    "\n",
    "The [next notebook](06-data-analysis.ipynb) will allow you to do your own analysis and writing related to a real-world dataset."
   ]
  },
  {
   "attachments": {},
   "cell_type": "markdown",
   "metadata": {},
   "source": [
    "[![Callysto.ca License](https://github.com/callysto/curriculum-notebooks/blob/master/callysto-notebook-banner-bottom.jpg?raw=true)](https://github.com/callysto/curriculum-notebooks/blob/master/LICENSE.md)"
   ]
  }
 ],
 "metadata": {
  "kernelspec": {
   "display_name": "Python 3",
   "language": "python",
   "name": "python3"
  },
  "language_info": {
   "name": "python",
   "version": "3.10.1"
  },
  "orig_nbformat": 4
 },
 "nbformat": 4,
 "nbformat_minor": 2
}
