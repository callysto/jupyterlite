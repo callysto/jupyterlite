{
 "cells": [
  {
   "cell_type": "markdown",
   "metadata": {},
   "source": [
    "![Callysto.ca Banner](https://github.com/callysto/curriculum-notebooks/blob/master/callysto-notebook-banner-top.jpg?raw=true)\n",
    "\n",
    "<a href=\"https://hub.callysto.ca/jupyter/hub/user-redirect/git-pull?repo=https%3A%2F%2Fgithub.com%2Fcallysto%2Finteresting-problems&branch=main&subPath=notebooks/lockers-open-close.ipynb&depth=1\" target=\"_parent\"><img src=\"https://raw.githubusercontent.com/callysto/curriculum-notebooks/master/open-in-callysto-button.svg?sanitize=true\" width=\"123\" height=\"24\" alt=\"Open in Callysto\"/></a>"
   ]
  },
  {
   "cell_type": "markdown",
   "metadata": {},
   "source": [
    "# Locker Problem\n",
    "\n",
    "[Watch on YouTube](https://www.youtube.com/watch?v=qEiV0SfFoUY&list=PL-j7ku2URmjZYtWzMCS4AqFS5SXPXRHwf)\n",
    "\n",
    "There are 100 closed lockers and 100 students. The first student opens every locker. The second student goes to every second locker and closes it. The third student goes to every third locker and closes it if it's open, and opens it if it's closed. The fourth student goes to every fourth locker and changes its state (opens or closes it).\n",
    "\n",
    "This pattern continues until all of the students have gone through. How many lockers are left open? Which lockers are left open?"
   ]
  },
  {
   "cell_type": "code",
   "execution_count": null,
   "metadata": {},
   "outputs": [],
   "source": [
    "from IPython.display import YouTubeVideo\n",
    "YouTubeVideo('qEiV0SfFoUY')"
   ]
  },
  {
   "cell_type": "code",
   "execution_count": null,
   "metadata": {},
   "outputs": [],
   "source": [
    "number_of_lockers = 100\n",
    "lockers = [False] * number_of_lockers # False is closed, True is open\n",
    "\n",
    "for student_number in range(1,number_of_lockers+1):\n",
    "    for locker_number in range(0,number_of_lockers):\n",
    "        if (locker_number+1) % student_number == 0: # if the locker number is exactly divisible by student number\n",
    "            lockers[locker_number] = not lockers[locker_number] # flip 0 to 1 and vice versa\n",
    "\n",
    "import pandas as pd\n",
    "df = pd.DataFrame({'Open':lockers})\n",
    "df.index += 1 # so the numbering starts from 1, not 0\n",
    "df"
   ]
  },
  {
   "cell_type": "markdown",
   "metadata": {},
   "source": [
    "To check which lockers are left open, we can filter the dataframe."
   ]
  },
  {
   "cell_type": "code",
   "execution_count": null,
   "metadata": {},
   "outputs": [],
   "source": [
    "openLockers = df[df['Open'] == True]\n",
    "openLockers"
   ]
  },
  {
   "cell_type": "markdown",
   "metadata": {},
   "source": [
    "We can also look at how many lockers are left open as a function of the total number of lockers.\n",
    "\n",
    "Running this next cell will take a minute or two."
   ]
  },
  {
   "cell_type": "code",
   "execution_count": null,
   "metadata": {},
   "outputs": [],
   "source": [
    "def countOpenLockers(numberOfLockers):\n",
    "    lockers = []\n",
    "    for i in range(0,numberOfLockers): # lockers numbered from 0 to 99\n",
    "        lockers.append(False) # False is closed, True is open\n",
    "    for studentNumber in range(1,numberOfLockers+1):\n",
    "        for lockerNumber in range(0,numberOfLockers):\n",
    "            if (lockerNumber+1) % studentNumber == 0: # if the locker number is exactly divisible by student number\n",
    "                lockers[lockerNumber] = not lockers[lockerNumber] # flip 0 to 1 and vice versa\n",
    "    return lockers.count(True)\n",
    "\n",
    "x = list(range(2,1024))\n",
    "y = []\n",
    "for value in x:\n",
    "    y.append(countOpenLockers(value))\n",
    "\n",
    "import matplotlib.pyplot as plt\n",
    "%matplotlib inline\n",
    "plt.scatter(x,y)\n",
    "plt.xlabel('Number of lockers')\n",
    "plt.ylabel('Number of lockers left open')\n",
    "plt.show()"
   ]
  },
  {
   "cell_type": "markdown",
   "metadata": {},
   "source": [
    "## Questions to think about\n",
    "\n",
    "1. What pattern do you see in the open lockers?\n",
    "2. Why do you think that pattern occurs?\n",
    "3. What happens to the pattern as the number of lockers (and students) increases?"
   ]
  },
  {
   "cell_type": "markdown",
   "metadata": {},
   "source": [
    "## Visual Simulation\n",
    "\n",
    "We can use `matplotlib.animation` to animate a bar graph of lockers opening and closing."
   ]
  },
  {
   "cell_type": "code",
   "execution_count": null,
   "metadata": {},
   "outputs": [],
   "source": [
    "number_of_lockers = 25\n",
    "locker_color = ['black', 'red'] # list as many colors as you'd like\n",
    "\n",
    "from numpy import arange\n",
    "import matplotlib.animation as animation\n",
    "from IPython.display import HTML\n",
    "\n",
    "fig = plt.figure(figsize=(12,2))\n",
    "ax = fig.add_subplot(1,1,1)\n",
    "\n",
    "lockers = [False] * number_of_lockers\n",
    "x = arange(1, number_of_lockers+1)\n",
    "\n",
    "def init():\n",
    "    pass\n",
    "\n",
    "def animate(student_number):\n",
    "    for locker_number in range(number_of_lockers):\n",
    "        if (locker_number+1) % (student_number+1) == 0: # +! for each because of 0-based numbering\n",
    "            lockers[locker_number] = not lockers[locker_number]\n",
    "    ax.clear()\n",
    "    ax.set_xlim(0.5, number_of_lockers+.5) # set the range to display just the \"lockers\"\n",
    "    ax.set_xticks(x) # label every tick using the arange from earlier\n",
    "    ax.set_yticks([]) # disable y-axis labels\n",
    "    fig.suptitle(student_number+1, fontsize=16)#.xlim(left=1)\n",
    "    ax.bar(x, lockers, color=locker_color)\n",
    "    return \n",
    "\n",
    "ani = animation.FuncAnimation(fig, animate, init_func=init, frames=number_of_lockers, interval=300, repeat=False)\n",
    "HTML(ani.to_jshtml())"
   ]
  },
  {
   "cell_type": "markdown",
   "metadata": {},
   "source": [
    "[![Callysto.ca License](https://github.com/callysto/curriculum-notebooks/blob/master/callysto-notebook-banner-bottom.jpg?raw=true)](https://github.com/callysto/curriculum-notebooks/blob/master/LICENSE.md)"
   ]
  }
 ],
 "metadata": {
  "kernelspec": {
   "display_name": "Python 3",
   "language": "python",
   "name": "python3"
  },
  "language_info": {
   "codemirror_mode": {
    "name": "ipython",
    "version": 3
   },
   "file_extension": ".py",
   "mimetype": "text/x-python",
   "name": "python",
   "nbconvert_exporter": "python",
   "pygments_lexer": "ipython3",
   "version": "3.7.6"
  }
 },
 "nbformat": 4,
 "nbformat_minor": 2
}
