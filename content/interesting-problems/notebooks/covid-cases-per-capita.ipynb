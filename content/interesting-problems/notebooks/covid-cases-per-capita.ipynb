{
 "cells": [
  {
   "cell_type": "markdown",
   "metadata": {},
   "source": [
    "![Callysto.ca Banner](https://github.com/callysto/curriculum-notebooks/blob/master/callysto-notebook-banner-top.jpg?raw=true)\n",
    "\n",
    "<a href=\"https://hub.callysto.ca/jupyter/hub/user-redirect/git-pull?repo=https%3A%2F%2Fgithub.com%2Fcallysto%2Finteresting-problems&branch=main&subPath=notebooks/covid-cases-per-capita.ipynb&depth=1\" target=\"_parent\"><img src=\"https://raw.githubusercontent.com/callysto/curriculum-notebooks/master/open-in-callysto-button.svg?sanitize=true\" width=\"123\" height=\"24\" alt=\"Open in Callysto\"/></a>"
   ]
  },
  {
   "cell_type": "markdown",
   "metadata": {},
   "source": [
    "# COVID-19 Cases Per Capita\n",
    "\n",
    "While there are a number of well-designed dashboards and visualization tools for COVID-19 data, such as [Bing](https://bing.com/covid) and [The World Bank](http://datatopics.worldbank.org/universal-health-coverage/coronavirus/), we are going to try building something ourselves in a Jupyter notebook.\n",
    "\n",
    "This Jupyter notebook uses [COVID-19 statistics from Johns Hopkins University CSSE](https://github.com/CSSEGISandData/COVID-19), you can also see [their dashboard](https://www.arcgis.com/apps/opsdashboard/index.html#/bda7594740fd40299423467b48e9ecf6). Population statistics are from [Gapminder](http://gapm.io/dpop).\n",
    "\n",
    "### Licence and Disclaimer\n",
    "\n",
    "COVID-19 data sets are copyright 2020 [Johns Hopkins University](https://systems.jhu.edu) (available for educational and academic research purposes). The population data is free to use from [Gapminder](https://www.gapminder.org) under a [Creative Commons Attribution license](https://creativecommons.org/licenses/by/4.0/). This notebook also carries a [Creative Commons Attribution license](https://creativecommons.org/licenses/by/4.0/).\n",
    "\n",
    "This notebook should not be considered medical or policy-making advice. Always follow the directives and orders of your public health authority.\n",
    "\n",
    "## Getting Started\n",
    "\n",
    "First, `▶Run` the next cell to import a data set. Once the data set has been downloaded and imported into a [DataFrame](https://www.tutorialspoint.com/python_pandas/python_pandas_dataframe.htm), it will be displayed.\n",
    "\n",
    "You can change the date, but make sure you use the format `'MM-DD-YYYY'` as they do in the CSSE data set. Files are updated once a day around midnight [UTC](https://en.wikipedia.org/wiki/Coordinated_Universal_Time)."
   ]
  },
  {
   "cell_type": "code",
   "execution_count": null,
   "metadata": {},
   "outputs": [],
   "source": [
    "date = '01-01-2021'\n",
    "\n",
    "import pandas as pd\n",
    "csv_url = 'https://raw.githubusercontent.com/CSSEGISandData/COVID-19/master/csse_covid_19_data/csse_covid_19_daily_reports/'+date+'.csv'\n",
    "covid_stats = pd.read_csv(csv_url)\n",
    "pop_csv_url = 'https://docs.google.com/spreadsheets/d/18Ep3s1S0cvlT1ovQG9KdipLEoQ1Ktz5LtTTQpDcWbX0/export?gid=1668956939&format=csv'\n",
    "pop_df = pd.read_csv(pop_csv_url)\n",
    "current_population = pop_df[pop_df['time']==2020]\n",
    "print('Data successfully imported')"
   ]
  },
  {
   "cell_type": "markdown",
   "metadata": {},
   "source": [
    "### Cleaning the Data\n",
    "\n",
    "Since these two data sets don't use the same names for all of the countries, we'll replace some names in the covid_stats data set before we combine them. Some of these names have political implications, but we will use the names found in the Gapminder data set."
   ]
  },
  {
   "cell_type": "code",
   "execution_count": null,
   "metadata": {},
   "outputs": [],
   "source": [
    "countries_to_rename = {'US':'United States','Korea, South':'South Korea','Burma':'Myanmar','Laos':'Lao','Cabo Verde':'Cape Verde',\n",
    "                       'Congo (Kinshasa)':'Congo, Dem. Rep.','Congo (Brazzaville)':'Congo, Rep.','Eswatini':'Swaziland','West Bank and Gaza':'Palestine',\n",
    "                       'Czechia':'Czech Republic','Kyrgyzstan':'Kyrgyz Republic','North Macedonia':'Macedonia, FYR','Slovakia':'Slovak Republic',\n",
    "                       'Saint Kitts and Nevis':'St. Kitts and Nevis','Saint Lucia':'St. Lucia','Saint Vincent and the Grenadines':'St. Vincent and the Grenadines'}\n",
    "for key in countries_to_rename:\n",
    "    covid_stats.replace(key,countries_to_rename[key],inplace=True)\n",
    "print('Data sucessfully cleaned')"
   ]
  },
  {
   "cell_type": "markdown",
   "metadata": {},
   "source": [
    "### Combining the Data\n",
    "\n",
    "Run the next cell to create a [DataFrame](https://www.tutorialspoint.com/python_pandas/python_pandas_dataframe.htm) from the two sets of downloaded data."
   ]
  },
  {
   "cell_type": "code",
   "execution_count": null,
   "metadata": {},
   "outputs": [],
   "source": [
    "# If you prefer specific countries, put a # in front of the next line and remove the six ' marks around the next list\n",
    "country_list = current_population['name'].unique()\n",
    "'''\n",
    "country_list = ['Italy', 'Spain', 'Germany', 'France', \n",
    "                'Israel', 'United States', 'United Kingdom',\n",
    "                'South Korea', 'Singapore', 'Australia',\n",
    "                'Canada', 'China', 'Argentina', 'Russia', 'India']\n",
    "'''\n",
    "\n",
    "df = pd.DataFrame(columns=['Country', 'Population', 'Confirmed', 'Percent'])\n",
    "\n",
    "for country in country_list:\n",
    "    confirmed = covid_stats[covid_stats['Country_Region']==country]['Confirmed'].sum()\n",
    "    population = current_population[current_population['name']==country]['population'].values[0]\n",
    "    percent = confirmed*100.0/population\n",
    "    data_row = {'Country':country,'Population':population,'Confirmed':confirmed,'Percent':percent}\n",
    "    df = df.append(data_row, ignore_index=True)\n",
    "\n",
    "df.sort_values('Confirmed',ascending=False).head()"
   ]
  },
  {
   "cell_type": "markdown",
   "metadata": {},
   "source": [
    "### Adding World Data"
   ]
  },
  {
   "cell_type": "code",
   "execution_count": null,
   "metadata": {},
   "outputs": [],
   "source": [
    "world_population = current_population['population'].sum()\n",
    "world_confirmed_cases = covid_stats['Confirmed'].sum()\n",
    "world_percent = world_confirmed_cases*100.0/world_population\n",
    "world_values = {'Country':'World','Population':world_population,'Confirmed':world_confirmed_cases,'Percent':world_percent}\n",
    "df = df.append(world_values, ignore_index=True)\n",
    "df.sort_values('Confirmed',ascending=False).head()"
   ]
  },
  {
   "cell_type": "markdown",
   "metadata": {},
   "source": [
    "### Adding More Data\n",
    "\n",
    "You can also edit then run the next cell to add other data to the DataFrame. Remove the `'''` marks to enable the code to run.\n",
    "\n",
    "Each time you run it, this code will add a row."
   ]
  },
  {
   "cell_type": "code",
   "execution_count": null,
   "metadata": {},
   "outputs": [],
   "source": [
    "'''\n",
    "place = 'Edmonton'\n",
    "population = 1461182\n",
    "confirmed = 111\n",
    "percent = confirmed*100.0/population\n",
    "new_row = {'Country':place,'Population':population,'Confirmed':world_confirmed_cases,'Percent':world_percent}\n",
    "df = df.append(new_row, ignore_index=True)\n",
    "df.tail()\n",
    "'''"
   ]
  },
  {
   "cell_type": "markdown",
   "metadata": {},
   "source": [
    "### Sorting Data\n",
    "\n",
    "You can also sort by percent."
   ]
  },
  {
   "cell_type": "code",
   "execution_count": null,
   "metadata": {},
   "outputs": [],
   "source": [
    "df.sort_values('Percent',ascending=False).head(20)"
   ]
  },
  {
   "cell_type": "markdown",
   "metadata": {},
   "source": [
    "### Specific Countries\n",
    "\n",
    "To see a DataFrame of specific countries, edit and run the next cell"
   ]
  },
  {
   "cell_type": "code",
   "execution_count": null,
   "metadata": {},
   "outputs": [],
   "source": [
    "#df[df['Country']=='Canada']\n",
    "list_of_countries = ['Canada', 'China', 'Italy']\n",
    "df[df['Country'].isin(list_of_countries)]"
   ]
  },
  {
   "cell_type": "markdown",
   "metadata": {},
   "source": [
    "## Names of Countries\n",
    "\n",
    "As mentioned, these two data sets don't always use the same country/region names. To see the country/region names in each original data set, run the following cell."
   ]
  },
  {
   "cell_type": "code",
   "execution_count": null,
   "metadata": {},
   "outputs": [],
   "source": [
    "csv_url = 'https://raw.githubusercontent.com/CSSEGISandData/COVID-19/master/csse_covid_19_data/csse_covid_19_daily_reports/'+date+'.csv'\n",
    "covid_stats = pd.read_csv(csv_url)\n",
    "\n",
    "pop_csv_url = 'https://docs.google.com/spreadsheets/d/18Ep3s1S0cvlT1ovQG9KdipLEoQ1Ktz5LtTTQpDcWbX0/export?gid=1668956939&format=csv'\n",
    "pop_df = pd.read_csv(pop_csv_url)\n",
    "current_population = pop_df[pop_df['time']==2019]\n",
    "\n",
    "from_covid_stats = covid_stats['Country_Region'].unique()\n",
    "from_gapminder = current_population['name'].unique()\n",
    "print('From covid_stats:')\n",
    "print(from_covid_stats)\n",
    "print('')\n",
    "print('From Gapminder:')\n",
    "print(from_gapminder)\n",
    "print('')\n",
    "print('Not found in Gapminder:')\n",
    "for c in from_covid_stats:\n",
    "    if c not in from_gapminder:\n",
    "        print(c)\n",
    "print('')\n",
    "print('Not found in covid_stats:')\n",
    "for x in from_gapminder:\n",
    "    if x not in from_covid_stats:\n",
    "        print(x)"
   ]
  },
  {
   "cell_type": "markdown",
   "metadata": {},
   "source": [
    "## Graphing Data\n",
    "\n",
    "### Confirmed Cases Bar Graph"
   ]
  },
  {
   "cell_type": "code",
   "execution_count": null,
   "metadata": {},
   "outputs": [],
   "source": [
    "import plotly.express as px\n",
    "plot_data = df[df['Country']!='World'].sort_values('Confirmed',ascending=False).head(20)\n",
    "px.bar(plot_data, x='Country', y='Confirmed',title='COVID Cases')"
   ]
  },
  {
   "cell_type": "code",
   "execution_count": null,
   "metadata": {},
   "outputs": [],
   "source": [
    "plot_data"
   ]
  },
  {
   "cell_type": "markdown",
   "metadata": {},
   "source": [
    "### Time Series\n",
    "\n",
    "We'll download some time series data, then create charts by setting the index, dropping some columns, and `T`ransposing rows and columns."
   ]
  },
  {
   "cell_type": "code",
   "execution_count": null,
   "metadata": {},
   "outputs": [],
   "source": []
  },
  {
   "cell_type": "code",
   "execution_count": null,
   "metadata": {},
   "outputs": [],
   "source": [
    "countries = ['Canada', 'Mexico']\n",
    "\n",
    "time_series_confirmed_url = 'https://raw.githubusercontent.com/CSSEGISandData/COVID-19/master/csse_covid_19_data/csse_covid_19_time_series/time_series_covid19_confirmed_global.csv'\n",
    "tsc = pd.read_csv(time_series_confirmed_url)\n",
    "\n",
    "time_series_recovered_url = 'https://raw.githubusercontent.com/CSSEGISandData/COVID-19/master/csse_covid_19_data/csse_covid_19_time_series/time_series_covid19_recovered_global.csv'\n",
    "tsr = pd.read_csv(time_series_recovered_url)\n",
    "\n",
    "time_series_deaths_url = 'https://raw.githubusercontent.com/CSSEGISandData/COVID-19/master/csse_covid_19_data/csse_covid_19_time_series/time_series_covid19_deaths_global.csv'\n",
    "tsd = pd.read_csv(time_series_deaths_url)\n",
    "\n",
    "tsc2 = tsr.set_index('Country/Region').drop(columns=['Province/State','Lat','Long']).T\n",
    "px.line(tsc2, y=countries, title='Confirmed Cases').show()\n",
    "tsr = tsr.set_index('Country/Region').drop(columns=['Province/State','Lat','Long']).T\n",
    "px.line(tsr, y=countries, title='Recovered Cases').show()\n",
    "# not sure why this is not working\n",
    "#tsd2 = tsd.set_index('Country/Region').drop(columns=['Province/State','Lat','Long']).T\n",
    "#px.line(tsd2, y=countries, title='Deaths').show()"
   ]
  },
  {
   "cell_type": "markdown",
   "metadata": {},
   "source": [
    "**Hopefully you have found this an interesting introduction to data science using online COVID-19 data.**"
   ]
  },
  {
   "cell_type": "markdown",
   "metadata": {},
   "source": [
    "[![Callysto.ca License](https://github.com/callysto/curriculum-notebooks/blob/master/callysto-notebook-banner-bottom.jpg?raw=true)](https://github.com/callysto/curriculum-notebooks/blob/master/LICENSE.md)"
   ]
  }
 ],
 "metadata": {
  "kernelspec": {
   "display_name": "Python 3",
   "language": "python",
   "name": "python3"
  },
  "language_info": {
   "codemirror_mode": {
    "name": "ipython",
    "version": 3
   },
   "file_extension": ".py",
   "mimetype": "text/x-python",
   "name": "python",
   "nbconvert_exporter": "python",
   "pygments_lexer": "ipython3",
   "version": "3.8.3"
  }
 },
 "nbformat": 4,
 "nbformat_minor": 2
}
