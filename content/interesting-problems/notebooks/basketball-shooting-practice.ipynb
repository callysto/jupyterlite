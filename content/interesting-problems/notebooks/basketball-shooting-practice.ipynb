{
 "cells": [
  {
   "cell_type": "markdown",
   "metadata": {},
   "source": [
    "![Callysto.ca Banner](https://github.com/callysto/curriculum-notebooks/blob/master/callysto-notebook-banner-top.jpg?raw=true)\n",
    "\n",
    "<a href=\"https://hub.callysto.ca/jupyter/hub/user-redirect/git-pull?repo=https%3A%2F%2Fgithub.com%2Fcallysto%2Finteresting-problems&branch=main&subPath=notebooks/basketball-shooting-practice.ipynb&depth=1\" target=\"_parent\"><img src=\"https://raw.githubusercontent.com/callysto/curriculum-notebooks/master/open-in-callysto-button.svg?sanitize=true\" width=\"123\" height=\"24\" alt=\"Open in Callysto\"/></a>"
   ]
  },
  {
   "cell_type": "markdown",
   "metadata": {
    "colab_type": "text",
    "id": "nZq-vjzgqXYK"
   },
   "source": [
    "# Basketball Shooting Practice\n",
    "\n",
    "[Watch on YouTube](https://www.youtube.com/watch?v=Tm2ruZQLcqE&list=PL-j7ku2URmjZYtWzMCS4AqFS5SXPXRHwf)\n",
    "\n",
    "When Nick shoots a basketball, he either sinks the shot or misses. For each shot\n",
    "Nick sinks, he is given 5 points by his father. For each missed shot, Nick’s Dad\n",
    "takes 2 points away.\n",
    "\n",
    "Nick attempts a total of 28 shots and ends up with zero points (i.e. he breaks\n",
    "even). How many shots did Nick sink?\n",
    "\n",
    "from [Waterloo CEMC Problem of the Week](https://www.cemc.uwaterloo.ca/resources/potw/2019-20/English/POTWB-19-NN-01-P.pdf)"
   ]
  },
  {
   "cell_type": "code",
   "execution_count": null,
   "metadata": {
    "colab": {
     "base_uri": "https://localhost:8080/",
     "height": 965
    },
    "colab_type": "code",
    "id": "NCfAqZgnqCgh",
    "outputId": "3429acec-04a7-4b13-e69a-e92b256aecc4"
   },
   "outputs": [],
   "source": [
    "import pandas as pd\n",
    "shots = 28\n",
    "final_score = 0\n",
    "shots_dataframe = pd.DataFrame(columns=['Sunk', 'Missed', 'Points'])\n",
    "\n",
    "for sunk in range(0,shots+1):\n",
    "    missed = shots - sunk\n",
    "    points = sunk * 5 - missed * 2\n",
    "    shots_dataframe = shots_dataframe.append({'Sunk':sunk, 'Missed':missed, 'Points':points}, ignore_index=True)\n",
    "    if points == final_score:\n",
    "        print('Nick ends up with', final_score, 'points if he sinks', sunk, 'shots.')\n",
    "\n",
    "shots_dataframe"
   ]
  },
  {
   "cell_type": "code",
   "execution_count": null,
   "metadata": {},
   "outputs": [],
   "source": [
    "import plotly.express as px\n",
    "px.line(shots_dataframe, title='Points Scored by Nick').update_xaxes(title='Shots').update_yaxes(title='Points').update_layout(height=800)"
   ]
  },
  {
   "cell_type": "markdown",
   "metadata": {},
   "source": [
    "[![Callysto.ca License](https://github.com/callysto/curriculum-notebooks/blob/master/callysto-notebook-banner-bottom.jpg?raw=true)](https://github.com/callysto/curriculum-notebooks/blob/master/LICENSE.md)"
   ]
  }
 ],
 "metadata": {
  "colab": {
   "collapsed_sections": [],
   "name": "Basketball Shooting Practice.ipynb",
   "provenance": []
  },
  "kernelspec": {
   "display_name": "Python 3.10.1 64-bit",
   "language": "python",
   "name": "python3"
  },
  "language_info": {
   "codemirror_mode": {
    "name": "ipython",
    "version": 3
   },
   "file_extension": ".py",
   "mimetype": "text/x-python",
   "name": "python",
   "nbconvert_exporter": "python",
   "pygments_lexer": "ipython3",
   "version": "3.10.1"
  },
  "vscode": {
   "interpreter": {
    "hash": "d1ca6d17674200220921376aaeb3d36cffe15ecab2470a9a5e7a456cdbf61425"
   }
  }
 },
 "nbformat": 4,
 "nbformat_minor": 1
}
