{
 "cells": [
  {
   "cell_type": "markdown",
   "metadata": {},
   "source": [
    "![Callysto.ca Banner](https://github.com/callysto/curriculum-notebooks/blob/master/callysto-notebook-banner-top.jpg?raw=true)\n",
    "\n",
    "<a href=\"https://hub.callysto.ca/jupyter/hub/user-redirect/git-pull?repo=https%3A%2F%2Fgithub.com%2Fcallysto%2Finteresting-problems&branch=main&subPath=notebooks/frog-jump-statistics.ipynb&depth=1\" target=\"_parent\"><img src=\"https://raw.githubusercontent.com/callysto/curriculum-notebooks/master/open-in-callysto-button.svg?sanitize=true\" width=\"123\" height=\"24\" alt=\"Open in Callysto\"/></a>"
   ]
  },
  {
   "cell_type": "markdown",
   "metadata": {},
   "source": [
    "# Frog Jump Statististics Problem\n",
    "\n",
    "[Watch on YouTube](https://www.youtube.com/watch?v=193NkkJY6XQ&list=PL-j7ku2URmjZYtWzMCS4AqFS5SXPXRHwf)\n",
    "\n",
    "This notebook attempts some statistical modelling of the frog jump problem outlined in the video below."
   ]
  },
  {
   "cell_type": "code",
   "execution_count": null,
   "metadata": {},
   "outputs": [],
   "source": [
    "%pip install -q pyodide_http plotly nbformat\n",
    "import pyodide_http\n",
    "pyodide_http.patch_all()\n",
    "\n",
    "from IPython.display import IFrame\n",
    "video_id = 'ZLTyX4zL2Fc'\n",
    "\n",
    "video_url = f'https://www.youtube.com/embed/{video_id}'\n",
    "IFrame(video_url, width=560, height=315)"
   ]
  },
  {
   "cell_type": "markdown",
   "metadata": {},
   "source": [
    "Code written by Matt Parker (standupmaths) is available at https://github.com/standupmaths/frog_problem"
   ]
  },
  {
   "cell_type": "markdown",
   "metadata": {},
   "source": [
    "## The Frog Problem\n",
    "1. a frog is on one side of a river\n",
    "2. there are nine lily pads across the river, plus the opposite bank (10 positions)\n",
    "3. the frog is equally likely to jump to any of the positions ahead of it\n",
    "\n",
    "**How many jumps does the frog likely take to cross the river?**"
   ]
  },
  {
   "cell_type": "code",
   "execution_count": null,
   "metadata": {},
   "outputs": [],
   "source": [
    "from random import randint\n",
    "from collections import Counter\n",
    "import pandas as pd\n",
    "\n",
    "riverWidth = 10\n",
    "numberOfTrials = 100000\n",
    "listOfJumps = []\n",
    "\n",
    "for x in range(0, numberOfTrials):\n",
    "    position = 0\n",
    "    numberOfJumps = 0\n",
    "    while position < riverWidth:\n",
    "        jump = randint(1, riverWidth-position)\n",
    "        position += jump\n",
    "        numberOfJumps += 1\n",
    "        #print(x, position, numberOfJumps)\n",
    "    listOfJumps.append(numberOfJumps)\n",
    "\n",
    "counts = Counter(listOfJumps)\n",
    "df = pd.DataFrame(counts.values(), index=counts.keys(), columns=['Frequency'])\n",
    "df.sort_index(axis=0, inplace=True)\n",
    "df"
   ]
  },
  {
   "cell_type": "markdown",
   "metadata": {},
   "source": [
    "So based on a million trials with ten positions, it looks like **the frog is most likey to cross in three jumps**.\n",
    "\n",
    "However two and four jumps are not much less likely. Let's look at a graph of these data."
   ]
  },
  {
   "cell_type": "code",
   "execution_count": null,
   "metadata": {},
   "outputs": [],
   "source": [
    "import matplotlib.pyplot as plt\n",
    "%matplotlib inline\n",
    "\n",
    "plt.bar(counts.keys(),counts.values())\n",
    "plt.title('Frog Jump Results for ' + str(numberOfTrials) + ' trials')\n",
    "plt.xlabel('Number of Jumps')\n",
    "plt.ylabel('Observed Frequency')\n",
    "plt.show()"
   ]
  },
  {
   "cell_type": "markdown",
   "metadata": {},
   "source": [
    "There's probably an equation that could represent these results, other than just a weighted average, and a way to generalize this to $n$ river positions. Those remain as a challenge for the reader."
   ]
  },
  {
   "cell_type": "markdown",
   "metadata": {},
   "source": [
    "[![Callysto.ca License](https://github.com/callysto/curriculum-notebooks/blob/master/callysto-notebook-banner-bottom.jpg?raw=true)](https://github.com/callysto/curriculum-notebooks/blob/master/LICENSE.md)"
   ]
  }
 ],
 "metadata": {
  "kernelspec": {
   "display_name": "Python 3",
   "language": "python",
   "name": "python3"
  },
  "language_info": {
   "codemirror_mode": {
    "name": "ipython",
    "version": 3
   },
   "file_extension": ".py",
   "mimetype": "text/x-python",
   "name": "python",
   "nbconvert_exporter": "python",
   "pygments_lexer": "ipython3",
   "version": "3.7.6"
  }
 },
 "nbformat": 4,
 "nbformat_minor": 2
}
