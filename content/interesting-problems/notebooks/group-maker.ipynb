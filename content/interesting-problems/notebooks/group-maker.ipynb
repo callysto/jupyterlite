{
 "cells": [
  {
   "cell_type": "markdown",
   "metadata": {},
   "source": [
    "![Callysto.ca Banner](https://github.com/callysto/curriculum-notebooks/blob/master/callysto-notebook-banner-top.jpg?raw=true)\n",
    "\n",
    "<a href=\"https://hub.callysto.ca/jupyter/hub/user-redirect/git-pull?repo=https%3A%2F%2Fgithub.com%2Fcallysto%2Finteresting-problems&branch=main&subPath=notebooks/group-maker.ipynb&depth=1\" target=\"_parent\"><img src=\"https://raw.githubusercontent.com/callysto/curriculum-notebooks/master/open-in-callysto-button.svg?sanitize=true\" width=\"123\" height=\"24\" alt=\"Open in Callysto\"/></a>"
   ]
  },
  {
   "cell_type": "markdown",
   "metadata": {},
   "source": [
    "# Student Group Maker\n",
    "\n",
    "We can use Python to randomly assign students to groups, either specifying the *number of groups* or the *number of students per group*.\n",
    "\n",
    "Use a list of student names with each name surrounded by `'` and separated by a `,` then click the `▶Run` button.\n",
    "\n",
    "### Number of Groups"
   ]
  },
  {
   "cell_type": "code",
   "execution_count": null,
   "metadata": {},
   "outputs": [],
   "source": [
    "names = ['Alice', 'Bob', 'Charlie', 'David', 'Eve']\n",
    "number_of_groups = 2\n",
    "\n",
    "from random import choice\n",
    "groups = [[] for x in range(number_of_groups)]\n",
    "while len(names) > 0:\n",
    "    i = len(names) % number_of_groups\n",
    "    name = choice(names)\n",
    "    groups[i].append(name)\n",
    "    names.remove(name)\n",
    "\n",
    "# print the groups\n",
    "for group in groups:\n",
    "    print('Group', groups.index(group) + 1)\n",
    "    print(', '.join(group))\n",
    "    print('')"
   ]
  },
  {
   "cell_type": "markdown",
   "metadata": {},
   "source": [
    "### Number of Students per Group"
   ]
  },
  {
   "cell_type": "code",
   "execution_count": null,
   "metadata": {},
   "outputs": [],
   "source": [
    "names = ['Alice', 'Bob', 'Charlie', 'David', 'Eve']\n",
    "students_per_group = 3\n",
    "\n",
    "from random import choice\n",
    "n = 1\n",
    "while len(names) > students_per_group:\n",
    "    group = []\n",
    "    if len(names) > students_per_group:\n",
    "        for i in range(students_per_group):\n",
    "            name = choice(names)\n",
    "            group.append(name)\n",
    "            names.remove(name)\n",
    "        print('Group', n)\n",
    "        print(', '.join(group))\n",
    "        print('')\n",
    "        n += 1\n",
    "print('Group', n)\n",
    "print(', '.join(names))"
   ]
  },
  {
   "cell_type": "markdown",
   "metadata": {},
   "source": [
    "### Asking for Names\n",
    "\n",
    "We can also write code that interactivly asks for names."
   ]
  },
  {
   "cell_type": "code",
   "execution_count": null,
   "metadata": {},
   "outputs": [],
   "source": [
    "number_of_groups = int(input('How many groups? '))\n",
    "while True:\n",
    "    name = input('Enter a name (or just press enter to quit): ')\n",
    "    if name == '':\n",
    "        break\n",
    "    else:\n",
    "        names.append(name)\n",
    "    \n",
    "from random import choice\n",
    "groups = [[] for x in range(number_of_groups)]\n",
    "while len(names) > 0:\n",
    "    i = len(names) % number_of_groups\n",
    "    name = choice(names)\n",
    "    groups[i].append(name)\n",
    "    names.remove(name)\n",
    "for group in groups:\n",
    "    print('Group', groups.index(group) + 1)\n",
    "    print(', '.join(group))\n",
    "    print('')"
   ]
  },
  {
   "cell_type": "markdown",
   "metadata": {},
   "source": [
    "[![Callysto.ca License](https://github.com/callysto/curriculum-notebooks/blob/master/callysto-notebook-banner-bottom.jpg?raw=true)](https://github.com/callysto/curriculum-notebooks/blob/master/LICENSE.md)"
   ]
  }
 ],
 "metadata": {
  "interpreter": {
   "hash": "9c5cbf8e60358946a341a59b13ff8224f61591dd6604d980255994074d4c99a9"
  },
  "kernelspec": {
   "display_name": "Python 3.10.1 64-bit",
   "language": "python",
   "name": "python3"
  },
  "language_info": {
   "codemirror_mode": {
    "name": "ipython",
    "version": 3
   },
   "file_extension": ".py",
   "mimetype": "text/x-python",
   "name": "python",
   "nbconvert_exporter": "python",
   "pygments_lexer": "ipython3",
   "version": "3.10.1"
  },
  "orig_nbformat": 4
 },
 "nbformat": 4,
 "nbformat_minor": 2
}
