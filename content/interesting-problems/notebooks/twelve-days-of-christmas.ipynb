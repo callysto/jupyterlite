{
 "cells": [
  {
   "cell_type": "markdown",
   "metadata": {},
   "source": [
    "![Callysto.ca Banner](https://github.com/callysto/curriculum-notebooks/blob/master/callysto-notebook-banner-top.jpg?raw=true)\n",
    "\n",
    "<a href=\"https://hub.callysto.ca/jupyter/hub/user-redirect/git-pull?repo=https%3A%2F%2Fgithub.com%2Fcallysto%2Finteresting-problems&branch=main&subPath=notebooks/twelve-days-of-christmas.ipynb&depth=1\" target=\"_parent\"><img src=\"https://raw.githubusercontent.com/callysto/curriculum-notebooks/master/open-in-callysto-button.svg?sanitize=true\" width=\"123\" height=\"24\" alt=\"Open in Callysto\"/></a>"
   ]
  },
  {
   "cell_type": "markdown",
   "metadata": {},
   "source": [
    "# 12 Days of Christmas\n",
    "\n",
    "[Watch on YouTube](https://www.youtube.com/watch?v=el53GHPcoN8&list=PL-j7ku2URmjZYtWzMCS4AqFS5SXPXRHwf)\n",
    "\n",
    "In the song \"The Twelve Days of Christmas\", how many times would each gift be given?"
   ]
  },
  {
   "cell_type": "code",
   "execution_count": null,
   "metadata": {},
   "outputs": [],
   "source": [
    "gifts = []\n",
    "\n",
    "for day in range(12):\n",
    "    while day >= 0:\n",
    "        gifts.append(day)\n",
    "        day = day - 1\n",
    "\n",
    "for x in range(12):\n",
    "    print(x+1, gifts.count(x))"
   ]
  },
  {
   "cell_type": "markdown",
   "metadata": {},
   "source": [
    "Can we also generate the lyrics for this song using code?"
   ]
  },
  {
   "cell_type": "code",
   "execution_count": null,
   "metadata": {},
   "outputs": [],
   "source": [
    "gifts = ['a partridge in a pear tree', \n",
    "    'two turtle doves',\n",
    "    'three french hens',\n",
    "    'four calling birds',\n",
    "    'five golden rings',\n",
    "    'six geese a-laying',\n",
    "    'seven swans a-swimming',\n",
    "    'eight maids a-milking',\n",
    "    'nine ladies dancing',\n",
    "    'ten lords a-leaping',\n",
    "    'eleven pipers piping',\n",
    "    'twelve drummers drumming']\n",
    "\n",
    "for day in range(len(gifts)):\n",
    "    print('On the', day+1, 'day of Christmas my true love gave to me,')\n",
    "    while day >= 0:\n",
    "        print(gifts[day])\n",
    "        day = day - 1"
   ]
  },
  {
   "cell_type": "markdown",
   "metadata": {},
   "source": [
    "We could probably add some conditional statements to format that better and include some punctuation, and perhaps a list of `['first', 'second', ...]`, but that's good enough for now."
   ]
  },
  {
   "cell_type": "markdown",
   "metadata": {},
   "source": [
    "[![Callysto.ca License](https://github.com/callysto/curriculum-notebooks/blob/master/callysto-notebook-banner-bottom.jpg?raw=true)](https://github.com/callysto/curriculum-notebooks/blob/master/LICENSE.md)"
   ]
  }
 ],
 "metadata": {
  "kernelspec": {
   "display_name": "Python 3",
   "language": "python",
   "name": "python3"
  },
  "language_info": {
   "codemirror_mode": {
    "name": "ipython",
    "version": 3
   },
   "file_extension": ".py",
   "mimetype": "text/x-python",
   "name": "python",
   "nbconvert_exporter": "python",
   "pygments_lexer": "ipython3",
   "version": "3.7.6"
  }
 },
 "nbformat": 4,
 "nbformat_minor": 2
}
