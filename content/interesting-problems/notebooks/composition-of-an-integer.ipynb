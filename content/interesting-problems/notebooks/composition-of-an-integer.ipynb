{
 "cells": [
  {
   "cell_type": "markdown",
   "metadata": {},
   "source": [
    "![Callysto.ca Banner](https://github.com/callysto/curriculum-notebooks/blob/master/callysto-notebook-banner-top.jpg?raw=true)\n",
    "\n",
    "<a href=\"https://hub.callysto.ca/jupyter/hub/user-redirect/git-pull?repo=https%3A%2F%2Fgithub.com%2Fcallysto%2Finteresting-problems&branch=main&subPath=notebooks/composition-of-an-integer.ipynb&depth=1\" target=\"_parent\"><img src=\"https://raw.githubusercontent.com/callysto/curriculum-notebooks/master/open-in-callysto-button.svg?sanitize=true\" width=\"123\" height=\"24\" alt=\"Open in Callysto\"/></a>"
   ]
  },
  {
   "cell_type": "markdown",
   "metadata": {},
   "source": [
    "# Composition of an Integer\n",
    "\n",
    "In the [February 2020 edition of the MCATA Newsletter](https://www.mathteachers.ab.ca/wp-content/uploads/2020/03/Mathematics-Council-Newsletter-Vol-38-No-2-February-20.pdf) there is a problem posed by President Dave Martin:\n",
    "\n",
    "    How many ways can you add 2 distinct positive whole numbers together and get 10? What about 3 distinct positive whole numbers? What about 4 distinct positive whole numbers that sum to 20? How many ways can you add n distinct positive whole numbers that sum to k, where k is a positive whole number?\n",
    "\n",
    "To begin our solution, we'll assume that zero is an integer, that the order of addition matters, and that \"distinct\" means each whole number being added needs to be unique."
   ]
  },
  {
   "cell_type": "markdown",
   "metadata": {},
   "source": [
    "## How many ways can you add 2 distinct positive whole numbers together and get 10?"
   ]
  },
  {
   "cell_type": "code",
   "execution_count": null,
   "metadata": {},
   "outputs": [],
   "source": [
    "total = 10\n",
    "number_of_ways = 0\n",
    "\n",
    "for a in range(total+1):\n",
    "    for b in range(total+1):\n",
    "        if a + b == total:\n",
    "            if a != b:\n",
    "                #print(a, b)\n",
    "                number_of_ways += 1\n",
    "print('We can add two distinct integers', number_of_ways, 'ways to get a sum of', total)"
   ]
  },
  {
   "cell_type": "markdown",
   "metadata": {},
   "source": [
    "## What about 3 distinct positive whole numbers?"
   ]
  },
  {
   "cell_type": "code",
   "execution_count": null,
   "metadata": {},
   "outputs": [],
   "source": [
    "total = 10\n",
    "number_of_ways = 0\n",
    "\n",
    "for a in range(total+1):\n",
    "    for b in range(total+1):\n",
    "        for c in range(total+1):\n",
    "            if a + b + c == total:\n",
    "                if a != b and b != c and a != c:\n",
    "                    #print(a, b, c)\n",
    "                    number_of_ways += 1\n",
    "print('We can add three distinct integers', number_of_ways, 'ways to get a sum of', total)"
   ]
  },
  {
   "cell_type": "markdown",
   "metadata": {},
   "source": [
    "## What about 4 distinct positive whole numbers that sum to 20?"
   ]
  },
  {
   "cell_type": "code",
   "execution_count": null,
   "metadata": {},
   "outputs": [],
   "source": [
    "total = 10\n",
    "number_of_ways = 0\n",
    "\n",
    "for a in range(total+1):\n",
    "    for b in range(total+1):\n",
    "        for c in range(total+1):\n",
    "            for d in range(total+1):\n",
    "                if a + b + c + d == total:\n",
    "                    values = [a, b, c, d]\n",
    "                    if values.count(a) + values.count(b) + values.count(c) + values.count(d) == 4:\n",
    "                    #if True:\n",
    "                        #print(a, b, c, d)\n",
    "                        number_of_ways += 1\n",
    "print('We can add four distinct integers', number_of_ways, 'ways to get a sum of', total)"
   ]
  },
  {
   "cell_type": "markdown",
   "metadata": {},
   "source": [
    "## How many ways can you add n distinct positive whole numbers that sum to k, where k is a positive whole number?\n",
    "\n",
    "This is still a work in progress, but here are \"guess and check\" curve fits for n=2 to n=4"
   ]
  },
  {
   "cell_type": "markdown",
   "metadata": {},
   "source": [
    "### With Two Integers (n = 2)"
   ]
  },
  {
   "cell_type": "code",
   "execution_count": null,
   "metadata": {},
   "outputs": [],
   "source": [
    "import pandas as pd\n",
    "import plotly.express as px\n",
    "\n",
    "def how_many_ways_2(total):\n",
    "    number_of_ways = 0\n",
    "    for a in range(total+1):\n",
    "        for b in range(total+1):\n",
    "            if a + b  == total:\n",
    "                if a != b:\n",
    "                    number_of_ways += 1\n",
    "    return number_of_ways\n",
    "\n",
    "df2 = pd.DataFrame()\n",
    "for k in range(100):\n",
    "    ways = how_many_ways_2(k)\n",
    "    df2 = df2.append({'k':k, 'ways':ways}, ignore_index=True)\n",
    "\n",
    "px.line(df2, x='k', y='ways')"
   ]
  },
  {
   "cell_type": "markdown",
   "metadata": {},
   "source": [
    "#### Curve Fit for n = 2\n",
    "\n",
    "$w = 2 \\times \\text{ceil}(\\frac{k}{2})$"
   ]
  },
  {
   "cell_type": "code",
   "execution_count": null,
   "metadata": {},
   "outputs": [],
   "source": [
    "import numpy as np\n",
    "df2['fit']=2*np.ceil(df2['k']/2)\n",
    "px.line(df2, x='k', y='ways')"
   ]
  },
  {
   "cell_type": "markdown",
   "metadata": {},
   "source": [
    "### With Three Integers (n = 3)"
   ]
  },
  {
   "cell_type": "code",
   "execution_count": null,
   "metadata": {},
   "outputs": [],
   "source": [
    "def how_many_ways_3(total):\n",
    "    number_of_ways = 0\n",
    "    for a in range(total+1):\n",
    "        for b in range(total+1):\n",
    "            for c in range(total+1):\n",
    "                if a + b + c  == total:\n",
    "                    values = [a, b, c]\n",
    "                    if values.count(a) + values.count(b) + values.count(c) == 3:\n",
    "                        number_of_ways += 1\n",
    "    return number_of_ways\n",
    "\n",
    "df3 = pd.DataFrame()\n",
    "for k in range(100):\n",
    "    ways = how_many_ways_3(k)\n",
    "    df3 = df3.append({'k':k, 'ways':ways}, ignore_index=True)\n",
    "\n",
    "px.line(df3, x='k', y='ways')"
   ]
  },
  {
   "cell_type": "markdown",
   "metadata": {},
   "source": [
    "#### Curve Fit for n = 3\n",
    "\n",
    "$w = \\frac{k^2}{2}$"
   ]
  },
  {
   "cell_type": "code",
   "execution_count": null,
   "metadata": {},
   "outputs": [],
   "source": [
    "df3['fit']=df3['k']**2/2\n",
    "px.line(df3, x='k', y='ways')"
   ]
  },
  {
   "cell_type": "markdown",
   "metadata": {},
   "source": [
    "### With Four Integers (n = 4)"
   ]
  },
  {
   "cell_type": "code",
   "execution_count": null,
   "metadata": {},
   "outputs": [],
   "source": [
    "def how_many_ways_4(total):\n",
    "    number_of_ways = 0\n",
    "    for a in range(total+1):\n",
    "        for b in range(total+1):\n",
    "            for c in range(total+1):\n",
    "                for d in range(total+1):\n",
    "                    if a + b + c + d == total:\n",
    "                        values = [a, b, c, d]\n",
    "                        if values.count(a) + values.count(b) + values.count(c) + values.count(d) == 4:\n",
    "                            number_of_ways += 1\n",
    "    return number_of_ways\n",
    "\n",
    "df4 = pd.DataFrame()\n",
    "for k in range(100):\n",
    "    ways = how_many_ways_4(k)\n",
    "    df4 = df4.append({'k':k, 'ways':ways}, ignore_index=True)\n",
    "px.line(df4, x='k', y='ways')"
   ]
  },
  {
   "cell_type": "markdown",
   "metadata": {},
   "source": [
    "#### Curve Fit for n = 4\n",
    "\n",
    "$w = \\frac{k^3}{6.2}$"
   ]
  },
  {
   "cell_type": "code",
   "execution_count": null,
   "metadata": {},
   "outputs": [],
   "source": [
    "df4['fit']=df4['k']**3/6.2\n",
    "px.line(df4, x='k', y='ways')"
   ]
  },
  {
   "cell_type": "markdown",
   "metadata": {},
   "source": [
    "[![Callysto.ca License](https://github.com/callysto/curriculum-notebooks/blob/master/callysto-notebook-banner-bottom.jpg?raw=true)](https://github.com/callysto/curriculum-notebooks/blob/master/LICENSE.md)"
   ]
  }
 ],
 "metadata": {
  "kernelspec": {
   "display_name": "Python 3",
   "language": "python",
   "name": "python3"
  },
  "language_info": {
   "codemirror_mode": {
    "name": "ipython",
    "version": 3
   },
   "file_extension": ".py",
   "mimetype": "text/x-python",
   "name": "python",
   "nbconvert_exporter": "python",
   "pygments_lexer": "ipython3",
   "version": "3.8.3"
  }
 },
 "nbformat": 4,
 "nbformat_minor": 4
}
