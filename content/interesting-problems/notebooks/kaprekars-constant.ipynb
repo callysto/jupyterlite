{
 "cells": [
  {
   "attachments": {},
   "cell_type": "markdown",
   "metadata": {},
   "source": [
    "![Callysto.ca Banner](https://github.com/callysto/curriculum-notebooks/blob/master/callysto-notebook-banner-top.jpg?raw=true)\n",
    "\n",
    "<a href=\"https://hub.callysto.ca/jupyter/hub/user-redirect/git-pull?repo=https%3A%2F%2Fgithub.com%2Fcallysto%2Finteresting-problems&branch=main&subPath=notebooks/kaprekars-constant.ipynb&depth=1\" target=\"_parent\"><img src=\"https://raw.githubusercontent.com/callysto/curriculum-notebooks/master/open-in-callysto-button.svg?sanitize=true\" width=\"123\" height=\"24\" alt=\"Open in Callysto\"/></a>"
   ]
  },
  {
   "attachments": {},
   "cell_type": "markdown",
   "metadata": {},
   "source": [
    "# Kaprekar's Constant\n",
    "\n",
    "If we take any four-digit number and sort the digits in descending and ascending order, then find the difference between those numbers, we will eventually come up with the number [6174](https://en.wikipedia.org/wiki/6174_(number)). This is known as [Kaprekar](https://en.wikipedia.org/wiki/D._R._Kaprekar)'s Constant.\n",
    "\n",
    "The starting number can't have all the digits the same, and if we end up with a three-digit number we need to pad it with a zero. Apparently we will always reach 6174 within seven iterations. Let's test that. Click on the code cell below, then click the `▶Run` button."
   ]
  },
  {
   "cell_type": "code",
   "execution_count": null,
   "metadata": {},
   "outputs": [],
   "source": [
    "import random\n",
    "\n",
    "iterations = 0\n",
    "number = random.randint(1000, 9999)  # random 4-digit number, you can also comment out this line and use your own number\n",
    "\n",
    "while True:\n",
    "    n = str(number)\n",
    "    if len(n) < 4:\n",
    "        n = n.zfill(4)  # pad with zeros\n",
    "    a = int(''.join(sorted(n, reverse=True)))\n",
    "    b = int(''.join(sorted(n)))\n",
    "    print('iteration', iterations, 'using', number)\n",
    "    print(a, ' - ', b, ' = ', a - b)\n",
    "    if a - b == number:\n",
    "        print('completed in', iterations, 'iterations')\n",
    "        print(\"Kaprekar's constant is\", number)\n",
    "        break  # exit the loop\n",
    "    else:\n",
    "        number = a - b\n",
    "    iterations += 1\n",
    "    print('----------------------')"
   ]
  },
  {
   "attachments": {},
   "cell_type": "markdown",
   "metadata": {},
   "source": [
    "Hopefully you were able to find that Kaprekar's constant is **6174**. Let's try running that for all possible four digit numbers, and creating a pandas dataframe of how many iterations it took."
   ]
  },
  {
   "cell_type": "code",
   "execution_count": null,
   "metadata": {},
   "outputs": [],
   "source": [
    "import pandas as pd\n",
    "results = {}\n",
    "\n",
    "for x in range(1000, 10000):\n",
    "    number = x\n",
    "    iterations = 0\n",
    "    while True:\n",
    "        n = str(number)\n",
    "        if len(n) < 4:\n",
    "            n = n.zfill(4)  # pad with zeros\n",
    "        a = int(''.join(sorted(n, reverse=True)))\n",
    "        b = int(''.join(sorted(n)))\n",
    "        if a - b == number:\n",
    "            results[x] = [iterations, number]\n",
    "            break  # exit the loop\n",
    "        else:\n",
    "            number = a - b\n",
    "        iterations += 1\n",
    "\n",
    "df = pd.DataFrame.from_dict(results, orient='index', columns=['iterations', 'constant'])\n",
    "df"
   ]
  },
  {
   "attachments": {},
   "cell_type": "markdown",
   "metadata": {},
   "source": [
    "Looking at the last number, 9999, we didn't eliminate numbers where all the digits are the same. Let's look at all instances in the dataframe where we didn't find the constant to be 6174."
   ]
  },
  {
   "cell_type": "code",
   "execution_count": null,
   "metadata": {},
   "outputs": [],
   "source": [
    "df[df['constant'] != 6174]"
   ]
  },
  {
   "attachments": {},
   "cell_type": "markdown",
   "metadata": {},
   "source": [
    "Interesting. Let's try running those numbers through a simplified version of our algorithm."
   ]
  },
  {
   "cell_type": "code",
   "execution_count": null,
   "metadata": {},
   "outputs": [],
   "source": [
    "for number in df[df['constant'] != 6174].index:\n",
    "    n = str(number)\n",
    "    a = int(''.join(sorted(n, reverse=True)))\n",
    "    b = int(''.join(sorted(n)))\n",
    "    print(a, ' - ', b, ' = ', a - b)\n",
    "    print('----------------------')"
   ]
  },
  {
   "attachments": {},
   "cell_type": "markdown",
   "metadata": {},
   "source": [
    "Let's eliminate those numbers from our dataframe."
   ]
  },
  {
   "cell_type": "code",
   "execution_count": null,
   "metadata": {},
   "outputs": [],
   "source": [
    "df.drop(df[df['constant']!=6174].index, inplace=True)\n",
    "df"
   ]
  },
  {
   "attachments": {},
   "cell_type": "markdown",
   "metadata": {},
   "source": [
    "## Visualizations\n",
    "\n",
    "We can create some interactive visualizations of the dataframe. Feel free to zoom in on different sections of each."
   ]
  },
  {
   "cell_type": "code",
   "execution_count": null,
   "metadata": {},
   "outputs": [],
   "source": [
    "import plotly.express as px\n",
    "px.line(df, y='iterations', title=\"Finding Kaprekar's Constant\")"
   ]
  },
  {
   "cell_type": "code",
   "execution_count": null,
   "metadata": {},
   "outputs": [],
   "source": [
    "px.line(df[df.index < 1100], y='iterations', title=\"Finding Kaprekar's Constant (1000-1099)\")"
   ]
  },
  {
   "cell_type": "code",
   "execution_count": null,
   "metadata": {},
   "outputs": [],
   "source": [
    "px.histogram(df, x='iterations', title=\"Finding Kaprekar's Constant (Frequecies of Iteration Values)\")"
   ]
  },
  {
   "attachments": {},
   "cell_type": "markdown",
   "metadata": {},
   "source": [
    "## Conclusion\n",
    "\n",
    "This  with this was an introduction to an algorithm known as [Kaprekar's routine](https://en.wikipedia.org/wiki/Kaprekar's_routine).\n",
    "\n",
    "There is a lot more to explore, such as [different bases and lengths](https://en.wikipedia.org/wiki/Kaprekar's_routine#Kaprekar's_constants_and_cycles_of_the_Kaprekar_mapping_for_specific_base_b), and whether to pad shorter numbers with leading zeros [or not](https://en.wikipedia.org/wiki/Kaprekar's_routine#Leading_zeroes_discarded)."
   ]
  },
  {
   "attachments": {},
   "cell_type": "markdown",
   "metadata": {},
   "source": [
    "[![Callysto.ca License](https://github.com/callysto/curriculum-notebooks/blob/master/callysto-notebook-banner-bottom.jpg?raw=true)](https://github.com/callysto/curriculum-notebooks/blob/master/LICENSE.md)"
   ]
  }
 ],
 "metadata": {
  "kernelspec": {
   "display_name": "Python 3",
   "language": "python",
   "name": "python3"
  },
  "language_info": {
   "codemirror_mode": {
    "name": "ipython",
    "version": 3
   },
   "file_extension": ".py",
   "mimetype": "text/x-python",
   "name": "python",
   "nbconvert_exporter": "python",
   "pygments_lexer": "ipython3",
   "version": "3.10.1"
  },
  "orig_nbformat": 4,
  "vscode": {
   "interpreter": {
    "hash": "d1ca6d17674200220921376aaeb3d36cffe15ecab2470a9a5e7a456cdbf61425"
   }
  }
 },
 "nbformat": 4,
 "nbformat_minor": 2
}
