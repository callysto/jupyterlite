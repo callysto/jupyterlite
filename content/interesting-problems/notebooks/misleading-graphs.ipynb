{
 "cells": [
  {
   "cell_type": "markdown",
   "metadata": {},
   "source": [
    "![Callysto.ca Banner](https://github.com/callysto/curriculum-notebooks/blob/master/callysto-notebook-banner-top.jpg?raw=true)\n",
    "\n",
    "<a href=\"https://hub.callysto.ca/jupyter/hub/user-redirect/git-pull?repo=https%3A%2F%2Fgithub.com%2Fcallysto%2Finteresting-problems&branch=main&subPath=notebooks/misleading-graphs.ipynb&depth=1\" target=\"_parent\"><img src=\"https://raw.githubusercontent.com/callysto/curriculum-notebooks/master/open-in-callysto-button.svg?sanitize=true\" width=\"123\" height=\"24\" alt=\"Open in Callysto\"/></a>"
   ]
  },
  {
   "cell_type": "markdown",
   "metadata": {},
   "source": [
    "# Misleading Graphs\n",
    "\n",
    "This notebook includes examples of misleading graphs and some Python code to help you create corrected graphs."
   ]
  },
  {
   "cell_type": "markdown",
   "metadata": {},
   "source": [
    "## Political Poll\n",
    "\n",
    "A poll about who people would likely vote for in a govenor race:\n",
    "\n",
    "[![](images/governor.jpg)](https://img.buzzfeed.com/buzzfeed-static/static/2014-10/2/15/enhanced/webdr10/enhanced-buzz-466-1412277193-33.jpg?downsize=700%3A%2A&output-quality=auto&output-format=auto)\n",
    "\n",
    "In the following code cell add the numbers that should be graphed `y_values = [37, 37, 26]` and then click the `▶` button."
   ]
  },
  {
   "cell_type": "code",
   "execution_count": null,
   "metadata": {},
   "outputs": [],
   "source": [
    "y_values = []\n",
    "x_values = ['Charlie Crist', 'Rick Scott', 'Unsure']\n",
    "\n",
    "import plotly.express as px\n",
    "px.bar(x=x_values, y=y_values, text=y_values, title='Govenor Poll').update_xaxes(title='Candidate').update_yaxes(title='%')"
   ]
  },
  {
   "cell_type": "markdown",
   "metadata": {},
   "source": [
    "## Unemployment Rate\n",
    "\n",
    "![[](images/unemployment-rate.jpeg)](https://www.statisticshowto.com/wp-content/uploads/2014/01/unemployment-rate.jpg)\n",
    "\n",
    "Update the `x_values` and `y_values` in the code below to create a corrected version of this graph."
   ]
  },
  {
   "cell_type": "code",
   "execution_count": null,
   "metadata": {},
   "outputs": [],
   "source": [
    "x_values = ['Jan', 'Feb', 'Mar', 'Apr']\n",
    "y_values = [9.0, 8.9, 8.8, 9.0]\n",
    "\n",
    "fig = px.line(x=x_values, y=y_values, text=y_values, title='Unemployment Rate')\n",
    "fig.update_traces(textposition='top center')\n",
    "fig.update_yaxes(range=[0,10], title='%')\n",
    "fig.show()"
   ]
  },
  {
   "cell_type": "markdown",
   "metadata": {},
   "source": [
    "## Exam Opinions\n",
    "\n",
    "![[](images/exam-opinions.jpg)](https://img.buzzfeed.com/buzzfeed-static/static/2014-10/2/17/enhanced/webdr05/enhanced-buzz-3923-1412284647-14.jpg?downsize=800:*&output-format=auto&output-quality=auto)\n",
    "\n",
    "Use the following code cell to create a corrected version."
   ]
  },
  {
   "cell_type": "code",
   "execution_count": null,
   "metadata": {},
   "outputs": [],
   "source": [
    "categories = ['No']\n",
    "amounts = [49]\n",
    "px.pie(values=amounts, names=categories, title='You said...')"
   ]
  },
  {
   "cell_type": "markdown",
   "metadata": {},
   "source": [
    "## Murders with Firearms\n",
    "\n",
    "![[](images/florida-gun-deaths.jpg)](https://img.buzzfeed.com/buzzfeed-static/static/2014-10/2/14/enhanced/webdr11/enhanced-buzz-27907-1412273086-15.jpg?downsize=700%3A%2A&output-quality=auto&output-format=auto)\n",
    "\n",
    "Use the code cell to create a corrected version. Read the approximate values off the graph as best as you can."
   ]
  },
  {
   "cell_type": "code",
   "execution_count": null,
   "metadata": {},
   "outputs": [],
   "source": [
    "x_values = [1990, 1991, 1992, 1993, 1994, 1995, 1996, 1997, 1998, 1999, 2000, 2001, 2002, 2003, 2004, 2005, 2006, 2007, 2008, 2009, 2010, 2011, 2012]\n",
    "y_values = [873, 810]\n",
    "\n",
    "px.line(x=x_values, y=y_values, title='').update_xaxes(title='Year')"
   ]
  },
  {
   "cell_type": "markdown",
   "metadata": {},
   "source": [
    "We can also import the [original data source](https://www.fdle.state.fl.us/CJAB/UCR/Annual-Reports/UCR-Offense-Data)."
   ]
  },
  {
   "cell_type": "code",
   "execution_count": null,
   "metadata": {},
   "outputs": [],
   "source": [
    "import pandas as pd\n",
    "data = pd.read_excel('https://www.fdle.state.fl.us/CJAB/UCR/Annual-Reports/UCR-Offense-Data/09/Murder_Firearm_Type_Rate-(1).aspx', header=2).drop([0, 51, 52, 53, 54, 55])\n",
    "data"
   ]
  },
  {
   "cell_type": "markdown",
   "metadata": {},
   "source": [
    "Then create a graph of the data."
   ]
  },
  {
   "cell_type": "code",
   "execution_count": null,
   "metadata": {},
   "outputs": [],
   "source": [
    "data['Year'] = data['Year'].astype(str).str[:4].astype(int)\n",
    "import plotly.express as px\n",
    "px.line(data, x='Year', y='Total by Firearm', title='Murders by Firearm in Florida over Time')"
   ]
  },
  {
   "cell_type": "markdown",
   "metadata": {},
   "source": [
    "It might also be useful to look at the per-capita rate (divided by population)."
   ]
  },
  {
   "cell_type": "code",
   "execution_count": null,
   "metadata": {},
   "outputs": [],
   "source": [
    "data['Murder Rate by Firearm'] = pd.to_numeric(data['Total by Firearm'], errors='coerce') / data['Population']\n",
    "px.line(data, x='Year', y='Murder Rate by Firearm', title='Population-Adjusted Murders by Firearm in Florida over Time')"
   ]
  }
 ],
 "metadata": {
  "kernelspec": {
   "display_name": "Python 3",
   "language": "python",
   "name": "python3"
  },
  "language_info": {
   "codemirror_mode": {
    "name": "ipython",
    "version": 3
   },
   "file_extension": ".py",
   "mimetype": "text/x-python",
   "name": "python",
   "nbconvert_exporter": "python",
   "pygments_lexer": "ipython3",
   "version": "3.12.1"
  }
 },
 "nbformat": 4,
 "nbformat_minor": 2
}
