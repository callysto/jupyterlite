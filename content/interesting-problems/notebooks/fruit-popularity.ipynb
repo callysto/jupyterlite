{
 "cells": [
  {
   "cell_type": "markdown",
   "metadata": {},
   "source": [
    "![Callysto.ca Banner](https://github.com/callysto/curriculum-notebooks/blob/master/callysto-notebook-banner-top.jpg?raw=true)\n",
    "\n",
    "<a href=\"https://hub.callysto.ca/jupyter/hub/user-redirect/git-pull?repo=https%3A%2F%2Fgithub.com%2Fcallysto%2Finteresting-problems&branch=main&subPath=notebooks/fruit-popularity.ipynb&depth=1\" target=\"_parent\"><img src=\"https://raw.githubusercontent.com/callysto/curriculum-notebooks/master/open-in-callysto-button.svg?sanitize=true\" width=\"123\" height=\"24\" alt=\"Open in Callysto\"/></a>"
   ]
  },
  {
   "cell_type": "markdown",
   "metadata": {},
   "source": [
    "# Fruit Popularity Data Visualization\n",
    "\n",
    "It is an interesting challenge to visualize data using images or emojis as bars in a chart. We will look at [fruit purchase survey data from pma.com](https://www.pma.com/content/articles/2017/05/top-20-fruits-and-vegetables-sold-in-the-us) to create this visualization.\n",
    "\n",
    "We could also look at [worldwide fruit production from worldatlas.com](https://www.worldatlas.com/articles/the-most-popular-fruit-in-the-world.html) to see how it compares."
   ]
  },
  {
   "cell_type": "code",
   "execution_count": null,
   "metadata": {},
   "outputs": [],
   "source": [
    "import plotly.express as px\n",
    "from math import floor\n",
    "\n",
    "name = ['banana','apple','strawberry','grape','orange','watermelon','lemon','avocado','peach',\n",
    "        'blueberry','pineapple','cantaloupe','cherry','pear','mango']\n",
    "emoji = ['🍌','🍏','🍓','🍇','🟠','🍉','🍋','🥑','🍑','🫐','🍍','🍈','🍒','🍐','🥭']\n",
    "sales = [69,69,62,62,54,53,51,46,45,44,42,40,38,36,29]\n",
    "\n",
    "emojis = []\n",
    "for i in range(len(emoji)):\n",
    "    number_of_emojis = floor(sales[i]/6)\n",
    "    many_emojis = emoji[i]\n",
    "    for x in range(number_of_emojis):\n",
    "        many_emojis = many_emojis + emoji[i]\n",
    "    emojis.append(many_emojis)\n",
    "\n",
    "fig = px.bar(x=name, y=sales, text=emojis, title='Fruit Popularity')\n",
    "fig.update_traces(textfont_size=50, marker_color='white')\n",
    "fig.update_layout(plot_bgcolor='white')\n",
    "fig.update_xaxes(visible=False).update_yaxes(title='% of Shoppers')\n",
    "fig.show()"
   ]
  },
  {
   "cell_type": "markdown",
   "metadata": {},
   "source": [
    "[![Callysto.ca License](https://github.com/callysto/curriculum-notebooks/blob/master/callysto-notebook-banner-bottom.jpg?raw=true)](https://github.com/callysto/curriculum-notebooks/blob/master/LICENSE.md)"
   ]
  }
 ],
 "metadata": {
  "kernelspec": {
   "display_name": "Python 3",
   "language": "python",
   "name": "python3"
  },
  "language_info": {
   "codemirror_mode": {
    "name": "ipython",
    "version": 3
   },
   "file_extension": ".py",
   "mimetype": "text/x-python",
   "name": "python",
   "nbconvert_exporter": "python",
   "pygments_lexer": "ipython3",
   "version": "3.7.6"
  }
 },
 "nbformat": 4,
 "nbformat_minor": 4
}
