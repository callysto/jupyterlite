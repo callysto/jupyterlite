{
 "cells": [
  {
   "cell_type": "markdown",
   "metadata": {},
   "source": [
    "![Callysto.ca Banner](https://github.com/callysto/curriculum-notebooks/blob/master/callysto-notebook-banner-top.jpg?raw=true)\n",
    "\n",
    "<a href=\"https://hub.callysto.ca/jupyter/hub/user-redirect/git-pull?repo=https%3A%2F%2Fgithub.com%2Fcallysto%2Finteresting-problems&branch=main&subPath=notebooks/hospitals-and-ambulances.ipynb&depth=1\" target=\"_parent\"><img src=\"https://raw.githubusercontent.com/callysto/curriculum-notebooks/master/open-in-callysto-button.svg?sanitize=true\" width=\"123\" height=\"24\" alt=\"Open in Callysto\"/></a>"
   ]
  },
  {
   "cell_type": "markdown",
   "metadata": {
    "colab_type": "text",
    "id": "flurs0_5VU5e"
   },
   "source": [
    "# Hospitals and Ambulances\n",
    "\n",
    "[Watch on YouTube](https://www.youtube.com/watch?v=pjbmp-l5uUM&list=PL-j7ku2URmjZYtWzMCS4AqFS5SXPXRHwf&index=10&t=0s)\n",
    "\n",
    "![image with three dots representing hospital locations](https://4.bp.blogspot.com/-ZduMGp-rAlI/Xd0W9s6SQ3I/AAAAAAAAgBY/V7wLEtDIjvITouf0udJstYeCnBGMZGj4QCK4BGAYYCw/s640/Screen%2BShot%2B2019-11-26%2Bat%2B19.23.52.png)\n",
    "\n",
    "https://puzzlesandfigures.blogspot.com/2019/11/rich-tasks-67-hospitals-and-ambulances.html"
   ]
  },
  {
   "cell_type": "code",
   "execution_count": 4,
   "metadata": {
    "colab": {
     "base_uri": "https://localhost:8080/",
     "height": 265
    },
    "colab_type": "code",
    "id": "PqtWFUmnUlt7",
    "outputId": "e150b2c0-94f7-46c6-f629-1e7a4423baf4"
   },
   "outputs": [
    {
     "data": {
      "image/png": "[encoded data removed]",
      "text/plain": [
       "<Figure size 432x288 with 1 Axes>"
      ]
     },
     "metadata": {
      "needs_background": "light"
     },
     "output_type": "display_data"
    }
   ],
   "source": [
    "from math import sqrt\n",
    "from numpy import linspace\n",
    "import matplotlib.pyplot as plt\n",
    "%matplotlib inline\n",
    "\n",
    "a = (1, 5)\n",
    "b = (3, 1)\n",
    "c = (6, 5)\n",
    "x_max = 8\n",
    "y_max = 6\n",
    "precision = 30\n",
    "\n",
    "def calculate_color(location):\n",
    "    distance_to_a = sqrt((a[0]-location[0])**2 + (a[1]-location[1])**2)\n",
    "    distance_to_b = sqrt((b[0]-location[0])**2 + (b[1]-location[1])**2)\n",
    "    distance_to_c = sqrt((c[0]-location[0])**2 + (c[1]-location[1])**2)\n",
    "    #print(distance_to_a, distance_to_b, distance_to_c)\n",
    "    if distance_to_a < distance_to_b and (distance_to_a < distance_to_c):\n",
    "        color = 'green'\n",
    "    elif (distance_to_b < distance_to_a) and (distance_to_b < distance_to_c):\n",
    "        color = 'yellow'\n",
    "    elif (distance_to_c < distance_to_a) and (distance_to_c < distance_to_b):\n",
    "        color = 'red'\n",
    "    else:\n",
    "        color = 'white'\n",
    "    return color\n",
    "\n",
    "def plot_point(location):\n",
    "    color = calculate_color(location)\n",
    "    plt.scatter(location[0], location[1], color=color, marker='.')\n",
    "\n",
    "for x in linspace(0, x_max, precision):\n",
    "    for y in linspace(0, y_max, precision):\n",
    "        location = (x, y)\n",
    "        plot_point(location)\n",
    "plt.scatter(a[0], a[1], color='black', marker='o')\n",
    "plt.scatter(b[0], b[1], color='black', marker='o')\n",
    "plt.scatter(c[0], c[1], color='black', marker='o')\n",
    "plt.show()"
   ]
  },
  {
   "cell_type": "markdown",
   "metadata": {},
   "source": [
    "[![Callysto.ca License](https://github.com/callysto/curriculum-notebooks/blob/master/callysto-notebook-banner-bottom.jpg?raw=true)](https://github.com/callysto/curriculum-notebooks/blob/master/LICENSE.md)"
   ]
  }
 ],
 "metadata": {
  "colab": {
   "authorship_tag": "ABX9TyP1swHEmhYFa6L31lQ6ryhP",
   "include_colab_link": true,
   "name": "hospitals-and-ambulances.ipynb",
   "provenance": []
  },
  "kernelspec": {
   "display_name": "Python 3",
   "language": "python",
   "name": "python3"
  },
  "language_info": {
   "codemirror_mode": {
    "name": "ipython",
    "version": 3
   },
   "file_extension": ".py",
   "mimetype": "text/x-python",
   "name": "python",
   "nbconvert_exporter": "python",
   "pygments_lexer": "ipython3",
   "version": "3.7.6"
  }
 },
 "nbformat": 4,
 "nbformat_minor": 1
}
