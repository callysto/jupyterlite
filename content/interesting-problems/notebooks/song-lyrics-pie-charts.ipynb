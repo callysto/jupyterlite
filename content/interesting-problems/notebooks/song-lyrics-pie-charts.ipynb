{
 "cells": [
  {
   "cell_type": "markdown",
   "metadata": {},
   "source": [
    "![Callysto.ca Banner](https://github.com/callysto/curriculum-notebooks/blob/master/callysto-notebook-banner-top.jpg?raw=true)\n",
    "\n",
    "<a href=\"https://hub.callysto.ca/jupyter/hub/user-redirect/git-pull?repo=https%3A%2F%2Fgithub.com%2Fcallysto%2Finteresting-problems&branch=main&subPath=notebooks/song-lyrics-pie-charts.ipynb&depth=1\" target=\"_parent\"><img src=\"https://raw.githubusercontent.com/callysto/curriculum-notebooks/master/open-in-callysto-button.svg?sanitize=true\" width=\"123\" height=\"24\" alt=\"Open in Callysto\"/></a>"
   ]
  },
  {
   "cell_type": "markdown",
   "metadata": {},
   "source": [
    "# Song Lyrics Pie Charts\n",
    "\n",
    "Inspired by [this tweet](https://twitter.com/SalMathGuy/status/1285585953155715072), this is a Jupyter notebook that allows you to create word frequency visualizations from song lyrics. If you are viewing it on [GitHub](https://github.com) it won't be interactive, click [Open in Callysto](https://hub.callysto.ca/jupyter/hub/user-redirect/git-pull?repo=https%3A%2F%2Fgithub.com%2Fcallysto%2Finteresting-problems&branch=main&subPath=notebooks/song-lyrics-pie-charts.ipynb&depth=1) to be able to run the code.\n",
    "\n",
    "Find the lyrics for a song you are interested in, and paste the text on the lines between the `\"\"\"` in the cell below. \n",
    "\n",
    "Then click `▶Run` button to import the lyrics, or the `▶▶` button to run all of the cells in this notebook."
   ]
  },
  {
   "cell_type": "code",
   "execution_count": null,
   "metadata": {},
   "outputs": [],
   "source": [
    "song_title = \"Hey Jude\"\n",
    "\n",
    "lyrics = \"\"\"\n",
    "Replace this with your song lyrics or other text\n",
    "\n",
    "\"\"\"\n",
    "\n",
    "print('Lyrics imported for '+song_title)"
   ]
  },
  {
   "cell_type": "markdown",
   "metadata": {},
   "source": [
    "`▶Run` the next cell to create a pie chart.\n",
    "\n",
    "You can also change the number in the `how_many_words = 5` line to see "
   ]
  },
  {
   "cell_type": "code",
   "execution_count": null,
   "metadata": {},
   "outputs": [],
   "source": [
    "how_many_words = 5\n",
    "\n",
    "import pandas as pd\n",
    "from collections import Counter\n",
    "import plotly.express as px\n",
    "# replace some punctuation\n",
    "lyrics = lyrics.replace('\\n',' ').replace('-',' ')\n",
    "for punctuation in ['(',')','?','!','.',',']:\n",
    "    lyrics = lyrics.replace(punctuation, '')\n",
    "# convert to a list of lowercase words\n",
    "words = lyrics.lower().split(' ')\n",
    "# drop any empty values\n",
    "words = [word for word in words if word != '']\n",
    "# create a dataframe of word frequencies\n",
    "df = pd.DataFrame.from_dict(Counter(words), orient='index', columns=['Frequency'])\n",
    "df = df.reset_index().sort_values(by='Frequency', ascending=False)\n",
    "# calculate the frequency of words that are not in the top 5\n",
    "other_words_frequency = len(words) - df.head(how_many_words)['Frequency'].sum()\n",
    "new_row = pd.DataFrame({'index':'other words', 'Frequency':other_words_frequency}, index=[0])\n",
    "df = pd.concat([df, new_row])\n",
    "# create a percent column\n",
    "df['Percent'] = df['Frequency']/len(words)*100\n",
    "# rename the index column to Word\n",
    "df = df.rename(columns={'index':'Word'})\n",
    "# sort the values\n",
    "df = df.sort_values(by='Frequency', ascending=False)\n",
    "# create a pie chart\n",
    "px.pie(df.head(how_many_words+1), values='Percent', names='Word', title='Top '+str(how_many_words)+' Words in '+song_title)"
   ]
  },
  {
   "cell_type": "markdown",
   "metadata": {},
   "source": [
    "`▶Run` the next cell to create a horizontal bar chart for the 10 most frequent words, not including the \"other words\" row."
   ]
  },
  {
   "cell_type": "code",
   "execution_count": null,
   "metadata": {},
   "outputs": [],
   "source": [
    "most_frequent = 10\n",
    "\n",
    "df2 = df[df['Word']!='other words'].sort_values(by='Frequency').tail(most_frequent)\n",
    "px.bar(df2, y='Percent', x='Word', title=str(most_frequent) + ' Most Frequent Words in '+song_title)"
   ]
  },
  {
   "cell_type": "markdown",
   "metadata": {},
   "source": [
    "## Next Steps\n",
    "\n",
    "You can run this notebook again using text of the lyrics from another song, or with any text.\n",
    "\n",
    "If you are interested in more text analysis, check out [Shakespeare and Statistics](https://github.com/callysto/curriculum-notebooks/blob/master/EnglishLanguageArts/ShakespeareStatistics/shakespeare-and-statistics.ipynb)."
   ]
  },
  {
   "cell_type": "markdown",
   "metadata": {},
   "source": [
    "[![Callysto.ca License](https://github.com/callysto/curriculum-notebooks/blob/master/callysto-notebook-banner-bottom.jpg?raw=true)](https://github.com/callysto/curriculum-notebooks/blob/master/LICENSE.md)"
   ]
  }
 ],
 "metadata": {
  "kernelspec": {
   "display_name": "Python 3",
   "language": "python",
   "name": "python3"
  },
  "language_info": {
   "codemirror_mode": {
    "name": "ipython",
    "version": 3
   },
   "file_extension": ".py",
   "mimetype": "text/x-python",
   "name": "python",
   "nbconvert_exporter": "python",
   "pygments_lexer": "ipython3",
   "version": "3.10.4"
  }
 },
 "nbformat": 4,
 "nbformat_minor": 4
}
