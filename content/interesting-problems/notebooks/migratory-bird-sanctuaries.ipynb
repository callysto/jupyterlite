{
  "cells": [
    {
      "attachments": {},
      "cell_type": "markdown",
      "id": "cf686fc3",
      "metadata": {
        "id": "cf686fc3"
      },
      "source": [
        "![Callysto.ca Banner](https://github.com/callysto/curriculum-notebooks/blob/master/callysto-notebook-banner-top.jpg?raw=true)\n",
        "\n",
        "<a href=\"https://hub.callysto.ca/jupyter/hub/user-redirect/git-pull?repo=https%3A%2F%2Fgithub.com%2Fcallysto%2Finteresting-problems&branch=main&subPath=notebooks/migratory-bird-sanctuaries.ipynb&depth=1\" target=\"_parent\"><img src=\"https://raw.githubusercontent.com/callysto/curriculum-notebooks/master/open-in-callysto-button.svg?sanitize=true\" width=\"123\" height=\"24\" alt=\"Open in Callysto\"/></a>"
      ]
    },
    {
      "attachments": {},
      "cell_type": "markdown",
      "id": "a7ecc451",
      "metadata": {
        "id": "a7ecc451"
      },
      "source": [
        "# Migratory Bird Sanctuaries\n",
        "\n",
        "Canada has [migratory](https://simple.wikipedia.org/wiki/Migration) bird [sanctuaries](https://simple.wikipedia.org/wiki/Sanctuary) that are protected areas where there are rules about \"taking, injuring, destruction or molestation of migratory birds or their nests or eggs\" - [Migratory bird sanctuaries across Canada](https://www.canada.ca/en/environment-climate-change/services/migratory-bird-sanctuaries/locations.html).\n",
        "\n",
        "How much land area is protected in Canada? How does the protected land area compare in the provinces and territories?\n",
        "\n",
        "We can pull data from that [website](https://www.canada.ca/en/environment-climate-change/services/migratory-bird-sanctuaries/locations.html) to answer these questions..\n",
        "\n",
        "To download and display the data, click on the code cell below then click the `▶Run` button."
      ]
    },
    {
      "cell_type": "code",
      "execution_count": null,
      "id": "5622383b",
      "metadata": {
        "id": "5622383b"
      },
      "outputs": [],
      "source": [
        "import pandas as pd\n",
        "webpage = pd.read_html('https://www.canada.ca/en/environment-climate-change/services/migratory-bird-sanctuaries/locations.html')\n",
        "provinces = ['Alberta','British Columbia','New Brunswick','Newfoundland and Labrador','Northwest Territories','Nova Scotia','Nunavut','Ontario','Prince Edward Island','Quebec','Saskatchewan']\n",
        "df = pd.DataFrame(columns=webpage[0].columns) # create a blank dataframe\n",
        "for i, province in enumerate(provinces):\n",
        "    webpage[i]['Province'] = province\n",
        "    webpage[i].rename(columns = {'Name':'MBS Name'}, inplace=True) # a column is misnamed in one data table\n",
        "    df = pd.concat([df, webpage[i]]) # add the data to the new dataframe\n",
        "# display the resulting dataframe\n",
        "df"
      ]
    },
    {
      "cell_type": "markdown",
      "id": "d4d39630",
      "metadata": {
        "id": "d4d39630",
        "scrolled": false
      },
      "source": [
        "It looks like there are 92 different migratory bird sanctuaries in Canada.\n",
        "\n",
        "We can sort the dataframe by `Year established` to see when the first and last ones were set up.\n",
        "\n",
        "Click on the code cell below, then click the `▶Run` button to display sorted values."
      ]
    },
    {
      "cell_type": "code",
      "execution_count": null,
      "id": "d9fc9c90",
      "metadata": {
        "id": "d9fc9c90"
      },
      "outputs": [],
      "source": [
        "df.sort_values('Year established')"
      ]
    },
    {
      "cell_type": "markdown",
      "id": "12b10a2b",
      "metadata": {
        "id": "12b10a2b"
      },
      "source": [
        "It looks like they started in 1919 and the last one was established in 1998.\n",
        "\n",
        "Let's see which migratory bird sanctuaries are the largest. `▶Run` the next cell to sort them by the column `Size in hectares`."
      ]
    },
    {
      "cell_type": "code",
      "execution_count": null,
      "id": "3f111c5c",
      "metadata": {
        "id": "3f111c5c"
      },
      "outputs": [],
      "source": [
        "df.sort_values('Size in hectares')"
      ]
    },
    {
      "cell_type": "markdown",
      "id": "2da31a89",
      "metadata": {
        "id": "2da31a89"
      },
      "source": [
        "It seems that the largest ones are in Nunavut and Northwest Territories. Let's display the top 15.\n",
        "\n",
        "`▶Run` the next cell."
      ]
    },
    {
      "cell_type": "code",
      "execution_count": null,
      "id": "d7785b5c",
      "metadata": {
        "id": "d7785b5c"
      },
      "outputs": [],
      "source": [
        "df.sort_values('Size in hectares', ascending=False).head(15)"
      ]
    },
    {
      "attachments": {},
      "cell_type": "markdown",
      "id": "a2590164",
      "metadata": {},
      "source": [
        "We can also find the average size of the migratory bird sanctuaries."
      ]
    },
    {
      "cell_type": "code",
      "execution_count": null,
      "id": "c93a93e8",
      "metadata": {},
      "outputs": [],
      "source": [
        "df['Size in hectares'].median()"
      ]
    },
    {
      "cell_type": "code",
      "execution_count": null,
      "id": "aba9eb62",
      "metadata": {},
      "outputs": [],
      "source": [
        "df['Size in hectares'].mean()"
      ]
    },
    {
      "attachments": {},
      "cell_type": "markdown",
      "id": "37a5f0de",
      "metadata": {},
      "source": [
        "As well, we can count the number of bird sanctuaries per province or territory."
      ]
    },
    {
      "cell_type": "code",
      "execution_count": null,
      "id": "2ba91144",
      "metadata": {},
      "outputs": [],
      "source": [
        "df.groupby('Province')['Size in hectares'].count()"
      ]
    },
    {
      "attachments": {},
      "cell_type": "markdown",
      "id": "a07c1213",
      "metadata": {
        "id": "a07c1213"
      },
      "source": [
        "## Total Migratory Bird Sanctuary Area in Canada\n",
        "\n",
        "`▶Run` the next cell to add up the total bird sanctuary land area in Canada, in [hectares](https://simple.wikipedia.org/wiki/Hectare)."
      ]
    },
    {
      "cell_type": "code",
      "execution_count": null,
      "id": "63b09d5e",
      "metadata": {
        "id": "63b09d5e"
      },
      "outputs": [],
      "source": [
        "df['Size in hectares'].sum()"
      ]
    },
    {
      "attachments": {},
      "cell_type": "markdown",
      "id": "c025bb86",
      "metadata": {
        "id": "c025bb86"
      },
      "source": [
        "## Total Size by Province or Territory\n",
        "\n",
        "Next let's add up the areas by province or territory."
      ]
    },
    {
      "cell_type": "code",
      "execution_count": null,
      "id": "16bcd6d0",
      "metadata": {
        "id": "16bcd6d0"
      },
      "outputs": [],
      "source": [
        "mbs = df.groupby('Province', as_index=False).sum().drop(columns=['MBS Name','Year established'])\n",
        "mbs"
      ]
    },
    {
      "attachments": {},
      "cell_type": "markdown",
      "id": "f86141a8",
      "metadata": {
        "id": "f86141a8"
      },
      "source": [
        "Do you notice any provinces or territories missing from that list?\n",
        "\n",
        "## Visualizations\n",
        "\n",
        "We can use the [Plotly](https://plotly.com/python/) code library to create some graphs. Let's start with a bar graph."
      ]
    },
    {
      "cell_type": "code",
      "execution_count": null,
      "id": "5b03fa2f",
      "metadata": {
        "id": "5b03fa2f"
      },
      "outputs": [],
      "source": [
        "import plotly.express as px\n",
        "\n",
        "counts = df.groupby('Province')['Size in hectares'].count().sort_values()\n",
        "px.bar(counts, title='Number of of Migratory Bird Sanctuaries').update_layout(showlegend=False)"
      ]
    },
    {
      "attachments": {},
      "cell_type": "markdown",
      "id": "0cee7a4f",
      "metadata": {},
      "source": [
        "How about a bar graph of land area."
      ]
    },
    {
      "cell_type": "code",
      "execution_count": null,
      "id": "fbcf813d",
      "metadata": {},
      "outputs": [],
      "source": [
        "px.bar(mbs, x='Province', y='Size in hectares', title='Land Area of Migratory Bird Sanctuaries')"
      ]
    },
    {
      "attachments": {},
      "cell_type": "markdown",
      "id": "aafbdd8f",
      "metadata": {
        "id": "aafbdd8f"
      },
      "source": [
        "From the bar graph we can see that Nunavut and Northwest Territories have the largest amount of protected area. In fact, all of the other places are so much less that we can't even see them.\n",
        "\n",
        "Next let's try a pie chart where we can click on the legend (on the right) to hide any territories and provinces."
      ]
    },
    {
      "cell_type": "code",
      "execution_count": null,
      "id": "bde7fb2c",
      "metadata": {
        "id": "bde7fb2c"
      },
      "outputs": [],
      "source": [
        "px.pie(mbs, names='Province', values='Size in hectares', title='Land Area of Migratory Bird Sanctuaries')"
      ]
    },
    {
      "cell_type": "markdown",
      "id": "0b4d64fb",
      "metadata": {
        "id": "0b4d64fb"
      },
      "source": [
        "If we exclude Nunavut and Northwest Territories, which provinces have the most land area set aside for migratory bird sanctuaries? How does Alberta compare?\n",
        "\n",
        "## Comparing by Total Land Area\n",
        "\n",
        "The provinces and territories themselves are different sizes, we can compare how much of each is set aside for migratory bird sanctuaries.\n",
        "\n",
        "First we will need to find some data about the sizes of the provinces and territories."
      ]
    },
    {
      "cell_type": "code",
      "execution_count": null,
      "id": "f2b88bc5",
      "metadata": {
        "id": "f2b88bc5"
      },
      "outputs": [],
      "source": [
        "land = pd.read_html('https://www.cs.mcgill.ca/~rwest/wikispeedia/wpcd/wp/l/List_of_Canadian_provinces_and_territories_by_area.htm')[0]\n",
        "land['Land area (hectares)'] = land['Land area (km²)'] * 100\n",
        "land.rename(columns={'Name and flag':'Province'}, inplace=True)\n",
        "land"
      ]
    },
    {
      "cell_type": "markdown",
      "id": "94161155",
      "metadata": {
        "id": "94161155"
      },
      "source": [
        "Now that we know their land areas, we can merge that with the migratory bird sanctuaries data and calculate a percent."
      ]
    },
    {
      "cell_type": "code",
      "execution_count": null,
      "id": "1a4aa5d4",
      "metadata": {
        "id": "1a4aa5d4"
      },
      "outputs": [],
      "source": [
        "ratios = pd.merge(land, mbs)\n",
        "ratios['Percent'] = ratios['Size in hectares']/ratios['Land area (hectares)']*100\n",
        "ratios"
      ]
    },
    {
      "cell_type": "markdown",
      "id": "1db9bc17",
      "metadata": {
        "id": "1db9bc17"
      },
      "source": [
        "Just like before, we can create visualizations of this new dataframe."
      ]
    },
    {
      "cell_type": "code",
      "execution_count": null,
      "id": "baf5ce10",
      "metadata": {
        "id": "baf5ce10"
      },
      "outputs": [],
      "source": [
        "px.bar(ratios, x='Province', y='Percent', title='Percent of Land Area for Migratory Bird Sanctuaries')"
      ]
    },
    {
      "cell_type": "code",
      "execution_count": null,
      "id": "411d9da5",
      "metadata": {
        "id": "411d9da5"
      },
      "outputs": [],
      "source": [
        "px.pie(ratios, names='Province', values='Percent', title='Percent Land Area for Migratory Bird Sanctuaries')"
      ]
    },
    {
      "attachments": {},
      "cell_type": "markdown",
      "id": "38457766",
      "metadata": {
        "id": "38457766"
      },
      "source": [
        "# Conclusion\n",
        "\n",
        "Using data from [Migratory bird sanctuaries across Canada](https://www.canada.ca/en/environment-climate-change/services/migratory-bird-sanctuaries/locations.html) and land areas from this [List of Canadian provinces and territories by area](https://www.cs.mcgill.ca/~rwest/wikispeedia/wpcd/wp/l/List_of_Canadian_provinces_and_territories_by_area.htm) we were able to compare the sizes of protected areas across Canada.\n",
        "\n",
        "## Questions\n",
        "\n",
        "1. Why do you think two of the territories have the most land set aside for migratory bird sanctuaries?\n",
        "1. What might be some reasons that different provinces and territories have different amounts of protected land?\n",
        "1. Why might some provinces and territories be missing from the list?\n",
        "1. Some sanctuaries are much smaller or larger than average. Why might that be?\n",
        "1. What else do you find interesting about the data?\n",
        "1. What might be some further related questions to explore?"
      ]
    },
    {
      "cell_type": "markdown",
      "id": "cf3194cd",
      "metadata": {
        "id": "cf3194cd"
      },
      "source": [
        "[![Callysto.ca License](https://github.com/callysto/curriculum-notebooks/blob/master/callysto-notebook-banner-bottom.jpg?raw=true)](https://github.com/callysto/curriculum-notebooks/blob/master/LICENSE.md)"
      ]
    }
  ],
  "metadata": {
    "colab": {
      "provenance": []
    },
    "kernelspec": {
      "display_name": "Python 3",
      "language": "python",
      "name": "python3"
    },
    "language_info": {
      "codemirror_mode": {
        "name": "ipython",
        "version": 3
      },
      "file_extension": ".py",
      "mimetype": "text/x-python",
      "name": "python",
      "nbconvert_exporter": "python",
      "pygments_lexer": "ipython3",
      "version": "3.10.6"
    },
    "vscode": {
      "interpreter": {
        "hash": "916dbcbb3f70747c44a77c7bcd40155683ae19c65e1c03b4aa3499c5328201f1"
      }
    }
  },
  "nbformat": 4,
  "nbformat_minor": 5
}
