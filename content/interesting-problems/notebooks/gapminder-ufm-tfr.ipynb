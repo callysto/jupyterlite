{
 "cells": [
  {
   "cell_type": "markdown",
   "metadata": {},
   "source": [
    "![Callysto.ca Banner](https://github.com/callysto/curriculum-notebooks/blob/master/callysto-notebook-banner-top.jpg?raw=true)\n",
    "\n",
    "<a href=\"https://hub.callysto.ca/jupyter/hub/user-redirect/git-pull?repo=https%3A%2F%2Fgithub.com%2Fcallysto%2Finteresting-problems&branch=main&subPath=notebooks/gapminder-ufm-tfr.ipynb&depth=1\" target=\"_parent\"><img src=\"https://raw.githubusercontent.com/callysto/curriculum-notebooks/master/open-in-callysto-button.svg?sanitize=true\" width=\"123\" height=\"24\" alt=\"Open in Callysto\"/></a>"
   ]
  },
  {
   "cell_type": "markdown",
   "metadata": {},
   "source": [
    "# Exploring Gapminder Data\n",
    "\n",
    "[Watch on YouTube](https://www.youtube.com/watch?v=o8JEHJaDg4o&list=PL-j7ku2URmjZYtWzMCS4AqFS5SXPXRHwf)\n",
    "\n",
    "Gapminder is a non-profit website that uses large global data sets to promote understanding of the world.\n",
    "\n",
    "In addition to a [quiz](http://forms.gapminder.org/s3/test-2018) that makes the point \"almost nobody knows the basic global facts\", there is a photo project called \"Dollar Street\" to help dispell quality of life stereotypes and a book called \"[Factfulness: Ten Reasons We're Wrong About the World – and Why Things Are Better Than You Think](https://www.goodreads.com/book/show/34890015-factfulness)\".\n",
    "\n",
    "One of the famous data visualizations from [Gapminder.org](https://www.gapminder.org) is a bubble chart of [life expectancy versus income over time](https://www.gapminder.org/tools/#$chart-type=bubbles).\n",
    "\n",
    "Here is a version of that visualization in Python."
   ]
  },
  {
   "cell_type": "code",
   "execution_count": null,
   "metadata": {},
   "outputs": [],
   "source": [
    "import plotly.express as px\n",
    "import warnings\n",
    "warnings.filterwarnings(\"ignore\", module=\"plotly.express\") # suppress warnings\n",
    "\n",
    "gapminder_df = px.data.gapminder()\n",
    "px.scatter(gapminder_df, x='gdpPercap', y='lifeExp', \n",
    "           animation_frame='year', size='pop', size_max=100, \n",
    "           color='continent', hover_name='country', \n",
    "           log_x=True, range_x=[100,100000], range_y=[25, 90])"
   ]
  },
  {
   "cell_type": "markdown",
   "metadata": {},
   "source": [
    "We can look at changes in life expectancy over the years as a line graph."
   ]
  },
  {
   "cell_type": "code",
   "execution_count": null,
   "metadata": {},
   "outputs": [],
   "source": [
    "px.line(gapminder_df, x='year', y='lifeExp', color='country', title='Life Expectancy Over Time')"
   ]
  },
  {
   "attachments": {},
   "cell_type": "markdown",
   "metadata": {},
   "source": [
    "Click or double-click on countries in the legend to hide or show particular lines.\n",
    "\n",
    "## GDP\n",
    "\n",
    "We can quickly see some events events that significantly affected life expectancy, such as [Rwanda in 1992](https://en.wikipedia.org/wiki/Rwandan_genocide) or [Cambodia in 1977](https://en.wikipedia.org/wiki/Cambodian_genocide)."
   ]
  },
  {
   "cell_type": "markdown",
   "metadata": {},
   "source": [
    "Using Gapminder data we can display GDP per capita for a particular year to compare countries."
   ]
  },
  {
   "cell_type": "code",
   "execution_count": null,
   "metadata": {},
   "outputs": [],
   "source": [
    "import pandas as pd\n",
    "\n",
    "gdpppc_excel_link = 'https://github.com/Gapminder-Indicators/gdppc_cppp/blob/master/gdppc_cppp-by-gapminder.xlsx?raw=true'\n",
    "gdpppc = pd.read_excel(gdpppc_excel_link, sheet_name='countries_and_territories')\n",
    "gdpppc.dropna(axis=0, how='any', inplace=True) # drop rows (countries) for which there are no observations\n",
    "px.bar(gdpppc.sort_values(2018, ascending=False), x='geo.name', y=2018, title='GDP Per Capita (2018)')"
   ]
  },
  {
   "cell_type": "markdown",
   "metadata": {},
   "source": [
    "We can zoom in and mouse over the graph to see more information."
   ]
  },
  {
   "cell_type": "markdown",
   "metadata": {},
   "source": [
    "There are, of course, many other interesting data sets on the site. For example adult literacy rate."
   ]
  },
  {
   "cell_type": "code",
   "execution_count": null,
   "metadata": {},
   "outputs": [],
   "source": [
    "alr_spreadsheet_key = '12O0Bo85Dd-9bNq6p5KwXduPET1cRETP-mKy3ZK4q_xo' # from the URL\n",
    "alr_spreadsheet_gid = '0' # the first sheet\n",
    "alr_csv = 'https://docs.google.com/spreadsheets/d/'+alr_spreadsheet_key+'/export?gid='+alr_spreadsheet_gid+'&format=csv'\n",
    "alr = pd.read_csv(alr_csv)\n",
    "alr"
   ]
  },
  {
   "attachments": {},
   "cell_type": "markdown",
   "metadata": {},
   "source": [
    "Unfortunately there are quite a few gaps in that data set, but it is difficult to collect these types of data on a large scale."
   ]
  },
  {
   "cell_type": "markdown",
   "metadata": {},
   "source": [
    "# Question\n",
    "\n",
    "It would be informative to compare data sets to see if there are correlations. Do we see a [correlation](https://www.ncbi.nlm.nih.gov/books/NBK233807/) between child (under five) mortality rate and children born per woman (total fertility rate)?"
   ]
  },
  {
   "cell_type": "markdown",
   "metadata": {},
   "source": [
    "## Under Five Mortality\n",
    "\n",
    "### Retrieve Data\n",
    "\n",
    "We'll start by getting the Gapminder data for child mortality rate, called **under five mortality**, and storing it in a dataframe called `ufm`."
   ]
  },
  {
   "cell_type": "code",
   "execution_count": null,
   "metadata": {},
   "outputs": [],
   "source": [
    "ufm_spreadsheet_key = '1KqOcaDdM1rWQD8TnAEZpYDDQRJqlxqU7t_KT55pgd4U'\n",
    "ufm_spreadsheet_gid = '1535646753' # the first sheet\n",
    "ufm = pd.read_csv('https://docs.google.com/spreadsheets/d/'+ufm_spreadsheet_key+'/export?gid='+ufm_spreadsheet_gid+'&format=csv')\n",
    "ufm"
   ]
  },
  {
   "attachments": {},
   "cell_type": "markdown",
   "metadata": {},
   "source": [
    "### Adjust Dataframe\n",
    "\n",
    "To make it these data easier to graph, we'll rename the column `Under five mortality` to be just `Country`, and then set `Country` as the dataframe index."
   ]
  },
  {
   "cell_type": "code",
   "execution_count": null,
   "metadata": {},
   "outputs": [],
   "source": [
    "ufm.rename(columns={'Under five mortality':'Country'}, inplace=True)\n",
    "ufm.set_index('Country', inplace=True)\n",
    "ufm"
   ]
  },
  {
   "cell_type": "markdown",
   "metadata": {},
   "source": [
    "### Clean Data\n",
    "\n",
    "Now let's drop any rows that don't have data."
   ]
  },
  {
   "cell_type": "code",
   "execution_count": null,
   "metadata": {},
   "outputs": [],
   "source": [
    "ufm.dropna(axis=0, how='all', inplace=True)\n",
    "ufm\n"
   ]
  },
  {
   "cell_type": "markdown",
   "metadata": {},
   "source": [
    "### Graph Data\n",
    "\n",
    "To graph these data we'll first transpose the dataframe (using `T`) so that years are on the x-axis."
   ]
  },
  {
   "cell_type": "code",
   "execution_count": null,
   "metadata": {},
   "outputs": [],
   "source": [
    "px.line(ufm.transpose(), title='Under Five Mortality Over Time').update_layout(xaxis_title='Year', yaxis_title='Under Five Mortality')"
   ]
  },
  {
   "attachments": {},
   "cell_type": "markdown",
   "metadata": {},
   "source": [
    "Apart from some disconcerting spikes, there seems to have been a downward trend in child mortality over time.\n",
    "\n",
    "We can zoom in on sections of the graph to look closer, and select individual countries by clicking or double-clicking on the names in the legend."
   ]
  },
  {
   "cell_type": "markdown",
   "metadata": {},
   "source": [
    "### Graph a Subset of the Data\n",
    "\n",
    "We can also generate a graph with just certain countries that we may be interested in."
   ]
  },
  {
   "cell_type": "code",
   "execution_count": null,
   "metadata": {},
   "outputs": [],
   "source": [
    "ufm_subset = ufm[ufm.index.isin(['Canada', 'United States', 'Mexico'])]\n",
    "px.line(ufm_subset.transpose(), title='Under Five Mortality Over Time').update_layout(xaxis_title='Year', yaxis_title='Under Five Mortality')"
   ]
  },
  {
   "cell_type": "markdown",
   "metadata": {},
   "source": [
    "### Averages by Region\n",
    "\n",
    "To look at averages per continent, we'll need a data set correlating countries to regions."
   ]
  },
  {
   "cell_type": "code",
   "execution_count": null,
   "metadata": {},
   "outputs": [],
   "source": [
    "geonames = pd.read_csv('https://raw.githubusercontent.com/open-numbers/ddf--gapminder--geo_entity_domain/master/ddf--entities--geo--country.csv')\n",
    "geonames"
   ]
  },
  {
   "cell_type": "markdown",
   "metadata": {},
   "source": [
    "The two columns we are interested in are the name of the country and `world_6region` (although we could instead use `world_4region` if we prefer)."
   ]
  },
  {
   "cell_type": "code",
   "execution_count": null,
   "metadata": {},
   "outputs": [],
   "source": [
    "geonames_filtered = geonames[['name', 'world_6region']].rename(columns={'name':'Country', 'world_6region':'Continent'})\n",
    "geonames_filtered"
   ]
  },
  {
   "cell_type": "markdown",
   "metadata": {},
   "source": [
    "### Merge Region Data and Calculate Mean\n",
    "\n",
    "Let's merge that into our `ufm` dataframe and calculate the average (mean) by continent."
   ]
  },
  {
   "cell_type": "code",
   "execution_count": null,
   "metadata": {},
   "outputs": [],
   "source": [
    "ufm_continent = ufm.merge(geonames_filtered, on='Country')\n",
    "ufm_continent_mean = ufm_continent.groupby('Continent').mean(numeric_only=True)\n",
    "ufm_continent_mean"
   ]
  },
  {
   "cell_type": "markdown",
   "metadata": {},
   "source": [
    "### Graph Mean by Continent"
   ]
  },
  {
   "cell_type": "code",
   "execution_count": null,
   "metadata": {},
   "outputs": [],
   "source": [
    "px.line(ufm_continent_mean.transpose(), title='Under Five Mortality Over Time').update_layout(xaxis_title='Year', yaxis_title='Under Five Mortality')"
   ]
  },
  {
   "cell_type": "markdown",
   "metadata": {},
   "source": [
    "That makes it simpler to see trends, and shows a decrease in child mortality over the last 50 years."
   ]
  },
  {
   "cell_type": "markdown",
   "metadata": {},
   "source": [
    "## Total Fertility Rate\n",
    "\n",
    "Now let's do the same process with the number of children born per woman, the **total fertility rate**."
   ]
  },
  {
   "cell_type": "markdown",
   "metadata": {},
   "source": [
    "### Retrieve and Process Data"
   ]
  },
  {
   "cell_type": "code",
   "execution_count": null,
   "metadata": {},
   "outputs": [],
   "source": [
    "tfr_spreadsheet_key = '1oq3r8W7ajenKFgoAYoOf2MXeTWWNPpudR-Fo5m2-o30'\n",
    "#tfr_spreadsheet_key = '1yhCv2YRWk5DqsyLN2g-AJBA66EYClPj5vvUBnfslf-I' # with projections\n",
    "tfr_spreadsheet_gid = '0' # the first sheet\n",
    "tfr = pd.read_csv('https://docs.google.com/spreadsheets/d/'+tfr_spreadsheet_key+'/export?gid='+tfr_spreadsheet_gid+'&format=csv')\n",
    "tfr.rename(columns={'Total fertility rate':'Country'}, inplace=True)\n",
    "tfr.set_index('Country', inplace=True)\n",
    "tfr.dropna(axis=0, how='all', inplace=True)\n",
    "tfr"
   ]
  },
  {
   "cell_type": "markdown",
   "metadata": {},
   "source": [
    "### Generate Graph"
   ]
  },
  {
   "cell_type": "code",
   "execution_count": null,
   "metadata": {},
   "outputs": [],
   "source": [
    "px.line(tfr.transpose(), title='Under Five Mortality Over Time').update_layout(xaxis_title='Year', yaxis_title='Under Five Mortality')"
   ]
  },
  {
   "attachments": {},
   "cell_type": "markdown",
   "metadata": {},
   "source": [
    "### Mean by Continent\n",
    "\n",
    "Again, it looks like a general decline recently but there are a lot of lines on that graph. Let's find the mean by continent."
   ]
  },
  {
   "cell_type": "code",
   "execution_count": null,
   "metadata": {},
   "outputs": [],
   "source": [
    "tfr_continent = tfr.merge(geonames_filtered, on='Country')\n",
    "tfr_continent_mean = tfr_continent.groupby('Continent').mean(numeric_only=True)\n",
    "px.line(tfr_continent_mean.transpose(), title='Total Fertility Rate Over Time').update_layout(xaxis_title='Year', yaxis_title='Total Fertility Rate')"
   ]
  },
  {
   "cell_type": "markdown",
   "metadata": {},
   "source": [
    "## Correlations?\n",
    "\n",
    "### Correlations by Continent\n",
    "\n",
    "Observing the declines in *under five mortality* and *total fertility rate*, let's see if they look like they are correlated."
   ]
  },
  {
   "cell_type": "code",
   "execution_count": null,
   "metadata": {},
   "outputs": [],
   "source": [
    "px.line(ufm_continent_mean.transpose(), title='Under Five Mortality Over Time').update_layout(xaxis_title='Year', yaxis_title='Under Five Mortality').show()\n",
    "px.line(tfr_continent_mean.transpose(), title='Total Fertility Rate Over Time').update_layout(xaxis_title='Year', yaxis_title='Total Fertility Rate').show()"
   ]
  },
  {
   "attachments": {},
   "cell_type": "markdown",
   "metadata": {},
   "source": [
    "Total fertility rate seems to lag behind child mortality rate, but there does appear to be a correlation."
   ]
  },
  {
   "attachments": {},
   "cell_type": "markdown",
   "metadata": {},
   "source": [
    "### Correlations by Country\n",
    "\n",
    "We may also want to look at this for a particular country or list of countries."
   ]
  },
  {
   "cell_type": "code",
   "execution_count": null,
   "metadata": {},
   "outputs": [],
   "source": [
    "countries = ['Canada']\n",
    "\n",
    "px.line(ufm.loc[countries].transpose(), title='Under Five Mortality Over Time').update_layout(xaxis_title='Year', yaxis_title='Under Five Mortality').show()\n",
    "px.line(tfr.loc[countries].transpose(), title='Total Fertility Rate Over Time').update_layout(xaxis_title='Year', yaxis_title='Total Fertility Rate').show()"
   ]
  },
  {
   "cell_type": "markdown",
   "metadata": {},
   "source": [
    "## Calculating Correlations\n",
    "\n",
    "To find how closely correlated these two data sets are, we'll calculate the [Pearson correlation coefficient](https://en.wikipedia.org/wiki/Pearson_correlation_coefficient) for each country. A value of 0 implies no correlation, 1 would be a strong positive correlation and -1 would be a strong negative correlation."
   ]
  },
  {
   "cell_type": "code",
   "execution_count": null,
   "metadata": {},
   "outputs": [],
   "source": [
    "correlations_dictionary = {}\n",
    "missing_data = []\n",
    "for country in ufm.index.tolist():\n",
    "    try:\n",
    "        correlations_dictionary[country] = ufm.loc[country].corr(tfr.loc[country], method='pearson')\n",
    "    except:\n",
    "        missing_data.append(country)\n",
    "print('Missing data for: ', missing_data)\n",
    "correlations = pd.DataFrame.from_dict(correlations_dictionary, orient='index', columns=['Correlation'])\n",
    "correlations"
   ]
  },
  {
   "cell_type": "code",
   "execution_count": null,
   "metadata": {},
   "outputs": [],
   "source": [
    "print('Average correlation:', correlations.mean()[0])"
   ]
  },
  {
   "cell_type": "code",
   "execution_count": null,
   "metadata": {},
   "outputs": [],
   "source": [
    "print('Median correlation:', correlations.median()[0])"
   ]
  },
  {
   "cell_type": "code",
   "execution_count": null,
   "metadata": {},
   "outputs": [],
   "source": [
    "print('Countries with the highest correlation:')\n",
    "correlations.sort_values('Correlation', ascending=False).head(10)"
   ]
  },
  {
   "cell_type": "code",
   "execution_count": null,
   "metadata": {},
   "outputs": [],
   "source": [
    "fig = px.bar(correlations, title='Correlations Between Under Five Mortality and Total Fertility Rate')\n",
    "fig.update_layout(xaxis_title='Country', yaxis_title='Correlation', showlegend=False)\n",
    "fig.show()"
   ]
  },
  {
   "attachments": {},
   "cell_type": "markdown",
   "metadata": {},
   "source": [
    "# Conclusion\n",
    "\n",
    "Based on these data about child (under five) mortality and total fertility rate (children per woman), it looks like there is probably a correlation. Of course we remember that [correlation does not imply causation](https://en.wikipedia.org/wiki/Correlation_does_not_imply_causation), but there is potential for further study."
   ]
  },
  {
   "cell_type": "markdown",
   "metadata": {},
   "source": [
    "[![Callysto.ca License](https://github.com/callysto/curriculum-notebooks/blob/master/callysto-notebook-banner-bottom.jpg?raw=true)](https://github.com/callysto/curriculum-notebooks/blob/master/LICENSE.md)"
   ]
  }
 ],
 "metadata": {
  "kernelspec": {
   "display_name": "Python 3",
   "language": "python",
   "name": "python3"
  },
  "language_info": {
   "codemirror_mode": {
    "name": "ipython",
    "version": 3
   },
   "file_extension": ".py",
   "mimetype": "text/x-python",
   "name": "python",
   "nbconvert_exporter": "python",
   "pygments_lexer": "ipython3",
   "version": "3.10.6"
  },
  "vscode": {
   "interpreter": {
    "hash": "916dbcbb3f70747c44a77c7bcd40155683ae19c65e1c03b4aa3499c5328201f1"
   }
  }
 },
 "nbformat": 4,
 "nbformat_minor": 2
}
