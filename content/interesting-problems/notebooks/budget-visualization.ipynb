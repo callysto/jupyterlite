{
 "cells": [
  {
   "cell_type": "markdown",
   "metadata": {},
   "source": [
    "![Callysto.ca Banner](https://github.com/callysto/curriculum-notebooks/blob/master/callysto-notebook-banner-top.jpg?raw=true)\n",
    "\n",
    "<a href=\"https://hub.callysto.ca/jupyter/hub/user-redirect/git-pull?repo=https%3A%2F%2Fgithub.com%2Fcallysto%2Finteresting-problems&branch=main&subPath=notebooks/budget-visualization.ipynb&depth=1\" target=\"_parent\"><img src=\"https://raw.githubusercontent.com/callysto/curriculum-notebooks/master/open-in-callysto-button.svg?sanitize=true\" width=\"123\" height=\"24\" alt=\"Open in Callysto\"/></a>"
   ]
  },
  {
   "cell_type": "markdown",
   "metadata": {},
   "source": [
    "# Household Budget Visualization\n",
    "\n",
    "### Can we get a better understanding of our monthly household budget?\n",
    "\n",
    "Let's try out [sunburst charts](https://plotly.com/python/sunburst-charts) and [treemaps](https://plotly.com/python/treemaps) for visualizing money that comes in and goes out."
   ]
  },
  {
   "cell_type": "markdown",
   "metadata": {},
   "source": [
    "### Creating the Data File\n",
    "\n",
    "The code cell below creates a [CSV](https://en.wikipedia.org/wiki/Comma-separated_values) file with your budget data.\n",
    "\n",
    "Click on the code cell, then click the `▶Run` button."
   ]
  },
  {
   "cell_type": "code",
   "execution_count": null,
   "metadata": {},
   "outputs": [],
   "source": [
    "import ipywidgets as widgets\n",
    "import pandas as pd\n",
    "import csv\n",
    "import plotly.express as px\n",
    "\n",
    "page_income = widgets.Box()\n",
    "page_food = widgets.Box()\n",
    "page_home = widgets.Box()\n",
    "page_entertainment = widgets.Box()\n",
    "page_transportation = widgets.Box()\n",
    "page_donations = widgets.Box()\n",
    "page_investment = widgets.Box()\n",
    "\n",
    "pages = widgets.Tab(children=[page_income, page_food, page_home, page_entertainment, page_transportation, page_donations, page_investment])\n",
    "for i, page_title in enumerate(['Income', 'Food', 'Home', 'Entertainment', 'Transportation', 'Donations', 'Investment']):\n",
    "    pages.set_title(i, page_title)\n",
    "\n",
    "job_income = widgets.IntText(description='Job:')\n",
    "investment_dividends = widgets.IntText(description='Dividends:')\n",
    "\n",
    "groceries_expense = widgets.IntText(description='Groceries:')\n",
    "restaurants_expense = widgets.IntText(description='Restaurants:')\n",
    "\n",
    "water_waste_expense = widgets.IntText(description='Water & Waste:')\n",
    "energy_expense = widgets.IntText(description='Energy:')\n",
    "insurance_home_expense = widgets.IntText(description='Insurance:')\n",
    "property_tax_expense = widgets.IntText(description='Property Tax:')\n",
    "\n",
    "data_expense = widgets.IntText(description='Mobile Data:')\n",
    "streaming_expense = widgets.IntText(description='Streaming:')\n",
    "toys_expense = widgets.IntText(description='Toys:')\n",
    "\n",
    "insurance_transportation_expense = widgets.IntText(description='Insurance:')\n",
    "fuel_expense = widgets.IntText(description='Fuel:')\n",
    "\n",
    "charity_expense = widgets.IntText(description='Charity:')\n",
    "political_expense = widgets.IntText(description='Political:')\n",
    "\n",
    "tfsa_expense = widgets.IntText(description='TFSA:')\n",
    "rrsp_expense = widgets.IntText(description='RRSP:')\n",
    "saving_expense = widgets.IntText(description='Saving:')\n",
    "\n",
    "output_income = widgets.Output()\n",
    "output_food = widgets.Output()\n",
    "output_home = widgets.Output()\n",
    "output_entertainment = widgets.Output()\n",
    "output_transportation = widgets.Output()\n",
    "output_donations = widgets.Output()\n",
    "output_investment = widgets.Output()\n",
    "\n",
    "page_income.children = [job_income, investment_dividends, output_income]\n",
    "page_food.children = [groceries_expense, restaurants_expense, output_food]\n",
    "page_home.children = [energy_expense, water_waste_expense, insurance_home_expense, property_tax_expense, output_home]\n",
    "page_entertainment.children = [data_expense, streaming_expense, toys_expense, output_entertainment]\n",
    "page_transportation.children = [insurance_transportation_expense, fuel_expense, output_transportation]\n",
    "page_donations.children = [charity_expense, political_expense, output_donations]\n",
    "page_investment.children = [tfsa_expense, rrsp_expense, saving_expense, output_investment]\n",
    "\n",
    "button_create_csv = widgets.Button(description='Create CSV')\n",
    "def create_csv(_):\n",
    "    data = [\n",
    "        ['Income', 'Job', 'Restaurant', job_income.value],\n",
    "        ['Income', 'Investment', 'Dividends', investment_dividends.value],\n",
    "        ['Expense', 'Food', 'Groceries', groceries_expense.value],\n",
    "        ['Expense', 'Food', 'Restaurants', restaurants_expense.value],\n",
    "        ['Expense', 'Home', 'Water & Waste', water_waste_expense.value],\n",
    "        ['Expense', 'Home', 'Energy', energy_expense.value],\n",
    "        ['Expense', 'Home', 'Insurance', insurance_home_expense.value],\n",
    "        ['Expense', 'Home', 'Property Tax', property_tax_expense.value],\n",
    "        ['Expense', 'Home', 'Data', data_expense.value],\n",
    "        ['Expense', 'Entertainment', 'Streaming', streaming_expense.value],\n",
    "        ['Expense', 'Entertainment', 'Toys', toys_expense.value],\n",
    "        ['Expense', 'Transportation', 'Insurance', insurance_transportation_expense.value],\n",
    "        ['Expense', 'Transportation', 'Fuel', fuel_expense.value],\n",
    "        ['Expense', 'Donations', 'Charity', charity_expense.value],\n",
    "        ['Expense', 'Donations', 'Political', political_expense.value],\n",
    "        ['Expense', 'Investment', 'TFSA', tfsa_expense.value],\n",
    "        ['Expense', 'Investment', 'RRSP', rrsp_expense.value],\n",
    "        ['Expense', 'Investment', 'Saving', saving_expense.value]\n",
    "    ]\n",
    "    with open('budget.csv', 'w', newline='') as file:\n",
    "        writer = csv.writer(file)\n",
    "        writer.writerow(['InOut', 'Category', 'Label', 'Amount'])\n",
    "        writer.writerows(data)\n",
    "    with output_income:\n",
    "        print('CSV file created successfully.')\n",
    "button_create_csv.on_click(create_csv)\n",
    "button_create_csv.style.button_color = 'lightgreen'\n",
    "\n",
    "print('Edit the categories and amounts, then press the `Create CSV` button to create the file that we will use for creating visualizations.')\n",
    "display(pages)\n",
    "display(button_create_csv)"
   ]
  },
  {
   "cell_type": "markdown",
   "metadata": {},
   "source": [
    "Now that you have recorded data and created a file containing budget information, let's make some visualizations. Click on different parts of the visuzalizations to see what happens."
   ]
  },
  {
   "cell_type": "code",
   "execution_count": null,
   "metadata": {},
   "outputs": [],
   "source": [
    "try:\n",
    "    budget = pd.read_csv('budget.csv')\n",
    "    px.sunburst(budget, path=['InOut', 'Category', 'Label'], values='Amount', color='Category', title='Budget Sunburst').show()\n",
    "    px.treemap(budget, path=['InOut', 'Category', 'Label'], values='Amount', color='Category', title='Budget Treemap').show()\n",
    "except:\n",
    "    print(\"You need to create a CSV file first. Press the 'Create CSV' button above to create one.\")"
   ]
  },
  {
   "cell_type": "markdown",
   "metadata": {},
   "source": [
    "Clicking on the different parts of the visualizations will zoom in or out.\n",
    "\n",
    "Does this help show what's happening with finances each month? Which visualization do you prefer?"
   ]
  },
  {
   "cell_type": "markdown",
   "metadata": {},
   "source": [
    "[![Callysto.ca License](https://github.com/callysto/curriculum-notebooks/blob/master/callysto-notebook-banner-bottom.jpg?raw=true)](https://github.com/callysto/curriculum-notebooks/blob/master/LICENSE.md)"
   ]
  }
 ],
 "metadata": {
  "kernelspec": {
   "display_name": "Python 3",
   "language": "python",
   "name": "python3"
  },
  "language_info": {
   "codemirror_mode": {
    "name": "ipython",
    "version": 3
   },
   "file_extension": ".py",
   "mimetype": "text/x-python",
   "name": "python",
   "nbconvert_exporter": "python",
   "pygments_lexer": "ipython3",
   "version": "3.10.1"
  }
 },
 "nbformat": 4,
 "nbformat_minor": 4
}
