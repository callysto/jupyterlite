{
 "cells": [
  {
   "cell_type": "markdown",
   "metadata": {},
   "source": [
    "![Callysto.ca Banner](https://github.com/callysto/curriculum-notebooks/blob/master/callysto-notebook-banner-top.jpg?raw=true)\n",
    "\n",
    "<a href=\"https://hub.callysto.ca/jupyter/hub/user-redirect/git-pull?repo=https%3A%2F%2Fgithub.com%2Fcallysto%2Finteresting-problems&branch=main&subPath=notebooks/rock-paper-scissors.ipynb&depth=1\" target=\"_parent\"><img src=\"https://raw.githubusercontent.com/callysto/curriculum-notebooks/master/open-in-callysto-button.svg?sanitize=true\" width=\"123\" height=\"24\" alt=\"Open in Callysto\"/></a>"
   ]
  },
  {
   "cell_type": "markdown",
   "metadata": {},
   "source": [
    "# Rock Paper Scissors\n",
    "\n",
    "We are going to simulate games of [Rock Paper Scissors](https://en.wikipedia.org/wiki/Rock_paper_scissors) and visualze them with a bar chart race animation.\n",
    "\n",
    "To start we will simulate `50` rounds between `Steven` (who chooses equally among the three options) and `Edward` (who prefers scissors but chooses paper $\\frac{1}{3}$ of the time).\n",
    "\n",
    "`►Run` the following code cell, then click the `►` button below the chart to play the animation."
   ]
  },
  {
   "cell_type": "code",
   "execution_count": null,
   "metadata": {},
   "outputs": [],
   "source": [
    "number_of_rounds = 50\n",
    "player1 = 'Steven'\n",
    "player2 = 'Edward'\n",
    "choices = {\n",
    "    'Steven':['Rock','Paper','Scissors'],\n",
    "    'Bart':['Rock'],\n",
    "    'Edward':['Scissors','Scissors','Paper'],\n",
    "    'Freddie':['Paper','Paper','Rock','Paper','Paper','Rock']}\n",
    "\n",
    "\n",
    "# create a dataframe of rock beats scissors etc.\n",
    "import pandas as pd\n",
    "winlose = pd.DataFrame(columns=['Rock','Paper','Scissors'])\n",
    "winlose['Rock'] = ['Tie','Win','Loss']\n",
    "winlose['Paper'] = ['Loss','Tie','Win']\n",
    "winlose['Scissors'] = ['Win','Loss','Tie']\n",
    "winlose.index = ['Rock','Paper','Scissors']\n",
    "\n",
    "from random import choices as c\n",
    "p1wins = 0\n",
    "p2wins = 0\n",
    "ties = 0\n",
    "p1c = ''\n",
    "p2c = ''\n",
    "results = pd.DataFrame(columns=['Tie']) # so that 'Tie' is listed below the others in the chart\n",
    "for x in range(number_of_rounds+1):\n",
    "    results = results.append({player1+' Choice':p1c, player2+' Choice':p2c, 'Tie':ties, player2:p2wins, player1:p1wins}, ignore_index=True)\n",
    "    p1c = c(choices[player1])[0]\n",
    "    p2c = c(choices[player2])[0]\n",
    "    result = winlose.at[p1c, p2c]\n",
    "    if result == 'Win':\n",
    "        p1wins += 1\n",
    "    if result == 'Loss':\n",
    "        p2wins +=1\n",
    "    if result == 'Tie':\n",
    "        ties += 1\n",
    "\n",
    "# convert wide dataframe to tidy\n",
    "results['Round'] = results.index\n",
    "tidy_results = results.drop(columns=[player1+' Choice', player2+' Choice']).melt('Round', var_name='Player', value_name='Wins')        \n",
    "\n",
    "import plotly.express as px\n",
    "fig = px.bar(tidy_results, y='Player', x='Wins', orientation='h', animation_frame='Round', color='Player')\n",
    "fig.update_layout(xaxis_range=[0,tidy_results['Wins'].max()+1], showlegend=False)\n",
    "fig.update_layout(title='Rock Paper Scissors Tournament to '+str(number_of_rounds))\n",
    "#fig.write_html('rps.html')\n",
    "fig.show()"
   ]
  },
  {
   "cell_type": "markdown",
   "metadata": {},
   "source": [
    "## Results Data\n",
    "\n",
    "Let's have a look at the table of results from that tournament by running the following code cell."
   ]
  },
  {
   "cell_type": "code",
   "execution_count": null,
   "metadata": {},
   "outputs": [],
   "source": [
    "results"
   ]
  },
  {
   "cell_type": "markdown",
   "metadata": {},
   "source": [
    "We can also count how many times a player chose each of the options:"
   ]
  },
  {
   "cell_type": "code",
   "execution_count": null,
   "metadata": {},
   "outputs": [],
   "source": [
    "results['Edward Choice'].value_counts()"
   ]
  },
  {
   "cell_type": "markdown",
   "metadata": {},
   "source": [
    "Or display the round choices for all of the players:"
   ]
  },
  {
   "cell_type": "code",
   "execution_count": null,
   "metadata": {},
   "outputs": [],
   "source": [
    "for column in results.columns:\n",
    "    if 'Choice' in column:\n",
    "        print(results[column].value_counts())\n",
    "        print('---')"
   ]
  },
  {
   "cell_type": "markdown",
   "metadata": {},
   "source": [
    "## Determining the Winner of a Round\n",
    "\n",
    "We can see the `winlose` table by running the following cell. Player 1's choice is the index column and Player 2's choice is the colunn headings."
   ]
  },
  {
   "cell_type": "code",
   "execution_count": null,
   "metadata": {},
   "outputs": [],
   "source": [
    "winlose"
   ]
  },
  {
   "cell_type": "markdown",
   "metadata": {},
   "source": [
    "To check if Player 1 wins by choosing `Rock` when Player 2 chooses `Paper`, we can use the following code."
   ]
  },
  {
   "cell_type": "code",
   "execution_count": null,
   "metadata": {},
   "outputs": [],
   "source": [
    "winlose.at['Rock','Paper']"
   ]
  },
  {
   "cell_type": "markdown",
   "metadata": {},
   "source": [
    "## Challenges\n",
    "\n",
    "Try editing the first code cell to have different matches, for example `Bart` versus `Freddie`.\n",
    "\n",
    "If you are feeling even more adventurous, try adjusting the code to have them play [Rock Paper Scissors Lizard Spock](http://www.samkass.com/theories/RPSSL.html)."
   ]
  },
  {
   "cell_type": "markdown",
   "metadata": {},
   "source": [
    "[![Callysto.ca License](https://github.com/callysto/curriculum-notebooks/blob/master/callysto-notebook-banner-bottom.jpg?raw=true)](https://github.com/callysto/curriculum-notebooks/blob/master/LICENSE.md)"
   ]
  }
 ],
 "metadata": {
  "kernelspec": {
   "display_name": "Python 3",
   "language": "python",
   "name": "python3"
  },
  "language_info": {
   "codemirror_mode": {
    "name": "ipython",
    "version": 3
   },
   "file_extension": ".py",
   "mimetype": "text/x-python",
   "name": "python",
   "nbconvert_exporter": "python",
   "pygments_lexer": "ipython3",
   "version": "3.7.3"
  }
 },
 "nbformat": 4,
 "nbformat_minor": 4
}
