{
 "cells": [
  {
   "cell_type": "markdown",
   "metadata": {},
   "source": [
    "![Callysto.ca Banner](https://github.com/callysto/curriculum-notebooks/blob/master/callysto-notebook-banner-top.jpg?raw=true)\n",
    "\n",
    "<a href=\"https://hub.callysto.ca/jupyter/hub/user-redirect/git-pull?repo=https%3A%2F%2Fgithub.com%2Fcallysto%2Finteresting-problems&branch=main&subPath=notebooks/openmiddle-four-digit-products.ipynb&depth=1\" target=\"_parent\"><img src=\"https://raw.githubusercontent.com/callysto/curriculum-notebooks/master/open-in-callysto-button.svg?sanitize=true\" width=\"123\" height=\"24\" alt=\"Open in Callysto\"/></a>"
   ]
  },
  {
   "cell_type": "markdown",
   "metadata": {},
   "source": [
    "# Four Digit Products\n",
    "\n",
    "Using the digits 1-9, at most one time each, fill in the blanks to make the following multiplication true:\n",
    "\n",
    "__ __ × __ __ = __ __ __ __\n",
    "\n",
    "From [OpenMiddle](https://www.openmiddle.com/four-digit-products)"
   ]
  },
  {
   "cell_type": "code",
   "execution_count": 1,
   "metadata": {},
   "outputs": [
    {
     "name": "stdout",
     "output_type": "stream",
     "text": [
      "23 × 69 = 1587\n",
      "24 × 57 = 1368\n",
      "32 × 49 = 1568\n",
      "34 × 52 = 1768\n",
      "34 × 58 = 1972\n",
      "37 × 58 = 2146\n",
      "38 × 42 = 1596\n",
      "38 × 52 = 1976\n",
      "39 × 56 = 2184\n",
      "42 × 38 = 1596\n",
      "49 × 32 = 1568\n",
      "52 × 34 = 1768\n",
      "52 × 38 = 1976\n",
      "53 × 92 = 4876\n",
      "56 × 39 = 2184\n",
      "57 × 24 = 1368\n",
      "58 × 34 = 1972\n",
      "58 × 37 = 2146\n",
      "58 × 64 = 3712\n",
      "62 × 87 = 5394\n",
      "64 × 58 = 3712\n",
      "69 × 23 = 1587\n",
      "87 × 62 = 5394\n",
      "92 × 53 = 4876\n"
     ]
    }
   ],
   "source": [
    "import itertools\n",
    "for p in itertools.permutations(range(1,10), 8):\n",
    "    first = int(str(p[0])+str(p[1]))\n",
    "    second = int(str(p[2])+str(p[3]))\n",
    "    product = int(str(p[4])+str(p[5])+str(p[6])+str(p[7]))\n",
    "    if first * second == product:\n",
    "        print(first,'×',second,'=',product)"
   ]
  },
  {
   "cell_type": "markdown",
   "metadata": {},
   "source": [
    "[![Callysto.ca License](https://github.com/callysto/curriculum-notebooks/blob/master/callysto-notebook-banner-bottom.jpg?raw=true)](https://github.com/callysto/curriculum-notebooks/blob/master/LICENSE.md)"
   ]
  }
 ],
 "metadata": {
  "kernelspec": {
   "display_name": "Python 3",
   "language": "python",
   "name": "python3"
  },
  "language_info": {
   "codemirror_mode": {
    "name": "ipython",
    "version": 3
   },
   "file_extension": ".py",
   "mimetype": "text/x-python",
   "name": "python",
   "nbconvert_exporter": "python",
   "pygments_lexer": "ipython3",
   "version": "3.7.6"
  }
 },
 "nbformat": 4,
 "nbformat_minor": 4
}
