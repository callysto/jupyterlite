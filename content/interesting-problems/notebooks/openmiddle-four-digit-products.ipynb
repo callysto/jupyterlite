{
 "cells": [
  {
   "cell_type": "markdown",
   "metadata": {},
   "source": [
    "![Callysto.ca Banner](https://github.com/callysto/curriculum-notebooks/blob/master/callysto-notebook-banner-top.jpg?raw=true)\n",
    "\n",
    "<a href=\"https://hub.callysto.ca/jupyter/hub/user-redirect/git-pull?repo=https%3A%2F%2Fgithub.com%2Fcallysto%2Finteresting-problems&branch=main&subPath=notebooks/openmiddle-four-digit-products.ipynb&depth=1\" target=\"_parent\"><img src=\"https://raw.githubusercontent.com/callysto/curriculum-notebooks/master/open-in-callysto-button.svg?sanitize=true\" width=\"123\" height=\"24\" alt=\"Open in Callysto\"/></a>"
   ]
  },
  {
   "cell_type": "markdown",
   "metadata": {},
   "source": [
    "# Four Digit Products\n",
    "\n",
    "Using the digits 1-9, at most one time each, fill in the blanks to make the following multiplication true:\n",
    "\n",
    "__ __ × __ __ = __ __ __ __\n",
    "\n",
    "From [OpenMiddle](https://www.openmiddle.com/four-digit-products)"
   ]
  },
  {
   "cell_type": "code",
   "execution_count": null,
   "metadata": {},
   "outputs": [],
   "source": [
    "%pip install -q pyodide_http nbformat plotly\n",
    "import pyodide_http\n",
    "pyodide_http.patch_all()\n",
    "\n",
    "import itertools\n",
    "for p in itertools.permutations(range(1,10), 8):\n",
    "    first = int(str(p[0])+str(p[1]))\n",
    "    second = int(str(p[2])+str(p[3]))\n",
    "    product = int(str(p[4])+str(p[5])+str(p[6])+str(p[7]))\n",
    "    if first * second == product:\n",
    "        print(first,'×',second,'=',product)"
   ]
  },
  {
   "cell_type": "markdown",
   "metadata": {},
   "source": [
    "[![Callysto.ca License](https://github.com/callysto/curriculum-notebooks/blob/master/callysto-notebook-banner-bottom.jpg?raw=true)](https://github.com/callysto/curriculum-notebooks/blob/master/LICENSE.md)"
   ]
  }
 ],
 "metadata": {
  "kernelspec": {
   "display_name": "Python 3",
   "language": "python",
   "name": "python3"
  },
  "language_info": {
   "codemirror_mode": {
    "name": "ipython",
    "version": 3
   },
   "file_extension": ".py",
   "mimetype": "text/x-python",
   "name": "python",
   "nbconvert_exporter": "python",
   "pygments_lexer": "ipython3",
   "version": "3.7.6"
  }
 },
 "nbformat": 4,
 "nbformat_minor": 4
}
