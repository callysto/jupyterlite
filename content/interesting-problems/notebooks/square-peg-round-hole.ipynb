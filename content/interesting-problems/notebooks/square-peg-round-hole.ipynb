{
 "cells": [
  {
   "cell_type": "markdown",
   "metadata": {},
   "source": [
    "![Callysto.ca Banner](https://github.com/callysto/curriculum-notebooks/blob/master/callysto-notebook-banner-top.jpg?raw=true)\n",
    "\n",
    "<a href=\"https://hub.callysto.ca/jupyter/hub/user-redirect/git-pull?repo=https%3A%2F%2Fgithub.com%2Fcallysto%2Finteresting-problems&branch=main&subPath=notebooks/square-peg-round-hole.ipynb&depth=1\" target=\"_parent\"><img src=\"https://raw.githubusercontent.com/callysto/curriculum-notebooks/master/open-in-callysto-button.svg?sanitize=true\" width=\"123\" height=\"24\" alt=\"Open in Callysto\"/></a>"
   ]
  },
  {
   "cell_type": "markdown",
   "metadata": {},
   "source": [
    "# Which is better, a square peg in a round hole or a round peg in a square hole?\n",
    "\n",
    "[Watch on YouTube](https://www.youtube.com/watch?v=kWT_Djf0tAc&list=PL-j7ku2URmjZYtWzMCS4AqFS5SXPXRHwf)\n",
    "\n",
    "First let's construct diagrams where there are two circles with the same radius.\n",
    "\n",
    "Part of this involves calculating points on the circle where in quadrant 1 we see $x_1 = y_1 = r\\frac{\\sqrt(2)}{2}$ and in quadrant 3 it is $x_0 = y_0 = r\\frac{-\\sqrt(2)}{2}$. However since we are shifting the circle over a bit, we need to add $1 + r$ to each of those."
   ]
  },
  {
   "cell_type": "code",
   "execution_count": null,
   "metadata": {},
   "outputs": [],
   "source": [
    "%pip install -q pyodide_http nbformat plotly\n",
    "import pyodide_http\n",
    "pyodide_http.patch_all()\n",
    "\n",
    "import math\n",
    "import plotly.graph_objects as go\n",
    "\n",
    "r = 2\n",
    "circlePoint0 = r * (-math.sqrt(2))/2 + r + 1\n",
    "circlePoint1 = r * (math.sqrt(2))/2 + r + 1\n",
    "\n",
    "fig = go.Figure()\n",
    "fig.update_xaxes(range=[0, 6.5*r], showgrid=False)\n",
    "fig.update_yaxes(range=[0, 3*r], showgrid=False)\n",
    "\n",
    "fig.update_layout(\n",
    "    shapes=[\n",
    "        # circle1\n",
    "        go.layout.Shape(type='circle',x0=1,y0=1,x1=2*r+1,y1=2*r+1),\n",
    "        # small square\n",
    "        go.layout.Shape(type='rect',x0=circlePoint0,y0=circlePoint0,x1=circlePoint1,y1=circlePoint1,fillcolor='Blue'),\n",
    "        # radius1\n",
    "        go.layout.Shape(type='line',x0=circlePoint0,y0=circlePoint0,x1=r+1,y1=r+1,line_color='Yellow'),\n",
    "        # circle2\n",
    "        go.layout.Shape(type='circle',x0=3*r,y0=1,x1=5*r,y1=2*r+1,fillcolor='Blue'),\n",
    "        # large square\n",
    "        go.layout.Shape(type='rect',x0=3*r,y0=1,x1=5*r,y1=2*r+1),\n",
    "        # radius2\n",
    "        go.layout.Shape(type='line',x0=3*r,y0=r+1,x1=4*r,y1=r+1,line_color='Yellow'),\n",
    "    ])\n",
    "\n",
    "fig.show()"
   ]
  },
  {
   "cell_type": "code",
   "execution_count": null,
   "metadata": {},
   "outputs": [],
   "source": [
    "r = 2\n",
    "\n",
    "circleArea = math.pi * r ** 2\n",
    "bigSquareArea = (2 * r) ** 2\n",
    "smallSquareArea = 2 *(r ** 2)\n",
    "print(circleArea)\n",
    "print(bigSquareArea)\n",
    "print(smallSquareArea)"
   ]
  },
  {
   "cell_type": "markdown",
   "metadata": {},
   "source": [
    "## Questions to think about\n",
    "\n",
    "1. What do we mean by better?\n",
    "2. Does the radius of the circle matter?\n",
    "3. Is \"area\" the best way to compare?\n",
    "4. How do the ratios of the areas compare?"
   ]
  },
  {
   "cell_type": "markdown",
   "metadata": {},
   "source": [
    "[![Callysto.ca License](https://github.com/callysto/curriculum-notebooks/blob/master/callysto-notebook-banner-bottom.jpg?raw=true)](https://github.com/callysto/curriculum-notebooks/blob/master/LICENSE.md)"
   ]
  }
 ],
 "metadata": {
  "kernelspec": {
   "display_name": "Python 3",
   "language": "python",
   "name": "python3"
  },
  "language_info": {
   "codemirror_mode": {
    "name": "ipython",
    "version": 3
   },
   "file_extension": ".py",
   "mimetype": "text/x-python",
   "name": "python",
   "nbconvert_exporter": "python",
   "pygments_lexer": "ipython3",
   "version": "3.7.6"
  }
 },
 "nbformat": 4,
 "nbformat_minor": 2
}
