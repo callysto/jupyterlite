{
 "cells": [
  {
   "cell_type": "markdown",
   "metadata": {},
   "source": [
    "![Callysto.ca Banner](https://github.com/callysto/curriculum-notebooks/blob/master/callysto-notebook-banner-top.jpg?raw=true)\n",
    "\n",
    "<a href=\"https://hub.callysto.ca/jupyter/hub/user-redirect/git-pull?repo=https%3A%2F%2Fgithub.com%2Fcallysto%2Finteresting-problems&branch=main&subPath=notebooks/emotional-word-wheel.ipynb&depth=1\" target=\"_parent\"><img src=\"https://raw.githubusercontent.com/callysto/curriculum-notebooks/master/open-in-callysto-button.svg?sanitize=true\" width=\"123\" height=\"24\" alt=\"Open in Callysto\"/></a>"
   ]
  },
  {
   "cell_type": "markdown",
   "metadata": {},
   "source": [
    "# Emotional Word Wheel\n",
    "\n",
    "There are [many](http://www.dralbertwong.com/feelings-wheel/) [versions](https://observablehq.com/@mbostock/emotion-wheel) of [emotional](https://imgur.com/a/CkxQC) [word](https://lifehacker.com/find-the-perfect-word-for-your-feelings-with-this-vocab-1653013241) [wheels](https://journals.sagepub.com/doi/abs/10.1177/036215378201200411) to help us identify words that describe how we are feeling.\n",
    "\n",
    "The code cell below will generate an interactive emotional word wheel from the included word list. You can edit the word list and re-run the cell to generate a new word wheel."
   ]
  },
  {
   "cell_type": "code",
   "execution_count": null,
   "metadata": {},
   "outputs": [],
   "source": [
    "words = '''\n",
    "category,subcategory,word\n",
    "bad,bored,indifferent\n",
    "bad,bored,apathetic\n",
    "bad,busy,pressured\n",
    "bad,busy,rushed\n",
    "bad,stressed,overwhelmed\n",
    "bad,stressed,out of control\n",
    "bad,tired,sleepy\n",
    "bad,tired,unfocussed\n",
    "surprised,startled,shocked\n",
    "surprised,startled,dismayed\n",
    "surprised,confused,disillusioned\n",
    "surprised,confused,perplexed\n",
    "surprised,amazed,astonished\n",
    "surprised,amazed,awed\n",
    "surprised,excited,eager\n",
    "surprised,excited,energetic\n",
    "happy,playful,aroused\n",
    "happy,playful,cheeky\n",
    "happy,content,free\n",
    "happy,content,joyful\n",
    "happy,interested,curious\n",
    "happy,interested,inquisitive\n",
    "happy,proud,successful\n",
    "happy,proud,confident\n",
    "happy,accepted,respected\n",
    "happy,accepted,valued\n",
    "happy,powerful,courageous\n",
    "happy,powerful,creative\n",
    "happy,peaceful,loving\n",
    "happy,peaceful,thankful\n",
    "happy,trusting,sensitive\n",
    "happy,trusting,intimite\n",
    "happy,optimistic,hopeful\n",
    "happy,optimistic,inspired\n",
    "sad,lonely,isolated\n",
    "sad,lonely,abandoned\n",
    "sad,vulnerable,victimised\n",
    "sad,vulnerable,fragile\n",
    "sad,despairing,grieving\n",
    "sad,despairing,powerless\n",
    "sad,guilty,ashamed\n",
    "sad,guilty,remorseful\n",
    "sad,depressed,empty\n",
    "sad,depressed,inferior\n",
    "sad,hurt,disappointed\n",
    "sad,hurt,embarrassed\n",
    "disgusted,disapproving,judgmental\n",
    "disgusted,disapproving,embarrassed\n",
    "disgusted,disappointed,appalled\n",
    "disgusted,disappointed,refolted\n",
    "disgusted,aweful,nauseated\n",
    "disgusted,aweful,detestable\n",
    "disgusted,repelled,horrified\n",
    "disgusted,repelled,hesitant\n",
    "angry,let down,betrayed\n",
    "angry,let down,resentful\n",
    "angry,humiliated,disrespected\n",
    "angry,humiliated,ridiculed\n",
    "angry,bitter,indignant\n",
    "angry,bitter,violated\n",
    "angry,mad,furious\n",
    "angry,mad,jealous\n",
    "angry,aggressive,provoked\n",
    "angry,aggressive,hostile\n",
    "angry,frustrated,infuriated\n",
    "angry,frustrated,annoyed\n",
    "angry,distant,withdrawn\n",
    "angry,distant,numb\n",
    "angry,critical,sceptical\n",
    "angry,critical,dismissive\n",
    "fearful,scared,helpless\n",
    "fearful,scared,frightened\n",
    "fearful,anxious,overwhelmed\n",
    "fearful,anxious,worried\n",
    "fearful,insecure,inadequate\n",
    "fearful,insecure,inferior\n",
    "fearful,weak,worthless\n",
    "fearful,weak,insignificant\n",
    "fearful,rejected,excluded\n",
    "fearful,rejected,persecuted\n",
    "fearful,threatened,nervous\n",
    "fearful,threatened,exposed\n",
    "'''\n",
    "\n",
    "import pandas as pd\n",
    "from io import StringIO\n",
    "import plotly.express as px\n",
    "data = pd.read_csv(StringIO(words))\n",
    "px.sunburst(data, path=['category','subcategory','word'])"
   ]
  },
  {
   "cell_type": "markdown",
   "metadata": {},
   "source": [
    "[![Callysto.ca License](https://github.com/callysto/curriculum-notebooks/blob/master/callysto-notebook-banner-bottom.jpg?raw=true)](https://github.com/callysto/curriculum-notebooks/blob/master/LICENSE.md)"
   ]
  }
 ],
 "metadata": {
  "interpreter": {
   "hash": "aee8b7b246df8f9039afb4144a1f6fd8d2ca17a180786b69acc140d282b71a49"
  },
  "kernelspec": {
   "display_name": "Python 3.9.10 64-bit",
   "language": "python",
   "name": "python3"
  },
  "language_info": {
   "codemirror_mode": {
    "name": "ipython",
    "version": 3
   },
   "file_extension": ".py",
   "mimetype": "text/x-python",
   "name": "python",
   "nbconvert_exporter": "python",
   "pygments_lexer": "ipython3",
   "version": "3.9.10"
  },
  "orig_nbformat": 4
 },
 "nbformat": 4,
 "nbformat_minor": 2
}
