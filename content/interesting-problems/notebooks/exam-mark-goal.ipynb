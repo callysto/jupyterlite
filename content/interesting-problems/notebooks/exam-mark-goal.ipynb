{
 "cells": [
  {
   "cell_type": "markdown",
   "metadata": {},
   "source": [
    "![Callysto.ca Banner](https://github.com/callysto/curriculum-notebooks/blob/master/callysto-notebook-banner-top.jpg?raw=true)\n",
    "\n",
    "<a href=\"https://hub.callysto.ca/jupyter/hub/user-redirect/git-pull?repo=https%3A%2F%2Fgithub.com%2Fcallysto%2Finteresting-problems&branch=main&subPath=notebooks/exam-mark-goal.ipynb&depth=1\" target=\"_parent\"><img src=\"https://raw.githubusercontent.com/callysto/curriculum-notebooks/master/open-in-callysto-button.svg?sanitize=true\" width=\"123\" height=\"24\" alt=\"Open in Callysto\"/></a>"
   ]
  },
  {
   "cell_type": "markdown",
   "metadata": {},
   "source": [
    "# What do I need to get on the exam?\n",
    "\n",
    "[Watch on YouTube](https://www.youtube.com/watch?v=V1pz6ntmXE8&list=PL-j7ku2URmjZYtWzMCS4AqFS5SXPXRHwf)\n",
    "\n",
    "This is common question. Knowing my current mark and the \"weighting\" of the final exam, what mark would I need to get in order to achieve my desired final grade? We'll leave out discussions of assessment practices.\n",
    "\n",
    "Basically a final grade is **coursework mark** times **weighting** plus **exam mark** times **weighting**. \n",
    "\n",
    "We can calculate a final grade if the exam is 30% using $G_{final} = (M_{exam} \\times 0.3) + (M_{course} \\times 0.7)$ where $M_{exam}$ is the mark achieved on the exam and $M_{course}$ is the mark achieved in the coursework.\n",
    "\n",
    "Manipulating that to solve for the exam mark, we get $M_{exam} = \\frac{G_{final} - (M_{course} \\times 0.7)}{0.3}$. Or more generally $M_{exam} = \\frac{G_{final} - (M_{course} \\times W_{course})}{W_{exam}}$ ."
   ]
  },
  {
   "cell_type": "code",
   "execution_count": null,
   "metadata": {},
   "outputs": [],
   "source": [
    "course_mark = 75\n",
    "desired_final_mark = 80\n",
    "exam_weighting = 0.3 # 30% is 0.3\n",
    "\n",
    "exam_mark = (desired_final_mark - (course_mark * (1-exam_weighting))) / exam_weighting\n",
    "print(exam_mark)"
   ]
  },
  {
   "cell_type": "markdown",
   "metadata": {},
   "source": [
    "That means to get 80% as a final mark when your course mark is 75% (and the final exam is weighted at 30%) you would need to get about 92% on the exam.\n",
    "\n",
    "Next let's define a function for that calculation, and we'll use that function to for some interactivity."
   ]
  },
  {
   "cell_type": "code",
   "execution_count": null,
   "metadata": {},
   "outputs": [],
   "source": [
    "def calculate_exam_mark(course_mark, desired_final_mark, exam_weighting):\n",
    "    exam_mark = (desired_final_mark - (course_mark * (1-exam_weighting))) / exam_weighting\n",
    "    return exam_mark\n",
    "print('Defined the function calculate_exam_mark')"
   ]
  },
  {
   "cell_type": "code",
   "execution_count": null,
   "metadata": {},
   "outputs": [],
   "source": [
    "course_mark = int(input('Current course mark: '))\n",
    "desired_final_mark = int(input('Desired final mark: '))\n",
    "exam_weighting = int(input('Weighting of the exam as a percent (e.g. 30): '))\n",
    "\n",
    "if 0 < course_mark < 101 and 0 < desired_final_mark < 101 and 0 < exam_weighting < 101:\n",
    "    if exam_weighting > 1: # if it was input as requested then divide by 100, otherwise leave it\n",
    "        exam_weighting = exam_weighting / 100\n",
    "    exam_mark = calculate_exam_mark(course_mark, desired_final_mark, exam_weighting)\n",
    "    print('You would need to get '+'{:.0f}'.format(exam_mark)\n",
    "          +'% on the final exam to achieve '+'{:.0f}'.format(desired_final_mark)+'%.')\n",
    "else:\n",
    "    print(course_mark, desired_final_mark, exam_weighting)\n",
    "    print('Please enter numbers between 0 and 100')"
   ]
  },
  {
   "cell_type": "markdown",
   "metadata": {},
   "source": [
    "It might also be interesting to find your maximum and minimum possible grades given your course mark and exam weighting."
   ]
  },
  {
   "cell_type": "code",
   "execution_count": null,
   "metadata": {},
   "outputs": [],
   "source": [
    "course_mark = int(input('Current course mark: '))\n",
    "exam_weighting = int(input('Weighting of the exam as a percent (e.g. 30): '))\n",
    "if exam_weighting > 1:\n",
    "    exam_weighting = exam_weighting / 100\n",
    "minimum_grade = course_mark * (1-exam_weighting)\n",
    "maximum_grade = minimum_grade + 100 * exam_weighting\n",
    "print('Zero on the final will get you '+'{:.0f}'.format(minimum_grade)\n",
    "      +'% and 100% on the final will get you '+'{:.0f}'.format(maximum_grade)+'%.')"
   ]
  },
  {
   "cell_type": "markdown",
   "metadata": {},
   "source": [
    "And let's create a graph to represent potential final grades based on your course mark and the exam weighting. Change the numbers in the variables below before you run the cell."
   ]
  },
  {
   "cell_type": "code",
   "execution_count": null,
   "metadata": {},
   "outputs": [],
   "source": [
    "course_mark = 80\n",
    "exam_weighting = 0.3\n",
    "\n",
    "import plotly.graph_objects as go\n",
    "import numpy as np\n",
    "\n",
    "exam_mark = np.linspace(0, 100, 100)\n",
    "final_grade = exam_mark * exam_weighting + course_mark * (1-exam_weighting)\n",
    "final_grade2 = exam_mark * exam_weighting + 50 * (1-exam_weighting)\n",
    "final_grade3 = exam_mark * exam_weighting + 100 * (1-exam_weighting)\n",
    "\n",
    "fig = go.Figure(data=[\n",
    "    go.Scatter(x=exam_mark, y=final_grade, mode='lines', name='Coursework '+str(course_mark)+'%'),\n",
    "    go.Scatter(x=exam_mark, y=final_grade2, mode='lines', name='Coursework 50%'),\n",
    "    go.Scatter(x=exam_mark, y=final_grade3, mode='lines', name='Coursework 100%')\n",
    "])\n",
    "fig.update_layout(title='Final Grades When Course Mark is '+str(course_mark)\n",
    "                  +'% and Exam Weighting is '+str(exam_weighting*100)+'%',\n",
    "                  xaxis_title='Exam Mark', yaxis_title='Final Grade')\n",
    "fig.show()"
   ]
  },
  {
   "cell_type": "markdown",
   "metadata": {},
   "source": [
    "[![Callysto.ca License](https://github.com/callysto/curriculum-notebooks/blob/master/callysto-notebook-banner-bottom.jpg?raw=true)](https://github.com/callysto/curriculum-notebooks/blob/master/LICENSE.md)"
   ]
  }
 ],
 "metadata": {
  "kernelspec": {
   "display_name": "Python 3",
   "language": "python",
   "name": "python3"
  },
  "language_info": {
   "codemirror_mode": {
    "name": "ipython",
    "version": 3
   },
   "file_extension": ".py",
   "mimetype": "text/x-python",
   "name": "python",
   "nbconvert_exporter": "python",
   "pygments_lexer": "ipython3",
   "version": "3.7.6"
  }
 },
 "nbformat": 4,
 "nbformat_minor": 2
}
