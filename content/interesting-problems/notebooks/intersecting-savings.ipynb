{
 "cells": [
  {
   "cell_type": "markdown",
   "metadata": {},
   "source": [
    "![Callysto.ca Banner](https://github.com/callysto/curriculum-notebooks/blob/master/callysto-notebook-banner-top.jpg?raw=true)\n",
    "\n",
    "<a href=\"https://hub.callysto.ca/jupyter/hub/user-redirect/git-pull?repo=https%3A%2F%2Fgithub.com%2Fcallysto%2Finteresting-problems&branch=main&subPath=notebooks/intersecting-savings.ipynb&depth=1\" target=\"_parent\"><img src=\"https://raw.githubusercontent.com/callysto/curriculum-notebooks/master/open-in-callysto-button.svg?sanitize=true\" width=\"123\" height=\"24\" alt=\"Open in Callysto\"/></a>"
   ]
  },
  {
   "cell_type": "markdown",
   "metadata": {},
   "source": [
    "# Intersecting Savings\n",
    "\n",
    "[Watch on YouTube](https://www.youtube.com/watch?v=dAgyhLbPeq0&list=PL-j7ku2URmjZYtWzMCS4AqFS5SXPXRHwf)\n",
    "\n",
    "Isla starts with \\\\$12 in her bank account. She adds \\\\$12 to her account at the end\n",
    "of every two weeks from collecting recycled items. Javier starts with \\\\$32 in his\n",
    "bank account. He earns \\\\$4 at the end of every week for doing odd jobs for his\n",
    "neighbour, and adds that to his savings.\n",
    "\n",
    "After how many weeks will they both have the same amount of money in their\n",
    "bank accounts?\n",
    "\n",
    "[from University of Waterloo CEMC Problem of the Week](https://www.cemc.uwaterloo.ca/resources/potw/2019-20/English/POTWA-19-NN-PA-01-P.pdf)"
   ]
  },
  {
   "cell_type": "code",
   "execution_count": null,
   "metadata": {},
   "outputs": [],
   "source": [
    "%pip install -q pyodide_http nbformat plotly\n",
    "import pyodide_http\n",
    "pyodide_http.patch_all()\n",
    "\n",
    "isla_money = 12\n",
    "javier_money = 32\n",
    "week_number = 1\n",
    "\n",
    "while isla_money != javier_money:\n",
    "    javier_money += 4\n",
    "    if week_number % 2 == 0:  # even weeks will be divisible by 2 with no remainder\n",
    "        isla_money += 12\n",
    "    week_number += 1\n",
    "    \n",
    "print('After', week_number-1, \n",
    "      'weeks they will both have', \n",
    "      isla_money, 'dollars.')"
   ]
  },
  {
   "cell_type": "markdown",
   "metadata": {},
   "source": [
    "Let's construct a dataframe to display their account balances."
   ]
  },
  {
   "cell_type": "code",
   "execution_count": null,
   "metadata": {},
   "outputs": [],
   "source": [
    "from pandas import DataFrame\n",
    "isla_money_list = [12]\n",
    "javier_money_list = [32]\n",
    "\n",
    "for week_number in range(1,25):\n",
    "    if week_number % 2 == 0:\n",
    "        isla_money_list.append(isla_money_list[week_number-1]+12)\n",
    "    else:\n",
    "        isla_money_list.append(isla_money_list[week_number-1])\n",
    "    javier_money_list.append(javier_money_list[week_number-1]+4)\n",
    "\n",
    "df = DataFrame(list(zip(isla_money_list, javier_money_list)), columns=['Isla', 'Javier'])\n",
    "df"
   ]
  },
  {
   "cell_type": "markdown",
   "metadata": {},
   "source": [
    "There are actually two points at which they both have the same amount of money, 10 weeks and 13 weeks. After that, however, Isla is pulling away from from Javier.\n",
    "\n",
    "We can also graphing their account balances over time."
   ]
  },
  {
   "cell_type": "code",
   "execution_count": null,
   "metadata": {},
   "outputs": [],
   "source": [
    "import matplotlib.pyplot as plt\n",
    "%matplotlib inline\n",
    "df.plot()"
   ]
  },
  {
   "cell_type": "markdown",
   "metadata": {},
   "source": [
    "[![Callysto.ca License](https://github.com/callysto/curriculum-notebooks/blob/master/callysto-notebook-banner-bottom.jpg?raw=true)](https://github.com/callysto/curriculum-notebooks/blob/master/LICENSE.md)"
   ]
  }
 ],
 "metadata": {
  "kernelspec": {
   "display_name": "Python 3",
   "language": "python",
   "name": "python3"
  },
  "language_info": {
   "codemirror_mode": {
    "name": "ipython",
    "version": 3
   },
   "file_extension": ".py",
   "mimetype": "text/x-python",
   "name": "python",
   "nbconvert_exporter": "python",
   "pygments_lexer": "ipython3",
   "version": "3.7.6"
  }
 },
 "nbformat": 4,
 "nbformat_minor": 2
}
