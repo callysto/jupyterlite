{
 "cells": [
  {
   "cell_type": "markdown",
   "metadata": {},
   "source": [
    "![Callysto.ca Banner](https://github.com/callysto/curriculum-notebooks/blob/master/callysto-notebook-banner-top.jpg?raw=true)\n",
    "\n",
    "<a href=\"https://hub.callysto.ca/jupyter/hub/user-redirect/git-pull?repo=https%3A%2F%2Fgithub.com%2Fcallysto%2Finteresting-problems&branch=main&subPath=notebooks/pat-results-visualizations.ipynb&depth=1\" target=\"_parent\"><img src=\"https://raw.githubusercontent.com/callysto/curriculum-notebooks/master/open-in-callysto-button.svg?sanitize=true\" width=\"123\" height=\"24\" alt=\"Open in Callysto\"/></a>"
   ]
  },
  {
   "attachments": {},
   "cell_type": "markdown",
   "metadata": {},
   "source": [
    "# Alberta Provincial Testing Results Visualization\n",
    "\n",
    "Students in Alberta write [Diploma Exams](https://www.alberta.ca/diploma-exams.aspx) and [Provincial Achievement Tests (PATs)](https://www.alberta.ca/provincial-achievement-tests.aspx). This notebook will not include interpretation of results, please refer to the [Guidelines for Interpreting Achievement Test Multiyear Reports](https://www.alberta.ca/assets/documents/guidelines-internet-pat-multiyear-2019.pdf).\n",
    "\n",
    "We will download the most recent PAT results data and create some visualizations. It is a fairly large dataset to download, so this first cell may take a minute or two to `►Run`."
   ]
  },
  {
   "cell_type": "code",
   "execution_count": null,
   "metadata": {},
   "outputs": [],
   "source": [
    "pat_url = 'https://www.alberta.ca/assets/documents/ed-pat-multiyear-sch-list.xlsx'\n",
    "\n",
    "import requests\n",
    "import pandas as pd\n",
    "import plotly.express as px\n",
    "r = requests.get(pat_url)\n",
    "data = pd.read_excel(r.content) #, engine='openpyxl'\n",
    "data"
   ]
  },
  {
   "cell_type": "markdown",
   "metadata": {},
   "source": [
    "## Exploring the Data\n",
    "\n",
    "Now that we have it stored in our DataFrame called `data`, let's have a look at some of the columns. Notice that the term [authority](https://en.wikipedia.org/wiki/List_of_school_authorities_in_Alberta) is used to refer to groups of schools.\n",
    "\n",
    "Which authority types are represented?"
   ]
  },
  {
   "cell_type": "code",
   "execution_count": null,
   "metadata": {},
   "outputs": [],
   "source": [
    "for authority_type in data['Authority Type'].unique():\n",
    "    print(authority_type)"
   ]
  },
  {
   "attachments": {},
   "cell_type": "markdown",
   "metadata": {},
   "source": [
    "## Authorities\n",
    "\n",
    "Let's list the names of the *public* authorities. Of course you can change `authority_type = 'Public'` to `authority_type = 'Separate'` or any of the types listed above."
   ]
  },
  {
   "cell_type": "code",
   "execution_count": null,
   "metadata": {},
   "outputs": [],
   "source": [
    "authority_type = 'Public'\n",
    "for a in data[data['Authority Type']==authority_type]['Authority Name'].unique():\n",
    "    print(a)"
   ]
  },
  {
   "attachments": {},
   "cell_type": "markdown",
   "metadata": {},
   "source": [
    "## Schools\n",
    "\n",
    "Next we can pick a particular authority and list the schools for which we have data."
   ]
  },
  {
   "cell_type": "code",
   "execution_count": null,
   "metadata": {},
   "outputs": [],
   "source": [
    "authority = 'The Elk Island School Division'\n",
    "for school in data[data['Authority Name']==authority]['School Name'].unique():\n",
    "    print(school)"
   ]
  },
  {
   "cell_type": "markdown",
   "metadata": {},
   "source": [
    "Since PATs are written in Grades 6 and 9, some schools will have one or both of these grades.\n",
    "\n",
    "The course name usually ends with a number, for example `Science 6`, so let's find the last character of each course name. We may also see `e` as in `French Language Arts 6 année` or `)` as in `Science 6 (Fr)`, but this should be able to tell us which grades wrote tests in each school."
   ]
  },
  {
   "cell_type": "code",
   "execution_count": null,
   "metadata": {},
   "outputs": [],
   "source": [
    "for school in data[data['Authority Name']==authority]['School Name'].unique():\n",
    "    courses = data[data['School Name']==school]['Course Name'].unique()\n",
    "    grades = []\n",
    "    for course in courses:\n",
    "        grade = course[-1:]\n",
    "        if grade not in grades:\n",
    "            grades.append(grade)\n",
    "    print(school, grades)"
   ]
  },
  {
   "cell_type": "markdown",
   "metadata": {},
   "source": [
    "## Selecting a School\n",
    "\n",
    "Let's select an elementary school so that we only have one grade represented."
   ]
  },
  {
   "cell_type": "code",
   "execution_count": null,
   "metadata": {},
   "outputs": [],
   "source": [
    "school = 'Pine Street School'\n",
    "sd = data[data['School Name']==school]\n",
    "sd"
   ]
  },
  {
   "cell_type": "markdown",
   "metadata": {},
   "source": [
    "## Choosing Data\n",
    "\n",
    "We can start filtering these data by `Language`. The options are `Written in English`, `Written in French`, or `All Students Writing`."
   ]
  },
  {
   "cell_type": "code",
   "execution_count": null,
   "metadata": {},
   "outputs": [],
   "source": [
    "language = 'Written in English'\n",
    "sd1 = sd[sd['Language']==language]\n",
    "sd1"
   ]
  },
  {
   "cell_type": "markdown",
   "metadata": {},
   "source": [
    "We now have only a few rows, but there are still a lot of columns."
   ]
  },
  {
   "cell_type": "code",
   "execution_count": null,
   "metadata": {},
   "outputs": [],
   "source": [
    "len(sd1.columns)"
   ]
  },
  {
   "cell_type": "markdown",
   "metadata": {},
   "source": [
    "### Years\n",
    "\n",
    "Many of the columns start with a year, so we can see which years are represented in the data."
   ]
  },
  {
   "cell_type": "code",
   "execution_count": null,
   "metadata": {},
   "outputs": [],
   "source": [
    "years = []\n",
    "for column in sd1.columns:\n",
    "    if column[0] == '2':\n",
    "        year = column[0:4]\n",
    "        if year not in years:\n",
    "            years.append(year)\n",
    "years"
   ]
  },
  {
   "cell_type": "markdown",
   "metadata": {},
   "source": [
    "### Types of Results\n",
    "\n",
    "Let's see what we have measurements for in the first year, `years[0]`."
   ]
  },
  {
   "cell_type": "code",
   "execution_count": null,
   "metadata": {},
   "outputs": [],
   "source": [
    "results_columns = []\n",
    "for column in sd1.columns:\n",
    "    if column[0:4] == years[0]:\n",
    "        results_columns.append(column[5:])\n",
    "results_columns"
   ]
  },
  {
   "cell_type": "markdown",
   "metadata": {},
   "source": [
    "### Choosing a Result\n",
    "\n",
    "Let's select one of those, the percent of students who achieved the \"standard of excellence\", and select just those columns for each year."
   ]
  },
  {
   "cell_type": "code",
   "execution_count": null,
   "metadata": {},
   "outputs": [],
   "source": [
    "result = 'Sch % Exc of Writing'\n",
    "columns_to_graph = ['Course Name']\n",
    "for year in years:\n",
    "    columns_to_graph.append(year + ' ' + result)\n",
    "sd2 = sd1[columns_to_graph]\n",
    "sd2.columns = ['Course Name'] + years\n",
    "sd2"
   ]
  },
  {
   "cell_type": "code",
   "execution_count": null,
   "metadata": {},
   "outputs": [],
   "source": []
  },
  {
   "cell_type": "markdown",
   "metadata": {},
   "source": [
    "### Charting Results\n",
    "\n",
    "We can now create an interactive bar chart for these data. "
   ]
  },
  {
   "cell_type": "code",
   "execution_count": null,
   "metadata": {},
   "outputs": [],
   "source": [
    "years = sd2.columns[1:]\n",
    "px.bar(sd2, x='Course Name', y=years, barmode='group', title=school+' '+result)"
   ]
  },
  {
   "attachments": {},
   "cell_type": "markdown",
   "metadata": {},
   "source": [
    "If we prefer a chart for just one course we can filter and transpose (`T`) the data."
   ]
  },
  {
   "cell_type": "code",
   "execution_count": null,
   "metadata": {},
   "outputs": [],
   "source": [
    "course = 'Science 6'\n",
    "title = course+' '+school+' '+result\n",
    "px.bar(sd2[sd2['Course Name']==course].set_index('Course Name').T, title=title).update_layout(showlegend=False)"
   ]
  },
  {
   "attachments": {},
   "cell_type": "markdown",
   "metadata": {},
   "source": [
    "## Other Results\n",
    "\n",
    "To chart the data from another school or for another result, we can combine code from previous cells. Once again we will be downloading the data so it may take a minute."
   ]
  },
  {
   "cell_type": "code",
   "execution_count": null,
   "metadata": {},
   "outputs": [],
   "source": [
    "school = 'Lakeland Ridge School'\n",
    "result = 'Sch % Acc of Writing'\n",
    "language = 'Written in English'  # or 'Written in French'\n",
    "\n",
    "pat_url = 'https://www.alberta.ca/assets/documents/ed-pat-multiyear-sch-list.xlsx'\n",
    "import requests\n",
    "import pandas as pd\n",
    "import plotly.express as px\n",
    "r = requests.get(pat_url)\n",
    "data = pd.read_excel(r.content)\n",
    "years = []\n",
    "for column in sd.columns:\n",
    "    if column[0] == '2':\n",
    "        year = column[0:4]\n",
    "        if year not in years:\n",
    "            years.append(year)\n",
    "\n",
    "sd = data[(data['School Name']==school) & (data['Language']==language)]\n",
    "columns_to_graph = ['Course Name']\n",
    "for year in years:\n",
    "    columns_to_graph.append(year + ' ' + result)\n",
    "sd1 = sd[columns_to_graph]\n",
    "sd1.columns = ['Course'] + years\n",
    "px.bar(sd1, x='Course', y=years, barmode='group', title=school+' '+result)"
   ]
  },
  {
   "attachments": {},
   "cell_type": "markdown",
   "metadata": {},
   "source": [
    "We can also transpose the data if we prefer a chart with years on the x-axis."
   ]
  },
  {
   "cell_type": "code",
   "execution_count": null,
   "metadata": {},
   "outputs": [],
   "source": [
    "px.bar(sd1.set_index('Course').T, barmode='group', title=school+' '+result).update_xaxes(title='Year').update_yaxes(title=result)"
   ]
  },
  {
   "cell_type": "markdown",
   "metadata": {},
   "source": [
    "# Conclusion\n",
    "\n",
    "In this notebook we downloaded, explored, and created charts from [Alberta Education PAT result data](https://www.alberta.ca/provincial-achievement-tests.aspx).\n",
    "\n",
    "A similar process could be followed using [Diploma Exam](https://www.alberta.ca/diploma-exams.aspx) results, perhaps from the [Alberta Open Data site](https://open.alberta.ca/opendata/diploma-exam-results-and-participation-rates).\n",
    "\n",
    "For information about interpreting provincial testing results,  please refer to the [Guidelines for Interpreting Achievement Test Multiyear Reports](https://www.alberta.ca/assets/documents/guidelines-internet-pat-multiyear-2019.pdf)."
   ]
  },
  {
   "cell_type": "markdown",
   "metadata": {},
   "source": [
    "[![Callysto.ca License](https://github.com/callysto/curriculum-notebooks/blob/master/callysto-notebook-banner-bottom.jpg?raw=true)](https://github.com/callysto/curriculum-notebooks/blob/master/LICENSE.md)"
   ]
  }
 ],
 "metadata": {
  "kernelspec": {
   "display_name": "Python 3",
   "language": "python",
   "name": "python3"
  },
  "language_info": {
   "codemirror_mode": {
    "name": "ipython",
    "version": 3
   },
   "file_extension": ".py",
   "mimetype": "text/x-python",
   "name": "python",
   "nbconvert_exporter": "python",
   "pygments_lexer": "ipython3",
   "version": "3.10.6"
  }
 },
 "nbformat": 4,
 "nbformat_minor": 4
}
