{
 "cells": [
  {
   "cell_type": "markdown",
   "metadata": {},
   "source": [
    "![Callysto.ca Banner](https://github.com/callysto/curriculum-notebooks/blob/master/callysto-notebook-banner-top.jpg?raw=true)\n",
    "\n",
    "<a href=\"https://hub.callysto.ca/jupyter/hub/user-redirect/git-pull?repo=https%3A%2F%2Fgithub.com%2Fcallysto%2Finteresting-problems&branch=main&subPath=notebooks/two-digit-primes.ipynb&depth=1\" target=\"_parent\"><img src=\"https://raw.githubusercontent.com/callysto/curriculum-notebooks/master/open-in-callysto-button.svg?sanitize=true\" width=\"123\" height=\"24\" alt=\"Open in Callysto\"/></a>"
   ]
  },
  {
   "cell_type": "markdown",
   "metadata": {},
   "source": [
    "# Two-Digit Primes\n",
    "\n",
    "How many two-digit prime numbers are there?\n",
    "\n",
    "Remember that a [prime number](https://en.wikipedia.org/wiki/Prime_number) is one that has only two factors, $1$ and itself. For example, $7$ is a prime number but $8$ is not.\n",
    "\n",
    "Let's start by checking if a particular number is prime. Click on the code cell below, then click the `▶Run` button to run the code."
   ]
  },
  {
   "cell_type": "code",
   "execution_count": null,
   "metadata": {},
   "outputs": [],
   "source": [
    "n = 8\n",
    "\n",
    "for i in range(2,n):\n",
    "    if n%i == 0:\n",
    "        print(n, 'is not prime, it is divisible by', i)\n",
    "        break\n",
    "else:\n",
    "    print(n, 'is a prime number')"
   ]
  },
  {
   "cell_type": "markdown",
   "metadata": {},
   "source": [
    "To be more efficient, though, we only need to check if a number is divisible by up to half of itself."
   ]
  },
  {
   "cell_type": "code",
   "execution_count": null,
   "metadata": {},
   "outputs": [],
   "source": [
    "n = 7\n",
    "\n",
    "for i in range(2,int(n/2)):\n",
    "    if n%i == 0:\n",
    "        print(n, 'is not prime, it is divisible by', i)\n",
    "        break\n",
    "else:\n",
    "    print(n, 'is a prime number')"
   ]
  },
  {
   "cell_type": "markdown",
   "metadata": {},
   "source": [
    "Now that we know how to check if a number is prime, we can create that as a function and check a list of numbers."
   ]
  },
  {
   "cell_type": "code",
   "execution_count": null,
   "metadata": {},
   "outputs": [],
   "source": [
    "def check_prime(n):\n",
    "    for i in range(2,int(n/2)):\n",
    "        if n%i == 0:\n",
    "            return False\n",
    "    return True\n",
    "\n",
    "for i in range(2,10):\n",
    "    if check_prime(i):\n",
    "        print(i, 'is a prime number')\n",
    "    else:\n",
    "        print(i, 'is not prime')"
   ]
  },
  {
   "cell_type": "markdown",
   "metadata": {},
   "source": [
    "Let's try that with a larger set of numbers, and add the prime numbers to a list."
   ]
  },
  {
   "cell_type": "code",
   "execution_count": null,
   "metadata": {},
   "outputs": [],
   "source": [
    "primes = [i for i in range(10,100) if check_prime(i)]\n",
    "print('There are {} two-digit primes'.format(len(primes)))\n",
    "print(primes)"
   ]
  },
  {
   "cell_type": "markdown",
   "metadata": {},
   "source": [
    "Now we've found how many two-digit prime numbers there. Out of curiosity, let's visualize how many factors each two-digit number has."
   ]
  },
  {
   "cell_type": "code",
   "execution_count": null,
   "metadata": {},
   "outputs": [],
   "source": [
    "def how_many_factors(n):\n",
    "    factors = [i for i in range(1,n+1) if n%i == 0]\n",
    "    return len(factors)\n",
    "import plotly.express as px\n",
    "x = range(10,100)\n",
    "px.bar(x=x, y=[how_many_factors(i) for i in x], title='How Many Factors', labels={'x':'Integer', 'y':'Number of Factors'})"
   ]
  },
  {
   "cell_type": "markdown",
   "metadata": {},
   "source": [
    "We can see that the prime numbers we identified earlier each have only two factors.\n",
    "\n",
    "# Conclusion\n",
    "\n",
    "In this notebook we found two-digit prime numbers, and visualized the number of factors of each two-digit number."
   ]
  },
  {
   "cell_type": "markdown",
   "metadata": {},
   "source": [
    "[![Callysto.ca License](https://github.com/callysto/curriculum-notebooks/blob/master/callysto-notebook-banner-bottom.jpg?raw=true)](https://github.com/callysto/curriculum-notebooks/blob/master/LICENSE.md)"
   ]
  }
 ],
 "metadata": {
  "kernelspec": {
   "display_name": "Python 3.8.10 64-bit",
   "language": "python",
   "name": "python3"
  },
  "language_info": {
   "codemirror_mode": {
    "name": "ipython",
    "version": 3
   },
   "file_extension": ".py",
   "mimetype": "text/x-python",
   "name": "python",
   "nbconvert_exporter": "python",
   "pygments_lexer": "ipython3",
   "version": "3.8.10"
  },
  "orig_nbformat": 4,
  "vscode": {
   "interpreter": {
    "hash": "916dbcbb3f70747c44a77c7bcd40155683ae19c65e1c03b4aa3499c5328201f1"
   }
  }
 },
 "nbformat": 4,
 "nbformat_minor": 2
}
