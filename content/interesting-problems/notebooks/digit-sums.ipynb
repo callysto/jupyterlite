{
 "cells": [
  {
   "cell_type": "markdown",
   "metadata": {},
   "source": [
    "![Callysto.ca Banner](https://github.com/callysto/curriculum-notebooks/blob/master/callysto-notebook-banner-top.jpg?raw=true)\n",
    "\n",
    "<a href=\"https://hub.callysto.ca/jupyter/hub/user-redirect/git-pull?repo=https%3A%2F%2Fgithub.com%2Fcallysto%2Finteresting-problems&branch=main&subPath=notebooks/digit-sums.ipynb&depth=1\" target=\"_parent\"><img src=\"https://raw.githubusercontent.com/callysto/curriculum-notebooks/master/open-in-callysto-button.svg?sanitize=true\" width=\"123\" height=\"24\" alt=\"Open in Callysto\"/></a>"
   ]
  },
  {
   "cell_type": "markdown",
   "metadata": {},
   "source": [
    "# Digit Sums\n",
    "\n",
    "[Watch on YouTube](https://www.youtube.com/watch?v=rvq2nYffo9Y&list=PL-j7ku2URmjZYtWzMCS4AqFS5SXPXRHwf)\n",
    "\n",
    "The [digit sum](https://en.wikipedia.org/wiki/Digit_sum) of a (natural) number is what you get when you add all of its digits together.\n",
    "\n",
    "For example, the digit sum of 256 is 2 + 5 + 6 = 13.\n",
    "\n",
    "We can isolate the digits in a number into a list in order to add them up."
   ]
  },
  {
   "cell_type": "code",
   "execution_count": null,
   "metadata": {},
   "outputs": [],
   "source": [
    "%pip install -q pyodide_http plotly nbformat\n",
    "import pyodide_http\n",
    "pyodide_http.patch_all()\n",
    "\n",
    "number = 256\n",
    "sum_of_digits = 0\n",
    "for digit in str(number):\n",
    "    sum_of_digits += int(digit)\n",
    "print('The sum of the digits in', number, 'is', sum_of_digits)"
   ]
  },
  {
   "cell_type": "markdown",
   "metadata": {},
   "source": [
    "In order to reuse that code, let's put it in a function."
   ]
  },
  {
   "cell_type": "code",
   "execution_count": null,
   "metadata": {},
   "outputs": [],
   "source": [
    "def digit_sum(number):\n",
    "    sum_of_digits = 0\n",
    "    for digit in str(number):\n",
    "        sum_of_digits += int(digit)\n",
    "    return sum_of_digits"
   ]
  },
  {
   "cell_type": "markdown",
   "metadata": {},
   "source": [
    "And then we can call that function."
   ]
  },
  {
   "cell_type": "code",
   "execution_count": null,
   "metadata": {},
   "outputs": [],
   "source": [
    "digit_sum(12345567)"
   ]
  },
  {
   "cell_type": "markdown",
   "metadata": {},
   "source": [
    "Now we can investigate interesting ideas like graphing digit sums versus numbers, or listing [Harshad numbers](https://en.wikipedia.org/wiki/Harshad_number), which are numbers that are divisible by the sum of their digits.\n",
    "\n",
    "Here's a scatter plot of digit sums between 1 and 100."
   ]
  },
  {
   "cell_type": "code",
   "execution_count": null,
   "metadata": {},
   "outputs": [],
   "source": [
    "import matplotlib.pyplot as plt\n",
    "%matplotlib inline\n",
    "x_list = []\n",
    "y_list = []\n",
    "for x in range(1, 100):\n",
    "    x_list.append(x)\n",
    "    y_list.append(digit_sum(x))\n",
    "plt.scatter(x_list, y_list)\n",
    "plt.title('Digit Sums from 1 to 100')\n",
    "plt.xlabel('Number')\n",
    "plt.ylabel('Digit Sum')\n",
    "plt.show()"
   ]
  },
  {
   "cell_type": "markdown",
   "metadata": {},
   "source": [
    "Let's generate a list of Harshad numbers between 1 and 256."
   ]
  },
  {
   "cell_type": "code",
   "execution_count": null,
   "metadata": {},
   "outputs": [],
   "source": [
    "harshad_numbers = []\n",
    "for number in range(1, 256):\n",
    "    sum_of_digits = digit_sum(number)\n",
    "    if number % sum_of_digits == 0:\n",
    "        harshad_numbers.append(number)\n",
    "print(harshad_numbers)"
   ]
  },
  {
   "cell_type": "markdown",
   "metadata": {},
   "source": [
    "And just for fun, collecting Harshad numbers, and their digit sum, in a dataframe instead of a list."
   ]
  },
  {
   "cell_type": "code",
   "execution_count": null,
   "metadata": {},
   "outputs": [],
   "source": [
    "import pandas as pd\n",
    "\n",
    "def digit_sum(n):\n",
    "    return sum(map(int, str(n)))\n",
    "\n",
    "harshad_numbers_dataframe = pd.DataFrame(columns=['Harshad Number', 'Digit Sum'])\n",
    "\n",
    "for number in range(1, 256):\n",
    "    sum_of_digits = digit_sum(number)\n",
    "    if number % sum_of_digits == 0:\n",
    "        new_row = pd.DataFrame({'Harshad Number': [number], 'Digit Sum': [sum_of_digits]})\n",
    "        harshad_numbers_dataframe = pd.concat([harshad_numbers_dataframe, new_row], ignore_index=True)\n",
    "\n",
    "harshad_numbers_dataframe"
   ]
  },
  {
   "cell_type": "code",
   "execution_count": null,
   "metadata": {},
   "outputs": [],
   "source": [
    "harshad_numbers_dataframe.plot()"
   ]
  },
  {
   "cell_type": "markdown",
   "metadata": {},
   "source": [
    "For more information, check out [applications of digit sums](https://en.wikipedia.org/wiki/Digit_sum#Applications) or try [this challenge](https://twitter.com/mathsjem/status/1186597918213660673)."
   ]
  },
  {
   "cell_type": "markdown",
   "metadata": {},
   "source": [
    "[![Callysto.ca License](https://github.com/callysto/curriculum-notebooks/blob/master/callysto-notebook-banner-bottom.jpg?raw=true)](https://github.com/callysto/curriculum-notebooks/blob/master/LICENSE.md)"
   ]
  }
 ],
 "metadata": {
  "kernelspec": {
   "display_name": "Python 3",
   "language": "python",
   "name": "python3"
  },
  "language_info": {
   "codemirror_mode": {
    "name": "ipython",
    "version": 3
   },
   "file_extension": ".py",
   "mimetype": "text/x-python",
   "name": "python",
   "nbconvert_exporter": "python",
   "pygments_lexer": "ipython3",
   "version": "3.7.6"
  }
 },
 "nbformat": 4,
 "nbformat_minor": 2
}
