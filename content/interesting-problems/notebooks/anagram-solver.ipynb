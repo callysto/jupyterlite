{
 "cells": [
  {
   "cell_type": "markdown",
   "metadata": {},
   "source": [
    "![Callysto.ca Banner](https://github.com/callysto/curriculum-notebooks/blob/master/callysto-notebook-banner-top.jpg?raw=true)\n",
    "\n",
    "<a href=\"https://hub.callysto.ca/jupyter/hub/user-redirect/git-pull?repo=https%3A%2F%2Fgithub.com%2Fcallysto%2Finteresting-problems&branch=main&subPath=notebooks/anagram-solver.ipynb&depth=1\" target=\"_parent\"><img src=\"https://raw.githubusercontent.com/callysto/curriculum-notebooks/master/open-in-callysto-button.svg?sanitize=true\" width=\"123\" height=\"24\" alt=\"Open in Callysto\"/></a>"
   ]
  },
  {
   "cell_type": "markdown",
   "metadata": {},
   "source": [
    "# Anagram Solver\n",
    "\n",
    "You may be familiar with word games that give you letters to rearrange into words. [Anagrams](https://en.wikipedia.org/wiki/Anagram) are words (or perhaps phrases) that you can get from rearranging the letters in another word (or phrase).\n",
    "\n",
    "We can use Python to generate letter combinations, and check if they are words using the [pyspellchecker](https://github.com/barrust/pyspellchecker) library."
   ]
  },
  {
   "cell_type": "code",
   "execution_count": null,
   "metadata": {},
   "outputs": [],
   "source": [
    "letters = 'skate'\n",
    "\n",
    "#!pip install pyspellchecker --user\n",
    "from spellchecker import SpellChecker\n",
    "spell = SpellChecker()\n",
    "from itertools import permutations\n",
    "from IPython.display import clear_output\n",
    "import pandas as pd\n",
    "\n",
    "def is_word(word):\n",
    "    try:\n",
    "        if list(spell.known([word]))[0] == word:\n",
    "            return True\n",
    "    except:\n",
    "        return False\n",
    "\n",
    "word_list = []\n",
    "perms = [''.join(p) for p in permutations(letters.lower())]\n",
    "for p in perms:\n",
    "    if is_word(p):\n",
    "        word_list.append(p)\n",
    "        print(p)\n",
    "    # check words shorter than the input word but longer than 1 letter\n",
    "    for i in range(1, len(p)-1):\n",
    "        word = p[:-i]\n",
    "        if is_word(word):\n",
    "            if word not in word_list:\n",
    "                word_list.append(word)\n",
    "clear_output()\n",
    "df = pd.DataFrame(word_list, columns=['word'])\n",
    "df['length'] = df['word'].apply(len)\n",
    "df\n"
   ]
  },
  {
   "cell_type": "markdown",
   "metadata": {},
   "source": [
    "Now that we have a data set of all the anagram words recognized by `pyspellchecker`, we can look at the words that are a certain length.\n",
    "\n",
    "The `== 4` in the code cell below can also be changed to see a different length of words, like `== 2`. The `.sort_values('word')` sorts the data alphabetically by the `word` column."
   ]
  },
  {
   "cell_type": "code",
   "execution_count": null,
   "metadata": {},
   "outputs": [],
   "source": [
    "df[df['length'] == 4].sort_values('word')"
   ]
  },
  {
   "cell_type": "markdown",
   "metadata": {},
   "source": [
    "If we know more about the word we a looking for, perhaps that it has four letters and the second letter is an `a`, we can display only those words.\n",
    "\n",
    "We'll use `df['word'].str[1] == 'a'` if the second letter is `a`. Since Python numbering starts at `0`, the second value is `1`."
   ]
  },
  {
   "cell_type": "code",
   "execution_count": null,
   "metadata": {},
   "outputs": [],
   "source": [
    "df[(df['length'] == 4) & (df['word'].str[1] == 'a')]"
   ]
  },
  {
   "cell_type": "markdown",
   "metadata": {},
   "source": [
    "While we are on the topic of anagrams, we can use similar code to compare the number of anagrams formed from different words."
   ]
  },
  {
   "cell_type": "code",
   "execution_count": null,
   "metadata": {},
   "outputs": [],
   "source": [
    "word1 = 'skate'\n",
    "word2 = 'board'\n",
    "\n",
    "def anagrams(letters):\n",
    "    word_list = []\n",
    "    perms = [''.join(p) for p in permutations(letters.lower())]\n",
    "    for p in perms:\n",
    "        if is_word(p):\n",
    "            word_list.append(p)\n",
    "            print(p)\n",
    "        for i in range(1, len(p)-1):\n",
    "            word = p[:-i]\n",
    "            if is_word(word):\n",
    "                if word not in word_list:\n",
    "                    word_list.append(word)\n",
    "    clear_output()\n",
    "    df = pd.DataFrame(word_list, columns=['word'])\n",
    "    df['length'] = df['word'].apply(len)\n",
    "    return df\n",
    "df1 = anagrams(word1)\n",
    "df2 = anagrams(word2)\n",
    "\n",
    "import plotly.graph_objects as go\n",
    "fig = go.Figure()\n",
    "fig.add_trace(go.Bar(x=df1['length'].unique(), y=df1['length'].value_counts(), name=word1))\n",
    "fig.add_trace(go.Bar(x=df2['length'].unique(), y=df2['length'].value_counts(), name=word2))\n",
    "fig.update_layout(title='Number of Anagrams for {} and {}'.format(word1, word2), xaxis_title='Number of Letters', yaxis_title='Number of Anagrams')\n",
    "fig.show()"
   ]
  },
  {
   "cell_type": "markdown",
   "metadata": {},
   "source": [
    "[![Callysto.ca License](https://github.com/callysto/curriculum-notebooks/blob/master/callysto-notebook-banner-bottom.jpg?raw=true)](https://github.com/callysto/curriculum-notebooks/blob/master/LICENSE.md)"
   ]
  }
 ],
 "metadata": {
  "kernelspec": {
   "display_name": "Python 3.8.10 64-bit",
   "language": "python",
   "name": "python3"
  },
  "language_info": {
   "codemirror_mode": {
    "name": "ipython",
    "version": 3
   },
   "file_extension": ".py",
   "mimetype": "text/x-python",
   "name": "python",
   "nbconvert_exporter": "python",
   "pygments_lexer": "ipython3",
   "version": "3.8.10"
  },
  "orig_nbformat": 4,
  "vscode": {
   "interpreter": {
    "hash": "916dbcbb3f70747c44a77c7bcd40155683ae19c65e1c03b4aa3499c5328201f1"
   }
  }
 },
 "nbformat": 4,
 "nbformat_minor": 2
}
