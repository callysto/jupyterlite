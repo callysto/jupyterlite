{
 "cells": [
  {
   "cell_type": "markdown",
   "metadata": {},
   "source": [
    "![Callysto.ca Banner](https://github.com/callysto/curriculum-notebooks/blob/master/callysto-notebook-banner-top.jpg?raw=true)\n",
    "\n",
    "<a href=\"https://hub.callysto.ca/jupyter/hub/user-redirect/git-pull?repo=https%3A%2F%2Fgithub.com%2Fcallysto%2Finteresting-problems&branch=main&subPath=notebooks/toppled-square-problem.ipynb&depth=1\" target=\"_parent\"><img src=\"https://raw.githubusercontent.com/callysto/curriculum-notebooks/master/open-in-callysto-button.svg?sanitize=true\" width=\"123\" height=\"24\" alt=\"Open in Callysto\"/></a>"
   ]
  },
  {
   "cell_type": "markdown",
   "metadata": {
    "colab_type": "text",
    "id": "vzM-NEPgRWpv"
   },
   "source": [
    "# Area of the Toppled Square\n",
    "\n",
    "[Watch on YouTube](https://www.youtube.com/watch?v=qFAI4ftI8M4&list=PL-j7ku2URmjZYtWzMCS4AqFS5SXPXRHwf)\n",
    "\n",
    "What is the area of the toppled square?\n",
    "\n",
    "from [Catriona Shearer](https://twitter.com/Cshearer41/status/1026837809716518912)\n",
    "\n",
    "![toppled square leaning against squares with areas of 27, 12, and 3](https://pbs.twimg.com/media/DkAPiFlXoAEZ-rT?format=jpg&name=small)"
   ]
  },
  {
   "cell_type": "code",
   "execution_count": 1,
   "metadata": {
    "colab": {
     "base_uri": "https://localhost:8080/",
     "height": 34
    },
    "colab_type": "code",
    "id": "NeUibaUYJJb2",
    "outputId": "514d45a7-6bc0-4ad3-acec-8c6b156aa409"
   },
   "outputs": [
    {
     "name": "stdout",
     "output_type": "stream",
     "text": [
      "The area of the big box is 135\n"
     ]
    }
   ],
   "source": [
    "from math import sqrt, atan, pi, sin, trunc\n",
    "\n",
    "# find the side lengths of the three squares on the right\n",
    "a = sqrt(3)\n",
    "b = sqrt(12)\n",
    "c = sqrt(27)\n",
    "\n",
    "# find angle between the bottom right corner of the big box and the ground\n",
    "# using the middle box\n",
    "y = c - b\n",
    "theta = atan(b/y) # in radians\n",
    "\n",
    "# use that angle to find the hypotenuses of three right triangles\n",
    "j = a/(sin(theta))\n",
    "k = b/(sin(theta))\n",
    "l = c/(sin(theta))\n",
    "\n",
    "# add up the three hypotenuses, then square to get area of big box\n",
    "big_side = j + k + l\n",
    "box_area = big_side * big_side\n",
    "print('The area of the big box is', trunc(box_area))"
   ]
  },
  {
   "cell_type": "markdown",
   "metadata": {},
   "source": [
    "[![Callysto.ca License](https://github.com/callysto/curriculum-notebooks/blob/master/callysto-notebook-banner-bottom.jpg?raw=true)](https://github.com/callysto/curriculum-notebooks/blob/master/LICENSE.md)"
   ]
  }
 ],
 "metadata": {
  "colab": {
   "authorship_tag": "ABX9TyM1tXovoAbEp9+gdmQJV8eV",
   "include_colab_link": true,
   "name": "toppled-square-problem.ipynb",
   "provenance": []
  },
  "kernelspec": {
   "display_name": "Python 3",
   "language": "python",
   "name": "python3"
  },
  "language_info": {
   "codemirror_mode": {
    "name": "ipython",
    "version": 3
   },
   "file_extension": ".py",
   "mimetype": "text/x-python",
   "name": "python",
   "nbconvert_exporter": "python",
   "pygments_lexer": "ipython3",
   "version": "3.7.6"
  }
 },
 "nbformat": 4,
 "nbformat_minor": 1
}
