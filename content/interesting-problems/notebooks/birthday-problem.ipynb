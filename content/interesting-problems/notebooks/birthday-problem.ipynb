{
 "cells": [
  {
   "cell_type": "markdown",
   "metadata": {},
   "source": [
    "![Callysto.ca Banner](https://github.com/callysto/curriculum-notebooks/blob/master/callysto-notebook-banner-top.jpg?raw=true)\n",
    "\n",
    "<a href=\"https://hub.callysto.ca/jupyter/hub/user-redirect/git-pull?repo=https%3A%2F%2Fgithub.com%2Fcallysto%2Finteresting-problems&branch=main&subPath=notebooks/birthday-problem.ipynb&depth=1\" target=\"_parent\"><img src=\"https://raw.githubusercontent.com/callysto/curriculum-notebooks/master/open-in-callysto-button.svg?sanitize=true\" width=\"123\" height=\"24\" alt=\"Open in Callysto\"/></a>"
   ]
  },
  {
   "cell_type": "markdown",
   "metadata": {},
   "source": [
    "# The Birthday Problem\n",
    "\n",
    "The [birthday problem](https://en.wikipedia.org/wiki/Birthday_problem) is a a classic question about the probability of shared birthdays in a group. It is often stated something like \"How large of a group of people would be required in order for the probability of a shared birthday to be greater than 50%?\"\n",
    "\n",
    "We'll explore the theoretical and experimental probability.\n",
    "\n",
    "## Theoretical Probability\n",
    "\n",
    "To find the theoretical probability of a shared birthday, it's easier to find the probability of every group member having a unique birthday. We'll assume that each of the 366 possible dates is equally likely, which isn't true but is close enough.\n",
    "\n",
    "If there is one person, the probablity of a unique birthday is 100%. A second unique birthday could be any of the remaining 365 days, so the probability of a unique birthday is $\\frac{365}{366}$. For every new person, the probability of a unique birthday decreases and the total probability is the product of all of those. The probability of only unique birthdays in a group of five people would be $\\frac{366}{366} \\times \\frac{365}{366} \\times \\frac{364}{366} \\times \\frac{363}{366} \\times \\frac{362}{366}$. Let run that calculation."
   ]
  },
  {
   "cell_type": "code",
   "execution_count": null,
   "metadata": {},
   "outputs": [],
   "source": [
    "n = 5\n",
    "p = 100\n",
    "for x in range(n):\n",
    "    p = p * (366-x)/366\n",
    "print(p)"
   ]
  },
  {
   "cell_type": "markdown",
   "metadata": {},
   "source": [
    "So a group of five people has about a 97% chance of having unique birthdays. We could also say that there is about a 3% chance of two people in the group sharing a birthday.\n",
    "\n",
    "Let's calculate and plot the probabilities of unique birthdays, up to a group size of 366."
   ]
  },
  {
   "cell_type": "code",
   "execution_count": null,
   "metadata": {},
   "outputs": [],
   "source": [
    "import pandas as pd\n",
    "import plotly.express as px\n",
    "\n",
    "unique_probabilities = {}\n",
    "p = 100\n",
    "for x in range(366):\n",
    "    p = p * (366-x)/366\n",
    "    unique_probabilities[x+1] = p\n",
    "df = pd.DataFrame.from_dict(unique_probabilities, orient='index').reset_index()\n",
    "df.columns = ['Group Size', 'Probability of Unique Birthdays']\n",
    "px.line(df, x='Group Size', y='Probability of Unique Birthdays', title='Probability of Unique Birthdays in a Group')"
   ]
  },
  {
   "cell_type": "markdown",
   "metadata": {},
   "source": [
    "We can see from the plot that a group size of about 23 is where the theoretical probability of unique birthdays drops below 50%.\n",
    "\n",
    "We can also plot the theoretical probability of at least one shared birthday."
   ]
  },
  {
   "cell_type": "code",
   "execution_count": null,
   "metadata": {},
   "outputs": [],
   "source": [
    "df['Probability of Shared Birthdays'] = 100-df['Probability of Unique Birthdays']\n",
    "px.line(df, x='Group Size', y='Probability of Shared Birthdays', title='Probability of Shared Birthdays in a Group')"
   ]
  },
  {
   "cell_type": "markdown",
   "metadata": {},
   "source": [
    "When a group is larger than 40 there is a greater than 90% chance of shared birthdays.\n",
    "\n",
    "## Experimental Probability\n",
    "\n",
    "To run a simulated experiment about shared birthdays, we can use the Python `random` library. Every time you run the next cell, it will generate random birthdays until a birthday is repeated."
   ]
  },
  {
   "cell_type": "code",
   "execution_count": null,
   "metadata": {
    "scrolled": true
   },
   "outputs": [],
   "source": [
    "import random\n",
    "import numpy as np\n",
    "\n",
    "birthdays = []\n",
    "for x in range(366):\n",
    "    birthday = random.randint(1, 366)\n",
    "    birthdays.append(birthday)\n",
    "    number_of_birthdays = len(birthdays)\n",
    "    unique_birthdays = len(np.unique(birthdays))\n",
    "    if unique_birthdays != number_of_birthdays:\n",
    "        print('In this trial the first repeat birthday was after', x, 'people.')\n",
    "        break"
   ]
  },
  {
   "cell_type": "markdown",
   "metadata": {},
   "source": [
    "We can also run a simulation to correlate group size to the number of unique birthdays."
   ]
  },
  {
   "cell_type": "code",
   "execution_count": null,
   "metadata": {},
   "outputs": [],
   "source": [
    "birthdays = []\n",
    "experimental_probabilities = {}\n",
    "\n",
    "for x in range(366):\n",
    "    birthday = random.randint(1, 366)\n",
    "    birthdays.append(birthday)\n",
    "    number_of_birthdays = len(birthdays)\n",
    "    unique_birthdays = len(np.unique(birthdays))\n",
    "    experimental_probabilities[number_of_birthdays] = unique_birthdays\n",
    "edf = pd.DataFrame.from_dict(experimental_probabilities, orient='index').reset_index()\n",
    "edf.columns = ['Group Size', 'Unique Birthdays']\n",
    "px.line(edf, x='Group Size', y='Unique Birthdays', title='Unique Birthdays versus Total Number of Birthdays')"
   ]
  },
  {
   "cell_type": "markdown",
   "metadata": {},
   "source": [
    "### More Trials\n",
    "\n",
    "Let's try running a bunch of trials to see if the average will stabilize somewhere around a group size of 23 people. Feel free to change the `number_of_trials = 1000` to a larger or smaller number."
   ]
  },
  {
   "cell_type": "code",
   "execution_count": null,
   "metadata": {},
   "outputs": [],
   "source": [
    "number_of_trials = 1000\n",
    "\n",
    "def find_duplicate_birthdays():\n",
    "    birthdays = []\n",
    "    for group_size in range(366):\n",
    "        birthday = random.randint(1, 366)\n",
    "        birthdays.append(birthday)\n",
    "        number_of_birthdays = len(birthdays)\n",
    "        unique_birthdays = len(np.unique(birthdays))\n",
    "        if unique_birthdays != number_of_birthdays:\n",
    "            return group_size\n",
    "group_sizes = []\n",
    "for trial in range(number_of_trials):\n",
    "    group_sizes.append(find_duplicate_birthdays())\n",
    "gdf = pd.DataFrame(group_sizes)\n",
    "agdf = gdf.expanding().mean().reset_index()\n",
    "agdf.columns = ['Trials', 'Average Group Size']\n",
    "px.line(agdf, x='Trials', y='Average Group Size', title='Minimum Group Size with a Duplicate Birthday')"
   ]
  },
  {
   "cell_type": "markdown",
   "metadata": {},
   "source": [
    "## Conclusion\n",
    "\n",
    "Using both theoretical calculations and experimental simulations we've found that we need a group size of about **23** in order for the likelyhood of a shared birthday to be over 50%."
   ]
  },
  {
   "cell_type": "markdown",
   "metadata": {},
   "source": [
    "[![Callysto.ca License](https://github.com/callysto/curriculum-notebooks/blob/master/callysto-notebook-banner-bottom.jpg?raw=true)](https://github.com/callysto/curriculum-notebooks/blob/master/LICENSE.md)"
   ]
  }
 ],
 "metadata": {
  "kernelspec": {
   "display_name": "Python 3",
   "language": "python",
   "name": "python3"
  },
  "language_info": {
   "codemirror_mode": {
    "name": "ipython",
    "version": 3
   },
   "file_extension": ".py",
   "mimetype": "text/x-python",
   "name": "python",
   "nbconvert_exporter": "python",
   "pygments_lexer": "ipython3",
   "version": "3.10.1"
  },
  "vscode": {
   "interpreter": {
    "hash": "d1ca6d17674200220921376aaeb3d36cffe15ecab2470a9a5e7a456cdbf61425"
   }
  }
 },
 "nbformat": 4,
 "nbformat_minor": 4
}
