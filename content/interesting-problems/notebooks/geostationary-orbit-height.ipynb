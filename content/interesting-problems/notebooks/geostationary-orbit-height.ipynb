{
 "cells": [
  {
   "cell_type": "markdown",
   "metadata": {},
   "source": [
    "![Callysto.ca Banner](https://github.com/callysto/curriculum-notebooks/blob/master/callysto-notebook-banner-top.jpg?raw=true)\n",
    "\n",
    "<a href=\"https://hub.callysto.ca/jupyter/hub/user-redirect/git-pull?repo=https%3A%2F%2Fgithub.com%2Fcallysto%2Finteresting-problems&branch=main&subPath=notebooks/geostationary-orbit-height.ipynb&depth=1\" target=\"_parent\"><img src=\"https://raw.githubusercontent.com/callysto/curriculum-notebooks/master/open-in-callysto-button.svg?sanitize=true\" width=\"123\" height=\"24\" alt=\"Open in Callysto\"/></a>"
   ]
  },
  {
   "cell_type": "markdown",
   "metadata": {},
   "source": [
    "# Orbital Height of Geostationary Satellites\n",
    "\n",
    "[Watch on YouTube](https://www.youtube.com/watch?v=0JB5XZtAeK8&list=PL-j7ku2URmjZYtWzMCS4AqFS5SXPXRHwf)\n",
    "\n",
    "What is the average height of a satellite in [geosynchrous orbit](https://en.wikipedia.org/wiki/Geosynchronous_orbit)?"
   ]
  },
  {
   "cell_type": "markdown",
   "metadata": {},
   "source": [
    "Geosynchronous means that the orbital period is the same as the Earth's rotational period, so $T = 1$ day.\n",
    "\n",
    "We know that the gravitational force is providing the centripetal force, $F_g = F_c$, so the gravitational acceleration will equal the centripetal acceleration.\n",
    "\n",
    "$g = \\frac{Gm}{r^2} = a_c = \\frac{4\\pi^2 r}{T^2}$\n",
    "\n",
    "Rearranging that to find the orbital radius:\n",
    "\n",
    "$r = \\sqrt[3]{\\frac{GmT^2}{4\\pi^2}}$"
   ]
  },
  {
   "cell_type": "code",
   "execution_count": 1,
   "metadata": {},
   "outputs": [
    {
     "name": "stdout",
     "output_type": "stream",
     "text": [
      "The orbital radius of a geostationary satellite is 42226910.176174976 m.\n"
     ]
    }
   ],
   "source": [
    "T = 24 * 60 * 60  # 24 hours * 60 minutes/hour * 60 seconds/minute but...\n",
    "G = 6.67e-11\n",
    "m = 5.97e24\n",
    "\n",
    "from math import pi\n",
    "\n",
    "# we can calculate cube root using an exponent of 1/3\n",
    "r = ((G * m * T**2) / (4 * pi**2)) ** (1/3)\n",
    "\n",
    "print('The orbital radius of a geostationary satellite is', r, 'm.')"
   ]
  },
  {
   "cell_type": "markdown",
   "metadata": {},
   "source": [
    "So that orbital radius is the distance from the centre of the Earth, to get the height above the surface we subtract the radius of the Earth."
   ]
  },
  {
   "cell_type": "code",
   "execution_count": 2,
   "metadata": {},
   "outputs": [
    {
     "name": "stdout",
     "output_type": "stream",
     "text": [
      "The average orbital height of a geostationary satellite is 35856910.176174976 m.\n"
     ]
    }
   ],
   "source": [
    "r_E = 6.37e6\n",
    "h = r - r_E\n",
    "\n",
    "print('The average orbital height of a geostationary satellite is', h, 'm.')"
   ]
  },
  {
   "cell_type": "markdown",
   "metadata": {},
   "source": [
    "[![Callysto.ca License](https://github.com/callysto/curriculum-notebooks/blob/master/callysto-notebook-banner-bottom.jpg?raw=true)](https://github.com/callysto/curriculum-notebooks/blob/master/LICENSE.md)"
   ]
  }
 ],
 "metadata": {
  "kernelspec": {
   "display_name": "Python 3",
   "language": "python",
   "name": "python3"
  },
  "language_info": {
   "codemirror_mode": {
    "name": "ipython",
    "version": 3
   },
   "file_extension": ".py",
   "mimetype": "text/x-python",
   "name": "python",
   "nbconvert_exporter": "python",
   "pygments_lexer": "ipython3",
   "version": "3.7.6"
  }
 },
 "nbformat": 4,
 "nbformat_minor": 2
}
