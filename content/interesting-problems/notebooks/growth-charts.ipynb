{
 "cells": [
  {
   "cell_type": "markdown",
   "metadata": {},
   "source": [
    "![Callysto.ca Banner](https://github.com/callysto/curriculum-notebooks/blob/master/callysto-notebook-banner-top.jpg?raw=true)\n",
    "\n",
    "<a href=\"https://hub.callysto.ca/jupyter/hub/user-redirect/git-pull?repo=https%3A%2F%2Fgithub.com%2Fcallysto%2Finteresting-problems&branch=main&subPath=notebooks/growth-charts.ipynb&depth=1\" target=\"_parent\"><img src=\"https://raw.githubusercontent.com/callysto/curriculum-notebooks/master/open-in-callysto-button.svg?sanitize=true\" width=\"123\" height=\"24\" alt=\"Open in Callysto\"/></a>"
   ]
  },
  {
   "cell_type": "markdown",
   "metadata": {},
   "source": [
    "# Growth Charts\n",
    "\n",
    "Using data from the [CDC National Center for Health Statistics](https://www.cdc.gov/growthcharts/clinical_charts.htm), we can generate interactive growth charts.\n",
    "\n",
    "As well, check out https://www.cdc.gov/growthcharts/who_charts.htm"
   ]
  },
  {
   "cell_type": "code",
   "execution_count": null,
   "metadata": {
    "scrolled": false
   },
   "outputs": [],
   "source": [
    "import pandas as pd\n",
    "import plotly.express as px\n",
    "\n",
    "url_list = [\n",
    "    'https://www.cdc.gov/growthcharts/html_charts/lenageinf.htm',\n",
    "    'https://www.cdc.gov/growthcharts/html_charts/wtageinf.htm',\n",
    "    'https://www.cdc.gov/growthcharts/html_charts/hcageinf.htm',\n",
    "    'https://www.cdc.gov/growthcharts/html_charts/wtleninf.htm',\n",
    "    'https://www.cdc.gov/growthcharts/html_charts/statage.htm',\n",
    "    'https://www.cdc.gov/growthcharts/html_charts/wtage.htm',\n",
    "    'https://www.cdc.gov/growthcharts/html_charts/bmiagerev.htm',\n",
    "    'https://www.cdc.gov/growthcharts/html_charts/wtstat.htm',\n",
    "    ]\n",
    "\n",
    "for url in url_list:\n",
    "    page = pd.read_html(url)\n",
    "    i = 0\n",
    "    for df in page:\n",
    "        x = df.columns[0]\n",
    "        y = df.columns[1][df.columns[1].find('Per')+11:]\n",
    "        column_names = []\n",
    "        for column in df.columns:\n",
    "            column_names.append(column.replace(y, ''))\n",
    "        df.columns = column_names\n",
    "        if i == 0:\n",
    "            gender = ' (Male)'\n",
    "        else:\n",
    "            gender = ' (Female)'\n",
    "        title = y.split(' ')[0]+' versus '+x.split(' ')[0]+gender\n",
    "        i += 1\n",
    "        px.line(df.set_index(x), title=title).show()"
   ]
  },
  {
   "cell_type": "markdown",
   "metadata": {},
   "source": [
    "[![Callysto.ca License](https://github.com/callysto/curriculum-notebooks/blob/master/callysto-notebook-banner-bottom.jpg?raw=true)](https://github.com/callysto/curriculum-notebooks/blob/master/LICENSE.md)"
   ]
  }
 ],
 "metadata": {
  "kernelspec": {
   "display_name": "Python 3",
   "language": "python",
   "name": "python3"
  },
  "language_info": {
   "codemirror_mode": {
    "name": "ipython",
    "version": 3
   },
   "file_extension": ".py",
   "mimetype": "text/x-python",
   "name": "python",
   "nbconvert_exporter": "python",
   "pygments_lexer": "ipython3",
   "version": "3.8.3"
  }
 },
 "nbformat": 4,
 "nbformat_minor": 4
}
